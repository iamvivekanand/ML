{
 "cells": [
  {
   "cell_type": "markdown",
   "id": "84ee91af",
   "metadata": {},
   "source": [
    "### NumPy Joining Array"
   ]
  },
  {
   "cell_type": "raw",
   "id": "977180a0",
   "metadata": {},
   "source": [
    "- joining two arrays menas putting content of two or more arrays in a single array\n",
    "- in SQL we join on common keys \n",
    "- in numpy we join on axes\n",
    "- if axes not described it is taken as 0"
   ]
  },
  {
   "cell_type": "code",
   "execution_count": 1,
   "id": "e7fa6fd1",
   "metadata": {},
   "outputs": [],
   "source": [
    "import numpy as np"
   ]
  },
  {
   "cell_type": "code",
   "execution_count": 2,
   "id": "8df05b03",
   "metadata": {},
   "outputs": [
    {
     "name": "stdout",
     "output_type": "stream",
     "text": [
      "[1 2 3 4 5 6]\n"
     ]
    }
   ],
   "source": [
    "arr1 = np.array([1, 2, 3])\n",
    "arr2 = np.array([4, 5, 6])\n",
    "arr = np.concatenate((arr1, arr2),axis=0,dtype=None)\n",
    "print(arr)"
   ]
  },
  {
   "cell_type": "code",
   "execution_count": 3,
   "id": "41a1f23f",
   "metadata": {},
   "outputs": [
    {
     "name": "stdout",
     "output_type": "stream",
     "text": [
      "[b'1' b'2' b'3' b'4' b'5' b'6']\n"
     ]
    }
   ],
   "source": [
    "# mention dtype as string\n",
    "arr = np.concatenate((arr1, arr2),axis=0,dtype='S')\n",
    "print(arr)"
   ]
  },
  {
   "cell_type": "code",
   "execution_count": 4,
   "id": "3f1ea74d",
   "metadata": {},
   "outputs": [
    {
     "name": "stdout",
     "output_type": "stream",
     "text": [
      "AxisError: axis 1 is out of bounds for array of dimension 1\n"
     ]
    }
   ],
   "source": [
    "# concat along axis=1\n",
    "\n",
    "try:\n",
    "    arr1 = np.array([1, 2, 3])\n",
    "    arr2 = np.array([4, 5, 6])\n",
    "    arr = np.concatenate((arr1, arr2),axis=1,dtype=None)\n",
    "    print(arr)\n",
    "except:\n",
    "    print('AxisError: axis 1 is out of bounds for array of dimension 1')\n",
    "# will give AxisError: axis 1 is out of bounds for array of dimension 1"
   ]
  },
  {
   "cell_type": "code",
   "execution_count": 5,
   "id": "7817494e",
   "metadata": {},
   "outputs": [
    {
     "name": "stdout",
     "output_type": "stream",
     "text": [
      "[[1 2 5 6]\n",
      " [3 4 7 8]]\n"
     ]
    }
   ],
   "source": [
    "arr1 = np.array([[1, 2], [3, 4]])\n",
    "arr2 = np.array([[5, 6], [7, 8]])\n",
    "arr = np.concatenate((arr1, arr2), axis=1)\n",
    "print(arr)"
   ]
  },
  {
   "cell_type": "code",
   "execution_count": 6,
   "id": "2130429b",
   "metadata": {},
   "outputs": [
    {
     "name": "stdout",
     "output_type": "stream",
     "text": [
      "[[1 2]\n",
      " [3 4]\n",
      " [5 6]\n",
      " [7 8]]\n"
     ]
    }
   ],
   "source": [
    "arr1 = np.array([[1, 2], [3, 4]])\n",
    "\n",
    "arr2 = np.array([[5, 6], [7, 8]])\n",
    "\n",
    "arr = np.concatenate((arr1, arr2), axis=0)\n",
    "\n",
    "print(arr)"
   ]
  },
  {
   "cell_type": "code",
   "execution_count": 7,
   "id": "03f194d0",
   "metadata": {},
   "outputs": [
    {
     "name": "stdout",
     "output_type": "stream",
     "text": [
      "[[1 4]\n",
      " [2 5]\n",
      " [3 6]]\n"
     ]
    }
   ],
   "source": [
    "# stackig \n",
    "arr1 = np.array([1, 2, 3])\n",
    "arr2 = np.array([4, 5, 6])\n",
    "arr = np.stack((arr1, arr2), axis=1)\n",
    "print(arr)"
   ]
  },
  {
   "cell_type": "code",
   "execution_count": 16,
   "id": "341a3383",
   "metadata": {},
   "outputs": [
    {
     "name": "stdout",
     "output_type": "stream",
     "text": [
      "[1 2 3 4 5 6]\n"
     ]
    }
   ],
   "source": [
    "# stacking along rows\n",
    "arr1 = np.array([1, 2, 3])\n",
    "arr2 = np.array([4, 5, 6])\n",
    "arr = np.hstack((arr1, arr2))\n",
    "print(arr)"
   ]
  },
  {
   "cell_type": "code",
   "execution_count": 20,
   "id": "15ac30ec",
   "metadata": {},
   "outputs": [
    {
     "name": "stdout",
     "output_type": "stream",
     "text": [
      "[[1 2 3]\n",
      " [4 5 6]]\n"
     ]
    }
   ],
   "source": [
    "# stacking along col \n",
    "arr1 = np.array([1, 2, 3])\n",
    "arr2 = np.array([4, 5, 6])\n",
    "arr = np.vstack((arr1, arr2))\n",
    "print(arr)"
   ]
  },
  {
   "cell_type": "markdown",
   "id": "40e773a3",
   "metadata": {},
   "source": [
    "### NumPy Splitting Array"
   ]
  },
  {
   "cell_type": "raw",
   "id": "725c48c1",
   "metadata": {},
   "source": [
    "- Joining merges multiple arrays into one and Splitting breaks one array into multiple.\n",
    "- its the reverse process of joining"
   ]
  },
  {
   "cell_type": "code",
   "execution_count": 21,
   "id": "6a74d7a8",
   "metadata": {},
   "outputs": [
    {
     "name": "stdout",
     "output_type": "stream",
     "text": [
      "[array([1, 2]), array([3, 4]), array([5, 6])]\n"
     ]
    }
   ],
   "source": [
    "# split the array in 3 parts\n",
    "\n",
    "arr = np.array([1, 2, 3, 4, 5, 6])\n",
    "arr2=np.array_split(arr,3)\n",
    "print(arr2)"
   ]
  },
  {
   "cell_type": "code",
   "execution_count": 22,
   "id": "3804c2a7",
   "metadata": {},
   "outputs": [
    {
     "name": "stdout",
     "output_type": "stream",
     "text": [
      "[array([1, 2, 3]), array([4, 5, 6])]\n"
     ]
    }
   ],
   "source": [
    "# into two parts\n",
    "arr2=np.array_split(arr,2)\n",
    "print(arr2)"
   ]
  },
  {
   "cell_type": "code",
   "execution_count": 23,
   "id": "c55cf81e",
   "metadata": {},
   "outputs": [
    {
     "data": {
      "text/plain": [
       "[array([1, 2]), array([3, 4]), array([5]), array([6])]"
      ]
     },
     "execution_count": 23,
     "metadata": {},
     "output_type": "execute_result"
    }
   ],
   "source": [
    "# If the array has less elements than required, it will adjust from the end accordingly.\n",
    "\n",
    "arr3=np.array_split(arr,4)\n",
    "arr3"
   ]
  },
  {
   "cell_type": "code",
   "execution_count": 27,
   "id": "360e0df6",
   "metadata": {},
   "outputs": [
    {
     "name": "stdout",
     "output_type": "stream",
     "text": [
      "[array([[1, 2],\n",
      "       [3, 4]]), array([[5, 6],\n",
      "       [7, 8]]), array([[ 9, 10],\n",
      "       [11, 12]])]\n"
     ]
    }
   ],
   "source": [
    "# Splitting 2-D Arrays\n",
    "arr = np.array([[1, 2], [3, 4], [5, 6], [7, 8], [9, 10], [11, 12]])\n",
    "newarr = np.array_split(arr, 3)\n",
    "print(newarr)"
   ]
  },
  {
   "cell_type": "code",
   "execution_count": 28,
   "id": "85509ed9",
   "metadata": {},
   "outputs": [
    {
     "name": "stdout",
     "output_type": "stream",
     "text": [
      "[array([[1, 2, 3],\n",
      "       [4, 5, 6]]), array([[ 7,  8,  9],\n",
      "       [10, 11, 12]]), array([[13, 14, 15],\n",
      "       [16, 17, 18]])]\n"
     ]
    }
   ],
   "source": [
    "arr = np.array([[1, 2, 3], [4, 5, 6], [7, 8, 9], [10, 11, 12], [13, 14, 15], [16, 17, 18]])\n",
    "newarr = np.array_split(arr, 3)\n",
    "print(newarr)"
   ]
  },
  {
   "cell_type": "code",
   "execution_count": 29,
   "id": "ceb700f0",
   "metadata": {},
   "outputs": [
    {
     "name": "stdout",
     "output_type": "stream",
     "text": [
      "[array([[ 1],\n",
      "       [ 4],\n",
      "       [ 7],\n",
      "       [10],\n",
      "       [13],\n",
      "       [16]]), array([[ 2],\n",
      "       [ 5],\n",
      "       [ 8],\n",
      "       [11],\n",
      "       [14],\n",
      "       [17]]), array([[ 3],\n",
      "       [ 6],\n",
      "       [ 9],\n",
      "       [12],\n",
      "       [15],\n",
      "       [18]])]\n"
     ]
    }
   ],
   "source": [
    "# In addition, you can specify which axis you want to do the split around.\n",
    "\n",
    "arr = np.array([[1, 2, 3], \n",
    "                [4, 5, 6], \n",
    "                [7, 8, 9], \n",
    "                [10, 11, 12], \n",
    "                [13, 14, 15], \n",
    "                [16, 17, 18]])\n",
    "\n",
    "newarr = np.array_split(arr, 3, axis=1)\n",
    "\n",
    "print(newarr)"
   ]
  },
  {
   "cell_type": "code",
   "execution_count": 30,
   "id": "5580e92c",
   "metadata": {},
   "outputs": [],
   "source": [
    "# likewise the is hsplit and vsplit"
   ]
  },
  {
   "cell_type": "markdown",
   "id": "38e0964e",
   "metadata": {},
   "source": [
    "### NumPy Searching Arrays"
   ]
  },
  {
   "cell_type": "code",
   "execution_count": 32,
   "id": "f625e936",
   "metadata": {},
   "outputs": [
    {
     "name": "stdout",
     "output_type": "stream",
     "text": [
      "(array([3], dtype=int64),)\n"
     ]
    }
   ],
   "source": [
    "# Find the indexes where the value is 4:\n",
    "\n",
    "arr=np.array([1,2,3,4,5])\n",
    "print(np.where(arr==4))"
   ]
  },
  {
   "cell_type": "code",
   "execution_count": 33,
   "id": "693eb389",
   "metadata": {},
   "outputs": [
    {
     "name": "stdout",
     "output_type": "stream",
     "text": [
      "(array([3, 5, 6], dtype=int64),)\n"
     ]
    }
   ],
   "source": [
    "# find multiple indexes where arr is 4\n",
    "arr = np.array([1, 2, 3, 4, 5, 4, 4])\n",
    "print(np.where(arr==4)) "
   ]
  },
  {
   "cell_type": "raw",
   "id": "335396e8",
   "metadata": {},
   "source": [
    "returns a tuple: (array([3, 5, 6],)\n",
    "Which means that the value 4 is present at index 3, 5, and 6"
   ]
  },
  {
   "cell_type": "code",
   "execution_count": 34,
   "id": "6d2ff704",
   "metadata": {},
   "outputs": [
    {
     "name": "stdout",
     "output_type": "stream",
     "text": [
      "(array([1, 3, 5, 6], dtype=int64),)\n"
     ]
    }
   ],
   "source": [
    "# Find the indexes where the values are even:\n",
    "arr = np.array([1, 2, 3, 4, 5, 4, 4])\n",
    "print(np.where(arr%2==0)) "
   ]
  },
  {
   "cell_type": "code",
   "execution_count": 35,
   "id": "ddb6d770",
   "metadata": {},
   "outputs": [
    {
     "name": "stdout",
     "output_type": "stream",
     "text": [
      "(array([0, 2, 4, 6, 8], dtype=int64),)\n"
     ]
    }
   ],
   "source": [
    "# Find the indexes where the values are odd:\n",
    "arr = np.array([1, 2, 3, 4, 5, 6, 7, 8, 9, 10])\n",
    "print(np.where(arr%2==1))"
   ]
  },
  {
   "cell_type": "code",
   "execution_count": 36,
   "id": "aa6fe127",
   "metadata": {},
   "outputs": [],
   "source": [
    "# # Search Sorted"
   ]
  },
  {
   "cell_type": "raw",
   "id": "d0acba7d",
   "metadata": {},
   "source": [
    "performs a binary search in the array, \n",
    "and returns the index where the specified value would be inserted to maintain the search order."
   ]
  },
  {
   "cell_type": "code",
   "execution_count": 37,
   "id": "af59a28f",
   "metadata": {},
   "outputs": [
    {
     "name": "stdout",
     "output_type": "stream",
     "text": [
      "6\n"
     ]
    }
   ],
   "source": [
    "a=np.array([1,2,3,5,8,9])\n",
    "print(np.searchsorted(a, 10))"
   ]
  },
  {
   "cell_type": "code",
   "execution_count": 38,
   "id": "d4679ea3",
   "metadata": {},
   "outputs": [
    {
     "name": "stdout",
     "output_type": "stream",
     "text": [
      "6\n"
     ]
    }
   ],
   "source": [
    "a=np.array([1,2,3,4,5,6,8,9])\n",
    "print(np.searchsorted(a, 7))"
   ]
  },
  {
   "cell_type": "code",
   "execution_count": 39,
   "id": "e03c2de2",
   "metadata": {},
   "outputs": [
    {
     "name": "stdout",
     "output_type": "stream",
     "text": [
      "2\n"
     ]
    }
   ],
   "source": [
    "# Search From the Right Side\n",
    "\n",
    "arr = np.array([6, 7, 8, 9])\n",
    "x = np.searchsorted(arr, 7, side='right')\n",
    "print(x)"
   ]
  },
  {
   "cell_type": "code",
   "execution_count": 40,
   "id": "ce44384b",
   "metadata": {},
   "outputs": [
    {
     "name": "stdout",
     "output_type": "stream",
     "text": [
      "[1 2 3]\n"
     ]
    }
   ],
   "source": [
    "# Find the indexes where the values 2, 4, and 6 should be inserted:\n",
    "a=np.array([1,3,5,7])\n",
    "print(np.searchsorted(a, [2,4,6]))"
   ]
  },
  {
   "cell_type": "markdown",
   "id": "9ba06d43",
   "metadata": {},
   "source": [
    "### NumPy Sorting Arrays"
   ]
  },
  {
   "cell_type": "raw",
   "id": "78fd30dc",
   "metadata": {},
   "source": [
    "- Sorting means putting elements in an ordered sequence."
   ]
  },
  {
   "cell_type": "code",
   "execution_count": 41,
   "id": "45c81f86",
   "metadata": {},
   "outputs": [
    {
     "data": {
      "text/plain": [
       "array([0, 1, 2, 3])"
      ]
     },
     "execution_count": 41,
     "metadata": {},
     "output_type": "execute_result"
    }
   ],
   "source": [
    "arr = np.array([3, 2, 0, 1])\n",
    "np.sort(arr)"
   ]
  },
  {
   "cell_type": "code",
   "execution_count": 42,
   "id": "e6c13641",
   "metadata": {},
   "outputs": [
    {
     "data": {
      "text/plain": [
       "array([0.+1.5j, 0.+2.j , 0.+3.j ])"
      ]
     },
     "execution_count": 42,
     "metadata": {},
     "output_type": "execute_result"
    }
   ],
   "source": [
    "arr=np.array([2j,3j,1.5j])\n",
    "np.sort_complex(arr)"
   ]
  },
  {
   "cell_type": "code",
   "execution_count": 43,
   "id": "d794289c",
   "metadata": {},
   "outputs": [
    {
     "data": {
      "text/plain": [
       "array(['baba', 'bablu', 'veer', 'veersen', 'veeru', 'vicky sen', 'vivek',\n",
       "       'vivekanand'], dtype='<U10')"
      ]
     },
     "execution_count": 43,
     "metadata": {},
     "output_type": "execute_result"
    }
   ],
   "source": [
    "# You can also sort arrays of strings, or any other data type:\n",
    "arr=np.array(['vivek','baba','bablu','vicky sen','veer','veeru','vivekanand','veersen'])\n",
    "np.sort(arr)"
   ]
  },
  {
   "cell_type": "code",
   "execution_count": 44,
   "id": "13b26e76",
   "metadata": {},
   "outputs": [
    {
     "name": "stdout",
     "output_type": "stream",
     "text": [
      "[False  True  True]\n"
     ]
    }
   ],
   "source": [
    "arr = np.array([True, False, True])\n",
    "\n",
    "print(np.sort(arr))"
   ]
  },
  {
   "cell_type": "code",
   "execution_count": 45,
   "id": "45d7554c",
   "metadata": {},
   "outputs": [
    {
     "data": {
      "text/plain": [
       "array([[  1,   2,   2,   2,   3,   4,   6,   6,   7],\n",
       "       [  2,   3,   3,   3,   5,   7,  72,  73, 237]])"
      ]
     },
     "execution_count": 45,
     "metadata": {},
     "output_type": "execute_result"
    }
   ],
   "source": [
    "# If you use the sort() method on a 2-D array, both arrays will be sorted:\n",
    "\n",
    "arr=np.array([[1,6,2,4,7,3,2,6,2],[5,3,3,237,73,2,72,7,3]])\n",
    "np.sort(arr)"
   ]
  },
  {
   "cell_type": "markdown",
   "id": "0e388dc6",
   "metadata": {},
   "source": [
    "### NumPy Filter Array"
   ]
  },
  {
   "cell_type": "raw",
   "id": "2022b2cf",
   "metadata": {},
   "source": [
    "Getting some elements out of an existing array and creating a new array out of them is called filtering.\n",
    "                                    OR\n",
    "Getting specific elements only from an array using some condition is called filteration"
   ]
  },
  {
   "cell_type": "code",
   "execution_count": 51,
   "id": "eabb5e27",
   "metadata": {},
   "outputs": [
    {
     "name": "stdout",
     "output_type": "stream",
     "text": [
      "[2 4 6]\n"
     ]
    }
   ],
   "source": [
    "# filter and return only even numbers\n",
    "\n",
    "a=np.array([1,2,3,4,5,6])\n",
    "a2=[]\n",
    "for i in a:\n",
    "    if i%2==0:\n",
    "        a2.append(True)\n",
    "    else:\n",
    "        a2.append(False)\n",
    "print(a[a2])"
   ]
  },
  {
   "cell_type": "code",
   "execution_count": 48,
   "id": "27d5eb91",
   "metadata": {},
   "outputs": [
    {
     "data": {
      "text/plain": [
       "[True, True, True]"
      ]
     },
     "execution_count": 48,
     "metadata": {},
     "output_type": "execute_result"
    }
   ],
   "source": [
    "a2"
   ]
  },
  {
   "cell_type": "code",
   "execution_count": 52,
   "id": "07ac79c7",
   "metadata": {},
   "outputs": [
    {
     "name": "stdout",
     "output_type": "stream",
     "text": [
      "[2 4 6]\n"
     ]
    }
   ],
   "source": [
    "print(a[a2])"
   ]
  },
  {
   "cell_type": "code",
   "execution_count": 53,
   "id": "b5c53b36",
   "metadata": {},
   "outputs": [
    {
     "name": "stdout",
     "output_type": "stream",
     "text": [
      "[41 43]\n"
     ]
    }
   ],
   "source": [
    "arr = np.array([41, 42, 43, 44])\n",
    "x = [True, False, True, False]\n",
    "newarr = arr[x]\n",
    "print(newarr)"
   ]
  },
  {
   "cell_type": "code",
   "execution_count": 57,
   "id": "eae551d1",
   "metadata": {},
   "outputs": [
    {
     "name": "stdout",
     "output_type": "stream",
     "text": [
      "[41, 33, 84, 73, 64, 656, 5656, 343, 3049]\n"
     ]
    }
   ],
   "source": [
    "# return element greater than 10\n",
    "a=[1,2,5,3,2,2,41,33,6,7,84,2,73,8,7,6,5,6,64,656,5656,5,4,4,3,4,343,3049,0]\n",
    "filtr=[]\n",
    "for x in a:\n",
    "    if x > 10:\n",
    "        filtr.append(x)\n",
    "print(filtr)"
   ]
  },
  {
   "cell_type": "code",
   "execution_count": 59,
   "id": "b64d7cf9",
   "metadata": {},
   "outputs": [
    {
     "data": {
      "text/plain": [
       "array([  41,   33,   84,   73,   64,  656, 5656,  343, 3049])"
      ]
     },
     "execution_count": 59,
     "metadata": {},
     "output_type": "execute_result"
    }
   ],
   "source": [
    "# Creating Filter Directly From Array\n",
    "\n",
    "a=np.array([1,2,5,3,2,2,41,33,6,7,84,2,73,8,7,6,5,6,64,656,5656,5,4,4,3,4,343,3049,0])\n",
    "fltr=a>10\n",
    "a[fltr]"
   ]
  }
 ],
 "metadata": {
  "kernelspec": {
   "display_name": "Python 3 (ipykernel)",
   "language": "python",
   "name": "python3"
  },
  "language_info": {
   "codemirror_mode": {
    "name": "ipython",
    "version": 3
   },
   "file_extension": ".py",
   "mimetype": "text/x-python",
   "name": "python",
   "nbconvert_exporter": "python",
   "pygments_lexer": "ipython3",
   "version": "3.9.7"
  }
 },
 "nbformat": 4,
 "nbformat_minor": 5
}

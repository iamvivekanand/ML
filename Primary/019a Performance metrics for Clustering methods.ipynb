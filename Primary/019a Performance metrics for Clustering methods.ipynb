{
 "cells": [
  {
   "cell_type": "markdown",
   "id": "372f7975",
   "metadata": {},
   "source": [
    "### Performance metrics for Clustering methods"
   ]
  },
  {
   "cell_type": "markdown",
   "id": "5fd3e1e5",
   "metadata": {},
   "source": [
    "#### 1. Adjusted Rand Index"
   ]
  },
  {
   "cell_type": "markdown",
   "id": "d820516d",
   "metadata": {},
   "source": [
    "- a function that computes a similarity measure between two clustering\n",
    "- for computation it considers all pairs of samples and counting pairs that are assigned in the similar or different clusters in the predicted and true clustering\n",
    "- value of ARI ranges 0 to 1, more closer to one would mean better clustering\n",
    "\n",
    "Mathematically:\n",
    "$$Adjusted\\:RI=\\left(RI-Expected_{-}RI\\right)/\\left(max\\left(RI\\right)-Expected_{-}RI\\right)$$"
   ]
  },
  {
   "cell_type": "code",
   "execution_count": 2,
   "id": "d6fff68d",
   "metadata": {},
   "outputs": [
    {
     "data": {
      "text/plain": [
       "0.4444444444444444"
      ]
     },
     "execution_count": 2,
     "metadata": {},
     "output_type": "execute_result"
    }
   ],
   "source": [
    "from sklearn.metrics.cluster import adjusted_rand_score\n",
    "   \n",
    "labels_true = [0, 0, 1, 1, 1, 1]\n",
    "labels_pred = [0, 0, 2, 2, 3, 3]\n",
    "\n",
    "adjusted_rand_score(labels_true, labels_pred)"
   ]
  },
  {
   "cell_type": "markdown",
   "id": "52ec378b",
   "metadata": {},
   "source": [
    "#### 2.Mutual Information Based Score"
   ]
  },
  {
   "cell_type": "markdown",
   "id": "ba13ab50",
   "metadata": {},
   "source": [
    "    Computes the agreement of the two assignments. It ignores the permutations. There are following versions available: \n",
    "    \n",
    "Normalized Mutual Information (NMI):\n",
    "    \n",
    "    from sklearn.metrics.cluster import normalized_mutual_info_score as NMIS\n",
    "    NMIS(labels_true, labels_pred)\n",
    "    \n",
    "Adjusted Mutual Information (AMI):\n",
    "    \n",
    "    from sklearn.metrics.cluster import adjusted_mutual_info_score as AMIS\n",
    "    AMIS(labels_true, labels_pred)"
   ]
  },
  {
   "cell_type": "markdown",
   "id": "3bc2676c",
   "metadata": {},
   "source": [
    "#### 3. Fowlkes-Mallows Score"
   ]
  },
  {
   "cell_type": "markdown",
   "id": "b57de7fc",
   "metadata": {},
   "source": [
    "- measures the similarity of two clustering of a set of points.\n",
    "- it is geometric mean of the pairwise precision and recall.\n",
    "\n",
    "$$FMS=\\frac{TP}{\\sqrt{\\left(TP+FP\\right)\\left(TP+FN\\right)}}$$\n",
    "\n",
    "- Here, TP = True Positive − number of pair of points belonging to the same clusters in true as well as predicted labels both.\n",
    "- FP = False Positive − number of pair of points belonging to the same clusters in true labels but not in the predicted labels.\n",
    "- FN = False Negative − number of pair of points belonging to the same clusters in the predicted labels but not in the true labels"
   ]
  },
  {
   "cell_type": "code",
   "execution_count": 6,
   "id": "bb49dd6b",
   "metadata": {},
   "outputs": [
    {
     "data": {
      "text/plain": [
       "0.6546536707079771"
      ]
     },
     "execution_count": 6,
     "metadata": {},
     "output_type": "execute_result"
    }
   ],
   "source": [
    "from sklearn.metrics.cluster import fowlkes_mallows_score\n",
    "labels_true = [0, 0, 1, 1, 1, 1]\n",
    "labels_pred = [0, 0, 2, 2, 3, 3]\n",
    "\n",
    "fowlkes_mallows_score (labels_true, labels_pred)"
   ]
  },
  {
   "cell_type": "markdown",
   "id": "89b4aae5",
   "metadata": {},
   "source": [
    "#### 4.Silhouette Coefficient"
   ]
  },
  {
   "cell_type": "markdown",
   "id": "8836e996",
   "metadata": {},
   "source": [
    "it compute the mean Silhouette Coefficient of all samples using the mean intra-cluster distance and the mean nearest-cluster distance for each sample.\n",
    "\n",
    "Mathematically,\n",
    "$$S=\\left(b-a\\right)/max\\left(a,b\\right)$$\n",
    "\n",
    "    Here, a is intra-cluster distance.\n",
    "    and, b is mean nearest-cluster distance."
   ]
  },
  {
   "cell_type": "code",
   "execution_count": 8,
   "id": "6c37b01d",
   "metadata": {},
   "outputs": [],
   "source": [
    "# Compute silhoute coffient for KMeans model"
   ]
  },
  {
   "cell_type": "code",
   "execution_count": 11,
   "id": "22fdf32c",
   "metadata": {},
   "outputs": [
    {
     "data": {
      "text/plain": [
       "0.5528190123564091"
      ]
     },
     "execution_count": 11,
     "metadata": {},
     "output_type": "execute_result"
    }
   ],
   "source": [
    "import numpy as np\n",
    "import pandas as pd\n",
    "\n",
    "from sklearn.datasets import load_iris\n",
    "from sklearn.cluster import KMeans\n",
    "from sklearn.metrics.cluster import silhouette_score\n",
    "\n",
    "# U can also import directly from metrics\n",
    "from sklearn.metrics import silhouette_score,pairwise_distances\n",
    "\n",
    "# load data\n",
    "iris=load_iris()\n",
    "X=iris.data\n",
    "y=iris.target\n",
    "\n",
    "model = KMeans(n_clusters = 3, random_state = 1).fit(X)\n",
    "labels = model.labels_\n",
    "silhouette_score(X, labels, metric = 'euclidean')"
   ]
  },
  {
   "cell_type": "markdown",
   "id": "a50cbd7c",
   "metadata": {},
   "source": [
    "#### 5. Contingency Matrix"
   ]
  },
  {
   "cell_type": "markdown",
   "id": "bbc69363",
   "metadata": {},
   "source": [
    "This matrix will report the intersection cardinality for every trusted pair of (true, predicted). Confusion matrix for classification problems is a square contingency matrix."
   ]
  },
  {
   "cell_type": "code",
   "execution_count": 12,
   "id": "79696def",
   "metadata": {},
   "outputs": [
    {
     "data": {
      "text/plain": [
       "array([[0, 2, 1],\n",
       "       [1, 1, 1]], dtype=int64)"
      ]
     },
     "execution_count": 12,
     "metadata": {},
     "output_type": "execute_result"
    }
   ],
   "source": [
    "from sklearn.metrics.cluster import contingency_matrix\n",
    "x = [\"a\", \"a\", \"a\", \"b\", \"b\", \"b\"]\n",
    "y = [1, 1, 2, 0, 1, 2]\n",
    "contingency_matrix(x, y)"
   ]
  },
  {
   "cell_type": "code",
   "execution_count": null,
   "id": "cc75dab6",
   "metadata": {},
   "outputs": [],
   "source": [
    "# "
   ]
  },
  {
   "cell_type": "code",
   "execution_count": 14,
   "id": "c8e310ad",
   "metadata": {},
   "outputs": [],
   "source": [
    "xfit = np.linspace(-1, 11)"
   ]
  },
  {
   "cell_type": "code",
   "execution_count": 16,
   "id": "e828965f",
   "metadata": {},
   "outputs": [
    {
     "data": {
      "text/plain": [
       "array([[-1.        ],\n",
       "       [-0.75510204],\n",
       "       [-0.51020408],\n",
       "       [-0.26530612],\n",
       "       [-0.02040816],\n",
       "       [ 0.2244898 ],\n",
       "       [ 0.46938776],\n",
       "       [ 0.71428571],\n",
       "       [ 0.95918367],\n",
       "       [ 1.20408163],\n",
       "       [ 1.44897959],\n",
       "       [ 1.69387755],\n",
       "       [ 1.93877551],\n",
       "       [ 2.18367347],\n",
       "       [ 2.42857143],\n",
       "       [ 2.67346939],\n",
       "       [ 2.91836735],\n",
       "       [ 3.16326531],\n",
       "       [ 3.40816327],\n",
       "       [ 3.65306122],\n",
       "       [ 3.89795918],\n",
       "       [ 4.14285714],\n",
       "       [ 4.3877551 ],\n",
       "       [ 4.63265306],\n",
       "       [ 4.87755102],\n",
       "       [ 5.12244898],\n",
       "       [ 5.36734694],\n",
       "       [ 5.6122449 ],\n",
       "       [ 5.85714286],\n",
       "       [ 6.10204082],\n",
       "       [ 6.34693878],\n",
       "       [ 6.59183673],\n",
       "       [ 6.83673469],\n",
       "       [ 7.08163265],\n",
       "       [ 7.32653061],\n",
       "       [ 7.57142857],\n",
       "       [ 7.81632653],\n",
       "       [ 8.06122449],\n",
       "       [ 8.30612245],\n",
       "       [ 8.55102041],\n",
       "       [ 8.79591837],\n",
       "       [ 9.04081633],\n",
       "       [ 9.28571429],\n",
       "       [ 9.53061224],\n",
       "       [ 9.7755102 ],\n",
       "       [10.02040816],\n",
       "       [10.26530612],\n",
       "       [10.51020408],\n",
       "       [10.75510204],\n",
       "       [11.        ]])"
      ]
     },
     "execution_count": 16,
     "metadata": {},
     "output_type": "execute_result"
    }
   ],
   "source": [
    "Xfit = xfit[:, np.newaxis]"
   ]
  },
  {
   "cell_type": "code",
   "execution_count": null,
   "id": "4505c97b",
   "metadata": {},
   "outputs": [],
   "source": []
  }
 ],
 "metadata": {
  "kernelspec": {
   "display_name": "Python 3 (ipykernel)",
   "language": "python",
   "name": "python3"
  },
  "language_info": {
   "codemirror_mode": {
    "name": "ipython",
    "version": 3
   },
   "file_extension": ".py",
   "mimetype": "text/x-python",
   "name": "python",
   "nbconvert_exporter": "python",
   "pygments_lexer": "ipython3",
   "version": "3.9.7"
  }
 },
 "nbformat": 4,
 "nbformat_minor": 5
}

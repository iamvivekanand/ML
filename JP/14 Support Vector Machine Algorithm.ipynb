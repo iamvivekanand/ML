{
 "cells": [
  {
   "cell_type": "markdown",
   "metadata": {},
   "source": [
    "### Support Vector Machine Algorithm"
   ]
  },
  {
   "cell_type": "markdown",
   "metadata": {},
   "source": [
    "- A supervised ml algorithm\n",
    "- Used for Classification as well as Regression\n",
    "- SVM creates the best line or decision boundary that can segregate n-dimensional space into classes \n",
    "- SVM chooses the extreme points/vectors that help in creating the hyperplane. \n",
    "- These extreme points are called as support vectors"
   ]
  },
  {
   "cell_type": "markdown",
   "metadata": {},
   "source": [
    "<img src='svm1.jpg'>\n",
    "\n",
    "                                                img source: javatpoint.com"
   ]
  },
  {
   "cell_type": "markdown",
   "metadata": {},
   "source": [
    "SVM algorithm can be used for Face detection, image classification, text categorization, etc"
   ]
  },
  {
   "cell_type": "markdown",
   "metadata": {},
   "source": [
    "#### Types of SVM"
   ]
  },
  {
   "cell_type": "markdown",
   "metadata": {},
   "source": [
    "SVM can be of two types:\n",
    "    \n",
    "Linear SVM:\n",
    "    if a dataset can be classified into two classes by using a single straight line, then such data is termed as linearly separable data, and SVM algorithm in that case is called Linear SVM.\n",
    "\n",
    "Non-linear SVM:\n",
    "    if a dataset cannot be classified by using a straight line, but we need to use a hyperplane in case of a non linear separable data."
   ]
  },
  {
   "cell_type": "markdown",
   "metadata": {},
   "source": [
    "#### What is a Hyperplane in SVM?"
   ]
  },
  {
   "cell_type": "markdown",
   "metadata": {},
   "source": [
    "The best decision boundary(out of multiple) which helps to classify the data in SVM\n",
    "- this hyperplace in 2 dimensional\n",
    "- depends on the number of features present in the dataset, \n",
    "\n",
    "which means if there are 2 features (as shown in image), then hyperplane will be a straight line. And if there are 3 features,  then hyperplane will be a 2-dimensional plane.\n",
    "- We always create a hyperplane that has a maximum margin."
   ]
  },
  {
   "cell_type": "markdown",
   "metadata": {},
   "source": [
    "#### What are support vectors?"
   ]
  },
  {
   "cell_type": "markdown",
   "metadata": {},
   "source": [
    "- data points or vectors that are closest to the hyperplane and they affect the position of the hyperplane"
   ]
  },
  {
   "cell_type": "markdown",
   "metadata": {},
   "source": [
    "#### How does SVM works for Linear Data?"
   ]
  },
  {
   "cell_type": "markdown",
   "metadata": {},
   "source": [
    "Suppose we have a dataset that has two class (green and blue), and the dataset has two features x1 and x2. We want a classifier that can classify the pair(x1, x2) of coordinates in either green or blue."
   ]
  },
  {
   "cell_type": "markdown",
   "metadata": {},
   "source": [
    "<img src='svm2.jpg'>"
   ]
  },
  {
   "cell_type": "markdown",
   "metadata": {},
   "source": [
    "    So as it is 2D space so by just using a straight line, \n",
    "    we can easily separate these two classes. But there can be multiple lines that can separate these classes. "
   ]
  },
  {
   "cell_type": "markdown",
   "metadata": {},
   "source": [
    "<img src='svm3.jpg'>"
   ]
  },
  {
   "cell_type": "markdown",
   "metadata": {},
   "source": [
    "    SVM algorithm finds the closest point of the Decision Line from both the classes. These points are called support vectors. \n",
    "    The distance between the vectors and the hyperplane is called as margin. \n",
    "    And the goal of SVM is to maximize this margin. The hyperplane with maximum margin is called the Optimal Hyperplane."
   ]
  },
  {
   "cell_type": "markdown",
   "metadata": {},
   "source": [
    "<img src='svm4.jpg'>"
   ]
  },
  {
   "cell_type": "markdown",
   "metadata": {},
   "source": [
    "### Non-Linear SVM working:"
   ]
  },
  {
   "cell_type": "markdown",
   "metadata": {},
   "source": [
    "In non linear svm our data is arranged in non linear style, So we need to find a hyperplace which is a plane parallel to any of three axes (x,y,z)"
   ]
  },
  {
   "cell_type": "markdown",
   "metadata": {},
   "source": [
    "<img src='svm5.jpg'>"
   ]
  },
  {
   "cell_type": "markdown",
   "metadata": {},
   "source": [
    "    Third dimension is z is calculated as z=x^2+y^2\n",
    "    The final decison boundary will look something like this, it is a plane parallel to x axis in our case"
   ]
  },
  {
   "cell_type": "markdown",
   "metadata": {},
   "source": [
    "<img src='svm6.jpg'>"
   ]
  },
  {
   "cell_type": "markdown",
   "metadata": {},
   "source": [
    "#### Python Implementation of Support Vector Machine"
   ]
  },
  {
   "cell_type": "markdown",
   "metadata": {},
   "source": [
    "    from sklearn.svm import SVC \n",
    "    model = SVC(kernel='linear', random_state=0)  \n",
    "    model.fit(X_train, y_train)\n",
    "We have used kernel='linear', as here we are creating SVM for linearly separable data. However, we can change it for non-linear data."
   ]
  },
  {
   "cell_type": "markdown",
   "metadata": {},
   "source": [
    "### SVM Algorithm: Q & A"
   ]
  },
  {
   "cell_type": "code",
   "execution_count": 1,
   "metadata": {},
   "outputs": [],
   "source": [
    "# What is a svm algorithm?"
   ]
  },
  {
   "cell_type": "markdown",
   "metadata": {},
   "source": [
    "- SVM) is a supervised ML algorithm used for both classification and regression\n",
    "- its a SML algorithm that tries to find the best hyperplane to separate two classes or more classes\n",
    "- objective of SVM algorithm is to find a hyperplane in an N-dimensional space that uniquely classifies the data points"
   ]
  },
  {
   "cell_type": "code",
   "execution_count": 1,
   "metadata": {},
   "outputs": [],
   "source": [
    "# what is the diffrence between SVM and Logistic Regression??"
   ]
  },
  {
   "cell_type": "markdown",
   "metadata": {},
   "source": [
    "- logistic regression is a probabilistic approach whereas support vector machine is based on statistical approaches\n",
    "- Both the algorithms try to find the best hyperplane"
   ]
  },
  {
   "cell_type": "code",
   "execution_count": 2,
   "metadata": {},
   "outputs": [],
   "source": [
    "# When to use logistic regression vs Support vector machine?"
   ]
  },
  {
   "cell_type": "markdown",
   "metadata": {},
   "source": [
    "- SVM works best when the dataset is small and complex. It is usually advisable to first use logistic regression and see how does it performs, if it fails to give a good accuracy you can go for SVM without any kernel\n",
    "\n",
    "- Logistic regression and SVM without any kernel have similar performance but depending on your features, one may be more efficient than the other."
   ]
  },
  {
   "cell_type": "code",
   "execution_count": 2,
   "metadata": {},
   "outputs": [],
   "source": [
    "# how the dimension of hyperplane is defined??"
   ]
  },
  {
   "cell_type": "markdown",
   "metadata": {},
   "source": [
    "The dimension of the hyperplane depends upon the number of features. \n",
    "- If the number of input features is two, then the hyperplane is just a line. \n",
    "- If the number of input features is three, then the hyperplane becomes a 2-D plane. \n",
    "- It becomes difficult to imagine when the number of features exceeds three. "
   ]
  },
  {
   "cell_type": "code",
   "execution_count": 3,
   "metadata": {},
   "outputs": [],
   "source": [
    "# how do we choose the best line or in general the best hyperplane that segregates our data points in SVM?"
   ]
  },
  {
   "cell_type": "markdown",
   "metadata": {},
   "source": [
    "The best hyperplane we choose should have the largest separation or margin between the two classes. "
   ]
  },
  {
   "cell_type": "markdown",
   "metadata": {},
   "source": [
    "<img src='svm7.jpg'>\n",
    "                                                   \n",
    "                                                  img source: GeeksforGeeks.com"
   ]
  },
  {
   "cell_type": "code",
   "execution_count": 4,
   "metadata": {},
   "outputs": [],
   "source": [
    "# what is Maximum Margin Hyperplane or HARD MARGIN??"
   ]
  },
  {
   "cell_type": "markdown",
   "metadata": {},
   "source": [
    "So we choose the hyperplane whose distance from its nearest data point on each side is maximized. If such a hyperplane exists it is known as the maximum-margin hyperplane/hard margin. So from the above figure, we choose L2."
   ]
  },
  {
   "cell_type": "code",
   "execution_count": 3,
   "metadata": {},
   "outputs": [],
   "source": [
    "# lets we have scenario like this:"
   ]
  },
  {
   "cell_type": "markdown",
   "metadata": {},
   "source": [
    "<img src='svm8.jpg'>\n",
    "\n",
    "                                                img source:geeksforgeeks.com"
   ]
  },
  {
   "cell_type": "markdown",
   "metadata": {},
   "source": [
    "The blue ball in the boundary of red ones is an outlier of blue balls. The SVM algorithm has the characteristics to ignore the outlier and finds the best hyperplane that maximizes the margin. SVM is robust to outliers."
   ]
  },
  {
   "cell_type": "code",
   "execution_count": 5,
   "metadata": {},
   "outputs": [],
   "source": [
    "# Separating linear data using a line is easy, What to do if data are not linearly separable?"
   ]
  },
  {
   "cell_type": "markdown",
   "metadata": {},
   "source": [
    "<img src='svm9.jpg'>\n",
    "\n",
    "                                                    img source:geeksforgeeks.com"
   ]
  },
  {
   "cell_type": "markdown",
   "metadata": {},
   "source": [
    "SVM solves this by creating a new variable using a kernel. We call a point Xi on the line and we create a new variable Yi as a function of distance from origin 'O'. So if we plot this we get something like as"
   ]
  },
  {
   "cell_type": "markdown",
   "metadata": {},
   "source": [
    "<img src='svm10.jpg'>\n",
    "\n",
    "                                                     img source:geeksforgeeks.com"
   ]
  },
  {
   "cell_type": "markdown",
   "metadata": {},
   "source": [
    "In this case, the new variable y is created as a function of distance from the origin. A non-linear function that creates a new variable is referred to as kernel."
   ]
  },
  {
   "cell_type": "code",
   "execution_count": 7,
   "metadata": {},
   "outputs": [],
   "source": [
    "# what is a SVM kernel??"
   ]
  },
  {
   "cell_type": "markdown",
   "metadata": {},
   "source": [
    "It is a function that takes low dimensional input space and transforms it into higher-dimensional space, i.e. it converts non-separable problem to separable problem. "
   ]
  },
  {
   "cell_type": "code",
   "execution_count": 4,
   "metadata": {},
   "outputs": [],
   "source": [
    "# when and where SVM KERNEL is used??"
   ]
  },
  {
   "cell_type": "markdown",
   "metadata": {},
   "source": [
    "It is mostly useful in non-linear separation problems. Simply put the kernel, it does some extremely complex data transformations then finds out the process to separate the data based on the labels or outputs defined."
   ]
  },
  {
   "cell_type": "code",
   "execution_count": 5,
   "metadata": {},
   "outputs": [],
   "source": [
    "# Advantages of SVM:"
   ]
  },
  {
   "cell_type": "markdown",
   "metadata": {},
   "source": [
    "- Effective in high dimensional cases\n",
    "- Its memory efficient as it uses a extreme training points in the decision function called support vectors\n",
    "- Different kernel functions can be specified for the decision functions and its possible to specify custom kernels"
   ]
  },
  {
   "cell_type": "code",
   "execution_count": 6,
   "metadata": {},
   "outputs": [],
   "source": [
    "# WHAT ARE SUPPORT VECTORS??"
   ]
  },
  {
   "cell_type": "markdown",
   "metadata": {},
   "source": [
    "- These are the points that are closest to the hyperplane. \n",
    "- A Hyperplane or Decision Line will be defined with the help of these data points."
   ]
  },
  {
   "cell_type": "code",
   "execution_count": 7,
   "metadata": {},
   "outputs": [],
   "source": [
    "# WHAT IS MARGIN? DEFINE HARD MARGIN AND SOFT MARGIN?"
   ]
  },
  {
   "cell_type": "markdown",
   "metadata": {},
   "source": [
    "Margin is the distance between the hyperplane and support vectors. In SVM large margin is considered a good margin. There are two types of margins hard margin and soft margin."
   ]
  },
  {
   "cell_type": "markdown",
   "metadata": {},
   "source": [
    "<img src='svm11.png'>\n",
    "\n",
    "                                            img source: AnalyticsVidya"
   ]
  },
  {
   "cell_type": "code",
   "execution_count": 8,
   "metadata": {},
   "outputs": [],
   "source": [
    "### How does Support Vector Machine work?"
   ]
  },
  {
   "cell_type": "markdown",
   "metadata": {},
   "source": [
    "it tries to find the best hyperplane which can separate both classes with maximum margin form nearrest point of both the classes.\n",
    "- it tries to find the best hyperplane recursively untill it has maximum margin from both the classes.\n",
    "- there can be drwan many hyperplane through two classes in order to separate them."
   ]
  },
  {
   "cell_type": "code",
   "execution_count": 9,
   "metadata": {},
   "outputs": [],
   "source": [
    "# why those points are called support vectors??"
   ]
  },
  {
   "cell_type": "markdown",
   "metadata": {},
   "source": [
    "Those points are called support vectors because they are contributing towards development of the algorithm.\n",
    "\n",
    "If a data point is not an SV, removing it has no effect on the model."
   ]
  },
  {
   "cell_type": "code",
   "execution_count": 10,
   "metadata": {},
   "outputs": [],
   "source": [
    "# What will happen if we delete the support vector?"
   ]
  },
  {
   "cell_type": "markdown",
   "metadata": {},
   "source": [
    "Deleting the SV will then change the position of the hyperplane."
   ]
  },
  {
   "cell_type": "code",
   "execution_count": 11,
   "metadata": {},
   "outputs": [],
   "source": [
    "# How do we define the dimension of the hyperplane??"
   ]
  },
  {
   "cell_type": "markdown",
   "metadata": {},
   "source": [
    "    The dimension of the hyperplane depends upon the number of features. \n",
    "    If the number of input features is 2, then the hyperplane is just a line. \n",
    "    If the number of input features is 3, then the hyperplane becomes a two-dimensional plane. \n",
    "    It becomes difficult to imagine when the number of features exceeds 3."
   ]
  },
  {
   "cell_type": "code",
   "execution_count": 12,
   "metadata": {},
   "outputs": [],
   "source": [
    "# difference bet SVM and SVC"
   ]
  },
  {
   "cell_type": "markdown",
   "metadata": {},
   "source": [
    "Many have confusion with the terms SVM and SVC, the simple answer is if the hyperplane that we are using for classification is in linear condition, then the condition is SVC."
   ]
  },
  {
   "cell_type": "code",
   "execution_count": 13,
   "metadata": {},
   "outputs": [],
   "source": [
    "# What is soft margin in Support Vector Machine Algorithm? Define Margin Violation in SVM?"
   ]
  },
  {
   "cell_type": "markdown",
   "metadata": {},
   "source": [
    "As most of the real-world data are not fully linearly separable, we will allow some margin violation to occur which is called soft margin classification.\n",
    "\n",
    "It is better to have a large margin, even though some constraints are violated. \n",
    "\n",
    "Margin violation means choosing a hyperplane. Which can allow some data points to stay on either the incorrect side of the hyperplane and between the margin and correct side of the hyperplane."
   ]
  },
  {
   "cell_type": "markdown",
   "metadata": {},
   "source": [
    "#### Basic Parameters for SVM – (Dramatic/Side portion) (both linear and non-linear SVMs)"
   ]
  },
  {
   "cell_type": "markdown",
   "metadata": {},
   "source": [
    "\n",
    "    svm=SVC(C=1.0,\n",
    "            kernel='rbf',\n",
    "            degree=3,\n",
    "            gamma='scale',\n",
    "            coef0=0.0,\n",
    "            shrinking=True,\n",
    "            probability=False,\n",
    "            tol=0.001,\n",
    "            cache_size=200,\n",
    "            class_weight=None,\n",
    "            verbose=False,\n",
    "            max_iter=-1,\n",
    "            decision_function_shape='ovr',\n",
    "            break_ties=False,\n",
    "            random_state=None,)"
   ]
  },
  {
   "cell_type": "markdown",
   "metadata": {},
   "source": [
    "Regularization parameter (C): \n",
    "- Penalty parameter of the error term.\n",
    "- or degree of optimization \n",
    "- in a simple word, it suggests the model choose data points as a support vector\n",
    "- For large C – then model choose more data points as a support vector and we get the higher variance and lower bias, which may lead to the problem of overfitting."
   ]
  },
  {
   "cell_type": "markdown",
   "metadata": {},
   "source": [
    "<img src='svm22.jpg'>"
   ]
  },
  {
   "cell_type": "markdown",
   "metadata": {},
   "source": [
    "For small C – If the value of C is small then the model chooses fewer data points as a support vector and gets lower variance/high bias."
   ]
  },
  {
   "cell_type": "markdown",
   "metadata": {},
   "source": [
    "<img src='svm23.png'>"
   ]
  },
  {
   "cell_type": "code",
   "execution_count": 14,
   "metadata": {},
   "outputs": [],
   "source": [
    "# Gamma Parameter:  "
   ]
  },
  {
   "cell_type": "markdown",
   "metadata": {},
   "source": [
    "- used with Gaussian RBF kernel.\n",
    "- If we are useing linear or polynomial kernel then we do not need GAMMA parameter, only C hypermeter is used.\n",
    "- It decides that how much curvature we want in a decision boundary.\n",
    "- High Gamma value – More curvature, Low Gamma value – Less curvature"
   ]
  },
  {
   "cell_type": "markdown",
   "metadata": {},
   "source": [
    "<img src='svm24.png' height=400 width=600>"
   ]
  },
  {
   "cell_type": "markdown",
   "metadata": {},
   "source": [
    "**Kernel**\n",
    "\n",
    "    We choose svm kernel based on our dataset type, if it has linear pattern w.r.t target then we use linear kernel else we use.. non linear kernel..\n",
    "    \n",
    "    linear kernel='linear'\n",
    "    non-linear kernel= ‘rbf’, ‘poly’ and ‘sigmoid’\n",
    "    \n",
    "**Degree:**\n",
    "\n",
    "    1. It controls the flexibility of the decision boundary.\n",
    "    2. Higher degrees yield more flexible decision boundaries.\n",
    "    3. Highly recommended for polynomial kernel\n",
    "    \n",
    "**Random State:**\n",
    "\n",
    "    This particular parameter, 50-50 people use it and others won’t. This is not so important, ensures that the splits that you generate are reproducible, like we give mostly the value as 0 or 1 or it may be any other number too."
   ]
  },
  {
   "cell_type": "markdown",
   "metadata": {},
   "source": [
    "### Implementation"
   ]
  },
  {
   "cell_type": "code",
   "execution_count": 10,
   "metadata": {},
   "outputs": [],
   "source": [
    "import pandas as pd\n",
    "import numpy as np\n",
    "import seaborn as sns\n",
    "import matplotlib.pyplot as plt\n",
    "%matplotlib inline"
   ]
  },
  {
   "cell_type": "raw",
   "metadata": {},
   "source": [
    "df = pd.read_csv('bc2.csv')\n",
    "df = pd.DataFrame(data)\n",
    "df.columns"
   ]
  },
  {
   "cell_type": "raw",
   "metadata": {},
   "source": [
    "df.info()"
   ]
  },
  {
   "cell_type": "raw",
   "metadata": {},
   "source": [
    "df.describe().transpose()"
   ]
  },
  {
   "cell_type": "raw",
   "metadata": {},
   "source": [
    "df = df.replace('?', np.nan)\n",
    "df = df.apply(lambda x: x.fillna(x.median()),axis=0)\n",
    "  \n",
    "# converting the hp column from object 'Bare Nuclei'/ string type to float\n",
    "df['Bare Nuclei'] = df['Bare Nuclei'].astype('float64')  \n",
    "df.isnull().sum()"
   ]
  },
  {
   "cell_type": "raw",
   "metadata": {},
   "source": [
    "X = df.drop([\"ID\",\"Class\"], axis=1)\n",
    "y = df[\"Class\"]"
   ]
  },
  {
   "cell_type": "raw",
   "metadata": {},
   "source": [
    "from sklearn.model_selection import train_test_split\n",
    "X_train, X_test, y_train, y_test = train_test_split(features,target, test_size = 0.2, random_state = 10)"
   ]
  },
  {
   "cell_type": "raw",
   "metadata": {},
   "source": [
    "from sklearn.svm import SVC"
   ]
  },
  {
   "cell_type": "raw",
   "metadata": {},
   "source": [
    "model = SVC(C= .1, kernel='linear', gamma= 1)\n",
    "model.fit(X_train, y_train)"
   ]
  },
  {
   "cell_type": "raw",
   "metadata": {},
   "source": [
    "y_pred=model.predict(X_test)"
   ]
  },
  {
   "cell_type": "raw",
   "metadata": {},
   "source": [
    "model.score(X_train,y_train)"
   ]
  },
  {
   "cell_type": "raw",
   "metadata": {},
   "source": [
    "model.score(X_test,y_test)"
   ]
  },
  {
   "cell_type": "code",
   "execution_count": 11,
   "metadata": {},
   "outputs": [],
   "source": [
    "# buidling another svm model with another kernel"
   ]
  },
  {
   "cell_type": "raw",
   "metadata": {},
   "source": [
    "model2 = SVC(kernel='rbf')\n",
    "model2.fit(X_train, y_train)"
   ]
  },
  {
   "cell_type": "raw",
   "metadata": {},
   "source": [
    "WITH KERNEL 'POLY':\n",
    "model3  = SVC(kernel='poly')\n",
    "model3.fit(X_train, y_train)"
   ]
  },
  {
   "cell_type": "raw",
   "metadata": {},
   "source": [
    "WITH KERNEL SIGMOID:\n",
    "model4 = SVC(kernel='sigmoid')\n",
    "model4.fit(X_train, y_train)"
   ]
  },
  {
   "cell_type": "markdown",
   "metadata": {},
   "source": [
    "### Classifying data using Support Vector Machines(SVMs) in Python"
   ]
  },
  {
   "cell_type": "code",
   "execution_count": 13,
   "metadata": {},
   "outputs": [],
   "source": [
    "from sklearn.datasets import make_blobs"
   ]
  },
  {
   "cell_type": "code",
   "execution_count": 14,
   "metadata": {},
   "outputs": [],
   "source": [
    "X, y = make_blobs(n_samples=500, centers=2,random_state=0, cluster_std=0.40)"
   ]
  },
  {
   "cell_type": "code",
   "execution_count": 15,
   "metadata": {},
   "outputs": [],
   "source": [
    "import matplotlib.pyplot as plt"
   ]
  },
  {
   "cell_type": "code",
   "execution_count": 17,
   "metadata": {},
   "outputs": [
    {
     "data": {
      "image/png": "[encoded data removed]",
      "text/plain": [
       "<Figure size 432x288 with 1 Axes>"
      ]
     },
     "metadata": {
      "needs_background": "light"
     },
     "output_type": "display_data"
    }
   ],
   "source": [
    "plt.scatter(X[:, 0], X[:, 1], c=y, s=50, cmap='spring');\n",
    "plt.show()"
   ]
  },
  {
   "cell_type": "code",
   "execution_count": 23,
   "metadata": {},
   "outputs": [
    {
     "data": {
      "image/png": "[encoded data removed]",
      "text/plain": [
       "<Figure size 432x288 with 1 Axes>"
      ]
     },
     "metadata": {
      "needs_background": "light"
     },
     "output_type": "display_data"
    }
   ],
   "source": [
    "from sklearn.datasets import make_circles\n",
    "X,y=make_circles(n_samples=200,random_state=5,factor=0.7)\n",
    "plt.scatter(X[:,0],X[:,1],c=y,s=50)\n",
    "plt.show()"
   ]
  },
  {
   "cell_type": "markdown",
   "metadata": {},
   "source": [
    "### SVM ALGORITHMS: FREECODECAMP.org"
   ]
  },
  {
   "cell_type": "raw",
   "metadata": {},
   "source": [
    "Types of SVMs\n",
    "There are two different types of SVMs, each used for different things:\n",
    "\n",
    "Simple SVM: Typically used for linear regression and classification problems.\n",
    "Kernel SVM: Has more flexibility for non-linear data because you can add more features to fit a hyperplane instead of a two-dimensional space."
   ]
  },
  {
   "cell_type": "raw",
   "metadata": {},
   "source": [
    "SVM can handle both classification and regression on linear and non-linear data."
   ]
  },
  {
   "cell_type": "raw",
   "metadata": {},
   "source": [
    "SVM can find complex relationships between your data without you needing to do a lot of transformations on your own, when u have a small dataset with many no of features, U should try this working this algorithm.."
   ]
  },
  {
   "cell_type": "raw",
   "metadata": {},
   "source": [
    "SVM is good at handling small and complex datasets"
   ]
  },
  {
   "cell_type": "markdown",
   "metadata": {},
   "source": [
    "#### Pros of SVM "
   ]
  },
  {
   "cell_type": "raw",
   "metadata": {},
   "source": [
    "Pros:\n",
    "-Effective on datasets with multiple features, like financial or medical data.\n",
    "-Effective in cases where number of features is greater than the number of data points.\n",
    "-Uses a subset of training points in the decision function called support vectors which makes it memory efficient.\n",
    "-Different kernel functions can be specified for the decision function. You can use common kernels, but it's also possible to specify custom kernels."
   ]
  },
  {
   "cell_type": "raw",
   "metadata": {},
   "source": [
    "Cons\n",
    "If the number of features is a lot bigger than the number of data points, avoiding over-fitting when choosing kernel functions and regularization term is crucial.\n",
    "SVMs don't directly provide probability estimates. Those are calculated using an expensive five-fold cross-validation.\n",
    "Works best on small sample sets because of its high training time."
   ]
  },
  {
   "cell_type": "markdown",
   "metadata": {},
   "source": [
    "### What are Kernels & discuss different kind of Kernel functions in SVM??"
   ]
  },
  {
   "cell_type": "raw",
   "metadata": {},
   "source": [
    "-Kernels are simply mathematical fucntions to transform the data..\n",
    "-The function of kernel is to take data as input and transform it into the required form\n",
    "\n",
    "It is a function that you, as the domain expert, provide to a machine learning algorithm. It takes two inputs and spits out how similar they are.\n",
    "\n"
   ]
  },
  {
   "cell_type": "code",
   "execution_count": 26,
   "metadata": {},
   "outputs": [],
   "source": [
    "# linear"
   ]
  },
  {
   "cell_type": "raw",
   "metadata": {},
   "source": [
    "Let us say that we have two vectors with name x1 and Y1, then the linear kernel is defined by the dot product of these two vectors:"
   ]
  },
  {
   "cell_type": "markdown",
   "metadata": {},
   "source": [
    "<img src='lk.png'>"
   ]
  },
  {
   "cell_type": "raw",
   "metadata": {},
   "source": [
    "-mostly used for text classification\n",
    "-Here's the function that defines the linear kernel:\n",
    "\n",
    "f(X) = w^T * X + b\n",
    "\n",
    "w is the weight vector that you want to minimize, X is the data that you're trying to classify, and b is the linear coefficient estimated from the training data. "
   ]
  },
  {
   "cell_type": "code",
   "execution_count": 27,
   "metadata": {},
   "outputs": [],
   "source": [
    "# Polynomial"
   ]
  },
  {
   "cell_type": "raw",
   "metadata": {},
   "source": [
    "A polynomial kernel is defined by the following equation:\n",
    "where d is the degree of the polynomial and x1 and x2 are vectors."
   ]
  },
  {
   "cell_type": "markdown",
   "metadata": {},
   "source": [
    "<img src='pk.png'>"
   ]
  },
  {
   "cell_type": "code",
   "execution_count": 28,
   "metadata": {},
   "outputs": [],
   "source": [
    "# Gaussian Kernel"
   ]
  }
 ],
 "metadata": {
  "kernelspec": {
   "display_name": "Python 3 (ipykernel)",
   "language": "python",
   "name": "python3"
  },
  "language_info": {
   "codemirror_mode": {
    "name": "ipython",
    "version": 3
   },
   "file_extension": ".py",
   "mimetype": "text/x-python",
   "name": "python",
   "nbconvert_exporter": "python",
   "pygments_lexer": "ipython3",
   "version": "3.9.7"
  }
 },
 "nbformat": 4,
 "nbformat_minor": 4
}

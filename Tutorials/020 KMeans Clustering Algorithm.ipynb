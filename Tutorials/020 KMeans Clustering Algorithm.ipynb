{
 "cells": [
  {
   "cell_type": "markdown",
   "id": "846b8be5",
   "metadata": {},
   "source": [
    "### KMeans Clustering Algorithm"
   ]
  },
  {
   "cell_type": "code",
   "execution_count": 42,
   "id": "a0227974",
   "metadata": {},
   "outputs": [],
   "source": [
    "# Brief about K means clustering"
   ]
  },
  {
   "cell_type": "markdown",
   "id": "b30b2920",
   "metadata": {},
   "source": [
    "- A Supervised ML technique/algorithm\n",
    "- also called flat clustering algorithm\n",
    "- Used to find clusters in a dataset based on centroid, so its a centroid based algorithm\n",
    "- predefined number of clusters are formed using this algorithm\n",
    "- that means we need to define the number of cluster before fitting our training data OR it's totally up to us how many cluster we want to discover"
   ]
  },
  {
   "cell_type": "code",
   "execution_count": 43,
   "id": "f18da0f6",
   "metadata": {},
   "outputs": [],
   "source": [
    "# So what is clustering??"
   ]
  },
  {
   "cell_type": "markdown",
   "id": "223c765b",
   "metadata": {},
   "source": [
    "A cluster is group of data points or objects in a dataset that are similar to other objects in the group, and dissimilar to data points."
   ]
  },
  {
   "cell_type": "code",
   "execution_count": 1,
   "id": "298f52c8",
   "metadata": {},
   "outputs": [],
   "source": [
    "# Steps Involved in Kmeans Algorithm"
   ]
  },
  {
   "cell_type": "markdown",
   "id": "a566089a",
   "metadata": {},
   "source": [
    "1. Select k no of clusters to be formed\n",
    "2. Select same number of random centroid  for each cluster,centroids can be a point from the clusters or some different points\n",
    "3. Assign each data point to the nearest centroid, based on distances from all the Centroids, it will form the predefined clusters.\n",
    "           \n",
    "           The distance between the centroid and data points is calculated using any one of distance metric, \n",
    "           mostly we choose Euclidean distance or Manhattan distance.\n",
    "4. Calculate the variance and place a new centroid of each cluster & reassign data point based on closest distance\n",
    "5. Repeat above steps untill every data point is assgined to some centroid with minimum distance, if no assignment occurs then model if ready, finished.\n",
    "\n",
    "- In this algorithm, the data points are assigned to a cluster in such a manner that the sum of the squared distance between the data points and centroid would be minimum"
   ]
  },
  {
   "cell_type": "code",
   "execution_count": 2,
   "id": "54cbf054",
   "metadata": {},
   "outputs": [],
   "source": [
    "# how to choose the right Number Of Clusters"
   ]
  },
  {
   "cell_type": "markdown",
   "id": "4d50e049",
   "metadata": {},
   "source": [
    "- Each and Every cluster is formed by calculating and comparing the mean distances of each data points from its centroid.\n",
    "- We Can Choose the right number of clusters with the help of the Within-Cluster-Sum-of-Squares (WCSS) method.\n",
    "- WCSS Stands for the sum of the squares of distances of the data points in each and every cluster from its centroid.\n",
    "- Distance is calculated using euclidean or Manhattan distance\n",
    "- As the number of clusters increases, the WCSS value will start to decrease. WCSS value is largest when K = 1\n",
    "- The main idea is to minimize the distance between the data points and the centroid of the clusters. The process is iterated until we reach a minimum value for the sum of distances."
   ]
  },
  {
   "cell_type": "markdown",
   "id": "423783ef",
   "metadata": {},
   "source": [
    "The method of finding the right number of cluster using **WCSS value** is called **Elbow Method** it because when the plot the values of K against WCSS value on y- axis, the graph looks like an elbow."
   ]
  },
  {
   "cell_type": "code",
   "execution_count": 3,
   "id": "5604b493",
   "metadata": {},
   "outputs": [],
   "source": [
    "# Steps to find best value of clusters"
   ]
  },
  {
   "cell_type": "markdown",
   "id": "163dd22c",
   "metadata": {},
   "source": [
    "1. Execute the K-means clustering on a given dataset for different K values (ranging from 1-10).\n",
    "2. For each value of K, calculates the WCSS value.\n",
    "3. Plots a graph/curve between WCSS values and the respective number of clusters K.\n",
    "4. The sharp point of bend or a point( looking like an elbow joint ) of the plot like an arm, will be considered as the best/optimal value of K"
   ]
  },
  {
   "cell_type": "code",
   "execution_count": 45,
   "id": "3118d217",
   "metadata": {},
   "outputs": [],
   "source": [
    "### What is importance of choosing right no of clusters K?"
   ]
  },
  {
   "cell_type": "markdown",
   "id": "dac35c5e",
   "metadata": {},
   "source": [
    "The performance of the K-means clustering algorithm depends upon highly efficient clusters that it forms,  optimal number of clusters optimum performance."
   ]
  },
  {
   "cell_type": "code",
   "execution_count": 46,
   "id": "d7ac16d6",
   "metadata": {},
   "outputs": [],
   "source": [
    "# which methos is used in K-measns Clustering to find the right no of clusters K?"
   ]
  },
  {
   "cell_type": "markdown",
   "id": "bd76a1ee",
   "metadata": {},
   "source": [
    "The Elbow method is one of the most popular ways to find the optimal number of clusters. This method uses the concept of WCSS value. WCSS stands for Within Cluster Sum of Squares.\n",
    "\n",
    "    WCSS= ∑Pi distance(Pi C1)2 +∑Pi distance(Pi C2)2+∑Pi distance(Pi C3)2"
   ]
  },
  {
   "cell_type": "markdown",
   "id": "3225aeeb",
   "metadata": {},
   "source": [
    "### Python implementation of Kmeans Clustering"
   ]
  },
  {
   "cell_type": "code",
   "execution_count": 17,
   "id": "4aba9e54",
   "metadata": {},
   "outputs": [],
   "source": [
    "import numpy as np\n",
    "import pandas as pd\n",
    "import seaborn as sns\n",
    "sns.set()\n",
    "\n",
    "import matplotlib.pyplot as plt\n",
    "import statsmodels.api as statsapi\n",
    "from sklearn.cluster import KMeans"
   ]
  },
  {
   "cell_type": "code",
   "execution_count": 39,
   "id": "8987a23e",
   "metadata": {},
   "outputs": [],
   "source": [
    "import warnings\n",
    "warnings.filterwarnings('ignore')"
   ]
  },
  {
   "cell_type": "code",
   "execution_count": 18,
   "id": "854d7fdc",
   "metadata": {},
   "outputs": [],
   "source": [
    "from sklearn.datasets import make_classification\n",
    "x,y=make_classification(n_samples=1000,n_features=5)"
   ]
  },
  {
   "cell_type": "code",
   "execution_count": 38,
   "id": "af09bf1a",
   "metadata": {},
   "outputs": [],
   "source": [
    "# x[0]\n",
    "# x[0,1]"
   ]
  },
  {
   "cell_type": "code",
   "execution_count": 26,
   "id": "5a8c92ce",
   "metadata": {},
   "outputs": [],
   "source": [
    "from sklearn.cluster import KMeans"
   ]
  },
  {
   "cell_type": "markdown",
   "id": "e9f22735",
   "metadata": {},
   "source": [
    "    kmeans=KMeans(n_clusters=8,init='k-means++',n_init=10,max_iter=300,tol=0.0001, precompute_distances='deprecated',                              verbose=0,random_state=None,copy_x=True,n_jobs='deprecated',algorithm='auto')"
   ]
  },
  {
   "cell_type": "code",
   "execution_count": 27,
   "id": "66f7fa18",
   "metadata": {},
   "outputs": [],
   "source": [
    "kmeans=KMeans(n_clusters=5,init='k-means++',n_init=10,max_iter=300,tol=0.0001, precompute_distances='deprecated',verbose=0,\n",
    "    random_state=None,copy_x=True,n_jobs='deprecated',algorithm='auto')"
   ]
  },
  {
   "cell_type": "code",
   "execution_count": 28,
   "id": "c2dc0f0d",
   "metadata": {
    "scrolled": true
   },
   "outputs": [
    {
     "name": "stderr",
     "output_type": "stream",
     "text": [
      "C:\\ProgramData\\Anaconda3\\lib\\site-packages\\sklearn\\cluster\\_kmeans.py:881: UserWarning: KMeans is known to have a memory leak on Windows with MKL, when there are less chunks than available threads. You can avoid it by setting the environment variable OMP_NUM_THREADS=4.\n",
      "  warnings.warn(\n"
     ]
    },
    {
     "data": {
      "image/png": "[encoded data removed]",
      "text/plain": [
       "<Figure size 432x288 with 1 Axes>"
      ]
     },
     "metadata": {},
     "output_type": "display_data"
    }
   ],
   "source": [
    "# Finding the best number of clusters\n",
    "from sklearn.cluster import KMeans\n",
    "\n",
    "wcss= []  #Initializing an empty list\n",
    "\n",
    "# We will Our model 10 times using for loop, each time with different value of K in range(1,11)\n",
    "for i in range(1, 11):\n",
    "    kmeans = KMeans(n_clusters=i, init='k-means++', random_state= 42)\n",
    "    kmeans.fit(x)\n",
    "    wcss.append(kmeans.inertia_)\n",
    "plt.plot(range(1, 11), wcss)\n",
    "plt.title('The Elobw Method Graph')\n",
    "plt.xlabel('Number of Clusters')\n",
    "plt.ylabel('WCSS')\n",
    "plt.show()"
   ]
  },
  {
   "cell_type": "markdown",
   "id": "cf852aa3",
   "metadata": {},
   "source": [
    "**You can notice that our graph is making a bend (like an elbow) shape at position 4, so we can conclude that the best  number of cluster is 4**"
   ]
  },
  {
   "cell_type": "code",
   "execution_count": 41,
   "id": "160d8a7a",
   "metadata": {},
   "outputs": [],
   "source": [
    "# Model fitting"
   ]
  },
  {
   "cell_type": "code",
   "execution_count": 29,
   "id": "c1ceda32",
   "metadata": {},
   "outputs": [],
   "source": [
    "kmeans = KMeans(n_clusters=4, init='k-means++', random_state= 42)\n",
    "ypred= kmeans.fit_predict(x)"
   ]
  },
  {
   "cell_type": "code",
   "execution_count": 40,
   "id": "70507f6c",
   "metadata": {},
   "outputs": [],
   "source": [
    "#visulaizing the clusters"
   ]
  },
  {
   "cell_type": "code",
   "execution_count": 35,
   "id": "d915dd03",
   "metadata": {},
   "outputs": [
    {
     "data": {
      "image/png": "[encoded data removed]",
      "text/plain": [
       "<Figure size 432x288 with 1 Axes>"
      ]
     },
     "metadata": {},
     "output_type": "display_data"
    }
   ],
   "source": [
    "plt.scatter(x[ypred == 0, 0], x[ypred == 0, 1], s = 25, c = 'blue', label = 'Cluster 1') #for first cluster\n",
    "plt.scatter(x[ypred == 1, 0], x[ypred == 1, 1], s = 25, c = 'green', label = 'Cluster 2') #for second cluster\n",
    "plt.scatter(x[ypred== 2, 0], x[ypred == 2, 1], s = 25, c = 'red', label = 'Cluster 3') #for third cluster\n",
    "plt.scatter(x[ypred == 3, 0], x[ypred == 3, 1], s = 25, c = 'cyan', label = 'Cluster 4') #for fourth cluster\n",
    "plt.scatter(kmeans.cluster_centers_[:, 0], kmeans.cluster_centers_[:, 1], s = 300, c = 'yellow', label = 'Centroid') \n",
    "plt.title('Clusters')\n",
    "plt.xlabel(' Input')\n",
    "plt.ylabel('Output')\n",
    "plt.legend()\n",
    "plt.show()"
   ]
  },
  {
   "cell_type": "markdown",
   "id": "3c8a9eed",
   "metadata": {},
   "source": [
    "    In the above plot:\n",
    "    x[ypred == 0, 0], selects all rows where ypred=0, and first column of x. similarly other."
   ]
  },
  {
   "cell_type": "code",
   "execution_count": null,
   "id": "2bc61be1",
   "metadata": {},
   "outputs": [],
   "source": [
    "# Attributes"
   ]
  },
  {
   "cell_type": "markdown",
   "id": "2d3e68f0",
   "metadata": {},
   "source": [
    "    kmeans.cluster_centers_\n",
    "    kmeans.n_clusters : gives number of cluser i.e. 4 in this case\n",
    "    kmeans.labels_ : gives an array of cluster's labels i.e. a array of size ypred consisting 0,1,2,3 repeatedly."
   ]
  },
  {
   "cell_type": "markdown",
   "id": "eb0f268f",
   "metadata": {},
   "source": [
    "### Exmaple 2:"
   ]
  },
  {
   "cell_type": "code",
   "execution_count": 57,
   "id": "67bd01d0",
   "metadata": {},
   "outputs": [],
   "source": [
    "%matplotlib inline\n",
    "import matplotlib.pyplot as plt\n",
    "import seaborn as sns\n",
    "sns.set()\n",
    "import numpy as np\n",
    "from sklearn.cluster import KMeans"
   ]
  },
  {
   "cell_type": "code",
   "execution_count": 58,
   "id": "91c57908",
   "metadata": {},
   "outputs": [],
   "source": [
    "from sklearn.datasets import make_blobs"
   ]
  },
  {
   "cell_type": "code",
   "execution_count": 59,
   "id": "f505c7e3",
   "metadata": {},
   "outputs": [],
   "source": [
    "X, y = make_blobs(n_samples=500, centers=4, cluster_std=0.60, random_state=1)"
   ]
  },
  {
   "cell_type": "code",
   "execution_count": 60,
   "id": "a94db603",
   "metadata": {},
   "outputs": [
    {
     "data": {
      "text/plain": [
       "array([[-6.97989786, -9.66301042],\n",
       "       [-8.00432507, -7.54493462]])"
      ]
     },
     "execution_count": 60,
     "metadata": {},
     "output_type": "execute_result"
    }
   ],
   "source": [
    "X[0:2]"
   ]
  },
  {
   "cell_type": "code",
   "execution_count": 61,
   "id": "1a70fafa",
   "metadata": {},
   "outputs": [
    {
     "data": {
      "text/plain": [
       "(500, 2)"
      ]
     },
     "execution_count": 61,
     "metadata": {},
     "output_type": "execute_result"
    }
   ],
   "source": [
    "X.shape"
   ]
  },
  {
   "cell_type": "code",
   "execution_count": 62,
   "id": "32b78c44",
   "metadata": {},
   "outputs": [
    {
     "data": {
      "text/plain": [
       "array([2, 2, 1])"
      ]
     },
     "execution_count": 62,
     "metadata": {},
     "output_type": "execute_result"
    }
   ],
   "source": [
    "y[0:3]"
   ]
  },
  {
   "cell_type": "code",
   "execution_count": 63,
   "id": "1a329e29",
   "metadata": {},
   "outputs": [],
   "source": [
    "# visualize the dataset"
   ]
  },
  {
   "cell_type": "code",
   "execution_count": 64,
   "id": "8f3b506a",
   "metadata": {},
   "outputs": [
    {
     "data": {
      "image/png": "[encoded data removed]",
      "text/plain": [
       "<Figure size 432x288 with 1 Axes>"
      ]
     },
     "metadata": {},
     "output_type": "display_data"
    }
   ],
   "source": [
    "plt.scatter(X[:, 0], X[:, 1], s=20) # s is mark size\n",
    "plt.show()"
   ]
  },
  {
   "cell_type": "code",
   "execution_count": 65,
   "id": "696794f6",
   "metadata": {},
   "outputs": [],
   "source": [
    "model = KMeans(n_clusters=4)\n",
    "model.fit(X)\n",
    "ypred = model.predict(X)"
   ]
  },
  {
   "cell_type": "code",
   "execution_count": 66,
   "id": "ae1b1e05",
   "metadata": {},
   "outputs": [
    {
     "data": {
      "image/png": "[encoded data removed]",
      "text/plain": [
       "<Figure size 432x288 with 1 Axes>"
      ]
     },
     "metadata": {},
     "output_type": "display_data"
    }
   ],
   "source": [
    "# visualizing the cluster’s centers picked by k-means Python estimator\n",
    "plt.scatter(X[:, 0], X[:, 1], c=ypred, s=20, cmap='summer')\n",
    "# s : float or array-like, shape (n, ), optional, The marker size in points**2.\n",
    "# c : array-like or list of colors or color, optional, The marker colors. Possible values:\n",
    "centers = model.cluster_centers_\n",
    "plt.scatter(centers[:, 0], centers[:, 1], c='blue', s=50, alpha=0.9);\n",
    "plt.show()"
   ]
  },
  {
   "cell_type": "markdown",
   "id": "64c0e4a1",
   "metadata": {},
   "source": [
    "### Example 3"
   ]
  },
  {
   "cell_type": "code",
   "execution_count": 67,
   "id": "4da43c93",
   "metadata": {},
   "outputs": [],
   "source": [
    "# lets predict a digit from sklearn's digits data"
   ]
  },
  {
   "cell_type": "markdown",
   "id": "017c4b61",
   "metadata": {},
   "source": [
    "we are going to apply K-means clustering on simple digits dataset. K-means will try to identify similar digits without using the original label information"
   ]
  },
  {
   "cell_type": "code",
   "execution_count": 70,
   "id": "86d8464a",
   "metadata": {},
   "outputs": [],
   "source": [
    "# basic libraries already loaded "
   ]
  },
  {
   "cell_type": "code",
   "execution_count": 69,
   "id": "1b5ba7c8",
   "metadata": {},
   "outputs": [],
   "source": [
    "# load the data\n",
    "from sklearn.datasets import load_digits\n",
    "digits=load_digits()"
   ]
  },
  {
   "cell_type": "code",
   "execution_count": 71,
   "id": "a119ea95",
   "metadata": {},
   "outputs": [],
   "source": [
    "df=pd.DataFrame(digits.data)"
   ]
  },
  {
   "cell_type": "code",
   "execution_count": 72,
   "id": "94086eb0",
   "metadata": {},
   "outputs": [
    {
     "data": {
      "text/html": [
       "<div>\n",
       "<style scoped>\n",
       "    .dataframe tbody tr th:only-of-type {\n",
       "        vertical-align: middle;\n",
       "    }\n",
       "\n",
       "    .dataframe tbody tr th {\n",
       "        vertical-align: top;\n",
       "    }\n",
       "\n",
       "    .dataframe thead th {\n",
       "        text-align: right;\n",
       "    }\n",
       "</style>\n",
       "<table border=\"1\" class=\"dataframe\">\n",
       "  <thead>\n",
       "    <tr style=\"text-align: right;\">\n",
       "      <th></th>\n",
       "      <th>0</th>\n",
       "      <th>1</th>\n",
       "      <th>2</th>\n",
       "      <th>3</th>\n",
       "      <th>4</th>\n",
       "      <th>5</th>\n",
       "      <th>6</th>\n",
       "      <th>7</th>\n",
       "      <th>8</th>\n",
       "      <th>9</th>\n",
       "      <th>...</th>\n",
       "      <th>54</th>\n",
       "      <th>55</th>\n",
       "      <th>56</th>\n",
       "      <th>57</th>\n",
       "      <th>58</th>\n",
       "      <th>59</th>\n",
       "      <th>60</th>\n",
       "      <th>61</th>\n",
       "      <th>62</th>\n",
       "      <th>63</th>\n",
       "    </tr>\n",
       "  </thead>\n",
       "  <tbody>\n",
       "    <tr>\n",
       "      <th>0</th>\n",
       "      <td>0.0</td>\n",
       "      <td>0.0</td>\n",
       "      <td>5.0</td>\n",
       "      <td>13.0</td>\n",
       "      <td>9.0</td>\n",
       "      <td>1.0</td>\n",
       "      <td>0.0</td>\n",
       "      <td>0.0</td>\n",
       "      <td>0.0</td>\n",
       "      <td>0.0</td>\n",
       "      <td>...</td>\n",
       "      <td>0.0</td>\n",
       "      <td>0.0</td>\n",
       "      <td>0.0</td>\n",
       "      <td>0.0</td>\n",
       "      <td>6.0</td>\n",
       "      <td>13.0</td>\n",
       "      <td>10.0</td>\n",
       "      <td>0.0</td>\n",
       "      <td>0.0</td>\n",
       "      <td>0.0</td>\n",
       "    </tr>\n",
       "    <tr>\n",
       "      <th>1</th>\n",
       "      <td>0.0</td>\n",
       "      <td>0.0</td>\n",
       "      <td>0.0</td>\n",
       "      <td>12.0</td>\n",
       "      <td>13.0</td>\n",
       "      <td>5.0</td>\n",
       "      <td>0.0</td>\n",
       "      <td>0.0</td>\n",
       "      <td>0.0</td>\n",
       "      <td>0.0</td>\n",
       "      <td>...</td>\n",
       "      <td>0.0</td>\n",
       "      <td>0.0</td>\n",
       "      <td>0.0</td>\n",
       "      <td>0.0</td>\n",
       "      <td>0.0</td>\n",
       "      <td>11.0</td>\n",
       "      <td>16.0</td>\n",
       "      <td>10.0</td>\n",
       "      <td>0.0</td>\n",
       "      <td>0.0</td>\n",
       "    </tr>\n",
       "  </tbody>\n",
       "</table>\n",
       "<p>2 rows × 64 columns</p>\n",
       "</div>"
      ],
      "text/plain": [
       "    0    1    2     3     4    5    6    7    8    9   ...   54   55   56  \\\n",
       "0  0.0  0.0  5.0  13.0   9.0  1.0  0.0  0.0  0.0  0.0  ...  0.0  0.0  0.0   \n",
       "1  0.0  0.0  0.0  12.0  13.0  5.0  0.0  0.0  0.0  0.0  ...  0.0  0.0  0.0   \n",
       "\n",
       "    57   58    59    60    61   62   63  \n",
       "0  0.0  6.0  13.0  10.0   0.0  0.0  0.0  \n",
       "1  0.0  0.0  11.0  16.0  10.0  0.0  0.0  \n",
       "\n",
       "[2 rows x 64 columns]"
      ]
     },
     "execution_count": 72,
     "metadata": {},
     "output_type": "execute_result"
    }
   ],
   "source": [
    "df.head(2)"
   ]
  },
  {
   "cell_type": "code",
   "execution_count": 74,
   "id": "9d56eb70",
   "metadata": {},
   "outputs": [],
   "source": [
    "# There is no need to prepcocess the data, as inbuilt data is already prepared for use"
   ]
  },
  {
   "cell_type": "code",
   "execution_count": 73,
   "id": "384f9632",
   "metadata": {},
   "outputs": [],
   "source": [
    "# model fitting\n",
    "kmeans=KMeans(n_clusters=10, random_state=0)"
   ]
  },
  {
   "cell_type": "markdown",
   "id": "e60703f9",
   "metadata": {},
   "source": [
    "Here we have chosen k=10, because there are 10 digits from 0 to 9."
   ]
  },
  {
   "cell_type": "code",
   "execution_count": 75,
   "id": "34aadf88",
   "metadata": {},
   "outputs": [],
   "source": [
    "clusters=kmeans.fit_predict(digits.data)"
   ]
  },
  {
   "cell_type": "code",
   "execution_count": 76,
   "id": "c2ddd42f",
   "metadata": {},
   "outputs": [
    {
     "data": {
      "text/plain": [
       "(10, 64)"
      ]
     },
     "execution_count": 76,
     "metadata": {},
     "output_type": "execute_result"
    }
   ],
   "source": [
    "kmeans.cluster_centers_.shape"
   ]
  },
  {
   "cell_type": "code",
   "execution_count": 77,
   "id": "cc104d36",
   "metadata": {},
   "outputs": [
    {
     "data": {
      "image/png": "[encoded data removed]",
      "text/plain": [
       "<Figure size 576x216 with 10 Axes>"
      ]
     },
     "metadata": {},
     "output_type": "display_data"
    }
   ],
   "source": [
    "fig, ax = plt.subplots(2, 5, figsize=(8, 3))\n",
    "centers = kmeans.cluster_centers_.reshape(10, 8, 8)\n",
    "for axi, center in zip(ax.flat, centers):\n",
    "    axi.set(xticks=[], yticks=[])\n",
    "    axi.imshow(center, interpolation='nearest', cmap=plt.cm.binary)"
   ]
  },
  {
   "cell_type": "code",
   "execution_count": 78,
   "id": "cf87c0a4",
   "metadata": {},
   "outputs": [],
   "source": [
    "# The following lines of code will match the learned cluster labels with the true labels found in them −"
   ]
  },
  {
   "cell_type": "code",
   "execution_count": 79,
   "id": "aa779cf7",
   "metadata": {},
   "outputs": [],
   "source": [
    "from scipy.stats import mode\n",
    "labels = np.zeros_like(clusters)\n",
    "for i in range(10):\n",
    "    mask = (clusters == i)\n",
    "    labels[mask] = mode(digits.target[mask])[0]"
   ]
  },
  {
   "cell_type": "code",
   "execution_count": 80,
   "id": "b1930774",
   "metadata": {},
   "outputs": [
    {
     "data": {
      "text/plain": [
       "0.7935447968836951"
      ]
     },
     "execution_count": 80,
     "metadata": {},
     "output_type": "execute_result"
    }
   ],
   "source": [
    "from sklearn.metrics import accuracy_score\n",
    "accuracy_score(digits.target, labels)"
   ]
  },
  {
   "cell_type": "code",
   "execution_count": 81,
   "id": "1fc05737",
   "metadata": {},
   "outputs": [],
   "source": [
    "## Advantages of KMeans Clustering:"
   ]
  },
  {
   "cell_type": "markdown",
   "id": "984e3be0",
   "metadata": {},
   "source": [
    "It is very easy to understand and implement.\n",
    "\n",
    "If we have large number of variables then, K-means would be faster than Hierarchical clustering.\n",
    "\n",
    "On re-computation of centroids, an instance can change the cluster.\n",
    "\n",
    "Tighter clusters are formed with K-means as compared to Hierarchical clustering."
   ]
  },
  {
   "cell_type": "code",
   "execution_count": 82,
   "id": "817461c6",
   "metadata": {},
   "outputs": [],
   "source": [
    "# Disadvantages of K-Means clustering algorithms:"
   ]
  },
  {
   "cell_type": "markdown",
   "id": "5be83f9a",
   "metadata": {},
   "source": [
    "    It is a bit difficult to predict the number of clusters i.e. the value of k.\n",
    "    Output is strongly impacted by initial inputs like number of clusters (value of k).\n",
    "    Order of data will have strong impact on the final output.\n",
    "    It is very sensitive to rescaling. If we will rescale our data by means of normalization or standardization, then the output will completely change.final output.\n",
    "    It is not good in doing clustering job if the clusters have a complicated geometric shape."
   ]
  },
  {
   "cell_type": "markdown",
   "id": "5d775573",
   "metadata": {},
   "source": [
    "### More simpler implementaion with prediction"
   ]
  },
  {
   "cell_type": "code",
   "execution_count": 84,
   "id": "91b839da",
   "metadata": {},
   "outputs": [],
   "source": [
    "from sklearn.datasets import load_digits\n",
    "digits=load_digits()"
   ]
  },
  {
   "cell_type": "code",
   "execution_count": 85,
   "id": "9741a207",
   "metadata": {},
   "outputs": [
    {
     "data": {
      "text/plain": [
       "['DESCR', 'data', 'feature_names', 'frame', 'images', 'target', 'target_names']"
      ]
     },
     "execution_count": 85,
     "metadata": {},
     "output_type": "execute_result"
    }
   ],
   "source": [
    "dir(digits)"
   ]
  },
  {
   "cell_type": "code",
   "execution_count": 86,
   "id": "8d83a4a0",
   "metadata": {},
   "outputs": [
    {
     "data": {
      "text/plain": [
       "(1797, 64)"
      ]
     },
     "execution_count": 86,
     "metadata": {},
     "output_type": "execute_result"
    }
   ],
   "source": [
    "df=pd.DataFrame(digits.data,columns=digits.feature_names)\n",
    "df.shape"
   ]
  },
  {
   "cell_type": "code",
   "execution_count": 87,
   "id": "45edbb0e",
   "metadata": {},
   "outputs": [],
   "source": [
    "pd.set_option('display.max_columns',15)"
   ]
  },
  {
   "cell_type": "code",
   "execution_count": 88,
   "id": "1d6c0df4",
   "metadata": {},
   "outputs": [
    {
     "data": {
      "text/html": [
       "<div>\n",
       "<style scoped>\n",
       "    .dataframe tbody tr th:only-of-type {\n",
       "        vertical-align: middle;\n",
       "    }\n",
       "\n",
       "    .dataframe tbody tr th {\n",
       "        vertical-align: top;\n",
       "    }\n",
       "\n",
       "    .dataframe thead th {\n",
       "        text-align: right;\n",
       "    }\n",
       "</style>\n",
       "<table border=\"1\" class=\"dataframe\">\n",
       "  <thead>\n",
       "    <tr style=\"text-align: right;\">\n",
       "      <th></th>\n",
       "      <th>pixel_0_0</th>\n",
       "      <th>pixel_0_1</th>\n",
       "      <th>pixel_0_2</th>\n",
       "      <th>pixel_0_3</th>\n",
       "      <th>pixel_0_4</th>\n",
       "      <th>pixel_0_5</th>\n",
       "      <th>pixel_0_6</th>\n",
       "      <th>...</th>\n",
       "      <th>pixel_7_1</th>\n",
       "      <th>pixel_7_2</th>\n",
       "      <th>pixel_7_3</th>\n",
       "      <th>pixel_7_4</th>\n",
       "      <th>pixel_7_5</th>\n",
       "      <th>pixel_7_6</th>\n",
       "      <th>pixel_7_7</th>\n",
       "    </tr>\n",
       "  </thead>\n",
       "  <tbody>\n",
       "    <tr>\n",
       "      <th>0</th>\n",
       "      <td>0.0</td>\n",
       "      <td>0.0</td>\n",
       "      <td>5.0</td>\n",
       "      <td>13.0</td>\n",
       "      <td>9.0</td>\n",
       "      <td>1.0</td>\n",
       "      <td>0.0</td>\n",
       "      <td>...</td>\n",
       "      <td>0.0</td>\n",
       "      <td>6.0</td>\n",
       "      <td>13.0</td>\n",
       "      <td>10.0</td>\n",
       "      <td>0.0</td>\n",
       "      <td>0.0</td>\n",
       "      <td>0.0</td>\n",
       "    </tr>\n",
       "    <tr>\n",
       "      <th>1</th>\n",
       "      <td>0.0</td>\n",
       "      <td>0.0</td>\n",
       "      <td>0.0</td>\n",
       "      <td>12.0</td>\n",
       "      <td>13.0</td>\n",
       "      <td>5.0</td>\n",
       "      <td>0.0</td>\n",
       "      <td>...</td>\n",
       "      <td>0.0</td>\n",
       "      <td>0.0</td>\n",
       "      <td>11.0</td>\n",
       "      <td>16.0</td>\n",
       "      <td>10.0</td>\n",
       "      <td>0.0</td>\n",
       "      <td>0.0</td>\n",
       "    </tr>\n",
       "  </tbody>\n",
       "</table>\n",
       "<p>2 rows × 64 columns</p>\n",
       "</div>"
      ],
      "text/plain": [
       "   pixel_0_0  pixel_0_1  pixel_0_2  pixel_0_3  pixel_0_4  pixel_0_5  \\\n",
       "0        0.0        0.0        5.0       13.0        9.0        1.0   \n",
       "1        0.0        0.0        0.0       12.0       13.0        5.0   \n",
       "\n",
       "   pixel_0_6  ...  pixel_7_1  pixel_7_2  pixel_7_3  pixel_7_4  pixel_7_5  \\\n",
       "0        0.0  ...        0.0        6.0       13.0       10.0        0.0   \n",
       "1        0.0  ...        0.0        0.0       11.0       16.0       10.0   \n",
       "\n",
       "   pixel_7_6  pixel_7_7  \n",
       "0        0.0        0.0  \n",
       "1        0.0        0.0  \n",
       "\n",
       "[2 rows x 64 columns]"
      ]
     },
     "execution_count": 88,
     "metadata": {},
     "output_type": "execute_result"
    }
   ],
   "source": [
    "df.head(2)"
   ]
  },
  {
   "cell_type": "code",
   "execution_count": 89,
   "id": "306613b5",
   "metadata": {},
   "outputs": [
    {
     "data": {
      "text/plain": [
       "(1797, 64)"
      ]
     },
     "execution_count": 89,
     "metadata": {},
     "output_type": "execute_result"
    }
   ],
   "source": [
    "df.shape"
   ]
  },
  {
   "cell_type": "code",
   "execution_count": 91,
   "id": "86f7ef07",
   "metadata": {},
   "outputs": [],
   "source": [
    "df['target']=digits.target"
   ]
  },
  {
   "cell_type": "code",
   "execution_count": 92,
   "id": "ccad28ed",
   "metadata": {},
   "outputs": [
    {
     "data": {
      "text/plain": [
       "array([0, 1, 2, 3, 4, 5, 6, 7, 8, 9])"
      ]
     },
     "execution_count": 92,
     "metadata": {},
     "output_type": "execute_result"
    }
   ],
   "source": [
    "df['target'].unique()"
   ]
  },
  {
   "cell_type": "code",
   "execution_count": 93,
   "id": "b710f9e5",
   "metadata": {},
   "outputs": [
    {
     "data": {
      "text/plain": [
       "0"
      ]
     },
     "execution_count": 93,
     "metadata": {},
     "output_type": "execute_result"
    }
   ],
   "source": [
    "df.isnull().any().sum()"
   ]
  },
  {
   "cell_type": "code",
   "execution_count": 96,
   "id": "d20b38c0",
   "metadata": {},
   "outputs": [],
   "source": [
    "# Selecting dependent and independent variable\n",
    "X=df.drop('target',axis=1)\n",
    "y=df.target"
   ]
  },
  {
   "cell_type": "code",
   "execution_count": 97,
   "id": "bee81e44",
   "metadata": {},
   "outputs": [],
   "source": [
    "# making an instance of the model\n",
    "model=KMeans(n_clusters=10)"
   ]
  },
  {
   "cell_type": "code",
   "execution_count": 98,
   "id": "027e78d2",
   "metadata": {},
   "outputs": [
    {
     "data": {
      "text/plain": [
       "KMeans(n_clusters=10)"
      ]
     },
     "execution_count": 98,
     "metadata": {},
     "output_type": "execute_result"
    }
   ],
   "source": [
    "model.fit(X)"
   ]
  },
  {
   "cell_type": "code",
   "execution_count": 99,
   "id": "ada99fde",
   "metadata": {},
   "outputs": [],
   "source": [
    "ypred=model.predict(X)"
   ]
  },
  {
   "cell_type": "code",
   "execution_count": 100,
   "id": "c321788a",
   "metadata": {},
   "outputs": [
    {
     "data": {
      "text/html": [
       "<div>\n",
       "<style scoped>\n",
       "    .dataframe tbody tr th:only-of-type {\n",
       "        vertical-align: middle;\n",
       "    }\n",
       "\n",
       "    .dataframe tbody tr th {\n",
       "        vertical-align: top;\n",
       "    }\n",
       "\n",
       "    .dataframe thead th {\n",
       "        text-align: right;\n",
       "    }\n",
       "</style>\n",
       "<table border=\"1\" class=\"dataframe\">\n",
       "  <thead>\n",
       "    <tr style=\"text-align: right;\">\n",
       "      <th></th>\n",
       "      <th>pixel_0_0</th>\n",
       "      <th>pixel_0_1</th>\n",
       "      <th>pixel_0_2</th>\n",
       "      <th>pixel_0_3</th>\n",
       "      <th>pixel_0_4</th>\n",
       "      <th>pixel_0_5</th>\n",
       "      <th>pixel_0_6</th>\n",
       "      <th>...</th>\n",
       "      <th>pixel_7_1</th>\n",
       "      <th>pixel_7_2</th>\n",
       "      <th>pixel_7_3</th>\n",
       "      <th>pixel_7_4</th>\n",
       "      <th>pixel_7_5</th>\n",
       "      <th>pixel_7_6</th>\n",
       "      <th>pixel_7_7</th>\n",
       "    </tr>\n",
       "  </thead>\n",
       "  <tbody>\n",
       "    <tr>\n",
       "      <th>0</th>\n",
       "      <td>0.0</td>\n",
       "      <td>0.0</td>\n",
       "      <td>5.0</td>\n",
       "      <td>13.0</td>\n",
       "      <td>9.0</td>\n",
       "      <td>1.0</td>\n",
       "      <td>0.0</td>\n",
       "      <td>...</td>\n",
       "      <td>0.0</td>\n",
       "      <td>6.0</td>\n",
       "      <td>13.0</td>\n",
       "      <td>10.0</td>\n",
       "      <td>0.0</td>\n",
       "      <td>0.0</td>\n",
       "      <td>0.0</td>\n",
       "    </tr>\n",
       "  </tbody>\n",
       "</table>\n",
       "<p>1 rows × 64 columns</p>\n",
       "</div>"
      ],
      "text/plain": [
       "   pixel_0_0  pixel_0_1  pixel_0_2  pixel_0_3  pixel_0_4  pixel_0_5  \\\n",
       "0        0.0        0.0        5.0       13.0        9.0        1.0   \n",
       "\n",
       "   pixel_0_6  ...  pixel_7_1  pixel_7_2  pixel_7_3  pixel_7_4  pixel_7_5  \\\n",
       "0        0.0  ...        0.0        6.0       13.0       10.0        0.0   \n",
       "\n",
       "   pixel_7_6  pixel_7_7  \n",
       "0        0.0        0.0  \n",
       "\n",
       "[1 rows x 64 columns]"
      ]
     },
     "execution_count": 100,
     "metadata": {},
     "output_type": "execute_result"
    }
   ],
   "source": [
    "X[0:1]"
   ]
  },
  {
   "cell_type": "code",
   "execution_count": 102,
   "id": "b7eb023d",
   "metadata": {},
   "outputs": [],
   "source": [
    "a=model.predict(X[0:1])"
   ]
  },
  {
   "cell_type": "code",
   "execution_count": 103,
   "id": "b3256c8b",
   "metadata": {},
   "outputs": [
    {
     "name": "stdout",
     "output_type": "stream",
     "text": [
      "[1]\n"
     ]
    }
   ],
   "source": [
    "print(a)"
   ]
  },
  {
   "cell_type": "code",
   "execution_count": 104,
   "id": "30f2c627",
   "metadata": {},
   "outputs": [],
   "source": [
    "### kmeans model attributes"
   ]
  },
  {
   "cell_type": "code",
   "execution_count": 105,
   "id": "755c9b43",
   "metadata": {},
   "outputs": [
    {
     "data": {
      "text/plain": [
       "array([1, 8, 8, ..., 8, 9, 9])"
      ]
     },
     "execution_count": 105,
     "metadata": {},
     "output_type": "execute_result"
    }
   ],
   "source": [
    "model.labels_"
   ]
  },
  {
   "cell_type": "code",
   "execution_count": 106,
   "id": "f83612fe",
   "metadata": {},
   "outputs": [
    {
     "data": {
      "text/plain": [
       "10"
      ]
     },
     "execution_count": 106,
     "metadata": {},
     "output_type": "execute_result"
    }
   ],
   "source": [
    "model.n_clusters"
   ]
  },
  {
   "cell_type": "markdown",
   "id": "6b9ef940",
   "metadata": {},
   "source": [
    "**THIS IS THE END OF THE NOTEBOOK**"
   ]
  },
  {
   "cell_type": "code",
   "execution_count": null,
   "id": "6acfe12b",
   "metadata": {},
   "outputs": [],
   "source": []
  }
 ],
 "metadata": {
  "kernelspec": {
   "display_name": "Python 3 (ipykernel)",
   "language": "python",
   "name": "python3"
  },
  "language_info": {
   "codemirror_mode": {
    "name": "ipython",
    "version": 3
   },
   "file_extension": ".py",
   "mimetype": "text/x-python",
   "name": "python",
   "nbconvert_exporter": "python",
   "pygments_lexer": "ipython3",
   "version": "3.9.16"
  }
 },
 "nbformat": 4,
 "nbformat_minor": 5
}

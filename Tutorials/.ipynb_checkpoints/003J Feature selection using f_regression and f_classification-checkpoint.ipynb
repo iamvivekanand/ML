{
 "cells": [
  {
   "cell_type": "code",
   "execution_count": 1,
   "id": "2fbe9594",
   "metadata": {},
   "outputs": [],
   "source": [
    "from sklearn.datasets import make_regression\n",
    "from sklearn.feature_selection import SelectKBest, f_regression"
   ]
  },
  {
   "cell_type": "code",
   "execution_count": 2,
   "id": "e87fa374",
   "metadata": {},
   "outputs": [],
   "source": [
    "X,y=make_regression(n_samples=200,n_features=50, n_informative=10)"
   ]
  },
  {
   "cell_type": "code",
   "execution_count": 3,
   "id": "f3903bb6",
   "metadata": {},
   "outputs": [
    {
     "data": {
      "text/plain": [
       "(200, 50)"
      ]
     },
     "execution_count": 3,
     "metadata": {},
     "output_type": "execute_result"
    }
   ],
   "source": [
    "X.shape"
   ]
  },
  {
   "cell_type": "code",
   "execution_count": 4,
   "id": "e9e189da",
   "metadata": {},
   "outputs": [
    {
     "data": {
      "text/plain": [
       "numpy.ndarray"
      ]
     },
     "execution_count": 4,
     "metadata": {},
     "output_type": "execute_result"
    }
   ],
   "source": [
    "type(X)"
   ]
  },
  {
   "cell_type": "code",
   "execution_count": 5,
   "id": "884db690",
   "metadata": {},
   "outputs": [],
   "source": [
    "fs=SelectKBest(score_func=f_regression,k=10)"
   ]
  },
  {
   "cell_type": "code",
   "execution_count": 6,
   "id": "83bdbfaa",
   "metadata": {},
   "outputs": [
    {
     "data": {
      "text/plain": [
       "(200, 10)"
      ]
     },
     "execution_count": 6,
     "metadata": {},
     "output_type": "execute_result"
    }
   ],
   "source": [
    "Xbest=fs.fit_transform(X,y)\n",
    "Xbest.shape"
   ]
  },
  {
   "cell_type": "markdown",
   "id": "8b750ea8",
   "metadata": {},
   "source": [
    "### Classification"
   ]
  },
  {
   "cell_type": "code",
   "execution_count": 8,
   "id": "01ed0b66",
   "metadata": {},
   "outputs": [],
   "source": [
    "from sklearn.datasets import make_classification\n",
    "X,y=make_classification(n_samples=200,n_features=30,n_informative=3)"
   ]
  },
  {
   "cell_type": "code",
   "execution_count": 10,
   "id": "68862d8b",
   "metadata": {},
   "outputs": [],
   "source": [
    "from sklearn.feature_selection import SelectKBest,f_classif\n",
    "fs=SelectKBest(score_func=f_classif,k=2)"
   ]
  },
  {
   "cell_type": "code",
   "execution_count": 12,
   "id": "3aea5898",
   "metadata": {},
   "outputs": [
    {
     "name": "stdout",
     "output_type": "stream",
     "text": [
      "(200, 30)\n",
      "(200, 2)\n"
     ]
    }
   ],
   "source": [
    "X_selected=fs.fit_transform(X,y)\n",
    "print(X.shape)\n",
    "print(X_selected.shape)\n"
   ]
  },
  {
   "cell_type": "code",
   "execution_count": null,
   "id": "f78a8196",
   "metadata": {},
   "outputs": [],
   "source": []
  }
 ],
 "metadata": {
  "kernelspec": {
   "display_name": "Python 3 (ipykernel)",
   "language": "python",
   "name": "python3"
  },
  "language_info": {
   "codemirror_mode": {
    "name": "ipython",
    "version": 3
   },
   "file_extension": ".py",
   "mimetype": "text/x-python",
   "name": "python",
   "nbconvert_exporter": "python",
   "pygments_lexer": "ipython3",
   "version": "3.9.16"
  }
 },
 "nbformat": 4,
 "nbformat_minor": 5
}

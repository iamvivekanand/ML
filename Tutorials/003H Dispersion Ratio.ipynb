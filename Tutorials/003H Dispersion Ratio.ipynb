{
 "cells": [
  {
   "cell_type": "code",
   "execution_count": 1,
   "id": "07e71a74",
   "metadata": {},
   "outputs": [],
   "source": [
    "# Dispersion Ratio"
   ]
  },
  {
   "attachments": {
    "image.png": {
     "image/png": "[encoded data removed]"
    }
   },
   "cell_type": "markdown",
   "id": "d197b6a8",
   "metadata": {},
   "source": [
    "- also known as the coefficient of dispersion\n",
    "- gives degree of variability or spread in a dataset relative to its mean (central tendency)\n",
    "- The dispersion ratio is calculated as the ratio of the standard deviation (σ) to the absolute mean deviation (MAD) or average absolute deviation (AAD). \n",
    "- A higher dispersion ratio indicates greater variability relative to the mean, while a lower dispersion ratio indicates less variability.\n",
    "\n",
    "The formula for dispersion ratio (DR) is:\n",
    "\n",
    "![image.png](attachment:image.png)"
   ]
  },
  {
   "cell_type": "code",
   "execution_count": 2,
   "id": "c58f2ee1",
   "metadata": {},
   "outputs": [
    {
     "name": "stdout",
     "output_type": "stream",
     "text": [
      "Standard Deviation (σ): 1.0078822447165796\n",
      "Absolute Mean Deviation (MAD): 0.8052222697425467\n",
      "Dispersion Ratio (DR): 1.251682029408885\n"
     ]
    }
   ],
   "source": [
    "import numpy as np\n",
    "\n",
    "# Generate a sample dataset\n",
    "np.random.seed(0)  # For reproducibility\n",
    "data = np.random.normal(loc=0, scale=1, size=100)  # Sample data from a normal distribution\n",
    "\n",
    "# Calculate standard deviation (σ)\n",
    "std_dev = np.std(data)\n",
    "\n",
    "# Calculate absolute mean deviation (MAD)\n",
    "abs_mean_dev = np.mean(np.abs(data - np.mean(data)))\n",
    "\n",
    "# Calculate dispersion ratio (DR)\n",
    "dispersion_ratio = std_dev / abs_mean_dev\n",
    "\n",
    "print(\"Standard Deviation (σ):\", std_dev)\n",
    "print(\"Absolute Mean Deviation (MAD):\", abs_mean_dev)\n",
    "print(\"Dispersion Ratio (DR):\", dispersion_ratio)"
   ]
  },
  {
   "cell_type": "markdown",
   "id": "a41ce8c3",
   "metadata": {},
   "source": [
    "### Feature selection using dispersion ratio"
   ]
  },
  {
   "cell_type": "code",
   "execution_count": 4,
   "id": "9b95f88d",
   "metadata": {},
   "outputs": [
    {
     "name": "stdout",
     "output_type": "stream",
     "text": [
      "Selected features based on dispersion ratio: ['sepal width (cm)', 'sepal length (cm)']\n"
     ]
    }
   ],
   "source": [
    "import numpy as np\n",
    "from sklearn.datasets import load_iris\n",
    "from sklearn.feature_selection import SelectKBest\n",
    "from sklearn.feature_selection import f_regression\n",
    "\n",
    "# Load the Iris dataset (or any other dataset you want to use)\n",
    "iris = load_iris()\n",
    "X, y = iris.data, iris.target\n",
    "\n",
    "# Define a function to calculate the dispersion ratio for a feature\n",
    "def dispersion_ratio(X_feature):\n",
    "    std_dev = np.std(X_feature)  # Calculate standard deviation\n",
    "    abs_mean_dev = np.mean(np.abs(X_feature - np.mean(X_feature)))  # Calculate absolute mean deviation\n",
    "    return std_dev / abs_mean_dev  # Calculate dispersion ratio\n",
    "\n",
    "# Calculate dispersion ratio for each feature\n",
    "dispersion_ratios = [dispersion_ratio(X[:, i]) for i in range(X.shape[1])]\n",
    "\n",
    "# Sort features based on dispersion ratio (higher ratio means more dispersion)\n",
    "sorted_indices = np.argsort(dispersion_ratios)[::-1]  # Sort in descending order\n",
    "\n",
    "# Select top k features based on dispersion ratio\n",
    "k = 2  # Number of features to select\n",
    "selected_indices = sorted_indices[:k]\n",
    "\n",
    "# Apply feature selection using SelectKBest with f_regression as the scoring function\n",
    "k_best_features = SelectKBest(score_func=f_regression, k=k)\n",
    "X_new = k_best_features.fit_transform(X, y)\n",
    "\n",
    "# Get the indices of the selected features\n",
    "selected_feature_names = [iris.feature_names[i] for i in selected_indices]\n",
    "print(\"Selected features based on dispersion ratio:\", selected_feature_names)\n"
   ]
  },
  {
   "cell_type": "code",
   "execution_count": null,
   "id": "11836d66",
   "metadata": {},
   "outputs": [],
   "source": []
  }
 ],
 "metadata": {
  "kernelspec": {
   "display_name": "Python 3 (ipykernel)",
   "language": "python",
   "name": "python3"
  },
  "language_info": {
   "codemirror_mode": {
    "name": "ipython",
    "version": 3
   },
   "file_extension": ".py",
   "mimetype": "text/x-python",
   "name": "python",
   "nbconvert_exporter": "python",
   "pygments_lexer": "ipython3",
   "version": "3.9.16"
  }
 },
 "nbformat": 4,
 "nbformat_minor": 5
}

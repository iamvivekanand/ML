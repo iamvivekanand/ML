{
 "cells": [
  {
   "cell_type": "markdown",
   "metadata": {},
   "source": [
    "### Random Forest Algorithm"
   ]
  },
  {
   "cell_type": "markdown",
   "metadata": {},
   "source": [
    "- its SML algorithm\n",
    "- In the real world, a forest is a combination of trees and in the machine learning world, a Random forest is a combination /ensemble of Decision Trees.\n",
    "- based on the concept of ensemble learning,which is a process of combining multiple models to solve a complex problem and to improve the performance of the model.\n",
    "- Based on more than Decision Tree\n",
    "- counts majority of votes for classification, and average for regression\n"
   ]
  },
  {
   "cell_type": "code",
   "execution_count": 1,
   "metadata": {},
   "outputs": [],
   "source": [
    "# Assumptions for Random Forest"
   ]
  },
  {
   "cell_type": "markdown",
   "metadata": {},
   "source": [
    "There should be some actual values in the feature variable of the dataset so that the classifier can predict accurate results rather than a guessed result.\n",
    "\n",
    "The predictions from each tree must have very low correlations."
   ]
  },
  {
   "cell_type": "code",
   "execution_count": 2,
   "metadata": {},
   "outputs": [],
   "source": [
    "### Why use Random Forest?"
   ]
  },
  {
   "cell_type": "markdown",
   "metadata": {},
   "source": [
    "- less training time as compared to other .\n",
    "- gives high accuracy, even for the large dataset it runs efficiently.\n",
    "- can maintain accuracy when a large proportion of data is missing.\n",
    "- Normalising of data is not required as it uses a rule-based approach.\n",
    "\n",
    "- Accuracy of Random forest is generally very high\n",
    "- Its efficiency is particularly Notable in Large Data sets\n",
    "- Provides an estimate of important variables in classification\n",
    "- Forests Generated can be saved and reused\n",
    "- Unlike other models It does nt overfit with more features, bcoz The Features selected for each tree is Random, so the trees do not get deep and are focused only on the set of features.\n",
    "\n",
    "If a decision tree considers all the features, the depth of the tree would keep increasing causing an over fit model."
   ]
  },
  {
   "cell_type": "code",
   "execution_count": null,
   "metadata": {},
   "outputs": [],
   "source": [
    "### How does Random Forest algorithm work?"
   ]
  },
  {
   "cell_type": "markdown",
   "metadata": {},
   "source": [
    "- it select K random data points from the dataset, or create random subsets of features\n",
    "- build decision tree on every subset\n",
    "- each decision tree has its own different output\n",
    "- it combines the output of various DT and based on majority of decision outcome, it classifies the new data point.\n",
    "\n",
    "Each tree would have 3 major nodes\n",
    "\n",
    "    Root Node\n",
    "    Leaf Node\n",
    "    Decision Node\n",
    "    \n",
    "The node where the final decision is made is called ‘Leaf Node ‘, The function to decide is made in the ‘Decision Node’, the ‘Root Node’ is where the data is stored.\n",
    "\n",
    "Features selected will be random and may repeat across trees, this increases the efficiency and compensates for missing data.\n",
    "\n",
    "The entropy or the information gained is an important parameter used to decide the tree split. When the branches are created, total entropy of the subbranches should be less than the entropy of the Parent Node. If the entropy drops, information gained also drops, which is a criterion used to stop further split of the tree.\n",
    "\n",
    "Random Forest provides much better accuracy and efficiency than a decision tree, this comes at a cost of storage and computational power."
   ]
  },
  {
   "cell_type": "markdown",
   "metadata": {},
   "source": [
    "### Hyperparameters"
   ]
  },
  {
   "cell_type": "markdown",
   "metadata": {},
   "source": [
    "n_estimators:\n",
    "\n",
    "    number of Trees in the Forest, higher the number, we create a more robust aggregate model, but that would cost more computational power.\n",
    "max_depth:\n",
    "\n",
    "    number of levels/depth of each tree. Creating more levels increases the possibility of considering more features in each tree. A deep tree would create an overfit model,\n",
    "    \n",
    "max_features:\n",
    "\n",
    "bootstrap: method used for sampling data points,"
   ]
  },
  {
   "cell_type": "markdown",
   "metadata": {},
   "source": []
  },
  {
   "cell_type": "code",
   "execution_count": null,
   "metadata": {},
   "outputs": [],
   "source": []
  },
  {
   "cell_type": "code",
   "execution_count": null,
   "metadata": {},
   "outputs": [],
   "source": []
  },
  {
   "cell_type": "code",
   "execution_count": null,
   "metadata": {},
   "outputs": [],
   "source": []
  },
  {
   "cell_type": "code",
   "execution_count": 1,
   "metadata": {},
   "outputs": [],
   "source": [
    "### Advantages of Random Forest"
   ]
  },
  {
   "cell_type": "markdown",
   "metadata": {},
   "source": [
    "- used for both Classification and Regression tasks.\n",
    "- can handle large datasets with high dimensionality.\n",
    "- high accuracy\n",
    "- can overcome overfitting issue, \n",
    "- has less variance then single decision tree\n",
    "- Scaling/normalization of data does not require in random forest algorithm. It maintains good accuracy even after providing data without scaling, as it uses a rule-based approach.\n",
    "\n",
    "- maintains good accuracy even a large proportion of the data is missing"
   ]
  },
  {
   "cell_type": "code",
   "execution_count": null,
   "metadata": {},
   "outputs": [],
   "source": [
    "### Disadvantages of Random Forest"
   ]
  },
  {
   "cell_type": "markdown",
   "metadata": {},
   "source": [
    "- Complexity or More computational power is the main disadvantage\n",
    "- Takes more time in training, Construction of RF are much harder and time-consuming than decision trees.\n",
    "- More computational resources are required\n",
    "- prediction process is very time consuming than other algorithms"
   ]
  },
  {
   "cell_type": "markdown",
   "metadata": {},
   "source": [
    "### Python Implementation of Random Forest Algorithm"
   ]
  },
  {
   "cell_type": "code",
   "execution_count": 3,
   "metadata": {},
   "outputs": [],
   "source": [
    "import seaborn as sns"
   ]
  },
  {
   "cell_type": "code",
   "execution_count": 4,
   "metadata": {},
   "outputs": [],
   "source": [
    "df=sns.load_dataset('iris')"
   ]
  },
  {
   "cell_type": "code",
   "execution_count": 5,
   "metadata": {},
   "outputs": [
    {
     "data": {
      "text/html": [
       "<div>\n",
       "<style scoped>\n",
       "    .dataframe tbody tr th:only-of-type {\n",
       "        vertical-align: middle;\n",
       "    }\n",
       "\n",
       "    .dataframe tbody tr th {\n",
       "        vertical-align: top;\n",
       "    }\n",
       "\n",
       "    .dataframe thead th {\n",
       "        text-align: right;\n",
       "    }\n",
       "</style>\n",
       "<table border=\"1\" class=\"dataframe\">\n",
       "  <thead>\n",
       "    <tr style=\"text-align: right;\">\n",
       "      <th></th>\n",
       "      <th>sepal_length</th>\n",
       "      <th>sepal_width</th>\n",
       "      <th>petal_length</th>\n",
       "      <th>petal_width</th>\n",
       "      <th>species</th>\n",
       "    </tr>\n",
       "  </thead>\n",
       "  <tbody>\n",
       "    <tr>\n",
       "      <th>0</th>\n",
       "      <td>5.1</td>\n",
       "      <td>3.5</td>\n",
       "      <td>1.4</td>\n",
       "      <td>0.2</td>\n",
       "      <td>setosa</td>\n",
       "    </tr>\n",
       "    <tr>\n",
       "      <th>1</th>\n",
       "      <td>4.9</td>\n",
       "      <td>3.0</td>\n",
       "      <td>1.4</td>\n",
       "      <td>0.2</td>\n",
       "      <td>setosa</td>\n",
       "    </tr>\n",
       "  </tbody>\n",
       "</table>\n",
       "</div>"
      ],
      "text/plain": [
       "   sepal_length  sepal_width  petal_length  petal_width species\n",
       "0           5.1          3.5           1.4          0.2  setosa\n",
       "1           4.9          3.0           1.4          0.2  setosa"
      ]
     },
     "execution_count": 5,
     "metadata": {},
     "output_type": "execute_result"
    }
   ],
   "source": [
    "df.head(2)"
   ]
  },
  {
   "cell_type": "code",
   "execution_count": 6,
   "metadata": {},
   "outputs": [],
   "source": [
    "X=df.drop('species',axis='columns')\n",
    "y=df.species"
   ]
  },
  {
   "cell_type": "code",
   "execution_count": 7,
   "metadata": {},
   "outputs": [
    {
     "data": {
      "text/plain": [
       "pandas.core.frame.DataFrame"
      ]
     },
     "execution_count": 7,
     "metadata": {},
     "output_type": "execute_result"
    }
   ],
   "source": [
    "type(X)"
   ]
  },
  {
   "cell_type": "code",
   "execution_count": 8,
   "metadata": {},
   "outputs": [
    {
     "data": {
      "text/plain": [
       "pandas.core.series.Series"
      ]
     },
     "execution_count": 8,
     "metadata": {},
     "output_type": "execute_result"
    }
   ],
   "source": [
    "type(y)"
   ]
  },
  {
   "cell_type": "code",
   "execution_count": 9,
   "metadata": {},
   "outputs": [],
   "source": [
    "from sklearn.preprocessing import LabelEncoder\n",
    "le=LabelEncoder()"
   ]
  },
  {
   "cell_type": "code",
   "execution_count": 10,
   "metadata": {},
   "outputs": [],
   "source": [
    "y=le.fit_transform(y)"
   ]
  },
  {
   "cell_type": "code",
   "execution_count": 11,
   "metadata": {},
   "outputs": [],
   "source": [
    "from sklearn.model_selection import train_test_split"
   ]
  },
  {
   "cell_type": "code",
   "execution_count": 12,
   "metadata": {},
   "outputs": [],
   "source": [
    "X_train,X_test,y_train,y_test=train_test_split(X,y,test_size=0.25,random_state=1)"
   ]
  },
  {
   "cell_type": "code",
   "execution_count": 13,
   "metadata": {},
   "outputs": [],
   "source": [
    "from sklearn.ensemble import RandomForestClassifier"
   ]
  },
  {
   "cell_type": "code",
   "execution_count": 14,
   "metadata": {},
   "outputs": [
    {
     "data": {
      "text/plain": [
       "RandomForestClassifier(criterion='entropy', n_estimators=10)"
      ]
     },
     "execution_count": 14,
     "metadata": {},
     "output_type": "execute_result"
    }
   ],
   "source": [
    "model=RandomForestClassifier(n_estimators=10,criterion='entropy')\n",
    "model.fit(X_train,y_train)"
   ]
  },
  {
   "cell_type": "code",
   "execution_count": 15,
   "metadata": {},
   "outputs": [
    {
     "data": {
      "text/plain": [
       "0.9910714285714286"
      ]
     },
     "execution_count": 15,
     "metadata": {},
     "output_type": "execute_result"
    }
   ],
   "source": [
    "model.score(X_train,y_train)"
   ]
  },
  {
   "cell_type": "code",
   "execution_count": 16,
   "metadata": {},
   "outputs": [
    {
     "data": {
      "text/plain": [
       "0.9736842105263158"
      ]
     },
     "execution_count": 16,
     "metadata": {},
     "output_type": "execute_result"
    }
   ],
   "source": [
    "model.score(X_test,y_test)"
   ]
  },
  {
   "cell_type": "code",
   "execution_count": 17,
   "metadata": {},
   "outputs": [],
   "source": [
    "# defining prediction vector\n",
    "y_pred=model.predict(X_test)"
   ]
  },
  {
   "cell_type": "code",
   "execution_count": 18,
   "metadata": {},
   "outputs": [
    {
     "data": {
      "text/plain": [
       "0.9736842105263158"
      ]
     },
     "execution_count": 18,
     "metadata": {},
     "output_type": "execute_result"
    }
   ],
   "source": [
    "# accuracy of the model\n",
    "from sklearn.metrics import accuracy_score\n",
    "accuracy_score(y_test,y_pred)"
   ]
  },
  {
   "cell_type": "markdown",
   "metadata": {},
   "source": [
    "### Parameter's Description"
   ]
  },
  {
   "cell_type": "markdown",
   "metadata": {},
   "source": [
    "n_estimators:\n",
    "\n",
    "The required number of trees in the Random Forest. The default value is 10. We can choose any number but need to take care of the overfitting issue\n",
    ".\n",
    "criterion:\n",
    "\n",
    "It is a function to analyze the accuracy of the split. Here we have taken \"entropy\" for the information gain."
   ]
  },
  {
   "cell_type": "markdown",
   "metadata": {},
   "source": [
    "    RandomForestClassifier(\n",
    "        n_estimators=100,\n",
    "        criterion='gini',\n",
    "        max_depth=None,\n",
    "        min_samples_split=2,\n",
    "        min_samples_leaf=1,\n",
    "        min_weight_fraction_leaf=0.0,\n",
    "        max_features='auto',\n",
    "        max_leaf_nodes=None,\n",
    "        min_impurity_decrease=0.0,\n",
    "        min_impurity_split=None,\n",
    "        bootstrap=True,\n",
    "        oob_score=False,\n",
    "        n_jobs=None,\n",
    "        random_state=None,\n",
    "        verbose=0,\n",
    "        warm_start=False,\n",
    "        class_weight=None,\n",
    "        ccp_alpha=0.0,\n",
    "        max_samples=None,)"
   ]
  },
  {
   "cell_type": "markdown",
   "metadata": {},
   "source": [
    "\n",
    "    The sub-sample size is controlled with the `max_samples` parameter if\n",
    "    `bootstrap=True` (default), otherwise the whole dataset is used to build\n",
    "    each tree.\n",
    "    \n",
    "    If bootstrap=True, subset is is used. if False then not."
   ]
  },
  {
   "cell_type": "markdown",
   "metadata": {},
   "source": [
    "n_estimators : int, default=100, The number of trees in the forest, The default value of ``n_estimators`` changed from 10 to 100 in 0.22."
   ]
  },
  {
   "cell_type": "markdown",
   "metadata": {},
   "source": [
    "criterion : {\"gini\", \"entropy\"}, default=\"gini\",  \n",
    "    The function to measure the quality of a split. Supported criteria are\n",
    "    \"gini\" for the Gini impurity and \"entropy\" for the information gain.\n",
    "    Note: this parameter is tree-specific."
   ]
  },
  {
   "cell_type": "markdown",
   "metadata": {},
   "source": [
    "max_depth : int, default=None\n",
    "    The maximum depth of the tree.  \n",
    "    If None, then nodes are expanded until\n",
    "    all leaves are pure or until all leaves contain less than\n",
    "    min_samples_split samples."
   ]
  },
  {
   "cell_type": "markdown",
   "metadata": {},
   "source": [
    "min_samples_split : int or float, default=2\n",
    "    The minimum number of samples required to split an internal node:\n",
    "    \n",
    "    - If int, then consider `min_samples_split` as the minimum number.\n",
    "    - If float, then `min_samples_split` is a fraction and\n",
    "      `ceil(min_samples_split * n_samples)` are the minimum\n",
    "      number of samples for each split.\n",
    "\n",
    "    .. versionchanged:: 0.18\n",
    "       Added float values for fractions"
   ]
  },
  {
   "cell_type": "markdown",
   "metadata": {},
   "source": [
    "    min_samples_leaf : int or float, default=1\n",
    "        The minimum number of samples required to be at a leaf node.\n",
    "        A split point at any depth will only be considered if it leaves at\n",
    "        least ``min_samples_leaf`` training samples in each of the left and\n",
    "        right branches.  This may have the effect of smoothing the model,\n",
    "        especially in regression.\n",
    "\n",
    "        - If int, then consider `min_samples_leaf` as the minimum number.\n",
    "        - If float, then `min_samples_leaf` is a fraction and\n",
    "          `ceil(min_samples_leaf * n_samples)` are the minimum\n",
    "          number of samples for each node.\n",
    "\n",
    "        .. versionchanged:: 0.18\n",
    "           Added float values for fractions."
   ]
  },
  {
   "cell_type": "markdown",
   "metadata": {},
   "source": [
    "    min_weight_fraction_leaf : float, default=0.0\n",
    "        The minimum weighted fraction of the sum total of weights (of all\n",
    "        the input samples) required to be at a leaf node. Samples have\n",
    "        equal weight when sample_weight is not provided."
   ]
  },
  {
   "cell_type": "markdown",
   "metadata": {},
   "source": [
    "max_features : {\"auto\", \"sqrt\", \"log2\"}, int or float, default=\"auto\"\n",
    "    The number of features to consider when looking for the best split:\n",
    "\n",
    "    - If int, then consider `max_features` features at each split.\n",
    "    - If float, then `max_features` is a fraction and\n",
    "      `round(max_features * n_features)` features are considered at each\n",
    "      split.\n",
    "    - If \"auto\", then `max_features=sqrt(n_features)`.\n",
    "    - If \"sqrt\", then `max_features=sqrt(n_features)` (same as \"auto\").\n",
    "    - If \"log2\", then `max_features=log2(n_features)`.\n",
    "    - If None, then `max_features=n_features`.\n",
    "\n",
    "    Note: the search for a split does not stop until at least one\n",
    "    valid partition of the node samples is found, even if it requires to\n",
    "    effectively inspect more than ``max_features`` features."
   ]
  },
  {
   "cell_type": "markdown",
   "metadata": {},
   "source": [
    "    max_leaf_nodes : int, default=None\n",
    "        Grow trees with ``max_leaf_nodes`` in best-first fashion.\n",
    "        Best nodes are defined as relative reduction in impurity.\n",
    "        If None then unlimited number of leaf nodes."
   ]
  },
  {
   "cell_type": "markdown",
   "metadata": {},
   "source": [
    "    min_impurity_decrease : float, default=0.0\n",
    "        A node will be split if this split induces a decrease of the impurity\n",
    "        greater than or equal to this value.\n",
    "\n",
    "        The weighted impurity decrease equation is the following::\n",
    "\n",
    "            N_t / N * (impurity - N_t_R / N_t * right_impurity\n",
    "                                - N_t_L / N_t * left_impurity)\n",
    "\n",
    "        where ``N`` is the total number of samples, ``N_t`` is the number of\n",
    "        samples at the current node, ``N_t_L`` is the number of samples in the\n",
    "        left child, and ``N_t_R`` is the number of samples in the right child.\n",
    "\n",
    "        ``N``, ``N_t``, ``N_t_R`` and ``N_t_L`` all refer to the weighted sum,\n",
    "        if ``sample_weight`` is passed.\n",
    "\n",
    "        .. versionadded:: 0.19"
   ]
  },
  {
   "cell_type": "markdown",
   "metadata": {},
   "source": [
    "min_impurity_split : float, default=None\n",
    "    Threshold for early stopping in tree growth. A node will split\n",
    "    if its impurity is above the threshold, otherwise it is a leaf.\n",
    "\n",
    "    .. deprecated:: 0.19\n",
    "       ``min_impurity_split`` has been deprecated in favor of\n",
    "       ``min_impurity_decrease`` in 0.19. The default value of\n",
    "       ``min_impurity_split`` has changed from 1e-7 to 0 in 0.23 and it\n",
    "       will be removed in 1.0 (renaming of 0.25).\n",
    "       Use ``min_impurity_decrease`` instead."
   ]
  },
  {
   "cell_type": "markdown",
   "metadata": {},
   "source": [
    "    bootstrap : bool, default=True\n",
    "        Whether bootstrap samples are used when building trees. If False, the\n",
    "        whole dataset is used to build each tree."
   ]
  },
  {
   "cell_type": "markdown",
   "metadata": {},
   "source": [
    "    oob_score : bool, default=False\n",
    "        Whether to use out-of-bag samples to estimate the generalization score.\n",
    "        Only available if bootstrap=True."
   ]
  },
  {
   "cell_type": "markdown",
   "metadata": {},
   "source": [
    "    n_jobs : int, default=None\n",
    "        The number of jobs to run in parallel. :meth:`fit`, :meth:`predict`,\n",
    "        :meth:`decision_path` and :meth:`apply` are all parallelized over the\n",
    "        trees. ``None`` means 1 unless in a :obj:`joblib.parallel_backend`\n",
    "        context. ``-1`` means using all processors. See :term:`Glossary\n",
    "        <n_jobs>` for more details"
   ]
  },
  {
   "cell_type": "markdown",
   "metadata": {},
   "source": [
    "    random_state : int, RandomState instance or None, default=None\n",
    "        Controls both the randomness of the bootstrapping of the samples used\n",
    "        when building trees (if ``bootstrap=True``) and the sampling of the\n",
    "        features to consider when looking for the best split at each node\n",
    "        (if ``max_features < n_features``).\n",
    "        See :term:`Glossary <random_state>` for details."
   ]
  },
  {
   "cell_type": "markdown",
   "metadata": {},
   "source": [
    "    verbose : int, default=0\n",
    "        Controls the verbosity when fitting and predicting."
   ]
  },
  {
   "cell_type": "markdown",
   "metadata": {},
   "source": [
    "    warm_start : bool, default=False\n",
    "        When set to ``True``, reuse the solution of the previous call to fit\n",
    "        and add more estimators to the ensemble, otherwise, just fit a whole\n",
    "        new forest. See :term:`the Glossary <warm_start>`."
   ]
  },
  {
   "cell_type": "markdown",
   "metadata": {},
   "source": [
    "    class_weight : {\"balanced\", \"balanced_subsample\"}, dict or list of dicts,             default=None\n",
    "        Weights associated with classes in the form ``{class_label: weight}``.\n",
    "        If not given, all classes are supposed to have weight one. For\n",
    "        multi-output problems, a list of dicts can be provided in the same\n",
    "        order as the columns of y.\n",
    "\n",
    "        Note that for multioutput (including multilabel) weights should be\n",
    "        defined for each class of every column in its own dict. For example,\n",
    "        for four-class multilabel classification weights should be\n",
    "        [{0: 1, 1: 1}, {0: 1, 1: 5}, {0: 1, 1: 1}, {0: 1, 1: 1}] instead of\n",
    "        [{1:1}, {2:5}, {3:1}, {4:1}].\n",
    "\n",
    "        The \"balanced\" mode uses the values of y to automatically adjust\n",
    "        weights inversely proportional to class frequencies in the input data\n",
    "        as ``n_samples / (n_classes * np.bincount(y))``\n",
    "\n",
    "        The \"balanced_subsample\" mode is the same as \"balanced\" except that\n",
    "        weights are computed based on the bootstrap sample for every tree\n",
    "        grown.\n",
    "\n",
    "        For multi-output, the weights of each column of y will be multiplied.\n",
    "\n",
    "        Note that these weights will be multiplied with sample_weight (passed\n",
    "        through the fit method) if sample_weight is specified."
   ]
  },
  {
   "cell_type": "markdown",
   "metadata": {},
   "source": [
    "    ccp_alpha : non-negative float, default=0.0\n",
    "        Complexity parameter used for Minimal Cost-Complexity Pruning. The\n",
    "        subtree with the largest cost complexity that is smaller than\n",
    "        ``ccp_alpha`` will be chosen. By default, no pruning is performed. See\n",
    "        :ref:`minimal_cost_complexity_pruning` for details.\n",
    "\n",
    "        .. versionadded:: 0.22\n",
    "\n",
    "    max_samples : int or float, default=None\n",
    "        If bootstrap is True, the number of samples to draw from X\n",
    "        to train each base estimator.\n",
    "\n",
    "        - If None (default), then draw `X.shape[0]` samples.\n",
    "        - If int, then draw `max_samples` samples.\n",
    "        - If float, then draw `max_samples * X.shape[0]` samples. Thus,\n",
    "          `max_samples` should be in the interval `(0, 1)`.\n",
    "\n",
    "        .. versionadded:: 0.22\n",
    "\n",
    "    Attributes\n",
    "    ----------\n",
    "    base_estimator_ : DecisionTreeClassifier\n",
    "        The child estimator template used to create the collection of fitted\n",
    "        sub-estimators.\n",
    "\n",
    "    estimators_ : list of DecisionTreeClassifier\n",
    "        The collection of fitted sub-estimators.\n",
    "\n",
    "    classes_ : ndarray of shape (n_classes,) or a list of such arrays\n",
    "        The classes labels (single output problem), or a list of arrays of\n",
    "        class labels (multi-output problem).\n",
    "\n",
    "    n_classes_ : int or list\n",
    "        The number of classes (single output problem), or a list containing the\n",
    "        number of classes for each output (multi-output problem).\n",
    "\n",
    "    n_features_ : int\n",
    "        The number of features when ``fit`` is performed.\n",
    "\n",
    "    n_outputs_ : int\n",
    "        The number of outputs when ``fit`` is performed.\n",
    "\n",
    "    feature_importances_ : ndarray of shape (n_features,)\n",
    "        The impurity-based feature importances.\n",
    "        The higher, the more important the feature.\n",
    "        The importance of a feature is computed as the (normalized)\n",
    "        total reduction of the criterion brought by that feature.  It is also\n",
    "        known as the Gini importance.\n",
    "\n",
    "        Warning: impurity-based feature importances can be misleading for\n",
    "        high cardinality features (many unique values). See\n",
    "        :func:`sklearn.inspection.permutation_importance` as an alternative.\n",
    "\n",
    "    oob_score_ : float\n",
    "        Score of the training dataset obtained using an out-of-bag estimate.\n",
    "        This attribute exists only when ``oob_score`` is True.\n",
    "\n",
    "    oob_decision_function_ : ndarray of shape (n_samples, n_classes)\n",
    "        Decision function computed with out-of-bag estimate on the training\n",
    "        set. If n_estimators is small it might be possible that a data point\n",
    "        was never left out during the bootstrap. In this case,\n",
    "        `oob_decision_function_` might contain NaN. This attribute exists\n",
    "        only when ``oob_score`` is True.\n",
    "\n",
    "    See Also\n",
    "    --------\n",
    "    DecisionTreeClassifier, ExtraTreesClassifier\n",
    "\n",
    "    Notes\n",
    "    -----\n",
    "    The default values for the parameters controlling the size of the trees\n",
    "    (e.g. ``max_depth``, ``min_samples_leaf``, etc.) lead to fully grown and\n",
    "    unpruned trees which can potentially be very large on some data sets. To\n",
    "    reduce memory consumption, the complexity and size of the trees should be\n",
    "    controlled by setting those parameter values.\n",
    "\n",
    "    The features are always randomly permuted at each split. Therefore,\n",
    "    the best found split may vary, even with the same training data,\n",
    "    ``max_features=n_features`` and ``bootstrap=False``, if the improvement\n",
    "    of the criterion is identical for several splits enumerated during the\n",
    "    search of the best split. To obtain a deterministic behaviour during\n",
    "    fitting, ``random_state`` has to be fixed.\n",
    "\n",
    "    References\n",
    "    ----------\n",
    "    .. [1] L. Breiman, \"Random Forests\", Machine Learning, 45(1), 5-32, 2001.\n",
    "\n",
    "    Examples\n",
    "    --------\n",
    "    >>> from sklearn.ensemble import RandomForestClassifier\n",
    "    >>> from sklearn.datasets import make_classification\n",
    "    >>> X, y = make_classification(n_samples=1000, n_features=4,\n",
    "    ...                            n_informative=2, n_redundant=0,\n",
    "    ...                            random_state=0, shuffle=False)\n",
    "    >>> clf = RandomForestClassifier(max_depth=2, random_state=0)\n",
    "    >>> clf.fit(X, y)\n",
    "    RandomForestClassifier(...)\n",
    "    >>> print(clf.predict([[0, 0, 0, 0]]))     "
   ]
  },
  {
   "cell_type": "code",
   "execution_count": null,
   "metadata": {},
   "outputs": [],
   "source": []
  }
 ],
 "metadata": {
  "kernelspec": {
   "display_name": "Python 3 (ipykernel)",
   "language": "python",
   "name": "python3"
  },
  "language_info": {
   "codemirror_mode": {
    "name": "ipython",
    "version": 3
   },
   "file_extension": ".py",
   "mimetype": "text/x-python",
   "name": "python",
   "nbconvert_exporter": "python",
   "pygments_lexer": "ipython3",
   "version": "3.9.7"
  }
 },
 "nbformat": 4,
 "nbformat_minor": 4
}

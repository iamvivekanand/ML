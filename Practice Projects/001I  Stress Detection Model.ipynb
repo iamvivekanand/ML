{
 "cells": [
  {
   "cell_type": "markdown",
   "id": "2bb7270d",
   "metadata": {},
   "source": [
    "### Stress Detection Model"
   ]
  },
  {
   "cell_type": "raw",
   "id": "5a651b6c",
   "metadata": {},
   "source": [
    "The dataset I am using for this task contains data posted on subreddits related to mental health. This dataset contains various mental health problems shared by people about their life. Fortunately, this dataset is labelled as 0 and 1, where 0 indicates no stress and 1 indicates stress"
   ]
  },
  {
   "cell_type": "raw",
   "id": "59a90a63",
   "metadata": {},
   "source": [
    "import pandas as pd\n",
    "import numpy as np\n",
    "data = pd.read_csv(\"stress.text\")\n",
    "print(data.head())"
   ]
  },
  {
   "cell_type": "code",
   "execution_count": null,
   "id": "d02d22fa",
   "metadata": {},
   "outputs": [],
   "source": []
  }
 ],
 "metadata": {
  "kernelspec": {
   "display_name": "Python 3 (ipykernel)",
   "language": "python",
   "name": "python3"
  },
  "language_info": {
   "codemirror_mode": {
    "name": "ipython",
    "version": 3
   },
   "file_extension": ".py",
   "mimetype": "text/x-python",
   "name": "python",
   "nbconvert_exporter": "python",
   "pygments_lexer": "ipython3",
   "version": "3.9.7"
  }
 },
 "nbformat": 4,
 "nbformat_minor": 5
}

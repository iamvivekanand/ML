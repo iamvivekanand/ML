{
 "cells": [
  {
   "cell_type": "markdown",
   "id": "312ab7ff",
   "metadata": {},
   "source": [
    "### Keyword Extraction with Python"
   ]
  },
  {
   "cell_type": "code",
   "execution_count": 1,
   "id": "5c0c0d36",
   "metadata": {},
   "outputs": [],
   "source": [
    "# What is Keyword Extraction?"
   ]
  },
  {
   "cell_type": "raw",
   "id": "1a0670f9",
   "metadata": {},
   "source": [
    "-automatically identifies a set of terms to describe the subject of the text.\n",
    "-This is an important method in information retrieval (IR) systems: keywords simplify and speed up research\n",
    "- Keyword extraction can be used to reduce dimensionality of texts and for further analysis of text (subject modeling text classification)."
   ]
  },
  {
   "cell_type": "raw",
   "id": "e143fe02",
   "metadata": {},
   "source": [
    "The task of keyword extraction can be used in automatically indexing data, summarizing text, or generating tag clouds with the most representative keywords."
   ]
  },
  {
   "cell_type": "code",
   "execution_count": 2,
   "id": "d1144f63",
   "metadata": {},
   "outputs": [],
   "source": [
    "import numpy as np # linear algebra\n",
    "import pandas as pd # data processing"
   ]
  },
  {
   "cell_type": "raw",
   "id": "aff1ab97",
   "metadata": {},
   "source": [
    "df = pd.read_csv('papers.csv')"
   ]
  },
  {
   "cell_type": "raw",
   "id": "32b43612",
   "metadata": {},
   "source": [
    "This dataset contains 7 columns: id, year, title, even_type, pdf_name, abstract and paper_text. We are mainly interested in the paper_text which includes both the title and the abstract."
   ]
  },
  {
   "cell_type": "code",
   "execution_count": 9,
   "id": "38311a0c",
   "metadata": {},
   "outputs": [
    {
     "name": "stdout",
     "output_type": "stream",
     "text": [
      "10 * 0 = 0\n",
      "10 * 1 = 10\n",
      "10 * 2 = 20\n",
      "10 * 3 = 30\n",
      "10 * 4 = 40\n",
      "10 * 5 = 50\n",
      "10 * 6 = 60\n",
      "10 * 7 = 70\n",
      "10 * 8 = 80\n",
      "10 * 9 = 90\n",
      "10 * 10 = 100\n"
     ]
    }
   ],
   "source": [
    "for i in range(11):\n",
    "    print(\"10\",\"*\",i, \"=\", 10*i)"
   ]
  },
  {
   "cell_type": "code",
   "execution_count": null,
   "id": "c1a1b8d2",
   "metadata": {},
   "outputs": [],
   "source": []
  }
 ],
 "metadata": {
  "kernelspec": {
   "display_name": "Python 3 (ipykernel)",
   "language": "python",
   "name": "python3"
  },
  "language_info": {
   "codemirror_mode": {
    "name": "ipython",
    "version": 3
   },
   "file_extension": ".py",
   "mimetype": "text/x-python",
   "name": "python",
   "nbconvert_exporter": "python",
   "pygments_lexer": "ipython3",
   "version": "3.9.7"
  }
 },
 "nbformat": 4,
 "nbformat_minor": 5
}

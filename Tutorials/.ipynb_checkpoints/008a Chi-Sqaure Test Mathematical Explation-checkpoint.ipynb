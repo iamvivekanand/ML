{
 "cells": [
  {
   "cell_type": "markdown",
   "id": "efe5e51a",
   "metadata": {},
   "source": [
    "### Chi-Sqaure Test Mathematical Explation"
   ]
  },
  {
   "cell_type": "markdown",
   "id": "0ccab2fb",
   "metadata": {},
   "source": [
    "Mathematically, a Chi-Square test is done on two distributions two determine the level of similarity of their respective variances. In its null hypothesis, it assumes that the given distributions are independent"
   ]
  },
  {
   "cell_type": "markdown",
   "id": "fbaf4009",
   "metadata": {},
   "source": [
    "#### What is the use of chi-square test??"
   ]
  },
  {
   "cell_type": "markdown",
   "id": "c1e44ef3",
   "metadata": {},
   "source": [
    "- to find out the correlation between the categorical variables\n",
    "- in other word we can say that it is used to find out the difference between observed value and expected value."
   ]
  },
  {
   "cell_type": "markdown",
   "id": "07b4f8a1",
   "metadata": {},
   "source": [
    "<img src='chi2b.jpg' width=400 height=100>"
   ]
  },
  {
   "cell_type": "code",
   "execution_count": 2,
   "id": "3411a9e1",
   "metadata": {},
   "outputs": [],
   "source": [
    "# What is the meaning of statement below??"
   ]
  },
  {
   "cell_type": "markdown",
   "id": "32dd222c",
   "metadata": {},
   "source": [
    "It is important to note that the variables to be compared should have only 2 categories i.e 1 and 0 the chi-square test fails to determine the correlation between variables with more than 2 categories."
   ]
  },
  {
   "cell_type": "code",
   "execution_count": 3,
   "id": "6934ab82",
   "metadata": {},
   "outputs": [],
   "source": [
    "# How do we start calculating chi2 test??"
   ]
  },
  {
   "cell_type": "markdown",
   "id": "7d0c5970",
   "metadata": {},
   "source": [
    "While conducting the chi-square test we have to initially consider 2 hypothesis i.e the Null Hypothesis and the Alternate Hypothesis.\n",
    "\n",
    "    H0 (Null Hypothesis) = The 2 variables to be compared are independent\n",
    "    H1 (Alternate Hypothesis) = The 2 variables are dependent"
   ]
  },
  {
   "cell_type": "markdown",
   "id": "06832ec1",
   "metadata": {},
   "source": [
    "Now, if the p-value obtained after conducting the test is less than 0.05 we reject the Null hypothesis and accept the Alternate hypothesis and if the p-value is greater that 0.05 we accept the Null hypothesis and reject the Alternate hypothesis."
   ]
  },
  {
   "cell_type": "code",
   "execution_count": 1,
   "id": "d6237589",
   "metadata": {},
   "outputs": [],
   "source": [
    "# if value of chi2 is so high what does it mean??"
   ]
  },
  {
   "cell_type": "markdown",
   "id": "6cfc348d",
   "metadata": {},
   "source": [
    "For each feature in the dataset, the Chi2 is calculated and then ordered in descending order according to the Chi2 value.\n",
    "More value of chi2, more importent feature it is."
   ]
  },
  {
   "cell_type": "code",
   "execution_count": 2,
   "id": "6ebaf4ef",
   "metadata": {},
   "outputs": [],
   "source": [
    "# How to implement the Chi-Square Test in Python?"
   ]
  },
  {
   "cell_type": "markdown",
   "id": "430e9dac",
   "metadata": {},
   "source": [
    "- Using sklearn.feature_selection import chi2,SelectKbest\n",
    "- chi2 takes two parameters X(n_smaples,n_features), y(n_samples)"
   ]
  },
  {
   "cell_type": "code",
   "execution_count": 3,
   "id": "1fe84f7e",
   "metadata": {},
   "outputs": [],
   "source": [
    "from sklearn.feature_selection import chi2,SelectKBest\n",
    "import numpy as np\n",
    "import pandas as pd\n",
    "import matplotlib.pyplot as plt\n",
    "import seaborn as sns"
   ]
  },
  {
   "cell_type": "code",
   "execution_count": 4,
   "id": "239b0b97",
   "metadata": {},
   "outputs": [
    {
     "data": {
      "text/html": [
       "<div>\n",
       "<style scoped>\n",
       "    .dataframe tbody tr th:only-of-type {\n",
       "        vertical-align: middle;\n",
       "    }\n",
       "\n",
       "    .dataframe tbody tr th {\n",
       "        vertical-align: top;\n",
       "    }\n",
       "\n",
       "    .dataframe thead th {\n",
       "        text-align: right;\n",
       "    }\n",
       "</style>\n",
       "<table border=\"1\" class=\"dataframe\">\n",
       "  <thead>\n",
       "    <tr style=\"text-align: right;\">\n",
       "      <th></th>\n",
       "      <th>total_bill</th>\n",
       "      <th>tip</th>\n",
       "      <th>sex</th>\n",
       "      <th>smoker</th>\n",
       "      <th>day</th>\n",
       "      <th>time</th>\n",
       "      <th>size</th>\n",
       "    </tr>\n",
       "  </thead>\n",
       "  <tbody>\n",
       "    <tr>\n",
       "      <th>0</th>\n",
       "      <td>16.99</td>\n",
       "      <td>1.01</td>\n",
       "      <td>Female</td>\n",
       "      <td>No</td>\n",
       "      <td>Sun</td>\n",
       "      <td>Dinner</td>\n",
       "      <td>2</td>\n",
       "    </tr>\n",
       "    <tr>\n",
       "      <th>1</th>\n",
       "      <td>10.34</td>\n",
       "      <td>1.66</td>\n",
       "      <td>Male</td>\n",
       "      <td>No</td>\n",
       "      <td>Sun</td>\n",
       "      <td>Dinner</td>\n",
       "      <td>3</td>\n",
       "    </tr>\n",
       "  </tbody>\n",
       "</table>\n",
       "</div>"
      ],
      "text/plain": [
       "   total_bill   tip     sex smoker  day    time  size\n",
       "0       16.99  1.01  Female     No  Sun  Dinner     2\n",
       "1       10.34  1.66    Male     No  Sun  Dinner     3"
      ]
     },
     "execution_count": 4,
     "metadata": {},
     "output_type": "execute_result"
    }
   ],
   "source": [
    "df=sns.load_dataset('tips')\n",
    "df.head(2)"
   ]
  },
  {
   "cell_type": "code",
   "execution_count": 5,
   "id": "fe9bdce4",
   "metadata": {},
   "outputs": [
    {
     "data": {
      "text/html": [
       "<div>\n",
       "<style scoped>\n",
       "    .dataframe tbody tr th:only-of-type {\n",
       "        vertical-align: middle;\n",
       "    }\n",
       "\n",
       "    .dataframe tbody tr th {\n",
       "        vertical-align: top;\n",
       "    }\n",
       "\n",
       "    .dataframe thead th {\n",
       "        text-align: right;\n",
       "    }\n",
       "</style>\n",
       "<table border=\"1\" class=\"dataframe\">\n",
       "  <thead>\n",
       "    <tr style=\"text-align: right;\">\n",
       "      <th></th>\n",
       "      <th>total_bill</th>\n",
       "      <th>tip</th>\n",
       "      <th>size</th>\n",
       "    </tr>\n",
       "  </thead>\n",
       "  <tbody>\n",
       "    <tr>\n",
       "      <th>0</th>\n",
       "      <td>16.99</td>\n",
       "      <td>1.01</td>\n",
       "      <td>2</td>\n",
       "    </tr>\n",
       "    <tr>\n",
       "      <th>1</th>\n",
       "      <td>10.34</td>\n",
       "      <td>1.66</td>\n",
       "      <td>3</td>\n",
       "    </tr>\n",
       "  </tbody>\n",
       "</table>\n",
       "</div>"
      ],
      "text/plain": [
       "   total_bill   tip  size\n",
       "0       16.99  1.01     2\n",
       "1       10.34  1.66     3"
      ]
     },
     "execution_count": 5,
     "metadata": {},
     "output_type": "execute_result"
    }
   ],
   "source": [
    "df=df[['total_bill','tip','size']]\n",
    "df.head(2)"
   ]
  },
  {
   "cell_type": "code",
   "execution_count": 6,
   "id": "21d7c77a",
   "metadata": {},
   "outputs": [],
   "source": [
    "resultant = pd.DataFrame(data=[(0 for i in range(len(df.columns))) for i in range(len(df.columns))], \n",
    "                         columns=list(df.columns))"
   ]
  },
  {
   "cell_type": "code",
   "execution_count": 7,
   "id": "302cacc6",
   "metadata": {},
   "outputs": [
    {
     "data": {
      "text/html": [
       "<div>\n",
       "<style scoped>\n",
       "    .dataframe tbody tr th:only-of-type {\n",
       "        vertical-align: middle;\n",
       "    }\n",
       "\n",
       "    .dataframe tbody tr th {\n",
       "        vertical-align: top;\n",
       "    }\n",
       "\n",
       "    .dataframe thead th {\n",
       "        text-align: right;\n",
       "    }\n",
       "</style>\n",
       "<table border=\"1\" class=\"dataframe\">\n",
       "  <thead>\n",
       "    <tr style=\"text-align: right;\">\n",
       "      <th></th>\n",
       "      <th>total_bill</th>\n",
       "      <th>tip</th>\n",
       "      <th>size</th>\n",
       "    </tr>\n",
       "  </thead>\n",
       "  <tbody>\n",
       "    <tr>\n",
       "      <th>0</th>\n",
       "      <td>0</td>\n",
       "      <td>0</td>\n",
       "      <td>0</td>\n",
       "    </tr>\n",
       "    <tr>\n",
       "      <th>1</th>\n",
       "      <td>0</td>\n",
       "      <td>0</td>\n",
       "      <td>0</td>\n",
       "    </tr>\n",
       "    <tr>\n",
       "      <th>2</th>\n",
       "      <td>0</td>\n",
       "      <td>0</td>\n",
       "      <td>0</td>\n",
       "    </tr>\n",
       "  </tbody>\n",
       "</table>\n",
       "</div>"
      ],
      "text/plain": [
       "   total_bill  tip  size\n",
       "0           0    0     0\n",
       "1           0    0     0\n",
       "2           0    0     0"
      ]
     },
     "execution_count": 7,
     "metadata": {},
     "output_type": "execute_result"
    }
   ],
   "source": [
    "resultant"
   ]
  },
  {
   "cell_type": "code",
   "execution_count": 8,
   "id": "39988ad9",
   "metadata": {},
   "outputs": [],
   "source": [
    "resultant.set_index(pd.Index(list(df.columns)), inplace = True)"
   ]
  },
  {
   "cell_type": "raw",
   "id": "914c051e",
   "metadata": {},
   "source": [
    "for i in list(df.columns):\n",
    "    for j in list(df.columns):\n",
    "        if i!=j:\n",
    "            chi2_val, p_val = chi2(np.array(df[i]).reshape(-1, 1), np.array(df[j]).reshape(-1, 1))\n",
    "            resultant.loc[i,j] = p_val\n",
    "print(resultant)"
   ]
  },
  {
   "cell_type": "markdown",
   "id": "e3d7ee78",
   "metadata": {},
   "source": [
    "### Direct implementation using sklearn"
   ]
  },
  {
   "cell_type": "code",
   "execution_count": 10,
   "id": "aa3d1003",
   "metadata": {},
   "outputs": [],
   "source": [
    "from sklearn.datasets import load_iris\n",
    "from sklearn.feature_selection import chi2, SelectKBest"
   ]
  },
  {
   "cell_type": "code",
   "execution_count": 11,
   "id": "5e7aedaf",
   "metadata": {},
   "outputs": [],
   "source": [
    "iris=load_iris()"
   ]
  },
  {
   "cell_type": "code",
   "execution_count": 12,
   "id": "8037aae5",
   "metadata": {},
   "outputs": [],
   "source": [
    "X=iris.data\n",
    "y=iris.target"
   ]
  },
  {
   "cell_type": "code",
   "execution_count": 13,
   "id": "3d0ab250",
   "metadata": {},
   "outputs": [
    {
     "data": {
      "text/plain": [
       "array([[5.1, 3.5, 1.4, 0.2],\n",
       "       [4.9, 3. , 1.4, 0.2],\n",
       "       [4.7, 3.2, 1.3, 0.2],\n",
       "       [4.6, 3.1, 1.5, 0.2],\n",
       "       [5. , 3.6, 1.4, 0.2]])"
      ]
     },
     "execution_count": 13,
     "metadata": {},
     "output_type": "execute_result"
    }
   ],
   "source": [
    "X[0:5]"
   ]
  },
  {
   "cell_type": "code",
   "execution_count": 14,
   "id": "d4b06c7a",
   "metadata": {},
   "outputs": [
    {
     "data": {
      "text/plain": [
       "numpy.ndarray"
      ]
     },
     "execution_count": 14,
     "metadata": {},
     "output_type": "execute_result"
    }
   ],
   "source": [
    "type(X)"
   ]
  },
  {
   "cell_type": "code",
   "execution_count": 15,
   "id": "010d1dea",
   "metadata": {},
   "outputs": [],
   "source": [
    "X=X.astype(int)"
   ]
  },
  {
   "cell_type": "code",
   "execution_count": 16,
   "id": "6143c39a",
   "metadata": {},
   "outputs": [],
   "source": [
    "chi=SelectKBest(chi2, k=2)"
   ]
  },
  {
   "cell_type": "code",
   "execution_count": 17,
   "id": "db7de0ad",
   "metadata": {},
   "outputs": [],
   "source": [
    "X_Kbest=chi.fit_transform(X,y)"
   ]
  },
  {
   "cell_type": "code",
   "execution_count": 18,
   "id": "f4ee3026",
   "metadata": {},
   "outputs": [
    {
     "name": "stdout",
     "output_type": "stream",
     "text": [
      "original shape:  (150, 4)\n",
      "reduced shape:  (150, 2)\n"
     ]
    }
   ],
   "source": [
    "print('original shape: ', X.shape)\n",
    "print('reduced shape: ', X_Kbest.shape)"
   ]
  },
  {
   "cell_type": "markdown",
   "id": "55881f5a",
   "metadata": {},
   "source": [
    "## Pearson’s Chi-Square Test"
   ]
  },
  {
   "cell_type": "markdown",
   "id": "1c455038",
   "metadata": {},
   "source": [
    "The Pearson’s Chi-Square statistical hypothesis is a test for independence between categorical variables."
   ]
  },
  {
   "cell_type": "code",
   "execution_count": 19,
   "id": "9d80771e",
   "metadata": {},
   "outputs": [],
   "source": [
    "# What is a contigency table??"
   ]
  },
  {
   "cell_type": "markdown",
   "id": "1f6875ba",
   "metadata": {},
   "source": [
    "Also called crosstab, is a table that is used to summarise the relationship between several categorical variables"
   ]
  },
  {
   "cell_type": "markdown",
   "id": "28c6f198",
   "metadata": {},
   "source": [
    "Here, we take a table that shows the number of men and women buying different types of pets."
   ]
  },
  {
   "cell_type": "markdown",
   "id": "fb8a7776",
   "metadata": {},
   "source": [
    "<img src='table.jpg'>"
   ]
  },
  {
   "cell_type": "markdown",
   "id": "95b32f72",
   "metadata": {},
   "source": [
    "The aim of the test is to conclude whether the two variables( gender and choice of pet ) are related to each other."
   ]
  },
  {
   "cell_type": "markdown",
   "id": "296601d1",
   "metadata": {},
   "source": [
    "We start by defining the null hypothesis (H0) which states that there is no relation between the variables. An alternate hypothesis would state that there is a significant relation between the two."
   ]
  },
  {
   "cell_type": "markdown",
   "id": "dd88ee13",
   "metadata": {},
   "source": [
    "We can verify the hypothesis by these methods:\n",
    "- p-vlaue\n",
    "- chi2 table\n",
    "- expected value table"
   ]
  },
  {
   "cell_type": "code",
   "execution_count": 20,
   "id": "84db53f4",
   "metadata": {},
   "outputs": [],
   "source": [
    "# Using p value"
   ]
  },
  {
   "cell_type": "markdown",
   "id": "acf06b8c",
   "metadata": {},
   "source": [
    "We define a significance factor to determine whether the relation between the variables is of considerable significance. Generally a significance factor or alpha value of 0.05 is chosen. This alpha value denotes the probability of erroneously rejecting H0 when it is true. A lower alpha value is chosen in cases where we expect more precision. If the p-value for the test comes out to be strictly greater than the alpha value, then H0 holds true."
   ]
  },
  {
   "cell_type": "code",
   "execution_count": 21,
   "id": "dc1f4cc9",
   "metadata": {},
   "outputs": [],
   "source": [
    "# Using chi-square value"
   ]
  },
  {
   "cell_type": "markdown",
   "id": "13ad4b50",
   "metadata": {},
   "source": [
    "If our calculated value of chi-square is less or equal to the tabular(also called critical) value of chi-square, then H0 holds true.\n",
    "\n",
    "Expected Values Table:\n",
    "we prepare a similar table of calculated(or expected) values using below formula"
   ]
  },
  {
   "cell_type": "markdown",
   "id": "e35a4f2f",
   "metadata": {},
   "source": [
    "<img src='exp-values.jpg'>"
   ]
  },
  {
   "cell_type": "markdown",
   "id": "a95ef343",
   "metadata": {},
   "source": [
    "the expected values looks like this"
   ]
  },
  {
   "cell_type": "markdown",
   "id": "e7fe3a97",
   "metadata": {},
   "source": [
    "<img src='exp-values2.jpg'>"
   ]
  },
  {
   "cell_type": "markdown",
   "id": "7ee91129",
   "metadata": {},
   "source": [
    "Next we prepare chi2 table using below formula"
   ]
  },
  {
   "cell_type": "markdown",
   "id": "70228599",
   "metadata": {},
   "source": [
    "<img src='chi2c.jpg'>"
   ]
  },
  {
   "cell_type": "markdown",
   "id": "ddeee0fa",
   "metadata": {},
   "source": [
    "The table looks like as below"
   ]
  },
  {
   "cell_type": "markdown",
   "id": "bdcb6a9d",
   "metadata": {},
   "source": [
    "<img src='chi2-tbl.jpg'>"
   ]
  },
  {
   "cell_type": "markdown",
   "id": "0db46bd5",
   "metadata": {},
   "source": [
    "Hence the calculated value of chi-square is 4.542228269825232"
   ]
  },
  {
   "cell_type": "markdown",
   "id": "eb36dad1",
   "metadata": {},
   "source": [
    "Now, we need to find the critical value of chi-square. We can obtain this from a table. To use this table, we need to know the degrees of freedom for the dataset.  The degrees of freedom is defined as : (no. of rows – 1) * (no. of columns – 1).\n",
    "Hence, the degrees of freedom is (2-1) * (3-1) = 2\n",
    "\n",
    "Now, let us look at the table and find the value corresponding to 2 degrees of freedom and 0.05 significance factor :"
   ]
  },
  {
   "cell_type": "code",
   "execution_count": 22,
   "id": "dc1d3b9b",
   "metadata": {},
   "outputs": [],
   "source": [
    "from scipy.stats import chi2_contingency"
   ]
  },
  {
   "cell_type": "code",
   "execution_count": 23,
   "id": "1991bff5",
   "metadata": {},
   "outputs": [],
   "source": [
    "data = [[207, 282, 241], [234, 242, 232]]"
   ]
  },
  {
   "cell_type": "code",
   "execution_count": 24,
   "id": "6dd98c9b",
   "metadata": {},
   "outputs": [
    {
     "data": {
      "text/html": [
       "<div>\n",
       "<style scoped>\n",
       "    .dataframe tbody tr th:only-of-type {\n",
       "        vertical-align: middle;\n",
       "    }\n",
       "\n",
       "    .dataframe tbody tr th {\n",
       "        vertical-align: top;\n",
       "    }\n",
       "\n",
       "    .dataframe thead th {\n",
       "        text-align: right;\n",
       "    }\n",
       "</style>\n",
       "<table border=\"1\" class=\"dataframe\">\n",
       "  <thead>\n",
       "    <tr style=\"text-align: right;\">\n",
       "      <th></th>\n",
       "      <th>total_bill</th>\n",
       "      <th>tip</th>\n",
       "      <th>sex</th>\n",
       "      <th>smoker</th>\n",
       "      <th>day</th>\n",
       "      <th>time</th>\n",
       "      <th>size</th>\n",
       "    </tr>\n",
       "  </thead>\n",
       "  <tbody>\n",
       "    <tr>\n",
       "      <th>0</th>\n",
       "      <td>16.99</td>\n",
       "      <td>1.01</td>\n",
       "      <td>Female</td>\n",
       "      <td>No</td>\n",
       "      <td>Sun</td>\n",
       "      <td>Dinner</td>\n",
       "      <td>2</td>\n",
       "    </tr>\n",
       "    <tr>\n",
       "      <th>1</th>\n",
       "      <td>10.34</td>\n",
       "      <td>1.66</td>\n",
       "      <td>Male</td>\n",
       "      <td>No</td>\n",
       "      <td>Sun</td>\n",
       "      <td>Dinner</td>\n",
       "      <td>3</td>\n",
       "    </tr>\n",
       "  </tbody>\n",
       "</table>\n",
       "</div>"
      ],
      "text/plain": [
       "   total_bill   tip     sex smoker  day    time  size\n",
       "0       16.99  1.01  Female     No  Sun  Dinner     2\n",
       "1       10.34  1.66    Male     No  Sun  Dinner     3"
      ]
     },
     "execution_count": 24,
     "metadata": {},
     "output_type": "execute_result"
    }
   ],
   "source": [
    "data=sns.load_dataset('tips')\n",
    "data.head(2)"
   ]
  },
  {
   "cell_type": "code",
   "execution_count": 25,
   "id": "e4117a81",
   "metadata": {},
   "outputs": [],
   "source": [
    "df=data[['total_bill','tip']]"
   ]
  },
  {
   "cell_type": "code",
   "execution_count": 26,
   "id": "8648a980",
   "metadata": {},
   "outputs": [
    {
     "data": {
      "text/html": [
       "<div>\n",
       "<style scoped>\n",
       "    .dataframe tbody tr th:only-of-type {\n",
       "        vertical-align: middle;\n",
       "    }\n",
       "\n",
       "    .dataframe tbody tr th {\n",
       "        vertical-align: top;\n",
       "    }\n",
       "\n",
       "    .dataframe thead th {\n",
       "        text-align: right;\n",
       "    }\n",
       "</style>\n",
       "<table border=\"1\" class=\"dataframe\">\n",
       "  <thead>\n",
       "    <tr style=\"text-align: right;\">\n",
       "      <th></th>\n",
       "      <th>total_bill</th>\n",
       "      <th>tip</th>\n",
       "    </tr>\n",
       "  </thead>\n",
       "  <tbody>\n",
       "    <tr>\n",
       "      <th>0</th>\n",
       "      <td>16.99</td>\n",
       "      <td>1.01</td>\n",
       "    </tr>\n",
       "    <tr>\n",
       "      <th>1</th>\n",
       "      <td>10.34</td>\n",
       "      <td>1.66</td>\n",
       "    </tr>\n",
       "  </tbody>\n",
       "</table>\n",
       "</div>"
      ],
      "text/plain": [
       "   total_bill   tip\n",
       "0       16.99  1.01\n",
       "1       10.34  1.66"
      ]
     },
     "execution_count": 26,
     "metadata": {},
     "output_type": "execute_result"
    }
   ],
   "source": [
    "df.head(2)"
   ]
  },
  {
   "cell_type": "code",
   "execution_count": 27,
   "id": "3303980a",
   "metadata": {},
   "outputs": [],
   "source": [
    "stat, p, dof, expected = chi2_contingency(df)"
   ]
  },
  {
   "cell_type": "code",
   "execution_count": 28,
   "id": "f8c87d4f",
   "metadata": {},
   "outputs": [
    {
     "name": "stdout",
     "output_type": "stream",
     "text": [
      "p value is 1.0\n",
      "Independent (H0 holds true)\n"
     ]
    }
   ],
   "source": [
    "alpha = 0.05\n",
    "print(\"p value is \" + str(p))\n",
    "if p <= alpha:\n",
    "    print('Dependent (reject H0)')\n",
    "else:\n",
    "    print('Independent (H0 holds true)')"
   ]
  },
  {
   "cell_type": "markdown",
   "id": "84978077",
   "metadata": {},
   "source": [
    "### Practice 1"
   ]
  },
  {
   "cell_type": "code",
   "execution_count": 29,
   "id": "e9f048a3",
   "metadata": {},
   "outputs": [],
   "source": [
    "from scipy.stats import chi2_contingency"
   ]
  },
  {
   "cell_type": "code",
   "execution_count": 30,
   "id": "b2e02446",
   "metadata": {},
   "outputs": [],
   "source": [
    "stat,p,dof,expected=chi2_contingency(df)"
   ]
  },
  {
   "cell_type": "code",
   "execution_count": 31,
   "id": "add6d146",
   "metadata": {},
   "outputs": [
    {
     "name": "stdout",
     "output_type": "stream",
     "text": [
      "P-value is 1.0\n",
      "independent (H0 is True)\n"
     ]
    }
   ],
   "source": [
    "alpha=0.05\n",
    "print(\"P-value is \" +str(p))\n",
    "if p<=alpha:\n",
    "    print('dependent (H0 rejected)')\n",
    "else:\n",
    "    print('independent (H0 is True)')"
   ]
  },
  {
   "cell_type": "code",
   "execution_count": null,
   "id": "4b90cb60",
   "metadata": {},
   "outputs": [],
   "source": []
  }
 ],
 "metadata": {
  "kernelspec": {
   "display_name": "Python 3 (ipykernel)",
   "language": "python",
   "name": "python3"
  },
  "language_info": {
   "codemirror_mode": {
    "name": "ipython",
    "version": 3
   },
   "file_extension": ".py",
   "mimetype": "text/x-python",
   "name": "python",
   "nbconvert_exporter": "python",
   "pygments_lexer": "ipython3",
   "version": "3.9.7"
  }
 },
 "nbformat": 4,
 "nbformat_minor": 5
}

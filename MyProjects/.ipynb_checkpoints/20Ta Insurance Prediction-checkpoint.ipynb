{
 "cells": [
  {
   "cell_type": "markdown",
   "id": "97c975a3",
   "metadata": {},
   "source": [
    "### Insurance Prediction"
   ]
  },
  {
   "cell_type": "code",
   "execution_count": 1,
   "id": "9562f895",
   "metadata": {},
   "outputs": [],
   "source": [
    "# The problem statement"
   ]
  },
  {
   "cell_type": "raw",
   "id": "98a5a989",
   "metadata": {},
   "source": [
    "Companies often bother whether the client being apporached would buy insurance or not, if it can be predicted in advance, companies can save thier time and labour upto a greater extent. Hence they can turn their busniess to more profitable one."
   ]
  },
  {
   "cell_type": "code",
   "execution_count": 2,
   "id": "7eae7e3d",
   "metadata": {},
   "outputs": [],
   "source": [
    "import numpy as np\n",
    "import seaborn as sns\n",
    "import matplotlib.pyplot as plt\n",
    "import plotly.express as px\n",
    "%matplotlib inline\n",
    "# do not put space after %"
   ]
  },
  {
   "cell_type": "code",
   "execution_count": 3,
   "id": "7465b157",
   "metadata": {},
   "outputs": [
    {
     "data": {
      "text/html": [
       "<div>\n",
       "<style scoped>\n",
       "    .dataframe tbody tr th:only-of-type {\n",
       "        vertical-align: middle;\n",
       "    }\n",
       "\n",
       "    .dataframe tbody tr th {\n",
       "        vertical-align: top;\n",
       "    }\n",
       "\n",
       "    .dataframe thead th {\n",
       "        text-align: right;\n",
       "    }\n",
       "</style>\n",
       "<table border=\"1\" class=\"dataframe\">\n",
       "  <thead>\n",
       "    <tr style=\"text-align: right;\">\n",
       "      <th></th>\n",
       "      <th>Unnamed: 0</th>\n",
       "      <th>Age</th>\n",
       "      <th>Employment Type</th>\n",
       "      <th>GraduateOrNot</th>\n",
       "      <th>AnnualIncome</th>\n",
       "      <th>FamilyMembers</th>\n",
       "      <th>ChronicDiseases</th>\n",
       "      <th>FrequentFlyer</th>\n",
       "      <th>EverTravelledAbroad</th>\n",
       "      <th>TravelInsurance</th>\n",
       "    </tr>\n",
       "  </thead>\n",
       "  <tbody>\n",
       "    <tr>\n",
       "      <th>0</th>\n",
       "      <td>0</td>\n",
       "      <td>31</td>\n",
       "      <td>Government Sector</td>\n",
       "      <td>Yes</td>\n",
       "      <td>400000</td>\n",
       "      <td>6</td>\n",
       "      <td>1</td>\n",
       "      <td>No</td>\n",
       "      <td>No</td>\n",
       "      <td>0</td>\n",
       "    </tr>\n",
       "    <tr>\n",
       "      <th>1</th>\n",
       "      <td>1</td>\n",
       "      <td>31</td>\n",
       "      <td>Private Sector/Self Employed</td>\n",
       "      <td>Yes</td>\n",
       "      <td>1250000</td>\n",
       "      <td>7</td>\n",
       "      <td>0</td>\n",
       "      <td>No</td>\n",
       "      <td>No</td>\n",
       "      <td>0</td>\n",
       "    </tr>\n",
       "    <tr>\n",
       "      <th>2</th>\n",
       "      <td>2</td>\n",
       "      <td>34</td>\n",
       "      <td>Private Sector/Self Employed</td>\n",
       "      <td>Yes</td>\n",
       "      <td>500000</td>\n",
       "      <td>4</td>\n",
       "      <td>1</td>\n",
       "      <td>No</td>\n",
       "      <td>No</td>\n",
       "      <td>1</td>\n",
       "    </tr>\n",
       "    <tr>\n",
       "      <th>3</th>\n",
       "      <td>3</td>\n",
       "      <td>28</td>\n",
       "      <td>Private Sector/Self Employed</td>\n",
       "      <td>Yes</td>\n",
       "      <td>700000</td>\n",
       "      <td>3</td>\n",
       "      <td>1</td>\n",
       "      <td>No</td>\n",
       "      <td>No</td>\n",
       "      <td>0</td>\n",
       "    </tr>\n",
       "    <tr>\n",
       "      <th>4</th>\n",
       "      <td>4</td>\n",
       "      <td>28</td>\n",
       "      <td>Private Sector/Self Employed</td>\n",
       "      <td>Yes</td>\n",
       "      <td>700000</td>\n",
       "      <td>8</td>\n",
       "      <td>1</td>\n",
       "      <td>Yes</td>\n",
       "      <td>No</td>\n",
       "      <td>0</td>\n",
       "    </tr>\n",
       "  </tbody>\n",
       "</table>\n",
       "</div>"
      ],
      "text/plain": [
       "   Unnamed: 0  Age               Employment Type GraduateOrNot  AnnualIncome  \\\n",
       "0           0   31             Government Sector           Yes        400000   \n",
       "1           1   31  Private Sector/Self Employed           Yes       1250000   \n",
       "2           2   34  Private Sector/Self Employed           Yes        500000   \n",
       "3           3   28  Private Sector/Self Employed           Yes        700000   \n",
       "4           4   28  Private Sector/Self Employed           Yes        700000   \n",
       "\n",
       "   FamilyMembers  ChronicDiseases FrequentFlyer EverTravelledAbroad  \\\n",
       "0              6                1            No                  No   \n",
       "1              7                0            No                  No   \n",
       "2              4                1            No                  No   \n",
       "3              3                1            No                  No   \n",
       "4              8                1           Yes                  No   \n",
       "\n",
       "   TravelInsurance  \n",
       "0                0  \n",
       "1                0  \n",
       "2                1  \n",
       "3                0  \n",
       "4                0  "
      ]
     },
     "execution_count": 3,
     "metadata": {},
     "output_type": "execute_result"
    }
   ],
   "source": [
    "import pandas as pd\n",
    "data = pd.read_csv(\"TravelInsurancePrediction.csv\")\n",
    "data.head()"
   ]
  },
  {
   "cell_type": "code",
   "execution_count": 4,
   "id": "cba80751",
   "metadata": {},
   "outputs": [],
   "source": [
    "df=data.copy()"
   ]
  },
  {
   "cell_type": "code",
   "execution_count": 5,
   "id": "d89e932e",
   "metadata": {},
   "outputs": [
    {
     "data": {
      "text/plain": [
       "(1987, 10)"
      ]
     },
     "execution_count": 5,
     "metadata": {},
     "output_type": "execute_result"
    }
   ],
   "source": [
    "df.shape"
   ]
  },
  {
   "cell_type": "code",
   "execution_count": 6,
   "id": "f1fe6fb1",
   "metadata": {},
   "outputs": [],
   "source": [
    "del df['Unnamed: 0']"
   ]
  },
  {
   "cell_type": "code",
   "execution_count": 7,
   "id": "a7cff0b3",
   "metadata": {},
   "outputs": [
    {
     "data": {
      "text/plain": [
       "(1987, 9)"
      ]
     },
     "execution_count": 7,
     "metadata": {},
     "output_type": "execute_result"
    }
   ],
   "source": [
    "df.shape"
   ]
  },
  {
   "cell_type": "code",
   "execution_count": 8,
   "id": "5c47a384",
   "metadata": {},
   "outputs": [
    {
     "name": "stdout",
     "output_type": "stream",
     "text": [
      "Employment Type \n",
      " ['Government Sector' 'Private Sector/Self Employed']\n",
      "GraduateOrNot \n",
      " ['Yes' 'No']\n",
      "FrequentFlyer \n",
      " ['No' 'Yes']\n",
      "EverTravelledAbroad \n",
      " ['No' 'Yes']\n",
      "Age \n",
      " [31 34 28 25 33 26 32 29 35 30 27]\n",
      "AnnualIncome \n",
      " [ 400000 1250000  500000  700000 1150000 1300000 1350000 1450000  800000\n",
      " 1400000  850000 1500000 1050000  350000 1100000  600000  900000  550000\n",
      "  300000  750000 1200000 1000000  950000 1700000 1750000  650000  450000\n",
      " 1650000 1800000 1550000]\n",
      "FamilyMembers \n",
      " [6 7 4 3 8 9 5 2]\n",
      "ChronicDiseases \n",
      " [1 0]\n",
      "TravelInsurance \n",
      " [0 1]\n"
     ]
    }
   ],
   "source": [
    "# Getting unique values of each Columns\n",
    "\n",
    "textcol=df.select_dtypes(include='object').columns\n",
    "floatcol=df.select_dtypes(exclude='object').columns\n",
    "\n",
    "for i in textcol:\n",
    "    print(i,'\\n',df[i].unique())\n",
    "for i in floatcol:\n",
    "    print(i,'\\n',df[i].unique())"
   ]
  },
  {
   "cell_type": "code",
   "execution_count": 9,
   "id": "d7886eaf",
   "metadata": {},
   "outputs": [
    {
     "data": {
      "text/plain": [
       "Age                    0\n",
       "Employment Type        0\n",
       "GraduateOrNot          0\n",
       "AnnualIncome           0\n",
       "FamilyMembers          0\n",
       "ChronicDiseases        0\n",
       "FrequentFlyer          0\n",
       "EverTravelledAbroad    0\n",
       "TravelInsurance        0\n",
       "dtype: int64"
      ]
     },
     "execution_count": 9,
     "metadata": {},
     "output_type": "execute_result"
    }
   ],
   "source": [
    "# checking for null values\n",
    "df.isnull().sum()"
   ]
  },
  {
   "cell_type": "markdown",
   "id": "daa0fbeb",
   "metadata": {},
   "source": [
    "> We do not have null values in any feature column"
   ]
  },
  {
   "cell_type": "code",
   "execution_count": 10,
   "id": "2e0be38a",
   "metadata": {},
   "outputs": [
    {
     "data": {
      "text/plain": [
       "738"
      ]
     },
     "execution_count": 10,
     "metadata": {},
     "output_type": "execute_result"
    }
   ],
   "source": [
    "# lets check for duplicate values\n",
    "\n",
    "df.duplicated().sum()"
   ]
  },
  {
   "cell_type": "code",
   "execution_count": 11,
   "id": "426460c4",
   "metadata": {},
   "outputs": [
    {
     "name": "stdout",
     "output_type": "stream",
     "text": [
      "Shape before dropping Duplicate values:  (1987, 9)\n",
      "Shape after dropping Duplicate values:  (1249, 9)\n"
     ]
    }
   ],
   "source": [
    "print('Shape before dropping Duplicate values: ',df.shape)\n",
    "df.drop_duplicates(inplace=True)\n",
    "print('Shape after dropping Duplicate values: ',df.shape)"
   ]
  },
  {
   "cell_type": "markdown",
   "id": "aae14150",
   "metadata": {},
   "source": [
    "### Data Visualisation"
   ]
  },
  {
   "cell_type": "code",
   "execution_count": 12,
   "id": "143a69eb",
   "metadata": {},
   "outputs": [],
   "source": [
    "# lets rename values of the columns 'Employment Type'  \n",
    "\n",
    "df['Employment Type'].replace('Private Sector/Self Employed','PrivateS elf',inplace=True)"
   ]
  },
  {
   "cell_type": "code",
   "execution_count": 13,
   "id": "957fe285",
   "metadata": {},
   "outputs": [],
   "source": [
    "df['Employment Type'].replace('Government Sector','Govt',inplace=True)"
   ]
  },
  {
   "cell_type": "code",
   "execution_count": 14,
   "id": "f5251bb6",
   "metadata": {},
   "outputs": [
    {
     "data": {
      "text/html": [
       "<div>\n",
       "<style scoped>\n",
       "    .dataframe tbody tr th:only-of-type {\n",
       "        vertical-align: middle;\n",
       "    }\n",
       "\n",
       "    .dataframe tbody tr th {\n",
       "        vertical-align: top;\n",
       "    }\n",
       "\n",
       "    .dataframe thead th {\n",
       "        text-align: right;\n",
       "    }\n",
       "</style>\n",
       "<table border=\"1\" class=\"dataframe\">\n",
       "  <thead>\n",
       "    <tr style=\"text-align: right;\">\n",
       "      <th></th>\n",
       "      <th>Age</th>\n",
       "      <th>Employment Type</th>\n",
       "      <th>GraduateOrNot</th>\n",
       "      <th>AnnualIncome</th>\n",
       "      <th>FamilyMembers</th>\n",
       "      <th>ChronicDiseases</th>\n",
       "      <th>FrequentFlyer</th>\n",
       "      <th>EverTravelledAbroad</th>\n",
       "      <th>TravelInsurance</th>\n",
       "    </tr>\n",
       "  </thead>\n",
       "  <tbody>\n",
       "    <tr>\n",
       "      <th>0</th>\n",
       "      <td>31</td>\n",
       "      <td>Govt</td>\n",
       "      <td>Yes</td>\n",
       "      <td>400000</td>\n",
       "      <td>6</td>\n",
       "      <td>1</td>\n",
       "      <td>No</td>\n",
       "      <td>No</td>\n",
       "      <td>0</td>\n",
       "    </tr>\n",
       "    <tr>\n",
       "      <th>1</th>\n",
       "      <td>31</td>\n",
       "      <td>PrivateS elf</td>\n",
       "      <td>Yes</td>\n",
       "      <td>1250000</td>\n",
       "      <td>7</td>\n",
       "      <td>0</td>\n",
       "      <td>No</td>\n",
       "      <td>No</td>\n",
       "      <td>0</td>\n",
       "    </tr>\n",
       "    <tr>\n",
       "      <th>2</th>\n",
       "      <td>34</td>\n",
       "      <td>PrivateS elf</td>\n",
       "      <td>Yes</td>\n",
       "      <td>500000</td>\n",
       "      <td>4</td>\n",
       "      <td>1</td>\n",
       "      <td>No</td>\n",
       "      <td>No</td>\n",
       "      <td>1</td>\n",
       "    </tr>\n",
       "  </tbody>\n",
       "</table>\n",
       "</div>"
      ],
      "text/plain": [
       "   Age Employment Type GraduateOrNot  AnnualIncome  FamilyMembers  \\\n",
       "0   31            Govt           Yes        400000              6   \n",
       "1   31    PrivateS elf           Yes       1250000              7   \n",
       "2   34    PrivateS elf           Yes        500000              4   \n",
       "\n",
       "   ChronicDiseases FrequentFlyer EverTravelledAbroad  TravelInsurance  \n",
       "0                1            No                  No                0  \n",
       "1                0            No                  No                0  \n",
       "2                1            No                  No                1  "
      ]
     },
     "execution_count": 14,
     "metadata": {},
     "output_type": "execute_result"
    }
   ],
   "source": [
    "df.head(3)"
   ]
  },
  {
   "cell_type": "code",
   "execution_count": 15,
   "id": "4254230e",
   "metadata": {
    "scrolled": true
   },
   "outputs": [
    {
     "data": {
      "text/html": [
       "<div>\n",
       "<style scoped>\n",
       "    .dataframe tbody tr th:only-of-type {\n",
       "        vertical-align: middle;\n",
       "    }\n",
       "\n",
       "    .dataframe tbody tr th {\n",
       "        vertical-align: top;\n",
       "    }\n",
       "\n",
       "    .dataframe thead th {\n",
       "        text-align: right;\n",
       "    }\n",
       "</style>\n",
       "<table border=\"1\" class=\"dataframe\">\n",
       "  <thead>\n",
       "    <tr style=\"text-align: right;\">\n",
       "      <th></th>\n",
       "      <th>Age</th>\n",
       "      <th>EmpType</th>\n",
       "      <th>Graduate</th>\n",
       "      <th>Income</th>\n",
       "      <th>FamilySize</th>\n",
       "      <th>Disease</th>\n",
       "      <th>FreqFlyer</th>\n",
       "      <th>Abroad Travel</th>\n",
       "      <th>Travel Insurance</th>\n",
       "    </tr>\n",
       "  </thead>\n",
       "  <tbody>\n",
       "    <tr>\n",
       "      <th>0</th>\n",
       "      <td>31</td>\n",
       "      <td>Govt</td>\n",
       "      <td>Yes</td>\n",
       "      <td>400000</td>\n",
       "      <td>6</td>\n",
       "      <td>1</td>\n",
       "      <td>No</td>\n",
       "      <td>No</td>\n",
       "      <td>0</td>\n",
       "    </tr>\n",
       "    <tr>\n",
       "      <th>1</th>\n",
       "      <td>31</td>\n",
       "      <td>PrivateS elf</td>\n",
       "      <td>Yes</td>\n",
       "      <td>1250000</td>\n",
       "      <td>7</td>\n",
       "      <td>0</td>\n",
       "      <td>No</td>\n",
       "      <td>No</td>\n",
       "      <td>0</td>\n",
       "    </tr>\n",
       "  </tbody>\n",
       "</table>\n",
       "</div>"
      ],
      "text/plain": [
       "   Age       EmpType Graduate   Income  FamilySize  Disease FreqFlyer  \\\n",
       "0   31          Govt      Yes   400000           6        1        No   \n",
       "1   31  PrivateS elf      Yes  1250000           7        0        No   \n",
       "\n",
       "  Abroad Travel  Travel Insurance  \n",
       "0            No                 0  \n",
       "1            No                 0  "
      ]
     },
     "execution_count": 15,
     "metadata": {},
     "output_type": "execute_result"
    }
   ],
   "source": [
    "# renaming columns\n",
    "df.columns=['Age','EmpType','Graduate','Income','FamilySize','Disease','FreqFlyer','Abroad Travel','Travel Insurance']\n",
    "df.head(2)"
   ]
  },
  {
   "cell_type": "markdown",
   "id": "9d4a5b4d",
   "metadata": {},
   "source": [
    "> #### Now it looks better and compact"
   ]
  },
  {
   "cell_type": "code",
   "execution_count": 16,
   "id": "6fd6f1a6",
   "metadata": {},
   "outputs": [
    {
     "data": {
      "text/plain": [
       "(1249, 9)"
      ]
     },
     "execution_count": 16,
     "metadata": {},
     "output_type": "execute_result"
    }
   ],
   "source": [
    "df.shape"
   ]
  },
  {
   "cell_type": "code",
   "execution_count": 17,
   "id": "cc9cfdd7",
   "metadata": {},
   "outputs": [],
   "source": [
    "from sklearn.preprocessing import LabelEncoder,StandardScaler\n",
    "ss=StandardScaler()\n",
    "le=LabelEncoder()"
   ]
  },
  {
   "cell_type": "code",
   "execution_count": 18,
   "id": "9353cfac",
   "metadata": {},
   "outputs": [],
   "source": [
    "df['EmpType']=le.fit_transform(df['EmpType'])\n",
    "df['Graduate']=le.fit_transform(df['Graduate'])\n",
    "df['FreqFlyer']=le.fit_transform(df['FreqFlyer'])\n",
    "df['Abroad Travel']=le.fit_transform(df['Abroad Travel'])"
   ]
  },
  {
   "cell_type": "code",
   "execution_count": 19,
   "id": "73791f08",
   "metadata": {},
   "outputs": [
    {
     "data": {
      "text/html": [
       "<div>\n",
       "<style scoped>\n",
       "    .dataframe tbody tr th:only-of-type {\n",
       "        vertical-align: middle;\n",
       "    }\n",
       "\n",
       "    .dataframe tbody tr th {\n",
       "        vertical-align: top;\n",
       "    }\n",
       "\n",
       "    .dataframe thead th {\n",
       "        text-align: right;\n",
       "    }\n",
       "</style>\n",
       "<table border=\"1\" class=\"dataframe\">\n",
       "  <thead>\n",
       "    <tr style=\"text-align: right;\">\n",
       "      <th></th>\n",
       "      <th>Age</th>\n",
       "      <th>EmpType</th>\n",
       "      <th>Graduate</th>\n",
       "      <th>Income</th>\n",
       "      <th>FamilySize</th>\n",
       "      <th>Disease</th>\n",
       "      <th>FreqFlyer</th>\n",
       "      <th>Abroad Travel</th>\n",
       "      <th>Travel Insurance</th>\n",
       "    </tr>\n",
       "  </thead>\n",
       "  <tbody>\n",
       "    <tr>\n",
       "      <th>0</th>\n",
       "      <td>31</td>\n",
       "      <td>0</td>\n",
       "      <td>1</td>\n",
       "      <td>400000</td>\n",
       "      <td>6</td>\n",
       "      <td>1</td>\n",
       "      <td>0</td>\n",
       "      <td>0</td>\n",
       "      <td>0</td>\n",
       "    </tr>\n",
       "    <tr>\n",
       "      <th>1</th>\n",
       "      <td>31</td>\n",
       "      <td>1</td>\n",
       "      <td>1</td>\n",
       "      <td>1250000</td>\n",
       "      <td>7</td>\n",
       "      <td>0</td>\n",
       "      <td>0</td>\n",
       "      <td>0</td>\n",
       "      <td>0</td>\n",
       "    </tr>\n",
       "  </tbody>\n",
       "</table>\n",
       "</div>"
      ],
      "text/plain": [
       "   Age  EmpType  Graduate   Income  FamilySize  Disease  FreqFlyer  \\\n",
       "0   31        0         1   400000           6        1          0   \n",
       "1   31        1         1  1250000           7        0          0   \n",
       "\n",
       "   Abroad Travel  Travel Insurance  \n",
       "0              0                 0  \n",
       "1              0                 0  "
      ]
     },
     "execution_count": 19,
     "metadata": {},
     "output_type": "execute_result"
    }
   ],
   "source": [
    "df.head(2)"
   ]
  },
  {
   "cell_type": "code",
   "execution_count": 20,
   "id": "d144b78a",
   "metadata": {},
   "outputs": [
    {
     "data": {
      "text/html": [
       "<div>\n",
       "<style scoped>\n",
       "    .dataframe tbody tr th:only-of-type {\n",
       "        vertical-align: middle;\n",
       "    }\n",
       "\n",
       "    .dataframe tbody tr th {\n",
       "        vertical-align: top;\n",
       "    }\n",
       "\n",
       "    .dataframe thead th {\n",
       "        text-align: right;\n",
       "    }\n",
       "</style>\n",
       "<table border=\"1\" class=\"dataframe\">\n",
       "  <thead>\n",
       "    <tr style=\"text-align: right;\">\n",
       "      <th></th>\n",
       "      <th>Age</th>\n",
       "      <th>EmpType</th>\n",
       "      <th>Graduate</th>\n",
       "      <th>Income</th>\n",
       "      <th>FamilySize</th>\n",
       "      <th>Disease</th>\n",
       "      <th>FreqFlyer</th>\n",
       "      <th>Abroad Travel</th>\n",
       "      <th>Insurance</th>\n",
       "    </tr>\n",
       "  </thead>\n",
       "  <tbody>\n",
       "    <tr>\n",
       "      <th>0</th>\n",
       "      <td>31</td>\n",
       "      <td>0</td>\n",
       "      <td>1</td>\n",
       "      <td>400000</td>\n",
       "      <td>6</td>\n",
       "      <td>1</td>\n",
       "      <td>0</td>\n",
       "      <td>0</td>\n",
       "      <td>0</td>\n",
       "    </tr>\n",
       "    <tr>\n",
       "      <th>1</th>\n",
       "      <td>31</td>\n",
       "      <td>1</td>\n",
       "      <td>1</td>\n",
       "      <td>1250000</td>\n",
       "      <td>7</td>\n",
       "      <td>0</td>\n",
       "      <td>0</td>\n",
       "      <td>0</td>\n",
       "      <td>0</td>\n",
       "    </tr>\n",
       "  </tbody>\n",
       "</table>\n",
       "</div>"
      ],
      "text/plain": [
       "   Age  EmpType  Graduate   Income  FamilySize  Disease  FreqFlyer  \\\n",
       "0   31        0         1   400000           6        1          0   \n",
       "1   31        1         1  1250000           7        0          0   \n",
       "\n",
       "   Abroad Travel  Insurance  \n",
       "0              0          0  \n",
       "1              0          0  "
      ]
     },
     "execution_count": 20,
     "metadata": {},
     "output_type": "execute_result"
    }
   ],
   "source": [
    "df.rename(columns={'Travel Insurance':'Insurance'},inplace=True)\n",
    "df.head(2)"
   ]
  },
  {
   "cell_type": "code",
   "execution_count": 21,
   "id": "e4d3fbfd",
   "metadata": {},
   "outputs": [],
   "source": [
    "import warnings\n",
    "warnings.filterwarnings('ignore')"
   ]
  },
  {
   "cell_type": "code",
   "execution_count": 22,
   "id": "94236127",
   "metadata": {},
   "outputs": [],
   "source": [
    "# Making separate dataframe for purchased and not purchased \n",
    "\n",
    "df_0 = df.query('Insurance==0')\n",
    "df_1 = df.query('Insurance==1')\n",
    "\n",
    "# df_1 = df[df['Insurance']==1]\n",
    "# df_0 = df[df['Insurance']==0]"
   ]
  },
  {
   "cell_type": "markdown",
   "id": "152f5bd1",
   "metadata": {},
   "source": [
    "### Age Visualisation"
   ]
  },
  {
   "cell_type": "code",
   "execution_count": 23,
   "id": "b28121bd",
   "metadata": {},
   "outputs": [
    {
     "data": {
      "text/plain": [
       "(25, 35)"
      ]
     },
     "execution_count": 23,
     "metadata": {},
     "output_type": "execute_result"
    }
   ],
   "source": [
    "\n",
    "df['Age'].min(),df['Age'].max()"
   ]
  },
  {
   "cell_type": "markdown",
   "id": "5c62ed42",
   "metadata": {},
   "source": [
    "> Minimum age of customers is 25 and Maximum age is 35"
   ]
  },
  {
   "cell_type": "code",
   "execution_count": 24,
   "id": "dbaa24c2",
   "metadata": {},
   "outputs": [
    {
     "data": {
      "image/png": "[encoded data removed]",
      "text/plain": [
       "<Figure size 504x288 with 1 Axes>"
      ]
     },
     "metadata": {
      "needs_background": "light"
     },
     "output_type": "display_data"
    }
   ],
   "source": [
    "plt.figure(figsize=(7,4))\n",
    "sns.distplot(x=df['Age'],color='magenta')\n",
    "plt.xlabel('Age',fontsize=20,color='blue',family='times new roman')\n",
    "plt.title('Age Distribution Plot',fontsize=20,color='red',family='times new roman')\n",
    "plt.show()"
   ]
  },
  {
   "cell_type": "code",
   "execution_count": 25,
   "id": "6eeb7612",
   "metadata": {},
   "outputs": [],
   "source": [
    "age=df.Age.value_counts()\n",
    "a=age.index\n",
    "b=age.values"
   ]
  },
  {
   "cell_type": "code",
   "execution_count": 26,
   "id": "a6045b8f",
   "metadata": {},
   "outputs": [
    {
     "data": {
      "image/png": "[encoded data removed]",
      "text/plain": [
       "<Figure size 720x288 with 1 Axes>"
      ]
     },
     "metadata": {
      "needs_background": "light"
     },
     "output_type": "display_data"
    }
   ],
   "source": [
    "plt.figure(figsize=(10,4))\n",
    "sns.barplot(x=a,y=b,color='green')\n",
    "plt.xlabel('Age',fontsize=20,color='blue',family='times new roman')\n",
    "# plt.ylabel('Insurance',fontsize=20,color='blue',family='times new roman')\n",
    "plt.title('Age Distribution',fontsize=20,color='blue',family='times new roman')\n",
    "plt.show()"
   ]
  },
  {
   "cell_type": "code",
   "execution_count": 27,
   "id": "135e988c",
   "metadata": {},
   "outputs": [],
   "source": [
    "emp=df.EmpType.value_counts()\n",
    "a=emp.index\n",
    "b=emp.values"
   ]
  },
  {
   "cell_type": "code",
   "execution_count": 28,
   "id": "8e9eaa11",
   "metadata": {},
   "outputs": [
    {
     "data": {
      "image/png": "[encoded data removed]",
      "text/plain": [
       "<Figure size 144x288 with 1 Axes>"
      ]
     },
     "metadata": {
      "needs_background": "light"
     },
     "output_type": "display_data"
    }
   ],
   "source": [
    "plt.figure(figsize=(2,4))\n",
    "sns.barplot(x=a,y=b,color='red')\n",
    "plt.xlabel('Employment type',fontsize=20,color='blue',family='times new roman')\n",
    "# plt.ylabel('Insurance',fontsize=20,color='blue',family='times new roman')\n",
    "plt.title('Employement Count',fontsize=20,color='blue',family='times new roman')\n",
    "plt.show()"
   ]
  },
  {
   "cell_type": "code",
   "execution_count": 29,
   "id": "706d9531",
   "metadata": {},
   "outputs": [],
   "source": [
    "x=df.drop('Insurance',axis=1)\n",
    "y=df.Insurance"
   ]
  },
  {
   "cell_type": "code",
   "execution_count": 30,
   "id": "966ef8e5",
   "metadata": {},
   "outputs": [],
   "source": [
    "x=ss.fit_transform(x)"
   ]
  },
  {
   "cell_type": "code",
   "execution_count": 31,
   "id": "80cdd8d9",
   "metadata": {},
   "outputs": [],
   "source": [
    "from sklearn.model_selection import train_test_split"
   ]
  },
  {
   "cell_type": "code",
   "execution_count": 32,
   "id": "3bbbe863",
   "metadata": {},
   "outputs": [],
   "source": [
    "xtrain,xtest,ytrain,ytest=train_test_split(x,y,test_size=0.25,random_state=1)"
   ]
  },
  {
   "cell_type": "code",
   "execution_count": 33,
   "id": "2c47c148",
   "metadata": {},
   "outputs": [],
   "source": [
    "# Logistic Regression Model"
   ]
  },
  {
   "cell_type": "code",
   "execution_count": 34,
   "id": "6af7166f",
   "metadata": {},
   "outputs": [],
   "source": [
    "from sklearn.linear_model import LogisticRegression\n",
    "model1=LogisticRegression(fit_intercept=True,C=1)"
   ]
  },
  {
   "cell_type": "code",
   "execution_count": 35,
   "id": "4dc00479",
   "metadata": {},
   "outputs": [
    {
     "data": {
      "text/plain": [
       "(0.7115384615384616, 0.7156549520766773)"
      ]
     },
     "execution_count": 35,
     "metadata": {},
     "output_type": "execute_result"
    }
   ],
   "source": [
    "model1.fit(xtrain,ytrain)\n",
    "model1.score(xtrain,ytrain),model1.score(xtest,ytest)"
   ]
  },
  {
   "cell_type": "code",
   "execution_count": 36,
   "id": "d162ac2e",
   "metadata": {},
   "outputs": [],
   "source": [
    "# Adaboost Classifier"
   ]
  },
  {
   "cell_type": "code",
   "execution_count": 37,
   "id": "4fe5c57a",
   "metadata": {},
   "outputs": [],
   "source": [
    "from sklearn.ensemble import AdaBoostClassifier,RandomForestClassifier\n",
    "abc=AdaBoostClassifier(n_estimators=50)\n",
    "rfc=RandomForestClassifier(n_estimators=50)"
   ]
  },
  {
   "cell_type": "code",
   "execution_count": 38,
   "id": "e4d2e244",
   "metadata": {},
   "outputs": [
    {
     "data": {
      "text/plain": [
       "(0.7660256410256411, 0.7380191693290735)"
      ]
     },
     "execution_count": 38,
     "metadata": {},
     "output_type": "execute_result"
    }
   ],
   "source": [
    "abc.fit(xtrain,ytrain)\n",
    "abc.score(xtrain,ytrain),abc.score(xtest,ytest)"
   ]
  },
  {
   "cell_type": "code",
   "execution_count": 39,
   "id": "d20a7e58",
   "metadata": {},
   "outputs": [
    {
     "data": {
      "text/plain": [
       "(0.9145299145299145, 0.6198083067092651)"
      ]
     },
     "execution_count": 39,
     "metadata": {},
     "output_type": "execute_result"
    }
   ],
   "source": [
    "rfc.fit(xtrain,ytrain)\n",
    "rfc.score(xtrain,ytrain),rfc.score(xtest,ytest)"
   ]
  },
  {
   "cell_type": "code",
   "execution_count": null,
   "id": "ac2b4db0",
   "metadata": {},
   "outputs": [],
   "source": []
  },
  {
   "cell_type": "code",
   "execution_count": null,
   "id": "b4367a1e",
   "metadata": {},
   "outputs": [],
   "source": []
  },
  {
   "cell_type": "code",
   "execution_count": null,
   "id": "2784e98e",
   "metadata": {},
   "outputs": [],
   "source": []
  }
 ],
 "metadata": {
  "kernelspec": {
   "display_name": "Python 3 (ipykernel)",
   "language": "python",
   "name": "python3"
  },
  "language_info": {
   "codemirror_mode": {
    "name": "ipython",
    "version": 3
   },
   "file_extension": ".py",
   "mimetype": "text/x-python",
   "name": "python",
   "nbconvert_exporter": "python",
   "pygments_lexer": "ipython3",
   "version": "3.9.7"
  }
 },
 "nbformat": 4,
 "nbformat_minor": 5
}

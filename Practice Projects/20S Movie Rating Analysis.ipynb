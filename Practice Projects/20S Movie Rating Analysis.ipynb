{
 "cells": [
  {
   "cell_type": "markdown",
   "id": "8cf9da40",
   "metadata": {},
   "source": [
    "### Movie Rating Analysis"
   ]
  },
  {
   "cell_type": "code",
   "execution_count": 34,
   "id": "22bb00e8",
   "metadata": {},
   "outputs": [],
   "source": [
    "import numpy as np\n",
    "import pandas as pd\n",
    "import matplotlib.pyplot as plt"
   ]
  },
  {
   "cell_type": "code",
   "execution_count": 36,
   "id": "c2af91e5",
   "metadata": {},
   "outputs": [],
   "source": [
    "import warnings\n",
    "warnings.filterwarnings('ignore')"
   ]
  },
  {
   "cell_type": "code",
   "execution_count": 37,
   "id": "4e81ec47",
   "metadata": {},
   "outputs": [
    {
     "data": {
      "text/html": [
       "<div>\n",
       "<style scoped>\n",
       "    .dataframe tbody tr th:only-of-type {\n",
       "        vertical-align: middle;\n",
       "    }\n",
       "\n",
       "    .dataframe tbody tr th {\n",
       "        vertical-align: top;\n",
       "    }\n",
       "\n",
       "    .dataframe thead th {\n",
       "        text-align: right;\n",
       "    }\n",
       "</style>\n",
       "<table border=\"1\" class=\"dataframe\">\n",
       "  <thead>\n",
       "    <tr style=\"text-align: right;\">\n",
       "      <th></th>\n",
       "      <th>0000008</th>\n",
       "      <th>Edison Kinetoscopic Record of a Sneeze (1894)</th>\n",
       "      <th>Documentary|Short</th>\n",
       "    </tr>\n",
       "  </thead>\n",
       "  <tbody>\n",
       "    <tr>\n",
       "      <th>0</th>\n",
       "      <td>10</td>\n",
       "      <td>La sortie des usines Lumière (1895)</td>\n",
       "      <td>Documentary|Short</td>\n",
       "    </tr>\n",
       "    <tr>\n",
       "      <th>1</th>\n",
       "      <td>12</td>\n",
       "      <td>The Arrival of a Train (1896)</td>\n",
       "      <td>Documentary|Short</td>\n",
       "    </tr>\n",
       "  </tbody>\n",
       "</table>\n",
       "</div>"
      ],
      "text/plain": [
       "   0000008 Edison Kinetoscopic Record of a Sneeze (1894)  Documentary|Short\n",
       "0       10           La sortie des usines Lumière (1895)  Documentary|Short\n",
       "1       12                 The Arrival of a Train (1896)  Documentary|Short"
      ]
     },
     "execution_count": 37,
     "metadata": {},
     "output_type": "execute_result"
    }
   ],
   "source": [
    "movies=pd.read_csv('movies.dat',delimiter='::')\n",
    "movies.head(2)"
   ]
  },
  {
   "cell_type": "raw",
   "id": "9c8b0d1c",
   "metadata": {},
   "source": [
    "Movies dataset that does not have any column names, so let’s define the column names"
   ]
  },
  {
   "cell_type": "code",
   "execution_count": 38,
   "id": "0cb084cf",
   "metadata": {},
   "outputs": [
    {
     "data": {
      "text/html": [
       "<div>\n",
       "<style scoped>\n",
       "    .dataframe tbody tr th:only-of-type {\n",
       "        vertical-align: middle;\n",
       "    }\n",
       "\n",
       "    .dataframe tbody tr th {\n",
       "        vertical-align: top;\n",
       "    }\n",
       "\n",
       "    .dataframe thead th {\n",
       "        text-align: right;\n",
       "    }\n",
       "</style>\n",
       "<table border=\"1\" class=\"dataframe\">\n",
       "  <thead>\n",
       "    <tr style=\"text-align: right;\">\n",
       "      <th></th>\n",
       "      <th>ID</th>\n",
       "      <th>Title</th>\n",
       "      <th>Genre</th>\n",
       "    </tr>\n",
       "  </thead>\n",
       "  <tbody>\n",
       "    <tr>\n",
       "      <th>0</th>\n",
       "      <td>10</td>\n",
       "      <td>La sortie des usines Lumière (1895)</td>\n",
       "      <td>Documentary|Short</td>\n",
       "    </tr>\n",
       "    <tr>\n",
       "      <th>1</th>\n",
       "      <td>12</td>\n",
       "      <td>The Arrival of a Train (1896)</td>\n",
       "      <td>Documentary|Short</td>\n",
       "    </tr>\n",
       "  </tbody>\n",
       "</table>\n",
       "</div>"
      ],
      "text/plain": [
       "   ID                                Title              Genre\n",
       "0  10  La sortie des usines Lumière (1895)  Documentary|Short\n",
       "1  12        The Arrival of a Train (1896)  Documentary|Short"
      ]
     },
     "execution_count": 38,
     "metadata": {},
     "output_type": "execute_result"
    }
   ],
   "source": [
    "movies.columns = [\"ID\", \"Title\", \"Genre\"]\n",
    "movies.head(2)"
   ]
  },
  {
   "cell_type": "code",
   "execution_count": 39,
   "id": "7308ef4e",
   "metadata": {},
   "outputs": [
    {
     "name": "stdout",
     "output_type": "stream",
     "text": [
      "   1  0114508  8  1381006850\n",
      "0  2   499549  9  1376753198\n",
      "1  2  1305591  8  1376742507\n",
      "2  2  1428538  1  1371307089\n",
      "3  3    75314  1  1595468524\n",
      "4  3   102926  9  1590148016\n"
     ]
    }
   ],
   "source": [
    "# Now let’s import the ratings dataset:\n",
    "ratings = pd.read_csv(\"ratings.dat\", delimiter='::')\n",
    "print(ratings.head())"
   ]
  },
  {
   "cell_type": "code",
   "execution_count": 40,
   "id": "66e9cae9",
   "metadata": {},
   "outputs": [
    {
     "name": "stdout",
     "output_type": "stream",
     "text": [
      "   User       ID  Ratings   Timestamp\n",
      "0     2   499549        9  1376753198\n",
      "1     2  1305591        8  1376742507\n",
      "2     2  1428538        1  1371307089\n",
      "3     3    75314        1  1595468524\n",
      "4     3   102926        9  1590148016\n"
     ]
    }
   ],
   "source": [
    "ratings.columns = [\"User\", \"ID\", \"Ratings\", \"Timestamp\"]\n",
    "print(ratings.head())"
   ]
  },
  {
   "cell_type": "code",
   "execution_count": 41,
   "id": "e1bf14ea",
   "metadata": {},
   "outputs": [
    {
     "data": {
      "text/html": [
       "<div>\n",
       "<style scoped>\n",
       "    .dataframe tbody tr th:only-of-type {\n",
       "        vertical-align: middle;\n",
       "    }\n",
       "\n",
       "    .dataframe tbody tr th {\n",
       "        vertical-align: top;\n",
       "    }\n",
       "\n",
       "    .dataframe thead th {\n",
       "        text-align: right;\n",
       "    }\n",
       "</style>\n",
       "<table border=\"1\" class=\"dataframe\">\n",
       "  <thead>\n",
       "    <tr style=\"text-align: right;\">\n",
       "      <th></th>\n",
       "      <th>ID</th>\n",
       "      <th>Title</th>\n",
       "      <th>Genre</th>\n",
       "      <th>User</th>\n",
       "      <th>Ratings</th>\n",
       "      <th>Timestamp</th>\n",
       "    </tr>\n",
       "  </thead>\n",
       "  <tbody>\n",
       "    <tr>\n",
       "      <th>0</th>\n",
       "      <td>10</td>\n",
       "      <td>La sortie des usines Lumière (1895)</td>\n",
       "      <td>Documentary|Short</td>\n",
       "      <td>70577</td>\n",
       "      <td>10</td>\n",
       "      <td>1412878553</td>\n",
       "    </tr>\n",
       "    <tr>\n",
       "      <th>1</th>\n",
       "      <td>12</td>\n",
       "      <td>The Arrival of a Train (1896)</td>\n",
       "      <td>Documentary|Short</td>\n",
       "      <td>69535</td>\n",
       "      <td>10</td>\n",
       "      <td>1439248579</td>\n",
       "    </tr>\n",
       "  </tbody>\n",
       "</table>\n",
       "</div>"
      ],
      "text/plain": [
       "   ID                                Title              Genre   User  Ratings  \\\n",
       "0  10  La sortie des usines Lumière (1895)  Documentary|Short  70577       10   \n",
       "1  12        The Arrival of a Train (1896)  Documentary|Short  69535       10   \n",
       "\n",
       "    Timestamp  \n",
       "0  1412878553  \n",
       "1  1439248579  "
      ]
     },
     "execution_count": 41,
     "metadata": {},
     "output_type": "execute_result"
    }
   ],
   "source": [
    "data=pd.merge(movies,ratings, on=['ID','ID'])\n",
    "data.head(2)"
   ]
  },
  {
   "cell_type": "code",
   "execution_count": 42,
   "id": "a57ab701",
   "metadata": {},
   "outputs": [
    {
     "data": {
      "text/plain": [
       "0         10\n",
       "98682     10\n",
       "661398    10\n",
       "378541    10\n",
       "771004    10\n",
       "378540    10\n",
       "661401    10\n",
       "378537    10\n",
       "661404    10\n",
       "378533    10\n",
       "Name: Ratings, dtype: int64"
      ]
     },
     "execution_count": 42,
     "metadata": {},
     "output_type": "execute_result"
    }
   ],
   "source": [
    "top_ratings=data['Ratings'].sort_values(ascending=False).head(10)\n",
    "top_ratings"
   ]
  },
  {
   "cell_type": "code",
   "execution_count": 43,
   "id": "b4169b6d",
   "metadata": {},
   "outputs": [
    {
     "data": {
      "text/html": [
       "<div>\n",
       "<style scoped>\n",
       "    .dataframe tbody tr th:only-of-type {\n",
       "        vertical-align: middle;\n",
       "    }\n",
       "\n",
       "    .dataframe tbody tr th {\n",
       "        vertical-align: top;\n",
       "    }\n",
       "\n",
       "    .dataframe thead th {\n",
       "        text-align: right;\n",
       "    }\n",
       "</style>\n",
       "<table border=\"1\" class=\"dataframe\">\n",
       "  <thead>\n",
       "    <tr style=\"text-align: right;\">\n",
       "      <th></th>\n",
       "      <th>ID</th>\n",
       "      <th>Title</th>\n",
       "      <th>Genre</th>\n",
       "      <th>User</th>\n",
       "      <th>Ratings</th>\n",
       "      <th>Timestamp</th>\n",
       "    </tr>\n",
       "  </thead>\n",
       "  <tbody>\n",
       "    <tr>\n",
       "      <th>0</th>\n",
       "      <td>10</td>\n",
       "      <td>La sortie des usines Lumière (1895)</td>\n",
       "      <td>Documentary|Short</td>\n",
       "      <td>70577</td>\n",
       "      <td>10</td>\n",
       "      <td>1412878553</td>\n",
       "    </tr>\n",
       "    <tr>\n",
       "      <th>1</th>\n",
       "      <td>12</td>\n",
       "      <td>The Arrival of a Train (1896)</td>\n",
       "      <td>Documentary|Short</td>\n",
       "      <td>69535</td>\n",
       "      <td>10</td>\n",
       "      <td>1439248579</td>\n",
       "    </tr>\n",
       "    <tr>\n",
       "      <th>15</th>\n",
       "      <td>417</td>\n",
       "      <td>A Trip to the Moon (1902)</td>\n",
       "      <td>Short|Action|Adventure|Comedy|Fantasy|Sci-Fi</td>\n",
       "      <td>27589</td>\n",
       "      <td>10</td>\n",
       "      <td>1538187753</td>\n",
       "    </tr>\n",
       "    <tr>\n",
       "      <th>18</th>\n",
       "      <td>417</td>\n",
       "      <td>A Trip to the Moon (1902)</td>\n",
       "      <td>Short|Action|Adventure|Comedy|Fantasy|Sci-Fi</td>\n",
       "      <td>37621</td>\n",
       "      <td>10</td>\n",
       "      <td>1529844360</td>\n",
       "    </tr>\n",
       "    <tr>\n",
       "      <th>20</th>\n",
       "      <td>417</td>\n",
       "      <td>A Trip to the Moon (1902)</td>\n",
       "      <td>Short|Action|Adventure|Comedy|Fantasy|Sci-Fi</td>\n",
       "      <td>39522</td>\n",
       "      <td>10</td>\n",
       "      <td>1437579236</td>\n",
       "    </tr>\n",
       "    <tr>\n",
       "      <th>...</th>\n",
       "      <td>...</td>\n",
       "      <td>...</td>\n",
       "      <td>...</td>\n",
       "      <td>...</td>\n",
       "      <td>...</td>\n",
       "      <td>...</td>\n",
       "    </tr>\n",
       "    <tr>\n",
       "      <th>908617</th>\n",
       "      <td>14544192</td>\n",
       "      <td>Bo Burnham: Inside (2021)</td>\n",
       "      <td>Comedy|Drama|Music</td>\n",
       "      <td>3040</td>\n",
       "      <td>10</td>\n",
       "      <td>1622966424</td>\n",
       "    </tr>\n",
       "    <tr>\n",
       "      <th>908618</th>\n",
       "      <td>14544192</td>\n",
       "      <td>Bo Burnham: Inside (2021)</td>\n",
       "      <td>Comedy|Drama|Music</td>\n",
       "      <td>11908</td>\n",
       "      <td>10</td>\n",
       "      <td>1623004815</td>\n",
       "    </tr>\n",
       "    <tr>\n",
       "      <th>908626</th>\n",
       "      <td>14544192</td>\n",
       "      <td>Bo Burnham: Inside (2021)</td>\n",
       "      <td>Comedy|Drama|Music</td>\n",
       "      <td>54886</td>\n",
       "      <td>10</td>\n",
       "      <td>1622766966</td>\n",
       "    </tr>\n",
       "    <tr>\n",
       "      <th>908627</th>\n",
       "      <td>14544192</td>\n",
       "      <td>Bo Burnham: Inside (2021)</td>\n",
       "      <td>Comedy|Drama|Music</td>\n",
       "      <td>55241</td>\n",
       "      <td>10</td>\n",
       "      <td>1622416491</td>\n",
       "    </tr>\n",
       "    <tr>\n",
       "      <th>908628</th>\n",
       "      <td>14544192</td>\n",
       "      <td>Bo Burnham: Inside (2021)</td>\n",
       "      <td>Comedy|Drama|Music</td>\n",
       "      <td>57060</td>\n",
       "      <td>10</td>\n",
       "      <td>1623092790</td>\n",
       "    </tr>\n",
       "  </tbody>\n",
       "</table>\n",
       "<p>107284 rows × 6 columns</p>\n",
       "</div>"
      ],
      "text/plain": [
       "              ID                                Title  \\\n",
       "0             10  La sortie des usines Lumière (1895)   \n",
       "1             12        The Arrival of a Train (1896)   \n",
       "15           417            A Trip to the Moon (1902)   \n",
       "18           417            A Trip to the Moon (1902)   \n",
       "20           417            A Trip to the Moon (1902)   \n",
       "...          ...                                  ...   \n",
       "908617  14544192            Bo Burnham: Inside (2021)   \n",
       "908618  14544192            Bo Burnham: Inside (2021)   \n",
       "908626  14544192            Bo Burnham: Inside (2021)   \n",
       "908627  14544192            Bo Burnham: Inside (2021)   \n",
       "908628  14544192            Bo Burnham: Inside (2021)   \n",
       "\n",
       "                                               Genre   User  Ratings  \\\n",
       "0                                  Documentary|Short  70577       10   \n",
       "1                                  Documentary|Short  69535       10   \n",
       "15      Short|Action|Adventure|Comedy|Fantasy|Sci-Fi  27589       10   \n",
       "18      Short|Action|Adventure|Comedy|Fantasy|Sci-Fi  37621       10   \n",
       "20      Short|Action|Adventure|Comedy|Fantasy|Sci-Fi  39522       10   \n",
       "...                                              ...    ...      ...   \n",
       "908617                            Comedy|Drama|Music   3040       10   \n",
       "908618                            Comedy|Drama|Music  11908       10   \n",
       "908626                            Comedy|Drama|Music  54886       10   \n",
       "908627                            Comedy|Drama|Music  55241       10   \n",
       "908628                            Comedy|Drama|Music  57060       10   \n",
       "\n",
       "         Timestamp  \n",
       "0       1412878553  \n",
       "1       1439248579  \n",
       "15      1538187753  \n",
       "18      1529844360  \n",
       "20      1437579236  \n",
       "...            ...  \n",
       "908617  1622966424  \n",
       "908618  1623004815  \n",
       "908626  1622766966  \n",
       "908627  1622416491  \n",
       "908628  1623092790  \n",
       "\n",
       "[107284 rows x 6 columns]"
      ]
     },
     "execution_count": 43,
     "metadata": {},
     "output_type": "execute_result"
    }
   ],
   "source": [
    "# top ten moveis with rating ten\n",
    "top_moveis=data[data['Ratings']==10]\n",
    "top_moveis"
   ]
  },
  {
   "cell_type": "code",
   "execution_count": 44,
   "id": "8b903bb5",
   "metadata": {},
   "outputs": [
    {
     "data": {
      "text/plain": [
       "(107284, 6)"
      ]
     },
     "execution_count": 44,
     "metadata": {},
     "output_type": "execute_result"
    }
   ],
   "source": [
    "top_moveis.shape"
   ]
  },
  {
   "cell_type": "raw",
   "id": "5aa6c3c3",
   "metadata": {},
   "source": [
    "There are around 107284 movies that have ratings equal to 10"
   ]
  },
  {
   "cell_type": "code",
   "execution_count": 45,
   "id": "f509b775",
   "metadata": {},
   "outputs": [
    {
     "data": {
      "text/plain": [
       "(908632, 6)"
      ]
     },
     "execution_count": 45,
     "metadata": {},
     "output_type": "execute_result"
    }
   ],
   "source": [
    "data.shape"
   ]
  },
  {
   "cell_type": "code",
   "execution_count": 46,
   "id": "a67d7c0a",
   "metadata": {},
   "outputs": [
    {
     "data": {
      "text/plain": [
       "8     219311\n",
       "7     203476\n",
       "9     128749\n",
       "6     118323\n",
       "10    107284\n",
       "5      68458\n",
       "4      27779\n",
       "3      15258\n",
       "1      10663\n",
       "2       9053\n",
       "0        278\n",
       "Name: Ratings, dtype: int64"
      ]
     },
     "execution_count": 46,
     "metadata": {},
     "output_type": "execute_result"
    }
   ],
   "source": [
    "data.Ratings.value_counts()"
   ]
  },
  {
   "cell_type": "raw",
   "id": "0f3b932f",
   "metadata": {},
   "source": [
    "Around 7 Lakhs movies have been rated above 6, maximum number of rated point is 8"
   ]
  },
  {
   "cell_type": "code",
   "execution_count": 24,
   "id": "63ea578d",
   "metadata": {},
   "outputs": [
    {
     "data": {
      "image/png": "[encoded data removed]",
      "text/plain": [
       "<Figure size 432x432 with 1 Axes>"
      ]
     },
     "metadata": {},
     "output_type": "display_data"
    }
   ],
   "source": [
    "ratings = data[\"Ratings\"].value_counts()\n",
    "numbers = ratings.index\n",
    "label=['zero','one','two','three','four','five','six','Seven','Eight','Nine','Ten']\n",
    "quantity = ratings.values\n",
    "plt.figure(figsize=(6,6))\n",
    "plt.pie(quantity,labels=label,rotatelabels=True,startangle=30)\n",
    "plt.gcf()\n",
    "circle=plt.Circle((0,0),0.5,color='white')\n",
    "plt.gca().add_artist(circle)\n",
    "plt.show()"
   ]
  },
  {
   "cell_type": "code",
   "execution_count": 25,
   "id": "e3081dd8",
   "metadata": {},
   "outputs": [
    {
     "data": {
      "text/html": [
       "<div>\n",
       "<style scoped>\n",
       "    .dataframe tbody tr th:only-of-type {\n",
       "        vertical-align: middle;\n",
       "    }\n",
       "\n",
       "    .dataframe tbody tr th {\n",
       "        vertical-align: top;\n",
       "    }\n",
       "\n",
       "    .dataframe thead th {\n",
       "        text-align: right;\n",
       "    }\n",
       "</style>\n",
       "<table border=\"1\" class=\"dataframe\">\n",
       "  <thead>\n",
       "    <tr style=\"text-align: right;\">\n",
       "      <th></th>\n",
       "      <th>ID</th>\n",
       "      <th>Title</th>\n",
       "      <th>Genre</th>\n",
       "      <th>User</th>\n",
       "      <th>Ratings</th>\n",
       "      <th>Timestamp</th>\n",
       "    </tr>\n",
       "  </thead>\n",
       "  <tbody>\n",
       "    <tr>\n",
       "      <th>0</th>\n",
       "      <td>10</td>\n",
       "      <td>La sortie des usines Lumière (1895)</td>\n",
       "      <td>Documentary|Short</td>\n",
       "      <td>70577</td>\n",
       "      <td>10</td>\n",
       "      <td>1412878553</td>\n",
       "    </tr>\n",
       "    <tr>\n",
       "      <th>1</th>\n",
       "      <td>12</td>\n",
       "      <td>The Arrival of a Train (1896)</td>\n",
       "      <td>Documentary|Short</td>\n",
       "      <td>69535</td>\n",
       "      <td>10</td>\n",
       "      <td>1439248579</td>\n",
       "    </tr>\n",
       "    <tr>\n",
       "      <th>15</th>\n",
       "      <td>417</td>\n",
       "      <td>A Trip to the Moon (1902)</td>\n",
       "      <td>Short|Action|Adventure|Comedy|Fantasy|Sci-Fi</td>\n",
       "      <td>27589</td>\n",
       "      <td>10</td>\n",
       "      <td>1538187753</td>\n",
       "    </tr>\n",
       "    <tr>\n",
       "      <th>18</th>\n",
       "      <td>417</td>\n",
       "      <td>A Trip to the Moon (1902)</td>\n",
       "      <td>Short|Action|Adventure|Comedy|Fantasy|Sci-Fi</td>\n",
       "      <td>37621</td>\n",
       "      <td>10</td>\n",
       "      <td>1529844360</td>\n",
       "    </tr>\n",
       "    <tr>\n",
       "      <th>20</th>\n",
       "      <td>417</td>\n",
       "      <td>A Trip to the Moon (1902)</td>\n",
       "      <td>Short|Action|Adventure|Comedy|Fantasy|Sci-Fi</td>\n",
       "      <td>39522</td>\n",
       "      <td>10</td>\n",
       "      <td>1437579236</td>\n",
       "    </tr>\n",
       "    <tr>\n",
       "      <th>...</th>\n",
       "      <td>...</td>\n",
       "      <td>...</td>\n",
       "      <td>...</td>\n",
       "      <td>...</td>\n",
       "      <td>...</td>\n",
       "      <td>...</td>\n",
       "    </tr>\n",
       "    <tr>\n",
       "      <th>908617</th>\n",
       "      <td>14544192</td>\n",
       "      <td>Bo Burnham: Inside (2021)</td>\n",
       "      <td>Comedy|Drama|Music</td>\n",
       "      <td>3040</td>\n",
       "      <td>10</td>\n",
       "      <td>1622966424</td>\n",
       "    </tr>\n",
       "    <tr>\n",
       "      <th>908618</th>\n",
       "      <td>14544192</td>\n",
       "      <td>Bo Burnham: Inside (2021)</td>\n",
       "      <td>Comedy|Drama|Music</td>\n",
       "      <td>11908</td>\n",
       "      <td>10</td>\n",
       "      <td>1623004815</td>\n",
       "    </tr>\n",
       "    <tr>\n",
       "      <th>908626</th>\n",
       "      <td>14544192</td>\n",
       "      <td>Bo Burnham: Inside (2021)</td>\n",
       "      <td>Comedy|Drama|Music</td>\n",
       "      <td>54886</td>\n",
       "      <td>10</td>\n",
       "      <td>1622766966</td>\n",
       "    </tr>\n",
       "    <tr>\n",
       "      <th>908627</th>\n",
       "      <td>14544192</td>\n",
       "      <td>Bo Burnham: Inside (2021)</td>\n",
       "      <td>Comedy|Drama|Music</td>\n",
       "      <td>55241</td>\n",
       "      <td>10</td>\n",
       "      <td>1622416491</td>\n",
       "    </tr>\n",
       "    <tr>\n",
       "      <th>908628</th>\n",
       "      <td>14544192</td>\n",
       "      <td>Bo Burnham: Inside (2021)</td>\n",
       "      <td>Comedy|Drama|Music</td>\n",
       "      <td>57060</td>\n",
       "      <td>10</td>\n",
       "      <td>1623092790</td>\n",
       "    </tr>\n",
       "  </tbody>\n",
       "</table>\n",
       "<p>107284 rows × 6 columns</p>\n",
       "</div>"
      ],
      "text/plain": [
       "              ID                                Title  \\\n",
       "0             10  La sortie des usines Lumière (1895)   \n",
       "1             12        The Arrival of a Train (1896)   \n",
       "15           417            A Trip to the Moon (1902)   \n",
       "18           417            A Trip to the Moon (1902)   \n",
       "20           417            A Trip to the Moon (1902)   \n",
       "...          ...                                  ...   \n",
       "908617  14544192            Bo Burnham: Inside (2021)   \n",
       "908618  14544192            Bo Burnham: Inside (2021)   \n",
       "908626  14544192            Bo Burnham: Inside (2021)   \n",
       "908627  14544192            Bo Burnham: Inside (2021)   \n",
       "908628  14544192            Bo Burnham: Inside (2021)   \n",
       "\n",
       "                                               Genre   User  Ratings  \\\n",
       "0                                  Documentary|Short  70577       10   \n",
       "1                                  Documentary|Short  69535       10   \n",
       "15      Short|Action|Adventure|Comedy|Fantasy|Sci-Fi  27589       10   \n",
       "18      Short|Action|Adventure|Comedy|Fantasy|Sci-Fi  37621       10   \n",
       "20      Short|Action|Adventure|Comedy|Fantasy|Sci-Fi  39522       10   \n",
       "...                                              ...    ...      ...   \n",
       "908617                            Comedy|Drama|Music   3040       10   \n",
       "908618                            Comedy|Drama|Music  11908       10   \n",
       "908626                            Comedy|Drama|Music  54886       10   \n",
       "908627                            Comedy|Drama|Music  55241       10   \n",
       "908628                            Comedy|Drama|Music  57060       10   \n",
       "\n",
       "         Timestamp  \n",
       "0       1412878553  \n",
       "1       1439248579  \n",
       "15      1538187753  \n",
       "18      1529844360  \n",
       "20      1437579236  \n",
       "...            ...  \n",
       "908617  1622966424  \n",
       "908618  1623004815  \n",
       "908626  1622766966  \n",
       "908627  1622416491  \n",
       "908628  1623092790  \n",
       "\n",
       "[107284 rows x 6 columns]"
      ]
     },
     "execution_count": 25,
     "metadata": {},
     "output_type": "execute_result"
    }
   ],
   "source": [
    "data2 = data.query(\"Ratings == 10\")\n",
    "data2"
   ]
  },
  {
   "cell_type": "code",
   "execution_count": 26,
   "id": "a9de8f13",
   "metadata": {},
   "outputs": [
    {
     "name": "stdout",
     "output_type": "stream",
     "text": [
      "Joker (2019)                       1479\n",
      "Interstellar (2014)                1386\n",
      "1917 (2019)                         820\n",
      "Avengers: Endgame (2019)            812\n",
      "The Shawshank Redemption (1994)     707\n",
      "Gravity (2013)                      653\n",
      "The Wolf of Wall Street (2013)      581\n",
      "Hacksaw Ridge (2016)                570\n",
      "Avengers: Infinity War (2018)       535\n",
      "La La Land (2016)                   510\n",
      "Name: Title, dtype: int64\n"
     ]
    }
   ],
   "source": [
    "print(data2[\"Title\"].value_counts().head(10))"
   ]
  },
  {
   "cell_type": "markdown",
   "id": "a39fd1c3",
   "metadata": {},
   "source": [
    "### Number of order prediction"
   ]
  },
  {
   "cell_type": "raw",
   "id": "a2ea8016",
   "metadata": {},
   "source": [
    "Prediction of no of orders can help a business deal ith exprense on advertisement, and it an also be helpful for production to cap or increases the production as per demand."
   ]
  },
  {
   "cell_type": "code",
   "execution_count": 48,
   "id": "ff92b836",
   "metadata": {},
   "outputs": [
    {
     "data": {
      "text/html": [
       "<div>\n",
       "<style scoped>\n",
       "    .dataframe tbody tr th:only-of-type {\n",
       "        vertical-align: middle;\n",
       "    }\n",
       "\n",
       "    .dataframe tbody tr th {\n",
       "        vertical-align: top;\n",
       "    }\n",
       "\n",
       "    .dataframe thead th {\n",
       "        text-align: right;\n",
       "    }\n",
       "</style>\n",
       "<table border=\"1\" class=\"dataframe\">\n",
       "  <thead>\n",
       "    <tr style=\"text-align: right;\">\n",
       "      <th></th>\n",
       "      <th>ID</th>\n",
       "      <th>Store_id</th>\n",
       "      <th>Store_Type</th>\n",
       "      <th>Location_Type</th>\n",
       "      <th>Region_Code</th>\n",
       "      <th>Date</th>\n",
       "      <th>Holiday</th>\n",
       "      <th>Discount</th>\n",
       "      <th>#Order</th>\n",
       "      <th>Sales</th>\n",
       "    </tr>\n",
       "  </thead>\n",
       "  <tbody>\n",
       "    <tr>\n",
       "      <th>0</th>\n",
       "      <td>T1000001</td>\n",
       "      <td>1</td>\n",
       "      <td>S1</td>\n",
       "      <td>L3</td>\n",
       "      <td>R1</td>\n",
       "      <td>2018-01-01</td>\n",
       "      <td>1</td>\n",
       "      <td>Yes</td>\n",
       "      <td>9</td>\n",
       "      <td>7011.84</td>\n",
       "    </tr>\n",
       "    <tr>\n",
       "      <th>1</th>\n",
       "      <td>T1000002</td>\n",
       "      <td>253</td>\n",
       "      <td>S4</td>\n",
       "      <td>L2</td>\n",
       "      <td>R1</td>\n",
       "      <td>2018-01-01</td>\n",
       "      <td>1</td>\n",
       "      <td>Yes</td>\n",
       "      <td>60</td>\n",
       "      <td>51789.12</td>\n",
       "    </tr>\n",
       "    <tr>\n",
       "      <th>2</th>\n",
       "      <td>T1000003</td>\n",
       "      <td>252</td>\n",
       "      <td>S3</td>\n",
       "      <td>L2</td>\n",
       "      <td>R1</td>\n",
       "      <td>2018-01-01</td>\n",
       "      <td>1</td>\n",
       "      <td>Yes</td>\n",
       "      <td>42</td>\n",
       "      <td>36868.20</td>\n",
       "    </tr>\n",
       "    <tr>\n",
       "      <th>3</th>\n",
       "      <td>T1000004</td>\n",
       "      <td>251</td>\n",
       "      <td>S2</td>\n",
       "      <td>L3</td>\n",
       "      <td>R1</td>\n",
       "      <td>2018-01-01</td>\n",
       "      <td>1</td>\n",
       "      <td>Yes</td>\n",
       "      <td>23</td>\n",
       "      <td>19715.16</td>\n",
       "    </tr>\n",
       "    <tr>\n",
       "      <th>4</th>\n",
       "      <td>T1000005</td>\n",
       "      <td>250</td>\n",
       "      <td>S2</td>\n",
       "      <td>L3</td>\n",
       "      <td>R4</td>\n",
       "      <td>2018-01-01</td>\n",
       "      <td>1</td>\n",
       "      <td>Yes</td>\n",
       "      <td>62</td>\n",
       "      <td>45614.52</td>\n",
       "    </tr>\n",
       "  </tbody>\n",
       "</table>\n",
       "</div>"
      ],
      "text/plain": [
       "         ID  Store_id Store_Type Location_Type Region_Code        Date  \\\n",
       "0  T1000001         1         S1            L3          R1  2018-01-01   \n",
       "1  T1000002       253         S4            L2          R1  2018-01-01   \n",
       "2  T1000003       252         S3            L2          R1  2018-01-01   \n",
       "3  T1000004       251         S2            L3          R1  2018-01-01   \n",
       "4  T1000005       250         S2            L3          R4  2018-01-01   \n",
       "\n",
       "   Holiday Discount  #Order     Sales  \n",
       "0        1      Yes       9   7011.84  \n",
       "1        1      Yes      60  51789.12  \n",
       "2        1      Yes      42  36868.20  \n",
       "3        1      Yes      23  19715.16  \n",
       "4        1      Yes      62  45614.52  "
      ]
     },
     "execution_count": 48,
     "metadata": {},
     "output_type": "execute_result"
    }
   ],
   "source": [
    "import pandas as pd\n",
    "import numpy as np\n",
    "data = pd.read_csv(\"https://raw.githubusercontent.com/amankharwal/Website-data/master/supplement.csv\")"
   ]
  },
  {
   "cell_type": "code",
   "execution_count": 49,
   "id": "28f1ce9d",
   "metadata": {},
   "outputs": [],
   "source": [
    "df=data.copy()"
   ]
  },
  {
   "cell_type": "raw",
   "id": "7a9547b2",
   "metadata": {},
   "source": [
    "df.shape\n",
    ">>(188340, 10)"
   ]
  },
  {
   "cell_type": "code",
   "execution_count": 51,
   "id": "ef3decb2",
   "metadata": {},
   "outputs": [
    {
     "data": {
      "text/plain": [
       "ID               False\n",
       "Store_id         False\n",
       "Store_Type       False\n",
       "Location_Type    False\n",
       "Region_Code      False\n",
       "Date             False\n",
       "Holiday          False\n",
       "Discount         False\n",
       "#Order           False\n",
       "Sales            False\n",
       "dtype: bool"
      ]
     },
     "execution_count": 51,
     "metadata": {},
     "output_type": "execute_result"
    }
   ],
   "source": [
    "df.isnull().any()"
   ]
  },
  {
   "cell_type": "code",
   "execution_count": 53,
   "id": "5c284a5c",
   "metadata": {},
   "outputs": [
    {
     "data": {
      "text/plain": [
       "0"
      ]
     },
     "execution_count": 53,
     "metadata": {},
     "output_type": "execute_result"
    }
   ],
   "source": [
    "df.isnull().any().sum()\n",
    "# No null value in any column"
   ]
  },
  {
   "cell_type": "code",
   "execution_count": 56,
   "id": "cdee9315",
   "metadata": {},
   "outputs": [
    {
     "data": {
      "text/html": [
       "<div>\n",
       "<style scoped>\n",
       "    .dataframe tbody tr th:only-of-type {\n",
       "        vertical-align: middle;\n",
       "    }\n",
       "\n",
       "    .dataframe tbody tr th {\n",
       "        vertical-align: top;\n",
       "    }\n",
       "\n",
       "    .dataframe thead th {\n",
       "        text-align: right;\n",
       "    }\n",
       "</style>\n",
       "<table border=\"1\" class=\"dataframe\">\n",
       "  <thead>\n",
       "    <tr style=\"text-align: right;\">\n",
       "      <th></th>\n",
       "      <th>ID</th>\n",
       "      <th>Store_id</th>\n",
       "      <th>Store_Type</th>\n",
       "      <th>Location_Type</th>\n",
       "      <th>Region_Code</th>\n",
       "      <th>Date</th>\n",
       "      <th>Holiday</th>\n",
       "      <th>Discount</th>\n",
       "      <th>#Order</th>\n",
       "      <th>Sales</th>\n",
       "    </tr>\n",
       "  </thead>\n",
       "  <tbody>\n",
       "    <tr>\n",
       "      <th>0</th>\n",
       "      <td>T1000001</td>\n",
       "      <td>1</td>\n",
       "      <td>S1</td>\n",
       "      <td>L3</td>\n",
       "      <td>R1</td>\n",
       "      <td>2018-01-01</td>\n",
       "      <td>1</td>\n",
       "      <td>Yes</td>\n",
       "      <td>9</td>\n",
       "      <td>7011.84</td>\n",
       "    </tr>\n",
       "    <tr>\n",
       "      <th>1</th>\n",
       "      <td>T1000002</td>\n",
       "      <td>253</td>\n",
       "      <td>S4</td>\n",
       "      <td>L2</td>\n",
       "      <td>R1</td>\n",
       "      <td>2018-01-01</td>\n",
       "      <td>1</td>\n",
       "      <td>Yes</td>\n",
       "      <td>60</td>\n",
       "      <td>51789.12</td>\n",
       "    </tr>\n",
       "  </tbody>\n",
       "</table>\n",
       "</div>"
      ],
      "text/plain": [
       "         ID  Store_id Store_Type Location_Type Region_Code        Date  \\\n",
       "0  T1000001         1         S1            L3          R1  2018-01-01   \n",
       "1  T1000002       253         S4            L2          R1  2018-01-01   \n",
       "\n",
       "   Holiday Discount  #Order     Sales  \n",
       "0        1      Yes       9   7011.84  \n",
       "1        1      Yes      60  51789.12  "
      ]
     },
     "execution_count": 56,
     "metadata": {},
     "output_type": "execute_result"
    }
   ],
   "source": [
    "df.head(2)"
   ]
  },
  {
   "cell_type": "code",
   "execution_count": 59,
   "id": "59ae07c4",
   "metadata": {},
   "outputs": [
    {
     "data": {
      "text/plain": [
       "0"
      ]
     },
     "execution_count": 59,
     "metadata": {},
     "output_type": "execute_result"
    }
   ],
   "source": [
    "# Getting duplicates values\n",
    "df.duplicated().sum()"
   ]
  },
  {
   "cell_type": "code",
   "execution_count": 61,
   "id": "878dd98b",
   "metadata": {},
   "outputs": [],
   "source": [
    "import seaborn as sns"
   ]
  },
  {
   "cell_type": "code",
   "execution_count": 62,
   "id": "f68e71fc",
   "metadata": {},
   "outputs": [
    {
     "data": {
      "text/plain": [
       "<AxesSubplot:>"
      ]
     },
     "execution_count": 62,
     "metadata": {},
     "output_type": "execute_result"
    },
    {
     "data": {
      "image/png": "[encoded data removed]",
      "text/plain": [
       "<Figure size 432x288 with 2 Axes>"
      ]
     },
     "metadata": {
      "needs_background": "light"
     },
     "output_type": "display_data"
    }
   ],
   "source": [
    "corr=df.corr()\n",
    "corr\n",
    "sns.heatmap(corr,annot=True,cmap='coolwarm')"
   ]
  },
  {
   "cell_type": "code",
   "execution_count": 63,
   "id": "367c25b9",
   "metadata": {},
   "outputs": [
    {
     "data": {
      "text/plain": [
       "array(['S1', 'S4', 'S3', 'S2'], dtype=object)"
      ]
     },
     "execution_count": 63,
     "metadata": {},
     "output_type": "execute_result"
    }
   ],
   "source": [
    "df['Store_Type'].unique()"
   ]
  },
  {
   "cell_type": "code",
   "execution_count": 64,
   "id": "96a09996",
   "metadata": {},
   "outputs": [
    {
     "data": {
      "text/plain": [
       "array(['L3', 'L2', 'L1', 'L5', 'L4'], dtype=object)"
      ]
     },
     "execution_count": 64,
     "metadata": {},
     "output_type": "execute_result"
    }
   ],
   "source": [
    "df['Location_Type'].unique()"
   ]
  },
  {
   "cell_type": "code",
   "execution_count": 65,
   "id": "9100a873",
   "metadata": {},
   "outputs": [
    {
     "data": {
      "text/plain": [
       "array(['R1', 'R4', 'R2', 'R3'], dtype=object)"
      ]
     },
     "execution_count": 65,
     "metadata": {},
     "output_type": "execute_result"
    }
   ],
   "source": [
    "df['Region_Code'].unique()"
   ]
  },
  {
   "cell_type": "code",
   "execution_count": 66,
   "id": "b6a14db1",
   "metadata": {},
   "outputs": [
    {
     "data": {
      "text/plain": [
       "array(['Yes', 'No'], dtype=object)"
      ]
     },
     "execution_count": 66,
     "metadata": {},
     "output_type": "execute_result"
    }
   ],
   "source": [
    "df['Discount'].unique()"
   ]
  },
  {
   "cell_type": "code",
   "execution_count": 67,
   "id": "80b3aff0",
   "metadata": {},
   "outputs": [
    {
     "data": {
      "text/plain": [
       "array([1, 0], dtype=int64)"
      ]
     },
     "execution_count": 67,
     "metadata": {},
     "output_type": "execute_result"
    }
   ],
   "source": [
    "df['Holiday'].unique()"
   ]
  },
  {
   "cell_type": "code",
   "execution_count": 68,
   "id": "b45ad109",
   "metadata": {},
   "outputs": [],
   "source": [
    "from sklearn.preprocessing import StandardScaler,LabelEncoder\n",
    "ss=StandardScaler()\n",
    "le=LabelEncoder()"
   ]
  },
  {
   "cell_type": "code",
   "execution_count": 69,
   "id": "3849557b",
   "metadata": {},
   "outputs": [
    {
     "data": {
      "text/html": [
       "<div>\n",
       "<style scoped>\n",
       "    .dataframe tbody tr th:only-of-type {\n",
       "        vertical-align: middle;\n",
       "    }\n",
       "\n",
       "    .dataframe tbody tr th {\n",
       "        vertical-align: top;\n",
       "    }\n",
       "\n",
       "    .dataframe thead th {\n",
       "        text-align: right;\n",
       "    }\n",
       "</style>\n",
       "<table border=\"1\" class=\"dataframe\">\n",
       "  <thead>\n",
       "    <tr style=\"text-align: right;\">\n",
       "      <th></th>\n",
       "      <th>ID</th>\n",
       "      <th>Store_id</th>\n",
       "      <th>Store_Type</th>\n",
       "      <th>Location_Type</th>\n",
       "      <th>Region_Code</th>\n",
       "      <th>Date</th>\n",
       "      <th>Holiday</th>\n",
       "      <th>Discount</th>\n",
       "      <th>#Order</th>\n",
       "      <th>Sales</th>\n",
       "    </tr>\n",
       "  </thead>\n",
       "  <tbody>\n",
       "    <tr>\n",
       "      <th>0</th>\n",
       "      <td>T1000001</td>\n",
       "      <td>1</td>\n",
       "      <td>S1</td>\n",
       "      <td>L3</td>\n",
       "      <td>R1</td>\n",
       "      <td>2018-01-01</td>\n",
       "      <td>1</td>\n",
       "      <td>Yes</td>\n",
       "      <td>9</td>\n",
       "      <td>7011.84</td>\n",
       "    </tr>\n",
       "    <tr>\n",
       "      <th>1</th>\n",
       "      <td>T1000002</td>\n",
       "      <td>253</td>\n",
       "      <td>S4</td>\n",
       "      <td>L2</td>\n",
       "      <td>R1</td>\n",
       "      <td>2018-01-01</td>\n",
       "      <td>1</td>\n",
       "      <td>Yes</td>\n",
       "      <td>60</td>\n",
       "      <td>51789.12</td>\n",
       "    </tr>\n",
       "  </tbody>\n",
       "</table>\n",
       "</div>"
      ],
      "text/plain": [
       "         ID  Store_id Store_Type Location_Type Region_Code        Date  \\\n",
       "0  T1000001         1         S1            L3          R1  2018-01-01   \n",
       "1  T1000002       253         S4            L2          R1  2018-01-01   \n",
       "\n",
       "   Holiday Discount  #Order     Sales  \n",
       "0        1      Yes       9   7011.84  \n",
       "1        1      Yes      60  51789.12  "
      ]
     },
     "execution_count": 69,
     "metadata": {},
     "output_type": "execute_result"
    }
   ],
   "source": [
    "df.head(2)"
   ]
  },
  {
   "cell_type": "code",
   "execution_count": 70,
   "id": "d2726a5b",
   "metadata": {},
   "outputs": [],
   "source": [
    "df['Store_Type']=le.fit_transform(df['Store_Type'])\n",
    "df['Location_Type']=le.fit_transform(df['Location_Type'])\n",
    "df['Region_Code']=le.fit_transform(df['Region_Code'])\n",
    "df['Discount']=le.fit_transform(df['Discount'])"
   ]
  },
  {
   "cell_type": "code",
   "execution_count": 71,
   "id": "2d2f4bd1",
   "metadata": {},
   "outputs": [
    {
     "data": {
      "text/html": [
       "<div>\n",
       "<style scoped>\n",
       "    .dataframe tbody tr th:only-of-type {\n",
       "        vertical-align: middle;\n",
       "    }\n",
       "\n",
       "    .dataframe tbody tr th {\n",
       "        vertical-align: top;\n",
       "    }\n",
       "\n",
       "    .dataframe thead th {\n",
       "        text-align: right;\n",
       "    }\n",
       "</style>\n",
       "<table border=\"1\" class=\"dataframe\">\n",
       "  <thead>\n",
       "    <tr style=\"text-align: right;\">\n",
       "      <th></th>\n",
       "      <th>ID</th>\n",
       "      <th>Store_id</th>\n",
       "      <th>Store_Type</th>\n",
       "      <th>Location_Type</th>\n",
       "      <th>Region_Code</th>\n",
       "      <th>Date</th>\n",
       "      <th>Holiday</th>\n",
       "      <th>Discount</th>\n",
       "      <th>#Order</th>\n",
       "      <th>Sales</th>\n",
       "    </tr>\n",
       "  </thead>\n",
       "  <tbody>\n",
       "    <tr>\n",
       "      <th>0</th>\n",
       "      <td>T1000001</td>\n",
       "      <td>1</td>\n",
       "      <td>0</td>\n",
       "      <td>2</td>\n",
       "      <td>0</td>\n",
       "      <td>2018-01-01</td>\n",
       "      <td>1</td>\n",
       "      <td>1</td>\n",
       "      <td>9</td>\n",
       "      <td>7011.84</td>\n",
       "    </tr>\n",
       "    <tr>\n",
       "      <th>1</th>\n",
       "      <td>T1000002</td>\n",
       "      <td>253</td>\n",
       "      <td>3</td>\n",
       "      <td>1</td>\n",
       "      <td>0</td>\n",
       "      <td>2018-01-01</td>\n",
       "      <td>1</td>\n",
       "      <td>1</td>\n",
       "      <td>60</td>\n",
       "      <td>51789.12</td>\n",
       "    </tr>\n",
       "  </tbody>\n",
       "</table>\n",
       "</div>"
      ],
      "text/plain": [
       "         ID  Store_id  Store_Type  Location_Type  Region_Code        Date  \\\n",
       "0  T1000001         1           0              2            0  2018-01-01   \n",
       "1  T1000002       253           3              1            0  2018-01-01   \n",
       "\n",
       "   Holiday  Discount  #Order     Sales  \n",
       "0        1         1       9   7011.84  \n",
       "1        1         1      60  51789.12  "
      ]
     },
     "execution_count": 71,
     "metadata": {},
     "output_type": "execute_result"
    }
   ],
   "source": [
    "# Now We can see that labels have been encoded\n",
    "df.head(2)"
   ]
  },
  {
   "cell_type": "code",
   "execution_count": 73,
   "id": "2effb180",
   "metadata": {},
   "outputs": [],
   "source": [
    "df=df[['Store_Type','Location_Type','Region_Code','Holiday','Discount','#Order','Sales']]"
   ]
  },
  {
   "cell_type": "code",
   "execution_count": 74,
   "id": "551e86f3",
   "metadata": {},
   "outputs": [],
   "source": [
    "x=df.drop('Sales',axis=1)\n",
    "y=df['Sales']"
   ]
  },
  {
   "cell_type": "code",
   "execution_count": 75,
   "id": "b67b7ad5",
   "metadata": {},
   "outputs": [],
   "source": [
    "x=ss.fit_transform(x)"
   ]
  },
  {
   "cell_type": "code",
   "execution_count": 76,
   "id": "09ea0bba",
   "metadata": {},
   "outputs": [
    {
     "data": {
      "text/plain": [
       "array([[-0.92021484,  0.77942573, -1.11825327,  2.56675579,  1.11106042,\n",
       "        -1.9432515 ],\n",
       "       [ 1.48464256, -0.03573298, -1.11825327,  2.56675579,  1.11106042,\n",
       "        -0.26932753],\n",
       "       [ 0.68302343, -0.03573298, -1.11825327,  2.56675579,  1.11106042,\n",
       "        -0.86012423]])"
      ]
     },
     "execution_count": 76,
     "metadata": {},
     "output_type": "execute_result"
    }
   ],
   "source": [
    "x[0:3]"
   ]
  },
  {
   "cell_type": "code",
   "execution_count": 81,
   "id": "15a17eea",
   "metadata": {},
   "outputs": [
    {
     "data": {
      "text/plain": [
       "(188340,)"
      ]
     },
     "execution_count": 81,
     "metadata": {},
     "output_type": "execute_result"
    }
   ],
   "source": [
    "y.shape"
   ]
  },
  {
   "cell_type": "code",
   "execution_count": 78,
   "id": "0bc54570",
   "metadata": {},
   "outputs": [],
   "source": [
    "from sklearn.ensemble import AdaBoostRegressor\n",
    "adb=AdaBoostRegressor(base_estimator=None,\n",
    "    n_estimators=50,\n",
    "    learning_rate=1.0,\n",
    "    loss='linear',\n",
    "    random_state=None,)"
   ]
  },
  {
   "cell_type": "code",
   "execution_count": 85,
   "id": "ca2586a9",
   "metadata": {},
   "outputs": [],
   "source": [
    "from sklearn.model_selection import train_test_split\n",
    "xtrain,xtest,ytrain,ytest=train_test_split(x,y,test_size=0.3)"
   ]
  },
  {
   "cell_type": "code",
   "execution_count": 86,
   "id": "d5ab7b1a",
   "metadata": {},
   "outputs": [
    {
     "data": {
      "text/plain": [
       "(131838,)"
      ]
     },
     "execution_count": 86,
     "metadata": {},
     "output_type": "execute_result"
    }
   ],
   "source": [
    "ytrain.shape"
   ]
  },
  {
   "cell_type": "code",
   "execution_count": 87,
   "id": "f9bf4ee5",
   "metadata": {},
   "outputs": [
    {
     "data": {
      "text/plain": [
       "AdaBoostRegressor()"
      ]
     },
     "execution_count": 87,
     "metadata": {},
     "output_type": "execute_result"
    }
   ],
   "source": [
    "adb.fit(xtrain,ytrain)"
   ]
  },
  {
   "cell_type": "code",
   "execution_count": 88,
   "id": "8bd2b9ed",
   "metadata": {},
   "outputs": [
    {
     "data": {
      "text/plain": [
       "0.8565991426967401"
      ]
     },
     "execution_count": 88,
     "metadata": {},
     "output_type": "execute_result"
    }
   ],
   "source": [
    "adb.score(xtrain,ytrain)"
   ]
  },
  {
   "cell_type": "code",
   "execution_count": 89,
   "id": "0ed855c6",
   "metadata": {},
   "outputs": [
    {
     "data": {
      "text/plain": [
       "0.8580714348472462"
      ]
     },
     "execution_count": 89,
     "metadata": {},
     "output_type": "execute_result"
    }
   ],
   "source": [
    "adb.score(xtest,ytest)"
   ]
  },
  {
   "cell_type": "code",
   "execution_count": 90,
   "id": "a6080492",
   "metadata": {},
   "outputs": [],
   "source": [
    "ypred=adb.predict(xtest)"
   ]
  },
  {
   "cell_type": "code",
   "execution_count": 93,
   "id": "62524974",
   "metadata": {},
   "outputs": [
    {
     "data": {
      "text/plain": [
       "5354.948412743646"
      ]
     },
     "execution_count": 93,
     "metadata": {},
     "output_type": "execute_result"
    }
   ],
   "source": [
    "from sklearn.metrics import mean_absolute_error as mae\n",
    "mae(ytest,ypred)"
   ]
  },
  {
   "cell_type": "code",
   "execution_count": null,
   "id": "ff2574b4",
   "metadata": {},
   "outputs": [],
   "source": []
  }
 ],
 "metadata": {
  "kernelspec": {
   "display_name": "Python 3 (ipykernel)",
   "language": "python",
   "name": "python3"
  },
  "language_info": {
   "codemirror_mode": {
    "name": "ipython",
    "version": 3
   },
   "file_extension": ".py",
   "mimetype": "text/x-python",
   "name": "python",
   "nbconvert_exporter": "python",
   "pygments_lexer": "ipython3",
   "version": "3.9.7"
  }
 },
 "nbformat": 4,
 "nbformat_minor": 5
}

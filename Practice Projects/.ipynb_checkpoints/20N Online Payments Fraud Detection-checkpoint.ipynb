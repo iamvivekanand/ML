{
 "cells": [
  {
   "cell_type": "markdown",
   "id": "26a575dd",
   "metadata": {},
   "source": [
    "### Online Payments Fraud Detection"
   ]
  },
  {
   "cell_type": "raw",
   "id": "35c278fe",
   "metadata": {},
   "source": [
    "Dataset download link https://www.kaggle.com/ealaxi/paysim1/download"
   ]
  },
  {
   "cell_type": "raw",
   "id": "1d30477b",
   "metadata": {},
   "source": [
    "Dataset column descrition:\n",
    "\n",
    "step: represents a unit of time where 1 step equals 1 hour\n",
    "type: type of online transaction\n",
    "amount: the amount of the transaction\n",
    "nameOrig: customer starting the transaction\n",
    "oldbalanceOrg: balance before the transaction\n",
    "newbalanceOrig: balance after the transaction\n",
    "nameDest: recipient of the transaction\n",
    "oldbalanceDest: initial balance of recipient before the transaction\n",
    "newbalanceDest: the new balance of recipient after the transaction\n",
    "isFraud: fraud transaction"
   ]
  },
  {
   "cell_type": "code",
   "execution_count": 1,
   "id": "e72fe23a",
   "metadata": {},
   "outputs": [],
   "source": [
    "import pandas as pd\n",
    "import matplotlib.pyplot as plt\n",
    "import seaborn as sns"
   ]
  },
  {
   "cell_type": "code",
   "execution_count": null,
   "id": "32c8492f",
   "metadata": {},
   "outputs": [],
   "source": [
    "df=pd.read_csv('')"
   ]
  }
 ],
 "metadata": {
  "kernelspec": {
   "display_name": "Python 3 (ipykernel)",
   "language": "python",
   "name": "python3"
  },
  "language_info": {
   "codemirror_mode": {
    "name": "ipython",
    "version": 3
   },
   "file_extension": ".py",
   "mimetype": "text/x-python",
   "name": "python",
   "nbconvert_exporter": "python",
   "pygments_lexer": "ipython3",
   "version": "3.9.7"
  }
 },
 "nbformat": 4,
 "nbformat_minor": 5
}

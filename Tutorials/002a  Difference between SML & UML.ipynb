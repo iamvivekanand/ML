{
 "cells": [
  {
   "cell_type": "code",
   "execution_count": 1,
   "id": "f73f21fb",
   "metadata": {},
   "outputs": [],
   "source": [
    "### Difference between Supervised and Unsupervised Learning"
   ]
  },
  {
   "cell_type": "markdown",
   "id": "1a3a0110",
   "metadata": {},
   "source": [
    "- supervised learning uses labelled data, unsupervised ml does not\n",
    "- supervised learning is easy to implement, UML is difficult to implement\n",
    "- SML is less closer to real AI, UML is more closer to AI.."
   ]
  },
  {
   "cell_type": "code",
   "execution_count": 2,
   "id": "3a338325",
   "metadata": {},
   "outputs": [],
   "source": [
    "### Unsupervised ML"
   ]
  },
  {
   "cell_type": "markdown",
   "id": "6e561066",
   "metadata": {},
   "source": [
    "-does not have labelled data\n",
    "-model itself need to find the hidden patterns and useful insights from the given data\n",
    "\n",
    "its goal is to find the underlying structure in a dataset, group the data according to similarities, and represent that dataset in a compressed format.\n",
    "\n",
    "### Why use Unsupervised Learning?\n",
    "\n",
    "- it is helpful for finding useful insights from the data.\n",
    "- it is much similar as a human learns to think by their own experiences, which makes it closer to the real AI\n",
    "- works on unlabeled and uncategorized data which make unsupervised learning more important\n",
    "- In real-world, we do not always have input data with the corresponding output so to solve such cases, we need unsupervised learning."
   ]
  },
  {
   "cell_type": "code",
   "execution_count": 3,
   "id": "009de14b",
   "metadata": {},
   "outputs": [],
   "source": [
    "# Types of unsupervised learning techniques"
   ]
  },
  {
   "cell_type": "markdown",
   "id": "dae2f0f8",
   "metadata": {},
   "source": [
    "**Clustering:**\n",
    "it is Grouping the objects into clusters such that objects with most similarities remains into a group, and those with less or no similarities belongs to another group\n",
    "\n",
    "**Association:**\n",
    "-used for finding the relationships between variables in the large database. \n",
    "-It determines the set of items that occurs together in the dataset. \n",
    "\n",
    "-Association rule makes marketing strategy more effective. \n",
    "Such as people who buy X item (suppose a bread) are also tend to purchase Y (Butter/Jam) item. \n",
    "\n",
    "-A typical example of Association rule is Market Basket Analysis."
   ]
  },
  {
   "cell_type": "code",
   "execution_count": 4,
   "id": "b21f6777",
   "metadata": {},
   "outputs": [],
   "source": [
    "### Advantages of Unsupervised Learning"
   ]
  },
  {
   "cell_type": "markdown",
   "id": "460a95cb",
   "metadata": {},
   "source": [
    "- Used for more complex tasks as compared to supervised learning because, in unsupervised learning, we don't have labeled input data\n",
    "- Unsupervised learning is preferable as it is more common and easy to get unlabeled data in comparison to labeled data"
   ]
  },
  {
   "cell_type": "code",
   "execution_count": 5,
   "id": "a670fb70",
   "metadata": {},
   "outputs": [],
   "source": [
    "### Disadvantages of Unsupervised Learning"
   ]
  },
  {
   "cell_type": "markdown",
   "id": "fcdaf1b0",
   "metadata": {},
   "source": [
    "- intrinsically more difficult than supervised learning as it does not have corresponding output.\n",
    "- Result might be less accurate as input data is not labeled, and algorithms do not know the exact output in advance"
   ]
  },
  {
   "cell_type": "code",
   "execution_count": 6,
   "id": "990b3c7f",
   "metadata": {},
   "outputs": [],
   "source": [
    "### Terminologies Related to ML"
   ]
  },
  {
   "cell_type": "markdown",
   "id": "c07c9f51",
   "metadata": {},
   "source": [
    "**Outliers:**\n",
    "an observation which contains either very low value or very high value in comparison to other observed values. An outlier may hamper the result, so it should be avoided.\n",
    "\n",
    "**Multicollinearity:**\n",
    "when the iput variables are highly correlated with each other than other variables, thne such condition is called Multicollinearity. \n",
    "It should not be present in the dataset, because it creates problem while ranking the most affecting variable.\n",
    "\n",
    "**Overfitting-**\n",
    "If the algorithm works well with the training dataset but not well with test dataset.\n",
    "\n",
    "**Underfitting-**\n",
    "if our algorithm does not perform well even with training dataset, then such problem is called underfitting."
   ]
  },
  {
   "cell_type": "code",
   "execution_count": null,
   "id": "00aa8ba0",
   "metadata": {},
   "outputs": [],
   "source": []
  }
 ],
 "metadata": {
  "kernelspec": {
   "display_name": "Python 3 (ipykernel)",
   "language": "python",
   "name": "python3"
  },
  "language_info": {
   "codemirror_mode": {
    "name": "ipython",
    "version": 3
   },
   "file_extension": ".py",
   "mimetype": "text/x-python",
   "name": "python",
   "nbconvert_exporter": "python",
   "pygments_lexer": "ipython3",
   "version": "3.9.16"
  }
 },
 "nbformat": 4,
 "nbformat_minor": 5
}

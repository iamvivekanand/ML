{
 "cells": [
  {
   "cell_type": "code",
   "execution_count": null,
   "metadata": {
    "_cell_guid": "b1076dfc-b9ad-4769-8c92-a6c4dae69d19",
    "_uuid": "8f2839f25d086af736a60e9eeb907d3b93b6e0e5",
    "execution": {
     "iopub.execute_input": "2021-09-14T13:43:48.949328Z",
     "iopub.status.busy": "2021-09-14T13:43:48.948905Z",
     "iopub.status.idle": "2021-09-14T13:43:48.954215Z",
     "shell.execute_reply": "2021-09-14T13:43:48.953473Z",
     "shell.execute_reply.started": "2021-09-14T13:43:48.949299Z"
    }
   },
   "outputs": [],
   "source": [
    "import numpy as np # linear algebra\n",
    "import pandas as pd # data processing"
   ]
  },
  {
   "cell_type": "markdown",
   "metadata": {},
   "source": [
    "AdaBoost is a boosting algorithm used for the purpose of binary classification, it comes under ensemble technique.\n",
    "AdaBoost is a short form for Adaptive Boosting, it combines multiple Weak Classifiers to form a single Strong Classifier"
   ]
  },
  {
   "cell_type": "markdown",
   "metadata": {},
   "source": [
    "We will work on \"iris data\", and inbuilt data of seaborn, in this dataset we define species of a flower based on the length and width of it sepal(Green leaf like cover below pankhudi) and petal(pankhudi in hindi)"
   ]
  },
  {
   "cell_type": "code",
   "execution_count": 1,
   "metadata": {
    "execution": {
     "iopub.execute_input": "2021-09-14T13:43:48.955823Z",
     "iopub.status.busy": "2021-09-14T13:43:48.955453Z",
     "iopub.status.idle": "2021-09-14T13:43:48.969952Z",
     "shell.execute_reply": "2021-09-14T13:43:48.969166Z",
     "shell.execute_reply.started": "2021-09-14T13:43:48.955788Z"
    }
   },
   "outputs": [],
   "source": [
    "# importing the required libraries\n",
    "import sklearn\n",
    "import pandas as pd\n",
    "import seaborn as sns"
   ]
  },
  {
   "cell_type": "code",
   "execution_count": 2,
   "metadata": {
    "execution": {
     "iopub.execute_input": "2021-09-14T13:43:48.975777Z",
     "iopub.status.busy": "2021-09-14T13:43:48.975164Z",
     "iopub.status.idle": "2021-09-14T13:43:48.988726Z",
     "shell.execute_reply": "2021-09-14T13:43:48.987584Z",
     "shell.execute_reply.started": "2021-09-14T13:43:48.975742Z"
    }
   },
   "outputs": [],
   "source": [
    "# making a dataframe df from 'iris' data\n",
    "df= sns.load_dataset('iris')"
   ]
  },
  {
   "cell_type": "code",
   "execution_count": 3,
   "metadata": {
    "execution": {
     "iopub.execute_input": "2021-09-14T13:43:48.990732Z",
     "iopub.status.busy": "2021-09-14T13:43:48.990499Z",
     "iopub.status.idle": "2021-09-14T13:43:49.007896Z",
     "shell.execute_reply": "2021-09-14T13:43:49.007186Z",
     "shell.execute_reply.started": "2021-09-14T13:43:48.990705Z"
    }
   },
   "outputs": [
    {
     "data": {
      "text/html": [
       "<div>\n",
       "<style scoped>\n",
       "    .dataframe tbody tr th:only-of-type {\n",
       "        vertical-align: middle;\n",
       "    }\n",
       "\n",
       "    .dataframe tbody tr th {\n",
       "        vertical-align: top;\n",
       "    }\n",
       "\n",
       "    .dataframe thead th {\n",
       "        text-align: right;\n",
       "    }\n",
       "</style>\n",
       "<table border=\"1\" class=\"dataframe\">\n",
       "  <thead>\n",
       "    <tr style=\"text-align: right;\">\n",
       "      <th></th>\n",
       "      <th>sepal_length</th>\n",
       "      <th>sepal_width</th>\n",
       "      <th>petal_length</th>\n",
       "      <th>petal_width</th>\n",
       "      <th>species</th>\n",
       "    </tr>\n",
       "  </thead>\n",
       "  <tbody>\n",
       "    <tr>\n",
       "      <th>0</th>\n",
       "      <td>5.1</td>\n",
       "      <td>3.5</td>\n",
       "      <td>1.4</td>\n",
       "      <td>0.2</td>\n",
       "      <td>setosa</td>\n",
       "    </tr>\n",
       "    <tr>\n",
       "      <th>1</th>\n",
       "      <td>4.9</td>\n",
       "      <td>3.0</td>\n",
       "      <td>1.4</td>\n",
       "      <td>0.2</td>\n",
       "      <td>setosa</td>\n",
       "    </tr>\n",
       "    <tr>\n",
       "      <th>2</th>\n",
       "      <td>4.7</td>\n",
       "      <td>3.2</td>\n",
       "      <td>1.3</td>\n",
       "      <td>0.2</td>\n",
       "      <td>setosa</td>\n",
       "    </tr>\n",
       "  </tbody>\n",
       "</table>\n",
       "</div>"
      ],
      "text/plain": [
       "   sepal_length  sepal_width  petal_length  petal_width species\n",
       "0           5.1          3.5           1.4          0.2  setosa\n",
       "1           4.9          3.0           1.4          0.2  setosa\n",
       "2           4.7          3.2           1.3          0.2  setosa"
      ]
     },
     "execution_count": 3,
     "metadata": {},
     "output_type": "execute_result"
    }
   ],
   "source": [
    "# printing first top 3 rows\n",
    "df.head(3)"
   ]
  },
  {
   "cell_type": "code",
   "execution_count": 4,
   "metadata": {
    "execution": {
     "iopub.execute_input": "2021-09-14T13:43:49.01055Z",
     "iopub.status.busy": "2021-09-14T13:43:49.009596Z",
     "iopub.status.idle": "2021-09-14T13:43:49.032075Z",
     "shell.execute_reply": "2021-09-14T13:43:49.031136Z",
     "shell.execute_reply.started": "2021-09-14T13:43:49.010509Z"
    }
   },
   "outputs": [
    {
     "data": {
      "text/html": [
       "<div>\n",
       "<style scoped>\n",
       "    .dataframe tbody tr th:only-of-type {\n",
       "        vertical-align: middle;\n",
       "    }\n",
       "\n",
       "    .dataframe tbody tr th {\n",
       "        vertical-align: top;\n",
       "    }\n",
       "\n",
       "    .dataframe thead th {\n",
       "        text-align: right;\n",
       "    }\n",
       "</style>\n",
       "<table border=\"1\" class=\"dataframe\">\n",
       "  <thead>\n",
       "    <tr style=\"text-align: right;\">\n",
       "      <th></th>\n",
       "      <th>sepal_length</th>\n",
       "      <th>sepal_width</th>\n",
       "      <th>petal_length</th>\n",
       "      <th>petal_width</th>\n",
       "      <th>species</th>\n",
       "    </tr>\n",
       "  </thead>\n",
       "  <tbody>\n",
       "    <tr>\n",
       "      <th>147</th>\n",
       "      <td>6.5</td>\n",
       "      <td>3.0</td>\n",
       "      <td>5.2</td>\n",
       "      <td>2.0</td>\n",
       "      <td>virginica</td>\n",
       "    </tr>\n",
       "    <tr>\n",
       "      <th>148</th>\n",
       "      <td>6.2</td>\n",
       "      <td>3.4</td>\n",
       "      <td>5.4</td>\n",
       "      <td>2.3</td>\n",
       "      <td>virginica</td>\n",
       "    </tr>\n",
       "    <tr>\n",
       "      <th>149</th>\n",
       "      <td>5.9</td>\n",
       "      <td>3.0</td>\n",
       "      <td>5.1</td>\n",
       "      <td>1.8</td>\n",
       "      <td>virginica</td>\n",
       "    </tr>\n",
       "  </tbody>\n",
       "</table>\n",
       "</div>"
      ],
      "text/plain": [
       "     sepal_length  sepal_width  petal_length  petal_width    species\n",
       "147           6.5          3.0           5.2          2.0  virginica\n",
       "148           6.2          3.4           5.4          2.3  virginica\n",
       "149           5.9          3.0           5.1          1.8  virginica"
      ]
     },
     "execution_count": 4,
     "metadata": {},
     "output_type": "execute_result"
    }
   ],
   "source": [
    "# printing bottom 3 rows\n",
    "df.tail(3)"
   ]
  },
  {
   "cell_type": "markdown",
   "metadata": {
    "execution": {
     "iopub.execute_input": "2021-09-14T13:02:14.836898Z",
     "iopub.status.busy": "2021-09-14T13:02:14.836565Z",
     "iopub.status.idle": "2021-09-14T13:02:14.844393Z",
     "shell.execute_reply": "2021-09-14T13:02:14.843681Z",
     "shell.execute_reply.started": "2021-09-14T13:02:14.836868Z"
    }
   },
   "source": [
    "We can clearly see that we have 5 columns, first 4 columns are our independent variable and Last column is our Target variable"
   ]
  },
  {
   "cell_type": "code",
   "execution_count": 5,
   "metadata": {
    "execution": {
     "iopub.execute_input": "2021-09-14T13:43:49.034477Z",
     "iopub.status.busy": "2021-09-14T13:43:49.033833Z",
     "iopub.status.idle": "2021-09-14T13:43:49.067881Z",
     "shell.execute_reply": "2021-09-14T13:43:49.066948Z",
     "shell.execute_reply.started": "2021-09-14T13:43:49.034432Z"
    }
   },
   "outputs": [
    {
     "data": {
      "text/html": [
       "<div>\n",
       "<style scoped>\n",
       "    .dataframe tbody tr th:only-of-type {\n",
       "        vertical-align: middle;\n",
       "    }\n",
       "\n",
       "    .dataframe tbody tr th {\n",
       "        vertical-align: top;\n",
       "    }\n",
       "\n",
       "    .dataframe thead th {\n",
       "        text-align: right;\n",
       "    }\n",
       "</style>\n",
       "<table border=\"1\" class=\"dataframe\">\n",
       "  <thead>\n",
       "    <tr style=\"text-align: right;\">\n",
       "      <th></th>\n",
       "      <th>count</th>\n",
       "      <th>mean</th>\n",
       "      <th>std</th>\n",
       "      <th>min</th>\n",
       "      <th>25%</th>\n",
       "      <th>50%</th>\n",
       "      <th>75%</th>\n",
       "      <th>max</th>\n",
       "    </tr>\n",
       "  </thead>\n",
       "  <tbody>\n",
       "    <tr>\n",
       "      <th>sepal_length</th>\n",
       "      <td>150.0</td>\n",
       "      <td>5.843333</td>\n",
       "      <td>0.828066</td>\n",
       "      <td>4.3</td>\n",
       "      <td>5.1</td>\n",
       "      <td>5.80</td>\n",
       "      <td>6.4</td>\n",
       "      <td>7.9</td>\n",
       "    </tr>\n",
       "    <tr>\n",
       "      <th>sepal_width</th>\n",
       "      <td>150.0</td>\n",
       "      <td>3.057333</td>\n",
       "      <td>0.435866</td>\n",
       "      <td>2.0</td>\n",
       "      <td>2.8</td>\n",
       "      <td>3.00</td>\n",
       "      <td>3.3</td>\n",
       "      <td>4.4</td>\n",
       "    </tr>\n",
       "    <tr>\n",
       "      <th>petal_length</th>\n",
       "      <td>150.0</td>\n",
       "      <td>3.758000</td>\n",
       "      <td>1.765298</td>\n",
       "      <td>1.0</td>\n",
       "      <td>1.6</td>\n",
       "      <td>4.35</td>\n",
       "      <td>5.1</td>\n",
       "      <td>6.9</td>\n",
       "    </tr>\n",
       "    <tr>\n",
       "      <th>petal_width</th>\n",
       "      <td>150.0</td>\n",
       "      <td>1.199333</td>\n",
       "      <td>0.762238</td>\n",
       "      <td>0.1</td>\n",
       "      <td>0.3</td>\n",
       "      <td>1.30</td>\n",
       "      <td>1.8</td>\n",
       "      <td>2.5</td>\n",
       "    </tr>\n",
       "  </tbody>\n",
       "</table>\n",
       "</div>"
      ],
      "text/plain": [
       "              count      mean       std  min  25%   50%  75%  max\n",
       "sepal_length  150.0  5.843333  0.828066  4.3  5.1  5.80  6.4  7.9\n",
       "sepal_width   150.0  3.057333  0.435866  2.0  2.8  3.00  3.3  4.4\n",
       "petal_length  150.0  3.758000  1.765298  1.0  1.6  4.35  5.1  6.9\n",
       "petal_width   150.0  1.199333  0.762238  0.1  0.3  1.30  1.8  2.5"
      ]
     },
     "execution_count": 5,
     "metadata": {},
     "output_type": "execute_result"
    }
   ],
   "source": [
    "# getting descrition of our dataframe\n",
    "df.describe().T"
   ]
  },
  {
   "cell_type": "code",
   "execution_count": null,
   "metadata": {
    "execution": {
     "iopub.execute_input": "2021-09-14T13:43:49.070493Z",
     "iopub.status.busy": "2021-09-14T13:43:49.070145Z",
     "iopub.status.idle": "2021-09-14T13:43:49.08434Z",
     "shell.execute_reply": "2021-09-14T13:43:49.083664Z",
     "shell.execute_reply.started": "2021-09-14T13:43:49.070451Z"
    }
   },
   "outputs": [],
   "source": [
    "df.info()"
   ]
  },
  {
   "cell_type": "markdown",
   "metadata": {},
   "source": [
    "All columns are floating point type, and our target column is Object type. So its clear from here also that we have to go with classification Algorithm"
   ]
  },
  {
   "cell_type": "code",
   "execution_count": null,
   "metadata": {
    "execution": {
     "iopub.execute_input": "2021-09-14T13:43:49.086312Z",
     "iopub.status.busy": "2021-09-14T13:43:49.085738Z",
     "iopub.status.idle": "2021-09-14T13:43:49.104987Z",
     "shell.execute_reply": "2021-09-14T13:43:49.103737Z",
     "shell.execute_reply.started": "2021-09-14T13:43:49.086276Z"
    }
   },
   "outputs": [],
   "source": [
    "# getting info of null values\n",
    "df.isnull().sum()"
   ]
  },
  {
   "cell_type": "markdown",
   "metadata": {},
   "source": [
    "Since it is a built in data, so its already prepared for our use. We have no null values"
   ]
  },
  {
   "cell_type": "code",
   "execution_count": null,
   "metadata": {
    "execution": {
     "iopub.execute_input": "2021-09-14T13:43:49.10706Z",
     "iopub.status.busy": "2021-09-14T13:43:49.106753Z",
     "iopub.status.idle": "2021-09-14T13:43:49.118135Z",
     "shell.execute_reply": "2021-09-14T13:43:49.117298Z",
     "shell.execute_reply.started": "2021-09-14T13:43:49.10703Z"
    }
   },
   "outputs": [],
   "source": [
    "# Extracting Dependent and independent Variable\n",
    "X=df.drop('species',axis=1)\n",
    "y=df.species"
   ]
  },
  {
   "cell_type": "code",
   "execution_count": null,
   "metadata": {
    "execution": {
     "iopub.execute_input": "2021-09-14T13:43:49.120334Z",
     "iopub.status.busy": "2021-09-14T13:43:49.119666Z",
     "iopub.status.idle": "2021-09-14T13:43:49.135344Z",
     "shell.execute_reply": "2021-09-14T13:43:49.134245Z",
     "shell.execute_reply.started": "2021-09-14T13:43:49.120277Z"
    }
   },
   "outputs": [],
   "source": [
    "# Splitting our dataset into training and testing\n",
    "from sklearn.model_selection import train_test_split\n",
    "X_train,X_test,y_train,y_test = train_test_split(X,y,test_size=0.25,random_state=0)"
   ]
  },
  {
   "cell_type": "markdown",
   "metadata": {},
   "source": [
    "We have succesfully splitted our dataset, so will proceed for taining"
   ]
  },
  {
   "cell_type": "code",
   "execution_count": null,
   "metadata": {
    "execution": {
     "iopub.execute_input": "2021-09-14T13:43:49.202607Z",
     "iopub.status.busy": "2021-09-14T13:43:49.201875Z",
     "iopub.status.idle": "2021-09-14T13:43:49.207365Z",
     "shell.execute_reply": "2021-09-14T13:43:49.206429Z",
     "shell.execute_reply.started": "2021-09-14T13:43:49.202571Z"
    }
   },
   "outputs": [],
   "source": [
    "# importing AdaBoostClassifier\n",
    "from sklearn.ensemble import AdaBoostClassifier\n"
   ]
  },
  {
   "cell_type": "code",
   "execution_count": null,
   "metadata": {
    "execution": {
     "iopub.execute_input": "2021-09-14T13:43:49.209635Z",
     "iopub.status.busy": "2021-09-14T13:43:49.208967Z",
     "iopub.status.idle": "2021-09-14T13:43:49.220169Z",
     "shell.execute_reply": "2021-09-14T13:43:49.21942Z",
     "shell.execute_reply.started": "2021-09-14T13:43:49.209603Z"
    }
   },
   "outputs": [],
   "source": [
    "# making an instance of the classifier we have just imported\n",
    "abc=AdaBoostClassifier()"
   ]
  },
  {
   "cell_type": "code",
   "execution_count": null,
   "metadata": {
    "execution": {
     "iopub.execute_input": "2021-09-14T13:43:49.221745Z",
     "iopub.status.busy": "2021-09-14T13:43:49.221331Z",
     "iopub.status.idle": "2021-09-14T13:43:49.342719Z",
     "shell.execute_reply": "2021-09-14T13:43:49.341909Z",
     "shell.execute_reply.started": "2021-09-14T13:43:49.221713Z"
    }
   },
   "outputs": [],
   "source": [
    "# fitting our training and testing data that we have splitted\n",
    "abc.fit(X_train,y_train)"
   ]
  },
  {
   "cell_type": "code",
   "execution_count": null,
   "metadata": {
    "execution": {
     "iopub.execute_input": "2021-09-14T13:43:49.344945Z",
     "iopub.status.busy": "2021-09-14T13:43:49.344698Z",
     "iopub.status.idle": "2021-09-14T13:43:49.3661Z",
     "shell.execute_reply": "2021-09-14T13:43:49.365186Z",
     "shell.execute_reply.started": "2021-09-14T13:43:49.344917Z"
    }
   },
   "outputs": [],
   "source": [
    "# Getting Model accuracy score\n",
    "abc.score(X_train,y_train)"
   ]
  },
  {
   "cell_type": "markdown",
   "metadata": {},
   "source": [
    "Our model score is 96 percent, this is the power of AdaBoostClassifer(), without hyperparameter tuning or much more feature engineer we have got such a performance level"
   ]
  },
  {
   "cell_type": "markdown",
   "metadata": {},
   "source": [
    "### Some Visualisation"
   ]
  },
  {
   "cell_type": "code",
   "execution_count": null,
   "metadata": {
    "execution": {
     "iopub.execute_input": "2021-09-14T13:43:49.367817Z",
     "iopub.status.busy": "2021-09-14T13:43:49.367501Z",
     "iopub.status.idle": "2021-09-14T13:43:49.379475Z",
     "shell.execute_reply": "2021-09-14T13:43:49.378507Z",
     "shell.execute_reply.started": "2021-09-14T13:43:49.367778Z"
    }
   },
   "outputs": [],
   "source": [
    "import warnings\n",
    "warnings.filterwarnings('ignore')"
   ]
  },
  {
   "cell_type": "code",
   "execution_count": null,
   "metadata": {
    "execution": {
     "iopub.execute_input": "2021-09-14T13:43:49.381238Z",
     "iopub.status.busy": "2021-09-14T13:43:49.380748Z",
     "iopub.status.idle": "2021-09-14T13:43:49.714515Z",
     "shell.execute_reply": "2021-09-14T13:43:49.713908Z",
     "shell.execute_reply.started": "2021-09-14T13:43:49.381193Z"
    }
   },
   "outputs": [],
   "source": [
    "sns.barplot(x=df.species, y=df.sepal_length,data=df)"
   ]
  },
  {
   "cell_type": "markdown",
   "metadata": {},
   "source": [
    "Virginica has more average sepal length, and Setosa species has smallest average sepal length"
   ]
  },
  {
   "cell_type": "code",
   "execution_count": null,
   "metadata": {
    "execution": {
     "iopub.execute_input": "2021-09-14T13:43:49.716617Z",
     "iopub.status.busy": "2021-09-14T13:43:49.715734Z",
     "iopub.status.idle": "2021-09-14T13:43:50.046182Z",
     "shell.execute_reply": "2021-09-14T13:43:50.045276Z",
     "shell.execute_reply.started": "2021-09-14T13:43:49.716581Z"
    }
   },
   "outputs": [],
   "source": [
    "sns.barplot(x=df.species,y=df.sepal_width,data=df)"
   ]
  },
  {
   "cell_type": "markdown",
   "metadata": {},
   "source": [
    "Setosa has more average sepal width, \n",
    "and Versicolor species has smallest average sepal width"
   ]
  },
  {
   "cell_type": "code",
   "execution_count": null,
   "metadata": {
    "execution": {
     "iopub.execute_input": "2021-09-14T13:43:50.047994Z",
     "iopub.status.busy": "2021-09-14T13:43:50.047667Z",
     "iopub.status.idle": "2021-09-14T13:43:50.371261Z",
     "shell.execute_reply": "2021-09-14T13:43:50.3705Z",
     "shell.execute_reply.started": "2021-09-14T13:43:50.047953Z"
    }
   },
   "outputs": [],
   "source": [
    "sns.barplot(x=df.species,y=df.petal_length,data=df)"
   ]
  },
  {
   "cell_type": "raw",
   "metadata": {},
   "source": [
    "Virginica has the Highest average petal length, and Setosa species has smallest average petal length"
   ]
  },
  {
   "cell_type": "code",
   "execution_count": null,
   "metadata": {
    "execution": {
     "iopub.execute_input": "2021-09-14T13:43:50.374272Z",
     "iopub.status.busy": "2021-09-14T13:43:50.373914Z",
     "iopub.status.idle": "2021-09-14T13:43:50.708876Z",
     "shell.execute_reply": "2021-09-14T13:43:50.708061Z",
     "shell.execute_reply.started": "2021-09-14T13:43:50.37423Z"
    }
   },
   "outputs": [],
   "source": [
    "sns.barplot(x=df.species,y=df.petal_width,data=df)"
   ]
  },
  {
   "cell_type": "markdown",
   "metadata": {},
   "source": [
    "Virginica has the Highest average petal width, and Setosa species has smallest average petal width...\n",
    "you can alternatively say that petal width of setosa is generally very less, and that of virginica is generally greater"
   ]
  },
  {
   "cell_type": "markdown",
   "metadata": {},
   "source": [
    "THANKS FOR VISITING ME, HAVE A GOOD DAY"
   ]
  }
 ],
 "metadata": {
  "kernelspec": {
   "display_name": "Python 3 (ipykernel)",
   "language": "python",
   "name": "python3"
  },
  "language_info": {
   "codemirror_mode": {
    "name": "ipython",
    "version": 3
   },
   "file_extension": ".py",
   "mimetype": "text/x-python",
   "name": "python",
   "nbconvert_exporter": "python",
   "pygments_lexer": "ipython3",
   "version": "3.9.7"
  }
 },
 "nbformat": 4,
 "nbformat_minor": 4
}

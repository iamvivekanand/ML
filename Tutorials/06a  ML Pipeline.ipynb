{
 "cells": [
  {
   "cell_type": "code",
   "execution_count": 3,
   "id": "57bd8f0c",
   "metadata": {},
   "outputs": [
    {
     "ename": "AttributeError",
     "evalue": "'MemorizedFunc' object has no attribute 'score'",
     "output_type": "error",
     "traceback": [
      "\u001b[1;31m---------------------------------------------------------------------------\u001b[0m",
      "\u001b[1;31mAttributeError\u001b[0m                            Traceback (most recent call last)",
      "Cell \u001b[1;32mIn[3], line 32\u001b[0m\n\u001b[0;32m     29\u001b[0m cached_pipe(X_train, y_train)\n\u001b[0;32m     31\u001b[0m \u001b[38;5;66;03m# Test the pipeline with caching\u001b[39;00m\n\u001b[1;32m---> 32\u001b[0m score \u001b[38;5;241m=\u001b[39m \u001b[43mcached_pipe\u001b[49m\u001b[38;5;241;43m.\u001b[39;49m\u001b[43mscore\u001b[49m(X_test, y_test)\n",
      "\u001b[1;31mAttributeError\u001b[0m: 'MemorizedFunc' object has no attribute 'score'"
     ]
    }
   ],
   "source": [
    "from sklearn.datasets import load_digits\n",
    "from sklearn.model_selection import train_test_split\n",
    "from sklearn.svm import SVC\n",
    "from sklearn.pipeline import Pipeline\n",
    "from sklearn.preprocessing import StandardScaler\n",
    "from sklearn.decomposition import PCA\n",
    "from joblib import Memory\n",
    "\n",
    "# Load the digits dataset\n",
    "digits = load_digits()\n",
    "\n",
    "# Split the data into training and test sets\n",
    "X_train, X_test, y_train, y_test = train_test_split(digits.data, digits.target, test_size=0.2, random_state=42)\n",
    "\n",
    "# Create a pipeline with a support vector machine classifier\n",
    "pipe = Pipeline([\n",
    "    ('scaler', StandardScaler()),\n",
    "    ('pca', PCA(n_components=0.95)),\n",
    "    ('svm', SVC())\n",
    "])\n",
    "\n",
    "# Create a memory object to cache function calls\n",
    "memory = Memory(location='cache', verbose=0)\n",
    "\n",
    "# Wrap the pipeline with the memory object\n",
    "cached_pipe = memory.cache(pipe.fit)\n",
    "\n",
    "# Fit the pipeline with caching\n",
    "cached_pipe(X_train, y_train)\n",
    "\n",
    "# Test the pipeline with caching\n",
    "score = cached_pipe.score(X_test, y_test)\n"
   ]
  },
  {
   "cell_type": "code",
   "execution_count": 5,
   "id": "bc6023af",
   "metadata": {},
   "outputs": [
    {
     "ename": "AttributeError",
     "evalue": "'MemorizedFunc' object has no attribute 'fit'",
     "output_type": "error",
     "traceback": [
      "\u001b[1;31m---------------------------------------------------------------------------\u001b[0m",
      "\u001b[1;31mAttributeError\u001b[0m                            Traceback (most recent call last)",
      "Cell \u001b[1;32mIn[5], line 29\u001b[0m\n\u001b[0;32m     26\u001b[0m cached_pipe \u001b[38;5;241m=\u001b[39m memory\u001b[38;5;241m.\u001b[39mcache(pipe\u001b[38;5;241m.\u001b[39mfit)\n\u001b[0;32m     28\u001b[0m \u001b[38;5;66;03m# Fit the pipeline with caching\u001b[39;00m\n\u001b[1;32m---> 29\u001b[0m \u001b[43mcached_pipe\u001b[49m\u001b[38;5;241;43m.\u001b[39;49m\u001b[43mfit\u001b[49m(X_train, y_train)\n\u001b[0;32m     31\u001b[0m \u001b[38;5;66;03m# Test the pipeline with caching\u001b[39;00m\n\u001b[0;32m     32\u001b[0m y_pred \u001b[38;5;241m=\u001b[39m cached_pipe\u001b[38;5;241m.\u001b[39mpredict(X_test)\n",
      "\u001b[1;31mAttributeError\u001b[0m: 'MemorizedFunc' object has no attribute 'fit'"
     ]
    }
   ],
   "source": [
    "from sklearn.datasets import load_digits\n",
    "from sklearn.model_selection import train_test_split\n",
    "from sklearn.svm import SVC\n",
    "from sklearn.pipeline import Pipeline\n",
    "from sklearn.preprocessing import StandardScaler\n",
    "from sklearn.decomposition import PCA\n",
    "from joblib import Memory\n",
    "\n",
    "# Load the digits dataset\n",
    "digits = load_digits()\n",
    "\n",
    "# Split the data into training and test sets\n",
    "X_train, X_test, y_train, y_test = train_test_split(digits.data, digits.target, test_size=0.2, random_state=42)\n",
    "\n",
    "# Create a pipeline with a support vector machine classifier\n",
    "pipe = Pipeline([\n",
    "    ('scaler', StandardScaler()),\n",
    "    ('pca', PCA(n_components=0.95)),\n",
    "    ('svm', SVC())\n",
    "])\n",
    "\n",
    "# Create a memory object to cache function calls\n",
    "memory = Memory(location='cache', verbose=0)\n",
    "\n",
    "# Wrap the pipeline with the memory object\n",
    "cached_pipe = memory.cache(pipe.fit)\n",
    "\n",
    "# Fit the pipeline with caching\n",
    "cached_pipe.fit(X_train, y_train)\n",
    "\n",
    "# Test the pipeline with caching\n",
    "y_pred = cached_pipe.predict(X_test)\n",
    "score = sum(y_pred == y_test) / len(y_test)\n",
    "print(\"Accuracy:\", score)"
   ]
  },
  {
   "cell_type": "code",
   "execution_count": null,
   "id": "96ef21c6",
   "metadata": {},
   "outputs": [],
   "source": [
    "import dask_ml.cluster\n",
    "from dask.distributed import Client\n",
    "from sklearn.datasets import make_blobs\n",
    "from sklearn.cluster import KMeans\n",
    "\n",
    "# Create a Dask client to connect to a Dask cluster\n",
    "client = Client()\n",
    "\n",
    "# Generate a large dataset\n",
    "X, y = make_blobs(n_samples=1000000, centers=5)\n",
    "\n",
    "# Create a distributed KMeans estimator using Dask\n",
    "kmeans = dask_ml.cluster.KMeans(n_clusters=5)\n",
    "\n",
    "# Fit the estimator in parallel using Dask\n",
    "kmeans.fit(X)\n",
    "\n",
    "# Predict cluster labels for the dataset\n",
    "labels = kmeans.predict(X)\n",
    "\n",
    "# Compute the Silhouette Score for the clustering\n",
    "from sklearn.metrics import silhouette_score\n",
    "score = silhouette_score(X, labels)\n",
    "\n",
    "print(\"Silhouette Score:\", score)"
   ]
  }
 ],
 "metadata": {
  "kernelspec": {
   "display_name": "Python 3 (ipykernel)",
   "language": "python",
   "name": "python3"
  },
  "language_info": {
   "codemirror_mode": {
    "name": "ipython",
    "version": 3
   },
   "file_extension": ".py",
   "mimetype": "text/x-python",
   "name": "python",
   "nbconvert_exporter": "python",
   "pygments_lexer": "ipython3",
   "version": "3.9.16"
  }
 },
 "nbformat": 4,
 "nbformat_minor": 5
}

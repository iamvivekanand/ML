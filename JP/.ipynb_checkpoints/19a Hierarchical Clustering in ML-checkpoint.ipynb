{
 "cells": [
  {
   "cell_type": "markdown",
   "metadata": {},
   "source": [
    "### Hierarchical Clustering"
   ]
  },
  {
   "cell_type": "raw",
   "metadata": {},
   "source": [
    "-an unsupervised machine learning technique used to group the unlabeled datasets into a cluster\n",
    "Hierarchical clustering algorithms falls into following two categories"
   ]
  },
  {
   "cell_type": "code",
   "execution_count": 1,
   "metadata": {},
   "outputs": [],
   "source": [
    "# 1.Agglomerative hierarchical Clustering"
   ]
  },
  {
   "cell_type": "raw",
   "metadata": {},
   "source": [
    "-Each data point is treated as a single cluster \n",
    "-and then successively merged or agglomerated (bottom-up approach) into the pairs of clusters \n",
    "-The hierarchy of the clusters is represented as a dendrogram or tree structure"
   ]
  },
  {
   "cell_type": "code",
   "execution_count": 2,
   "metadata": {},
   "outputs": [],
   "source": [
    "# 2.Divisive hierarchical algorithms"
   ]
  },
  {
   "cell_type": "raw",
   "metadata": {},
   "source": [
    "-all the data points are treated as one big cluster \n",
    "-and then we keep dividing (Top-down approach) the one big cluster into various small clusters."
   ]
  },
  {
   "cell_type": "markdown",
   "metadata": {},
   "source": [
    "### Steps in Agglomerative Hierarchical Clustering"
   ]
  },
  {
   "cell_type": "raw",
   "metadata": {},
   "source": [
    "Step 1 − \n",
    "Treat each data point as single cluster. Hence, if we have say K datapoints at start, we will have K number of clusters"
   ]
  },
  {
   "cell_type": "raw",
   "metadata": {},
   "source": [
    "Step 2 − \n",
    "Now, we need to form a big cluster by joining two closet datapoints. This will result in total of K-1 clusters"
   ]
  },
  {
   "cell_type": "raw",
   "metadata": {},
   "source": [
    "Step 3 − \n",
    "Now, to form more clusters we need to join two closet clusters. This will result in total of K-2 clusters."
   ]
  },
  {
   "cell_type": "raw",
   "metadata": {},
   "source": [
    "Step 4 − \n",
    "Now, to form one big cluster repeat the above three steps until K would become 0 i.e. no more data points left to join"
   ]
  },
  {
   "cell_type": "raw",
   "metadata": {},
   "source": [
    "Step 5 − \n",
    "At last, after making one single big cluster, dendrograms will be used to divide into multiple clusters depending upon the problem."
   ]
  },
  {
   "cell_type": "markdown",
   "metadata": {},
   "source": [
    "### Measure for the distance between two clusters"
   ]
  },
  {
   "cell_type": "raw",
   "metadata": {},
   "source": [
    "There are various ways to calculate the distance between two clusters, and these ways decide the rule for clustering. These measures are called Linkage methods"
   ]
  },
  {
   "cell_type": "code",
   "execution_count": 3,
   "metadata": {},
   "outputs": [],
   "source": [
    "# Single Linkage:"
   ]
  },
  {
   "cell_type": "raw",
   "metadata": {},
   "source": [
    "It is the Shortest Distance between the closest points of the clusters"
   ]
  },
  {
   "cell_type": "markdown",
   "metadata": {},
   "source": [
    "<img src='single-linkage.jpg'>"
   ]
  },
  {
   "cell_type": "code",
   "execution_count": 4,
   "metadata": {},
   "outputs": [],
   "source": [
    "# Complete Linkage:"
   ]
  },
  {
   "cell_type": "raw",
   "metadata": {},
   "source": [
    "farthest distance between the two points of two different clusters.\n",
    "-it forms tighter clusters than single-linkage."
   ]
  },
  {
   "cell_type": "markdown",
   "metadata": {},
   "source": [
    "<img src='complete-linkage.jpg'>"
   ]
  },
  {
   "cell_type": "code",
   "execution_count": 5,
   "metadata": {},
   "outputs": [],
   "source": [
    "# Average Linkage"
   ]
  },
  {
   "cell_type": "raw",
   "metadata": {},
   "source": [
    "In this, the distance between each pair of datapoints is added up and then divided by the total number of datapoints to calculate the average distance between two clusters. It is also one of the most popular linkage methods."
   ]
  },
  {
   "cell_type": "code",
   "execution_count": 6,
   "metadata": {},
   "outputs": [],
   "source": [
    "# Centroid Linkage:"
   ]
  },
  {
   "cell_type": "raw",
   "metadata": {},
   "source": [
    "The distance between the centroid of the clusters is calculated"
   ]
  },
  {
   "cell_type": "markdown",
   "metadata": {},
   "source": [
    "<img src='centroid-linkage.jpg'>"
   ]
  },
  {
   "cell_type": "markdown",
   "metadata": {},
   "source": [
    "### Woking of Dendrogram in Hierarchical clustering"
   ]
  },
  {
   "cell_type": "raw",
   "metadata": {},
   "source": [
    "The dendrogram is a tree-like structure that is mainly used to store each step as a memory that the HC algorithm performs. \n",
    "-In the dendrogram plot, the Y-axis shows the Euclidean distances between the data points, \n",
    "-and the x-axis shows all the data points of the given dataset."
   ]
  },
  {
   "cell_type": "code",
   "execution_count": 7,
   "metadata": {},
   "outputs": [],
   "source": [
    "import numpy as np \n",
    "import matplotlib.pyplot as plt \n",
    "import pandas as pd  "
   ]
  },
  {
   "cell_type": "code",
   "execution_count": 8,
   "metadata": {},
   "outputs": [],
   "source": [
    "df=pd.read_csv('mall_customers.csv')"
   ]
  },
  {
   "cell_type": "code",
   "execution_count": 9,
   "metadata": {},
   "outputs": [
    {
     "data": {
      "text/html": [
       "<div>\n",
       "<style scoped>\n",
       "    .dataframe tbody tr th:only-of-type {\n",
       "        vertical-align: middle;\n",
       "    }\n",
       "\n",
       "    .dataframe tbody tr th {\n",
       "        vertical-align: top;\n",
       "    }\n",
       "\n",
       "    .dataframe thead th {\n",
       "        text-align: right;\n",
       "    }\n",
       "</style>\n",
       "<table border=\"1\" class=\"dataframe\">\n",
       "  <thead>\n",
       "    <tr style=\"text-align: right;\">\n",
       "      <th></th>\n",
       "      <th>CustomerID</th>\n",
       "      <th>Genre</th>\n",
       "      <th>Age</th>\n",
       "      <th>Annual Income (k$)</th>\n",
       "      <th>Spending Score (1-100)</th>\n",
       "    </tr>\n",
       "  </thead>\n",
       "  <tbody>\n",
       "    <tr>\n",
       "      <th>0</th>\n",
       "      <td>1</td>\n",
       "      <td>Male</td>\n",
       "      <td>19</td>\n",
       "      <td>15</td>\n",
       "      <td>39</td>\n",
       "    </tr>\n",
       "    <tr>\n",
       "      <th>1</th>\n",
       "      <td>2</td>\n",
       "      <td>Male</td>\n",
       "      <td>21</td>\n",
       "      <td>15</td>\n",
       "      <td>81</td>\n",
       "    </tr>\n",
       "    <tr>\n",
       "      <th>2</th>\n",
       "      <td>3</td>\n",
       "      <td>Female</td>\n",
       "      <td>20</td>\n",
       "      <td>16</td>\n",
       "      <td>6</td>\n",
       "    </tr>\n",
       "    <tr>\n",
       "      <th>3</th>\n",
       "      <td>4</td>\n",
       "      <td>Female</td>\n",
       "      <td>23</td>\n",
       "      <td>16</td>\n",
       "      <td>77</td>\n",
       "    </tr>\n",
       "    <tr>\n",
       "      <th>4</th>\n",
       "      <td>5</td>\n",
       "      <td>Female</td>\n",
       "      <td>31</td>\n",
       "      <td>17</td>\n",
       "      <td>40</td>\n",
       "    </tr>\n",
       "  </tbody>\n",
       "</table>\n",
       "</div>"
      ],
      "text/plain": [
       "   CustomerID   Genre  Age  Annual Income (k$)  Spending Score (1-100)\n",
       "0           1    Male   19                  15                      39\n",
       "1           2    Male   21                  15                      81\n",
       "2           3  Female   20                  16                       6\n",
       "3           4  Female   23                  16                      77\n",
       "4           5  Female   31                  17                      40"
      ]
     },
     "execution_count": 9,
     "metadata": {},
     "output_type": "execute_result"
    }
   ],
   "source": [
    "df.head()"
   ]
  },
  {
   "cell_type": "code",
   "execution_count": 10,
   "metadata": {},
   "outputs": [
    {
     "data": {
      "text/plain": [
       "(200, 5)"
      ]
     },
     "execution_count": 10,
     "metadata": {},
     "output_type": "execute_result"
    }
   ],
   "source": [
    "df.shape"
   ]
  },
  {
   "cell_type": "code",
   "execution_count": 14,
   "metadata": {},
   "outputs": [],
   "source": [
    "# choose dependenet and independent variables, since its a classification we don't need to choose y\n",
    "X=df.iloc[:,[3,4]].values"
   ]
  },
  {
   "cell_type": "code",
   "execution_count": 12,
   "metadata": {},
   "outputs": [],
   "source": [
    "#Finding the optimal number of clusters using the dendrogram  \n",
    "import scipy.cluster.hierarchy as shc"
   ]
  },
  {
   "cell_type": "raw",
   "metadata": {},
   "source": [
    "Ward is a linkage method and is calculated as follows:\n",
    "\n",
    "At each step, the following calculations are made to find E:\n",
    "\n",
    "Find the mean of each cluster.\n",
    "Calculate the distance between each object in a particular cluster, and that cluster’s mean.\n",
    "Square the differences from Step 2.\n",
    "Sum (add up) the squared values from Step 3.\n",
    "Add up all the sums of squares from Step 4.\n"
   ]
  },
  {
   "cell_type": "code",
   "execution_count": 13,
   "metadata": {},
   "outputs": [
    {
     "data": {
      "image/png": "[encoded data removed]",
      "text/plain": [
       "<Figure size 432x288 with 1 Axes>"
      ]
     },
     "metadata": {
      "needs_background": "light"
     },
     "output_type": "display_data"
    }
   ],
   "source": [
    "dendro=shc.dendrogram(shc.linkage(X,method='ward'))\n",
    "plt.title(\"Dendrogram Plot\")  \n",
    "plt.ylabel(\"Euclidean Distances\")  \n",
    "plt.xlabel(\"Customers\")  \n",
    "plt.show()  "
   ]
  },
  {
   "cell_type": "raw",
   "metadata": {},
   "source": [
    "To determine the optimal number of clusters for our model, we will find the maximum vertical distance that does not cut any horizontal bar"
   ]
  },
  {
   "cell_type": "raw",
   "metadata": {},
   "source": [
    "We can see that the maximum vertical distance is between 100 and 245 approx, so optimal number of cluster will be 5, vertical bar in that scenario."
   ]
  },
  {
   "cell_type": "code",
   "execution_count": 16,
   "metadata": {},
   "outputs": [],
   "source": [
    "from sklearn.cluster import AgglomerativeClustering\n",
    "hc=AgglomerativeClustering(n_clusters=5,linkage='ward')"
   ]
  },
  {
   "cell_type": "code",
   "execution_count": 19,
   "metadata": {},
   "outputs": [],
   "source": [
    "y_pred=hc.fit_predict(X)"
   ]
  },
  {
   "cell_type": "raw",
   "metadata": {},
   "source": [
    "n_clusters=5: \n",
    "It defines the number of clusters, and we have taken here 5 because it is the optimal number of clusters.\n",
    "\n",
    "affinity='euclidean': \n",
    "It is a metric used to compute the linkage."
   ]
  },
  {
   "cell_type": "markdown",
   "metadata": {},
   "source": [
    "## Implementation Practice"
   ]
  },
  {
   "cell_type": "code",
   "execution_count": 2,
   "metadata": {},
   "outputs": [],
   "source": [
    "import pandas as pd\n",
    "import matplotlib.pyplot as plt\n",
    "import seaborn as sns\n",
    "import scipy"
   ]
  },
  {
   "cell_type": "code",
   "execution_count": 9,
   "metadata": {},
   "outputs": [
    {
     "data": {
      "text/html": [
       "<div>\n",
       "<style scoped>\n",
       "    .dataframe tbody tr th:only-of-type {\n",
       "        vertical-align: middle;\n",
       "    }\n",
       "\n",
       "    .dataframe tbody tr th {\n",
       "        vertical-align: top;\n",
       "    }\n",
       "\n",
       "    .dataframe thead th {\n",
       "        text-align: right;\n",
       "    }\n",
       "</style>\n",
       "<table border=\"1\" class=\"dataframe\">\n",
       "  <thead>\n",
       "    <tr style=\"text-align: right;\">\n",
       "      <th></th>\n",
       "      <th>CustomerID</th>\n",
       "      <th>Genre</th>\n",
       "      <th>Age</th>\n",
       "      <th>Annual Income (k$)</th>\n",
       "      <th>Spending Score (1-100)</th>\n",
       "    </tr>\n",
       "  </thead>\n",
       "  <tbody>\n",
       "    <tr>\n",
       "      <th>0</th>\n",
       "      <td>1</td>\n",
       "      <td>Male</td>\n",
       "      <td>19</td>\n",
       "      <td>15</td>\n",
       "      <td>39</td>\n",
       "    </tr>\n",
       "    <tr>\n",
       "      <th>1</th>\n",
       "      <td>2</td>\n",
       "      <td>Male</td>\n",
       "      <td>21</td>\n",
       "      <td>15</td>\n",
       "      <td>81</td>\n",
       "    </tr>\n",
       "    <tr>\n",
       "      <th>2</th>\n",
       "      <td>3</td>\n",
       "      <td>Female</td>\n",
       "      <td>20</td>\n",
       "      <td>16</td>\n",
       "      <td>6</td>\n",
       "    </tr>\n",
       "  </tbody>\n",
       "</table>\n",
       "</div>"
      ],
      "text/plain": [
       "   CustomerID   Genre  Age  Annual Income (k$)  Spending Score (1-100)\n",
       "0           1    Male   19                  15                      39\n",
       "1           2    Male   21                  15                      81\n",
       "2           3  Female   20                  16                       6"
      ]
     },
     "execution_count": 9,
     "metadata": {},
     "output_type": "execute_result"
    }
   ],
   "source": [
    "# loading dataset\n",
    "\n",
    "df=pd.read_csv('mall_customers.csv')\n",
    "df.head(3)"
   ]
  },
  {
   "cell_type": "code",
   "execution_count": 13,
   "metadata": {},
   "outputs": [],
   "source": [
    "# choose dependenet and independent variables\n",
    "\n",
    "X=df.iloc[:,[2,3,4]]"
   ]
  },
  {
   "cell_type": "code",
   "execution_count": 15,
   "metadata": {},
   "outputs": [
    {
     "data": {
      "text/plain": [
       "count    200.000000\n",
       "mean      60.560000\n",
       "std       26.264721\n",
       "min       15.000000\n",
       "25%       41.500000\n",
       "50%       61.500000\n",
       "75%       78.000000\n",
       "max      137.000000\n",
       "Name: Annual Income (k$), dtype: float64"
      ]
     },
     "execution_count": 15,
     "metadata": {},
     "output_type": "execute_result"
    }
   ],
   "source": [
    "# descriptions of the data\n",
    "df['Annual Income (k$)'].describe()"
   ]
  },
  {
   "cell_type": "code",
   "execution_count": null,
   "metadata": {},
   "outputs": [],
   "source": [
    "# Get dendrogram using hierarchical class of clustering  "
   ]
  },
  {
   "cell_type": "code",
   "execution_count": 17,
   "metadata": {},
   "outputs": [],
   "source": [
    "from scipy.cluster import hierarchy as shc \n",
    "from sklearn.cluster import AgglomerativeClustering"
   ]
  },
  {
   "cell_type": "code",
   "execution_count": 18,
   "metadata": {
    "scrolled": true
   },
   "outputs": [
    {
     "data": {
      "image/png": "[encoded data removed]",
      "text/plain": [
       "<Figure size 432x288 with 1 Axes>"
      ]
     },
     "metadata": {
      "needs_background": "light"
     },
     "output_type": "display_data"
    }
   ],
   "source": [
    "# make and instance of dendrogram  & Visualise it to get optimal no of clusters\n",
    "dendro=shc.dendrogram(shc.linkage(X,method='ward'))\n",
    "plt.title(\"Dendrogram Plot\")  \n",
    "plt.ylabel(\"Euclidean Distances\")  \n",
    "plt.xlabel(\"Customers\")  \n",
    "plt.show()"
   ]
  },
  {
   "cell_type": "raw",
   "metadata": {},
   "source": [
    "Optimal no of clusters is given by maximum vertical distance that does not cut any horizontal bar, we count vertical in that distance area. Here we got 5 optimum no of clusters between 100 and 245."
   ]
  },
  {
   "cell_type": "code",
   "execution_count": 25,
   "metadata": {},
   "outputs": [],
   "source": [
    "# training the model with optimal no of clusters\n",
    "\n",
    "from sklearn.cluster import AgglomerativeClustering\n",
    "model=AgglomerativeClustering(n_clusters=5, linkage='ward')"
   ]
  },
  {
   "cell_type": "code",
   "execution_count": 26,
   "metadata": {},
   "outputs": [],
   "source": [
    "y_pred=model.fit_predict(X)"
   ]
  },
  {
   "cell_type": "markdown",
   "metadata": {},
   "source": [
    "### Parameters & Descriptions"
   ]
  },
  {
   "cell_type": "raw",
   "metadata": {},
   "source": [
    "AgglomerativeClustering(\n",
    "                        n_clusters=2,\n",
    "                        *,\n",
    "                        affinity='euclidean',\n",
    "                        memory=None,\n",
    "                        connectivity=None,\n",
    "                        compute_full_tree='auto',\n",
    "                        linkage='ward',\n",
    "                        distance_threshold=None,\n",
    "                        compute_distances=False,\n",
    "                        )\n",
    "\n",
    "Docstring:     \n",
    "Agglomerative Clustering:\n",
    "\n",
    "Recursively merges the pair of clusters that minimally increases\n",
    "a given linkage distance.\n",
    "\n",
    "Read more in the :ref:`User Guide <hierarchical_clustering>`.\n",
    "\n",
    "Parameters\n",
    "----------\n",
    "n_clusters : int or None, default=2\n",
    "    The number of clusters to find. It must be ``None`` if\n",
    "    ``distance_threshold`` is not ``None``.\n",
    "\n",
    "affinity : str or callable, default='euclidean'\n",
    "    Metric used to compute the linkage. Can be \"euclidean\", \"l1\", \"l2\",\n",
    "    \"manhattan\", \"cosine\", or \"precomputed\".\n",
    "    If linkage is \"ward\", only \"euclidean\" is accepted.\n",
    "    If \"precomputed\", a distance matrix (instead of a similarity matrix)\n",
    "    is needed as input for the fit method.\n",
    "\n",
    "memory : str or object with the joblib.Memory interface, default=None\n",
    "    Used to cache the output of the computation of the tree.\n",
    "    By default, no caching is done. If a string is given, it is the\n",
    "    path to the caching directory.\n",
    "\n",
    "connectivity : array-like or callable, default=None\n",
    "    Connectivity matrix. Defines for each sample the neighboring\n",
    "    samples following a given structure of the data.\n",
    "    This can be a connectivity matrix itself or a callable that transforms\n",
    "    the data into a connectivity matrix, such as derived from\n",
    "    kneighbors_graph. Default is ``None``, i.e, the\n",
    "    hierarchical clustering algorithm is unstructured.\n",
    "\n",
    "compute_full_tree : 'auto' or bool, default='auto'\n",
    "    Stop early the construction of the tree at ``n_clusters``. This is\n",
    "    useful to decrease computation time if the number of clusters is not\n",
    "    small compared to the number of samples. This option is useful only\n",
    "    when specifying a connectivity matrix. Note also that when varying the\n",
    "    number of clusters and using caching, it may be advantageous to compute\n",
    "    the full tree. It must be ``True`` if ``distance_threshold`` is not\n",
    "    ``None``. By default `compute_full_tree` is \"auto\", which is equivalent\n",
    "    to `True` when `distance_threshold` is not `None` or that `n_clusters`\n",
    "    is inferior to the maximum between 100 or `0.02 * n_samples`.\n",
    "    Otherwise, \"auto\" is equivalent to `False`.\n",
    "\n",
    "linkage : {'ward', 'complete', 'average', 'single'}, default='ward'\n",
    "    Which linkage criterion to use. The linkage criterion determines which\n",
    "    distance to use between sets of observation. The algorithm will merge\n",
    "    the pairs of cluster that minimize this criterion.\n",
    "\n",
    "    - 'ward' minimizes the variance of the clusters being merged.\n",
    "    - 'average' uses the average of the distances of each observation of\n",
    "      the two sets.\n",
    "    - 'complete' or 'maximum' linkage uses the maximum distances between\n",
    "      all observations of the two sets.\n",
    "    - 'single' uses the minimum of the distances between all observations\n",
    "      of the two sets.\n",
    "\n",
    "    .. versionadded:: 0.20\n",
    "        Added the 'single' option\n",
    "\n",
    "distance_threshold : float, default=None\n",
    "    The linkage distance threshold above which, clusters will not be\n",
    "    merged. If not ``None``, ``n_clusters`` must be ``None`` and\n",
    "    ``compute_full_tree`` must be ``True``.\n",
    "\n",
    "    .. versionadded:: 0.21\n",
    "\n",
    "compute_distances : bool, default=False\n",
    "    Computes distances between clusters even if `distance_threshold` is not\n",
    "    used. This can be used to make dendrogram visualization, but introduces\n",
    "    a computational and memory overhead.\n",
    "\n",
    "    .. versionadded:: 0.24\n",
    "\n",
    "Attributes\n",
    "----------\n",
    "n_clusters_ : int\n",
    "    The number of clusters found by the algorithm. If\n",
    "    ``distance_threshold=None``, it will be equal to the given\n",
    "    ``n_clusters``.\n",
    "\n",
    "labels_ : ndarray of shape (n_samples)\n",
    "    cluster labels for each point\n",
    "\n",
    "n_leaves_ : int\n",
    "    Number of leaves in the hierarchical tree.\n",
    "\n",
    "n_connected_components_ : int\n",
    "    The estimated number of connected components in the graph.\n",
    "\n",
    "    .. versionadded:: 0.21\n",
    "        ``n_connected_components_`` was added to replace ``n_components_``.\n",
    "\n",
    "children_ : array-like of shape (n_samples-1, 2)\n",
    "    The children of each non-leaf node. Values less than `n_samples`\n",
    "    correspond to leaves of the tree which are the original samples.\n",
    "    A node `i` greater than or equal to `n_samples` is a non-leaf\n",
    "    node and has children `children_[i - n_samples]`. Alternatively\n",
    "    at the i-th iteration, children[i][0] and children[i][1]\n",
    "    are merged to form node `n_samples + i`\n",
    "\n",
    "distances_ : array-like of shape (n_nodes-1,)\n",
    "    Distances between nodes in the corresponding place in `children_`.\n",
    "    Only computed if `distance_threshold` is used or `compute_distances`\n",
    "    is set to `True`.\n",
    "\n",
    "Examples\n",
    "--------\n",
    ">>> from sklearn.cluster import AgglomerativeClustering\n",
    ">>> import numpy as np\n",
    ">>> X = np.array([[1, 2], [1, 4], [1, 0],\n",
    "...               [4, 2], [4, 4], [4, 0]])\n",
    ">>> clustering = AgglomerativeClustering().fit(X)\n",
    ">>> clustering\n",
    "AgglomerativeClustering()\n",
    ">>> clustering.labels_\n",
    "array([1, 1, 1, 0, 0, 0])\n",
    "File:           c:\\programdata\\anaconda3\\lib\\site-packages\\sklearn\\cluster\\_agglomerative.py\n",
    "Type:           type\n",
    "Subclasses:     FeatureAgglomeration"
   ]
  },
  {
   "cell_type": "markdown",
   "metadata": {},
   "source": [
    "# Implementation by Me"
   ]
  },
  {
   "cell_type": "code",
   "execution_count": 1,
   "metadata": {},
   "outputs": [],
   "source": [
    "import pandas as pd\n",
    "import matplotlib.pyplot as plt\n",
    "import numpy as np\n",
    "import scipy.cluster.hierarchy as shc"
   ]
  },
  {
   "cell_type": "code",
   "execution_count": 2,
   "metadata": {},
   "outputs": [
    {
     "data": {
      "text/html": [
       "<div>\n",
       "<style scoped>\n",
       "    .dataframe tbody tr th:only-of-type {\n",
       "        vertical-align: middle;\n",
       "    }\n",
       "\n",
       "    .dataframe tbody tr th {\n",
       "        vertical-align: top;\n",
       "    }\n",
       "\n",
       "    .dataframe thead th {\n",
       "        text-align: right;\n",
       "    }\n",
       "</style>\n",
       "<table border=\"1\" class=\"dataframe\">\n",
       "  <thead>\n",
       "    <tr style=\"text-align: right;\">\n",
       "      <th></th>\n",
       "      <th>CustomerID</th>\n",
       "      <th>Genre</th>\n",
       "      <th>Age</th>\n",
       "      <th>Annual Income (k$)</th>\n",
       "      <th>Spending Score (1-100)</th>\n",
       "    </tr>\n",
       "  </thead>\n",
       "  <tbody>\n",
       "    <tr>\n",
       "      <th>0</th>\n",
       "      <td>1</td>\n",
       "      <td>Male</td>\n",
       "      <td>19</td>\n",
       "      <td>15</td>\n",
       "      <td>39</td>\n",
       "    </tr>\n",
       "    <tr>\n",
       "      <th>1</th>\n",
       "      <td>2</td>\n",
       "      <td>Male</td>\n",
       "      <td>21</td>\n",
       "      <td>15</td>\n",
       "      <td>81</td>\n",
       "    </tr>\n",
       "  </tbody>\n",
       "</table>\n",
       "</div>"
      ],
      "text/plain": [
       "   CustomerID Genre  Age  Annual Income (k$)  Spending Score (1-100)\n",
       "0           1  Male   19                  15                      39\n",
       "1           2  Male   21                  15                      81"
      ]
     },
     "execution_count": 2,
     "metadata": {},
     "output_type": "execute_result"
    }
   ],
   "source": [
    "df=pd.read_csv('mall_customers.csv')\n",
    "df.head(2)"
   ]
  },
  {
   "cell_type": "code",
   "execution_count": 3,
   "metadata": {},
   "outputs": [],
   "source": [
    "# data preprocessing"
   ]
  },
  {
   "cell_type": "code",
   "execution_count": 4,
   "metadata": {},
   "outputs": [],
   "source": [
    "# find optimum no of clusters"
   ]
  },
  {
   "cell_type": "code",
   "execution_count": 5,
   "metadata": {},
   "outputs": [],
   "source": [
    "# model development, training and testing"
   ]
  },
  {
   "cell_type": "code",
   "execution_count": 6,
   "metadata": {},
   "outputs": [],
   "source": [
    "# visualising the results"
   ]
  },
  {
   "cell_type": "code",
   "execution_count": null,
   "metadata": {},
   "outputs": [],
   "source": []
  }
 ],
 "metadata": {
  "kernelspec": {
   "display_name": "Python 3 (ipykernel)",
   "language": "python",
   "name": "python3"
  },
  "language_info": {
   "codemirror_mode": {
    "name": "ipython",
    "version": 3
   },
   "file_extension": ".py",
   "mimetype": "text/x-python",
   "name": "python",
   "nbconvert_exporter": "python",
   "pygments_lexer": "ipython3",
   "version": "3.9.7"
  }
 },
 "nbformat": 4,
 "nbformat_minor": 4
}

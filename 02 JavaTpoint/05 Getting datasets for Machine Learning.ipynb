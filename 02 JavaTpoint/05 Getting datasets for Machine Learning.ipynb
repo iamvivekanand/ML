{
 "cells": [
  {
   "cell_type": "markdown",
   "metadata": {},
   "source": [
    "### Getting datasets for Machine Learning"
   ]
  },
  {
   "cell_type": "raw",
   "metadata": {},
   "source": [
    "A dataset is a collection of data in which data is arranged in some order and using some relationship"
   ]
  },
  {
   "cell_type": "raw",
   "metadata": {},
   "source": [
    "tabular data, contains rows and columns, in the form of a matrix"
   ]
  },
  {
   "cell_type": "raw",
   "metadata": {},
   "source": [
    "The word “Data” arises from the Latin word “Datum,” which means “something given."
   ]
  },
  {
   "cell_type": "raw",
   "metadata": {},
   "source": [
    "There are two classes of data: Qualitative and Quantitative data, which are further classified into four types: nominal, ordinal, discrete, and Continuous."
   ]
  },
  {
   "cell_type": "raw",
   "metadata": {},
   "source": [
    "According to a report, today, at least 2.5 quintillion bytes of data are produced per day."
   ]
  },
  {
   "cell_type": "markdown",
   "metadata": {},
   "source": [
    "### Types of Data"
   ]
  },
  {
   "cell_type": "markdown",
   "metadata": {},
   "source": [
    "#### Qualitative or Categorical Data"
   ]
  },
  {
   "cell_type": "raw",
   "metadata": {},
   "source": [
    "-data that can’t be measured or counted in the form of numbers\n",
    "-These data consist of audio, images, symbols, or text. The gender of a person, i.e., male, female, or others,"
   ]
  },
  {
   "cell_type": "raw",
   "metadata": {},
   "source": [
    "Qualitative data tells about the perception of people."
   ]
  },
  {
   "cell_type": "raw",
   "metadata": {},
   "source": [
    "The other examples of qualitative data are :\n",
    "    What language do you speak\n",
    "    Favourite holiday destination\n",
    "    Opinion on something (agree, disagree, or neutral)\n",
    "    Colours"
   ]
  },
  {
   "cell_type": "markdown",
   "metadata": {},
   "source": [
    "#### The Qualitative data are further classified into two parts :"
   ]
  },
  {
   "cell_type": "raw",
   "metadata": {},
   "source": [
    "1.NOMINAL-\n",
    "Can’t be compared with another colour.\n",
    "doesnt have any order or quantitative value\n",
    "\n",
    "e.g.\n",
    "Colour of hair (Blonde, red, Brown, Black, etc.)\n",
    "Marital status (Single, Widowed, Married)\n",
    "Nationality (Indian, German, American)\n",
    "Gender (Male, Female, Transgender)"
   ]
  },
  {
   "cell_type": "raw",
   "metadata": {},
   "source": [
    "Ordinal Data:\n",
    "-Can be compared with another colour.\n",
    "-have any order or quantitative value\n",
    "-The ordinal data only shows the sequences \n",
    "\n",
    "Economic Status (High, Medium, and Low)\n",
    "Education Level (Higher, Secondary, Primary)\n",
    "Letter grades in the exam (A, B, C, D, etc.)"
   ]
  },
  {
   "cell_type": "markdown",
   "metadata": {},
   "source": [
    "### Quantitative Data"
   ]
  },
  {
   "cell_type": "raw",
   "metadata": {},
   "source": [
    "-can be expressed in numerical values\n",
    "-are countable\n",
    "-can be used for statistical manipulation \n",
    "-can be represented on a wide variety of graphs and charts"
   ]
  },
  {
   "cell_type": "raw",
   "metadata": {},
   "source": [
    "Examples of Quantitative Data : \n",
    "-Height or weight of a person or object\n",
    "-Room Temperature\n",
    "-Scores and Marks (Ex: 59, 80, 60, etc.)\n",
    "-Time"
   ]
  },
  {
   "cell_type": "markdown",
   "metadata": {},
   "source": [
    "##### The Quantitative data are further classified into two parts :"
   ]
  },
  {
   "cell_type": "raw",
   "metadata": {},
   "source": [
    "1.Discrete \n",
    "2.Continuous"
   ]
  }
 ],
 "metadata": {
  "kernelspec": {
   "display_name": "Python 3 (ipykernel)",
   "language": "python",
   "name": "python3"
  },
  "language_info": {
   "codemirror_mode": {
    "name": "ipython",
    "version": 3
   },
   "file_extension": ".py",
   "mimetype": "text/x-python",
   "name": "python",
   "nbconvert_exporter": "python",
   "pygments_lexer": "ipython3",
   "version": "3.9.7"
  }
 },
 "nbformat": 4,
 "nbformat_minor": 4
}

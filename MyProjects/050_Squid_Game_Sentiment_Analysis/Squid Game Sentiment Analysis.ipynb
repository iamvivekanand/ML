{
 "cells": [
  {
   "cell_type": "markdown",
   "id": "932481e9",
   "metadata": {},
   "source": [
    "### Squid Game Sentiment Analysis"
   ]
  },
  {
   "cell_type": "code",
   "execution_count": 25,
   "id": "af8ea938",
   "metadata": {},
   "outputs": [],
   "source": [
    "import pandas as pd\n",
    "import seaborn as sns\n",
    "import matplotlib.pyplot as plt"
   ]
  },
  {
   "cell_type": "code",
   "execution_count": 26,
   "id": "ee4791b0",
   "metadata": {},
   "outputs": [],
   "source": [
    "from nltk.sentiment.vader import SentimentIntensityAnalyzer"
   ]
  },
  {
   "cell_type": "code",
   "execution_count": 27,
   "id": "ae357834",
   "metadata": {},
   "outputs": [],
   "source": [
    "from wordcloud import WordCloud, STOPWORDS, ImageColorGenerator"
   ]
  },
  {
   "cell_type": "code",
   "execution_count": 28,
   "id": "a59550ac",
   "metadata": {},
   "outputs": [
    {
     "data": {
      "text/html": [
       "<div>\n",
       "<style scoped>\n",
       "    .dataframe tbody tr th:only-of-type {\n",
       "        vertical-align: middle;\n",
       "    }\n",
       "\n",
       "    .dataframe tbody tr th {\n",
       "        vertical-align: top;\n",
       "    }\n",
       "\n",
       "    .dataframe thead th {\n",
       "        text-align: right;\n",
       "    }\n",
       "</style>\n",
       "<table border=\"1\" class=\"dataframe\">\n",
       "  <thead>\n",
       "    <tr style=\"text-align: right;\">\n",
       "      <th></th>\n",
       "      <th>Unnamed: 0</th>\n",
       "      <th>User_name</th>\n",
       "      <th>Review title</th>\n",
       "      <th>Review Rating</th>\n",
       "      <th>Review date</th>\n",
       "      <th>Review_body</th>\n",
       "    </tr>\n",
       "  </thead>\n",
       "  <tbody>\n",
       "    <tr>\n",
       "      <th>0</th>\n",
       "      <td>0</td>\n",
       "      <td>Leofwine_draca</td>\n",
       "      <td>A new TV classic</td>\n",
       "      <td>10/10</td>\n",
       "      <td>9 October 2021</td>\n",
       "      <td>Just finished up SQUID GAME, the Korean TV sho...</td>\n",
       "    </tr>\n",
       "    <tr>\n",
       "      <th>1</th>\n",
       "      <td>1</td>\n",
       "      <td>kosmasp</td>\n",
       "      <td>Just a game</td>\n",
       "      <td>9/10</td>\n",
       "      <td>10 October 2021</td>\n",
       "      <td>Well multiple games actually, but even that yo...</td>\n",
       "    </tr>\n",
       "    <tr>\n",
       "      <th>2</th>\n",
       "      <td>2</td>\n",
       "      <td>Tweekums</td>\n",
       "      <td>Games to die for</td>\n",
       "      <td>10/10</td>\n",
       "      <td>11 October 2021</td>\n",
       "      <td>This runaway hit from South Korea is centred o...</td>\n",
       "    </tr>\n",
       "    <tr>\n",
       "      <th>3</th>\n",
       "      <td>3</td>\n",
       "      <td>FeastMode</td>\n",
       "      <td>if you think this is good, PLEASE watch the ko...</td>\n",
       "      <td>5/10</td>\n",
       "      <td>9 October 2021</td>\n",
       "      <td>I went into this show knowing absolutely nothi...</td>\n",
       "    </tr>\n",
       "    <tr>\n",
       "      <th>4</th>\n",
       "      <td>4</td>\n",
       "      <td>Irishchatter</td>\n",
       "      <td>It started off strong but ended disoriented</td>\n",
       "      <td>7/10</td>\n",
       "      <td>8 October 2021</td>\n",
       "      <td>I honestly don't know wtf the main character n...</td>\n",
       "    </tr>\n",
       "  </tbody>\n",
       "</table>\n",
       "</div>"
      ],
      "text/plain": [
       "   Unnamed: 0       User_name  \\\n",
       "0           0  Leofwine_draca   \n",
       "1           1         kosmasp   \n",
       "2           2        Tweekums   \n",
       "3           3       FeastMode   \n",
       "4           4    Irishchatter   \n",
       "\n",
       "                                        Review title Review Rating  \\\n",
       "0                                   A new TV classic         10/10   \n",
       "1                                        Just a game          9/10   \n",
       "2                                   Games to die for         10/10   \n",
       "3  if you think this is good, PLEASE watch the ko...          5/10   \n",
       "4        It started off strong but ended disoriented          7/10   \n",
       "\n",
       "       Review date                                        Review_body  \n",
       "0   9 October 2021  Just finished up SQUID GAME, the Korean TV sho...  \n",
       "1  10 October 2021  Well multiple games actually, but even that yo...  \n",
       "2  11 October 2021  This runaway hit from South Korea is centred o...  \n",
       "3   9 October 2021  I went into this show knowing absolutely nothi...  \n",
       "4   8 October 2021  I honestly don't know wtf the main character n...  "
      ]
     },
     "execution_count": 28,
     "metadata": {},
     "output_type": "execute_result"
    }
   ],
   "source": [
    "data = pd.read_csv(\"squid games reviews.csv\")\n",
    "data.head()"
   ]
  },
  {
   "cell_type": "code",
   "execution_count": 29,
   "id": "2d8e7bf2",
   "metadata": {},
   "outputs": [
    {
     "data": {
      "text/plain": [
       "(1185, 6)"
      ]
     },
     "execution_count": 29,
     "metadata": {},
     "output_type": "execute_result"
    }
   ],
   "source": [
    "data.shape"
   ]
  },
  {
   "cell_type": "code",
   "execution_count": 30,
   "id": "ee665e3f",
   "metadata": {},
   "outputs": [],
   "source": [
    "del data['Unnamed: 0']"
   ]
  },
  {
   "cell_type": "code",
   "execution_count": 31,
   "id": "a9e4c2e9",
   "metadata": {},
   "outputs": [
    {
     "data": {
      "text/html": [
       "<div>\n",
       "<style scoped>\n",
       "    .dataframe tbody tr th:only-of-type {\n",
       "        vertical-align: middle;\n",
       "    }\n",
       "\n",
       "    .dataframe tbody tr th {\n",
       "        vertical-align: top;\n",
       "    }\n",
       "\n",
       "    .dataframe thead th {\n",
       "        text-align: right;\n",
       "    }\n",
       "</style>\n",
       "<table border=\"1\" class=\"dataframe\">\n",
       "  <thead>\n",
       "    <tr style=\"text-align: right;\">\n",
       "      <th></th>\n",
       "      <th>User_name</th>\n",
       "      <th>Review title</th>\n",
       "      <th>Review Rating</th>\n",
       "      <th>Review date</th>\n",
       "      <th>Review_body</th>\n",
       "    </tr>\n",
       "  </thead>\n",
       "  <tbody>\n",
       "    <tr>\n",
       "      <th>0</th>\n",
       "      <td>Leofwine_draca</td>\n",
       "      <td>A new TV classic</td>\n",
       "      <td>10/10</td>\n",
       "      <td>9 October 2021</td>\n",
       "      <td>Just finished up SQUID GAME, the Korean TV sho...</td>\n",
       "    </tr>\n",
       "    <tr>\n",
       "      <th>1</th>\n",
       "      <td>kosmasp</td>\n",
       "      <td>Just a game</td>\n",
       "      <td>9/10</td>\n",
       "      <td>10 October 2021</td>\n",
       "      <td>Well multiple games actually, but even that yo...</td>\n",
       "    </tr>\n",
       "  </tbody>\n",
       "</table>\n",
       "</div>"
      ],
      "text/plain": [
       "        User_name      Review title Review Rating      Review date  \\\n",
       "0  Leofwine_draca  A new TV classic         10/10   9 October 2021   \n",
       "1         kosmasp       Just a game          9/10  10 October 2021   \n",
       "\n",
       "                                         Review_body  \n",
       "0  Just finished up SQUID GAME, the Korean TV sho...  \n",
       "1  Well multiple games actually, but even that yo...  "
      ]
     },
     "execution_count": 31,
     "metadata": {},
     "output_type": "execute_result"
    }
   ],
   "source": [
    "data.head(2)"
   ]
  },
  {
   "cell_type": "code",
   "execution_count": 32,
   "id": "b83b586b",
   "metadata": {},
   "outputs": [
    {
     "data": {
      "text/plain": [
       "User_name        0\n",
       "Review title     0\n",
       "Review Rating    0\n",
       "Review date      0\n",
       "Review_body      0\n",
       "dtype: int64"
      ]
     },
     "execution_count": 32,
     "metadata": {},
     "output_type": "execute_result"
    }
   ],
   "source": [
    "data.isnull().sum()"
   ]
  },
  {
   "cell_type": "code",
   "execution_count": 33,
   "id": "17d7c4d1",
   "metadata": {},
   "outputs": [],
   "source": [
    "data.drop(['User_name','Review title','Review date',],axis=1,inplace=True)"
   ]
  },
  {
   "cell_type": "code",
   "execution_count": 34,
   "id": "87b9ab0c",
   "metadata": {},
   "outputs": [],
   "source": [
    "data.columns=['ratings','review']"
   ]
  },
  {
   "cell_type": "code",
   "execution_count": 35,
   "id": "fafe6e1c",
   "metadata": {},
   "outputs": [
    {
     "data": {
      "text/html": [
       "<div>\n",
       "<style scoped>\n",
       "    .dataframe tbody tr th:only-of-type {\n",
       "        vertical-align: middle;\n",
       "    }\n",
       "\n",
       "    .dataframe tbody tr th {\n",
       "        vertical-align: top;\n",
       "    }\n",
       "\n",
       "    .dataframe thead th {\n",
       "        text-align: right;\n",
       "    }\n",
       "</style>\n",
       "<table border=\"1\" class=\"dataframe\">\n",
       "  <thead>\n",
       "    <tr style=\"text-align: right;\">\n",
       "      <th></th>\n",
       "      <th>ratings</th>\n",
       "      <th>review</th>\n",
       "    </tr>\n",
       "  </thead>\n",
       "  <tbody>\n",
       "    <tr>\n",
       "      <th>0</th>\n",
       "      <td>10/10</td>\n",
       "      <td>Just finished up SQUID GAME, the Korean TV sho...</td>\n",
       "    </tr>\n",
       "    <tr>\n",
       "      <th>1</th>\n",
       "      <td>9/10</td>\n",
       "      <td>Well multiple games actually, but even that yo...</td>\n",
       "    </tr>\n",
       "  </tbody>\n",
       "</table>\n",
       "</div>"
      ],
      "text/plain": [
       "  ratings                                             review\n",
       "0   10/10  Just finished up SQUID GAME, the Korean TV sho...\n",
       "1    9/10  Well multiple games actually, but even that yo..."
      ]
     },
     "execution_count": 35,
     "metadata": {},
     "output_type": "execute_result"
    }
   ],
   "source": [
    "data.head(2)"
   ]
  },
  {
   "cell_type": "code",
   "execution_count": 36,
   "id": "d08dc330",
   "metadata": {},
   "outputs": [],
   "source": [
    "import re\n",
    "import nltk\n",
    "import string\n",
    "from nltk.corpus import stopwords\n",
    "stopword=set(stopwords.words('english'))"
   ]
  },
  {
   "cell_type": "code",
   "execution_count": 37,
   "id": "9cff7499",
   "metadata": {},
   "outputs": [
    {
     "data": {
      "text/plain": [
       "'!\"#$%&\\'()*+,-./:;<=>?@[\\\\]^_`{|}~'"
      ]
     },
     "execution_count": 37,
     "metadata": {},
     "output_type": "execute_result"
    }
   ],
   "source": [
    "punc=string.punctuation\n",
    "punc"
   ]
  },
  {
   "cell_type": "code",
   "execution_count": 38,
   "id": "ee07f3bb",
   "metadata": {},
   "outputs": [],
   "source": [
    "# data cleaning\n",
    "def clean(text):\n",
    "    text = str(text).lower()\n",
    "    text = re.sub('\\[.*?\\]', '', text)\n",
    "    text = re.sub('https?://\\S+|www\\.\\S+', '', text)\n",
    "    text = re.sub('<.*?>+', '', text)\n",
    "    text = re.sub('[%s]' % re.escape(punc), '', text)\n",
    "    text = re.sub('\\n', '', text)\n",
    "    text = re.sub('\\w*\\d\\w*', '', text)\n",
    "    text = [i for i in text.split(' ') if i not in stopword]\n",
    "    text=[i for i in text if i not in punc]\n",
    "    text=\" \".join(text)\n",
    "    from nltk.stem import SnowballStemmer\n",
    "    stemmer=SnowballStemmer(language='english')\n",
    "    text = [stemmer.stem(word) for word in text.split(' ')]\n",
    "    text=\" \".join(text)\n",
    "    return text\n",
    "data[\"text\"] = data[\"review\"].apply(clean)"
   ]
  },
  {
   "cell_type": "code",
   "execution_count": 39,
   "id": "27cd89d3",
   "metadata": {},
   "outputs": [
    {
     "data": {
      "text/html": [
       "<div>\n",
       "<style scoped>\n",
       "    .dataframe tbody tr th:only-of-type {\n",
       "        vertical-align: middle;\n",
       "    }\n",
       "\n",
       "    .dataframe tbody tr th {\n",
       "        vertical-align: top;\n",
       "    }\n",
       "\n",
       "    .dataframe thead th {\n",
       "        text-align: right;\n",
       "    }\n",
       "</style>\n",
       "<table border=\"1\" class=\"dataframe\">\n",
       "  <thead>\n",
       "    <tr style=\"text-align: right;\">\n",
       "      <th></th>\n",
       "      <th>ratings</th>\n",
       "      <th>review</th>\n",
       "      <th>text</th>\n",
       "    </tr>\n",
       "  </thead>\n",
       "  <tbody>\n",
       "    <tr>\n",
       "      <th>0</th>\n",
       "      <td>10/10</td>\n",
       "      <td>Just finished up SQUID GAME, the Korean TV sho...</td>\n",
       "      <td>finish squid game korean tv show that becom gl...</td>\n",
       "    </tr>\n",
       "    <tr>\n",
       "      <th>1</th>\n",
       "      <td>9/10</td>\n",
       "      <td>Well multiple games actually, but even that yo...</td>\n",
       "      <td>well multipl game actual even may find accur m...</td>\n",
       "    </tr>\n",
       "  </tbody>\n",
       "</table>\n",
       "</div>"
      ],
      "text/plain": [
       "  ratings                                             review  \\\n",
       "0   10/10  Just finished up SQUID GAME, the Korean TV sho...   \n",
       "1    9/10  Well multiple games actually, but even that yo...   \n",
       "\n",
       "                                                text  \n",
       "0  finish squid game korean tv show that becom gl...  \n",
       "1  well multipl game actual even may find accur m...  "
      ]
     },
     "execution_count": 39,
     "metadata": {},
     "output_type": "execute_result"
    }
   ],
   "source": [
    "data.head(2)"
   ]
  },
  {
   "cell_type": "raw",
   "id": "12d3d13f",
   "metadata": {},
   "source": [
    "nltk.download('vader_lexicon')"
   ]
  },
  {
   "cell_type": "code",
   "execution_count": 40,
   "id": "5b2d2ce0",
   "metadata": {},
   "outputs": [],
   "source": [
    "sentiments=SentimentIntensityAnalyzer()"
   ]
  },
  {
   "cell_type": "code",
   "execution_count": 12,
   "id": "10424c6d",
   "metadata": {},
   "outputs": [],
   "source": [
    "# Now we will add 3 columns positivem, negative and neutral based on polarity scores"
   ]
  },
  {
   "cell_type": "code",
   "execution_count": 41,
   "id": "0819235d",
   "metadata": {},
   "outputs": [],
   "source": [
    "data['positive']=[sentiments.polarity_scores(i)['pos'] for i in data.text]\n",
    "data['negative']=[sentiments.polarity_scores(i)['neg'] for i in data.text]\n",
    "data['neutral']=[sentiments.polarity_scores(i)['neu'] for i in data.text]"
   ]
  },
  {
   "cell_type": "code",
   "execution_count": 43,
   "id": "6e59b0c1",
   "metadata": {},
   "outputs": [],
   "source": [
    "data = data[[\"text\", \"positive\", \"negative\", \"neutral\"]]"
   ]
  },
  {
   "cell_type": "code",
   "execution_count": 44,
   "id": "98d1b994",
   "metadata": {},
   "outputs": [
    {
     "data": {
      "text/html": [
       "<div>\n",
       "<style scoped>\n",
       "    .dataframe tbody tr th:only-of-type {\n",
       "        vertical-align: middle;\n",
       "    }\n",
       "\n",
       "    .dataframe tbody tr th {\n",
       "        vertical-align: top;\n",
       "    }\n",
       "\n",
       "    .dataframe thead th {\n",
       "        text-align: right;\n",
       "    }\n",
       "</style>\n",
       "<table border=\"1\" class=\"dataframe\">\n",
       "  <thead>\n",
       "    <tr style=\"text-align: right;\">\n",
       "      <th></th>\n",
       "      <th>text</th>\n",
       "      <th>positive</th>\n",
       "      <th>negative</th>\n",
       "      <th>neutral</th>\n",
       "    </tr>\n",
       "  </thead>\n",
       "  <tbody>\n",
       "    <tr>\n",
       "      <th>0</th>\n",
       "      <td>finish squid game korean tv show that becom gl...</td>\n",
       "      <td>0.218</td>\n",
       "      <td>0.170</td>\n",
       "      <td>0.611</td>\n",
       "    </tr>\n",
       "    <tr>\n",
       "      <th>1</th>\n",
       "      <td>well multipl game actual even may find accur m...</td>\n",
       "      <td>0.305</td>\n",
       "      <td>0.000</td>\n",
       "      <td>0.695</td>\n",
       "    </tr>\n",
       "    <tr>\n",
       "      <th>2</th>\n",
       "      <td>runaway hit south korea centr seong gihun heav...</td>\n",
       "      <td>0.266</td>\n",
       "      <td>0.065</td>\n",
       "      <td>0.669</td>\n",
       "    </tr>\n",
       "  </tbody>\n",
       "</table>\n",
       "</div>"
      ],
      "text/plain": [
       "                                                text  positive  negative  \\\n",
       "0  finish squid game korean tv show that becom gl...     0.218     0.170   \n",
       "1  well multipl game actual even may find accur m...     0.305     0.000   \n",
       "2  runaway hit south korea centr seong gihun heav...     0.266     0.065   \n",
       "\n",
       "   neutral  \n",
       "0    0.611  \n",
       "1    0.695  \n",
       "2    0.669  "
      ]
     },
     "execution_count": 44,
     "metadata": {},
     "output_type": "execute_result"
    }
   ],
   "source": [
    "data.head(3)"
   ]
  },
  {
   "cell_type": "code",
   "execution_count": 46,
   "id": "7ab4955a",
   "metadata": {},
   "outputs": [
    {
     "name": "stdout",
     "output_type": "stream",
     "text": [
      "neutral 🙂 \n"
     ]
    }
   ],
   "source": [
    "x = sum(data[\"positive\"])\n",
    "y = sum(data[\"negative\"])\n",
    "z = sum(data[\"neutral\"])\n",
    "\n",
    "def sentiment_score(a, b, c):\n",
    "    if (a>b) and (a>c):\n",
    "        print(\"positive 😊 \")\n",
    "    elif (b>a) and (b>c):\n",
    "        print(\"negative 😠 \")\n",
    "    else:\n",
    "        print(\"neutral 🙂 \")\n",
    "sentiment_score(x, y, z)"
   ]
  },
  {
   "cell_type": "code",
   "execution_count": 47,
   "id": "738da734",
   "metadata": {},
   "outputs": [
    {
     "name": "stdout",
     "output_type": "stream",
     "text": [
      "positive:  353.12000000000023\n",
      "negative:  109.02900000000004\n",
      "neutral:  722.8680000000013\n"
     ]
    }
   ],
   "source": [
    "print(\"positive: \", x)\n",
    "print(\"negative: \", y)\n",
    "print(\"neutral: \", z)"
   ]
  },
  {
   "cell_type": "raw",
   "id": "621e4292",
   "metadata": {},
   "source": [
    "So most of the opinions of the users are Neutral, now let’s have a look at the total of each sentiment score before making any conclusion."
   ]
  },
  {
   "cell_type": "markdown",
   "id": "cd715f64",
   "metadata": {},
   "source": [
    "### Tata Motors Stock Price Prediction"
   ]
  },
  {
   "cell_type": "raw",
   "id": "08a5e86d",
   "metadata": {},
   "source": [
    "Visit Yahoo Finance\n",
    "Search for Tata Motors or TTM (it’s the stock symbol of Tata Motors)\n",
    "Then click on Historical data\n",
    "And at last click on download."
   ]
  },
  {
   "cell_type": "code",
   "execution_count": 48,
   "id": "f637222a",
   "metadata": {},
   "outputs": [
    {
     "data": {
      "text/html": [
       "<div>\n",
       "<style scoped>\n",
       "    .dataframe tbody tr th:only-of-type {\n",
       "        vertical-align: middle;\n",
       "    }\n",
       "\n",
       "    .dataframe tbody tr th {\n",
       "        vertical-align: top;\n",
       "    }\n",
       "\n",
       "    .dataframe thead th {\n",
       "        text-align: right;\n",
       "    }\n",
       "</style>\n",
       "<table border=\"1\" class=\"dataframe\">\n",
       "  <thead>\n",
       "    <tr style=\"text-align: right;\">\n",
       "      <th></th>\n",
       "      <th>Date</th>\n",
       "      <th>Open</th>\n",
       "      <th>High</th>\n",
       "      <th>Low</th>\n",
       "      <th>Close</th>\n",
       "      <th>Adj Close</th>\n",
       "      <th>Volume</th>\n",
       "    </tr>\n",
       "  </thead>\n",
       "  <tbody>\n",
       "    <tr>\n",
       "      <th>0</th>\n",
       "      <td>2021-08-27</td>\n",
       "      <td>19.180000</td>\n",
       "      <td>19.820000</td>\n",
       "      <td>19.180000</td>\n",
       "      <td>19.75</td>\n",
       "      <td>19.75</td>\n",
       "      <td>1310700</td>\n",
       "    </tr>\n",
       "    <tr>\n",
       "      <th>1</th>\n",
       "      <td>2021-08-30</td>\n",
       "      <td>19.889999</td>\n",
       "      <td>20.049999</td>\n",
       "      <td>19.760000</td>\n",
       "      <td>19.76</td>\n",
       "      <td>19.76</td>\n",
       "      <td>622200</td>\n",
       "    </tr>\n",
       "    <tr>\n",
       "      <th>2</th>\n",
       "      <td>2021-08-31</td>\n",
       "      <td>19.670000</td>\n",
       "      <td>19.700001</td>\n",
       "      <td>19.389999</td>\n",
       "      <td>19.68</td>\n",
       "      <td>19.68</td>\n",
       "      <td>1652200</td>\n",
       "    </tr>\n",
       "    <tr>\n",
       "      <th>3</th>\n",
       "      <td>2021-09-01</td>\n",
       "      <td>20.090000</td>\n",
       "      <td>20.250000</td>\n",
       "      <td>20.040001</td>\n",
       "      <td>20.18</td>\n",
       "      <td>20.18</td>\n",
       "      <td>1739600</td>\n",
       "    </tr>\n",
       "    <tr>\n",
       "      <th>4</th>\n",
       "      <td>2021-09-02</td>\n",
       "      <td>20.110001</td>\n",
       "      <td>20.160000</td>\n",
       "      <td>19.900000</td>\n",
       "      <td>19.91</td>\n",
       "      <td>19.91</td>\n",
       "      <td>1174200</td>\n",
       "    </tr>\n",
       "  </tbody>\n",
       "</table>\n",
       "</div>"
      ],
      "text/plain": [
       "         Date       Open       High        Low  Close  Adj Close   Volume\n",
       "0  2021-08-27  19.180000  19.820000  19.180000  19.75      19.75  1310700\n",
       "1  2021-08-30  19.889999  20.049999  19.760000  19.76      19.76   622200\n",
       "2  2021-08-31  19.670000  19.700001  19.389999  19.68      19.68  1652200\n",
       "3  2021-09-01  20.090000  20.250000  20.040001  20.18      20.18  1739600\n",
       "4  2021-09-02  20.110001  20.160000  19.900000  19.91      19.91  1174200"
      ]
     },
     "execution_count": 48,
     "metadata": {},
     "output_type": "execute_result"
    }
   ],
   "source": [
    "import plotly.graph_objects as go\n",
    "data = pd.read_csv(\"TTM.csv\")\n",
    "data.head()"
   ]
  },
  {
   "cell_type": "raw",
   "id": "a1e36d4e",
   "metadata": {},
   "source": [
    "fig=go.Figure(data=[go.Candlestick(x=data['Date'],\n",
    "                                   Open=data['open'],\n",
    "                                   high=data['high'],\n",
    "                                   low=data['low'],\n",
    "                                   close=data['close'])])"
   ]
  },
  {
   "cell_type": "raw",
   "id": "6a458618",
   "metadata": {},
   "source": [
    "Above code is not working since 'open' is counterfitting again reserved keywords"
   ]
  },
  {
   "cell_type": "raw",
   "id": "e0a9378f",
   "metadata": {},
   "source": [
    "fig.update_layout(title = \"Tata Motors Stock Price Analysis\", xaxis_rangeslider_visible=False)\n",
    "fig.show()"
   ]
  },
  {
   "cell_type": "code",
   "execution_count": null,
   "id": "655748d6",
   "metadata": {},
   "outputs": [],
   "source": [
    "# We will try to draw candlestick using mpl finance module."
   ]
  },
  {
   "cell_type": "raw",
   "id": "42d99db7",
   "metadata": {},
   "source": [
    "Candlestick chart are also known as a Japanese chart. These are widely used for technical analysis in trading as they visualize the price size within a period. They have four points Open, High, Low, Close (OHLC). Candlestick charts can be created in python using a matplotlib module called mplfinance. \n",
    "\n",
    "mplfinance.candlestick_ohlc()\n",
    ">>This function is used to plot candlestick chart\n",
    "\n",
    "Syntax: mplfinance.candlestick_ohlc(ax, quotes, width=0.2, colorup=’k’, colordown=’r’, alpha=1.0)\n",
    "\n",
    "ax: An Axes instance to plot to.\n",
    "quotes: sequence of (time, open, high, low, close, …) sequences.\n",
    "width: Fraction of a day for the rectangle width.\n",
    "colorup: The color of the rectangle where close >= open.\n",
    "colordown: The color of the rectangle where close < open.\n",
    "alpha: (float) The rectangle alpha level."
   ]
  },
  {
   "cell_type": "raw",
   "id": "2c19a4e0",
   "metadata": {},
   "source": [
    "!pip install mplfinance"
   ]
  },
  {
   "cell_type": "code",
   "execution_count": 52,
   "id": "0efe443c",
   "metadata": {},
   "outputs": [],
   "source": [
    "import mplfinance"
   ]
  },
  {
   "cell_type": "raw",
   "id": "a83de7e2",
   "metadata": {},
   "source": [
    "from mplfinance import candlestick_ohlc\n",
    "import matplotlib.dates as mpdate\n",
    "\n",
    "# It can't import candlestick_ohlc from mplfinance, so we will do model building"
   ]
  },
  {
   "cell_type": "code",
   "execution_count": 59,
   "id": "13deb5ce",
   "metadata": {},
   "outputs": [],
   "source": [
    "from autots import AutoTS"
   ]
  },
  {
   "cell_type": "code",
   "execution_count": 61,
   "id": "2c538737",
   "metadata": {},
   "outputs": [
    {
     "name": "stderr",
     "output_type": "stream",
     "text": [
      "Intel(R) Extension for Scikit-learn* enabled (https://github.com/intel/scikit-learn-intelex)\n"
     ]
    }
   ],
   "source": [
    "model=AutoTS()"
   ]
  },
  {
   "cell_type": "code",
   "execution_count": 62,
   "id": "440518c4",
   "metadata": {},
   "outputs": [
    {
     "name": "stdout",
     "output_type": "stream",
     "text": [
      "Inferred frequency is: B\n",
      "Model Number: 1 with model AverageValueNaive in generation 0 of 10\n",
      "Model Number: 2 with model AverageValueNaive in generation 0 of 10\n",
      "Model Number: 3 with model AverageValueNaive in generation 0 of 10\n",
      "Model Number: 4 with model DatepartRegression in generation 0 of 10\n",
      "Model Number: 5 with model DatepartRegression in generation 0 of 10\n",
      "Model Number: 6 with model DatepartRegression in generation 0 of 10\n"
     ]
    },
    {
     "name": "stderr",
     "output_type": "stream",
     "text": [
      "C:\\ProgramData\\Anaconda3\\lib\\site-packages\\sklearn\\svm\\_base.py:985: ConvergenceWarning: Liblinear failed to converge, increase the number of iterations.\n",
      "  warnings.warn(\"Liblinear failed to converge, increase \"\n"
     ]
    },
    {
     "name": "stdout",
     "output_type": "stream",
     "text": [
      "Model Number: 7 with model DatepartRegression in generation 0 of 10\n",
      "Template Eval Error: ImportError('Tensorflow not available, install with pip install tensorflow.') in model 7: DatepartRegression\n",
      "Model Number: 8 with model ETS in generation 0 of 10\n"
     ]
    },
    {
     "name": "stderr",
     "output_type": "stream",
     "text": [
      "C:\\ProgramData\\Anaconda3\\lib\\site-packages\\sklearn\\neural_network\\_multilayer_perceptron.py:500: ConvergenceWarning: lbfgs failed to converge (status=1):\n",
      "STOP: TOTAL NO. of ITERATIONS REACHED LIMIT.\n",
      "\n",
      "Increase the number of iterations (max_iter) or scale the data as shown in:\n",
      "    https://scikit-learn.org/stable/modules/preprocessing.html\n",
      "  self.n_iter_ = _check_optimize_result(\"lbfgs\", opt_res, self.max_iter)\n"
     ]
    },
    {
     "name": "stdout",
     "output_type": "stream",
     "text": [
      "Model Number: 9 with model ETS in generation 0 of 10\n",
      "Model Number: 10 with model GLM in generation 0 of 10\n",
      "Template Eval Error: TypeError(\"ufunc 'isfinite' not supported for the input types, and the inputs could not be safely coerced to any supported types according to the casting rule ''safe''\") in model 10: GLM\n",
      "Model Number: 11 with model GLM in generation 0 of 10\n",
      "Model Number: 12 with model GLS in generation 0 of 10\n",
      "Model Number: 13 with model GLS in generation 0 of 10\n",
      "Model Number: 14 with model LastValueNaive in generation 0 of 10\n",
      "Model Number: 15 with model LastValueNaive in generation 0 of 10\n",
      "Model Number: 16 with model LastValueNaive in generation 0 of 10\n",
      "Model Number: 17 with model LastValueNaive in generation 0 of 10\n",
      "Model Number: 18 with model SeasonalNaive in generation 0 of 10\n",
      "Model Number: 19 with model SeasonalNaive in generation 0 of 10\n",
      "Model Number: 20 with model SeasonalNaive in generation 0 of 10\n",
      "Model Number: 21 with model UnobservedComponents in generation 0 of 10\n",
      "Model Number: 22 with model UnobservedComponents in generation 0 of 10\n",
      "Model Number: 23 with model UnobservedComponents in generation 0 of 10\n",
      "Model Number: 24 with model VAR in generation 0 of 10\n",
      "Template Eval Error: ValueError('Only gave one variable to VAR') in model 24: VAR\n",
      "Model Number: 25 with model VAR in generation 0 of 10\n",
      "Template Eval Error: ValueError('Only gave one variable to VAR') in model 25: VAR\n",
      "Model Number: 26 with model VECM in generation 0 of 10\n",
      "Template Eval Error: ValueError('Only gave one variable to VECM') in model 26: VECM\n",
      "Model Number: 27 with model VECM in generation 0 of 10\n",
      "Template Eval Error: ValueError('Only gave one variable to VECM') in model 27: VECM\n",
      "Model Number: 28 with model WindowRegression in generation 0 of 10\n",
      "Model Number: 29 with model ConstantNaive in generation 0 of 10\n"
     ]
    },
    {
     "name": "stderr",
     "output_type": "stream",
     "text": [
      "C:\\ProgramData\\Anaconda3\\lib\\site-packages\\sklearn\\neural_network\\_multilayer_perceptron.py:500: ConvergenceWarning: lbfgs failed to converge (status=1):\n",
      "STOP: TOTAL NO. of ITERATIONS REACHED LIMIT.\n",
      "\n",
      "Increase the number of iterations (max_iter) or scale the data as shown in:\n",
      "    https://scikit-learn.org/stable/modules/preprocessing.html\n",
      "  self.n_iter_ = _check_optimize_result(\"lbfgs\", opt_res, self.max_iter)\n"
     ]
    },
    {
     "name": "stdout",
     "output_type": "stream",
     "text": [
      "Model Number: 30 with model FBProphet in generation 0 of 10\n",
      "Template Eval Error: ModuleNotFoundError(\"No module named 'fbprophet'\") in model 30: FBProphet\n",
      "Model Number: 31 with model MultivariateRegression in generation 0 of 10\n",
      "Model Number: 32 with model MultivariateRegression in generation 0 of 10\n",
      "Template Eval Error: ValueError(\"regression_type='User' but not future_regressor supplied.\") in model 32: MultivariateRegression\n",
      "Model Number: 33 with model DatepartRegression in generation 0 of 10\n",
      "Template Eval Error: ValueError(\"regression_type='User' but no future_regressor passed\") in model 33: DatepartRegression\n",
      "Model Number: 34 with model SeasonalNaive in generation 0 of 10\n",
      "Model Number: 35 with model DatepartRegression in generation 0 of 10\n",
      "Model Number: 36 with model UnobservedComponents in generation 0 of 10\n",
      "Model Number: 37 with model UnobservedComponents in generation 0 of 10\n",
      "Model Number: 38 with model ETS in generation 0 of 10\n",
      "Model Number: 39 with model VECM in generation 0 of 10\n",
      "Template Eval Error: ValueError('Only gave one variable to VECM') in model 39: VECM\n",
      "Model Number: 40 with model ARDL in generation 0 of 10\n",
      "Template Eval Error: ImportError(\"cannot import name 'ARDL' from 'statsmodels.tsa.api' (C:\\\\ProgramData\\\\Anaconda3\\\\lib\\\\site-packages\\\\statsmodels\\\\tsa\\\\api.py)\") in model 40: ARDL\n",
      "Model Number: 41 with model MultivariateMotif in generation 0 of 10\n",
      "Model Number: 42 with model MultivariateMotif in generation 0 of 10\n",
      "Model Number: 43 with model UnivariateMotif in generation 0 of 10\n",
      "Model Number: 44 with model UnivariateMotif in generation 0 of 10\n",
      "Model Number: 45 with model SectionalMotif in generation 0 of 10\n",
      "Model Number: 46 with model SectionalMotif in generation 0 of 10\n",
      "Model Number: 47 with model MultivariateRegression in generation 0 of 10\n",
      "Model Number: 48 with model FBProphet in generation 0 of 10\n",
      "Template Eval Error: ModuleNotFoundError(\"No module named 'fbprophet'\") in model 48: FBProphet\n",
      "Model Number: 49 with model SeasonalNaive in generation 0 of 10\n",
      "Model Number: 50 with model DatepartRegression in generation 0 of 10\n",
      "Model Number: 51 with model NVAR in generation 0 of 10\n",
      "Model Number: 52 with model Theta in generation 0 of 10\n",
      "Model Number: 53 with model ConstantNaive in generation 0 of 10\n",
      "Model Number: 54 with model LastValueNaive in generation 0 of 10\n",
      "Model Number: 55 with model AverageValueNaive in generation 0 of 10\n",
      "Model Number: 56 with model GLS in generation 0 of 10\n",
      "Model Number: 57 with model SeasonalNaive in generation 0 of 10\n",
      "Model Number: 58 with model GLM in generation 0 of 10\n",
      "Template Eval Error: ValueError('regression_type=user and no future_regressor passed') in model 58: GLM\n",
      "Model Number: 59 with model ETS in generation 0 of 10\n",
      "Model Number: 60 with model FBProphet in generation 0 of 10\n",
      "Template Eval Error: ModuleNotFoundError(\"No module named 'fbprophet'\") in model 60: FBProphet\n",
      "Model Number: 61 with model UnobservedComponents in generation 0 of 10\n",
      "Model Number: 62 with model VAR in generation 0 of 10\n",
      "Template Eval Error: ValueError('Only gave one variable to VAR') in model 62: VAR\n",
      "Model Number: 63 with model VECM in generation 0 of 10\n",
      "Template Eval Error: ValueError('Only gave one variable to VECM') in model 63: VECM\n",
      "Model Number: 64 with model WindowRegression in generation 0 of 10\n",
      "Model Number: 65 with model DatepartRegression in generation 0 of 10\n",
      "Model Number: 66 with model MultivariateRegression in generation 0 of 10\n",
      "Template Eval Error: ModuleNotFoundError(\"No module named 'lightgbm'\") in model 66: MultivariateRegression\n",
      "Model Number: 67 with model UnivariateMotif in generation 0 of 10\n",
      "Model Number: 68 with model MultivariateMotif in generation 0 of 10\n",
      "Model Number: 69 with model SectionalMotif in generation 0 of 10\n",
      "Model Number: 70 with model NVAR in generation 0 of 10\n",
      "Model Number: 71 with model Theta in generation 0 of 10\n",
      "Model Number: 72 with model ARDL in generation 0 of 10\n",
      "Template Eval Error: ImportError(\"cannot import name 'ARDL' from 'statsmodels.tsa.api' (C:\\\\ProgramData\\\\Anaconda3\\\\lib\\\\site-packages\\\\statsmodels\\\\tsa\\\\api.py)\") in model 72: ARDL\n",
      "Model Number: 73 with model VECM in generation 0 of 10\n",
      "Template Eval Error: ValueError('Only gave one variable to VECM') in model 73: VECM\n",
      "Model Number: 74 with model MultivariateRegression in generation 0 of 10\n",
      "Model Number: 75 with model WindowRegression in generation 0 of 10\n",
      "Model Number: 76 with model SectionalMotif in generation 0 of 10\n",
      "Model Number: 77 with model Theta in generation 0 of 10\n",
      "Model Number: 78 with model GLS in generation 0 of 10\n",
      "Model Number: 79 with model VECM in generation 0 of 10\n",
      "Template Eval Error: ValueError('Only gave one variable to VECM') in model 79: VECM\n",
      "Model Number: 80 with model WindowRegression in generation 0 of 10\n",
      "Model Number: 81 with model SectionalMotif in generation 0 of 10\n",
      "Template Eval Error: ValueError(\"regression_type=='User' but no future_regressor supplied\") in model 81: SectionalMotif\n",
      "Model Number: 82 with model MultivariateMotif in generation 0 of 10\n",
      "Model Number: 83 with model ConstantNaive in generation 0 of 10\n",
      "Template Eval Error: ValueError(\"Model returned NaN due to a preprocessing transformer {'fillna': 'rolling_mean', 'transformations': {'0': 'StandardScaler', '1': 'StandardScaler', '2': 'bkfilter', '3': 'CumSumTransformer', '4': 'cffilter'}, 'transformation_params': {'0': {}, '1': {}, '2': {}, '3': {}, '4': {}}}. fail_on_forecast_nan=True\") in model 83: ConstantNaive\n",
      "Model Number: 84 with model VECM in generation 0 of 10\n",
      "Template Eval Error: ValueError(\"regression_type='User' but no future_regressor supplied\") in model 84: VECM\n",
      "Model Number: 85 with model SectionalMotif in generation 0 of 10\n",
      "Model Number: 86 with model LastValueNaive in generation 0 of 10\n",
      "Model Number: 87 with model LastValueNaive in generation 0 of 10\n",
      "Model Number: 88 with model UnivariateMotif in generation 0 of 10\n",
      "Model Number: 89 with model ETS in generation 0 of 10\n",
      "Model Number: 90 with model ConstantNaive in generation 0 of 10\n",
      "Model Number: 91 with model MultivariateRegression in generation 0 of 10\n",
      "Template Eval Error: ValueError(\"regression_type='User' but not future_regressor supplied.\") in model 91: MultivariateRegression\n",
      "Model Number: 92 with model ARDL in generation 0 of 10\n",
      "Template Eval Error: ValueError(\"regression_type='User' but future_regressor not supplied\") in model 92: ARDL\n",
      "Model Number: 93 with model NVAR in generation 0 of 10\n",
      "Model Number: 94 with model SectionalMotif in generation 0 of 10\n",
      "Model Number: 95 with model UnivariateMotif in generation 0 of 10\n",
      "Template Eval Error: ValueError('Model UnivariateMotif returned NaN for one or more series. fail_on_forecast_nan=True') in model 95: UnivariateMotif\n",
      "Model Number: 96 with model UnobservedComponents in generation 0 of 10\n",
      "Model Number: 97 with model DatepartRegression in generation 0 of 10\n",
      "Template Eval Error: ValueError(\"regression_type='User' but no future_regressor passed\") in model 97: DatepartRegression\n",
      "Model Number: 98 with model Theta in generation 0 of 10\n"
     ]
    },
    {
     "name": "stderr",
     "output_type": "stream",
     "text": [
      "C:\\ProgramData\\Anaconda3\\lib\\site-packages\\numpy\\core\\_methods.py:47: RuntimeWarning: invalid value encountered in reduce\n",
      "  return umr_sum(a, axis, dtype, out, keepdims, initial, where)\n"
     ]
    },
    {
     "name": "stdout",
     "output_type": "stream",
     "text": [
      "Model Number: 99 with model ConstantNaive in generation 0 of 10\n",
      "Model Number: 100 with model NVAR in generation 0 of 10\n",
      "Model Number: 101 with model ConstantNaive in generation 0 of 10\n",
      "Model Number: 102 with model FBProphet in generation 0 of 10\n",
      "Template Eval Error: ModuleNotFoundError(\"No module named 'fbprophet'\") in model 102: FBProphet\n",
      "Model Number: 103 with model ConstantNaive in generation 0 of 10\n",
      "Model Number: 104 with model DatepartRegression in generation 0 of 10\n",
      "Template Eval Error: ImportError('Tensorflow not available, install with pip install tensorflow.') in model 104: DatepartRegression\n",
      "Model Number: 105 with model FBProphet in generation 0 of 10\n",
      "Template Eval Error: ModuleNotFoundError(\"No module named 'fbprophet'\") in model 105: FBProphet\n",
      "Model Number: 106 with model FBProphet in generation 0 of 10\n",
      "Template Eval Error: ModuleNotFoundError(\"No module named 'fbprophet'\") in model 106: FBProphet\n",
      "Model Number: 107 with model MultivariateRegression in generation 0 of 10\n",
      "Model Number: 108 with model Theta in generation 0 of 10\n",
      "Model Number: 109 with model MultivariateRegression in generation 0 of 10\n"
     ]
    },
    {
     "name": "stderr",
     "output_type": "stream",
     "text": [
      "C:\\ProgramData\\Anaconda3\\lib\\site-packages\\sklearn\\neural_network\\_multilayer_perceptron.py:500: ConvergenceWarning: lbfgs failed to converge (status=2):\n",
      "ABNORMAL_TERMINATION_IN_LNSRCH.\n",
      "\n",
      "Increase the number of iterations (max_iter) or scale the data as shown in:\n",
      "    https://scikit-learn.org/stable/modules/preprocessing.html\n",
      "  self.n_iter_ = _check_optimize_result(\"lbfgs\", opt_res, self.max_iter)\n"
     ]
    },
    {
     "name": "stdout",
     "output_type": "stream",
     "text": [
      "Model Number: 110 with model LastValueNaive in generation 0 of 10\n",
      "Model Number: 111 with model GLS in generation 0 of 10\n",
      "Model Number: 112 with model ConstantNaive in generation 0 of 10\n",
      "Model Number: 113 with model DatepartRegression in generation 0 of 10\n",
      "Template Eval Error: ValueError(\"regression_type='User' but no future_regressor passed\") in model 113: DatepartRegression\n",
      "Model Number: 114 with model GLS in generation 0 of 10\n",
      "Model Number: 115 with model UnobservedComponents in generation 0 of 10\n",
      "Template Eval Error: LinAlgError('Singular matrix') in model 115: UnobservedComponents\n",
      "Model Number: 116 with model DatepartRegression in generation 0 of 10\n"
     ]
    },
    {
     "name": "stderr",
     "output_type": "stream",
     "text": [
      "C:\\ProgramData\\Anaconda3\\lib\\site-packages\\sklearn\\svm\\_base.py:985: ConvergenceWarning: Liblinear failed to converge, increase the number of iterations.\n",
      "  warnings.warn(\"Liblinear failed to converge, increase \"\n"
     ]
    },
    {
     "name": "stdout",
     "output_type": "stream",
     "text": [
      "Model Number: 117 with model DatepartRegression in generation 0 of 10\n",
      "Template Eval Error: ValueError(\"regression_type='User' but no future_regressor passed\") in model 117: DatepartRegression\n",
      "Model Number: 118 with model UnobservedComponents in generation 0 of 10\n",
      "Model Number: 119 with model MultivariateRegression in generation 0 of 10\n",
      "Template Eval Error: ImportError('Tensorflow not available, install with pip install tensorflow.') in model 119: MultivariateRegression\n",
      "Model Number: 120 with model UnivariateMotif in generation 0 of 10\n",
      "Model Number: 121 with model SeasonalNaive in generation 0 of 10\n",
      "Model Number: 122 with model GLS in generation 0 of 10\n",
      "Model Number: 123 with model SectionalMotif in generation 0 of 10\n",
      "Model Number: 124 with model MultivariateMotif in generation 0 of 10\n",
      "Template Eval Error: ValueError('Model MultivariateMotif returned NaN for one or more series. fail_on_forecast_nan=True') in model 124: MultivariateMotif\n",
      "Model Number: 125 with model UnivariateMotif in generation 0 of 10\n",
      "Model Number: 126 with model VAR in generation 0 of 10\n",
      "Template Eval Error: ValueError('Only gave one variable to VAR') in model 126: VAR\n",
      "Model Number: 127 with model LastValueNaive in generation 0 of 10\n",
      "Model Number: 128 with model UnivariateMotif in generation 0 of 10\n",
      "Model Number: 129 with model GLM in generation 0 of 10\n",
      "Template Eval Error: TypeError(\"ufunc 'isfinite' not supported for the input types, and the inputs could not be safely coerced to any supported types according to the casting rule ''safe''\") in model 129: GLM\n",
      "Model Number: 130 with model MultivariateMotif in generation 0 of 10\n",
      "Model Number: 131 with model GLM in generation 0 of 10\n",
      "Template Eval Error: TypeError(\"ufunc 'isfinite' not supported for the input types, and the inputs could not be safely coerced to any supported types according to the casting rule ''safe''\") in model 131: GLM\n",
      "Model Number: 132 with model LastValueNaive in generation 0 of 10\n",
      "Model Number: 133 with model UnobservedComponents in generation 0 of 10\n",
      "Template Eval Error: ValueError(\"regression_type='User' but no future_regressor supplied\") in model 133: UnobservedComponents\n",
      "Model Number: 134 with model Theta in generation 0 of 10\n",
      "Model Number: 135 with model VAR in generation 0 of 10\n",
      "Template Eval Error: ValueError('Only gave one variable to VAR') in model 135: VAR\n",
      "Model Number: 136 with model NVAR in generation 0 of 10\n",
      "Model Number: 137 with model UnivariateMotif in generation 0 of 10\n",
      "Model Number: 138 with model ConstantNaive in generation 0 of 10\n",
      "Model Number: 139 with model SectionalMotif in generation 0 of 10\n",
      "Model Number: 140 with model ConstantNaive in generation 0 of 10\n",
      "Model Number: 141 with model AverageValueNaive in generation 0 of 10\n",
      "Model Number: 142 with model AverageValueNaive in generation 0 of 10\n",
      "Model Number: 143 with model GLS in generation 0 of 10\n",
      "Model Number: 144 with model ARDL in generation 0 of 10\n",
      "Template Eval Error: ImportError(\"cannot import name 'ARDL' from 'statsmodels.tsa.api' (C:\\\\ProgramData\\\\Anaconda3\\\\lib\\\\site-packages\\\\statsmodels\\\\tsa\\\\api.py)\") in model 144: ARDL\n",
      "Model Number: 145 with model UnivariateMotif in generation 0 of 10\n",
      "Model Number: 146 with model WindowRegression in generation 0 of 10\n",
      "Model Number: 147 with model ARDL in generation 0 of 10\n",
      "Template Eval Error: ValueError(\"regression_type='User' but future_regressor not supplied\") in model 147: ARDL\n",
      "Model Number: 148 with model LastValueNaive in generation 0 of 10\n",
      "Model Number: 149 with model ConstantNaive in generation 0 of 10\n",
      "Model Number: 150 with model VECM in generation 0 of 10\n",
      "Template Eval Error: ValueError('Only gave one variable to VECM') in model 150: VECM\n",
      "Model Number: 151 with model NVAR in generation 0 of 10\n",
      "Model Number: 152 with model NVAR in generation 0 of 10\n",
      "New Generation: 1 of 10\n",
      "Model Number: 153 with model LastValueNaive in generation 1 of 10\n",
      "Model Number: 154 with model LastValueNaive in generation 1 of 10\n",
      "Model Number: 155 with model LastValueNaive in generation 1 of 10\n",
      "Model Number: 156 with model NVAR in generation 1 of 10\n",
      "Template Eval Error: Exception('Transformer MinMaxScaler failed on fit') in model 156: NVAR\n",
      "Model Number: 157 with model NVAR in generation 1 of 10\n",
      "Model Number: 158 with model NVAR in generation 1 of 10\n"
     ]
    },
    {
     "name": "stderr",
     "output_type": "stream",
     "text": [
      "C:\\ProgramData\\Anaconda3\\lib\\site-packages\\sklearn\\preprocessing\\_data.py:400: RuntimeWarning: All-NaN slice encountered\n",
      "  data_min = np.nanmin(X, axis=0)\n",
      "C:\\ProgramData\\Anaconda3\\lib\\site-packages\\sklearn\\preprocessing\\_data.py:401: RuntimeWarning: All-NaN slice encountered\n",
      "  data_max = np.nanmax(X, axis=0)\n"
     ]
    },
    {
     "name": "stdout",
     "output_type": "stream",
     "text": [
      "Template Eval Error: Exception('Transformer RobustScaler failed on fit') in model 158: NVAR\n",
      "Model Number: 159 with model UnivariateMotif in generation 1 of 10\n",
      "Template Eval Error: ValueError('kth(=100) out of bounds (96)') in model 159: UnivariateMotif\n",
      "Model Number: 160 with model UnivariateMotif in generation 1 of 10\n",
      "Model Number: 161 with model UnivariateMotif in generation 1 of 10\n",
      "Model Number: 162 with model UnivariateMotif in generation 1 of 10\n",
      "Model Number: 163 with model Theta in generation 1 of 10\n",
      "Model Number: 164 with model Theta in generation 1 of 10\n",
      "Model Number: 165 with model Theta in generation 1 of 10\n",
      "Model Number: 166 with model Theta in generation 1 of 10\n",
      "Model Number: 167 with model UnobservedComponents in generation 1 of 10\n",
      "Template Eval Error: LinAlgError('Singular matrix') in model 167: UnobservedComponents\n",
      "Model Number: 168 with model UnobservedComponents in generation 1 of 10\n",
      "Model Number: 169 with model UnobservedComponents in generation 1 of 10\n",
      "Model Number: 170 with model MultivariateRegression in generation 1 of 10\n",
      "Model Number: 171 with model MultivariateRegression in generation 1 of 10\n",
      "Model Number: 172 with model MultivariateRegression in generation 1 of 10\n",
      "Model Number: 173 with model MultivariateRegression in generation 1 of 10\n",
      "Model Number: 174 with model GLS in generation 1 of 10\n",
      "Model Number: 175 with model GLS in generation 1 of 10\n",
      "Model Number: 176 with model GLS in generation 1 of 10\n",
      "Model Number: 177 with model ConstantNaive in generation 1 of 10\n",
      "Template Eval Error: KeyError(Timestamp('2021-08-27 00:00:00', freq='B')) in model 177: ConstantNaive\n",
      "Model Number: 178 with model ConstantNaive in generation 1 of 10\n",
      "Model Number: 179 with model ConstantNaive in generation 1 of 10\n",
      "Template Eval Error: KeyError(Timestamp('2021-08-27 00:00:00', freq='B')) in model 179: ConstantNaive\n",
      "Model Number: 180 with model SectionalMotif in generation 1 of 10\n",
      "Model Number: 181 with model SectionalMotif in generation 1 of 10\n",
      "Model Number: 182 with model SectionalMotif in generation 1 of 10\n",
      "Template Eval Error: ValueError(\"regression_type=='User' but no future_regressor supplied\") in model 182: SectionalMotif\n",
      "Model Number: 183 with model SectionalMotif in generation 1 of 10\n",
      "Model Number: 184 with model ETS in generation 1 of 10\n",
      "Model Number: 185 with model ETS in generation 1 of 10\n",
      "Model Number: 186 with model ETS in generation 1 of 10\n",
      "Model Number: 187 with model ETS in generation 1 of 10\n",
      "Model Number: 188 with model MultivariateMotif in generation 1 of 10\n",
      "Model Number: 189 with model MultivariateMotif in generation 1 of 10\n",
      "Model Number: 190 with model MultivariateMotif in generation 1 of 10\n",
      "Model Number: 191 with model MultivariateMotif in generation 1 of 10\n",
      "Model Number: 192 with model SeasonalNaive in generation 1 of 10\n",
      "Model Number: 193 with model SeasonalNaive in generation 1 of 10\n",
      "Model Number: 194 with model SeasonalNaive in generation 1 of 10\n",
      "Model Number: 195 with model SeasonalNaive in generation 1 of 10\n",
      "Model Number: 196 with model AverageValueNaive in generation 1 of 10\n",
      "Model Number: 197 with model AverageValueNaive in generation 1 of 10\n",
      "Model Number: 198 with model AverageValueNaive in generation 1 of 10\n",
      "Model Number: 199 with model DatepartRegression in generation 1 of 10\n",
      "Model Number: 200 with model DatepartRegression in generation 1 of 10\n",
      "Model Number: 201 with model DatepartRegression in generation 1 of 10\n",
      "Model Number: 202 with model WindowRegression in generation 1 of 10\n",
      "Model Number: 203 with model WindowRegression in generation 1 of 10\n",
      "Model Number: 204 with model WindowRegression in generation 1 of 10\n",
      "Template Eval Error: ModuleNotFoundError(\"No module named 'lightgbm'\") in model 204: WindowRegression\n",
      "Model Number: 205 with model GLM in generation 1 of 10\n",
      "Template Eval Error: TypeError(\"ufunc 'isfinite' not supported for the input types, and the inputs could not be safely coerced to any supported types according to the casting rule ''safe''\") in model 205: GLM\n",
      "Model Number: 206 with model GLM in generation 1 of 10\n",
      "Model Number: 207 with model GLM in generation 1 of 10\n",
      "Model Number: 208 with model GLM in generation 1 of 10\n",
      "Template Eval Error: TypeError(\"ufunc 'isfinite' not supported for the input types, and the inputs could not be safely coerced to any supported types according to the casting rule ''safe''\") in model 208: GLM\n",
      "Model Number: 209 with model VAR in generation 1 of 10\n",
      "Template Eval Error: ValueError('Only gave one variable to VAR') in model 209: VAR\n",
      "Model Number: 210 with model VAR in generation 1 of 10\n",
      "Template Eval Error: ValueError('Only gave one variable to VAR') in model 210: VAR\n",
      "Model Number: 211 with model VAR in generation 1 of 10\n",
      "Template Eval Error: ValueError('Only gave one variable to VAR') in model 211: VAR\n",
      "Model Number: 212 with model VAR in generation 1 of 10\n",
      "Template Eval Error: ValueError('Only gave one variable to VAR') in model 212: VAR\n",
      "Model Number: 213 with model VECM in generation 1 of 10\n",
      "Template Eval Error: ValueError('Only gave one variable to VECM') in model 213: VECM\n",
      "Model Number: 214 with model VECM in generation 1 of 10\n",
      "Template Eval Error: ValueError('Only gave one variable to VECM') in model 214: VECM\n",
      "Model Number: 215 with model VECM in generation 1 of 10\n",
      "Template Eval Error: ValueError('Only gave one variable to VECM') in model 215: VECM\n",
      "Model Number: 216 with model VECM in generation 1 of 10\n",
      "Template Eval Error: ValueError('Only gave one variable to VECM') in model 216: VECM\n",
      "Model Number: 217 with model FBProphet in generation 1 of 10\n",
      "Template Eval Error: ModuleNotFoundError(\"No module named 'fbprophet'\") in model 217: FBProphet\n",
      "Model Number: 218 with model FBProphet in generation 1 of 10\n",
      "Template Eval Error: ModuleNotFoundError(\"No module named 'fbprophet'\") in model 218: FBProphet\n",
      "Model Number: 219 with model FBProphet in generation 1 of 10\n",
      "Template Eval Error: ModuleNotFoundError(\"No module named 'fbprophet'\") in model 219: FBProphet\n",
      "Model Number: 220 with model FBProphet in generation 1 of 10\n",
      "Template Eval Error: ModuleNotFoundError(\"No module named 'fbprophet'\") in model 220: FBProphet\n",
      "Model Number: 221 with model ARDL in generation 1 of 10\n",
      "Template Eval Error: ImportError(\"cannot import name 'ARDL' from 'statsmodels.tsa.api' (C:\\\\ProgramData\\\\Anaconda3\\\\lib\\\\site-packages\\\\statsmodels\\\\tsa\\\\api.py)\") in model 221: ARDL\n",
      "Model Number: 222 with model ARDL in generation 1 of 10\n",
      "Template Eval Error: ImportError(\"cannot import name 'ARDL' from 'statsmodels.tsa.api' (C:\\\\ProgramData\\\\Anaconda3\\\\lib\\\\site-packages\\\\statsmodels\\\\tsa\\\\api.py)\") in model 222: ARDL\n",
      "Model Number: 223 with model ARDL in generation 1 of 10\n",
      "Template Eval Error: ImportError(\"cannot import name 'ARDL' from 'statsmodels.tsa.api' (C:\\\\ProgramData\\\\Anaconda3\\\\lib\\\\site-packages\\\\statsmodels\\\\tsa\\\\api.py)\") in model 223: ARDL\n",
      "Model Number: 224 with model ARDL in generation 1 of 10\n",
      "Template Eval Error: ImportError(\"cannot import name 'ARDL' from 'statsmodels.tsa.api' (C:\\\\ProgramData\\\\Anaconda3\\\\lib\\\\site-packages\\\\statsmodels\\\\tsa\\\\api.py)\") in model 224: ARDL\n",
      "New Generation: 2 of 10\n",
      "Model Number: 225 with model LastValueNaive in generation 2 of 10\n",
      "Model Number: 226 with model LastValueNaive in generation 2 of 10\n",
      "Model Number: 227 with model NVAR in generation 2 of 10\n",
      "Model Number: 228 with model NVAR in generation 2 of 10\n",
      "Model Number: 229 with model NVAR in generation 2 of 10\n",
      "Model Number: 230 with model NVAR in generation 2 of 10\n",
      "Model Number: 231 with model UnivariateMotif in generation 2 of 10\n",
      "Model Number: 232 with model UnivariateMotif in generation 2 of 10\n",
      "Model Number: 233 with model UnivariateMotif in generation 2 of 10\n",
      "Model Number: 234 with model UnivariateMotif in generation 2 of 10\n",
      "Model Number: 235 with model AverageValueNaive in generation 2 of 10\n",
      "Model Number: 236 with model AverageValueNaive in generation 2 of 10\n",
      "Template Eval Error: ValueError('Model AverageValueNaive returned NaN for one or more series. fail_on_forecast_nan=True') in model 236: AverageValueNaive\n",
      "Model Number: 237 with model AverageValueNaive in generation 2 of 10\n"
     ]
    },
    {
     "name": "stderr",
     "output_type": "stream",
     "text": [
      "C:\\ProgramData\\Anaconda3\\lib\\site-packages\\autots\\tools\\percentile.py:47: RuntimeWarning: All-NaN slice encountered\n",
      "  max_val = np.nanmax(arr)\n"
     ]
    },
    {
     "name": "stdout",
     "output_type": "stream",
     "text": [
      "Model Number: 238 with model Theta in generation 2 of 10\n",
      "Model Number: 239 with model Theta in generation 2 of 10\n",
      "Model Number: 240 with model Theta in generation 2 of 10\n",
      "Model Number: 241 with model Theta in generation 2 of 10\n",
      "Model Number: 242 with model WindowRegression in generation 2 of 10\n",
      "Template Eval Error: ValueError(\"regression_type='User' but no future_regressor passed\") in model 242: WindowRegression\n",
      "Model Number: 243 with model WindowRegression in generation 2 of 10\n",
      "Template Eval Error: ValueError(\"regression_type='User' but no future_regressor passed\") in model 243: WindowRegression\n",
      "Model Number: 244 with model WindowRegression in generation 2 of 10\n",
      "Template Eval Error: ValueError(\"regression_type='User' but no future_regressor passed\") in model 244: WindowRegression\n",
      "Model Number: 245 with model UnobservedComponents in generation 2 of 10\n",
      "Model Number: 246 with model UnobservedComponents in generation 2 of 10\n",
      "Model Number: 247 with model UnobservedComponents in generation 2 of 10\n",
      "Model Number: 248 with model MultivariateRegression in generation 2 of 10\n",
      "Model Number: 249 with model MultivariateRegression in generation 2 of 10\n",
      "Template Eval Error: ValueError(\"regression_type='User' but not future_regressor supplied.\") in model 249: MultivariateRegression\n",
      "Model Number: 250 with model MultivariateRegression in generation 2 of 10\n",
      "Model Number: 251 with model MultivariateRegression in generation 2 of 10\n",
      "Template Eval Error: ValueError(\"regression_type='User' but not future_regressor supplied.\") in model 251: MultivariateRegression\n",
      "Model Number: 252 with model GLS in generation 2 of 10\n",
      "Model Number: 253 with model GLS in generation 2 of 10\n",
      "Model Number: 254 with model GLS in generation 2 of 10\n",
      "Model Number: 255 with model ConstantNaive in generation 2 of 10\n",
      "Model Number: 256 with model ConstantNaive in generation 2 of 10\n",
      "Model Number: 257 with model ConstantNaive in generation 2 of 10\n",
      "Model Number: 258 with model SectionalMotif in generation 2 of 10\n",
      "Model Number: 259 with model SectionalMotif in generation 2 of 10\n",
      "Model Number: 260 with model SectionalMotif in generation 2 of 10\n",
      "Model Number: 261 with model SectionalMotif in generation 2 of 10\n",
      "Model Number: 262 with model ETS in generation 2 of 10\n",
      "Model Number: 263 with model ETS in generation 2 of 10\n",
      "Model Number: 264 with model ETS in generation 2 of 10\n",
      "Model Number: 265 with model ETS in generation 2 of 10\n",
      "Model Number: 266 with model DatepartRegression in generation 2 of 10\n",
      "Model Number: 267 with model DatepartRegression in generation 2 of 10\n",
      "Template Eval Error: ValueError('Model DatepartRegression returned NaN for one or more series. fail_on_forecast_nan=True') in model 267: DatepartRegression\n",
      "Model Number: 268 with model DatepartRegression in generation 2 of 10\n",
      "Template Eval Error: ValueError(\"regression_type='User' but no future_regressor passed\") in model 268: DatepartRegression\n",
      "Model Number: 269 with model SeasonalNaive in generation 2 of 10\n"
     ]
    },
    {
     "name": "stderr",
     "output_type": "stream",
     "text": [
      "C:\\ProgramData\\Anaconda3\\lib\\site-packages\\sklearn\\neighbors\\_regression.py:421: UserWarning: One or more samples have no neighbors within specified radius; predicting NaN.\n",
      "  warnings.warn(empty_warning_msg)\n"
     ]
    },
    {
     "name": "stdout",
     "output_type": "stream",
     "text": [
      "Model Number: 270 with model SeasonalNaive in generation 2 of 10\n",
      "Model Number: 271 with model SeasonalNaive in generation 2 of 10\n",
      "Model Number: 272 with model SeasonalNaive in generation 2 of 10\n",
      "Model Number: 273 with model MultivariateMotif in generation 2 of 10\n",
      "Model Number: 274 with model MultivariateMotif in generation 2 of 10\n",
      "Model Number: 275 with model MultivariateMotif in generation 2 of 10\n",
      "Model Number: 276 with model MultivariateMotif in generation 2 of 10\n",
      "Model Number: 277 with model GLM in generation 2 of 10\n",
      "Model Number: 278 with model GLM in generation 2 of 10\n",
      "Model Number: 279 with model GLM in generation 2 of 10\n",
      "Model Number: 280 with model GLM in generation 2 of 10\n",
      "Model Number: 281 with model VAR in generation 2 of 10\n",
      "Template Eval Error: ValueError('Only gave one variable to VAR') in model 281: VAR\n",
      "Model Number: 282 with model VAR in generation 2 of 10\n",
      "Template Eval Error: ValueError('Only gave one variable to VAR') in model 282: VAR\n",
      "Model Number: 283 with model VAR in generation 2 of 10\n",
      "Template Eval Error: ValueError('Only gave one variable to VAR') in model 283: VAR\n",
      "Model Number: 284 with model VAR in generation 2 of 10\n",
      "Template Eval Error: ValueError('Only gave one variable to VAR') in model 284: VAR\n",
      "Model Number: 285 with model VECM in generation 2 of 10\n",
      "Template Eval Error: ValueError('Only gave one variable to VECM') in model 285: VECM\n",
      "Model Number: 286 with model VECM in generation 2 of 10\n",
      "Template Eval Error: ValueError('Only gave one variable to VECM') in model 286: VECM\n",
      "Model Number: 287 with model VECM in generation 2 of 10\n",
      "Template Eval Error: ValueError('Only gave one variable to VECM') in model 287: VECM\n",
      "Model Number: 288 with model VECM in generation 2 of 10\n",
      "Template Eval Error: ValueError('Only gave one variable to VECM') in model 288: VECM\n",
      "Model Number: 289 with model FBProphet in generation 2 of 10\n",
      "Template Eval Error: ModuleNotFoundError(\"No module named 'fbprophet'\") in model 289: FBProphet\n",
      "Model Number: 290 with model FBProphet in generation 2 of 10\n",
      "Template Eval Error: ModuleNotFoundError(\"No module named 'fbprophet'\") in model 290: FBProphet\n",
      "Model Number: 291 with model FBProphet in generation 2 of 10\n",
      "Template Eval Error: ModuleNotFoundError(\"No module named 'fbprophet'\") in model 291: FBProphet\n",
      "Model Number: 292 with model FBProphet in generation 2 of 10\n",
      "Template Eval Error: ModuleNotFoundError(\"No module named 'fbprophet'\") in model 292: FBProphet\n",
      "Model Number: 293 with model ARDL in generation 2 of 10\n",
      "Template Eval Error: ImportError(\"cannot import name 'ARDL' from 'statsmodels.tsa.api' (C:\\\\ProgramData\\\\Anaconda3\\\\lib\\\\site-packages\\\\statsmodels\\\\tsa\\\\api.py)\") in model 293: ARDL\n",
      "Model Number: 294 with model ARDL in generation 2 of 10\n",
      "Template Eval Error: ImportError(\"cannot import name 'ARDL' from 'statsmodels.tsa.api' (C:\\\\ProgramData\\\\Anaconda3\\\\lib\\\\site-packages\\\\statsmodels\\\\tsa\\\\api.py)\") in model 294: ARDL\n",
      "Model Number: 295 with model ARDL in generation 2 of 10\n",
      "Template Eval Error: ImportError(\"cannot import name 'ARDL' from 'statsmodels.tsa.api' (C:\\\\ProgramData\\\\Anaconda3\\\\lib\\\\site-packages\\\\statsmodels\\\\tsa\\\\api.py)\") in model 295: ARDL\n",
      "Model Number: 296 with model ARDL in generation 2 of 10\n",
      "Template Eval Error: ImportError(\"cannot import name 'ARDL' from 'statsmodels.tsa.api' (C:\\\\ProgramData\\\\Anaconda3\\\\lib\\\\site-packages\\\\statsmodels\\\\tsa\\\\api.py)\") in model 296: ARDL\n",
      "New Generation: 3 of 10\n",
      "Model Number: 297 with model MultivariateRegression in generation 3 of 10\n",
      "Model Number: 298 with model MultivariateRegression in generation 3 of 10\n",
      "Model Number: 299 with model MultivariateRegression in generation 3 of 10\n",
      "Template Eval Error: ValueError(\"regression_type='User' but not future_regressor supplied.\") in model 299: MultivariateRegression\n",
      "Model Number: 300 with model MultivariateRegression in generation 3 of 10\n",
      "Template Eval Error: ValueError(\"regression_type='User' but not future_regressor supplied.\") in model 300: MultivariateRegression\n",
      "Model Number: 301 with model LastValueNaive in generation 3 of 10\n",
      "Model Number: 302 with model LastValueNaive in generation 3 of 10\n",
      "Model Number: 303 with model LastValueNaive in generation 3 of 10\n",
      "Model Number: 304 with model NVAR in generation 3 of 10\n",
      "Model Number: 305 with model NVAR in generation 3 of 10\n",
      "Model Number: 306 with model NVAR in generation 3 of 10\n",
      "Model Number: 307 with model NVAR in generation 3 of 10\n",
      "Model Number: 308 with model UnivariateMotif in generation 3 of 10\n",
      "Model Number: 309 with model UnivariateMotif in generation 3 of 10\n",
      "Model Number: 310 with model UnivariateMotif in generation 3 of 10\n",
      "Model Number: 311 with model UnivariateMotif in generation 3 of 10\n",
      "Model Number: 312 with model Theta in generation 3 of 10\n",
      "Model Number: 313 with model Theta in generation 3 of 10\n",
      "Model Number: 314 with model Theta in generation 3 of 10\n",
      "Model Number: 315 with model Theta in generation 3 of 10\n",
      "Model Number: 316 with model AverageValueNaive in generation 3 of 10\n",
      "Model Number: 317 with model AverageValueNaive in generation 3 of 10\n",
      "Model Number: 318 with model AverageValueNaive in generation 3 of 10\n",
      "Model Number: 319 with model ConstantNaive in generation 3 of 10\n",
      "Model Number: 320 with model ConstantNaive in generation 3 of 10\n",
      "Model Number: 321 with model ConstantNaive in generation 3 of 10\n",
      "Model Number: 322 with model WindowRegression in generation 3 of 10\n",
      "Template Eval Error: ValueError(\"regression_type='User' but no future_regressor passed\") in model 322: WindowRegression\n",
      "Model Number: 323 with model WindowRegression in generation 3 of 10\n",
      "Model Number: 324 with model WindowRegression in generation 3 of 10\n",
      "Template Eval Error: ValueError(\"regression_type='User' but no future_regressor passed\") in model 324: WindowRegression\n",
      "Model Number: 325 with model UnobservedComponents in generation 3 of 10\n",
      "Model Number: 326 with model UnobservedComponents in generation 3 of 10\n",
      "Model Number: 327 with model UnobservedComponents in generation 3 of 10\n",
      "Model Number: 328 with model GLS in generation 3 of 10\n",
      "Model Number: 329 with model GLS in generation 3 of 10\n",
      "Model Number: 330 with model GLS in generation 3 of 10\n",
      "Model Number: 331 with model SectionalMotif in generation 3 of 10\n",
      "Model Number: 332 with model SectionalMotif in generation 3 of 10\n",
      "Model Number: 333 with model SectionalMotif in generation 3 of 10\n",
      "Model Number: 334 with model SectionalMotif in generation 3 of 10\n",
      "Model Number: 335 with model ETS in generation 3 of 10\n",
      "ETS error ValueError('endog must be strictly positive when usingmultiplicative trend or seasonal components.')\n",
      "ETS failed on Close with ValueError('endog must be strictly positive when usingmultiplicative trend or seasonal components.')\n",
      "Model Number: 336 with model ETS in generation 3 of 10\n",
      "Model Number: 337 with model ETS in generation 3 of 10\n",
      "ETS error ValueError('endog must be strictly positive when usingmultiplicative trend or seasonal components.')\n",
      "ETS failed on Close with ValueError('endog must be strictly positive when usingmultiplicative trend or seasonal components.')\n",
      "Model Number: 338 with model ETS in generation 3 of 10\n",
      "ETS error ValueError('endog must be strictly positive when usingmultiplicative trend or seasonal components.')\n",
      "ETS failed on Close with ValueError('endog must be strictly positive when usingmultiplicative trend or seasonal components.')\n",
      "Model Number: 339 with model DatepartRegression in generation 3 of 10\n",
      "Template Eval Error: ValueError(\"regression_type='User' but no future_regressor passed\") in model 339: DatepartRegression\n",
      "Model Number: 340 with model DatepartRegression in generation 3 of 10\n",
      "Model Number: 341 with model DatepartRegression in generation 3 of 10\n",
      "Template Eval Error: ValueError(\"regression_type='User' but no future_regressor passed\") in model 341: DatepartRegression\n",
      "Model Number: 342 with model SeasonalNaive in generation 3 of 10\n",
      "Model Number: 343 with model SeasonalNaive in generation 3 of 10\n",
      "Model Number: 344 with model SeasonalNaive in generation 3 of 10\n",
      "Model Number: 345 with model SeasonalNaive in generation 3 of 10\n",
      "Model Number: 346 with model GLM in generation 3 of 10\n",
      "Template Eval Error: TypeError(\"ufunc 'isfinite' not supported for the input types, and the inputs could not be safely coerced to any supported types according to the casting rule ''safe''\") in model 346: GLM\n",
      "Model Number: 347 with model GLM in generation 3 of 10\n"
     ]
    },
    {
     "name": "stdout",
     "output_type": "stream",
     "text": [
      "Model Number: 348 with model GLM in generation 3 of 10\n",
      "Model Number: 349 with model GLM in generation 3 of 10\n",
      "Template Eval Error: TypeError(\"ufunc 'isfinite' not supported for the input types, and the inputs could not be safely coerced to any supported types according to the casting rule ''safe''\") in model 349: GLM\n",
      "Model Number: 350 with model MultivariateMotif in generation 3 of 10\n"
     ]
    },
    {
     "name": "stderr",
     "output_type": "stream",
     "text": [
      "C:\\ProgramData\\Anaconda3\\lib\\site-packages\\statsmodels\\genmod\\generalized_linear_model.py:293: DomainWarning: The inverse_power link function does not respect the domain of the Gamma family.\n",
      "  warnings.warn((f\"The {type(family.link).__name__} link function \"\n",
      "C:\\ProgramData\\Anaconda3\\lib\\site-packages\\statsmodels\\genmod\\generalized_linear_model.py:293: DomainWarning: The inverse_power link function does not respect the domain of the Gamma family.\n",
      "  warnings.warn((f\"The {type(family.link).__name__} link function \"\n",
      "C:\\ProgramData\\Anaconda3\\lib\\site-packages\\statsmodels\\genmod\\generalized_linear_model.py:293: DomainWarning: The inverse_power link function does not respect the domain of the Gamma family.\n",
      "  warnings.warn((f\"The {type(family.link).__name__} link function \"\n"
     ]
    },
    {
     "name": "stdout",
     "output_type": "stream",
     "text": [
      "Model Number: 351 with model MultivariateMotif in generation 3 of 10\n",
      "Model Number: 352 with model MultivariateMotif in generation 3 of 10\n",
      "Model Number: 353 with model MultivariateMotif in generation 3 of 10\n",
      "Model Number: 354 with model VAR in generation 3 of 10\n",
      "Template Eval Error: ValueError('Only gave one variable to VAR') in model 354: VAR\n",
      "Model Number: 355 with model VAR in generation 3 of 10\n",
      "Template Eval Error: ValueError('Only gave one variable to VAR') in model 355: VAR\n",
      "Model Number: 356 with model VAR in generation 3 of 10\n",
      "Template Eval Error: ValueError('Only gave one variable to VAR') in model 356: VAR\n",
      "Model Number: 357 with model VAR in generation 3 of 10\n",
      "Template Eval Error: ValueError('Only gave one variable to VAR') in model 357: VAR\n",
      "Model Number: 358 with model VECM in generation 3 of 10\n",
      "Template Eval Error: ValueError('Only gave one variable to VECM') in model 358: VECM\n",
      "Model Number: 359 with model VECM in generation 3 of 10\n",
      "Template Eval Error: ValueError('Only gave one variable to VECM') in model 359: VECM\n",
      "Model Number: 360 with model VECM in generation 3 of 10\n",
      "Template Eval Error: ValueError('Only gave one variable to VECM') in model 360: VECM\n",
      "Model Number: 361 with model VECM in generation 3 of 10\n",
      "Template Eval Error: ValueError('Only gave one variable to VECM') in model 361: VECM\n",
      "Model Number: 362 with model FBProphet in generation 3 of 10\n",
      "Template Eval Error: ModuleNotFoundError(\"No module named 'fbprophet'\") in model 362: FBProphet\n",
      "Model Number: 363 with model FBProphet in generation 3 of 10\n",
      "Template Eval Error: ModuleNotFoundError(\"No module named 'fbprophet'\") in model 363: FBProphet\n",
      "Model Number: 364 with model FBProphet in generation 3 of 10\n",
      "Template Eval Error: ModuleNotFoundError(\"No module named 'fbprophet'\") in model 364: FBProphet\n",
      "Model Number: 365 with model FBProphet in generation 3 of 10\n",
      "Template Eval Error: Exception('Transformer RobustScaler failed on fit') in model 365: FBProphet\n",
      "Model Number: 366 with model ARDL in generation 3 of 10\n",
      "Template Eval Error: ImportError(\"cannot import name 'ARDL' from 'statsmodels.tsa.api' (C:\\\\ProgramData\\\\Anaconda3\\\\lib\\\\site-packages\\\\statsmodels\\\\tsa\\\\api.py)\") in model 366: ARDL\n",
      "Model Number: 367 with model ARDL in generation 3 of 10\n"
     ]
    },
    {
     "name": "stderr",
     "output_type": "stream",
     "text": [
      "C:\\ProgramData\\Anaconda3\\lib\\site-packages\\numpy\\lib\\nanfunctions.py:1113: RuntimeWarning: All-NaN slice encountered\n",
      "  r, k = function_base._ureduce(a, func=_nanmedian, axis=axis, out=out,\n",
      "C:\\ProgramData\\Anaconda3\\lib\\site-packages\\numpy\\lib\\nanfunctions.py:1368: RuntimeWarning: All-NaN slice encountered\n",
      "  r, k = function_base._ureduce(\n",
      "C:\\ProgramData\\Anaconda3\\lib\\site-packages\\numpy\\lib\\nanfunctions.py:1368: RuntimeWarning: All-NaN slice encountered\n",
      "  r, k = function_base._ureduce(\n"
     ]
    },
    {
     "name": "stdout",
     "output_type": "stream",
     "text": [
      "Template Eval Error: Exception('Transformer QuantileTransformer failed on fit') in model 367: ARDL\n",
      "Model Number: 368 with model ARDL in generation 3 of 10\n",
      "Template Eval Error: ImportError(\"cannot import name 'ARDL' from 'statsmodels.tsa.api' (C:\\\\ProgramData\\\\Anaconda3\\\\lib\\\\site-packages\\\\statsmodels\\\\tsa\\\\api.py)\") in model 368: ARDL\n",
      "Model Number: 369 with model ARDL in generation 3 of 10\n",
      "Template Eval Error: ImportError(\"cannot import name 'ARDL' from 'statsmodels.tsa.api' (C:\\\\ProgramData\\\\Anaconda3\\\\lib\\\\site-packages\\\\statsmodels\\\\tsa\\\\api.py)\") in model 369: ARDL\n",
      "New Generation: 4 of 10\n",
      "Model Number: 370 with model MultivariateRegression in generation 4 of 10\n",
      "Model Number: 371 with model MultivariateRegression in generation 4 of 10\n",
      "Model Number: 372 with model MultivariateRegression in generation 4 of 10\n",
      "Model Number: 373 with model MultivariateRegression in generation 4 of 10\n",
      "Model Number: 374 with model LastValueNaive in generation 4 of 10\n",
      "Model Number: 375 with model LastValueNaive in generation 4 of 10\n",
      "Model Number: 376 with model LastValueNaive in generation 4 of 10\n",
      "Model Number: 377 with model NVAR in generation 4 of 10\n",
      "Model Number: 378 with model NVAR in generation 4 of 10\n",
      "Model Number: 379 with model NVAR in generation 4 of 10\n",
      "Model Number: 380 with model NVAR in generation 4 of 10\n",
      "Model Number: 381 with model Theta in generation 4 of 10\n",
      "Model Number: 382 with model Theta in generation 4 of 10\n",
      "Model Number: 383 with model Theta in generation 4 of 10\n",
      "Model Number: 384 with model Theta in generation 4 of 10\n",
      "Model Number: 385 with model UnivariateMotif in generation 4 of 10\n",
      "Model Number: 386 with model UnivariateMotif in generation 4 of 10\n",
      "Model Number: 387 with model UnivariateMotif in generation 4 of 10\n",
      "Model Number: 388 with model UnivariateMotif in generation 4 of 10\n",
      "Model Number: 389 with model AverageValueNaive in generation 4 of 10\n",
      "Model Number: 390 with model AverageValueNaive in generation 4 of 10\n",
      "Model Number: 391 with model AverageValueNaive in generation 4 of 10\n",
      "Model Number: 392 with model ConstantNaive in generation 4 of 10\n",
      "Model Number: 393 with model ConstantNaive in generation 4 of 10\n",
      "Model Number: 394 with model ConstantNaive in generation 4 of 10\n",
      "Model Number: 395 with model WindowRegression in generation 4 of 10\n",
      "Model Number: 396 with model WindowRegression in generation 4 of 10\n",
      "Model Number: 397 with model WindowRegression in generation 4 of 10\n",
      "Template Eval Error: ModuleNotFoundError(\"No module named 'lightgbm'\") in model 397: WindowRegression\n",
      "Model Number: 398 with model UnobservedComponents in generation 4 of 10\n"
     ]
    },
    {
     "name": "stderr",
     "output_type": "stream",
     "text": [
      "C:\\ProgramData\\Anaconda3\\lib\\site-packages\\sklearn\\svm\\_base.py:985: ConvergenceWarning: Liblinear failed to converge, increase the number of iterations.\n",
      "  warnings.warn(\"Liblinear failed to converge, increase \"\n"
     ]
    },
    {
     "name": "stdout",
     "output_type": "stream",
     "text": [
      "Template Eval Error: LinAlgError('Singular matrix') in model 398: UnobservedComponents\n",
      "Model Number: 399 with model UnobservedComponents in generation 4 of 10\n"
     ]
    },
    {
     "name": "stderr",
     "output_type": "stream",
     "text": [
      "C:\\ProgramData\\Anaconda3\\lib\\site-packages\\numpy\\core\\_methods.py:232: RuntimeWarning: overflow encountered in multiply\n",
      "  x = um.multiply(x, x, out=x)\n",
      "C:\\ProgramData\\Anaconda3\\lib\\site-packages\\numpy\\core\\_methods.py:243: RuntimeWarning: overflow encountered in reduce\n",
      "  ret = umr_sum(x, axis, dtype, out, keepdims=keepdims, where=where)\n"
     ]
    },
    {
     "name": "stdout",
     "output_type": "stream",
     "text": [
      "Model Number: 400 with model UnobservedComponents in generation 4 of 10\n",
      "Model Number: 401 with model GLS in generation 4 of 10\n",
      "Model Number: 402 with model GLS in generation 4 of 10\n",
      "Model Number: 403 with model GLS in generation 4 of 10\n",
      "Model Number: 404 with model SectionalMotif in generation 4 of 10\n",
      "Model Number: 405 with model SectionalMotif in generation 4 of 10\n",
      "Model Number: 406 with model SectionalMotif in generation 4 of 10\n",
      "Model Number: 407 with model SectionalMotif in generation 4 of 10\n",
      "Model Number: 408 with model ETS in generation 4 of 10\n",
      "Model Number: 409 with model ETS in generation 4 of 10\n",
      "Model Number: 410 with model ETS in generation 4 of 10\n",
      "ETS error ValueError('endog must be strictly positive when usingmultiplicative trend or seasonal components.')\n",
      "ETS failed on Close with ValueError('endog must be strictly positive when usingmultiplicative trend or seasonal components.')\n",
      "Model Number: 411 with model ETS in generation 4 of 10\n",
      "Model Number: 412 with model DatepartRegression in generation 4 of 10\n",
      "Model Number: 413 with model DatepartRegression in generation 4 of 10\n",
      "Template Eval Error: ValueError(\"regression_type='User' but no future_regressor passed\") in model 413: DatepartRegression\n",
      "Model Number: 414 with model DatepartRegression in generation 4 of 10\n",
      "Template Eval Error: ValueError(\"regression_type='User' but no future_regressor passed\") in model 414: DatepartRegression\n",
      "Model Number: 415 with model SeasonalNaive in generation 4 of 10\n",
      "Model Number: 416 with model SeasonalNaive in generation 4 of 10\n"
     ]
    },
    {
     "name": "stderr",
     "output_type": "stream",
     "text": [
      "C:\\ProgramData\\Anaconda3\\lib\\site-packages\\sklearn\\svm\\_base.py:985: ConvergenceWarning: Liblinear failed to converge, increase the number of iterations.\n",
      "  warnings.warn(\"Liblinear failed to converge, increase \"\n"
     ]
    },
    {
     "name": "stdout",
     "output_type": "stream",
     "text": [
      "Model Number: 417 with model SeasonalNaive in generation 4 of 10\n",
      "Model Number: 418 with model SeasonalNaive in generation 4 of 10\n",
      "Model Number: 419 with model GLM in generation 4 of 10\n",
      "Model Number: 420 with model GLM in generation 4 of 10\n",
      "Model Number: 421 with model GLM in generation 4 of 10\n",
      "Model Number: 422 with model GLM in generation 4 of 10\n",
      "Model Number: 423 with model MultivariateMotif in generation 4 of 10\n",
      "Model Number: 424 with model MultivariateMotif in generation 4 of 10\n",
      "Model Number: 425 with model MultivariateMotif in generation 4 of 10\n",
      "Model Number: 426 with model MultivariateMotif in generation 4 of 10\n",
      "Model Number: 427 with model VAR in generation 4 of 10\n",
      "Template Eval Error: ValueError('Only gave one variable to VAR') in model 427: VAR\n",
      "Model Number: 428 with model VAR in generation 4 of 10\n",
      "Template Eval Error: ValueError('Only gave one variable to VAR') in model 428: VAR\n",
      "Model Number: 429 with model VAR in generation 4 of 10\n",
      "Template Eval Error: ValueError('Only gave one variable to VAR') in model 429: VAR\n",
      "Model Number: 430 with model VAR in generation 4 of 10\n",
      "Template Eval Error: ValueError('Only gave one variable to VAR') in model 430: VAR\n",
      "Model Number: 431 with model VECM in generation 4 of 10\n",
      "Template Eval Error: ValueError('Only gave one variable to VECM') in model 431: VECM\n",
      "Model Number: 432 with model VECM in generation 4 of 10\n",
      "Template Eval Error: ValueError('Only gave one variable to VECM') in model 432: VECM\n",
      "Model Number: 433 with model VECM in generation 4 of 10\n",
      "Template Eval Error: ValueError('Only gave one variable to VECM') in model 433: VECM\n",
      "Model Number: 434 with model VECM in generation 4 of 10\n",
      "Template Eval Error: ValueError('Only gave one variable to VECM') in model 434: VECM\n",
      "Model Number: 435 with model FBProphet in generation 4 of 10\n",
      "Template Eval Error: ModuleNotFoundError(\"No module named 'fbprophet'\") in model 435: FBProphet\n",
      "Model Number: 436 with model FBProphet in generation 4 of 10\n",
      "Template Eval Error: ModuleNotFoundError(\"No module named 'fbprophet'\") in model 436: FBProphet\n",
      "Model Number: 437 with model FBProphet in generation 4 of 10\n",
      "Template Eval Error: ModuleNotFoundError(\"No module named 'fbprophet'\") in model 437: FBProphet\n",
      "Model Number: 438 with model FBProphet in generation 4 of 10\n",
      "Template Eval Error: ModuleNotFoundError(\"No module named 'fbprophet'\") in model 438: FBProphet\n",
      "Model Number: 439 with model ARDL in generation 4 of 10\n",
      "Template Eval Error: ImportError(\"cannot import name 'ARDL' from 'statsmodels.tsa.api' (C:\\\\ProgramData\\\\Anaconda3\\\\lib\\\\site-packages\\\\statsmodels\\\\tsa\\\\api.py)\") in model 439: ARDL\n",
      "Model Number: 440 with model ARDL in generation 4 of 10\n",
      "Template Eval Error: ImportError(\"cannot import name 'ARDL' from 'statsmodels.tsa.api' (C:\\\\ProgramData\\\\Anaconda3\\\\lib\\\\site-packages\\\\statsmodels\\\\tsa\\\\api.py)\") in model 440: ARDL\n",
      "Model Number: 441 with model ARDL in generation 4 of 10\n",
      "Template Eval Error: ImportError(\"cannot import name 'ARDL' from 'statsmodels.tsa.api' (C:\\\\ProgramData\\\\Anaconda3\\\\lib\\\\site-packages\\\\statsmodels\\\\tsa\\\\api.py)\") in model 441: ARDL\n",
      "Model Number: 442 with model ARDL in generation 4 of 10\n",
      "Template Eval Error: ImportError(\"cannot import name 'ARDL' from 'statsmodels.tsa.api' (C:\\\\ProgramData\\\\Anaconda3\\\\lib\\\\site-packages\\\\statsmodels\\\\tsa\\\\api.py)\") in model 442: ARDL\n",
      "New Generation: 5 of 10\n",
      "Model Number: 443 with model MultivariateRegression in generation 5 of 10\n",
      "Template Eval Error: ValueError('Loss squared_error is not supported for HistGradientBoostingRegressor. Accepted losses: least_squares, least_absolute_deviation, poisson.') in model 443: MultivariateRegression\n",
      "Model Number: 444 with model MultivariateRegression in generation 5 of 10\n",
      "Model Number: 445 with model MultivariateRegression in generation 5 of 10\n",
      "Template Eval Error: ModuleNotFoundError(\"No module named 'xgboost'\") in model 445: MultivariateRegression\n",
      "Model Number: 446 with model MultivariateRegression in generation 5 of 10\n",
      "Template Eval Error: ValueError('Loss squared_error is not supported for HistGradientBoostingRegressor. Accepted losses: least_squares, least_absolute_deviation, poisson.') in model 446: MultivariateRegression\n",
      "Model Number: 447 with model LastValueNaive in generation 5 of 10\n",
      "Model Number: 448 with model LastValueNaive in generation 5 of 10\n",
      "Model Number: 449 with model LastValueNaive in generation 5 of 10\n",
      "Model Number: 450 with model NVAR in generation 5 of 10\n",
      "Model Number: 451 with model NVAR in generation 5 of 10\n",
      "Model Number: 452 with model NVAR in generation 5 of 10\n",
      "Model Number: 453 with model NVAR in generation 5 of 10\n",
      "Model Number: 454 with model Theta in generation 5 of 10\n",
      "Model Number: 455 with model Theta in generation 5 of 10\n",
      "Model Number: 456 with model Theta in generation 5 of 10\n",
      "Model Number: 457 with model Theta in generation 5 of 10\n",
      "Model Number: 458 with model UnivariateMotif in generation 5 of 10\n",
      "Model Number: 459 with model UnivariateMotif in generation 5 of 10\n",
      "Model Number: 460 with model UnivariateMotif in generation 5 of 10\n",
      "Model Number: 461 with model UnivariateMotif in generation 5 of 10\n",
      "Template Eval Error: ValueError('Model UnivariateMotif returned NaN for one or more series. fail_on_forecast_nan=True') in model 461: UnivariateMotif\n",
      "Model Number: 462 with model AverageValueNaive in generation 5 of 10\n",
      "Model Number: 463 with model AverageValueNaive in generation 5 of 10\n",
      "Model Number: 464 with model AverageValueNaive in generation 5 of 10\n",
      "Model Number: 465 with model ConstantNaive in generation 5 of 10\n",
      "Model Number: 466 with model ConstantNaive in generation 5 of 10\n",
      "Model Number: 467 with model ConstantNaive in generation 5 of 10\n"
     ]
    },
    {
     "name": "stderr",
     "output_type": "stream",
     "text": [
      "C:\\ProgramData\\Anaconda3\\lib\\site-packages\\numpy\\lib\\function_base.py:412: RuntimeWarning: invalid value encountered in true_divide\n",
      "  avg = np.multiply(a, wgt, dtype=result_dtype).sum(axis)/scl\n"
     ]
    },
    {
     "name": "stdout",
     "output_type": "stream",
     "text": [
      "Model Number: 468 with model MultivariateMotif in generation 5 of 10\n",
      "Model Number: 469 with model MultivariateMotif in generation 5 of 10\n",
      "Model Number: 470 with model MultivariateMotif in generation 5 of 10\n",
      "Template Eval Error: ValueError('kth(=100) out of bounds (34)') in model 470: MultivariateMotif\n",
      "Model Number: 471 with model MultivariateMotif in generation 5 of 10\n",
      "Model Number: 472 with model WindowRegression in generation 5 of 10\n",
      "Template Eval Error: ValueError(\"regression_type='User' but no future_regressor passed\") in model 472: WindowRegression\n",
      "Model Number: 473 with model WindowRegression in generation 5 of 10\n",
      "Model Number: 474 with model WindowRegression in generation 5 of 10\n",
      "Model Number: 475 with model UnobservedComponents in generation 5 of 10\n"
     ]
    },
    {
     "name": "stderr",
     "output_type": "stream",
     "text": [
      "C:\\ProgramData\\Anaconda3\\lib\\site-packages\\sklearn\\svm\\_base.py:985: ConvergenceWarning: Liblinear failed to converge, increase the number of iterations.\n",
      "  warnings.warn(\"Liblinear failed to converge, increase \"\n",
      "C:\\ProgramData\\Anaconda3\\lib\\site-packages\\scipy\\interpolate\\polyint.py:545: RuntimeWarning: overflow encountered in multiply\n",
      "  self.wi[:j] *= (self.xi[j]-self.xi[:j])\n",
      "C:\\ProgramData\\Anaconda3\\lib\\site-packages\\scipy\\interpolate\\polyint.py:546: RuntimeWarning: overflow encountered in reduce\n",
      "  self.wi[j] = np.multiply.reduce(self.xi[:j]-self.xi[j])\n",
      "C:\\ProgramData\\Anaconda3\\lib\\site-packages\\scipy\\interpolate\\polyint.py:643: RuntimeWarning: invalid value encountered in true_divide\n",
      "  p = np.dot(c,self.yi)/np.sum(c,axis=-1)[...,np.newaxis]\n"
     ]
    },
    {
     "name": "stdout",
     "output_type": "stream",
     "text": [
      "Model Number: 476 with model UnobservedComponents in generation 5 of 10\n",
      "Model Number: 477 with model UnobservedComponents in generation 5 of 10\n",
      "Model Number: 478 with model GLS in generation 5 of 10\n",
      "Model Number: 479 with model GLS in generation 5 of 10\n",
      "Model Number: 480 with model SectionalMotif in generation 5 of 10\n",
      "Model Number: 481 with model SectionalMotif in generation 5 of 10\n",
      "Model Number: 482 with model SectionalMotif in generation 5 of 10\n",
      "Model Number: 483 with model SectionalMotif in generation 5 of 10\n",
      "Model Number: 484 with model ETS in generation 5 of 10\n",
      "Model Number: 485 with model ETS in generation 5 of 10\n",
      "Model Number: 486 with model ETS in generation 5 of 10\n",
      "Model Number: 487 with model ETS in generation 5 of 10\n",
      "Template Eval Error: Exception('Transformer DatepartRegression failed on inverse') in model 487: ETS\n",
      "Model Number: 488 with model DatepartRegression in generation 5 of 10\n",
      "Model Number: 489 with model DatepartRegression in generation 5 of 10\n",
      "Template Eval Error: ImportError('Tensorflow not available, install with pip install tensorflow.') in model 489: DatepartRegression\n",
      "Model Number: 490 with model DatepartRegression in generation 5 of 10\n",
      "Template Eval Error: ValueError(\"regression_type='User' but no future_regressor passed\") in model 490: DatepartRegression\n",
      "Model Number: 491 with model SeasonalNaive in generation 5 of 10\n",
      "Model Number: 492 with model SeasonalNaive in generation 5 of 10\n",
      "Model Number: 493 with model SeasonalNaive in generation 5 of 10\n",
      "Model Number: 494 with model SeasonalNaive in generation 5 of 10\n",
      "Model Number: 495 with model GLM in generation 5 of 10\n",
      "Template Eval Error: TypeError(\"ufunc 'isfinite' not supported for the input types, and the inputs could not be safely coerced to any supported types according to the casting rule ''safe''\") in model 495: GLM\n",
      "Model Number: 496 with model GLM in generation 5 of 10\n",
      "Model Number: 497 with model GLM in generation 5 of 10\n",
      "Model Number: 498 with model GLM in generation 5 of 10\n",
      "Template Eval Error: TypeError(\"ufunc 'isfinite' not supported for the input types, and the inputs could not be safely coerced to any supported types according to the casting rule ''safe''\") in model 498: GLM\n",
      "Model Number: 499 with model VAR in generation 5 of 10\n",
      "Template Eval Error: ValueError('Only gave one variable to VAR') in model 499: VAR\n",
      "Model Number: 500 with model VAR in generation 5 of 10\n",
      "Template Eval Error: ValueError('Only gave one variable to VAR') in model 500: VAR\n",
      "Model Number: 501 with model VAR in generation 5 of 10\n",
      "Template Eval Error: ValueError('Only gave one variable to VAR') in model 501: VAR\n",
      "Model Number: 502 with model VECM in generation 5 of 10\n",
      "Template Eval Error: ValueError('Only gave one variable to VECM') in model 502: VECM\n",
      "Model Number: 503 with model VECM in generation 5 of 10\n",
      "Template Eval Error: ValueError('Only gave one variable to VECM') in model 503: VECM\n",
      "Model Number: 504 with model VECM in generation 5 of 10\n",
      "Template Eval Error: ValueError('Only gave one variable to VECM') in model 504: VECM\n",
      "Model Number: 505 with model VECM in generation 5 of 10\n",
      "Template Eval Error: ValueError('Only gave one variable to VECM') in model 505: VECM\n",
      "Model Number: 506 with model FBProphet in generation 5 of 10\n",
      "Template Eval Error: ModuleNotFoundError(\"No module named 'fbprophet'\") in model 506: FBProphet\n",
      "Model Number: 507 with model FBProphet in generation 5 of 10\n",
      "Template Eval Error: ModuleNotFoundError(\"No module named 'fbprophet'\") in model 507: FBProphet\n",
      "Model Number: 508 with model FBProphet in generation 5 of 10\n",
      "Template Eval Error: ModuleNotFoundError(\"No module named 'fbprophet'\") in model 508: FBProphet\n",
      "Model Number: 509 with model FBProphet in generation 5 of 10\n",
      "Template Eval Error: ModuleNotFoundError(\"No module named 'fbprophet'\") in model 509: FBProphet\n",
      "Model Number: 510 with model ARDL in generation 5 of 10\n",
      "Template Eval Error: ImportError(\"cannot import name 'ARDL' from 'statsmodels.tsa.api' (C:\\\\ProgramData\\\\Anaconda3\\\\lib\\\\site-packages\\\\statsmodels\\\\tsa\\\\api.py)\") in model 510: ARDL\n",
      "Model Number: 511 with model ARDL in generation 5 of 10\n",
      "Template Eval Error: ImportError(\"cannot import name 'ARDL' from 'statsmodels.tsa.api' (C:\\\\ProgramData\\\\Anaconda3\\\\lib\\\\site-packages\\\\statsmodels\\\\tsa\\\\api.py)\") in model 511: ARDL\n",
      "Model Number: 512 with model ARDL in generation 5 of 10\n",
      "Template Eval Error: ValueError(\"regression_type='User' but future_regressor not supplied\") in model 512: ARDL\n",
      "Model Number: 513 with model ARDL in generation 5 of 10\n",
      "Template Eval Error: ImportError(\"cannot import name 'ARDL' from 'statsmodels.tsa.api' (C:\\\\ProgramData\\\\Anaconda3\\\\lib\\\\site-packages\\\\statsmodels\\\\tsa\\\\api.py)\") in model 513: ARDL\n",
      "New Generation: 6 of 10\n",
      "Model Number: 514 with model SectionalMotif in generation 6 of 10\n",
      "Model Number: 515 with model SectionalMotif in generation 6 of 10\n",
      "Model Number: 516 with model SectionalMotif in generation 6 of 10\n",
      "Model Number: 517 with model SectionalMotif in generation 6 of 10\n",
      "Model Number: 518 with model LastValueNaive in generation 6 of 10\n",
      "Model Number: 519 with model LastValueNaive in generation 6 of 10\n",
      "Model Number: 520 with model LastValueNaive in generation 6 of 10\n",
      "Model Number: 521 with model MultivariateRegression in generation 6 of 10\n",
      "Model Number: 522 with model MultivariateRegression in generation 6 of 10\n",
      "Template Eval Error: ValueError('Loss squared_error is not supported for HistGradientBoostingRegressor. Accepted losses: least_squares, least_absolute_deviation, poisson.') in model 522: MultivariateRegression\n",
      "Model Number: 523 with model MultivariateRegression in generation 6 of 10\n",
      "Template Eval Error: ValueError('Loss squared_error is not supported for HistGradientBoostingRegressor. Accepted losses: least_squares, least_absolute_deviation, poisson.') in model 523: MultivariateRegression\n",
      "Model Number: 524 with model MultivariateRegression in generation 6 of 10\n",
      "Template Eval Error: ValueError(\"regression_type='User' but not future_regressor supplied.\") in model 524: MultivariateRegression\n",
      "Model Number: 525 with model NVAR in generation 6 of 10\n",
      "Model Number: 526 with model NVAR in generation 6 of 10\n",
      "Model Number: 527 with model NVAR in generation 6 of 10\n",
      "Model Number: 528 with model NVAR in generation 6 of 10\n",
      "Model Number: 529 with model Theta in generation 6 of 10\n",
      "Model Number: 530 with model Theta in generation 6 of 10\n",
      "Model Number: 531 with model Theta in generation 6 of 10\n",
      "Model Number: 532 with model Theta in generation 6 of 10\n",
      "Model Number: 533 with model UnivariateMotif in generation 6 of 10\n",
      "Model Number: 534 with model UnivariateMotif in generation 6 of 10\n",
      "Model Number: 535 with model UnivariateMotif in generation 6 of 10\n",
      "Model Number: 536 with model UnivariateMotif in generation 6 of 10\n",
      "Model Number: 537 with model AverageValueNaive in generation 6 of 10\n",
      "Model Number: 538 with model AverageValueNaive in generation 6 of 10\n",
      "Model Number: 539 with model AverageValueNaive in generation 6 of 10\n",
      "Model Number: 540 with model ConstantNaive in generation 6 of 10\n",
      "Model Number: 541 with model ConstantNaive in generation 6 of 10\n",
      "Model Number: 542 with model ConstantNaive in generation 6 of 10\n",
      "Model Number: 543 with model MultivariateMotif in generation 6 of 10\n",
      "Model Number: 544 with model MultivariateMotif in generation 6 of 10\n",
      "Model Number: 545 with model MultivariateMotif in generation 6 of 10\n",
      "Model Number: 546 with model MultivariateMotif in generation 6 of 10\n",
      "Model Number: 547 with model WindowRegression in generation 6 of 10\n",
      "Template Eval Error: ModuleNotFoundError(\"No module named 'lightgbm'\") in model 547: WindowRegression\n",
      "Model Number: 548 with model WindowRegression in generation 6 of 10\n",
      "Template Eval Error: ValueError(\"regression_type='User' but no future_regressor passed\") in model 548: WindowRegression\n",
      "Model Number: 549 with model WindowRegression in generation 6 of 10\n",
      "Model Number: 550 with model UnobservedComponents in generation 6 of 10\n",
      "Model Number: 551 with model UnobservedComponents in generation 6 of 10\n",
      "Model Number: 552 with model UnobservedComponents in generation 6 of 10\n",
      "Template Eval Error: LinAlgError('Singular matrix') in model 552: UnobservedComponents\n",
      "Model Number: 553 with model GLS in generation 6 of 10\n"
     ]
    },
    {
     "name": "stdout",
     "output_type": "stream",
     "text": [
      "Model Number: 554 with model GLS in generation 6 of 10\n",
      "Model Number: 555 with model GLS in generation 6 of 10\n",
      "Model Number: 556 with model ETS in generation 6 of 10\n",
      "Model Number: 557 with model ETS in generation 6 of 10\n",
      "Model Number: 558 with model ETS in generation 6 of 10\n",
      "Model Number: 559 with model ETS in generation 6 of 10\n",
      "Model Number: 560 with model DatepartRegression in generation 6 of 10\n",
      "Template Eval Error: ValueError(\"regression_type='User' but no future_regressor passed\") in model 560: DatepartRegression\n",
      "Model Number: 561 with model DatepartRegression in generation 6 of 10\n",
      "Model Number: 562 with model DatepartRegression in generation 6 of 10\n",
      "Template Eval Error: ImportError('Tensorflow not available, install with pip install tensorflow.') in model 562: DatepartRegression\n",
      "Model Number: 563 with model SeasonalNaive in generation 6 of 10\n",
      "Model Number: 564 with model SeasonalNaive in generation 6 of 10\n",
      "Model Number: 565 with model SeasonalNaive in generation 6 of 10\n",
      "Model Number: 566 with model SeasonalNaive in generation 6 of 10\n",
      "Model Number: 567 with model GLM in generation 6 of 10\n",
      "Template Eval Error: TypeError(\"ufunc 'isfinite' not supported for the input types, and the inputs could not be safely coerced to any supported types according to the casting rule ''safe''\") in model 567: GLM\n",
      "Model Number: 568 with model GLM in generation 6 of 10\n",
      "Model Number: 569 with model GLM in generation 6 of 10\n",
      "Model Number: 570 with model GLM in generation 6 of 10\n",
      "Template Eval Error: TypeError(\"ufunc 'isfinite' not supported for the input types, and the inputs could not be safely coerced to any supported types according to the casting rule ''safe''\") in model 570: GLM\n",
      "Model Number: 571 with model VAR in generation 6 of 10\n",
      "Template Eval Error: ValueError('Only gave one variable to VAR') in model 571: VAR\n",
      "Model Number: 572 with model VAR in generation 6 of 10\n",
      "Template Eval Error: ValueError('Only gave one variable to VAR') in model 572: VAR\n",
      "Model Number: 573 with model VAR in generation 6 of 10\n",
      "Template Eval Error: ValueError('Only gave one variable to VAR') in model 573: VAR\n",
      "Model Number: 574 with model VAR in generation 6 of 10\n",
      "Template Eval Error: ValueError('Only gave one variable to VAR') in model 574: VAR\n",
      "Model Number: 575 with model VECM in generation 6 of 10\n",
      "Template Eval Error: ValueError('Only gave one variable to VECM') in model 575: VECM\n",
      "Model Number: 576 with model VECM in generation 6 of 10\n",
      "Template Eval Error: ValueError('Only gave one variable to VECM') in model 576: VECM\n",
      "Model Number: 577 with model VECM in generation 6 of 10\n",
      "Template Eval Error: ValueError('Only gave one variable to VECM') in model 577: VECM\n",
      "Model Number: 578 with model VECM in generation 6 of 10\n",
      "Template Eval Error: ValueError('Only gave one variable to VECM') in model 578: VECM\n",
      "Model Number: 579 with model FBProphet in generation 6 of 10\n",
      "Template Eval Error: ModuleNotFoundError(\"No module named 'fbprophet'\") in model 579: FBProphet\n",
      "Model Number: 580 with model FBProphet in generation 6 of 10\n",
      "Template Eval Error: ModuleNotFoundError(\"No module named 'fbprophet'\") in model 580: FBProphet\n",
      "Model Number: 581 with model FBProphet in generation 6 of 10\n",
      "Template Eval Error: ModuleNotFoundError(\"No module named 'fbprophet'\") in model 581: FBProphet\n",
      "Model Number: 582 with model FBProphet in generation 6 of 10\n",
      "Template Eval Error: ModuleNotFoundError(\"No module named 'fbprophet'\") in model 582: FBProphet\n",
      "Model Number: 583 with model ARDL in generation 6 of 10\n",
      "Template Eval Error: ValueError(\"regression_type='User' but future_regressor not supplied\") in model 583: ARDL\n",
      "Model Number: 584 with model ARDL in generation 6 of 10\n",
      "Template Eval Error: ImportError(\"cannot import name 'ARDL' from 'statsmodels.tsa.api' (C:\\\\ProgramData\\\\Anaconda3\\\\lib\\\\site-packages\\\\statsmodels\\\\tsa\\\\api.py)\") in model 584: ARDL\n",
      "Model Number: 585 with model ARDL in generation 6 of 10\n",
      "Template Eval Error: ImportError(\"cannot import name 'ARDL' from 'statsmodels.tsa.api' (C:\\\\ProgramData\\\\Anaconda3\\\\lib\\\\site-packages\\\\statsmodels\\\\tsa\\\\api.py)\") in model 585: ARDL\n",
      "Model Number: 586 with model ARDL in generation 6 of 10\n",
      "Template Eval Error: ValueError(\"regression_type='User' but future_regressor not supplied\") in model 586: ARDL\n",
      "New Generation: 7 of 10\n",
      "Model Number: 587 with model SectionalMotif in generation 7 of 10\n",
      "Model Number: 588 with model SectionalMotif in generation 7 of 10\n",
      "Template Eval Error: ValueError(\"regression_type=='User' but no future_regressor supplied\") in model 588: SectionalMotif\n",
      "Model Number: 589 with model SectionalMotif in generation 7 of 10\n",
      "Model Number: 590 with model SectionalMotif in generation 7 of 10\n",
      "Model Number: 591 with model Theta in generation 7 of 10\n",
      "Model Number: 592 with model Theta in generation 7 of 10\n",
      "Model Number: 593 with model Theta in generation 7 of 10\n",
      "Model Number: 594 with model Theta in generation 7 of 10\n",
      "Model Number: 595 with model LastValueNaive in generation 7 of 10\n",
      "Model Number: 596 with model LastValueNaive in generation 7 of 10\n",
      "Model Number: 597 with model LastValueNaive in generation 7 of 10\n",
      "Model Number: 598 with model MultivariateRegression in generation 7 of 10\n",
      "Template Eval Error: ValueError(\"regression_type='User' but not future_regressor supplied.\") in model 598: MultivariateRegression\n",
      "Model Number: 599 with model MultivariateRegression in generation 7 of 10\n",
      "Template Eval Error: ValueError(\"regression_type='User' but not future_regressor supplied.\") in model 599: MultivariateRegression\n",
      "Model Number: 600 with model MultivariateRegression in generation 7 of 10\n",
      "Model Number: 601 with model MultivariateRegression in generation 7 of 10\n",
      "Model Number: 602 with model NVAR in generation 7 of 10\n",
      "Model Number: 603 with model NVAR in generation 7 of 10\n",
      "Model Number: 604 with model NVAR in generation 7 of 10\n",
      "Model Number: 605 with model NVAR in generation 7 of 10\n",
      "Model Number: 606 with model AverageValueNaive in generation 7 of 10\n",
      "Model Number: 607 with model AverageValueNaive in generation 7 of 10\n",
      "Model Number: 608 with model AverageValueNaive in generation 7 of 10\n",
      "Model Number: 609 with model DatepartRegression in generation 7 of 10\n",
      "Template Eval Error: ValueError(\"regression_type='User' but no future_regressor passed\") in model 609: DatepartRegression\n",
      "Model Number: 610 with model DatepartRegression in generation 7 of 10\n",
      "Template Eval Error: ValueError(\"regression_type='User' but no future_regressor passed\") in model 610: DatepartRegression\n",
      "Model Number: 611 with model DatepartRegression in generation 7 of 10\n",
      "Template Eval Error: ValueError(\"regression_type='User' but no future_regressor passed\") in model 611: DatepartRegression\n",
      "Model Number: 612 with model UnivariateMotif in generation 7 of 10\n",
      "Model Number: 613 with model UnivariateMotif in generation 7 of 10\n",
      "Model Number: 614 with model UnivariateMotif in generation 7 of 10\n",
      "Model Number: 615 with model UnivariateMotif in generation 7 of 10\n",
      "Model Number: 616 with model ConstantNaive in generation 7 of 10\n",
      "Model Number: 617 with model ConstantNaive in generation 7 of 10\n",
      "Model Number: 618 with model ConstantNaive in generation 7 of 10\n",
      "Model Number: 619 with model MultivariateMotif in generation 7 of 10\n",
      "Model Number: 620 with model MultivariateMotif in generation 7 of 10\n",
      "Model Number: 621 with model MultivariateMotif in generation 7 of 10\n",
      "Model Number: 622 with model UnobservedComponents in generation 7 of 10\n",
      "Model Number: 623 with model UnobservedComponents in generation 7 of 10\n",
      "Model Number: 624 with model UnobservedComponents in generation 7 of 10\n",
      "Model Number: 625 with model WindowRegression in generation 7 of 10\n",
      "Model Number: 626 with model WindowRegression in generation 7 of 10\n",
      "Model Number: 627 with model WindowRegression in generation 7 of 10\n",
      "Model Number: 628 with model ETS in generation 7 of 10\n",
      "Model Number: 629 with model ETS in generation 7 of 10\n",
      "Model Number: 630 with model ETS in generation 7 of 10\n",
      "Model Number: 631 with model ETS in generation 7 of 10\n",
      "Model Number: 632 with model GLS in generation 7 of 10\n",
      "Model Number: 633 with model GLS in generation 7 of 10\n",
      "Model Number: 634 with model GLS in generation 7 of 10\n",
      "Model Number: 635 with model SeasonalNaive in generation 7 of 10\n",
      "Model Number: 636 with model SeasonalNaive in generation 7 of 10\n"
     ]
    },
    {
     "name": "stdout",
     "output_type": "stream",
     "text": [
      "Model Number: 637 with model SeasonalNaive in generation 7 of 10\n",
      "Model Number: 638 with model SeasonalNaive in generation 7 of 10\n",
      "Model Number: 639 with model GLM in generation 7 of 10\n",
      "Model Number: 640 with model GLM in generation 7 of 10\n",
      "Model Number: 641 with model GLM in generation 7 of 10\n",
      "Template Eval Error: TypeError(\"ufunc 'isfinite' not supported for the input types, and the inputs could not be safely coerced to any supported types according to the casting rule ''safe''\") in model 641: GLM\n",
      "Model Number: 642 with model GLM in generation 7 of 10\n"
     ]
    },
    {
     "name": "stderr",
     "output_type": "stream",
     "text": [
      "C:\\ProgramData\\Anaconda3\\lib\\site-packages\\statsmodels\\genmod\\families\\family.py:1227: RuntimeWarning: divide by zero encountered in true_divide\n",
      "  endog_mu = self._clean(endog / mu)\n",
      "C:\\ProgramData\\Anaconda3\\lib\\site-packages\\statsmodels\\genmod\\generalized_linear_model.py:293: DomainWarning: The inverse_power link function does not respect the domain of the Gamma family.\n",
      "  warnings.warn((f\"The {type(family.link).__name__} link function \"\n"
     ]
    },
    {
     "name": "stdout",
     "output_type": "stream",
     "text": [
      "Model Number: 643 with model VAR in generation 7 of 10\n",
      "Template Eval Error: ValueError('Only gave one variable to VAR') in model 643: VAR\n",
      "Model Number: 644 with model VAR in generation 7 of 10\n",
      "Template Eval Error: ValueError('Only gave one variable to VAR') in model 644: VAR\n",
      "Model Number: 645 with model VAR in generation 7 of 10\n",
      "Template Eval Error: ValueError('Only gave one variable to VAR') in model 645: VAR\n",
      "Model Number: 646 with model VAR in generation 7 of 10\n",
      "Template Eval Error: ValueError('Only gave one variable to VAR') in model 646: VAR\n",
      "Model Number: 647 with model VECM in generation 7 of 10\n",
      "Template Eval Error: ValueError('Only gave one variable to VECM') in model 647: VECM\n",
      "Model Number: 648 with model VECM in generation 7 of 10\n",
      "Template Eval Error: ValueError('Only gave one variable to VECM') in model 648: VECM\n",
      "Model Number: 649 with model VECM in generation 7 of 10\n",
      "Template Eval Error: ValueError('Only gave one variable to VECM') in model 649: VECM\n",
      "Model Number: 650 with model VECM in generation 7 of 10\n",
      "Template Eval Error: ValueError('Only gave one variable to VECM') in model 650: VECM\n",
      "Model Number: 651 with model FBProphet in generation 7 of 10\n",
      "Template Eval Error: Exception('Transformer MaxAbsScaler failed on fit') in model 651: FBProphet\n",
      "Model Number: 652 with model FBProphet in generation 7 of 10\n",
      "Template Eval Error: Exception('Transformer MaxAbsScaler failed on fit') in model 652: FBProphet\n",
      "Model Number: 653 with model FBProphet in generation 7 of 10\n",
      "Template Eval Error: ModuleNotFoundError(\"No module named 'fbprophet'\") in model 653: FBProphet\n",
      "Model Number: 654 with model FBProphet in generation 7 of 10\n",
      "Template Eval Error: ModuleNotFoundError(\"No module named 'fbprophet'\") in model 654: FBProphet\n",
      "Model Number: 655 with model ARDL in generation 7 of 10\n",
      "Template Eval Error: ValueError(\"regression_type='User' but future_regressor not supplied\") in model 655: ARDL\n",
      "Model Number: 656 with model ARDL in generation 7 of 10\n",
      "Template Eval Error: ValueError(\"regression_type='User' but future_regressor not supplied\") in model 656: ARDL\n",
      "Model Number: 657 with model ARDL in generation 7 of 10\n",
      "Template Eval Error: ValueError(\"regression_type='User' but future_regressor not supplied\") in model 657: ARDL\n",
      "Model Number: 658 with model ARDL in generation 7 of 10\n"
     ]
    },
    {
     "name": "stderr",
     "output_type": "stream",
     "text": [
      "C:\\ProgramData\\Anaconda3\\lib\\site-packages\\sklearn\\preprocessing\\_data.py:1078: RuntimeWarning: All-NaN slice encountered\n",
      "  max_abs = np.nanmax(np.abs(X), axis=0)\n",
      "C:\\ProgramData\\Anaconda3\\lib\\site-packages\\sklearn\\preprocessing\\_data.py:1078: RuntimeWarning: All-NaN slice encountered\n",
      "  max_abs = np.nanmax(np.abs(X), axis=0)\n"
     ]
    },
    {
     "name": "stdout",
     "output_type": "stream",
     "text": [
      "Template Eval Error: ImportError(\"cannot import name 'ARDL' from 'statsmodels.tsa.api' (C:\\\\ProgramData\\\\Anaconda3\\\\lib\\\\site-packages\\\\statsmodels\\\\tsa\\\\api.py)\") in model 658: ARDL\n",
      "New Generation: 8 of 10\n",
      "Model Number: 659 with model SectionalMotif in generation 8 of 10\n",
      "Model Number: 660 with model SectionalMotif in generation 8 of 10\n",
      "Model Number: 661 with model SectionalMotif in generation 8 of 10\n",
      "Model Number: 662 with model SectionalMotif in generation 8 of 10\n",
      "Model Number: 663 with model LastValueNaive in generation 8 of 10\n",
      "Model Number: 664 with model LastValueNaive in generation 8 of 10\n",
      "Model Number: 665 with model Theta in generation 8 of 10\n",
      "Model Number: 666 with model Theta in generation 8 of 10\n",
      "Model Number: 667 with model Theta in generation 8 of 10\n",
      "Model Number: 668 with model Theta in generation 8 of 10\n",
      "Model Number: 669 with model MultivariateRegression in generation 8 of 10\n"
     ]
    },
    {
     "name": "stderr",
     "output_type": "stream",
     "text": [
      "C:\\ProgramData\\Anaconda3\\lib\\site-packages\\sklearn\\neural_network\\_multilayer_perceptron.py:500: ConvergenceWarning: lbfgs failed to converge (status=1):\n",
      "STOP: TOTAL NO. of ITERATIONS REACHED LIMIT.\n",
      "\n",
      "Increase the number of iterations (max_iter) or scale the data as shown in:\n",
      "    https://scikit-learn.org/stable/modules/preprocessing.html\n",
      "  self.n_iter_ = _check_optimize_result(\"lbfgs\", opt_res, self.max_iter)\n"
     ]
    },
    {
     "name": "stdout",
     "output_type": "stream",
     "text": [
      "Model Number: 670 with model MultivariateRegression in generation 8 of 10\n",
      "Model Number: 671 with model MultivariateRegression in generation 8 of 10\n",
      "Model Number: 672 with model MultivariateRegression in generation 8 of 10\n",
      "Model Number: 673 with model NVAR in generation 8 of 10\n",
      "Model Number: 674 with model NVAR in generation 8 of 10\n",
      "Model Number: 675 with model NVAR in generation 8 of 10\n",
      "Model Number: 676 with model NVAR in generation 8 of 10\n",
      "Model Number: 677 with model AverageValueNaive in generation 8 of 10\n",
      "Model Number: 678 with model AverageValueNaive in generation 8 of 10\n",
      "Model Number: 679 with model AverageValueNaive in generation 8 of 10\n",
      "Model Number: 680 with model DatepartRegression in generation 8 of 10\n",
      "Model Number: 681 with model DatepartRegression in generation 8 of 10\n",
      "Model Number: 682 with model DatepartRegression in generation 8 of 10\n",
      "Model Number: 683 with model UnivariateMotif in generation 8 of 10\n",
      "Model Number: 684 with model UnivariateMotif in generation 8 of 10\n",
      "Model Number: 685 with model UnivariateMotif in generation 8 of 10\n",
      "Model Number: 686 with model UnivariateMotif in generation 8 of 10\n",
      "Model Number: 687 with model ConstantNaive in generation 8 of 10\n",
      "Model Number: 688 with model ConstantNaive in generation 8 of 10\n",
      "Model Number: 689 with model MultivariateMotif in generation 8 of 10\n",
      "Model Number: 690 with model MultivariateMotif in generation 8 of 10\n",
      "Model Number: 691 with model MultivariateMotif in generation 8 of 10\n",
      "Model Number: 692 with model MultivariateMotif in generation 8 of 10\n",
      "Template Eval Error: ValueError('Model MultivariateMotif returned NaN for one or more series. fail_on_forecast_nan=True') in model 692: MultivariateMotif\n",
      "Model Number: 693 with model UnobservedComponents in generation 8 of 10\n",
      "Template Eval Error: ValueError(\"regression_type='User' but no future_regressor supplied\") in model 693: UnobservedComponents\n",
      "Model Number: 694 with model UnobservedComponents in generation 8 of 10\n"
     ]
    },
    {
     "name": "stderr",
     "output_type": "stream",
     "text": [
      "C:\\ProgramData\\Anaconda3\\lib\\site-packages\\numpy\\core\\_methods.py:47: RuntimeWarning: invalid value encountered in reduce\n",
      "  return umr_sum(a, axis, dtype, out, keepdims, initial, where)\n"
     ]
    },
    {
     "name": "stdout",
     "output_type": "stream",
     "text": [
      "Model Number: 695 with model UnobservedComponents in generation 8 of 10\n",
      "Model Number: 696 with model GLM in generation 8 of 10\n",
      "Template Eval Error: ValueError('regression_type=user and no future_regressor passed') in model 696: GLM\n",
      "Model Number: 697 with model GLM in generation 8 of 10\n",
      "Template Eval Error: ValueError('The first guess on the deviance function returned a nan.  This could be a boundary  problem and should be reported.') in model 697: GLM\n",
      "Model Number: 698 with model GLM in generation 8 of 10\n",
      "Model Number: 699 with model GLM in generation 8 of 10\n",
      "Template Eval Error: ValueError('regression_type=user and no future_regressor passed') in model 699: GLM\n",
      "Model Number: 700 with model WindowRegression in generation 8 of 10\n"
     ]
    },
    {
     "name": "stderr",
     "output_type": "stream",
     "text": [
      "C:\\ProgramData\\Anaconda3\\lib\\site-packages\\statsmodels\\genmod\\families\\family.py:1231: RuntimeWarning: invalid value encountered in log\n",
      "  resid_dev -= endog_alpha * np.log(endog_alpha / mu_alpha)\n"
     ]
    },
    {
     "name": "stdout",
     "output_type": "stream",
     "text": [
      "Model Number: 701 with model WindowRegression in generation 8 of 10\n",
      "Template Eval Error: ValueError(\"regression_type='User' but no future_regressor passed\") in model 701: WindowRegression\n",
      "Model Number: 702 with model WindowRegression in generation 8 of 10\n",
      "Template Eval Error: ModuleNotFoundError(\"No module named 'lightgbm'\") in model 702: WindowRegression\n",
      "Model Number: 703 with model ETS in generation 8 of 10\n",
      "ETS error ValueError('endog must be strictly positive when usingmultiplicative trend or seasonal components.')\n",
      "ETS failed on Close with ValueError('endog must be strictly positive when usingmultiplicative trend or seasonal components.')\n",
      "Model Number: 704 with model ETS in generation 8 of 10\n",
      "Model Number: 705 with model ETS in generation 8 of 10\n",
      "Model Number: 706 with model ETS in generation 8 of 10\n",
      "ETS error ValueError('endog must be strictly positive when usingmultiplicative trend or seasonal components.')\n",
      "ETS failed on Close with ValueError('endog must be strictly positive when usingmultiplicative trend or seasonal components.')\n",
      "Model Number: 707 with model GLS in generation 8 of 10\n",
      "Model Number: 708 with model GLS in generation 8 of 10\n",
      "Model Number: 709 with model GLS in generation 8 of 10\n",
      "Model Number: 710 with model SeasonalNaive in generation 8 of 10\n",
      "Model Number: 711 with model SeasonalNaive in generation 8 of 10\n",
      "Model Number: 712 with model SeasonalNaive in generation 8 of 10\n",
      "Model Number: 713 with model SeasonalNaive in generation 8 of 10\n",
      "Model Number: 714 with model VAR in generation 8 of 10\n",
      "Template Eval Error: ValueError('Only gave one variable to VAR') in model 714: VAR\n",
      "Model Number: 715 with model VAR in generation 8 of 10\n",
      "Template Eval Error: IndexError('tuple index out of range') in model 715: VAR\n",
      "Model Number: 716 with model VAR in generation 8 of 10\n",
      "Template Eval Error: IndexError('tuple index out of range') in model 716: VAR\n",
      "Model Number: 717 with model VAR in generation 8 of 10\n",
      "Template Eval Error: ValueError('Only gave one variable to VAR') in model 717: VAR\n",
      "Model Number: 718 with model VECM in generation 8 of 10\n",
      "Template Eval Error: ValueError('Only gave one variable to VECM') in model 718: VECM\n",
      "Model Number: 719 with model VECM in generation 8 of 10\n",
      "Template Eval Error: ValueError('Only gave one variable to VECM') in model 719: VECM\n",
      "Model Number: 720 with model VECM in generation 8 of 10\n",
      "Template Eval Error: ValueError('Only gave one variable to VECM') in model 720: VECM\n",
      "Model Number: 721 with model VECM in generation 8 of 10\n",
      "Template Eval Error: ValueError('Only gave one variable to VECM') in model 721: VECM\n",
      "Model Number: 722 with model FBProphet in generation 8 of 10\n",
      "Template Eval Error: ModuleNotFoundError(\"No module named 'fbprophet'\") in model 722: FBProphet\n",
      "Model Number: 723 with model FBProphet in generation 8 of 10\n",
      "Template Eval Error: ModuleNotFoundError(\"No module named 'fbprophet'\") in model 723: FBProphet\n",
      "Model Number: 724 with model FBProphet in generation 8 of 10\n",
      "Template Eval Error: ModuleNotFoundError(\"No module named 'fbprophet'\") in model 724: FBProphet\n",
      "Model Number: 725 with model FBProphet in generation 8 of 10\n",
      "Template Eval Error: ModuleNotFoundError(\"No module named 'fbprophet'\") in model 725: FBProphet\n",
      "Model Number: 726 with model ARDL in generation 8 of 10\n",
      "Template Eval Error: ValueError(\"regression_type='User' but future_regressor not supplied\") in model 726: ARDL\n",
      "Model Number: 727 with model ARDL in generation 8 of 10\n",
      "Template Eval Error: ImportError(\"cannot import name 'ARDL' from 'statsmodels.tsa.api' (C:\\\\ProgramData\\\\Anaconda3\\\\lib\\\\site-packages\\\\statsmodels\\\\tsa\\\\api.py)\") in model 727: ARDL\n",
      "Model Number: 728 with model ARDL in generation 8 of 10\n",
      "Template Eval Error: ImportError(\"cannot import name 'ARDL' from 'statsmodels.tsa.api' (C:\\\\ProgramData\\\\Anaconda3\\\\lib\\\\site-packages\\\\statsmodels\\\\tsa\\\\api.py)\") in model 728: ARDL\n",
      "Model Number: 729 with model ARDL in generation 8 of 10\n"
     ]
    },
    {
     "name": "stderr",
     "output_type": "stream",
     "text": [
      "C:\\ProgramData\\Anaconda3\\lib\\site-packages\\scipy\\interpolate\\polyint.py:545: RuntimeWarning: overflow encountered in multiply\n",
      "  self.wi[:j] *= (self.xi[j]-self.xi[:j])\n",
      "C:\\ProgramData\\Anaconda3\\lib\\site-packages\\scipy\\interpolate\\polyint.py:546: RuntimeWarning: overflow encountered in reduce\n",
      "  self.wi[j] = np.multiply.reduce(self.xi[:j]-self.xi[j])\n",
      "C:\\ProgramData\\Anaconda3\\lib\\site-packages\\scipy\\interpolate\\polyint.py:643: RuntimeWarning: invalid value encountered in true_divide\n",
      "  p = np.dot(c,self.yi)/np.sum(c,axis=-1)[...,np.newaxis]\n"
     ]
    },
    {
     "name": "stdout",
     "output_type": "stream",
     "text": [
      "Template Eval Error: ImportError(\"cannot import name 'ARDL' from 'statsmodels.tsa.api' (C:\\\\ProgramData\\\\Anaconda3\\\\lib\\\\site-packages\\\\statsmodels\\\\tsa\\\\api.py)\") in model 729: ARDL\n",
      "New Generation: 9 of 10\n",
      "Model Number: 730 with model SectionalMotif in generation 9 of 10\n",
      "Model Number: 731 with model SectionalMotif in generation 9 of 10\n",
      "Model Number: 732 with model SectionalMotif in generation 9 of 10\n",
      "Model Number: 733 with model SectionalMotif in generation 9 of 10\n",
      "Model Number: 734 with model LastValueNaive in generation 9 of 10\n",
      "Model Number: 735 with model LastValueNaive in generation 9 of 10\n",
      "Model Number: 736 with model LastValueNaive in generation 9 of 10\n",
      "Model Number: 737 with model Theta in generation 9 of 10\n",
      "Model Number: 738 with model Theta in generation 9 of 10\n",
      "Model Number: 739 with model Theta in generation 9 of 10\n",
      "Model Number: 740 with model Theta in generation 9 of 10\n",
      "Model Number: 741 with model MultivariateRegression in generation 9 of 10\n",
      "Model Number: 742 with model MultivariateRegression in generation 9 of 10\n",
      "Model Number: 743 with model MultivariateRegression in generation 9 of 10\n",
      "Model Number: 744 with model MultivariateRegression in generation 9 of 10\n",
      "Model Number: 745 with model NVAR in generation 9 of 10\n",
      "Model Number: 746 with model NVAR in generation 9 of 10\n",
      "Model Number: 747 with model NVAR in generation 9 of 10\n",
      "Model Number: 748 with model NVAR in generation 9 of 10\n",
      "Model Number: 749 with model AverageValueNaive in generation 9 of 10\n",
      "Model Number: 750 with model AverageValueNaive in generation 9 of 10\n",
      "Model Number: 751 with model AverageValueNaive in generation 9 of 10\n",
      "Model Number: 752 with model ETS in generation 9 of 10\n",
      "Model Number: 753 with model ETS in generation 9 of 10\n",
      "ETS error ValueError('Can only dampen the trend component')\n",
      "ETS failed on Close with ValueError('Can only dampen the trend component')\n",
      "Model Number: 754 with model ETS in generation 9 of 10\n",
      "Model Number: 755 with model ETS in generation 9 of 10\n",
      "ETS error ValueError('Can only dampen the trend component')\n",
      "ETS failed on Close with ValueError('Can only dampen the trend component')\n",
      "Model Number: 756 with model DatepartRegression in generation 9 of 10\n",
      "Template Eval Error: ImportError('Tensorflow not available, install with pip install tensorflow.') in model 756: DatepartRegression\n",
      "Model Number: 757 with model DatepartRegression in generation 9 of 10\n",
      "Template Eval Error: ValueError(\"regression_type='User' but no future_regressor passed\") in model 757: DatepartRegression\n",
      "Model Number: 758 with model DatepartRegression in generation 9 of 10\n",
      "Template Eval Error: ValueError(\"regression_type='User' but no future_regressor passed\") in model 758: DatepartRegression\n",
      "Model Number: 759 with model UnivariateMotif in generation 9 of 10\n",
      "Model Number: 760 with model UnivariateMotif in generation 9 of 10\n",
      "Model Number: 761 with model UnivariateMotif in generation 9 of 10\n",
      "Model Number: 762 with model UnivariateMotif in generation 9 of 10\n",
      "Model Number: 763 with model GLS in generation 9 of 10\n",
      "Model Number: 764 with model GLS in generation 9 of 10\n",
      "Model Number: 765 with model GLS in generation 9 of 10\n",
      "Model Number: 766 with model ConstantNaive in generation 9 of 10\n",
      "Model Number: 767 with model ConstantNaive in generation 9 of 10\n",
      "Model Number: 768 with model ConstantNaive in generation 9 of 10\n",
      "Model Number: 769 with model MultivariateMotif in generation 9 of 10\n",
      "Model Number: 770 with model MultivariateMotif in generation 9 of 10\n",
      "Model Number: 771 with model MultivariateMotif in generation 9 of 10\n",
      "Model Number: 772 with model MultivariateMotif in generation 9 of 10\n",
      "Model Number: 773 with model UnobservedComponents in generation 9 of 10\n",
      "Template Eval Error: ValueError(\"regression_type='User' but no future_regressor supplied\") in model 773: UnobservedComponents\n",
      "Model Number: 774 with model UnobservedComponents in generation 9 of 10\n",
      "Model Number: 775 with model UnobservedComponents in generation 9 of 10\n",
      "Model Number: 776 with model GLM in generation 9 of 10\n",
      "Model Number: 777 with model GLM in generation 9 of 10\n",
      "Model Number: 778 with model GLM in generation 9 of 10\n",
      "Model Number: 779 with model GLM in generation 9 of 10\n",
      "Model Number: 780 with model WindowRegression in generation 9 of 10\n",
      "Template Eval Error: ValueError('Loss absolute_error is not supported for HistGradientBoostingRegressor. Accepted losses: least_squares, least_absolute_deviation, poisson.') in model 780: WindowRegression\n",
      "Model Number: 781 with model WindowRegression in generation 9 of 10\n",
      "Template Eval Error: ValueError(\"regression_type='User' but no future_regressor passed\") in model 781: WindowRegression\n",
      "Model Number: 782 with model WindowRegression in generation 9 of 10\n",
      "Template Eval Error: ModuleNotFoundError(\"No module named 'lightgbm'\") in model 782: WindowRegression\n",
      "Model Number: 783 with model SeasonalNaive in generation 9 of 10\n",
      "Model Number: 784 with model SeasonalNaive in generation 9 of 10\n",
      "Model Number: 785 with model SeasonalNaive in generation 9 of 10\n",
      "Model Number: 786 with model SeasonalNaive in generation 9 of 10\n",
      "Model Number: 787 with model VAR in generation 9 of 10\n",
      "Template Eval Error: ValueError('Only gave one variable to VAR') in model 787: VAR\n",
      "Model Number: 788 with model VAR in generation 9 of 10\n",
      "Template Eval Error: ValueError('Only gave one variable to VAR') in model 788: VAR\n",
      "Model Number: 789 with model VAR in generation 9 of 10\n",
      "Template Eval Error: IndexError('tuple index out of range') in model 789: VAR\n",
      "Model Number: 790 with model VECM in generation 9 of 10\n",
      "Template Eval Error: ValueError('Only gave one variable to VECM') in model 790: VECM\n",
      "Model Number: 791 with model VECM in generation 9 of 10\n",
      "Template Eval Error: ValueError('Only gave one variable to VECM') in model 791: VECM\n",
      "Model Number: 792 with model VECM in generation 9 of 10\n",
      "Template Eval Error: ValueError('Only gave one variable to VECM') in model 792: VECM\n",
      "Model Number: 793 with model VECM in generation 9 of 10\n",
      "Template Eval Error: ValueError('Only gave one variable to VECM') in model 793: VECM\n",
      "Model Number: 794 with model FBProphet in generation 9 of 10\n",
      "Template Eval Error: ValueError(\"regression_type='User' but no future_regressor passed\") in model 794: FBProphet\n",
      "Model Number: 795 with model FBProphet in generation 9 of 10\n",
      "Template Eval Error: ValueError(\"regression_type='User' but no future_regressor passed\") in model 795: FBProphet\n",
      "Model Number: 796 with model FBProphet in generation 9 of 10\n",
      "Template Eval Error: ValueError(\"regression_type='User' but no future_regressor passed\") in model 796: FBProphet\n",
      "Model Number: 797 with model FBProphet in generation 9 of 10\n",
      "Template Eval Error: ValueError(\"regression_type='User' but no future_regressor passed\") in model 797: FBProphet\n",
      "Model Number: 798 with model ARDL in generation 9 of 10\n",
      "Template Eval Error: ImportError(\"cannot import name 'ARDL' from 'statsmodels.tsa.api' (C:\\\\ProgramData\\\\Anaconda3\\\\lib\\\\site-packages\\\\statsmodels\\\\tsa\\\\api.py)\") in model 798: ARDL\n",
      "Model Number: 799 with model ARDL in generation 9 of 10\n",
      "Template Eval Error: ImportError(\"cannot import name 'ARDL' from 'statsmodels.tsa.api' (C:\\\\ProgramData\\\\Anaconda3\\\\lib\\\\site-packages\\\\statsmodels\\\\tsa\\\\api.py)\") in model 799: ARDL\n",
      "Model Number: 800 with model ARDL in generation 9 of 10\n",
      "Template Eval Error: ImportError(\"cannot import name 'ARDL' from 'statsmodels.tsa.api' (C:\\\\ProgramData\\\\Anaconda3\\\\lib\\\\site-packages\\\\statsmodels\\\\tsa\\\\api.py)\") in model 800: ARDL\n",
      "Model Number: 801 with model ARDL in generation 9 of 10\n",
      "Template Eval Error: ImportError(\"cannot import name 'ARDL' from 'statsmodels.tsa.api' (C:\\\\ProgramData\\\\Anaconda3\\\\lib\\\\site-packages\\\\statsmodels\\\\tsa\\\\api.py)\") in model 801: ARDL\n",
      "New Generation: 10 of 10\n",
      "Model Number: 802 with model SectionalMotif in generation 10 of 10\n",
      "Model Number: 803 with model SectionalMotif in generation 10 of 10\n",
      "Model Number: 804 with model SectionalMotif in generation 10 of 10\n",
      "Model Number: 805 with model SectionalMotif in generation 10 of 10\n",
      "Model Number: 806 with model LastValueNaive in generation 10 of 10\n",
      "Model Number: 807 with model LastValueNaive in generation 10 of 10\n",
      "Model Number: 808 with model LastValueNaive in generation 10 of 10\n"
     ]
    },
    {
     "name": "stdout",
     "output_type": "stream",
     "text": [
      "Model Number: 809 with model Theta in generation 10 of 10\n",
      "Model Number: 810 with model Theta in generation 10 of 10\n",
      "Model Number: 811 with model Theta in generation 10 of 10\n",
      "Model Number: 812 with model Theta in generation 10 of 10\n",
      "Model Number: 813 with model MultivariateMotif in generation 10 of 10\n",
      "Model Number: 814 with model MultivariateMotif in generation 10 of 10\n",
      "Model Number: 815 with model MultivariateMotif in generation 10 of 10\n",
      "Model Number: 816 with model MultivariateMotif in generation 10 of 10\n",
      "Model Number: 817 with model MultivariateRegression in generation 10 of 10\n",
      "Model Number: 818 with model MultivariateRegression in generation 10 of 10\n",
      "Model Number: 819 with model MultivariateRegression in generation 10 of 10\n",
      "Model Number: 820 with model MultivariateRegression in generation 10 of 10\n",
      "Model Number: 821 with model NVAR in generation 10 of 10\n"
     ]
    },
    {
     "name": "stderr",
     "output_type": "stream",
     "text": [
      "C:\\ProgramData\\Anaconda3\\lib\\site-packages\\autots\\tools\\probabilistic.py:67: RuntimeWarning: invalid value encountered in true_divide\n",
      "  (prior_mu / prior_sigma**2) + ((n * data_mu) / prior_sigma**2)\n",
      "C:\\ProgramData\\Anaconda3\\lib\\site-packages\\autots\\tools\\probabilistic.py:68: RuntimeWarning: divide by zero encountered in true_divide\n",
      "  ) / ((1 / prior_sigma**2) + (n / prior_sigma**2))\n"
     ]
    },
    {
     "name": "stdout",
     "output_type": "stream",
     "text": [
      "Model Number: 822 with model NVAR in generation 10 of 10\n",
      "Model Number: 823 with model NVAR in generation 10 of 10\n",
      "Model Number: 824 with model NVAR in generation 10 of 10\n",
      "Model Number: 825 with model AverageValueNaive in generation 10 of 10\n",
      "Model Number: 826 with model AverageValueNaive in generation 10 of 10\n",
      "Model Number: 827 with model AverageValueNaive in generation 10 of 10\n",
      "Model Number: 828 with model UnivariateMotif in generation 10 of 10\n",
      "Model Number: 829 with model UnivariateMotif in generation 10 of 10\n",
      "Model Number: 830 with model UnivariateMotif in generation 10 of 10\n",
      "Model Number: 831 with model UnivariateMotif in generation 10 of 10\n",
      "Model Number: 832 with model ETS in generation 10 of 10\n",
      "Model Number: 833 with model ETS in generation 10 of 10\n",
      "ETS error ValueError('Can only dampen the trend component')\n",
      "ETS failed on Close with ValueError('Can only dampen the trend component')\n",
      "Model Number: 834 with model ETS in generation 10 of 10\n",
      "ETS error ValueError('endog must be strictly positive when usingmultiplicative trend or seasonal components.')\n",
      "ETS failed on Close with ValueError('endog must be strictly positive when usingmultiplicative trend or seasonal components.')\n",
      "Model Number: 835 with model ETS in generation 10 of 10\n",
      "Model Number: 836 with model DatepartRegression in generation 10 of 10\n",
      "Model Number: 837 with model DatepartRegression in generation 10 of 10\n",
      "Template Eval Error: ValueError('Model DatepartRegression returned NaN for one or more series. fail_on_forecast_nan=True') in model 837: DatepartRegression\n",
      "Model Number: 838 with model DatepartRegression in generation 10 of 10\n",
      "Model Number: 839 with model GLS in generation 10 of 10\n"
     ]
    },
    {
     "name": "stderr",
     "output_type": "stream",
     "text": [
      "C:\\ProgramData\\Anaconda3\\lib\\site-packages\\sklearn\\neighbors\\_regression.py:421: UserWarning: One or more samples have no neighbors within specified radius; predicting NaN.\n",
      "  warnings.warn(empty_warning_msg)\n",
      "C:\\ProgramData\\Anaconda3\\lib\\site-packages\\sklearn\\svm\\_base.py:985: ConvergenceWarning: Liblinear failed to converge, increase the number of iterations.\n",
      "  warnings.warn(\"Liblinear failed to converge, increase \"\n"
     ]
    },
    {
     "name": "stdout",
     "output_type": "stream",
     "text": [
      "Model Number: 840 with model GLS in generation 10 of 10\n",
      "Model Number: 841 with model ConstantNaive in generation 10 of 10\n",
      "Model Number: 842 with model ConstantNaive in generation 10 of 10\n",
      "Model Number: 843 with model ConstantNaive in generation 10 of 10\n",
      "Model Number: 844 with model UnobservedComponents in generation 10 of 10\n",
      "Model Number: 845 with model UnobservedComponents in generation 10 of 10\n",
      "Model Number: 846 with model UnobservedComponents in generation 10 of 10\n",
      "Model Number: 847 with model GLM in generation 10 of 10\n",
      "Template Eval Error: ValueError('regression_type=user and no future_regressor passed') in model 847: GLM\n",
      "Model Number: 848 with model GLM in generation 10 of 10\n",
      "Model Number: 849 with model GLM in generation 10 of 10\n",
      "Template Eval Error: ValueError('regression_type=user and no future_regressor passed') in model 849: GLM\n",
      "Model Number: 850 with model GLM in generation 10 of 10\n",
      "Template Eval Error: TypeError(\"ufunc 'isfinite' not supported for the input types, and the inputs could not be safely coerced to any supported types according to the casting rule ''safe''\") in model 850: GLM\n",
      "Model Number: 851 with model WindowRegression in generation 10 of 10\n"
     ]
    },
    {
     "name": "stderr",
     "output_type": "stream",
     "text": [
      "C:\\ProgramData\\Anaconda3\\lib\\site-packages\\statsmodels\\genmod\\generalized_linear_model.py:293: DomainWarning: The inverse_power link function does not respect the domain of the Gamma family.\n",
      "  warnings.warn((f\"The {type(family.link).__name__} link function \"\n"
     ]
    },
    {
     "name": "stdout",
     "output_type": "stream",
     "text": [
      "Model Number: 852 with model WindowRegression in generation 10 of 10\n",
      "Model Number: 853 with model WindowRegression in generation 10 of 10\n",
      "Template Eval Error: ValueError(\"regression_type='User' but no future_regressor passed\") in model 853: WindowRegression\n",
      "Model Number: 854 with model SeasonalNaive in generation 10 of 10\n",
      "Model Number: 855 with model SeasonalNaive in generation 10 of 10\n",
      "Model Number: 856 with model SeasonalNaive in generation 10 of 10\n",
      "Model Number: 857 with model SeasonalNaive in generation 10 of 10\n",
      "Model Number: 858 with model Ensemble in generation 11 of Ensembles\n",
      "Model Number: 859 with model Ensemble in generation 11 of Ensembles\n",
      "Model Number: 860 with model Ensemble in generation 11 of Ensembles\n",
      "Model Number: 861 with model Ensemble in generation 11 of Ensembles\n",
      "Model Number: 862 with model Ensemble in generation 11 of Ensembles\n",
      "Model Number: 863 with model Ensemble in generation 11 of Ensembles\n",
      "Model Number: 864 with model Ensemble in generation 11 of Ensembles\n",
      "Model Number: 865 with model Ensemble in generation 11 of Ensembles\n",
      "Model Number: 866 with model Ensemble in generation 11 of Ensembles\n",
      "Model Number: 867 with model Ensemble in generation 11 of Ensembles\n",
      "Validation Round: 1\n",
      "Model Number: 1 of 130 with model Ensemble for Validation 1\n",
      "📈 1 - Ensemble with avg smape 2.51: \n",
      "Model Number: 2 of 130 with model SectionalMotif for Validation 1\n",
      "2 - SectionalMotif with avg smape 2.57: \n",
      "Model Number: 3 of 130 with model Ensemble for Validation 1\n",
      "3 - Ensemble with avg smape 2.57: \n",
      "Model Number: 4 of 130 with model Ensemble for Validation 1\n",
      "4 - Ensemble with avg smape 3.4: \n",
      "Model Number: 5 of 130 with model SectionalMotif for Validation 1\n",
      "5 - SectionalMotif with avg smape 2.55: \n",
      "Model Number: 6 of 130 with model SectionalMotif for Validation 1\n",
      "📈 6 - SectionalMotif with avg smape 2.37: \n",
      "Model Number: 7 of 130 with model SectionalMotif for Validation 1\n",
      "7 - SectionalMotif with avg smape 2.61: \n",
      "Model Number: 8 of 130 with model Ensemble for Validation 1\n",
      "8 - Ensemble with avg smape 2.74: \n",
      "Model Number: 9 of 130 with model Ensemble for Validation 1\n",
      "9 - Ensemble with avg smape 2.78: \n",
      "Model Number: 10 of 130 with model Ensemble for Validation 1\n",
      "10 - Ensemble with avg smape 2.78: \n",
      "Model Number: 11 of 130 with model Ensemble for Validation 1\n",
      "11 - Ensemble with avg smape 4.6: \n",
      "Model Number: 12 of 130 with model LastValueNaive for Validation 1\n",
      "12 - LastValueNaive with avg smape 3.21: \n",
      "Model Number: 13 of 130 with model MultivariateMotif for Validation 1\n",
      "13 - MultivariateMotif with avg smape 2.74: \n",
      "Model Number: 14 of 130 with model Ensemble for Validation 1\n",
      "14 - Ensemble with avg smape 7.6: \n",
      "Model Number: 15 of 130 with model MultivariateRegression for Validation 1\n",
      "15 - MultivariateRegression with avg smape 5.98: \n",
      "Model Number: 16 of 130 with model Theta for Validation 1\n",
      "16 - Theta with avg smape 4.79: \n",
      "Model Number: 17 of 130 with model Theta for Validation 1\n",
      "17 - Theta with avg smape 4.76: \n",
      "Model Number: 18 of 130 with model Theta for Validation 1\n",
      "18 - Theta with avg smape 4.77: \n",
      "Model Number: 19 of 130 with model Theta for Validation 1\n",
      "19 - Theta with avg smape 4.21: \n",
      "Model Number: 20 of 130 with model LastValueNaive for Validation 1\n",
      "20 - LastValueNaive with avg smape 2.92: \n",
      "Model Number: 21 of 130 with model LastValueNaive for Validation 1\n",
      "21 - LastValueNaive with avg smape 2.92: \n",
      "Model Number: 22 of 130 with model LastValueNaive for Validation 1\n",
      "22 - LastValueNaive with avg smape 2.92: \n",
      "Model Number: 23 of 130 with model NVAR for Validation 1\n",
      "23 - NVAR with avg smape 2.67: \n",
      "Model Number: 24 of 130 with model LastValueNaive for Validation 1\n",
      "24 - LastValueNaive with avg smape 2.92: \n",
      "Model Number: 25 of 130 with model LastValueNaive for Validation 1\n",
      "25 - LastValueNaive with avg smape 2.92: \n",
      "Model Number: 26 of 130 with model LastValueNaive for Validation 1\n",
      "26 - LastValueNaive with avg smape 2.92: \n",
      "Model Number: 27 of 130 with model LastValueNaive for Validation 1\n",
      "27 - LastValueNaive with avg smape 2.92: \n",
      "Model Number: 28 of 130 with model Theta for Validation 1\n",
      "28 - Theta with avg smape 4.53: \n",
      "Model Number: 29 of 130 with model NVAR for Validation 1\n",
      "29 - NVAR with avg smape 2.83: \n",
      "Model Number: 30 of 130 with model NVAR for Validation 1\n",
      "30 - NVAR with avg smape 2.64: \n",
      "Model Number: 31 of 130 with model AverageValueNaive for Validation 1\n",
      "31 - AverageValueNaive with avg smape 2.97: \n",
      "Model Number: 32 of 130 with model NVAR for Validation 1\n",
      "32 - NVAR with avg smape 2.59: \n",
      "Model Number: 33 of 130 with model NVAR for Validation 1\n",
      "33 - NVAR with avg smape 3.37: \n",
      "Model Number: 34 of 130 with model Theta for Validation 1\n",
      "34 - Theta with avg smape 4.36: \n",
      "Model Number: 35 of 130 with model Theta for Validation 1\n",
      "35 - Theta with avg smape 4.12: \n",
      "Model Number: 36 of 130 with model DatepartRegression for Validation 1\n",
      "36 - DatepartRegression with avg smape 3.92: \n",
      "Model Number: 37 of 130 with model NVAR for Validation 1\n",
      "37 - NVAR with avg smape 2.6: \n",
      "Model Number: 38 of 130 with model NVAR for Validation 1\n",
      "38 - NVAR with avg smape 3.1: \n",
      "Model Number: 39 of 130 with model SectionalMotif for Validation 1\n",
      "39 - SectionalMotif with avg smape 3.05: \n",
      "Model Number: 40 of 130 with model Theta for Validation 1\n",
      "40 - Theta with avg smape 4.24: \n",
      "Model Number: 41 of 130 with model UnivariateMotif for Validation 1\n",
      "41 - UnivariateMotif with avg smape 9.6: \n",
      "Model Number: 42 of 130 with model ETS for Validation 1\n",
      "ETS error ValueError('endog must be strictly positive when usingmultiplicative trend or seasonal components.')\n",
      "ETS failed on Close with ValueError('endog must be strictly positive when usingmultiplicative trend or seasonal components.')\n",
      "42 - ETS with avg smape 2.92: \n",
      "Model Number: 43 of 130 with model ETS for Validation 1\n",
      "ETS error ValueError('endog must be strictly positive when usingmultiplicative trend or seasonal components.')\n",
      "ETS failed on Close with ValueError('endog must be strictly positive when usingmultiplicative trend or seasonal components.')\n",
      "43 - ETS with avg smape 2.92: \n",
      "Model Number: 44 of 130 with model ETS for Validation 1\n",
      "ETS error ValueError('endog must be strictly positive when usingmultiplicative trend or seasonal components.')\n",
      "ETS failed on Close with ValueError('endog must be strictly positive when usingmultiplicative trend or seasonal components.')\n",
      "44 - ETS with avg smape 2.92: \n",
      "Model Number: 45 of 130 with model NVAR for Validation 1\n",
      "45 - NVAR with avg smape 2.5: \n",
      "Model Number: 46 of 130 with model UnivariateMotif for Validation 1\n",
      "46 - UnivariateMotif with avg smape 3.51: \n",
      "Model Number: 47 of 130 with model UnivariateMotif for Validation 1\n",
      "47 - UnivariateMotif with avg smape 3.51: \n",
      "Model Number: 48 of 130 with model AverageValueNaive for Validation 1\n",
      "48 - AverageValueNaive with avg smape 2.94: \n",
      "Model Number: 49 of 130 with model UnivariateMotif for Validation 1\n",
      "49 - UnivariateMotif with avg smape 3.49: \n",
      "Model Number: 50 of 130 with model AverageValueNaive for Validation 1\n",
      "50 - AverageValueNaive with avg smape 2.61: \n",
      "Model Number: 51 of 130 with model AverageValueNaive for Validation 1\n",
      "51 - AverageValueNaive with avg smape 2.64: \n",
      "Model Number: 52 of 130 with model ConstantNaive for Validation 1\n",
      "52 - ConstantNaive with avg smape 3.83: \n",
      "Model Number: 53 of 130 with model SectionalMotif for Validation 1\n",
      "53 - SectionalMotif with avg smape 4.11: \n",
      "Model Number: 54 of 130 with model SectionalMotif for Validation 1\n",
      "54 - SectionalMotif with avg smape 4.11: \n",
      "Model Number: 55 of 130 with model ConstantNaive for Validation 1\n",
      "55 - ConstantNaive with avg smape 4.64: \n",
      "Model Number: 56 of 130 with model ConstantNaive for Validation 1\n",
      "56 - ConstantNaive with avg smape 3.86: \n",
      "Model Number: 57 of 130 with model WindowRegression for Validation 1\n",
      "57 - WindowRegression with avg smape 2.68: \n",
      "Model Number: 58 of 130 with model MultivariateRegression for Validation 1\n",
      "58 - MultivariateRegression with avg smape 3.48: \n",
      "Model Number: 59 of 130 with model AverageValueNaive for Validation 1\n",
      "59 - AverageValueNaive with avg smape 2.82: \n",
      "Model Number: 60 of 130 with model ConstantNaive for Validation 1\n",
      "60 - ConstantNaive with avg smape 3.33: \n",
      "Model Number: 61 of 130 with model AverageValueNaive for Validation 1\n",
      "61 - AverageValueNaive with avg smape 2.74: \n",
      "Model Number: 62 of 130 with model MultivariateRegression for Validation 1\n"
     ]
    },
    {
     "name": "stdout",
     "output_type": "stream",
     "text": [
      "62 - MultivariateRegression with avg smape 10.92: \n",
      "Model Number: 63 of 130 with model ETS for Validation 1\n",
      "63 - ETS with avg smape 2.9: \n",
      "Model Number: 64 of 130 with model GLS for Validation 1\n",
      "64 - GLS with avg smape 2.68: \n",
      "Model Number: 65 of 130 with model UnobservedComponents for Validation 1\n"
     ]
    },
    {
     "name": "stderr",
     "output_type": "stream",
     "text": [
      "C:\\ProgramData\\Anaconda3\\lib\\site-packages\\numpy\\core\\_methods.py:232: RuntimeWarning: overflow encountered in multiply\n",
      "  x = um.multiply(x, x, out=x)\n",
      "C:\\ProgramData\\Anaconda3\\lib\\site-packages\\numpy\\core\\_methods.py:243: RuntimeWarning: overflow encountered in reduce\n",
      "  ret = umr_sum(x, axis, dtype, out, keepdims=keepdims, where=where)\n"
     ]
    },
    {
     "name": "stdout",
     "output_type": "stream",
     "text": [
      "65 - UnobservedComponents with avg smape 4.35: \n",
      "Model Number: 66 of 130 with model UnobservedComponents for Validation 1\n",
      "66 - UnobservedComponents with avg smape 4.35: \n",
      "Model Number: 67 of 130 with model UnobservedComponents for Validation 1\n",
      "67 - UnobservedComponents with avg smape 4.35: \n",
      "Model Number: 68 of 130 with model UnobservedComponents for Validation 1\n",
      "68 - UnobservedComponents with avg smape 4.35: \n",
      "Model Number: 69 of 130 with model UnobservedComponents for Validation 1\n",
      "69 - UnobservedComponents with avg smape 4.35: \n",
      "Model Number: 70 of 130 with model ConstantNaive for Validation 1\n",
      "70 - ConstantNaive with avg smape 4.49: \n",
      "Model Number: 71 of 130 with model SeasonalNaive for Validation 1\n",
      "71 - SeasonalNaive with avg smape 4.59: \n",
      "Model Number: 72 of 130 with model GLM for Validation 1\n",
      "72 - GLM with avg smape 2.63: \n",
      "Model Number: 73 of 130 with model GLS for Validation 1\n",
      "73 - GLS with avg smape 4.74: \n",
      "Model Number: 74 of 130 with model UnobservedComponents for Validation 1\n"
     ]
    },
    {
     "name": "stderr",
     "output_type": "stream",
     "text": [
      "C:\\ProgramData\\Anaconda3\\lib\\site-packages\\statsmodels\\genmod\\families\\family.py:1227: RuntimeWarning: divide by zero encountered in true_divide\n",
      "  endog_mu = self._clean(endog / mu)\n"
     ]
    },
    {
     "name": "stdout",
     "output_type": "stream",
     "text": [
      "74 - UnobservedComponents with avg smape 5.06: \n",
      "Model Number: 75 of 130 with model ConstantNaive for Validation 1\n",
      "75 - ConstantNaive with avg smape 3.24: \n",
      "Model Number: 76 of 130 with model ConstantNaive for Validation 1\n",
      "76 - ConstantNaive with avg smape 3.59: \n",
      "Model Number: 77 of 130 with model MultivariateMotif for Validation 1\n",
      "77 - MultivariateMotif with avg smape 6.36: \n",
      "Model Number: 78 of 130 with model UnivariateMotif for Validation 1\n",
      "78 - UnivariateMotif with avg smape 3.89: \n",
      "Model Number: 79 of 130 with model MultivariateRegression for Validation 1\n",
      "79 - MultivariateRegression with avg smape 3.04: \n",
      "Model Number: 80 of 130 with model ETS for Validation 1\n",
      "80 - ETS with avg smape 3.0: \n",
      "Model Number: 81 of 130 with model SectionalMotif for Validation 1\n",
      "81 - SectionalMotif with avg smape 6.12: \n",
      "Model Number: 82 of 130 with model ConstantNaive for Validation 1\n",
      "82 - ConstantNaive with avg smape 3.4: \n",
      "Model Number: 83 of 130 with model UnobservedComponents for Validation 1\n",
      "83 - UnobservedComponents with avg smape 3.07: \n",
      "Model Number: 84 of 130 with model WindowRegression for Validation 1\n",
      "84 - WindowRegression with avg smape 2.95: \n",
      "Model Number: 85 of 130 with model AverageValueNaive for Validation 1\n",
      "85 - AverageValueNaive with avg smape 3.72: \n",
      "Model Number: 86 of 130 with model WindowRegression for Validation 1\n",
      "86 - WindowRegression with avg smape 3.1: \n",
      "Model Number: 87 of 130 with model UnobservedComponents for Validation 1\n",
      "87 - UnobservedComponents with avg smape 3.06: \n",
      "Model Number: 88 of 130 with model SeasonalNaive for Validation 1\n",
      "88 - SeasonalNaive with avg smape 3.41: \n",
      "Model Number: 89 of 130 with model ETS for Validation 1\n",
      "89 - ETS with avg smape 3.12: \n",
      "Model Number: 90 of 130 with model SeasonalNaive for Validation 1\n",
      "90 - SeasonalNaive with avg smape 3.18: \n",
      "Model Number: 91 of 130 with model WindowRegression for Validation 1\n",
      "91 - WindowRegression with avg smape 2.67: \n",
      "Model Number: 92 of 130 with model DatepartRegression for Validation 1\n",
      "92 - DatepartRegression with avg smape 6.16: \n",
      "Model Number: 93 of 130 with model UnivariateMotif for Validation 1\n",
      "93 - UnivariateMotif with avg smape 4.13: \n",
      "Model Number: 94 of 130 with model ETS for Validation 1\n",
      "94 - ETS with avg smape 3.22: \n",
      "Model Number: 95 of 130 with model SeasonalNaive for Validation 1\n",
      "95 - SeasonalNaive with avg smape 2.78: \n",
      "Model Number: 96 of 130 with model DatepartRegression for Validation 1\n",
      "96 - DatepartRegression with avg smape 10.73: \n",
      "Model Number: 97 of 130 with model MultivariateRegression for Validation 1\n",
      "97 - MultivariateRegression with avg smape 4.54: \n",
      "Model Number: 98 of 130 with model ETS for Validation 1\n",
      "98 - ETS with avg smape 4.05: \n",
      "Model Number: 99 of 130 with model AverageValueNaive for Validation 1\n",
      "99 - AverageValueNaive with avg smape 2.88: \n",
      "Model Number: 100 of 130 with model SeasonalNaive for Validation 1\n",
      "100 - SeasonalNaive with avg smape 2.75: \n",
      "Model Number: 101 of 130 with model UnivariateMotif for Validation 1\n",
      "101 - UnivariateMotif with avg smape 2.47: \n",
      "Model Number: 102 of 130 with model WindowRegression for Validation 1\n",
      "102 - WindowRegression with avg smape 2.82: \n",
      "Model Number: 103 of 130 with model SeasonalNaive for Validation 1\n",
      "103 - SeasonalNaive with avg smape 2.84: \n",
      "Model Number: 104 of 130 with model MultivariateRegression for Validation 1\n",
      "104 - MultivariateRegression with avg smape 4.05: \n",
      "Model Number: 105 of 130 with model MultivariateRegression for Validation 1\n",
      "105 - MultivariateRegression with avg smape 4.5: \n",
      "Model Number: 106 of 130 with model GLM for Validation 1\n",
      "106 - GLM with avg smape 3.72: \n",
      "Model Number: 107 of 130 with model WindowRegression for Validation 1\n",
      "107 - WindowRegression with avg smape 3.22: \n",
      "Model Number: 108 of 130 with model GLM for Validation 1\n",
      "108 - GLM with avg smape 3.66: \n",
      "Model Number: 109 of 130 with model GLM for Validation 1\n",
      "109 - GLM with avg smape 3.36: \n",
      "Model Number: 110 of 130 with model GLM for Validation 1\n",
      "110 - GLM with avg smape 3.67: \n",
      "Model Number: 111 of 130 with model GLM for Validation 1\n",
      "111 - GLM with avg smape 3.69: \n",
      "Model Number: 112 of 130 with model GLM for Validation 1\n",
      "112 - GLM with avg smape 3.4: \n",
      "Model Number: 113 of 130 with model SeasonalNaive for Validation 1\n",
      "113 - SeasonalNaive with avg smape 3.33: \n",
      "Model Number: 114 of 130 with model SeasonalNaive for Validation 1\n",
      "114 - SeasonalNaive with avg smape 3.39: \n",
      "Model Number: 115 of 130 with model GLS for Validation 1\n",
      "115 - GLS with avg smape 3.39: \n",
      "Model Number: 116 of 130 with model GLS for Validation 1\n",
      "116 - GLS with avg smape 3.3: \n",
      "Model Number: 117 of 130 with model MultivariateRegression for Validation 1\n",
      "117 - MultivariateRegression with avg smape 5.62: \n",
      "Model Number: 118 of 130 with model GLS for Validation 1\n",
      "118 - GLS with avg smape 5.1: \n",
      "Model Number: 119 of 130 with model WindowRegression for Validation 1\n",
      "119 - WindowRegression with avg smape 2.91: \n",
      "Model Number: 120 of 130 with model UnivariateMotif for Validation 1\n",
      "120 - UnivariateMotif with avg smape 2.8: \n",
      "Model Number: 121 of 130 with model DatepartRegression for Validation 1\n"
     ]
    },
    {
     "name": "stderr",
     "output_type": "stream",
     "text": [
      "C:\\ProgramData\\Anaconda3\\lib\\site-packages\\sklearn\\svm\\_base.py:985: ConvergenceWarning: Liblinear failed to converge, increase the number of iterations.\n",
      "  warnings.warn(\"Liblinear failed to converge, increase \"\n"
     ]
    },
    {
     "name": "stdout",
     "output_type": "stream",
     "text": [
      "121 - DatepartRegression with avg smape 3.13: \n",
      "Model Number: 122 of 130 with model GLM for Validation 1\n",
      "122 - GLM with avg smape 3.06: \n",
      "Model Number: 123 of 130 with model WindowRegression for Validation 1\n",
      "123 - WindowRegression with avg smape 2.94: \n",
      "Model Number: 124 of 130 with model MultivariateMotif for Validation 1\n",
      "124 - MultivariateMotif with avg smape 3.47: \n",
      "Model Number: 125 of 130 with model MultivariateMotif for Validation 1\n",
      "125 - MultivariateMotif with avg smape 2.75: \n",
      "Model Number: 126 of 130 with model MultivariateMotif for Validation 1\n",
      "126 - MultivariateMotif with avg smape 2.75: \n",
      "Model Number: 127 of 130 with model GLS for Validation 1\n",
      "127 - GLS with avg smape 3.04: \n",
      "Model Number: 128 of 130 with model MultivariateMotif for Validation 1\n",
      "128 - MultivariateMotif with avg smape 5.71: \n",
      "Model Number: 129 of 130 with model MultivariateMotif for Validation 1\n",
      "129 - MultivariateMotif with avg smape 6.75: \n",
      "Model Number: 130 of 130 with model MultivariateMotif for Validation 1\n",
      "130 - MultivariateMotif with avg smape 4.25: \n",
      "Validation Round: 2\n",
      "Model Number: 1 of 130 with model Ensemble for Validation 2\n",
      "📈 1 - Ensemble with avg smape 5.43: \n",
      "Model Number: 2 of 130 with model SectionalMotif for Validation 2\n",
      "📈 2 - SectionalMotif with avg smape 5.33: \n",
      "Model Number: 3 of 130 with model Ensemble for Validation 2\n",
      "3 - Ensemble with avg smape 6.11: \n",
      "Model Number: 4 of 130 with model Ensemble for Validation 2\n"
     ]
    },
    {
     "name": "stderr",
     "output_type": "stream",
     "text": [
      "C:\\ProgramData\\Anaconda3\\lib\\site-packages\\autots\\models\\base.py:558: RuntimeWarning: invalid value encountered in true_divide\n",
      "  smape_cons = (np.nansum(wsmape_df, axis=1) * 200) / np.count_nonzero(\n",
      "C:\\ProgramData\\Anaconda3\\lib\\site-packages\\autots\\models\\base.py:558: RuntimeWarning: invalid value encountered in true_divide\n",
      "  smape_cons = (np.nansum(wsmape_df, axis=1) * 200) / np.count_nonzero(\n",
      "C:\\ProgramData\\Anaconda3\\lib\\site-packages\\autots\\models\\base.py:558: RuntimeWarning: invalid value encountered in true_divide\n",
      "  smape_cons = (np.nansum(wsmape_df, axis=1) * 200) / np.count_nonzero(\n"
     ]
    },
    {
     "name": "stdout",
     "output_type": "stream",
     "text": [
      "📈 4 - Ensemble with avg smape 4.94: \n",
      "Model Number: 5 of 130 with model SectionalMotif for Validation 2\n",
      "5 - SectionalMotif with avg smape 6.42: \n",
      "Model Number: 6 of 130 with model SectionalMotif for Validation 2\n",
      "📈 6 - SectionalMotif with avg smape 3.36: \n",
      "Model Number: 7 of 130 with model SectionalMotif for Validation 2\n",
      "7 - SectionalMotif with avg smape 6.59: \n",
      "Model Number: 8 of 130 with model Ensemble for Validation 2\n"
     ]
    },
    {
     "name": "stderr",
     "output_type": "stream",
     "text": [
      "C:\\ProgramData\\Anaconda3\\lib\\site-packages\\autots\\models\\base.py:558: RuntimeWarning: invalid value encountered in true_divide\n",
      "  smape_cons = (np.nansum(wsmape_df, axis=1) * 200) / np.count_nonzero(\n",
      "C:\\ProgramData\\Anaconda3\\lib\\site-packages\\autots\\models\\base.py:558: RuntimeWarning: invalid value encountered in true_divide\n",
      "  smape_cons = (np.nansum(wsmape_df, axis=1) * 200) / np.count_nonzero(\n",
      "C:\\ProgramData\\Anaconda3\\lib\\site-packages\\autots\\models\\base.py:558: RuntimeWarning: invalid value encountered in true_divide\n",
      "  smape_cons = (np.nansum(wsmape_df, axis=1) * 200) / np.count_nonzero(\n",
      "C:\\ProgramData\\Anaconda3\\lib\\site-packages\\autots\\models\\base.py:558: RuntimeWarning: invalid value encountered in true_divide\n",
      "  smape_cons = (np.nansum(wsmape_df, axis=1) * 200) / np.count_nonzero(\n"
     ]
    },
    {
     "name": "stdout",
     "output_type": "stream",
     "text": [
      "8 - Ensemble with avg smape 4.4: \n",
      "Model Number: 9 of 130 with model Ensemble for Validation 2\n"
     ]
    },
    {
     "name": "stderr",
     "output_type": "stream",
     "text": [
      "C:\\ProgramData\\Anaconda3\\lib\\site-packages\\autots\\models\\base.py:558: RuntimeWarning: invalid value encountered in true_divide\n",
      "  smape_cons = (np.nansum(wsmape_df, axis=1) * 200) / np.count_nonzero(\n"
     ]
    },
    {
     "name": "stdout",
     "output_type": "stream",
     "text": [
      "9 - Ensemble with avg smape 4.37: \n",
      "Model Number: 10 of 130 with model Ensemble for Validation 2\n"
     ]
    },
    {
     "name": "stderr",
     "output_type": "stream",
     "text": [
      "C:\\ProgramData\\Anaconda3\\lib\\site-packages\\autots\\models\\base.py:558: RuntimeWarning: invalid value encountered in true_divide\n",
      "  smape_cons = (np.nansum(wsmape_df, axis=1) * 200) / np.count_nonzero(\n"
     ]
    },
    {
     "name": "stdout",
     "output_type": "stream",
     "text": [
      "10 - Ensemble with avg smape 4.37: \n",
      "Model Number: 11 of 130 with model Ensemble for Validation 2\n"
     ]
    },
    {
     "name": "stderr",
     "output_type": "stream",
     "text": [
      "C:\\ProgramData\\Anaconda3\\lib\\site-packages\\autots\\models\\base.py:558: RuntimeWarning: invalid value encountered in true_divide\n",
      "  smape_cons = (np.nansum(wsmape_df, axis=1) * 200) / np.count_nonzero(\n"
     ]
    },
    {
     "name": "stdout",
     "output_type": "stream",
     "text": [
      "11 - Ensemble with avg smape 3.84: \n",
      "Model Number: 12 of 130 with model LastValueNaive for Validation 2\n",
      "12 - LastValueNaive with avg smape 4.04: \n",
      "Model Number: 13 of 130 with model MultivariateMotif for Validation 2\n",
      "13 - MultivariateMotif with avg smape 6.41: \n",
      "Model Number: 14 of 130 with model Ensemble for Validation 2\n"
     ]
    },
    {
     "name": "stderr",
     "output_type": "stream",
     "text": [
      "C:\\ProgramData\\Anaconda3\\lib\\site-packages\\autots\\models\\base.py:558: RuntimeWarning: invalid value encountered in true_divide\n",
      "  smape_cons = (np.nansum(wsmape_df, axis=1) * 200) / np.count_nonzero(\n",
      "C:\\ProgramData\\Anaconda3\\lib\\site-packages\\autots\\models\\base.py:558: RuntimeWarning: invalid value encountered in true_divide\n",
      "  smape_cons = (np.nansum(wsmape_df, axis=1) * 200) / np.count_nonzero(\n",
      "C:\\ProgramData\\Anaconda3\\lib\\site-packages\\autots\\models\\base.py:558: RuntimeWarning: invalid value encountered in true_divide\n",
      "  smape_cons = (np.nansum(wsmape_df, axis=1) * 200) / np.count_nonzero(\n"
     ]
    },
    {
     "name": "stdout",
     "output_type": "stream",
     "text": [
      "📈 14 - Ensemble with avg smape 2.35: \n",
      "Model Number: 15 of 130 with model MultivariateRegression for Validation 2\n"
     ]
    },
    {
     "name": "stderr",
     "output_type": "stream",
     "text": [
      "C:\\ProgramData\\Anaconda3\\lib\\site-packages\\autots\\models\\base.py:558: RuntimeWarning: invalid value encountered in true_divide\n",
      "  smape_cons = (np.nansum(wsmape_df, axis=1) * 200) / np.count_nonzero(\n"
     ]
    },
    {
     "name": "stdout",
     "output_type": "stream",
     "text": [
      "15 - MultivariateRegression with avg smape 6.05: \n",
      "Model Number: 16 of 130 with model Theta for Validation 2\n"
     ]
    },
    {
     "name": "stderr",
     "output_type": "stream",
     "text": [
      "C:\\ProgramData\\Anaconda3\\lib\\site-packages\\autots\\models\\base.py:558: RuntimeWarning: invalid value encountered in true_divide\n",
      "  smape_cons = (np.nansum(wsmape_df, axis=1) * 200) / np.count_nonzero(\n",
      "C:\\ProgramData\\Anaconda3\\lib\\site-packages\\autots\\models\\base.py:558: RuntimeWarning: invalid value encountered in true_divide\n",
      "  smape_cons = (np.nansum(wsmape_df, axis=1) * 200) / np.count_nonzero(\n"
     ]
    },
    {
     "name": "stdout",
     "output_type": "stream",
     "text": [
      "16 - Theta with avg smape 3.8: \n",
      "Model Number: 17 of 130 with model Theta for Validation 2\n",
      "17 - Theta with avg smape 3.84: \n",
      "Model Number: 18 of 130 with model Theta for Validation 2\n"
     ]
    },
    {
     "name": "stderr",
     "output_type": "stream",
     "text": [
      "C:\\ProgramData\\Anaconda3\\lib\\site-packages\\autots\\models\\base.py:558: RuntimeWarning: invalid value encountered in true_divide\n",
      "  smape_cons = (np.nansum(wsmape_df, axis=1) * 200) / np.count_nonzero(\n",
      "C:\\ProgramData\\Anaconda3\\lib\\site-packages\\autots\\models\\base.py:558: RuntimeWarning: invalid value encountered in true_divide\n",
      "  smape_cons = (np.nansum(wsmape_df, axis=1) * 200) / np.count_nonzero(\n"
     ]
    },
    {
     "name": "stdout",
     "output_type": "stream",
     "text": [
      "18 - Theta with avg smape 3.84: \n",
      "Model Number: 19 of 130 with model Theta for Validation 2\n",
      "19 - Theta with avg smape 3.88: \n",
      "Model Number: 20 of 130 with model LastValueNaive for Validation 2\n",
      "20 - LastValueNaive with avg smape 3.39: \n",
      "Model Number: 21 of 130 with model LastValueNaive for Validation 2\n",
      "21 - LastValueNaive with avg smape 3.39: \n",
      "Model Number: 22 of 130 with model LastValueNaive for Validation 2\n",
      "22 - LastValueNaive with avg smape 3.39: \n",
      "Model Number: 23 of 130 with model NVAR for Validation 2\n",
      "📈 23 - NVAR with avg smape 2.13: \n",
      "Model Number: 24 of 130 with model LastValueNaive for Validation 2\n",
      "24 - LastValueNaive with avg smape 3.39: \n",
      "Model Number: 25 of 130 with model LastValueNaive for Validation 2\n"
     ]
    },
    {
     "name": "stderr",
     "output_type": "stream",
     "text": [
      "C:\\ProgramData\\Anaconda3\\lib\\site-packages\\autots\\models\\base.py:558: RuntimeWarning: invalid value encountered in true_divide\n",
      "  smape_cons = (np.nansum(wsmape_df, axis=1) * 200) / np.count_nonzero(\n",
      "C:\\ProgramData\\Anaconda3\\lib\\site-packages\\autots\\models\\base.py:558: RuntimeWarning: invalid value encountered in true_divide\n",
      "  smape_cons = (np.nansum(wsmape_df, axis=1) * 200) / np.count_nonzero(\n",
      "C:\\ProgramData\\Anaconda3\\lib\\site-packages\\autots\\models\\base.py:558: RuntimeWarning: invalid value encountered in true_divide\n",
      "  smape_cons = (np.nansum(wsmape_df, axis=1) * 200) / np.count_nonzero(\n",
      "C:\\ProgramData\\Anaconda3\\lib\\site-packages\\autots\\models\\base.py:558: RuntimeWarning: invalid value encountered in true_divide\n",
      "  smape_cons = (np.nansum(wsmape_df, axis=1) * 200) / np.count_nonzero(\n",
      "C:\\ProgramData\\Anaconda3\\lib\\site-packages\\autots\\models\\base.py:558: RuntimeWarning: invalid value encountered in true_divide\n",
      "  smape_cons = (np.nansum(wsmape_df, axis=1) * 200) / np.count_nonzero(\n",
      "C:\\ProgramData\\Anaconda3\\lib\\site-packages\\autots\\models\\base.py:558: RuntimeWarning: invalid value encountered in true_divide\n",
      "  smape_cons = (np.nansum(wsmape_df, axis=1) * 200) / np.count_nonzero(\n",
      "C:\\ProgramData\\Anaconda3\\lib\\site-packages\\autots\\models\\base.py:558: RuntimeWarning: invalid value encountered in true_divide\n",
      "  smape_cons = (np.nansum(wsmape_df, axis=1) * 200) / np.count_nonzero(\n"
     ]
    },
    {
     "name": "stdout",
     "output_type": "stream",
     "text": [
      "25 - LastValueNaive with avg smape 3.39: \n",
      "Model Number: 26 of 130 with model LastValueNaive for Validation 2\n",
      "26 - LastValueNaive with avg smape 3.39: \n",
      "Model Number: 27 of 130 with model LastValueNaive for Validation 2\n",
      "27 - LastValueNaive with avg smape 3.39: \n",
      "Model Number: 28 of 130 with model Theta for Validation 2\n"
     ]
    },
    {
     "name": "stderr",
     "output_type": "stream",
     "text": [
      "C:\\ProgramData\\Anaconda3\\lib\\site-packages\\autots\\models\\base.py:558: RuntimeWarning: invalid value encountered in true_divide\n",
      "  smape_cons = (np.nansum(wsmape_df, axis=1) * 200) / np.count_nonzero(\n",
      "C:\\ProgramData\\Anaconda3\\lib\\site-packages\\autots\\models\\base.py:558: RuntimeWarning: invalid value encountered in true_divide\n",
      "  smape_cons = (np.nansum(wsmape_df, axis=1) * 200) / np.count_nonzero(\n",
      "C:\\ProgramData\\Anaconda3\\lib\\site-packages\\autots\\models\\base.py:558: RuntimeWarning: invalid value encountered in true_divide\n",
      "  smape_cons = (np.nansum(wsmape_df, axis=1) * 200) / np.count_nonzero(\n"
     ]
    },
    {
     "name": "stdout",
     "output_type": "stream",
     "text": [
      "28 - Theta with avg smape 3.6: \n",
      "Model Number: 29 of 130 with model NVAR for Validation 2\n",
      "29 - NVAR with avg smape 4.26: \n",
      "Model Number: 30 of 130 with model NVAR for Validation 2\n",
      "📈 30 - NVAR with avg smape 2.11: \n",
      "Model Number: 31 of 130 with model AverageValueNaive for Validation 2\n",
      "31 - AverageValueNaive with avg smape 4.0: \n",
      "Model Number: 32 of 130 with model NVAR for Validation 2\n",
      "📈 32 - NVAR with avg smape 1.77: \n",
      "Model Number: 33 of 130 with model NVAR for Validation 2\n"
     ]
    },
    {
     "name": "stderr",
     "output_type": "stream",
     "text": [
      "C:\\ProgramData\\Anaconda3\\lib\\site-packages\\autots\\models\\base.py:558: RuntimeWarning: invalid value encountered in true_divide\n",
      "  smape_cons = (np.nansum(wsmape_df, axis=1) * 200) / np.count_nonzero(\n",
      "C:\\ProgramData\\Anaconda3\\lib\\site-packages\\autots\\models\\base.py:558: RuntimeWarning: invalid value encountered in true_divide\n",
      "  smape_cons = (np.nansum(wsmape_df, axis=1) * 200) / np.count_nonzero(\n",
      "C:\\ProgramData\\Anaconda3\\lib\\site-packages\\autots\\models\\base.py:558: RuntimeWarning: invalid value encountered in true_divide\n",
      "  smape_cons = (np.nansum(wsmape_df, axis=1) * 200) / np.count_nonzero(\n",
      "C:\\ProgramData\\Anaconda3\\lib\\site-packages\\autots\\models\\base.py:558: RuntimeWarning: invalid value encountered in true_divide\n",
      "  smape_cons = (np.nansum(wsmape_df, axis=1) * 200) / np.count_nonzero(\n",
      "C:\\ProgramData\\Anaconda3\\lib\\site-packages\\autots\\models\\base.py:558: RuntimeWarning: invalid value encountered in true_divide\n",
      "  smape_cons = (np.nansum(wsmape_df, axis=1) * 200) / np.count_nonzero(\n"
     ]
    },
    {
     "name": "stdout",
     "output_type": "stream",
     "text": [
      "33 - NVAR with avg smape 2.78: \n",
      "Model Number: 34 of 130 with model Theta for Validation 2\n"
     ]
    },
    {
     "name": "stderr",
     "output_type": "stream",
     "text": [
      "C:\\ProgramData\\Anaconda3\\lib\\site-packages\\autots\\models\\base.py:558: RuntimeWarning: invalid value encountered in true_divide\n",
      "  smape_cons = (np.nansum(wsmape_df, axis=1) * 200) / np.count_nonzero(\n"
     ]
    },
    {
     "name": "stdout",
     "output_type": "stream",
     "text": [
      "34 - Theta with avg smape 5.11: \n",
      "Model Number: 35 of 130 with model Theta for Validation 2\n",
      "35 - Theta with avg smape 4.94: \n",
      "Model Number: 36 of 130 with model DatepartRegression for Validation 2\n",
      "36 - DatepartRegression with avg smape 7.01: \n",
      "Model Number: 37 of 130 with model NVAR for Validation 2\n",
      "37 - NVAR with avg smape 1.77: \n",
      "Model Number: 38 of 130 with model NVAR for Validation 2\n",
      "38 - NVAR with avg smape 1.97: \n",
      "Model Number: 39 of 130 with model SectionalMotif for Validation 2\n"
     ]
    },
    {
     "name": "stderr",
     "output_type": "stream",
     "text": [
      "C:\\ProgramData\\Anaconda3\\lib\\site-packages\\autots\\models\\base.py:558: RuntimeWarning: invalid value encountered in true_divide\n",
      "  smape_cons = (np.nansum(wsmape_df, axis=1) * 200) / np.count_nonzero(\n",
      "C:\\ProgramData\\Anaconda3\\lib\\site-packages\\autots\\models\\base.py:558: RuntimeWarning: invalid value encountered in true_divide\n",
      "  smape_cons = (np.nansum(wsmape_df, axis=1) * 200) / np.count_nonzero(\n",
      "C:\\ProgramData\\Anaconda3\\lib\\site-packages\\autots\\models\\base.py:558: RuntimeWarning: invalid value encountered in true_divide\n",
      "  smape_cons = (np.nansum(wsmape_df, axis=1) * 200) / np.count_nonzero(\n",
      "C:\\ProgramData\\Anaconda3\\lib\\site-packages\\autots\\models\\base.py:558: RuntimeWarning: invalid value encountered in true_divide\n",
      "  smape_cons = (np.nansum(wsmape_df, axis=1) * 200) / np.count_nonzero(\n",
      "C:\\ProgramData\\Anaconda3\\lib\\site-packages\\autots\\models\\base.py:558: RuntimeWarning: invalid value encountered in true_divide\n",
      "  smape_cons = (np.nansum(wsmape_df, axis=1) * 200) / np.count_nonzero(\n"
     ]
    },
    {
     "name": "stdout",
     "output_type": "stream",
     "text": [
      "39 - SectionalMotif with avg smape 4.32: \n",
      "Model Number: 40 of 130 with model Theta for Validation 2\n",
      "40 - Theta with avg smape 3.35: \n",
      "Model Number: 41 of 130 with model UnivariateMotif for Validation 2\n",
      "41 - UnivariateMotif with avg smape 3.45: \n",
      "Model Number: 42 of 130 with model ETS for Validation 2\n",
      "ETS error ValueError('endog must be strictly positive when usingmultiplicative trend or seasonal components.')\n",
      "ETS failed on Close with ValueError('endog must be strictly positive when usingmultiplicative trend or seasonal components.')\n",
      "42 - ETS with avg smape 3.39: \n",
      "Model Number: 43 of 130 with model ETS for Validation 2\n",
      "ETS error ValueError('endog must be strictly positive when usingmultiplicative trend or seasonal components.')\n",
      "ETS failed on Close with ValueError('endog must be strictly positive when usingmultiplicative trend or seasonal components.')\n",
      "43 - ETS with avg smape 3.39: \n",
      "Model Number: 44 of 130 with model ETS for Validation 2\n",
      "ETS error ValueError('endog must be strictly positive when usingmultiplicative trend or seasonal components.')\n",
      "ETS failed on Close with ValueError('endog must be strictly positive when usingmultiplicative trend or seasonal components.')\n"
     ]
    },
    {
     "name": "stderr",
     "output_type": "stream",
     "text": [
      "C:\\ProgramData\\Anaconda3\\lib\\site-packages\\autots\\models\\base.py:558: RuntimeWarning: invalid value encountered in true_divide\n",
      "  smape_cons = (np.nansum(wsmape_df, axis=1) * 200) / np.count_nonzero(\n",
      "C:\\ProgramData\\Anaconda3\\lib\\site-packages\\autots\\models\\base.py:558: RuntimeWarning: invalid value encountered in true_divide\n",
      "  smape_cons = (np.nansum(wsmape_df, axis=1) * 200) / np.count_nonzero(\n",
      "C:\\ProgramData\\Anaconda3\\lib\\site-packages\\autots\\models\\base.py:558: RuntimeWarning: invalid value encountered in true_divide\n",
      "  smape_cons = (np.nansum(wsmape_df, axis=1) * 200) / np.count_nonzero(\n",
      "C:\\ProgramData\\Anaconda3\\lib\\site-packages\\autots\\models\\base.py:558: RuntimeWarning: invalid value encountered in true_divide\n",
      "  smape_cons = (np.nansum(wsmape_df, axis=1) * 200) / np.count_nonzero(\n"
     ]
    },
    {
     "name": "stdout",
     "output_type": "stream",
     "text": [
      "44 - ETS with avg smape 3.39: \n",
      "Model Number: 45 of 130 with model NVAR for Validation 2\n",
      "45 - NVAR with avg smape 2.09: \n",
      "Model Number: 46 of 130 with model UnivariateMotif for Validation 2\n",
      "46 - UnivariateMotif with avg smape 13.56: \n",
      "Model Number: 47 of 130 with model UnivariateMotif for Validation 2\n",
      "47 - UnivariateMotif with avg smape 13.56: \n",
      "Model Number: 48 of 130 with model AverageValueNaive for Validation 2\n"
     ]
    },
    {
     "name": "stderr",
     "output_type": "stream",
     "text": [
      "C:\\ProgramData\\Anaconda3\\lib\\site-packages\\autots\\models\\base.py:558: RuntimeWarning: invalid value encountered in true_divide\n",
      "  smape_cons = (np.nansum(wsmape_df, axis=1) * 200) / np.count_nonzero(\n",
      "C:\\ProgramData\\Anaconda3\\lib\\site-packages\\autots\\models\\base.py:558: RuntimeWarning: invalid value encountered in true_divide\n",
      "  smape_cons = (np.nansum(wsmape_df, axis=1) * 200) / np.count_nonzero(\n",
      "C:\\ProgramData\\Anaconda3\\lib\\site-packages\\autots\\models\\base.py:558: RuntimeWarning: invalid value encountered in true_divide\n",
      "  smape_cons = (np.nansum(wsmape_df, axis=1) * 200) / np.count_nonzero(\n",
      "C:\\ProgramData\\Anaconda3\\lib\\site-packages\\autots\\models\\base.py:558: RuntimeWarning: invalid value encountered in true_divide\n",
      "  smape_cons = (np.nansum(wsmape_df, axis=1) * 200) / np.count_nonzero(\n"
     ]
    },
    {
     "name": "stdout",
     "output_type": "stream",
     "text": [
      "48 - AverageValueNaive with avg smape 4.38: \n",
      "Model Number: 49 of 130 with model UnivariateMotif for Validation 2\n",
      "49 - UnivariateMotif with avg smape 10.42: \n",
      "Model Number: 50 of 130 with model AverageValueNaive for Validation 2\n",
      "50 - AverageValueNaive with avg smape 2.63: \n",
      "Model Number: 51 of 130 with model AverageValueNaive for Validation 2\n",
      "51 - AverageValueNaive with avg smape 2.74: \n",
      "Model Number: 52 of 130 with model ConstantNaive for Validation 2\n",
      "52 - ConstantNaive with avg smape 9.99: \n",
      "Model Number: 53 of 130 with model SectionalMotif for Validation 2\n"
     ]
    },
    {
     "name": "stderr",
     "output_type": "stream",
     "text": [
      "C:\\ProgramData\\Anaconda3\\lib\\site-packages\\autots\\models\\base.py:558: RuntimeWarning: invalid value encountered in true_divide\n",
      "  smape_cons = (np.nansum(wsmape_df, axis=1) * 200) / np.count_nonzero(\n",
      "C:\\ProgramData\\Anaconda3\\lib\\site-packages\\autots\\models\\base.py:558: RuntimeWarning: invalid value encountered in true_divide\n",
      "  smape_cons = (np.nansum(wsmape_df, axis=1) * 200) / np.count_nonzero(\n",
      "C:\\ProgramData\\Anaconda3\\lib\\site-packages\\autots\\models\\base.py:558: RuntimeWarning: invalid value encountered in true_divide\n",
      "  smape_cons = (np.nansum(wsmape_df, axis=1) * 200) / np.count_nonzero(\n",
      "C:\\ProgramData\\Anaconda3\\lib\\site-packages\\autots\\models\\base.py:558: RuntimeWarning: invalid value encountered in true_divide\n",
      "  smape_cons = (np.nansum(wsmape_df, axis=1) * 200) / np.count_nonzero(\n",
      "C:\\ProgramData\\Anaconda3\\lib\\site-packages\\autots\\models\\base.py:558: RuntimeWarning: invalid value encountered in true_divide\n",
      "  smape_cons = (np.nansum(wsmape_df, axis=1) * 200) / np.count_nonzero(\n"
     ]
    },
    {
     "name": "stdout",
     "output_type": "stream",
     "text": [
      "53 - SectionalMotif with avg smape 7.41: \n",
      "Model Number: 54 of 130 with model SectionalMotif for Validation 2\n",
      "54 - SectionalMotif with avg smape 7.43: \n",
      "Model Number: 55 of 130 with model ConstantNaive for Validation 2\n",
      "55 - ConstantNaive with avg smape 11.1: \n",
      "Model Number: 56 of 130 with model ConstantNaive for Validation 2\n",
      "56 - ConstantNaive with avg smape 10.31: \n",
      "Model Number: 57 of 130 with model WindowRegression for Validation 2\n",
      "57 - WindowRegression with avg smape 2.1: \n",
      "Model Number: 58 of 130 with model MultivariateRegression for Validation 2\n"
     ]
    },
    {
     "name": "stderr",
     "output_type": "stream",
     "text": [
      "C:\\ProgramData\\Anaconda3\\lib\\site-packages\\autots\\models\\base.py:558: RuntimeWarning: invalid value encountered in true_divide\n",
      "  smape_cons = (np.nansum(wsmape_df, axis=1) * 200) / np.count_nonzero(\n",
      "C:\\ProgramData\\Anaconda3\\lib\\site-packages\\autots\\models\\base.py:558: RuntimeWarning: invalid value encountered in true_divide\n",
      "  smape_cons = (np.nansum(wsmape_df, axis=1) * 200) / np.count_nonzero(\n",
      "C:\\ProgramData\\Anaconda3\\lib\\site-packages\\autots\\models\\base.py:558: RuntimeWarning: invalid value encountered in true_divide\n",
      "  smape_cons = (np.nansum(wsmape_df, axis=1) * 200) / np.count_nonzero(\n",
      "C:\\ProgramData\\Anaconda3\\lib\\site-packages\\autots\\models\\base.py:558: RuntimeWarning: invalid value encountered in true_divide\n",
      "  smape_cons = (np.nansum(wsmape_df, axis=1) * 200) / np.count_nonzero(\n",
      "C:\\ProgramData\\Anaconda3\\lib\\site-packages\\autots\\models\\base.py:558: RuntimeWarning: invalid value encountered in true_divide\n",
      "  smape_cons = (np.nansum(wsmape_df, axis=1) * 200) / np.count_nonzero(\n"
     ]
    },
    {
     "name": "stdout",
     "output_type": "stream",
     "text": [
      "58 - MultivariateRegression with avg smape 2.83: \n",
      "Model Number: 59 of 130 with model AverageValueNaive for Validation 2\n",
      "59 - AverageValueNaive with avg smape 3.1: \n",
      "Model Number: 60 of 130 with model ConstantNaive for Validation 2\n",
      "60 - ConstantNaive with avg smape 8.81: \n",
      "Model Number: 61 of 130 with model AverageValueNaive for Validation 2\n"
     ]
    },
    {
     "name": "stderr",
     "output_type": "stream",
     "text": [
      "C:\\ProgramData\\Anaconda3\\lib\\site-packages\\autots\\models\\base.py:558: RuntimeWarning: invalid value encountered in true_divide\n",
      "  smape_cons = (np.nansum(wsmape_df, axis=1) * 200) / np.count_nonzero(\n",
      "C:\\ProgramData\\Anaconda3\\lib\\site-packages\\autots\\models\\base.py:558: RuntimeWarning: invalid value encountered in true_divide\n",
      "  smape_cons = (np.nansum(wsmape_df, axis=1) * 200) / np.count_nonzero(\n",
      "C:\\ProgramData\\Anaconda3\\lib\\site-packages\\autots\\models\\base.py:558: RuntimeWarning: invalid value encountered in true_divide\n",
      "  smape_cons = (np.nansum(wsmape_df, axis=1) * 200) / np.count_nonzero(\n",
      "C:\\ProgramData\\Anaconda3\\lib\\site-packages\\autots\\models\\base.py:558: RuntimeWarning: invalid value encountered in true_divide\n",
      "  smape_cons = (np.nansum(wsmape_df, axis=1) * 200) / np.count_nonzero(\n"
     ]
    },
    {
     "name": "stdout",
     "output_type": "stream",
     "text": [
      "61 - AverageValueNaive with avg smape 3.23: \n",
      "Model Number: 62 of 130 with model MultivariateRegression for Validation 2\n",
      "62 - MultivariateRegression with avg smape 9.81: \n",
      "Model Number: 63 of 130 with model ETS for Validation 2\n",
      "63 - ETS with avg smape 2.54: \n",
      "Model Number: 64 of 130 with model GLS for Validation 2\n"
     ]
    },
    {
     "name": "stderr",
     "output_type": "stream",
     "text": [
      "C:\\ProgramData\\Anaconda3\\lib\\site-packages\\autots\\models\\base.py:558: RuntimeWarning: invalid value encountered in true_divide\n",
      "  smape_cons = (np.nansum(wsmape_df, axis=1) * 200) / np.count_nonzero(\n",
      "C:\\ProgramData\\Anaconda3\\lib\\site-packages\\autots\\models\\base.py:558: RuntimeWarning: invalid value encountered in true_divide\n",
      "  smape_cons = (np.nansum(wsmape_df, axis=1) * 200) / np.count_nonzero(\n",
      "C:\\ProgramData\\Anaconda3\\lib\\site-packages\\autots\\models\\base.py:558: RuntimeWarning: invalid value encountered in true_divide\n",
      "  smape_cons = (np.nansum(wsmape_df, axis=1) * 200) / np.count_nonzero(\n"
     ]
    },
    {
     "name": "stdout",
     "output_type": "stream",
     "text": [
      "64 - GLS with avg smape 2.64: \n",
      "Model Number: 65 of 130 with model UnobservedComponents for Validation 2\n",
      "65 - UnobservedComponents with avg smape 10.08: \n",
      "Model Number: 66 of 130 with model UnobservedComponents for Validation 2\n"
     ]
    },
    {
     "name": "stderr",
     "output_type": "stream",
     "text": [
      "C:\\ProgramData\\Anaconda3\\lib\\site-packages\\autots\\models\\base.py:558: RuntimeWarning: invalid value encountered in true_divide\n",
      "  smape_cons = (np.nansum(wsmape_df, axis=1) * 200) / np.count_nonzero(\n",
      "C:\\ProgramData\\Anaconda3\\lib\\site-packages\\autots\\models\\base.py:558: RuntimeWarning: invalid value encountered in true_divide\n",
      "  smape_cons = (np.nansum(wsmape_df, axis=1) * 200) / np.count_nonzero(\n"
     ]
    },
    {
     "name": "stdout",
     "output_type": "stream",
     "text": [
      "66 - UnobservedComponents with avg smape 10.08: \n",
      "Model Number: 67 of 130 with model UnobservedComponents for Validation 2\n"
     ]
    },
    {
     "name": "stderr",
     "output_type": "stream",
     "text": [
      "C:\\ProgramData\\Anaconda3\\lib\\site-packages\\autots\\models\\base.py:558: RuntimeWarning: invalid value encountered in true_divide\n",
      "  smape_cons = (np.nansum(wsmape_df, axis=1) * 200) / np.count_nonzero(\n"
     ]
    },
    {
     "name": "stdout",
     "output_type": "stream",
     "text": [
      "67 - UnobservedComponents with avg smape 10.08: \n",
      "Model Number: 68 of 130 with model UnobservedComponents for Validation 2\n",
      "68 - UnobservedComponents with avg smape 10.08: \n",
      "Model Number: 69 of 130 with model UnobservedComponents for Validation 2\n",
      "69 - UnobservedComponents with avg smape 10.08: \n",
      "Model Number: 70 of 130 with model ConstantNaive for Validation 2\n",
      "70 - ConstantNaive with avg smape 7.43: \n",
      "Model Number: 71 of 130 with model SeasonalNaive for Validation 2\n",
      "71 - SeasonalNaive with avg smape 3.64: \n",
      "Model Number: 72 of 130 with model GLM for Validation 2\n"
     ]
    },
    {
     "name": "stderr",
     "output_type": "stream",
     "text": [
      "C:\\ProgramData\\Anaconda3\\lib\\site-packages\\autots\\models\\base.py:558: RuntimeWarning: invalid value encountered in true_divide\n",
      "  smape_cons = (np.nansum(wsmape_df, axis=1) * 200) / np.count_nonzero(\n",
      "C:\\ProgramData\\Anaconda3\\lib\\site-packages\\autots\\models\\base.py:558: RuntimeWarning: invalid value encountered in true_divide\n",
      "  smape_cons = (np.nansum(wsmape_df, axis=1) * 200) / np.count_nonzero(\n",
      "C:\\ProgramData\\Anaconda3\\lib\\site-packages\\autots\\models\\base.py:558: RuntimeWarning: invalid value encountered in true_divide\n",
      "  smape_cons = (np.nansum(wsmape_df, axis=1) * 200) / np.count_nonzero(\n",
      "C:\\ProgramData\\Anaconda3\\lib\\site-packages\\autots\\models\\base.py:558: RuntimeWarning: invalid value encountered in true_divide\n",
      "  smape_cons = (np.nansum(wsmape_df, axis=1) * 200) / np.count_nonzero(\n",
      "C:\\ProgramData\\Anaconda3\\lib\\site-packages\\statsmodels\\genmod\\families\\family.py:1227: RuntimeWarning: divide by zero encountered in true_divide\n",
      "  endog_mu = self._clean(endog / mu)\n"
     ]
    },
    {
     "name": "stdout",
     "output_type": "stream",
     "text": [
      "72 - GLM with avg smape 2.64: \n",
      "Model Number: 73 of 130 with model GLS for Validation 2\n",
      "73 - GLS with avg smape 7.8: \n",
      "Model Number: 74 of 130 with model UnobservedComponents for Validation 2\n"
     ]
    },
    {
     "name": "stderr",
     "output_type": "stream",
     "text": [
      "C:\\ProgramData\\Anaconda3\\lib\\site-packages\\autots\\models\\base.py:558: RuntimeWarning: invalid value encountered in true_divide\n",
      "  smape_cons = (np.nansum(wsmape_df, axis=1) * 200) / np.count_nonzero(\n",
      "C:\\ProgramData\\Anaconda3\\lib\\site-packages\\autots\\models\\base.py:558: RuntimeWarning: invalid value encountered in true_divide\n",
      "  smape_cons = (np.nansum(wsmape_df, axis=1) * 200) / np.count_nonzero(\n"
     ]
    },
    {
     "name": "stdout",
     "output_type": "stream",
     "text": [
      "74 - UnobservedComponents with avg smape 2.98: \n",
      "Model Number: 75 of 130 with model ConstantNaive for Validation 2\n",
      "75 - ConstantNaive with avg smape 3.46: \n",
      "Model Number: 76 of 130 with model ConstantNaive for Validation 2\n",
      "76 - ConstantNaive with avg smape 8.7: \n",
      "Model Number: 77 of 130 with model MultivariateMotif for Validation 2\n",
      "77 - MultivariateMotif with avg smape 3.91: \n",
      "Model Number: 78 of 130 with model UnivariateMotif for Validation 2\n"
     ]
    },
    {
     "name": "stderr",
     "output_type": "stream",
     "text": [
      "C:\\ProgramData\\Anaconda3\\lib\\site-packages\\autots\\models\\base.py:558: RuntimeWarning: invalid value encountered in true_divide\n",
      "  smape_cons = (np.nansum(wsmape_df, axis=1) * 200) / np.count_nonzero(\n",
      "C:\\ProgramData\\Anaconda3\\lib\\site-packages\\autots\\models\\base.py:558: RuntimeWarning: invalid value encountered in true_divide\n",
      "  smape_cons = (np.nansum(wsmape_df, axis=1) * 200) / np.count_nonzero(\n",
      "C:\\ProgramData\\Anaconda3\\lib\\site-packages\\autots\\models\\base.py:558: RuntimeWarning: invalid value encountered in true_divide\n",
      "  smape_cons = (np.nansum(wsmape_df, axis=1) * 200) / np.count_nonzero(\n",
      "C:\\ProgramData\\Anaconda3\\lib\\site-packages\\autots\\models\\base.py:558: RuntimeWarning: invalid value encountered in true_divide\n",
      "  smape_cons = (np.nansum(wsmape_df, axis=1) * 200) / np.count_nonzero(\n",
      "C:\\ProgramData\\Anaconda3\\lib\\site-packages\\autots\\models\\base.py:558: RuntimeWarning: invalid value encountered in true_divide\n",
      "  smape_cons = (np.nansum(wsmape_df, axis=1) * 200) / np.count_nonzero(\n"
     ]
    },
    {
     "name": "stdout",
     "output_type": "stream",
     "text": [
      "78 - UnivariateMotif with avg smape 3.12: \n",
      "Model Number: 79 of 130 with model MultivariateRegression for Validation 2\n",
      "79 - MultivariateRegression with avg smape 2.14: \n",
      "Model Number: 80 of 130 with model ETS for Validation 2\n",
      "80 - ETS with avg smape 2.79: \n",
      "Model Number: 81 of 130 with model SectionalMotif for Validation 2\n",
      "81 - SectionalMotif with avg smape 4.07: \n",
      "Model Number: 82 of 130 with model ConstantNaive for Validation 2\n"
     ]
    },
    {
     "name": "stderr",
     "output_type": "stream",
     "text": [
      "C:\\ProgramData\\Anaconda3\\lib\\site-packages\\autots\\models\\base.py:558: RuntimeWarning: invalid value encountered in true_divide\n",
      "  smape_cons = (np.nansum(wsmape_df, axis=1) * 200) / np.count_nonzero(\n",
      "C:\\ProgramData\\Anaconda3\\lib\\site-packages\\autots\\models\\base.py:558: RuntimeWarning: invalid value encountered in true_divide\n",
      "  smape_cons = (np.nansum(wsmape_df, axis=1) * 200) / np.count_nonzero(\n",
      "C:\\ProgramData\\Anaconda3\\lib\\site-packages\\autots\\models\\base.py:558: RuntimeWarning: invalid value encountered in true_divide\n",
      "  smape_cons = (np.nansum(wsmape_df, axis=1) * 200) / np.count_nonzero(\n",
      "C:\\ProgramData\\Anaconda3\\lib\\site-packages\\autots\\models\\base.py:558: RuntimeWarning: invalid value encountered in true_divide\n",
      "  smape_cons = (np.nansum(wsmape_df, axis=1) * 200) / np.count_nonzero(\n"
     ]
    },
    {
     "name": "stdout",
     "output_type": "stream",
     "text": [
      "82 - ConstantNaive with avg smape 7.74: \n",
      "Model Number: 83 of 130 with model UnobservedComponents for Validation 2\n",
      "83 - UnobservedComponents with avg smape 3.44: \n",
      "Model Number: 84 of 130 with model WindowRegression for Validation 2\n",
      "84 - WindowRegression with avg smape 2.73: \n",
      "Model Number: 85 of 130 with model AverageValueNaive for Validation 2\n"
     ]
    },
    {
     "name": "stderr",
     "output_type": "stream",
     "text": [
      "C:\\ProgramData\\Anaconda3\\lib\\site-packages\\autots\\models\\base.py:558: RuntimeWarning: invalid value encountered in true_divide\n",
      "  smape_cons = (np.nansum(wsmape_df, axis=1) * 200) / np.count_nonzero(\n",
      "C:\\ProgramData\\Anaconda3\\lib\\site-packages\\autots\\models\\base.py:558: RuntimeWarning: invalid value encountered in true_divide\n",
      "  smape_cons = (np.nansum(wsmape_df, axis=1) * 200) / np.count_nonzero(\n",
      "C:\\ProgramData\\Anaconda3\\lib\\site-packages\\autots\\models\\base.py:558: RuntimeWarning: invalid value encountered in true_divide\n",
      "  smape_cons = (np.nansum(wsmape_df, axis=1) * 200) / np.count_nonzero(\n"
     ]
    },
    {
     "name": "stdout",
     "output_type": "stream",
     "text": [
      "85 - AverageValueNaive with avg smape 10.44: \n",
      "Model Number: 86 of 130 with model WindowRegression for Validation 2\n",
      "86 - WindowRegression with avg smape 4.45: \n",
      "Model Number: 87 of 130 with model UnobservedComponents for Validation 2\n",
      "87 - UnobservedComponents with avg smape 4.29: \n",
      "Model Number: 88 of 130 with model SeasonalNaive for Validation 2\n"
     ]
    },
    {
     "name": "stderr",
     "output_type": "stream",
     "text": [
      "C:\\ProgramData\\Anaconda3\\lib\\site-packages\\autots\\models\\base.py:558: RuntimeWarning: invalid value encountered in true_divide\n",
      "  smape_cons = (np.nansum(wsmape_df, axis=1) * 200) / np.count_nonzero(\n",
      "C:\\ProgramData\\Anaconda3\\lib\\site-packages\\autots\\models\\base.py:558: RuntimeWarning: invalid value encountered in true_divide\n",
      "  smape_cons = (np.nansum(wsmape_df, axis=1) * 200) / np.count_nonzero(\n",
      "C:\\ProgramData\\Anaconda3\\lib\\site-packages\\autots\\models\\base.py:558: RuntimeWarning: invalid value encountered in true_divide\n",
      "  smape_cons = (np.nansum(wsmape_df, axis=1) * 200) / np.count_nonzero(\n"
     ]
    },
    {
     "name": "stdout",
     "output_type": "stream",
     "text": [
      "88 - SeasonalNaive with avg smape 2.89: \n",
      "Model Number: 89 of 130 with model ETS for Validation 2\n",
      "89 - ETS with avg smape 2.82: \n",
      "Model Number: 90 of 130 with model SeasonalNaive for Validation 2\n",
      "90 - SeasonalNaive with avg smape 2.95: \n",
      "Model Number: 91 of 130 with model WindowRegression for Validation 2\n"
     ]
    },
    {
     "name": "stderr",
     "output_type": "stream",
     "text": [
      "C:\\ProgramData\\Anaconda3\\lib\\site-packages\\autots\\models\\base.py:558: RuntimeWarning: invalid value encountered in true_divide\n",
      "  smape_cons = (np.nansum(wsmape_df, axis=1) * 200) / np.count_nonzero(\n",
      "C:\\ProgramData\\Anaconda3\\lib\\site-packages\\autots\\models\\base.py:558: RuntimeWarning: invalid value encountered in true_divide\n",
      "  smape_cons = (np.nansum(wsmape_df, axis=1) * 200) / np.count_nonzero(\n",
      "C:\\ProgramData\\Anaconda3\\lib\\site-packages\\autots\\models\\base.py:558: RuntimeWarning: invalid value encountered in true_divide\n",
      "  smape_cons = (np.nansum(wsmape_df, axis=1) * 200) / np.count_nonzero(\n"
     ]
    },
    {
     "name": "stdout",
     "output_type": "stream",
     "text": [
      "91 - WindowRegression with avg smape 2.44: \n",
      "Model Number: 92 of 130 with model DatepartRegression for Validation 2\n",
      "92 - DatepartRegression with avg smape 3.67: \n",
      "Model Number: 93 of 130 with model UnivariateMotif for Validation 2\n",
      "93 - UnivariateMotif with avg smape 3.81: \n",
      "Model Number: 94 of 130 with model ETS for Validation 2\n",
      "94 - ETS with avg smape 3.4: \n",
      "Model Number: 95 of 130 with model SeasonalNaive for Validation 2\n"
     ]
    },
    {
     "name": "stderr",
     "output_type": "stream",
     "text": [
      "C:\\ProgramData\\Anaconda3\\lib\\site-packages\\autots\\models\\base.py:558: RuntimeWarning: invalid value encountered in true_divide\n",
      "  smape_cons = (np.nansum(wsmape_df, axis=1) * 200) / np.count_nonzero(\n",
      "C:\\ProgramData\\Anaconda3\\lib\\site-packages\\autots\\models\\base.py:558: RuntimeWarning: invalid value encountered in true_divide\n",
      "  smape_cons = (np.nansum(wsmape_df, axis=1) * 200) / np.count_nonzero(\n",
      "C:\\ProgramData\\Anaconda3\\lib\\site-packages\\autots\\models\\base.py:558: RuntimeWarning: invalid value encountered in true_divide\n",
      "  smape_cons = (np.nansum(wsmape_df, axis=1) * 200) / np.count_nonzero(\n"
     ]
    },
    {
     "name": "stdout",
     "output_type": "stream",
     "text": [
      "95 - SeasonalNaive with avg smape 2.62: \n",
      "Model Number: 96 of 130 with model DatepartRegression for Validation 2\n",
      "96 - DatepartRegression with avg smape 6.73: \n",
      "Model Number: 97 of 130 with model MultivariateRegression for Validation 2\n"
     ]
    },
    {
     "name": "stderr",
     "output_type": "stream",
     "text": [
      "C:\\ProgramData\\Anaconda3\\lib\\site-packages\\autots\\models\\base.py:558: RuntimeWarning: invalid value encountered in true_divide\n",
      "  smape_cons = (np.nansum(wsmape_df, axis=1) * 200) / np.count_nonzero(\n",
      "C:\\ProgramData\\Anaconda3\\lib\\site-packages\\autots\\models\\base.py:558: RuntimeWarning: invalid value encountered in true_divide\n",
      "  smape_cons = (np.nansum(wsmape_df, axis=1) * 200) / np.count_nonzero(\n"
     ]
    },
    {
     "name": "stdout",
     "output_type": "stream",
     "text": [
      "97 - MultivariateRegression with avg smape 4.14: \n",
      "Model Number: 98 of 130 with model ETS for Validation 2\n",
      "98 - ETS with avg smape 2.54: \n",
      "Model Number: 99 of 130 with model AverageValueNaive for Validation 2\n"
     ]
    },
    {
     "name": "stderr",
     "output_type": "stream",
     "text": [
      "C:\\ProgramData\\Anaconda3\\lib\\site-packages\\autots\\models\\base.py:558: RuntimeWarning: invalid value encountered in true_divide\n",
      "  smape_cons = (np.nansum(wsmape_df, axis=1) * 200) / np.count_nonzero(\n",
      "C:\\ProgramData\\Anaconda3\\lib\\site-packages\\autots\\models\\base.py:558: RuntimeWarning: invalid value encountered in true_divide\n",
      "  smape_cons = (np.nansum(wsmape_df, axis=1) * 200) / np.count_nonzero(\n",
      "C:\\ProgramData\\Anaconda3\\lib\\site-packages\\autots\\models\\base.py:558: RuntimeWarning: invalid value encountered in true_divide\n",
      "  smape_cons = (np.nansum(wsmape_df, axis=1) * 200) / np.count_nonzero(\n"
     ]
    },
    {
     "name": "stdout",
     "output_type": "stream",
     "text": [
      "99 - AverageValueNaive with avg smape 5.45: \n",
      "Model Number: 100 of 130 with model SeasonalNaive for Validation 2\n",
      "100 - SeasonalNaive with avg smape 2.54: \n",
      "Model Number: 101 of 130 with model UnivariateMotif for Validation 2\n",
      "101 - UnivariateMotif with avg smape 2.54: \n",
      "Model Number: 102 of 130 with model WindowRegression for Validation 2\n",
      "102 - WindowRegression with avg smape 2.59: \n",
      "Model Number: 103 of 130 with model SeasonalNaive for Validation 2\n"
     ]
    },
    {
     "name": "stderr",
     "output_type": "stream",
     "text": [
      "C:\\ProgramData\\Anaconda3\\lib\\site-packages\\autots\\models\\base.py:558: RuntimeWarning: invalid value encountered in true_divide\n",
      "  smape_cons = (np.nansum(wsmape_df, axis=1) * 200) / np.count_nonzero(\n",
      "C:\\ProgramData\\Anaconda3\\lib\\site-packages\\autots\\models\\base.py:558: RuntimeWarning: invalid value encountered in true_divide\n",
      "  smape_cons = (np.nansum(wsmape_df, axis=1) * 200) / np.count_nonzero(\n",
      "C:\\ProgramData\\Anaconda3\\lib\\site-packages\\autots\\models\\base.py:558: RuntimeWarning: invalid value encountered in true_divide\n",
      "  smape_cons = (np.nansum(wsmape_df, axis=1) * 200) / np.count_nonzero(\n",
      "C:\\ProgramData\\Anaconda3\\lib\\site-packages\\autots\\models\\base.py:558: RuntimeWarning: invalid value encountered in true_divide\n",
      "  smape_cons = (np.nansum(wsmape_df, axis=1) * 200) / np.count_nonzero(\n"
     ]
    },
    {
     "name": "stdout",
     "output_type": "stream",
     "text": [
      "103 - SeasonalNaive with avg smape 3.43: \n",
      "Model Number: 104 of 130 with model MultivariateRegression for Validation 2\n"
     ]
    },
    {
     "name": "stderr",
     "output_type": "stream",
     "text": [
      "C:\\ProgramData\\Anaconda3\\lib\\site-packages\\autots\\models\\base.py:558: RuntimeWarning: invalid value encountered in true_divide\n",
      "  smape_cons = (np.nansum(wsmape_df, axis=1) * 200) / np.count_nonzero(\n"
     ]
    },
    {
     "name": "stdout",
     "output_type": "stream",
     "text": [
      "104 - MultivariateRegression with avg smape 2.3: \n",
      "Model Number: 105 of 130 with model MultivariateRegression for Validation 2\n",
      "105 - MultivariateRegression with avg smape 3.92: \n",
      "Model Number: 106 of 130 with model GLM for Validation 2\n",
      "106 - GLM with avg smape 9.27: \n",
      "Model Number: 107 of 130 with model WindowRegression for Validation 2\n",
      "107 - WindowRegression with avg smape 3.78: \n",
      "Model Number: 108 of 130 with model GLM for Validation 2\n"
     ]
    },
    {
     "name": "stderr",
     "output_type": "stream",
     "text": [
      "C:\\ProgramData\\Anaconda3\\lib\\site-packages\\autots\\models\\base.py:558: RuntimeWarning: invalid value encountered in true_divide\n",
      "  smape_cons = (np.nansum(wsmape_df, axis=1) * 200) / np.count_nonzero(\n",
      "C:\\ProgramData\\Anaconda3\\lib\\site-packages\\autots\\models\\base.py:558: RuntimeWarning: invalid value encountered in true_divide\n",
      "  smape_cons = (np.nansum(wsmape_df, axis=1) * 200) / np.count_nonzero(\n",
      "C:\\ProgramData\\Anaconda3\\lib\\site-packages\\autots\\models\\base.py:558: RuntimeWarning: invalid value encountered in true_divide\n",
      "  smape_cons = (np.nansum(wsmape_df, axis=1) * 200) / np.count_nonzero(\n",
      "C:\\ProgramData\\Anaconda3\\lib\\site-packages\\autots\\models\\base.py:558: RuntimeWarning: invalid value encountered in true_divide\n",
      "  smape_cons = (np.nansum(wsmape_df, axis=1) * 200) / np.count_nonzero(\n"
     ]
    },
    {
     "name": "stdout",
     "output_type": "stream",
     "text": [
      "108 - GLM with avg smape 9.18: \n",
      "Model Number: 109 of 130 with model GLM for Validation 2\n",
      "109 - GLM with avg smape 8.61: \n",
      "Model Number: 110 of 130 with model GLM for Validation 2\n",
      "110 - GLM with avg smape 9.21: \n",
      "Model Number: 111 of 130 with model GLM for Validation 2\n",
      "111 - GLM with avg smape 9.23: \n",
      "Model Number: 112 of 130 with model GLM for Validation 2\n"
     ]
    },
    {
     "name": "stderr",
     "output_type": "stream",
     "text": [
      "C:\\ProgramData\\Anaconda3\\lib\\site-packages\\autots\\models\\base.py:558: RuntimeWarning: invalid value encountered in true_divide\n",
      "  smape_cons = (np.nansum(wsmape_df, axis=1) * 200) / np.count_nonzero(\n",
      "C:\\ProgramData\\Anaconda3\\lib\\site-packages\\autots\\models\\base.py:558: RuntimeWarning: invalid value encountered in true_divide\n",
      "  smape_cons = (np.nansum(wsmape_df, axis=1) * 200) / np.count_nonzero(\n",
      "C:\\ProgramData\\Anaconda3\\lib\\site-packages\\autots\\models\\base.py:558: RuntimeWarning: invalid value encountered in true_divide\n",
      "  smape_cons = (np.nansum(wsmape_df, axis=1) * 200) / np.count_nonzero(\n"
     ]
    },
    {
     "name": "stdout",
     "output_type": "stream",
     "text": [
      "112 - GLM with avg smape 8.76: \n",
      "Model Number: 113 of 130 with model SeasonalNaive for Validation 2\n",
      "113 - SeasonalNaive with avg smape 2.7: \n",
      "Model Number: 114 of 130 with model SeasonalNaive for Validation 2\n",
      "114 - SeasonalNaive with avg smape 8.85: \n",
      "Model Number: 115 of 130 with model GLS for Validation 2\n"
     ]
    },
    {
     "name": "stderr",
     "output_type": "stream",
     "text": [
      "C:\\ProgramData\\Anaconda3\\lib\\site-packages\\autots\\models\\base.py:558: RuntimeWarning: invalid value encountered in true_divide\n",
      "  smape_cons = (np.nansum(wsmape_df, axis=1) * 200) / np.count_nonzero(\n",
      "C:\\ProgramData\\Anaconda3\\lib\\site-packages\\autots\\models\\base.py:558: RuntimeWarning: invalid value encountered in true_divide\n",
      "  smape_cons = (np.nansum(wsmape_df, axis=1) * 200) / np.count_nonzero(\n",
      "C:\\ProgramData\\Anaconda3\\lib\\site-packages\\autots\\models\\base.py:558: RuntimeWarning: invalid value encountered in true_divide\n",
      "  smape_cons = (np.nansum(wsmape_df, axis=1) * 200) / np.count_nonzero(\n"
     ]
    },
    {
     "name": "stdout",
     "output_type": "stream",
     "text": [
      "115 - GLS with avg smape 10.18: \n",
      "Model Number: 116 of 130 with model GLS for Validation 2\n",
      "116 - GLS with avg smape 9.65: \n",
      "Model Number: 117 of 130 with model MultivariateRegression for Validation 2\n"
     ]
    },
    {
     "name": "stderr",
     "output_type": "stream",
     "text": [
      "C:\\ProgramData\\Anaconda3\\lib\\site-packages\\autots\\models\\base.py:558: RuntimeWarning: invalid value encountered in true_divide\n",
      "  smape_cons = (np.nansum(wsmape_df, axis=1) * 200) / np.count_nonzero(\n",
      "C:\\ProgramData\\Anaconda3\\lib\\site-packages\\autots\\models\\base.py:558: RuntimeWarning: invalid value encountered in true_divide\n",
      "  smape_cons = (np.nansum(wsmape_df, axis=1) * 200) / np.count_nonzero(\n"
     ]
    },
    {
     "name": "stdout",
     "output_type": "stream",
     "text": [
      "117 - MultivariateRegression with avg smape 2.96: \n",
      "Model Number: 118 of 130 with model GLS for Validation 2\n",
      "118 - GLS with avg smape 7.41: \n",
      "Model Number: 119 of 130 with model WindowRegression for Validation 2\n"
     ]
    },
    {
     "name": "stderr",
     "output_type": "stream",
     "text": [
      "C:\\ProgramData\\Anaconda3\\lib\\site-packages\\autots\\models\\base.py:558: RuntimeWarning: invalid value encountered in true_divide\n",
      "  smape_cons = (np.nansum(wsmape_df, axis=1) * 200) / np.count_nonzero(\n",
      "C:\\ProgramData\\Anaconda3\\lib\\site-packages\\autots\\models\\base.py:558: RuntimeWarning: invalid value encountered in true_divide\n",
      "  smape_cons = (np.nansum(wsmape_df, axis=1) * 200) / np.count_nonzero(\n",
      "C:\\ProgramData\\Anaconda3\\lib\\site-packages\\sklearn\\svm\\_base.py:985: ConvergenceWarning: Liblinear failed to converge, increase the number of iterations.\n",
      "  warnings.warn(\"Liblinear failed to converge, increase \"\n"
     ]
    },
    {
     "name": "stdout",
     "output_type": "stream",
     "text": [
      "119 - WindowRegression with avg smape 3.51: \n",
      "Model Number: 120 of 130 with model UnivariateMotif for Validation 2\n",
      "120 - UnivariateMotif with avg smape 2.6: \n",
      "Model Number: 121 of 130 with model DatepartRegression for Validation 2\n"
     ]
    },
    {
     "name": "stderr",
     "output_type": "stream",
     "text": [
      "C:\\ProgramData\\Anaconda3\\lib\\site-packages\\autots\\models\\base.py:558: RuntimeWarning: invalid value encountered in true_divide\n",
      "  smape_cons = (np.nansum(wsmape_df, axis=1) * 200) / np.count_nonzero(\n",
      "C:\\ProgramData\\Anaconda3\\lib\\site-packages\\autots\\models\\base.py:558: RuntimeWarning: invalid value encountered in true_divide\n",
      "  smape_cons = (np.nansum(wsmape_df, axis=1) * 200) / np.count_nonzero(\n",
      "C:\\ProgramData\\Anaconda3\\lib\\site-packages\\autots\\models\\base.py:558: RuntimeWarning: invalid value encountered in true_divide\n",
      "  smape_cons = (np.nansum(wsmape_df, axis=1) * 200) / np.count_nonzero(\n"
     ]
    },
    {
     "name": "stdout",
     "output_type": "stream",
     "text": [
      "121 - DatepartRegression with avg smape 5.01: \n",
      "Model Number: 122 of 130 with model GLM for Validation 2\n",
      "122 - GLM with avg smape 7.2: \n",
      "Model Number: 123 of 130 with model WindowRegression for Validation 2\n",
      "123 - WindowRegression with avg smape 9.74: \n",
      "Model Number: 124 of 130 with model MultivariateMotif for Validation 2\n"
     ]
    },
    {
     "name": "stderr",
     "output_type": "stream",
     "text": [
      "C:\\ProgramData\\Anaconda3\\lib\\site-packages\\autots\\models\\base.py:558: RuntimeWarning: invalid value encountered in true_divide\n",
      "  smape_cons = (np.nansum(wsmape_df, axis=1) * 200) / np.count_nonzero(\n",
      "C:\\ProgramData\\Anaconda3\\lib\\site-packages\\autots\\models\\base.py:558: RuntimeWarning: invalid value encountered in true_divide\n",
      "  smape_cons = (np.nansum(wsmape_df, axis=1) * 200) / np.count_nonzero(\n",
      "C:\\ProgramData\\Anaconda3\\lib\\site-packages\\autots\\models\\base.py:558: RuntimeWarning: invalid value encountered in true_divide\n",
      "  smape_cons = (np.nansum(wsmape_df, axis=1) * 200) / np.count_nonzero(\n"
     ]
    },
    {
     "name": "stdout",
     "output_type": "stream",
     "text": [
      "124 - MultivariateMotif with avg smape 3.59: \n",
      "Model Number: 125 of 130 with model MultivariateMotif for Validation 2\n",
      "125 - MultivariateMotif with avg smape 4.44: \n",
      "Model Number: 126 of 130 with model MultivariateMotif for Validation 2\n",
      "126 - MultivariateMotif with avg smape 4.44: \n",
      "Model Number: 127 of 130 with model GLS for Validation 2\n",
      "127 - GLS with avg smape 7.11: \n",
      "Model Number: 128 of 130 with model MultivariateMotif for Validation 2\n",
      "128 - MultivariateMotif with avg smape 2.66: \n",
      "Model Number: 129 of 130 with model MultivariateMotif for Validation 2\n",
      "129 - MultivariateMotif with avg smape 4.23: \n",
      "Model Number: 130 of 130 with model MultivariateMotif for Validation 2\n"
     ]
    },
    {
     "name": "stderr",
     "output_type": "stream",
     "text": [
      "C:\\ProgramData\\Anaconda3\\lib\\site-packages\\autots\\models\\base.py:558: RuntimeWarning: invalid value encountered in true_divide\n",
      "  smape_cons = (np.nansum(wsmape_df, axis=1) * 200) / np.count_nonzero(\n",
      "C:\\ProgramData\\Anaconda3\\lib\\site-packages\\autots\\models\\base.py:558: RuntimeWarning: invalid value encountered in true_divide\n",
      "  smape_cons = (np.nansum(wsmape_df, axis=1) * 200) / np.count_nonzero(\n",
      "C:\\ProgramData\\Anaconda3\\lib\\site-packages\\autots\\models\\base.py:558: RuntimeWarning: invalid value encountered in true_divide\n",
      "  smape_cons = (np.nansum(wsmape_df, axis=1) * 200) / np.count_nonzero(\n",
      "C:\\ProgramData\\Anaconda3\\lib\\site-packages\\autots\\models\\base.py:558: RuntimeWarning: invalid value encountered in true_divide\n",
      "  smape_cons = (np.nansum(wsmape_df, axis=1) * 200) / np.count_nonzero(\n",
      "C:\\ProgramData\\Anaconda3\\lib\\site-packages\\autots\\models\\base.py:558: RuntimeWarning: invalid value encountered in true_divide\n",
      "  smape_cons = (np.nansum(wsmape_df, axis=1) * 200) / np.count_nonzero(\n",
      "C:\\ProgramData\\Anaconda3\\lib\\site-packages\\autots\\models\\base.py:558: RuntimeWarning: invalid value encountered in true_divide\n",
      "  smape_cons = (np.nansum(wsmape_df, axis=1) * 200) / np.count_nonzero(\n"
     ]
    },
    {
     "name": "stdout",
     "output_type": "stream",
     "text": [
      "130 - MultivariateMotif with avg smape 3.73: \n",
      "Validation Round: 3\n",
      "Model Number: 1 of 130 with model Ensemble for Validation 3\n",
      "📈 1 - Ensemble with avg smape 6.26: \n",
      "Model Number: 2 of 130 with model SectionalMotif for Validation 3\n",
      "2 - SectionalMotif with avg smape 6.33: \n",
      "Model Number: 3 of 130 with model Ensemble for Validation 3\n",
      "📈 3 - Ensemble with avg smape 6.19: \n",
      "Model Number: 4 of 130 with model Ensemble for Validation 3\n"
     ]
    },
    {
     "name": "stderr",
     "output_type": "stream",
     "text": [
      "C:\\ProgramData\\Anaconda3\\lib\\site-packages\\autots\\models\\base.py:558: RuntimeWarning: invalid value encountered in true_divide\n",
      "  smape_cons = (np.nansum(wsmape_df, axis=1) * 200) / np.count_nonzero(\n",
      "C:\\ProgramData\\Anaconda3\\lib\\site-packages\\autots\\models\\base.py:558: RuntimeWarning: invalid value encountered in true_divide\n",
      "  smape_cons = (np.nansum(wsmape_df, axis=1) * 200) / np.count_nonzero(\n",
      "C:\\ProgramData\\Anaconda3\\lib\\site-packages\\autots\\models\\base.py:558: RuntimeWarning: invalid value encountered in true_divide\n",
      "  smape_cons = (np.nansum(wsmape_df, axis=1) * 200) / np.count_nonzero(\n"
     ]
    },
    {
     "name": "stdout",
     "output_type": "stream",
     "text": [
      "📈 4 - Ensemble with avg smape 3.8: \n",
      "Model Number: 5 of 130 with model SectionalMotif for Validation 3\n",
      "5 - SectionalMotif with avg smape 6.04: \n",
      "Model Number: 6 of 130 with model SectionalMotif for Validation 3\n",
      "6 - SectionalMotif with avg smape 7.68: \n",
      "Model Number: 7 of 130 with model SectionalMotif for Validation 3\n",
      "7 - SectionalMotif with avg smape 6.31: \n",
      "Model Number: 8 of 130 with model Ensemble for Validation 3\n"
     ]
    },
    {
     "name": "stderr",
     "output_type": "stream",
     "text": [
      "C:\\ProgramData\\Anaconda3\\lib\\site-packages\\autots\\models\\base.py:558: RuntimeWarning: invalid value encountered in true_divide\n",
      "  smape_cons = (np.nansum(wsmape_df, axis=1) * 200) / np.count_nonzero(\n",
      "C:\\ProgramData\\Anaconda3\\lib\\site-packages\\autots\\models\\base.py:558: RuntimeWarning: invalid value encountered in true_divide\n",
      "  smape_cons = (np.nansum(wsmape_df, axis=1) * 200) / np.count_nonzero(\n",
      "C:\\ProgramData\\Anaconda3\\lib\\site-packages\\autots\\models\\base.py:558: RuntimeWarning: invalid value encountered in true_divide\n",
      "  smape_cons = (np.nansum(wsmape_df, axis=1) * 200) / np.count_nonzero(\n",
      "C:\\ProgramData\\Anaconda3\\lib\\site-packages\\autots\\models\\base.py:558: RuntimeWarning: invalid value encountered in true_divide\n",
      "  smape_cons = (np.nansum(wsmape_df, axis=1) * 200) / np.count_nonzero(\n"
     ]
    },
    {
     "name": "stdout",
     "output_type": "stream",
     "text": [
      "📈 8 - Ensemble with avg smape 3.16: \n",
      "Model Number: 9 of 130 with model Ensemble for Validation 3\n"
     ]
    },
    {
     "name": "stderr",
     "output_type": "stream",
     "text": [
      "C:\\ProgramData\\Anaconda3\\lib\\site-packages\\autots\\models\\base.py:558: RuntimeWarning: invalid value encountered in true_divide\n",
      "  smape_cons = (np.nansum(wsmape_df, axis=1) * 200) / np.count_nonzero(\n"
     ]
    },
    {
     "name": "stdout",
     "output_type": "stream",
     "text": [
      "9 - Ensemble with avg smape 3.16: \n",
      "Model Number: 10 of 130 with model Ensemble for Validation 3\n"
     ]
    },
    {
     "name": "stderr",
     "output_type": "stream",
     "text": [
      "C:\\ProgramData\\Anaconda3\\lib\\site-packages\\autots\\models\\base.py:558: RuntimeWarning: invalid value encountered in true_divide\n",
      "  smape_cons = (np.nansum(wsmape_df, axis=1) * 200) / np.count_nonzero(\n"
     ]
    },
    {
     "name": "stdout",
     "output_type": "stream",
     "text": [
      "10 - Ensemble with avg smape 3.16: \n",
      "Model Number: 11 of 130 with model Ensemble for Validation 3\n"
     ]
    },
    {
     "name": "stderr",
     "output_type": "stream",
     "text": [
      "C:\\ProgramData\\Anaconda3\\lib\\site-packages\\autots\\models\\base.py:558: RuntimeWarning: invalid value encountered in true_divide\n",
      "  smape_cons = (np.nansum(wsmape_df, axis=1) * 200) / np.count_nonzero(\n"
     ]
    },
    {
     "name": "stdout",
     "output_type": "stream",
     "text": [
      "11 - Ensemble with avg smape 5.23: \n",
      "Model Number: 12 of 130 with model LastValueNaive for Validation 3\n",
      "12 - LastValueNaive with avg smape 3.8: \n",
      "Model Number: 13 of 130 with model MultivariateMotif for Validation 3\n",
      "13 - MultivariateMotif with avg smape 5.91: \n",
      "Model Number: 14 of 130 with model Ensemble for Validation 3\n"
     ]
    },
    {
     "name": "stderr",
     "output_type": "stream",
     "text": [
      "C:\\ProgramData\\Anaconda3\\lib\\site-packages\\autots\\models\\base.py:558: RuntimeWarning: invalid value encountered in true_divide\n",
      "  smape_cons = (np.nansum(wsmape_df, axis=1) * 200) / np.count_nonzero(\n",
      "C:\\ProgramData\\Anaconda3\\lib\\site-packages\\autots\\models\\base.py:558: RuntimeWarning: invalid value encountered in true_divide\n",
      "  smape_cons = (np.nansum(wsmape_df, axis=1) * 200) / np.count_nonzero(\n",
      "C:\\ProgramData\\Anaconda3\\lib\\site-packages\\autots\\models\\base.py:558: RuntimeWarning: invalid value encountered in true_divide\n",
      "  smape_cons = (np.nansum(wsmape_df, axis=1) * 200) / np.count_nonzero(\n",
      "C:\\ProgramData\\Anaconda3\\lib\\site-packages\\autots\\models\\base.py:558: RuntimeWarning: invalid value encountered in true_divide\n",
      "  smape_cons = (np.nansum(wsmape_df, axis=1) * 200) / np.count_nonzero(\n"
     ]
    },
    {
     "name": "stdout",
     "output_type": "stream",
     "text": [
      "14 - Ensemble with avg smape 3.44: \n",
      "Model Number: 15 of 130 with model MultivariateRegression for Validation 3\n",
      "15 - MultivariateRegression with avg smape 6.85: \n",
      "Model Number: 16 of 130 with model Theta for Validation 3\n"
     ]
    },
    {
     "name": "stderr",
     "output_type": "stream",
     "text": [
      "C:\\ProgramData\\Anaconda3\\lib\\site-packages\\autots\\models\\base.py:558: RuntimeWarning: invalid value encountered in true_divide\n",
      "  smape_cons = (np.nansum(wsmape_df, axis=1) * 200) / np.count_nonzero(\n",
      "C:\\ProgramData\\Anaconda3\\lib\\site-packages\\autots\\models\\base.py:558: RuntimeWarning: invalid value encountered in true_divide\n",
      "  smape_cons = (np.nansum(wsmape_df, axis=1) * 200) / np.count_nonzero(\n"
     ]
    },
    {
     "name": "stdout",
     "output_type": "stream",
     "text": [
      "16 - Theta with avg smape 7.8: \n",
      "Model Number: 17 of 130 with model Theta for Validation 3\n",
      "17 - Theta with avg smape 7.58: \n",
      "Model Number: 18 of 130 with model Theta for Validation 3\n"
     ]
    },
    {
     "name": "stderr",
     "output_type": "stream",
     "text": [
      "C:\\ProgramData\\Anaconda3\\lib\\site-packages\\autots\\models\\base.py:558: RuntimeWarning: invalid value encountered in true_divide\n",
      "  smape_cons = (np.nansum(wsmape_df, axis=1) * 200) / np.count_nonzero(\n"
     ]
    },
    {
     "name": "stdout",
     "output_type": "stream",
     "text": [
      "18 - Theta with avg smape 7.59: \n",
      "Model Number: 19 of 130 with model Theta for Validation 3\n"
     ]
    },
    {
     "name": "stderr",
     "output_type": "stream",
     "text": [
      "C:\\ProgramData\\Anaconda3\\lib\\site-packages\\autots\\models\\base.py:558: RuntimeWarning: invalid value encountered in true_divide\n",
      "  smape_cons = (np.nansum(wsmape_df, axis=1) * 200) / np.count_nonzero(\n",
      "C:\\ProgramData\\Anaconda3\\lib\\site-packages\\autots\\models\\base.py:558: RuntimeWarning: invalid value encountered in true_divide\n",
      "  smape_cons = (np.nansum(wsmape_df, axis=1) * 200) / np.count_nonzero(\n"
     ]
    },
    {
     "name": "stdout",
     "output_type": "stream",
     "text": [
      "19 - Theta with avg smape 23.73: \n",
      "Model Number: 20 of 130 with model LastValueNaive for Validation 3\n",
      "20 - LastValueNaive with avg smape 4.44: \n",
      "Model Number: 21 of 130 with model LastValueNaive for Validation 3\n",
      "21 - LastValueNaive with avg smape 4.44: \n",
      "Model Number: 22 of 130 with model LastValueNaive for Validation 3\n",
      "22 - LastValueNaive with avg smape 4.44: \n",
      "Model Number: 23 of 130 with model NVAR for Validation 3\n",
      "23 - NVAR with avg smape 7.04: \n",
      "Model Number: 24 of 130 with model LastValueNaive for Validation 3\n",
      "24 - LastValueNaive with avg smape 4.44: \n",
      "Model Number: 25 of 130 with model LastValueNaive for Validation 3\n",
      "25 - LastValueNaive with avg smape 4.44: \n",
      "Model Number: 26 of 130 with model LastValueNaive for Validation 3\n",
      "26 - LastValueNaive with avg smape 4.44: "
     ]
    },
    {
     "name": "stderr",
     "output_type": "stream",
     "text": [
      "C:\\ProgramData\\Anaconda3\\lib\\site-packages\\autots\\models\\base.py:558: RuntimeWarning: invalid value encountered in true_divide\n",
      "  smape_cons = (np.nansum(wsmape_df, axis=1) * 200) / np.count_nonzero(\n",
      "C:\\ProgramData\\Anaconda3\\lib\\site-packages\\autots\\models\\base.py:558: RuntimeWarning: invalid value encountered in true_divide\n",
      "  smape_cons = (np.nansum(wsmape_df, axis=1) * 200) / np.count_nonzero(\n",
      "C:\\ProgramData\\Anaconda3\\lib\\site-packages\\autots\\models\\base.py:558: RuntimeWarning: invalid value encountered in true_divide\n",
      "  smape_cons = (np.nansum(wsmape_df, axis=1) * 200) / np.count_nonzero(\n",
      "C:\\ProgramData\\Anaconda3\\lib\\site-packages\\autots\\models\\base.py:558: RuntimeWarning: invalid value encountered in true_divide\n",
      "  smape_cons = (np.nansum(wsmape_df, axis=1) * 200) / np.count_nonzero(\n",
      "C:\\ProgramData\\Anaconda3\\lib\\site-packages\\autots\\models\\base.py:558: RuntimeWarning: invalid value encountered in true_divide\n",
      "  smape_cons = (np.nansum(wsmape_df, axis=1) * 200) / np.count_nonzero(\n",
      "C:\\ProgramData\\Anaconda3\\lib\\site-packages\\autots\\models\\base.py:558: RuntimeWarning: invalid value encountered in true_divide\n",
      "  smape_cons = (np.nansum(wsmape_df, axis=1) * 200) / np.count_nonzero(\n",
      "C:\\ProgramData\\Anaconda3\\lib\\site-packages\\autots\\models\\base.py:558: RuntimeWarning: invalid value encountered in true_divide\n",
      "  smape_cons = (np.nansum(wsmape_df, axis=1) * 200) / np.count_nonzero(\n"
     ]
    },
    {
     "name": "stdout",
     "output_type": "stream",
     "text": [
      "\n",
      "Model Number: 27 of 130 with model LastValueNaive for Validation 3\n",
      "27 - LastValueNaive with avg smape 4.44: \n",
      "Model Number: 28 of 130 with model Theta for Validation 3\n",
      "28 - Theta with avg smape 7.99: \n",
      "Model Number: 29 of 130 with model NVAR for Validation 3\n"
     ]
    },
    {
     "name": "stderr",
     "output_type": "stream",
     "text": [
      "C:\\ProgramData\\Anaconda3\\lib\\site-packages\\autots\\models\\base.py:558: RuntimeWarning: invalid value encountered in true_divide\n",
      "  smape_cons = (np.nansum(wsmape_df, axis=1) * 200) / np.count_nonzero(\n",
      "C:\\ProgramData\\Anaconda3\\lib\\site-packages\\autots\\models\\base.py:558: RuntimeWarning: invalid value encountered in true_divide\n",
      "  smape_cons = (np.nansum(wsmape_df, axis=1) * 200) / np.count_nonzero(\n"
     ]
    },
    {
     "name": "stdout",
     "output_type": "stream",
     "text": [
      "📈 29 - NVAR with avg smape 2.55: \n",
      "Model Number: 30 of 130 with model NVAR for Validation 3\n",
      "30 - NVAR with avg smape 7.33: \n",
      "Model Number: 31 of 130 with model AverageValueNaive for Validation 3\n",
      "31 - AverageValueNaive with avg smape 3.01: \n",
      "Model Number: 32 of 130 with model NVAR for Validation 3\n",
      "32 - NVAR with avg smape 7.64: \n"
     ]
    },
    {
     "name": "stderr",
     "output_type": "stream",
     "text": [
      "C:\\ProgramData\\Anaconda3\\lib\\site-packages\\autots\\models\\base.py:558: RuntimeWarning: invalid value encountered in true_divide\n",
      "  smape_cons = (np.nansum(wsmape_df, axis=1) * 200) / np.count_nonzero(\n",
      "C:\\ProgramData\\Anaconda3\\lib\\site-packages\\autots\\models\\base.py:558: RuntimeWarning: invalid value encountered in true_divide\n",
      "  smape_cons = (np.nansum(wsmape_df, axis=1) * 200) / np.count_nonzero(\n",
      "C:\\ProgramData\\Anaconda3\\lib\\site-packages\\autots\\models\\base.py:558: RuntimeWarning: invalid value encountered in true_divide\n",
      "  smape_cons = (np.nansum(wsmape_df, axis=1) * 200) / np.count_nonzero(\n",
      "C:\\ProgramData\\Anaconda3\\lib\\site-packages\\autots\\models\\base.py:558: RuntimeWarning: invalid value encountered in true_divide\n",
      "  smape_cons = (np.nansum(wsmape_df, axis=1) * 200) / np.count_nonzero(\n"
     ]
    },
    {
     "name": "stdout",
     "output_type": "stream",
     "text": [
      "Model Number: 33 of 130 with model NVAR for Validation 3\n",
      "33 - NVAR with avg smape 6.4: \n",
      "Model Number: 34 of 130 with model Theta for Validation 3\n"
     ]
    },
    {
     "name": "stderr",
     "output_type": "stream",
     "text": [
      "C:\\ProgramData\\Anaconda3\\lib\\site-packages\\autots\\models\\base.py:558: RuntimeWarning: invalid value encountered in true_divide\n",
      "  smape_cons = (np.nansum(wsmape_df, axis=1) * 200) / np.count_nonzero(\n",
      "C:\\ProgramData\\Anaconda3\\lib\\site-packages\\autots\\models\\base.py:558: RuntimeWarning: invalid value encountered in true_divide\n",
      "  smape_cons = (np.nansum(wsmape_df, axis=1) * 200) / np.count_nonzero(\n"
     ]
    },
    {
     "name": "stdout",
     "output_type": "stream",
     "text": [
      "34 - Theta with avg smape 7.94: \n",
      "Model Number: 35 of 130 with model Theta for Validation 3\n",
      "35 - Theta with avg smape 8.33: \n",
      "Model Number: 36 of 130 with model DatepartRegression for Validation 3\n",
      "36 - DatepartRegression with avg smape 2.9: \n",
      "Model Number: 37 of 130 with model NVAR for Validation 3\n",
      "37 - NVAR with avg smape 7.46: \n",
      "Model Number: 38 of 130 with model NVAR for Validation 3\n"
     ]
    },
    {
     "name": "stderr",
     "output_type": "stream",
     "text": [
      "C:\\ProgramData\\Anaconda3\\lib\\site-packages\\autots\\models\\base.py:558: RuntimeWarning: invalid value encountered in true_divide\n",
      "  smape_cons = (np.nansum(wsmape_df, axis=1) * 200) / np.count_nonzero(\n",
      "C:\\ProgramData\\Anaconda3\\lib\\site-packages\\autots\\models\\base.py:558: RuntimeWarning: invalid value encountered in true_divide\n",
      "  smape_cons = (np.nansum(wsmape_df, axis=1) * 200) / np.count_nonzero(\n",
      "C:\\ProgramData\\Anaconda3\\lib\\site-packages\\autots\\models\\base.py:558: RuntimeWarning: invalid value encountered in true_divide\n",
      "  smape_cons = (np.nansum(wsmape_df, axis=1) * 200) / np.count_nonzero(\n",
      "C:\\ProgramData\\Anaconda3\\lib\\site-packages\\autots\\models\\base.py:558: RuntimeWarning: invalid value encountered in true_divide\n",
      "  smape_cons = (np.nansum(wsmape_df, axis=1) * 200) / np.count_nonzero(\n"
     ]
    },
    {
     "name": "stdout",
     "output_type": "stream",
     "text": [
      "38 - NVAR with avg smape 6.63: \n",
      "Model Number: 39 of 130 with model SectionalMotif for Validation 3\n",
      "39 - SectionalMotif with avg smape 12.08: \n",
      "Model Number: 40 of 130 with model Theta for Validation 3\n",
      "40 - Theta with avg smape 8.2: \n",
      "Model Number: 41 of 130 with model UnivariateMotif for Validation 3\n"
     ]
    },
    {
     "name": "stderr",
     "output_type": "stream",
     "text": [
      "C:\\ProgramData\\Anaconda3\\lib\\site-packages\\autots\\models\\base.py:558: RuntimeWarning: invalid value encountered in true_divide\n",
      "  smape_cons = (np.nansum(wsmape_df, axis=1) * 200) / np.count_nonzero(\n",
      "C:\\ProgramData\\Anaconda3\\lib\\site-packages\\autots\\models\\base.py:558: RuntimeWarning: invalid value encountered in true_divide\n",
      "  smape_cons = (np.nansum(wsmape_df, axis=1) * 200) / np.count_nonzero(\n"
     ]
    },
    {
     "name": "stdout",
     "output_type": "stream",
     "text": [
      "41 - UnivariateMotif with avg smape 3.83: \n",
      "Model Number: 42 of 130 with model ETS for Validation 3\n",
      "ETS error ValueError('endog must be strictly positive when usingmultiplicative trend or seasonal components.')\n",
      "ETS failed on Close with ValueError('endog must be strictly positive when usingmultiplicative trend or seasonal components.')\n",
      "42 - ETS with avg smape 4.44: \n",
      "Model Number: 43 of 130 with model ETS for Validation 3\n",
      "ETS error ValueError('endog must be strictly positive when usingmultiplicative trend or seasonal components.')\n",
      "ETS failed on Close with ValueError('endog must be strictly positive when usingmultiplicative trend or seasonal components.')\n",
      "43 - ETS with avg smape 4.44: \n",
      "Model Number: 44 of 130 with model ETS for Validation 3\n",
      "ETS error ValueError('endog must be strictly positive when usingmultiplicative trend or seasonal components.')\n",
      "ETS failed on Close with ValueError('endog must be strictly positive when usingmultiplicative trend or seasonal components.')\n"
     ]
    },
    {
     "name": "stderr",
     "output_type": "stream",
     "text": [
      "C:\\ProgramData\\Anaconda3\\lib\\site-packages\\autots\\models\\base.py:558: RuntimeWarning: invalid value encountered in true_divide\n",
      "  smape_cons = (np.nansum(wsmape_df, axis=1) * 200) / np.count_nonzero(\n",
      "C:\\ProgramData\\Anaconda3\\lib\\site-packages\\autots\\models\\base.py:558: RuntimeWarning: invalid value encountered in true_divide\n",
      "  smape_cons = (np.nansum(wsmape_df, axis=1) * 200) / np.count_nonzero(\n",
      "C:\\ProgramData\\Anaconda3\\lib\\site-packages\\autots\\models\\base.py:558: RuntimeWarning: invalid value encountered in true_divide\n",
      "  smape_cons = (np.nansum(wsmape_df, axis=1) * 200) / np.count_nonzero(\n",
      "C:\\ProgramData\\Anaconda3\\lib\\site-packages\\autots\\models\\base.py:558: RuntimeWarning: invalid value encountered in true_divide\n",
      "  smape_cons = (np.nansum(wsmape_df, axis=1) * 200) / np.count_nonzero(\n"
     ]
    },
    {
     "name": "stdout",
     "output_type": "stream",
     "text": [
      "44 - ETS with avg smape 4.44: \n",
      "Model Number: 45 of 130 with model NVAR for Validation 3\n",
      "45 - NVAR with avg smape 8.04: \n",
      "Model Number: 46 of 130 with model UnivariateMotif for Validation 3\n",
      "46 - UnivariateMotif with avg smape 18.35: \n",
      "Model Number: 47 of 130 with model UnivariateMotif for Validation 3\n",
      "47 - UnivariateMotif with avg smape 18.35: \n",
      "Model Number: 48 of 130 with model AverageValueNaive for Validation 3\n",
      "48 - AverageValueNaive with avg smape 3.79: \n",
      "Model Number: 49 of 130 with model UnivariateMotif for Validation 3\n",
      "49 - UnivariateMotif with avg smape 15.28: \n",
      "Model Number: 50 of 130 with model AverageValueNaive for Validation 3\n"
     ]
    },
    {
     "name": "stderr",
     "output_type": "stream",
     "text": [
      "C:\\ProgramData\\Anaconda3\\lib\\site-packages\\autots\\models\\base.py:558: RuntimeWarning: invalid value encountered in true_divide\n",
      "  smape_cons = (np.nansum(wsmape_df, axis=1) * 200) / np.count_nonzero(\n",
      "C:\\ProgramData\\Anaconda3\\lib\\site-packages\\autots\\models\\base.py:558: RuntimeWarning: invalid value encountered in true_divide\n",
      "  smape_cons = (np.nansum(wsmape_df, axis=1) * 200) / np.count_nonzero(\n",
      "C:\\ProgramData\\Anaconda3\\lib\\site-packages\\autots\\models\\base.py:558: RuntimeWarning: invalid value encountered in true_divide\n",
      "  smape_cons = (np.nansum(wsmape_df, axis=1) * 200) / np.count_nonzero(\n",
      "C:\\ProgramData\\Anaconda3\\lib\\site-packages\\autots\\models\\base.py:558: RuntimeWarning: invalid value encountered in true_divide\n",
      "  smape_cons = (np.nansum(wsmape_df, axis=1) * 200) / np.count_nonzero(\n",
      "C:\\ProgramData\\Anaconda3\\lib\\site-packages\\autots\\models\\base.py:558: RuntimeWarning: invalid value encountered in true_divide\n",
      "  smape_cons = (np.nansum(wsmape_df, axis=1) * 200) / np.count_nonzero(\n"
     ]
    },
    {
     "name": "stdout",
     "output_type": "stream",
     "text": [
      "50 - AverageValueNaive with avg smape 5.55: \n",
      "Model Number: 51 of 130 with model AverageValueNaive for Validation 3\n",
      "51 - AverageValueNaive with avg smape 5.39: \n",
      "Model Number: 52 of 130 with model ConstantNaive for Validation 3\n",
      "52 - ConstantNaive with avg smape 15.43: \n",
      "Model Number: 53 of 130 with model SectionalMotif for Validation 3\n",
      "53 - SectionalMotif with avg smape 3.06: \n",
      "Model Number: 54 of 130 with model SectionalMotif for Validation 3\n",
      "54 - SectionalMotif with avg smape 3.07: \n",
      "Model Number: 55 of 130 with model ConstantNaive for Validation 3\n"
     ]
    },
    {
     "name": "stderr",
     "output_type": "stream",
     "text": [
      "C:\\ProgramData\\Anaconda3\\lib\\site-packages\\autots\\models\\base.py:558: RuntimeWarning: invalid value encountered in true_divide\n",
      "  smape_cons = (np.nansum(wsmape_df, axis=1) * 200) / np.count_nonzero(\n",
      "C:\\ProgramData\\Anaconda3\\lib\\site-packages\\autots\\models\\base.py:558: RuntimeWarning: invalid value encountered in true_divide\n",
      "  smape_cons = (np.nansum(wsmape_df, axis=1) * 200) / np.count_nonzero(\n",
      "C:\\ProgramData\\Anaconda3\\lib\\site-packages\\autots\\models\\base.py:558: RuntimeWarning: invalid value encountered in true_divide\n",
      "  smape_cons = (np.nansum(wsmape_df, axis=1) * 200) / np.count_nonzero(\n",
      "C:\\ProgramData\\Anaconda3\\lib\\site-packages\\autots\\models\\base.py:558: RuntimeWarning: invalid value encountered in true_divide\n",
      "  smape_cons = (np.nansum(wsmape_df, axis=1) * 200) / np.count_nonzero(\n",
      "C:\\ProgramData\\Anaconda3\\lib\\site-packages\\autots\\models\\base.py:558: RuntimeWarning: invalid value encountered in true_divide\n",
      "  smape_cons = (np.nansum(wsmape_df, axis=1) * 200) / np.count_nonzero(\n",
      "C:\\ProgramData\\Anaconda3\\lib\\site-packages\\autots\\models\\base.py:558: RuntimeWarning: invalid value encountered in true_divide\n",
      "  smape_cons = (np.nansum(wsmape_df, axis=1) * 200) / np.count_nonzero(\n"
     ]
    },
    {
     "name": "stdout",
     "output_type": "stream",
     "text": [
      "55 - ConstantNaive with avg smape 16.27: \n",
      "Model Number: 56 of 130 with model ConstantNaive for Validation 3\n",
      "56 - ConstantNaive with avg smape 16.65: \n",
      "Model Number: 57 of 130 with model WindowRegression for Validation 3\n",
      "57 - WindowRegression with avg smape 7.68: \n",
      "Model Number: 58 of 130 with model MultivariateRegression for Validation 3\n"
     ]
    },
    {
     "name": "stderr",
     "output_type": "stream",
     "text": [
      "C:\\ProgramData\\Anaconda3\\lib\\site-packages\\autots\\models\\base.py:558: RuntimeWarning: invalid value encountered in true_divide\n",
      "  smape_cons = (np.nansum(wsmape_df, axis=1) * 200) / np.count_nonzero(\n",
      "C:\\ProgramData\\Anaconda3\\lib\\site-packages\\autots\\models\\base.py:558: RuntimeWarning: invalid value encountered in true_divide\n",
      "  smape_cons = (np.nansum(wsmape_df, axis=1) * 200) / np.count_nonzero(\n"
     ]
    },
    {
     "name": "stdout",
     "output_type": "stream",
     "text": [
      "58 - MultivariateRegression with avg smape 6.55: \n",
      "Model Number: 59 of 130 with model AverageValueNaive for Validation 3\n",
      "59 - AverageValueNaive with avg smape 5.1: \n",
      "Model Number: 60 of 130 with model ConstantNaive for Validation 3\n",
      "60 - ConstantNaive with avg smape 14.32: \n",
      "Model Number: 61 of 130 with model AverageValueNaive for Validation 3\n"
     ]
    },
    {
     "name": "stderr",
     "output_type": "stream",
     "text": [
      "C:\\ProgramData\\Anaconda3\\lib\\site-packages\\autots\\models\\base.py:558: RuntimeWarning: invalid value encountered in true_divide\n",
      "  smape_cons = (np.nansum(wsmape_df, axis=1) * 200) / np.count_nonzero(\n",
      "C:\\ProgramData\\Anaconda3\\lib\\site-packages\\autots\\models\\base.py:558: RuntimeWarning: invalid value encountered in true_divide\n",
      "  smape_cons = (np.nansum(wsmape_df, axis=1) * 200) / np.count_nonzero(\n",
      "C:\\ProgramData\\Anaconda3\\lib\\site-packages\\autots\\models\\base.py:558: RuntimeWarning: invalid value encountered in true_divide\n",
      "  smape_cons = (np.nansum(wsmape_df, axis=1) * 200) / np.count_nonzero(\n"
     ]
    },
    {
     "name": "stdout",
     "output_type": "stream",
     "text": [
      "61 - AverageValueNaive with avg smape 5.12: \n",
      "Model Number: 62 of 130 with model MultivariateRegression for Validation 3\n"
     ]
    },
    {
     "name": "stderr",
     "output_type": "stream",
     "text": [
      "C:\\ProgramData\\Anaconda3\\lib\\site-packages\\autots\\models\\base.py:558: RuntimeWarning: invalid value encountered in true_divide\n",
      "  smape_cons = (np.nansum(wsmape_df, axis=1) * 200) / np.count_nonzero(\n"
     ]
    },
    {
     "name": "stdout",
     "output_type": "stream",
     "text": [
      "62 - MultivariateRegression with avg smape 10.5: \n",
      "Model Number: 63 of 130 with model ETS for Validation 3\n",
      "63 - ETS with avg smape 3.0: \n",
      "Model Number: 64 of 130 with model GLS for Validation 3\n"
     ]
    },
    {
     "name": "stderr",
     "output_type": "stream",
     "text": [
      "C:\\ProgramData\\Anaconda3\\lib\\site-packages\\autots\\models\\base.py:558: RuntimeWarning: invalid value encountered in true_divide\n",
      "  smape_cons = (np.nansum(wsmape_df, axis=1) * 200) / np.count_nonzero(\n",
      "C:\\ProgramData\\Anaconda3\\lib\\site-packages\\autots\\models\\base.py:558: RuntimeWarning: invalid value encountered in true_divide\n",
      "  smape_cons = (np.nansum(wsmape_df, axis=1) * 200) / np.count_nonzero(\n",
      "C:\\ProgramData\\Anaconda3\\lib\\site-packages\\autots\\models\\base.py:558: RuntimeWarning: invalid value encountered in true_divide\n",
      "  smape_cons = (np.nansum(wsmape_df, axis=1) * 200) / np.count_nonzero(\n"
     ]
    },
    {
     "name": "stdout",
     "output_type": "stream",
     "text": [
      "64 - GLS with avg smape 7.65: \n",
      "Model Number: 65 of 130 with model UnobservedComponents for Validation 3\n",
      "65 - UnobservedComponents with avg smape 14.4: \n",
      "Model Number: 66 of 130 with model UnobservedComponents for Validation 3\n"
     ]
    },
    {
     "name": "stderr",
     "output_type": "stream",
     "text": [
      "C:\\ProgramData\\Anaconda3\\lib\\site-packages\\autots\\models\\base.py:558: RuntimeWarning: invalid value encountered in true_divide\n",
      "  smape_cons = (np.nansum(wsmape_df, axis=1) * 200) / np.count_nonzero(\n",
      "C:\\ProgramData\\Anaconda3\\lib\\site-packages\\autots\\models\\base.py:558: RuntimeWarning: invalid value encountered in true_divide\n",
      "  smape_cons = (np.nansum(wsmape_df, axis=1) * 200) / np.count_nonzero(\n"
     ]
    },
    {
     "name": "stdout",
     "output_type": "stream",
     "text": [
      "66 - UnobservedComponents with avg smape 14.4: \n",
      "Model Number: 67 of 130 with model UnobservedComponents for Validation 3\n"
     ]
    },
    {
     "name": "stderr",
     "output_type": "stream",
     "text": [
      "C:\\ProgramData\\Anaconda3\\lib\\site-packages\\autots\\models\\base.py:558: RuntimeWarning: invalid value encountered in true_divide\n",
      "  smape_cons = (np.nansum(wsmape_df, axis=1) * 200) / np.count_nonzero(\n"
     ]
    },
    {
     "name": "stdout",
     "output_type": "stream",
     "text": [
      "67 - UnobservedComponents with avg smape 14.4: \n",
      "Model Number: 68 of 130 with model UnobservedComponents for Validation 3\n",
      "68 - UnobservedComponents with avg smape 14.4: \n",
      "Model Number: 69 of 130 with model UnobservedComponents for Validation 3\n",
      "69 - UnobservedComponents with avg smape 14.4: \n",
      "Model Number: 70 of 130 with model ConstantNaive for Validation 3\n",
      "70 - ConstantNaive with avg smape 2.86: \n",
      "Model Number: 71 of 130 with model SeasonalNaive for Validation 3\n"
     ]
    },
    {
     "name": "stderr",
     "output_type": "stream",
     "text": [
      "C:\\ProgramData\\Anaconda3\\lib\\site-packages\\autots\\models\\base.py:558: RuntimeWarning: invalid value encountered in true_divide\n",
      "  smape_cons = (np.nansum(wsmape_df, axis=1) * 200) / np.count_nonzero(\n",
      "C:\\ProgramData\\Anaconda3\\lib\\site-packages\\autots\\models\\base.py:558: RuntimeWarning: invalid value encountered in true_divide\n",
      "  smape_cons = (np.nansum(wsmape_df, axis=1) * 200) / np.count_nonzero(\n",
      "C:\\ProgramData\\Anaconda3\\lib\\site-packages\\autots\\models\\base.py:558: RuntimeWarning: invalid value encountered in true_divide\n",
      "  smape_cons = (np.nansum(wsmape_df, axis=1) * 200) / np.count_nonzero(\n",
      "C:\\ProgramData\\Anaconda3\\lib\\site-packages\\autots\\models\\base.py:558: RuntimeWarning: invalid value encountered in true_divide\n",
      "  smape_cons = (np.nansum(wsmape_df, axis=1) * 200) / np.count_nonzero(\n",
      "C:\\ProgramData\\Anaconda3\\lib\\site-packages\\statsmodels\\genmod\\families\\family.py:1227: RuntimeWarning: divide by zero encountered in true_divide\n",
      "  endog_mu = self._clean(endog / mu)\n"
     ]
    },
    {
     "name": "stdout",
     "output_type": "stream",
     "text": [
      "71 - SeasonalNaive with avg smape 6.9: \n",
      "Model Number: 72 of 130 with model GLM for Validation 3\n",
      "72 - GLM with avg smape 5.48: \n",
      "Model Number: 73 of 130 with model GLS for Validation 3\n",
      "73 - GLS with avg smape 3.72: \n",
      "Model Number: 74 of 130 with model UnobservedComponents for Validation 3\n"
     ]
    },
    {
     "name": "stderr",
     "output_type": "stream",
     "text": [
      "C:\\ProgramData\\Anaconda3\\lib\\site-packages\\autots\\models\\base.py:558: RuntimeWarning: invalid value encountered in true_divide\n",
      "  smape_cons = (np.nansum(wsmape_df, axis=1) * 200) / np.count_nonzero(\n",
      "C:\\ProgramData\\Anaconda3\\lib\\site-packages\\autots\\models\\base.py:558: RuntimeWarning: invalid value encountered in true_divide\n",
      "  smape_cons = (np.nansum(wsmape_df, axis=1) * 200) / np.count_nonzero(\n"
     ]
    },
    {
     "name": "stdout",
     "output_type": "stream",
     "text": [
      "74 - UnobservedComponents with avg smape 6.81: \n",
      "Model Number: 75 of 130 with model ConstantNaive for Validation 3\n",
      "75 - ConstantNaive with avg smape 7.35: \n",
      "Model Number: 76 of 130 with model ConstantNaive for Validation 3\n",
      "76 - ConstantNaive with avg smape 14.54: \n",
      "Model Number: 77 of 130 with model MultivariateMotif for Validation 3\n",
      "77 - MultivariateMotif with avg smape 3.58: \n",
      "Model Number: 78 of 130 with model UnivariateMotif for Validation 3\n"
     ]
    },
    {
     "name": "stderr",
     "output_type": "stream",
     "text": [
      "C:\\ProgramData\\Anaconda3\\lib\\site-packages\\autots\\models\\base.py:558: RuntimeWarning: invalid value encountered in true_divide\n",
      "  smape_cons = (np.nansum(wsmape_df, axis=1) * 200) / np.count_nonzero(\n",
      "C:\\ProgramData\\Anaconda3\\lib\\site-packages\\autots\\models\\base.py:558: RuntimeWarning: invalid value encountered in true_divide\n",
      "  smape_cons = (np.nansum(wsmape_df, axis=1) * 200) / np.count_nonzero(\n",
      "C:\\ProgramData\\Anaconda3\\lib\\site-packages\\autots\\models\\base.py:558: RuntimeWarning: invalid value encountered in true_divide\n",
      "  smape_cons = (np.nansum(wsmape_df, axis=1) * 200) / np.count_nonzero(\n",
      "C:\\ProgramData\\Anaconda3\\lib\\site-packages\\autots\\models\\base.py:558: RuntimeWarning: invalid value encountered in true_divide\n",
      "  smape_cons = (np.nansum(wsmape_df, axis=1) * 200) / np.count_nonzero(\n"
     ]
    },
    {
     "name": "stdout",
     "output_type": "stream",
     "text": [
      "78 - UnivariateMotif with avg smape 5.74: \n",
      "Model Number: 79 of 130 with model MultivariateRegression for Validation 3\n"
     ]
    },
    {
     "name": "stderr",
     "output_type": "stream",
     "text": [
      "C:\\ProgramData\\Anaconda3\\lib\\site-packages\\autots\\models\\base.py:558: RuntimeWarning: invalid value encountered in true_divide\n",
      "  smape_cons = (np.nansum(wsmape_df, axis=1) * 200) / np.count_nonzero(\n"
     ]
    },
    {
     "name": "stdout",
     "output_type": "stream",
     "text": [
      "79 - MultivariateRegression with avg smape 7.0: \n",
      "Model Number: 80 of 130 with model ETS for Validation 3\n"
     ]
    },
    {
     "name": "stderr",
     "output_type": "stream",
     "text": [
      "C:\\ProgramData\\Anaconda3\\lib\\site-packages\\autots\\models\\base.py:558: RuntimeWarning: invalid value encountered in true_divide\n",
      "  smape_cons = (np.nansum(wsmape_df, axis=1) * 200) / np.count_nonzero(\n",
      "C:\\ProgramData\\Anaconda3\\lib\\site-packages\\autots\\models\\base.py:558: RuntimeWarning: invalid value encountered in true_divide\n",
      "  smape_cons = (np.nansum(wsmape_df, axis=1) * 200) / np.count_nonzero(\n"
     ]
    },
    {
     "name": "stdout",
     "output_type": "stream",
     "text": [
      "80 - ETS with avg smape 4.53: \n",
      "Model Number: 81 of 130 with model SectionalMotif for Validation 3\n",
      "81 - SectionalMotif with avg smape 4.58: \n",
      "Model Number: 82 of 130 with model ConstantNaive for Validation 3\n",
      "82 - ConstantNaive with avg smape 12.96: \n",
      "Model Number: 83 of 130 with model UnobservedComponents for Validation 3\n"
     ]
    },
    {
     "name": "stderr",
     "output_type": "stream",
     "text": [
      "C:\\ProgramData\\Anaconda3\\lib\\site-packages\\autots\\models\\base.py:558: RuntimeWarning: invalid value encountered in true_divide\n",
      "  smape_cons = (np.nansum(wsmape_df, axis=1) * 200) / np.count_nonzero(\n",
      "C:\\ProgramData\\Anaconda3\\lib\\site-packages\\autots\\models\\base.py:558: RuntimeWarning: invalid value encountered in true_divide\n",
      "  smape_cons = (np.nansum(wsmape_df, axis=1) * 200) / np.count_nonzero(\n"
     ]
    },
    {
     "name": "stdout",
     "output_type": "stream",
     "text": [
      "83 - UnobservedComponents with avg smape 5.87: \n",
      "Model Number: 84 of 130 with model WindowRegression for Validation 3\n",
      "84 - WindowRegression with avg smape 4.36: \n",
      "Model Number: 85 of 130 with model AverageValueNaive for Validation 3\n"
     ]
    },
    {
     "name": "stderr",
     "output_type": "stream",
     "text": [
      "C:\\ProgramData\\Anaconda3\\lib\\site-packages\\autots\\models\\base.py:558: RuntimeWarning: invalid value encountered in true_divide\n",
      "  smape_cons = (np.nansum(wsmape_df, axis=1) * 200) / np.count_nonzero(\n",
      "C:\\ProgramData\\Anaconda3\\lib\\site-packages\\autots\\models\\base.py:558: RuntimeWarning: invalid value encountered in true_divide\n",
      "  smape_cons = (np.nansum(wsmape_df, axis=1) * 200) / np.count_nonzero(\n",
      "C:\\ProgramData\\Anaconda3\\lib\\site-packages\\autots\\models\\base.py:558: RuntimeWarning: invalid value encountered in true_divide\n",
      "  smape_cons = (np.nansum(wsmape_df, axis=1) * 200) / np.count_nonzero(\n"
     ]
    },
    {
     "name": "stdout",
     "output_type": "stream",
     "text": [
      "85 - AverageValueNaive with avg smape 17.74: \n",
      "Model Number: 86 of 130 with model WindowRegression for Validation 3\n",
      "86 - WindowRegression with avg smape 2.94: \n",
      "Model Number: 87 of 130 with model UnobservedComponents for Validation 3\n",
      "87 - UnobservedComponents with avg smape 5.01: \n",
      "Model Number: 88 of 130 with model SeasonalNaive for Validation 3\n"
     ]
    },
    {
     "name": "stderr",
     "output_type": "stream",
     "text": [
      "C:\\ProgramData\\Anaconda3\\lib\\site-packages\\autots\\models\\base.py:558: RuntimeWarning: invalid value encountered in true_divide\n",
      "  smape_cons = (np.nansum(wsmape_df, axis=1) * 200) / np.count_nonzero(\n",
      "C:\\ProgramData\\Anaconda3\\lib\\site-packages\\autots\\models\\base.py:558: RuntimeWarning: invalid value encountered in true_divide\n",
      "  smape_cons = (np.nansum(wsmape_df, axis=1) * 200) / np.count_nonzero(\n"
     ]
    },
    {
     "name": "stdout",
     "output_type": "stream",
     "text": [
      "88 - SeasonalNaive with avg smape 5.79: \n",
      "Model Number: 89 of 130 with model ETS for Validation 3\n",
      "89 - ETS with avg smape 5.17: \n",
      "Model Number: 90 of 130 with model SeasonalNaive for Validation 3\n",
      "90 - SeasonalNaive with avg smape 5.54: \n",
      "Model Number: 91 of 130 with model WindowRegression for Validation 3\n"
     ]
    },
    {
     "name": "stderr",
     "output_type": "stream",
     "text": [
      "C:\\ProgramData\\Anaconda3\\lib\\site-packages\\autots\\models\\base.py:558: RuntimeWarning: invalid value encountered in true_divide\n",
      "  smape_cons = (np.nansum(wsmape_df, axis=1) * 200) / np.count_nonzero(\n",
      "C:\\ProgramData\\Anaconda3\\lib\\site-packages\\autots\\models\\base.py:558: RuntimeWarning: invalid value encountered in true_divide\n",
      "  smape_cons = (np.nansum(wsmape_df, axis=1) * 200) / np.count_nonzero(\n",
      "C:\\ProgramData\\Anaconda3\\lib\\site-packages\\autots\\models\\base.py:558: RuntimeWarning: invalid value encountered in true_divide\n",
      "  smape_cons = (np.nansum(wsmape_df, axis=1) * 200) / np.count_nonzero(\n"
     ]
    },
    {
     "name": "stdout",
     "output_type": "stream",
     "text": [
      "91 - WindowRegression with avg smape 9.36: \n",
      "Model Number: 92 of 130 with model DatepartRegression for Validation 3\n"
     ]
    },
    {
     "name": "stderr",
     "output_type": "stream",
     "text": [
      "C:\\ProgramData\\Anaconda3\\lib\\site-packages\\autots\\models\\base.py:558: RuntimeWarning: invalid value encountered in true_divide\n",
      "  smape_cons = (np.nansum(wsmape_df, axis=1) * 200) / np.count_nonzero(\n"
     ]
    },
    {
     "name": "stdout",
     "output_type": "stream",
     "text": [
      "92 - DatepartRegression with avg smape 7.87: \n",
      "Model Number: 93 of 130 with model UnivariateMotif for Validation 3\n",
      "93 - UnivariateMotif with avg smape 3.66: \n",
      "Model Number: 94 of 130 with model ETS for Validation 3\n"
     ]
    },
    {
     "name": "stderr",
     "output_type": "stream",
     "text": [
      "C:\\ProgramData\\Anaconda3\\lib\\site-packages\\autots\\models\\base.py:558: RuntimeWarning: invalid value encountered in true_divide\n",
      "  smape_cons = (np.nansum(wsmape_df, axis=1) * 200) / np.count_nonzero(\n",
      "C:\\ProgramData\\Anaconda3\\lib\\site-packages\\autots\\models\\base.py:558: RuntimeWarning: invalid value encountered in true_divide\n",
      "  smape_cons = (np.nansum(wsmape_df, axis=1) * 200) / np.count_nonzero(\n",
      "C:\\ProgramData\\Anaconda3\\lib\\site-packages\\autots\\models\\base.py:558: RuntimeWarning: invalid value encountered in true_divide\n",
      "  smape_cons = (np.nansum(wsmape_df, axis=1) * 200) / np.count_nonzero(\n"
     ]
    },
    {
     "name": "stdout",
     "output_type": "stream",
     "text": [
      "94 - ETS with avg smape 7.47: \n",
      "Model Number: 95 of 130 with model SeasonalNaive for Validation 3\n",
      "95 - SeasonalNaive with avg smape 5.23: \n",
      "Model Number: 96 of 130 with model DatepartRegression for Validation 3\n"
     ]
    },
    {
     "name": "stderr",
     "output_type": "stream",
     "text": [
      "C:\\ProgramData\\Anaconda3\\lib\\site-packages\\autots\\models\\base.py:558: RuntimeWarning: invalid value encountered in true_divide\n",
      "  smape_cons = (np.nansum(wsmape_df, axis=1) * 200) / np.count_nonzero(\n"
     ]
    },
    {
     "name": "stdout",
     "output_type": "stream",
     "text": [
      "📈 96 - DatepartRegression with avg smape 1.91: \n"
     ]
    },
    {
     "name": "stderr",
     "output_type": "stream",
     "text": [
      "C:\\ProgramData\\Anaconda3\\lib\\site-packages\\autots\\models\\base.py:558: RuntimeWarning: invalid value encountered in true_divide\n",
      "  smape_cons = (np.nansum(wsmape_df, axis=1) * 200) / np.count_nonzero(\n"
     ]
    },
    {
     "name": "stdout",
     "output_type": "stream",
     "text": [
      "Model Number: 97 of 130 with model MultivariateRegression for Validation 3\n",
      "97 - MultivariateRegression with avg smape 7.8: \n",
      "Model Number: 98 of 130 with model ETS for Validation 3\n",
      "98 - ETS with avg smape 2.76: \n",
      "Model Number: 99 of 130 with model AverageValueNaive for Validation 3\n"
     ]
    },
    {
     "name": "stderr",
     "output_type": "stream",
     "text": [
      "C:\\ProgramData\\Anaconda3\\lib\\site-packages\\autots\\models\\base.py:558: RuntimeWarning: invalid value encountered in true_divide\n",
      "  smape_cons = (np.nansum(wsmape_df, axis=1) * 200) / np.count_nonzero(\n",
      "C:\\ProgramData\\Anaconda3\\lib\\site-packages\\autots\\models\\base.py:558: RuntimeWarning: invalid value encountered in true_divide\n",
      "  smape_cons = (np.nansum(wsmape_df, axis=1) * 200) / np.count_nonzero(\n",
      "C:\\ProgramData\\Anaconda3\\lib\\site-packages\\autots\\models\\base.py:558: RuntimeWarning: invalid value encountered in true_divide\n",
      "  smape_cons = (np.nansum(wsmape_df, axis=1) * 200) / np.count_nonzero(\n"
     ]
    },
    {
     "name": "stdout",
     "output_type": "stream",
     "text": [
      "99 - AverageValueNaive with avg smape 2.93: \n",
      "Model Number: 100 of 130 with model SeasonalNaive for Validation 3\n",
      "100 - SeasonalNaive with avg smape 5.19: \n",
      "Model Number: 101 of 130 with model UnivariateMotif for Validation 3\n",
      "101 - UnivariateMotif with avg smape 3.96: \n",
      "Model Number: 102 of 130 with model WindowRegression for Validation 3\n",
      "102 - WindowRegression with avg smape 8.47: \n",
      "Model Number: 103 of 130 with model SeasonalNaive for Validation 3\n"
     ]
    },
    {
     "name": "stderr",
     "output_type": "stream",
     "text": [
      "C:\\ProgramData\\Anaconda3\\lib\\site-packages\\autots\\models\\base.py:558: RuntimeWarning: invalid value encountered in true_divide\n",
      "  smape_cons = (np.nansum(wsmape_df, axis=1) * 200) / np.count_nonzero(\n",
      "C:\\ProgramData\\Anaconda3\\lib\\site-packages\\autots\\models\\base.py:558: RuntimeWarning: invalid value encountered in true_divide\n",
      "  smape_cons = (np.nansum(wsmape_df, axis=1) * 200) / np.count_nonzero(\n",
      "C:\\ProgramData\\Anaconda3\\lib\\site-packages\\autots\\models\\base.py:558: RuntimeWarning: invalid value encountered in true_divide\n",
      "  smape_cons = (np.nansum(wsmape_df, axis=1) * 200) / np.count_nonzero(\n",
      "C:\\ProgramData\\Anaconda3\\lib\\site-packages\\autots\\models\\base.py:558: RuntimeWarning: invalid value encountered in true_divide\n",
      "  smape_cons = (np.nansum(wsmape_df, axis=1) * 200) / np.count_nonzero(\n"
     ]
    },
    {
     "name": "stdout",
     "output_type": "stream",
     "text": [
      "103 - SeasonalNaive with avg smape 5.07: \n",
      "Model Number: 104 of 130 with model MultivariateRegression for Validation 3\n"
     ]
    },
    {
     "name": "stderr",
     "output_type": "stream",
     "text": [
      "C:\\ProgramData\\Anaconda3\\lib\\site-packages\\autots\\models\\base.py:558: RuntimeWarning: invalid value encountered in true_divide\n",
      "  smape_cons = (np.nansum(wsmape_df, axis=1) * 200) / np.count_nonzero(\n"
     ]
    },
    {
     "name": "stdout",
     "output_type": "stream",
     "text": [
      "104 - MultivariateRegression with avg smape 7.3: \n",
      "Model Number: 105 of 130 with model MultivariateRegression for Validation 3\n",
      "105 - MultivariateRegression with avg smape 7.57: \n",
      "Model Number: 106 of 130 with model GLM for Validation 3\n",
      "106 - GLM with avg smape 14.09: \n",
      "Model Number: 107 of 130 with model WindowRegression for Validation 3\n",
      "107 - WindowRegression with avg smape 8.2: \n",
      "Model Number: 108 of 130 with model GLM for Validation 3\n"
     ]
    },
    {
     "name": "stderr",
     "output_type": "stream",
     "text": [
      "C:\\ProgramData\\Anaconda3\\lib\\site-packages\\autots\\models\\base.py:558: RuntimeWarning: invalid value encountered in true_divide\n",
      "  smape_cons = (np.nansum(wsmape_df, axis=1) * 200) / np.count_nonzero(\n",
      "C:\\ProgramData\\Anaconda3\\lib\\site-packages\\autots\\models\\base.py:558: RuntimeWarning: invalid value encountered in true_divide\n",
      "  smape_cons = (np.nansum(wsmape_df, axis=1) * 200) / np.count_nonzero(\n",
      "C:\\ProgramData\\Anaconda3\\lib\\site-packages\\autots\\models\\base.py:558: RuntimeWarning: invalid value encountered in true_divide\n",
      "  smape_cons = (np.nansum(wsmape_df, axis=1) * 200) / np.count_nonzero(\n"
     ]
    },
    {
     "name": "stdout",
     "output_type": "stream",
     "text": [
      "108 - GLM with avg smape 13.98: \n",
      "Model Number: 109 of 130 with model GLM for Validation 3\n",
      "109 - GLM with avg smape 13.23: \n",
      "Model Number: 110 of 130 with model GLM for Validation 3\n",
      "110 - GLM with avg smape 14.03: \n",
      "Model Number: 111 of 130 with model GLM for Validation 3\n"
     ]
    },
    {
     "name": "stderr",
     "output_type": "stream",
     "text": [
      "C:\\ProgramData\\Anaconda3\\lib\\site-packages\\autots\\models\\base.py:558: RuntimeWarning: invalid value encountered in true_divide\n",
      "  smape_cons = (np.nansum(wsmape_df, axis=1) * 200) / np.count_nonzero(\n",
      "C:\\ProgramData\\Anaconda3\\lib\\site-packages\\autots\\models\\base.py:558: RuntimeWarning: invalid value encountered in true_divide\n",
      "  smape_cons = (np.nansum(wsmape_df, axis=1) * 200) / np.count_nonzero(\n",
      "C:\\ProgramData\\Anaconda3\\lib\\site-packages\\autots\\models\\base.py:558: RuntimeWarning: invalid value encountered in true_divide\n",
      "  smape_cons = (np.nansum(wsmape_df, axis=1) * 200) / np.count_nonzero(\n",
      "C:\\ProgramData\\Anaconda3\\lib\\site-packages\\autots\\models\\base.py:558: RuntimeWarning: invalid value encountered in true_divide\n",
      "  smape_cons = (np.nansum(wsmape_df, axis=1) * 200) / np.count_nonzero(\n"
     ]
    },
    {
     "name": "stdout",
     "output_type": "stream",
     "text": [
      "111 - GLM with avg smape 14.03: \n",
      "Model Number: 112 of 130 with model GLM for Validation 3\n",
      "112 - GLM with avg smape 13.43: \n",
      "Model Number: 113 of 130 with model SeasonalNaive for Validation 3\n",
      "113 - SeasonalNaive with avg smape 5.77: \n",
      "Model Number: 114 of 130 with model SeasonalNaive for Validation 3\n",
      "114 - SeasonalNaive with avg smape 14.36: \n",
      "Model Number: 115 of 130 with model GLS for Validation 3\n"
     ]
    },
    {
     "name": "stderr",
     "output_type": "stream",
     "text": [
      "C:\\ProgramData\\Anaconda3\\lib\\site-packages\\autots\\models\\base.py:558: RuntimeWarning: invalid value encountered in true_divide\n",
      "  smape_cons = (np.nansum(wsmape_df, axis=1) * 200) / np.count_nonzero(\n",
      "C:\\ProgramData\\Anaconda3\\lib\\site-packages\\autots\\models\\base.py:558: RuntimeWarning: invalid value encountered in true_divide\n",
      "  smape_cons = (np.nansum(wsmape_df, axis=1) * 200) / np.count_nonzero(\n",
      "C:\\ProgramData\\Anaconda3\\lib\\site-packages\\autots\\models\\base.py:558: RuntimeWarning: invalid value encountered in true_divide\n",
      "  smape_cons = (np.nansum(wsmape_df, axis=1) * 200) / np.count_nonzero(\n"
     ]
    },
    {
     "name": "stdout",
     "output_type": "stream",
     "text": [
      "115 - GLS with avg smape 17.44: \n",
      "Model Number: 116 of 130 with model GLS for Validation 3\n",
      "116 - GLS with avg smape 17.0: \n",
      "Model Number: 117 of 130 with model MultivariateRegression for Validation 3\n"
     ]
    },
    {
     "name": "stderr",
     "output_type": "stream",
     "text": [
      "C:\\ProgramData\\Anaconda3\\lib\\site-packages\\autots\\models\\base.py:558: RuntimeWarning: invalid value encountered in true_divide\n",
      "  smape_cons = (np.nansum(wsmape_df, axis=1) * 200) / np.count_nonzero(\n",
      "C:\\ProgramData\\Anaconda3\\lib\\site-packages\\autots\\models\\base.py:558: RuntimeWarning: invalid value encountered in true_divide\n",
      "  smape_cons = (np.nansum(wsmape_df, axis=1) * 200) / np.count_nonzero(\n"
     ]
    },
    {
     "name": "stdout",
     "output_type": "stream",
     "text": [
      "117 - MultivariateRegression with avg smape 7.72: \n",
      "Model Number: 118 of 130 with model GLS for Validation 3\n",
      "118 - GLS with avg smape 3.69: \n",
      "Model Number: 119 of 130 with model WindowRegression for Validation 3\n"
     ]
    },
    {
     "name": "stderr",
     "output_type": "stream",
     "text": [
      "C:\\ProgramData\\Anaconda3\\lib\\site-packages\\autots\\models\\base.py:558: RuntimeWarning: invalid value encountered in true_divide\n",
      "  smape_cons = (np.nansum(wsmape_df, axis=1) * 200) / np.count_nonzero(\n",
      "C:\\ProgramData\\Anaconda3\\lib\\site-packages\\autots\\models\\base.py:558: RuntimeWarning: invalid value encountered in true_divide\n",
      "  smape_cons = (np.nansum(wsmape_df, axis=1) * 200) / np.count_nonzero(\n",
      "C:\\ProgramData\\Anaconda3\\lib\\site-packages\\sklearn\\svm\\_base.py:985: ConvergenceWarning: Liblinear failed to converge, increase the number of iterations.\n",
      "  warnings.warn(\"Liblinear failed to converge, increase \"\n",
      "C:\\ProgramData\\Anaconda3\\lib\\site-packages\\autots\\models\\base.py:558: RuntimeWarning: invalid value encountered in true_divide\n",
      "  smape_cons = (np.nansum(wsmape_df, axis=1) * 200) / np.count_nonzero(\n"
     ]
    },
    {
     "name": "stdout",
     "output_type": "stream",
     "text": [
      "119 - WindowRegression with avg smape 5.3: \n",
      "Model Number: 120 of 130 with model UnivariateMotif for Validation 3\n",
      "120 - UnivariateMotif with avg smape 4.97: \n",
      "Model Number: 121 of 130 with model DatepartRegression for Validation 3\n",
      "121 - DatepartRegression with avg smape 3.75: \n",
      "Model Number: 122 of 130 with model GLM for Validation 3\n"
     ]
    },
    {
     "name": "stderr",
     "output_type": "stream",
     "text": [
      "C:\\ProgramData\\Anaconda3\\lib\\site-packages\\autots\\models\\base.py:558: RuntimeWarning: invalid value encountered in true_divide\n",
      "  smape_cons = (np.nansum(wsmape_df, axis=1) * 200) / np.count_nonzero(\n",
      "C:\\ProgramData\\Anaconda3\\lib\\site-packages\\autots\\models\\base.py:558: RuntimeWarning: invalid value encountered in true_divide\n",
      "  smape_cons = (np.nansum(wsmape_df, axis=1) * 200) / np.count_nonzero(\n",
      "C:\\ProgramData\\Anaconda3\\lib\\site-packages\\autots\\models\\base.py:558: RuntimeWarning: invalid value encountered in true_divide\n",
      "  smape_cons = (np.nansum(wsmape_df, axis=1) * 200) / np.count_nonzero(\n"
     ]
    },
    {
     "name": "stdout",
     "output_type": "stream",
     "text": [
      "122 - GLM with avg smape 12.14: \n",
      "Model Number: 123 of 130 with model WindowRegression for Validation 3\n",
      "123 - WindowRegression with avg smape 5.74: \n",
      "Model Number: 124 of 130 with model MultivariateMotif for Validation 3\n",
      "124 - MultivariateMotif with avg smape 10.01: \n",
      "Model Number: 125 of 130 with model MultivariateMotif for Validation 3\n",
      "125 - MultivariateMotif with avg smape 8.06: \n",
      "Model Number: 126 of 130 with model MultivariateMotif for Validation 3\n",
      "126 - MultivariateMotif with avg smape 8.06: \n",
      "Model Number: 127 of 130 with model GLS for Validation 3\n",
      "127 - GLS with avg smape 12.06: \n",
      "Model Number: 128 of 130 with model MultivariateMotif for Validation 3\n"
     ]
    },
    {
     "name": "stderr",
     "output_type": "stream",
     "text": [
      "C:\\ProgramData\\Anaconda3\\lib\\site-packages\\autots\\models\\base.py:558: RuntimeWarning: invalid value encountered in true_divide\n",
      "  smape_cons = (np.nansum(wsmape_df, axis=1) * 200) / np.count_nonzero(\n",
      "C:\\ProgramData\\Anaconda3\\lib\\site-packages\\autots\\models\\base.py:558: RuntimeWarning: invalid value encountered in true_divide\n",
      "  smape_cons = (np.nansum(wsmape_df, axis=1) * 200) / np.count_nonzero(\n",
      "C:\\ProgramData\\Anaconda3\\lib\\site-packages\\autots\\models\\base.py:558: RuntimeWarning: invalid value encountered in true_divide\n",
      "  smape_cons = (np.nansum(wsmape_df, axis=1) * 200) / np.count_nonzero(\n",
      "C:\\ProgramData\\Anaconda3\\lib\\site-packages\\autots\\models\\base.py:558: RuntimeWarning: invalid value encountered in true_divide\n",
      "  smape_cons = (np.nansum(wsmape_df, axis=1) * 200) / np.count_nonzero(\n",
      "C:\\ProgramData\\Anaconda3\\lib\\site-packages\\autots\\models\\base.py:558: RuntimeWarning: invalid value encountered in true_divide\n",
      "  smape_cons = (np.nansum(wsmape_df, axis=1) * 200) / np.count_nonzero(\n"
     ]
    },
    {
     "name": "stdout",
     "output_type": "stream",
     "text": [
      "128 - MultivariateMotif with avg smape 9.89: \n",
      "Model Number: 129 of 130 with model MultivariateMotif for Validation 3\n",
      "129 - MultivariateMotif with avg smape 3.98: \n",
      "Model Number: 130 of 130 with model MultivariateMotif for Validation 3\n",
      "130 - MultivariateMotif with avg smape 9.24: \n"
     ]
    },
    {
     "name": "stderr",
     "output_type": "stream",
     "text": [
      "C:\\ProgramData\\Anaconda3\\lib\\site-packages\\autots\\models\\base.py:558: RuntimeWarning: invalid value encountered in true_divide\n",
      "  smape_cons = (np.nansum(wsmape_df, axis=1) * 200) / np.count_nonzero(\n",
      "C:\\ProgramData\\Anaconda3\\lib\\site-packages\\autots\\models\\base.py:558: RuntimeWarning: invalid value encountered in true_divide\n",
      "  smape_cons = (np.nansum(wsmape_df, axis=1) * 200) / np.count_nonzero(\n",
      "C:\\ProgramData\\Anaconda3\\lib\\site-packages\\autots\\models\\base.py:558: RuntimeWarning: invalid value encountered in true_divide\n",
      "  smape_cons = (np.nansum(wsmape_df, axis=1) * 200) / np.count_nonzero(\n"
     ]
    },
    {
     "name": "stdout",
     "output_type": "stream",
     "text": [
      "                Close\n",
      "2022-08-29  28.739646\n",
      "2022-08-30  28.715092\n",
      "2022-08-31  28.683659\n",
      "2022-09-01  28.653124\n",
      "2022-09-02  28.630395\n",
      "2022-09-05  28.608637\n",
      "2022-09-06  28.599656\n",
      "2022-09-07  28.567663\n",
      "2022-09-08  28.538335\n",
      "2022-09-09  28.514443\n",
      "2022-09-12  28.508154\n",
      "2022-09-13  28.483402\n",
      "2022-09-14  28.435950\n",
      "2022-09-15  28.370653\n"
     ]
    }
   ],
   "source": [
    "model.fit(data, date_col='Date', value_col='Close', id_col=None)\n",
    "prediction = model.predict()\n",
    "forecast = prediction.forecast\n",
    "print(forecast)"
   ]
  },
  {
   "cell_type": "markdown",
   "id": "5ab144e8",
   "metadata": {},
   "source": [
    "### Health Insurance Premium Prediction"
   ]
  },
  {
   "cell_type": "raw",
   "id": "0fa6063d",
   "metadata": {},
   "source": [
    "Health insurance has become much important in these days, medical expenses are so high that a normal person finds so expensive to pay hospital's expenses"
   ]
  },
  {
   "cell_type": "code",
   "execution_count": 85,
   "id": "94db4d83",
   "metadata": {},
   "outputs": [
    {
     "data": {
      "text/html": [
       "<div>\n",
       "<style scoped>\n",
       "    .dataframe tbody tr th:only-of-type {\n",
       "        vertical-align: middle;\n",
       "    }\n",
       "\n",
       "    .dataframe tbody tr th {\n",
       "        vertical-align: top;\n",
       "    }\n",
       "\n",
       "    .dataframe thead th {\n",
       "        text-align: right;\n",
       "    }\n",
       "</style>\n",
       "<table border=\"1\" class=\"dataframe\">\n",
       "  <thead>\n",
       "    <tr style=\"text-align: right;\">\n",
       "      <th></th>\n",
       "      <th>age</th>\n",
       "      <th>sex</th>\n",
       "      <th>bmi</th>\n",
       "      <th>children</th>\n",
       "      <th>smoker</th>\n",
       "      <th>region</th>\n",
       "      <th>charges</th>\n",
       "    </tr>\n",
       "  </thead>\n",
       "  <tbody>\n",
       "    <tr>\n",
       "      <th>0</th>\n",
       "      <td>19</td>\n",
       "      <td>female</td>\n",
       "      <td>27.900</td>\n",
       "      <td>0</td>\n",
       "      <td>yes</td>\n",
       "      <td>southwest</td>\n",
       "      <td>16884.92400</td>\n",
       "    </tr>\n",
       "    <tr>\n",
       "      <th>1</th>\n",
       "      <td>18</td>\n",
       "      <td>male</td>\n",
       "      <td>33.770</td>\n",
       "      <td>1</td>\n",
       "      <td>no</td>\n",
       "      <td>southeast</td>\n",
       "      <td>1725.55230</td>\n",
       "    </tr>\n",
       "    <tr>\n",
       "      <th>2</th>\n",
       "      <td>28</td>\n",
       "      <td>male</td>\n",
       "      <td>33.000</td>\n",
       "      <td>3</td>\n",
       "      <td>no</td>\n",
       "      <td>southeast</td>\n",
       "      <td>4449.46200</td>\n",
       "    </tr>\n",
       "    <tr>\n",
       "      <th>3</th>\n",
       "      <td>33</td>\n",
       "      <td>male</td>\n",
       "      <td>22.705</td>\n",
       "      <td>0</td>\n",
       "      <td>no</td>\n",
       "      <td>northwest</td>\n",
       "      <td>21984.47061</td>\n",
       "    </tr>\n",
       "    <tr>\n",
       "      <th>4</th>\n",
       "      <td>32</td>\n",
       "      <td>male</td>\n",
       "      <td>28.880</td>\n",
       "      <td>0</td>\n",
       "      <td>no</td>\n",
       "      <td>northwest</td>\n",
       "      <td>3866.85520</td>\n",
       "    </tr>\n",
       "  </tbody>\n",
       "</table>\n",
       "</div>"
      ],
      "text/plain": [
       "   age     sex     bmi  children smoker     region      charges\n",
       "0   19  female  27.900         0    yes  southwest  16884.92400\n",
       "1   18    male  33.770         1     no  southeast   1725.55230\n",
       "2   28    male  33.000         3     no  southeast   4449.46200\n",
       "3   33    male  22.705         0     no  northwest  21984.47061\n",
       "4   32    male  28.880         0     no  northwest   3866.85520"
      ]
     },
     "execution_count": 85,
     "metadata": {},
     "output_type": "execute_result"
    }
   ],
   "source": [
    "data = pd.read_csv(\"Health_insurance.csv\")\n",
    "data.head()"
   ]
  },
  {
   "cell_type": "code",
   "execution_count": 86,
   "id": "4c48614b",
   "metadata": {},
   "outputs": [],
   "source": [
    "# making a copy of the dataframe\n",
    "df=data.copy()"
   ]
  },
  {
   "cell_type": "code",
   "execution_count": 87,
   "id": "296ad780",
   "metadata": {},
   "outputs": [
    {
     "data": {
      "text/plain": [
       "(1338, 7)"
      ]
     },
     "execution_count": 87,
     "metadata": {},
     "output_type": "execute_result"
    }
   ],
   "source": [
    "# getting shape\n",
    "df.shape"
   ]
  },
  {
   "cell_type": "markdown",
   "id": "b30a3fe4",
   "metadata": {},
   "source": [
    "So we have 1338 rows and 7 columns"
   ]
  },
  {
   "cell_type": "code",
   "execution_count": 88,
   "id": "2a387a5a",
   "metadata": {},
   "outputs": [
    {
     "name": "stdout",
     "output_type": "stream",
     "text": [
      "<class 'pandas.core.frame.DataFrame'>\n",
      "RangeIndex: 1338 entries, 0 to 1337\n",
      "Data columns (total 7 columns):\n",
      " #   Column    Non-Null Count  Dtype  \n",
      "---  ------    --------------  -----  \n",
      " 0   age       1338 non-null   int64  \n",
      " 1   sex       1338 non-null   object \n",
      " 2   bmi       1338 non-null   float64\n",
      " 3   children  1338 non-null   int64  \n",
      " 4   smoker    1338 non-null   object \n",
      " 5   region    1338 non-null   object \n",
      " 6   charges   1338 non-null   float64\n",
      "dtypes: float64(2), int64(2), object(3)\n",
      "memory usage: 73.3+ KB\n"
     ]
    }
   ],
   "source": [
    "# getting quick summary\n",
    "df.info()"
   ]
  },
  {
   "cell_type": "code",
   "execution_count": 89,
   "id": "51cf8366",
   "metadata": {},
   "outputs": [
    {
     "data": {
      "text/plain": [
       "age         0\n",
       "sex         0\n",
       "bmi         0\n",
       "children    0\n",
       "smoker      0\n",
       "region      0\n",
       "charges     0\n",
       "dtype: int64"
      ]
     },
     "execution_count": 89,
     "metadata": {},
     "output_type": "execute_result"
    }
   ],
   "source": [
    "df.isnull().sum()"
   ]
  },
  {
   "cell_type": "code",
   "execution_count": 90,
   "id": "ce119121",
   "metadata": {},
   "outputs": [
    {
     "data": {
      "text/plain": [
       "array(['female', 'male'], dtype=object)"
      ]
     },
     "execution_count": 90,
     "metadata": {},
     "output_type": "execute_result"
    }
   ],
   "source": [
    "df['sex'].unique()"
   ]
  },
  {
   "cell_type": "markdown",
   "id": "0b982a18",
   "metadata": {},
   "source": [
    "There are two class in sex column"
   ]
  },
  {
   "cell_type": "code",
   "execution_count": 91,
   "id": "db9b782f",
   "metadata": {},
   "outputs": [
    {
     "data": {
      "text/plain": [
       "array(['yes', 'no'], dtype=object)"
      ]
     },
     "execution_count": 91,
     "metadata": {},
     "output_type": "execute_result"
    }
   ],
   "source": [
    "df['smoker'].unique()"
   ]
  },
  {
   "cell_type": "code",
   "execution_count": 92,
   "id": "2ca04551",
   "metadata": {},
   "outputs": [
    {
     "data": {
      "text/plain": [
       "array(['southwest', 'southeast', 'northwest', 'northeast'], dtype=object)"
      ]
     },
     "execution_count": 92,
     "metadata": {},
     "output_type": "execute_result"
    }
   ],
   "source": [
    "df['region'].unique()"
   ]
  },
  {
   "cell_type": "code",
   "execution_count": 93,
   "id": "40ce023c",
   "metadata": {},
   "outputs": [],
   "source": [
    "import plotly.express as px"
   ]
  },
  {
   "cell_type": "code",
   "execution_count": 94,
   "id": "b42fd145",
   "metadata": {},
   "outputs": [
    {
     "data": {
      "application/vnd.plotly.v1+json": {
       "config": {
        "plotlyServerURL": "https://plot.ly"
       },
       "data": [
        {
         "alignmentgroup": "True",
         "bingroup": "x",
         "hovertemplate": "smoker=yes<br>sex=%{x}<br>count=%{y}<extra></extra>",
         "legendgroup": "yes",
         "marker": {
          "color": "#636efa",
          "pattern": {
           "shape": ""
          }
         },
         "name": "yes",
         "offsetgroup": "yes",
         "orientation": "v",
         "showlegend": true,
         "type": "histogram",
         "x": [
          "female",
          "female",
          "male",
          "male",
          "female",
          "male",
          "male",
          "male",
          "male",
          "male",
          "male",
          "male",
          "male",
          "male",
          "male",
          "female",
          "female",
          "male",
          "female",
          "male",
          "female",
          "male",
          "female",
          "male",
          "female",
          "male",
          "male",
          "female",
          "male",
          "male",
          "female",
          "male",
          "female",
          "female",
          "male",
          "male",
          "male",
          "female",
          "male",
          "male",
          "male",
          "female",
          "female",
          "female",
          "male",
          "female",
          "male",
          "male",
          "male",
          "female",
          "male",
          "female",
          "female",
          "male",
          "female",
          "male",
          "male",
          "male",
          "male",
          "female",
          "male",
          "male",
          "male",
          "male",
          "male",
          "female",
          "male",
          "female",
          "male",
          "male",
          "male",
          "male",
          "female",
          "male",
          "female",
          "male",
          "male",
          "female",
          "female",
          "male",
          "male",
          "female",
          "male",
          "female",
          "female",
          "male",
          "female",
          "male",
          "female",
          "female",
          "female",
          "female",
          "male",
          "male",
          "male",
          "female",
          "male",
          "male",
          "female",
          "male",
          "male",
          "male",
          "female",
          "male",
          "male",
          "male",
          "male",
          "male",
          "male",
          "male",
          "female",
          "male",
          "female",
          "female",
          "male",
          "female",
          "female",
          "female",
          "female",
          "female",
          "male",
          "female",
          "male",
          "female",
          "male",
          "male",
          "female",
          "male",
          "male",
          "female",
          "female",
          "male",
          "female",
          "male",
          "female",
          "male",
          "male",
          "male",
          "male",
          "female",
          "female",
          "female",
          "male",
          "female",
          "male",
          "male",
          "male",
          "male",
          "female",
          "female",
          "male",
          "male",
          "female",
          "male",
          "female",
          "male",
          "male",
          "male",
          "female",
          "female",
          "female",
          "male",
          "male",
          "male",
          "female",
          "female",
          "female",
          "female",
          "female",
          "female",
          "female",
          "male",
          "female",
          "female",
          "male",
          "male",
          "female",
          "male",
          "female",
          "male",
          "female",
          "male",
          "female",
          "male",
          "male",
          "male",
          "male",
          "male",
          "male",
          "male",
          "male",
          "male",
          "male",
          "male",
          "female",
          "female",
          "male",
          "male",
          "male",
          "male",
          "female",
          "male",
          "male",
          "female",
          "female",
          "male",
          "male",
          "female",
          "female",
          "male",
          "female",
          "male",
          "male",
          "male",
          "male",
          "male",
          "male",
          "female",
          "male",
          "female",
          "female",
          "female",
          "male",
          "female",
          "male",
          "male",
          "female",
          "female",
          "female",
          "female",
          "male",
          "female",
          "male",
          "male",
          "female",
          "female",
          "male",
          "female",
          "male",
          "female",
          "female",
          "female",
          "male",
          "female",
          "female",
          "female",
          "male",
          "female",
          "male",
          "male",
          "male",
          "male",
          "male",
          "male",
          "male",
          "male",
          "male",
          "female",
          "female",
          "male",
          "male",
          "male",
          "male",
          "male",
          "male",
          "male",
          "female",
          "male",
          "female",
          "female",
          "female",
          "male",
          "female",
          "female"
         ],
         "xaxis": "x",
         "yaxis": "y"
        },
        {
         "alignmentgroup": "True",
         "bingroup": "x",
         "hovertemplate": "smoker=no<br>sex=%{x}<br>count=%{y}<extra></extra>",
         "legendgroup": "no",
         "marker": {
          "color": "#EF553B",
          "pattern": {
           "shape": ""
          }
         },
         "name": "no",
         "offsetgroup": "no",
         "orientation": "v",
         "showlegend": true,
         "type": "histogram",
         "x": [
          "male",
          "male",
          "male",
          "male",
          "female",
          "female",
          "female",
          "male",
          "female",
          "male",
          "male",
          "female",
          "male",
          "female",
          "male",
          "male",
          "female",
          "female",
          "male",
          "male",
          "female",
          "female",
          "female",
          "male",
          "female",
          "female",
          "male",
          "male",
          "female",
          "male",
          "female",
          "female",
          "male",
          "female",
          "male",
          "male",
          "female",
          "female",
          "female",
          "female",
          "female",
          "female",
          "female",
          "female",
          "male",
          "male",
          "male",
          "female",
          "female",
          "female",
          "male",
          "female",
          "male",
          "female",
          "male",
          "male",
          "male",
          "female",
          "male",
          "female",
          "female",
          "male",
          "female",
          "female",
          "female",
          "female",
          "female",
          "female",
          "female",
          "male",
          "female",
          "female",
          "male",
          "female",
          "male",
          "female",
          "female",
          "female",
          "male",
          "male",
          "male",
          "female",
          "male",
          "female",
          "male",
          "male",
          "male",
          "female",
          "female",
          "male",
          "male",
          "female",
          "female",
          "female",
          "female",
          "male",
          "female",
          "female",
          "female",
          "male",
          "female",
          "female",
          "male",
          "male",
          "female",
          "female",
          "male",
          "male",
          "male",
          "female",
          "female",
          "female",
          "male",
          "male",
          "male",
          "female",
          "female",
          "male",
          "female",
          "male",
          "female",
          "male",
          "male",
          "female",
          "female",
          "female",
          "male",
          "male",
          "male",
          "male",
          "female",
          "female",
          "male",
          "male",
          "female",
          "female",
          "male",
          "female",
          "male",
          "female",
          "male",
          "female",
          "female",
          "female",
          "female",
          "male",
          "female",
          "male",
          "female",
          "male",
          "male",
          "female",
          "female",
          "female",
          "female",
          "female",
          "female",
          "female",
          "male",
          "female",
          "male",
          "female",
          "male",
          "male",
          "male",
          "male",
          "female",
          "female",
          "female",
          "female",
          "male",
          "female",
          "female",
          "female",
          "female",
          "male",
          "male",
          "male",
          "female",
          "female",
          "male",
          "female",
          "female",
          "female",
          "male",
          "male",
          "female",
          "male",
          "male",
          "female",
          "female",
          "male",
          "male",
          "female",
          "male",
          "male",
          "male",
          "male",
          "female",
          "female",
          "male",
          "female",
          "female",
          "female",
          "male",
          "male",
          "male",
          "male",
          "male",
          "male",
          "female",
          "male",
          "female",
          "male",
          "female",
          "male",
          "female",
          "female",
          "male",
          "female",
          "female",
          "male",
          "female",
          "male",
          "female",
          "male",
          "male",
          "female",
          "male",
          "female",
          "female",
          "female",
          "male",
          "female",
          "female",
          "male",
          "female",
          "male",
          "female",
          "male",
          "male",
          "male",
          "male",
          "female",
          "male",
          "male",
          "female",
          "male",
          "male",
          "male",
          "female",
          "male",
          "female",
          "female",
          "female",
          "male",
          "male",
          "male",
          "female",
          "female",
          "male",
          "female",
          "male",
          "female",
          "female",
          "male",
          "male",
          "female",
          "male",
          "female",
          "female",
          "female",
          "male",
          "female",
          "male",
          "male",
          "male",
          "male",
          "female",
          "female",
          "male",
          "female",
          "female",
          "female",
          "female",
          "female",
          "male",
          "male",
          "female",
          "female",
          "female",
          "male",
          "female",
          "male",
          "male",
          "female",
          "male",
          "male",
          "female",
          "male",
          "female",
          "female",
          "male",
          "female",
          "male",
          "male",
          "female",
          "male",
          "female",
          "male",
          "male",
          "female",
          "female",
          "male",
          "female",
          "male",
          "male",
          "female",
          "female",
          "female",
          "male",
          "male",
          "male",
          "male",
          "female",
          "female",
          "male",
          "male",
          "male",
          "male",
          "male",
          "female",
          "female",
          "female",
          "female",
          "male",
          "female",
          "male",
          "female",
          "male",
          "male",
          "male",
          "male",
          "female",
          "male",
          "female",
          "male",
          "female",
          "female",
          "male",
          "female",
          "female",
          "male",
          "male",
          "male",
          "male",
          "male",
          "male",
          "male",
          "female",
          "female",
          "male",
          "female",
          "female",
          "female",
          "male",
          "male",
          "female",
          "female",
          "female",
          "female",
          "male",
          "female",
          "female",
          "female",
          "male",
          "male",
          "male",
          "male",
          "male",
          "female",
          "female",
          "male",
          "female",
          "female",
          "male",
          "male",
          "female",
          "female",
          "female",
          "male",
          "male",
          "female",
          "male",
          "female",
          "female",
          "male",
          "female",
          "male",
          "male",
          "male",
          "female",
          "female",
          "male",
          "male",
          "male",
          "male",
          "male",
          "male",
          "male",
          "female",
          "male",
          "female",
          "female",
          "female",
          "female",
          "female",
          "female",
          "female",
          "male",
          "male",
          "female",
          "male",
          "male",
          "male",
          "male",
          "female",
          "female",
          "female",
          "male",
          "female",
          "female",
          "female",
          "male",
          "male",
          "female",
          "female",
          "male",
          "female",
          "male",
          "female",
          "female",
          "male",
          "male",
          "male",
          "male",
          "female",
          "female",
          "male",
          "male",
          "female",
          "female",
          "female",
          "male",
          "female",
          "female",
          "female",
          "female",
          "female",
          "female",
          "female",
          "male",
          "male",
          "female",
          "male",
          "male",
          "male",
          "female",
          "male",
          "female",
          "male",
          "female",
          "female",
          "female",
          "male",
          "male",
          "male",
          "female",
          "female",
          "female",
          "male",
          "female",
          "female",
          "male",
          "female",
          "female",
          "female",
          "female",
          "male",
          "female",
          "female",
          "female",
          "female",
          "female",
          "female",
          "female",
          "male",
          "female",
          "male",
          "female",
          "male",
          "male",
          "male",
          "male",
          "male",
          "female",
          "male",
          "male",
          "male",
          "female",
          "female",
          "male",
          "male",
          "male",
          "female",
          "male",
          "male",
          "male",
          "female",
          "male",
          "female",
          "female",
          "female",
          "female",
          "female",
          "female",
          "female",
          "male",
          "female",
          "female",
          "male",
          "female",
          "female",
          "male",
          "male",
          "female",
          "male",
          "female",
          "male",
          "female",
          "male",
          "female",
          "male",
          "female",
          "female",
          "male",
          "male",
          "female",
          "male",
          "male",
          "male",
          "female",
          "male",
          "male",
          "male",
          "male",
          "female",
          "female",
          "female",
          "male",
          "female",
          "female",
          "female",
          "male",
          "female",
          "female",
          "female",
          "male",
          "female",
          "female",
          "male",
          "female",
          "female",
          "male",
          "female",
          "male",
          "female",
          "male",
          "female",
          "female",
          "female",
          "male",
          "male",
          "male",
          "female",
          "male",
          "female",
          "female",
          "male",
          "female",
          "female",
          "female",
          "female",
          "male",
          "male",
          "female",
          "male",
          "female",
          "male",
          "male",
          "female",
          "male",
          "male",
          "male",
          "female",
          "male",
          "male",
          "female",
          "male",
          "female",
          "male",
          "male",
          "female",
          "female",
          "male",
          "female",
          "female",
          "female",
          "male",
          "female",
          "female",
          "male",
          "male",
          "male",
          "male",
          "male",
          "male",
          "male",
          "male",
          "female",
          "female",
          "male",
          "male",
          "male",
          "female",
          "female",
          "male",
          "female",
          "female",
          "male",
          "female",
          "female",
          "female",
          "female",
          "male",
          "male",
          "female",
          "female",
          "female",
          "male",
          "male",
          "female",
          "female",
          "male",
          "male",
          "male",
          "female",
          "female",
          "male",
          "male",
          "male",
          "female",
          "female",
          "male",
          "female",
          "male",
          "male",
          "female",
          "female",
          "male",
          "male",
          "male",
          "male",
          "female",
          "female",
          "female",
          "male",
          "male",
          "male",
          "female",
          "male",
          "female",
          "male",
          "male",
          "female",
          "female",
          "female",
          "male",
          "female",
          "female",
          "female",
          "male",
          "male",
          "male",
          "male",
          "male",
          "female",
          "male",
          "female",
          "male",
          "male",
          "male",
          "female",
          "female",
          "male",
          "male",
          "female",
          "male",
          "male",
          "female",
          "male",
          "female",
          "male",
          "male",
          "female",
          "male",
          "male",
          "female",
          "male",
          "female",
          "female",
          "male",
          "male",
          "male",
          "female",
          "female",
          "male",
          "female",
          "male",
          "male",
          "female",
          "female",
          "male",
          "female",
          "female",
          "female",
          "female",
          "female",
          "male",
          "male",
          "male",
          "male",
          "female",
          "female",
          "female",
          "male",
          "male",
          "female",
          "male",
          "female",
          "male",
          "female",
          "male",
          "female",
          "male",
          "male",
          "male",
          "female",
          "female",
          "male",
          "male",
          "female",
          "male",
          "male",
          "male",
          "female",
          "male",
          "male",
          "male",
          "female",
          "female",
          "female",
          "male",
          "male",
          "male",
          "male",
          "male",
          "female",
          "female",
          "female",
          "female",
          "female",
          "male",
          "male",
          "male",
          "female",
          "female",
          "male",
          "male",
          "female",
          "male",
          "female",
          "male",
          "female",
          "male",
          "female",
          "female",
          "female",
          "male",
          "female",
          "female",
          "female",
          "female",
          "female",
          "male",
          "male",
          "male",
          "male",
          "male",
          "male",
          "male",
          "female",
          "female",
          "male",
          "female",
          "male",
          "female",
          "female",
          "female",
          "female",
          "male",
          "male",
          "female",
          "female",
          "male",
          "male",
          "female",
          "female",
          "male",
          "female",
          "male",
          "male",
          "male",
          "female",
          "male",
          "female",
          "female",
          "female",
          "male",
          "male",
          "female",
          "male",
          "female",
          "female",
          "female",
          "male",
          "male",
          "male",
          "male",
          "female",
          "female",
          "male",
          "male",
          "male",
          "female",
          "male",
          "male",
          "female",
          "female",
          "female",
          "female",
          "male",
          "male",
          "male",
          "male",
          "male",
          "male",
          "female",
          "male",
          "male",
          "male",
          "male",
          "female",
          "male",
          "female",
          "female",
          "male",
          "female",
          "female",
          "male",
          "male",
          "male",
          "male",
          "female",
          "female",
          "female",
          "male",
          "male",
          "female",
          "female",
          "male",
          "male",
          "male",
          "female",
          "male",
          "female",
          "female",
          "male",
          "female",
          "male",
          "female",
          "female",
          "male",
          "male",
          "female",
          "male",
          "female",
          "female",
          "female",
          "male",
          "male",
          "female",
          "female",
          "male",
          "male",
          "male",
          "female",
          "male",
          "male",
          "female",
          "female",
          "female",
          "female",
          "female",
          "female",
          "female",
          "female",
          "female",
          "male",
          "male",
          "female",
          "female",
          "female",
          "male",
          "female",
          "male",
          "female",
          "female",
          "male",
          "male",
          "female",
          "female",
          "female",
          "female",
          "female",
          "female",
          "female",
          "male",
          "female",
          "female",
          "female",
          "female",
          "female",
          "female",
          "female",
          "female",
          "male",
          "male",
          "female",
          "male",
          "male",
          "male",
          "male",
          "male",
          "female",
          "male",
          "male",
          "male",
          "male",
          "female",
          "female",
          "male",
          "male",
          "male",
          "female",
          "female",
          "male",
          "male",
          "male",
          "female",
          "male",
          "male",
          "male",
          "male",
          "female",
          "male",
          "female",
          "male",
          "female",
          "female",
          "male",
          "female",
          "female",
          "female",
          "male",
          "male",
          "female",
          "male",
          "female",
          "male",
          "female",
          "female",
          "female",
          "female",
          "female",
          "male",
          "female",
          "female",
          "male",
          "female",
          "female",
          "female",
          "female",
          "female",
          "male",
          "male",
          "female",
          "male",
          "male",
          "male",
          "female",
          "female",
          "female",
          "female",
          "male",
          "female",
          "female",
          "female",
          "male",
          "female",
          "male",
          "male",
          "male",
          "male",
          "male",
          "female",
          "male",
          "female",
          "female",
          "female",
          "male",
          "male",
          "female",
          "male",
          "male",
          "female",
          "male",
          "male",
          "female",
          "male",
          "male",
          "male",
          "male",
          "female",
          "male",
          "female",
          "male",
          "female",
          "female",
          "female",
          "male",
          "female",
          "female",
          "female"
         ],
         "xaxis": "x",
         "yaxis": "y"
        }
       ],
       "layout": {
        "barmode": "relative",
        "legend": {
         "title": {
          "text": "smoker"
         },
         "tracegroupgap": 0
        },
        "template": {
         "data": {
          "bar": [
           {
            "error_x": {
             "color": "#2a3f5f"
            },
            "error_y": {
             "color": "#2a3f5f"
            },
            "marker": {
             "line": {
              "color": "#E5ECF6",
              "width": 0.5
             },
             "pattern": {
              "fillmode": "overlay",
              "size": 10,
              "solidity": 0.2
             }
            },
            "type": "bar"
           }
          ],
          "barpolar": [
           {
            "marker": {
             "line": {
              "color": "#E5ECF6",
              "width": 0.5
             },
             "pattern": {
              "fillmode": "overlay",
              "size": 10,
              "solidity": 0.2
             }
            },
            "type": "barpolar"
           }
          ],
          "carpet": [
           {
            "aaxis": {
             "endlinecolor": "#2a3f5f",
             "gridcolor": "white",
             "linecolor": "white",
             "minorgridcolor": "white",
             "startlinecolor": "#2a3f5f"
            },
            "baxis": {
             "endlinecolor": "#2a3f5f",
             "gridcolor": "white",
             "linecolor": "white",
             "minorgridcolor": "white",
             "startlinecolor": "#2a3f5f"
            },
            "type": "carpet"
           }
          ],
          "choropleth": [
           {
            "colorbar": {
             "outlinewidth": 0,
             "ticks": ""
            },
            "type": "choropleth"
           }
          ],
          "contour": [
           {
            "colorbar": {
             "outlinewidth": 0,
             "ticks": ""
            },
            "colorscale": [
             [
              0,
              "#0d0887"
             ],
             [
              0.1111111111111111,
              "#46039f"
             ],
             [
              0.2222222222222222,
              "#7201a8"
             ],
             [
              0.3333333333333333,
              "#9c179e"
             ],
             [
              0.4444444444444444,
              "#bd3786"
             ],
             [
              0.5555555555555556,
              "#d8576b"
             ],
             [
              0.6666666666666666,
              "#ed7953"
             ],
             [
              0.7777777777777778,
              "#fb9f3a"
             ],
             [
              0.8888888888888888,
              "#fdca26"
             ],
             [
              1,
              "#f0f921"
             ]
            ],
            "type": "contour"
           }
          ],
          "contourcarpet": [
           {
            "colorbar": {
             "outlinewidth": 0,
             "ticks": ""
            },
            "type": "contourcarpet"
           }
          ],
          "heatmap": [
           {
            "colorbar": {
             "outlinewidth": 0,
             "ticks": ""
            },
            "colorscale": [
             [
              0,
              "#0d0887"
             ],
             [
              0.1111111111111111,
              "#46039f"
             ],
             [
              0.2222222222222222,
              "#7201a8"
             ],
             [
              0.3333333333333333,
              "#9c179e"
             ],
             [
              0.4444444444444444,
              "#bd3786"
             ],
             [
              0.5555555555555556,
              "#d8576b"
             ],
             [
              0.6666666666666666,
              "#ed7953"
             ],
             [
              0.7777777777777778,
              "#fb9f3a"
             ],
             [
              0.8888888888888888,
              "#fdca26"
             ],
             [
              1,
              "#f0f921"
             ]
            ],
            "type": "heatmap"
           }
          ],
          "heatmapgl": [
           {
            "colorbar": {
             "outlinewidth": 0,
             "ticks": ""
            },
            "colorscale": [
             [
              0,
              "#0d0887"
             ],
             [
              0.1111111111111111,
              "#46039f"
             ],
             [
              0.2222222222222222,
              "#7201a8"
             ],
             [
              0.3333333333333333,
              "#9c179e"
             ],
             [
              0.4444444444444444,
              "#bd3786"
             ],
             [
              0.5555555555555556,
              "#d8576b"
             ],
             [
              0.6666666666666666,
              "#ed7953"
             ],
             [
              0.7777777777777778,
              "#fb9f3a"
             ],
             [
              0.8888888888888888,
              "#fdca26"
             ],
             [
              1,
              "#f0f921"
             ]
            ],
            "type": "heatmapgl"
           }
          ],
          "histogram": [
           {
            "marker": {
             "pattern": {
              "fillmode": "overlay",
              "size": 10,
              "solidity": 0.2
             }
            },
            "type": "histogram"
           }
          ],
          "histogram2d": [
           {
            "colorbar": {
             "outlinewidth": 0,
             "ticks": ""
            },
            "colorscale": [
             [
              0,
              "#0d0887"
             ],
             [
              0.1111111111111111,
              "#46039f"
             ],
             [
              0.2222222222222222,
              "#7201a8"
             ],
             [
              0.3333333333333333,
              "#9c179e"
             ],
             [
              0.4444444444444444,
              "#bd3786"
             ],
             [
              0.5555555555555556,
              "#d8576b"
             ],
             [
              0.6666666666666666,
              "#ed7953"
             ],
             [
              0.7777777777777778,
              "#fb9f3a"
             ],
             [
              0.8888888888888888,
              "#fdca26"
             ],
             [
              1,
              "#f0f921"
             ]
            ],
            "type": "histogram2d"
           }
          ],
          "histogram2dcontour": [
           {
            "colorbar": {
             "outlinewidth": 0,
             "ticks": ""
            },
            "colorscale": [
             [
              0,
              "#0d0887"
             ],
             [
              0.1111111111111111,
              "#46039f"
             ],
             [
              0.2222222222222222,
              "#7201a8"
             ],
             [
              0.3333333333333333,
              "#9c179e"
             ],
             [
              0.4444444444444444,
              "#bd3786"
             ],
             [
              0.5555555555555556,
              "#d8576b"
             ],
             [
              0.6666666666666666,
              "#ed7953"
             ],
             [
              0.7777777777777778,
              "#fb9f3a"
             ],
             [
              0.8888888888888888,
              "#fdca26"
             ],
             [
              1,
              "#f0f921"
             ]
            ],
            "type": "histogram2dcontour"
           }
          ],
          "mesh3d": [
           {
            "colorbar": {
             "outlinewidth": 0,
             "ticks": ""
            },
            "type": "mesh3d"
           }
          ],
          "parcoords": [
           {
            "line": {
             "colorbar": {
              "outlinewidth": 0,
              "ticks": ""
             }
            },
            "type": "parcoords"
           }
          ],
          "pie": [
           {
            "automargin": true,
            "type": "pie"
           }
          ],
          "scatter": [
           {
            "fillpattern": {
             "fillmode": "overlay",
             "size": 10,
             "solidity": 0.2
            },
            "type": "scatter"
           }
          ],
          "scatter3d": [
           {
            "line": {
             "colorbar": {
              "outlinewidth": 0,
              "ticks": ""
             }
            },
            "marker": {
             "colorbar": {
              "outlinewidth": 0,
              "ticks": ""
             }
            },
            "type": "scatter3d"
           }
          ],
          "scattercarpet": [
           {
            "marker": {
             "colorbar": {
              "outlinewidth": 0,
              "ticks": ""
             }
            },
            "type": "scattercarpet"
           }
          ],
          "scattergeo": [
           {
            "marker": {
             "colorbar": {
              "outlinewidth": 0,
              "ticks": ""
             }
            },
            "type": "scattergeo"
           }
          ],
          "scattergl": [
           {
            "marker": {
             "colorbar": {
              "outlinewidth": 0,
              "ticks": ""
             }
            },
            "type": "scattergl"
           }
          ],
          "scattermapbox": [
           {
            "marker": {
             "colorbar": {
              "outlinewidth": 0,
              "ticks": ""
             }
            },
            "type": "scattermapbox"
           }
          ],
          "scatterpolar": [
           {
            "marker": {
             "colorbar": {
              "outlinewidth": 0,
              "ticks": ""
             }
            },
            "type": "scatterpolar"
           }
          ],
          "scatterpolargl": [
           {
            "marker": {
             "colorbar": {
              "outlinewidth": 0,
              "ticks": ""
             }
            },
            "type": "scatterpolargl"
           }
          ],
          "scatterternary": [
           {
            "marker": {
             "colorbar": {
              "outlinewidth": 0,
              "ticks": ""
             }
            },
            "type": "scatterternary"
           }
          ],
          "surface": [
           {
            "colorbar": {
             "outlinewidth": 0,
             "ticks": ""
            },
            "colorscale": [
             [
              0,
              "#0d0887"
             ],
             [
              0.1111111111111111,
              "#46039f"
             ],
             [
              0.2222222222222222,
              "#7201a8"
             ],
             [
              0.3333333333333333,
              "#9c179e"
             ],
             [
              0.4444444444444444,
              "#bd3786"
             ],
             [
              0.5555555555555556,
              "#d8576b"
             ],
             [
              0.6666666666666666,
              "#ed7953"
             ],
             [
              0.7777777777777778,
              "#fb9f3a"
             ],
             [
              0.8888888888888888,
              "#fdca26"
             ],
             [
              1,
              "#f0f921"
             ]
            ],
            "type": "surface"
           }
          ],
          "table": [
           {
            "cells": {
             "fill": {
              "color": "#EBF0F8"
             },
             "line": {
              "color": "white"
             }
            },
            "header": {
             "fill": {
              "color": "#C8D4E3"
             },
             "line": {
              "color": "white"
             }
            },
            "type": "table"
           }
          ]
         },
         "layout": {
          "annotationdefaults": {
           "arrowcolor": "#2a3f5f",
           "arrowhead": 0,
           "arrowwidth": 1
          },
          "autotypenumbers": "strict",
          "coloraxis": {
           "colorbar": {
            "outlinewidth": 0,
            "ticks": ""
           }
          },
          "colorscale": {
           "diverging": [
            [
             0,
             "#8e0152"
            ],
            [
             0.1,
             "#c51b7d"
            ],
            [
             0.2,
             "#de77ae"
            ],
            [
             0.3,
             "#f1b6da"
            ],
            [
             0.4,
             "#fde0ef"
            ],
            [
             0.5,
             "#f7f7f7"
            ],
            [
             0.6,
             "#e6f5d0"
            ],
            [
             0.7,
             "#b8e186"
            ],
            [
             0.8,
             "#7fbc41"
            ],
            [
             0.9,
             "#4d9221"
            ],
            [
             1,
             "#276419"
            ]
           ],
           "sequential": [
            [
             0,
             "#0d0887"
            ],
            [
             0.1111111111111111,
             "#46039f"
            ],
            [
             0.2222222222222222,
             "#7201a8"
            ],
            [
             0.3333333333333333,
             "#9c179e"
            ],
            [
             0.4444444444444444,
             "#bd3786"
            ],
            [
             0.5555555555555556,
             "#d8576b"
            ],
            [
             0.6666666666666666,
             "#ed7953"
            ],
            [
             0.7777777777777778,
             "#fb9f3a"
            ],
            [
             0.8888888888888888,
             "#fdca26"
            ],
            [
             1,
             "#f0f921"
            ]
           ],
           "sequentialminus": [
            [
             0,
             "#0d0887"
            ],
            [
             0.1111111111111111,
             "#46039f"
            ],
            [
             0.2222222222222222,
             "#7201a8"
            ],
            [
             0.3333333333333333,
             "#9c179e"
            ],
            [
             0.4444444444444444,
             "#bd3786"
            ],
            [
             0.5555555555555556,
             "#d8576b"
            ],
            [
             0.6666666666666666,
             "#ed7953"
            ],
            [
             0.7777777777777778,
             "#fb9f3a"
            ],
            [
             0.8888888888888888,
             "#fdca26"
            ],
            [
             1,
             "#f0f921"
            ]
           ]
          },
          "colorway": [
           "#636efa",
           "#EF553B",
           "#00cc96",
           "#ab63fa",
           "#FFA15A",
           "#19d3f3",
           "#FF6692",
           "#B6E880",
           "#FF97FF",
           "#FECB52"
          ],
          "font": {
           "color": "#2a3f5f"
          },
          "geo": {
           "bgcolor": "white",
           "lakecolor": "white",
           "landcolor": "#E5ECF6",
           "showlakes": true,
           "showland": true,
           "subunitcolor": "white"
          },
          "hoverlabel": {
           "align": "left"
          },
          "hovermode": "closest",
          "mapbox": {
           "style": "light"
          },
          "paper_bgcolor": "white",
          "plot_bgcolor": "#E5ECF6",
          "polar": {
           "angularaxis": {
            "gridcolor": "white",
            "linecolor": "white",
            "ticks": ""
           },
           "bgcolor": "#E5ECF6",
           "radialaxis": {
            "gridcolor": "white",
            "linecolor": "white",
            "ticks": ""
           }
          },
          "scene": {
           "xaxis": {
            "backgroundcolor": "#E5ECF6",
            "gridcolor": "white",
            "gridwidth": 2,
            "linecolor": "white",
            "showbackground": true,
            "ticks": "",
            "zerolinecolor": "white"
           },
           "yaxis": {
            "backgroundcolor": "#E5ECF6",
            "gridcolor": "white",
            "gridwidth": 2,
            "linecolor": "white",
            "showbackground": true,
            "ticks": "",
            "zerolinecolor": "white"
           },
           "zaxis": {
            "backgroundcolor": "#E5ECF6",
            "gridcolor": "white",
            "gridwidth": 2,
            "linecolor": "white",
            "showbackground": true,
            "ticks": "",
            "zerolinecolor": "white"
           }
          },
          "shapedefaults": {
           "line": {
            "color": "#2a3f5f"
           }
          },
          "ternary": {
           "aaxis": {
            "gridcolor": "white",
            "linecolor": "white",
            "ticks": ""
           },
           "baxis": {
            "gridcolor": "white",
            "linecolor": "white",
            "ticks": ""
           },
           "bgcolor": "#E5ECF6",
           "caxis": {
            "gridcolor": "white",
            "linecolor": "white",
            "ticks": ""
           }
          },
          "title": {
           "x": 0.05
          },
          "xaxis": {
           "automargin": true,
           "gridcolor": "white",
           "linecolor": "white",
           "ticks": "",
           "title": {
            "standoff": 15
           },
           "zerolinecolor": "white",
           "zerolinewidth": 2
          },
          "yaxis": {
           "automargin": true,
           "gridcolor": "white",
           "linecolor": "white",
           "ticks": "",
           "title": {
            "standoff": 15
           },
           "zerolinecolor": "white",
           "zerolinewidth": 2
          }
         }
        },
        "title": {
         "text": "Number of Smokers"
        },
        "xaxis": {
         "anchor": "y",
         "domain": [
          0,
          1
         ],
         "title": {
          "text": "sex"
         }
        },
        "yaxis": {
         "anchor": "x",
         "domain": [
          0,
          1
         ],
         "title": {
          "text": "count"
         }
        }
       }
      },
      "text/html": [
       "<div>                            <div id=\"775d7b3f-e820-4568-a95f-b78b007f94ad\" class=\"plotly-graph-div\" style=\"height:525px; width:100%;\"></div>            <script type=\"text/javascript\">                require([\"plotly\"], function(Plotly) {                    window.PLOTLYENV=window.PLOTLYENV || {};                                    if (document.getElementById(\"775d7b3f-e820-4568-a95f-b78b007f94ad\")) {                    Plotly.newPlot(                        \"775d7b3f-e820-4568-a95f-b78b007f94ad\",                        [{\"alignmentgroup\":\"True\",\"bingroup\":\"x\",\"hovertemplate\":\"smoker=yes<br>sex=%{x}<br>count=%{y}<extra></extra>\",\"legendgroup\":\"yes\",\"marker\":{\"color\":\"#636efa\",\"pattern\":{\"shape\":\"\"}},\"name\":\"yes\",\"offsetgroup\":\"yes\",\"orientation\":\"v\",\"showlegend\":true,\"x\":[\"female\",\"female\",\"male\",\"male\",\"female\",\"male\",\"male\",\"male\",\"male\",\"male\",\"male\",\"male\",\"male\",\"male\",\"male\",\"female\",\"female\",\"male\",\"female\",\"male\",\"female\",\"male\",\"female\",\"male\",\"female\",\"male\",\"male\",\"female\",\"male\",\"male\",\"female\",\"male\",\"female\",\"female\",\"male\",\"male\",\"male\",\"female\",\"male\",\"male\",\"male\",\"female\",\"female\",\"female\",\"male\",\"female\",\"male\",\"male\",\"male\",\"female\",\"male\",\"female\",\"female\",\"male\",\"female\",\"male\",\"male\",\"male\",\"male\",\"female\",\"male\",\"male\",\"male\",\"male\",\"male\",\"female\",\"male\",\"female\",\"male\",\"male\",\"male\",\"male\",\"female\",\"male\",\"female\",\"male\",\"male\",\"female\",\"female\",\"male\",\"male\",\"female\",\"male\",\"female\",\"female\",\"male\",\"female\",\"male\",\"female\",\"female\",\"female\",\"female\",\"male\",\"male\",\"male\",\"female\",\"male\",\"male\",\"female\",\"male\",\"male\",\"male\",\"female\",\"male\",\"male\",\"male\",\"male\",\"male\",\"male\",\"male\",\"female\",\"male\",\"female\",\"female\",\"male\",\"female\",\"female\",\"female\",\"female\",\"female\",\"male\",\"female\",\"male\",\"female\",\"male\",\"male\",\"female\",\"male\",\"male\",\"female\",\"female\",\"male\",\"female\",\"male\",\"female\",\"male\",\"male\",\"male\",\"male\",\"female\",\"female\",\"female\",\"male\",\"female\",\"male\",\"male\",\"male\",\"male\",\"female\",\"female\",\"male\",\"male\",\"female\",\"male\",\"female\",\"male\",\"male\",\"male\",\"female\",\"female\",\"female\",\"male\",\"male\",\"male\",\"female\",\"female\",\"female\",\"female\",\"female\",\"female\",\"female\",\"male\",\"female\",\"female\",\"male\",\"male\",\"female\",\"male\",\"female\",\"male\",\"female\",\"male\",\"female\",\"male\",\"male\",\"male\",\"male\",\"male\",\"male\",\"male\",\"male\",\"male\",\"male\",\"male\",\"female\",\"female\",\"male\",\"male\",\"male\",\"male\",\"female\",\"male\",\"male\",\"female\",\"female\",\"male\",\"male\",\"female\",\"female\",\"male\",\"female\",\"male\",\"male\",\"male\",\"male\",\"male\",\"male\",\"female\",\"male\",\"female\",\"female\",\"female\",\"male\",\"female\",\"male\",\"male\",\"female\",\"female\",\"female\",\"female\",\"male\",\"female\",\"male\",\"male\",\"female\",\"female\",\"male\",\"female\",\"male\",\"female\",\"female\",\"female\",\"male\",\"female\",\"female\",\"female\",\"male\",\"female\",\"male\",\"male\",\"male\",\"male\",\"male\",\"male\",\"male\",\"male\",\"male\",\"female\",\"female\",\"male\",\"male\",\"male\",\"male\",\"male\",\"male\",\"male\",\"female\",\"male\",\"female\",\"female\",\"female\",\"male\",\"female\",\"female\"],\"xaxis\":\"x\",\"yaxis\":\"y\",\"type\":\"histogram\"},{\"alignmentgroup\":\"True\",\"bingroup\":\"x\",\"hovertemplate\":\"smoker=no<br>sex=%{x}<br>count=%{y}<extra></extra>\",\"legendgroup\":\"no\",\"marker\":{\"color\":\"#EF553B\",\"pattern\":{\"shape\":\"\"}},\"name\":\"no\",\"offsetgroup\":\"no\",\"orientation\":\"v\",\"showlegend\":true,\"x\":[\"male\",\"male\",\"male\",\"male\",\"female\",\"female\",\"female\",\"male\",\"female\",\"male\",\"male\",\"female\",\"male\",\"female\",\"male\",\"male\",\"female\",\"female\",\"male\",\"male\",\"female\",\"female\",\"female\",\"male\",\"female\",\"female\",\"male\",\"male\",\"female\",\"male\",\"female\",\"female\",\"male\",\"female\",\"male\",\"male\",\"female\",\"female\",\"female\",\"female\",\"female\",\"female\",\"female\",\"female\",\"male\",\"male\",\"male\",\"female\",\"female\",\"female\",\"male\",\"female\",\"male\",\"female\",\"male\",\"male\",\"male\",\"female\",\"male\",\"female\",\"female\",\"male\",\"female\",\"female\",\"female\",\"female\",\"female\",\"female\",\"female\",\"male\",\"female\",\"female\",\"male\",\"female\",\"male\",\"female\",\"female\",\"female\",\"male\",\"male\",\"male\",\"female\",\"male\",\"female\",\"male\",\"male\",\"male\",\"female\",\"female\",\"male\",\"male\",\"female\",\"female\",\"female\",\"female\",\"male\",\"female\",\"female\",\"female\",\"male\",\"female\",\"female\",\"male\",\"male\",\"female\",\"female\",\"male\",\"male\",\"male\",\"female\",\"female\",\"female\",\"male\",\"male\",\"male\",\"female\",\"female\",\"male\",\"female\",\"male\",\"female\",\"male\",\"male\",\"female\",\"female\",\"female\",\"male\",\"male\",\"male\",\"male\",\"female\",\"female\",\"male\",\"male\",\"female\",\"female\",\"male\",\"female\",\"male\",\"female\",\"male\",\"female\",\"female\",\"female\",\"female\",\"male\",\"female\",\"male\",\"female\",\"male\",\"male\",\"female\",\"female\",\"female\",\"female\",\"female\",\"female\",\"female\",\"male\",\"female\",\"male\",\"female\",\"male\",\"male\",\"male\",\"male\",\"female\",\"female\",\"female\",\"female\",\"male\",\"female\",\"female\",\"female\",\"female\",\"male\",\"male\",\"male\",\"female\",\"female\",\"male\",\"female\",\"female\",\"female\",\"male\",\"male\",\"female\",\"male\",\"male\",\"female\",\"female\",\"male\",\"male\",\"female\",\"male\",\"male\",\"male\",\"male\",\"female\",\"female\",\"male\",\"female\",\"female\",\"female\",\"male\",\"male\",\"male\",\"male\",\"male\",\"male\",\"female\",\"male\",\"female\",\"male\",\"female\",\"male\",\"female\",\"female\",\"male\",\"female\",\"female\",\"male\",\"female\",\"male\",\"female\",\"male\",\"male\",\"female\",\"male\",\"female\",\"female\",\"female\",\"male\",\"female\",\"female\",\"male\",\"female\",\"male\",\"female\",\"male\",\"male\",\"male\",\"male\",\"female\",\"male\",\"male\",\"female\",\"male\",\"male\",\"male\",\"female\",\"male\",\"female\",\"female\",\"female\",\"male\",\"male\",\"male\",\"female\",\"female\",\"male\",\"female\",\"male\",\"female\",\"female\",\"male\",\"male\",\"female\",\"male\",\"female\",\"female\",\"female\",\"male\",\"female\",\"male\",\"male\",\"male\",\"male\",\"female\",\"female\",\"male\",\"female\",\"female\",\"female\",\"female\",\"female\",\"male\",\"male\",\"female\",\"female\",\"female\",\"male\",\"female\",\"male\",\"male\",\"female\",\"male\",\"male\",\"female\",\"male\",\"female\",\"female\",\"male\",\"female\",\"male\",\"male\",\"female\",\"male\",\"female\",\"male\",\"male\",\"female\",\"female\",\"male\",\"female\",\"male\",\"male\",\"female\",\"female\",\"female\",\"male\",\"male\",\"male\",\"male\",\"female\",\"female\",\"male\",\"male\",\"male\",\"male\",\"male\",\"female\",\"female\",\"female\",\"female\",\"male\",\"female\",\"male\",\"female\",\"male\",\"male\",\"male\",\"male\",\"female\",\"male\",\"female\",\"male\",\"female\",\"female\",\"male\",\"female\",\"female\",\"male\",\"male\",\"male\",\"male\",\"male\",\"male\",\"male\",\"female\",\"female\",\"male\",\"female\",\"female\",\"female\",\"male\",\"male\",\"female\",\"female\",\"female\",\"female\",\"male\",\"female\",\"female\",\"female\",\"male\",\"male\",\"male\",\"male\",\"male\",\"female\",\"female\",\"male\",\"female\",\"female\",\"male\",\"male\",\"female\",\"female\",\"female\",\"male\",\"male\",\"female\",\"male\",\"female\",\"female\",\"male\",\"female\",\"male\",\"male\",\"male\",\"female\",\"female\",\"male\",\"male\",\"male\",\"male\",\"male\",\"male\",\"male\",\"female\",\"male\",\"female\",\"female\",\"female\",\"female\",\"female\",\"female\",\"female\",\"male\",\"male\",\"female\",\"male\",\"male\",\"male\",\"male\",\"female\",\"female\",\"female\",\"male\",\"female\",\"female\",\"female\",\"male\",\"male\",\"female\",\"female\",\"male\",\"female\",\"male\",\"female\",\"female\",\"male\",\"male\",\"male\",\"male\",\"female\",\"female\",\"male\",\"male\",\"female\",\"female\",\"female\",\"male\",\"female\",\"female\",\"female\",\"female\",\"female\",\"female\",\"female\",\"male\",\"male\",\"female\",\"male\",\"male\",\"male\",\"female\",\"male\",\"female\",\"male\",\"female\",\"female\",\"female\",\"male\",\"male\",\"male\",\"female\",\"female\",\"female\",\"male\",\"female\",\"female\",\"male\",\"female\",\"female\",\"female\",\"female\",\"male\",\"female\",\"female\",\"female\",\"female\",\"female\",\"female\",\"female\",\"male\",\"female\",\"male\",\"female\",\"male\",\"male\",\"male\",\"male\",\"male\",\"female\",\"male\",\"male\",\"male\",\"female\",\"female\",\"male\",\"male\",\"male\",\"female\",\"male\",\"male\",\"male\",\"female\",\"male\",\"female\",\"female\",\"female\",\"female\",\"female\",\"female\",\"female\",\"male\",\"female\",\"female\",\"male\",\"female\",\"female\",\"male\",\"male\",\"female\",\"male\",\"female\",\"male\",\"female\",\"male\",\"female\",\"male\",\"female\",\"female\",\"male\",\"male\",\"female\",\"male\",\"male\",\"male\",\"female\",\"male\",\"male\",\"male\",\"male\",\"female\",\"female\",\"female\",\"male\",\"female\",\"female\",\"female\",\"male\",\"female\",\"female\",\"female\",\"male\",\"female\",\"female\",\"male\",\"female\",\"female\",\"male\",\"female\",\"male\",\"female\",\"male\",\"female\",\"female\",\"female\",\"male\",\"male\",\"male\",\"female\",\"male\",\"female\",\"female\",\"male\",\"female\",\"female\",\"female\",\"female\",\"male\",\"male\",\"female\",\"male\",\"female\",\"male\",\"male\",\"female\",\"male\",\"male\",\"male\",\"female\",\"male\",\"male\",\"female\",\"male\",\"female\",\"male\",\"male\",\"female\",\"female\",\"male\",\"female\",\"female\",\"female\",\"male\",\"female\",\"female\",\"male\",\"male\",\"male\",\"male\",\"male\",\"male\",\"male\",\"male\",\"female\",\"female\",\"male\",\"male\",\"male\",\"female\",\"female\",\"male\",\"female\",\"female\",\"male\",\"female\",\"female\",\"female\",\"female\",\"male\",\"male\",\"female\",\"female\",\"female\",\"male\",\"male\",\"female\",\"female\",\"male\",\"male\",\"male\",\"female\",\"female\",\"male\",\"male\",\"male\",\"female\",\"female\",\"male\",\"female\",\"male\",\"male\",\"female\",\"female\",\"male\",\"male\",\"male\",\"male\",\"female\",\"female\",\"female\",\"male\",\"male\",\"male\",\"female\",\"male\",\"female\",\"male\",\"male\",\"female\",\"female\",\"female\",\"male\",\"female\",\"female\",\"female\",\"male\",\"male\",\"male\",\"male\",\"male\",\"female\",\"male\",\"female\",\"male\",\"male\",\"male\",\"female\",\"female\",\"male\",\"male\",\"female\",\"male\",\"male\",\"female\",\"male\",\"female\",\"male\",\"male\",\"female\",\"male\",\"male\",\"female\",\"male\",\"female\",\"female\",\"male\",\"male\",\"male\",\"female\",\"female\",\"male\",\"female\",\"male\",\"male\",\"female\",\"female\",\"male\",\"female\",\"female\",\"female\",\"female\",\"female\",\"male\",\"male\",\"male\",\"male\",\"female\",\"female\",\"female\",\"male\",\"male\",\"female\",\"male\",\"female\",\"male\",\"female\",\"male\",\"female\",\"male\",\"male\",\"male\",\"female\",\"female\",\"male\",\"male\",\"female\",\"male\",\"male\",\"male\",\"female\",\"male\",\"male\",\"male\",\"female\",\"female\",\"female\",\"male\",\"male\",\"male\",\"male\",\"male\",\"female\",\"female\",\"female\",\"female\",\"female\",\"male\",\"male\",\"male\",\"female\",\"female\",\"male\",\"male\",\"female\",\"male\",\"female\",\"male\",\"female\",\"male\",\"female\",\"female\",\"female\",\"male\",\"female\",\"female\",\"female\",\"female\",\"female\",\"male\",\"male\",\"male\",\"male\",\"male\",\"male\",\"male\",\"female\",\"female\",\"male\",\"female\",\"male\",\"female\",\"female\",\"female\",\"female\",\"male\",\"male\",\"female\",\"female\",\"male\",\"male\",\"female\",\"female\",\"male\",\"female\",\"male\",\"male\",\"male\",\"female\",\"male\",\"female\",\"female\",\"female\",\"male\",\"male\",\"female\",\"male\",\"female\",\"female\",\"female\",\"male\",\"male\",\"male\",\"male\",\"female\",\"female\",\"male\",\"male\",\"male\",\"female\",\"male\",\"male\",\"female\",\"female\",\"female\",\"female\",\"male\",\"male\",\"male\",\"male\",\"male\",\"male\",\"female\",\"male\",\"male\",\"male\",\"male\",\"female\",\"male\",\"female\",\"female\",\"male\",\"female\",\"female\",\"male\",\"male\",\"male\",\"male\",\"female\",\"female\",\"female\",\"male\",\"male\",\"female\",\"female\",\"male\",\"male\",\"male\",\"female\",\"male\",\"female\",\"female\",\"male\",\"female\",\"male\",\"female\",\"female\",\"male\",\"male\",\"female\",\"male\",\"female\",\"female\",\"female\",\"male\",\"male\",\"female\",\"female\",\"male\",\"male\",\"male\",\"female\",\"male\",\"male\",\"female\",\"female\",\"female\",\"female\",\"female\",\"female\",\"female\",\"female\",\"female\",\"male\",\"male\",\"female\",\"female\",\"female\",\"male\",\"female\",\"male\",\"female\",\"female\",\"male\",\"male\",\"female\",\"female\",\"female\",\"female\",\"female\",\"female\",\"female\",\"male\",\"female\",\"female\",\"female\",\"female\",\"female\",\"female\",\"female\",\"female\",\"male\",\"male\",\"female\",\"male\",\"male\",\"male\",\"male\",\"male\",\"female\",\"male\",\"male\",\"male\",\"male\",\"female\",\"female\",\"male\",\"male\",\"male\",\"female\",\"female\",\"male\",\"male\",\"male\",\"female\",\"male\",\"male\",\"male\",\"male\",\"female\",\"male\",\"female\",\"male\",\"female\",\"female\",\"male\",\"female\",\"female\",\"female\",\"male\",\"male\",\"female\",\"male\",\"female\",\"male\",\"female\",\"female\",\"female\",\"female\",\"female\",\"male\",\"female\",\"female\",\"male\",\"female\",\"female\",\"female\",\"female\",\"female\",\"male\",\"male\",\"female\",\"male\",\"male\",\"male\",\"female\",\"female\",\"female\",\"female\",\"male\",\"female\",\"female\",\"female\",\"male\",\"female\",\"male\",\"male\",\"male\",\"male\",\"male\",\"female\",\"male\",\"female\",\"female\",\"female\",\"male\",\"male\",\"female\",\"male\",\"male\",\"female\",\"male\",\"male\",\"female\",\"male\",\"male\",\"male\",\"male\",\"female\",\"male\",\"female\",\"male\",\"female\",\"female\",\"female\",\"male\",\"female\",\"female\",\"female\"],\"xaxis\":\"x\",\"yaxis\":\"y\",\"type\":\"histogram\"}],                        {\"template\":{\"data\":{\"histogram2dcontour\":[{\"type\":\"histogram2dcontour\",\"colorbar\":{\"outlinewidth\":0,\"ticks\":\"\"},\"colorscale\":[[0.0,\"#0d0887\"],[0.1111111111111111,\"#46039f\"],[0.2222222222222222,\"#7201a8\"],[0.3333333333333333,\"#9c179e\"],[0.4444444444444444,\"#bd3786\"],[0.5555555555555556,\"#d8576b\"],[0.6666666666666666,\"#ed7953\"],[0.7777777777777778,\"#fb9f3a\"],[0.8888888888888888,\"#fdca26\"],[1.0,\"#f0f921\"]]}],\"choropleth\":[{\"type\":\"choropleth\",\"colorbar\":{\"outlinewidth\":0,\"ticks\":\"\"}}],\"histogram2d\":[{\"type\":\"histogram2d\",\"colorbar\":{\"outlinewidth\":0,\"ticks\":\"\"},\"colorscale\":[[0.0,\"#0d0887\"],[0.1111111111111111,\"#46039f\"],[0.2222222222222222,\"#7201a8\"],[0.3333333333333333,\"#9c179e\"],[0.4444444444444444,\"#bd3786\"],[0.5555555555555556,\"#d8576b\"],[0.6666666666666666,\"#ed7953\"],[0.7777777777777778,\"#fb9f3a\"],[0.8888888888888888,\"#fdca26\"],[1.0,\"#f0f921\"]]}],\"heatmap\":[{\"type\":\"heatmap\",\"colorbar\":{\"outlinewidth\":0,\"ticks\":\"\"},\"colorscale\":[[0.0,\"#0d0887\"],[0.1111111111111111,\"#46039f\"],[0.2222222222222222,\"#7201a8\"],[0.3333333333333333,\"#9c179e\"],[0.4444444444444444,\"#bd3786\"],[0.5555555555555556,\"#d8576b\"],[0.6666666666666666,\"#ed7953\"],[0.7777777777777778,\"#fb9f3a\"],[0.8888888888888888,\"#fdca26\"],[1.0,\"#f0f921\"]]}],\"heatmapgl\":[{\"type\":\"heatmapgl\",\"colorbar\":{\"outlinewidth\":0,\"ticks\":\"\"},\"colorscale\":[[0.0,\"#0d0887\"],[0.1111111111111111,\"#46039f\"],[0.2222222222222222,\"#7201a8\"],[0.3333333333333333,\"#9c179e\"],[0.4444444444444444,\"#bd3786\"],[0.5555555555555556,\"#d8576b\"],[0.6666666666666666,\"#ed7953\"],[0.7777777777777778,\"#fb9f3a\"],[0.8888888888888888,\"#fdca26\"],[1.0,\"#f0f921\"]]}],\"contourcarpet\":[{\"type\":\"contourcarpet\",\"colorbar\":{\"outlinewidth\":0,\"ticks\":\"\"}}],\"contour\":[{\"type\":\"contour\",\"colorbar\":{\"outlinewidth\":0,\"ticks\":\"\"},\"colorscale\":[[0.0,\"#0d0887\"],[0.1111111111111111,\"#46039f\"],[0.2222222222222222,\"#7201a8\"],[0.3333333333333333,\"#9c179e\"],[0.4444444444444444,\"#bd3786\"],[0.5555555555555556,\"#d8576b\"],[0.6666666666666666,\"#ed7953\"],[0.7777777777777778,\"#fb9f3a\"],[0.8888888888888888,\"#fdca26\"],[1.0,\"#f0f921\"]]}],\"surface\":[{\"type\":\"surface\",\"colorbar\":{\"outlinewidth\":0,\"ticks\":\"\"},\"colorscale\":[[0.0,\"#0d0887\"],[0.1111111111111111,\"#46039f\"],[0.2222222222222222,\"#7201a8\"],[0.3333333333333333,\"#9c179e\"],[0.4444444444444444,\"#bd3786\"],[0.5555555555555556,\"#d8576b\"],[0.6666666666666666,\"#ed7953\"],[0.7777777777777778,\"#fb9f3a\"],[0.8888888888888888,\"#fdca26\"],[1.0,\"#f0f921\"]]}],\"mesh3d\":[{\"type\":\"mesh3d\",\"colorbar\":{\"outlinewidth\":0,\"ticks\":\"\"}}],\"scatter\":[{\"fillpattern\":{\"fillmode\":\"overlay\",\"size\":10,\"solidity\":0.2},\"type\":\"scatter\"}],\"parcoords\":[{\"type\":\"parcoords\",\"line\":{\"colorbar\":{\"outlinewidth\":0,\"ticks\":\"\"}}}],\"scatterpolargl\":[{\"type\":\"scatterpolargl\",\"marker\":{\"colorbar\":{\"outlinewidth\":0,\"ticks\":\"\"}}}],\"bar\":[{\"error_x\":{\"color\":\"#2a3f5f\"},\"error_y\":{\"color\":\"#2a3f5f\"},\"marker\":{\"line\":{\"color\":\"#E5ECF6\",\"width\":0.5},\"pattern\":{\"fillmode\":\"overlay\",\"size\":10,\"solidity\":0.2}},\"type\":\"bar\"}],\"scattergeo\":[{\"type\":\"scattergeo\",\"marker\":{\"colorbar\":{\"outlinewidth\":0,\"ticks\":\"\"}}}],\"scatterpolar\":[{\"type\":\"scatterpolar\",\"marker\":{\"colorbar\":{\"outlinewidth\":0,\"ticks\":\"\"}}}],\"histogram\":[{\"marker\":{\"pattern\":{\"fillmode\":\"overlay\",\"size\":10,\"solidity\":0.2}},\"type\":\"histogram\"}],\"scattergl\":[{\"type\":\"scattergl\",\"marker\":{\"colorbar\":{\"outlinewidth\":0,\"ticks\":\"\"}}}],\"scatter3d\":[{\"type\":\"scatter3d\",\"line\":{\"colorbar\":{\"outlinewidth\":0,\"ticks\":\"\"}},\"marker\":{\"colorbar\":{\"outlinewidth\":0,\"ticks\":\"\"}}}],\"scattermapbox\":[{\"type\":\"scattermapbox\",\"marker\":{\"colorbar\":{\"outlinewidth\":0,\"ticks\":\"\"}}}],\"scatterternary\":[{\"type\":\"scatterternary\",\"marker\":{\"colorbar\":{\"outlinewidth\":0,\"ticks\":\"\"}}}],\"scattercarpet\":[{\"type\":\"scattercarpet\",\"marker\":{\"colorbar\":{\"outlinewidth\":0,\"ticks\":\"\"}}}],\"carpet\":[{\"aaxis\":{\"endlinecolor\":\"#2a3f5f\",\"gridcolor\":\"white\",\"linecolor\":\"white\",\"minorgridcolor\":\"white\",\"startlinecolor\":\"#2a3f5f\"},\"baxis\":{\"endlinecolor\":\"#2a3f5f\",\"gridcolor\":\"white\",\"linecolor\":\"white\",\"minorgridcolor\":\"white\",\"startlinecolor\":\"#2a3f5f\"},\"type\":\"carpet\"}],\"table\":[{\"cells\":{\"fill\":{\"color\":\"#EBF0F8\"},\"line\":{\"color\":\"white\"}},\"header\":{\"fill\":{\"color\":\"#C8D4E3\"},\"line\":{\"color\":\"white\"}},\"type\":\"table\"}],\"barpolar\":[{\"marker\":{\"line\":{\"color\":\"#E5ECF6\",\"width\":0.5},\"pattern\":{\"fillmode\":\"overlay\",\"size\":10,\"solidity\":0.2}},\"type\":\"barpolar\"}],\"pie\":[{\"automargin\":true,\"type\":\"pie\"}]},\"layout\":{\"autotypenumbers\":\"strict\",\"colorway\":[\"#636efa\",\"#EF553B\",\"#00cc96\",\"#ab63fa\",\"#FFA15A\",\"#19d3f3\",\"#FF6692\",\"#B6E880\",\"#FF97FF\",\"#FECB52\"],\"font\":{\"color\":\"#2a3f5f\"},\"hovermode\":\"closest\",\"hoverlabel\":{\"align\":\"left\"},\"paper_bgcolor\":\"white\",\"plot_bgcolor\":\"#E5ECF6\",\"polar\":{\"bgcolor\":\"#E5ECF6\",\"angularaxis\":{\"gridcolor\":\"white\",\"linecolor\":\"white\",\"ticks\":\"\"},\"radialaxis\":{\"gridcolor\":\"white\",\"linecolor\":\"white\",\"ticks\":\"\"}},\"ternary\":{\"bgcolor\":\"#E5ECF6\",\"aaxis\":{\"gridcolor\":\"white\",\"linecolor\":\"white\",\"ticks\":\"\"},\"baxis\":{\"gridcolor\":\"white\",\"linecolor\":\"white\",\"ticks\":\"\"},\"caxis\":{\"gridcolor\":\"white\",\"linecolor\":\"white\",\"ticks\":\"\"}},\"coloraxis\":{\"colorbar\":{\"outlinewidth\":0,\"ticks\":\"\"}},\"colorscale\":{\"sequential\":[[0.0,\"#0d0887\"],[0.1111111111111111,\"#46039f\"],[0.2222222222222222,\"#7201a8\"],[0.3333333333333333,\"#9c179e\"],[0.4444444444444444,\"#bd3786\"],[0.5555555555555556,\"#d8576b\"],[0.6666666666666666,\"#ed7953\"],[0.7777777777777778,\"#fb9f3a\"],[0.8888888888888888,\"#fdca26\"],[1.0,\"#f0f921\"]],\"sequentialminus\":[[0.0,\"#0d0887\"],[0.1111111111111111,\"#46039f\"],[0.2222222222222222,\"#7201a8\"],[0.3333333333333333,\"#9c179e\"],[0.4444444444444444,\"#bd3786\"],[0.5555555555555556,\"#d8576b\"],[0.6666666666666666,\"#ed7953\"],[0.7777777777777778,\"#fb9f3a\"],[0.8888888888888888,\"#fdca26\"],[1.0,\"#f0f921\"]],\"diverging\":[[0,\"#8e0152\"],[0.1,\"#c51b7d\"],[0.2,\"#de77ae\"],[0.3,\"#f1b6da\"],[0.4,\"#fde0ef\"],[0.5,\"#f7f7f7\"],[0.6,\"#e6f5d0\"],[0.7,\"#b8e186\"],[0.8,\"#7fbc41\"],[0.9,\"#4d9221\"],[1,\"#276419\"]]},\"xaxis\":{\"gridcolor\":\"white\",\"linecolor\":\"white\",\"ticks\":\"\",\"title\":{\"standoff\":15},\"zerolinecolor\":\"white\",\"automargin\":true,\"zerolinewidth\":2},\"yaxis\":{\"gridcolor\":\"white\",\"linecolor\":\"white\",\"ticks\":\"\",\"title\":{\"standoff\":15},\"zerolinecolor\":\"white\",\"automargin\":true,\"zerolinewidth\":2},\"scene\":{\"xaxis\":{\"backgroundcolor\":\"#E5ECF6\",\"gridcolor\":\"white\",\"linecolor\":\"white\",\"showbackground\":true,\"ticks\":\"\",\"zerolinecolor\":\"white\",\"gridwidth\":2},\"yaxis\":{\"backgroundcolor\":\"#E5ECF6\",\"gridcolor\":\"white\",\"linecolor\":\"white\",\"showbackground\":true,\"ticks\":\"\",\"zerolinecolor\":\"white\",\"gridwidth\":2},\"zaxis\":{\"backgroundcolor\":\"#E5ECF6\",\"gridcolor\":\"white\",\"linecolor\":\"white\",\"showbackground\":true,\"ticks\":\"\",\"zerolinecolor\":\"white\",\"gridwidth\":2}},\"shapedefaults\":{\"line\":{\"color\":\"#2a3f5f\"}},\"annotationdefaults\":{\"arrowcolor\":\"#2a3f5f\",\"arrowhead\":0,\"arrowwidth\":1},\"geo\":{\"bgcolor\":\"white\",\"landcolor\":\"#E5ECF6\",\"subunitcolor\":\"white\",\"showland\":true,\"showlakes\":true,\"lakecolor\":\"white\"},\"title\":{\"x\":0.05},\"mapbox\":{\"style\":\"light\"}}},\"xaxis\":{\"anchor\":\"y\",\"domain\":[0.0,1.0],\"title\":{\"text\":\"sex\"}},\"yaxis\":{\"anchor\":\"x\",\"domain\":[0.0,1.0],\"title\":{\"text\":\"count\"}},\"legend\":{\"title\":{\"text\":\"smoker\"},\"tracegroupgap\":0},\"title\":{\"text\":\"Number of Smokers\"},\"barmode\":\"relative\"},                        {\"responsive\": true}                    ).then(function(){\n",
       "                            \n",
       "var gd = document.getElementById('775d7b3f-e820-4568-a95f-b78b007f94ad');\n",
       "var x = new MutationObserver(function (mutations, observer) {{\n",
       "        var display = window.getComputedStyle(gd).display;\n",
       "        if (!display || display === 'none') {{\n",
       "            console.log([gd, 'removed!']);\n",
       "            Plotly.purge(gd);\n",
       "            observer.disconnect();\n",
       "        }}\n",
       "}});\n",
       "\n",
       "// Listen for the removal of the full notebook cells\n",
       "var notebookContainer = gd.closest('#notebook-container');\n",
       "if (notebookContainer) {{\n",
       "    x.observe(notebookContainer, {childList: true});\n",
       "}}\n",
       "\n",
       "// Listen for the clearing of the current output cell\n",
       "var outputEl = gd.closest('.output');\n",
       "if (outputEl) {{\n",
       "    x.observe(outputEl, {childList: true});\n",
       "}}\n",
       "\n",
       "                        })                };                });            </script>        </div>"
      ]
     },
     "metadata": {},
     "output_type": "display_data"
    },
    {
     "data": {
      "text/plain": [
       "<Figure size 504x360 with 0 Axes>"
      ]
     },
     "metadata": {},
     "output_type": "display_data"
    }
   ],
   "source": [
    "# distribution of male, female and smoker\n",
    "plt.figure(figsize=(7,5))\n",
    "figure = px.histogram(data, x = \"sex\", color = \"smoker\", title= \"Number of Smokers\")\n",
    "figure.show()"
   ]
  },
  {
   "cell_type": "code",
   "execution_count": 97,
   "id": "8cc47b3f",
   "metadata": {
    "scrolled": true
   },
   "outputs": [
    {
     "data": {
      "text/plain": [
       "<AxesSubplot:xlabel='smoker', ylabel='count'>"
      ]
     },
     "execution_count": 97,
     "metadata": {},
     "output_type": "execute_result"
    },
    {
     "data": {
      "image/png": "[encoded data removed]",
      "text/plain": [
       "<Figure size 432x288 with 1 Axes>"
      ]
     },
     "metadata": {
      "needs_background": "light"
     },
     "output_type": "display_data"
    }
   ],
   "source": [
    "sns.countplot(x='smoker',data=df)"
   ]
  },
  {
   "cell_type": "code",
   "execution_count": 106,
   "id": "90a13317",
   "metadata": {
    "scrolled": true
   },
   "outputs": [
    {
     "data": {
      "image/png": "[encoded data removed]",
      "text/plain": [
       "<Figure size 432x288 with 1 Axes>"
      ]
     },
     "metadata": {
      "needs_background": "light"
     },
     "output_type": "display_data"
    }
   ],
   "source": [
    "plt.title('Distribution of smoker in Male and Female',fontdict={'family':'times new roman','size':15,'color':'blue'})\n",
    "sns.histplot(x='sex',data=df,hue='smoker',color='green')\n",
    "plt.show()"
   ]
  },
  {
   "cell_type": "raw",
   "id": "04896006",
   "metadata": {},
   "source": [
    "region=df['region'].sort_values(ascending=False)\n",
    "name=region.index\n",
    "value=region.values\n",
    "# pie chart\n",
    "fig=plt.pie(region,labels=name)\n",
    "fig.gca()\n",
    "circle=plt.Circle((0,0),0.5,color='white')\n",
    "fig.add_artist(circle)\n",
    "plt.show()"
   ]
  },
  {
   "cell_type": "raw",
   "id": "655a7164",
   "metadata": {},
   "source": [
    "sns.barplot(x='smoker',y='sex',data=df)\n",
    "# this is giving error as both are categorial data, barplot works with numerical data"
   ]
  },
  {
   "cell_type": "code",
   "execution_count": 114,
   "id": "4134b367",
   "metadata": {},
   "outputs": [],
   "source": [
    "from sklearn.preprocessing import LabelEncoder\n",
    "le=LabelEncoder()"
   ]
  },
  {
   "cell_type": "code",
   "execution_count": 115,
   "id": "88133b73",
   "metadata": {},
   "outputs": [
    {
     "data": {
      "text/plain": [
       "Index(['age', 'sex', 'bmi', 'children', 'smoker', 'region', 'charges'], dtype='object')"
      ]
     },
     "execution_count": 115,
     "metadata": {},
     "output_type": "execute_result"
    }
   ],
   "source": [
    "df.columns"
   ]
  },
  {
   "cell_type": "code",
   "execution_count": 116,
   "id": "6e54208f",
   "metadata": {},
   "outputs": [],
   "source": [
    "df['sex']=le.fit_transform(df['sex'])"
   ]
  },
  {
   "cell_type": "code",
   "execution_count": 117,
   "id": "ac083b70",
   "metadata": {},
   "outputs": [],
   "source": [
    "df['smoker']=le.fit_transform(df['smoker'])"
   ]
  },
  {
   "cell_type": "code",
   "execution_count": 118,
   "id": "3e68f6c5",
   "metadata": {},
   "outputs": [],
   "source": [
    "df['region']=le.fit_transform(df['region'])"
   ]
  },
  {
   "cell_type": "code",
   "execution_count": 119,
   "id": "a84f0bc6",
   "metadata": {},
   "outputs": [
    {
     "data": {
      "text/html": [
       "<div>\n",
       "<style scoped>\n",
       "    .dataframe tbody tr th:only-of-type {\n",
       "        vertical-align: middle;\n",
       "    }\n",
       "\n",
       "    .dataframe tbody tr th {\n",
       "        vertical-align: top;\n",
       "    }\n",
       "\n",
       "    .dataframe thead th {\n",
       "        text-align: right;\n",
       "    }\n",
       "</style>\n",
       "<table border=\"1\" class=\"dataframe\">\n",
       "  <thead>\n",
       "    <tr style=\"text-align: right;\">\n",
       "      <th></th>\n",
       "      <th>age</th>\n",
       "      <th>sex</th>\n",
       "      <th>bmi</th>\n",
       "      <th>children</th>\n",
       "      <th>smoker</th>\n",
       "      <th>region</th>\n",
       "      <th>charges</th>\n",
       "    </tr>\n",
       "  </thead>\n",
       "  <tbody>\n",
       "    <tr>\n",
       "      <th>0</th>\n",
       "      <td>19</td>\n",
       "      <td>0</td>\n",
       "      <td>27.90</td>\n",
       "      <td>0</td>\n",
       "      <td>1</td>\n",
       "      <td>3</td>\n",
       "      <td>16884.9240</td>\n",
       "    </tr>\n",
       "    <tr>\n",
       "      <th>1</th>\n",
       "      <td>18</td>\n",
       "      <td>1</td>\n",
       "      <td>33.77</td>\n",
       "      <td>1</td>\n",
       "      <td>0</td>\n",
       "      <td>2</td>\n",
       "      <td>1725.5523</td>\n",
       "    </tr>\n",
       "  </tbody>\n",
       "</table>\n",
       "</div>"
      ],
      "text/plain": [
       "   age  sex    bmi  children  smoker  region     charges\n",
       "0   19    0  27.90         0       1       3  16884.9240\n",
       "1   18    1  33.77         1       0       2   1725.5523"
      ]
     },
     "execution_count": 119,
     "metadata": {},
     "output_type": "execute_result"
    }
   ],
   "source": [
    "df.head(2)"
   ]
  },
  {
   "cell_type": "code",
   "execution_count": 125,
   "id": "a021f730",
   "metadata": {},
   "outputs": [],
   "source": [
    "from sklearn.preprocessing import StandardScaler\n",
    "ss=StandardScaler()"
   ]
  },
  {
   "cell_type": "code",
   "execution_count": 127,
   "id": "b8801f9f",
   "metadata": {},
   "outputs": [],
   "source": [
    "import numpy as np"
   ]
  },
  {
   "cell_type": "code",
   "execution_count": 128,
   "id": "7b0f604b",
   "metadata": {},
   "outputs": [],
   "source": [
    "x=np.array(df[['age','sex','bmi','children','smoker','region']])\n",
    "y=np.array(df[['charges']])"
   ]
  },
  {
   "cell_type": "code",
   "execution_count": 129,
   "id": "d6552967",
   "metadata": {},
   "outputs": [],
   "source": [
    "x=ss.fit_transform(x)"
   ]
  },
  {
   "cell_type": "code",
   "execution_count": 130,
   "id": "e3bd9da2",
   "metadata": {
    "scrolled": true
   },
   "outputs": [
    {
     "data": {
      "text/plain": [
       "(1338, 7)"
      ]
     },
     "execution_count": 130,
     "metadata": {},
     "output_type": "execute_result"
    }
   ],
   "source": [
    "df.shape"
   ]
  },
  {
   "cell_type": "code",
   "execution_count": 131,
   "id": "7e97279d",
   "metadata": {},
   "outputs": [],
   "source": [
    "from sklearn.tree import DecisionTreeRegressor\n",
    "dtc=DecisionTreeRegressor()"
   ]
  },
  {
   "cell_type": "code",
   "execution_count": 132,
   "id": "bff621f0",
   "metadata": {},
   "outputs": [],
   "source": [
    "from sklearn.model_selection import train_test_split\n",
    "xtrain,ytrain,xtest,ytest=train_test_split(x,y,test_size=0.25)"
   ]
  },
  {
   "cell_type": "raw",
   "id": "906ba127",
   "metadata": {},
   "source": [
    "dtc.fit(xtrain,ytrain)"
   ]
  },
  {
   "cell_type": "raw",
   "id": "deeedb1c",
   "metadata": {},
   "source": [
    "dtc.score(xtrain,ytrain)\n",
    "dtc.score(xtest,ytest)\n",
    "\n",
    "ypred=dtc.predict(xtest)\n",
    "\n",
    "accuracy_score(ytest,ypred)"
   ]
  },
  {
   "cell_type": "markdown",
   "id": "f33c9cb6",
   "metadata": {},
   "source": [
    "### Implementation from thecleverprogrammer"
   ]
  },
  {
   "cell_type": "code",
   "execution_count": 135,
   "id": "e17b71b3",
   "metadata": {},
   "outputs": [
    {
     "data": {
      "text/html": [
       "<div>\n",
       "<style scoped>\n",
       "    .dataframe tbody tr th:only-of-type {\n",
       "        vertical-align: middle;\n",
       "    }\n",
       "\n",
       "    .dataframe tbody tr th {\n",
       "        vertical-align: top;\n",
       "    }\n",
       "\n",
       "    .dataframe thead th {\n",
       "        text-align: right;\n",
       "    }\n",
       "</style>\n",
       "<table border=\"1\" class=\"dataframe\">\n",
       "  <thead>\n",
       "    <tr style=\"text-align: right;\">\n",
       "      <th></th>\n",
       "      <th>age</th>\n",
       "      <th>sex</th>\n",
       "      <th>bmi</th>\n",
       "      <th>children</th>\n",
       "      <th>smoker</th>\n",
       "      <th>region</th>\n",
       "      <th>charges</th>\n",
       "    </tr>\n",
       "  </thead>\n",
       "  <tbody>\n",
       "    <tr>\n",
       "      <th>0</th>\n",
       "      <td>19</td>\n",
       "      <td>female</td>\n",
       "      <td>27.900</td>\n",
       "      <td>0</td>\n",
       "      <td>yes</td>\n",
       "      <td>southwest</td>\n",
       "      <td>16884.92400</td>\n",
       "    </tr>\n",
       "    <tr>\n",
       "      <th>1</th>\n",
       "      <td>18</td>\n",
       "      <td>male</td>\n",
       "      <td>33.770</td>\n",
       "      <td>1</td>\n",
       "      <td>no</td>\n",
       "      <td>southeast</td>\n",
       "      <td>1725.55230</td>\n",
       "    </tr>\n",
       "    <tr>\n",
       "      <th>2</th>\n",
       "      <td>28</td>\n",
       "      <td>male</td>\n",
       "      <td>33.000</td>\n",
       "      <td>3</td>\n",
       "      <td>no</td>\n",
       "      <td>southeast</td>\n",
       "      <td>4449.46200</td>\n",
       "    </tr>\n",
       "    <tr>\n",
       "      <th>3</th>\n",
       "      <td>33</td>\n",
       "      <td>male</td>\n",
       "      <td>22.705</td>\n",
       "      <td>0</td>\n",
       "      <td>no</td>\n",
       "      <td>northwest</td>\n",
       "      <td>21984.47061</td>\n",
       "    </tr>\n",
       "    <tr>\n",
       "      <th>4</th>\n",
       "      <td>32</td>\n",
       "      <td>male</td>\n",
       "      <td>28.880</td>\n",
       "      <td>0</td>\n",
       "      <td>no</td>\n",
       "      <td>northwest</td>\n",
       "      <td>3866.85520</td>\n",
       "    </tr>\n",
       "  </tbody>\n",
       "</table>\n",
       "</div>"
      ],
      "text/plain": [
       "   age     sex     bmi  children smoker     region      charges\n",
       "0   19  female  27.900         0    yes  southwest  16884.92400\n",
       "1   18    male  33.770         1     no  southeast   1725.55230\n",
       "2   28    male  33.000         3     no  southeast   4449.46200\n",
       "3   33    male  22.705         0     no  northwest  21984.47061\n",
       "4   32    male  28.880         0     no  northwest   3866.85520"
      ]
     },
     "execution_count": 135,
     "metadata": {},
     "output_type": "execute_result"
    }
   ],
   "source": [
    "data = pd.read_csv(\"Health_insurance.csv\")\n",
    "data.head()"
   ]
  },
  {
   "cell_type": "code",
   "execution_count": 136,
   "id": "9c68bacd",
   "metadata": {},
   "outputs": [
    {
     "data": {
      "text/plain": [
       "age         0\n",
       "sex         0\n",
       "bmi         0\n",
       "children    0\n",
       "smoker      0\n",
       "region      0\n",
       "charges     0\n",
       "dtype: int64"
      ]
     },
     "execution_count": 136,
     "metadata": {},
     "output_type": "execute_result"
    }
   ],
   "source": [
    "data.isnull().sum()"
   ]
  },
  {
   "cell_type": "code",
   "execution_count": 137,
   "id": "ddb7ea65",
   "metadata": {},
   "outputs": [
    {
     "name": "stdout",
     "output_type": "stream",
     "text": [
      "   age  sex     bmi  children  smoker     region      charges\n",
      "0   19    0  27.900         0       1  southwest  16884.92400\n",
      "1   18    1  33.770         1       0  southeast   1725.55230\n",
      "2   28    1  33.000         3       0  southeast   4449.46200\n",
      "3   33    1  22.705         0       0  northwest  21984.47061\n",
      "4   32    1  28.880         0       0  northwest   3866.85520\n"
     ]
    }
   ],
   "source": [
    "data[\"sex\"] = data[\"sex\"].map({\"female\": 0, \"male\": 1})\n",
    "data[\"smoker\"] = data[\"smoker\"].map({\"no\": 0, \"yes\": 1})\n",
    "print(data.head())"
   ]
  },
  {
   "cell_type": "code",
   "execution_count": 138,
   "id": "81db0f19",
   "metadata": {},
   "outputs": [
    {
     "data": {
      "application/vnd.plotly.v1+json": {
       "config": {
        "plotlyServerURL": "https://plot.ly"
       },
       "data": [
        {
         "domain": {
          "x": [
           0,
           1
          ],
          "y": [
           0,
           1
          ]
         },
         "hovertemplate": "label=%{label}<br>value=%{value}<extra></extra>",
         "labels": [
          "southeast",
          "southwest",
          "northwest",
          "northeast"
         ],
         "legendgroup": "",
         "name": "",
         "showlegend": true,
         "type": "pie",
         "values": [
          364,
          325,
          325,
          324
         ]
        }
       ],
       "layout": {
        "legend": {
         "tracegroupgap": 0
        },
        "margin": {
         "t": 60
        },
        "template": {
         "data": {
          "bar": [
           {
            "error_x": {
             "color": "#2a3f5f"
            },
            "error_y": {
             "color": "#2a3f5f"
            },
            "marker": {
             "line": {
              "color": "#E5ECF6",
              "width": 0.5
             },
             "pattern": {
              "fillmode": "overlay",
              "size": 10,
              "solidity": 0.2
             }
            },
            "type": "bar"
           }
          ],
          "barpolar": [
           {
            "marker": {
             "line": {
              "color": "#E5ECF6",
              "width": 0.5
             },
             "pattern": {
              "fillmode": "overlay",
              "size": 10,
              "solidity": 0.2
             }
            },
            "type": "barpolar"
           }
          ],
          "carpet": [
           {
            "aaxis": {
             "endlinecolor": "#2a3f5f",
             "gridcolor": "white",
             "linecolor": "white",
             "minorgridcolor": "white",
             "startlinecolor": "#2a3f5f"
            },
            "baxis": {
             "endlinecolor": "#2a3f5f",
             "gridcolor": "white",
             "linecolor": "white",
             "minorgridcolor": "white",
             "startlinecolor": "#2a3f5f"
            },
            "type": "carpet"
           }
          ],
          "choropleth": [
           {
            "colorbar": {
             "outlinewidth": 0,
             "ticks": ""
            },
            "type": "choropleth"
           }
          ],
          "contour": [
           {
            "colorbar": {
             "outlinewidth": 0,
             "ticks": ""
            },
            "colorscale": [
             [
              0,
              "#0d0887"
             ],
             [
              0.1111111111111111,
              "#46039f"
             ],
             [
              0.2222222222222222,
              "#7201a8"
             ],
             [
              0.3333333333333333,
              "#9c179e"
             ],
             [
              0.4444444444444444,
              "#bd3786"
             ],
             [
              0.5555555555555556,
              "#d8576b"
             ],
             [
              0.6666666666666666,
              "#ed7953"
             ],
             [
              0.7777777777777778,
              "#fb9f3a"
             ],
             [
              0.8888888888888888,
              "#fdca26"
             ],
             [
              1,
              "#f0f921"
             ]
            ],
            "type": "contour"
           }
          ],
          "contourcarpet": [
           {
            "colorbar": {
             "outlinewidth": 0,
             "ticks": ""
            },
            "type": "contourcarpet"
           }
          ],
          "heatmap": [
           {
            "colorbar": {
             "outlinewidth": 0,
             "ticks": ""
            },
            "colorscale": [
             [
              0,
              "#0d0887"
             ],
             [
              0.1111111111111111,
              "#46039f"
             ],
             [
              0.2222222222222222,
              "#7201a8"
             ],
             [
              0.3333333333333333,
              "#9c179e"
             ],
             [
              0.4444444444444444,
              "#bd3786"
             ],
             [
              0.5555555555555556,
              "#d8576b"
             ],
             [
              0.6666666666666666,
              "#ed7953"
             ],
             [
              0.7777777777777778,
              "#fb9f3a"
             ],
             [
              0.8888888888888888,
              "#fdca26"
             ],
             [
              1,
              "#f0f921"
             ]
            ],
            "type": "heatmap"
           }
          ],
          "heatmapgl": [
           {
            "colorbar": {
             "outlinewidth": 0,
             "ticks": ""
            },
            "colorscale": [
             [
              0,
              "#0d0887"
             ],
             [
              0.1111111111111111,
              "#46039f"
             ],
             [
              0.2222222222222222,
              "#7201a8"
             ],
             [
              0.3333333333333333,
              "#9c179e"
             ],
             [
              0.4444444444444444,
              "#bd3786"
             ],
             [
              0.5555555555555556,
              "#d8576b"
             ],
             [
              0.6666666666666666,
              "#ed7953"
             ],
             [
              0.7777777777777778,
              "#fb9f3a"
             ],
             [
              0.8888888888888888,
              "#fdca26"
             ],
             [
              1,
              "#f0f921"
             ]
            ],
            "type": "heatmapgl"
           }
          ],
          "histogram": [
           {
            "marker": {
             "pattern": {
              "fillmode": "overlay",
              "size": 10,
              "solidity": 0.2
             }
            },
            "type": "histogram"
           }
          ],
          "histogram2d": [
           {
            "colorbar": {
             "outlinewidth": 0,
             "ticks": ""
            },
            "colorscale": [
             [
              0,
              "#0d0887"
             ],
             [
              0.1111111111111111,
              "#46039f"
             ],
             [
              0.2222222222222222,
              "#7201a8"
             ],
             [
              0.3333333333333333,
              "#9c179e"
             ],
             [
              0.4444444444444444,
              "#bd3786"
             ],
             [
              0.5555555555555556,
              "#d8576b"
             ],
             [
              0.6666666666666666,
              "#ed7953"
             ],
             [
              0.7777777777777778,
              "#fb9f3a"
             ],
             [
              0.8888888888888888,
              "#fdca26"
             ],
             [
              1,
              "#f0f921"
             ]
            ],
            "type": "histogram2d"
           }
          ],
          "histogram2dcontour": [
           {
            "colorbar": {
             "outlinewidth": 0,
             "ticks": ""
            },
            "colorscale": [
             [
              0,
              "#0d0887"
             ],
             [
              0.1111111111111111,
              "#46039f"
             ],
             [
              0.2222222222222222,
              "#7201a8"
             ],
             [
              0.3333333333333333,
              "#9c179e"
             ],
             [
              0.4444444444444444,
              "#bd3786"
             ],
             [
              0.5555555555555556,
              "#d8576b"
             ],
             [
              0.6666666666666666,
              "#ed7953"
             ],
             [
              0.7777777777777778,
              "#fb9f3a"
             ],
             [
              0.8888888888888888,
              "#fdca26"
             ],
             [
              1,
              "#f0f921"
             ]
            ],
            "type": "histogram2dcontour"
           }
          ],
          "mesh3d": [
           {
            "colorbar": {
             "outlinewidth": 0,
             "ticks": ""
            },
            "type": "mesh3d"
           }
          ],
          "parcoords": [
           {
            "line": {
             "colorbar": {
              "outlinewidth": 0,
              "ticks": ""
             }
            },
            "type": "parcoords"
           }
          ],
          "pie": [
           {
            "automargin": true,
            "type": "pie"
           }
          ],
          "scatter": [
           {
            "fillpattern": {
             "fillmode": "overlay",
             "size": 10,
             "solidity": 0.2
            },
            "type": "scatter"
           }
          ],
          "scatter3d": [
           {
            "line": {
             "colorbar": {
              "outlinewidth": 0,
              "ticks": ""
             }
            },
            "marker": {
             "colorbar": {
              "outlinewidth": 0,
              "ticks": ""
             }
            },
            "type": "scatter3d"
           }
          ],
          "scattercarpet": [
           {
            "marker": {
             "colorbar": {
              "outlinewidth": 0,
              "ticks": ""
             }
            },
            "type": "scattercarpet"
           }
          ],
          "scattergeo": [
           {
            "marker": {
             "colorbar": {
              "outlinewidth": 0,
              "ticks": ""
             }
            },
            "type": "scattergeo"
           }
          ],
          "scattergl": [
           {
            "marker": {
             "colorbar": {
              "outlinewidth": 0,
              "ticks": ""
             }
            },
            "type": "scattergl"
           }
          ],
          "scattermapbox": [
           {
            "marker": {
             "colorbar": {
              "outlinewidth": 0,
              "ticks": ""
             }
            },
            "type": "scattermapbox"
           }
          ],
          "scatterpolar": [
           {
            "marker": {
             "colorbar": {
              "outlinewidth": 0,
              "ticks": ""
             }
            },
            "type": "scatterpolar"
           }
          ],
          "scatterpolargl": [
           {
            "marker": {
             "colorbar": {
              "outlinewidth": 0,
              "ticks": ""
             }
            },
            "type": "scatterpolargl"
           }
          ],
          "scatterternary": [
           {
            "marker": {
             "colorbar": {
              "outlinewidth": 0,
              "ticks": ""
             }
            },
            "type": "scatterternary"
           }
          ],
          "surface": [
           {
            "colorbar": {
             "outlinewidth": 0,
             "ticks": ""
            },
            "colorscale": [
             [
              0,
              "#0d0887"
             ],
             [
              0.1111111111111111,
              "#46039f"
             ],
             [
              0.2222222222222222,
              "#7201a8"
             ],
             [
              0.3333333333333333,
              "#9c179e"
             ],
             [
              0.4444444444444444,
              "#bd3786"
             ],
             [
              0.5555555555555556,
              "#d8576b"
             ],
             [
              0.6666666666666666,
              "#ed7953"
             ],
             [
              0.7777777777777778,
              "#fb9f3a"
             ],
             [
              0.8888888888888888,
              "#fdca26"
             ],
             [
              1,
              "#f0f921"
             ]
            ],
            "type": "surface"
           }
          ],
          "table": [
           {
            "cells": {
             "fill": {
              "color": "#EBF0F8"
             },
             "line": {
              "color": "white"
             }
            },
            "header": {
             "fill": {
              "color": "#C8D4E3"
             },
             "line": {
              "color": "white"
             }
            },
            "type": "table"
           }
          ]
         },
         "layout": {
          "annotationdefaults": {
           "arrowcolor": "#2a3f5f",
           "arrowhead": 0,
           "arrowwidth": 1
          },
          "autotypenumbers": "strict",
          "coloraxis": {
           "colorbar": {
            "outlinewidth": 0,
            "ticks": ""
           }
          },
          "colorscale": {
           "diverging": [
            [
             0,
             "#8e0152"
            ],
            [
             0.1,
             "#c51b7d"
            ],
            [
             0.2,
             "#de77ae"
            ],
            [
             0.3,
             "#f1b6da"
            ],
            [
             0.4,
             "#fde0ef"
            ],
            [
             0.5,
             "#f7f7f7"
            ],
            [
             0.6,
             "#e6f5d0"
            ],
            [
             0.7,
             "#b8e186"
            ],
            [
             0.8,
             "#7fbc41"
            ],
            [
             0.9,
             "#4d9221"
            ],
            [
             1,
             "#276419"
            ]
           ],
           "sequential": [
            [
             0,
             "#0d0887"
            ],
            [
             0.1111111111111111,
             "#46039f"
            ],
            [
             0.2222222222222222,
             "#7201a8"
            ],
            [
             0.3333333333333333,
             "#9c179e"
            ],
            [
             0.4444444444444444,
             "#bd3786"
            ],
            [
             0.5555555555555556,
             "#d8576b"
            ],
            [
             0.6666666666666666,
             "#ed7953"
            ],
            [
             0.7777777777777778,
             "#fb9f3a"
            ],
            [
             0.8888888888888888,
             "#fdca26"
            ],
            [
             1,
             "#f0f921"
            ]
           ],
           "sequentialminus": [
            [
             0,
             "#0d0887"
            ],
            [
             0.1111111111111111,
             "#46039f"
            ],
            [
             0.2222222222222222,
             "#7201a8"
            ],
            [
             0.3333333333333333,
             "#9c179e"
            ],
            [
             0.4444444444444444,
             "#bd3786"
            ],
            [
             0.5555555555555556,
             "#d8576b"
            ],
            [
             0.6666666666666666,
             "#ed7953"
            ],
            [
             0.7777777777777778,
             "#fb9f3a"
            ],
            [
             0.8888888888888888,
             "#fdca26"
            ],
            [
             1,
             "#f0f921"
            ]
           ]
          },
          "colorway": [
           "#636efa",
           "#EF553B",
           "#00cc96",
           "#ab63fa",
           "#FFA15A",
           "#19d3f3",
           "#FF6692",
           "#B6E880",
           "#FF97FF",
           "#FECB52"
          ],
          "font": {
           "color": "#2a3f5f"
          },
          "geo": {
           "bgcolor": "white",
           "lakecolor": "white",
           "landcolor": "#E5ECF6",
           "showlakes": true,
           "showland": true,
           "subunitcolor": "white"
          },
          "hoverlabel": {
           "align": "left"
          },
          "hovermode": "closest",
          "mapbox": {
           "style": "light"
          },
          "paper_bgcolor": "white",
          "plot_bgcolor": "#E5ECF6",
          "polar": {
           "angularaxis": {
            "gridcolor": "white",
            "linecolor": "white",
            "ticks": ""
           },
           "bgcolor": "#E5ECF6",
           "radialaxis": {
            "gridcolor": "white",
            "linecolor": "white",
            "ticks": ""
           }
          },
          "scene": {
           "xaxis": {
            "backgroundcolor": "#E5ECF6",
            "gridcolor": "white",
            "gridwidth": 2,
            "linecolor": "white",
            "showbackground": true,
            "ticks": "",
            "zerolinecolor": "white"
           },
           "yaxis": {
            "backgroundcolor": "#E5ECF6",
            "gridcolor": "white",
            "gridwidth": 2,
            "linecolor": "white",
            "showbackground": true,
            "ticks": "",
            "zerolinecolor": "white"
           },
           "zaxis": {
            "backgroundcolor": "#E5ECF6",
            "gridcolor": "white",
            "gridwidth": 2,
            "linecolor": "white",
            "showbackground": true,
            "ticks": "",
            "zerolinecolor": "white"
           }
          },
          "shapedefaults": {
           "line": {
            "color": "#2a3f5f"
           }
          },
          "ternary": {
           "aaxis": {
            "gridcolor": "white",
            "linecolor": "white",
            "ticks": ""
           },
           "baxis": {
            "gridcolor": "white",
            "linecolor": "white",
            "ticks": ""
           },
           "bgcolor": "#E5ECF6",
           "caxis": {
            "gridcolor": "white",
            "linecolor": "white",
            "ticks": ""
           }
          },
          "title": {
           "x": 0.05
          },
          "xaxis": {
           "automargin": true,
           "gridcolor": "white",
           "linecolor": "white",
           "ticks": "",
           "title": {
            "standoff": 15
           },
           "zerolinecolor": "white",
           "zerolinewidth": 2
          },
          "yaxis": {
           "automargin": true,
           "gridcolor": "white",
           "linecolor": "white",
           "ticks": "",
           "title": {
            "standoff": 15
           },
           "zerolinecolor": "white",
           "zerolinewidth": 2
          }
         }
        }
       }
      },
      "text/html": [
       "<div>                            <div id=\"602ac574-3383-46c4-b18f-48ebec1b927b\" class=\"plotly-graph-div\" style=\"height:525px; width:100%;\"></div>            <script type=\"text/javascript\">                require([\"plotly\"], function(Plotly) {                    window.PLOTLYENV=window.PLOTLYENV || {};                                    if (document.getElementById(\"602ac574-3383-46c4-b18f-48ebec1b927b\")) {                    Plotly.newPlot(                        \"602ac574-3383-46c4-b18f-48ebec1b927b\",                        [{\"domain\":{\"x\":[0.0,1.0],\"y\":[0.0,1.0]},\"hovertemplate\":\"label=%{label}<br>value=%{value}<extra></extra>\",\"labels\":[\"southeast\",\"southwest\",\"northwest\",\"northeast\"],\"legendgroup\":\"\",\"name\":\"\",\"showlegend\":true,\"values\":[364,325,325,324],\"type\":\"pie\"}],                        {\"template\":{\"data\":{\"histogram2dcontour\":[{\"type\":\"histogram2dcontour\",\"colorbar\":{\"outlinewidth\":0,\"ticks\":\"\"},\"colorscale\":[[0.0,\"#0d0887\"],[0.1111111111111111,\"#46039f\"],[0.2222222222222222,\"#7201a8\"],[0.3333333333333333,\"#9c179e\"],[0.4444444444444444,\"#bd3786\"],[0.5555555555555556,\"#d8576b\"],[0.6666666666666666,\"#ed7953\"],[0.7777777777777778,\"#fb9f3a\"],[0.8888888888888888,\"#fdca26\"],[1.0,\"#f0f921\"]]}],\"choropleth\":[{\"type\":\"choropleth\",\"colorbar\":{\"outlinewidth\":0,\"ticks\":\"\"}}],\"histogram2d\":[{\"type\":\"histogram2d\",\"colorbar\":{\"outlinewidth\":0,\"ticks\":\"\"},\"colorscale\":[[0.0,\"#0d0887\"],[0.1111111111111111,\"#46039f\"],[0.2222222222222222,\"#7201a8\"],[0.3333333333333333,\"#9c179e\"],[0.4444444444444444,\"#bd3786\"],[0.5555555555555556,\"#d8576b\"],[0.6666666666666666,\"#ed7953\"],[0.7777777777777778,\"#fb9f3a\"],[0.8888888888888888,\"#fdca26\"],[1.0,\"#f0f921\"]]}],\"heatmap\":[{\"type\":\"heatmap\",\"colorbar\":{\"outlinewidth\":0,\"ticks\":\"\"},\"colorscale\":[[0.0,\"#0d0887\"],[0.1111111111111111,\"#46039f\"],[0.2222222222222222,\"#7201a8\"],[0.3333333333333333,\"#9c179e\"],[0.4444444444444444,\"#bd3786\"],[0.5555555555555556,\"#d8576b\"],[0.6666666666666666,\"#ed7953\"],[0.7777777777777778,\"#fb9f3a\"],[0.8888888888888888,\"#fdca26\"],[1.0,\"#f0f921\"]]}],\"heatmapgl\":[{\"type\":\"heatmapgl\",\"colorbar\":{\"outlinewidth\":0,\"ticks\":\"\"},\"colorscale\":[[0.0,\"#0d0887\"],[0.1111111111111111,\"#46039f\"],[0.2222222222222222,\"#7201a8\"],[0.3333333333333333,\"#9c179e\"],[0.4444444444444444,\"#bd3786\"],[0.5555555555555556,\"#d8576b\"],[0.6666666666666666,\"#ed7953\"],[0.7777777777777778,\"#fb9f3a\"],[0.8888888888888888,\"#fdca26\"],[1.0,\"#f0f921\"]]}],\"contourcarpet\":[{\"type\":\"contourcarpet\",\"colorbar\":{\"outlinewidth\":0,\"ticks\":\"\"}}],\"contour\":[{\"type\":\"contour\",\"colorbar\":{\"outlinewidth\":0,\"ticks\":\"\"},\"colorscale\":[[0.0,\"#0d0887\"],[0.1111111111111111,\"#46039f\"],[0.2222222222222222,\"#7201a8\"],[0.3333333333333333,\"#9c179e\"],[0.4444444444444444,\"#bd3786\"],[0.5555555555555556,\"#d8576b\"],[0.6666666666666666,\"#ed7953\"],[0.7777777777777778,\"#fb9f3a\"],[0.8888888888888888,\"#fdca26\"],[1.0,\"#f0f921\"]]}],\"surface\":[{\"type\":\"surface\",\"colorbar\":{\"outlinewidth\":0,\"ticks\":\"\"},\"colorscale\":[[0.0,\"#0d0887\"],[0.1111111111111111,\"#46039f\"],[0.2222222222222222,\"#7201a8\"],[0.3333333333333333,\"#9c179e\"],[0.4444444444444444,\"#bd3786\"],[0.5555555555555556,\"#d8576b\"],[0.6666666666666666,\"#ed7953\"],[0.7777777777777778,\"#fb9f3a\"],[0.8888888888888888,\"#fdca26\"],[1.0,\"#f0f921\"]]}],\"mesh3d\":[{\"type\":\"mesh3d\",\"colorbar\":{\"outlinewidth\":0,\"ticks\":\"\"}}],\"scatter\":[{\"fillpattern\":{\"fillmode\":\"overlay\",\"size\":10,\"solidity\":0.2},\"type\":\"scatter\"}],\"parcoords\":[{\"type\":\"parcoords\",\"line\":{\"colorbar\":{\"outlinewidth\":0,\"ticks\":\"\"}}}],\"scatterpolargl\":[{\"type\":\"scatterpolargl\",\"marker\":{\"colorbar\":{\"outlinewidth\":0,\"ticks\":\"\"}}}],\"bar\":[{\"error_x\":{\"color\":\"#2a3f5f\"},\"error_y\":{\"color\":\"#2a3f5f\"},\"marker\":{\"line\":{\"color\":\"#E5ECF6\",\"width\":0.5},\"pattern\":{\"fillmode\":\"overlay\",\"size\":10,\"solidity\":0.2}},\"type\":\"bar\"}],\"scattergeo\":[{\"type\":\"scattergeo\",\"marker\":{\"colorbar\":{\"outlinewidth\":0,\"ticks\":\"\"}}}],\"scatterpolar\":[{\"type\":\"scatterpolar\",\"marker\":{\"colorbar\":{\"outlinewidth\":0,\"ticks\":\"\"}}}],\"histogram\":[{\"marker\":{\"pattern\":{\"fillmode\":\"overlay\",\"size\":10,\"solidity\":0.2}},\"type\":\"histogram\"}],\"scattergl\":[{\"type\":\"scattergl\",\"marker\":{\"colorbar\":{\"outlinewidth\":0,\"ticks\":\"\"}}}],\"scatter3d\":[{\"type\":\"scatter3d\",\"line\":{\"colorbar\":{\"outlinewidth\":0,\"ticks\":\"\"}},\"marker\":{\"colorbar\":{\"outlinewidth\":0,\"ticks\":\"\"}}}],\"scattermapbox\":[{\"type\":\"scattermapbox\",\"marker\":{\"colorbar\":{\"outlinewidth\":0,\"ticks\":\"\"}}}],\"scatterternary\":[{\"type\":\"scatterternary\",\"marker\":{\"colorbar\":{\"outlinewidth\":0,\"ticks\":\"\"}}}],\"scattercarpet\":[{\"type\":\"scattercarpet\",\"marker\":{\"colorbar\":{\"outlinewidth\":0,\"ticks\":\"\"}}}],\"carpet\":[{\"aaxis\":{\"endlinecolor\":\"#2a3f5f\",\"gridcolor\":\"white\",\"linecolor\":\"white\",\"minorgridcolor\":\"white\",\"startlinecolor\":\"#2a3f5f\"},\"baxis\":{\"endlinecolor\":\"#2a3f5f\",\"gridcolor\":\"white\",\"linecolor\":\"white\",\"minorgridcolor\":\"white\",\"startlinecolor\":\"#2a3f5f\"},\"type\":\"carpet\"}],\"table\":[{\"cells\":{\"fill\":{\"color\":\"#EBF0F8\"},\"line\":{\"color\":\"white\"}},\"header\":{\"fill\":{\"color\":\"#C8D4E3\"},\"line\":{\"color\":\"white\"}},\"type\":\"table\"}],\"barpolar\":[{\"marker\":{\"line\":{\"color\":\"#E5ECF6\",\"width\":0.5},\"pattern\":{\"fillmode\":\"overlay\",\"size\":10,\"solidity\":0.2}},\"type\":\"barpolar\"}],\"pie\":[{\"automargin\":true,\"type\":\"pie\"}]},\"layout\":{\"autotypenumbers\":\"strict\",\"colorway\":[\"#636efa\",\"#EF553B\",\"#00cc96\",\"#ab63fa\",\"#FFA15A\",\"#19d3f3\",\"#FF6692\",\"#B6E880\",\"#FF97FF\",\"#FECB52\"],\"font\":{\"color\":\"#2a3f5f\"},\"hovermode\":\"closest\",\"hoverlabel\":{\"align\":\"left\"},\"paper_bgcolor\":\"white\",\"plot_bgcolor\":\"#E5ECF6\",\"polar\":{\"bgcolor\":\"#E5ECF6\",\"angularaxis\":{\"gridcolor\":\"white\",\"linecolor\":\"white\",\"ticks\":\"\"},\"radialaxis\":{\"gridcolor\":\"white\",\"linecolor\":\"white\",\"ticks\":\"\"}},\"ternary\":{\"bgcolor\":\"#E5ECF6\",\"aaxis\":{\"gridcolor\":\"white\",\"linecolor\":\"white\",\"ticks\":\"\"},\"baxis\":{\"gridcolor\":\"white\",\"linecolor\":\"white\",\"ticks\":\"\"},\"caxis\":{\"gridcolor\":\"white\",\"linecolor\":\"white\",\"ticks\":\"\"}},\"coloraxis\":{\"colorbar\":{\"outlinewidth\":0,\"ticks\":\"\"}},\"colorscale\":{\"sequential\":[[0.0,\"#0d0887\"],[0.1111111111111111,\"#46039f\"],[0.2222222222222222,\"#7201a8\"],[0.3333333333333333,\"#9c179e\"],[0.4444444444444444,\"#bd3786\"],[0.5555555555555556,\"#d8576b\"],[0.6666666666666666,\"#ed7953\"],[0.7777777777777778,\"#fb9f3a\"],[0.8888888888888888,\"#fdca26\"],[1.0,\"#f0f921\"]],\"sequentialminus\":[[0.0,\"#0d0887\"],[0.1111111111111111,\"#46039f\"],[0.2222222222222222,\"#7201a8\"],[0.3333333333333333,\"#9c179e\"],[0.4444444444444444,\"#bd3786\"],[0.5555555555555556,\"#d8576b\"],[0.6666666666666666,\"#ed7953\"],[0.7777777777777778,\"#fb9f3a\"],[0.8888888888888888,\"#fdca26\"],[1.0,\"#f0f921\"]],\"diverging\":[[0,\"#8e0152\"],[0.1,\"#c51b7d\"],[0.2,\"#de77ae\"],[0.3,\"#f1b6da\"],[0.4,\"#fde0ef\"],[0.5,\"#f7f7f7\"],[0.6,\"#e6f5d0\"],[0.7,\"#b8e186\"],[0.8,\"#7fbc41\"],[0.9,\"#4d9221\"],[1,\"#276419\"]]},\"xaxis\":{\"gridcolor\":\"white\",\"linecolor\":\"white\",\"ticks\":\"\",\"title\":{\"standoff\":15},\"zerolinecolor\":\"white\",\"automargin\":true,\"zerolinewidth\":2},\"yaxis\":{\"gridcolor\":\"white\",\"linecolor\":\"white\",\"ticks\":\"\",\"title\":{\"standoff\":15},\"zerolinecolor\":\"white\",\"automargin\":true,\"zerolinewidth\":2},\"scene\":{\"xaxis\":{\"backgroundcolor\":\"#E5ECF6\",\"gridcolor\":\"white\",\"linecolor\":\"white\",\"showbackground\":true,\"ticks\":\"\",\"zerolinecolor\":\"white\",\"gridwidth\":2},\"yaxis\":{\"backgroundcolor\":\"#E5ECF6\",\"gridcolor\":\"white\",\"linecolor\":\"white\",\"showbackground\":true,\"ticks\":\"\",\"zerolinecolor\":\"white\",\"gridwidth\":2},\"zaxis\":{\"backgroundcolor\":\"#E5ECF6\",\"gridcolor\":\"white\",\"linecolor\":\"white\",\"showbackground\":true,\"ticks\":\"\",\"zerolinecolor\":\"white\",\"gridwidth\":2}},\"shapedefaults\":{\"line\":{\"color\":\"#2a3f5f\"}},\"annotationdefaults\":{\"arrowcolor\":\"#2a3f5f\",\"arrowhead\":0,\"arrowwidth\":1},\"geo\":{\"bgcolor\":\"white\",\"landcolor\":\"#E5ECF6\",\"subunitcolor\":\"white\",\"showland\":true,\"showlakes\":true,\"lakecolor\":\"white\"},\"title\":{\"x\":0.05},\"mapbox\":{\"style\":\"light\"}}},\"legend\":{\"tracegroupgap\":0},\"margin\":{\"t\":60}},                        {\"responsive\": true}                    ).then(function(){\n",
       "                            \n",
       "var gd = document.getElementById('602ac574-3383-46c4-b18f-48ebec1b927b');\n",
       "var x = new MutationObserver(function (mutations, observer) {{\n",
       "        var display = window.getComputedStyle(gd).display;\n",
       "        if (!display || display === 'none') {{\n",
       "            console.log([gd, 'removed!']);\n",
       "            Plotly.purge(gd);\n",
       "            observer.disconnect();\n",
       "        }}\n",
       "}});\n",
       "\n",
       "// Listen for the removal of the full notebook cells\n",
       "var notebookContainer = gd.closest('#notebook-container');\n",
       "if (notebookContainer) {{\n",
       "    x.observe(notebookContainer, {childList: true});\n",
       "}}\n",
       "\n",
       "// Listen for the clearing of the current output cell\n",
       "var outputEl = gd.closest('.output');\n",
       "if (outputEl) {{\n",
       "    x.observe(outputEl, {childList: true});\n",
       "}}\n",
       "\n",
       "                        })                };                });            </script>        </div>"
      ]
     },
     "metadata": {},
     "output_type": "display_data"
    }
   ],
   "source": [
    "import plotly.express as px\n",
    "pie = data[\"region\"].value_counts()\n",
    "regions = pie.index\n",
    "population = pie.values\n",
    "fig = px.pie(data, values=population, names=regions)\n",
    "fig.show()"
   ]
  },
  {
   "cell_type": "code",
   "execution_count": 139,
   "id": "2a00cacf",
   "metadata": {},
   "outputs": [
    {
     "name": "stdout",
     "output_type": "stream",
     "text": [
      "               age       sex       bmi  children    smoker   charges\n",
      "age       1.000000 -0.020856  0.109272  0.042469 -0.025019  0.299008\n",
      "sex      -0.020856  1.000000  0.046371  0.017163  0.076185  0.057292\n",
      "bmi       0.109272  0.046371  1.000000  0.012759  0.003750  0.198341\n",
      "children  0.042469  0.017163  0.012759  1.000000  0.007673  0.067998\n",
      "smoker   -0.025019  0.076185  0.003750  0.007673  1.000000  0.787251\n",
      "charges   0.299008  0.057292  0.198341  0.067998  0.787251  1.000000\n"
     ]
    }
   ],
   "source": [
    "print(data.corr())"
   ]
  },
  {
   "cell_type": "code",
   "execution_count": 140,
   "id": "e48bdabd",
   "metadata": {},
   "outputs": [],
   "source": [
    "x = np.array(data[[\"age\", \"sex\", \"bmi\", \"smoker\"]])\n",
    "y = np.array(data[\"charges\"])"
   ]
  },
  {
   "cell_type": "code",
   "execution_count": 141,
   "id": "72a75fab",
   "metadata": {},
   "outputs": [],
   "source": [
    "from sklearn.model_selection import train_test_split\n",
    "xtrain, xtest, ytrain, ytest = train_test_split(x, y, test_size=0.2, random_state=42)"
   ]
  },
  {
   "cell_type": "code",
   "execution_count": 142,
   "id": "13c31cc4",
   "metadata": {},
   "outputs": [
    {
     "data": {
      "text/plain": [
       "RandomForestRegressor()"
      ]
     },
     "execution_count": 142,
     "metadata": {},
     "output_type": "execute_result"
    }
   ],
   "source": [
    "from sklearn.ensemble import RandomForestRegressor\n",
    "model = RandomForestRegressor()\n",
    "model.fit(xtrain, ytrain)"
   ]
  },
  {
   "cell_type": "code",
   "execution_count": 143,
   "id": "b9b0707f",
   "metadata": {},
   "outputs": [
    {
     "name": "stdout",
     "output_type": "stream",
     "text": [
      "   Predicted Premium Amount\n",
      "0              11847.696434\n",
      "1               5542.333267\n",
      "2              28530.521888\n",
      "3               9736.566936\n",
      "4              35444.584074\n"
     ]
    }
   ],
   "source": [
    "ypred = model.predict(xtest)\n",
    "data = pd.DataFrame(data={\"Predicted Premium Amount\": ypred})\n",
    "print(data.head())"
   ]
  }
 ],
 "metadata": {
  "kernelspec": {
   "display_name": "Python 3 (ipykernel)",
   "language": "python",
   "name": "python3"
  },
  "language_info": {
   "codemirror_mode": {
    "name": "ipython",
    "version": 3
   },
   "file_extension": ".py",
   "mimetype": "text/x-python",
   "name": "python",
   "nbconvert_exporter": "python",
   "pygments_lexer": "ipython3",
   "version": "3.9.7"
  }
 },
 "nbformat": 4,
 "nbformat_minor": 5
}

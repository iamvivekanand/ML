{
 "cells": [
  {
   "cell_type": "markdown",
   "id": "fec1a5d7",
   "metadata": {},
   "source": [
    "### Heteroscedasticity in Regression Analysis"
   ]
  },
  {
   "cell_type": "markdown",
   "id": "71940f42",
   "metadata": {},
   "source": [
    "In Simple Linear Regression or Multiple Linear Regression we make some basic assumptions on the error term c\n",
    "\n",
    "    Simple LR eqn = Mx+b+C\n",
    "    Mulitple LR eqn = M1x1+M2x2+...+Mnxn+b+C\n",
    "    \n",
    "Assumptions: about error term C\n",
    "\n",
    "1. Error has zero mean\n",
    "2. Error has constant variance\n",
    "3. Errors are uncorrelated\n",
    "4. Errors are normally distributed\n",
    "\n",
    "Homoscedasticity: is the assumption that Error Terms has constant variance, if it doesn't have then that is called Heteroscedasticity."
   ]
  },
  {
   "cell_type": "markdown",
   "id": "d33d0b70",
   "metadata": {},
   "source": [
    "<img src='homos vs Heteros.jpg'>\n",
    "                                       \n",
    "                                       img source: geeksforgeeks.com"
   ]
  },
  {
   "cell_type": "code",
   "execution_count": 1,
   "id": "4d876bf5",
   "metadata": {},
   "outputs": [],
   "source": [
    "# Reasons of Heteroscedasticity:"
   ]
  },
  {
   "cell_type": "markdown",
   "id": "e5d91479",
   "metadata": {},
   "source": [
    "- datasets might be having a large range between the largest and the smallest observation i.e. when there are outliers.\n",
    "- When model is not correctly specified.\n",
    "- If observations are mixed with different measures of scale.\n",
    "- When incorrect transformation of data is used to perform the regression.\n",
    "- Skewness in the distribution of a regressor, and may be some other sources"
   ]
  },
  {
   "cell_type": "code",
   "execution_count": 2,
   "id": "a9fc0103",
   "metadata": {},
   "outputs": [],
   "source": [
    "# Effects of Heteroscedasticity:"
   ]
  },
  {
   "cell_type": "markdown",
   "id": "f013f085",
   "metadata": {},
   "source": [
    "- OLS (Ordinary Least Square) estimators are not the Best Linear Unbiased Estimator(BLUE) and their variance is not the lowest of all other unbiased estimators.\n",
    "- Estimators are no longer best/efficient.\n",
    "- The tests of hypothesis (like t-test, F-test) are no longer valid due to the inconsistency in the co-variance matrix of the estimated regression coefficients."
   ]
  },
  {
   "cell_type": "code",
   "execution_count": 3,
   "id": "2ca5f017",
   "metadata": {},
   "outputs": [],
   "source": [
    "# Identifying Heteroscedasticity with residual plots:"
   ]
  },
  {
   "cell_type": "markdown",
   "id": "0c4f3b0e",
   "metadata": {},
   "source": [
    "\n",
    "       1.The Breush – Pegan Test:\n",
    "       2.White test:"
   ]
  },
  {
   "cell_type": "code",
   "execution_count": 4,
   "id": "3b412c73",
   "metadata": {},
   "outputs": [],
   "source": [
    "# ways for Corrections for heteroscedasticity:"
   ]
  },
  {
   "cell_type": "code",
   "execution_count": null,
   "id": "748b36cf",
   "metadata": {},
   "outputs": [],
   "source": []
  }
 ],
 "metadata": {
  "kernelspec": {
   "display_name": "Python 3 (ipykernel)",
   "language": "python",
   "name": "python3"
  },
  "language_info": {
   "codemirror_mode": {
    "name": "ipython",
    "version": 3
   },
   "file_extension": ".py",
   "mimetype": "text/x-python",
   "name": "python",
   "nbconvert_exporter": "python",
   "pygments_lexer": "ipython3",
   "version": "3.9.7"
  }
 },
 "nbformat": 4,
 "nbformat_minor": 5
}

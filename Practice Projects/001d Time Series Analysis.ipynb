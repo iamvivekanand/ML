{
 "cells": [
  {
   "cell_type": "markdown",
   "id": "2f192abd",
   "metadata": {},
   "source": [
    "### Time Series Analysis"
   ]
  },
  {
   "cell_type": "raw",
   "id": "17f6f103",
   "metadata": {},
   "source": [
    "Time series analysis means analyzing and finding patterns in a time series dataset. A time-series dataset is a sequence of data collected over an interval of time. Stock price data, monthly sales data, daily rainfall data, hourly website traffic data are some examples,"
   ]
  },
  {
   "cell_type": "code",
   "execution_count": 3,
   "id": "09131fa3",
   "metadata": {},
   "outputs": [],
   "source": [
    "import pandas as pd\n",
    "import numpy as np\n",
    "import datetime\n",
    "from datetime import date, timedelta,timezone\n",
    "import matplotlib.pyplot as plt\n",
    "%matplotlib inline"
   ]
  },
  {
   "cell_type": "code",
   "execution_count": 2,
   "id": "200f9831",
   "metadata": {},
   "outputs": [],
   "source": [
    "import yfinance as yf"
   ]
  },
  {
   "cell_type": "code",
   "execution_count": 3,
   "id": "df570369",
   "metadata": {},
   "outputs": [],
   "source": [
    "# getting cutting date into a variable today\n",
    "today=date.today()"
   ]
  },
  {
   "cell_type": "code",
   "execution_count": 4,
   "id": "89480dfe",
   "metadata": {},
   "outputs": [
    {
     "data": {
      "text/plain": [
       "datetime.date(2022, 5, 29)"
      ]
     },
     "execution_count": 4,
     "metadata": {},
     "output_type": "execute_result"
    }
   ],
   "source": [
    "today"
   ]
  },
  {
   "cell_type": "code",
   "execution_count": 11,
   "id": "fef01eea",
   "metadata": {},
   "outputs": [
    {
     "data": {
      "text/plain": [
       "'2021-05-29'"
      ]
     },
     "execution_count": 11,
     "metadata": {},
     "output_type": "execute_result"
    }
   ],
   "source": [
    "start_date=today-timedelta(days=365)\n",
    "start_date=start_date.strftime(\"%Y-%m-%d\")\n",
    "start_date"
   ]
  },
  {
   "cell_type": "code",
   "execution_count": 12,
   "id": "4f5e52f4",
   "metadata": {},
   "outputs": [
    {
     "data": {
      "text/plain": [
       "'2022-05-29'"
      ]
     },
     "execution_count": 12,
     "metadata": {},
     "output_type": "execute_result"
    }
   ],
   "source": [
    "end_date=date.today()\n",
    "end_date=end_date.strftime(\"%Y-%m-%d\")\n",
    "end_date"
   ]
  },
  {
   "cell_type": "code",
   "execution_count": 13,
   "id": "c7aa48b1",
   "metadata": {},
   "outputs": [
    {
     "name": "stdout",
     "output_type": "stream",
     "text": [
      "\n",
      "1 Failed download:\n",
      "- AAPL: No data found for this date range, symbol may be delisted\n"
     ]
    },
    {
     "data": {
      "text/html": [
       "<div>\n",
       "<style scoped>\n",
       "    .dataframe tbody tr th:only-of-type {\n",
       "        vertical-align: middle;\n",
       "    }\n",
       "\n",
       "    .dataframe tbody tr th {\n",
       "        vertical-align: top;\n",
       "    }\n",
       "\n",
       "    .dataframe thead th {\n",
       "        text-align: right;\n",
       "    }\n",
       "</style>\n",
       "<table border=\"1\" class=\"dataframe\">\n",
       "  <thead>\n",
       "    <tr style=\"text-align: right;\">\n",
       "      <th></th>\n",
       "      <th>Open</th>\n",
       "      <th>High</th>\n",
       "      <th>Low</th>\n",
       "      <th>Close</th>\n",
       "      <th>Adj Close</th>\n",
       "      <th>Volume</th>\n",
       "    </tr>\n",
       "    <tr>\n",
       "      <th>Date</th>\n",
       "      <th></th>\n",
       "      <th></th>\n",
       "      <th></th>\n",
       "      <th></th>\n",
       "      <th></th>\n",
       "      <th></th>\n",
       "    </tr>\n",
       "  </thead>\n",
       "  <tbody>\n",
       "  </tbody>\n",
       "</table>\n",
       "</div>"
      ],
      "text/plain": [
       "Empty DataFrame\n",
       "Columns: [Open, High, Low, Close, Adj Close, Volume]\n",
       "Index: []"
      ]
     },
     "execution_count": 13,
     "metadata": {},
     "output_type": "execute_result"
    }
   ],
   "source": [
    "data=yf.download('AAPL', start=start_date, end=end_date, progress=False)\n",
    "data"
   ]
  },
  {
   "cell_type": "code",
   "execution_count": 14,
   "id": "bcae6a1b",
   "metadata": {},
   "outputs": [],
   "source": [
    "import plotly.express as px"
   ]
  },
  {
   "cell_type": "raw",
   "id": "29a61c6d",
   "metadata": {},
   "source": [
    "fig = px.line(data=data, x = data.index, y = \"Close\", title = \"Time Series Analysis (Line Plot)\")\n",
    "fig.show()"
   ]
  },
  {
   "cell_type": "raw",
   "id": "2f9a0f2b",
   "metadata": {},
   "source": [
    "import plotly.graph_objects as go\n",
    "figure = go.Figure(data=[go.Candlestick(x = data.index,\n",
    "                                        open = data[\"Open\"], \n",
    "                                        high = data[\"High\"],\n",
    "                                        low = data[\"Low\"], \n",
    "                                        close = data[\"Close\"])])\n",
    "figure.update_layout(title = \"Time Series Analysis (Candlestick Chart)\",       "
   ]
  },
  {
   "cell_type": "raw",
   "id": "23f93ae1",
   "metadata": {},
   "source": [
    "figure = px.bar(data, x = data.index, y = \"Close\", title = \"Time Series Analysis (Bar Plot)\" )\n",
    "figure.show()"
   ]
  },
  {
   "cell_type": "markdown",
   "id": "1dc7d96e",
   "metadata": {},
   "source": [
    "### Implementation by me"
   ]
  },
  {
   "cell_type": "code",
   "execution_count": 10,
   "id": "1b5af858",
   "metadata": {},
   "outputs": [],
   "source": [
    "import datetime\n",
    "from datetime import timedelta,timezone,date"
   ]
  },
  {
   "cell_type": "code",
   "execution_count": 11,
   "id": "cba199d0",
   "metadata": {},
   "outputs": [],
   "source": [
    "# define current date\n",
    "today=date.today()"
   ]
  },
  {
   "cell_type": "code",
   "execution_count": 12,
   "id": "8c01373c",
   "metadata": {},
   "outputs": [
    {
     "data": {
      "text/plain": [
       "datetime.date(2022, 7, 17)"
      ]
     },
     "execution_count": 12,
     "metadata": {},
     "output_type": "execute_result"
    }
   ],
   "source": [
    "today"
   ]
  },
  {
   "cell_type": "code",
   "execution_count": 13,
   "id": "acd5ca8f",
   "metadata": {},
   "outputs": [
    {
     "data": {
      "text/plain": [
       "'2011-08-04'"
      ]
     },
     "execution_count": 13,
     "metadata": {},
     "output_type": "execute_result"
    }
   ],
   "source": [
    "startdate=today-timedelta(days=4000)\n",
    "startdate=startdate.strftime('%Y-%m-%d')\n",
    "startdate"
   ]
  },
  {
   "cell_type": "code",
   "execution_count": 14,
   "id": "113c06d3",
   "metadata": {},
   "outputs": [
    {
     "data": {
      "text/plain": [
       "'2022-07-17'"
      ]
     },
     "execution_count": 14,
     "metadata": {},
     "output_type": "execute_result"
    }
   ],
   "source": [
    "enddate=today\n",
    "enddate=enddate.strftime('%Y-%m-%d')\n",
    "enddate"
   ]
  },
  {
   "cell_type": "code",
   "execution_count": 15,
   "id": "4a8cc792",
   "metadata": {},
   "outputs": [],
   "source": [
    "import yfinance as yf"
   ]
  },
  {
   "cell_type": "raw",
   "id": "677544fb",
   "metadata": {},
   "source": [
    "data=yf.download(data='AAPL',start=startdate,end=enddate, progress=False)"
   ]
  },
  {
   "cell_type": "raw",
   "id": "107de337",
   "metadata": {},
   "source": [
    "import plotly.experss as px\n",
    "fig=px.line(data=data, x= data.index,y=data.close,title = \"Time Series Analysis (Line Plot)\")\n",
    "fig.show())"
   ]
  },
  {
   "cell_type": "raw",
   "id": "952a003d",
   "metadata": {},
   "source": [
    "import plotly.graph_objects as go\n",
    "fig2=go.Figure(data=[go.candlestick(x=data.index,\n",
    "                                    open=data['open']\n",
    "                                    high=data['high']\n",
    "                                    low=data['low']\n",
    "                                    close=data['close'])])"
   ]
  },
  {
   "cell_type": "raw",
   "id": "0218cd46",
   "metadata": {},
   "source": [
    "fig2.update_layout(title=\"Time Series Analysis(CandleStick Chart)\")"
   ]
  },
  {
   "cell_type": "raw",
   "id": "9c2b42fb",
   "metadata": {},
   "source": [
    "fig3=px.bar(data=data, x='index', y='close', title='time series analysis(bar plot)')\n",
    "fig3.show()"
   ]
  }
 ],
 "metadata": {
  "kernelspec": {
   "display_name": "Python 3 (ipykernel)",
   "language": "python",
   "name": "python3"
  },
  "language_info": {
   "codemirror_mode": {
    "name": "ipython",
    "version": 3
   },
   "file_extension": ".py",
   "mimetype": "text/x-python",
   "name": "python",
   "nbconvert_exporter": "python",
   "pygments_lexer": "ipython3",
   "version": "3.9.7"
  }
 },
 "nbformat": 4,
 "nbformat_minor": 5
}

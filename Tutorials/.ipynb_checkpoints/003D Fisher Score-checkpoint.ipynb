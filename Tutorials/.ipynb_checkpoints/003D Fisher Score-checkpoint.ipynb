{
 "cells": [
  {
   "cell_type": "markdown",
   "id": "555325ca",
   "metadata": {},
   "source": [
    "### Fisher’s Score"
   ]
  },
  {
   "cell_type": "markdown",
   "id": "f7215a99",
   "metadata": {},
   "source": [
    "- also known as  Fisher's discriminant ratio or Fisher discriminant analysis,\n",
    "- mainly used for classification tasks\n",
    "- Returns the ranks of the variables based on the fisher’s score in descending order\n",
    "- The Fisher score for a feature is defined as the ratio of the between-class variance to the within-class variance:\n",
    "\n",
    "    Fisher score = (mean of feature values in class 1 - mean of feature values in class 2)^2 / (variance of feature values in class 1 + variance of feature values in class 2)"
   ]
  },
  {
   "cell_type": "code",
   "execution_count": 3,
   "id": "d6e47e6d",
   "metadata": {},
   "outputs": [],
   "source": [
    "# Here are the key steps and concepts behind Fisher score feature selection:"
   ]
  },
  {
   "attachments": {
    "image.png": {
     "image/png": "[encoded data removed]"
    }
   },
   "cell_type": "markdown",
   "id": "e15daf38",
   "metadata": {},
   "source": [
    "Between-Class Variance (Separability): Fisher score measures how well a feature can separate different classes by comparing the variance between class means\n",
    "\n",
    "Within-Class Variance (Compactness): Fisher score also considers the variance within each class. \n",
    "\n",
    "![image.png](attachment:image.png)"
   ]
  },
  {
   "cell_type": "markdown",
   "id": "263a1a74",
   "metadata": {},
   "source": [
    "Within-class variance measures the spread or dispersion of data points within each class. A low within-class variance indicates that data points within the same class are close to each other, while a high within-class variance means that data points within a class are more spread out.\n",
    "\n",
    "it is calculated based on the distances between data points within that class and their respective class centroids (mean points). If data points within a class are tightly clustered around the centroid, the within-class variance will be low."
   ]
  },
  {
   "cell_type": "markdown",
   "id": "95c9b7a7",
   "metadata": {},
   "source": [
    "Between-class variance measures the separation or distinction between different classes in a dataset. It quantifies how distinct each class is from the others based on the feature values. A high between-class variance indicates that different classes are well-separated in feature space, making classification easier."
   ]
  },
  {
   "cell_type": "code",
   "execution_count": null,
   "id": "e86efad3",
   "metadata": {},
   "outputs": [],
   "source": [
    "from sklearn.feature_selection import "
   ]
  },
  {
   "cell_type": "code",
   "execution_count": 4,
   "id": "729f2279",
   "metadata": {},
   "outputs": [],
   "source": [
    "import numpy as np\n",
    "from sklearn.datasets import load_iris\n",
    "from sklearn.feature_selection import SelectKBest, f_classif"
   ]
  },
  {
   "cell_type": "code",
   "execution_count": 5,
   "id": "aa0ae357",
   "metadata": {},
   "outputs": [],
   "source": [
    "# Load the Iris dataset\n",
    "iris = load_iris()\n",
    "X, y = iris.data, iris.target"
   ]
  },
  {
   "cell_type": "code",
   "execution_count": 6,
   "id": "7f864a69",
   "metadata": {},
   "outputs": [],
   "source": [
    "# Apply SelectKBest with Fisher's score (f_classif) as the scoring function\n",
    "fs = SelectKBest(score_func=f_classif, k=2)\n",
    "X_new = fs.fit_transform(X, y)"
   ]
  },
  {
   "cell_type": "code",
   "execution_count": 7,
   "id": "86eaab63",
   "metadata": {},
   "outputs": [
    {
     "name": "stdout",
     "output_type": "stream",
     "text": [
      "Selected features: ['petal length (cm)' 'petal width (cm)']\n"
     ]
    }
   ],
   "source": [
    "# Get the indices of the selected features\n",
    "selected_features_indices = fs.get_support(indices=True)\n",
    "\n",
    "# Print the selected feature indices and their names\n",
    "selected_feature_names = np.array(iris.feature_names)[selected_features_indices]\n",
    "print(\"Selected features:\", selected_feature_names)"
   ]
  },
  {
   "cell_type": "code",
   "execution_count": null,
   "id": "9789342e",
   "metadata": {},
   "outputs": [],
   "source": []
  }
 ],
 "metadata": {
  "kernelspec": {
   "display_name": "Python 3 (ipykernel)",
   "language": "python",
   "name": "python3"
  },
  "language_info": {
   "codemirror_mode": {
    "name": "ipython",
    "version": 3
   },
   "file_extension": ".py",
   "mimetype": "text/x-python",
   "name": "python",
   "nbconvert_exporter": "python",
   "pygments_lexer": "ipython3",
   "version": "3.9.16"
  }
 },
 "nbformat": 4,
 "nbformat_minor": 5
}

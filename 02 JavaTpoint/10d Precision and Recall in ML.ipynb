{
 "cells": [
  {
   "cell_type": "markdown",
   "id": "cb770cc1",
   "metadata": {},
   "source": [
    "### Precision and Recall in ML"
   ]
  },
  {
   "cell_type": "code",
   "execution_count": 1,
   "id": "83d8f81d",
   "metadata": {},
   "outputs": [],
   "source": [
    "import numpy as np\n",
    "import pandas as pd"
   ]
  },
  {
   "cell_type": "code",
   "execution_count": 2,
   "id": "14189a34",
   "metadata": {},
   "outputs": [],
   "source": [
    "import matplotlib.pyplot as plt\n",
    "import seaborn as sns\n",
    "%matplotlib inline"
   ]
  },
  {
   "cell_type": "code",
   "execution_count": 3,
   "id": "cc60ecdd",
   "metadata": {},
   "outputs": [
    {
     "data": {
      "text/html": [
       "<div>\n",
       "<style scoped>\n",
       "    .dataframe tbody tr th:only-of-type {\n",
       "        vertical-align: middle;\n",
       "    }\n",
       "\n",
       "    .dataframe tbody tr th {\n",
       "        vertical-align: top;\n",
       "    }\n",
       "\n",
       "    .dataframe thead th {\n",
       "        text-align: right;\n",
       "    }\n",
       "</style>\n",
       "<table border=\"1\" class=\"dataframe\">\n",
       "  <thead>\n",
       "    <tr style=\"text-align: right;\">\n",
       "      <th></th>\n",
       "      <th>age</th>\n",
       "      <th>sex</th>\n",
       "      <th>BP</th>\n",
       "      <th>cholestrol</th>\n",
       "      <th>heart disease</th>\n",
       "    </tr>\n",
       "  </thead>\n",
       "  <tbody>\n",
       "    <tr>\n",
       "      <th>0</th>\n",
       "      <td>70</td>\n",
       "      <td>1</td>\n",
       "      <td>130</td>\n",
       "      <td>322</td>\n",
       "      <td>1</td>\n",
       "    </tr>\n",
       "    <tr>\n",
       "      <th>1</th>\n",
       "      <td>67</td>\n",
       "      <td>0</td>\n",
       "      <td>115</td>\n",
       "      <td>564</td>\n",
       "      <td>0</td>\n",
       "    </tr>\n",
       "  </tbody>\n",
       "</table>\n",
       "</div>"
      ],
      "text/plain": [
       "   age  sex   BP  cholestrol  heart disease\n",
       "0   70    1  130         322              1\n",
       "1   67    0  115         564              0"
      ]
     },
     "execution_count": 3,
     "metadata": {},
     "output_type": "execute_result"
    }
   ],
   "source": [
    "df=pd.read_csv('heart_v2.csv')\n",
    "df.head(2)"
   ]
  },
  {
   "cell_type": "code",
   "execution_count": 5,
   "id": "df889c07",
   "metadata": {},
   "outputs": [],
   "source": [
    "df['target']=df['heart disease']"
   ]
  },
  {
   "cell_type": "code",
   "execution_count": 6,
   "id": "3e176156",
   "metadata": {},
   "outputs": [
    {
     "data": {
      "text/html": [
       "<div>\n",
       "<style scoped>\n",
       "    .dataframe tbody tr th:only-of-type {\n",
       "        vertical-align: middle;\n",
       "    }\n",
       "\n",
       "    .dataframe tbody tr th {\n",
       "        vertical-align: top;\n",
       "    }\n",
       "\n",
       "    .dataframe thead th {\n",
       "        text-align: right;\n",
       "    }\n",
       "</style>\n",
       "<table border=\"1\" class=\"dataframe\">\n",
       "  <thead>\n",
       "    <tr style=\"text-align: right;\">\n",
       "      <th></th>\n",
       "      <th>age</th>\n",
       "      <th>sex</th>\n",
       "      <th>BP</th>\n",
       "      <th>cholestrol</th>\n",
       "      <th>heart disease</th>\n",
       "      <th>target</th>\n",
       "    </tr>\n",
       "  </thead>\n",
       "  <tbody>\n",
       "    <tr>\n",
       "      <th>0</th>\n",
       "      <td>70</td>\n",
       "      <td>1</td>\n",
       "      <td>130</td>\n",
       "      <td>322</td>\n",
       "      <td>1</td>\n",
       "      <td>1</td>\n",
       "    </tr>\n",
       "    <tr>\n",
       "      <th>1</th>\n",
       "      <td>67</td>\n",
       "      <td>0</td>\n",
       "      <td>115</td>\n",
       "      <td>564</td>\n",
       "      <td>0</td>\n",
       "      <td>0</td>\n",
       "    </tr>\n",
       "  </tbody>\n",
       "</table>\n",
       "</div>"
      ],
      "text/plain": [
       "   age  sex   BP  cholestrol  heart disease  target\n",
       "0   70    1  130         322              1       1\n",
       "1   67    0  115         564              0       0"
      ]
     },
     "execution_count": 6,
     "metadata": {},
     "output_type": "execute_result"
    }
   ],
   "source": [
    "df.head(2)"
   ]
  },
  {
   "cell_type": "code",
   "execution_count": 7,
   "id": "e6d250a3",
   "metadata": {},
   "outputs": [],
   "source": [
    "del df['heart disease']"
   ]
  },
  {
   "cell_type": "code",
   "execution_count": 8,
   "id": "7f065c86",
   "metadata": {},
   "outputs": [
    {
     "data": {
      "text/html": [
       "<div>\n",
       "<style scoped>\n",
       "    .dataframe tbody tr th:only-of-type {\n",
       "        vertical-align: middle;\n",
       "    }\n",
       "\n",
       "    .dataframe tbody tr th {\n",
       "        vertical-align: top;\n",
       "    }\n",
       "\n",
       "    .dataframe thead th {\n",
       "        text-align: right;\n",
       "    }\n",
       "</style>\n",
       "<table border=\"1\" class=\"dataframe\">\n",
       "  <thead>\n",
       "    <tr style=\"text-align: right;\">\n",
       "      <th></th>\n",
       "      <th>age</th>\n",
       "      <th>sex</th>\n",
       "      <th>BP</th>\n",
       "      <th>cholestrol</th>\n",
       "      <th>target</th>\n",
       "    </tr>\n",
       "  </thead>\n",
       "  <tbody>\n",
       "    <tr>\n",
       "      <th>0</th>\n",
       "      <td>70</td>\n",
       "      <td>1</td>\n",
       "      <td>130</td>\n",
       "      <td>322</td>\n",
       "      <td>1</td>\n",
       "    </tr>\n",
       "    <tr>\n",
       "      <th>1</th>\n",
       "      <td>67</td>\n",
       "      <td>0</td>\n",
       "      <td>115</td>\n",
       "      <td>564</td>\n",
       "      <td>0</td>\n",
       "    </tr>\n",
       "  </tbody>\n",
       "</table>\n",
       "</div>"
      ],
      "text/plain": [
       "   age  sex   BP  cholestrol  target\n",
       "0   70    1  130         322       1\n",
       "1   67    0  115         564       0"
      ]
     },
     "execution_count": 8,
     "metadata": {},
     "output_type": "execute_result"
    }
   ],
   "source": [
    "df.head(2)"
   ]
  },
  {
   "cell_type": "code",
   "execution_count": 9,
   "id": "c6243163",
   "metadata": {},
   "outputs": [
    {
     "name": "stderr",
     "output_type": "stream",
     "text": [
      "C:\\ProgramData\\Anaconda3\\lib\\site-packages\\seaborn\\_decorators.py:36: FutureWarning: Pass the following variable as a keyword arg: x. From version 0.12, the only valid positional argument will be `data`, and passing other arguments without an explicit keyword will result in an error or misinterpretation.\n",
      "  warnings.warn(\n"
     ]
    },
    {
     "data": {
      "image/png": "[encoded data removed]",
      "text/plain": [
       "<Figure size 432x288 with 1 Axes>"
      ]
     },
     "metadata": {
      "needs_background": "light"
     },
     "output_type": "display_data"
    }
   ],
   "source": [
    "sns.countplot(df['target'])\n",
    "plt.show()"
   ]
  },
  {
   "cell_type": "code",
   "execution_count": 10,
   "id": "43fd167c",
   "metadata": {},
   "outputs": [
    {
     "data": {
      "text/plain": [
       "0    150\n",
       "1    120\n",
       "Name: target, dtype: int64"
      ]
     },
     "execution_count": 10,
     "metadata": {},
     "output_type": "execute_result"
    }
   ],
   "source": [
    "df['target'].value_counts()"
   ]
  },
  {
   "cell_type": "code",
   "execution_count": 11,
   "id": "64f1409d",
   "metadata": {},
   "outputs": [],
   "source": [
    "X=df.drop('target',axis=1)\n",
    "y=df.target"
   ]
  },
  {
   "cell_type": "code",
   "execution_count": 12,
   "id": "5f158a6d",
   "metadata": {},
   "outputs": [
    {
     "data": {
      "text/plain": [
       "pandas.core.series.Series"
      ]
     },
     "execution_count": 12,
     "metadata": {},
     "output_type": "execute_result"
    }
   ],
   "source": [
    "type(y)"
   ]
  },
  {
   "cell_type": "code",
   "execution_count": 13,
   "id": "faeb74ea",
   "metadata": {},
   "outputs": [
    {
     "data": {
      "text/plain": [
       "pandas.core.frame.DataFrame"
      ]
     },
     "execution_count": 13,
     "metadata": {},
     "output_type": "execute_result"
    }
   ],
   "source": [
    "type(X)"
   ]
  },
  {
   "cell_type": "code",
   "execution_count": 14,
   "id": "bd06c4b1",
   "metadata": {},
   "outputs": [],
   "source": [
    "from sklearn.preprocessing import StandardScaler\n",
    "ss = StandardScaler()\n",
    "X = ss.fit_transform(X)"
   ]
  },
  {
   "cell_type": "code",
   "execution_count": 15,
   "id": "6f279726",
   "metadata": {},
   "outputs": [],
   "source": [
    "from sklearn.model_selection import train_test_split\n",
    "X_train, X_test, y_train, y_test = train_test_split(X, y, test_size = 0.3) # 70% training and 30% test"
   ]
  },
  {
   "cell_type": "code",
   "execution_count": 16,
   "id": "6160760b",
   "metadata": {},
   "outputs": [],
   "source": [
    "train_score = []\n",
    "test_score = []\n",
    "k_values = []"
   ]
  },
  {
   "cell_type": "code",
   "execution_count": 18,
   "id": "0b93c9a6",
   "metadata": {},
   "outputs": [],
   "source": [
    "from sklearn.neighbors import KNeighborsClassifier"
   ]
  },
  {
   "cell_type": "code",
   "execution_count": 19,
   "id": "cb7390fb",
   "metadata": {},
   "outputs": [],
   "source": [
    "for k in range(1, 21):\n",
    "    k_values.append(k)\n",
    "    knn = KNeighborsClassifier(n_neighbors = k)\n",
    "    knn.fit(X_train, y_train)\n",
    "    \n",
    "    train_score.append(knn.score(X_train, y_train))\n",
    "    test_score.append(knn.score(X_test, y_test))"
   ]
  },
  {
   "cell_type": "code",
   "execution_count": 20,
   "id": "1ca8ded9",
   "metadata": {},
   "outputs": [],
   "source": [
    "max_test_score = max(test_score)"
   ]
  },
  {
   "cell_type": "code",
   "execution_count": 21,
   "id": "49eecccb",
   "metadata": {},
   "outputs": [
    {
     "name": "stdout",
     "output_type": "stream",
     "text": [
      "Max test score 69.1358024691358 and k = [2, 4]\n"
     ]
    }
   ],
   "source": [
    "test_scores_ind = [i for i, j in enumerate(test_score) if j == max_test_score]\n",
    "print('Max test score {} and k = {}'.format(max_test_score * 100, list(map(lambda x: x + 1, test_scores_ind))))"
   ]
  },
  {
   "cell_type": "raw",
   "id": "2581af61",
   "metadata": {},
   "source": [
    "Thus, we have obtained the optimum value of k to be 3, 11, or 20 with a score of 83.5. We will finalize one of these values and fit the model accordingly:"
   ]
  },
  {
   "cell_type": "code",
   "execution_count": 22,
   "id": "e5823a54",
   "metadata": {},
   "outputs": [
    {
     "data": {
      "text/plain": [
       "0.6172839506172839"
      ]
     },
     "execution_count": 22,
     "metadata": {},
     "output_type": "execute_result"
    }
   ],
   "source": [
    "#Setup a knn classifier with k neighbors\n",
    "knn = KNeighborsClassifier(3)\n",
    "\n",
    "knn.fit(X_train, y_train)\n",
    "knn.score(X_test, y_test)"
   ]
  },
  {
   "cell_type": "code",
   "execution_count": 26,
   "id": "44623501",
   "metadata": {},
   "outputs": [
    {
     "data": {
      "text/plain": [
       "0.691358024691358"
      ]
     },
     "execution_count": 26,
     "metadata": {},
     "output_type": "execute_result"
    }
   ],
   "source": [
    "#Setup a knn classifier with k neighbors\n",
    "knn = KNeighborsClassifier(2)\n",
    "\n",
    "knn.fit(X_train, y_train)\n",
    "knn.score(X_test, y_test)"
   ]
  },
  {
   "cell_type": "code",
   "execution_count": 28,
   "id": "77489ce1",
   "metadata": {},
   "outputs": [],
   "source": [
    "from sklearn.metrics import confusion_matrix"
   ]
  },
  {
   "cell_type": "code",
   "execution_count": 29,
   "id": "b18cd5ed",
   "metadata": {},
   "outputs": [
    {
     "data": {
      "text/html": [
       "<div>\n",
       "<style scoped>\n",
       "    .dataframe tbody tr th:only-of-type {\n",
       "        vertical-align: middle;\n",
       "    }\n",
       "\n",
       "    .dataframe tbody tr th {\n",
       "        vertical-align: top;\n",
       "    }\n",
       "\n",
       "    .dataframe thead th {\n",
       "        text-align: right;\n",
       "    }\n",
       "</style>\n",
       "<table border=\"1\" class=\"dataframe\">\n",
       "  <thead>\n",
       "    <tr style=\"text-align: right;\">\n",
       "      <th>Predicted</th>\n",
       "      <th>0</th>\n",
       "      <th>1</th>\n",
       "      <th>All</th>\n",
       "    </tr>\n",
       "    <tr>\n",
       "      <th>Actual</th>\n",
       "      <th></th>\n",
       "      <th></th>\n",
       "      <th></th>\n",
       "    </tr>\n",
       "  </thead>\n",
       "  <tbody>\n",
       "    <tr>\n",
       "      <th>0</th>\n",
       "      <td>38</td>\n",
       "      <td>7</td>\n",
       "      <td>45</td>\n",
       "    </tr>\n",
       "    <tr>\n",
       "      <th>1</th>\n",
       "      <td>18</td>\n",
       "      <td>18</td>\n",
       "      <td>36</td>\n",
       "    </tr>\n",
       "    <tr>\n",
       "      <th>All</th>\n",
       "      <td>56</td>\n",
       "      <td>25</td>\n",
       "      <td>81</td>\n",
       "    </tr>\n",
       "  </tbody>\n",
       "</table>\n",
       "</div>"
      ],
      "text/plain": [
       "Predicted   0   1  All\n",
       "Actual                \n",
       "0          38   7   45\n",
       "1          18  18   36\n",
       "All        56  25   81"
      ]
     },
     "execution_count": 29,
     "metadata": {},
     "output_type": "execute_result"
    }
   ],
   "source": [
    "y_pred = knn.predict(X_test)\n",
    "confusion_matrix(y_test,y_pred)\n",
    "pd.crosstab(y_test, y_pred, rownames = ['Actual'], colnames =['Predicted'], margins = True)"
   ]
  },
  {
   "cell_type": "markdown",
   "id": "887a8152",
   "metadata": {},
   "source": [
    "### What is Precision??"
   ]
  },
  {
   "cell_type": "raw",
   "id": "338b5304",
   "metadata": {},
   "source": [
    "Precision is the ratio between the True Positives and to the all cases\n",
    "\n",
    "Precision=TP/(TP+FP)\n",
    "\n",
    "if Precision for our model is 0.843 or, when it predicts that a patient has heart disease, it is correct around 84% of the time."
   ]
  },
  {
   "cell_type": "markdown",
   "id": "604713e2",
   "metadata": {},
   "source": [
    "### What is recall in Model Evaluation?"
   ]
  },
  {
   "cell_type": "raw",
   "id": "c8cd5966",
   "metadata": {},
   "source": [
    "Ration of True Positive to the actual Positive..\n",
    "\n",
    "recall=TP/(TP+FN)  -- here FN means it was also positive but our model predicted it negative thus false negative. \n",
    "\n",
    "Recall also gives a measure of how accurately our model is able to identify the relevant data. We refer to it as Sensitivity or True Positive Rate\n",
    "\n",
    "\n",
    "if recall is high, that would mean model is more likely to predict the patient doesn't have a heart disease but he has."
   ]
  },
  {
   "cell_type": "markdown",
   "id": "2059abe2",
   "metadata": {},
   "source": [
    "#### The Easiest Metric to Understand – Accuracy "
   ]
  },
  {
   "cell_type": "raw",
   "id": "b45c82b6",
   "metadata": {},
   "source": [
    "Ratio of the total number of correct predictions and the total number of predictions\n",
    "\n",
    "accuracy= TP+TN/(TP+TN+FP+FN)"
   ]
  },
  {
   "cell_type": "raw",
   "id": "5aaaebb5",
   "metadata": {},
   "source": [
    "we need a tradeoff between Precision and Recall. We first need to decide which is more important for our classification problem"
   ]
  },
  {
   "cell_type": "code",
   "execution_count": 30,
   "id": "2d637a2e",
   "metadata": {},
   "outputs": [],
   "source": [
    "# what is f1-score? when do we need it"
   ]
  },
  {
   "cell_type": "raw",
   "id": "b56ff5eb",
   "metadata": {},
   "source": [
    "When precision and recall are equally important for us, than we need to find f1-score, since it is the harmonnic mean of precision and recall.."
   ]
  },
  {
   "cell_type": "raw",
   "id": "1387f97d",
   "metadata": {},
   "source": [
    "f1=score= 2 * (precision x recall)/(precision+recall)"
   ]
  },
  {
   "cell_type": "code",
   "execution_count": 31,
   "id": "a15a5837",
   "metadata": {},
   "outputs": [],
   "source": [
    "from sklearn.metrics import f1_score"
   ]
  },
  {
   "cell_type": "raw",
   "id": "fca8de48",
   "metadata": {},
   "source": [
    "f1_score(y_test,y_pred)\n",
    "\n",
    "We can also compute it using classification report"
   ]
  },
  {
   "cell_type": "code",
   "execution_count": 32,
   "id": "99127c1b",
   "metadata": {},
   "outputs": [],
   "source": [
    "# ROC CURVE??"
   ]
  },
  {
   "cell_type": "raw",
   "id": "59e7ed41",
   "metadata": {},
   "source": [
    "FALSE POSITIVE RATE:\n",
    "ratio of the False Positives to the Actual number of Negatives.\n",
    "\n",
    "True Negative Rate: Ratio of the True Negatives and the Actual Number of Negatives.\n",
    "\n",
    "TNR = 1 – FPR"
   ]
  },
  {
   "cell_type": "code",
   "execution_count": 33,
   "id": "a8a3e857",
   "metadata": {},
   "outputs": [],
   "source": [
    "# 1. ROC Curves(Receiver Operating Characteristic Curve):"
   ]
  },
  {
   "cell_type": "raw",
   "id": "2cbea88b",
   "metadata": {},
   "source": [
    "It is the plot between the TPR(y-axis) and FPR(x-axis). Since our model classifies the patient as having heart disease or not based on the probabilities generated for each class, we can decide the threshold of the probabilities as well.\n",
    "\n",
    "For example, we want to set a threshold value of 0.4. This means that the model will classify the datapoint/patient as having heart disease if the probability of the patient having a heart disease is greater than 0.4."
   ]
  },
  {
   "cell_type": "code",
   "execution_count": 34,
   "id": "eee9a42e",
   "metadata": {},
   "outputs": [],
   "source": [
    "# Let us generate a ROC curve for our model with k = 3."
   ]
  },
  {
   "cell_type": "code",
   "execution_count": 40,
   "id": "16efdda0",
   "metadata": {},
   "outputs": [],
   "source": [
    "from sklearn.metrics import roc_curve,roc_auc_score,precision_recall_curve"
   ]
  },
  {
   "cell_type": "code",
   "execution_count": 36,
   "id": "5c4c2a7c",
   "metadata": {},
   "outputs": [],
   "source": [
    "y_pred_proba=knn.predict_proba(X_test)[:,1]\n",
    "fpr,tpr,thresholds=roc_curve(y_test,y_pred_proba)"
   ]
  },
  {
   "cell_type": "code",
   "execution_count": 37,
   "id": "54a56ca3",
   "metadata": {},
   "outputs": [
    {
     "data": {
      "text/plain": [
       "0.6950617283950618"
      ]
     },
     "execution_count": 37,
     "metadata": {},
     "output_type": "execute_result"
    }
   ],
   "source": [
    "roc_auc_score(y_test, y_pred_proba)"
   ]
  },
  {
   "cell_type": "raw",
   "id": "1b2f1cd0",
   "metadata": {},
   "source": [
    "this means that the model will be able to distinguish the patients with heart disease and those who don’t 69% of the time."
   ]
  },
  {
   "cell_type": "code",
   "execution_count": 38,
   "id": "7155775a",
   "metadata": {},
   "outputs": [],
   "source": [
    "# 2. Precision-Recall Curve (PRC)"
   ]
  },
  {
   "cell_type": "raw",
   "id": "ab8f34b9",
   "metadata": {},
   "source": [
    "-this curve is a direct representation of the precision(y-axis) and the recall(x-axis)"
   ]
  },
  {
   "cell_type": "code",
   "execution_count": 41,
   "id": "4c5843df",
   "metadata": {},
   "outputs": [
    {
     "data": {
      "image/png": "[encoded data removed]",
      "text/plain": [
       "<Figure size 720x576 with 1 Axes>"
      ]
     },
     "metadata": {
      "needs_background": "light"
     },
     "output_type": "display_data"
    }
   ],
   "source": [
    "precision, recall, thresholds = precision_recall_curve(y_test, y_pred_proba)\n",
    "plt.figure(figsize = (10,8))\n",
    "plt.plot([0, 1], [0.5, 0.5],'k--')\n",
    "plt.plot(recall, precision, label = 'Knn')\n",
    "plt.xlabel('recall')\n",
    "plt.ylabel('precision')\n",
    "plt.title('Knn(n_neighbors = 8) PRC curve')\n",
    "plt.show()"
   ]
  },
  {
   "cell_type": "raw",
   "id": "06ce0099",
   "metadata": {},
   "source": [
    "PRC Interpretation:\n",
    "At the lowest point, i.e. at (0, 0)- the threshold is set at 1.0. This means our model makes no distinctions between the patients who have heart disease and the patients who don’t.\n",
    "\n",
    "At the highest point i.e. at (1, 1), the threshold is set at 0.0. This means that both our precision and recall are high and the model makes distinctions perfectly.\n",
    "\n",
    "The rest of the curve is the values of Precision and Recall for the threshold values between 0 and 1. Our aim is to make the curve as close to (1, 1) as possible- meaning a good precision and recall.\n",
    "\n",
    "Similar to ROC, the area with the curve and the axes as the boundaries is the Area Under Curve(AUC). Consider this area as a metric of a good model. The AUC ranges from 0 to 1. Therefore, we should aim for a high value of AUC. Let us compute the AUC for our model and the above plot:"
   ]
  },
  {
   "cell_type": "code",
   "execution_count": 1,
   "id": "43bce181",
   "metadata": {},
   "outputs": [],
   "source": [
    "# what is the difference between precision and recall-WIKIPEDIA??"
   ]
  },
  {
   "cell_type": "raw",
   "id": "3492d5e5",
   "metadata": {},
   "source": [
    "Recall is the number of relevant documents retrieved by a search divided by the total number of existing relevant documents, while precision is the number of relevant documents retrieved by a search divided by the total number of documents retrieved by that search."
   ]
  },
  {
   "cell_type": "raw",
   "id": "5016b4c1",
   "metadata": {},
   "source": [
    "MACHINELEARNINGMASTERY.COM\n",
    "\n",
    "Precision quantifies the number of positive class predictions that actually belong to the positive class. Recall quantifies the number of positive class predictions made out of all positive examples in the dataset."
   ]
  },
  {
   "cell_type": "raw",
   "id": "327445e8",
   "metadata": {},
   "source": [
    "Precision= TP/TP+FP\n",
    "Recall= TP/TP+FN\n",
    "\n",
    "--from towardsdatascience.com"
   ]
  },
  {
   "cell_type": "code",
   "execution_count": 2,
   "id": "73045931",
   "metadata": {},
   "outputs": [],
   "source": [
    "# When do we eed high precision or high recall?"
   ]
  },
  {
   "cell_type": "raw",
   "id": "a63e28e1",
   "metadata": {},
   "source": [
    "Models need high recall when you need output-sensitive predictions. For example, predicting cancer or predicting terrorists needs a high recall, in other words, you need to cover false negatives as well. It is ok if a non-cancer tumor is flagged as cancerous but a cancerous tumor should not be labeled non-cancerous."
   ]
  },
  {
   "cell_type": "raw",
   "id": "649fa417",
   "metadata": {},
   "source": [
    "Similarly, we need high precision in places such as recommendation engines, spam mail detection, etc. Where you don’t care about false negatives but focus more on true positives and false positives. It is ok if spam comes into the inbox folder but a really important mail shouldn’t go into the spam folder."
   ]
  },
  {
   "cell_type": "code",
   "execution_count": null,
   "id": "eaef1ceb",
   "metadata": {},
   "outputs": [],
   "source": []
  }
 ],
 "metadata": {
  "kernelspec": {
   "display_name": "Python 3 (ipykernel)",
   "language": "python",
   "name": "python3"
  },
  "language_info": {
   "codemirror_mode": {
    "name": "ipython",
    "version": 3
   },
   "file_extension": ".py",
   "mimetype": "text/x-python",
   "name": "python",
   "nbconvert_exporter": "python",
   "pygments_lexer": "ipython3",
   "version": "3.9.7"
  }
 },
 "nbformat": 4,
 "nbformat_minor": 5
}

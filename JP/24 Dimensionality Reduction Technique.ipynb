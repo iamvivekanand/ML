{
 "cells": [
  {
   "cell_type": "markdown",
   "metadata": {},
   "source": [
    "### Dimensionality Reduction Technique"
   ]
  },
  {
   "cell_type": "markdown",
   "metadata": {},
   "source": [
    "<img src='dr.jpg'>"
   ]
  },
  {
   "cell_type": "raw",
   "metadata": {},
   "source": [
    "Handling very high-dimensional data is very difficult in practice, commonly known as the curse of dimensionality.\n",
    "-with the incresing dimensionality of the dataset, any machine learning model becomes more complex, and causes overfitting\n",
    "-it is often required to reduce the number of features, which can be done with dimensionality reduction."
   ]
  },
  {
   "cell_type": "code",
   "execution_count": 1,
   "metadata": {},
   "outputs": [],
   "source": [
    "# What are the advantages of dimensionality reduction??"
   ]
  },
  {
   "cell_type": "raw",
   "metadata": {},
   "source": [
    "-space required to store the dataset also reduces.\n",
    "-less training time is required\n",
    "-data can be visualized quickly with reduced features\n",
    "-unwanted features r removed by taking care of multicollinearity"
   ]
  },
  {
   "cell_type": "code",
   "execution_count": 2,
   "metadata": {},
   "outputs": [],
   "source": [
    "# Disadvantages of dimensionality Reduction"
   ]
  },
  {
   "cell_type": "raw",
   "metadata": {},
   "source": [
    "-Some data may be lost due to dimensionality reduction\n",
    "-In the PCA dimensionality reduction technique, sometimes the principal components required to consider are unknown."
   ]
  },
  {
   "cell_type": "raw",
   "metadata": {},
   "source": [
    "There are two ways or approches of Dimensonality Reduction:\n",
    "• Feature Selection\n",
    "• Feature Extraction"
   ]
  },
  {
   "cell_type": "code",
   "execution_count": 3,
   "metadata": {},
   "outputs": [],
   "source": [
    "# Feature Selection:"
   ]
  },
  {
   "cell_type": "raw",
   "metadata": {},
   "source": [
    "-a way of selecting the optimum no of features from the input dataset\n",
    "- process of selecting the subset of the relevant features and leaving out the irrelevant features present in a dataset\n",
    "- improves model accuracy\n",
    "- reduces complexity of the model\n",
    "\n",
    "Three methods are used for the feature selection:\n",
    "    1. Filter methods\n",
    "    2. Wrapper Methods\n",
    "    3. Embedded methods"
   ]
  },
  {
   "cell_type": "code",
   "execution_count": 4,
   "metadata": {},
   "outputs": [],
   "source": [
    "# Filter Methods"
   ]
  },
  {
   "cell_type": "raw",
   "metadata": {},
   "source": [
    "In Filter method, the dataset is filtered, and a subset that contains only the relevant features is taken.\n",
    "\n",
    "Some famous Filter methods:\n",
    "• Correlation\n",
    "• Chi-Square Test\n",
    "• ANOVA\n",
    "• Information Gain, etc."
   ]
  },
  {
   "cell_type": "code",
   "execution_count": 5,
   "metadata": {},
   "outputs": [],
   "source": [
    "# Wrapper methods"
   ]
  },
  {
   "cell_type": "raw",
   "metadata": {},
   "source": [
    "Wrapper Method takes a machine learning model for its evaluation. In this, some features are fed to the ML model, and performance is evaluated. \n",
    "\n",
    "The performance decides whether to add those features or remove to increase the accuracy\n",
    "\n",
    "Some famous Wrapper Methods:\n",
    "• Forward Selection\n",
    "• Backward Selection\n",
    "• Bi-directional Elimination"
   ]
  },
  {
   "cell_type": "code",
   "execution_count": 6,
   "metadata": {},
   "outputs": [],
   "source": [
    "# Embedded methods"
   ]
  },
  {
   "cell_type": "raw",
   "metadata": {},
   "source": [
    "Embedded methods checks training iterations for best features\n",
    "\n",
    "Some famous Embedded methods:\n",
    "• LASSO\n",
    "• Elastic Net\n",
    "• Ridge Regression, etc."
   ]
  },
  {
   "cell_type": "markdown",
   "metadata": {},
   "source": [
    "### Feature Extraction:"
   ]
  },
  {
   "cell_type": "raw",
   "metadata": {},
   "source": [
    "FEATURE EXTRACTION:\n",
    "• process of transforming many dimensional space to fewer dimensional space, while reserving the information\n",
    "• Some common feature extraction techniques are:\n",
    "\n",
    "    > Principal Component Analysis\n",
    "    > Linear Discriminant Analysis\n",
    "    > Kernel PCA\n",
    "    > Quadratic Discriminant Analysis"
   ]
  },
  {
   "cell_type": "markdown",
   "metadata": {},
   "source": [
    "### Common techniques of Dimensionality Reduction"
   ]
  },
  {
   "cell_type": "raw",
   "metadata": {},
   "source": [
    "-Principal Component Analysis\n",
    "-Backward Elimination\n",
    "-Forward Selection\n",
    "-Score comparison\n",
    "-Missing Value Ratio\n",
    "-Low Variance Filter\n",
    "-High Correlation Filter\n",
    "-Random Forest\n",
    "-Factor Analysis\n",
    "-Auto-Encoder"
   ]
  }
 ],
 "metadata": {
  "kernelspec": {
   "display_name": "Python 3 (ipykernel)",
   "language": "python",
   "name": "python3"
  },
  "language_info": {
   "codemirror_mode": {
    "name": "ipython",
    "version": 3
   },
   "file_extension": ".py",
   "mimetype": "text/x-python",
   "name": "python",
   "nbconvert_exporter": "python",
   "pygments_lexer": "ipython3",
   "version": "3.9.7"
  }
 },
 "nbformat": 4,
 "nbformat_minor": 4
}

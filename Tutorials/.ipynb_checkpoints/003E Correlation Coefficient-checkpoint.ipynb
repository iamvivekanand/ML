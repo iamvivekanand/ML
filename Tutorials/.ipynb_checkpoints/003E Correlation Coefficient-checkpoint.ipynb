{
 "cells": [
  {
   "cell_type": "markdown",
   "id": "d9815649",
   "metadata": {},
   "source": [
    "### Correlation Coefficient"
   ]
  },
  {
   "cell_type": "markdown",
   "id": "d05eaa41",
   "metadata": {},
   "source": [
    "- is a statistical measure that quantifies the degree of linear relationship between two variables\n",
    "- used to determine how strongly and in what direction two variables are related. The correlation coefficient typically ranges between -1 and 1, where:\n",
    "\n",
    "        A correlation coefficient of 1 indicates a perfect positive linear relationship, meaning that as one variable increases, the other variable also increases proportionally.\n",
    "        A correlation coefficient of -1 indicates a perfect negative linear relationship, meaning that as one variable increases, the other variable decreases proportionally. \n",
    "        A correlation coefficient close to 0 indicates a weak or no linear relationship between the variables.\n",
    "        \n",
    "The most commonly used correlation coefficient in ML is the Pearson correlation coefficient, calculated using the covariance between two variables divided by the product of their standard deviations\n",
    "\n",
    "-variables should be correlated with the target but should be uncorrelated among themselves."
   ]
  },
  {
   "cell_type": "code",
   "execution_count": 1,
   "id": "d1840eeb",
   "metadata": {},
   "outputs": [
    {
     "name": "stdout",
     "output_type": "stream",
     "text": [
      "Pearson correlation coefficient: 0.9999999999999999\n"
     ]
    }
   ],
   "source": [
    "import pandas as pd\n",
    "\n",
    "# Create a sample DataFrame\n",
    "data = {'X': [1, 2, 3, 4, 5],\n",
    "        'Y': [2, 4, 6, 8, 10]}\n",
    "df = pd.DataFrame(data)\n",
    "\n",
    "# Calculate Pearson correlation coefficient\n",
    "corr_coefficient = df['X'].corr(df['Y'])\n",
    "\n",
    "print(\"Pearson correlation coefficient:\", corr_coefficient)"
   ]
  },
  {
   "cell_type": "code",
   "execution_count": 3,
   "id": "a239b75c",
   "metadata": {},
   "outputs": [
    {
     "data": {
      "image/png": "[encoded data removed]",
      "text/plain": [
       "<Figure size 640x480 with 2 Axes>"
      ]
     },
     "metadata": {},
     "output_type": "display_data"
    }
   ],
   "source": [
    "import seaborn as sns\n",
    "import matplotlib.pyplot as plt\n",
    "corr=df.corr()\n",
    "sns.heatmap(corr,annot=True)\n",
    "plt.show()"
   ]
  },
  {
   "cell_type": "markdown",
   "id": "1fe8fa6c",
   "metadata": {},
   "source": [
    "f_regression function computes the F-value and p-value for each feature with respect to the target variable using an analysis of variance (ANOVA) test. The F-value represents the degree of correlation between the feature and the target variable, and the p-value represents the statistical significance of the correlation"
   ]
  },
  {
   "cell_type": "code",
   "execution_count": 4,
   "id": "72273f85",
   "metadata": {},
   "outputs": [
    {
     "name": "stdout",
     "output_type": "stream",
     "text": [
      "Feature 1: F-value = 16.10, p-value = 7.06e-05\n",
      "Feature 2: F-value = 0.82, p-value = 3.66e-01\n",
      "Feature 3: F-value = 230.65, p-value = 3.47e-42\n",
      "Feature 4: F-value = 106.52, p-value = 1.65e-22\n",
      "Feature 5: F-value = 20.71, p-value = 6.92e-06\n",
      "Feature 6: F-value = 13.75, p-value = 2.36e-04\n",
      "Feature 7: F-value = 81.24, p-value = 6.16e-18\n",
      "Feature 8: F-value = 100.07, p-value = 2.30e-21\n",
      "Feature 9: F-value = 207.27, p-value = 8.83e-39\n",
      "Feature 10: F-value = 75.40, p-value = 7.58e-17\n"
     ]
    }
   ],
   "source": [
    "from sklearn.datasets import load_diabetes\n",
    "from sklearn.feature_selection import f_regression\n",
    "\n",
    "# Load the diabetes dataset\n",
    "diabetes = load_diabetes()\n",
    "X = diabetes.data\n",
    "y = diabetes.target\n",
    "\n",
    "# Compute the correlation between each input variable and the target variable\n",
    "f_values, p_values = f_regression(X, y)\n",
    "\n",
    "# Print the correlation coefficients and p-values for each input variable\n",
    "for i in range(X.shape[1]):\n",
    "    print(f\"Feature {i+1}: F-value = {f_values[i]:.2f}, p-value = {p_values[i]:.2e}\")\n"
   ]
  },
  {
   "cell_type": "code",
   "execution_count": null,
   "id": "926a06ac",
   "metadata": {},
   "outputs": [],
   "source": []
  }
 ],
 "metadata": {
  "kernelspec": {
   "display_name": "Python 3 (ipykernel)",
   "language": "python",
   "name": "python3"
  },
  "language_info": {
   "codemirror_mode": {
    "name": "ipython",
    "version": 3
   },
   "file_extension": ".py",
   "mimetype": "text/x-python",
   "name": "python",
   "nbconvert_exporter": "python",
   "pygments_lexer": "ipython3",
   "version": "3.9.16"
  }
 },
 "nbformat": 4,
 "nbformat_minor": 5
}

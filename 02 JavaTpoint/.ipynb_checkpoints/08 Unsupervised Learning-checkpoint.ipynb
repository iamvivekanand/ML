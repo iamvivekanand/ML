{
 "cells": [
  {
   "cell_type": "markdown",
   "metadata": {},
   "source": [
    "### Unsupervised Learning"
   ]
  },
  {
   "cell_type": "raw",
   "metadata": {},
   "source": [
    "-does not have labelled data\n",
    "-model itself need to find the hidden patterns and useful insights from the given data"
   ]
  },
  {
   "cell_type": "raw",
   "metadata": {},
   "source": [
    "its goal is to find the underlying structure in a dataset, group the data according to similarities, and represent that dataset in a compressed format."
   ]
  },
  {
   "cell_type": "markdown",
   "metadata": {},
   "source": [
    "### Why use Unsupervised Learning?"
   ]
  },
  {
   "cell_type": "raw",
   "metadata": {},
   "source": [
    "-it is helpful for finding useful insights from the data.\n",
    "-it is much similar as a human learns to think by their own experiences, which makes it closer to the real AI\n",
    "-works on unlabeled and uncategorized data which make unsupervised learning more important\n",
    "-In real-world, we do not always have input data with the corresponding output so to solve such cases, we need unsupervised learning."
   ]
  },
  {
   "cell_type": "markdown",
   "metadata": {},
   "source": [
    "### Types of Unsupervised ML Algorithm:"
   ]
  },
  {
   "cell_type": "raw",
   "metadata": {},
   "source": [
    "Clustering:\n",
    "it is Grouping the objects into clusters such that objects with most similarities remains into a group, and those with less or no similarities belongs to another group"
   ]
  },
  {
   "cell_type": "raw",
   "metadata": {},
   "source": [
    "Association:\n",
    "-used for finding the relationships between variables in the large database. \n",
    "-It determines the set of items that occurs together in the dataset. \n",
    "\n",
    "-Association rule makes marketing strategy more effective. \n",
    "Such as people who buy X item (suppose a bread) are also tend to purchase Y (Butter/Jam) item. \n",
    "\n",
    "-A typical example of Association rule is Market Basket Analysis."
   ]
  },
  {
   "cell_type": "markdown",
   "metadata": {},
   "source": [
    "### Advantages of Unsupervised Learning"
   ]
  },
  {
   "cell_type": "raw",
   "metadata": {},
   "source": [
    "-Used for more complex tasks as compared to supervised learning because, in unsupervised learning, we don't have labeled input data\n",
    "-Unsupervised learning is preferable as it is more common and easy to get unlabeled data in comparison to labeled data"
   ]
  },
  {
   "cell_type": "markdown",
   "metadata": {},
   "source": [
    "### Disadvantages of Unsupervised Learning"
   ]
  },
  {
   "cell_type": "raw",
   "metadata": {},
   "source": [
    "- intrinsically more difficult than supervised learning as it does not have corresponding output.\n",
    "- Result might be less accurate as input data is not labeled, and algorithms do not know the exact output in advance"
   ]
  }
 ],
 "metadata": {
  "kernelspec": {
   "display_name": "Python 3 (ipykernel)",
   "language": "python",
   "name": "python3"
  },
  "language_info": {
   "codemirror_mode": {
    "name": "ipython",
    "version": 3
   },
   "file_extension": ".py",
   "mimetype": "text/x-python",
   "name": "python",
   "nbconvert_exporter": "python",
   "pygments_lexer": "ipython3",
   "version": "3.9.7"
  }
 },
 "nbformat": 4,
 "nbformat_minor": 4
}

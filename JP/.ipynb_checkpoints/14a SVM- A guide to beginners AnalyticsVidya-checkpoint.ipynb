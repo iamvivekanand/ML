{
 "cells": [
  {
   "cell_type": "markdown",
   "id": "e752507c",
   "metadata": {},
   "source": [
    "### SVM- A guide to beginners AnalyticsVidya"
   ]
  },
  {
   "cell_type": "code",
   "execution_count": 2,
   "id": "999f932b",
   "metadata": {},
   "outputs": [],
   "source": [
    "# What is a SVM?"
   ]
  },
  {
   "cell_type": "raw",
   "id": "87ed90ff",
   "metadata": {},
   "source": [
    "its a supervised machine learning algorithm that tries to find the best hyper to separate two classes."
   ]
  },
  {
   "cell_type": "code",
   "execution_count": 3,
   "id": "bb5db8f1",
   "metadata": {},
   "outputs": [],
   "source": [
    "# what is the diffrence between SVM and Logistic Regression??"
   ]
  },
  {
   "cell_type": "raw",
   "id": "25e5cc48",
   "metadata": {},
   "source": [
    "Both the algorithms try to find the best hyperplane, but the main difference is logistic regression is a probabilistic approach whereas support vector machine is based on statistical approaches."
   ]
  },
  {
   "cell_type": "code",
   "execution_count": 4,
   "id": "18667b52",
   "metadata": {},
   "outputs": [],
   "source": [
    "# When to use logistic regression vs Support vector machine?"
   ]
  },
  {
   "cell_type": "raw",
   "id": "14ba0a1b",
   "metadata": {},
   "source": [
    "SVM works best when the dataset is small and complex. It is usually advisable to first use logistic regression and see how does it performs, if it fails to give a good accuracy you can go for SVM without any kernel\n",
    "\n",
    "Logistic regression and SVM without any kernel have similar performance but depending on your features, one may be more efficient than the other."
   ]
  },
  {
   "cell_type": "code",
   "execution_count": 5,
   "id": "85f5453f",
   "metadata": {},
   "outputs": [],
   "source": [
    "# Types of Support Vector Machine"
   ]
  },
  {
   "cell_type": "raw",
   "id": "422f36a9",
   "metadata": {},
   "source": [
    "Linear SVM:\n",
    "When the data is perfectly linearly separable only then we can use Linear SVM. Perfectly linearly separable means that the data points can be classified into 2 classes by using a single straight line(if 2D)."
   ]
  },
  {
   "cell_type": "raw",
   "id": "03932564",
   "metadata": {},
   "source": [
    "Non-Linear SVM\n",
    "When the data is not linearly separable then we can use Non-Linear SVM, which means when the data points cannot be separated into 2 classes by using a straight line (if 2D) then we use some advanced techniques like kernel tricks to classify them."
   ]
  },
  {
   "cell_type": "code",
   "execution_count": 6,
   "id": "0b4f30e9",
   "metadata": {},
   "outputs": [],
   "source": [
    "# terminologies in SVM"
   ]
  },
  {
   "cell_type": "raw",
   "id": "25e4a584",
   "metadata": {},
   "source": [
    "WHAT ARE SUPPORT VECTORS??\n",
    "These are the points that are closest to the hyperplane. \n",
    "A separating line will be defined with the help of these data points."
   ]
  },
  {
   "cell_type": "raw",
   "id": "f2130d40",
   "metadata": {},
   "source": [
    "WHAT IS MARGIN? DEFINE HARD MARGIN AND SOFT MARGIN?\n",
    "\n",
    "Margin is the distance between the hyperplane and support vectors. In SVM large margin is considered a good margin. There are two types of margins hard margin and soft margin."
   ]
  },
  {
   "cell_type": "markdown",
   "id": "7d54a9e6",
   "metadata": {},
   "source": [
    "<img src='svm11.jpg'>"
   ]
  },
  {
   "cell_type": "markdown",
   "id": "323de449",
   "metadata": {},
   "source": [
    "<img src='svm11.png'>"
   ]
  },
  {
   "cell_type": "markdown",
   "id": "ef1b97dc",
   "metadata": {},
   "source": [
    "### How does Support Vector Machine work?"
   ]
  },
  {
   "cell_type": "raw",
   "id": "0f21bc88",
   "metadata": {},
   "source": [
    "it tries to find the best hyperplane which can separate both classes with maximum margin form nearrest point of both the classes."
   ]
  },
  {
   "cell_type": "raw",
   "id": "1287a232",
   "metadata": {},
   "source": [
    "-it tries to find the best hyperplane recursively untill it has maximum margin from both the classes.\n",
    "-there can be drwan many hyperplane through two classes in order to separate them."
   ]
  },
  {
   "cell_type": "code",
   "execution_count": 7,
   "id": "8fe4e012",
   "metadata": {},
   "outputs": [],
   "source": [
    "# why those points are called support vectors??"
   ]
  },
  {
   "cell_type": "raw",
   "id": "17cbe68a",
   "metadata": {},
   "source": [
    "Those points are called support vectors because they are contributing towards development of the algorithm."
   ]
  },
  {
   "cell_type": "code",
   "execution_count": 8,
   "id": "6ede8c63",
   "metadata": {},
   "outputs": [],
   "source": [
    "# If a data point is not an SV, removing it has no effect on the model."
   ]
  },
  {
   "cell_type": "code",
   "execution_count": 9,
   "id": "4dd5e3c4",
   "metadata": {},
   "outputs": [],
   "source": [
    "# What will happen if we delete the support vector?"
   ]
  },
  {
   "cell_type": "raw",
   "id": "c1974fcc",
   "metadata": {},
   "source": [
    "Deleting the SV will then change the position of the hyperplane."
   ]
  },
  {
   "cell_type": "code",
   "execution_count": 10,
   "id": "6b297287",
   "metadata": {},
   "outputs": [],
   "source": [
    "# How do we define the dimension of the hyperplane??"
   ]
  },
  {
   "cell_type": "raw",
   "id": "4c4eccb2",
   "metadata": {},
   "source": [
    "The dimension of the hyperplane depends upon the number of features. If the number of input features is 2, then the hyperplane is just a line. If the number of input features is 3, then the hyperplane becomes a two-dimensional plane. It becomes difficult to imagine when the number of features exceeds 3."
   ]
  },
  {
   "cell_type": "markdown",
   "id": "c3cfee51",
   "metadata": {},
   "source": [
    "### Support Vector Classifier (SVC):"
   ]
  },
  {
   "cell_type": "raw",
   "id": "072fb5ad",
   "metadata": {},
   "source": [
    "Many have confusion with the terms SVM and SVC, the simple answer is if the hyperplane that we are using for classification is in linear condition, then the condition is SVC."
   ]
  },
  {
   "cell_type": "code",
   "execution_count": 11,
   "id": "76ae3c8c",
   "metadata": {},
   "outputs": [],
   "source": [
    "from sklearn.svm import SVC,SVR"
   ]
  },
  {
   "cell_type": "code",
   "execution_count": 12,
   "id": "133b48e3",
   "metadata": {},
   "outputs": [],
   "source": [
    "# What is soft margin in Support Vector Machine Algorithm? Define Margin Violation in SVM?"
   ]
  },
  {
   "cell_type": "raw",
   "id": "4412c82b",
   "metadata": {},
   "source": [
    "As most of the real-world data are not fully linearly separable, we will allow some margin violation to occur which is called soft margin classification.\n",
    "\n",
    "It is better to have a large margin, even though some constraints are violated. \n",
    "\n",
    "Margin violation means choosing a hyperplane. Which can allow some data points to stay on either the incorrect side of the hyperplane and between the margin and correct side of the hyperplane."
   ]
  },
  {
   "cell_type": "markdown",
   "id": "6f90b813",
   "metadata": {},
   "source": [
    "### Basic Parameters for SVM – (Dramatic/Side portion) (both linear and non-linear SVMs)"
   ]
  },
  {
   "cell_type": "code",
   "execution_count": null,
   "id": "76685d34",
   "metadata": {},
   "outputs": [],
   "source": []
  }
 ],
 "metadata": {
  "kernelspec": {
   "display_name": "Python 3 (ipykernel)",
   "language": "python",
   "name": "python3"
  },
  "language_info": {
   "codemirror_mode": {
    "name": "ipython",
    "version": 3
   },
   "file_extension": ".py",
   "mimetype": "text/x-python",
   "name": "python",
   "nbconvert_exporter": "python",
   "pygments_lexer": "ipython3",
   "version": "3.9.7"
  }
 },
 "nbformat": 4,
 "nbformat_minor": 5
}

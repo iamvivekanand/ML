{
 "cells": [
  {
   "cell_type": "code",
   "execution_count": null,
   "metadata": {},
   "outputs": [],
   "source": [
    "Machine learning is a technology which enables computers to learn automatically from past data\n",
    "\n",
    "Currently being used in \n",
    "-image recognition, \n",
    "-speech recognition, \n",
    "-email filtering, \n",
    "-Facebook auto-tagging, \n",
    "-Content recommendation system, \n",
    "-self-driving cars, \n",
    "-cyber fraud detection, \n",
    "-face recognition, and friend suggestion by Facebook\n",
    "-Amazon virtual assistant \"Alexa\"\n",
    "-automatic languguage translation\n",
    "-traffic prediction\n",
    "\n",
    "Machine learning is a technology which makes machines learn like humans, using past experiences and data, and make prediction\n",
    "about learned things.\n",
    "-The term machine learning was first introduced by Arthur Samuel in 1959\n",
    "-a subset of artificial intelligence\n",
    "-mainly concerned with the development of algorithms for computer or machine to learn from data"
   ]
  },
  {
   "cell_type": "markdown",
   "metadata": {},
   "source": [
    "### How does Machine Learning work"
   ]
  },
  {
   "cell_type": "code",
   "execution_count": null,
   "metadata": {},
   "outputs": [],
   "source": [
    "The accuracy of predicted output developed by ML depends upon the amount of data\n",
    "# Features of Machine Learning\n",
    "-detect various patterns in a given dataset\n",
    "-learn from past data and improve automatically\n",
    "-a data-driven technology\n",
    "-similar to data mining as it also deals with the huge amount of the data\n",
    "-finds hidden patterns and extracting useful information from data"
   ]
  },
  {
   "cell_type": "markdown",
   "metadata": {},
   "source": [
    "### Need for Machine Learning"
   ]
  },
  {
   "cell_type": "code",
   "execution_count": null,
   "metadata": {},
   "outputs": [],
   "source": [
    "-it is capable of doing tasks that are too complex for a person to implement directly\n",
    "-we humans cannot access the huge amount of data manually, roll of ML comes here\n",
    "-with ML, we can save both time and money"
   ]
  },
  {
   "cell_type": "markdown",
   "metadata": {},
   "source": [
    "### Classification of Machine Learning"
   ]
  },
  {
   "cell_type": "code",
   "execution_count": null,
   "metadata": {},
   "outputs": [],
   "source": [
    "At a broad level, machine learning can be classified into three types:\n",
    "\n",
    "1.Supervised learning ( further classified to Regression & Classification)\n",
    "2.Unsupervised learning (further classified to Association & Clustering)\n",
    "3.Reinforcement learning"
   ]
  },
  {
   "cell_type": "markdown",
   "metadata": {},
   "source": [
    "### Supervised Learning"
   ]
  },
  {
   "cell_type": "code",
   "execution_count": null,
   "metadata": {},
   "outputs": [],
   "source": [
    "-labeled data is provided to the ML system\n",
    "-we keep supervising the model using test data\n",
    "-spam filtering is an example of SML"
   ]
  },
  {
   "cell_type": "markdown",
   "metadata": {},
   "source": [
    "### Unsupervised Learning"
   ]
  },
  {
   "cell_type": "code",
   "execution_count": null,
   "metadata": {},
   "outputs": [],
   "source": [
    "-machine learns without any supervision\n",
    "-data provided to ML system is not labeled, classified, or categorized\n",
    "-algorithm acts on its own without any supervision\n",
    "-restructure the input data into new features or a group of objects with similar patterns\n",
    "-we do not have a predetermined result in UML"
   ]
  },
  {
   "cell_type": "markdown",
   "metadata": {},
   "source": [
    "### Reinforcement Learning"
   ]
  },
  {
   "cell_type": "code",
   "execution_count": null,
   "metadata": {},
   "outputs": [],
   "source": [
    "-feedback-based learning method\n",
    "-a learning agent gets a reward for each right action and gets a penalty for each wrong action\n",
    "-agent learns automatically with these feedbacks and improves its performance\n",
    "-The goal of an agent is to get the most reward points to improves its performance\n",
    "\n",
    "The robotic dog:is an example"
   ]
  },
  {
   "cell_type": "markdown",
   "metadata": {},
   "source": [
    "### Applications of Machine learning"
   ]
  },
  {
   "cell_type": "code",
   "execution_count": null,
   "metadata": {},
   "outputs": [],
   "source": [
    "# Image Recognition:\n",
    "-used to identify objects, persons, places, digital images, etc\n",
    "-Automatic friend tagging suggestion is a popular use case\n",
    "# Speech Recognition\n",
    "-process of converting voice instructions into text\n",
    "-also known as \"Speech to text\n",
    "-Google assistant, Siri, Cortana, and Alexa are using speech recognition technology to follow the voice instructions\n",
    "# Traffic prediction\n",
    "Google map predicts the traffic conditions such as whether traffic is cleared, slow-moving, or heavily congested \n",
    "with the help of two ways\n",
    "        -Real Time location of the vehicle form Google Map app and sensors\n",
    "        -Average time has taken on past days at the same time"
   ]
  },
  {
   "cell_type": "code",
   "execution_count": null,
   "metadata": {},
   "outputs": [],
   "source": [
    "# Product recommendations\n",
    "# Self-driving cars:\n",
    "Tesla is using unsupervised learning method to train the car models to detect people and objects while driving\n",
    "# Email Spam and Malware Filtering\n",
    "As we recieve a mail it is automatically filtered into important, spam, or social etc, its all due to ML, google uses UML\n",
    "to filtr their mails using-\n",
    "    Content Filter\n",
    "    Header filter\n",
    "    General blacklists filter\n",
    "    Rules-based filters\n",
    "    Permission filters\n",
    "# Online Fraud Detection\n",
    "# Stock Market trading"
   ]
  },
  {
   "cell_type": "markdown",
   "metadata": {},
   "source": [
    "### Machine learning Life cycle"
   ]
  },
  {
   "cell_type": "code",
   "execution_count": null,
   "metadata": {},
   "outputs": [],
   "source": [
    "-A cyclic process to build an efficient machine learning project \n",
    "-its main purpose is to find a solution to the problem or project\n",
    "-involves seven major steps:\n",
    "    1.Gathering Data\n",
    "    2.Data preparation\n",
    "    3.Data Wrangling\n",
    "    4.Analyse Data\n",
    "    5.Train the model\n",
    "    6.Test the model\n",
    "    7.Deployment\n",
    "    \n",
    "Life cycle starts by collecting data,\n",
    "# 1.Gathering Data\n",
    "In this step, we Identify various data sources, Collect data, Integrate the data obtained from different sources\n",
    "# 2.Data preparation\n",
    "- We understand nature, characteristics, format, and quality of data\n",
    "- we find Correlations, general trends, and outliers\n",
    "- Now the next step is  data preprocessing for analysis\n",
    "# 3.Data Wrangling\n",
    "-process of cleaning and converting raw data into a useable format,selecting the variable to use\n",
    "-collected data may have various issues, including:\n",
    "                                    -Missing Values\n",
    "                                    -Duplicate data\n",
    "                                    -Invalid data\n",
    "                                    -Noise\n",
    "# 4.Data Analysis\n",
    "-determination of the type of the problems\n",
    "-selectionthe machine learning techniques such as Classification, Regression, Cluster analysis, Association\n",
    "\n",
    "# 5.Train Model\n",
    "we train the model so that it can understand various patterns, rules, and, features\n",
    "# 6. Test Model\n",
    "we test the model using test data, and define accuracy score\n",
    "# 7. Deployment\n",
    "where we deploy the model in the real-world system, The deployment phase is similar to making the final report for a project"
   ]
  },
  {
   "cell_type": "markdown",
   "metadata": {},
   "source": [
    "### Installation of anaconda, IDE"
   ]
  },
  {
   "cell_type": "markdown",
   "metadata": {},
   "source": [
    "IDEs (Integrated Development Environment)\n",
    "-install python from official source"
   ]
  },
  {
   "cell_type": "markdown",
   "metadata": {},
   "source": [
    "### Artificial intelligence & Machine learning"
   ]
  },
  {
   "cell_type": "markdown",
   "metadata": {},
   "source": [
    "AI is a bigger concept to create intelligent machines that can simulate human thinking capability and behavior, \n",
    "whereas, ML is an application or subset of AI that allows machines to learn from data without being programmed explicitly.\n",
    "\n",
    "AI is an mimicry of human intelligence\n",
    "\n",
    "Based on capabilities, AI can be classified into three types:\n",
    "-Weak AI\n",
    "-General AI\n",
    "-Strong AI\n",
    "\n",
    "Currently, we are working with weak AI and general AI. \n",
    "The future of AI is Strong AI for which it is said that it will be intelligent than humans\n",
    "\n",
    "#Machine learning-\n"
   ]
  }
 ],
 "metadata": {
  "kernelspec": {
   "display_name": "Python 3",
   "language": "python",
   "name": "python3"
  }
 },
 "nbformat": 4,
 "nbformat_minor": 4
}

{
 "cells": [
  {
   "cell_type": "markdown",
   "id": "7c8956b0",
   "metadata": {},
   "source": [
    "### Financial Budget Analysis"
   ]
  },
  {
   "cell_type": "raw",
   "id": "24b811ce",
   "metadata": {},
   "source": [
    "What is a financial budget. In short, it is a detailed report on the income and expenditure of the government for a financial year."
   ]
  },
  {
   "cell_type": "code",
   "execution_count": 2,
   "id": "29f0f416",
   "metadata": {},
   "outputs": [],
   "source": [
    "import pandas as pd\n",
    "import numpy as np\n",
    "import matplotlib.pyplot as plt"
   ]
  },
  {
   "cell_type": "code",
   "execution_count": 3,
   "id": "f534b738",
   "metadata": {},
   "outputs": [],
   "source": [
    "data=pd.read_csv('India_budget_2021.csv')"
   ]
  },
  {
   "cell_type": "code",
   "execution_count": 4,
   "id": "4531180b",
   "metadata": {},
   "outputs": [],
   "source": [
    "df=data.copy()"
   ]
  },
  {
   "cell_type": "code",
   "execution_count": 5,
   "id": "fa9b2d8a",
   "metadata": {},
   "outputs": [
    {
     "data": {
      "text/html": [
       "<div>\n",
       "<style scoped>\n",
       "    .dataframe tbody tr th:only-of-type {\n",
       "        vertical-align: middle;\n",
       "    }\n",
       "\n",
       "    .dataframe tbody tr th {\n",
       "        vertical-align: top;\n",
       "    }\n",
       "\n",
       "    .dataframe thead th {\n",
       "        text-align: right;\n",
       "    }\n",
       "</style>\n",
       "<table border=\"1\" class=\"dataframe\">\n",
       "  <thead>\n",
       "    <tr style=\"text-align: right;\">\n",
       "      <th></th>\n",
       "      <th>Department /Ministry</th>\n",
       "      <th>Fund allotted(in ₹crores)</th>\n",
       "    </tr>\n",
       "  </thead>\n",
       "  <tbody>\n",
       "    <tr>\n",
       "      <th>0</th>\n",
       "      <td>MINISTRY OF AGRICULTURE</td>\n",
       "      <td>131531.19</td>\n",
       "    </tr>\n",
       "    <tr>\n",
       "      <th>1</th>\n",
       "      <td>DEPARTMENT OF ATOMIC ENERGY</td>\n",
       "      <td>18264.89</td>\n",
       "    </tr>\n",
       "    <tr>\n",
       "      <th>2</th>\n",
       "      <td>MINISTRY OF AYURVEDA, YOGA</td>\n",
       "      <td>2970.30</td>\n",
       "    </tr>\n",
       "    <tr>\n",
       "      <th>3</th>\n",
       "      <td>MINISTRY OF CHEMICALS AND FERTILISER</td>\n",
       "      <td>80714.94</td>\n",
       "    </tr>\n",
       "    <tr>\n",
       "      <th>4</th>\n",
       "      <td>MINISTRY OF CIVIL AVIATION</td>\n",
       "      <td>3224.67</td>\n",
       "    </tr>\n",
       "  </tbody>\n",
       "</table>\n",
       "</div>"
      ],
      "text/plain": [
       "                   Department /Ministry  Fund allotted(in ₹crores)\n",
       "0               MINISTRY OF AGRICULTURE                  131531.19\n",
       "1           DEPARTMENT OF ATOMIC ENERGY                   18264.89\n",
       "2            MINISTRY OF AYURVEDA, YOGA                    2970.30\n",
       "3  MINISTRY OF CHEMICALS AND FERTILISER                   80714.94\n",
       "4            MINISTRY OF CIVIL AVIATION                    3224.67"
      ]
     },
     "execution_count": 5,
     "metadata": {},
     "output_type": "execute_result"
    }
   ],
   "source": [
    "df.head()"
   ]
  },
  {
   "cell_type": "code",
   "execution_count": 6,
   "id": "7c8b53c0",
   "metadata": {},
   "outputs": [
    {
     "data": {
      "text/html": [
       "<div>\n",
       "<style scoped>\n",
       "    .dataframe tbody tr th:only-of-type {\n",
       "        vertical-align: middle;\n",
       "    }\n",
       "\n",
       "    .dataframe tbody tr th {\n",
       "        vertical-align: top;\n",
       "    }\n",
       "\n",
       "    .dataframe thead th {\n",
       "        text-align: right;\n",
       "    }\n",
       "</style>\n",
       "<table border=\"1\" class=\"dataframe\">\n",
       "  <thead>\n",
       "    <tr style=\"text-align: right;\">\n",
       "      <th></th>\n",
       "      <th>Fund allotted(in ₹crores)</th>\n",
       "    </tr>\n",
       "  </thead>\n",
       "  <tbody>\n",
       "    <tr>\n",
       "      <th>count</th>\n",
       "      <td>5.600000e+01</td>\n",
       "    </tr>\n",
       "    <tr>\n",
       "      <th>mean</th>\n",
       "      <td>1.244013e+05</td>\n",
       "    </tr>\n",
       "    <tr>\n",
       "      <th>std</th>\n",
       "      <td>4.974303e+05</td>\n",
       "    </tr>\n",
       "    <tr>\n",
       "      <th>min</th>\n",
       "      <td>3.925000e+01</td>\n",
       "    </tr>\n",
       "    <tr>\n",
       "      <th>25%</th>\n",
       "      <td>2.079622e+03</td>\n",
       "    </tr>\n",
       "    <tr>\n",
       "      <th>50%</th>\n",
       "      <td>6.638935e+03</td>\n",
       "    </tr>\n",
       "    <tr>\n",
       "      <th>75%</th>\n",
       "      <td>5.819901e+04</td>\n",
       "    </tr>\n",
       "    <tr>\n",
       "      <th>max</th>\n",
       "      <td>3.483236e+06</td>\n",
       "    </tr>\n",
       "  </tbody>\n",
       "</table>\n",
       "</div>"
      ],
      "text/plain": [
       "       Fund allotted(in ₹crores)\n",
       "count               5.600000e+01\n",
       "mean                1.244013e+05\n",
       "std                 4.974303e+05\n",
       "min                 3.925000e+01\n",
       "25%                 2.079622e+03\n",
       "50%                 6.638935e+03\n",
       "75%                 5.819901e+04\n",
       "max                 3.483236e+06"
      ]
     },
     "execution_count": 6,
     "metadata": {},
     "output_type": "execute_result"
    }
   ],
   "source": [
    "df.describe()"
   ]
  },
  {
   "cell_type": "code",
   "execution_count": 7,
   "id": "f240a539",
   "metadata": {},
   "outputs": [
    {
     "data": {
      "text/plain": [
       "Department /Ministry         1\n",
       "Fund allotted(in ₹crores)    1\n",
       "dtype: int64"
      ]
     },
     "execution_count": 7,
     "metadata": {},
     "output_type": "execute_result"
    }
   ],
   "source": [
    "df.isnull().sum()"
   ]
  },
  {
   "cell_type": "code",
   "execution_count": 10,
   "id": "279d116f",
   "metadata": {},
   "outputs": [],
   "source": [
    "df.dropna(inplace=True)"
   ]
  },
  {
   "cell_type": "code",
   "execution_count": 11,
   "id": "087e2d93",
   "metadata": {},
   "outputs": [
    {
     "data": {
      "text/plain": [
       "Department /Ministry         0\n",
       "Fund allotted(in ₹crores)    0\n",
       "dtype: int64"
      ]
     },
     "execution_count": 11,
     "metadata": {},
     "output_type": "execute_result"
    }
   ],
   "source": [
    "df.isnull().sum()"
   ]
  },
  {
   "cell_type": "raw",
   "id": "ea17f16c",
   "metadata": {},
   "source": [
    "I can see that not all the departments that are covered in this dataset are the main departments, as some departments can be covered in the others category. So let’s prepare the data by only selecting the main departments and putting all the other departments in the other category:"
   ]
  },
  {
   "cell_type": "code",
   "execution_count": 12,
   "id": "daba4efe",
   "metadata": {},
   "outputs": [
    {
     "data": {
      "text/html": [
       "<div>\n",
       "<style scoped>\n",
       "    .dataframe tbody tr th:only-of-type {\n",
       "        vertical-align: middle;\n",
       "    }\n",
       "\n",
       "    .dataframe tbody tr th {\n",
       "        vertical-align: top;\n",
       "    }\n",
       "\n",
       "    .dataframe thead th {\n",
       "        text-align: right;\n",
       "    }\n",
       "</style>\n",
       "<table border=\"1\" class=\"dataframe\">\n",
       "  <thead>\n",
       "    <tr style=\"text-align: right;\">\n",
       "      <th></th>\n",
       "      <th>Department /Ministry</th>\n",
       "      <th>Fund allotted(in ₹crores)</th>\n",
       "    </tr>\n",
       "  </thead>\n",
       "  <tbody>\n",
       "    <tr>\n",
       "      <th>0</th>\n",
       "      <td>MINISTRY OF AGRICULTURE</td>\n",
       "      <td>131531.19</td>\n",
       "    </tr>\n",
       "    <tr>\n",
       "      <th>1</th>\n",
       "      <td>DEPARTMENT OF ATOMIC ENERGY</td>\n",
       "      <td>18264.89</td>\n",
       "    </tr>\n",
       "  </tbody>\n",
       "</table>\n",
       "</div>"
      ],
      "text/plain": [
       "          Department /Ministry  Fund allotted(in ₹crores)\n",
       "0      MINISTRY OF AGRICULTURE                  131531.19\n",
       "1  DEPARTMENT OF ATOMIC ENERGY                   18264.89"
      ]
     },
     "execution_count": 12,
     "metadata": {},
     "output_type": "execute_result"
    }
   ],
   "source": [
    "df.head(2)"
   ]
  },
  {
   "cell_type": "raw",
   "id": "6134e1da",
   "metadata": {},
   "source": [
    "df = df.iloc[[0,8,11,14,18,23,41,42,43],:]\n",
    "row = {'Department /Ministry': 'OTHERS', 'Fund allotted(in ₹crores)': 592971.0800000001}\n",
    "df = df.append(row, ignore_index = True)\n",
    "print(df)"
   ]
  },
  {
   "cell_type": "code",
   "execution_count": 15,
   "id": "d538432d",
   "metadata": {},
   "outputs": [
    {
     "data": {
      "text/plain": [
       "<AxesSubplot:xlabel='Department /Ministry'>"
      ]
     },
     "execution_count": 15,
     "metadata": {},
     "output_type": "execute_result"
    },
    {
     "data": {
      "image/png": "[encoded data removed]",
      "text/plain": [
       "<Figure size 432x288 with 1 Axes>"
      ]
     },
     "metadata": {
      "needs_background": "light"
     },
     "output_type": "display_data"
    }
   ],
   "source": [
    "df.plot.bar(x='Department /Ministry',y='Fund allotted(in ₹crores)')"
   ]
  },
  {
   "cell_type": "code",
   "execution_count": 22,
   "id": "aefd79c7",
   "metadata": {},
   "outputs": [],
   "source": [
    "X=data['Fund allotted(in ₹crores)']\n",
    "labels=data['Department /Ministry']"
   ]
  },
  {
   "cell_type": "code",
   "execution_count": 26,
   "id": "0fbb033d",
   "metadata": {},
   "outputs": [
    {
     "ename": "SyntaxError",
     "evalue": "invalid syntax (Temp/ipykernel_17244/507700942.py, line 10)",
     "output_type": "error",
     "traceback": [
      "\u001b[1;36m  File \u001b[1;32m\"C:\\Users\\iamvi\\AppData\\Local\\Temp/ipykernel_17244/507700942.py\"\u001b[1;36m, line \u001b[1;32m10\u001b[0m\n\u001b[1;33m    except Exception ValueError:\u001b[0m\n\u001b[1;37m                     ^\u001b[0m\n\u001b[1;31mSyntaxError\u001b[0m\u001b[1;31m:\u001b[0m invalid syntax\n"
     ]
    }
   ],
   "source": [
    "try:\n",
    "    plt.figure(figsize=(7,7))\n",
    "    plt.pie(X,labels=labels,startangle=90)\n",
    "    central_circle=plt.Circle((0,0),0.5, color='white')\n",
    "    plt.gcf()\n",
    "    plt.gca().add_artist(central_circle)\n",
    "    plt.rc('font', size=12)\n",
    "    plt.title(\"Distribution of The Budget\", fontsize=20)\n",
    "    plt.show()\n",
    "except Exception ValueError:\n",
    "    print('ValueError: need at least one array to concatenate')"
   ]
  },
  {
   "cell_type": "code",
   "execution_count": null,
   "id": "27e0b068",
   "metadata": {},
   "outputs": [],
   "source": []
  }
 ],
 "metadata": {
  "kernelspec": {
   "display_name": "Python 3 (ipykernel)",
   "language": "python",
   "name": "python3"
  },
  "language_info": {
   "codemirror_mode": {
    "name": "ipython",
    "version": 3
   },
   "file_extension": ".py",
   "mimetype": "text/x-python",
   "name": "python",
   "nbconvert_exporter": "python",
   "pygments_lexer": "ipython3",
   "version": "3.9.7"
  }
 },
 "nbformat": 4,
 "nbformat_minor": 5
}

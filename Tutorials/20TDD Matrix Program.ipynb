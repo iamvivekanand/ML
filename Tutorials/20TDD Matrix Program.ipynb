{
 "cells": [
  {
   "cell_type": "markdown",
   "id": "1d2a41db",
   "metadata": {},
   "source": [
    "### Matrix Program"
   ]
  },
  {
   "cell_type": "code",
   "execution_count": 1,
   "id": "c0ed448f",
   "metadata": {},
   "outputs": [],
   "source": [
    "# Program to add two Matrices"
   ]
  },
  {
   "cell_type": "code",
   "execution_count": 11,
   "id": "e6a53883",
   "metadata": {},
   "outputs": [],
   "source": [
    "x= [[1,2,3],\n",
    "    [4 ,5,6],\n",
    "    [7 ,8,9]]\n",
    " \n",
    "y= [[9,8,7],\n",
    "    [6,5,4],\n",
    "    [3,2,1]]\n",
    "\n",
    "result = [[0,0,0],\n",
    "        [0,0,0],\n",
    "        [0,0,0]]"
   ]
  },
  {
   "cell_type": "code",
   "execution_count": 8,
   "id": "31bb6a18",
   "metadata": {},
   "outputs": [
    {
     "data": {
      "text/plain": [
       "(3, 3, [1, 2, 3])"
      ]
     },
     "execution_count": 8,
     "metadata": {},
     "output_type": "execute_result"
    }
   ],
   "source": [
    "len(x),len(x[0]),x[0]"
   ]
  },
  {
   "cell_type": "code",
   "execution_count": 12,
   "id": "aad43da0",
   "metadata": {},
   "outputs": [
    {
     "name": "stdout",
     "output_type": "stream",
     "text": [
      "[10, 10, 10]\n",
      "[10, 10, 10]\n",
      "[10, 10, 10]\n"
     ]
    }
   ],
   "source": [
    "for i in range(len(x)):  \n",
    "# iterate through columns\n",
    "    for j in range(len(x[0])):\n",
    "        result[i][j] = x[i][j] + y[i][j]\n",
    " \n",
    "for r in result:\n",
    "    print(r)"
   ]
  },
  {
   "cell_type": "code",
   "execution_count": 14,
   "id": "3eff21c1",
   "metadata": {},
   "outputs": [
    {
     "name": "stdout",
     "output_type": "stream",
     "text": [
      "[10, 10, 10]\n",
      "[10, 10, 10]\n",
      "[10, 10, 10]\n"
     ]
    }
   ],
   "source": [
    "# list comprehension\n",
    "result = [[x[i][j] + y[i][j]  for j in range(len(x[0]))] for i in range(len(x))]\n",
    "\n",
    "for r in result:\n",
    "    print(r)"
   ]
  },
  {
   "cell_type": "code",
   "execution_count": null,
   "id": "22b77373",
   "metadata": {},
   "outputs": [],
   "source": []
  }
 ],
 "metadata": {
  "kernelspec": {
   "display_name": "Python 3 (ipykernel)",
   "language": "python",
   "name": "python3"
  },
  "language_info": {
   "codemirror_mode": {
    "name": "ipython",
    "version": 3
   },
   "file_extension": ".py",
   "mimetype": "text/x-python",
   "name": "python",
   "nbconvert_exporter": "python",
   "pygments_lexer": "ipython3",
   "version": "3.9.7"
  }
 },
 "nbformat": 4,
 "nbformat_minor": 5
}

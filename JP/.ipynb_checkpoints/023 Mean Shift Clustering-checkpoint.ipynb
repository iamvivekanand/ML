{
 "cells": [
  {
   "cell_type": "markdown",
   "id": "3a2ada70",
   "metadata": {},
   "source": [
    "### Mean Shift Clustering"
   ]
  },
  {
   "cell_type": "code",
   "execution_count": null,
   "id": "84f5d621",
   "metadata": {},
   "outputs": [],
   "source": []
  }
 ],
 "metadata": {
  "kernelspec": {
   "display_name": "Python 3 (ipykernel)",
   "language": "python",
   "name": "python3"
  },
  "language_info": {
   "codemirror_mode": {
    "name": "ipython",
    "version": 3
   },
   "file_extension": ".py",
   "mimetype": "text/x-python",
   "name": "python",
   "nbconvert_exporter": "python",
   "pygments_lexer": "ipython3",
   "version": "3.9.7"
  }
 },
 "nbformat": 4,
 "nbformat_minor": 5
}

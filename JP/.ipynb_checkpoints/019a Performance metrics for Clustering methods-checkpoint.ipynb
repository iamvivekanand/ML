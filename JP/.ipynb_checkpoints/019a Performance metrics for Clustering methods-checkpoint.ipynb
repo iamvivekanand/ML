{
 "cells": [
  {
   "cell_type": "markdown",
   "id": "c0a4616d",
   "metadata": {},
   "source": [
    "### Performance metrics for Clustering methods"
   ]
  },
  {
   "cell_type": "markdown",
   "id": "c6b3a744",
   "metadata": {},
   "source": [
    "#### 1. Adjusted Rand Index"
   ]
  },
  {
   "cell_type": "markdown",
   "id": "1cbc91f7",
   "metadata": {},
   "source": [
    "- a function that computes a similarity measure between two clustering\n",
    "- for computation it considers all pairs of samples and counting pairs that are assigned in the similar or different clusters in the predicted and true clustering\n",
    "- value of ARI ranges 0 to 1, more closer to one would mean better clustering\n",
    "\n",
    "Mathematically:\n",
    "$$Adjusted\\:RI=\\left(RI-Expected_{-}RI\\right)/\\left(max\\left(RI\\right)-Expected_{-}RI\\right)$$"
   ]
  },
  {
   "cell_type": "code",
   "execution_count": 2,
   "id": "e4e3c10e",
   "metadata": {},
   "outputs": [
    {
     "data": {
      "text/plain": [
       "0.4444444444444444"
      ]
     },
     "execution_count": 2,
     "metadata": {},
     "output_type": "execute_result"
    }
   ],
   "source": [
    "from sklearn.metrics.cluster import adjusted_rand_score\n",
    "   \n",
    "labels_true = [0, 0, 1, 1, 1, 1]\n",
    "labels_pred = [0, 0, 2, 2, 3, 3]\n",
    "\n",
    "adjusted_rand_score(labels_true, labels_pred)"
   ]
  },
  {
   "cell_type": "markdown",
   "id": "db8d1a94",
   "metadata": {},
   "source": [
    "#### 2.Mutual Information Based Score"
   ]
  },
  {
   "cell_type": "markdown",
   "id": "05608bcd",
   "metadata": {},
   "source": [
    "    Computes the agreement of the two assignments. It ignores the permutations. There are following versions available: \n",
    "    \n",
    "Normalized Mutual Information (NMI):\n",
    "    \n",
    "    from sklearn.metrics.cluster import normalized_mutual_info_score as NMIS\n",
    "    NMIS(labels_true, labels_pred)\n",
    "    \n",
    "Adjusted Mutual Information (AMI):\n",
    "    \n",
    "    from sklearn.metrics.cluster import adjusted_mutual_info_score as AMIS\n",
    "    AMIS(labels_true, labels_pred)"
   ]
  },
  {
   "cell_type": "markdown",
   "id": "3115f30a",
   "metadata": {},
   "source": [
    "#### 3. Fowlkes-Mallows Score"
   ]
  },
  {
   "cell_type": "markdown",
   "id": "801f0609",
   "metadata": {},
   "source": [
    "- measures the similarity of two clustering of a set of points.\n",
    "- it is geometric mean of the pairwise precision and recall.\n",
    "\n",
    "$$FMS=\\frac{TP}{\\sqrt{\\left(TP+FP\\right)\\left(TP+FN\\right)}}$$\n",
    "\n",
    "- Here, TP = True Positive − number of pair of points belonging to the same clusters in true as well as predicted labels both.\n",
    "- FP = False Positive − number of pair of points belonging to the same clusters in true labels but not in the predicted labels.\n",
    "- FN = False Negative − number of pair of points belonging to the same clusters in the predicted labels but not in the true labels"
   ]
  },
  {
   "cell_type": "code",
   "execution_count": 6,
   "id": "0f4f1110",
   "metadata": {},
   "outputs": [
    {
     "data": {
      "text/plain": [
       "0.6546536707079771"
      ]
     },
     "execution_count": 6,
     "metadata": {},
     "output_type": "execute_result"
    }
   ],
   "source": [
    "from sklearn.metrics.cluster import fowlkes_mallows_score\n",
    "labels_true = [0, 0, 1, 1, 1, 1]\n",
    "labels_pred = [0, 0, 2, 2, 3, 3]\n",
    "\n",
    "fowlkes_mallows_score (labels_true, labels_pred)"
   ]
  },
  {
   "cell_type": "markdown",
   "id": "0fc3f579",
   "metadata": {},
   "source": [
    "#### 4.Silhouette Coefficient"
   ]
  },
  {
   "cell_type": "markdown",
   "id": "e2e1101c",
   "metadata": {},
   "source": [
    "it compute the mean Silhouette Coefficient of all samples using the mean intra-cluster distance and the mean nearest-cluster distance for each sample.\n",
    "\n",
    "Mathematically,\n",
    "$$S=\\left(b-a\\right)/max\\left(a,b\\right)$$\n",
    "\n",
    "    Here, a is intra-cluster distance.\n",
    "    and, b is mean nearest-cluster distance."
   ]
  },
  {
   "cell_type": "code",
   "execution_count": 8,
   "id": "cc098d52",
   "metadata": {},
   "outputs": [],
   "source": [
    "# Compute silhoute coffient for KMeans model"
   ]
  },
  {
   "cell_type": "code",
   "execution_count": 11,
   "id": "086cb05b",
   "metadata": {},
   "outputs": [
    {
     "data": {
      "text/plain": [
       "0.5528190123564091"
      ]
     },
     "execution_count": 11,
     "metadata": {},
     "output_type": "execute_result"
    }
   ],
   "source": [
    "import numpy as np\n",
    "import pandas as pd\n",
    "\n",
    "from sklearn.datasets import load_iris\n",
    "from sklearn.cluster import KMeans\n",
    "from sklearn.metrics.cluster import silhouette_score\n",
    "\n",
    "# U can also import directly from metrics\n",
    "from sklearn.metrics import silhouette_score,pairwise_distances\n",
    "\n",
    "# load data\n",
    "iris=load_iris()\n",
    "X=iris.data\n",
    "y=iris.target\n",
    "\n",
    "model = KMeans(n_clusters = 3, random_state = 1).fit(X)\n",
    "labels = model.labels_\n",
    "silhouette_score(X, labels, metric = 'euclidean')"
   ]
  },
  {
   "cell_type": "markdown",
   "id": "c2f01158",
   "metadata": {},
   "source": [
    "#### 5. Contingency Matrix"
   ]
  },
  {
   "cell_type": "markdown",
   "id": "459ab707",
   "metadata": {},
   "source": [
    "This matrix will report the intersection cardinality for every trusted pair of (true, predicted). Confusion matrix for classification problems is a square contingency matrix."
   ]
  },
  {
   "cell_type": "code",
   "execution_count": 12,
   "id": "a4c61969",
   "metadata": {},
   "outputs": [
    {
     "data": {
      "text/plain": [
       "array([[0, 2, 1],\n",
       "       [1, 1, 1]], dtype=int64)"
      ]
     },
     "execution_count": 12,
     "metadata": {},
     "output_type": "execute_result"
    }
   ],
   "source": [
    "from sklearn.metrics.cluster import contingency_matrix\n",
    "x = [\"a\", \"a\", \"a\", \"b\", \"b\", \"b\"]\n",
    "y = [1, 1, 2, 0, 1, 2]\n",
    "contingency_matrix(x, y)"
   ]
  },
  {
   "cell_type": "code",
   "execution_count": null,
   "id": "637c49ce",
   "metadata": {},
   "outputs": [],
   "source": []
  }
 ],
 "metadata": {
  "kernelspec": {
   "display_name": "Python 3 (ipykernel)",
   "language": "python",
   "name": "python3"
  },
  "language_info": {
   "codemirror_mode": {
    "name": "ipython",
    "version": 3
   },
   "file_extension": ".py",
   "mimetype": "text/x-python",
   "name": "python",
   "nbconvert_exporter": "python",
   "pygments_lexer": "ipython3",
   "version": "3.9.7"
  }
 },
 "nbformat": 4,
 "nbformat_minor": 5
}

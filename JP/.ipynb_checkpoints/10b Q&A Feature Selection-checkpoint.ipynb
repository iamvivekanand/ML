{
 "cells": [
  {
   "cell_type": "markdown",
   "id": "44db3c0e",
   "metadata": {},
   "source": [
    "## Q&A Feature Selection"
   ]
  },
  {
   "cell_type": "code",
   "execution_count": 1,
   "id": "89471ac4",
   "metadata": {},
   "outputs": [],
   "source": [
    "# What is a chi2 test used for?"
   ]
  },
  {
   "cell_type": "markdown",
   "id": "fd7dee34",
   "metadata": {},
   "source": [
    "A chi-square test is a statistical test used to compare observed results with expected results. The purpose of this test is to determine if a difference between observed data and expected data is due to chance, or if it is due to a relationship between the variables you are studying"
   ]
  },
  {
   "cell_type": "code",
   "execution_count": 2,
   "id": "76233e06",
   "metadata": {},
   "outputs": [],
   "source": [
    "# Can chi-square be negative?"
   ]
  },
  {
   "cell_type": "markdown",
   "id": "5d389ab2",
   "metadata": {},
   "source": [
    "Since χ2 is the sum of a set of squared values, it can never be negative. The minimum chi squared value would be obtained if each Z = 0 so that χ2 would also be 0."
   ]
  },
  {
   "cell_type": "code",
   "execution_count": 3,
   "id": "9b039813",
   "metadata": {},
   "outputs": [],
   "source": [
    "# What is information gain in machine learning?"
   ]
  },
  {
   "cell_type": "markdown",
   "id": "b4d9f9d7",
   "metadata": {},
   "source": [
    "Information gain is the reduction in entropy or surprise by transforming a dataset and is often used in training decision trees. Information gain is calculated by comparing the entropy of the dataset before and after a transformation."
   ]
  },
  {
   "cell_type": "code",
   "execution_count": 1,
   "id": "d893836c",
   "metadata": {},
   "outputs": [],
   "source": [
    "# what is the difference between dimensionality reduction and feature selection"
   ]
  },
  {
   "cell_type": "markdown",
   "id": "d9fb3fce",
   "metadata": {},
   "source": [
    "The difference is that feature selection select features to keep or remove from the dataset, \n",
    "whereas dimensionality reduction create a projection of the data resulting in entirely new input features"
   ]
  },
  {
   "cell_type": "code",
   "execution_count": 2,
   "id": "ca51395b",
   "metadata": {},
   "outputs": [],
   "source": [
    "# how to choose best feature selection technique for a dataset?"
   ]
  },
  {
   "cell_type": "markdown",
   "id": "580c0b66",
   "metadata": {},
   "source": [
    "<img src='feat_selection.jpg'>"
   ]
  },
  {
   "cell_type": "markdown",
   "id": "da2c1cd7",
   "metadata": {},
   "source": [
    "#### Numerical Input, Numerical Output:"
   ]
  },
  {
   "cell_type": "markdown",
   "id": "115d1024",
   "metadata": {},
   "source": [
    "This is a regression problem, we can use correlation coefficients for feature selection\n",
    "-Pearson’s correlation coefficient (linear).\n",
    "-Spearman’s rank coefficient (nonlinear)"
   ]
  },
  {
   "cell_type": "markdown",
   "id": "34b4b7c1",
   "metadata": {},
   "source": [
    "#### Numerical Input, Categorical Output:"
   ]
  },
  {
   "cell_type": "markdown",
   "id": "9b70a744",
   "metadata": {},
   "source": [
    "    This is a classification problem with numerical input variables.\n",
    "    Again, the most common techniques are correlation based, although in this case, they must take the categorical target into account.\n",
    "\n",
    "    ANOVA correlation coefficient (linear)\n",
    "    Kendall’s rank coefficient (nonlinear)\n",
    "\n",
    "    Kendall does assume that the categorical variable is ordinal.\n",
    "\n",
    "#### Categorical Input, Numerical Output"
   ]
  },
  {
   "cell_type": "markdown",
   "id": "7f4afa93",
   "metadata": {},
   "source": [
    "    This is again a strange regression problem, we counter rarely. we can use methods used in regression probelms described previously, but in reverse manner"
   ]
  },
  {
   "cell_type": "markdown",
   "id": "90f7bdee",
   "metadata": {},
   "source": [
    "#### Categorical Input, Categorical Output"
   ]
  },
  {
   "cell_type": "markdown",
   "id": "eac858c1",
   "metadata": {},
   "source": [
    "    This is a classification problem, The most common correlation measure for categorical data is the chi-squared test.\n",
    "    Two methods are the most famous for this.\n",
    "    - Chi-Squared test (contingency tables).\n",
    "    - Mutual Information."
   ]
  },
  {
   "cell_type": "code",
   "execution_count": 3,
   "id": "eb924e10",
   "metadata": {},
   "outputs": [],
   "source": [
    "# What are some tips and tricks that can be used with feature selection?"
   ]
  },
  {
   "cell_type": "markdown",
   "id": "2f7e6bcd",
   "metadata": {},
   "source": [
    "    Transform Variables:\n",
    "    Consider transforming the variables in order to access different statistical methods.\n",
    "\n",
    "    For example, you can transform a categorical variable to ordinal, even if it is not, and see if any interesting results come out.\n",
    "    You can also make a numerical variable discrete (e.g. bins); try categorical-based measures."
   ]
  },
  {
   "cell_type": "code",
   "execution_count": 4,
   "id": "991d9973",
   "metadata": {},
   "outputs": [],
   "source": [
    "# What Is the Best Feature Selection Method?"
   ]
  },
  {
   "cell_type": "markdown",
   "id": "42cabaca",
   "metadata": {},
   "source": [
    "    There is no best feature selection method.\n",
    "    Just like there is no best set of input variables or best machine learning algorithm. At least not universally.\n",
    "\n",
    "    Instead, you must discover what works best for your specific problem using careful systematic experimentation.\n",
    "    Try a range of different models fit on different subsets of features chosen via different statistical measures and discover what works best for your specific problem"
   ]
  },
  {
   "cell_type": "markdown",
   "id": "652c9e78",
   "metadata": {},
   "source": [
    "### Regression Feature Selection:"
   ]
  },
  {
   "cell_type": "markdown",
   "id": "5d81f1a4",
   "metadata": {},
   "source": [
    "    Here, a test regression problem has been prepared using the make_regression() function.\n",
    "    Feature selection has been performed using Pearson’s Correlation Coefficient via the f_regression() function."
   ]
  },
  {
   "cell_type": "code",
   "execution_count": 5,
   "id": "2ce2faac",
   "metadata": {},
   "outputs": [],
   "source": [
    "from sklearn.datasets import make_regression"
   ]
  },
  {
   "cell_type": "code",
   "execution_count": 6,
   "id": "dd5bb49b",
   "metadata": {},
   "outputs": [],
   "source": [
    "from sklearn.feature_selection import SelectKBest, f_regression"
   ]
  },
  {
   "cell_type": "code",
   "execution_count": 7,
   "id": "3ef20630",
   "metadata": {},
   "outputs": [],
   "source": [
    "# Generate dataset\n",
    "X, y = make_regression(n_samples=100, n_features=100, n_informative=10)"
   ]
  },
  {
   "cell_type": "code",
   "execution_count": 8,
   "id": "804f17c6",
   "metadata": {},
   "outputs": [],
   "source": [
    "# define feature selection\n",
    "fs=SelectKBest(score_func=f_regression,k=10)"
   ]
  },
  {
   "cell_type": "code",
   "execution_count": 9,
   "id": "4054d3b0",
   "metadata": {},
   "outputs": [
    {
     "name": "stdout",
     "output_type": "stream",
     "text": [
      "(100, 10)\n"
     ]
    }
   ],
   "source": [
    "# apply feature selection\n",
    "X_selected=fs.fit_transform(X,y)\n",
    "print(X_selected.shape)"
   ]
  },
  {
   "cell_type": "markdown",
   "id": "1937e0fa",
   "metadata": {},
   "source": [
    "#### Classification Feature Selection: (Numerical Input, Categorical Output)"
   ]
  },
  {
   "cell_type": "code",
   "execution_count": 10,
   "id": "c53dcd94",
   "metadata": {},
   "outputs": [],
   "source": [
    "from sklearn.datasets import make_classification"
   ]
  },
  {
   "cell_type": "code",
   "execution_count": 11,
   "id": "f85ca673",
   "metadata": {},
   "outputs": [],
   "source": [
    "X,y=make_classification(n_samples=200,n_features=30,n_informative=3)"
   ]
  },
  {
   "cell_type": "code",
   "execution_count": 16,
   "id": "3390ac87",
   "metadata": {},
   "outputs": [],
   "source": [
    "from sklearn.feature_selection import SelectKBest,f_classif"
   ]
  },
  {
   "cell_type": "code",
   "execution_count": 17,
   "id": "80113a55",
   "metadata": {},
   "outputs": [],
   "source": [
    "fs=SelectKBest(score_func=f_classif,k=2)"
   ]
  },
  {
   "cell_type": "code",
   "execution_count": 19,
   "id": "2b6e5c1a",
   "metadata": {},
   "outputs": [
    {
     "name": "stdout",
     "output_type": "stream",
     "text": [
      "(200, 30)\n"
     ]
    }
   ],
   "source": [
    "X_selected=fs.fit_transform(X,y)\n",
    "print(X.shape)"
   ]
  },
  {
   "cell_type": "code",
   "execution_count": 20,
   "id": "e85daccc",
   "metadata": {},
   "outputs": [
    {
     "data": {
      "text/plain": [
       "(200, 2)"
      ]
     },
     "execution_count": 20,
     "metadata": {},
     "output_type": "execute_result"
    }
   ],
   "source": [
    "X_selected.shape"
   ]
  },
  {
   "cell_type": "markdown",
   "id": "18fb67e5",
   "metadata": {},
   "source": [
    "### Precision and recall: trying to understand using Heart Disease data"
   ]
  },
  {
   "cell_type": "code",
   "execution_count": 2,
   "id": "9b41c017",
   "metadata": {},
   "outputs": [],
   "source": [
    "import pandas as pd\n",
    "import numpy as np\n",
    "import seaborn as sns\n",
    "import matplotlib.pyplot as plt"
   ]
  },
  {
   "cell_type": "code",
   "execution_count": 34,
   "id": "3856b38d",
   "metadata": {},
   "outputs": [],
   "source": [
    "from sklearn.neighbors import KNeighborsClassifier"
   ]
  },
  {
   "cell_type": "code",
   "execution_count": 4,
   "id": "21effd1c",
   "metadata": {},
   "outputs": [],
   "source": [
    "from sklearn.metrics import accuracy_score,classification_report,auc,roc_curve,roc_auc_score,precision_recall_curve"
   ]
  },
  {
   "cell_type": "code",
   "execution_count": 5,
   "id": "d618eb37",
   "metadata": {
    "scrolled": true
   },
   "outputs": [
    {
     "data": {
      "text/html": [
       "<div>\n",
       "<style scoped>\n",
       "    .dataframe tbody tr th:only-of-type {\n",
       "        vertical-align: middle;\n",
       "    }\n",
       "\n",
       "    .dataframe tbody tr th {\n",
       "        vertical-align: top;\n",
       "    }\n",
       "\n",
       "    .dataframe thead th {\n",
       "        text-align: right;\n",
       "    }\n",
       "</style>\n",
       "<table border=\"1\" class=\"dataframe\">\n",
       "  <thead>\n",
       "    <tr style=\"text-align: right;\">\n",
       "      <th></th>\n",
       "      <th>age</th>\n",
       "      <th>sex</th>\n",
       "      <th>BP</th>\n",
       "      <th>cholestrol</th>\n",
       "      <th>heart disease</th>\n",
       "    </tr>\n",
       "  </thead>\n",
       "  <tbody>\n",
       "    <tr>\n",
       "      <th>0</th>\n",
       "      <td>70</td>\n",
       "      <td>1</td>\n",
       "      <td>130</td>\n",
       "      <td>322</td>\n",
       "      <td>1</td>\n",
       "    </tr>\n",
       "    <tr>\n",
       "      <th>1</th>\n",
       "      <td>67</td>\n",
       "      <td>0</td>\n",
       "      <td>115</td>\n",
       "      <td>564</td>\n",
       "      <td>0</td>\n",
       "    </tr>\n",
       "  </tbody>\n",
       "</table>\n",
       "</div>"
      ],
      "text/plain": [
       "   age  sex   BP  cholestrol  heart disease\n",
       "0   70    1  130         322              1\n",
       "1   67    0  115         564              0"
      ]
     },
     "execution_count": 5,
     "metadata": {},
     "output_type": "execute_result"
    }
   ],
   "source": [
    "df=pd.read_csv('heart_v2.csv')\n",
    "df.head(2)"
   ]
  },
  {
   "cell_type": "code",
   "execution_count": 11,
   "id": "ef2c365d",
   "metadata": {},
   "outputs": [
    {
     "data": {
      "text/plain": [
       "Index(['age', 'sex', 'BP', 'cholestrol', 'heart disease'], dtype='object')"
      ]
     },
     "execution_count": 11,
     "metadata": {},
     "output_type": "execute_result"
    }
   ],
   "source": [
    "df.columns"
   ]
  },
  {
   "cell_type": "code",
   "execution_count": 13,
   "id": "716d2d94",
   "metadata": {},
   "outputs": [],
   "source": [
    "df.columns=['age','sex','bp','cholestrol','target']"
   ]
  },
  {
   "cell_type": "code",
   "execution_count": 14,
   "id": "3a50a07d",
   "metadata": {},
   "outputs": [
    {
     "data": {
      "text/html": [
       "<div>\n",
       "<style scoped>\n",
       "    .dataframe tbody tr th:only-of-type {\n",
       "        vertical-align: middle;\n",
       "    }\n",
       "\n",
       "    .dataframe tbody tr th {\n",
       "        vertical-align: top;\n",
       "    }\n",
       "\n",
       "    .dataframe thead th {\n",
       "        text-align: right;\n",
       "    }\n",
       "</style>\n",
       "<table border=\"1\" class=\"dataframe\">\n",
       "  <thead>\n",
       "    <tr style=\"text-align: right;\">\n",
       "      <th></th>\n",
       "      <th>age</th>\n",
       "      <th>sex</th>\n",
       "      <th>bp</th>\n",
       "      <th>cholestrol</th>\n",
       "      <th>target</th>\n",
       "    </tr>\n",
       "  </thead>\n",
       "  <tbody>\n",
       "    <tr>\n",
       "      <th>0</th>\n",
       "      <td>70</td>\n",
       "      <td>1</td>\n",
       "      <td>130</td>\n",
       "      <td>322</td>\n",
       "      <td>1</td>\n",
       "    </tr>\n",
       "    <tr>\n",
       "      <th>1</th>\n",
       "      <td>67</td>\n",
       "      <td>0</td>\n",
       "      <td>115</td>\n",
       "      <td>564</td>\n",
       "      <td>0</td>\n",
       "    </tr>\n",
       "  </tbody>\n",
       "</table>\n",
       "</div>"
      ],
      "text/plain": [
       "   age  sex   bp  cholestrol  target\n",
       "0   70    1  130         322       1\n",
       "1   67    0  115         564       0"
      ]
     },
     "execution_count": 14,
     "metadata": {},
     "output_type": "execute_result"
    }
   ],
   "source": [
    "df.head(2)"
   ]
  },
  {
   "cell_type": "code",
   "execution_count": 15,
   "id": "78ee6a2d",
   "metadata": {},
   "outputs": [
    {
     "data": {
      "text/plain": [
       "0    150\n",
       "1    120\n",
       "Name: target, dtype: int64"
      ]
     },
     "execution_count": 15,
     "metadata": {},
     "output_type": "execute_result"
    }
   ],
   "source": [
    "df['target'].value_counts()"
   ]
  },
  {
   "cell_type": "code",
   "execution_count": 16,
   "id": "dbc65464",
   "metadata": {},
   "outputs": [
    {
     "data": {
      "text/plain": [
       "age           0\n",
       "sex           0\n",
       "bp            0\n",
       "cholestrol    0\n",
       "target        0\n",
       "dtype: int64"
      ]
     },
     "execution_count": 16,
     "metadata": {},
     "output_type": "execute_result"
    }
   ],
   "source": [
    "df.isnull().sum()"
   ]
  },
  {
   "cell_type": "code",
   "execution_count": 17,
   "id": "78b4b0ca",
   "metadata": {},
   "outputs": [],
   "source": [
    "import warnings\n",
    "warnings.filterwarnings('ignore')"
   ]
  },
  {
   "cell_type": "code",
   "execution_count": 19,
   "id": "bf9f5951",
   "metadata": {},
   "outputs": [
    {
     "data": {
      "image/png": "[encoded data removed]",
      "text/plain": [
       "<Figure size 432x288 with 1 Axes>"
      ]
     },
     "metadata": {
      "needs_background": "light"
     },
     "output_type": "display_data"
    }
   ],
   "source": [
    "sns.countplot(df['target'])\n",
    "plt.title('Countplot')\n",
    "plt.xlabel('Disease')\n",
    "plt.ylabel('Count')\n",
    "plt.show()"
   ]
  },
  {
   "cell_type": "code",
   "execution_count": 20,
   "id": "75bfc857",
   "metadata": {},
   "outputs": [
    {
     "data": {
      "text/plain": [
       "age           int64\n",
       "sex           int64\n",
       "bp            int64\n",
       "cholestrol    int64\n",
       "target        int64\n",
       "dtype: object"
      ]
     },
     "execution_count": 20,
     "metadata": {},
     "output_type": "execute_result"
    }
   ],
   "source": [
    "df.dtypes"
   ]
  },
  {
   "cell_type": "code",
   "execution_count": 22,
   "id": "38041ef1",
   "metadata": {},
   "outputs": [],
   "source": [
    "X=df.drop(['target'],axis=1)\n",
    "y=df['target']"
   ]
  },
  {
   "cell_type": "code",
   "execution_count": 23,
   "id": "ebd9364f",
   "metadata": {},
   "outputs": [
    {
     "data": {
      "text/plain": [
       "pandas.core.frame.DataFrame"
      ]
     },
     "execution_count": 23,
     "metadata": {},
     "output_type": "execute_result"
    }
   ],
   "source": [
    "type(X)"
   ]
  },
  {
   "cell_type": "code",
   "execution_count": 24,
   "id": "7598e0af",
   "metadata": {},
   "outputs": [
    {
     "data": {
      "text/plain": [
       "pandas.core.series.Series"
      ]
     },
     "execution_count": 24,
     "metadata": {},
     "output_type": "execute_result"
    }
   ],
   "source": [
    "type(y)"
   ]
  },
  {
   "cell_type": "code",
   "execution_count": 25,
   "id": "2d137376",
   "metadata": {},
   "outputs": [
    {
     "data": {
      "text/html": [
       "<div>\n",
       "<style scoped>\n",
       "    .dataframe tbody tr th:only-of-type {\n",
       "        vertical-align: middle;\n",
       "    }\n",
       "\n",
       "    .dataframe tbody tr th {\n",
       "        vertical-align: top;\n",
       "    }\n",
       "\n",
       "    .dataframe thead th {\n",
       "        text-align: right;\n",
       "    }\n",
       "</style>\n",
       "<table border=\"1\" class=\"dataframe\">\n",
       "  <thead>\n",
       "    <tr style=\"text-align: right;\">\n",
       "      <th></th>\n",
       "      <th>age</th>\n",
       "      <th>sex</th>\n",
       "      <th>bp</th>\n",
       "      <th>cholestrol</th>\n",
       "      <th>target</th>\n",
       "    </tr>\n",
       "  </thead>\n",
       "  <tbody>\n",
       "    <tr>\n",
       "      <th>0</th>\n",
       "      <td>70</td>\n",
       "      <td>1</td>\n",
       "      <td>130</td>\n",
       "      <td>322</td>\n",
       "      <td>1</td>\n",
       "    </tr>\n",
       "    <tr>\n",
       "      <th>1</th>\n",
       "      <td>67</td>\n",
       "      <td>0</td>\n",
       "      <td>115</td>\n",
       "      <td>564</td>\n",
       "      <td>0</td>\n",
       "    </tr>\n",
       "  </tbody>\n",
       "</table>\n",
       "</div>"
      ],
      "text/plain": [
       "   age  sex   bp  cholestrol  target\n",
       "0   70    1  130         322       1\n",
       "1   67    0  115         564       0"
      ]
     },
     "execution_count": 25,
     "metadata": {},
     "output_type": "execute_result"
    }
   ],
   "source": [
    "df.head(2)"
   ]
  },
  {
   "cell_type": "code",
   "execution_count": 26,
   "id": "0c5a83ea",
   "metadata": {},
   "outputs": [],
   "source": [
    "from sklearn.preprocessing import StandardScaler\n",
    "ss=StandardScaler()"
   ]
  },
  {
   "cell_type": "code",
   "execution_count": 27,
   "id": "3ceb8e35",
   "metadata": {},
   "outputs": [],
   "source": [
    "X=ss.fit_transform(X)"
   ]
  },
  {
   "cell_type": "code",
   "execution_count": 30,
   "id": "bf47ad9e",
   "metadata": {},
   "outputs": [
    {
     "data": {
      "text/plain": [
       "array([[ 1.71209356,  0.6894997 , -0.07540984,  1.40221232],\n",
       "       [ 1.38213977, -1.45032695, -0.91675934,  6.0930045 ]])"
      ]
     },
     "execution_count": 30,
     "metadata": {},
     "output_type": "execute_result"
    }
   ],
   "source": [
    "X[0:2]"
   ]
  },
  {
   "cell_type": "code",
   "execution_count": 31,
   "id": "6f041e61",
   "metadata": {},
   "outputs": [],
   "source": [
    "from sklearn.model_selection import train_test_split\n",
    "X_train,X_test,y_train,y_test=train_test_split(X,y,test_size=0.25,random_state=3)"
   ]
  },
  {
   "cell_type": "code",
   "execution_count": 32,
   "id": "2dbee40b",
   "metadata": {},
   "outputs": [],
   "source": [
    "# choosing best value of , based on test score"
   ]
  },
  {
   "cell_type": "code",
   "execution_count": 33,
   "id": "ab45dba9",
   "metadata": {},
   "outputs": [],
   "source": [
    "train_score=[]\n",
    "test_score=[]\n",
    "k_values=[]"
   ]
  },
  {
   "cell_type": "code",
   "execution_count": 35,
   "id": "8f874d95",
   "metadata": {},
   "outputs": [],
   "source": [
    "for k in range(1,21):\n",
    "    k_values.append(k)\n",
    "    knn=KNeighborsClassifier(n_neighbors=k)\n",
    "    knn.fit(X_train,y_train)\n",
    "    train_score.append(knn.score(X_train,y_train))\n",
    "    test_score.append(knn.score(X_test,y_test))"
   ]
  },
  {
   "cell_type": "code",
   "execution_count": 36,
   "id": "a1d491d7",
   "metadata": {},
   "outputs": [
    {
     "data": {
      "text/plain": [
       "0.6911764705882353"
      ]
     },
     "execution_count": 36,
     "metadata": {},
     "output_type": "execute_result"
    }
   ],
   "source": [
    "max_test_score=max(test_score)\n",
    "max_test_score"
   ]
  },
  {
   "cell_type": "code",
   "execution_count": 41,
   "id": "95b8498c",
   "metadata": {},
   "outputs": [],
   "source": [
    "df2=pd.DataFrame({'k_values':k_values,'test_score':test_score})"
   ]
  },
  {
   "cell_type": "raw",
   "id": "66739660",
   "metadata": {},
   "source": [
    "TypeError: Index(...) must be called with a collection of some kind, False was passed"
   ]
  },
  {
   "cell_type": "code",
   "execution_count": 39,
   "id": "78c3104b",
   "metadata": {},
   "outputs": [
    {
     "data": {
      "text/html": [
       "<div>\n",
       "<style scoped>\n",
       "    .dataframe tbody tr th:only-of-type {\n",
       "        vertical-align: middle;\n",
       "    }\n",
       "\n",
       "    .dataframe tbody tr th {\n",
       "        vertical-align: top;\n",
       "    }\n",
       "\n",
       "    .dataframe thead th {\n",
       "        text-align: right;\n",
       "    }\n",
       "</style>\n",
       "<table border=\"1\" class=\"dataframe\">\n",
       "  <thead>\n",
       "    <tr style=\"text-align: right;\">\n",
       "      <th></th>\n",
       "      <th>k_values</th>\n",
       "      <th>test_score</th>\n",
       "    </tr>\n",
       "  </thead>\n",
       "  <tbody>\n",
       "    <tr>\n",
       "      <th>0</th>\n",
       "      <td>1</td>\n",
       "      <td>0.573529</td>\n",
       "    </tr>\n",
       "    <tr>\n",
       "      <th>1</th>\n",
       "      <td>2</td>\n",
       "      <td>0.676471</td>\n",
       "    </tr>\n",
       "    <tr>\n",
       "      <th>2</th>\n",
       "      <td>3</td>\n",
       "      <td>0.632353</td>\n",
       "    </tr>\n",
       "    <tr>\n",
       "      <th>3</th>\n",
       "      <td>4</td>\n",
       "      <td>0.691176</td>\n",
       "    </tr>\n",
       "    <tr>\n",
       "      <th>4</th>\n",
       "      <td>5</td>\n",
       "      <td>0.602941</td>\n",
       "    </tr>\n",
       "    <tr>\n",
       "      <th>5</th>\n",
       "      <td>6</td>\n",
       "      <td>0.632353</td>\n",
       "    </tr>\n",
       "    <tr>\n",
       "      <th>6</th>\n",
       "      <td>7</td>\n",
       "      <td>0.573529</td>\n",
       "    </tr>\n",
       "    <tr>\n",
       "      <th>7</th>\n",
       "      <td>8</td>\n",
       "      <td>0.602941</td>\n",
       "    </tr>\n",
       "    <tr>\n",
       "      <th>8</th>\n",
       "      <td>9</td>\n",
       "      <td>0.573529</td>\n",
       "    </tr>\n",
       "    <tr>\n",
       "      <th>9</th>\n",
       "      <td>10</td>\n",
       "      <td>0.544118</td>\n",
       "    </tr>\n",
       "    <tr>\n",
       "      <th>10</th>\n",
       "      <td>11</td>\n",
       "      <td>0.544118</td>\n",
       "    </tr>\n",
       "    <tr>\n",
       "      <th>11</th>\n",
       "      <td>12</td>\n",
       "      <td>0.602941</td>\n",
       "    </tr>\n",
       "    <tr>\n",
       "      <th>12</th>\n",
       "      <td>13</td>\n",
       "      <td>0.617647</td>\n",
       "    </tr>\n",
       "    <tr>\n",
       "      <th>13</th>\n",
       "      <td>14</td>\n",
       "      <td>0.617647</td>\n",
       "    </tr>\n",
       "    <tr>\n",
       "      <th>14</th>\n",
       "      <td>15</td>\n",
       "      <td>0.558824</td>\n",
       "    </tr>\n",
       "    <tr>\n",
       "      <th>15</th>\n",
       "      <td>16</td>\n",
       "      <td>0.617647</td>\n",
       "    </tr>\n",
       "    <tr>\n",
       "      <th>16</th>\n",
       "      <td>17</td>\n",
       "      <td>0.544118</td>\n",
       "    </tr>\n",
       "    <tr>\n",
       "      <th>17</th>\n",
       "      <td>18</td>\n",
       "      <td>0.573529</td>\n",
       "    </tr>\n",
       "    <tr>\n",
       "      <th>18</th>\n",
       "      <td>19</td>\n",
       "      <td>0.588235</td>\n",
       "    </tr>\n",
       "    <tr>\n",
       "      <th>19</th>\n",
       "      <td>20</td>\n",
       "      <td>0.602941</td>\n",
       "    </tr>\n",
       "  </tbody>\n",
       "</table>\n",
       "</div>"
      ],
      "text/plain": [
       "    k_values  test_score\n",
       "0          1    0.573529\n",
       "1          2    0.676471\n",
       "2          3    0.632353\n",
       "3          4    0.691176\n",
       "4          5    0.602941\n",
       "5          6    0.632353\n",
       "6          7    0.573529\n",
       "7          8    0.602941\n",
       "8          9    0.573529\n",
       "9         10    0.544118\n",
       "10        11    0.544118\n",
       "11        12    0.602941\n",
       "12        13    0.617647\n",
       "13        14    0.617647\n",
       "14        15    0.558824\n",
       "15        16    0.617647\n",
       "16        17    0.544118\n",
       "17        18    0.573529\n",
       "18        19    0.588235\n",
       "19        20    0.602941"
      ]
     },
     "execution_count": 39,
     "metadata": {},
     "output_type": "execute_result"
    }
   ],
   "source": [
    "df2"
   ]
  },
  {
   "cell_type": "code",
   "execution_count": 42,
   "id": "175c2690",
   "metadata": {},
   "outputs": [],
   "source": [
    "from sklearn.metrics import f1_score"
   ]
  },
  {
   "cell_type": "markdown",
   "id": "6f8b5d11",
   "metadata": {},
   "source": [
    "    f1_score(y_test,y_pred)\n",
    "\n",
    "    f1_score, also known as balanced F-score or F-measure.\n",
    "\n",
    "    The F1 score can be interpreted as a weighted average of the precision and\n",
    "    recall, where an F1 score reaches its best value at 1 and worst score at 0.\n",
    "    The relative contribution of precision and recall to the F1 score are\n",
    "    equal. The formula for the F1 score is::\n",
    "\n",
    "    F1 = 2 * (precision * recall) / (precision + recall)"
   ]
  },
  {
   "cell_type": "markdown",
   "id": "e715e5c7",
   "metadata": {},
   "source": [
    "#### When and why do we need f1-score?"
   ]
  },
  {
   "cell_type": "markdown",
   "id": "981bd0f2",
   "metadata": {},
   "source": [
    "    When precision and recall both are equally important for us.\n",
    "    since f1-score is the harmonic mean of precisin and recall\n",
    "    \n",
    "    High recall=high TPR\n",
    "    HIGH Precision= high..??"
   ]
  }
 ],
 "metadata": {
  "kernelspec": {
   "display_name": "Python 3 (ipykernel)",
   "language": "python",
   "name": "python3"
  },
  "language_info": {
   "codemirror_mode": {
    "name": "ipython",
    "version": 3
   },
   "file_extension": ".py",
   "mimetype": "text/x-python",
   "name": "python",
   "nbconvert_exporter": "python",
   "pygments_lexer": "ipython3",
   "version": "3.9.7"
  }
 },
 "nbformat": 4,
 "nbformat_minor": 5
}

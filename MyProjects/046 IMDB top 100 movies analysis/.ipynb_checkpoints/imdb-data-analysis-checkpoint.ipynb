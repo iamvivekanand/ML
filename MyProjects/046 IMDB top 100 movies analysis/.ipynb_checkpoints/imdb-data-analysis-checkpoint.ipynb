{
 "cells": [
  {
   "cell_type": "code",
   "execution_count": 1,
   "metadata": {
    "execution": {
     "iopub.execute_input": "2023-01-31T17:00:17.857303Z",
     "iopub.status.busy": "2023-01-31T17:00:17.856908Z",
     "iopub.status.idle": "2023-01-31T17:00:20.257193Z",
     "shell.execute_reply": "2023-01-31T17:00:20.256256Z",
     "shell.execute_reply.started": "2023-01-31T17:00:17.857272Z"
    }
   },
   "outputs": [],
   "source": [
    "# basic libraries\n",
    "import numpy as np\n",
    "import pandas as pd\n",
    "import seaborn as sns\n",
    "import matplotlib.pyplot as plt\n",
    "import plotly.express as px\n",
    "import plotly.graph_objects as go\n",
    "import warnings\n",
    "import nltk\n",
    "from nltk.corpus import stopwords\n",
    "from wordcloud import WordCloud"
   ]
  },
  {
   "cell_type": "code",
   "execution_count": 2,
   "metadata": {
    "execution": {
     "iopub.execute_input": "2023-01-31T17:00:20.259391Z",
     "iopub.status.busy": "2023-01-31T17:00:20.258729Z",
     "iopub.status.idle": "2023-01-31T17:00:20.263507Z",
     "shell.execute_reply": "2023-01-31T17:00:20.262327Z",
     "shell.execute_reply.started": "2023-01-31T17:00:20.259335Z"
    }
   },
   "outputs": [],
   "source": [
    "# avoiding warnings display\n",
    "warnings.filterwarnings('ignore')"
   ]
  },
  {
   "cell_type": "code",
   "execution_count": 3,
   "metadata": {
    "execution": {
     "iopub.execute_input": "2023-01-31T17:00:20.265396Z",
     "iopub.status.busy": "2023-01-31T17:00:20.264936Z",
     "iopub.status.idle": "2023-01-31T17:00:20.312021Z",
     "shell.execute_reply": "2023-01-31T17:00:20.310764Z",
     "shell.execute_reply.started": "2023-01-31T17:00:20.265361Z"
    }
   },
   "outputs": [
    {
     "data": {
      "text/html": [
       "<div>\n",
       "<style scoped>\n",
       "    .dataframe tbody tr th:only-of-type {\n",
       "        vertical-align: middle;\n",
       "    }\n",
       "\n",
       "    .dataframe tbody tr th {\n",
       "        vertical-align: top;\n",
       "    }\n",
       "\n",
       "    .dataframe thead th {\n",
       "        text-align: right;\n",
       "    }\n",
       "</style>\n",
       "<table border=\"1\" class=\"dataframe\">\n",
       "  <thead>\n",
       "    <tr style=\"text-align: right;\">\n",
       "      <th></th>\n",
       "      <th>index</th>\n",
       "      <th>movie_name</th>\n",
       "      <th>year_of_release</th>\n",
       "      <th>category</th>\n",
       "      <th>run_time</th>\n",
       "      <th>genre</th>\n",
       "      <th>imdb_rating</th>\n",
       "      <th>votes</th>\n",
       "      <th>gross_total</th>\n",
       "    </tr>\n",
       "  </thead>\n",
       "  <tbody>\n",
       "    <tr>\n",
       "      <th>0</th>\n",
       "      <td>1.0</td>\n",
       "      <td>The Godfather</td>\n",
       "      <td>(1972)</td>\n",
       "      <td>R</td>\n",
       "      <td>175 min</td>\n",
       "      <td>Crime, Drama</td>\n",
       "      <td>9.2</td>\n",
       "      <td>1,860,471</td>\n",
       "      <td>$134.97M</td>\n",
       "    </tr>\n",
       "    <tr>\n",
       "      <th>1</th>\n",
       "      <td>2.0</td>\n",
       "      <td>The Silence of the Lambs</td>\n",
       "      <td>(1991)</td>\n",
       "      <td>R</td>\n",
       "      <td>118 min</td>\n",
       "      <td>Crime, Drama, Thriller</td>\n",
       "      <td>8.6</td>\n",
       "      <td>1,435,344</td>\n",
       "      <td>$130.74M</td>\n",
       "    </tr>\n",
       "    <tr>\n",
       "      <th>2</th>\n",
       "      <td>3.0</td>\n",
       "      <td>Star Wars: Episode V - The Empire Strikes Back</td>\n",
       "      <td>(1980)</td>\n",
       "      <td>PG</td>\n",
       "      <td>124 min</td>\n",
       "      <td>Action, Adventure, Fantasy</td>\n",
       "      <td>8.7</td>\n",
       "      <td>1,294,805</td>\n",
       "      <td>$290.48M</td>\n",
       "    </tr>\n",
       "    <tr>\n",
       "      <th>3</th>\n",
       "      <td>4.0</td>\n",
       "      <td>The Shawshank Redemption</td>\n",
       "      <td>(1994)</td>\n",
       "      <td>R</td>\n",
       "      <td>142 min</td>\n",
       "      <td>Drama</td>\n",
       "      <td>9.3</td>\n",
       "      <td>2,683,302</td>\n",
       "      <td>$28.34M</td>\n",
       "    </tr>\n",
       "    <tr>\n",
       "      <th>4</th>\n",
       "      <td>5.0</td>\n",
       "      <td>The Shining</td>\n",
       "      <td>(1980)</td>\n",
       "      <td>R</td>\n",
       "      <td>146 min</td>\n",
       "      <td>Drama, Horror</td>\n",
       "      <td>8.4</td>\n",
       "      <td>1,025,560</td>\n",
       "      <td>$44.02M</td>\n",
       "    </tr>\n",
       "  </tbody>\n",
       "</table>\n",
       "</div>"
      ],
      "text/plain": [
       "   index                                      movie_name year_of_release  \\\n",
       "0    1.0                                   The Godfather          (1972)   \n",
       "1    2.0                        The Silence of the Lambs          (1991)   \n",
       "2    3.0  Star Wars: Episode V - The Empire Strikes Back          (1980)   \n",
       "3    4.0                        The Shawshank Redemption          (1994)   \n",
       "4    5.0                                     The Shining          (1980)   \n",
       "\n",
       "  category run_time                       genre  imdb_rating      votes  \\\n",
       "0        R  175 min                Crime, Drama          9.2  1,860,471   \n",
       "1        R  118 min      Crime, Drama, Thriller          8.6  1,435,344   \n",
       "2       PG  124 min  Action, Adventure, Fantasy          8.7  1,294,805   \n",
       "3        R  142 min                       Drama          9.3  2,683,302   \n",
       "4        R  146 min               Drama, Horror          8.4  1,025,560   \n",
       "\n",
       "  gross_total  \n",
       "0    $134.97M  \n",
       "1    $130.74M  \n",
       "2    $290.48M  \n",
       "3     $28.34M  \n",
       "4     $44.02M  "
      ]
     },
     "execution_count": 3,
     "metadata": {},
     "output_type": "execute_result"
    }
   ],
   "source": [
    "# loading dataset\n",
    "data=pd.read_csv('movies.csv')\n",
    "df=data.copy()\n",
    "df.head()"
   ]
  },
  {
   "cell_type": "code",
   "execution_count": 4,
   "metadata": {
    "execution": {
     "iopub.execute_input": "2023-01-31T17:00:20.315130Z",
     "iopub.status.busy": "2023-01-31T17:00:20.314773Z",
     "iopub.status.idle": "2023-01-31T17:00:20.327635Z",
     "shell.execute_reply": "2023-01-31T17:00:20.326453Z",
     "shell.execute_reply.started": "2023-01-31T17:00:20.315099Z"
    }
   },
   "outputs": [],
   "source": [
    "df.drop('index',axis=1,inplace=True)"
   ]
  },
  {
   "cell_type": "code",
   "execution_count": 5,
   "metadata": {
    "execution": {
     "iopub.execute_input": "2023-01-31T17:00:20.329471Z",
     "iopub.status.busy": "2023-01-31T17:00:20.329001Z",
     "iopub.status.idle": "2023-01-31T17:00:20.356073Z",
     "shell.execute_reply": "2023-01-31T17:00:20.354593Z",
     "shell.execute_reply.started": "2023-01-31T17:00:20.329436Z"
    }
   },
   "outputs": [
    {
     "name": "stdout",
     "output_type": "stream",
     "text": [
      "<class 'pandas.core.frame.DataFrame'>\n",
      "RangeIndex: 99 entries, 0 to 98\n",
      "Data columns (total 8 columns):\n",
      " #   Column           Non-Null Count  Dtype  \n",
      "---  ------           --------------  -----  \n",
      " 0   movie_name       99 non-null     object \n",
      " 1   year_of_release  99 non-null     object \n",
      " 2   category         99 non-null     object \n",
      " 3   run_time         99 non-null     object \n",
      " 4   genre            99 non-null     object \n",
      " 5   imdb_rating      99 non-null     float64\n",
      " 6   votes            99 non-null     object \n",
      " 7   gross_total      98 non-null     object \n",
      "dtypes: float64(1), object(7)\n",
      "memory usage: 6.3+ KB\n"
     ]
    }
   ],
   "source": [
    "df.info()"
   ]
  },
  {
   "cell_type": "markdown",
   "metadata": {},
   "source": [
    "**This is a very small dataset, comprised of details of 99 movies, it has 8 columns and 99 rows**"
   ]
  },
  {
   "cell_type": "code",
   "execution_count": 6,
   "metadata": {
    "execution": {
     "iopub.execute_input": "2023-01-31T17:00:20.358286Z",
     "iopub.status.busy": "2023-01-31T17:00:20.357817Z",
     "iopub.status.idle": "2023-01-31T17:00:20.369013Z",
     "shell.execute_reply": "2023-01-31T17:00:20.367696Z",
     "shell.execute_reply.started": "2023-01-31T17:00:20.358241Z"
    }
   },
   "outputs": [
    {
     "data": {
      "text/plain": [
       "(99, 8)"
      ]
     },
     "execution_count": 6,
     "metadata": {},
     "output_type": "execute_result"
    }
   ],
   "source": [
    "df.shape"
   ]
  },
  {
   "cell_type": "code",
   "execution_count": 7,
   "metadata": {
    "execution": {
     "iopub.execute_input": "2023-01-31T17:00:20.371074Z",
     "iopub.status.busy": "2023-01-31T17:00:20.370720Z",
     "iopub.status.idle": "2023-01-31T17:00:20.382384Z",
     "shell.execute_reply": "2023-01-31T17:00:20.381132Z",
     "shell.execute_reply.started": "2023-01-31T17:00:20.371042Z"
    }
   },
   "outputs": [
    {
     "data": {
      "text/plain": [
       "movie_name         0\n",
       "year_of_release    0\n",
       "category           0\n",
       "run_time           0\n",
       "genre              0\n",
       "imdb_rating        0\n",
       "votes              0\n",
       "gross_total        1\n",
       "dtype: int64"
      ]
     },
     "execution_count": 7,
     "metadata": {},
     "output_type": "execute_result"
    }
   ],
   "source": [
    "df.isnull().sum()"
   ]
  },
  {
   "cell_type": "markdown",
   "metadata": {},
   "source": [
    "> Only one missing value in gross total"
   ]
  },
  {
   "cell_type": "code",
   "execution_count": 8,
   "metadata": {
    "execution": {
     "iopub.execute_input": "2023-01-31T17:00:20.384789Z",
     "iopub.status.busy": "2023-01-31T17:00:20.384170Z",
     "iopub.status.idle": "2023-01-31T17:00:20.393989Z",
     "shell.execute_reply": "2023-01-31T17:00:20.392802Z",
     "shell.execute_reply.started": "2023-01-31T17:00:20.384755Z"
    }
   },
   "outputs": [],
   "source": [
    "df.dropna(inplace=True)"
   ]
  },
  {
   "cell_type": "code",
   "execution_count": 9,
   "metadata": {
    "execution": {
     "iopub.execute_input": "2023-01-31T17:00:20.396300Z",
     "iopub.status.busy": "2023-01-31T17:00:20.395366Z",
     "iopub.status.idle": "2023-01-31T17:00:20.409856Z",
     "shell.execute_reply": "2023-01-31T17:00:20.408313Z",
     "shell.execute_reply.started": "2023-01-31T17:00:20.396261Z"
    }
   },
   "outputs": [
    {
     "data": {
      "text/plain": [
       "movie_name         0\n",
       "year_of_release    0\n",
       "category           0\n",
       "run_time           0\n",
       "genre              0\n",
       "imdb_rating        0\n",
       "votes              0\n",
       "gross_total        0\n",
       "dtype: int64"
      ]
     },
     "execution_count": 9,
     "metadata": {},
     "output_type": "execute_result"
    }
   ],
   "source": [
    "df.isnull().sum()"
   ]
  },
  {
   "cell_type": "code",
   "execution_count": 10,
   "metadata": {
    "execution": {
     "iopub.execute_input": "2023-01-31T17:00:20.415329Z",
     "iopub.status.busy": "2023-01-31T17:00:20.414734Z",
     "iopub.status.idle": "2023-01-31T17:00:20.427955Z",
     "shell.execute_reply": "2023-01-31T17:00:20.426186Z",
     "shell.execute_reply.started": "2023-01-31T17:00:20.415293Z"
    }
   },
   "outputs": [
    {
     "data": {
      "text/plain": [
       "False"
      ]
     },
     "execution_count": 10,
     "metadata": {},
     "output_type": "execute_result"
    }
   ],
   "source": [
    "# checking for duplicated row\n",
    "df.duplicated().any()"
   ]
  },
  {
   "cell_type": "markdown",
   "metadata": {},
   "source": [
    "**There is no duplicate row**"
   ]
  },
  {
   "cell_type": "markdown",
   "metadata": {},
   "source": [
    "### Visualisation of categories"
   ]
  },
  {
   "cell_type": "code",
   "execution_count": 18,
   "metadata": {
    "execution": {
     "iopub.execute_input": "2023-01-31T17:00:20.430140Z",
     "iopub.status.busy": "2023-01-31T17:00:20.429627Z",
     "iopub.status.idle": "2023-01-31T17:00:20.839545Z",
     "shell.execute_reply": "2023-01-31T17:00:20.838408Z",
     "shell.execute_reply.started": "2023-01-31T17:00:20.430092Z"
    }
   },
   "outputs": [
    {
     "data": {
      "image/png": "[encoded data removed]",
      "text/plain": [
       "<Figure size 500x400 with 1 Axes>"
      ]
     },
     "metadata": {},
     "output_type": "display_data"
    }
   ],
   "source": [
    "category=df['category'].value_counts(ascending=False)\n",
    "name=category.index\n",
    "count=category.values\n",
    "\n",
    "# pie plot for this\n",
    "plt.figure(figsize=(5,4))\n",
    "sns.barplot(data=category,x=name,y=count)\n",
    "plt.title('Category wise Distribution',fontdict={'family':'times new roman','size':20,'color':'red'})\n",
    "plt.xlabel('Category',fontdict={'family':'times new roman','size':20,'color':'blue'})\n",
    "plt.ylabel('Count',fontdict={'family':'times new roman','size':20,'color':'blue'})\n",
    "plt.show()"
   ]
  },
  {
   "cell_type": "code",
   "execution_count": 17,
   "metadata": {
    "execution": {
     "iopub.execute_input": "2023-01-31T17:00:21.001182Z",
     "iopub.status.busy": "2023-01-31T17:00:21.000420Z",
     "iopub.status.idle": "2023-01-31T17:00:21.162112Z",
     "shell.execute_reply": "2023-01-31T17:00:21.160764Z",
     "shell.execute_reply.started": "2023-01-31T17:00:21.001134Z"
    }
   },
   "outputs": [
    {
     "data": {
      "text/plain": [
       "<AxesSubplot: xlabel='category', ylabel='Count'>"
      ]
     },
     "execution_count": 17,
     "metadata": {},
     "output_type": "execute_result"
    },
    {
     "data": {
      "image/png": "[encoded data removed]",
      "text/plain": [
       "<Figure size 640x480 with 1 Axes>"
      ]
     },
     "metadata": {},
     "output_type": "display_data"
    }
   ],
   "source": [
    "sns.histplot(df['category'])"
   ]
  },
  {
   "cell_type": "markdown",
   "metadata": {},
   "source": [
    "### Year "
   ]
  },
  {
   "cell_type": "code",
   "execution_count": null,
   "metadata": {
    "execution": {
     "iopub.execute_input": "2023-01-31T17:00:21.164631Z",
     "iopub.status.busy": "2023-01-31T17:00:21.164136Z",
     "iopub.status.idle": "2023-01-31T17:00:21.172836Z",
     "shell.execute_reply": "2023-01-31T17:00:21.171340Z",
     "shell.execute_reply.started": "2023-01-31T17:00:21.164582Z"
    }
   },
   "outputs": [],
   "source": [
    "year=df['year_of_release'].value_counts(ascending=False).head(10)\n",
    "name=year.index\n",
    "count=year.values"
   ]
  },
  {
   "cell_type": "code",
   "execution_count": null,
   "metadata": {
    "execution": {
     "iopub.execute_input": "2023-01-31T17:00:21.175660Z",
     "iopub.status.busy": "2023-01-31T17:00:21.175077Z",
     "iopub.status.idle": "2023-01-31T17:00:21.384216Z",
     "shell.execute_reply": "2023-01-31T17:00:21.382919Z",
     "shell.execute_reply.started": "2023-01-31T17:00:21.175609Z"
    }
   },
   "outputs": [],
   "source": [
    "# Years with maximum release of movies\n",
    "plt.figure(figsize=(12,5))\n",
    "sns.barplot(name,count,palette='coolwarm')\n",
    "plt.title('Top 10 years having most no of hit movies ',fontdict={'family':'times new roman','size':20,'color':'blue'})\n",
    "plt.xlabel('Year',fontdict={'family':'times new roman','size':20,'color':'magenta'})\n",
    "plt.xticks(rotation=90)\n",
    "plt.ylabel('No of movies released',fontdict={'family':'times new roman','size':20,'color':'magenta'})\n",
    "plt.show()"
   ]
  },
  {
   "cell_type": "markdown",
   "metadata": {},
   "source": [
    "**Year 1995,1994,1999 had most number of hit movies**"
   ]
  },
  {
   "cell_type": "code",
   "execution_count": null,
   "metadata": {
    "execution": {
     "iopub.execute_input": "2023-01-31T17:00:21.386698Z",
     "iopub.status.busy": "2023-01-31T17:00:21.386193Z",
     "iopub.status.idle": "2023-01-31T17:00:22.101319Z",
     "shell.execute_reply": "2023-01-31T17:00:22.100127Z",
     "shell.execute_reply.started": "2023-01-31T17:00:21.386632Z"
    }
   },
   "outputs": [],
   "source": [
    "# Get distribution of all records of Year_of_release\n",
    "plt.figure(figsize=(15,6))\n",
    "sns.countplot(df['year_of_release'])\n",
    "plt.xticks(rotation=90)\n",
    "plt.show()"
   ]
  },
  {
   "cell_type": "markdown",
   "metadata": {},
   "source": [
    "### Runtime"
   ]
  },
  {
   "cell_type": "code",
   "execution_count": null,
   "metadata": {
    "execution": {
     "iopub.execute_input": "2023-01-31T17:00:22.103391Z",
     "iopub.status.busy": "2023-01-31T17:00:22.102797Z",
     "iopub.status.idle": "2023-01-31T17:00:22.113854Z",
     "shell.execute_reply": "2023-01-31T17:00:22.112494Z",
     "shell.execute_reply.started": "2023-01-31T17:00:22.103358Z"
    }
   },
   "outputs": [],
   "source": [
    "runtime=df['run_time'].value_counts(ascending=False).head(10)\n",
    "name=runtime.index\n",
    "count=runtime.values\n",
    "runtime"
   ]
  },
  {
   "cell_type": "code",
   "execution_count": null,
   "metadata": {
    "execution": {
     "iopub.execute_input": "2023-01-31T17:00:22.115772Z",
     "iopub.status.busy": "2023-01-31T17:00:22.115380Z",
     "iopub.status.idle": "2023-01-31T17:00:22.271843Z",
     "shell.execute_reply": "2023-01-31T17:00:22.270693Z",
     "shell.execute_reply.started": "2023-01-31T17:00:22.115732Z"
    }
   },
   "outputs": [],
   "source": [
    "plt.figure(figsize=(7,7))\n",
    "plt.pie(count,labels=name,rotatelabels=90)\n",
    "cc=plt.Circle((0,0),0.5,color='white')\n",
    "fig=plt.gcf()\n",
    "fig.gca().add_artist(cc)\n",
    "plt.title(\"Runtime Distribution\",loc='right',fontdict={'family':'times new roman','size':20,'color':'blue'})\n",
    "plt.show()"
   ]
  },
  {
   "cell_type": "code",
   "execution_count": null,
   "metadata": {
    "execution": {
     "iopub.execute_input": "2023-01-31T17:00:22.274419Z",
     "iopub.status.busy": "2023-01-31T17:00:22.273644Z",
     "iopub.status.idle": "2023-01-31T17:00:22.487075Z",
     "shell.execute_reply": "2023-01-31T17:00:22.485759Z",
     "shell.execute_reply.started": "2023-01-31T17:00:22.274372Z"
    }
   },
   "outputs": [],
   "source": [
    "plt.figure(figsize=(12,5))\n",
    "sns.barplot(name,count,palette='coolwarm')\n",
    "plt.title('Run Time vs No of Release ',fontdict={'family':'times new roman','size':20,'color':'blue'})\n",
    "plt.xlabel('Runtime',fontdict={'family':'times new roman','size':20,'color':'magenta'})\n",
    "plt.xticks(rotation=90)\n",
    "plt.ylabel('No of movies released',fontdict={'family':'times new roman','size':20,'color':'magenta'})\n",
    "plt.show()"
   ]
  },
  {
   "cell_type": "code",
   "execution_count": null,
   "metadata": {
    "execution": {
     "iopub.execute_input": "2023-01-31T17:00:22.489111Z",
     "iopub.status.busy": "2023-01-31T17:00:22.488628Z",
     "iopub.status.idle": "2023-01-31T17:00:23.410084Z",
     "shell.execute_reply": "2023-01-31T17:00:23.408727Z",
     "shell.execute_reply.started": "2023-01-31T17:00:22.489068Z"
    }
   },
   "outputs": [],
   "source": [
    "# countplot will give u better distribution of all records of run time\n",
    "plt.figure(figsize=(15,5))\n",
    "sns.countplot(df['run_time'])\n",
    "plt.xticks(rotation=90)\n",
    "plt.show()"
   ]
  },
  {
   "cell_type": "markdown",
   "metadata": {},
   "source": []
  },
  {
   "cell_type": "code",
   "execution_count": null,
   "metadata": {
    "execution": {
     "iopub.execute_input": "2023-01-31T17:00:23.413213Z",
     "iopub.status.busy": "2023-01-31T17:00:23.412055Z",
     "iopub.status.idle": "2023-01-31T17:00:23.423255Z",
     "shell.execute_reply": "2023-01-31T17:00:23.422181Z",
     "shell.execute_reply.started": "2023-01-31T17:00:23.413169Z"
    }
   },
   "outputs": [],
   "source": [
    "### Movies with higest Run Time\n",
    "\n",
    "df['run_time']=df['run_time'].str.replace(\"min\",\"\")\n",
    "df = df.astype({'run_time':int})\n",
    "print(df.dtypes)"
   ]
  },
  {
   "cell_type": "code",
   "execution_count": null,
   "metadata": {
    "execution": {
     "iopub.execute_input": "2023-01-31T17:00:23.425977Z",
     "iopub.status.busy": "2023-01-31T17:00:23.424655Z",
     "iopub.status.idle": "2023-01-31T17:00:23.443476Z",
     "shell.execute_reply": "2023-01-31T17:00:23.442263Z",
     "shell.execute_reply.started": "2023-01-31T17:00:23.425935Z"
    }
   },
   "outputs": [],
   "source": [
    "higest_runtime_movie=df.sort_values(by='run_time',ascending=False).head(10)[['movie_name','run_time']]\n",
    "higest_runtime_movie"
   ]
  },
  {
   "cell_type": "code",
   "execution_count": null,
   "metadata": {
    "execution": {
     "iopub.execute_input": "2023-01-31T17:00:23.448632Z",
     "iopub.status.busy": "2023-01-31T17:00:23.448257Z",
     "iopub.status.idle": "2023-01-31T17:00:23.701649Z",
     "shell.execute_reply": "2023-01-31T17:00:23.700505Z",
     "shell.execute_reply.started": "2023-01-31T17:00:23.448602Z"
    }
   },
   "outputs": [],
   "source": [
    "name=higest_runtime_movie['movie_name']\n",
    "value=higest_runtime_movie['run_time']\n",
    "\n",
    "plt.figure(figsize=(12,5))\n",
    "sns.barplot(name,value,palette='coolwarm')\n",
    "plt.title('Top 10 movies with highest runtime ',fontdict={'family':'times new roman','size':20,'color':'blue'})\n",
    "plt.xlabel('Movie Name',fontdict={'family':'times new roman','size':20,'color':'magenta'})\n",
    "plt.xticks(rotation=80)\n",
    "plt.ylabel('Runtime(min)',fontdict={'family':'times new roman','size':20,'color':'magenta'})\n",
    "plt.show()"
   ]
  },
  {
   "cell_type": "code",
   "execution_count": null,
   "metadata": {
    "execution": {
     "iopub.execute_input": "2023-01-31T17:00:23.703481Z",
     "iopub.status.busy": "2023-01-31T17:00:23.703116Z",
     "iopub.status.idle": "2023-01-31T17:00:23.969166Z",
     "shell.execute_reply": "2023-01-31T17:00:23.968244Z",
     "shell.execute_reply.started": "2023-01-31T17:00:23.703448Z"
    }
   },
   "outputs": [],
   "source": [
    "sns.lineplot(name,value,palette='coolwarm')\n",
    "plt.xticks(rotation=90)\n",
    "plt.show()"
   ]
  },
  {
   "cell_type": "markdown",
   "metadata": {},
   "source": [
    "### Genre"
   ]
  },
  {
   "cell_type": "code",
   "execution_count": null,
   "metadata": {
    "execution": {
     "iopub.execute_input": "2023-01-31T17:00:23.971522Z",
     "iopub.status.busy": "2023-01-31T17:00:23.970798Z",
     "iopub.status.idle": "2023-01-31T17:00:23.981818Z",
     "shell.execute_reply": "2023-01-31T17:00:23.980707Z",
     "shell.execute_reply.started": "2023-01-31T17:00:23.971483Z"
    }
   },
   "outputs": [],
   "source": [
    "# top 10 Genre\n",
    "genre=df['genre'].value_counts(ascending=False).head(10)\n",
    "name=genre.index\n",
    "count=genre.values\n",
    "genre"
   ]
  },
  {
   "cell_type": "code",
   "execution_count": null,
   "metadata": {
    "execution": {
     "iopub.execute_input": "2023-01-31T17:00:23.983839Z",
     "iopub.status.busy": "2023-01-31T17:00:23.983359Z",
     "iopub.status.idle": "2023-01-31T17:00:24.241620Z",
     "shell.execute_reply": "2023-01-31T17:00:24.240405Z",
     "shell.execute_reply.started": "2023-01-31T17:00:23.983778Z"
    }
   },
   "outputs": [],
   "source": [
    "plt.figure(figsize=(7,7))\n",
    "plt.pie(count,labels=name,rotatelabels=40,autopct='%1.2f')\n",
    "cc=plt.Circle((0,0),0.5,color='white')\n",
    "fig=plt.gcf()\n",
    "fig.gca().add_artist(cc)\n",
    "plt.title(\"Top 10 Genre\",loc='right',fontdict={'family':'times new roman','size':20,'color':'blue'})\n",
    "# plt.xticks(rotation=45)\n",
    "plt.show()"
   ]
  },
  {
   "cell_type": "code",
   "execution_count": null,
   "metadata": {
    "execution": {
     "iopub.execute_input": "2023-01-31T17:00:24.243562Z",
     "iopub.status.busy": "2023-01-31T17:00:24.243055Z",
     "iopub.status.idle": "2023-01-31T17:00:24.261030Z",
     "shell.execute_reply": "2023-01-31T17:00:24.259716Z",
     "shell.execute_reply.started": "2023-01-31T17:00:24.243517Z"
    }
   },
   "outputs": [],
   "source": [
    "# which Genre has the higest rating\n",
    "\n",
    "genre_rating=df[['genre','imdb_rating']]\n",
    "genre_rating=genre_rating.sort_values(by='imdb_rating',ascending=False).head(15)\n",
    "genre_rating"
   ]
  },
  {
   "cell_type": "markdown",
   "metadata": {},
   "source": [
    "> From above data We can see that most of highly rated movies falls into 'Drama' or 'Crime' followed by action or adventure"
   ]
  },
  {
   "cell_type": "code",
   "execution_count": null,
   "metadata": {
    "execution": {
     "iopub.execute_input": "2023-01-31T17:00:24.263326Z",
     "iopub.status.busy": "2023-01-31T17:00:24.262845Z",
     "iopub.status.idle": "2023-01-31T17:00:24.633831Z",
     "shell.execute_reply": "2023-01-31T17:00:24.632479Z",
     "shell.execute_reply.started": "2023-01-31T17:00:24.263280Z"
    }
   },
   "outputs": [],
   "source": [
    "name=genre_rating['genre']\n",
    "value=genre_rating['imdb_rating']\n",
    "\n",
    "plt.figure(figsize=(12,5))\n",
    "sns.barplot(name,value,palette='coolwarm')\n",
    "plt.title('Top Genres by rating',fontdict={'family':'times new roman','size':20,'color':'blue'})\n",
    "plt.xlabel('Genre',fontdict={'family':'times new roman','size':20,'color':'magenta'})\n",
    "plt.xticks(rotation=80)\n",
    "plt.ylabel('Ratings',fontdict={'family':'times new roman','size':20,'color':'magenta'})\n",
    "plt.show()"
   ]
  },
  {
   "cell_type": "code",
   "execution_count": null,
   "metadata": {
    "execution": {
     "iopub.execute_input": "2023-01-31T17:00:24.636127Z",
     "iopub.status.busy": "2023-01-31T17:00:24.635601Z",
     "iopub.status.idle": "2023-01-31T17:00:24.939953Z",
     "shell.execute_reply": "2023-01-31T17:00:24.938380Z",
     "shell.execute_reply.started": "2023-01-31T17:00:24.636090Z"
    }
   },
   "outputs": [],
   "source": [
    "plt.figure(figsize=(12,5))\n",
    "sns.scatterplot(name,value,palette='coolwarm')\n",
    "plt.xticks(rotation=80)\n",
    "plt.show()"
   ]
  },
  {
   "cell_type": "code",
   "execution_count": null,
   "metadata": {
    "execution": {
     "iopub.execute_input": "2023-01-31T17:00:24.942396Z",
     "iopub.status.busy": "2023-01-31T17:00:24.941859Z",
     "iopub.status.idle": "2023-01-31T17:00:24.968332Z",
     "shell.execute_reply": "2023-01-31T17:00:24.963210Z",
     "shell.execute_reply.started": "2023-01-31T17:00:24.942346Z"
    }
   },
   "outputs": [],
   "source": [
    "# higest rated movies\n",
    "\n",
    "top_movie_ratings=df[['movie_name','imdb_rating']].sort_values(by='imdb_rating',ascending=False).head(10)\n",
    "top_movie_ratings"
   ]
  },
  {
   "cell_type": "code",
   "execution_count": null,
   "metadata": {
    "execution": {
     "iopub.execute_input": "2023-01-31T17:00:24.972655Z",
     "iopub.status.busy": "2023-01-31T17:00:24.971469Z",
     "iopub.status.idle": "2023-01-31T17:00:25.283031Z",
     "shell.execute_reply": "2023-01-31T17:00:25.282149Z",
     "shell.execute_reply.started": "2023-01-31T17:00:24.972610Z"
    }
   },
   "outputs": [],
   "source": [
    "name=top_movie_ratings['movie_name']\n",
    "value=top_movie_ratings['imdb_rating']\n",
    "\n",
    "plt.figure(figsize=(12,5))\n",
    "sns.barplot(name,value,palette='viridis')\n",
    "plt.title('Top movies by ratings',fontdict={'family':'times new roman','size':20,'color':'blue'})\n",
    "plt.xlabel('Movie Name',fontdict={'family':'times new roman','size':20,'color':'magenta'})\n",
    "plt.xticks(rotation=80)\n",
    "plt.ylabel('Ratings',fontdict={'family':'times new roman','size':20,'color':'magenta'})\n",
    "plt.show()"
   ]
  },
  {
   "cell_type": "markdown",
   "metadata": {},
   "source": [
    "**The higest rated movie is 'the shawshank redemption' followed by 'The Godfather' etc**"
   ]
  },
  {
   "cell_type": "code",
   "execution_count": null,
   "metadata": {
    "execution": {
     "iopub.execute_input": "2023-01-31T17:00:25.285265Z",
     "iopub.status.busy": "2023-01-31T17:00:25.284570Z",
     "iopub.status.idle": "2023-01-31T17:00:25.562419Z",
     "shell.execute_reply": "2023-01-31T17:00:25.561423Z",
     "shell.execute_reply.started": "2023-01-31T17:00:25.285206Z"
    }
   },
   "outputs": [],
   "source": [
    "# scatter plot will give u better idea of rating differences\n",
    "\n",
    "plt.figure(figsize=(12,5))\n",
    "sns.scatterplot(name,value,palette='viridis')\n",
    "plt.title('Top movies by ratings',fontdict={'family':'times new roman','size':20,'color':'blue'})\n",
    "plt.xlabel('Movie Name',fontdict={'family':'times new roman','size':20,'color':'magenta'})\n",
    "plt.xticks(rotation=80)\n",
    "plt.ylabel('Ratings',fontdict={'family':'times new roman','size':20,'color':'magenta'})\n",
    "plt.show()"
   ]
  },
  {
   "cell_type": "code",
   "execution_count": null,
   "metadata": {
    "execution": {
     "iopub.execute_input": "2023-01-31T17:00:25.564533Z",
     "iopub.status.busy": "2023-01-31T17:00:25.563946Z",
     "iopub.status.idle": "2023-01-31T17:00:25.844172Z",
     "shell.execute_reply": "2023-01-31T17:00:25.842965Z",
     "shell.execute_reply.started": "2023-01-31T17:00:25.564496Z"
    }
   },
   "outputs": [],
   "source": [
    "# line plot of movies vs ratings\n",
    "\n",
    "plt.figure(figsize=(12,5))\n",
    "sns.lineplot(name,value,palette='viridis')\n",
    "plt.title('Top movies by ratings',fontdict={'family':'times new roman','size':20,'color':'blue'})\n",
    "plt.xlabel('Movie Name',fontdict={'family':'times new roman','size':20,'color':'magenta'})\n",
    "plt.xticks(rotation=80)\n",
    "plt.ylabel('Ratings',fontdict={'family':'times new roman','size':20,'color':'magenta'})\n",
    "plt.show()"
   ]
  },
  {
   "cell_type": "markdown",
   "metadata": {},
   "source": [
    "### Votes"
   ]
  },
  {
   "cell_type": "code",
   "execution_count": null,
   "metadata": {
    "execution": {
     "iopub.execute_input": "2023-01-31T17:00:25.845984Z",
     "iopub.status.busy": "2023-01-31T17:00:25.845604Z",
     "iopub.status.idle": "2023-01-31T17:00:25.856327Z",
     "shell.execute_reply": "2023-01-31T17:00:25.854987Z",
     "shell.execute_reply.started": "2023-01-31T17:00:25.845951Z"
    }
   },
   "outputs": [],
   "source": [
    "# making a separate dataset using three columns visible in code below\n",
    "votes=df[['movie_name','category','votes']]\n",
    "votes.dtypes\n",
    "# before sorting we need to convert column \"votes\" to \"numeric\" type"
   ]
  },
  {
   "cell_type": "markdown",
   "metadata": {},
   "source": [
    ">But we cannot change the data type of the column because it contains comma within the numbers first we need to remove these commas"
   ]
  },
  {
   "cell_type": "code",
   "execution_count": null,
   "metadata": {
    "execution": {
     "iopub.execute_input": "2023-01-31T17:00:25.858119Z",
     "iopub.status.busy": "2023-01-31T17:00:25.857781Z",
     "iopub.status.idle": "2023-01-31T17:00:25.871769Z",
     "shell.execute_reply": "2023-01-31T17:00:25.870467Z",
     "shell.execute_reply.started": "2023-01-31T17:00:25.858074Z"
    }
   },
   "outputs": [],
   "source": [
    "votes['votes']=votes['votes'].str.replace(',','',)\n",
    "votes['votes'][0:5]"
   ]
  },
  {
   "cell_type": "code",
   "execution_count": null,
   "metadata": {
    "execution": {
     "iopub.execute_input": "2023-01-31T17:00:25.873502Z",
     "iopub.status.busy": "2023-01-31T17:00:25.873158Z",
     "iopub.status.idle": "2023-01-31T17:00:25.884298Z",
     "shell.execute_reply": "2023-01-31T17:00:25.883088Z",
     "shell.execute_reply.started": "2023-01-31T17:00:25.873470Z"
    }
   },
   "outputs": [],
   "source": [
    "# checking different sample by running this code many times\n",
    "votes['votes'].sample(10)"
   ]
  },
  {
   "cell_type": "code",
   "execution_count": null,
   "metadata": {
    "execution": {
     "iopub.execute_input": "2023-01-31T17:00:25.886323Z",
     "iopub.status.busy": "2023-01-31T17:00:25.885916Z",
     "iopub.status.idle": "2023-01-31T17:00:25.897120Z",
     "shell.execute_reply": "2023-01-31T17:00:25.896192Z",
     "shell.execute_reply.started": "2023-01-31T17:00:25.886288Z"
    }
   },
   "outputs": [],
   "source": [
    "# converting data type \n",
    "try:\n",
    "    votes= votes.astype({'votes':int})\n",
    "except:\n",
    "     print('ValueError: could not convert')"
   ]
  },
  {
   "cell_type": "markdown",
   "metadata": {},
   "source": [
    "> since values in \"votes\" coloum contains commas thats why we are unable to convert string to number type, We need to remove comma from the data"
   ]
  },
  {
   "cell_type": "code",
   "execution_count": null,
   "metadata": {
    "execution": {
     "iopub.execute_input": "2023-01-31T17:00:25.899132Z",
     "iopub.status.busy": "2023-01-31T17:00:25.898792Z",
     "iopub.status.idle": "2023-01-31T17:00:25.912868Z",
     "shell.execute_reply": "2023-01-31T17:00:25.911742Z",
     "shell.execute_reply.started": "2023-01-31T17:00:25.899100Z"
    }
   },
   "outputs": [],
   "source": [
    "votes.dtypes"
   ]
  },
  {
   "cell_type": "markdown",
   "metadata": {},
   "source": [
    "Since our column has been converted to integer type  we can sort values"
   ]
  },
  {
   "cell_type": "code",
   "execution_count": null,
   "metadata": {
    "execution": {
     "iopub.execute_input": "2023-01-31T17:00:25.914796Z",
     "iopub.status.busy": "2023-01-31T17:00:25.914342Z",
     "iopub.status.idle": "2023-01-31T17:00:25.931843Z",
     "shell.execute_reply": "2023-01-31T17:00:25.930737Z",
     "shell.execute_reply.started": "2023-01-31T17:00:25.914751Z"
    }
   },
   "outputs": [],
   "source": [
    "# sort by total votes\n",
    "top_voted=votes.sort_values(by='votes',ascending=False).head(15)\n",
    "top_voted"
   ]
  },
  {
   "cell_type": "code",
   "execution_count": null,
   "metadata": {
    "execution": {
     "iopub.execute_input": "2023-01-31T17:00:25.935647Z",
     "iopub.status.busy": "2023-01-31T17:00:25.935024Z",
     "iopub.status.idle": "2023-01-31T17:00:26.222768Z",
     "shell.execute_reply": "2023-01-31T17:00:26.220875Z",
     "shell.execute_reply.started": "2023-01-31T17:00:25.935597Z"
    }
   },
   "outputs": [],
   "source": [
    "plt.figure(figsize=(10,6))\n",
    "sns.barplot(x=top_voted['votes'],y=top_voted['movie_name'])\n",
    "plt.title('Movies vs Voting',loc='left',fontdict={'family':'times new roman','size':20,'color':'blue'})\n",
    "plt.xlabel('No of Votes(10^6)',fontdict={'family':'times new roman','size':20,'color':'magenta'})\n",
    "plt.ylabel('Movie Name',fontdict={'family':'times new roman','size':20,'color':'magenta'})\n",
    "# plt.xticks(rotation=90)\n",
    "plt.show()"
   ]
  },
  {
   "cell_type": "markdown",
   "metadata": {},
   "source": [
    "### Gross Total"
   ]
  },
  {
   "cell_type": "code",
   "execution_count": null,
   "metadata": {
    "execution": {
     "iopub.execute_input": "2023-01-31T17:00:26.225135Z",
     "iopub.status.busy": "2023-01-31T17:00:26.224749Z",
     "iopub.status.idle": "2023-01-31T17:00:26.233709Z",
     "shell.execute_reply": "2023-01-31T17:00:26.231964Z",
     "shell.execute_reply.started": "2023-01-31T17:00:26.225105Z"
    }
   },
   "outputs": [],
   "source": [
    "# Movies with highest gross total\n",
    "\n",
    "gross=df[['movie_name','gross_total']]\n",
    "# first we need to convert column 'gross_total' to 'numeric' type\n",
    "gross['gross_total']=gross['gross_total'].str.strip('$M')"
   ]
  },
  {
   "cell_type": "code",
   "execution_count": null,
   "metadata": {
    "execution": {
     "iopub.execute_input": "2023-01-31T17:00:26.236630Z",
     "iopub.status.busy": "2023-01-31T17:00:26.235178Z",
     "iopub.status.idle": "2023-01-31T17:00:26.257212Z",
     "shell.execute_reply": "2023-01-31T17:00:26.255822Z",
     "shell.execute_reply.started": "2023-01-31T17:00:26.236588Z"
    }
   },
   "outputs": [],
   "source": [
    "gross['gross_total']=gross['gross_total'].astype(float)\n",
    "# gross = gross.astype({'gross_total':int})\n",
    "gross"
   ]
  },
  {
   "cell_type": "code",
   "execution_count": null,
   "metadata": {
    "execution": {
     "iopub.execute_input": "2023-01-31T17:00:26.259709Z",
     "iopub.status.busy": "2023-01-31T17:00:26.259306Z",
     "iopub.status.idle": "2023-01-31T17:00:26.759132Z",
     "shell.execute_reply": "2023-01-31T17:00:26.757773Z",
     "shell.execute_reply.started": "2023-01-31T17:00:26.259663Z"
    }
   },
   "outputs": [],
   "source": [
    "# sort values\n",
    "top_movies_by_gross=gross.sort_values(by='gross_total',ascending=False).head(15)\n",
    "name=top_movies_by_gross['movie_name']\n",
    "value=top_movies_by_gross['gross_total']\n",
    "\n",
    "# bar plot\n",
    "plt.figure(figsize=(12,7))\n",
    "sns.barplot(data=top_movies_by_gross,y=name,x=value)\n",
    "plt.title('Highest Earning Movies',fontdict={'family':'times new roman','size':20,'color':'blue'})\n",
    "plt.xlabel('Gross total in Million',fontdict={'family':'times new roman','size':20,'color':'magenta'})\n",
    "plt.ylabel('Movie Name',fontdict={'family':'times new roman','size':20,'color':'magenta'})\n",
    "plt.show()"
   ]
  },
  {
   "cell_type": "markdown",
   "metadata": {},
   "source": [
    "# This is the end of the Notebook,Thank you"
   ]
  }
 ],
 "metadata": {
  "kernelspec": {
   "display_name": "Python 3 (ipykernel)",
   "language": "python",
   "name": "python3"
  },
  "language_info": {
   "codemirror_mode": {
    "name": "ipython",
    "version": 3
   },
   "file_extension": ".py",
   "mimetype": "text/x-python",
   "name": "python",
   "nbconvert_exporter": "python",
   "pygments_lexer": "ipython3",
   "version": "3.9.16"
  }
 },
 "nbformat": 4,
 "nbformat_minor": 4
}

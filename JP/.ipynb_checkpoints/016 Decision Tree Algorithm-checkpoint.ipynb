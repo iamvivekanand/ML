{
 "cells": [
  {
   "cell_type": "markdown",
   "metadata": {},
   "source": [
    "### Decision Tree Classification Algorithm"
   ]
  },
  {
   "cell_type": "markdown",
   "metadata": {},
   "source": [
    "- supervised ML technique\n",
    "- able to do both classification and regression\n",
    "- able to handle both numerical and categorical data\n",
    "- We start with a question, and hence splits the dataset into branches, keep going dividing the dataset on various criterion"
   ]
  },
  {
   "cell_type": "markdown",
   "metadata": {},
   "source": [
    "It is a tree-structured classifier,\n",
    "where \n",
    "- internal nodes represent the features of a dataset, \n",
    "- branches represent the decision rules and \n",
    "- each leaf node represents the outcome."
   ]
  },
  {
   "cell_type": "markdown",
   "metadata": {},
   "source": [
    "- In a Decision tree, there are two nodes, which are the Decision Node and Leaf Node,\n",
    "- parent node and child node are also there.\n",
    "- Decision nodes are used to make decision, contains multiple brances,\n",
    "  where as leaf node are the outputs, do not contain further brances"
   ]
  },
  {
   "cell_type": "markdown",
   "metadata": {},
   "source": [
    "#### Why is it called Decision Tree?"
   ]
  },
  {
   "cell_type": "markdown",
   "metadata": {},
   "source": [
    "Because, similar to a tree, it starts with the root node, which expands on further branches and constructs a tree-like structure.\n",
    "    \n",
    "A decision tree simply asks a question, and based on the answer (Yes/No), it further split the tree into subtrees."
   ]
  },
  {
   "cell_type": "markdown",
   "metadata": {},
   "source": [
    "##### Calculation of Gini Index:"
   ]
  },
  {
   "cell_type": "markdown",
   "metadata": {},
   "source": [
    "Decision trees recursively split features with regard to their target variable’s purity.\n",
    "In a general sense “purity” can be thought of as how homogenized a group is.\n",
    "\n",
    "But this meaning of purity can vary depending  Which kind of concept or criterion is being used.\n",
    "    \n",
    "Consider these cases:\n",
    "\n",
    "- If we have 4 red balls and 0 blue balls, that group of 4 is 100% pure.\n",
    "- If we have 2 red and 2 blue ball, that group is 100% impure.\n",
    "- If we have 3 red and 1 blue, that group is either 75% or 81% pure, if we use Gini or Entropy respectively.\n",
    "\n",
    "Depending on which impurity measurement is used, tree classification results can vary\n",
    "\n",
    "    Gini = Summ(1 to N(Pi**2))\n",
    "\n",
    "If we arbitrarily have all 4 balls as red, how often would one of the balls be incorrectly labeled??"
   ]
  },
  {
   "cell_type": "code",
   "execution_count": 21,
   "metadata": {},
   "outputs": [],
   "source": [
    "#  4 red and 0 blue:"
   ]
  },
  {
   "cell_type": "markdown",
   "metadata": {},
   "source": [
    "    Gini Index= 1-(P(red)**2 + P(blue)**2) = 1 - (1^2 - 0^2) = 0\n",
    "If we arbitrarily chose to all the balls ‘blue’, then our index would still be 0, because we would always incorrectly label the balls.\n",
    "\n",
    "The gini score is always the same no matter what arbitrary class you take the probabilities of because they always add to 0 in the formula above.\n",
    "\n",
    "A gini score of 0 is the most pure score possible."
   ]
  },
  {
   "cell_type": "code",
   "execution_count": 19,
   "metadata": {},
   "outputs": [],
   "source": [
    "# 2 red and 2 blue:"
   ]
  },
  {
   "cell_type": "markdown",
   "metadata": {},
   "source": [
    "<img src='gi2.jpg'>\n",
    "                    \n",
    "                   Image Source:towardsdatascience.com"
   ]
  },
  {
   "cell_type": "markdown",
   "metadata": {},
   "source": [
    "The impurity measurement is 0.5 because we would incorrectly label gumballs wrong about half the time.\n",
    "\n",
    "Because this index is used in binary target variables (0,1), a gini index of 0.5 is the least pure score possible."
   ]
  },
  {
   "cell_type": "code",
   "execution_count": 22,
   "metadata": {},
   "outputs": [],
   "source": [
    "# 3 red and 1 blue:"
   ]
  },
  {
   "cell_type": "markdown",
   "metadata": {},
   "source": [
    "<img src='gi3.jpg'>\n",
    "                    \n",
    "                   Image Source:towardsdatascience.com"
   ]
  },
  {
   "cell_type": "markdown",
   "metadata": {},
   "source": [
    "##### Calculation of Entropy:"
   ]
  },
  {
   "cell_type": "markdown",
   "metadata": {},
   "source": [
    "- Instead of utilizing simple probabilities, this method takes the log base2 of the probabilities.\n",
    "- computationally heavy due to the log in the equation\n",
    "\n",
    "As we know the formula for entropy is :\n",
    "<img src='entropy.jpg'>"
   ]
  },
  {
   "cell_type": "code",
   "execution_count": 23,
   "metadata": {},
   "outputs": [],
   "source": [
    "# 4 red and 0 blue:"
   ]
  },
  {
   "cell_type": "markdown",
   "metadata": {},
   "source": [
    "     Entropy= [(P_red * log2(P_red)] - [(P_blue * log2(P_blue)]\n",
    "    =[(4/4) * log2(4/4)] - [(0/4) * log2(0/4)] = 0\n",
    "Zero is the mosrt purity score."
   ]
  },
  {
   "cell_type": "code",
   "execution_count": 24,
   "metadata": {},
   "outputs": [],
   "source": [
    "# 2 red and 2 blue:"
   ]
  },
  {
   "cell_type": "markdown",
   "metadata": {},
   "source": [
    "     Entropy= [(P_red * log2(P_red)] - [(P_blue * log2(P_blue)]\n",
    "    =[(2/4) * log2(2/4)] - [(2/4) * log2(2/4)] = 1\n",
    "Impurity measurement is 1 here, as it’s the maximum impurity obtainable"
   ]
  },
  {
   "cell_type": "code",
   "execution_count": 25,
   "metadata": {},
   "outputs": [],
   "source": [
    "# 3 red and 1 blue:"
   ]
  },
  {
   "cell_type": "markdown",
   "metadata": {},
   "source": [
    "     Entropy= [(P_red * log2(P_red)] - [(P_blue * log2(P_blue)]\n",
    "    =[(3/4) * log2(3/4)] - [(1/4) * log2(1/4)] = 0.811\n",
    "The purity/impurity measurement is 0.811 here, a bit worse than the gini score."
   ]
  },
  {
   "cell_type": "markdown",
   "metadata": {},
   "source": [
    "#### Visualization of Gini and Impurity"
   ]
  },
  {
   "cell_type": "code",
   "execution_count": null,
   "metadata": {},
   "outputs": [],
   "source": []
  },
  {
   "cell_type": "code",
   "execution_count": null,
   "metadata": {},
   "outputs": [],
   "source": []
  },
  {
   "cell_type": "code",
   "execution_count": null,
   "metadata": {},
   "outputs": [],
   "source": []
  },
  {
   "cell_type": "code",
   "execution_count": null,
   "metadata": {},
   "outputs": [],
   "source": []
  },
  {
   "cell_type": "code",
   "execution_count": null,
   "metadata": {},
   "outputs": [],
   "source": []
  },
  {
   "cell_type": "markdown",
   "metadata": {},
   "source": [
    "### Terminologies of Decision Tree"
   ]
  },
  {
   "cell_type": "markdown",
   "metadata": {},
   "source": [
    "Root Node: a node from where the decision tree starts, represents the entire dataset, which further gets divided into two or more homogeneous sets.\n",
    "\n",
    "Leaf Node: final output node, after which tree cannot be segregated\n",
    "\n",
    "Splitting: process of dividing the decision node/root node into sub-nodes according to the given conditions."
   ]
  },
  {
   "cell_type": "markdown",
   "metadata": {},
   "source": [
    "Branch/Sub Tree: A tree formed by splitting the tree.\n",
    "\n",
    "Pruning: Pruning is the process of removing the unwanted branches from the tree.\n",
    "\n",
    "Parent/Child node: The root node of the tree is called the parent node, and other nodes are called the child nodes."
   ]
  },
  {
   "cell_type": "code",
   "execution_count": 1,
   "metadata": {},
   "outputs": [],
   "source": [
    "### How does the Decision Tree algorithm Work?"
   ]
  },
  {
   "cell_type": "markdown",
   "metadata": {},
   "source": [
    "1. Consider the entire data, says S, it is the root node\n",
    "2. Find the best attribute in the dataset using Attribute Selection Measure (ASM).\n",
    "3. Divide the dataset 'S' into subsets that contains possible values for the best attributes\n",
    "4. Generate the decision tree node, which contains the best attribute.\n",
    "5. Recursively make new decision trees using the subsets of the dataset created in step -3. Continue this process until a stage is reached where you cannot further classify the nodes and called the final node as a leaf node."
   ]
  },
  {
   "cell_type": "code",
   "execution_count": 1,
   "metadata": {},
   "outputs": [],
   "source": [
    "# Assumptions we make while using Decision tree :"
   ]
  },
  {
   "cell_type": "markdown",
   "metadata": {},
   "source": [
    "- At the beginning, we consider the whole training set as the root node\n",
    "- Attributes are assumed to be categorical for information gain and assumed continuous for gini index.\n",
    "- On the basis of attribute values records are distributed recursively\n",
    "- We use statistical methods for ordering attributes as root or internal node"
   ]
  },
  {
   "cell_type": "code",
   "execution_count": 2,
   "metadata": {},
   "outputs": [],
   "source": [
    "# Pseudocode for Decision Tree:\n",
    "# Pseudocode is a theoretical written structure of the code, its like a outline of the code."
   ]
  },
  {
   "cell_type": "markdown",
   "metadata": {},
   "source": [
    "1. Find the best attribute and make it the root node of the tree.\n",
    "2. Now, split the training set into subsets. While making the subset make sure that each subset of training dataset should have the same value for an attribute.\n",
    "3. Find leaf nodes in all branches by repeating 1 and 2 on each subset."
   ]
  },
  {
   "cell_type": "markdown",
   "metadata": {},
   "source": [
    "#### Attribute Selection Measures"
   ]
  },
  {
   "cell_type": "markdown",
   "metadata": {},
   "source": [
    "In Decision Tree the major challenge is identification of the attribute for the root node in each level. \n",
    "We can use various kind of techniques to choose best attribute, this process is called ASM\n",
    "\n",
    "- ASM is a technique to select the best attribute for the root node and for sub-nodes.\n",
    "- If the decision tree build is appropriately then the depth of the tree will be less or else depth will be more.\n",
    "\n",
    "\n",
    "There are two popular techniques for ASM\n",
    "1. Information Gain\n",
    "2. Gini Index"
   ]
  },
  {
   "cell_type": "code",
   "execution_count": 17,
   "metadata": {},
   "outputs": [],
   "source": [
    "# Information Gain:  Using Entropy:"
   ]
  },
  {
   "cell_type": "markdown",
   "metadata": {},
   "source": [
    "- Change in entropy after the segmentation of a dataset based on an attribute.\n",
    "- model always tries to maximize IG, and a node/attribute having the highest IG is split first.\n",
    "- Information gain is non-negative.\n",
    "- Information Gain is symmetric such that switching of the split variable and target variable, the same amount of information gain is obtained. (Source)\n",
    "- if the value of information gain increases after splittig, than that feature is most useful for classification.\n",
    "- feature having the highest value of information gain is chosen first for the split."
   ]
  },
  {
   "cell_type": "markdown",
   "metadata": {},
   "source": [
    "Information Gain= Entropy(S)- [(Weighted Avg) *Entropy(each feature)  "
   ]
  },
  {
   "cell_type": "code",
   "execution_count": 1,
   "metadata": {},
   "outputs": [],
   "source": [
    "# ENTROPY"
   ]
  },
  {
   "cell_type": "markdown",
   "metadata": {},
   "source": [
    "- Degree of uncertainty, impurity or disorder in a dataset\n",
    "- OR, simply its a measure of randomness in a data\n",
    "- Here, if all elements belong to a single class, then it is termed as “Pure”, and if not then the distribution is named as “Impurity”.\n",
    "- It is computed between 0 and 1, however, heavily relying on the number of groups or classes present in the data set it can be more than 1 while depicting the same significance i.e. extreme level of disorder.\n",
    "- If a dataset contains homogeneous subsets of observations, then no impurity or randomness is in the dataset. \n",
    "- And, if all the observations belong to one class, the entropy of that dataset/feature column becomes zero."
   ]
  },
  {
   "cell_type": "markdown",
   "metadata": {},
   "source": [
    "<img src='entropy.jpg'>"
   ]
  },
  {
   "cell_type": "markdown",
   "metadata": {},
   "source": [
    "Gain Ratio = Information Gain/Entropy"
   ]
  },
  {
   "cell_type": "code",
   "execution_count": 18,
   "metadata": {},
   "outputs": [],
   "source": [
    "#### Gini Index:"
   ]
  },
  {
   "cell_type": "markdown",
   "metadata": {},
   "source": [
    "- measure of impurity or purity used while creating a decision tree\n",
    "- its a metric to measure how often a randomly chosen element would be incorrectly identified.\n",
    "- So, an attribute with the low Gini index should be preferred\n",
    "- works on categorical variables, provides outcomes either be “successful” or “failure” and hence conducts binary splitting only\n",
    "- creates binary splits, and the CART algorithm uses the Gini index to create binary splits\n",
    "\n",
    "The degree of gini index varies from 0 to 1\n",
    "\n",
    "- Where 0 depicts that all the observations belong to a certain class, or only one class exists there. \n",
    "- gini index of value as 1 signifies that all the datapoints are randomly zdistributed across various classes, and\n",
    " \n",
    "A value of 0.5 denotes the elements are uniformly distributed into some classes. "
   ]
  },
  {
   "cell_type": "markdown",
   "metadata": {},
   "source": [
    "<img src='Gini-index.jpg' height=100, width=250>"
   ]
  },
  {
   "cell_type": "markdown",
   "metadata": {},
   "source": [
    "#### Pruning: Getting an Optimal Decision tree"
   ]
  },
  {
   "cell_type": "markdown",
   "metadata": {},
   "source": [
    "- Pruning is a process of deleting the unnecessary nodes from a tree in order to get the optimal decision tree\n",
    "- A too-large tree increases the risk of overfitting, and a small tree may not capture all the important features of the dataset\n",
    "- So,a technique that decreases the size of the learning tree without reducing accuracy is known as Pruning"
   ]
  },
  {
   "cell_type": "markdown",
   "metadata": {},
   "source": [
    "There are mainly two types of tree pruning technology used:\n",
    "1. Cost Complexity Pruning\n",
    "2. Reduced Error Pruning."
   ]
  },
  {
   "cell_type": "code",
   "execution_count": 3,
   "metadata": {},
   "outputs": [],
   "source": [
    "### Advantages of the Decision Tree"
   ]
  },
  {
   "cell_type": "markdown",
   "metadata": {},
   "source": [
    "- follows the same process which a human follow while making any decision in real-life.\n",
    "- very useful for solving decision-related problems\n",
    "- think about all the possible outcomes for a problem\n",
    "- less requirement of data cleaning compared to other algorithms"
   ]
  },
  {
   "cell_type": "code",
   "execution_count": 4,
   "metadata": {},
   "outputs": [],
   "source": [
    "### Disadvantages of the Decision Tree"
   ]
  },
  {
   "cell_type": "markdown",
   "metadata": {},
   "source": [
    "- contains lots of layers, which makes it complex\n",
    "- For more class labels, the computational complexity of the decision tree may increase\n",
    "- less appropriate for prediction of continuous target\n",
    "- if relatively small number of training examples is provided then it is prone to errors in classification with many classes"
   ]
  },
  {
   "cell_type": "markdown",
   "metadata": {},
   "source": [
    "#### Python Implementation of Decision Tree"
   ]
  },
  {
   "cell_type": "code",
   "execution_count": 4,
   "metadata": {},
   "outputs": [],
   "source": [
    "from sklearn.tree import DecisionTreeClassifier  \n",
    "model= DecisionTreeClassifier(criterion='entropy', random_state=0)  "
   ]
  },
  {
   "cell_type": "markdown",
   "metadata": {},
   "source": [
    "criterion='entropy': Criterion is used to measure the quality of split, which is calculated by information gain given by entropy.\n",
    "\n",
    "Entropy tells the randomness in a data, more entropy means more information gain"
   ]
  },
  {
   "cell_type": "markdown",
   "metadata": {},
   "source": [
    "    DecisionTreeClassifier(\n",
    "        criterion='gini',\n",
    "        splitter='best',\n",
    "        max_depth=None,\n",
    "        min_samples_split=2,\n",
    "        min_samples_leaf=1,\n",
    "        min_weight_fraction_leaf=0.0,\n",
    "        max_features=None,\n",
    "        random_state=None,\n",
    "        max_leaf_nodes=None,\n",
    "        min_impurity_decrease=0.0,\n",
    "        min_impurity_split=None,\n",
    "        class_weight=None,\n",
    "        ccp_alpha=0.0)\n",
    "        \n",
    "**Parameters**\n",
    "\n",
    "    criterion : {\"gini\", \"entropy\"}, default=\"gini\"\n",
    "    The function to measure the quality of a split. Supported criteria are \"gini\" for the Gini impurity and \"entropy\" for the information gain.\n",
    "\n",
    "    splitter : {\"best\", \"random\"}, default=\"best\"\n",
    "    The strategy used to choose the split at each node. Supported strategies are \"best\" to choose the best split and \"random\" to choose the best random split.\n",
    "\n",
    "    max_depth : int, default=None\n",
    "    The maximum depth of the tree. If None, then nodes are expanded until all leaves are pure or until all leaves contain less than min_samples_split samples.\n",
    "\n",
    "    min_samples_split : int or float, default=2\n",
    "    The minimum number of samples required to split an internal node:\n",
    "\n",
    "    - If int, then consider `min_samples_split` as the minimum number.\n",
    "    - If float, then `min_samples_split` is a fraction and `ceil(min_samples_split * n_samples)` are the minimum number of samples for each split.\n",
    "\n",
    "\n",
    "    min_samples_leaf : int or float, default=1\n",
    "    The minimum number of samples required to be at a leaf node. A split point at any depth will only be considered if it leaves at least ``min_samples_leaf`` training samples in each of the left and right branches. This may have the effect of smoothing the model,especially in regression.\n",
    "\n",
    "    - If int, then consider `min_samples_leaf` as the minimum number.\n",
    "    - If float, then `min_samples_leaf` is a fraction and\n",
    "      `ceil(min_samples_leaf * n_samples)` are the minimum\n",
    "      number of samples for each node.\n",
    "\n",
    "    .. versionchanged:: 0.18\n",
    "       Added float values for fractions.\n",
    "\n",
    "min_weight_fraction_leaf : float, default=0.0\n",
    "    The minimum weighted fraction of the sum total of weights (of all\n",
    "    the input samples) required to be at a leaf node. Samples have\n",
    "    equal weight when sample_weight is not provided.\n",
    "\n",
    "max_features : int, float or {\"auto\", \"sqrt\", \"log2\"}, default=None\n",
    "    The number of features to consider when looking for the best split:\n",
    "\n",
    "        - If int, then consider `max_features` features at each split.\n",
    "        - If float, then `max_features` is a fraction and\n",
    "          `int(max_features * n_features)` features are considered at each\n",
    "          split.\n",
    "        - If \"auto\", then `max_features=sqrt(n_features)`.\n",
    "        - If \"sqrt\", then `max_features=sqrt(n_features)`.\n",
    "        - If \"log2\", then `max_features=log2(n_features)`.\n",
    "        - If None, then `max_features=n_features`.\n",
    "\n",
    "    Note: the search for a split does not stop until at least one\n",
    "    valid partition of the node samples is found, even if it requires to\n",
    "    effectively inspect more than ``max_features`` features.\n",
    "\n",
    "random_state : int, RandomState instance or None, default=None\n",
    "    Controls the randomness of the estimator. The features are always\n",
    "    randomly permuted at each split, even if ``splitter`` is set to\n",
    "    ``\"best\"``. When ``max_features < n_features``, the algorithm will\n",
    "    select ``max_features`` at random at each split before finding the best\n",
    "    split among them. But the best found split may vary across different\n",
    "    runs, even if ``max_features=n_features``. That is the case, if the\n",
    "    improvement of the criterion is identical for several splits and one\n",
    "    split has to be selected at random. To obtain a deterministic behaviour\n",
    "    during fitting, ``random_state`` has to be fixed to an integer.\n",
    "    See :term:`Glossary <random_state>` for details.\n",
    "\n",
    "max_leaf_nodes : int, default=None\n",
    "    Grow a tree with ``max_leaf_nodes`` in best-first fashion.\n",
    "    Best nodes are defined as relative reduction in impurity.\n",
    "    If None then unlimited number of leaf nodes.\n",
    "\n",
    "min_impurity_decrease : float, default=0.0\n",
    "    A node will be split if this split induces a decrease of the impurity\n",
    "    greater than or equal to this value.\n",
    "\n",
    "    The weighted impurity decrease equation is the following::\n",
    "\n",
    "        N_t / N * (impurity - N_t_R / N_t * right_impurity\n",
    "                            - N_t_L / N_t * left_impurity)\n",
    "\n",
    "    where ``N`` is the total number of samples, ``N_t`` is the number of\n",
    "    samples at the current node, ``N_t_L`` is the number of samples in the\n",
    "    left child, and ``N_t_R`` is the number of samples in the right child.\n",
    "\n",
    "    ``N``, ``N_t``, ``N_t_R`` and ``N_t_L`` all refer to the weighted sum,\n",
    "    if ``sample_weight`` is passed.\n",
    "\n",
    "    .. versionadded:: 0.19\n",
    "\n",
    "min_impurity_split : float, default=0\n",
    "    Threshold for early stopping in tree growth. A node will split\n",
    "    if its impurity is above the threshold, otherwise it is a leaf.\n",
    "\n",
    "    .. deprecated:: 0.19\n",
    "       ``min_impurity_split`` has been deprecated in favor of\n",
    "       ``min_impurity_decrease`` in 0.19. The default value of\n",
    "       ``min_impurity_split`` has changed from 1e-7 to 0 in 0.23 and it\n",
    "       will be removed in 1.0 (renaming of 0.25).\n",
    "       Use ``min_impurity_decrease`` instead.\n",
    "\n",
    "class_weight : dict, list of dict or \"balanced\", default=None\n",
    "    Weights associated with classes in the form ``{class_label: weight}``.\n",
    "    If None, all classes are supposed to have weight one. For\n",
    "    multi-output problems, a list of dicts can be provided in the same\n",
    "    order as the columns of y.\n",
    "\n",
    "    Note that for multioutput (including multilabel) weights should be\n",
    "    defined for each class of every column in its own dict. For example,\n",
    "    for four-class multilabel classification weights should be\n",
    "    [{0: 1, 1: 1}, {0: 1, 1: 5}, {0: 1, 1: 1}, {0: 1, 1: 1}] instead of\n",
    "    [{1:1}, {2:5}, {3:1}, {4:1}].\n",
    "\n",
    "    The \"balanced\" mode uses the values of y to automatically adjust\n",
    "    weights inversely proportional to class frequencies in the input data\n",
    "    as ``n_samples / (n_classes * np.bincount(y))``\n",
    "\n",
    "    For multi-output, the weights of each column of y will be multiplied.\n",
    "\n",
    "    Note that these weights will be multiplied with sample_weight (passed\n",
    "    through the fit method) if sample_weight is specified.\n",
    "\n",
    "ccp_alpha : non-negative float, default=0.0\n",
    "    Complexity parameter used for Minimal Cost-Complexity Pruning. The\n",
    "    subtree with the largest cost complexity that is smaller than\n",
    "    ``ccp_alpha`` will be chosen. By default, no pruning is performed. See\n",
    "    :ref:`minimal_cost_complexity_pruning` for details.\n",
    "\n",
    "    .. versionadded:: 0.22\n",
    "\n",
    "Attributes\n",
    "----------\n",
    "classes_ : ndarray of shape (n_classes,) or list of ndarray\n",
    "    The classes labels (single output problem),\n",
    "    or a list of arrays of class labels (multi-output problem).\n",
    "\n",
    "feature_importances_ : ndarray of shape (n_features,)\n",
    "    The impurity-based feature importances.\n",
    "    The higher, the more important the feature.\n",
    "    The importance of a feature is computed as the (normalized)\n",
    "    total reduction of the criterion brought by that feature.  It is also\n",
    "    known as the Gini importance [4]_.\n",
    "\n",
    "    Warning: impurity-based feature importances can be misleading for\n",
    "    high cardinality features (many unique values). See\n",
    "    :func:`sklearn.inspection.permutation_importance` as an alternative.\n",
    "\n",
    "max_features_ : int\n",
    "    The inferred value of max_features.\n",
    "\n",
    "n_classes_ : int or list of int\n",
    "    The number of classes (for single output problems),\n",
    "    or a list containing the number of classes for each\n",
    "    output (for multi-output problems).\n",
    "\n",
    "n_features_ : int\n",
    "    The number of features when ``fit`` is performed.\n",
    "\n",
    "n_outputs_ : int\n",
    "    The number of outputs when ``fit`` is performed.\n",
    "\n",
    "tree_ : Tree instance\n",
    "    The underlying Tree object. Please refer to\n",
    "    ``help(sklearn.tree._tree.Tree)`` for attributes of Tree object and\n",
    "    :ref:`sphx_glr_auto_examples_tree_plot_unveil_tree_structure.py`\n",
    "    for basic usage of these attributes.\n",
    "\n",
    "\n",
    "Notes\n",
    "-----\n",
    "The default values for the parameters controlling the size of the trees\n",
    "(e.g. ``max_depth``, ``min_samples_leaf``, etc.) lead to fully grown and\n",
    "unpruned trees which can potentially be very large on some data sets. To\n",
    "reduce memory consumption, the complexity and size of the trees should be\n",
    "controlled by setting those parameter values.\n",
    "\n",
    "The :meth:`predict` method operates using the :func:`numpy.argmax`\n",
    "function on the outputs of :meth:`predict_proba`. This means that in\n",
    "case the highest predicted probabilities are tied, the classifier will\n",
    "predict the tied class with the lowest index in :term:`classes_`.\n",
    "\n",
    "\n",
    "Examples\n",
    "--------\n",
    ">>> from sklearn.datasets import load_iris\n",
    ">>> from sklearn.model_selection import cross_val_score\n",
    ">>> from sklearn.tree import DecisionTreeClassifier\n",
    ">>> clf = DecisionTreeClassifier(random_state=0)\n",
    ">>> iris = load_iris()\n",
    ">>> cross_val_score(clf, iris.data, iris.target, cv=10)\n",
    "...                             # doctest: +SKIP\n",
    "...\n",
    "array([ 1.     ,  0.93...,  0.86...,  0.93...,  0.93...,\n",
    "        0.93...,  0.93...,  1.     ,  0.93...,  1.      ])"
   ]
  },
  {
   "cell_type": "code",
   "execution_count": 3,
   "metadata": {},
   "outputs": [],
   "source": [
    "# Implementaion of Decision Tree"
   ]
  },
  {
   "cell_type": "code",
   "execution_count": 8,
   "metadata": {},
   "outputs": [],
   "source": [
    "import warnings\n",
    "warnings.filterwarnings('ignore')"
   ]
  },
  {
   "cell_type": "code",
   "execution_count": 4,
   "metadata": {},
   "outputs": [],
   "source": [
    "import seaborn as sns\n",
    "import matplotlib.pyplot as plt\n",
    "\n",
    "from sklearn.tree import DecisionTreeClassifier\n",
    "model=DecisionTreeClassifier()"
   ]
  },
  {
   "cell_type": "markdown",
   "metadata": {},
   "source": [
    "sns.get_dataset_names()"
   ]
  },
  {
   "cell_type": "code",
   "execution_count": 6,
   "metadata": {},
   "outputs": [
    {
     "data": {
      "text/html": [
       "<div>\n",
       "<style scoped>\n",
       "    .dataframe tbody tr th:only-of-type {\n",
       "        vertical-align: middle;\n",
       "    }\n",
       "\n",
       "    .dataframe tbody tr th {\n",
       "        vertical-align: top;\n",
       "    }\n",
       "\n",
       "    .dataframe thead th {\n",
       "        text-align: right;\n",
       "    }\n",
       "</style>\n",
       "<table border=\"1\" class=\"dataframe\">\n",
       "  <thead>\n",
       "    <tr style=\"text-align: right;\">\n",
       "      <th></th>\n",
       "      <th>sepal_length</th>\n",
       "      <th>sepal_width</th>\n",
       "      <th>petal_length</th>\n",
       "      <th>petal_width</th>\n",
       "      <th>species</th>\n",
       "    </tr>\n",
       "  </thead>\n",
       "  <tbody>\n",
       "    <tr>\n",
       "      <th>0</th>\n",
       "      <td>5.1</td>\n",
       "      <td>3.5</td>\n",
       "      <td>1.4</td>\n",
       "      <td>0.2</td>\n",
       "      <td>setosa</td>\n",
       "    </tr>\n",
       "    <tr>\n",
       "      <th>1</th>\n",
       "      <td>4.9</td>\n",
       "      <td>3.0</td>\n",
       "      <td>1.4</td>\n",
       "      <td>0.2</td>\n",
       "      <td>setosa</td>\n",
       "    </tr>\n",
       "  </tbody>\n",
       "</table>\n",
       "</div>"
      ],
      "text/plain": [
       "   sepal_length  sepal_width  petal_length  petal_width species\n",
       "0           5.1          3.5           1.4          0.2  setosa\n",
       "1           4.9          3.0           1.4          0.2  setosa"
      ]
     },
     "execution_count": 6,
     "metadata": {},
     "output_type": "execute_result"
    }
   ],
   "source": [
    "df=sns.load_dataset('iris')\n",
    "df.head(2)"
   ]
  },
  {
   "cell_type": "markdown",
   "metadata": {},
   "source": [
    "    df.mean()\n",
    "    df.max()\n",
    "    df.notnull().sum()\n",
    "\n",
    "    sns.heatmap(df.corr(),annot=True)\n",
    "    plt.show()\n",
    "\n",
    "    sns.histplot(df['petal_length'],kde=True)\n",
    "    sns.histplot(df['petal_width'],kde=True)\n",
    "\n",
    "    plt.subplot(211)\n",
    "    sns.boxplot(df['petal_width'])\n",
    "    plt.show()\n",
    "    plt.subplot(212)\n",
    "    sns.boxplot(df['petal_length'])\n",
    "    plt.show()"
   ]
  },
  {
   "cell_type": "markdown",
   "metadata": {},
   "source": [
    "from sklearn.model_selection import train_test_split\n",
    "xtrain,ytrain,xtest,ytest=train_test_split(x,y,test_size=0.20,random_state=1)"
   ]
  },
  {
   "cell_type": "code",
   "execution_count": null,
   "metadata": {},
   "outputs": [],
   "source": []
  }
 ],
 "metadata": {
  "kernelspec": {
   "display_name": "Python 3 (ipykernel)",
   "language": "python",
   "name": "python3"
  },
  "language_info": {
   "codemirror_mode": {
    "name": "ipython",
    "version": 3
   },
   "file_extension": ".py",
   "mimetype": "text/x-python",
   "name": "python",
   "nbconvert_exporter": "python",
   "pygments_lexer": "ipython3",
   "version": "3.9.7"
  }
 },
 "nbformat": 4,
 "nbformat_minor": 4
}

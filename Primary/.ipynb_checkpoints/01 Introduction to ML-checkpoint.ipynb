{
 "cells": [
  {
   "cell_type": "markdown",
   "metadata": {},
   "source": [
    "### Introduction to Machine Learning"
   ]
  },
  {
   "cell_type": "markdown",
   "metadata": {},
   "source": [
    "#### What is machine learning"
   ]
  },
  {
   "cell_type": "raw",
   "metadata": {},
   "source": [
    "Technology which enables computers to learn automatically from past data"
   ]
  },
  {
   "cell_type": "raw",
   "metadata": {},
   "source": [
    "Machine Learning is said as a subset of artificial intelligence that is mainly concerned with the development of algorithms which allow a computer to learn from the data and past experiences on their own."
   ]
  },
  {
   "cell_type": "code",
   "execution_count": 1,
   "metadata": {},
   "outputs": [],
   "source": [
    "# Who coined the term \"Machine Learning\""
   ]
  },
  {
   "cell_type": "raw",
   "metadata": {},
   "source": [
    "The term machine learning was first introduced by Arthur Samuel in 1959."
   ]
  },
  {
   "cell_type": "markdown",
   "metadata": {},
   "source": [
    "### How does Machine Learning work"
   ]
  },
  {
   "cell_type": "raw",
   "metadata": {},
   "source": [
    "A Machine Learning system learns from historical data, builds the prediction models, and whenever it receives new data, predicts the output for it"
   ]
  },
  {
   "cell_type": "raw",
   "metadata": {},
   "source": [
    "The accuracy of predicted output depends upon the amount of data, more data will lead to more accuracy"
   ]
  },
  {
   "cell_type": "markdown",
   "metadata": {},
   "source": [
    "### Features of Machine Learning:"
   ]
  },
  {
   "cell_type": "raw",
   "metadata": {},
   "source": [
    "Machine learning uses data to detect various patterns in a given dataset.\n",
    "It can learn from past data and improve automatically.\n",
    "It is a data-driven technology.\n",
    "Machine learning is much similar to data mining as it also deals with the huge amount of the data"
   ]
  },
  {
   "cell_type": "markdown",
   "metadata": {},
   "source": [
    "### Why there is need of machine learning?"
   ]
  },
  {
   "cell_type": "raw",
   "metadata": {},
   "source": [
    "As a human, we have some limitations as we cannot access the huge amount of data manually,\n",
    " \n",
    "Following are some key points which show the importance of Machine Learning:\n",
    "-Rapid increment in the production of data\n",
    "-Solving complex problems, which are difficult for a human\n",
    "-Decision making in various sector including finance\n",
    "-Finding hidden patterns and extracting useful information from data."
   ]
  },
  {
   "cell_type": "markdown",
   "metadata": {},
   "source": [
    "### Classification of Machine Learning"
   ]
  },
  {
   "cell_type": "raw",
   "metadata": {},
   "source": [
    "Supervised ML\n",
    "    1.Regression\n",
    "    2.Classification\n",
    "Unsupervised ML\n",
    "    1.Clustering\n",
    "    2.Association\n",
    "Semi-Supervised Ml\n",
    "\n",
    "Reinforcement Learning"
   ]
  },
  {
   "cell_type": "markdown",
   "metadata": {},
   "source": [
    "#### Reinforcement learning"
   ]
  },
  {
   "cell_type": "raw",
   "metadata": {},
   "source": [
    "It is a feedback-based learning method, in which a learning agent gets a reward for each right action and gets a penalty for each wrong action. \n",
    "\n",
    "The agent learns automatically with these feedbacks and improves its performance. \n",
    "\n",
    "In reinforcement learning, the agent interacts with the environment and explores it. The goal of an agent is to get the most reward points, and hence, it improves its performance.\n",
    "\n",
    "The robotic dog, which automatically learns the movement of his arms, is an example of Reinforcement learning."
   ]
  }
 ],
 "metadata": {
  "kernelspec": {
   "display_name": "Python 3 (ipykernel)",
   "language": "python",
   "name": "python3"
  },
  "language_info": {
   "codemirror_mode": {
    "name": "ipython",
    "version": 3
   },
   "file_extension": ".py",
   "mimetype": "text/x-python",
   "name": "python",
   "nbconvert_exporter": "python",
   "pygments_lexer": "ipython3",
   "version": "3.9.7"
  }
 },
 "nbformat": 4,
 "nbformat_minor": 4
}

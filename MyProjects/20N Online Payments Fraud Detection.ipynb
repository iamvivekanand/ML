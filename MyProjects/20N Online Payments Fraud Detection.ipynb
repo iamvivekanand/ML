{
 "cells": [
  {
   "cell_type": "markdown",
   "id": "b9799b1d",
   "metadata": {},
   "source": [
    "### Online Payments Fraud Detection"
   ]
  },
  {
   "cell_type": "raw",
   "id": "c06a95ad",
   "metadata": {},
   "source": [
    "Dataset download link https://www.kaggle.com/ealaxi/paysim1/download"
   ]
  },
  {
   "cell_type": "raw",
   "id": "c15489df",
   "metadata": {},
   "source": [
    "Dataset column descrition:\n",
    "\n",
    "step: represents a unit of time where 1 step equals 1 hour\n",
    "type: type of online transaction\n",
    "amount: the amount of the transaction\n",
    "nameOrig: customer starting the transaction\n",
    "oldbalanceOrg: balance before the transaction\n",
    "newbalanceOrig: balance after the transaction\n",
    "nameDest: recipient of the transaction\n",
    "oldbalanceDest: initial balance of recipient before the transaction\n",
    "newbalanceDest: the new balance of recipient after the transaction\n",
    "isFraud: fraud transaction"
   ]
  },
  {
   "cell_type": "code",
   "execution_count": 1,
   "id": "583fdb8f",
   "metadata": {},
   "outputs": [],
   "source": [
    "import pandas as pd\n",
    "import matplotlib.pyplot as plt\n",
    "import seaborn as sns"
   ]
  },
  {
   "cell_type": "raw",
   "id": "343f784a",
   "metadata": {},
   "source": [
    "df=pd.read_csv('')"
   ]
  },
  {
   "cell_type": "raw",
   "id": "4812806f",
   "metadata": {},
   "source": [
    "data.head()"
   ]
  },
  {
   "cell_type": "raw",
   "id": "2c80e7cd",
   "metadata": {},
   "source": [
    "data.isnull().sum()"
   ]
  },
  {
   "cell_type": "raw",
   "id": "eec99849",
   "metadata": {},
   "source": [
    "data.type.value_counts()\n",
    "\n",
    ">> CASH_OUT    2237500\n",
    "   PAYMENT     2151495\n",
    "   CASH_IN     1399284\n",
    "   TRANSFER     532909\n",
    "   DEBIT         41432\n",
    "   Name: type, dtype: int64"
   ]
  },
  {
   "cell_type": "raw",
   "id": "d64f1af6",
   "metadata": {},
   "source": [
    "type = data[\"type\"].value_counts()\n",
    "transactions = type.index\n",
    "quantity = type.values"
   ]
  },
  {
   "cell_type": "raw",
   "id": "b791f2a7",
   "metadata": {},
   "source": [
    "import plotly.express as px\n",
    "figure = px.pie(data, \n",
    "             values=quantity, \n",
    "             names=transactions,hole = 0.5, \n",
    "             title=\"Distribution of Transaction Type\")\n",
    "figure.show()"
   ]
  },
  {
   "cell_type": "raw",
   "id": "0f81bf30",
   "metadata": {},
   "source": [
    "Now let’s have a look at the correlation between the features of the data with the isFraud column:"
   ]
  },
  {
   "cell_type": "raw",
   "id": "a78e0a45",
   "metadata": {},
   "source": [
    "correlation = data.corr()\n",
    "print(correlation[\"isFraud\"].sort_values(ascending=False))\n",
    "\n",
    ">>\n",
    "isFraud           1.000000\n",
    "amount            0.076688\n",
    "isFlaggedFraud    0.044109\n",
    "step              0.031578\n",
    "oldbalanceOrg     0.010154\n",
    "newbalanceDest    0.000535\n",
    "oldbalanceDest   -0.005885\n",
    "newbalanceOrig   -0.008148\n",
    "Name: isFraud, dtype: float64"
   ]
  },
  {
   "cell_type": "raw",
   "id": "af7176f8",
   "metadata": {},
   "source": [
    "NOW WE WILL TRANSFORM SOME NUMERICAL FEATURES"
   ]
  },
  {
   "cell_type": "raw",
   "id": "34e816c5",
   "metadata": {},
   "source": [
    "data[\"type\"] = data[\"type\"].map({\"CASH_OUT\": 1, \"PAYMENT\": 2, \n",
    "                                 \"CASH_IN\": 3, \"TRANSFER\": 4,\n",
    "                                 \"DEBIT\": 5})\n",
    "data[\"isFraud\"] = data[\"isFraud\"].map({0: \"No Fraud\", 1: \"Fraud\"})\n",
    "print(data.head())"
   ]
  },
  {
   "cell_type": "markdown",
   "id": "2b28dbb1",
   "metadata": {},
   "source": [
    "### Online fraud detection model"
   ]
  },
  {
   "cell_type": "raw",
   "id": "4a518032",
   "metadata": {},
   "source": [
    "# splitting the data\n",
    "from sklearn.model_selection import train_test_split\n",
    "x = np.array(data[[\"type\", \"amount\", \"oldbalanceOrg\", \"newbalanceOrig\"]])\n",
    "y = np.array(data[[\"isFraud\"]])"
   ]
  },
  {
   "cell_type": "raw",
   "id": "69315b0e",
   "metadata": {},
   "source": [
    "# training a machine learning model\n",
    "from sklearn.tree import DecisionTreeClassifier\n",
    "xtrain, xtest, ytrain, ytest = train_test_split(x, y, test_size=0.10, random_state=42)\n",
    "model = DecisionTreeClassifier()\n",
    "model.fit(xtrain, ytrain)\n",
    "print(model.score(xtest, ytest))"
   ]
  },
  {
   "cell_type": "raw",
   "id": "1c01b44f",
   "metadata": {},
   "source": [
    "#features = [type, amount, oldbalanceOrg, newbalanceOrig]\n",
    "features = np.array([[4, 9000.60, 9000.60, 0.0]])\n",
    "print(model.predict(features))"
   ]
  },
  {
   "cell_type": "code",
   "execution_count": null,
   "id": "4e829a43",
   "metadata": {},
   "outputs": [],
   "source": []
  }
 ],
 "metadata": {
  "kernelspec": {
   "display_name": "Python 3 (ipykernel)",
   "language": "python",
   "name": "python3"
  },
  "language_info": {
   "codemirror_mode": {
    "name": "ipython",
    "version": 3
   },
   "file_extension": ".py",
   "mimetype": "text/x-python",
   "name": "python",
   "nbconvert_exporter": "python",
   "pygments_lexer": "ipython3",
   "version": "3.9.7"
  }
 },
 "nbformat": 4,
 "nbformat_minor": 5
}

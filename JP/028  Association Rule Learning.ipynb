{
 "cells": [
  {
   "cell_type": "markdown",
   "metadata": {},
   "source": [
    "### Association Rule Learning"
   ]
  },
  {
   "cell_type": "markdown",
   "metadata": {},
   "source": [
    "- Unsupervised ML technique\n",
    "- finds interesting relations or associations among the variables of dataset\n",
    "- mostly employed in Market Basket analysis, Web usage mining, continuous production, etc\n",
    "\n",
    "Association rule learning can be divided into three types of algorithms:\n",
    "    \n",
    "    1.Apriori\n",
    "    2.Eclat\n",
    "    3.F-P Growth Algorithm"
   ]
  },
  {
   "cell_type": "markdown",
   "metadata": {},
   "source": [
    "### How does Association Rule Learning work?"
   ]
  },
  {
   "cell_type": "markdown",
   "metadata": {},
   "source": [
    "It works on the concept of If and Else Statement, such as if A then B.\n",
    "\n",
    "Here the 'If' element is called antecedent, and 'Then' statement is called as Consequent.\n",
    "\n",
    "To measure the associations between thousands of data items, there are several metrics. These metrics are given below:\n",
    "    \n",
    "    Support\n",
    "    Confidence\n",
    "    Lift"
   ]
  },
  {
   "cell_type": "markdown",
   "metadata": {},
   "source": [
    "Support:\n",
    "Support is the frequency of A in a dataset"
   ]
  },
  {
   "cell_type": "markdown",
   "metadata": {},
   "source": [
    "<img src='support.jpg'>"
   ]
  },
  {
   "cell_type": "markdown",
   "metadata": {},
   "source": [
    "Confidence:\n",
    "- ratio of the transaction that contains X and Y to the number of records that contain X.\n",
    "- indicates how often the items X and Y occur together in the dataset when the occurrence of X is already given"
   ]
  },
  {
   "cell_type": "markdown",
   "metadata": {},
   "source": [
    "<img src='confidence.jpg'>"
   ]
  },
  {
   "cell_type": "markdown",
   "metadata": {},
   "source": [
    "Lift:\n",
    "\n",
    "Ratio of the observed support measure and expected support if X and Y are independent of each other. It has three \n",
    "    possible values:\n",
    "\n",
    "- If Lift= 1: The probability of occurrence of antecedent and consequent is independent of each other.\n",
    "- Lift>1: It determines the degree to which the two itemsets are dependent to each other.\n",
    "- Lift<1: It tells us that one item is a substitute for other items, which means one item has a negative effect on another."
   ]
  },
  {
   "cell_type": "markdown",
   "metadata": {},
   "source": [
    "### Types of Association Rule Lerning"
   ]
  },
  {
   "cell_type": "code",
   "execution_count": 1,
   "metadata": {},
   "outputs": [],
   "source": [
    "import numpy as np\n",
    "import pandas as pd"
   ]
  },
  {
   "cell_type": "code",
   "execution_count": 2,
   "metadata": {},
   "outputs": [],
   "source": [
    "# !pip install mlxtend"
   ]
  },
  {
   "cell_type": "code",
   "execution_count": 3,
   "metadata": {},
   "outputs": [],
   "source": [
    "# from mlxtend.frequent_patterns import apriori, association_rules"
   ]
  },
  {
   "cell_type": "code",
   "execution_count": 6,
   "metadata": {},
   "outputs": [],
   "source": [
    "# from apyori import apriori, association_rules"
   ]
  },
  {
   "cell_type": "code",
   "execution_count": null,
   "metadata": {},
   "outputs": [],
   "source": []
  }
 ],
 "metadata": {
  "kernelspec": {
   "display_name": "Python 3 (ipykernel)",
   "language": "python",
   "name": "python3"
  },
  "language_info": {
   "codemirror_mode": {
    "name": "ipython",
    "version": 3
   },
   "file_extension": ".py",
   "mimetype": "text/x-python",
   "name": "python",
   "nbconvert_exporter": "python",
   "pygments_lexer": "ipython3",
   "version": "3.9.7"
  }
 },
 "nbformat": 4,
 "nbformat_minor": 4
}

{
 "cells": [
  {
   "cell_type": "code",
   "execution_count": 1,
   "id": "e56e994b",
   "metadata": {},
   "outputs": [],
   "source": [
    "# Program for n-th Fibonacci number"
   ]
  },
  {
   "cell_type": "raw",
   "id": "d57fb9e6",
   "metadata": {},
   "source": [
    "In mathematical terms, the sequence Fn of Fibonacci numbers is defined by the recurrence relation \n",
    "Fn = Fn-1 + Fn-2\n",
    "\n",
    "With seed values F0 = 0 and F1 = 1."
   ]
  },
  {
   "cell_type": "code",
   "execution_count": 5,
   "id": "90ebc69b",
   "metadata": {},
   "outputs": [
    {
     "data": {
      "text/plain": [
       "34"
      ]
     },
     "execution_count": 5,
     "metadata": {},
     "output_type": "execute_result"
    }
   ],
   "source": [
    "def fibonac(n):\n",
    "    if n==0:\n",
    "        print('invalid input,First Fibonacci number is 0')\n",
    "    elif n==1:\n",
    "        return 0\n",
    "    elif n==2:\n",
    "        return 1\n",
    "    else:\n",
    "        return fibonac(n-2)+fibonac(n-1)\n",
    "fibonac(10)"
   ]
  },
  {
   "cell_type": "code",
   "execution_count": 20,
   "id": "5e104f78",
   "metadata": {},
   "outputs": [
    {
     "name": "stdout",
     "output_type": "stream",
     "text": [
      "Enter a number: 6\n",
      "91\n"
     ]
    }
   ],
   "source": [
    "# Sum of squares of first n natural numbers\n",
    "num=int(input('Enter a number: '))\n",
    "sum=0\n",
    "for i in range(1,num+1):\n",
    "    sum=sum+i*i\n",
    "print(sum)"
   ]
  },
  {
   "cell_type": "code",
   "execution_count": 21,
   "id": "fd1a9431",
   "metadata": {},
   "outputs": [
    {
     "name": "stdout",
     "output_type": "stream",
     "text": [
      "91\n"
     ]
    }
   ],
   "source": [
    "# user func\n",
    "def mysum(n):\n",
    "    sum=0\n",
    "    for i in range(1,num+1):\n",
    "        sum=sum+i*i\n",
    "    print(sum)\n",
    "mysum(5)"
   ]
  },
  {
   "cell_type": "code",
   "execution_count": 24,
   "id": "cead72ac",
   "metadata": {},
   "outputs": [
    {
     "name": "stdout",
     "output_type": "stream",
     "text": [
      "225\n"
     ]
    }
   ],
   "source": [
    "# cube of first n natural number\n",
    "\n",
    "def mycube(n):\n",
    "    cube=0  \n",
    "    for i in range(1,n+1):\n",
    "        cube=cube+i*i*i\n",
    "    print(cube)\n",
    "mycube(5)"
   ]
  },
  {
   "cell_type": "code",
   "execution_count": 25,
   "id": "81fd8fb3",
   "metadata": {},
   "outputs": [
    {
     "name": "stdout",
     "output_type": "stream",
     "text": [
      "225\n"
     ]
    }
   ],
   "source": [
    "n=5\n",
    "s=0\n",
    "for i in range(1,n+1):\n",
    "    s=s+pow(i,3)\n",
    "print(s)"
   ]
  },
  {
   "cell_type": "code",
   "execution_count": 26,
   "id": "bdbc7bb1",
   "metadata": {},
   "outputs": [
    {
     "name": "stdout",
     "output_type": "stream",
     "text": [
      "enter a charactern\n",
      "110\n"
     ]
    }
   ],
   "source": [
    "# Python program to print ASCII Value of Character\n",
    "\n",
    "x=input('enter a character')\n",
    "print(ord(x))"
   ]
  },
  {
   "cell_type": "code",
   "execution_count": 28,
   "id": "1c6a011a",
   "metadata": {},
   "outputs": [
    {
     "data": {
      "text/plain": [
       "7"
      ]
     },
     "execution_count": 28,
     "metadata": {},
     "output_type": "execute_result"
    }
   ],
   "source": [
    "# maximum of two numbers\n",
    "\n",
    "def maximum(a, b):     \n",
    "    if a >= b:\n",
    "        return a\n",
    "    else:\n",
    "        return b\n",
    "maximum(5,7)"
   ]
  },
  {
   "cell_type": "code",
   "execution_count": 32,
   "id": "d24920c8",
   "metadata": {},
   "outputs": [
    {
     "name": "stdout",
     "output_type": "stream",
     "text": [
      "Enter a: 5\n",
      "Enter b: 3\n",
      "Max value is  5\n"
     ]
    }
   ],
   "source": [
    "a=int(input('Enter a: '))\n",
    "b=int(input('Enter b: '))\n",
    "print('Max value is ',max(a,b))"
   ]
  },
  {
   "cell_type": "code",
   "execution_count": 33,
   "id": "4c6550e8",
   "metadata": {},
   "outputs": [
    {
     "name": "stdout",
     "output_type": "stream",
     "text": [
      "Enter a: 7\n",
      "Enter b: 5\n",
      "7\n"
     ]
    }
   ],
   "source": [
    "# find max using ternary operator\n",
    "\n",
    "a=int(input('Enter a: '))\n",
    "b=int(input('Enter b: '))\n",
    "print(a if a>b else b)"
   ]
  },
  {
   "cell_type": "code",
   "execution_count": 38,
   "id": "a5d7e962",
   "metadata": {},
   "outputs": [
    {
     "name": "stdout",
     "output_type": "stream",
     "text": [
      "Enter a: 4\n",
      "Enter b: 3\n"
     ]
    },
    {
     "data": {
      "text/plain": [
       "<function __main__.<lambda>(a, b)>"
      ]
     },
     "execution_count": 38,
     "metadata": {},
     "output_type": "execute_result"
    }
   ],
   "source": [
    "a=int(input('Enter a: '))\n",
    "b=int(input('Enter b: '))\n",
    "lambda a,b:a if a>b else b"
   ]
  },
  {
   "cell_type": "code",
   "execution_count": 39,
   "id": "dc1bc5bf",
   "metadata": {},
   "outputs": [
    {
     "name": "stdout",
     "output_type": "stream",
     "text": [
      "4 is a maximum number\n"
     ]
    }
   ],
   "source": [
    "a,b=4,3\n",
    "maximum = lambda a,b:a if a > b else b\n",
    "print(f'{maximum(a,b)} is a maximum number')"
   ]
  },
  {
   "cell_type": "code",
   "execution_count": 42,
   "id": "7de0b952",
   "metadata": {},
   "outputs": [
    {
     "data": {
      "text/plain": [
       "0"
      ]
     },
     "execution_count": 42,
     "metadata": {},
     "output_type": "execute_result"
    }
   ],
   "source": [
    "# Factorial of a number\n",
    "\n",
    "def factorial(n):\n",
    "    if n==0 or n==1:\n",
    "        return 0\n",
    "    else:\n",
    "         return n*factorial(n-1)\n",
    "factorial(3)"
   ]
  },
  {
   "cell_type": "code",
   "execution_count": 47,
   "id": "783537e9",
   "metadata": {},
   "outputs": [
    {
     "name": "stdout",
     "output_type": "stream",
     "text": [
      "24\n"
     ]
    }
   ],
   "source": [
    "def factorial(n):\n",
    "    if n < 0:\n",
    "        return 0\n",
    "    elif n == 0 or n == 1:\n",
    "        return 1\n",
    "    else:\n",
    "        fact = 1\n",
    "        while(n > 1):\n",
    "            fact= fact*n\n",
    "            n=n-1\n",
    "        return fact\n",
    "print(factorial(4))"
   ]
  },
  {
   "cell_type": "code",
   "execution_count": 48,
   "id": "fe5e8179",
   "metadata": {},
   "outputs": [
    {
     "name": "stdout",
     "output_type": "stream",
     "text": [
      "24\n"
     ]
    }
   ],
   "source": [
    "def factorial(n):     \n",
    "    r = 1     \n",
    "    for i in range(2, n+1):\n",
    "        r *= i\n",
    "    return r\n",
    "print(factorial(4))"
   ]
  },
  {
   "cell_type": "code",
   "execution_count": 49,
   "id": "b7563891",
   "metadata": {},
   "outputs": [
    {
     "name": "stdout",
     "output_type": "stream",
     "text": [
      "24\n"
     ]
    }
   ],
   "source": [
    "def factorial(n):\n",
    "     return 1 if (n==1 or n==0) else n * factorial(n - 1)\n",
    "print (factorial(4))"
   ]
  },
  {
   "cell_type": "code",
   "execution_count": 50,
   "id": "e98c9d91",
   "metadata": {},
   "outputs": [
    {
     "name": "stdout",
     "output_type": "stream",
     "text": [
      "120\n"
     ]
    }
   ],
   "source": [
    "import math\n",
    "def fact(n):\n",
    "    return(math.factorial(n))\n",
    "print(fact(5))"
   ]
  },
  {
   "cell_type": "code",
   "execution_count": 51,
   "id": "8d65362a",
   "metadata": {},
   "outputs": [
    {
     "name": "stdout",
     "output_type": "stream",
     "text": [
      "120\n"
     ]
    }
   ],
   "source": [
    "import numpy\n",
    "n=5\n",
    "x=numpy.prod([i for i in range(1,n+1)])\n",
    "print(x)"
   ]
  },
  {
   "cell_type": "code",
   "execution_count": 54,
   "id": "e58e3cc4",
   "metadata": {},
   "outputs": [
    {
     "data": {
      "text/plain": [
       "10"
      ]
     },
     "execution_count": 54,
     "metadata": {},
     "output_type": "execute_result"
    }
   ],
   "source": [
    "# sum of an array\n",
    "\n",
    "def sumarray(arr):\n",
    "    sum=0\n",
    "    for i in arr:\n",
    "        sum=sum+i\n",
    "    return sum\n",
    "arr=[1,2,3,4]\n",
    "sumarray(arr)"
   ]
  },
  {
   "cell_type": "code",
   "execution_count": 57,
   "id": "1206b22f",
   "metadata": {},
   "outputs": [
    {
     "data": {
      "text/plain": [
       "10"
      ]
     },
     "execution_count": 57,
     "metadata": {},
     "output_type": "execute_result"
    }
   ],
   "source": [
    "# find sum using numpy\n",
    "import numpy as np\n",
    "np.sum(arr)"
   ]
  },
  {
   "cell_type": "code",
   "execution_count": 60,
   "id": "42682c11",
   "metadata": {},
   "outputs": [
    {
     "data": {
      "text/plain": [
       "array([10,  8])"
      ]
     },
     "execution_count": 60,
     "metadata": {},
     "output_type": "execute_result"
    }
   ],
   "source": [
    "np.add([2,3],[8,5])"
   ]
  },
  {
   "cell_type": "code",
   "execution_count": 64,
   "id": "78349527",
   "metadata": {},
   "outputs": [
    {
     "ename": "AttributeError",
     "evalue": "module 'math' has no attribute 'add'",
     "output_type": "error",
     "traceback": [
      "\u001b[1;31m---------------------------------------------------------------------------\u001b[0m",
      "\u001b[1;31mAttributeError\u001b[0m                            Traceback (most recent call last)",
      "\u001b[1;32m~\\AppData\\Local\\Temp/ipykernel_1872/1544945095.py\u001b[0m in \u001b[0;36m<module>\u001b[1;34m\u001b[0m\n\u001b[0;32m      1\u001b[0m \u001b[1;31m# using built in function\u001b[0m\u001b[1;33m\u001b[0m\u001b[1;33m\u001b[0m\u001b[0m\n\u001b[0;32m      2\u001b[0m \u001b[1;32mimport\u001b[0m \u001b[0mmath\u001b[0m\u001b[1;33m\u001b[0m\u001b[1;33m\u001b[0m\u001b[0m\n\u001b[1;32m----> 3\u001b[1;33m \u001b[0mmath\u001b[0m\u001b[1;33m.\u001b[0m\u001b[0madd\u001b[0m\u001b[1;33m(\u001b[0m\u001b[1;33m[\u001b[0m\u001b[1;36m1\u001b[0m\u001b[1;33m,\u001b[0m\u001b[1;36m2\u001b[0m\u001b[1;33m,\u001b[0m\u001b[1;36m3\u001b[0m\u001b[1;33m,\u001b[0m\u001b[1;36m4\u001b[0m\u001b[1;33m]\u001b[0m\u001b[1;33m)\u001b[0m\u001b[1;33m\u001b[0m\u001b[1;33m\u001b[0m\u001b[0m\n\u001b[0m",
      "\u001b[1;31mAttributeError\u001b[0m: module 'math' has no attribute 'add'"
     ]
    }
   ],
   "source": [
    "# using built in function\n",
    "import math\n",
    "math.sum([1,2,3,4])"
   ]
  },
  {
   "cell_type": "code",
   "execution_count": 68,
   "id": "4da46143",
   "metadata": {},
   "outputs": [
    {
     "data": {
      "text/plain": [
       "5"
      ]
     },
     "execution_count": 68,
     "metadata": {},
     "output_type": "execute_result"
    }
   ],
   "source": [
    "# maximum of an array\n",
    "max(arr)"
   ]
  },
  {
   "cell_type": "code",
   "execution_count": 69,
   "id": "93dab168",
   "metadata": {},
   "outputs": [
    {
     "name": "stdout",
     "output_type": "stream",
     "text": [
      "Largest in given array  9808\n"
     ]
    }
   ],
   "source": [
    "def largest(arr, n):\n",
    " \n",
    "    # Initialize maximum element\n",
    "    max = arr[0]\n",
    "    # Traverse array elements from second and compare every element with current max\n",
    "    for i in range(1, n):\n",
    "        if arr[i] > max:\n",
    "            max = arr[i]\n",
    "    return max\n",
    "arr = [10, 324, 45, 90, 9808]\n",
    "n = len(arr)\n",
    "ans = largest(arr, n)\n",
    "print(\"Largest in given array \", ans)"
   ]
  },
  {
   "cell_type": "code",
   "execution_count": 73,
   "id": "11f52167",
   "metadata": {},
   "outputs": [
    {
     "name": "stdout",
     "output_type": "stream",
     "text": [
      "5\n"
     ]
    }
   ],
   "source": [
    "# Using sort function\n",
    "arr=np.arange(6)\n",
    "# x=arr.sort()   sort function doesn't create a copy of array, it changes the original array\n",
    "arr.sort()\n",
    "print(arr[-1])"
   ]
  },
  {
   "cell_type": "code",
   "execution_count": 74,
   "id": "5b742142",
   "metadata": {},
   "outputs": [
    {
     "name": "stdout",
     "output_type": "stream",
     "text": [
      "[3, 4, 5, 6, 7, 1, 2]\n"
     ]
    }
   ],
   "source": [
    "# Rotate an array by 2\n",
    "arr= [1, 2, 3, 4, 5, 6, 7]\n",
    "arr2=[]\n",
    "for i in arr[2:]:\n",
    "    arr2.append(i) \n",
    "for i in arr[0:2]:\n",
    "    arr2.append(i)\n",
    "print(arr2)"
   ]
  },
  {
   "cell_type": "code",
   "execution_count": 76,
   "id": "8f561dc5",
   "metadata": {},
   "outputs": [
    {
     "data": {
      "text/plain": [
       "[3, 4, 5, 6, 7, 1, 2]"
      ]
     },
     "execution_count": 76,
     "metadata": {},
     "output_type": "execute_result"
    }
   ],
   "source": [
    "def rotatearr(arr,n,d):\n",
    "    arr[:]=arr[d:n]+arr[0:d]\n",
    "    return arr\n",
    "arr= [1, 2, 3, 4, 5, 6, 7]\n",
    "n=len(arr)\n",
    "d=2\n",
    "rotatearr(arr,n,d)"
   ]
  },
  {
   "cell_type": "code",
   "execution_count": 77,
   "id": "ef6e878e",
   "metadata": {},
   "outputs": [
    {
     "name": "stdout",
     "output_type": "stream",
     "text": [
      "True\n"
     ]
    }
   ],
   "source": [
    "def isMonotonic(A):\n",
    "  \n",
    "    return (all(A[i] <= A[i + 1] for i in range(len(A) - 1)) or\n",
    "            all(A[i] >= A[i + 1] for i in range(len(A) - 1)))\n",
    "  \n",
    "# Driver program\n",
    "A = [6, 5, 4, 4]\n",
    "  \n",
    "# Print required result\n",
    "print(isMonotonic(A))"
   ]
  },
  {
   "cell_type": "code",
   "execution_count": 2,
   "id": "83065883",
   "metadata": {},
   "outputs": [
    {
     "name": "stdout",
     "output_type": "stream",
     "text": [
      "5\n"
     ]
    }
   ],
   "source": [
    "# Ways to find length of list\n",
    "n=0\n",
    "mylist = [1,4,5,7,8]\n",
    "for i in mylist:\n",
    "    n=n+1\n",
    "print(str(n))"
   ]
  },
  {
   "cell_type": "code",
   "execution_count": 4,
   "id": "7c6ca83c",
   "metadata": {},
   "outputs": [
    {
     "name": "stdout",
     "output_type": "stream",
     "text": [
      "5\n",
      "5\n"
     ]
    }
   ],
   "source": [
    "# using lenght function and length_hint \n",
    "\n",
    "from operator import length_hint\n",
    "print(len(mylist))\n",
    "print(length_hint(mylist))"
   ]
  },
  {
   "cell_type": "code",
   "execution_count": 7,
   "id": "82d26912",
   "metadata": {},
   "outputs": [
    {
     "name": "stdout",
     "output_type": "stream",
     "text": [
      "start_time= 1662449284.285576\n",
      "end_time= 0.0\n"
     ]
    }
   ],
   "source": [
    "import time\n",
    "mylist = [ 1, 4, 5, 7, 8 ]\n",
    "\n",
    "print('start_time=', time.time())\n",
    "start_time= time.time()\n",
    "counter = 0\n",
    "\n",
    "for i in mylist:\n",
    "    counter = counter + 1\n",
    "end_time = str(time.time() - start_time)\n",
    "\n",
    "print('end_time=',end_time)"
   ]
  },
  {
   "cell_type": "markdown",
   "id": "90a3d7f2",
   "metadata": {},
   "source": [
    "### Check if an element exists"
   ]
  },
  {
   "cell_type": "code",
   "execution_count": 8,
   "id": "0bb03f4b",
   "metadata": {},
   "outputs": [
    {
     "name": "stdout",
     "output_type": "stream",
     "text": [
      "Element Exists\n"
     ]
    }
   ],
   "source": [
    "test_list = [1, 6, 3, 5, 3, 4]\n",
    " \n",
    "# Checking if 4 exists in list\n",
    "for i in test_list:\n",
    "    if(i == 4):\n",
    "        print(\"Element Exists\")"
   ]
  },
  {
   "cell_type": "code",
   "execution_count": 9,
   "id": "27a471d5",
   "metadata": {},
   "outputs": [
    {
     "name": "stdout",
     "output_type": "stream",
     "text": [
      "Element Exists\n"
     ]
    }
   ],
   "source": [
    "if (4 in test_list):\n",
    "    print(\"Element Exists\")"
   ]
  },
  {
   "cell_type": "code",
   "execution_count": 10,
   "id": "779f03ca",
   "metadata": {},
   "outputs": [
    {
     "name": "stdout",
     "output_type": "stream",
     "text": [
      "Element Exists\n"
     ]
    }
   ],
   "source": [
    "if 4 in test_list:\n",
    "    print(\"Element Exists\")"
   ]
  },
  {
   "cell_type": "code",
   "execution_count": 18,
   "id": "7d26448f",
   "metadata": {},
   "outputs": [
    {
     "name": "stdout",
     "output_type": "stream",
     "text": [
      "Not exits\n"
     ]
    }
   ],
   "source": [
    "# Check if an element exists in the list using count()\n",
    "\n",
    "mylist = [10, 15, 20, 7, 46, 2808]\n",
    "n = mylist.count(33)\n",
    "#  count() Return number of occurrences of value.\n",
    "\n",
    "if n > 0:\n",
    "    print(\"Yes\")\n",
    "else:\n",
    "    print(\"Not exits\" )"
   ]
  },
  {
   "cell_type": "markdown",
   "id": "40ce393c",
   "metadata": {},
   "source": [
    "### Different ways to clear a list in Python"
   ]
  },
  {
   "cell_type": "code",
   "execution_count": 19,
   "id": "7452f99e",
   "metadata": {},
   "outputs": [
    {
     "data": {
      "text/plain": [
       "[]"
      ]
     },
     "execution_count": 19,
     "metadata": {},
     "output_type": "execute_result"
    }
   ],
   "source": [
    "mylist = [10, 15, 20, 7, 46, 2808]\n",
    "mylist.clear()\n",
    "mylist"
   ]
  },
  {
   "cell_type": "code",
   "execution_count": 26,
   "id": "8629b696",
   "metadata": {},
   "outputs": [
    {
     "data": {
      "text/plain": [
       "[]"
      ]
     },
     "execution_count": 26,
     "metadata": {},
     "output_type": "execute_result"
    }
   ],
   "source": [
    "# using pop\n",
    "mylist = [10, 15, 20, 7, 46, 2808]\n",
    "for i in range(0,len(mylist)):\n",
    "    mylist.pop()\n",
    "mylist"
   ]
  },
  {
   "cell_type": "code",
   "execution_count": 27,
   "id": "241fba0d",
   "metadata": {},
   "outputs": [
    {
     "data": {
      "text/plain": [
       "[]"
      ]
     },
     "execution_count": 27,
     "metadata": {},
     "output_type": "execute_result"
    }
   ],
   "source": [
    "mylist = [10, 15, 20, 7, 46, 2808]\n",
    "mylist=mylist*0\n",
    "mylist"
   ]
  },
  {
   "cell_type": "code",
   "execution_count": 28,
   "id": "058e104a",
   "metadata": {},
   "outputs": [
    {
     "data": {
      "text/plain": [
       "[]"
      ]
     },
     "execution_count": 28,
     "metadata": {},
     "output_type": "execute_result"
    }
   ],
   "source": [
    "# using del\n",
    "mylist = [10, 15, 20, 7, 46, 2808]\n",
    "del mylist[:]\n",
    "mylist"
   ]
  },
  {
   "cell_type": "markdown",
   "id": "db0a8a89",
   "metadata": {},
   "source": [
    "### Reversing a list/array"
   ]
  },
  {
   "cell_type": "code",
   "execution_count": 30,
   "id": "d8cb68b0",
   "metadata": {},
   "outputs": [
    {
     "name": "stdout",
     "output_type": "stream",
     "text": [
      "[10, 11, 12, 13, 14, 15]\n"
     ]
    },
    {
     "data": {
      "text/plain": [
       "[15, 14, 13, 12, 11, 10]"
      ]
     },
     "execution_count": 30,
     "metadata": {},
     "output_type": "execute_result"
    }
   ],
   "source": [
    "lst = [10, 11, 12, 13, 14, 15]\n",
    "print(lst)\n",
    "lst.reverse()\n",
    "lst"
   ]
  },
  {
   "cell_type": "code",
   "execution_count": 31,
   "id": "858b0bb7",
   "metadata": {},
   "outputs": [
    {
     "name": "stdout",
     "output_type": "stream",
     "text": [
      "[15, 14, 13, 12, 11, 10]\n"
     ]
    }
   ],
   "source": [
    "list1 = [10, 11, 12, 13, 14, 15]\n",
    "list2 = []\n",
    "\n",
    "for i in list1:\n",
    "    list2.insert(0, i) # Inserts i at 0, and position zero keeps changing with each loop\n",
    "print(list2)"
   ]
  },
  {
   "cell_type": "code",
   "execution_count": 32,
   "id": "b9f9194f",
   "metadata": {},
   "outputs": [
    {
     "data": {
      "text/plain": [
       "[15, 14, 13, 12, 11, 10]"
      ]
     },
     "execution_count": 32,
     "metadata": {},
     "output_type": "execute_result"
    }
   ],
   "source": [
    "# Reversing a list using the slicing technique\n",
    "list1 = [10, 11, 12, 13, 14, 15]\n",
    "\n",
    "list1=list1[::-1]\n",
    "list1"
   ]
  },
  {
   "cell_type": "raw",
   "id": "3a3ba65b",
   "metadata": {},
   "source": [
    "# using for loop\n",
    "mylist= [10, 11, 12, 13, 14, 15]\n",
    "for i in range(0,len(mylist)):\n",
    "    mylist=mylist[len(mylist)-i]\n",
    "mylist"
   ]
  },
  {
   "cell_type": "code",
   "execution_count": 38,
   "id": "c04c4034",
   "metadata": {},
   "outputs": [
    {
     "name": "stdout",
     "output_type": "stream",
     "text": [
      "[15, 14, 13, 12, 11, 10]\n"
     ]
    }
   ],
   "source": [
    "mylist = [10, 11, 12, 13, 14, 15]\n",
    "print([mylist[len(mylist) - i] for i in range(1, len(mylist)+1)])"
   ]
  },
  {
   "cell_type": "code",
   "execution_count": 39,
   "id": "32d6c8c8",
   "metadata": {},
   "outputs": [],
   "source": [
    "# FINDING SUM OF A LIST"
   ]
  },
  {
   "cell_type": "code",
   "execution_count": 44,
   "id": "c86c7bf7",
   "metadata": {},
   "outputs": [
    {
     "name": "stdout",
     "output_type": "stream",
     "text": [
      "74\n"
     ]
    }
   ],
   "source": [
    "list1 = [11, 5, 17, 18, 23]\n",
    "summ=0\n",
    "for i in range(0,len(list1)):\n",
    "    summ=summ+list1[i]\n",
    "print(summ)"
   ]
  },
  {
   "cell_type": "raw",
   "id": "3137b4e1",
   "metadata": {},
   "source": [
    "list1 = [11, 5, 17, 18, 23]\n",
    "summ=0\n",
    "for i in range(0,len(list1)):\n",
    "    summ=summ+list1[i]\n",
    "return summ\n",
    "\n",
    "\n",
    "What is the use of return statement?\n",
    "A return statement ends the execution of a function, and returns control to the calling function. Execution resumes in the calling function at the point immediately following the call. A return statement can return a value to the calling function\n",
    "\n",
    "Is return function necessary?\n",
    "NO, a function does not always have to have an explicit return statement. If the function doesn't need to provide any results to the calling point, then the return is not needed."
   ]
  },
  {
   "cell_type": "raw",
   "id": "79a87b2b",
   "metadata": {},
   "source": [
    "What is difference between print and return in Python?\n",
    "The print() function writes, i.e., \"prints\", a string or a number on the console. The return statement does not print out the value it returns when the function is called. It however causes the function to exit or terminate immediately, even if it is not the last statement of the function."
   ]
  },
  {
   "cell_type": "code",
   "execution_count": 47,
   "id": "3e929f4c",
   "metadata": {},
   "outputs": [
    {
     "data": {
      "text/plain": [
       "74"
      ]
     },
     "execution_count": 47,
     "metadata": {},
     "output_type": "execute_result"
    }
   ],
   "source": [
    "def summ(x):\n",
    "    sum=0\n",
    "    for i in range(0,len(x)):\n",
    "        sum=sum+x[i]\n",
    "    return sum\n",
    "list1 = [11, 5, 17, 18, 23]\n",
    "summ(list1)"
   ]
  },
  {
   "cell_type": "code",
   "execution_count": 49,
   "id": "33585d34",
   "metadata": {},
   "outputs": [
    {
     "name": "stdout",
     "output_type": "stream",
     "text": [
      "45\n"
     ]
    }
   ],
   "source": [
    "list1 = [15, 15, 5, 10]\n",
    "s=0\n",
    "for i,a in enumerate(list1):\n",
    "    s+=a\n",
    "print(s)"
   ]
  },
  {
   "cell_type": "code",
   "execution_count": 50,
   "id": "5e181a10",
   "metadata": {},
   "outputs": [
    {
     "name": "stdout",
     "output_type": "stream",
     "text": [
      "40\n"
     ]
    }
   ],
   "source": [
    "list1 = [12, 15, 3, 10]\n",
    "s=[i for i in list1]\n",
    "print(sum(s))"
   ]
  },
  {
   "cell_type": "markdown",
   "id": "d14b30aa",
   "metadata": {},
   "source": [
    "### Multiply all numbers in the list (4 different ways)"
   ]
  },
  {
   "cell_type": "code",
   "execution_count": 54,
   "id": "bef0b071",
   "metadata": {},
   "outputs": [
    {
     "data": {
      "text/plain": [
       "0"
      ]
     },
     "execution_count": 54,
     "metadata": {},
     "output_type": "execute_result"
    }
   ],
   "source": [
    "def prod(n):\n",
    "    multi=1\n",
    "    for i in range(0,len(n)):\n",
    "        multi=multi*i\n",
    "    return multi\n",
    "list1 = [1, 2, 3]\n",
    "list2 = [3, 2, 4]\n",
    "prod(list1)\n",
    "prod(list2)"
   ]
  },
  {
   "cell_type": "code",
   "execution_count": 55,
   "id": "c599fa09",
   "metadata": {},
   "outputs": [
    {
     "name": "stdout",
     "output_type": "stream",
     "text": [
      "6\n",
      "24\n"
     ]
    }
   ],
   "source": [
    "def prod(myList) :\n",
    "    result = 1\n",
    "    for i in myList:\n",
    "        result = result * i\n",
    "    return result\n",
    "     \n",
    "# Driver code\n",
    "list1 = [1, 2, 3]\n",
    "list2 = [3, 2, 4]\n",
    "print(prod(list1))\n",
    "print(prod(list2))"
   ]
  },
  {
   "cell_type": "code",
   "execution_count": 56,
   "id": "08a60e8e",
   "metadata": {},
   "outputs": [
    {
     "data": {
      "text/plain": [
       "6"
      ]
     },
     "execution_count": 56,
     "metadata": {},
     "output_type": "execute_result"
    }
   ],
   "source": [
    "list1 = [1, 2, 3]\n",
    "import numpy as np\n",
    "np.prod(list1)"
   ]
  },
  {
   "cell_type": "raw",
   "id": "9013e5f3",
   "metadata": {},
   "source": [
    "Apply a function of two arguments cumulatively to the items of a sequence,\n",
    "from left to right, so as to reduce the sequence to a single value."
   ]
  },
  {
   "cell_type": "code",
   "execution_count": 57,
   "id": "37b7b6aa",
   "metadata": {},
   "outputs": [
    {
     "name": "stdout",
     "output_type": "stream",
     "text": [
      "6\n",
      "24\n"
     ]
    }
   ],
   "source": [
    "from functools import reduce\n",
    "list1 = [1, 2, 3]\n",
    "list2 = [3, 2, 4]\n",
    " \n",
    " \n",
    "result1 = reduce((lambda x, y: x * y), list1)\n",
    "result2 = reduce((lambda x, y: x * y), list2)\n",
    "print(result1)\n",
    "print(result2)"
   ]
  },
  {
   "cell_type": "code",
   "execution_count": 59,
   "id": "af89c11f",
   "metadata": {},
   "outputs": [
    {
     "data": {
      "text/plain": [
       "6"
      ]
     },
     "execution_count": 59,
     "metadata": {},
     "output_type": "execute_result"
    }
   ],
   "source": [
    "import math\n",
    "math.prod(list1)"
   ]
  },
  {
   "cell_type": "code",
   "execution_count": 61,
   "id": "a95087f3",
   "metadata": {},
   "outputs": [
    {
     "name": "stdout",
     "output_type": "stream",
     "text": [
      "[4, 10, 20, 45, 99]\n"
     ]
    },
    {
     "data": {
      "text/plain": [
       "45"
      ]
     },
     "execution_count": 61,
     "metadata": {},
     "output_type": "execute_result"
    }
   ],
   "source": [
    "# find second largest number in a list\n",
    "list1 = [10, 20, 4, 45, 99]\n",
    "list1.sort()\n",
    "print(list1)\n",
    "list1[-2]"
   ]
  },
  {
   "cell_type": "code",
   "execution_count": 62,
   "id": "bbd3513b",
   "metadata": {},
   "outputs": [
    {
     "data": {
      "text/plain": [
       "45"
      ]
     },
     "execution_count": 62,
     "metadata": {},
     "output_type": "execute_result"
    }
   ],
   "source": [
    "# By removing the max element from the list\n",
    "list1 = [10, 20, 4, 45, 99]\n",
    "list1.remove(max(list1))\n",
    "max(list1)"
   ]
  },
  {
   "cell_type": "code",
   "execution_count": 66,
   "id": "3b00597f",
   "metadata": {},
   "outputs": [
    {
     "name": "stdout",
     "output_type": "stream",
     "text": [
      "33\n"
     ]
    }
   ],
   "source": [
    "def maxx(x):\n",
    "    submax=[i for i in x if i<max(x)]\n",
    "    return max(submax)\n",
    "if __name__=='__main__':\n",
    "    mylist=[2,33,52,21]\n",
    "    print(maxx(mylist))"
   ]
  },
  {
   "cell_type": "code",
   "execution_count": 1,
   "id": "1be9493f",
   "metadata": {},
   "outputs": [
    {
     "data": {
      "text/plain": [
       "[24, 35, 9, 56, 24]"
      ]
     },
     "execution_count": 1,
     "metadata": {},
     "output_type": "execute_result"
    }
   ],
   "source": [
    "# change first and last element\n",
    "mylist=[12, 35, 9, 56, 24]\n",
    "mylist[0]=mylist[-1]\n",
    "mylist"
   ]
  },
  {
   "cell_type": "code",
   "execution_count": 2,
   "id": "6d7598ed",
   "metadata": {},
   "outputs": [
    {
     "name": "stdout",
     "output_type": "stream",
     "text": [
      "5\n"
     ]
    }
   ],
   "source": [
    "# find length of a list using for loop\n",
    "mylist=[12, 35, 9, 56, 24]\n",
    "\n",
    "count=0\n",
    "for i in mylist:\n",
    "    count=count+1\n",
    "print(count)"
   ]
  },
  {
   "cell_type": "raw",
   "id": "50f05ae4",
   "metadata": {},
   "source": [
    "# Different ways to clear a list in Python\n",
    "\n",
    "del list1[:]\n",
    "print (\"List2 after clearing using del : \" + str(list2))\n",
    "list1 *= 0\n",
    "list1.clear()"
   ]
  },
  {
   "cell_type": "raw",
   "id": "db65a8ed",
   "metadata": {},
   "source": [
    "lst.reverse()"
   ]
  },
  {
   "cell_type": "code",
   "execution_count": 4,
   "id": "4bffbbdd",
   "metadata": {},
   "outputs": [
    {
     "name": "stdout",
     "output_type": "stream",
     "text": [
      "[15, 14, 13, 12, 11, 10]\n"
     ]
    }
   ],
   "source": [
    "# reversing a list\n",
    "\n",
    "list1 = [10, 11, 12, 13, 14, 15]\n",
    "list2 = []\n",
    "for i in list1:\n",
    "    # reversing the list\n",
    "    list2.insert(0, i)\n",
    "print(list2)"
   ]
  },
  {
   "cell_type": "code",
   "execution_count": 6,
   "id": "f172607a",
   "metadata": {},
   "outputs": [
    {
     "data": {
      "text/plain": [
       "[5, 4, 3, 2, 1]"
      ]
     },
     "execution_count": 6,
     "metadata": {},
     "output_type": "execute_result"
    }
   ],
   "source": [
    "# reversing a list using slicing\n",
    "def revers(mylist):\n",
    "    nlist=mylist[::-1]\n",
    "    return nlist\n",
    "revers([1,2,3,4,5])"
   ]
  },
  {
   "cell_type": "code",
   "execution_count": 7,
   "id": "67bc56d9",
   "metadata": {},
   "outputs": [
    {
     "name": "stdout",
     "output_type": "stream",
     "text": [
      "[15, 14, 13, 12, 11, 10]\n"
     ]
    }
   ],
   "source": [
    "# Using list comprehension\n",
    "list1 = [10, 11, 12, 13, 14, 15]\n",
    "nlist = [list1[len(list1) - i] for i in range(1, len(list1)+1)]\n",
    "print(nlist)"
   ]
  },
  {
   "cell_type": "code",
   "execution_count": 10,
   "id": "2903cb1a",
   "metadata": {},
   "outputs": [
    {
     "name": "stdout",
     "output_type": "stream",
     "text": [
      "5\n"
     ]
    }
   ],
   "source": [
    "# find sum of elements in list : for loop\n",
    "list1 = [1, 1, 1, 1, 1]\n",
    "total=0\n",
    "for i in range(0,len(list1)):\n",
    "    total=total+list1[i]\n",
    "print(total)"
   ]
  },
  {
   "cell_type": "code",
   "execution_count": 11,
   "id": "86ed7dd5",
   "metadata": {},
   "outputs": [
    {
     "name": "stdout",
     "output_type": "stream",
     "text": [
      "79\n"
     ]
    }
   ],
   "source": [
    "# Find sum of elements in list using while loop\n",
    "\n",
    "list1 = [11, 5, 17, 18, 23]\n",
    "\n",
    "i=0\n",
    "while(i < len(list1)):\n",
    "    total = total + list1[i]\n",
    "    i += 1\n",
    "print(total)"
   ]
  },
  {
   "cell_type": "code",
   "execution_count": 13,
   "id": "3aec07f2",
   "metadata": {},
   "outputs": [
    {
     "name": "stdout",
     "output_type": "stream",
     "text": [
      "0 : 12\n",
      "1 : 15\n",
      "2 : 3\n",
      "3 : 10\n"
     ]
    }
   ],
   "source": [
    "list1 = [12, 15, 3, 10];s=0\n",
    "for i,a in enumerate(list1):\n",
    "    print(i,':',a)"
   ]
  },
  {
   "cell_type": "code",
   "execution_count": 14,
   "id": "a9270ef4",
   "metadata": {},
   "outputs": [
    {
     "name": "stdout",
     "output_type": "stream",
     "text": [
      "40\n"
     ]
    }
   ],
   "source": [
    "list1 = [12, 15, 3, 10];s=0\n",
    "for i,a in enumerate(list1):\n",
    "    s=s+a\n",
    "print(s)"
   ]
  },
  {
   "cell_type": "code",
   "execution_count": 17,
   "id": "94710f44",
   "metadata": {},
   "outputs": [
    {
     "name": "stdout",
     "output_type": "stream",
     "text": [
      "40\n"
     ]
    }
   ],
   "source": [
    "# Multiply all numbers in the list\n",
    "\n",
    "mylist=[1,2,4,5]\n",
    "prod=1\n",
    "for i in mylist:\n",
    "    prod=prod*i\n",
    "print(prod)"
   ]
  },
  {
   "cell_type": "code",
   "execution_count": 18,
   "id": "c35847da",
   "metadata": {},
   "outputs": [],
   "source": [
    "import numpy as np"
   ]
  },
  {
   "cell_type": "code",
   "execution_count": 20,
   "id": "33e5b6ce",
   "metadata": {},
   "outputs": [
    {
     "data": {
      "text/plain": [
       "40"
      ]
     },
     "execution_count": 20,
     "metadata": {},
     "output_type": "execute_result"
    }
   ],
   "source": [
    "prod=np.prod(mylist)\n",
    "prod"
   ]
  },
  {
   "cell_type": "code",
   "execution_count": null,
   "id": "f18a0f64",
   "metadata": {},
   "outputs": [],
   "source": [
    "# product using reduce function\n",
    "\n",
    "from functools import reduce\n",
    "list1 = [1, 2, 3]\n",
    "list2 = [3, 2, 4]\n",
    "\n",
    "reduce(lambda x,y:x*y)"
   ]
  }
 ],
 "metadata": {
  "kernelspec": {
   "display_name": "Python 3 (ipykernel)",
   "language": "python",
   "name": "python3"
  },
  "language_info": {
   "codemirror_mode": {
    "name": "ipython",
    "version": 3
   },
   "file_extension": ".py",
   "mimetype": "text/x-python",
   "name": "python",
   "nbconvert_exporter": "python",
   "pygments_lexer": "ipython3",
   "version": "3.9.7"
  }
 },
 "nbformat": 4,
 "nbformat_minor": 5
}

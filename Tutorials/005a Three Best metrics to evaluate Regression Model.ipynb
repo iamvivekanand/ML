{
 "cells": [
  {
   "cell_type": "markdown",
   "id": "f7319864",
   "metadata": {},
   "source": [
    "### 3 Best metrics to evaluate Regression Model?"
   ]
  },
  {
   "cell_type": "markdown",
   "id": "2d4d6244",
   "metadata": {},
   "source": [
    "There are 3 main metrics for model evaluation in regression:\n",
    "\n",
    "1. R Square/Adjusted R Square\n",
    "2. Mean Square Error(MSE)/Root Mean Square Error(RMSE)\n",
    "3. Mean Absolute Error(MAE)"
   ]
  },
  {
   "cell_type": "markdown",
   "id": "c3f604c2",
   "metadata": {},
   "source": [
    "#### r-squared"
   ]
  },
  {
   "cell_type": "markdown",
   "id": "b494478f",
   "metadata": {},
   "source": [
    "r2 measures how much variability in output can be explained by the model. It is the square of the Correlation Coefficient(R) and that is why it is called R-Squared."
   ]
  },
  {
   "cell_type": "markdown",
   "id": "6e57b9d7",
   "metadata": {},
   "source": [
    "<img src='r2.JPG' width=300 height=50>"
   ]
  },
  {
   "cell_type": "markdown",
   "id": "170e07ae",
   "metadata": {},
   "source": [
    "- R Square value is between 0 to 1 \n",
    "- The ideal value for r-square is 1\n",
    "- A bigger value indicates a better fit between prediction and actual value.\n",
    "- However, it does not take into consideration of overfitting problem, because it fails to generalize with so many independent variables\n",
    "- Thats why we need adjusted R-sqaure in that case"
   ]
  },
  {
   "cell_type": "markdown",
   "id": "56c524f0",
   "metadata": {},
   "source": [
    "R-square is a comparison of the residual sum of squares (SSres) with the total sum of squares(SStot).\n",
    "\n",
    "The total sum of squares is calculated by summation of squares of perpendicular distance between data points and the average line."
   ]
  },
  {
   "cell_type": "markdown",
   "id": "01f774e9",
   "metadata": {},
   "source": [
    "<img src='r2 graph.JPG' width=300 height=300 >"
   ]
  },
  {
   "cell_type": "markdown",
   "id": "4ec658ee",
   "metadata": {},
   "source": [
    "- similarly residual sum of square can we calculated by somming of perpendicular distance between the data point and best fitted line."
   ]
  },
  {
   "cell_type": "markdown",
   "id": "88994621",
   "metadata": {},
   "source": [
    "Note: The value of R-square can also be negative when the model fitted is worse than the average fitted model. \n",
    "\n",
    "Limitation of using the R-square method –\n",
    "\n",
    "- r2 always increases or remains the same when new variables are added to the model, irrespective of significance of feature added \n",
    "- meaning value of r2 never decreases on the addition of new attributes to the model. As a result, non-significant attributes can also be added to the model with an increase in the r-square value.  it can lead to overfitting of the model if there are large no. of variables.\n",
    "\n",
    "\n",
    "This is because SStot is always constant and the regression model tries to decrease the value of SSres by finding some correlation with this new attribute hence the overall value of r-square increases, which can lead to a poor regression model."
   ]
  },
  {
   "cell_type": "markdown",
   "id": "07d9e81f",
   "metadata": {},
   "source": [
    "#### Adjusted R-Sqaured"
   ]
  },
  {
   "cell_type": "code",
   "execution_count": 6,
   "id": "70fb1a8d",
   "metadata": {},
   "outputs": [],
   "source": [
    "from sklearn.metrics import r2_score\n",
    "# There is no directed formula for adjusted r2 in sklearn library, can use stats model"
   ]
  },
  {
   "cell_type": "markdown",
   "id": "acd81b4c",
   "metadata": {},
   "source": [
    "<img src='adjr2.jpg' width=300 height=300 >\n",
    "\n",
    "                                            img source: geeksforgeeks.com"
   ]
  },
  {
   "cell_type": "markdown",
   "id": "f7e310f2",
   "metadata": {},
   "source": [
    "Adjusted r-square is a modified form of r-square whose value increases if new predictors tend to improve model’s performance and decreases if new predictors do not improve performance as expected.\n",
    "- Adjusted r-square takes care of overfitting in this way\n",
    "\n",
    "Lets remind:\n",
    "        \n",
    "        SStotal = sum(Yi-Yavg)**2\n",
    "        SSres = sum(Yi-Ypred)**2\n",
    "        \n",
    "        r2=1 - (SSres / SStotal)"
   ]
  },
  {
   "cell_type": "code",
   "execution_count": 5,
   "id": "dde27ab7",
   "metadata": {},
   "outputs": [],
   "source": [
    "# how the value of r2 always increases?"
   ]
  },
  {
   "cell_type": "markdown",
   "id": "9a61e32a",
   "metadata": {},
   "source": [
    "SStot is always fixed for some data points if new predictors are added to the model, since what is the difference between Actual data and average of the data. but value of SSres decreases as model tries to find some correlations from the added predictors. Hence, r-square’s value always increases."
   ]
  },
  {
   "cell_type": "code",
   "execution_count": 3,
   "id": "adac7d6b",
   "metadata": {},
   "outputs": [],
   "source": [
    "# Why Adjusted-R Square Test: "
   ]
  },
  {
   "cell_type": "markdown",
   "id": "f8dca89f",
   "metadata": {},
   "source": [
    "- to take care of complexity of the model\n",
    "- to count overfitting of the model"
   ]
  },
  {
   "cell_type": "code",
   "execution_count": 1,
   "id": "e59d2fb9",
   "metadata": {},
   "outputs": [],
   "source": [
    "# Mean Square Error(MSE)/Root Mean Square Error(RMSE)"
   ]
  },
  {
   "cell_type": "raw",
   "id": "5c6ae8ea",
   "metadata": {},
   "source": [
    "MSE is an absolute measure of the goodness for the fit."
   ]
  },
  {
   "cell_type": "markdown",
   "id": "b7c3a5d9",
   "metadata": {},
   "source": [
    "<img src='mse.jpg' width=200 height=150>"
   ]
  },
  {
   "cell_type": "markdown",
   "id": "0f4e4ecd",
   "metadata": {},
   "source": [
    "- Root Mean Square Error(RMSE) is the square root of MSE. \n",
    "- It is used more commonly than MSE because firstly sometimes MSE value can be too big to compare easily. Secondly, MSE is calculated by the square of error, and thus square root brings it back to the same level of prediction error and makes it easier for interpretation."
   ]
  },
  {
   "cell_type": "code",
   "execution_count": 2,
   "id": "2be93320",
   "metadata": {},
   "outputs": [],
   "source": [
    "from sklearn.metrics import mean_squared_error\n",
    "import math\n",
    "# print(mean_squared_error(y_test, y_pred))\n",
    "# print(math.sqrt(mean_squared_error(y_test, y_pred)))\n",
    "# MSE: 2017904593.23\n",
    "# RMSE: 44921.092965684235"
   ]
  },
  {
   "cell_type": "markdown",
   "id": "d37baf18",
   "metadata": {},
   "source": [
    "### Mean Absolute Error(MAE)"
   ]
  },
  {
   "cell_type": "markdown",
   "id": "f4245bdb",
   "metadata": {},
   "source": [
    "- Mean Absolute Error(MAE) is similar to Mean Square Error(MSE). \n",
    "- However, instead of the sum of square of error in MSE, MAE is taking the sum of the absolute value of errors between Actual Value and Predicted Value"
   ]
  },
  {
   "cell_type": "markdown",
   "id": "bcf3d24a",
   "metadata": {},
   "source": [
    "<img src='mae.jpg' width=200 height=150>"
   ]
  },
  {
   "cell_type": "markdown",
   "id": "d09ac41e",
   "metadata": {},
   "source": [
    "Compare to MSE or RMSE, MAE is a more direct representation of sum of error terms. MSE gives larger penalization to big prediction error by square it while MAE treats all errors the same."
   ]
  },
  {
   "cell_type": "code",
   "execution_count": 3,
   "id": "9d5f1b42",
   "metadata": {},
   "outputs": [],
   "source": [
    "from sklearn.metrics import mean_absolute_error\n",
    "# print(mean_absolute_error(y_test, y_pred))\n",
    "#MAE: 26745.1109986"
   ]
  },
  {
   "cell_type": "markdown",
   "id": "3257f5cd",
   "metadata": {},
   "source": [
    "Overall Recommendation/Conclusion\n",
    "\n",
    "R Square/Adjusted R Square is better used to explain the model to other people because you can explain the number as a percentage of the output variability. \n",
    "\n",
    "MSE, RMSE, or MAE are better be used to compare performance between different regression models. \n",
    "\n",
    "Personally, I would prefer using RMSE and I think Kaggle also uses it to assess the submission.\n",
    "\n",
    "However, it makes total sense to use MSE if the value is not too big and MAE if you do not want to penalize large prediction errors.\n",
    "\n",
    "Adjusted R square is the only metric here that considers the overfitting problem. \n",
    "\n",
    "R Square has a direct library in Python to calculate but I did not find a direct library to calculate Adjusted R square except using the statsmodel results. \n",
    "\n",
    "If you really want to calculate Adjusted R Square, you can use statsmodel or use its mathematic formula directly."
   ]
  },
  {
   "cell_type": "code",
   "execution_count": 4,
   "id": "ece312e4",
   "metadata": {},
   "outputs": [],
   "source": [
    "# how to calculate r2 and adjusted r2"
   ]
  },
  {
   "cell_type": "code",
   "execution_count": 11,
   "id": "c4b3407d",
   "metadata": {},
   "outputs": [],
   "source": [
    "import numpy as np"
   ]
  },
  {
   "cell_type": "code",
   "execution_count": 8,
   "id": "73182197",
   "metadata": {},
   "outputs": [],
   "source": [
    "import seaborn as sns\n",
    "df=sns.load_dataset('tips')"
   ]
  },
  {
   "cell_type": "code",
   "execution_count": 9,
   "id": "4d1478c7",
   "metadata": {},
   "outputs": [
    {
     "data": {
      "text/plain": [
       "(244, 7)"
      ]
     },
     "execution_count": 9,
     "metadata": {},
     "output_type": "execute_result"
    }
   ],
   "source": [
    "df.shape"
   ]
  },
  {
   "cell_type": "code",
   "execution_count": 13,
   "id": "3fa69e86",
   "metadata": {},
   "outputs": [
    {
     "data": {
      "text/html": [
       "<div>\n",
       "<style scoped>\n",
       "    .dataframe tbody tr th:only-of-type {\n",
       "        vertical-align: middle;\n",
       "    }\n",
       "\n",
       "    .dataframe tbody tr th {\n",
       "        vertical-align: top;\n",
       "    }\n",
       "\n",
       "    .dataframe thead th {\n",
       "        text-align: right;\n",
       "    }\n",
       "</style>\n",
       "<table border=\"1\" class=\"dataframe\">\n",
       "  <thead>\n",
       "    <tr style=\"text-align: right;\">\n",
       "      <th></th>\n",
       "      <th>extra</th>\n",
       "      <th>total_bill</th>\n",
       "      <th>tip</th>\n",
       "      <th>sex</th>\n",
       "      <th>smoker</th>\n",
       "      <th>day</th>\n",
       "      <th>time</th>\n",
       "      <th>size</th>\n",
       "    </tr>\n",
       "  </thead>\n",
       "  <tbody>\n",
       "    <tr>\n",
       "      <th>0</th>\n",
       "      <td>1.0</td>\n",
       "      <td>16.99</td>\n",
       "      <td>1.01</td>\n",
       "      <td>Female</td>\n",
       "      <td>No</td>\n",
       "      <td>Sun</td>\n",
       "      <td>Dinner</td>\n",
       "      <td>2</td>\n",
       "    </tr>\n",
       "    <tr>\n",
       "      <th>1</th>\n",
       "      <td>1.0</td>\n",
       "      <td>10.34</td>\n",
       "      <td>1.66</td>\n",
       "      <td>Male</td>\n",
       "      <td>No</td>\n",
       "      <td>Sun</td>\n",
       "      <td>Dinner</td>\n",
       "      <td>3</td>\n",
       "    </tr>\n",
       "  </tbody>\n",
       "</table>\n",
       "</div>"
      ],
      "text/plain": [
       "   extra  total_bill   tip     sex smoker  day    time  size\n",
       "0    1.0       16.99  1.01  Female     No  Sun  Dinner     2\n",
       "1    1.0       10.34  1.66    Male     No  Sun  Dinner     3"
      ]
     },
     "execution_count": 13,
     "metadata": {},
     "output_type": "execute_result"
    }
   ],
   "source": [
    "df.head(2)"
   ]
  },
  {
   "cell_type": "code",
   "execution_count": 12,
   "id": "45fe14ff",
   "metadata": {},
   "outputs": [],
   "source": [
    "# Used to standardise statsmodel in python\n",
    "f = np.ones((244, 1))\n",
    "df.insert(0, 'extra', f)"
   ]
  },
  {
   "cell_type": "code",
   "execution_count": 16,
   "id": "95daa4ad",
   "metadata": {},
   "outputs": [
    {
     "ename": "TypeError",
     "evalue": "from_formula() missing 2 required positional arguments: 'formula' and 'data'",
     "output_type": "error",
     "traceback": [
      "\u001b[1;31m---------------------------------------------------------------------------\u001b[0m",
      "\u001b[1;31mTypeError\u001b[0m                                 Traceback (most recent call last)",
      "\u001b[1;32m~\\AppData\\Local\\Temp/ipykernel_24388/4174557134.py\u001b[0m in \u001b[0;36m<module>\u001b[1;34m\u001b[0m\n\u001b[0;32m      5\u001b[0m \u001b[1;33m\u001b[0m\u001b[0m\n\u001b[0;32m      6\u001b[0m \u001b[1;33m\u001b[0m\u001b[0m\n\u001b[1;32m----> 7\u001b[1;33m \u001b[0mregressor_OLS\u001b[0m \u001b[1;33m=\u001b[0m \u001b[0msm\u001b[0m\u001b[1;33m.\u001b[0m\u001b[0mols\u001b[0m\u001b[1;33m(\u001b[0m\u001b[0mendog\u001b[0m \u001b[1;33m=\u001b[0m \u001b[0my\u001b[0m\u001b[1;33m,\u001b[0m \u001b[0mexog\u001b[0m \u001b[1;33m=\u001b[0m \u001b[0mx\u001b[0m\u001b[1;33m)\u001b[0m\u001b[1;33m.\u001b[0m\u001b[0mfit\u001b[0m\u001b[1;33m(\u001b[0m\u001b[1;33m)\u001b[0m\u001b[1;33m\u001b[0m\u001b[1;33m\u001b[0m\u001b[0m\n\u001b[0m\u001b[0;32m      8\u001b[0m \u001b[0mregressor_OLS\u001b[0m\u001b[1;33m.\u001b[0m\u001b[0msummary\u001b[0m\u001b[1;33m(\u001b[0m\u001b[1;33m)\u001b[0m\u001b[1;33m\u001b[0m\u001b[1;33m\u001b[0m\u001b[0m\n",
      "\u001b[1;31mTypeError\u001b[0m: from_formula() missing 2 required positional arguments: 'formula' and 'data'"
     ]
    }
   ],
   "source": [
    "# Gives summary of data model->gives value of r-square and adjusted r-square\n",
    "import statsmodels.formula.api as sm\n",
    "x = df.iloc[:, [0,1,3,4,5,6,7]]\n",
    "y = df.iloc[:, 2]\n",
    " \n",
    " \n",
    "regressor_OLS = sm.ols(endog = y, exog = x).fit()\n",
    "regressor_OLS.summary()"
   ]
  },
  {
   "cell_type": "code",
   "execution_count": null,
   "id": "3653e28d",
   "metadata": {},
   "outputs": [],
   "source": []
  }
 ],
 "metadata": {
  "kernelspec": {
   "display_name": "Python 3 (ipykernel)",
   "language": "python",
   "name": "python3"
  },
  "language_info": {
   "codemirror_mode": {
    "name": "ipython",
    "version": 3
   },
   "file_extension": ".py",
   "mimetype": "text/x-python",
   "name": "python",
   "nbconvert_exporter": "python",
   "pygments_lexer": "ipython3",
   "version": "3.9.7"
  }
 },
 "nbformat": 4,
 "nbformat_minor": 5
}

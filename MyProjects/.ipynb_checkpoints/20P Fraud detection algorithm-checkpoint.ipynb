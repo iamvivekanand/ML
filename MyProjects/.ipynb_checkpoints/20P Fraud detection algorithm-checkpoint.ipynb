{
 "cells": [
  {
   "cell_type": "markdown",
   "id": "cbff4136",
   "metadata": {},
   "source": [
    "### Fraud detection algorithm"
   ]
  },
  {
   "cell_type": "raw",
   "id": "3b103b89",
   "metadata": {},
   "source": [
    "df=pd.read_csv('UCI_credit_card.csv')"
   ]
  },
  {
   "cell_type": "raw",
   "id": "6f957cd5",
   "metadata": {},
   "source": [
    "df.sample(5)"
   ]
  },
  {
   "cell_type": "raw",
   "id": "7e411bfd",
   "metadata": {},
   "source": [
    "df.info()"
   ]
  },
  {
   "cell_type": "raw",
   "id": "d0200742",
   "metadata": {},
   "source": [
    "df[['SEX', 'EDUCATION', 'MARRIAGE']].describe()"
   ]
  },
  {
   "cell_type": "raw",
   "id": "65b3ccac",
   "metadata": {},
   "source": [
    "df[['PAY_0', 'PAY_2', 'PAY_3', 'PAY_4', 'PAY_5', 'PAY_6']].describe()"
   ]
  },
  {
   "cell_type": "raw",
   "id": "db1cc255",
   "metadata": {},
   "source": [
    "df[['BILL_AMT1', 'BILL_AMT2', 'BILL_AMT3', 'BILL_AMT4', 'BILL_AMT5', 'BILL_AMT6']].describe()"
   ]
  },
  {
   "cell_type": "raw",
   "id": "1b02d586",
   "metadata": {},
   "source": [
    "#Previous Payment Description\n",
    "df[['PAY_AMT1', 'PAY_AMT2', 'PAY_AMT3', 'PAY_AMT4', 'PAY_AMT5', 'PAY_AMT6']].describe()"
   ]
  },
  {
   "cell_type": "raw",
   "id": "b8499f59",
   "metadata": {},
   "source": [
    "df.LIMIT_BAL.describe()"
   ]
  },
  {
   "cell_type": "raw",
   "id": "80e5fd79",
   "metadata": {},
   "source": [
    "The range is very broad, Investigation required.\n",
    "\n",
    "Two columns bother me because are poorly labeled."
   ]
  },
  {
   "cell_type": "raw",
   "id": "8dc00d7a",
   "metadata": {},
   "source": [
    "df = df.rename(columns={'default.payment.next.month': 'def_pay', 'PAY_0': 'PAY_1'})\n",
    "df.head()"
   ]
  },
  {
   "cell_type": "raw",
   "id": "2aba9871",
   "metadata": {},
   "source": [
    "# I am interested in having a general idea of the default probability\n",
    "df.def_pay.sum() / len(df.def_pay)"
   ]
  },
  {
   "cell_type": "raw",
   "id": "9d5a214f",
   "metadata": {},
   "source": [
    "print(df.shape)\n",
    "print(df.shape[0])\n",
    "print(df.def_pay.count())\n",
    "print(len(df.axes[1]))"
   ]
  },
  {
   "cell_type": "raw",
   "id": "4ef3aa4c",
   "metadata": {},
   "source": [
    "from sklearn.tree import DecisionTreeClassifier\n",
    "from sklearn.metrics import accuracy_score, make_scorer\n",
    "from sklearn.model_selection import train_test_split"
   ]
  },
  {
   "cell_type": "raw",
   "id": "e42eef30",
   "metadata": {},
   "source": [
    "y = df['def_pay'].copy()\n",
    "y.sample(5)"
   ]
  },
  {
   "cell_type": "raw",
   "id": "829c8e83",
   "metadata": {},
   "source": [
    "classifier = DecisionTreeClassifier(max_depth=10, random_state=14) \n",
    "classifier.fit(X_train, y_train)\n",
    "predictions = classifier.predict(X_test)\n",
    "accuracy_score(y_true = y_test, y_pred = predictions)"
   ]
  },
  {
   "cell_type": "raw",
   "id": "e6672a13",
   "metadata": {},
   "source": [
    "classifier = DecisionTreeClassifier(max_depth=100, random_state=14) \n",
    "classifier.fit(X_train, y_train)\n",
    "predictions = classifier.predict(X_test)\n",
    "accuracy_score(y_true = y_test, y_pred = predictions)"
   ]
  },
  {
   "cell_type": "code",
   "execution_count": null,
   "id": "304359ab",
   "metadata": {},
   "outputs": [],
   "source": [
    "# There is a better way that I know to get your parameters right, which is to use GridSearchCV"
   ]
  },
  {
   "cell_type": "raw",
   "id": "8678f861",
   "metadata": {},
   "source": [
    "from sklearn.model_selection import GridSearchCV"
   ]
  },
  {
   "cell_type": "raw",
   "id": "9e9b8fc2",
   "metadata": {},
   "source": [
    "param_grid = {'max_depth': np.arange(3, 10),\n",
    "             'criterion' : ['gini','entropy'],\n",
    "             'max_leaf_nodes': [5,10,20,100],\n",
    "             'min_samples_split': [2, 5, 10, 20]}"
   ]
  },
  {
   "cell_type": "raw",
   "id": "92a048de",
   "metadata": {},
   "source": [
    "grid_tree = GridSearchCV(DecisionTreeClassifier(), param_grid, cv = 5, scoring= 'accuracy')"
   ]
  },
  {
   "cell_type": "raw",
   "id": "81f71b81",
   "metadata": {},
   "source": [
    "grid_tree.fit(X_train, y_train)"
   ]
  },
  {
   "cell_type": "raw",
   "id": "36c77e23",
   "metadata": {},
   "source": [
    "print(grid_tree.best_estimator_)"
   ]
  },
  {
   "cell_type": "raw",
   "id": "444379ab",
   "metadata": {},
   "source": [
    "print(np.abs(grid_tree.best_score_))"
   ]
  },
  {
   "cell_type": "raw",
   "id": "d1990a96",
   "metadata": {},
   "source": [
    "from sklearn.model_selection import KFold"
   ]
  },
  {
   "cell_type": "raw",
   "id": "0b3e037a",
   "metadata": {},
   "source": [
    "kf = KFold(n_splits=5,random_state=42,shuffle=True)"
   ]
  },
  {
   "cell_type": "raw",
   "id": "d5542d08",
   "metadata": {},
   "source": [
    "from sklearn.metrics import f1_score\n",
    "f1_score(y_true = y_test, y_pred = predictions)\n",
    "\n",
    "# True Positive (TP): we predict a label of 1 (positive), and the true label is 1.\n",
    "TP = np.sum(np.logical_and(predictions == 1, y_test == 1)) \n",
    "# True Negative (TN): we predict a label of 0 (negative), and the true label is 0.\n",
    "TN = np.sum(np.logical_and(predictions == 0, y_test == 0))\n",
    "# False Positive (FP): we predict a label of 1 (positive), but the true label is 0.\n",
    "FP = np.sum(np.logical_and(predictions == 1, y_test == 0))\n",
    "# False Negative (FN): we predict a label of 0 (negative), but the true label is 1.\n",
    "FN = np.sum(np.logical_and(predictions == 0, y_test == 1))\n",
    "print('TP: {}, FP: {}, TN: {}, FN: {}'.format(TP,FP,TN,FN))"
   ]
  },
  {
   "cell_type": "raw",
   "id": "48cd8f63",
   "metadata": {},
   "source": [
    "df.SEX.value_counts() \n",
    "df['MARRIAGE'].value_counts()\n",
    "df.EDUCATION.value_counts()\n",
    "\n",
    "df.MARRIAGE.value_counts().plot(kind = 'bar')\n",
    "df.EDUCATION.value_counts().plot(kind = \"barh\")  Plots horizontal bars\n",
    "\n",
    "df.AGE.hist()\n",
    "df.LIMIT_BAL.hist(bins = 20)\n",
    "\n",
    "df[[\"SEX\", \"def_pay\"]].groupby(['SEX'], as_index=False).mean().sort_values(by='def_pay', ascending=False)\n",
    "\n",
    "df[[\"SEX\", \"def_pay\"]].groupby(['SEX']).mean().sort_values(by='def_pay')"
   ]
  }
 ],
 "metadata": {
  "kernelspec": {
   "display_name": "Python 3 (ipykernel)",
   "language": "python",
   "name": "python3"
  },
  "language_info": {
   "codemirror_mode": {
    "name": "ipython",
    "version": 3
   },
   "file_extension": ".py",
   "mimetype": "text/x-python",
   "name": "python",
   "nbconvert_exporter": "python",
   "pygments_lexer": "ipython3",
   "version": "3.9.7"
  }
 },
 "nbformat": 4,
 "nbformat_minor": 5
}

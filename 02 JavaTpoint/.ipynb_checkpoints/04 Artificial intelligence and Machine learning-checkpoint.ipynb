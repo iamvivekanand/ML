{
 "cells": [
  {
   "cell_type": "markdown",
   "metadata": {},
   "source": [
    "### Artificial intelligence VS Machine learning"
   ]
  },
  {
   "cell_type": "markdown",
   "metadata": {},
   "source": [
    "AI is a bigger concept to create intelligent machines that can simulate human thinking capability and behavior, \n",
    "whereas, \n",
    "Machine learning is an application or subset of AI that allows machines to learn from data without being programmed explicitly."
   ]
  },
  {
   "cell_type": "raw",
   "metadata": {},
   "source": [
    "Artificial intelligence is a field of computer science which makes a computer system that can mimic human intelligence."
   ]
  },
  {
   "cell_type": "raw",
   "metadata": {},
   "source": [
    "The Artificial intelligence system does not require to be pre-programmed, instead of that, they use such algorithms which can work with their own intelligence,\n",
    "It involves machine learning algorithms such as Reinforcement learning algorithm and deep learning neural networks"
   ]
  },
  {
   "cell_type": "markdown",
   "metadata": {},
   "source": [
    "### How AI can be classified?"
   ]
  },
  {
   "cell_type": "raw",
   "metadata": {},
   "source": [
    "Based on capabilities, AI can be classified into three types:\n",
    "\n",
    "*Weak AI\n",
    "*General AI\n",
    "*Strong AI"
   ]
  },
  {
   "cell_type": "markdown",
   "metadata": {},
   "source": [
    "#### Define ML in simple words?"
   ]
  },
  {
   "cell_type": "raw",
   "metadata": {},
   "source": [
    "Machine learning is a subfield of artificial intelligence, which enables machines to learn from past data or experiences without being explicitly programmed\n",
    "\n",
    "or u can say ML is a feild of study in which we learn how to train a machine so that it can learn from past data and experiences without being explicitly programmed."
   ]
  },
  {
   "cell_type": "markdown",
   "metadata": {},
   "source": [
    "### Key differences between Artificial Intelligence (AI) and Machine learning (ML):"
   ]
  },
  {
   "cell_type": "raw",
   "metadata": {},
   "source": [
    "AI enables a machine to simulate/mimic human behavior.\n",
    "ML enables a machine to automatically learn from past data without programming explicitly."
   ]
  },
  {
   "cell_type": "raw",
   "metadata": {},
   "source": [
    "AI makes a smart computer system like humans to solve complex problems\n",
    "ML makes a model to learn from data and to give future output"
   ]
  },
  {
   "cell_type": "raw",
   "metadata": {},
   "source": [
    "In AI, we make intelligent systems to perform any task like a human.\n",
    "In ML, we teach machines with data to perform a particular task and give an accurate result."
   ]
  },
  {
   "cell_type": "raw",
   "metadata": {},
   "source": [
    "AI has a very wide range of scope.\n",
    "Machine learning has a limited scope."
   ]
  },
  {
   "cell_type": "raw",
   "metadata": {},
   "source": [
    "AI includes learning, reasoning, and self-correction.\n",
    "ML includes learning and self-correction when introduced with new data."
   ]
  }
 ],
 "metadata": {
  "kernelspec": {
   "display_name": "Python 3 (ipykernel)",
   "language": "python",
   "name": "python3"
  },
  "language_info": {
   "codemirror_mode": {
    "name": "ipython",
    "version": 3
   },
   "file_extension": ".py",
   "mimetype": "text/x-python",
   "name": "python",
   "nbconvert_exporter": "python",
   "pygments_lexer": "ipython3",
   "version": "3.9.7"
  }
 },
 "nbformat": 4,
 "nbformat_minor": 4
}

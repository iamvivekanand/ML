{
 "cells": [
  {
   "cell_type": "markdown",
   "metadata": {},
   "source": [
    "### Regression vs. Classification "
   ]
  },
  {
   "cell_type": "raw",
   "metadata": {},
   "source": [
    "The task of the regression algorithm is to map the input value (x) with the continuous output variable(y).\n",
    "\n",
    "The task of the classification algorithm is to map the input value(x) with the discrete output variable(y)."
   ]
  },
  {
   "cell_type": "raw",
   "metadata": {},
   "source": [
    "In Regression, we try to find the best fit line, which can predict the output more accurately.\n",
    "In Classification, we try to find the decision boundary, which can divide the dataset into different classes."
   ]
  },
  {
   "cell_type": "raw",
   "metadata": {},
   "source": [
    "Regression further divided into Linear and Non-linear Regression.\n",
    "Classification algorithms can be divided into Binary Classifier and Multi-class Classifier."
   ]
  },
  {
   "cell_type": "markdown",
   "metadata": {},
   "source": [
    "### linear Regression vs logistic regression"
   ]
  },
  {
   "cell_type": "raw",
   "metadata": {},
   "source": [
    "-used to predict continuous values\n",
    "-input can be continuous or discrete but output always continuous data, in case of linear regression\n",
    "-finds a function which maps input x to output y\n",
    "y=Ax+B+c"
   ]
  },
  {
   "cell_type": "raw",
   "metadata": {},
   "source": [
    "The output of Logistic Regression problem can be only between the 0 and 1\n",
    "Logistic regression is based on the concept of Maximum Likelihood estimation"
   ]
  },
  {
   "cell_type": "markdown",
   "metadata": {},
   "source": [
    "<img src='lr4.jpg'>"
   ]
  },
  {
   "cell_type": "code",
   "execution_count": null,
   "metadata": {},
   "outputs": [],
   "source": []
  }
 ],
 "metadata": {
  "kernelspec": {
   "display_name": "Python 3 (ipykernel)",
   "language": "python",
   "name": "python3"
  },
  "language_info": {
   "codemirror_mode": {
    "name": "ipython",
    "version": 3
   },
   "file_extension": ".py",
   "mimetype": "text/x-python",
   "name": "python",
   "nbconvert_exporter": "python",
   "pygments_lexer": "ipython3",
   "version": "3.9.7"
  }
 },
 "nbformat": 4,
 "nbformat_minor": 4
}

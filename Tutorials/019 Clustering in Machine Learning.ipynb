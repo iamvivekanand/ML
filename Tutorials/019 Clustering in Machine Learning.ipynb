{
 "cells": [
  {
   "cell_type": "markdown",
   "metadata": {},
   "source": [
    "### Clustering in Machine Learning"
   ]
  },
  {
   "cell_type": "markdown",
   "metadata": {},
   "source": [
    "Clustering is an unsupervised ML techniques, in which datapoints are divided into different kinds of clusters based on similarities.\n",
    "\n",
    "After applying this clustering technique, each cluster or group is provided with a cluster-ID"
   ]
  },
  {
   "cell_type": "code",
   "execution_count": 1,
   "metadata": {},
   "outputs": [],
   "source": [
    "### Types of Clustering Methods"
   ]
  },
  {
   "cell_type": "markdown",
   "metadata": {},
   "source": [
    "Broadly divided into Hard clustering (datapoint belongs to only one group) and Soft Clustering (data points can belong to another group also)."
   ]
  },
  {
   "cell_type": "markdown",
   "metadata": {},
   "source": [
    "Below are the main clustering methods used in Machine learning:\n",
    "\n",
    "    1.Partitioning Clustering\n",
    "    2.Density-Based Clustering\n",
    "    3.Distribution Model-Based Clustering\n",
    "    4.Hierarchical Clustering\n",
    "    5.Fuzzy Clustering"
   ]
  },
  {
   "cell_type": "code",
   "execution_count": 3,
   "metadata": {},
   "outputs": [],
   "source": [
    "# 1.Partitioning Clustering"
   ]
  },
  {
   "cell_type": "markdown",
   "metadata": {},
   "source": [
    "- centroid-based method\n",
    "- divides the data into non-hierarchical groups\n",
    "- e.g. K-Means Clustering algorithm"
   ]
  },
  {
   "cell_type": "code",
   "execution_count": 1,
   "metadata": {},
   "outputs": [],
   "source": [
    "# 2.Density-Based Clustering"
   ]
  },
  {
   "cell_type": "markdown",
   "metadata": {},
   "source": [
    "- connects the highly-dense areas into clusters, and the arbitrary shaped distributions are formed \n",
    "- if the dataset has varying densities and high dimensions, this algorithm faces difficulties"
   ]
  },
  {
   "cell_type": "code",
   "execution_count": 2,
   "metadata": {},
   "outputs": [],
   "source": [
    "# 3.Distribution Model-Based Clustering"
   ]
  },
  {
   "cell_type": "markdown",
   "metadata": {},
   "source": [
    "- the data is divided based on the probability of how a dataset belongs to a particular distribution\n",
    "- The grouping is done by assuming some distributions commonly Gaussian Distribution."
   ]
  },
  {
   "cell_type": "code",
   "execution_count": 4,
   "metadata": {},
   "outputs": [],
   "source": [
    "# 4.Hierarchical Clustering"
   ]
  },
  {
   "cell_type": "markdown",
   "metadata": {},
   "source": [
    "In this we create a tree shaped structure also called dendrogram, by dividing the dataset\n",
    "then we count the number of vertical lines that do not cross any horizontal line"
   ]
  },
  {
   "cell_type": "code",
   "execution_count": 2,
   "metadata": {},
   "outputs": [],
   "source": [
    "# 5.Fuzzy Clustering"
   ]
  },
  {
   "cell_type": "markdown",
   "metadata": {},
   "source": [
    "- is a type of soft method in which a data object may belong to more than one group or cluster. \n",
    "- Each dataset has a set of membership coefficients"
   ]
  },
  {
   "cell_type": "markdown",
   "metadata": {},
   "source": [
    "#### Common Information about clustering"
   ]
  },
  {
   "cell_type": "markdown",
   "metadata": {},
   "source": [
    "A clustering method attempts to group the objects based on the definition of similarity supplied to it\n",
    "\n",
    "Some methods require u to specify or guess the number of clusters to discover in the data, whereas others require to specify some minimum distance between observations so that it can differentiate “close” or “connected” areas."
   ]
  },
  {
   "cell_type": "code",
   "execution_count": 3,
   "metadata": {},
   "outputs": [
    {
     "name": "stdout",
     "output_type": "stream",
     "text": [
      "0.24.2\n"
     ]
    }
   ],
   "source": [
    "import sklearn\n",
    "print(sklearn.__version__)"
   ]
  },
  {
   "cell_type": "code",
   "execution_count": 8,
   "metadata": {},
   "outputs": [],
   "source": [
    "import numpy as np\n",
    "from numpy import where\n",
    "from sklearn.datasets import make_classification\n",
    "from matplotlib import pyplot as plt"
   ]
  },
  {
   "cell_type": "code",
   "execution_count": 5,
   "metadata": {},
   "outputs": [],
   "source": [
    "# define the dataset\n",
    "\n",
    "X,y=make_classification(n_samples=1000,n_features=2,n_informative=2, n_redundant=0, \n",
    "                        n_clusters_per_class=1,random_state=4)"
   ]
  },
  {
   "cell_type": "code",
   "execution_count": 6,
   "metadata": {},
   "outputs": [
    {
     "data": {
      "text/plain": [
       "array([[ 1.22515974, -0.95173116],\n",
       "       [ 1.01630365, -1.72517506],\n",
       "       [ 0.33534004, -1.7248955 ]])"
      ]
     },
     "execution_count": 6,
     "metadata": {},
     "output_type": "execute_result"
    }
   ],
   "source": [
    "X[0:3]"
   ]
  },
  {
   "cell_type": "code",
   "execution_count": 9,
   "metadata": {},
   "outputs": [
    {
     "data": {
      "text/plain": [
       "array([1, 1, 1])"
      ]
     },
     "execution_count": 9,
     "metadata": {},
     "output_type": "execute_result"
    }
   ],
   "source": [
    "y[0:3]"
   ]
  },
  {
   "cell_type": "code",
   "execution_count": 10,
   "metadata": {},
   "outputs": [
    {
     "data": {
      "image/png": "[encoded data removed]",
      "text/plain": [
       "<Figure size 432x288 with 1 Axes>"
      ]
     },
     "metadata": {
      "needs_background": "light"
     },
     "output_type": "display_data"
    }
   ],
   "source": [
    "# create scatter plot for samples from each class\n",
    "for class_value in range(2):\n",
    "    # get row indexes for samples with this class\n",
    "    row_ix = where(y == class_value)\n",
    "    # create scatter of these samples\n",
    "    plt.scatter(X[row_ix, 0], X[row_ix, 1])\n",
    "# show the plot\n",
    "pyplot.show()"
   ]
  },
  {
   "cell_type": "markdown",
   "metadata": {},
   "source": [
    "We can clearly see two distinct groups of data in two dimensions and the hope would be that an automatic clustering algorithm can detect these groupings."
   ]
  },
  {
   "cell_type": "markdown",
   "metadata": {},
   "source": [
    "##### Affinity Propagation"
   ]
  },
  {
   "cell_type": "code",
   "execution_count": 11,
   "metadata": {},
   "outputs": [
    {
     "name": "stderr",
     "output_type": "stream",
     "text": [
      "C:\\ProgramData\\Anaconda3\\lib\\site-packages\\sklearn\\cluster\\_affinity_propagation.py:148: FutureWarning: 'random_state' has been introduced in 0.23. It will be set to None starting from 1.0 (renaming of 0.25) which means that results will differ at every function call. Set 'random_state' to None to silence this warning, or to 0 to keep the behavior of versions <0.23.\n",
      "  warnings.warn(\n"
     ]
    },
    {
     "data": {
      "image/png": "[encoded data removed]",
      "text/plain": [
       "<Figure size 432x288 with 1 Axes>"
      ]
     },
     "metadata": {
      "needs_background": "light"
     },
     "output_type": "display_data"
    }
   ],
   "source": [
    "# affinity propagation clustering\n",
    "from numpy import unique\n",
    "from numpy import where\n",
    "from sklearn.datasets import make_classification\n",
    "from sklearn.cluster import AffinityPropagation\n",
    "from matplotlib import pyplot\n",
    "# define dataset\n",
    "X, y = make_classification(n_samples=1000, n_features=2, n_informative=2, n_redundant=0, \n",
    "                           n_clusters_per_class=1, random_state=4)\n",
    "# define the model\n",
    "model = AffinityPropagation(damping=0.9)\n",
    "# fit the model\n",
    "model.fit(X)\n",
    "# assign a cluster to each example\n",
    "yhat = model.predict(X)\n",
    "# retrieve unique clusters\n",
    "clusters = unique(yhat)\n",
    "# create scatter plot for samples from each cluster\n",
    "for cluster in clusters:\n",
    "    # get row indexes for samples with this cluster\n",
    "    row_ix = where(yhat == cluster)\n",
    "    # create scatter of these samples\n",
    "    plt.scatter(X[row_ix, 0], X[row_ix, 1])\n",
    "# show the plot\n",
    "plt.show()"
   ]
  },
  {
   "cell_type": "markdown",
   "metadata": {},
   "source": [
    "##### Agglomerative Clustering"
   ]
  },
  {
   "cell_type": "code",
   "execution_count": 12,
   "metadata": {},
   "outputs": [],
   "source": [
    "from numpy import where, unique"
   ]
  },
  {
   "cell_type": "code",
   "execution_count": 13,
   "metadata": {},
   "outputs": [],
   "source": [
    "from sklearn.datasets import make_classification\n",
    "from sklearn.cluster import AgglomerativeClustering"
   ]
  },
  {
   "cell_type": "code",
   "execution_count": 14,
   "metadata": {},
   "outputs": [],
   "source": [
    "from matplotlib import pyplot as plt"
   ]
  },
  {
   "cell_type": "code",
   "execution_count": 15,
   "metadata": {},
   "outputs": [],
   "source": [
    "X, y = make_classification(n_samples=1000,n_features=2,n_informative=2,n_redundant=0,\n",
    "                           n_clusters_per_class=1,random_state=2)"
   ]
  },
  {
   "cell_type": "code",
   "execution_count": 16,
   "metadata": {},
   "outputs": [
    {
     "data": {
      "text/plain": [
       "array([[-2.14034004,  0.56244104],\n",
       "       [-0.51971882, -1.93226787],\n",
       "       [ 1.77094615,  1.17825594]])"
      ]
     },
     "execution_count": 16,
     "metadata": {},
     "output_type": "execute_result"
    }
   ],
   "source": [
    "X[0:3]"
   ]
  },
  {
   "cell_type": "code",
   "execution_count": 17,
   "metadata": {},
   "outputs": [
    {
     "data": {
      "text/plain": [
       "array([0, 0, 1, 0])"
      ]
     },
     "execution_count": 17,
     "metadata": {},
     "output_type": "execute_result"
    }
   ],
   "source": [
    "y[0:4]"
   ]
  },
  {
   "cell_type": "code",
   "execution_count": 18,
   "metadata": {},
   "outputs": [],
   "source": [
    "model=AgglomerativeClustering(n_clusters=2) # no of clusters is the main parameter to tune"
   ]
  },
  {
   "cell_type": "code",
   "execution_count": 19,
   "metadata": {},
   "outputs": [],
   "source": [
    "ypred=model.fit_predict(X)"
   ]
  },
  {
   "cell_type": "code",
   "execution_count": 20,
   "metadata": {},
   "outputs": [],
   "source": [
    "clusters=unique(ypred)"
   ]
  },
  {
   "cell_type": "code",
   "execution_count": 21,
   "metadata": {
    "scrolled": true
   },
   "outputs": [
    {
     "data": {
      "image/png": "[encoded data removed]",
      "text/plain": [
       "<Figure size 432x288 with 1 Axes>"
      ]
     },
     "metadata": {
      "needs_background": "light"
     },
     "output_type": "display_data"
    }
   ],
   "source": [
    "for i in clusters:\n",
    "    # get row indexes for samples with this cluster\n",
    "    row_idx = where(ypred == i)\n",
    "    # create scatter of these samples\n",
    "    plt.scatter(X[row_idx, 0], X[row_idx, 1])\n",
    "# show the plot\n",
    "pyplot.show()"
   ]
  },
  {
   "cell_type": "raw",
   "metadata": {},
   "source": [
    "AgglomerativeClustering(\n",
    "                        n_clusters=2,\n",
    "                        affinity='euclidean',\n",
    "                        memory=None,\n",
    "                        connectivity=None,\n",
    "                        compute_full_tree='auto',\n",
    "                        linkage='ward',\n",
    "                        distance_threshold=None,\n",
    "                        compute_distances=False,\n",
    "                        )\n",
    "\n",
    "Docstring:     \n",
    "Agglomerative Clustering\n",
    "\n",
    "Recursively merges the pair of clusters that minimally increases\n",
    "a given linkage distance.\n",
    "\n",
    "Read more in the :ref:`User Guide <hierarchical_clustering>`.\n",
    "\n",
    "Parameters\n",
    "----------\n",
    "n_clusters : int or None, default=2\n",
    "    The number of clusters to find. It must be ``None`` if\n",
    "    ``distance_threshold`` is not ``None``.\n",
    "\n",
    "affinity : str or callable, default='euclidean'\n",
    "    Metric used to compute the linkage. Can be \"euclidean\", \"l1\", \"l2\",\n",
    "    \"manhattan\", \"cosine\", or \"precomputed\".\n",
    "    If linkage is \"ward\", only \"euclidean\" is accepted.\n",
    "    If \"precomputed\", a distance matrix (instead of a similarity matrix)\n",
    "    is needed as input for the fit method.\n",
    "\n",
    "memory : str or object with the joblib.Memory interface, default=None\n",
    "    Used to cache the output of the computation of the tree.\n",
    "    By default, no caching is done. If a string is given, it is the\n",
    "    path to the caching directory.\n",
    "\n",
    "connectivity : array-like or callable, default=None\n",
    "    Connectivity matrix. Defines for each sample the neighboring\n",
    "    samples following a given structure of the data.\n",
    "    This can be a connectivity matrix itself or a callable that transforms\n",
    "    the data into a connectivity matrix, such as derived from\n",
    "    kneighbors_graph. Default is ``None``, i.e, the\n",
    "    hierarchical clustering algorithm is unstructured.\n",
    "\n",
    "compute_full_tree : 'auto' or bool, default='auto'\n",
    "    Stop early the construction of the tree at ``n_clusters``. This is\n",
    "    useful to decrease computation time if the number of clusters is not\n",
    "    small compared to the number of samples. This option is useful only\n",
    "    when specifying a connectivity matrix. Note also that when varying the\n",
    "    number of clusters and using caching, it may be advantageous to compute\n",
    "    the full tree. It must be ``True`` if ``distance_threshold`` is not\n",
    "    ``None``. By default `compute_full_tree` is \"auto\", which is equivalent\n",
    "    to `True` when `distance_threshold` is not `None` or that `n_clusters`\n",
    "    is inferior to the maximum between 100 or `0.02 * n_samples`.\n",
    "    Otherwise, \"auto\" is equivalent to `False`.\n",
    "\n",
    "linkage : {'ward', 'complete', 'average', 'single'}, default='ward'\n",
    "    Which linkage criterion to use. The linkage criterion determines which\n",
    "    distance to use between sets of observation. The algorithm will merge\n",
    "    the pairs of cluster that minimize this criterion.\n",
    "\n",
    "    - 'ward' minimizes the variance of the clusters being merged.\n",
    "    - 'average' uses the average of the distances of each observation of\n",
    "      the two sets.\n",
    "    - 'complete' or 'maximum' linkage uses the maximum distances between\n",
    "      all observations of the two sets.\n",
    "    - 'single' uses the minimum of the distances between all observations\n",
    "      of the two sets.\n",
    "\n",
    "    .. versionadded:: 0.20\n",
    "        Added the 'single' option\n",
    "\n",
    "distance_threshold : float, default=None\n",
    "    The linkage distance threshold above which, clusters will not be\n",
    "    merged. If not ``None``, ``n_clusters`` must be ``None`` and\n",
    "    ``compute_full_tree`` must be ``True``.\n",
    "\n",
    "    .. versionadded:: 0.21\n",
    "\n",
    "compute_distances : bool, default=False\n",
    "    Computes distances between clusters even if `distance_threshold` is not\n",
    "    used. This can be used to make dendrogram visualization, but introduces\n",
    "    a computational and memory overhead.\n",
    "\n",
    "    .. versionadded:: 0.24\n",
    "\n",
    "Attributes\n",
    "----------\n",
    "n_clusters_ : int\n",
    "    The number of clusters found by the algorithm. If\n",
    "    ``distance_threshold=None``, it will be equal to the given\n",
    "    ``n_clusters``.\n",
    "\n",
    "labels_ : ndarray of shape (n_samples)\n",
    "    cluster labels for each point\n",
    "\n",
    "n_leaves_ : int\n",
    "    Number of leaves in the hierarchical tree.\n",
    "\n",
    "n_connected_components_ : int\n",
    "    The estimated number of connected components in the graph.\n",
    "\n",
    "    .. versionadded:: 0.21\n",
    "        ``n_connected_components_`` was added to replace ``n_components_``.\n",
    "\n",
    "children_ : array-like of shape (n_samples-1, 2)\n",
    "    The children of each non-leaf node. Values less than `n_samples`\n",
    "    correspond to leaves of the tree which are the original samples.\n",
    "    A node `i` greater than or equal to `n_samples` is a non-leaf\n",
    "    node and has children `children_[i - n_samples]`. Alternatively\n",
    "    at the i-th iteration, children[i][0] and children[i][1]\n",
    "    are merged to form node `n_samples + i`\n",
    "\n",
    "distances_ : array-like of shape (n_nodes-1,)\n",
    "    Distances between nodes in the corresponding place in `children_`.\n",
    "    Only computed if `distance_threshold` is used or `compute_distances`\n",
    "    is set to `True`.\n",
    "\n",
    "Examples\n",
    "--------\n",
    ">>> from sklearn.cluster import AgglomerativeClustering\n",
    ">>> import numpy as np\n",
    ">>> X = np.array([[1, 2], [1, 4], [1, 0],\n",
    "...               [4, 2], [4, 4], [4, 0]])\n",
    ">>> clustering = AgglomerativeClustering().fit(X)\n",
    ">>> clustering\n",
    "AgglomerativeClustering()\n",
    ">>> clustering.labels_\n",
    "array([1, 1, 1, 0, 0, 0])"
   ]
  },
  {
   "cell_type": "markdown",
   "metadata": {},
   "source": [
    "### Birch Clustering"
   ]
  },
  {
   "cell_type": "raw",
   "metadata": {},
   "source": [
    "is short for Balanced Iterative Reducing and Clustering using Hierarchies) involves constructing a tree structure from which cluster centroids are extracted.\n",
    "\n",
    "It is implemented via the Birch class and the main configuration to tune is the “threshold” and “n_clusters” hyperparameters,"
   ]
  },
  {
   "cell_type": "code",
   "execution_count": 28,
   "metadata": {},
   "outputs": [],
   "source": [
    "# birch clustering\n",
    "from numpy import unique\n",
    "from numpy import where\n",
    "from sklearn.datasets import make_classification\n",
    "from sklearn.cluster import Birch\n",
    "from matplotlib import pyplot as plt"
   ]
  },
  {
   "cell_type": "code",
   "execution_count": 29,
   "metadata": {},
   "outputs": [],
   "source": [
    "# define dataset\n",
    "X, y = make_classification(n_samples=1000, n_features=2, n_informative=2, n_redundant=0, n_clusters_per_class=1, random_state=4)\n",
    "# define the model\n",
    "model = Birch(threshold=0.01, n_clusters=2)\n",
    "# fit the model\n",
    "model.fit(X)\n",
    "# assign a cluster to each example\n",
    "y_pred = model.predict(X)"
   ]
  },
  {
   "cell_type": "code",
   "execution_count": 30,
   "metadata": {},
   "outputs": [
    {
     "data": {
      "image/png": "[encoded data removed]",
      "text/plain": [
       "<Figure size 432x288 with 1 Axes>"
      ]
     },
     "metadata": {
      "needs_background": "light"
     },
     "output_type": "display_data"
    }
   ],
   "source": [
    "# retrieve unique clusters\n",
    "clusters = unique(y_pred)\n",
    "# create scatter plot for samples from each cluster\n",
    "for i in clusters:\n",
    "    # get row indexes for samples with this cluster\n",
    "    row_idx = where(y_pred == i)\n",
    "    # create scatter of these samples\n",
    "    plt.scatter(X[row_idx, 0], X[row_idx, 1])\n",
    "# show the plot\n",
    "pyplot.show()"
   ]
  },
  {
   "cell_type": "raw",
   "metadata": {},
   "source": [
    "# printing row index\n",
    "row_idx"
   ]
  },
  {
   "cell_type": "code",
   "execution_count": 32,
   "metadata": {},
   "outputs": [
    {
     "data": {
      "text/plain": [
       "array([0, 1], dtype=int64)"
      ]
     },
     "execution_count": 32,
     "metadata": {},
     "output_type": "execute_result"
    }
   ],
   "source": [
    "# printing row clusters\n",
    "clusters"
   ]
  },
  {
   "cell_type": "markdown",
   "metadata": {},
   "source": [
    "### DBSCAN Algorithm"
   ]
  },
  {
   "cell_type": "raw",
   "metadata": {},
   "source": [
    "- Density-Based Spatial Clustering of Applications with Noise\n",
    "- It is implemented via the DBSCAN class and the main configuration to tune is the “eps” and “min_samples” hyperparameters."
   ]
  },
  {
   "cell_type": "code",
   "execution_count": 37,
   "metadata": {},
   "outputs": [],
   "source": [
    "from numpy import unique\n",
    "from numpy import where\n",
    "from sklearn.datasets import make_classification\n",
    "from sklearn.cluster import DBSCAN\n",
    "from matplotlib import pyplot as plt"
   ]
  },
  {
   "cell_type": "code",
   "execution_count": 38,
   "metadata": {},
   "outputs": [],
   "source": [
    "# define dataset\n",
    "X, y = make_classification(n_samples=1000, n_features=2, n_informative=2, n_redundant=0, \n",
    "                           ===n_clusters_per_class=1, random_state=4)"
   ]
  },
  {
   "cell_type": "code",
   "execution_count": 39,
   "metadata": {},
   "outputs": [],
   "source": [
    "# define the model\n",
    "model = DBSCAN(eps=0.30, min_samples=9)"
   ]
  },
  {
   "cell_type": "code",
   "execution_count": 40,
   "metadata": {},
   "outputs": [],
   "source": [
    "# fit model and predict clusters\n",
    "y_pred = model.fit_predict(X)"
   ]
  },
  {
   "cell_type": "code",
   "execution_count": 41,
   "metadata": {},
   "outputs": [],
   "source": [
    "# retrieve unique clusters\n",
    "clusters = unique(y_pred)"
   ]
  },
  {
   "cell_type": "code",
   "execution_count": 42,
   "metadata": {},
   "outputs": [
    {
     "data": {
      "image/png": "[encoded data removed]",
      "text/plain": [
       "<Figure size 432x288 with 1 Axes>"
      ]
     },
     "metadata": {
      "needs_background": "light"
     },
     "output_type": "display_data"
    }
   ],
   "source": [
    "# create scatter plot for samples from each cluster\n",
    "for i in clusters:\n",
    "    # get row indexes for samples with this cluster\n",
    "    row_idx = where(y_pred == i)\n",
    "    # create scatter of these samples\n",
    "    plt.scatter(X[row_idx, 0], X[row_idx, 1])\n",
    "# show the plot\n",
    "plt.show()"
   ]
  },
  {
   "cell_type": "code",
   "execution_count": null,
   "metadata": {},
   "outputs": [],
   "source": []
  }
 ],
 "metadata": {
  "kernelspec": {
   "display_name": "Python 3 (ipykernel)",
   "language": "python",
   "name": "python3"
  },
  "language_info": {
   "codemirror_mode": {
    "name": "ipython",
    "version": 3
   },
   "file_extension": ".py",
   "mimetype": "text/x-python",
   "name": "python",
   "nbconvert_exporter": "python",
   "pygments_lexer": "ipython3",
   "version": "3.9.7"
  }
 },
 "nbformat": 4,
 "nbformat_minor": 4
}

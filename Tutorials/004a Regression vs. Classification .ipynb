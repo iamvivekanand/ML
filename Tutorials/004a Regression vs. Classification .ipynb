{
 "cells": [
  {
   "cell_type": "markdown",
   "metadata": {},
   "source": [
    "### Regression vs. Classification "
   ]
  },
  {
   "cell_type": "markdown",
   "metadata": {},
   "source": [
    "- The task of the regression algorithm is to map the input value (x) with the continuous output variable(y).\n",
    "- The task of the classification algorithm is to map the input value(x) with the discrete output variable(y)."
   ]
  },
  {
   "cell_type": "code",
   "execution_count": 1,
   "metadata": {},
   "outputs": [],
   "source": [
    "# resgrssion"
   ]
  },
  {
   "cell_type": "markdown",
   "metadata": {},
   "source": [
    "Used for prediction of continuous output\n",
    "Shows the linear relationship between the independent variable (X-axis) and the dependent variable (Y-axis),\n",
    "\n",
    "Y= mX+C  this is the mathematical equation for linear regression..\n",
    "m,C are coefficients/weights\n",
    "\n",
    "Simple Linear Regression:\n",
    "\n",
    "    If there is only one input variable (x)\n",
    "    e.g. salary of an employee on the basis of the year of experience.\n",
    "\n",
    "    Multiple linear regression:\n",
    "    And if there are more than one input variable, then such linear regression is called.."
   ]
  },
  {
   "cell_type": "markdown",
   "metadata": {},
   "source": [
    "    In Regression, we try to find the best fit line, which can predict the output more accurately.\n",
    "    In Classification, we try to find the decision boundary, which can divide the dataset into different classes."
   ]
  },
  {
   "cell_type": "markdown",
   "metadata": {},
   "source": [
    "    Regression further divided into Linear and Non-linear Regression.\n",
    "    Classification algorithms can be divided into Binary Classifier and Multi-class Classifier."
   ]
  },
  {
   "cell_type": "markdown",
   "metadata": {},
   "source": [
    "### linear Regression vs logistic regression"
   ]
  },
  {
   "cell_type": "markdown",
   "metadata": {},
   "source": [
    "- used to predict continuous values\n",
    "- input can be continuous or discrete but output always continuous data, in case of linear regression\n",
    "- finds a function which maps input x to output y\n",
    "\n",
    "        y=Ax+B+c"
   ]
  },
  {
   "cell_type": "code",
   "execution_count": 2,
   "metadata": {},
   "outputs": [],
   "source": [
    "# logistic regression"
   ]
  },
  {
   "attachments": {
    "image.png": {
     "image/png": "[encoded data removed]"
    }
   },
   "cell_type": "markdown",
   "metadata": {},
   "source": [
    "The output of Logistic Regression problem can be only between the 0 and 1\n",
    "Logistic regression is based on the concept of Maximum Likelihood estimation\n",
    "\n",
    "Mathematically sigmoid function can be represented as below...\n",
    "here the data is first modeled using simple regression equation Y=mx+C, then this y is fed to the sigmoid funciton, and sigmoid function just changes it within the range of 0 and 1. \n",
    "\n",
    "![image.png](attachment:image.png)"
   ]
  },
  {
   "cell_type": "markdown",
   "metadata": {},
   "source": [
    "<img src='lr4.jpg'>"
   ]
  },
  {
   "cell_type": "code",
   "execution_count": null,
   "metadata": {},
   "outputs": [],
   "source": []
  }
 ],
 "metadata": {
  "kernelspec": {
   "display_name": "Python 3 (ipykernel)",
   "language": "python",
   "name": "python3"
  },
  "language_info": {
   "codemirror_mode": {
    "name": "ipython",
    "version": 3
   },
   "file_extension": ".py",
   "mimetype": "text/x-python",
   "name": "python",
   "nbconvert_exporter": "python",
   "pygments_lexer": "ipython3",
   "version": "3.9.16"
  }
 },
 "nbformat": 4,
 "nbformat_minor": 4
}

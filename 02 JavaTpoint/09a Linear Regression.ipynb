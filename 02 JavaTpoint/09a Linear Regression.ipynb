{
 "cells": [
  {
   "cell_type": "markdown",
   "metadata": {},
   "source": [
    "### Linear Regression"
   ]
  },
  {
   "cell_type": "raw",
   "metadata": {},
   "source": [
    "-A Supervised ml algortim\n",
    "-Models a linear relationship between a dependent (y) and one or more independent (y) variables,"
   ]
  },
  {
   "cell_type": "markdown",
   "metadata": {},
   "source": [
    "<img src='lr.jpg' width=250, hight=250>"
   ]
  },
  {
   "cell_type": "raw",
   "metadata": {},
   "source": [
    "Mathematically \n",
    "\n",
    "y= a0+a1x+ ε\n",
    "a0= intercept of the line \n",
    "a1 = regression coefficient\n",
    "ε = random error"
   ]
  },
  {
   "cell_type": "markdown",
   "metadata": {},
   "source": [
    "### Types of Linear Regression"
   ]
  },
  {
   "cell_type": "raw",
   "metadata": {},
   "source": [
    "Simple Linear Regression: \n",
    "it has only one input variable for prediction\n",
    "\n",
    "Multiple Linear regression: \n",
    "more than one input variable is used to predict the output value"
   ]
  },
  {
   "cell_type": "markdown",
   "metadata": {},
   "source": [
    "Define Regression line??\n",
    "best fit line line showing the relationship between the input and output variables "
   ]
  },
  {
   "cell_type": "raw",
   "metadata": {},
   "source": [
    "A regression line can show two types of relationship:\n",
    "1.Positive Linear Relationship: output increase with input"
   ]
  },
  {
   "cell_type": "markdown",
   "metadata": {},
   "source": [
    "<img src='lr1.png'>"
   ]
  },
  {
   "cell_type": "raw",
   "metadata": {},
   "source": [
    "2.Negative Linear Relationship: y decreases with increase in x"
   ]
  },
  {
   "cell_type": "markdown",
   "metadata": {},
   "source": [
    "<img src='lr3.png'>"
   ]
  },
  {
   "cell_type": "markdown",
   "metadata": {},
   "source": [
    "#### Finding the best fit line:"
   ]
  },
  {
   "cell_type": "raw",
   "metadata": {},
   "source": [
    "Regression always try to find the best fit line that means the error between predicted values and actual values should be minimized.\n",
    "The best fit line will have the least error."
   ]
  },
  {
   "cell_type": "raw",
   "metadata": {},
   "source": [
    "The different values for weights or coefficient of lines (a0, a1) gives a different line of regression, so we need to calculate the best values for a0 and a1 to find the best fit line, so to calculate this we use cost function."
   ]
  },
  {
   "cell_type": "markdown",
   "metadata": {},
   "source": [
    "#### What is a Cost function?"
   ]
  },
  {
   "cell_type": "raw",
   "metadata": {},
   "source": [
    "-cost function is used to estimate the values of the coefficient for the best fit line.\n",
    "-Cost function optimizes the regression coefficients or weights. It measures how a linear regression model is performing."
   ]
  },
  {
   "cell_type": "raw",
   "metadata": {},
   "source": [
    "For Linear Regression, we use the Mean Squared Error (MSE) cost function, which is the average of squared error occurred between the predicted values and actual values."
   ]
  },
  {
   "cell_type": "markdown",
   "metadata": {},
   "source": [
    "<img src='mse.png'>"
   ]
  },
  {
   "cell_type": "raw",
   "metadata": {},
   "source": [
    "Where,\n",
    "N=Total number of observation\n",
    "Yi = Actual value\n",
    "(a1xi+a0)= Predicted value."
   ]
  },
  {
   "cell_type": "raw",
   "metadata": {},
   "source": [
    "Residuals: The distance between the actual value and predicted values is called residual..\n",
    "\n",
    "if residual high then cost function is high, if low then low.."
   ]
  },
  {
   "cell_type": "markdown",
   "metadata": {},
   "source": [
    "#### Gradient Descent:"
   ]
  },
  {
   "cell_type": "raw",
   "metadata": {},
   "source": [
    "-used to minimize the MSE by calculating the gradient of the cost function.\n",
    "-A regression model uses gradient descent to update the coefficients\n",
    "-It is done by a random selection of values of coefficient and then iteratively update the values to reach the minimum cost function."
   ]
  },
  {
   "cell_type": "markdown",
   "metadata": {},
   "source": [
    "#### Model Performance:"
   ]
  },
  {
   "cell_type": "markdown",
   "metadata": {},
   "source": [
    "##### R-Square method"
   ]
  },
  {
   "cell_type": "raw",
   "metadata": {},
   "source": [
    "-it measures the strength of the relationship between the dependent and independent variables on a scale of 0-100%.\n",
    "-The high value of R-square represent a good model\n",
    "-also called a coefficient of determination, or coefficient of multiple determination for multiple regression."
   ]
  },
  {
   "cell_type": "code",
   "execution_count": 2,
   "metadata": {},
   "outputs": [],
   "source": [
    "import seaborn as sns\n",
    "from sklearn.metrics import r2_score\n",
    "from sklearn.linear_model import LinearRegression\n",
    "sns.set()"
   ]
  },
  {
   "cell_type": "markdown",
   "metadata": {},
   "source": [
    "### Assumptions of Linear Regression"
   ]
  },
  {
   "cell_type": "raw",
   "metadata": {},
   "source": [
    "-There is a Linear relationship between the features and target\n",
    "-Small or no multicollinearity between the features\n",
    "\n",
    "Homoscedasticity Assumption:\n",
    "Homoscedasticity is a situation when the error term is the same for all the values of input variables. With homoscedasticity, there should be no clear pattern distribution of data in the scatter plot.\n",
    "\n",
    "Normal distribution of error terms:\n",
    "Linear regression assumes that the error term should follow the normal distribution pattern. If error terms are not normally distributed, then confidence intervals will become either too wide or too narrow, which may cause difficulties in finding coefficients."
   ]
  }
 ],
 "metadata": {
  "kernelspec": {
   "display_name": "Python 3 (ipykernel)",
   "language": "python",
   "name": "python3"
  },
  "language_info": {
   "codemirror_mode": {
    "name": "ipython",
    "version": 3
   },
   "file_extension": ".py",
   "mimetype": "text/x-python",
   "name": "python",
   "nbconvert_exporter": "python",
   "pygments_lexer": "ipython3",
   "version": "3.9.7"
  }
 },
 "nbformat": 4,
 "nbformat_minor": 4
}

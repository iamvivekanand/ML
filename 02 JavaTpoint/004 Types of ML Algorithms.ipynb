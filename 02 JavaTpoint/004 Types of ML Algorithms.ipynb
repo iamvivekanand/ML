{
 "cells": [
  {
   "cell_type": "code",
   "execution_count": 5,
   "metadata": {},
   "outputs": [],
   "source": [
    "# Types of ML Algorithms"
   ]
  },
  {
   "cell_type": "markdown",
   "metadata": {},
   "source": [
    "- supervised, \n",
    "- unsupervised, \n",
    "- semi supervised\n",
    "- reinforcement learning"
   ]
  },
  {
   "cell_type": "code",
   "execution_count": 6,
   "metadata": {},
   "outputs": [],
   "source": [
    "### Supervised Machine Learning"
   ]
  },
  {
   "cell_type": "markdown",
   "metadata": {},
   "source": [
    "- models are trained using \"labelled\" training data,\n",
    "- The labelled data means input data is already tagged with the correct output\n",
    "- The training data provided to the machines work as the supervisor that teaches the machines to predict the output correctly"
   ]
  },
  {
   "cell_type": "code",
   "execution_count": 1,
   "metadata": {},
   "outputs": [],
   "source": [
    "# Types of Supervised ML Algorithms"
   ]
  },
  {
   "cell_type": "markdown",
   "metadata": {},
   "source": [
    "SML is divided into two types-\n",
    "- 1.regression\n",
    "- 2.classification"
   ]
  },
  {
   "cell_type": "code",
   "execution_count": 2,
   "metadata": {},
   "outputs": [],
   "source": [
    "# 1.Regression"
   ]
  },
  {
   "cell_type": "markdown",
   "metadata": {},
   "source": [
    "- used for the prediction of continuous variables, such as Weather forecasting, Market Trends, etc\n",
    "- input may be continuous or categorical"
   ]
  },
  {
   "cell_type": "code",
   "execution_count": 3,
   "metadata": {},
   "outputs": [],
   "source": [
    "# 2.Classification"
   ]
  },
  {
   "cell_type": "markdown",
   "metadata": {},
   "source": [
    "- Classification algorithms are used when the output variable is categorical,\n",
    "- such as Yes-No, Male-Female, True-false, etc."
   ]
  },
  {
   "cell_type": "markdown",
   "metadata": {},
   "source": [
    "In supervised learning we can have exact idea about the classes of objects."
   ]
  },
  {
   "cell_type": "markdown",
   "metadata": {},
   "source": [
    "### Unsupervised Learning"
   ]
  },
  {
   "cell_type": "markdown",
   "metadata": {},
   "source": [
    "- does not have labelled data\n",
    "- model itself need to find the hidden patterns and useful insights from the given data\n",
    "- goal of UML is to find the underlying structure in a dataset, group the data according to similarities, and represent that dataset in a compressed format."
   ]
  },
  {
   "cell_type": "code",
   "execution_count": 7,
   "metadata": {},
   "outputs": [],
   "source": [
    "### Why use Unsupervised Learning?"
   ]
  },
  {
   "cell_type": "markdown",
   "metadata": {},
   "source": [
    "- it is helpful for finding useful insights from the data.\n",
    "- it is much similar as a human learns to think by their own experiences, which makes it closer to the real AI\n",
    "- works on unlabeled and uncategorized data which make unsupervised learning more important\n",
    "- In real-world, we do not always have input data with the corresponding output so to solve such cases, we need unsupervised learning."
   ]
  },
  {
   "cell_type": "code",
   "execution_count": 8,
   "metadata": {},
   "outputs": [],
   "source": [
    "### Types of Unsupervised ML Algorithm:"
   ]
  },
  {
   "cell_type": "markdown",
   "metadata": {},
   "source": [
    "Clustering:\n",
    "- it is Grouping of data points into several clusters such that observations with most similarities remains into a group, and those with less or no similarities belongs to another group."
   ]
  },
  {
   "cell_type": "markdown",
   "metadata": {},
   "source": [
    "Association:\n",
    "- used for finding the relationships between variables in the large database. \n",
    "- It determines the set of items that occurs together in the dataset. \n",
    "\n",
    "- Association rule makes marketing strategy more effective. Such as people who buy X item (suppose a bread) are also tend to purchase Y (Butter/Jam) item. \n",
    "- A typical example of Association rule is Market Basket Analysis."
   ]
  },
  {
   "cell_type": "code",
   "execution_count": 9,
   "metadata": {},
   "outputs": [],
   "source": [
    "### Advantages of Unsupervised Learning"
   ]
  },
  {
   "cell_type": "markdown",
   "metadata": {},
   "source": [
    "- Used for more complex tasks as compared to supervised learning because, in unsupervised learning, we don't have labeled input data\n",
    "- Unsupervised learning is preferable as it is more common and easy to get unlabeled data in comparison to labeled data"
   ]
  },
  {
   "cell_type": "code",
   "execution_count": 10,
   "metadata": {},
   "outputs": [],
   "source": [
    "### Disadvantages of Unsupervised Learning"
   ]
  },
  {
   "cell_type": "markdown",
   "metadata": {},
   "source": [
    "- intrinsically more difficult than supervised learning as it does not have corresponding output.\n",
    "- Result might be less accurate as input data is not labeled, and algorithms do not know the exact output in advance"
   ]
  },
  {
   "cell_type": "code",
   "execution_count": 12,
   "metadata": {},
   "outputs": [],
   "source": [
    "### what is the Difference between Supervised and Unsupervised ML??"
   ]
  },
  {
   "cell_type": "markdown",
   "metadata": {},
   "source": [
    "- supervised learning uses labelled data, unsupervised ml does not\n",
    "- supervised learning is easy to implement, UML is difficult to implement\n",
    "- SML is less closer to real AI, UML is more closer to AI."
   ]
  },
  {
   "cell_type": "markdown",
   "metadata": {},
   "source": [
    "### Regression in Machine learning"
   ]
  },
  {
   "cell_type": "code",
   "execution_count": 13,
   "metadata": {},
   "outputs": [],
   "source": [
    "### What is a Regression??"
   ]
  },
  {
   "cell_type": "markdown",
   "metadata": {},
   "source": [
    "A SML technique which helps in finding the correlation between input variables and help to predict the continuous output variables based on the one or more input variables.\n",
    "\n",
    "e.g.\n",
    "- Prediction of rain using temperature and other factors\n",
    "- Determining Market trends\n",
    "- Prediction of road accidents due to rash driving."
   ]
  },
  {
   "cell_type": "code",
   "execution_count": 14,
   "metadata": {},
   "outputs": [],
   "source": [
    "### Terminologies Related to the Regression Analysis:"
   ]
  },
  {
   "cell_type": "markdown",
   "metadata": {},
   "source": [
    "Dependent Variable: output variable, target variable,\n",
    "\n",
    "Independent Variable: input variable or predictor\n",
    "\n",
    "Outliers:\n",
    "* An observation which contains either very low value or very high value in comparison to other observed values. An outlier may hamper the result, so it should be avoided."
   ]
  },
  {
   "cell_type": "markdown",
   "metadata": {},
   "source": [
    "Multicollinearity:\n",
    "* when the iput variables are highly correlated with each other than other variables, then such condition is called Multicollinearity. \n",
    "* It should not be present in the dataset, because it creates problem while ranking the most affecting variable.\n",
    "\n",
    "Overfitting-\n",
    "* If the algorithm works well with the training dataset but not well with test dataset.\n",
    "* model can't generalize well over unseen data\n",
    "\n",
    "Underfitting-\n",
    "* if our algorithm does not perform well even with training dataset, then such problem is called underfitting\n",
    "* model is unable to captures patters, insights, trends from training"
   ]
  },
  {
   "cell_type": "markdown",
   "metadata": {},
   "source": [
    "#### Types of Regression Techniques:"
   ]
  },
  {
   "cell_type": "markdown",
   "metadata": {},
   "source": [
    "Some important types of regression which are given below:\n",
    "- Linear Regression\n",
    "- Logistic Regression\n",
    "- Polynomial Regression\n",
    "- Support Vector Regression\n",
    "- Decision Tree Regression\n",
    "- Random Forest Regression\n",
    "- AdaBoost Regression\n",
    "- Ridge Regression\n",
    "- Lasso Regression"
   ]
  },
  {
   "cell_type": "code",
   "execution_count": 15,
   "metadata": {},
   "outputs": [],
   "source": [
    "#### Linear Regression"
   ]
  },
  {
   "cell_type": "markdown",
   "metadata": {},
   "source": [
    "* Used for prediction of continuous output\n",
    "* Shows the linear relationship between the independent variable (X-axis) and the dependent variable (Y-axis),\n",
    "\n",
    "Y= mx+b+c  this is the mathematical equation for linear regression..\n",
    "\n",
    "m,b are coefficients/weights"
   ]
  },
  {
   "cell_type": "markdown",
   "metadata": {},
   "source": [
    "Simple Linear Regression:\n",
    "* If there is only one input variable (x)\n",
    "* e.g. salary of an employee on the basis of the year of experience"
   ]
  },
  {
   "cell_type": "markdown",
   "metadata": {},
   "source": [
    "Multiple linear regression:\n",
    "* if there are more than one input variable, then such linear regression is called.."
   ]
  },
  {
   "cell_type": "code",
   "execution_count": 16,
   "metadata": {},
   "outputs": [],
   "source": [
    "#### Logistic Regression: "
   ]
  },
  {
   "cell_type": "markdown",
   "metadata": {},
   "source": [
    "* A supervised ML algorithm which is used for classification problems\n",
    "* it uses sigmoid function or logistic function which is a complex cost function to model the input and output data\n",
    "\n",
    "Mathematically sigmoid function can be represented as below...\n",
    "\n",
    "here the data is first modeled using simple regression equation Y=mx+C, then this y is fed to the sigmoid funciton, and sigmoid function just changes it within the range of 0 and 1. \n",
    "<img src='sigmoid-function.jpg'>"
   ]
  },
  {
   "cell_type": "markdown",
   "metadata": {},
   "source": [
    "where\n",
    "\n",
    "  f(x)= Output between the 0 and 1\n",
    "  \n",
    "  x= input to the function\n",
    "  \n",
    "  e= base of natural logarithm.\n",
    "\n",
    "When we provide the input values (data) to the function, it gives the S-curve as follows:"
   ]
  },
  {
   "cell_type": "markdown",
   "metadata": {},
   "source": [
    "<img src='sigmoid-graph.jpg'>"
   ]
  },
  {
   "cell_type": "markdown",
   "metadata": {},
   "source": [
    "It uses the concept of threshold levels, value above the threshold level is rounded to 1, and values below the threshold level is rounded to 0."
   ]
  },
  {
   "cell_type": "markdown",
   "metadata": {},
   "source": [
    "There are three types of logistic regression:\n",
    "\n",
    "    Binary(0/1, pass/fail)\n",
    "    Multi(cats, dogs, lions)\n",
    "    Ordinal(low, medium, high)"
   ]
  },
  {
   "cell_type": "code",
   "execution_count": 17,
   "metadata": {},
   "outputs": [],
   "source": [
    "### Polynomial Regression:"
   ]
  },
  {
   "cell_type": "markdown",
   "metadata": {},
   "source": [
    "- it models the non-linear dataset using a linear model\n",
    "- it fits a non-linear curve between the input values and corresponding output\n",
    "- In a dataset, if datapoints are present in a non-linear fashion, so for such case we need Polynomial regression instead of linear regression"
   ]
  },
  {
   "cell_type": "markdown",
   "metadata": {},
   "source": [
    "Steps in Polynomial Regression:\n",
    "- the original features are transformed into polynomial features of given degree \n",
    "- then modeled using a linear model."
   ]
  },
  {
   "cell_type": "markdown",
   "metadata": {},
   "source": [
    "Linear regression equation is like  Y= b0+ b1x,\n",
    "\n",
    "Polynomial regression equation has degrees greater than 2\n",
    "* Y= b0+b1x+ b2x2+ b3x3+.....+ bnxn.\n",
    "\n",
    "b0, b1,... bn are the regression coefficients."
   ]
  },
  {
   "cell_type": "code",
   "execution_count": 18,
   "metadata": {},
   "outputs": [],
   "source": [
    "### Support Vector Regression:"
   ]
  },
  {
   "cell_type": "markdown",
   "metadata": {},
   "source": [
    "-a SML algorithm, used for prediction of continuous output, Consider the below graph for SVR"
   ]
  },
  {
   "cell_type": "markdown",
   "metadata": {},
   "source": [
    "<img src='svr.jpg'>"
   ]
  },
  {
   "cell_type": "markdown",
   "metadata": {},
   "source": [
    "Below are some keywords which are used in Support Vector Regression:\n",
    "\n",
    "Kernel: \n",
    "* a function used to map a lower-dimensional data into higher dimensional data.\n",
    "Hyperplane: \n",
    "* simply a separation line between two classes, but in SVR, its a line which helps to predict the continuous variables and cover most of the datapoints.\n",
    "\n",
    "Boundary line: \n",
    "* the two lines apart from hyperplane, which creates a margin for datapoints.\n",
    "\n",
    "Support vectors: \n",
    "* are the datapoints which are nearest to the hyperplane and opposite class."
   ]
  },
  {
   "cell_type": "code",
   "execution_count": 19,
   "metadata": {},
   "outputs": [],
   "source": [
    "# In SVR, we always try to determine a hyperplane with a maximum margin\n",
    "# So that maximum number of datapoints are covered in that margin"
   ]
  },
  {
   "cell_type": "code",
   "execution_count": null,
   "metadata": {},
   "outputs": [],
   "source": []
  }
 ],
 "metadata": {
  "kernelspec": {
   "display_name": "Python 3 (ipykernel)",
   "language": "python",
   "name": "python3"
  },
  "language_info": {
   "codemirror_mode": {
    "name": "ipython",
    "version": 3
   },
   "file_extension": ".py",
   "mimetype": "text/x-python",
   "name": "python",
   "nbconvert_exporter": "python",
   "pygments_lexer": "ipython3",
   "version": "3.9.7"
  }
 },
 "nbformat": 4,
 "nbformat_minor": 4
}

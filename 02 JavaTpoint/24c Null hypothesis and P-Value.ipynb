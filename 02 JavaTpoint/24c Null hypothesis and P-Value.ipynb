{
 "cells": [
  {
   "cell_type": "markdown",
   "metadata": {},
   "source": [
    "### Null hypothesis and P-Value"
   ]
  },
  {
   "cell_type": "raw",
   "metadata": {},
   "source": [
    "A null hypothesis is an initial statement claiming that there is no relationship between two measured events. "
   ]
  },
  {
   "cell_type": "code",
   "execution_count": 1,
   "metadata": {},
   "outputs": [],
   "source": [
    "# An easy example of Null Hypothesis would be like this:"
   ]
  },
  {
   "cell_type": "raw",
   "metadata": {},
   "source": [
    "1a. The average income for men in the tech industry is the same as the average income for women in the tech industry.\n",
    "1b. There is no correlation between frustration and aggression.\n",
    "*****\n",
    "\n",
    "The alternative hypotheses for the statements above would be:\n",
    "****\n",
    "The average income for men in the tech industry is NOT the same as the average income for women in the tech industry.\n",
    "There is a correlation between frustration and aggression.\n",
    "**** "
   ]
  },
  {
   "cell_type": "raw",
   "metadata": {},
   "source": [
    "Often, the null hypothesis is considered to be true until evidence suggests otherwise. A null hypothesis is denoted H0 (H not), while an alternative hypothesis is denoted H1 or HA "
   ]
  },
  {
   "cell_type": "code",
   "execution_count": 2,
   "metadata": {},
   "outputs": [],
   "source": [
    "# Exact and Inexact hypothesis"
   ]
  },
  {
   "cell_type": "raw",
   "metadata": {},
   "source": [
    "There are several forms of hypotheses used in different contexts to describe varying levels of specificity of an outcome. For example, \n",
    "an EXACT HYPOTHESIS specifies an exact parameter for the hypothesis (e.g. 50), whereas an INEXACT HYPOTHESIS specifies a range i.e. a<=50\n",
    "\n",
    "A null hypothesis is used in hypothesis testing, or the testing of predictions about a particular outcome."
   ]
  },
  {
   "cell_type": "code",
   "execution_count": 3,
   "metadata": {},
   "outputs": [],
   "source": [
    "# What is a p-value?"
   ]
  },
  {
   "cell_type": "raw",
   "metadata": {},
   "source": [
    "In statistics, the p-value is the probability of obtaining the observed results of a test, assuming that the null hypothesis is correct...\n",
    "\n",
    "In simple words it assumes that null hypothesis is correct and finds the probability of observed results of a test.\n",
    "\n",
    "P-value is the probability that you would arrive at the same results as the null hypothesis."
   ]
  },
  {
   "cell_type": "raw",
   "metadata": {},
   "source": [
    "One of the most commonly used p-value is 0.05. \n",
    "If the calculated p-value is less than 0.05, the null hypothesis is considered to be false, or nullified (hence the name null hypothesis). \n",
    "And if the value is greater than 0.05, the null hypothesis is considered to be true. "
   ]
  }
 ],
 "metadata": {
  "kernelspec": {
   "display_name": "Python 3 (ipykernel)",
   "language": "python",
   "name": "python3"
  },
  "language_info": {
   "codemirror_mode": {
    "name": "ipython",
    "version": 3
   },
   "file_extension": ".py",
   "mimetype": "text/x-python",
   "name": "python",
   "nbconvert_exporter": "python",
   "pygments_lexer": "ipython3",
   "version": "3.9.7"
  }
 },
 "nbformat": 4,
 "nbformat_minor": 4
}

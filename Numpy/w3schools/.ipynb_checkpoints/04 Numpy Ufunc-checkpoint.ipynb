{
 "cells": [
  {
   "cell_type": "markdown",
   "id": "996d1b0c",
   "metadata": {},
   "source": [
    "### Numpy Ufunc"
   ]
  },
  {
   "cell_type": "raw",
   "id": "1455440d",
   "metadata": {},
   "source": [
    "ufuncs stands for \"Universal Functions\" and they are NumPy functions that operates on the ndarray object.\n",
    "-used to implement vectorization in NumPy which is way faster than iterating over elements.\n",
    "\n",
    "ufuncs also take additional arguments, like:\n",
    "\n",
    "where:\n",
    "boolean array or condition defining where the operations should take place.\n",
    "dtype:\n",
    "defining the return type of elements.\n",
    "out:\n",
    "output array where the return value should be copied."
   ]
  },
  {
   "cell_type": "code",
   "execution_count": null,
   "id": "e39d4173",
   "metadata": {},
   "outputs": [],
   "source": [
    "# What is Vectorization?"
   ]
  },
  {
   "cell_type": "raw",
   "id": "f87f4ccc",
   "metadata": {},
   "source": [
    "-Converting iterative statements into a vector based operation is called vectorization.\n",
    "-It is faster as modern CPUs are optimized for such operations."
   ]
  },
  {
   "cell_type": "code",
   "execution_count": 5,
   "id": "e791f72f",
   "metadata": {},
   "outputs": [
    {
     "name": "stdout",
     "output_type": "stream",
     "text": [
      "[5, 7, 9, 11]\n"
     ]
    }
   ],
   "source": [
    "# adding two elements without ufunc\n",
    "x = [1, 2, 3, 4]\n",
    "y = [4, 5, 6, 7]\n",
    "z = []\n",
    "\n",
    "for i, j in zip(x,y):\n",
    "    z.append(i+j)\n",
    "print(z)"
   ]
  },
  {
   "cell_type": "code",
   "execution_count": 7,
   "id": "331a6a21",
   "metadata": {},
   "outputs": [
    {
     "name": "stdout",
     "output_type": "stream",
     "text": [
      "<zip object at 0x0000027AA70DCE80>\n"
     ]
    }
   ],
   "source": [
    "# what does zip does\n",
    "x = [1, 2, 3, 4]\n",
    "y = [4, 5, 6, 7]\n",
    "z = zip(x,y)\n",
    "print(z)"
   ]
  },
  {
   "cell_type": "code",
   "execution_count": 8,
   "id": "4e586cc4",
   "metadata": {},
   "outputs": [
    {
     "data": {
      "text/plain": [
       "array([ 5,  7,  9, 11])"
      ]
     },
     "execution_count": 8,
     "metadata": {},
     "output_type": "execute_result"
    }
   ],
   "source": [
    "# With ufunc, we can use the add() function:\n",
    "\n",
    "import numpy as np\n",
    "np.add(x,y)"
   ]
  },
  {
   "cell_type": "code",
   "execution_count": 9,
   "id": "cdee798a",
   "metadata": {},
   "outputs": [
    {
     "data": {
      "text/plain": [
       "20"
      ]
     },
     "execution_count": 9,
     "metadata": {},
     "output_type": "execute_result"
    }
   ],
   "source": [
    "# Create Your Own ufunc\n",
    "\n",
    "def myaddition(x,y):\n",
    "    return x+y\n",
    "myaddition(10,10)"
   ]
  },
  {
   "cell_type": "code",
   "execution_count": 13,
   "id": "dbd5348f",
   "metadata": {},
   "outputs": [
    {
     "ename": "ValueError",
     "evalue": "invalid number of arguments",
     "output_type": "error",
     "traceback": [
      "\u001b[1;31m---------------------------------------------------------------------------\u001b[0m",
      "\u001b[1;31mValueError\u001b[0m                                Traceback (most recent call last)",
      "\u001b[1;32m~\\AppData\\Local\\Temp/ipykernel_14064/863373886.py\u001b[0m in \u001b[0;36m<module>\u001b[1;34m\u001b[0m\n\u001b[0;32m      1\u001b[0m \u001b[1;32mdef\u001b[0m \u001b[0mmyaddition\u001b[0m\u001b[1;33m(\u001b[0m\u001b[0mx\u001b[0m\u001b[1;33m,\u001b[0m\u001b[0my\u001b[0m\u001b[1;33m)\u001b[0m\u001b[1;33m:\u001b[0m\u001b[1;33m\u001b[0m\u001b[1;33m\u001b[0m\u001b[0m\n\u001b[0;32m      2\u001b[0m     \u001b[0mprint\u001b[0m\u001b[1;33m(\u001b[0m\u001b[0mnp\u001b[0m\u001b[1;33m.\u001b[0m\u001b[0madd\u001b[0m\u001b[1;33m(\u001b[0m\u001b[0mx\u001b[0m\u001b[1;33m+\u001b[0m\u001b[0my\u001b[0m\u001b[1;33m)\u001b[0m\u001b[1;33m)\u001b[0m\u001b[1;33m\u001b[0m\u001b[1;33m\u001b[0m\u001b[0m\n\u001b[1;32m----> 3\u001b[1;33m \u001b[0mmyaddition\u001b[0m\u001b[1;33m(\u001b[0m\u001b[1;33m[\u001b[0m\u001b[1;36m1\u001b[0m\u001b[1;33m,\u001b[0m \u001b[1;36m2\u001b[0m\u001b[1;33m,\u001b[0m \u001b[1;36m3\u001b[0m\u001b[1;33m,\u001b[0m \u001b[1;36m4\u001b[0m\u001b[1;33m]\u001b[0m\u001b[1;33m,\u001b[0m\u001b[1;33m[\u001b[0m\u001b[1;36m5\u001b[0m\u001b[1;33m,\u001b[0m\u001b[1;36m6\u001b[0m\u001b[1;33m,\u001b[0m\u001b[1;36m7\u001b[0m\u001b[1;33m,\u001b[0m\u001b[1;36m8\u001b[0m\u001b[1;33m,\u001b[0m\u001b[1;36m9\u001b[0m\u001b[1;33m]\u001b[0m\u001b[1;33m)\u001b[0m\u001b[1;33m\u001b[0m\u001b[1;33m\u001b[0m\u001b[0m\n\u001b[0m",
      "\u001b[1;32m~\\AppData\\Local\\Temp/ipykernel_14064/863373886.py\u001b[0m in \u001b[0;36mmyaddition\u001b[1;34m(x, y)\u001b[0m\n\u001b[0;32m      1\u001b[0m \u001b[1;32mdef\u001b[0m \u001b[0mmyaddition\u001b[0m\u001b[1;33m(\u001b[0m\u001b[0mx\u001b[0m\u001b[1;33m,\u001b[0m\u001b[0my\u001b[0m\u001b[1;33m)\u001b[0m\u001b[1;33m:\u001b[0m\u001b[1;33m\u001b[0m\u001b[1;33m\u001b[0m\u001b[0m\n\u001b[1;32m----> 2\u001b[1;33m     \u001b[0mprint\u001b[0m\u001b[1;33m(\u001b[0m\u001b[0mnp\u001b[0m\u001b[1;33m.\u001b[0m\u001b[0madd\u001b[0m\u001b[1;33m(\u001b[0m\u001b[0mx\u001b[0m\u001b[1;33m+\u001b[0m\u001b[0my\u001b[0m\u001b[1;33m)\u001b[0m\u001b[1;33m)\u001b[0m\u001b[1;33m\u001b[0m\u001b[1;33m\u001b[0m\u001b[0m\n\u001b[0m\u001b[0;32m      3\u001b[0m \u001b[0mmyaddition\u001b[0m\u001b[1;33m(\u001b[0m\u001b[1;33m[\u001b[0m\u001b[1;36m1\u001b[0m\u001b[1;33m,\u001b[0m \u001b[1;36m2\u001b[0m\u001b[1;33m,\u001b[0m \u001b[1;36m3\u001b[0m\u001b[1;33m,\u001b[0m \u001b[1;36m4\u001b[0m\u001b[1;33m]\u001b[0m\u001b[1;33m,\u001b[0m\u001b[1;33m[\u001b[0m\u001b[1;36m5\u001b[0m\u001b[1;33m,\u001b[0m\u001b[1;36m6\u001b[0m\u001b[1;33m,\u001b[0m\u001b[1;36m7\u001b[0m\u001b[1;33m,\u001b[0m\u001b[1;36m8\u001b[0m\u001b[1;33m,\u001b[0m\u001b[1;36m9\u001b[0m\u001b[1;33m]\u001b[0m\u001b[1;33m)\u001b[0m\u001b[1;33m\u001b[0m\u001b[1;33m\u001b[0m\u001b[0m\n",
      "\u001b[1;31mValueError\u001b[0m: invalid number of arguments"
     ]
    }
   ],
   "source": [
    "def myaddition(x,y):\n",
    "    print(np.add(x+y))\n",
    "myaddition([1, 2, 3, 4],[5,6,7,8,9])"
   ]
  },
  {
   "cell_type": "code",
   "execution_count": 14,
   "id": "09519f97",
   "metadata": {},
   "outputs": [
    {
     "name": "stdout",
     "output_type": "stream",
     "text": [
      "<class 'numpy.ufunc'>\n"
     ]
    }
   ],
   "source": [
    "# check if a function is ufunc\n",
    "print(type(np.add))"
   ]
  },
  {
   "cell_type": "code",
   "execution_count": 16,
   "id": "4ed0b322",
   "metadata": {},
   "outputs": [
    {
     "name": "stdout",
     "output_type": "stream",
     "text": [
      "ufunc\n"
     ]
    }
   ],
   "source": [
    "# Use an if statement to check if the function is a ufunc or not:\n",
    "\n",
    "if type(np.add)==np.ufunc:\n",
    "    print('ufunc')\n",
    "else:\n",
    "    print('not ufunc')"
   ]
  },
  {
   "cell_type": "markdown",
   "id": "29b7e4e1",
   "metadata": {},
   "source": [
    "### Simple Arithmetic"
   ]
  },
  {
   "cell_type": "code",
   "execution_count": 19,
   "id": "e4349919",
   "metadata": {},
   "outputs": [
    {
     "name": "stdout",
     "output_type": "stream",
     "text": [
      "[30 32 34 36 38 40]\n",
      "[30 32 34 36 38 40]\n"
     ]
    }
   ],
   "source": [
    "# addition of two arrays\n",
    "arr1 = np.array([10, 11, 12, 13, 14, 15])\n",
    "arr2 = np.array([20, 21, 22, 23, 24, 25])\n",
    "\n",
    "print(arr1+arr2)\n",
    "\n",
    "# or\n",
    "\n",
    "print(np.add(arr1,arr2))"
   ]
  },
  {
   "cell_type": "code",
   "execution_count": 20,
   "id": "d62ff63b",
   "metadata": {},
   "outputs": [
    {
     "name": "stdout",
     "output_type": "stream",
     "text": [
      "[-10 -10 -10 -10 -10 -10]\n",
      "[-10 -10 -10 -10 -10 -10]\n"
     ]
    }
   ],
   "source": [
    "# substraction of two arrays\n",
    "arr1 = np.array([10, 11, 12, 13, 14, 15])\n",
    "arr2 = np.array([20, 21, 22, 23, 24, 25])\n",
    "\n",
    "print(arr1-arr2)\n",
    "\n",
    "# or\n",
    "\n",
    "print(np.subtract(arr1,arr2))"
   ]
  },
  {
   "cell_type": "code",
   "execution_count": 21,
   "id": "2f228bfc",
   "metadata": {},
   "outputs": [
    {
     "data": {
      "text/plain": [
       "array([200, 231, 264, 299, 336, 375])"
      ]
     },
     "execution_count": 21,
     "metadata": {},
     "output_type": "execute_result"
    }
   ],
   "source": [
    "# multiply\n",
    "np.multiply(arr1, arr2)"
   ]
  },
  {
   "cell_type": "code",
   "execution_count": 22,
   "id": "4998771c",
   "metadata": {},
   "outputs": [
    {
     "data": {
      "text/plain": [
       "array([200, 231, 264, 299, 336, 375])"
      ]
     },
     "execution_count": 22,
     "metadata": {},
     "output_type": "execute_result"
    }
   ],
   "source": [
    "# or \n",
    "arr1*arr2"
   ]
  },
  {
   "cell_type": "code",
   "execution_count": 23,
   "id": "75516848",
   "metadata": {},
   "outputs": [
    {
     "data": {
      "text/plain": [
       "array([0.5       , 0.52380952, 0.54545455, 0.56521739, 0.58333333,\n",
       "       0.6       ])"
      ]
     },
     "execution_count": 23,
     "metadata": {},
     "output_type": "execute_result"
    }
   ],
   "source": [
    "# division\n",
    "np.divide(arr1, arr2)"
   ]
  },
  {
   "cell_type": "code",
   "execution_count": 24,
   "id": "8b9cbc16",
   "metadata": {},
   "outputs": [
    {
     "data": {
      "text/plain": [
       "array([0.5       , 0.52380952, 0.54545455, 0.56521739, 0.58333333,\n",
       "       0.6       ])"
      ]
     },
     "execution_count": 24,
     "metadata": {},
     "output_type": "execute_result"
    }
   ],
   "source": [
    "# or\n",
    "arr1/arr2"
   ]
  },
  {
   "cell_type": "code",
   "execution_count": 25,
   "id": "c5a4d89e",
   "metadata": {},
   "outputs": [
    {
     "data": {
      "text/plain": [
       "array([  1,  32, 729], dtype=int32)"
      ]
     },
     "execution_count": 25,
     "metadata": {},
     "output_type": "execute_result"
    }
   ],
   "source": [
    "# power\n",
    "arr1=np.array([1,2,3])\n",
    "arr2=np.array([4,5,6])\n",
    "np.power(arr1,arr2)"
   ]
  },
  {
   "cell_type": "code",
   "execution_count": 26,
   "id": "6503b6ba",
   "metadata": {},
   "outputs": [
    {
     "data": {
      "text/plain": [
       "array([  1,  32, 729], dtype=int32)"
      ]
     },
     "execution_count": 26,
     "metadata": {},
     "output_type": "execute_result"
    }
   ],
   "source": [
    "# OR\n",
    "pow(arr1,arr2)"
   ]
  },
  {
   "cell_type": "code",
   "execution_count": 27,
   "id": "8fc92cab",
   "metadata": {},
   "outputs": [
    {
     "data": {
      "text/plain": [
       "array([1, 2, 3], dtype=int32)"
      ]
     },
     "execution_count": 27,
     "metadata": {},
     "output_type": "execute_result"
    }
   ],
   "source": [
    "# remainder, we use modlus funciton for this\n",
    "\n",
    "np.mod(arr1,arr2)"
   ]
  },
  {
   "cell_type": "code",
   "execution_count": 28,
   "id": "6d63604a",
   "metadata": {},
   "outputs": [
    {
     "data": {
      "text/plain": [
       "array([1, 2, 3], dtype=int32)"
      ]
     },
     "execution_count": 28,
     "metadata": {},
     "output_type": "execute_result"
    }
   ],
   "source": [
    "# OR\n",
    "arr1%arr2"
   ]
  },
  {
   "cell_type": "code",
   "execution_count": 29,
   "id": "53f1f45d",
   "metadata": {},
   "outputs": [
    {
     "data": {
      "text/plain": [
       "(array([ 3,  2,  3,  5, 25,  1], dtype=int32),\n",
       " array([ 1,  6,  3,  0,  0, 27], dtype=int32))"
      ]
     },
     "execution_count": 29,
     "metadata": {},
     "output_type": "execute_result"
    }
   ],
   "source": [
    "# Return the quotient and mod:\n",
    "\n",
    "arr1 = np.array([10, 20, 30, 40, 50, 60])\n",
    "arr2 = np.array([3, 7, 9, 8, 2, 33])\n",
    "\n",
    "np.divmod(arr1, arr2)"
   ]
  },
  {
   "cell_type": "code",
   "execution_count": 30,
   "id": "4ff73cd9",
   "metadata": {},
   "outputs": [],
   "source": [
    "# Absolute Values"
   ]
  },
  {
   "cell_type": "raw",
   "id": "467a9ca0",
   "metadata": {},
   "source": [
    "Both the absolute() and the abs() functions functions do the same absolute operation element-wise but we should use absolute() to avoid confusion with python's inbuilt math.abs()"
   ]
  },
  {
   "cell_type": "code",
   "execution_count": 31,
   "id": "147870be",
   "metadata": {},
   "outputs": [
    {
     "data": {
      "text/plain": [
       "array([1, 2, 1, 2, 3, 4])"
      ]
     },
     "execution_count": 31,
     "metadata": {},
     "output_type": "execute_result"
    }
   ],
   "source": [
    "# absolute value of a list using ufunc\n",
    "arr = np.array([-1, -2, 1, 2, 3, -4])\n",
    "np.absolute(arr)"
   ]
  },
  {
   "cell_type": "code",
   "execution_count": 32,
   "id": "32cb916c",
   "metadata": {},
   "outputs": [
    {
     "data": {
      "text/plain": [
       "array([1, 2, 1, 2, 3, 4])"
      ]
     },
     "execution_count": 32,
     "metadata": {},
     "output_type": "execute_result"
    }
   ],
   "source": [
    "# using inbuilt python function\n",
    "abs(arr)"
   ]
  },
  {
   "cell_type": "markdown",
   "id": "eee2789b",
   "metadata": {},
   "source": [
    "### Rouding Decimal"
   ]
  },
  {
   "cell_type": "raw",
   "id": "0382d6b5",
   "metadata": {},
   "source": [
    "There are primarily five ways of rounding off decimals in NumPy:\n",
    "\n",
    "truncation\n",
    "fix\n",
    "rounding\n",
    "floor\n",
    "ceil"
   ]
  },
  {
   "cell_type": "code",
   "execution_count": 34,
   "id": "72cf269f",
   "metadata": {},
   "outputs": [],
   "source": [
    "# truncaton, removes decimal part and returns floating number closest to zero"
   ]
  },
  {
   "cell_type": "code",
   "execution_count": 33,
   "id": "f3018180",
   "metadata": {},
   "outputs": [
    {
     "data": {
      "text/plain": [
       "array([-3.,  3.])"
      ]
     },
     "execution_count": 33,
     "metadata": {},
     "output_type": "execute_result"
    }
   ],
   "source": [
    "np.trunc([-3.1666, 3.6667])"
   ]
  },
  {
   "cell_type": "code",
   "execution_count": 35,
   "id": "23264896",
   "metadata": {},
   "outputs": [
    {
     "data": {
      "text/plain": [
       "array([-3.,  3.])"
      ]
     },
     "execution_count": 35,
     "metadata": {},
     "output_type": "execute_result"
    }
   ],
   "source": [
    "np.fix([-3.1666, 3.6667])"
   ]
  },
  {
   "cell_type": "raw",
   "id": "724bcfb6",
   "metadata": {},
   "source": [
    "np.truc(seq) AND np.fix(seq) DO THE SAME TASK"
   ]
  },
  {
   "cell_type": "code",
   "execution_count": 36,
   "id": "51845a97",
   "metadata": {},
   "outputs": [],
   "source": [
    "# Rounding"
   ]
  },
  {
   "cell_type": "raw",
   "id": "327aec77",
   "metadata": {},
   "source": [
    "The around() function increments preceding digit or decimal by 1 if >=5 else do nothing."
   ]
  },
  {
   "cell_type": "code",
   "execution_count": 37,
   "id": "088cd0b1",
   "metadata": {},
   "outputs": [
    {
     "data": {
      "text/plain": [
       "1.24"
      ]
     },
     "execution_count": 37,
     "metadata": {},
     "output_type": "execute_result"
    }
   ],
   "source": [
    "# Round off 3.1666 to 2 decimal places:\n",
    "\n",
    "np.around(1.24453,2)"
   ]
  },
  {
   "cell_type": "code",
   "execution_count": 39,
   "id": "28a462e1",
   "metadata": {},
   "outputs": [
    {
     "data": {
      "text/plain": [
       "1.245"
      ]
     },
     "execution_count": 39,
     "metadata": {},
     "output_type": "execute_result"
    }
   ],
   "source": [
    "np.around(1.24453,3)"
   ]
  },
  {
   "cell_type": "code",
   "execution_count": 42,
   "id": "a53bf824",
   "metadata": {},
   "outputs": [
    {
     "data": {
      "text/plain": [
       "array([0, 1, 2, 3, 4, 5, 6, 7, 8, 9])"
      ]
     },
     "execution_count": 42,
     "metadata": {},
     "output_type": "execute_result"
    }
   ],
   "source": [
    "np.around([i for i in range(10)])"
   ]
  },
  {
   "cell_type": "code",
   "execution_count": 43,
   "id": "10d31880",
   "metadata": {},
   "outputs": [
    {
     "data": {
      "text/plain": [
       "array([1., 4., 6.])"
      ]
     },
     "execution_count": 43,
     "metadata": {},
     "output_type": "execute_result"
    }
   ],
   "source": [
    "# rounding a list\n",
    "np.around([1.2,3.6,5.9])"
   ]
  },
  {
   "cell_type": "code",
   "execution_count": 38,
   "id": "39cd64bd",
   "metadata": {},
   "outputs": [
    {
     "data": {
      "text/plain": [
       "1.0"
      ]
     },
     "execution_count": 38,
     "metadata": {},
     "output_type": "execute_result"
    }
   ],
   "source": [
    "# without second parameter it rounds up to 1 decimal points\n",
    "np.around(1.24453)"
   ]
  },
  {
   "cell_type": "code",
   "execution_count": 40,
   "id": "f6e93ff8",
   "metadata": {},
   "outputs": [
    {
     "data": {
      "text/plain": [
       "3.0"
      ]
     },
     "execution_count": 40,
     "metadata": {},
     "output_type": "execute_result"
    }
   ],
   "source": [
    "# The floor() function rounds off decimal to nearest lower integer.\n",
    "\n",
    "np.floor(3.221994)"
   ]
  },
  {
   "cell_type": "code",
   "execution_count": 44,
   "id": "99b8bf1c",
   "metadata": {},
   "outputs": [
    {
     "data": {
      "text/plain": [
       "3.0"
      ]
     },
     "execution_count": 44,
     "metadata": {},
     "output_type": "execute_result"
    }
   ],
   "source": [
    "np.floor(3.221994)"
   ]
  },
  {
   "cell_type": "code",
   "execution_count": 47,
   "id": "2d3e7b8e",
   "metadata": {},
   "outputs": [
    {
     "data": {
      "text/plain": [
       "array([-3.,  4.])"
      ]
     },
     "execution_count": 47,
     "metadata": {},
     "output_type": "execute_result"
    }
   ],
   "source": [
    "# np.ceil\n",
    "np.ceil([-3.1666, 3.6667])"
   ]
  },
  {
   "cell_type": "markdown",
   "id": "6e1b28f3",
   "metadata": {},
   "source": [
    "### NumPy Logs"
   ]
  },
  {
   "cell_type": "raw",
   "id": "b8337450",
   "metadata": {},
   "source": [
    "- we can calculate log at base 2,e and 10, in numpy\n",
    "- we can take log for any base by creating a custom ufunc\n",
    "- All of the log functions will place -inf or inf in the elements if the log can not be computed."
   ]
  },
  {
   "cell_type": "code",
   "execution_count": 48,
   "id": "0b88efb7",
   "metadata": {},
   "outputs": [],
   "source": [
    "# Log at Base 2"
   ]
  },
  {
   "cell_type": "code",
   "execution_count": 49,
   "id": "23de8908",
   "metadata": {},
   "outputs": [
    {
     "name": "stderr",
     "output_type": "stream",
     "text": [
      "C:\\Users\\iamvi\\AppData\\Local\\Temp/ipykernel_14064/1026529400.py:4: RuntimeWarning: divide by zero encountered in log2\n",
      "  np.log2(arr)\n"
     ]
    },
    {
     "data": {
      "text/plain": [
       "array([      -inf, 0.        , 1.        , 1.5849625 , 2.        ,\n",
       "       2.32192809, 2.5849625 , 2.80735492, 3.        , 3.169925  ])"
      ]
     },
     "execution_count": 49,
     "metadata": {},
     "output_type": "execute_result"
    }
   ],
   "source": [
    "# Find log at base 2 of all elements of following array:\n",
    "\n",
    "arr=np.arange(10)\n",
    "np.log2(arr)"
   ]
  },
  {
   "cell_type": "code",
   "execution_count": 50,
   "id": "2ed57dd6",
   "metadata": {},
   "outputs": [
    {
     "data": {
      "text/plain": [
       "3.321928094887362"
      ]
     },
     "execution_count": 50,
     "metadata": {},
     "output_type": "execute_result"
    }
   ],
   "source": [
    "np.log2(10)"
   ]
  },
  {
   "cell_type": "code",
   "execution_count": 51,
   "id": "6bc418cb",
   "metadata": {},
   "outputs": [
    {
     "data": {
      "text/plain": [
       "array([3.32192809, 4.32192809, 4.9068906 ])"
      ]
     },
     "execution_count": 51,
     "metadata": {},
     "output_type": "execute_result"
    }
   ],
   "source": [
    "np.log2((10,20,30))"
   ]
  },
  {
   "cell_type": "code",
   "execution_count": 52,
   "id": "42b66280",
   "metadata": {},
   "outputs": [
    {
     "data": {
      "text/plain": [
       "(3.3219280948873626+2.2661800709135966j)"
      ]
     },
     "execution_count": 52,
     "metadata": {},
     "output_type": "execute_result"
    }
   ],
   "source": [
    "# log2 of a coplex no, can also be calculate becuase finally its a real number\n",
    "np.log2(10j)"
   ]
  },
  {
   "cell_type": "code",
   "execution_count": 53,
   "id": "e4662d7c",
   "metadata": {},
   "outputs": [
    {
     "name": "stderr",
     "output_type": "stream",
     "text": [
      "C:\\Users\\iamvi\\AppData\\Local\\Temp/ipykernel_14064/4271057577.py:2: RuntimeWarning: invalid value encountered in log2\n",
      "  np.log2(-10)\n"
     ]
    },
    {
     "data": {
      "text/plain": [
       "nan"
      ]
     },
     "execution_count": 53,
     "metadata": {},
     "output_type": "execute_result"
    }
   ],
   "source": [
    "# log2 of a negative number, will return nan\n",
    "np.log2(-10)"
   ]
  },
  {
   "cell_type": "raw",
   "id": "02ea7e63",
   "metadata": {},
   "source": [
    "What is the logarithm of a negative number? Since the base b is positive (b>0), the base b raised to the power of y must be positive (by>0) for any real y. So the number x must be positive (x>0). The real base b logarithm of a negative number is undefined."
   ]
  },
  {
   "cell_type": "code",
   "execution_count": 54,
   "id": "e711715a",
   "metadata": {},
   "outputs": [
    {
     "data": {
      "text/plain": [
       "1.0"
      ]
     },
     "execution_count": 54,
     "metadata": {},
     "output_type": "execute_result"
    }
   ],
   "source": [
    "# log at base 10\n",
    "\n",
    "np.log10(10)"
   ]
  },
  {
   "cell_type": "code",
   "execution_count": 55,
   "id": "bbb090c3",
   "metadata": {},
   "outputs": [
    {
     "data": {
      "text/plain": [
       "2.0"
      ]
     },
     "execution_count": 55,
     "metadata": {},
     "output_type": "execute_result"
    }
   ],
   "source": [
    "np.log10(100)"
   ]
  },
  {
   "cell_type": "code",
   "execution_count": 56,
   "id": "03f0fe52",
   "metadata": {},
   "outputs": [
    {
     "data": {
      "text/plain": [
       "array([1.        , 1.30103   , 2.34242268])"
      ]
     },
     "execution_count": 56,
     "metadata": {},
     "output_type": "execute_result"
    }
   ],
   "source": [
    "np.log10([10,20,220])"
   ]
  },
  {
   "cell_type": "code",
   "execution_count": 58,
   "id": "8ec43a30",
   "metadata": {},
   "outputs": [
    {
     "data": {
      "text/plain": [
       "array([2.47712125, 2.60205999, 2.69897   ])"
      ]
     },
     "execution_count": 58,
     "metadata": {},
     "output_type": "execute_result"
    }
   ],
   "source": [
    "np.log10(np.arange(300,600,100))"
   ]
  },
  {
   "cell_type": "code",
   "execution_count": 59,
   "id": "a0d534a0",
   "metadata": {},
   "outputs": [],
   "source": [
    "# Natural Log, or Log at Base e"
   ]
  },
  {
   "cell_type": "code",
   "execution_count": 60,
   "id": "7458acd3",
   "metadata": {},
   "outputs": [
    {
     "name": "stdout",
     "output_type": "stream",
     "text": [
      "[0.         0.69314718 1.09861229 1.38629436 1.60943791 1.79175947\n",
      " 1.94591015 2.07944154 2.19722458]\n"
     ]
    }
   ],
   "source": [
    "arr = np.arange(1, 10)\n",
    "print(np.log(arr))"
   ]
  },
  {
   "cell_type": "code",
   "execution_count": 61,
   "id": "1289b76e",
   "metadata": {},
   "outputs": [
    {
     "data": {
      "text/plain": [
       "2.302585092994046"
      ]
     },
     "execution_count": 61,
     "metadata": {},
     "output_type": "execute_result"
    }
   ],
   "source": [
    "np.log(10)"
   ]
  },
  {
   "cell_type": "code",
   "execution_count": 62,
   "id": "ffcfbb68",
   "metadata": {},
   "outputs": [
    {
     "data": {
      "text/plain": [
       "4.605170185988092"
      ]
     },
     "execution_count": 62,
     "metadata": {},
     "output_type": "execute_result"
    }
   ],
   "source": [
    "np.log(100)"
   ]
  },
  {
   "cell_type": "code",
   "execution_count": 63,
   "id": "a6e5d343",
   "metadata": {},
   "outputs": [
    {
     "name": "stderr",
     "output_type": "stream",
     "text": [
      "C:\\Users\\iamvi\\AppData\\Local\\Temp/ipykernel_14064/60392587.py:1: RuntimeWarning: invalid value encountered in log\n",
      "  np.log(-100)\n"
     ]
    },
    {
     "data": {
      "text/plain": [
       "nan"
      ]
     },
     "execution_count": 63,
     "metadata": {},
     "output_type": "execute_result"
    }
   ],
   "source": [
    "np.log(-100)"
   ]
  },
  {
   "cell_type": "markdown",
   "id": "e4fbeb36",
   "metadata": {},
   "source": [
    "#### Log at Any Base"
   ]
  },
  {
   "cell_type": "code",
   "execution_count": 64,
   "id": "edfa0452",
   "metadata": {},
   "outputs": [
    {
     "name": "stdout",
     "output_type": "stream",
     "text": [
      "1.7005483074552052\n"
     ]
    }
   ],
   "source": [
    "from math import log\n",
    "import numpy as np\n",
    "\n",
    "nplog = np.frompyfunc(log, 2, 1)\n",
    "\n",
    "print(nplog(100, 15))"
   ]
  },
  {
   "cell_type": "code",
   "execution_count": 65,
   "id": "67681c0f",
   "metadata": {},
   "outputs": [
    {
     "data": {
      "text/plain": [
       "1.9565063322650205"
      ]
     },
     "execution_count": 65,
     "metadata": {},
     "output_type": "execute_result"
    }
   ],
   "source": [
    "nplog(200,15)"
   ]
  },
  {
   "cell_type": "code",
   "execution_count": 66,
   "id": "753fe5f0",
   "metadata": {},
   "outputs": [
    {
     "data": {
      "text/plain": [
       "2.0"
      ]
     },
     "execution_count": 66,
     "metadata": {},
     "output_type": "execute_result"
    }
   ],
   "source": [
    "nplog(225,15)"
   ]
  },
  {
   "cell_type": "code",
   "execution_count": 67,
   "id": "fb2eb8ea",
   "metadata": {},
   "outputs": [],
   "source": [
    "# NumPy Summations"
   ]
  },
  {
   "cell_type": "code",
   "execution_count": 68,
   "id": "260fe7c1",
   "metadata": {},
   "outputs": [],
   "source": [
    "# What is the difference between summation and addition?"
   ]
  },
  {
   "cell_type": "raw",
   "id": "d775a5e5",
   "metadata": {},
   "source": [
    "Addition is done between two arguments whereas summation happens over n elements."
   ]
  },
  {
   "cell_type": "code",
   "execution_count": 69,
   "id": "3c4bd036",
   "metadata": {},
   "outputs": [
    {
     "data": {
      "text/plain": [
       "array([2, 4, 6])"
      ]
     },
     "execution_count": 69,
     "metadata": {},
     "output_type": "execute_result"
    }
   ],
   "source": [
    "# add\n",
    "arr1 = np.array([1, 2, 3])\n",
    "arr2 = np.array([1, 2, 3])\n",
    "np.add(arr1, arr2)"
   ]
  },
  {
   "cell_type": "code",
   "execution_count": 71,
   "id": "9bd3f868",
   "metadata": {},
   "outputs": [
    {
     "data": {
      "text/plain": [
       "12"
      ]
     },
     "execution_count": 71,
     "metadata": {},
     "output_type": "execute_result"
    }
   ],
   "source": [
    "# sum\n",
    "arr1 = np.array([1, 2, 3])\n",
    "arr2 = np.array([1, 2, 3])\n",
    "np.sum([arr1, arr2])"
   ]
  },
  {
   "cell_type": "code",
   "execution_count": 73,
   "id": "65c0ced1",
   "metadata": {},
   "outputs": [
    {
     "data": {
      "text/plain": [
       "array([6, 6])"
      ]
     },
     "execution_count": 73,
     "metadata": {},
     "output_type": "execute_result"
    }
   ],
   "source": [
    "# over axis 1\n",
    "arr1 = np.array([1, 2, 3])\n",
    "arr2 = np.array([1, 2, 3])\n",
    "\n",
    "np.sum([arr1, arr2], axis=1)"
   ]
  },
  {
   "cell_type": "code",
   "execution_count": 74,
   "id": "2fa9a18a",
   "metadata": {},
   "outputs": [
    {
     "data": {
      "text/plain": [
       "array([1, 3, 6], dtype=int32)"
      ]
     },
     "execution_count": 74,
     "metadata": {},
     "output_type": "execute_result"
    }
   ],
   "source": [
    "# cumsum\n",
    "arr = np.array([1, 2, 3])\n",
    "np.cumsum(arr)"
   ]
  },
  {
   "cell_type": "markdown",
   "id": "f313662b",
   "metadata": {},
   "source": [
    "### NumPy Products"
   ]
  },
  {
   "cell_type": "code",
   "execution_count": 76,
   "id": "5e8db976",
   "metadata": {},
   "outputs": [
    {
     "data": {
      "text/plain": [
       "12"
      ]
     },
     "execution_count": 76,
     "metadata": {},
     "output_type": "execute_result"
    }
   ],
   "source": [
    "# we need to pass every element in a list to find the product using numpy.prod()\n",
    "np.prod([3,4])"
   ]
  },
  {
   "cell_type": "code",
   "execution_count": 77,
   "id": "858b3285",
   "metadata": {},
   "outputs": [
    {
     "data": {
      "text/plain": [
       "120"
      ]
     },
     "execution_count": 77,
     "metadata": {},
     "output_type": "execute_result"
    }
   ],
   "source": [
    "np.prod([1,2,3,4,5])"
   ]
  },
  {
   "cell_type": "code",
   "execution_count": 79,
   "id": "710b9ceb",
   "metadata": {},
   "outputs": [
    {
     "name": "stdout",
     "output_type": "stream",
     "text": [
      "TypeError: 'list' object cannot be interpreted as an integer\n"
     ]
    }
   ],
   "source": [
    "try:\n",
    "    np.prod([4],[5])\n",
    "except:\n",
    "    print(\"TypeError: 'list' object cannot be interpreted as an integer\")"
   ]
  },
  {
   "cell_type": "code",
   "execution_count": 80,
   "id": "57ff352f",
   "metadata": {},
   "outputs": [],
   "source": [
    "# lets chekc if there is any built in function to find product"
   ]
  },
  {
   "cell_type": "code",
   "execution_count": 81,
   "id": "977ea06d",
   "metadata": {},
   "outputs": [
    {
     "ename": "TypeError",
     "evalue": "can't multiply sequence by non-int of type 'list'",
     "output_type": "error",
     "traceback": [
      "\u001b[1;31m---------------------------------------------------------------------------\u001b[0m",
      "\u001b[1;31mTypeError\u001b[0m                                 Traceback (most recent call last)",
      "\u001b[1;32m~\\AppData\\Local\\Temp/ipykernel_14064/1756772746.py\u001b[0m in \u001b[0;36m<module>\u001b[1;34m\u001b[0m\n\u001b[0;32m      1\u001b[0m \u001b[0ma1\u001b[0m\u001b[1;33m=\u001b[0m\u001b[1;33m[\u001b[0m\u001b[1;36m1\u001b[0m\u001b[1;33m,\u001b[0m\u001b[1;36m2\u001b[0m\u001b[1;33m,\u001b[0m\u001b[1;36m3\u001b[0m\u001b[1;33m,\u001b[0m\u001b[1;36m4\u001b[0m\u001b[1;33m]\u001b[0m\u001b[1;33m\u001b[0m\u001b[1;33m\u001b[0m\u001b[0m\n\u001b[0;32m      2\u001b[0m \u001b[0ma2\u001b[0m\u001b[1;33m=\u001b[0m\u001b[1;33m[\u001b[0m\u001b[1;36m5\u001b[0m\u001b[1;33m,\u001b[0m\u001b[1;36m6\u001b[0m\u001b[1;33m,\u001b[0m\u001b[1;36m7\u001b[0m\u001b[1;33m,\u001b[0m\u001b[1;36m8\u001b[0m\u001b[1;33m]\u001b[0m\u001b[1;33m\u001b[0m\u001b[1;33m\u001b[0m\u001b[0m\n\u001b[1;32m----> 3\u001b[1;33m \u001b[0ma1\u001b[0m\u001b[1;33m*\u001b[0m\u001b[0ma2\u001b[0m\u001b[1;33m\u001b[0m\u001b[1;33m\u001b[0m\u001b[0m\n\u001b[0m",
      "\u001b[1;31mTypeError\u001b[0m: can't multiply sequence by non-int of type 'list'"
     ]
    }
   ],
   "source": [
    "a1=[1,2,3,4]\n",
    "a2=[5,6,7,8]\n",
    "a1*a2"
   ]
  },
  {
   "cell_type": "code",
   "execution_count": 82,
   "id": "2a784d78",
   "metadata": {},
   "outputs": [
    {
     "data": {
      "text/plain": [
       "[1, 2, 3, 4, 1, 2, 3, 4, 1, 2, 3, 4, 1, 2, 3, 4, 1, 2, 3, 4]"
      ]
     },
     "execution_count": 82,
     "metadata": {},
     "output_type": "execute_result"
    }
   ],
   "source": [
    "# it said a sequence can't be multiplied with a non-int type data, let give an int\n",
    "\n",
    "a1=[1,2,3,4]\n",
    "a2=5\n",
    "a1*a2\n",
    "# repeats all the elements 5 times"
   ]
  },
  {
   "cell_type": "code",
   "execution_count": 87,
   "id": "688daee3",
   "metadata": {},
   "outputs": [
    {
     "data": {
      "text/plain": [
       "array([  24, 1680])"
      ]
     },
     "execution_count": 87,
     "metadata": {},
     "output_type": "execute_result"
    }
   ],
   "source": [
    "# product over an axis\n",
    "arr1 = np.array([1, 2, 3, 4])\n",
    "arr2 = np.array([5, 6, 7, 8])\n",
    "np.prod([arr1, arr2], axis=1)"
   ]
  },
  {
   "cell_type": "code",
   "execution_count": 88,
   "id": "300bb9e8",
   "metadata": {},
   "outputs": [
    {
     "data": {
      "text/plain": [
       "array([   5,   30,  210, 1680], dtype=int32)"
      ]
     },
     "execution_count": 88,
     "metadata": {},
     "output_type": "execute_result"
    }
   ],
   "source": [
    "# cumulative prod\n",
    "arr = np.array([5, 6, 7, 8])\n",
    "np.cumprod(arr)"
   ]
  },
  {
   "cell_type": "code",
   "execution_count": 89,
   "id": "5d8812c7",
   "metadata": {},
   "outputs": [
    {
     "data": {
      "text/plain": [
       "array([1, 1, 1])"
      ]
     },
     "execution_count": 89,
     "metadata": {},
     "output_type": "execute_result"
    }
   ],
   "source": [
    "arr=np.array([1,2,3,4])\n",
    "np.diff(arr)"
   ]
  },
  {
   "cell_type": "code",
   "execution_count": 91,
   "id": "20de12c3",
   "metadata": {},
   "outputs": [
    {
     "data": {
      "text/plain": [
       "array([1, 1, 2])"
      ]
     },
     "execution_count": 91,
     "metadata": {},
     "output_type": "execute_result"
    }
   ],
   "source": [
    "# changing last element\n",
    "arr=np.array([1,2,3,5])\n",
    "np.diff(arr)"
   ]
  },
  {
   "cell_type": "code",
   "execution_count": 92,
   "id": "a403cd91",
   "metadata": {},
   "outputs": [
    {
     "data": {
      "text/plain": [
       "array([0, 0])"
      ]
     },
     "execution_count": 92,
     "metadata": {},
     "output_type": "execute_result"
    }
   ],
   "source": [
    "# We can perform this operation repeatedly by giving parameter n.\n",
    "\n",
    "arr=np.array([1,2,3,4])\n",
    "np.diff(arr,2) # two times"
   ]
  },
  {
   "cell_type": "markdown",
   "id": "a62fdc97",
   "metadata": {},
   "source": [
    "### LCM"
   ]
  },
  {
   "cell_type": "raw",
   "id": "6423f66e",
   "metadata": {},
   "source": [
    "least common multiple ( do be confused with factor its different)\n",
    "np.lcm(n1,n2,n3)"
   ]
  },
  {
   "cell_type": "code",
   "execution_count": 93,
   "id": "098a0e11",
   "metadata": {},
   "outputs": [
    {
     "data": {
      "text/plain": [
       "20"
      ]
     },
     "execution_count": 93,
     "metadata": {},
     "output_type": "execute_result"
    }
   ],
   "source": [
    "np.lcm(10,20)"
   ]
  },
  {
   "cell_type": "code",
   "execution_count": 94,
   "id": "fccacafb",
   "metadata": {},
   "outputs": [
    {
     "data": {
      "text/plain": [
       "5"
      ]
     },
     "execution_count": 94,
     "metadata": {},
     "output_type": "execute_result"
    }
   ],
   "source": [
    "np.lcm(1,5)"
   ]
  },
  {
   "cell_type": "raw",
   "id": "12ad4054",
   "metadata": {},
   "source": [
    "# To find the Lowest Common Multiple of all values in an array, you can use the reduce() method.\n",
    "# The reduce() method will use the ufunc, in this case the lcm() function, on each element, \n",
    "  and reduce the array by one dimension."
   ]
  },
  {
   "cell_type": "code",
   "execution_count": 95,
   "id": "dd865158",
   "metadata": {},
   "outputs": [
    {
     "data": {
      "text/plain": [
       "18"
      ]
     },
     "execution_count": 95,
     "metadata": {},
     "output_type": "execute_result"
    }
   ],
   "source": [
    "arr = np.array([3, 6, 9])\n",
    "np.lcm.reduce(arr)"
   ]
  },
  {
   "cell_type": "code",
   "execution_count": 96,
   "id": "345fbe8a",
   "metadata": {},
   "outputs": [
    {
     "data": {
      "text/plain": [
       "240"
      ]
     },
     "execution_count": 96,
     "metadata": {},
     "output_type": "execute_result"
    }
   ],
   "source": [
    "arr=np.array((5,10,20,15,80))\n",
    "np.lcm.reduce(arr)"
   ]
  },
  {
   "cell_type": "code",
   "execution_count": 97,
   "id": "57877c6e",
   "metadata": {},
   "outputs": [
    {
     "data": {
      "text/plain": [
       "2520"
      ]
     },
     "execution_count": 97,
     "metadata": {},
     "output_type": "execute_result"
    }
   ],
   "source": [
    "arr = np.arange(1, 11)\n",
    "np.lcm.reduce(arr)"
   ]
  },
  {
   "cell_type": "markdown",
   "id": "0f663d60",
   "metadata": {},
   "source": [
    "### NumPy GCD Greatest Common Denominator"
   ]
  },
  {
   "cell_type": "code",
   "execution_count": 100,
   "id": "9ce7727a",
   "metadata": {},
   "outputs": [
    {
     "data": {
      "text/plain": [
       "2"
      ]
     },
     "execution_count": 100,
     "metadata": {},
     "output_type": "execute_result"
    }
   ],
   "source": [
    "np.gcd(2,4)"
   ]
  },
  {
   "cell_type": "code",
   "execution_count": 101,
   "id": "aa0be84e",
   "metadata": {},
   "outputs": [
    {
     "data": {
      "text/plain": [
       "4"
      ]
     },
     "execution_count": 101,
     "metadata": {},
     "output_type": "execute_result"
    }
   ],
   "source": [
    "# Find the GCD for all of the numbers in following array:\n",
    "\n",
    "arr = np.array([20, 8, 32, 36, 16])\n",
    "np.gcd.reduce(arr)"
   ]
  },
  {
   "cell_type": "code",
   "execution_count": 102,
   "id": "207cffd3",
   "metadata": {},
   "outputs": [
    {
     "data": {
      "text/plain": [
       "1"
      ]
     },
     "execution_count": 102,
     "metadata": {},
     "output_type": "execute_result"
    }
   ],
   "source": [
    "np.gcd.reduce((2,4,6,7,8,9))"
   ]
  },
  {
   "cell_type": "markdown",
   "id": "6c5d00cc",
   "metadata": {},
   "source": [
    "#### ufunc trigonometric"
   ]
  },
  {
   "cell_type": "code",
   "execution_count": 103,
   "id": "e69e856a",
   "metadata": {},
   "outputs": [
    {
     "data": {
      "text/plain": [
       "1.0"
      ]
     },
     "execution_count": 103,
     "metadata": {},
     "output_type": "execute_result"
    }
   ],
   "source": [
    "np.sin(np.pi/2)"
   ]
  },
  {
   "cell_type": "code",
   "execution_count": 104,
   "id": "5f9379ff",
   "metadata": {},
   "outputs": [
    {
     "data": {
      "text/plain": [
       "array([1.        , 0.8660254 , 0.70710678, 0.58778525])"
      ]
     },
     "execution_count": 104,
     "metadata": {},
     "output_type": "execute_result"
    }
   ],
   "source": [
    "arr = np.array([np.pi/2, np.pi/3, np.pi/4, np.pi/5])\n",
    "np.sin(arr)"
   ]
  },
  {
   "cell_type": "code",
   "execution_count": 105,
   "id": "7935c861",
   "metadata": {},
   "outputs": [
    {
     "data": {
      "text/plain": [
       "array([1.57079633, 3.14159265, 4.71238898, 6.28318531])"
      ]
     },
     "execution_count": 105,
     "metadata": {},
     "output_type": "execute_result"
    }
   ],
   "source": [
    "# Convert all of the values in following array arr to radians:\n",
    "arr = np.array([90, 180, 270, 360])\n",
    "np.deg2rad(arr)"
   ]
  },
  {
   "cell_type": "code",
   "execution_count": 106,
   "id": "d608618d",
   "metadata": {},
   "outputs": [
    {
     "data": {
      "text/plain": [
       "array([ 90., 180., 270., 360.])"
      ]
     },
     "execution_count": 106,
     "metadata": {},
     "output_type": "execute_result"
    }
   ],
   "source": [
    "# Radians to Degrees\n",
    "arr = np.array([np.pi/2, np.pi, 1.5*np.pi, 2*np.pi])\n",
    "np.rad2deg(arr)"
   ]
  },
  {
   "cell_type": "code",
   "execution_count": 107,
   "id": "c100f7de",
   "metadata": {},
   "outputs": [
    {
     "data": {
      "text/plain": [
       "1.5707963267948966"
      ]
     },
     "execution_count": 107,
     "metadata": {},
     "output_type": "execute_result"
    }
   ],
   "source": [
    "# Find the angle of 1.0:\n",
    "\n",
    "np.arcsin(1.0)"
   ]
  },
  {
   "cell_type": "code",
   "execution_count": 108,
   "id": "2de22bd7",
   "metadata": {},
   "outputs": [
    {
     "data": {
      "text/plain": [
       "array([ 1.57079633, -1.57079633,  0.10016742])"
      ]
     },
     "execution_count": 108,
     "metadata": {},
     "output_type": "execute_result"
    }
   ],
   "source": [
    "# Find the angle for all of the sine values in the array\n",
    "\n",
    "arr = np.array([1, -1, 0.1])\n",
    "np.arcsin(arr)"
   ]
  },
  {
   "cell_type": "code",
   "execution_count": 109,
   "id": "df019162",
   "metadata": {},
   "outputs": [
    {
     "data": {
      "text/plain": [
       "5.0"
      ]
     },
     "execution_count": 109,
     "metadata": {},
     "output_type": "execute_result"
    }
   ],
   "source": [
    "# Find the hypotenues for 4 base and 3 perpendicular:\n",
    "\n",
    "base = 3\n",
    "perp = 4\n",
    "np.hypot(base, perp)"
   ]
  },
  {
   "cell_type": "markdown",
   "id": "72390af5",
   "metadata": {},
   "source": [
    "#### NumPy Hyperbolic Functions"
   ]
  },
  {
   "cell_type": "raw",
   "id": "3b95f49a",
   "metadata": {},
   "source": [
    "NumPy provides the ufuncs sinh(), cosh() and tanh() that take values in radians and produce the corresponding sinh, cosh and tanh values."
   ]
  },
  {
   "cell_type": "code",
   "execution_count": 110,
   "id": "897f4bce",
   "metadata": {},
   "outputs": [
    {
     "data": {
      "text/plain": [
       "2.3012989023072947"
      ]
     },
     "execution_count": 110,
     "metadata": {},
     "output_type": "execute_result"
    }
   ],
   "source": [
    "np.sinh(np.pi/2)"
   ]
  },
  {
   "cell_type": "code",
   "execution_count": 111,
   "id": "d8869db5",
   "metadata": {},
   "outputs": [
    {
     "data": {
      "text/plain": [
       "array([2.50917848, 1.60028686, 1.32460909, 1.20397209])"
      ]
     },
     "execution_count": 111,
     "metadata": {},
     "output_type": "execute_result"
    }
   ],
   "source": [
    "arr = np.array([np.pi/2, np.pi/3, np.pi/4, np.pi/5])\n",
    "np.cosh(arr)"
   ]
  },
  {
   "cell_type": "markdown",
   "id": "67851a35",
   "metadata": {},
   "source": [
    "#### NumPy Set Operations"
   ]
  },
  {
   "cell_type": "code",
   "execution_count": 112,
   "id": "9183220f",
   "metadata": {},
   "outputs": [],
   "source": [
    "# What is a Set"
   ]
  },
  {
   "cell_type": "raw",
   "id": "01e8abef",
   "metadata": {},
   "source": [
    "A set in mathematics is a collection of unique elements.\n",
    "Sets are used for operations involving frequent intersection, union and difference operations."
   ]
  },
  {
   "cell_type": "code",
   "execution_count": 113,
   "id": "5089bcf4",
   "metadata": {},
   "outputs": [
    {
     "data": {
      "text/plain": [
       "array([1, 2, 3, 4, 5, 6, 7])"
      ]
     },
     "execution_count": 113,
     "metadata": {},
     "output_type": "execute_result"
    }
   ],
   "source": [
    "# Convert following array with repeated elements to a set:\n",
    "\n",
    "arr = np.array([1, 1, 1, 2, 3, 4, 5, 5, 6, 7])\n",
    "np.unique(arr)"
   ]
  },
  {
   "cell_type": "code",
   "execution_count": 114,
   "id": "29a7ced5",
   "metadata": {},
   "outputs": [
    {
     "data": {
      "text/plain": [
       "{1, 2, 3, 4, 5, 6, 7}"
      ]
     },
     "execution_count": 114,
     "metadata": {},
     "output_type": "execute_result"
    }
   ],
   "source": [
    "# using set constructor\n",
    "arr = np.array([1, 1, 1, 2, 3, 4, 5, 5, 6, 7])\n",
    "set(arr)"
   ]
  },
  {
   "cell_type": "code",
   "execution_count": null,
   "id": "fc726da1",
   "metadata": {},
   "outputs": [],
   "source": []
  }
 ],
 "metadata": {
  "kernelspec": {
   "display_name": "Python 3 (ipykernel)",
   "language": "python",
   "name": "python3"
  },
  "language_info": {
   "codemirror_mode": {
    "name": "ipython",
    "version": 3
   },
   "file_extension": ".py",
   "mimetype": "text/x-python",
   "name": "python",
   "nbconvert_exporter": "python",
   "pygments_lexer": "ipython3",
   "version": "3.9.7"
  }
 },
 "nbformat": 4,
 "nbformat_minor": 5
}

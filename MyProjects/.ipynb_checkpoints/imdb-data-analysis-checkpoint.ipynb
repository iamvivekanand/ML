{
 "cells": [
  {
   "cell_type": "code",
   "execution_count": 1,
   "metadata": {
    "execution": {
     "iopub.execute_input": "2023-01-31T17:00:17.857303Z",
     "iopub.status.busy": "2023-01-31T17:00:17.856908Z",
     "iopub.status.idle": "2023-01-31T17:00:20.257193Z",
     "shell.execute_reply": "2023-01-31T17:00:20.256256Z",
     "shell.execute_reply.started": "2023-01-31T17:00:17.857272Z"
    }
   },
   "outputs": [],
   "source": [
    "# basic libraries\n",
    "import numpy as np\n",
    "import pandas as pd\n",
    "import seaborn as sns\n",
    "import matplotlib.pyplot as plt\n",
    "import plotly.express as px\n",
    "import plotly.graph_objects as go\n",
    "import warnings\n",
    "import nltk\n",
    "from nltk.corpus import stopwords\n",
    "from wordcloud import WordCloud"
   ]
  },
  {
   "cell_type": "code",
   "execution_count": 2,
   "metadata": {
    "execution": {
     "iopub.execute_input": "2023-01-31T17:00:20.259391Z",
     "iopub.status.busy": "2023-01-31T17:00:20.258729Z",
     "iopub.status.idle": "2023-01-31T17:00:20.263507Z",
     "shell.execute_reply": "2023-01-31T17:00:20.262327Z",
     "shell.execute_reply.started": "2023-01-31T17:00:20.259335Z"
    }
   },
   "outputs": [],
   "source": [
    "# avoiding warnings display\n",
    "warnings.filterwarnings('ignore')"
   ]
  },
  {
   "cell_type": "code",
   "execution_count": 3,
   "metadata": {
    "execution": {
     "iopub.execute_input": "2023-01-31T17:00:20.265396Z",
     "iopub.status.busy": "2023-01-31T17:00:20.264936Z",
     "iopub.status.idle": "2023-01-31T17:00:20.312021Z",
     "shell.execute_reply": "2023-01-31T17:00:20.310764Z",
     "shell.execute_reply.started": "2023-01-31T17:00:20.265361Z"
    }
   },
   "outputs": [
    {
     "ename": "FileNotFoundError",
     "evalue": "[Errno 2] No such file or directory: 'movies.csv'",
     "output_type": "error",
     "traceback": [
      "\u001b[1;31m---------------------------------------------------------------------------\u001b[0m",
      "\u001b[1;31mFileNotFoundError\u001b[0m                         Traceback (most recent call last)",
      "Cell \u001b[1;32mIn[3], line 2\u001b[0m\n\u001b[0;32m      1\u001b[0m \u001b[38;5;66;03m# loading dataset\u001b[39;00m\n\u001b[1;32m----> 2\u001b[0m data\u001b[38;5;241m=\u001b[39m\u001b[43mpd\u001b[49m\u001b[38;5;241;43m.\u001b[39;49m\u001b[43mread_csv\u001b[49m\u001b[43m(\u001b[49m\u001b[38;5;124;43m'\u001b[39;49m\u001b[38;5;124;43mmovies.csv\u001b[39;49m\u001b[38;5;124;43m'\u001b[39;49m\u001b[43m)\u001b[49m\n\u001b[0;32m      3\u001b[0m df\u001b[38;5;241m=\u001b[39mdata\u001b[38;5;241m.\u001b[39mcopy()\n\u001b[0;32m      4\u001b[0m df\u001b[38;5;241m.\u001b[39mhead()\n",
      "File \u001b[1;32mC:\\ProgramData\\Anaconda3\\lib\\site-packages\\pandas\\util\\_decorators.py:311\u001b[0m, in \u001b[0;36mdeprecate_nonkeyword_arguments.<locals>.decorate.<locals>.wrapper\u001b[1;34m(*args, **kwargs)\u001b[0m\n\u001b[0;32m    305\u001b[0m \u001b[38;5;28;01mif\u001b[39;00m \u001b[38;5;28mlen\u001b[39m(args) \u001b[38;5;241m>\u001b[39m num_allow_args:\n\u001b[0;32m    306\u001b[0m     warnings\u001b[38;5;241m.\u001b[39mwarn(\n\u001b[0;32m    307\u001b[0m         msg\u001b[38;5;241m.\u001b[39mformat(arguments\u001b[38;5;241m=\u001b[39marguments),\n\u001b[0;32m    308\u001b[0m         \u001b[38;5;167;01mFutureWarning\u001b[39;00m,\n\u001b[0;32m    309\u001b[0m         stacklevel\u001b[38;5;241m=\u001b[39mstacklevel,\n\u001b[0;32m    310\u001b[0m     )\n\u001b[1;32m--> 311\u001b[0m \u001b[38;5;28;01mreturn\u001b[39;00m func(\u001b[38;5;241m*\u001b[39margs, \u001b[38;5;241m*\u001b[39m\u001b[38;5;241m*\u001b[39mkwargs)\n",
      "File \u001b[1;32mC:\\ProgramData\\Anaconda3\\lib\\site-packages\\pandas\\io\\parsers\\readers.py:678\u001b[0m, in \u001b[0;36mread_csv\u001b[1;34m(filepath_or_buffer, sep, delimiter, header, names, index_col, usecols, squeeze, prefix, mangle_dupe_cols, dtype, engine, converters, true_values, false_values, skipinitialspace, skiprows, skipfooter, nrows, na_values, keep_default_na, na_filter, verbose, skip_blank_lines, parse_dates, infer_datetime_format, keep_date_col, date_parser, dayfirst, cache_dates, iterator, chunksize, compression, thousands, decimal, lineterminator, quotechar, quoting, doublequote, escapechar, comment, encoding, encoding_errors, dialect, error_bad_lines, warn_bad_lines, on_bad_lines, delim_whitespace, low_memory, memory_map, float_precision, storage_options)\u001b[0m\n\u001b[0;32m    663\u001b[0m kwds_defaults \u001b[38;5;241m=\u001b[39m _refine_defaults_read(\n\u001b[0;32m    664\u001b[0m     dialect,\n\u001b[0;32m    665\u001b[0m     delimiter,\n\u001b[1;32m   (...)\u001b[0m\n\u001b[0;32m    674\u001b[0m     defaults\u001b[38;5;241m=\u001b[39m{\u001b[38;5;124m\"\u001b[39m\u001b[38;5;124mdelimiter\u001b[39m\u001b[38;5;124m\"\u001b[39m: \u001b[38;5;124m\"\u001b[39m\u001b[38;5;124m,\u001b[39m\u001b[38;5;124m\"\u001b[39m},\n\u001b[0;32m    675\u001b[0m )\n\u001b[0;32m    676\u001b[0m kwds\u001b[38;5;241m.\u001b[39mupdate(kwds_defaults)\n\u001b[1;32m--> 678\u001b[0m \u001b[38;5;28;01mreturn\u001b[39;00m \u001b[43m_read\u001b[49m\u001b[43m(\u001b[49m\u001b[43mfilepath_or_buffer\u001b[49m\u001b[43m,\u001b[49m\u001b[43m \u001b[49m\u001b[43mkwds\u001b[49m\u001b[43m)\u001b[49m\n",
      "File \u001b[1;32mC:\\ProgramData\\Anaconda3\\lib\\site-packages\\pandas\\io\\parsers\\readers.py:575\u001b[0m, in \u001b[0;36m_read\u001b[1;34m(filepath_or_buffer, kwds)\u001b[0m\n\u001b[0;32m    572\u001b[0m _validate_names(kwds\u001b[38;5;241m.\u001b[39mget(\u001b[38;5;124m\"\u001b[39m\u001b[38;5;124mnames\u001b[39m\u001b[38;5;124m\"\u001b[39m, \u001b[38;5;28;01mNone\u001b[39;00m))\n\u001b[0;32m    574\u001b[0m \u001b[38;5;66;03m# Create the parser.\u001b[39;00m\n\u001b[1;32m--> 575\u001b[0m parser \u001b[38;5;241m=\u001b[39m TextFileReader(filepath_or_buffer, \u001b[38;5;241m*\u001b[39m\u001b[38;5;241m*\u001b[39mkwds)\n\u001b[0;32m    577\u001b[0m \u001b[38;5;28;01mif\u001b[39;00m chunksize \u001b[38;5;129;01mor\u001b[39;00m iterator:\n\u001b[0;32m    578\u001b[0m     \u001b[38;5;28;01mreturn\u001b[39;00m parser\n",
      "File \u001b[1;32mC:\\ProgramData\\Anaconda3\\lib\\site-packages\\pandas\\io\\parsers\\readers.py:932\u001b[0m, in \u001b[0;36mTextFileReader.__init__\u001b[1;34m(self, f, engine, **kwds)\u001b[0m\n\u001b[0;32m    929\u001b[0m     \u001b[38;5;28mself\u001b[39m\u001b[38;5;241m.\u001b[39moptions[\u001b[38;5;124m\"\u001b[39m\u001b[38;5;124mhas_index_names\u001b[39m\u001b[38;5;124m\"\u001b[39m] \u001b[38;5;241m=\u001b[39m kwds[\u001b[38;5;124m\"\u001b[39m\u001b[38;5;124mhas_index_names\u001b[39m\u001b[38;5;124m\"\u001b[39m]\n\u001b[0;32m    931\u001b[0m \u001b[38;5;28mself\u001b[39m\u001b[38;5;241m.\u001b[39mhandles: IOHandles \u001b[38;5;241m|\u001b[39m \u001b[38;5;28;01mNone\u001b[39;00m \u001b[38;5;241m=\u001b[39m \u001b[38;5;28;01mNone\u001b[39;00m\n\u001b[1;32m--> 932\u001b[0m \u001b[38;5;28mself\u001b[39m\u001b[38;5;241m.\u001b[39m_engine \u001b[38;5;241m=\u001b[39m \u001b[38;5;28;43mself\u001b[39;49m\u001b[38;5;241;43m.\u001b[39;49m\u001b[43m_make_engine\u001b[49m\u001b[43m(\u001b[49m\u001b[43mf\u001b[49m\u001b[43m,\u001b[49m\u001b[43m \u001b[49m\u001b[38;5;28;43mself\u001b[39;49m\u001b[38;5;241;43m.\u001b[39;49m\u001b[43mengine\u001b[49m\u001b[43m)\u001b[49m\n",
      "File \u001b[1;32mC:\\ProgramData\\Anaconda3\\lib\\site-packages\\pandas\\io\\parsers\\readers.py:1216\u001b[0m, in \u001b[0;36mTextFileReader._make_engine\u001b[1;34m(self, f, engine)\u001b[0m\n\u001b[0;32m   1212\u001b[0m     mode \u001b[38;5;241m=\u001b[39m \u001b[38;5;124m\"\u001b[39m\u001b[38;5;124mrb\u001b[39m\u001b[38;5;124m\"\u001b[39m\n\u001b[0;32m   1213\u001b[0m \u001b[38;5;66;03m# error: No overload variant of \"get_handle\" matches argument types\u001b[39;00m\n\u001b[0;32m   1214\u001b[0m \u001b[38;5;66;03m# \"Union[str, PathLike[str], ReadCsvBuffer[bytes], ReadCsvBuffer[str]]\"\u001b[39;00m\n\u001b[0;32m   1215\u001b[0m \u001b[38;5;66;03m# , \"str\", \"bool\", \"Any\", \"Any\", \"Any\", \"Any\", \"Any\"\u001b[39;00m\n\u001b[1;32m-> 1216\u001b[0m \u001b[38;5;28mself\u001b[39m\u001b[38;5;241m.\u001b[39mhandles \u001b[38;5;241m=\u001b[39m \u001b[43mget_handle\u001b[49m\u001b[43m(\u001b[49m\u001b[43m  \u001b[49m\u001b[38;5;66;43;03m# type: ignore[call-overload]\u001b[39;49;00m\n\u001b[0;32m   1217\u001b[0m \u001b[43m    \u001b[49m\u001b[43mf\u001b[49m\u001b[43m,\u001b[49m\n\u001b[0;32m   1218\u001b[0m \u001b[43m    \u001b[49m\u001b[43mmode\u001b[49m\u001b[43m,\u001b[49m\n\u001b[0;32m   1219\u001b[0m \u001b[43m    \u001b[49m\u001b[43mencoding\u001b[49m\u001b[38;5;241;43m=\u001b[39;49m\u001b[38;5;28;43mself\u001b[39;49m\u001b[38;5;241;43m.\u001b[39;49m\u001b[43moptions\u001b[49m\u001b[38;5;241;43m.\u001b[39;49m\u001b[43mget\u001b[49m\u001b[43m(\u001b[49m\u001b[38;5;124;43m\"\u001b[39;49m\u001b[38;5;124;43mencoding\u001b[39;49m\u001b[38;5;124;43m\"\u001b[39;49m\u001b[43m,\u001b[49m\u001b[43m \u001b[49m\u001b[38;5;28;43;01mNone\u001b[39;49;00m\u001b[43m)\u001b[49m\u001b[43m,\u001b[49m\n\u001b[0;32m   1220\u001b[0m \u001b[43m    \u001b[49m\u001b[43mcompression\u001b[49m\u001b[38;5;241;43m=\u001b[39;49m\u001b[38;5;28;43mself\u001b[39;49m\u001b[38;5;241;43m.\u001b[39;49m\u001b[43moptions\u001b[49m\u001b[38;5;241;43m.\u001b[39;49m\u001b[43mget\u001b[49m\u001b[43m(\u001b[49m\u001b[38;5;124;43m\"\u001b[39;49m\u001b[38;5;124;43mcompression\u001b[39;49m\u001b[38;5;124;43m\"\u001b[39;49m\u001b[43m,\u001b[49m\u001b[43m \u001b[49m\u001b[38;5;28;43;01mNone\u001b[39;49;00m\u001b[43m)\u001b[49m\u001b[43m,\u001b[49m\n\u001b[0;32m   1221\u001b[0m \u001b[43m    \u001b[49m\u001b[43mmemory_map\u001b[49m\u001b[38;5;241;43m=\u001b[39;49m\u001b[38;5;28;43mself\u001b[39;49m\u001b[38;5;241;43m.\u001b[39;49m\u001b[43moptions\u001b[49m\u001b[38;5;241;43m.\u001b[39;49m\u001b[43mget\u001b[49m\u001b[43m(\u001b[49m\u001b[38;5;124;43m\"\u001b[39;49m\u001b[38;5;124;43mmemory_map\u001b[39;49m\u001b[38;5;124;43m\"\u001b[39;49m\u001b[43m,\u001b[49m\u001b[43m \u001b[49m\u001b[38;5;28;43;01mFalse\u001b[39;49;00m\u001b[43m)\u001b[49m\u001b[43m,\u001b[49m\n\u001b[0;32m   1222\u001b[0m \u001b[43m    \u001b[49m\u001b[43mis_text\u001b[49m\u001b[38;5;241;43m=\u001b[39;49m\u001b[43mis_text\u001b[49m\u001b[43m,\u001b[49m\n\u001b[0;32m   1223\u001b[0m \u001b[43m    \u001b[49m\u001b[43merrors\u001b[49m\u001b[38;5;241;43m=\u001b[39;49m\u001b[38;5;28;43mself\u001b[39;49m\u001b[38;5;241;43m.\u001b[39;49m\u001b[43moptions\u001b[49m\u001b[38;5;241;43m.\u001b[39;49m\u001b[43mget\u001b[49m\u001b[43m(\u001b[49m\u001b[38;5;124;43m\"\u001b[39;49m\u001b[38;5;124;43mencoding_errors\u001b[39;49m\u001b[38;5;124;43m\"\u001b[39;49m\u001b[43m,\u001b[49m\u001b[43m \u001b[49m\u001b[38;5;124;43m\"\u001b[39;49m\u001b[38;5;124;43mstrict\u001b[39;49m\u001b[38;5;124;43m\"\u001b[39;49m\u001b[43m)\u001b[49m\u001b[43m,\u001b[49m\n\u001b[0;32m   1224\u001b[0m \u001b[43m    \u001b[49m\u001b[43mstorage_options\u001b[49m\u001b[38;5;241;43m=\u001b[39;49m\u001b[38;5;28;43mself\u001b[39;49m\u001b[38;5;241;43m.\u001b[39;49m\u001b[43moptions\u001b[49m\u001b[38;5;241;43m.\u001b[39;49m\u001b[43mget\u001b[49m\u001b[43m(\u001b[49m\u001b[38;5;124;43m\"\u001b[39;49m\u001b[38;5;124;43mstorage_options\u001b[39;49m\u001b[38;5;124;43m\"\u001b[39;49m\u001b[43m,\u001b[49m\u001b[43m \u001b[49m\u001b[38;5;28;43;01mNone\u001b[39;49;00m\u001b[43m)\u001b[49m\u001b[43m,\u001b[49m\n\u001b[0;32m   1225\u001b[0m \u001b[43m\u001b[49m\u001b[43m)\u001b[49m\n\u001b[0;32m   1226\u001b[0m \u001b[38;5;28;01massert\u001b[39;00m \u001b[38;5;28mself\u001b[39m\u001b[38;5;241m.\u001b[39mhandles \u001b[38;5;129;01mis\u001b[39;00m \u001b[38;5;129;01mnot\u001b[39;00m \u001b[38;5;28;01mNone\u001b[39;00m\n\u001b[0;32m   1227\u001b[0m f \u001b[38;5;241m=\u001b[39m \u001b[38;5;28mself\u001b[39m\u001b[38;5;241m.\u001b[39mhandles\u001b[38;5;241m.\u001b[39mhandle\n",
      "File \u001b[1;32mC:\\ProgramData\\Anaconda3\\lib\\site-packages\\pandas\\io\\common.py:786\u001b[0m, in \u001b[0;36mget_handle\u001b[1;34m(path_or_buf, mode, encoding, compression, memory_map, is_text, errors, storage_options)\u001b[0m\n\u001b[0;32m    781\u001b[0m \u001b[38;5;28;01melif\u001b[39;00m \u001b[38;5;28misinstance\u001b[39m(handle, \u001b[38;5;28mstr\u001b[39m):\n\u001b[0;32m    782\u001b[0m     \u001b[38;5;66;03m# Check whether the filename is to be opened in binary mode.\u001b[39;00m\n\u001b[0;32m    783\u001b[0m     \u001b[38;5;66;03m# Binary mode does not support 'encoding' and 'newline'.\u001b[39;00m\n\u001b[0;32m    784\u001b[0m     \u001b[38;5;28;01mif\u001b[39;00m ioargs\u001b[38;5;241m.\u001b[39mencoding \u001b[38;5;129;01mand\u001b[39;00m \u001b[38;5;124m\"\u001b[39m\u001b[38;5;124mb\u001b[39m\u001b[38;5;124m\"\u001b[39m \u001b[38;5;129;01mnot\u001b[39;00m \u001b[38;5;129;01min\u001b[39;00m ioargs\u001b[38;5;241m.\u001b[39mmode:\n\u001b[0;32m    785\u001b[0m         \u001b[38;5;66;03m# Encoding\u001b[39;00m\n\u001b[1;32m--> 786\u001b[0m         handle \u001b[38;5;241m=\u001b[39m \u001b[38;5;28;43mopen\u001b[39;49m\u001b[43m(\u001b[49m\n\u001b[0;32m    787\u001b[0m \u001b[43m            \u001b[49m\u001b[43mhandle\u001b[49m\u001b[43m,\u001b[49m\n\u001b[0;32m    788\u001b[0m \u001b[43m            \u001b[49m\u001b[43mioargs\u001b[49m\u001b[38;5;241;43m.\u001b[39;49m\u001b[43mmode\u001b[49m\u001b[43m,\u001b[49m\n\u001b[0;32m    789\u001b[0m \u001b[43m            \u001b[49m\u001b[43mencoding\u001b[49m\u001b[38;5;241;43m=\u001b[39;49m\u001b[43mioargs\u001b[49m\u001b[38;5;241;43m.\u001b[39;49m\u001b[43mencoding\u001b[49m\u001b[43m,\u001b[49m\n\u001b[0;32m    790\u001b[0m \u001b[43m            \u001b[49m\u001b[43merrors\u001b[49m\u001b[38;5;241;43m=\u001b[39;49m\u001b[43merrors\u001b[49m\u001b[43m,\u001b[49m\n\u001b[0;32m    791\u001b[0m \u001b[43m            \u001b[49m\u001b[43mnewline\u001b[49m\u001b[38;5;241;43m=\u001b[39;49m\u001b[38;5;124;43m\"\u001b[39;49m\u001b[38;5;124;43m\"\u001b[39;49m\u001b[43m,\u001b[49m\n\u001b[0;32m    792\u001b[0m \u001b[43m        \u001b[49m\u001b[43m)\u001b[49m\n\u001b[0;32m    793\u001b[0m     \u001b[38;5;28;01melse\u001b[39;00m:\n\u001b[0;32m    794\u001b[0m         \u001b[38;5;66;03m# Binary mode\u001b[39;00m\n\u001b[0;32m    795\u001b[0m         handle \u001b[38;5;241m=\u001b[39m \u001b[38;5;28mopen\u001b[39m(handle, ioargs\u001b[38;5;241m.\u001b[39mmode)\n",
      "\u001b[1;31mFileNotFoundError\u001b[0m: [Errno 2] No such file or directory: 'movies.csv'"
     ]
    }
   ],
   "source": [
    "# loading dataset\n",
    "data=pd.read_csv('movies.csv')\n",
    "df=data.copy()\n",
    "df.head()"
   ]
  },
  {
   "cell_type": "code",
   "execution_count": null,
   "metadata": {
    "execution": {
     "iopub.execute_input": "2023-01-31T17:00:20.315130Z",
     "iopub.status.busy": "2023-01-31T17:00:20.314773Z",
     "iopub.status.idle": "2023-01-31T17:00:20.327635Z",
     "shell.execute_reply": "2023-01-31T17:00:20.326453Z",
     "shell.execute_reply.started": "2023-01-31T17:00:20.315099Z"
    }
   },
   "outputs": [],
   "source": [
    "df.drop('index',axis=1,inplace=True)"
   ]
  },
  {
   "cell_type": "code",
   "execution_count": null,
   "metadata": {
    "execution": {
     "iopub.execute_input": "2023-01-31T17:00:20.329471Z",
     "iopub.status.busy": "2023-01-31T17:00:20.329001Z",
     "iopub.status.idle": "2023-01-31T17:00:20.356073Z",
     "shell.execute_reply": "2023-01-31T17:00:20.354593Z",
     "shell.execute_reply.started": "2023-01-31T17:00:20.329436Z"
    }
   },
   "outputs": [],
   "source": [
    "df.info()"
   ]
  },
  {
   "cell_type": "markdown",
   "metadata": {},
   "source": [
    "**This is a very small dataset, comprised of details of 99 movies, it has 8 columns and 99 rows**"
   ]
  },
  {
   "cell_type": "code",
   "execution_count": null,
   "metadata": {
    "execution": {
     "iopub.execute_input": "2023-01-31T17:00:20.358286Z",
     "iopub.status.busy": "2023-01-31T17:00:20.357817Z",
     "iopub.status.idle": "2023-01-31T17:00:20.369013Z",
     "shell.execute_reply": "2023-01-31T17:00:20.367696Z",
     "shell.execute_reply.started": "2023-01-31T17:00:20.358241Z"
    }
   },
   "outputs": [],
   "source": [
    "df.shape"
   ]
  },
  {
   "cell_type": "code",
   "execution_count": null,
   "metadata": {
    "execution": {
     "iopub.execute_input": "2023-01-31T17:00:20.371074Z",
     "iopub.status.busy": "2023-01-31T17:00:20.370720Z",
     "iopub.status.idle": "2023-01-31T17:00:20.382384Z",
     "shell.execute_reply": "2023-01-31T17:00:20.381132Z",
     "shell.execute_reply.started": "2023-01-31T17:00:20.371042Z"
    }
   },
   "outputs": [],
   "source": [
    "df.isnull().sum()"
   ]
  },
  {
   "cell_type": "markdown",
   "metadata": {},
   "source": [
    "> Only one missing value in gross total"
   ]
  },
  {
   "cell_type": "code",
   "execution_count": null,
   "metadata": {
    "execution": {
     "iopub.execute_input": "2023-01-31T17:00:20.384789Z",
     "iopub.status.busy": "2023-01-31T17:00:20.384170Z",
     "iopub.status.idle": "2023-01-31T17:00:20.393989Z",
     "shell.execute_reply": "2023-01-31T17:00:20.392802Z",
     "shell.execute_reply.started": "2023-01-31T17:00:20.384755Z"
    }
   },
   "outputs": [],
   "source": [
    "df.dropna(inplace=True)"
   ]
  },
  {
   "cell_type": "code",
   "execution_count": null,
   "metadata": {
    "execution": {
     "iopub.execute_input": "2023-01-31T17:00:20.396300Z",
     "iopub.status.busy": "2023-01-31T17:00:20.395366Z",
     "iopub.status.idle": "2023-01-31T17:00:20.409856Z",
     "shell.execute_reply": "2023-01-31T17:00:20.408313Z",
     "shell.execute_reply.started": "2023-01-31T17:00:20.396261Z"
    }
   },
   "outputs": [],
   "source": [
    "df.isnull().sum()"
   ]
  },
  {
   "cell_type": "code",
   "execution_count": null,
   "metadata": {
    "execution": {
     "iopub.execute_input": "2023-01-31T17:00:20.415329Z",
     "iopub.status.busy": "2023-01-31T17:00:20.414734Z",
     "iopub.status.idle": "2023-01-31T17:00:20.427955Z",
     "shell.execute_reply": "2023-01-31T17:00:20.426186Z",
     "shell.execute_reply.started": "2023-01-31T17:00:20.415293Z"
    }
   },
   "outputs": [],
   "source": [
    "# checking for duplicated row\n",
    "df.duplicated().any()"
   ]
  },
  {
   "cell_type": "markdown",
   "metadata": {},
   "source": [
    "**There is no duplicate row**"
   ]
  },
  {
   "cell_type": "markdown",
   "metadata": {},
   "source": [
    "### Visualisation of categories"
   ]
  },
  {
   "cell_type": "code",
   "execution_count": null,
   "metadata": {
    "execution": {
     "iopub.execute_input": "2023-01-31T17:00:20.430140Z",
     "iopub.status.busy": "2023-01-31T17:00:20.429627Z",
     "iopub.status.idle": "2023-01-31T17:00:20.839545Z",
     "shell.execute_reply": "2023-01-31T17:00:20.838408Z",
     "shell.execute_reply.started": "2023-01-31T17:00:20.430092Z"
    }
   },
   "outputs": [],
   "source": [
    "category=df['category'].value_counts(ascending=False)\n",
    "name=category.index\n",
    "count=category.values\n",
    "\n",
    "# pie plot for this\n",
    "plt.figure(figsize=(9,6))\n",
    "sns.barplot(name,count)\n",
    "plt.title('Category wise Distribution',fontdict={'family':'times new roman','size':20,'color':'red'})\n",
    "plt.xlabel('Category',fontdict={'family':'times new roman','size':20,'color':'blue'})\n",
    "plt.ylabel('Count',fontdict={'family':'times new roman','size':20,'color':'blue'})\n",
    "plt.show()"
   ]
  },
  {
   "cell_type": "code",
   "execution_count": null,
   "metadata": {
    "execution": {
     "iopub.execute_input": "2023-01-31T17:00:20.841520Z",
     "iopub.status.busy": "2023-01-31T17:00:20.841153Z",
     "iopub.status.idle": "2023-01-31T17:00:20.998645Z",
     "shell.execute_reply": "2023-01-31T17:00:20.997735Z",
     "shell.execute_reply.started": "2023-01-31T17:00:20.841489Z"
    }
   },
   "outputs": [],
   "source": [
    "# You can use these countplot, histplot directly to get distribution of a single categorical column\n",
    "sns.countplot(df['category'])"
   ]
  },
  {
   "cell_type": "code",
   "execution_count": null,
   "metadata": {
    "execution": {
     "iopub.execute_input": "2023-01-31T17:00:21.001182Z",
     "iopub.status.busy": "2023-01-31T17:00:21.000420Z",
     "iopub.status.idle": "2023-01-31T17:00:21.162112Z",
     "shell.execute_reply": "2023-01-31T17:00:21.160764Z",
     "shell.execute_reply.started": "2023-01-31T17:00:21.001134Z"
    }
   },
   "outputs": [],
   "source": [
    "sns.histplot(df['category'])"
   ]
  },
  {
   "cell_type": "markdown",
   "metadata": {},
   "source": [
    "### Year "
   ]
  },
  {
   "cell_type": "code",
   "execution_count": null,
   "metadata": {
    "execution": {
     "iopub.execute_input": "2023-01-31T17:00:21.164631Z",
     "iopub.status.busy": "2023-01-31T17:00:21.164136Z",
     "iopub.status.idle": "2023-01-31T17:00:21.172836Z",
     "shell.execute_reply": "2023-01-31T17:00:21.171340Z",
     "shell.execute_reply.started": "2023-01-31T17:00:21.164582Z"
    }
   },
   "outputs": [],
   "source": [
    "year=df['year_of_release'].value_counts(ascending=False).head(10)\n",
    "name=year.index\n",
    "count=year.values"
   ]
  },
  {
   "cell_type": "code",
   "execution_count": null,
   "metadata": {
    "execution": {
     "iopub.execute_input": "2023-01-31T17:00:21.175660Z",
     "iopub.status.busy": "2023-01-31T17:00:21.175077Z",
     "iopub.status.idle": "2023-01-31T17:00:21.384216Z",
     "shell.execute_reply": "2023-01-31T17:00:21.382919Z",
     "shell.execute_reply.started": "2023-01-31T17:00:21.175609Z"
    }
   },
   "outputs": [],
   "source": [
    "# Years with maximum release of movies\n",
    "plt.figure(figsize=(12,5))\n",
    "sns.barplot(name,count,palette='coolwarm')\n",
    "plt.title('Top 10 years having most no of hit movies ',fontdict={'family':'times new roman','size':20,'color':'blue'})\n",
    "plt.xlabel('Year',fontdict={'family':'times new roman','size':20,'color':'magenta'})\n",
    "plt.xticks(rotation=90)\n",
    "plt.ylabel('No of movies released',fontdict={'family':'times new roman','size':20,'color':'magenta'})\n",
    "plt.show()"
   ]
  },
  {
   "cell_type": "markdown",
   "metadata": {},
   "source": [
    "**Year 1995,1994,1999 had most number of hit movies**"
   ]
  },
  {
   "cell_type": "code",
   "execution_count": null,
   "metadata": {
    "execution": {
     "iopub.execute_input": "2023-01-31T17:00:21.386698Z",
     "iopub.status.busy": "2023-01-31T17:00:21.386193Z",
     "iopub.status.idle": "2023-01-31T17:00:22.101319Z",
     "shell.execute_reply": "2023-01-31T17:00:22.100127Z",
     "shell.execute_reply.started": "2023-01-31T17:00:21.386632Z"
    }
   },
   "outputs": [],
   "source": [
    "# Get distribution of all records of Year_of_release\n",
    "plt.figure(figsize=(15,6))\n",
    "sns.countplot(df['year_of_release'])\n",
    "plt.xticks(rotation=90)\n",
    "plt.show()"
   ]
  },
  {
   "cell_type": "markdown",
   "metadata": {},
   "source": [
    "### Runtime"
   ]
  },
  {
   "cell_type": "code",
   "execution_count": null,
   "metadata": {
    "execution": {
     "iopub.execute_input": "2023-01-31T17:00:22.103391Z",
     "iopub.status.busy": "2023-01-31T17:00:22.102797Z",
     "iopub.status.idle": "2023-01-31T17:00:22.113854Z",
     "shell.execute_reply": "2023-01-31T17:00:22.112494Z",
     "shell.execute_reply.started": "2023-01-31T17:00:22.103358Z"
    }
   },
   "outputs": [],
   "source": [
    "runtime=df['run_time'].value_counts(ascending=False).head(10)\n",
    "name=runtime.index\n",
    "count=runtime.values\n",
    "runtime"
   ]
  },
  {
   "cell_type": "code",
   "execution_count": null,
   "metadata": {
    "execution": {
     "iopub.execute_input": "2023-01-31T17:00:22.115772Z",
     "iopub.status.busy": "2023-01-31T17:00:22.115380Z",
     "iopub.status.idle": "2023-01-31T17:00:22.271843Z",
     "shell.execute_reply": "2023-01-31T17:00:22.270693Z",
     "shell.execute_reply.started": "2023-01-31T17:00:22.115732Z"
    }
   },
   "outputs": [],
   "source": [
    "plt.figure(figsize=(7,7))\n",
    "plt.pie(count,labels=name,rotatelabels=90)\n",
    "cc=plt.Circle((0,0),0.5,color='white')\n",
    "fig=plt.gcf()\n",
    "fig.gca().add_artist(cc)\n",
    "plt.title(\"Runtime Distribution\",loc='right',fontdict={'family':'times new roman','size':20,'color':'blue'})\n",
    "plt.show()"
   ]
  },
  {
   "cell_type": "code",
   "execution_count": null,
   "metadata": {
    "execution": {
     "iopub.execute_input": "2023-01-31T17:00:22.274419Z",
     "iopub.status.busy": "2023-01-31T17:00:22.273644Z",
     "iopub.status.idle": "2023-01-31T17:00:22.487075Z",
     "shell.execute_reply": "2023-01-31T17:00:22.485759Z",
     "shell.execute_reply.started": "2023-01-31T17:00:22.274372Z"
    }
   },
   "outputs": [],
   "source": [
    "plt.figure(figsize=(12,5))\n",
    "sns.barplot(name,count,palette='coolwarm')\n",
    "plt.title('Run Time vs No of Release ',fontdict={'family':'times new roman','size':20,'color':'blue'})\n",
    "plt.xlabel('Runtime',fontdict={'family':'times new roman','size':20,'color':'magenta'})\n",
    "plt.xticks(rotation=90)\n",
    "plt.ylabel('No of movies released',fontdict={'family':'times new roman','size':20,'color':'magenta'})\n",
    "plt.show()"
   ]
  },
  {
   "cell_type": "code",
   "execution_count": null,
   "metadata": {
    "execution": {
     "iopub.execute_input": "2023-01-31T17:00:22.489111Z",
     "iopub.status.busy": "2023-01-31T17:00:22.488628Z",
     "iopub.status.idle": "2023-01-31T17:00:23.410084Z",
     "shell.execute_reply": "2023-01-31T17:00:23.408727Z",
     "shell.execute_reply.started": "2023-01-31T17:00:22.489068Z"
    }
   },
   "outputs": [],
   "source": [
    "# countplot will give u better distribution of all records of run time\n",
    "plt.figure(figsize=(15,5))\n",
    "sns.countplot(df['run_time'])\n",
    "plt.xticks(rotation=90)\n",
    "plt.show()"
   ]
  },
  {
   "cell_type": "markdown",
   "metadata": {},
   "source": []
  },
  {
   "cell_type": "code",
   "execution_count": null,
   "metadata": {
    "execution": {
     "iopub.execute_input": "2023-01-31T17:00:23.413213Z",
     "iopub.status.busy": "2023-01-31T17:00:23.412055Z",
     "iopub.status.idle": "2023-01-31T17:00:23.423255Z",
     "shell.execute_reply": "2023-01-31T17:00:23.422181Z",
     "shell.execute_reply.started": "2023-01-31T17:00:23.413169Z"
    }
   },
   "outputs": [],
   "source": [
    "### Movies with higest Run Time\n",
    "\n",
    "df['run_time']=df['run_time'].str.replace(\"min\",\"\")\n",
    "df = df.astype({'run_time':int})\n",
    "print(df.dtypes)"
   ]
  },
  {
   "cell_type": "code",
   "execution_count": null,
   "metadata": {
    "execution": {
     "iopub.execute_input": "2023-01-31T17:00:23.425977Z",
     "iopub.status.busy": "2023-01-31T17:00:23.424655Z",
     "iopub.status.idle": "2023-01-31T17:00:23.443476Z",
     "shell.execute_reply": "2023-01-31T17:00:23.442263Z",
     "shell.execute_reply.started": "2023-01-31T17:00:23.425935Z"
    }
   },
   "outputs": [],
   "source": [
    "higest_runtime_movie=df.sort_values(by='run_time',ascending=False).head(10)[['movie_name','run_time']]\n",
    "higest_runtime_movie"
   ]
  },
  {
   "cell_type": "code",
   "execution_count": null,
   "metadata": {
    "execution": {
     "iopub.execute_input": "2023-01-31T17:00:23.448632Z",
     "iopub.status.busy": "2023-01-31T17:00:23.448257Z",
     "iopub.status.idle": "2023-01-31T17:00:23.701649Z",
     "shell.execute_reply": "2023-01-31T17:00:23.700505Z",
     "shell.execute_reply.started": "2023-01-31T17:00:23.448602Z"
    }
   },
   "outputs": [],
   "source": [
    "name=higest_runtime_movie['movie_name']\n",
    "value=higest_runtime_movie['run_time']\n",
    "\n",
    "plt.figure(figsize=(12,5))\n",
    "sns.barplot(name,value,palette='coolwarm')\n",
    "plt.title('Top 10 movies with highest runtime ',fontdict={'family':'times new roman','size':20,'color':'blue'})\n",
    "plt.xlabel('Movie Name',fontdict={'family':'times new roman','size':20,'color':'magenta'})\n",
    "plt.xticks(rotation=80)\n",
    "plt.ylabel('Runtime(min)',fontdict={'family':'times new roman','size':20,'color':'magenta'})\n",
    "plt.show()"
   ]
  },
  {
   "cell_type": "code",
   "execution_count": null,
   "metadata": {
    "execution": {
     "iopub.execute_input": "2023-01-31T17:00:23.703481Z",
     "iopub.status.busy": "2023-01-31T17:00:23.703116Z",
     "iopub.status.idle": "2023-01-31T17:00:23.969166Z",
     "shell.execute_reply": "2023-01-31T17:00:23.968244Z",
     "shell.execute_reply.started": "2023-01-31T17:00:23.703448Z"
    }
   },
   "outputs": [],
   "source": [
    "sns.lineplot(name,value,palette='coolwarm')\n",
    "plt.xticks(rotation=90)\n",
    "plt.show()"
   ]
  },
  {
   "cell_type": "markdown",
   "metadata": {},
   "source": [
    "### Genre"
   ]
  },
  {
   "cell_type": "code",
   "execution_count": null,
   "metadata": {
    "execution": {
     "iopub.execute_input": "2023-01-31T17:00:23.971522Z",
     "iopub.status.busy": "2023-01-31T17:00:23.970798Z",
     "iopub.status.idle": "2023-01-31T17:00:23.981818Z",
     "shell.execute_reply": "2023-01-31T17:00:23.980707Z",
     "shell.execute_reply.started": "2023-01-31T17:00:23.971483Z"
    }
   },
   "outputs": [],
   "source": [
    "# top 10 Genre\n",
    "genre=df['genre'].value_counts(ascending=False).head(10)\n",
    "name=genre.index\n",
    "count=genre.values\n",
    "genre"
   ]
  },
  {
   "cell_type": "code",
   "execution_count": null,
   "metadata": {
    "execution": {
     "iopub.execute_input": "2023-01-31T17:00:23.983839Z",
     "iopub.status.busy": "2023-01-31T17:00:23.983359Z",
     "iopub.status.idle": "2023-01-31T17:00:24.241620Z",
     "shell.execute_reply": "2023-01-31T17:00:24.240405Z",
     "shell.execute_reply.started": "2023-01-31T17:00:23.983778Z"
    }
   },
   "outputs": [],
   "source": [
    "plt.figure(figsize=(7,7))\n",
    "plt.pie(count,labels=name,rotatelabels=40,autopct='%1.2f')\n",
    "cc=plt.Circle((0,0),0.5,color='white')\n",
    "fig=plt.gcf()\n",
    "fig.gca().add_artist(cc)\n",
    "plt.title(\"Top 10 Genre\",loc='right',fontdict={'family':'times new roman','size':20,'color':'blue'})\n",
    "# plt.xticks(rotation=45)\n",
    "plt.show()"
   ]
  },
  {
   "cell_type": "code",
   "execution_count": null,
   "metadata": {
    "execution": {
     "iopub.execute_input": "2023-01-31T17:00:24.243562Z",
     "iopub.status.busy": "2023-01-31T17:00:24.243055Z",
     "iopub.status.idle": "2023-01-31T17:00:24.261030Z",
     "shell.execute_reply": "2023-01-31T17:00:24.259716Z",
     "shell.execute_reply.started": "2023-01-31T17:00:24.243517Z"
    }
   },
   "outputs": [],
   "source": [
    "# which Genre has the higest rating\n",
    "\n",
    "genre_rating=df[['genre','imdb_rating']]\n",
    "genre_rating=genre_rating.sort_values(by='imdb_rating',ascending=False).head(15)\n",
    "genre_rating"
   ]
  },
  {
   "cell_type": "markdown",
   "metadata": {},
   "source": [
    "> From above data We can see that most of highly rated movies falls into 'Drama' or 'Crime' followed by action or adventure"
   ]
  },
  {
   "cell_type": "code",
   "execution_count": null,
   "metadata": {
    "execution": {
     "iopub.execute_input": "2023-01-31T17:00:24.263326Z",
     "iopub.status.busy": "2023-01-31T17:00:24.262845Z",
     "iopub.status.idle": "2023-01-31T17:00:24.633831Z",
     "shell.execute_reply": "2023-01-31T17:00:24.632479Z",
     "shell.execute_reply.started": "2023-01-31T17:00:24.263280Z"
    }
   },
   "outputs": [],
   "source": [
    "name=genre_rating['genre']\n",
    "value=genre_rating['imdb_rating']\n",
    "\n",
    "plt.figure(figsize=(12,5))\n",
    "sns.barplot(name,value,palette='coolwarm')\n",
    "plt.title('Top Genres by rating',fontdict={'family':'times new roman','size':20,'color':'blue'})\n",
    "plt.xlabel('Genre',fontdict={'family':'times new roman','size':20,'color':'magenta'})\n",
    "plt.xticks(rotation=80)\n",
    "plt.ylabel('Ratings',fontdict={'family':'times new roman','size':20,'color':'magenta'})\n",
    "plt.show()"
   ]
  },
  {
   "cell_type": "code",
   "execution_count": null,
   "metadata": {
    "execution": {
     "iopub.execute_input": "2023-01-31T17:00:24.636127Z",
     "iopub.status.busy": "2023-01-31T17:00:24.635601Z",
     "iopub.status.idle": "2023-01-31T17:00:24.939953Z",
     "shell.execute_reply": "2023-01-31T17:00:24.938380Z",
     "shell.execute_reply.started": "2023-01-31T17:00:24.636090Z"
    }
   },
   "outputs": [],
   "source": [
    "plt.figure(figsize=(12,5))\n",
    "sns.scatterplot(name,value,palette='coolwarm')\n",
    "plt.xticks(rotation=80)\n",
    "plt.show()"
   ]
  },
  {
   "cell_type": "code",
   "execution_count": null,
   "metadata": {
    "execution": {
     "iopub.execute_input": "2023-01-31T17:00:24.942396Z",
     "iopub.status.busy": "2023-01-31T17:00:24.941859Z",
     "iopub.status.idle": "2023-01-31T17:00:24.968332Z",
     "shell.execute_reply": "2023-01-31T17:00:24.963210Z",
     "shell.execute_reply.started": "2023-01-31T17:00:24.942346Z"
    }
   },
   "outputs": [],
   "source": [
    "# higest rated movies\n",
    "\n",
    "top_movie_ratings=df[['movie_name','imdb_rating']].sort_values(by='imdb_rating',ascending=False).head(10)\n",
    "top_movie_ratings"
   ]
  },
  {
   "cell_type": "code",
   "execution_count": null,
   "metadata": {
    "execution": {
     "iopub.execute_input": "2023-01-31T17:00:24.972655Z",
     "iopub.status.busy": "2023-01-31T17:00:24.971469Z",
     "iopub.status.idle": "2023-01-31T17:00:25.283031Z",
     "shell.execute_reply": "2023-01-31T17:00:25.282149Z",
     "shell.execute_reply.started": "2023-01-31T17:00:24.972610Z"
    }
   },
   "outputs": [],
   "source": [
    "name=top_movie_ratings['movie_name']\n",
    "value=top_movie_ratings['imdb_rating']\n",
    "\n",
    "plt.figure(figsize=(12,5))\n",
    "sns.barplot(name,value,palette='viridis')\n",
    "plt.title('Top movies by ratings',fontdict={'family':'times new roman','size':20,'color':'blue'})\n",
    "plt.xlabel('Movie Name',fontdict={'family':'times new roman','size':20,'color':'magenta'})\n",
    "plt.xticks(rotation=80)\n",
    "plt.ylabel('Ratings',fontdict={'family':'times new roman','size':20,'color':'magenta'})\n",
    "plt.show()"
   ]
  },
  {
   "cell_type": "markdown",
   "metadata": {},
   "source": [
    "**The higest rated movie is 'the shawshank redemption' followed by 'The Godfather' etc**"
   ]
  },
  {
   "cell_type": "code",
   "execution_count": null,
   "metadata": {
    "execution": {
     "iopub.execute_input": "2023-01-31T17:00:25.285265Z",
     "iopub.status.busy": "2023-01-31T17:00:25.284570Z",
     "iopub.status.idle": "2023-01-31T17:00:25.562419Z",
     "shell.execute_reply": "2023-01-31T17:00:25.561423Z",
     "shell.execute_reply.started": "2023-01-31T17:00:25.285206Z"
    }
   },
   "outputs": [],
   "source": [
    "# scatter plot will give u better idea of rating differences\n",
    "\n",
    "plt.figure(figsize=(12,5))\n",
    "sns.scatterplot(name,value,palette='viridis')\n",
    "plt.title('Top movies by ratings',fontdict={'family':'times new roman','size':20,'color':'blue'})\n",
    "plt.xlabel('Movie Name',fontdict={'family':'times new roman','size':20,'color':'magenta'})\n",
    "plt.xticks(rotation=80)\n",
    "plt.ylabel('Ratings',fontdict={'family':'times new roman','size':20,'color':'magenta'})\n",
    "plt.show()"
   ]
  },
  {
   "cell_type": "code",
   "execution_count": null,
   "metadata": {
    "execution": {
     "iopub.execute_input": "2023-01-31T17:00:25.564533Z",
     "iopub.status.busy": "2023-01-31T17:00:25.563946Z",
     "iopub.status.idle": "2023-01-31T17:00:25.844172Z",
     "shell.execute_reply": "2023-01-31T17:00:25.842965Z",
     "shell.execute_reply.started": "2023-01-31T17:00:25.564496Z"
    }
   },
   "outputs": [],
   "source": [
    "# line plot of movies vs ratings\n",
    "\n",
    "plt.figure(figsize=(12,5))\n",
    "sns.lineplot(name,value,palette='viridis')\n",
    "plt.title('Top movies by ratings',fontdict={'family':'times new roman','size':20,'color':'blue'})\n",
    "plt.xlabel('Movie Name',fontdict={'family':'times new roman','size':20,'color':'magenta'})\n",
    "plt.xticks(rotation=80)\n",
    "plt.ylabel('Ratings',fontdict={'family':'times new roman','size':20,'color':'magenta'})\n",
    "plt.show()"
   ]
  },
  {
   "cell_type": "markdown",
   "metadata": {},
   "source": [
    "### Votes"
   ]
  },
  {
   "cell_type": "code",
   "execution_count": null,
   "metadata": {
    "execution": {
     "iopub.execute_input": "2023-01-31T17:00:25.845984Z",
     "iopub.status.busy": "2023-01-31T17:00:25.845604Z",
     "iopub.status.idle": "2023-01-31T17:00:25.856327Z",
     "shell.execute_reply": "2023-01-31T17:00:25.854987Z",
     "shell.execute_reply.started": "2023-01-31T17:00:25.845951Z"
    }
   },
   "outputs": [],
   "source": [
    "# making a separate dataset using three columns visible in code below\n",
    "votes=df[['movie_name','category','votes']]\n",
    "votes.dtypes\n",
    "# before sorting we need to convert column \"votes\" to \"numeric\" type"
   ]
  },
  {
   "cell_type": "markdown",
   "metadata": {},
   "source": [
    ">But we cannot change the data type of the column because it contains comma within the numbers first we need to remove these commas"
   ]
  },
  {
   "cell_type": "code",
   "execution_count": null,
   "metadata": {
    "execution": {
     "iopub.execute_input": "2023-01-31T17:00:25.858119Z",
     "iopub.status.busy": "2023-01-31T17:00:25.857781Z",
     "iopub.status.idle": "2023-01-31T17:00:25.871769Z",
     "shell.execute_reply": "2023-01-31T17:00:25.870467Z",
     "shell.execute_reply.started": "2023-01-31T17:00:25.858074Z"
    }
   },
   "outputs": [],
   "source": [
    "votes['votes']=votes['votes'].str.replace(',','',)\n",
    "votes['votes'][0:5]"
   ]
  },
  {
   "cell_type": "code",
   "execution_count": null,
   "metadata": {
    "execution": {
     "iopub.execute_input": "2023-01-31T17:00:25.873502Z",
     "iopub.status.busy": "2023-01-31T17:00:25.873158Z",
     "iopub.status.idle": "2023-01-31T17:00:25.884298Z",
     "shell.execute_reply": "2023-01-31T17:00:25.883088Z",
     "shell.execute_reply.started": "2023-01-31T17:00:25.873470Z"
    }
   },
   "outputs": [],
   "source": [
    "# checking different sample by running this code many times\n",
    "votes['votes'].sample(10)"
   ]
  },
  {
   "cell_type": "code",
   "execution_count": null,
   "metadata": {
    "execution": {
     "iopub.execute_input": "2023-01-31T17:00:25.886323Z",
     "iopub.status.busy": "2023-01-31T17:00:25.885916Z",
     "iopub.status.idle": "2023-01-31T17:00:25.897120Z",
     "shell.execute_reply": "2023-01-31T17:00:25.896192Z",
     "shell.execute_reply.started": "2023-01-31T17:00:25.886288Z"
    }
   },
   "outputs": [],
   "source": [
    "# converting data type \n",
    "try:\n",
    "    votes= votes.astype({'votes':int})\n",
    "except:\n",
    "     print('ValueError: could not convert')"
   ]
  },
  {
   "cell_type": "markdown",
   "metadata": {},
   "source": [
    "> since values in \"votes\" coloum contains commas thats why we are unable to convert string to number type, We need to remove comma from the data"
   ]
  },
  {
   "cell_type": "code",
   "execution_count": null,
   "metadata": {
    "execution": {
     "iopub.execute_input": "2023-01-31T17:00:25.899132Z",
     "iopub.status.busy": "2023-01-31T17:00:25.898792Z",
     "iopub.status.idle": "2023-01-31T17:00:25.912868Z",
     "shell.execute_reply": "2023-01-31T17:00:25.911742Z",
     "shell.execute_reply.started": "2023-01-31T17:00:25.899100Z"
    }
   },
   "outputs": [],
   "source": [
    "votes.dtypes"
   ]
  },
  {
   "cell_type": "markdown",
   "metadata": {},
   "source": [
    "Since our column has been converted to integer type  we can sort values"
   ]
  },
  {
   "cell_type": "code",
   "execution_count": null,
   "metadata": {
    "execution": {
     "iopub.execute_input": "2023-01-31T17:00:25.914796Z",
     "iopub.status.busy": "2023-01-31T17:00:25.914342Z",
     "iopub.status.idle": "2023-01-31T17:00:25.931843Z",
     "shell.execute_reply": "2023-01-31T17:00:25.930737Z",
     "shell.execute_reply.started": "2023-01-31T17:00:25.914751Z"
    }
   },
   "outputs": [],
   "source": [
    "# sort by total votes\n",
    "top_voted=votes.sort_values(by='votes',ascending=False).head(15)\n",
    "top_voted"
   ]
  },
  {
   "cell_type": "code",
   "execution_count": null,
   "metadata": {
    "execution": {
     "iopub.execute_input": "2023-01-31T17:00:25.935647Z",
     "iopub.status.busy": "2023-01-31T17:00:25.935024Z",
     "iopub.status.idle": "2023-01-31T17:00:26.222768Z",
     "shell.execute_reply": "2023-01-31T17:00:26.220875Z",
     "shell.execute_reply.started": "2023-01-31T17:00:25.935597Z"
    }
   },
   "outputs": [],
   "source": [
    "plt.figure(figsize=(10,6))\n",
    "sns.barplot(x=top_voted['votes'],y=top_voted['movie_name'])\n",
    "plt.title('Movies vs Voting',loc='left',fontdict={'family':'times new roman','size':20,'color':'blue'})\n",
    "plt.xlabel('No of Votes(10^6)',fontdict={'family':'times new roman','size':20,'color':'magenta'})\n",
    "plt.ylabel('Movie Name',fontdict={'family':'times new roman','size':20,'color':'magenta'})\n",
    "# plt.xticks(rotation=90)\n",
    "plt.show()"
   ]
  },
  {
   "cell_type": "markdown",
   "metadata": {},
   "source": [
    "### Gross Total"
   ]
  },
  {
   "cell_type": "code",
   "execution_count": null,
   "metadata": {
    "execution": {
     "iopub.execute_input": "2023-01-31T17:00:26.225135Z",
     "iopub.status.busy": "2023-01-31T17:00:26.224749Z",
     "iopub.status.idle": "2023-01-31T17:00:26.233709Z",
     "shell.execute_reply": "2023-01-31T17:00:26.231964Z",
     "shell.execute_reply.started": "2023-01-31T17:00:26.225105Z"
    }
   },
   "outputs": [],
   "source": [
    "# Movies with highest gross total\n",
    "\n",
    "gross=df[['movie_name','gross_total']]\n",
    "# first we need to convert column 'gross_total' to 'numeric' type\n",
    "gross['gross_total']=gross['gross_total'].str.strip('$M')"
   ]
  },
  {
   "cell_type": "code",
   "execution_count": null,
   "metadata": {
    "execution": {
     "iopub.execute_input": "2023-01-31T17:00:26.236630Z",
     "iopub.status.busy": "2023-01-31T17:00:26.235178Z",
     "iopub.status.idle": "2023-01-31T17:00:26.257212Z",
     "shell.execute_reply": "2023-01-31T17:00:26.255822Z",
     "shell.execute_reply.started": "2023-01-31T17:00:26.236588Z"
    }
   },
   "outputs": [],
   "source": [
    "gross['gross_total']=gross['gross_total'].astype(float)\n",
    "# gross = gross.astype({'gross_total':int})\n",
    "gross"
   ]
  },
  {
   "cell_type": "code",
   "execution_count": null,
   "metadata": {
    "execution": {
     "iopub.execute_input": "2023-01-31T17:00:26.259709Z",
     "iopub.status.busy": "2023-01-31T17:00:26.259306Z",
     "iopub.status.idle": "2023-01-31T17:00:26.759132Z",
     "shell.execute_reply": "2023-01-31T17:00:26.757773Z",
     "shell.execute_reply.started": "2023-01-31T17:00:26.259663Z"
    }
   },
   "outputs": [],
   "source": [
    "# sort values\n",
    "top_movies_by_gross=gross.sort_values(by='gross_total',ascending=False).head(15)\n",
    "name=top_movies_by_gross['movie_name']\n",
    "value=top_movies_by_gross['gross_total']\n",
    "\n",
    "# bar plot\n",
    "plt.figure(figsize=(12,7))\n",
    "sns.barplot(data=top_movies_by_gross,y=name,x=value)\n",
    "plt.title('Highest Earning Movies',fontdict={'family':'times new roman','size':20,'color':'blue'})\n",
    "plt.xlabel('Gross total in Million',fontdict={'family':'times new roman','size':20,'color':'magenta'})\n",
    "plt.ylabel('Movie Name',fontdict={'family':'times new roman','size':20,'color':'magenta'})\n",
    "plt.show()"
   ]
  },
  {
   "cell_type": "markdown",
   "metadata": {},
   "source": [
    "# This is the end of the Notebook,Thank you"
   ]
  }
 ],
 "metadata": {
  "kernelspec": {
   "display_name": "Python 3 (ipykernel)",
   "language": "python",
   "name": "python3"
  },
  "language_info": {
   "codemirror_mode": {
    "name": "ipython",
    "version": 3
   },
   "file_extension": ".py",
   "mimetype": "text/x-python",
   "name": "python",
   "nbconvert_exporter": "python",
   "pygments_lexer": "ipython3",
   "version": "3.9.16"
  }
 },
 "nbformat": 4,
 "nbformat_minor": 4
}

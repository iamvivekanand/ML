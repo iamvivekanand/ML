{
 "cells": [
  {
   "cell_type": "markdown",
   "id": "92224e28",
   "metadata": {},
   "source": [
    "### Matrix Program"
   ]
  },
  {
   "cell_type": "code",
   "execution_count": 1,
   "id": "d4145142",
   "metadata": {},
   "outputs": [],
   "source": [
    "# Program to add two Matrices"
   ]
  },
  {
   "cell_type": "code",
   "execution_count": null,
   "id": "2d8069e3",
   "metadata": {},
   "outputs": [],
   "source": []
  }
 ],
 "metadata": {
  "kernelspec": {
   "display_name": "Python 3 (ipykernel)",
   "language": "python",
   "name": "python3"
  },
  "language_info": {
   "codemirror_mode": {
    "name": "ipython",
    "version": 3
   },
   "file_extension": ".py",
   "mimetype": "text/x-python",
   "name": "python",
   "nbconvert_exporter": "python",
   "pygments_lexer": "ipython3",
   "version": "3.9.7"
  }
 },
 "nbformat": 4,
 "nbformat_minor": 5
}

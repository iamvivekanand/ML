{
 "cells": [
  {
   "cell_type": "markdown",
   "id": "c7d5de59",
   "metadata": {},
   "source": [
    "### Q&A Feature Selection"
   ]
  },
  {
   "cell_type": "code",
   "execution_count": 1,
   "id": "42d97541",
   "metadata": {},
   "outputs": [],
   "source": [
    "# What is a chi2 test used for?"
   ]
  },
  {
   "cell_type": "markdown",
   "id": "eb943dce",
   "metadata": {},
   "source": [
    "A chi-square test is a statistical test used to compare observed results with expected results. The purpose of this test is to determine if a difference between observed data and expected data is due to chance, or if it is due to a relationship between the variables you are studying"
   ]
  },
  {
   "cell_type": "code",
   "execution_count": 2,
   "id": "9d7f4d54",
   "metadata": {},
   "outputs": [],
   "source": [
    "# What is the chi-square (χ²) test in the context of machine learning?"
   ]
  },
  {
   "cell_type": "markdown",
   "id": "de0e1786",
   "metadata": {},
   "source": [
    "The chi-square test in machine learning is a statistical method used for testing relationships between categorical variables in a dataset. It helps determine whether there is a significant association between observed and expected frequencies within categorical data"
   ]
  },
  {
   "cell_type": "code",
   "execution_count": 3,
   "id": "f771a977",
   "metadata": {},
   "outputs": [],
   "source": [
    "# What are the key assumptions of the chi-square test?"
   ]
  },
  {
   "cell_type": "markdown",
   "id": "a944f090",
   "metadata": {},
   "source": [
    "- The observations are independent.\n",
    "- The variables are categorical and represent frequencies or counts.\n",
    "- The expected frequency count for each cell in the contingency table is greater than 5 (for reliable results)"
   ]
  },
  {
   "cell_type": "code",
   "execution_count": 4,
   "id": "5f196ca2",
   "metadata": {},
   "outputs": [],
   "source": [
    "# How is the chi-square statistic calculated, and what does it measure?"
   ]
  },
  {
   "cell_type": "markdown",
   "id": "c1e2610d",
   "metadata": {},
   "source": [
    "The chi-square statistic (χ²) is calculated as the sum of the squared differences between observed and expected frequencies, divided by the expected frequencies for each cell in a contingency table"
   ]
  },
  {
   "cell_type": "code",
   "execution_count": 5,
   "id": "49717bc0",
   "metadata": {},
   "outputs": [],
   "source": [
    "# What is the null hypothesis in the chi-square test?"
   ]
  },
  {
   "cell_type": "markdown",
   "id": "1ad9d8df",
   "metadata": {},
   "source": [
    "The null hypothesis (H₀) in the chi-square test states that there is no significant association between the categorical variables being studied. In other words, it assumes independence between the variables"
   ]
  },
  {
   "cell_type": "code",
   "execution_count": 6,
   "id": "be6430d6",
   "metadata": {},
   "outputs": [],
   "source": [
    "# How is the degree of freedom (df) determined in the chi-square test?"
   ]
  },
  {
   "cell_type": "markdown",
   "id": "7fdd36c1",
   "metadata": {},
   "source": [
    "The degree of freedom in a chi-square test is calculated based on the dimensions of the contingency table. For a 2x2 table, df = 1; for larger tables, df = (rows - 1) x (columns - 1). It affects the critical value of the chi-square statistic and helps determine the significance of the test."
   ]
  },
  {
   "cell_type": "code",
   "execution_count": 7,
   "id": "5a970e9a",
   "metadata": {},
   "outputs": [],
   "source": [
    "# When would you use the chi-square test in a machine learning project?"
   ]
  },
  {
   "cell_type": "markdown",
   "id": "5e295f40",
   "metadata": {},
   "source": [
    "Chi2 test is used to check independence of significance of features in a dataset, when both feature and target variable are categorical"
   ]
  },
  {
   "cell_type": "code",
   "execution_count": 8,
   "id": "0593a2f5",
   "metadata": {},
   "outputs": [],
   "source": [
    "# Can the chi-square test be applied to continuous variables?"
   ]
  },
  {
   "cell_type": "markdown",
   "id": "1a7bcc1d",
   "metadata": {},
   "source": [
    "No, the chi-square test is specifically designed for categorical variables and is not suitable for analyzing relationships between continuous variables. For continuous variables, other statistical tests such as **correlation analysis** or **regression analysis** are more appropriate."
   ]
  },
  {
   "cell_type": "code",
   "execution_count": 9,
   "id": "051361bd",
   "metadata": {},
   "outputs": [],
   "source": [
    "# Can chi-square be negative?"
   ]
  },
  {
   "cell_type": "markdown",
   "id": "4de0c8db",
   "metadata": {},
   "source": [
    "Since χ2 is the sum of a set of squared values, it can never be negative. The minimum chi squared value would be obtained if each Z = 0 so that χ2 would also be 0."
   ]
  },
  {
   "cell_type": "code",
   "execution_count": 10,
   "id": "53842980",
   "metadata": {},
   "outputs": [],
   "source": [
    "# What is information gain in machine learning?"
   ]
  },
  {
   "cell_type": "markdown",
   "id": "666407c8",
   "metadata": {},
   "source": [
    " measure of how much the entropy decreases or the uncertainty reduces when we use a particular feature to partition the dataset.\n",
    " \n",
    " i.e.\n",
    " Changes in the entropy after spliting a dataset"
   ]
  },
  {
   "cell_type": "code",
   "execution_count": 11,
   "id": "6cc08297",
   "metadata": {},
   "outputs": [],
   "source": [
    "# # what is the difference between dimensionality reduction and feature selection"
   ]
  },
  {
   "cell_type": "markdown",
   "id": "cf9e42db",
   "metadata": {},
   "source": [
    "The difference is that feature selection select features to keep or remove from the dataset, \n",
    "whereas dimensionality reduction create a projection of the data resulting in entirely new input features"
   ]
  },
  {
   "cell_type": "code",
   "execution_count": null,
   "id": "e50743d6",
   "metadata": {},
   "outputs": [],
   "source": []
  }
 ],
 "metadata": {
  "kernelspec": {
   "display_name": "Python 3 (ipykernel)",
   "language": "python",
   "name": "python3"
  },
  "language_info": {
   "codemirror_mode": {
    "name": "ipython",
    "version": 3
   },
   "file_extension": ".py",
   "mimetype": "text/x-python",
   "name": "python",
   "nbconvert_exporter": "python",
   "pygments_lexer": "ipython3",
   "version": "3.9.16"
  }
 },
 "nbformat": 4,
 "nbformat_minor": 5
}

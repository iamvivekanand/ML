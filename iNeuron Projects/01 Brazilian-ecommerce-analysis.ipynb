{
 "cells": [
  {
   "cell_type": "code",
   "execution_count": 1,
   "metadata": {
    "_cell_guid": "b1076dfc-b9ad-4769-8c92-a6c4dae69d19",
    "_uuid": "8f2839f25d086af736a60e9eeb907d3b93b6e0e5",
    "execution": {
     "iopub.execute_input": "2021-09-21T08:03:53.533013Z",
     "iopub.status.busy": "2021-09-21T08:03:53.531765Z",
     "iopub.status.idle": "2021-09-21T08:03:53.557096Z",
     "shell.execute_reply": "2021-09-21T08:03:53.557700Z",
     "shell.execute_reply.started": "2021-09-21T07:44:12.520117Z"
    },
    "papermill": {
     "duration": 0.08208,
     "end_time": "2021-09-21T08:03:53.557999",
     "exception": false,
     "start_time": "2021-09-21T08:03:53.475919",
     "status": "completed"
    },
    "tags": []
   },
   "outputs": [
    {
     "name": "stdout",
     "output_type": "stream",
     "text": [
      "/kaggle/input/brazilian-ecommerce/olist_customers_dataset.csv\n",
      "/kaggle/input/brazilian-ecommerce/olist_sellers_dataset.csv\n",
      "/kaggle/input/brazilian-ecommerce/olist_order_reviews_dataset.csv\n",
      "/kaggle/input/brazilian-ecommerce/olist_order_items_dataset.csv\n",
      "/kaggle/input/brazilian-ecommerce/olist_products_dataset.csv\n",
      "/kaggle/input/brazilian-ecommerce/olist_geolocation_dataset.csv\n",
      "/kaggle/input/brazilian-ecommerce/product_category_name_translation.csv\n",
      "/kaggle/input/brazilian-ecommerce/olist_orders_dataset.csv\n",
      "/kaggle/input/brazilian-ecommerce/olist_order_payments_dataset.csv\n"
     ]
    }
   ],
   "source": [
    "# This Python 3 environment comes with many helpful analytics libraries installed\n",
    "# It is defined by the kaggle/python Docker image: https://github.com/kaggle/docker-python\n",
    "# For example, here's several helpful packages to load\n",
    "\n",
    "import numpy as np # linear algebra\n",
    "import pandas as pd # data processing, CSV file I/O (e.g. pd.read_csv)\n",
    "\n",
    "# Input data files are available in the read-only \"../input/\" directory\n",
    "# For example, running this (by clicking run or pressing Shift+Enter) will list all files under the input directory\n",
    "\n",
    "import os\n",
    "for dirname, _, filenames in os.walk('/kaggle/input'):\n",
    "    for filename in filenames:\n",
    "        print(os.path.join(dirname, filename))\n",
    "\n",
    "# You can write up to 20GB to the current directory (/kaggle/working/) that gets preserved as output when you create a version using \"Save & Run All\" \n",
    "# You can also write temporary files to /kaggle/temp/, but they won't be saved outside of the current session"
   ]
  },
  {
   "cell_type": "code",
   "execution_count": 2,
   "metadata": {
    "execution": {
     "iopub.execute_input": "2021-09-21T08:03:53.673863Z",
     "iopub.status.busy": "2021-09-21T08:03:53.673177Z",
     "iopub.status.idle": "2021-09-21T08:03:54.528509Z",
     "shell.execute_reply": "2021-09-21T08:03:54.527355Z",
     "shell.execute_reply.started": "2021-09-21T07:44:12.555615Z"
    },
    "papermill": {
     "duration": 0.919282,
     "end_time": "2021-09-21T08:03:54.528666",
     "exception": false,
     "start_time": "2021-09-21T08:03:53.609384",
     "status": "completed"
    },
    "tags": []
   },
   "outputs": [],
   "source": [
    "# importing libraries\n",
    "import pandas as pd\n",
    "import numpy as np\n",
    "import seaborn as sns\n",
    "import matplotlib.pyplot as plt"
   ]
  },
  {
   "cell_type": "code",
   "execution_count": 3,
   "metadata": {
    "execution": {
     "iopub.execute_input": "2021-09-21T08:03:54.638418Z",
     "iopub.status.busy": "2021-09-21T08:03:54.637695Z",
     "iopub.status.idle": "2021-09-21T08:03:56.229053Z",
     "shell.execute_reply": "2021-09-21T08:03:56.228293Z",
     "shell.execute_reply.started": "2021-09-21T07:44:13.419661Z"
    },
    "papermill": {
     "duration": 1.648719,
     "end_time": "2021-09-21T08:03:56.229234",
     "exception": false,
     "start_time": "2021-09-21T08:03:54.580515",
     "status": "completed"
    },
    "tags": []
   },
   "outputs": [],
   "source": [
    "# loading datasets\n",
    "customers=pd.read_csv('/kaggle/input/brazilian-ecommerce/olist_customers_dataset.csv')\n",
    "sellers=pd.read_csv('/kaggle/input/brazilian-ecommerce/olist_sellers_dataset.csv')\n",
    "order_reviews=pd.read_csv('/kaggle/input/brazilian-ecommerce/olist_order_reviews_dataset.csv')\n",
    "order_items=pd.read_csv('/kaggle/input/brazilian-ecommerce/olist_order_items_dataset.csv')\n",
    "products=pd.read_csv('/kaggle/input/brazilian-ecommerce/olist_products_dataset.csv')"
   ]
  },
  {
   "cell_type": "code",
   "execution_count": 4,
   "metadata": {
    "execution": {
     "iopub.execute_input": "2021-09-21T08:03:56.332561Z",
     "iopub.status.busy": "2021-09-21T08:03:56.331913Z",
     "iopub.status.idle": "2021-09-21T08:03:58.625662Z",
     "shell.execute_reply": "2021-09-21T08:03:58.624671Z",
     "shell.execute_reply.started": "2021-09-21T07:44:14.995277Z"
    },
    "papermill": {
     "duration": 2.34641,
     "end_time": "2021-09-21T08:03:58.625813",
     "exception": false,
     "start_time": "2021-09-21T08:03:56.279403",
     "status": "completed"
    },
    "tags": []
   },
   "outputs": [],
   "source": [
    "geolocation = pd.read_csv('/kaggle/input/brazilian-ecommerce/olist_geolocation_dataset.csv')\n",
    "product_category = pd.read_csv('/kaggle/input/brazilian-ecommerce/product_category_name_translation.csv')\n",
    "orders = pd.read_csv('/kaggle/input/brazilian-ecommerce/olist_orders_dataset.csv')\n",
    "payments = pd.read_csv('/kaggle/input/brazilian-ecommerce/olist_order_payments_dataset.csv')"
   ]
  },
  {
   "cell_type": "code",
   "execution_count": 5,
   "metadata": {
    "execution": {
     "iopub.execute_input": "2021-09-21T08:03:58.731623Z",
     "iopub.status.busy": "2021-09-21T08:03:58.730828Z",
     "iopub.status.idle": "2021-09-21T08:03:58.732672Z",
     "shell.execute_reply": "2021-09-21T08:03:58.733116Z",
     "shell.execute_reply.started": "2021-09-21T07:57:39.050231Z"
    },
    "papermill": {
     "duration": 0.056217,
     "end_time": "2021-09-21T08:03:58.733299",
     "exception": false,
     "start_time": "2021-09-21T08:03:58.677082",
     "status": "completed"
    },
    "tags": []
   },
   "outputs": [],
   "source": [
    "# storing all datasets as a list for future reference\n",
    "\n",
    "list_of_all_datasets=['customers','sellers','order_reviews','order_items','products','geolocation','product_category','orders','payments']"
   ]
  },
  {
   "cell_type": "markdown",
   "metadata": {
    "papermill": {
     "duration": 0.049213,
     "end_time": "2021-09-21T08:03:58.832375",
     "exception": false,
     "start_time": "2021-09-21T08:03:58.783162",
     "status": "completed"
    },
    "tags": []
   },
   "source": [
    "### Analysis of Customers Data"
   ]
  },
  {
   "cell_type": "code",
   "execution_count": 6,
   "metadata": {
    "execution": {
     "iopub.execute_input": "2021-09-21T08:03:58.935304Z",
     "iopub.status.busy": "2021-09-21T08:03:58.934616Z",
     "iopub.status.idle": "2021-09-21T08:03:58.954121Z",
     "shell.execute_reply": "2021-09-21T08:03:58.954632Z",
     "shell.execute_reply.started": "2021-09-21T07:44:17.215007Z"
    },
    "papermill": {
     "duration": 0.072635,
     "end_time": "2021-09-21T08:03:58.954796",
     "exception": false,
     "start_time": "2021-09-21T08:03:58.882161",
     "status": "completed"
    },
    "tags": []
   },
   "outputs": [
    {
     "data": {
      "text/html": [
       "<div>\n",
       "<style scoped>\n",
       "    .dataframe tbody tr th:only-of-type {\n",
       "        vertical-align: middle;\n",
       "    }\n",
       "\n",
       "    .dataframe tbody tr th {\n",
       "        vertical-align: top;\n",
       "    }\n",
       "\n",
       "    .dataframe thead th {\n",
       "        text-align: right;\n",
       "    }\n",
       "</style>\n",
       "<table border=\"1\" class=\"dataframe\">\n",
       "  <thead>\n",
       "    <tr style=\"text-align: right;\">\n",
       "      <th></th>\n",
       "      <th>customer_id</th>\n",
       "      <th>customer_unique_id</th>\n",
       "      <th>customer_zip_code_prefix</th>\n",
       "      <th>customer_city</th>\n",
       "      <th>customer_state</th>\n",
       "    </tr>\n",
       "  </thead>\n",
       "  <tbody>\n",
       "    <tr>\n",
       "      <th>0</th>\n",
       "      <td>06b8999e2fba1a1fbc88172c00ba8bc7</td>\n",
       "      <td>861eff4711a542e4b93843c6dd7febb0</td>\n",
       "      <td>14409</td>\n",
       "      <td>franca</td>\n",
       "      <td>SP</td>\n",
       "    </tr>\n",
       "    <tr>\n",
       "      <th>1</th>\n",
       "      <td>18955e83d337fd6b2def6b18a428ac77</td>\n",
       "      <td>290c77bc529b7ac935b93aa66c333dc3</td>\n",
       "      <td>9790</td>\n",
       "      <td>sao bernardo do campo</td>\n",
       "      <td>SP</td>\n",
       "    </tr>\n",
       "    <tr>\n",
       "      <th>2</th>\n",
       "      <td>4e7b3e00288586ebd08712fdd0374a03</td>\n",
       "      <td>060e732b5b29e8181a18229c7b0b2b5e</td>\n",
       "      <td>1151</td>\n",
       "      <td>sao paulo</td>\n",
       "      <td>SP</td>\n",
       "    </tr>\n",
       "    <tr>\n",
       "      <th>3</th>\n",
       "      <td>b2b6027bc5c5109e529d4dc6358b12c3</td>\n",
       "      <td>259dac757896d24d7702b9acbbff3f3c</td>\n",
       "      <td>8775</td>\n",
       "      <td>mogi das cruzes</td>\n",
       "      <td>SP</td>\n",
       "    </tr>\n",
       "    <tr>\n",
       "      <th>4</th>\n",
       "      <td>4f2d8ab171c80ec8364f7c12e35b23ad</td>\n",
       "      <td>345ecd01c38d18a9036ed96c73b8d066</td>\n",
       "      <td>13056</td>\n",
       "      <td>campinas</td>\n",
       "      <td>SP</td>\n",
       "    </tr>\n",
       "  </tbody>\n",
       "</table>\n",
       "</div>"
      ],
      "text/plain": [
       "                        customer_id                customer_unique_id  \\\n",
       "0  06b8999e2fba1a1fbc88172c00ba8bc7  861eff4711a542e4b93843c6dd7febb0   \n",
       "1  18955e83d337fd6b2def6b18a428ac77  290c77bc529b7ac935b93aa66c333dc3   \n",
       "2  4e7b3e00288586ebd08712fdd0374a03  060e732b5b29e8181a18229c7b0b2b5e   \n",
       "3  b2b6027bc5c5109e529d4dc6358b12c3  259dac757896d24d7702b9acbbff3f3c   \n",
       "4  4f2d8ab171c80ec8364f7c12e35b23ad  345ecd01c38d18a9036ed96c73b8d066   \n",
       "\n",
       "   customer_zip_code_prefix          customer_city customer_state  \n",
       "0                     14409                 franca             SP  \n",
       "1                      9790  sao bernardo do campo             SP  \n",
       "2                      1151              sao paulo             SP  \n",
       "3                      8775        mogi das cruzes             SP  \n",
       "4                     13056               campinas             SP  "
      ]
     },
     "execution_count": 6,
     "metadata": {},
     "output_type": "execute_result"
    }
   ],
   "source": [
    "# print top 5 values\n",
    "customers.head(5)"
   ]
  },
  {
   "cell_type": "code",
   "execution_count": 7,
   "metadata": {
    "execution": {
     "iopub.execute_input": "2021-09-21T08:03:59.061688Z",
     "iopub.status.busy": "2021-09-21T08:03:59.060883Z",
     "iopub.status.idle": "2021-09-21T08:03:59.064597Z",
     "shell.execute_reply": "2021-09-21T08:03:59.064040Z",
     "shell.execute_reply.started": "2021-09-21T07:44:17.236890Z"
    },
    "papermill": {
     "duration": 0.059708,
     "end_time": "2021-09-21T08:03:59.064739",
     "exception": false,
     "start_time": "2021-09-21T08:03:59.005031",
     "status": "completed"
    },
    "tags": []
   },
   "outputs": [
    {
     "data": {
      "text/plain": [
       "(99441, 5)"
      ]
     },
     "execution_count": 7,
     "metadata": {},
     "output_type": "execute_result"
    }
   ],
   "source": [
    "customers.shape"
   ]
  },
  {
   "cell_type": "code",
   "execution_count": 8,
   "metadata": {
    "execution": {
     "iopub.execute_input": "2021-09-21T08:03:59.215238Z",
     "iopub.status.busy": "2021-09-21T08:03:59.171788Z",
     "iopub.status.idle": "2021-09-21T08:03:59.222099Z",
     "shell.execute_reply": "2021-09-21T08:03:59.222622Z",
     "shell.execute_reply.started": "2021-09-21T07:44:17.244088Z"
    },
    "papermill": {
     "duration": 0.106081,
     "end_time": "2021-09-21T08:03:59.222794",
     "exception": false,
     "start_time": "2021-09-21T08:03:59.116713",
     "status": "completed"
    },
    "tags": []
   },
   "outputs": [
    {
     "data": {
      "text/plain": [
       "customer_id                 0\n",
       "customer_unique_id          0\n",
       "customer_zip_code_prefix    0\n",
       "customer_city               0\n",
       "customer_state              0\n",
       "dtype: int64"
      ]
     },
     "execution_count": 8,
     "metadata": {},
     "output_type": "execute_result"
    }
   ],
   "source": [
    "customers.isnull().sum()"
   ]
  },
  {
   "cell_type": "raw",
   "metadata": {
    "papermill": {
     "duration": 0.050636,
     "end_time": "2021-09-21T08:03:59.325029",
     "exception": false,
     "start_time": "2021-09-21T08:03:59.274393",
     "status": "completed"
    },
    "tags": []
   },
   "source": [
    "We can see that there is no null value in Customers dataset"
   ]
  },
  {
   "cell_type": "raw",
   "metadata": {
    "papermill": {
     "duration": 0.050554,
     "end_time": "2021-09-21T08:03:59.426435",
     "exception": false,
     "start_time": "2021-09-21T08:03:59.375881",
     "status": "completed"
    },
    "tags": []
   },
   "source": [
    "Now, we will try to find no of unique states and city from the Customers Dataset"
   ]
  },
  {
   "cell_type": "code",
   "execution_count": 9,
   "metadata": {
    "execution": {
     "iopub.execute_input": "2021-09-21T08:03:59.531043Z",
     "iopub.status.busy": "2021-09-21T08:03:59.530408Z",
     "iopub.status.idle": "2021-09-21T08:03:59.552176Z",
     "shell.execute_reply": "2021-09-21T08:03:59.551562Z",
     "shell.execute_reply.started": "2021-09-21T07:44:17.303436Z"
    },
    "papermill": {
     "duration": 0.075269,
     "end_time": "2021-09-21T08:03:59.552327",
     "exception": false,
     "start_time": "2021-09-21T08:03:59.477058",
     "status": "completed"
    },
    "tags": []
   },
   "outputs": [
    {
     "data": {
      "text/plain": [
       "array(['franca', 'sao bernardo do campo', 'sao paulo', ...,\n",
       "       'monte bonito', 'sao rafael', 'eugenio de castro'], dtype=object)"
      ]
     },
     "execution_count": 9,
     "metadata": {},
     "output_type": "execute_result"
    }
   ],
   "source": [
    "customers.customer_city.unique()"
   ]
  },
  {
   "cell_type": "code",
   "execution_count": 10,
   "metadata": {
    "execution": {
     "iopub.execute_input": "2021-09-21T08:03:59.658175Z",
     "iopub.status.busy": "2021-09-21T08:03:59.657516Z",
     "iopub.status.idle": "2021-09-21T08:03:59.673283Z",
     "shell.execute_reply": "2021-09-21T08:03:59.672758Z",
     "shell.execute_reply.started": "2021-09-21T07:44:17.329487Z"
    },
    "papermill": {
     "duration": 0.069756,
     "end_time": "2021-09-21T08:03:59.673419",
     "exception": false,
     "start_time": "2021-09-21T08:03:59.603663",
     "status": "completed"
    },
    "tags": []
   },
   "outputs": [
    {
     "data": {
      "text/plain": [
       "4119"
      ]
     },
     "execution_count": 10,
     "metadata": {},
     "output_type": "execute_result"
    }
   ],
   "source": [
    "len(customers.customer_city.unique())"
   ]
  },
  {
   "cell_type": "raw",
   "metadata": {
    "papermill": {
     "duration": 0.051134,
     "end_time": "2021-09-21T08:03:59.776533",
     "exception": false,
     "start_time": "2021-09-21T08:03:59.725399",
     "status": "completed"
    },
    "tags": []
   },
   "source": [
    "There are total 4119 different Cities from where Customers visit"
   ]
  },
  {
   "cell_type": "code",
   "execution_count": 11,
   "metadata": {
    "execution": {
     "iopub.execute_input": "2021-09-21T08:03:59.891254Z",
     "iopub.status.busy": "2021-09-21T08:03:59.890579Z",
     "iopub.status.idle": "2021-09-21T08:03:59.896307Z",
     "shell.execute_reply": "2021-09-21T08:03:59.895777Z",
     "shell.execute_reply.started": "2021-09-21T07:44:17.346216Z"
    },
    "papermill": {
     "duration": 0.067843,
     "end_time": "2021-09-21T08:03:59.896446",
     "exception": false,
     "start_time": "2021-09-21T08:03:59.828603",
     "status": "completed"
    },
    "tags": []
   },
   "outputs": [
    {
     "data": {
      "text/plain": [
       "array(['SP', 'SC', 'MG', 'PR', 'RJ', 'RS', 'PA', 'GO', 'ES', 'BA', 'MA',\n",
       "       'MS', 'CE', 'DF', 'RN', 'PE', 'MT', 'AM', 'AP', 'AL', 'RO', 'PB',\n",
       "       'TO', 'PI', 'AC', 'SE', 'RR'], dtype=object)"
      ]
     },
     "execution_count": 11,
     "metadata": {},
     "output_type": "execute_result"
    }
   ],
   "source": [
    "customers.customer_state.unique()"
   ]
  },
  {
   "cell_type": "code",
   "execution_count": 12,
   "metadata": {
    "execution": {
     "iopub.execute_input": "2021-09-21T08:04:00.004691Z",
     "iopub.status.busy": "2021-09-21T08:04:00.003930Z",
     "iopub.status.idle": "2021-09-21T08:04:00.017239Z",
     "shell.execute_reply": "2021-09-21T08:04:00.016727Z",
     "shell.execute_reply.started": "2021-09-21T07:44:17.365716Z"
    },
    "papermill": {
     "duration": 0.068783,
     "end_time": "2021-09-21T08:04:00.017384",
     "exception": false,
     "start_time": "2021-09-21T08:03:59.948601",
     "status": "completed"
    },
    "tags": []
   },
   "outputs": [
    {
     "data": {
      "text/plain": [
       "27"
      ]
     },
     "execution_count": 12,
     "metadata": {},
     "output_type": "execute_result"
    }
   ],
   "source": [
    "len(customers.customer_state.unique())"
   ]
  },
  {
   "cell_type": "raw",
   "metadata": {
    "papermill": {
     "duration": 0.053233,
     "end_time": "2021-09-21T08:04:00.123096",
     "exception": false,
     "start_time": "2021-09-21T08:04:00.069863",
     "status": "completed"
    },
    "tags": []
   },
   "source": [
    "There are total 27 different states"
   ]
  },
  {
   "cell_type": "markdown",
   "metadata": {
    "papermill": {
     "duration": 0.051943,
     "end_time": "2021-09-21T08:04:00.228086",
     "exception": false,
     "start_time": "2021-09-21T08:04:00.176143",
     "status": "completed"
    },
    "tags": []
   },
   "source": [
    "### Visualisation of Customer Dataset"
   ]
  },
  {
   "cell_type": "code",
   "execution_count": 13,
   "metadata": {
    "execution": {
     "iopub.execute_input": "2021-09-21T08:04:00.341021Z",
     "iopub.status.busy": "2021-09-21T08:04:00.337101Z",
     "iopub.status.idle": "2021-09-21T08:04:00.795440Z",
     "shell.execute_reply": "2021-09-21T08:04:00.794927Z",
     "shell.execute_reply.started": "2021-09-21T07:44:17.381659Z"
    },
    "papermill": {
     "duration": 0.51511,
     "end_time": "2021-09-21T08:04:00.795579",
     "exception": false,
     "start_time": "2021-09-21T08:04:00.280469",
     "status": "completed"
    },
    "tags": []
   },
   "outputs": [
    {
     "data": {
      "image/png": "[encoded data removed]",
      "text/plain": [
       "<Figure size 936x504 with 1 Axes>"
      ]
     },
     "metadata": {
      "needs_background": "light"
     },
     "output_type": "display_data"
    }
   ],
   "source": [
    "plt.figure(figsize=(13,7))\n",
    "sns.histplot(x=customers['customer_state'],data=customers,color='blue')\n",
    "plt.show()"
   ]
  },
  {
   "cell_type": "raw",
   "metadata": {
    "papermill": {
     "duration": 0.05324,
     "end_time": "2021-09-21T08:04:00.902460",
     "exception": false,
     "start_time": "2021-09-21T08:04:00.849220",
     "status": "completed"
    },
    "tags": []
   },
   "source": [
    "From above histogram, we can see that most numbers of customer are from SP (Sao Paul) state,followed by Rj (Rio de Janeiro) state."
   ]
  },
  {
   "cell_type": "code",
   "execution_count": 14,
   "metadata": {
    "execution": {
     "iopub.execute_input": "2021-09-21T08:04:01.027377Z",
     "iopub.status.busy": "2021-09-21T08:04:01.026694Z",
     "iopub.status.idle": "2021-09-21T08:04:01.037147Z",
     "shell.execute_reply": "2021-09-21T08:04:01.036531Z",
     "shell.execute_reply.started": "2021-09-21T07:44:17.837120Z"
    },
    "papermill": {
     "duration": 0.081176,
     "end_time": "2021-09-21T08:04:01.037302",
     "exception": false,
     "start_time": "2021-09-21T08:04:00.956126",
     "status": "completed"
    },
    "tags": []
   },
   "outputs": [
    {
     "data": {
      "text/plain": [
       "sao paulo                15540\n",
       "rio de janeiro            6882\n",
       "belo horizonte            2773\n",
       "brasilia                  2131\n",
       "curitiba                  1521\n",
       "campinas                  1444\n",
       "porto alegre              1379\n",
       "salvador                  1245\n",
       "guarulhos                 1189\n",
       "sao bernardo do campo      938\n",
       "Name: customer_city, dtype: int64"
      ]
     },
     "execution_count": 14,
     "metadata": {},
     "output_type": "execute_result"
    }
   ],
   "source": [
    "top_10_cities=customers['customer_city'].value_counts().nlargest(10)\n",
    "top_10_cities"
   ]
  },
  {
   "cell_type": "code",
   "execution_count": 15,
   "metadata": {
    "execution": {
     "iopub.execute_input": "2021-09-21T08:04:01.165013Z",
     "iopub.status.busy": "2021-09-21T08:04:01.164322Z",
     "iopub.status.idle": "2021-09-21T08:04:01.170451Z",
     "shell.execute_reply": "2021-09-21T08:04:01.170941Z",
     "shell.execute_reply.started": "2021-09-21T07:44:17.862308Z"
    },
    "papermill": {
     "duration": 0.079804,
     "end_time": "2021-09-21T08:04:01.171120",
     "exception": false,
     "start_time": "2021-09-21T08:04:01.091316",
     "status": "completed"
    },
    "tags": []
   },
   "outputs": [
    {
     "data": {
      "text/plain": [
       "eugenio de castro     1\n",
       "monteiropolis         1\n",
       "campo florido         1\n",
       "alto sao joao         1\n",
       "paulistania           1\n",
       "taquarana             1\n",
       "castanheiras          1\n",
       "humberto de campos    1\n",
       "nova brescia          1\n",
       "chaval                1\n",
       "curralinho            1\n",
       "tocos do moji         1\n",
       "marilac               1\n",
       "rio doce              1\n",
       "chiapetta             1\n",
       "tapera                1\n",
       "suzanapolis           1\n",
       "monte belo do sul     1\n",
       "lagoa do piaui        1\n",
       "riversul              1\n",
       "Name: customer_city, dtype: int64"
      ]
     },
     "execution_count": 15,
     "metadata": {},
     "output_type": "execute_result"
    }
   ],
   "source": [
    "cities=customers['customer_city'].value_counts(ascending=True)\n",
    "cities[0:20]"
   ]
  },
  {
   "cell_type": "raw",
   "metadata": {
    "papermill": {
     "duration": 0.054181,
     "end_time": "2021-09-21T08:04:01.279248",
     "exception": false,
     "start_time": "2021-09-21T08:04:01.225067",
     "status": "completed"
    },
    "tags": []
   },
   "source": [
    "We can see that there are so many cites with count 1, they can be said to be city with least customers"
   ]
  },
  {
   "cell_type": "code",
   "execution_count": 16,
   "metadata": {
    "execution": {
     "iopub.execute_input": "2021-09-21T08:04:01.391629Z",
     "iopub.status.busy": "2021-09-21T08:04:01.390965Z",
     "iopub.status.idle": "2021-09-21T08:04:01.453446Z",
     "shell.execute_reply": "2021-09-21T08:04:01.453932Z",
     "shell.execute_reply.started": "2021-09-21T07:44:17.883269Z"
    },
    "papermill": {
     "duration": 0.120442,
     "end_time": "2021-09-21T08:04:01.454134",
     "exception": false,
     "start_time": "2021-09-21T08:04:01.333692",
     "status": "completed"
    },
    "tags": []
   },
   "outputs": [],
   "source": [
    "city_df=customers.groupby('customer_city').count()['customer_id'].reset_index()"
   ]
  },
  {
   "cell_type": "code",
   "execution_count": 17,
   "metadata": {
    "execution": {
     "iopub.execute_input": "2021-09-21T08:04:01.566056Z",
     "iopub.status.busy": "2021-09-21T08:04:01.565452Z",
     "iopub.status.idle": "2021-09-21T08:04:01.817423Z",
     "shell.execute_reply": "2021-09-21T08:04:01.817927Z",
     "shell.execute_reply.started": "2021-09-21T07:44:17.950796Z"
    },
    "papermill": {
     "duration": 0.30981,
     "end_time": "2021-09-21T08:04:01.818100",
     "exception": false,
     "start_time": "2021-09-21T08:04:01.508290",
     "status": "completed"
    },
    "tags": []
   },
   "outputs": [
    {
     "data": {
      "text/plain": [
       "Text(0, 0.5, 'Number of Customers')"
      ]
     },
     "execution_count": 17,
     "metadata": {},
     "output_type": "execute_result"
    },
    {
     "data": {
      "image/png": "[encoded data removed]",
      "text/plain": [
       "<Figure size 432x288 with 1 Axes>"
      ]
     },
     "metadata": {
      "needs_background": "light"
     },
     "output_type": "display_data"
    }
   ],
   "source": [
    "sns.barplot(data = city_df.sort_values('customer_id', ascending = False).nlargest(10,'customer_id'), x = 'customer_id', \n",
    "            y = 'customer_city',)\n",
    "plt.title('Cities with the Most Customers')\n",
    "plt.xlabel('City')\n",
    "plt.ylabel('Number of Customers')"
   ]
  },
  {
   "cell_type": "raw",
   "metadata": {
    "papermill": {
     "duration": 0.065018,
     "end_time": "2021-09-21T08:04:01.938515",
     "exception": false,
     "start_time": "2021-09-21T08:04:01.873497",
     "status": "completed"
    },
    "tags": []
   },
   "source": [
    "Again the city with most no of customers is Sao Paulo, followed by rio de janeiro"
   ]
  },
  {
   "cell_type": "markdown",
   "metadata": {
    "papermill": {
     "duration": 0.067838,
     "end_time": "2021-09-21T08:04:02.074689",
     "exception": false,
     "start_time": "2021-09-21T08:04:02.006851",
     "status": "completed"
    },
    "tags": []
   },
   "source": [
    "### Analyis of products and items"
   ]
  },
  {
   "cell_type": "code",
   "execution_count": 18,
   "metadata": {
    "execution": {
     "iopub.execute_input": "2021-09-21T08:04:02.230582Z",
     "iopub.status.busy": "2021-09-21T08:04:02.229798Z",
     "iopub.status.idle": "2021-09-21T08:04:02.233442Z",
     "shell.execute_reply": "2021-09-21T08:04:02.232912Z",
     "shell.execute_reply.started": "2021-09-21T07:44:18.199201Z"
    },
    "papermill": {
     "duration": 0.090702,
     "end_time": "2021-09-21T08:04:02.233580",
     "exception": false,
     "start_time": "2021-09-21T08:04:02.142878",
     "status": "completed"
    },
    "tags": []
   },
   "outputs": [
    {
     "data": {
      "text/html": [
       "<div>\n",
       "<style scoped>\n",
       "    .dataframe tbody tr th:only-of-type {\n",
       "        vertical-align: middle;\n",
       "    }\n",
       "\n",
       "    .dataframe tbody tr th {\n",
       "        vertical-align: top;\n",
       "    }\n",
       "\n",
       "    .dataframe thead th {\n",
       "        text-align: right;\n",
       "    }\n",
       "</style>\n",
       "<table border=\"1\" class=\"dataframe\">\n",
       "  <thead>\n",
       "    <tr style=\"text-align: right;\">\n",
       "      <th></th>\n",
       "      <th>product_id</th>\n",
       "      <th>product_category_name</th>\n",
       "      <th>product_name_lenght</th>\n",
       "      <th>product_description_lenght</th>\n",
       "      <th>product_photos_qty</th>\n",
       "      <th>product_weight_g</th>\n",
       "      <th>product_length_cm</th>\n",
       "      <th>product_height_cm</th>\n",
       "      <th>product_width_cm</th>\n",
       "    </tr>\n",
       "  </thead>\n",
       "  <tbody>\n",
       "    <tr>\n",
       "      <th>0</th>\n",
       "      <td>1e9e8ef04dbcff4541ed26657ea517e5</td>\n",
       "      <td>perfumaria</td>\n",
       "      <td>40.0</td>\n",
       "      <td>287.0</td>\n",
       "      <td>1.0</td>\n",
       "      <td>225.0</td>\n",
       "      <td>16.0</td>\n",
       "      <td>10.0</td>\n",
       "      <td>14.0</td>\n",
       "    </tr>\n",
       "    <tr>\n",
       "      <th>1</th>\n",
       "      <td>3aa071139cb16b67ca9e5dea641aaa2f</td>\n",
       "      <td>artes</td>\n",
       "      <td>44.0</td>\n",
       "      <td>276.0</td>\n",
       "      <td>1.0</td>\n",
       "      <td>1000.0</td>\n",
       "      <td>30.0</td>\n",
       "      <td>18.0</td>\n",
       "      <td>20.0</td>\n",
       "    </tr>\n",
       "    <tr>\n",
       "      <th>2</th>\n",
       "      <td>96bd76ec8810374ed1b65e291975717f</td>\n",
       "      <td>esporte_lazer</td>\n",
       "      <td>46.0</td>\n",
       "      <td>250.0</td>\n",
       "      <td>1.0</td>\n",
       "      <td>154.0</td>\n",
       "      <td>18.0</td>\n",
       "      <td>9.0</td>\n",
       "      <td>15.0</td>\n",
       "    </tr>\n",
       "    <tr>\n",
       "      <th>3</th>\n",
       "      <td>cef67bcfe19066a932b7673e239eb23d</td>\n",
       "      <td>bebes</td>\n",
       "      <td>27.0</td>\n",
       "      <td>261.0</td>\n",
       "      <td>1.0</td>\n",
       "      <td>371.0</td>\n",
       "      <td>26.0</td>\n",
       "      <td>4.0</td>\n",
       "      <td>26.0</td>\n",
       "    </tr>\n",
       "    <tr>\n",
       "      <th>4</th>\n",
       "      <td>9dc1a7de274444849c219cff195d0b71</td>\n",
       "      <td>utilidades_domesticas</td>\n",
       "      <td>37.0</td>\n",
       "      <td>402.0</td>\n",
       "      <td>4.0</td>\n",
       "      <td>625.0</td>\n",
       "      <td>20.0</td>\n",
       "      <td>17.0</td>\n",
       "      <td>13.0</td>\n",
       "    </tr>\n",
       "  </tbody>\n",
       "</table>\n",
       "</div>"
      ],
      "text/plain": [
       "                         product_id  product_category_name  \\\n",
       "0  1e9e8ef04dbcff4541ed26657ea517e5             perfumaria   \n",
       "1  3aa071139cb16b67ca9e5dea641aaa2f                  artes   \n",
       "2  96bd76ec8810374ed1b65e291975717f          esporte_lazer   \n",
       "3  cef67bcfe19066a932b7673e239eb23d                  bebes   \n",
       "4  9dc1a7de274444849c219cff195d0b71  utilidades_domesticas   \n",
       "\n",
       "   product_name_lenght  product_description_lenght  product_photos_qty  \\\n",
       "0                 40.0                       287.0                 1.0   \n",
       "1                 44.0                       276.0                 1.0   \n",
       "2                 46.0                       250.0                 1.0   \n",
       "3                 27.0                       261.0                 1.0   \n",
       "4                 37.0                       402.0                 4.0   \n",
       "\n",
       "   product_weight_g  product_length_cm  product_height_cm  product_width_cm  \n",
       "0             225.0               16.0               10.0              14.0  \n",
       "1            1000.0               30.0               18.0              20.0  \n",
       "2             154.0               18.0                9.0              15.0  \n",
       "3             371.0               26.0                4.0              26.0  \n",
       "4             625.0               20.0               17.0              13.0  "
      ]
     },
     "execution_count": 18,
     "metadata": {},
     "output_type": "execute_result"
    }
   ],
   "source": [
    "products.head()"
   ]
  },
  {
   "cell_type": "code",
   "execution_count": 19,
   "metadata": {
    "execution": {
     "iopub.execute_input": "2021-09-21T08:04:02.358949Z",
     "iopub.status.busy": "2021-09-21T08:04:02.358321Z",
     "iopub.status.idle": "2021-09-21T08:04:02.360854Z",
     "shell.execute_reply": "2021-09-21T08:04:02.361339Z",
     "shell.execute_reply.started": "2021-09-21T07:44:18.219537Z"
    },
    "papermill": {
     "duration": 0.072414,
     "end_time": "2021-09-21T08:04:02.361525",
     "exception": false,
     "start_time": "2021-09-21T08:04:02.289111",
     "status": "completed"
    },
    "tags": []
   },
   "outputs": [
    {
     "data": {
      "text/html": [
       "<div>\n",
       "<style scoped>\n",
       "    .dataframe tbody tr th:only-of-type {\n",
       "        vertical-align: middle;\n",
       "    }\n",
       "\n",
       "    .dataframe tbody tr th {\n",
       "        vertical-align: top;\n",
       "    }\n",
       "\n",
       "    .dataframe thead th {\n",
       "        text-align: right;\n",
       "    }\n",
       "</style>\n",
       "<table border=\"1\" class=\"dataframe\">\n",
       "  <thead>\n",
       "    <tr style=\"text-align: right;\">\n",
       "      <th></th>\n",
       "      <th>order_id</th>\n",
       "      <th>order_item_id</th>\n",
       "      <th>product_id</th>\n",
       "      <th>seller_id</th>\n",
       "      <th>shipping_limit_date</th>\n",
       "      <th>price</th>\n",
       "      <th>freight_value</th>\n",
       "    </tr>\n",
       "  </thead>\n",
       "  <tbody>\n",
       "    <tr>\n",
       "      <th>0</th>\n",
       "      <td>00010242fe8c5a6d1ba2dd792cb16214</td>\n",
       "      <td>1</td>\n",
       "      <td>4244733e06e7ecb4970a6e2683c13e61</td>\n",
       "      <td>48436dade18ac8b2bce089ec2a041202</td>\n",
       "      <td>2017-09-19 09:45:35</td>\n",
       "      <td>58.90</td>\n",
       "      <td>13.29</td>\n",
       "    </tr>\n",
       "    <tr>\n",
       "      <th>1</th>\n",
       "      <td>00018f77f2f0320c557190d7a144bdd3</td>\n",
       "      <td>1</td>\n",
       "      <td>e5f2d52b802189ee658865ca93d83a8f</td>\n",
       "      <td>dd7ddc04e1b6c2c614352b383efe2d36</td>\n",
       "      <td>2017-05-03 11:05:13</td>\n",
       "      <td>239.90</td>\n",
       "      <td>19.93</td>\n",
       "    </tr>\n",
       "    <tr>\n",
       "      <th>2</th>\n",
       "      <td>000229ec398224ef6ca0657da4fc703e</td>\n",
       "      <td>1</td>\n",
       "      <td>c777355d18b72b67abbeef9df44fd0fd</td>\n",
       "      <td>5b51032eddd242adc84c38acab88f23d</td>\n",
       "      <td>2018-01-18 14:48:30</td>\n",
       "      <td>199.00</td>\n",
       "      <td>17.87</td>\n",
       "    </tr>\n",
       "    <tr>\n",
       "      <th>3</th>\n",
       "      <td>00024acbcdf0a6daa1e931b038114c75</td>\n",
       "      <td>1</td>\n",
       "      <td>7634da152a4610f1595efa32f14722fc</td>\n",
       "      <td>9d7a1d34a5052409006425275ba1c2b4</td>\n",
       "      <td>2018-08-15 10:10:18</td>\n",
       "      <td>12.99</td>\n",
       "      <td>12.79</td>\n",
       "    </tr>\n",
       "    <tr>\n",
       "      <th>4</th>\n",
       "      <td>00042b26cf59d7ce69dfabb4e55b4fd9</td>\n",
       "      <td>1</td>\n",
       "      <td>ac6c3623068f30de03045865e4e10089</td>\n",
       "      <td>df560393f3a51e74553ab94004ba5c87</td>\n",
       "      <td>2017-02-13 13:57:51</td>\n",
       "      <td>199.90</td>\n",
       "      <td>18.14</td>\n",
       "    </tr>\n",
       "  </tbody>\n",
       "</table>\n",
       "</div>"
      ],
      "text/plain": [
       "                           order_id  order_item_id  \\\n",
       "0  00010242fe8c5a6d1ba2dd792cb16214              1   \n",
       "1  00018f77f2f0320c557190d7a144bdd3              1   \n",
       "2  000229ec398224ef6ca0657da4fc703e              1   \n",
       "3  00024acbcdf0a6daa1e931b038114c75              1   \n",
       "4  00042b26cf59d7ce69dfabb4e55b4fd9              1   \n",
       "\n",
       "                         product_id                         seller_id  \\\n",
       "0  4244733e06e7ecb4970a6e2683c13e61  48436dade18ac8b2bce089ec2a041202   \n",
       "1  e5f2d52b802189ee658865ca93d83a8f  dd7ddc04e1b6c2c614352b383efe2d36   \n",
       "2  c777355d18b72b67abbeef9df44fd0fd  5b51032eddd242adc84c38acab88f23d   \n",
       "3  7634da152a4610f1595efa32f14722fc  9d7a1d34a5052409006425275ba1c2b4   \n",
       "4  ac6c3623068f30de03045865e4e10089  df560393f3a51e74553ab94004ba5c87   \n",
       "\n",
       "   shipping_limit_date   price  freight_value  \n",
       "0  2017-09-19 09:45:35   58.90          13.29  \n",
       "1  2017-05-03 11:05:13  239.90          19.93  \n",
       "2  2018-01-18 14:48:30  199.00          17.87  \n",
       "3  2018-08-15 10:10:18   12.99          12.79  \n",
       "4  2017-02-13 13:57:51  199.90          18.14  "
      ]
     },
     "execution_count": 19,
     "metadata": {},
     "output_type": "execute_result"
    }
   ],
   "source": [
    "order_items.head()"
   ]
  },
  {
   "cell_type": "raw",
   "metadata": {
    "papermill": {
     "duration": 0.055854,
     "end_time": "2021-09-21T08:04:02.473400",
     "exception": false,
     "start_time": "2021-09-21T08:04:02.417546",
     "status": "completed"
    },
    "tags": []
   },
   "source": [
    "From above two datasets, we can see that we can 'inner join' these datasets on products id, Lets see"
   ]
  },
  {
   "cell_type": "code",
   "execution_count": 20,
   "metadata": {
    "execution": {
     "iopub.execute_input": "2021-09-21T08:04:02.589510Z",
     "iopub.status.busy": "2021-09-21T08:04:02.588867Z",
     "iopub.status.idle": "2021-09-21T08:04:02.675378Z",
     "shell.execute_reply": "2021-09-21T08:04:02.674784Z",
     "shell.execute_reply.started": "2021-09-21T07:44:18.241912Z"
    },
    "papermill": {
     "duration": 0.145715,
     "end_time": "2021-09-21T08:04:02.675535",
     "exception": false,
     "start_time": "2021-09-21T08:04:02.529820",
     "status": "completed"
    },
    "tags": []
   },
   "outputs": [],
   "source": [
    "products_and_order_items_df=pd.merge(order_items,products)"
   ]
  },
  {
   "cell_type": "code",
   "execution_count": 21,
   "metadata": {
    "execution": {
     "iopub.execute_input": "2021-09-21T08:04:02.791522Z",
     "iopub.status.busy": "2021-09-21T08:04:02.790839Z",
     "iopub.status.idle": "2021-09-21T08:04:02.812477Z",
     "shell.execute_reply": "2021-09-21T08:04:02.812954Z",
     "shell.execute_reply.started": "2021-09-21T07:44:18.335126Z"
    },
    "papermill": {
     "duration": 0.081456,
     "end_time": "2021-09-21T08:04:02.813130",
     "exception": false,
     "start_time": "2021-09-21T08:04:02.731674",
     "status": "completed"
    },
    "tags": []
   },
   "outputs": [
    {
     "data": {
      "text/html": [
       "<div>\n",
       "<style scoped>\n",
       "    .dataframe tbody tr th:only-of-type {\n",
       "        vertical-align: middle;\n",
       "    }\n",
       "\n",
       "    .dataframe tbody tr th {\n",
       "        vertical-align: top;\n",
       "    }\n",
       "\n",
       "    .dataframe thead th {\n",
       "        text-align: right;\n",
       "    }\n",
       "</style>\n",
       "<table border=\"1\" class=\"dataframe\">\n",
       "  <thead>\n",
       "    <tr style=\"text-align: right;\">\n",
       "      <th></th>\n",
       "      <th>order_id</th>\n",
       "      <th>order_item_id</th>\n",
       "      <th>product_id</th>\n",
       "      <th>seller_id</th>\n",
       "      <th>shipping_limit_date</th>\n",
       "      <th>price</th>\n",
       "      <th>freight_value</th>\n",
       "      <th>product_category_name</th>\n",
       "      <th>product_name_lenght</th>\n",
       "      <th>product_description_lenght</th>\n",
       "      <th>product_photos_qty</th>\n",
       "      <th>product_weight_g</th>\n",
       "      <th>product_length_cm</th>\n",
       "      <th>product_height_cm</th>\n",
       "      <th>product_width_cm</th>\n",
       "    </tr>\n",
       "  </thead>\n",
       "  <tbody>\n",
       "    <tr>\n",
       "      <th>0</th>\n",
       "      <td>00010242fe8c5a6d1ba2dd792cb16214</td>\n",
       "      <td>1</td>\n",
       "      <td>4244733e06e7ecb4970a6e2683c13e61</td>\n",
       "      <td>48436dade18ac8b2bce089ec2a041202</td>\n",
       "      <td>2017-09-19 09:45:35</td>\n",
       "      <td>58.9</td>\n",
       "      <td>13.29</td>\n",
       "      <td>cool_stuff</td>\n",
       "      <td>58.0</td>\n",
       "      <td>598.0</td>\n",
       "      <td>4.0</td>\n",
       "      <td>650.0</td>\n",
       "      <td>28.0</td>\n",
       "      <td>9.0</td>\n",
       "      <td>14.0</td>\n",
       "    </tr>\n",
       "    <tr>\n",
       "      <th>1</th>\n",
       "      <td>130898c0987d1801452a8ed92a670612</td>\n",
       "      <td>1</td>\n",
       "      <td>4244733e06e7ecb4970a6e2683c13e61</td>\n",
       "      <td>48436dade18ac8b2bce089ec2a041202</td>\n",
       "      <td>2017-07-05 02:44:11</td>\n",
       "      <td>55.9</td>\n",
       "      <td>17.96</td>\n",
       "      <td>cool_stuff</td>\n",
       "      <td>58.0</td>\n",
       "      <td>598.0</td>\n",
       "      <td>4.0</td>\n",
       "      <td>650.0</td>\n",
       "      <td>28.0</td>\n",
       "      <td>9.0</td>\n",
       "      <td>14.0</td>\n",
       "    </tr>\n",
       "    <tr>\n",
       "      <th>2</th>\n",
       "      <td>532ed5e14e24ae1f0d735b91524b98b9</td>\n",
       "      <td>1</td>\n",
       "      <td>4244733e06e7ecb4970a6e2683c13e61</td>\n",
       "      <td>48436dade18ac8b2bce089ec2a041202</td>\n",
       "      <td>2018-05-23 10:56:25</td>\n",
       "      <td>64.9</td>\n",
       "      <td>18.33</td>\n",
       "      <td>cool_stuff</td>\n",
       "      <td>58.0</td>\n",
       "      <td>598.0</td>\n",
       "      <td>4.0</td>\n",
       "      <td>650.0</td>\n",
       "      <td>28.0</td>\n",
       "      <td>9.0</td>\n",
       "      <td>14.0</td>\n",
       "    </tr>\n",
       "    <tr>\n",
       "      <th>3</th>\n",
       "      <td>6f8c31653edb8c83e1a739408b5ff750</td>\n",
       "      <td>1</td>\n",
       "      <td>4244733e06e7ecb4970a6e2683c13e61</td>\n",
       "      <td>48436dade18ac8b2bce089ec2a041202</td>\n",
       "      <td>2017-08-07 18:55:08</td>\n",
       "      <td>58.9</td>\n",
       "      <td>16.17</td>\n",
       "      <td>cool_stuff</td>\n",
       "      <td>58.0</td>\n",
       "      <td>598.0</td>\n",
       "      <td>4.0</td>\n",
       "      <td>650.0</td>\n",
       "      <td>28.0</td>\n",
       "      <td>9.0</td>\n",
       "      <td>14.0</td>\n",
       "    </tr>\n",
       "    <tr>\n",
       "      <th>4</th>\n",
       "      <td>7d19f4ef4d04461989632411b7e588b9</td>\n",
       "      <td>1</td>\n",
       "      <td>4244733e06e7ecb4970a6e2683c13e61</td>\n",
       "      <td>48436dade18ac8b2bce089ec2a041202</td>\n",
       "      <td>2017-08-16 22:05:11</td>\n",
       "      <td>58.9</td>\n",
       "      <td>13.29</td>\n",
       "      <td>cool_stuff</td>\n",
       "      <td>58.0</td>\n",
       "      <td>598.0</td>\n",
       "      <td>4.0</td>\n",
       "      <td>650.0</td>\n",
       "      <td>28.0</td>\n",
       "      <td>9.0</td>\n",
       "      <td>14.0</td>\n",
       "    </tr>\n",
       "  </tbody>\n",
       "</table>\n",
       "</div>"
      ],
      "text/plain": [
       "                           order_id  order_item_id  \\\n",
       "0  00010242fe8c5a6d1ba2dd792cb16214              1   \n",
       "1  130898c0987d1801452a8ed92a670612              1   \n",
       "2  532ed5e14e24ae1f0d735b91524b98b9              1   \n",
       "3  6f8c31653edb8c83e1a739408b5ff750              1   \n",
       "4  7d19f4ef4d04461989632411b7e588b9              1   \n",
       "\n",
       "                         product_id                         seller_id  \\\n",
       "0  4244733e06e7ecb4970a6e2683c13e61  48436dade18ac8b2bce089ec2a041202   \n",
       "1  4244733e06e7ecb4970a6e2683c13e61  48436dade18ac8b2bce089ec2a041202   \n",
       "2  4244733e06e7ecb4970a6e2683c13e61  48436dade18ac8b2bce089ec2a041202   \n",
       "3  4244733e06e7ecb4970a6e2683c13e61  48436dade18ac8b2bce089ec2a041202   \n",
       "4  4244733e06e7ecb4970a6e2683c13e61  48436dade18ac8b2bce089ec2a041202   \n",
       "\n",
       "   shipping_limit_date  price  freight_value product_category_name  \\\n",
       "0  2017-09-19 09:45:35   58.9          13.29            cool_stuff   \n",
       "1  2017-07-05 02:44:11   55.9          17.96            cool_stuff   \n",
       "2  2018-05-23 10:56:25   64.9          18.33            cool_stuff   \n",
       "3  2017-08-07 18:55:08   58.9          16.17            cool_stuff   \n",
       "4  2017-08-16 22:05:11   58.9          13.29            cool_stuff   \n",
       "\n",
       "   product_name_lenght  product_description_lenght  product_photos_qty  \\\n",
       "0                 58.0                       598.0                 4.0   \n",
       "1                 58.0                       598.0                 4.0   \n",
       "2                 58.0                       598.0                 4.0   \n",
       "3                 58.0                       598.0                 4.0   \n",
       "4                 58.0                       598.0                 4.0   \n",
       "\n",
       "   product_weight_g  product_length_cm  product_height_cm  product_width_cm  \n",
       "0             650.0               28.0                9.0              14.0  \n",
       "1             650.0               28.0                9.0              14.0  \n",
       "2             650.0               28.0                9.0              14.0  \n",
       "3             650.0               28.0                9.0              14.0  \n",
       "4             650.0               28.0                9.0              14.0  "
      ]
     },
     "execution_count": 21,
     "metadata": {},
     "output_type": "execute_result"
    }
   ],
   "source": [
    "products_and_order_items_df.head()"
   ]
  },
  {
   "cell_type": "code",
   "execution_count": 22,
   "metadata": {
    "execution": {
     "iopub.execute_input": "2021-09-21T08:04:02.948006Z",
     "iopub.status.busy": "2021-09-21T08:04:02.944885Z",
     "iopub.status.idle": "2021-09-21T08:04:02.953164Z",
     "shell.execute_reply": "2021-09-21T08:04:02.952666Z",
     "shell.execute_reply.started": "2021-09-21T07:44:18.359688Z"
    },
    "papermill": {
     "duration": 0.083656,
     "end_time": "2021-09-21T08:04:02.953324",
     "exception": false,
     "start_time": "2021-09-21T08:04:02.869668",
     "status": "completed"
    },
    "tags": []
   },
   "outputs": [],
   "source": [
    "top_10_products=products_and_order_items_df['product_category_name'].value_counts().reset_index().nlargest(10, 'product_category_name')"
   ]
  },
  {
   "cell_type": "code",
   "execution_count": 23,
   "metadata": {
    "execution": {
     "iopub.execute_input": "2021-09-21T08:04:03.090980Z",
     "iopub.status.busy": "2021-09-21T08:04:03.089941Z",
     "iopub.status.idle": "2021-09-21T08:04:03.092941Z",
     "shell.execute_reply": "2021-09-21T08:04:03.092397Z",
     "shell.execute_reply.started": "2021-09-21T07:44:18.388258Z"
    },
    "papermill": {
     "duration": 0.082704,
     "end_time": "2021-09-21T08:04:03.093086",
     "exception": false,
     "start_time": "2021-09-21T08:04:03.010382",
     "status": "completed"
    },
    "tags": []
   },
   "outputs": [],
   "source": [
    "lowest_10_products=products_and_order_items_df['product_category_name'].value_counts().reset_index().nsmallest(10, 'product_category_name')"
   ]
  },
  {
   "cell_type": "code",
   "execution_count": 24,
   "metadata": {
    "execution": {
     "iopub.execute_input": "2021-09-21T08:04:03.221667Z",
     "iopub.status.busy": "2021-09-21T08:04:03.220880Z",
     "iopub.status.idle": "2021-09-21T08:04:03.223571Z",
     "shell.execute_reply": "2021-09-21T08:04:03.224142Z",
     "shell.execute_reply.started": "2021-09-21T07:44:18.417055Z"
    },
    "papermill": {
     "duration": 0.073232,
     "end_time": "2021-09-21T08:04:03.224344",
     "exception": false,
     "start_time": "2021-09-21T08:04:03.151112",
     "status": "completed"
    },
    "tags": []
   },
   "outputs": [
    {
     "data": {
      "text/html": [
       "<div>\n",
       "<style scoped>\n",
       "    .dataframe tbody tr th:only-of-type {\n",
       "        vertical-align: middle;\n",
       "    }\n",
       "\n",
       "    .dataframe tbody tr th {\n",
       "        vertical-align: top;\n",
       "    }\n",
       "\n",
       "    .dataframe thead th {\n",
       "        text-align: right;\n",
       "    }\n",
       "</style>\n",
       "<table border=\"1\" class=\"dataframe\">\n",
       "  <thead>\n",
       "    <tr style=\"text-align: right;\">\n",
       "      <th></th>\n",
       "      <th>index</th>\n",
       "      <th>product_category_name</th>\n",
       "    </tr>\n",
       "  </thead>\n",
       "  <tbody>\n",
       "    <tr>\n",
       "      <th>0</th>\n",
       "      <td>cama_mesa_banho</td>\n",
       "      <td>11115</td>\n",
       "    </tr>\n",
       "    <tr>\n",
       "      <th>1</th>\n",
       "      <td>beleza_saude</td>\n",
       "      <td>9670</td>\n",
       "    </tr>\n",
       "    <tr>\n",
       "      <th>2</th>\n",
       "      <td>esporte_lazer</td>\n",
       "      <td>8641</td>\n",
       "    </tr>\n",
       "    <tr>\n",
       "      <th>3</th>\n",
       "      <td>moveis_decoracao</td>\n",
       "      <td>8334</td>\n",
       "    </tr>\n",
       "    <tr>\n",
       "      <th>4</th>\n",
       "      <td>informatica_acessorios</td>\n",
       "      <td>7827</td>\n",
       "    </tr>\n",
       "    <tr>\n",
       "      <th>5</th>\n",
       "      <td>utilidades_domesticas</td>\n",
       "      <td>6964</td>\n",
       "    </tr>\n",
       "    <tr>\n",
       "      <th>6</th>\n",
       "      <td>relogios_presentes</td>\n",
       "      <td>5991</td>\n",
       "    </tr>\n",
       "    <tr>\n",
       "      <th>7</th>\n",
       "      <td>telefonia</td>\n",
       "      <td>4545</td>\n",
       "    </tr>\n",
       "    <tr>\n",
       "      <th>8</th>\n",
       "      <td>ferramentas_jardim</td>\n",
       "      <td>4347</td>\n",
       "    </tr>\n",
       "    <tr>\n",
       "      <th>9</th>\n",
       "      <td>automotivo</td>\n",
       "      <td>4235</td>\n",
       "    </tr>\n",
       "  </tbody>\n",
       "</table>\n",
       "</div>"
      ],
      "text/plain": [
       "                    index  product_category_name\n",
       "0         cama_mesa_banho                  11115\n",
       "1            beleza_saude                   9670\n",
       "2           esporte_lazer                   8641\n",
       "3        moveis_decoracao                   8334\n",
       "4  informatica_acessorios                   7827\n",
       "5   utilidades_domesticas                   6964\n",
       "6      relogios_presentes                   5991\n",
       "7               telefonia                   4545\n",
       "8      ferramentas_jardim                   4347\n",
       "9              automotivo                   4235"
      ]
     },
     "execution_count": 24,
     "metadata": {},
     "output_type": "execute_result"
    }
   ],
   "source": [
    "top_10_products"
   ]
  },
  {
   "cell_type": "code",
   "execution_count": 25,
   "metadata": {
    "execution": {
     "iopub.execute_input": "2021-09-21T08:04:03.344557Z",
     "iopub.status.busy": "2021-09-21T08:04:03.343875Z",
     "iopub.status.idle": "2021-09-21T08:04:03.351712Z",
     "shell.execute_reply": "2021-09-21T08:04:03.352203Z",
     "shell.execute_reply.started": "2021-09-21T07:44:18.430379Z"
    },
    "papermill": {
     "duration": 0.069782,
     "end_time": "2021-09-21T08:04:03.352373",
     "exception": false,
     "start_time": "2021-09-21T08:04:03.282591",
     "status": "completed"
    },
    "tags": []
   },
   "outputs": [
    {
     "data": {
      "text/html": [
       "<div>\n",
       "<style scoped>\n",
       "    .dataframe tbody tr th:only-of-type {\n",
       "        vertical-align: middle;\n",
       "    }\n",
       "\n",
       "    .dataframe tbody tr th {\n",
       "        vertical-align: top;\n",
       "    }\n",
       "\n",
       "    .dataframe thead th {\n",
       "        text-align: right;\n",
       "    }\n",
       "</style>\n",
       "<table border=\"1\" class=\"dataframe\">\n",
       "  <thead>\n",
       "    <tr style=\"text-align: right;\">\n",
       "      <th></th>\n",
       "      <th>index</th>\n",
       "      <th>product_category_name</th>\n",
       "    </tr>\n",
       "  </thead>\n",
       "  <tbody>\n",
       "    <tr>\n",
       "      <th>72</th>\n",
       "      <td>seguros_e_servicos</td>\n",
       "      <td>2</td>\n",
       "    </tr>\n",
       "    <tr>\n",
       "      <th>71</th>\n",
       "      <td>fashion_roupa_infanto_juvenil</td>\n",
       "      <td>8</td>\n",
       "    </tr>\n",
       "    <tr>\n",
       "      <th>70</th>\n",
       "      <td>pc_gamer</td>\n",
       "      <td>9</td>\n",
       "    </tr>\n",
       "    <tr>\n",
       "      <th>68</th>\n",
       "      <td>cds_dvds_musicais</td>\n",
       "      <td>14</td>\n",
       "    </tr>\n",
       "    <tr>\n",
       "      <th>69</th>\n",
       "      <td>la_cuisine</td>\n",
       "      <td>14</td>\n",
       "    </tr>\n",
       "    <tr>\n",
       "      <th>67</th>\n",
       "      <td>portateis_cozinha_e_preparadores_de_alimentos</td>\n",
       "      <td>15</td>\n",
       "    </tr>\n",
       "    <tr>\n",
       "      <th>66</th>\n",
       "      <td>artes_e_artesanato</td>\n",
       "      <td>24</td>\n",
       "    </tr>\n",
       "    <tr>\n",
       "      <th>64</th>\n",
       "      <td>casa_conforto_2</td>\n",
       "      <td>30</td>\n",
       "    </tr>\n",
       "    <tr>\n",
       "      <th>65</th>\n",
       "      <td>fashion_esporte</td>\n",
       "      <td>30</td>\n",
       "    </tr>\n",
       "    <tr>\n",
       "      <th>63</th>\n",
       "      <td>flores</td>\n",
       "      <td>33</td>\n",
       "    </tr>\n",
       "  </tbody>\n",
       "</table>\n",
       "</div>"
      ],
      "text/plain": [
       "                                            index  product_category_name\n",
       "72                             seguros_e_servicos                      2\n",
       "71                  fashion_roupa_infanto_juvenil                      8\n",
       "70                                       pc_gamer                      9\n",
       "68                              cds_dvds_musicais                     14\n",
       "69                                     la_cuisine                     14\n",
       "67  portateis_cozinha_e_preparadores_de_alimentos                     15\n",
       "66                             artes_e_artesanato                     24\n",
       "64                                casa_conforto_2                     30\n",
       "65                                fashion_esporte                     30\n",
       "63                                         flores                     33"
      ]
     },
     "execution_count": 25,
     "metadata": {},
     "output_type": "execute_result"
    }
   ],
   "source": [
    "lowest_10_products"
   ]
  },
  {
   "cell_type": "markdown",
   "metadata": {
    "papermill": {
     "duration": 0.057543,
     "end_time": "2021-09-21T08:04:03.467540",
     "exception": false,
     "start_time": "2021-09-21T08:04:03.409997",
     "status": "completed"
    },
    "tags": []
   },
   "source": [
    "### Payments Analysis"
   ]
  },
  {
   "cell_type": "code",
   "execution_count": 26,
   "metadata": {
    "execution": {
     "iopub.execute_input": "2021-09-21T08:04:03.585725Z",
     "iopub.status.busy": "2021-09-21T08:04:03.585059Z",
     "iopub.status.idle": "2021-09-21T08:04:03.595310Z",
     "shell.execute_reply": "2021-09-21T08:04:03.595860Z",
     "shell.execute_reply.started": "2021-09-21T07:44:18.444837Z"
    },
    "papermill": {
     "duration": 0.071285,
     "end_time": "2021-09-21T08:04:03.596040",
     "exception": false,
     "start_time": "2021-09-21T08:04:03.524755",
     "status": "completed"
    },
    "tags": []
   },
   "outputs": [
    {
     "data": {
      "text/html": [
       "<div>\n",
       "<style scoped>\n",
       "    .dataframe tbody tr th:only-of-type {\n",
       "        vertical-align: middle;\n",
       "    }\n",
       "\n",
       "    .dataframe tbody tr th {\n",
       "        vertical-align: top;\n",
       "    }\n",
       "\n",
       "    .dataframe thead th {\n",
       "        text-align: right;\n",
       "    }\n",
       "</style>\n",
       "<table border=\"1\" class=\"dataframe\">\n",
       "  <thead>\n",
       "    <tr style=\"text-align: right;\">\n",
       "      <th></th>\n",
       "      <th>order_id</th>\n",
       "      <th>payment_sequential</th>\n",
       "      <th>payment_type</th>\n",
       "      <th>payment_installments</th>\n",
       "      <th>payment_value</th>\n",
       "    </tr>\n",
       "  </thead>\n",
       "  <tbody>\n",
       "    <tr>\n",
       "      <th>0</th>\n",
       "      <td>b81ef226f3fe1789b1e8b2acac839d17</td>\n",
       "      <td>1</td>\n",
       "      <td>credit_card</td>\n",
       "      <td>8</td>\n",
       "      <td>99.33</td>\n",
       "    </tr>\n",
       "    <tr>\n",
       "      <th>1</th>\n",
       "      <td>a9810da82917af2d9aefd1278f1dcfa0</td>\n",
       "      <td>1</td>\n",
       "      <td>credit_card</td>\n",
       "      <td>1</td>\n",
       "      <td>24.39</td>\n",
       "    </tr>\n",
       "    <tr>\n",
       "      <th>2</th>\n",
       "      <td>25e8ea4e93396b6fa0d3dd708e76c1bd</td>\n",
       "      <td>1</td>\n",
       "      <td>credit_card</td>\n",
       "      <td>1</td>\n",
       "      <td>65.71</td>\n",
       "    </tr>\n",
       "    <tr>\n",
       "      <th>3</th>\n",
       "      <td>ba78997921bbcdc1373bb41e913ab953</td>\n",
       "      <td>1</td>\n",
       "      <td>credit_card</td>\n",
       "      <td>8</td>\n",
       "      <td>107.78</td>\n",
       "    </tr>\n",
       "    <tr>\n",
       "      <th>4</th>\n",
       "      <td>42fdf880ba16b47b59251dd489d4441a</td>\n",
       "      <td>1</td>\n",
       "      <td>credit_card</td>\n",
       "      <td>2</td>\n",
       "      <td>128.45</td>\n",
       "    </tr>\n",
       "  </tbody>\n",
       "</table>\n",
       "</div>"
      ],
      "text/plain": [
       "                           order_id  payment_sequential payment_type  \\\n",
       "0  b81ef226f3fe1789b1e8b2acac839d17                   1  credit_card   \n",
       "1  a9810da82917af2d9aefd1278f1dcfa0                   1  credit_card   \n",
       "2  25e8ea4e93396b6fa0d3dd708e76c1bd                   1  credit_card   \n",
       "3  ba78997921bbcdc1373bb41e913ab953                   1  credit_card   \n",
       "4  42fdf880ba16b47b59251dd489d4441a                   1  credit_card   \n",
       "\n",
       "   payment_installments  payment_value  \n",
       "0                     8          99.33  \n",
       "1                     1          24.39  \n",
       "2                     1          65.71  \n",
       "3                     8         107.78  \n",
       "4                     2         128.45  "
      ]
     },
     "execution_count": 26,
     "metadata": {},
     "output_type": "execute_result"
    }
   ],
   "source": [
    "payments.head()"
   ]
  },
  {
   "cell_type": "code",
   "execution_count": 27,
   "metadata": {
    "execution": {
     "iopub.execute_input": "2021-09-21T08:04:03.725395Z",
     "iopub.status.busy": "2021-09-21T08:04:03.724666Z",
     "iopub.status.idle": "2021-09-21T08:04:03.739711Z",
     "shell.execute_reply": "2021-09-21T08:04:03.740174Z",
     "shell.execute_reply.started": "2021-09-21T07:44:18.458202Z"
    },
    "papermill": {
     "duration": 0.079367,
     "end_time": "2021-09-21T08:04:03.740366",
     "exception": false,
     "start_time": "2021-09-21T08:04:03.660999",
     "status": "completed"
    },
    "tags": []
   },
   "outputs": [
    {
     "data": {
      "text/plain": [
       "array(['credit_card', 'boleto', 'voucher', 'debit_card', 'not_defined'],\n",
       "      dtype=object)"
      ]
     },
     "execution_count": 27,
     "metadata": {},
     "output_type": "execute_result"
    }
   ],
   "source": [
    "payments.payment_type.unique()"
   ]
  },
  {
   "cell_type": "raw",
   "metadata": {
    "papermill": {
     "duration": 0.058463,
     "end_time": "2021-09-21T08:04:03.858033",
     "exception": false,
     "start_time": "2021-09-21T08:04:03.799570",
     "status": "completed"
    },
    "tags": []
   },
   "source": [
    "There are bascially 5 types of payment methods used by the customers"
   ]
  },
  {
   "cell_type": "code",
   "execution_count": 28,
   "metadata": {
    "execution": {
     "iopub.execute_input": "2021-09-21T08:04:03.993136Z",
     "iopub.status.busy": "2021-09-21T08:04:03.978596Z",
     "iopub.status.idle": "2021-09-21T08:04:03.995260Z",
     "shell.execute_reply": "2021-09-21T08:04:03.995699Z",
     "shell.execute_reply.started": "2021-09-21T07:44:18.477161Z"
    },
    "papermill": {
     "duration": 0.078994,
     "end_time": "2021-09-21T08:04:03.995869",
     "exception": false,
     "start_time": "2021-09-21T08:04:03.916875",
     "status": "completed"
    },
    "tags": []
   },
   "outputs": [],
   "source": [
    "top_payment_type = payments['payment_type'].value_counts(ascending=False)"
   ]
  },
  {
   "cell_type": "code",
   "execution_count": 29,
   "metadata": {
    "execution": {
     "iopub.execute_input": "2021-09-21T08:04:04.117437Z",
     "iopub.status.busy": "2021-09-21T08:04:04.116820Z",
     "iopub.status.idle": "2021-09-21T08:04:04.122245Z",
     "shell.execute_reply": "2021-09-21T08:04:04.122833Z",
     "shell.execute_reply.started": "2021-09-21T07:44:18.496597Z"
    },
    "papermill": {
     "duration": 0.067937,
     "end_time": "2021-09-21T08:04:04.122997",
     "exception": false,
     "start_time": "2021-09-21T08:04:04.055060",
     "status": "completed"
    },
    "tags": []
   },
   "outputs": [
    {
     "data": {
      "text/plain": [
       "credit_card    76795\n",
       "boleto         19784\n",
       "voucher         5775\n",
       "debit_card      1529\n",
       "not_defined        3\n",
       "Name: payment_type, dtype: int64"
      ]
     },
     "execution_count": 29,
     "metadata": {},
     "output_type": "execute_result"
    }
   ],
   "source": [
    "top_payment_type"
   ]
  },
  {
   "cell_type": "raw",
   "metadata": {
    "papermill": {
     "duration": 0.058633,
     "end_time": "2021-09-21T08:04:04.245495",
     "exception": false,
     "start_time": "2021-09-21T08:04:04.186862",
     "status": "completed"
    },
    "tags": []
   },
   "source": [
    "Out of 5 types of methods, credit card is used on the top, then boleto and then voucher"
   ]
  },
  {
   "cell_type": "code",
   "execution_count": 30,
   "metadata": {
    "execution": {
     "iopub.execute_input": "2021-09-21T08:04:04.370036Z",
     "iopub.status.busy": "2021-09-21T08:04:04.369380Z",
     "iopub.status.idle": "2021-09-21T08:04:04.372175Z",
     "shell.execute_reply": "2021-09-21T08:04:04.372693Z",
     "shell.execute_reply.started": "2021-09-21T07:44:18.508933Z"
    },
    "papermill": {
     "duration": 0.067748,
     "end_time": "2021-09-21T08:04:04.372865",
     "exception": false,
     "start_time": "2021-09-21T08:04:04.305117",
     "status": "completed"
    },
    "tags": []
   },
   "outputs": [
    {
     "data": {
      "text/plain": [
       "pandas.core.series.Series"
      ]
     },
     "execution_count": 30,
     "metadata": {},
     "output_type": "execute_result"
    }
   ],
   "source": [
    "type(top_payment_type)"
   ]
  },
  {
   "cell_type": "raw",
   "metadata": {
    "papermill": {
     "duration": 0.05967,
     "end_time": "2021-09-21T08:04:04.491742",
     "exception": false,
     "start_time": "2021-09-21T08:04:04.432072",
     "status": "completed"
    },
    "tags": []
   },
   "source": [
    "Since this is a series object we can draw a histplot using its index and values"
   ]
  },
  {
   "cell_type": "code",
   "execution_count": 31,
   "metadata": {
    "execution": {
     "iopub.execute_input": "2021-09-21T08:04:04.614487Z",
     "iopub.status.busy": "2021-09-21T08:04:04.613550Z",
     "iopub.status.idle": "2021-09-21T08:04:04.617802Z",
     "shell.execute_reply": "2021-09-21T08:04:04.617235Z",
     "shell.execute_reply.started": "2021-09-21T07:44:18.521109Z"
    },
    "papermill": {
     "duration": 0.066504,
     "end_time": "2021-09-21T08:04:04.617952",
     "exception": false,
     "start_time": "2021-09-21T08:04:04.551448",
     "status": "completed"
    },
    "tags": []
   },
   "outputs": [],
   "source": [
    "a = top_payment_type.index"
   ]
  },
  {
   "cell_type": "code",
   "execution_count": 32,
   "metadata": {
    "execution": {
     "iopub.execute_input": "2021-09-21T08:04:04.744124Z",
     "iopub.status.busy": "2021-09-21T08:04:04.743107Z",
     "iopub.status.idle": "2021-09-21T08:04:04.745343Z",
     "shell.execute_reply": "2021-09-21T08:04:04.745864Z",
     "shell.execute_reply.started": "2021-09-21T07:44:18.531779Z"
    },
    "papermill": {
     "duration": 0.066908,
     "end_time": "2021-09-21T08:04:04.746024",
     "exception": false,
     "start_time": "2021-09-21T08:04:04.679116",
     "status": "completed"
    },
    "tags": []
   },
   "outputs": [],
   "source": [
    "b = top_payment_type.values"
   ]
  },
  {
   "cell_type": "code",
   "execution_count": 33,
   "metadata": {
    "execution": {
     "iopub.execute_input": "2021-09-21T08:04:04.899046Z",
     "iopub.status.busy": "2021-09-21T08:04:04.896861Z",
     "iopub.status.idle": "2021-09-21T08:04:05.052114Z",
     "shell.execute_reply": "2021-09-21T08:04:05.052809Z",
     "shell.execute_reply.started": "2021-09-21T07:44:18.543900Z"
    },
    "papermill": {
     "duration": 0.247631,
     "end_time": "2021-09-21T08:04:05.052999",
     "exception": false,
     "start_time": "2021-09-21T08:04:04.805368",
     "status": "completed"
    },
    "tags": []
   },
   "outputs": [
    {
     "data": {
      "text/plain": [
       "<AxesSubplot:>"
      ]
     },
     "execution_count": 33,
     "metadata": {},
     "output_type": "execute_result"
    },
    {
     "data": {
      "image/png": "[encoded data removed]",
      "text/plain": [
       "<Figure size 432x288 with 1 Axes>"
      ]
     },
     "metadata": {
      "needs_background": "light"
     },
     "output_type": "display_data"
    }
   ],
   "source": [
    "sns.barplot(x=a,y=b)"
   ]
  },
  {
   "cell_type": "raw",
   "metadata": {
    "papermill": {
     "duration": 0.065452,
     "end_time": "2021-09-21T08:04:05.178633",
     "exception": false,
     "start_time": "2021-09-21T08:04:05.113181",
     "status": "completed"
    },
    "tags": []
   },
   "source": [
    "From the above bar graph we can see that,uses of Credit Card is the highest aroud 75000, then boleto that is slightly less than 20000, "
   ]
  },
  {
   "cell_type": "markdown",
   "metadata": {
    "papermill": {
     "duration": 0.074206,
     "end_time": "2021-09-21T08:04:05.327092",
     "exception": false,
     "start_time": "2021-09-21T08:04:05.252886",
     "status": "completed"
    },
    "tags": []
   },
   "source": [
    "### Products Reviews"
   ]
  },
  {
   "cell_type": "code",
   "execution_count": 34,
   "metadata": {
    "execution": {
     "iopub.execute_input": "2021-09-21T08:04:05.481665Z",
     "iopub.status.busy": "2021-09-21T08:04:05.478797Z",
     "iopub.status.idle": "2021-09-21T08:04:05.499020Z",
     "shell.execute_reply": "2021-09-21T08:04:05.499590Z",
     "shell.execute_reply.started": "2021-09-21T07:44:18.721172Z"
    },
    "papermill": {
     "duration": 0.09807,
     "end_time": "2021-09-21T08:04:05.499764",
     "exception": false,
     "start_time": "2021-09-21T08:04:05.401694",
     "status": "completed"
    },
    "tags": []
   },
   "outputs": [
    {
     "data": {
      "text/html": [
       "<div>\n",
       "<style scoped>\n",
       "    .dataframe tbody tr th:only-of-type {\n",
       "        vertical-align: middle;\n",
       "    }\n",
       "\n",
       "    .dataframe tbody tr th {\n",
       "        vertical-align: top;\n",
       "    }\n",
       "\n",
       "    .dataframe thead th {\n",
       "        text-align: right;\n",
       "    }\n",
       "</style>\n",
       "<table border=\"1\" class=\"dataframe\">\n",
       "  <thead>\n",
       "    <tr style=\"text-align: right;\">\n",
       "      <th></th>\n",
       "      <th>order_id</th>\n",
       "      <th>order_item_id</th>\n",
       "      <th>product_id</th>\n",
       "      <th>seller_id</th>\n",
       "      <th>shipping_limit_date</th>\n",
       "      <th>price</th>\n",
       "      <th>freight_value</th>\n",
       "      <th>product_category_name</th>\n",
       "      <th>product_name_lenght</th>\n",
       "      <th>product_description_lenght</th>\n",
       "      <th>product_photos_qty</th>\n",
       "      <th>product_weight_g</th>\n",
       "      <th>product_length_cm</th>\n",
       "      <th>product_height_cm</th>\n",
       "      <th>product_width_cm</th>\n",
       "    </tr>\n",
       "  </thead>\n",
       "  <tbody>\n",
       "    <tr>\n",
       "      <th>0</th>\n",
       "      <td>00010242fe8c5a6d1ba2dd792cb16214</td>\n",
       "      <td>1</td>\n",
       "      <td>4244733e06e7ecb4970a6e2683c13e61</td>\n",
       "      <td>48436dade18ac8b2bce089ec2a041202</td>\n",
       "      <td>2017-09-19 09:45:35</td>\n",
       "      <td>58.9</td>\n",
       "      <td>13.29</td>\n",
       "      <td>cool_stuff</td>\n",
       "      <td>58.0</td>\n",
       "      <td>598.0</td>\n",
       "      <td>4.0</td>\n",
       "      <td>650.0</td>\n",
       "      <td>28.0</td>\n",
       "      <td>9.0</td>\n",
       "      <td>14.0</td>\n",
       "    </tr>\n",
       "    <tr>\n",
       "      <th>1</th>\n",
       "      <td>130898c0987d1801452a8ed92a670612</td>\n",
       "      <td>1</td>\n",
       "      <td>4244733e06e7ecb4970a6e2683c13e61</td>\n",
       "      <td>48436dade18ac8b2bce089ec2a041202</td>\n",
       "      <td>2017-07-05 02:44:11</td>\n",
       "      <td>55.9</td>\n",
       "      <td>17.96</td>\n",
       "      <td>cool_stuff</td>\n",
       "      <td>58.0</td>\n",
       "      <td>598.0</td>\n",
       "      <td>4.0</td>\n",
       "      <td>650.0</td>\n",
       "      <td>28.0</td>\n",
       "      <td>9.0</td>\n",
       "      <td>14.0</td>\n",
       "    </tr>\n",
       "    <tr>\n",
       "      <th>2</th>\n",
       "      <td>532ed5e14e24ae1f0d735b91524b98b9</td>\n",
       "      <td>1</td>\n",
       "      <td>4244733e06e7ecb4970a6e2683c13e61</td>\n",
       "      <td>48436dade18ac8b2bce089ec2a041202</td>\n",
       "      <td>2018-05-23 10:56:25</td>\n",
       "      <td>64.9</td>\n",
       "      <td>18.33</td>\n",
       "      <td>cool_stuff</td>\n",
       "      <td>58.0</td>\n",
       "      <td>598.0</td>\n",
       "      <td>4.0</td>\n",
       "      <td>650.0</td>\n",
       "      <td>28.0</td>\n",
       "      <td>9.0</td>\n",
       "      <td>14.0</td>\n",
       "    </tr>\n",
       "  </tbody>\n",
       "</table>\n",
       "</div>"
      ],
      "text/plain": [
       "                           order_id  order_item_id  \\\n",
       "0  00010242fe8c5a6d1ba2dd792cb16214              1   \n",
       "1  130898c0987d1801452a8ed92a670612              1   \n",
       "2  532ed5e14e24ae1f0d735b91524b98b9              1   \n",
       "\n",
       "                         product_id                         seller_id  \\\n",
       "0  4244733e06e7ecb4970a6e2683c13e61  48436dade18ac8b2bce089ec2a041202   \n",
       "1  4244733e06e7ecb4970a6e2683c13e61  48436dade18ac8b2bce089ec2a041202   \n",
       "2  4244733e06e7ecb4970a6e2683c13e61  48436dade18ac8b2bce089ec2a041202   \n",
       "\n",
       "   shipping_limit_date  price  freight_value product_category_name  \\\n",
       "0  2017-09-19 09:45:35   58.9          13.29            cool_stuff   \n",
       "1  2017-07-05 02:44:11   55.9          17.96            cool_stuff   \n",
       "2  2018-05-23 10:56:25   64.9          18.33            cool_stuff   \n",
       "\n",
       "   product_name_lenght  product_description_lenght  product_photos_qty  \\\n",
       "0                 58.0                       598.0                 4.0   \n",
       "1                 58.0                       598.0                 4.0   \n",
       "2                 58.0                       598.0                 4.0   \n",
       "\n",
       "   product_weight_g  product_length_cm  product_height_cm  product_width_cm  \n",
       "0             650.0               28.0                9.0              14.0  \n",
       "1             650.0               28.0                9.0              14.0  \n",
       "2             650.0               28.0                9.0              14.0  "
      ]
     },
     "execution_count": 34,
     "metadata": {},
     "output_type": "execute_result"
    }
   ],
   "source": [
    "# we will first see if there is any relation between our product_and_order_items_df, and order_reviews\n",
    "products_and_order_items_df.head(3)"
   ]
  },
  {
   "cell_type": "code",
   "execution_count": 35,
   "metadata": {
    "execution": {
     "iopub.execute_input": "2021-09-21T08:04:05.634567Z",
     "iopub.status.busy": "2021-09-21T08:04:05.625865Z",
     "iopub.status.idle": "2021-09-21T08:04:05.638270Z",
     "shell.execute_reply": "2021-09-21T08:04:05.637741Z",
     "shell.execute_reply.started": "2021-09-21T07:44:18.744367Z"
    },
    "papermill": {
     "duration": 0.07689,
     "end_time": "2021-09-21T08:04:05.638414",
     "exception": false,
     "start_time": "2021-09-21T08:04:05.561524",
     "status": "completed"
    },
    "tags": []
   },
   "outputs": [
    {
     "data": {
      "text/html": [
       "<div>\n",
       "<style scoped>\n",
       "    .dataframe tbody tr th:only-of-type {\n",
       "        vertical-align: middle;\n",
       "    }\n",
       "\n",
       "    .dataframe tbody tr th {\n",
       "        vertical-align: top;\n",
       "    }\n",
       "\n",
       "    .dataframe thead th {\n",
       "        text-align: right;\n",
       "    }\n",
       "</style>\n",
       "<table border=\"1\" class=\"dataframe\">\n",
       "  <thead>\n",
       "    <tr style=\"text-align: right;\">\n",
       "      <th></th>\n",
       "      <th>review_id</th>\n",
       "      <th>order_id</th>\n",
       "      <th>review_score</th>\n",
       "      <th>review_comment_title</th>\n",
       "      <th>review_comment_message</th>\n",
       "      <th>review_creation_date</th>\n",
       "      <th>review_answer_timestamp</th>\n",
       "    </tr>\n",
       "  </thead>\n",
       "  <tbody>\n",
       "    <tr>\n",
       "      <th>0</th>\n",
       "      <td>7bc2406110b926393aa56f80a40eba40</td>\n",
       "      <td>73fc7af87114b39712e6da79b0a377eb</td>\n",
       "      <td>4</td>\n",
       "      <td>NaN</td>\n",
       "      <td>NaN</td>\n",
       "      <td>2018-01-18 00:00:00</td>\n",
       "      <td>2018-01-18 21:46:59</td>\n",
       "    </tr>\n",
       "    <tr>\n",
       "      <th>1</th>\n",
       "      <td>80e641a11e56f04c1ad469d5645fdfde</td>\n",
       "      <td>a548910a1c6147796b98fdf73dbeba33</td>\n",
       "      <td>5</td>\n",
       "      <td>NaN</td>\n",
       "      <td>NaN</td>\n",
       "      <td>2018-03-10 00:00:00</td>\n",
       "      <td>2018-03-11 03:05:13</td>\n",
       "    </tr>\n",
       "    <tr>\n",
       "      <th>2</th>\n",
       "      <td>228ce5500dc1d8e020d8d1322874b6f0</td>\n",
       "      <td>f9e4b658b201a9f2ecdecbb34bed034b</td>\n",
       "      <td>5</td>\n",
       "      <td>NaN</td>\n",
       "      <td>NaN</td>\n",
       "      <td>2018-02-17 00:00:00</td>\n",
       "      <td>2018-02-18 14:36:24</td>\n",
       "    </tr>\n",
       "  </tbody>\n",
       "</table>\n",
       "</div>"
      ],
      "text/plain": [
       "                          review_id                          order_id  \\\n",
       "0  7bc2406110b926393aa56f80a40eba40  73fc7af87114b39712e6da79b0a377eb   \n",
       "1  80e641a11e56f04c1ad469d5645fdfde  a548910a1c6147796b98fdf73dbeba33   \n",
       "2  228ce5500dc1d8e020d8d1322874b6f0  f9e4b658b201a9f2ecdecbb34bed034b   \n",
       "\n",
       "   review_score review_comment_title review_comment_message  \\\n",
       "0             4                  NaN                    NaN   \n",
       "1             5                  NaN                    NaN   \n",
       "2             5                  NaN                    NaN   \n",
       "\n",
       "  review_creation_date review_answer_timestamp  \n",
       "0  2018-01-18 00:00:00     2018-01-18 21:46:59  \n",
       "1  2018-03-10 00:00:00     2018-03-11 03:05:13  \n",
       "2  2018-02-17 00:00:00     2018-02-18 14:36:24  "
      ]
     },
     "execution_count": 35,
     "metadata": {},
     "output_type": "execute_result"
    }
   ],
   "source": [
    "# printing top 3 rows or order_reviews\n",
    "order_reviews.head(3)"
   ]
  },
  {
   "cell_type": "raw",
   "metadata": {
    "papermill": {
     "duration": 0.060943,
     "end_time": "2021-09-21T08:04:05.761750",
     "exception": false,
     "start_time": "2021-09-21T08:04:05.700807",
     "status": "completed"
    },
    "tags": []
   },
   "source": [
    "We can join it based on order_id column which is common to both, for this we will make another dataframe named \"reviews_df'"
   ]
  },
  {
   "cell_type": "code",
   "execution_count": 36,
   "metadata": {
    "execution": {
     "iopub.execute_input": "2021-09-21T08:04:05.891905Z",
     "iopub.status.busy": "2021-09-21T08:04:05.890715Z",
     "iopub.status.idle": "2021-09-21T08:04:06.068999Z",
     "shell.execute_reply": "2021-09-21T08:04:06.069572Z",
     "shell.execute_reply.started": "2021-09-21T07:44:18.761339Z"
    },
    "papermill": {
     "duration": 0.246775,
     "end_time": "2021-09-21T08:04:06.069767",
     "exception": false,
     "start_time": "2021-09-21T08:04:05.822992",
     "status": "completed"
    },
    "tags": []
   },
   "outputs": [],
   "source": [
    "reviews_df=pd.merge(products_and_order_items_df, order_reviews)"
   ]
  },
  {
   "cell_type": "code",
   "execution_count": 37,
   "metadata": {
    "execution": {
     "iopub.execute_input": "2021-09-21T08:04:06.219883Z",
     "iopub.status.busy": "2021-09-21T08:04:06.212003Z",
     "iopub.status.idle": "2021-09-21T08:04:06.224858Z",
     "shell.execute_reply": "2021-09-21T08:04:06.224147Z",
     "shell.execute_reply.started": "2021-09-21T07:44:18.943282Z"
    },
    "papermill": {
     "duration": 0.092141,
     "end_time": "2021-09-21T08:04:06.225018",
     "exception": false,
     "start_time": "2021-09-21T08:04:06.132877",
     "status": "completed"
    },
    "tags": []
   },
   "outputs": [
    {
     "data": {
      "text/html": [
       "<div>\n",
       "<style scoped>\n",
       "    .dataframe tbody tr th:only-of-type {\n",
       "        vertical-align: middle;\n",
       "    }\n",
       "\n",
       "    .dataframe tbody tr th {\n",
       "        vertical-align: top;\n",
       "    }\n",
       "\n",
       "    .dataframe thead th {\n",
       "        text-align: right;\n",
       "    }\n",
       "</style>\n",
       "<table border=\"1\" class=\"dataframe\">\n",
       "  <thead>\n",
       "    <tr style=\"text-align: right;\">\n",
       "      <th></th>\n",
       "      <th>order_id</th>\n",
       "      <th>order_item_id</th>\n",
       "      <th>product_id</th>\n",
       "      <th>seller_id</th>\n",
       "      <th>shipping_limit_date</th>\n",
       "      <th>price</th>\n",
       "      <th>freight_value</th>\n",
       "      <th>product_category_name</th>\n",
       "      <th>product_name_lenght</th>\n",
       "      <th>product_description_lenght</th>\n",
       "      <th>...</th>\n",
       "      <th>product_weight_g</th>\n",
       "      <th>product_length_cm</th>\n",
       "      <th>product_height_cm</th>\n",
       "      <th>product_width_cm</th>\n",
       "      <th>review_id</th>\n",
       "      <th>review_score</th>\n",
       "      <th>review_comment_title</th>\n",
       "      <th>review_comment_message</th>\n",
       "      <th>review_creation_date</th>\n",
       "      <th>review_answer_timestamp</th>\n",
       "    </tr>\n",
       "  </thead>\n",
       "  <tbody>\n",
       "    <tr>\n",
       "      <th>0</th>\n",
       "      <td>00010242fe8c5a6d1ba2dd792cb16214</td>\n",
       "      <td>1</td>\n",
       "      <td>4244733e06e7ecb4970a6e2683c13e61</td>\n",
       "      <td>48436dade18ac8b2bce089ec2a041202</td>\n",
       "      <td>2017-09-19 09:45:35</td>\n",
       "      <td>58.9</td>\n",
       "      <td>13.29</td>\n",
       "      <td>cool_stuff</td>\n",
       "      <td>58.0</td>\n",
       "      <td>598.0</td>\n",
       "      <td>...</td>\n",
       "      <td>650.0</td>\n",
       "      <td>28.0</td>\n",
       "      <td>9.0</td>\n",
       "      <td>14.0</td>\n",
       "      <td>97ca439bc427b48bc1cd7177abe71365</td>\n",
       "      <td>5</td>\n",
       "      <td>NaN</td>\n",
       "      <td>Perfeito, produto entregue antes do combinado.</td>\n",
       "      <td>2017-09-21 00:00:00</td>\n",
       "      <td>2017-09-22 10:57:03</td>\n",
       "    </tr>\n",
       "    <tr>\n",
       "      <th>1</th>\n",
       "      <td>130898c0987d1801452a8ed92a670612</td>\n",
       "      <td>1</td>\n",
       "      <td>4244733e06e7ecb4970a6e2683c13e61</td>\n",
       "      <td>48436dade18ac8b2bce089ec2a041202</td>\n",
       "      <td>2017-07-05 02:44:11</td>\n",
       "      <td>55.9</td>\n",
       "      <td>17.96</td>\n",
       "      <td>cool_stuff</td>\n",
       "      <td>58.0</td>\n",
       "      <td>598.0</td>\n",
       "      <td>...</td>\n",
       "      <td>650.0</td>\n",
       "      <td>28.0</td>\n",
       "      <td>9.0</td>\n",
       "      <td>14.0</td>\n",
       "      <td>b11cba360bbe71410c291b764753d37f</td>\n",
       "      <td>5</td>\n",
       "      <td>NaN</td>\n",
       "      <td>lannister como sempre, entregou certinho e den...</td>\n",
       "      <td>2017-07-14 00:00:00</td>\n",
       "      <td>2017-07-17 12:50:07</td>\n",
       "    </tr>\n",
       "    <tr>\n",
       "      <th>2</th>\n",
       "      <td>532ed5e14e24ae1f0d735b91524b98b9</td>\n",
       "      <td>1</td>\n",
       "      <td>4244733e06e7ecb4970a6e2683c13e61</td>\n",
       "      <td>48436dade18ac8b2bce089ec2a041202</td>\n",
       "      <td>2018-05-23 10:56:25</td>\n",
       "      <td>64.9</td>\n",
       "      <td>18.33</td>\n",
       "      <td>cool_stuff</td>\n",
       "      <td>58.0</td>\n",
       "      <td>598.0</td>\n",
       "      <td>...</td>\n",
       "      <td>650.0</td>\n",
       "      <td>28.0</td>\n",
       "      <td>9.0</td>\n",
       "      <td>14.0</td>\n",
       "      <td>af01c4017c5ab46df6cc810e069e654a</td>\n",
       "      <td>4</td>\n",
       "      <td>super recomendo</td>\n",
       "      <td>carrinho muito bonito</td>\n",
       "      <td>2018-06-05 00:00:00</td>\n",
       "      <td>2018-06-06 21:41:12</td>\n",
       "    </tr>\n",
       "  </tbody>\n",
       "</table>\n",
       "<p>3 rows × 21 columns</p>\n",
       "</div>"
      ],
      "text/plain": [
       "                           order_id  order_item_id  \\\n",
       "0  00010242fe8c5a6d1ba2dd792cb16214              1   \n",
       "1  130898c0987d1801452a8ed92a670612              1   \n",
       "2  532ed5e14e24ae1f0d735b91524b98b9              1   \n",
       "\n",
       "                         product_id                         seller_id  \\\n",
       "0  4244733e06e7ecb4970a6e2683c13e61  48436dade18ac8b2bce089ec2a041202   \n",
       "1  4244733e06e7ecb4970a6e2683c13e61  48436dade18ac8b2bce089ec2a041202   \n",
       "2  4244733e06e7ecb4970a6e2683c13e61  48436dade18ac8b2bce089ec2a041202   \n",
       "\n",
       "   shipping_limit_date  price  freight_value product_category_name  \\\n",
       "0  2017-09-19 09:45:35   58.9          13.29            cool_stuff   \n",
       "1  2017-07-05 02:44:11   55.9          17.96            cool_stuff   \n",
       "2  2018-05-23 10:56:25   64.9          18.33            cool_stuff   \n",
       "\n",
       "   product_name_lenght  product_description_lenght  ...  product_weight_g  \\\n",
       "0                 58.0                       598.0  ...             650.0   \n",
       "1                 58.0                       598.0  ...             650.0   \n",
       "2                 58.0                       598.0  ...             650.0   \n",
       "\n",
       "   product_length_cm  product_height_cm  product_width_cm  \\\n",
       "0               28.0                9.0              14.0   \n",
       "1               28.0                9.0              14.0   \n",
       "2               28.0                9.0              14.0   \n",
       "\n",
       "                          review_id review_score  review_comment_title  \\\n",
       "0  97ca439bc427b48bc1cd7177abe71365            5                   NaN   \n",
       "1  b11cba360bbe71410c291b764753d37f            5                   NaN   \n",
       "2  af01c4017c5ab46df6cc810e069e654a            4       super recomendo   \n",
       "\n",
       "                              review_comment_message review_creation_date  \\\n",
       "0     Perfeito, produto entregue antes do combinado.  2017-09-21 00:00:00   \n",
       "1  lannister como sempre, entregou certinho e den...  2017-07-14 00:00:00   \n",
       "2                              carrinho muito bonito  2018-06-05 00:00:00   \n",
       "\n",
       "  review_answer_timestamp  \n",
       "0     2017-09-22 10:57:03  \n",
       "1     2017-07-17 12:50:07  \n",
       "2     2018-06-06 21:41:12  \n",
       "\n",
       "[3 rows x 21 columns]"
      ]
     },
     "execution_count": 37,
     "metadata": {},
     "output_type": "execute_result"
    }
   ],
   "source": [
    "reviews_df.head(3)"
   ]
  },
  {
   "cell_type": "code",
   "execution_count": 38,
   "metadata": {
    "execution": {
     "iopub.execute_input": "2021-09-21T08:04:06.355757Z",
     "iopub.status.busy": "2021-09-21T08:04:06.354938Z",
     "iopub.status.idle": "2021-09-21T08:04:06.358353Z",
     "shell.execute_reply": "2021-09-21T08:04:06.357865Z",
     "shell.execute_reply.started": "2021-09-21T07:44:18.972308Z"
    },
    "papermill": {
     "duration": 0.071051,
     "end_time": "2021-09-21T08:04:06.358493",
     "exception": false,
     "start_time": "2021-09-21T08:04:06.287442",
     "status": "completed"
    },
    "tags": []
   },
   "outputs": [
    {
     "data": {
      "text/plain": [
       "(113322, 21)"
      ]
     },
     "execution_count": 38,
     "metadata": {},
     "output_type": "execute_result"
    }
   ],
   "source": [
    "reviews_df.shape"
   ]
  },
  {
   "cell_type": "code",
   "execution_count": 39,
   "metadata": {
    "execution": {
     "iopub.execute_input": "2021-09-21T08:04:06.491057Z",
     "iopub.status.busy": "2021-09-21T08:04:06.490316Z",
     "iopub.status.idle": "2021-09-21T08:04:06.493398Z",
     "shell.execute_reply": "2021-09-21T08:04:06.493888Z",
     "shell.execute_reply.started": "2021-09-21T07:44:18.979862Z"
    },
    "papermill": {
     "duration": 0.073269,
     "end_time": "2021-09-21T08:04:06.494051",
     "exception": false,
     "start_time": "2021-09-21T08:04:06.420782",
     "status": "completed"
    },
    "tags": []
   },
   "outputs": [
    {
     "data": {
      "text/plain": [
       "5    57420\n",
       "4    19200\n",
       "1    11858\n",
       "3     8287\n",
       "2     3235\n",
       "Name: review_score, dtype: int64"
      ]
     },
     "execution_count": 39,
     "metadata": {},
     "output_type": "execute_result"
    }
   ],
   "source": [
    "order_reviews['review_score'].value_counts()"
   ]
  },
  {
   "cell_type": "code",
   "execution_count": 40,
   "metadata": {
    "execution": {
     "iopub.execute_input": "2021-09-21T08:04:06.627223Z",
     "iopub.status.busy": "2021-09-21T08:04:06.626145Z",
     "iopub.status.idle": "2021-09-21T08:04:06.632416Z",
     "shell.execute_reply": "2021-09-21T08:04:06.631656Z",
     "shell.execute_reply.started": "2021-09-21T07:44:18.994012Z"
    },
    "papermill": {
     "duration": 0.075964,
     "end_time": "2021-09-21T08:04:06.632607",
     "exception": false,
     "start_time": "2021-09-21T08:04:06.556643",
     "status": "completed"
    },
    "tags": []
   },
   "outputs": [
    {
     "data": {
      "text/plain": [
       "array([4, 5, 1, 3, 2])"
      ]
     },
     "execution_count": 40,
     "metadata": {},
     "output_type": "execute_result"
    }
   ],
   "source": [
    "order_reviews['review_score'].unique()"
   ]
  },
  {
   "cell_type": "raw",
   "metadata": {
    "papermill": {
     "duration": 0.066728,
     "end_time": "2021-09-21T08:04:06.780323",
     "exception": false,
     "start_time": "2021-09-21T08:04:06.713595",
     "status": "completed"
    },
    "tags": []
   },
   "source": [
    "Ratings points are discrete, starting from 1 to 5."
   ]
  },
  {
   "cell_type": "code",
   "execution_count": 41,
   "metadata": {
    "execution": {
     "iopub.execute_input": "2021-09-21T08:04:06.915342Z",
     "iopub.status.busy": "2021-09-21T08:04:06.914332Z",
     "iopub.status.idle": "2021-09-21T08:04:07.129170Z",
     "shell.execute_reply": "2021-09-21T08:04:07.129654Z",
     "shell.execute_reply.started": "2021-09-21T07:44:19.004062Z"
    },
    "papermill": {
     "duration": 0.284192,
     "end_time": "2021-09-21T08:04:07.129825",
     "exception": false,
     "start_time": "2021-09-21T08:04:06.845633",
     "status": "completed"
    },
    "tags": []
   },
   "outputs": [
    {
     "data": {
      "text/plain": [
       "Text(0, 0.5, 'Counts')"
      ]
     },
     "execution_count": 41,
     "metadata": {},
     "output_type": "execute_result"
    },
    {
     "data": {
      "image/png": "[encoded data removed]",
      "text/plain": [
       "<Figure size 432x288 with 1 Axes>"
      ]
     },
     "metadata": {
      "needs_background": "light"
     },
     "output_type": "display_data"
    }
   ],
   "source": [
    "sns.barplot(x=order_reviews['review_score'].value_counts().index,y=order_reviews['review_score'].value_counts().values)\n",
    "plt.xlabel('Ratings')\n",
    "plt.ylabel('Counts')"
   ]
  },
  {
   "cell_type": "raw",
   "metadata": {
    "papermill": {
     "duration": 0.063811,
     "end_time": "2021-09-21T08:04:07.261470",
     "exception": false,
     "start_time": "2021-09-21T08:04:07.197659",
     "status": "completed"
    },
    "tags": []
   },
   "source": [
    "Most of the products have been rated 5,then 4.\n",
    "also 1 rating is higher than 2 and 3\n"
   ]
  },
  {
   "cell_type": "markdown",
   "metadata": {
    "papermill": {
     "duration": 0.063847,
     "end_time": "2021-09-21T08:04:07.389119",
     "exception": false,
     "start_time": "2021-09-21T08:04:07.325272",
     "status": "completed"
    },
    "tags": []
   },
   "source": [
    "### Top Ten rated products"
   ]
  },
  {
   "cell_type": "code",
   "execution_count": 42,
   "metadata": {
    "execution": {
     "iopub.execute_input": "2021-09-21T08:04:07.534665Z",
     "iopub.status.busy": "2021-09-21T08:04:07.521950Z",
     "iopub.status.idle": "2021-09-21T08:04:07.546509Z",
     "shell.execute_reply": "2021-09-21T08:04:07.545860Z",
     "shell.execute_reply.started": "2021-09-21T07:44:19.174827Z"
    },
    "papermill": {
     "duration": 0.09378,
     "end_time": "2021-09-21T08:04:07.546661",
     "exception": false,
     "start_time": "2021-09-21T08:04:07.452881",
     "status": "completed"
    },
    "tags": []
   },
   "outputs": [
    {
     "data": {
      "text/html": [
       "<div>\n",
       "<style scoped>\n",
       "    .dataframe tbody tr th:only-of-type {\n",
       "        vertical-align: middle;\n",
       "    }\n",
       "\n",
       "    .dataframe tbody tr th {\n",
       "        vertical-align: top;\n",
       "    }\n",
       "\n",
       "    .dataframe thead th {\n",
       "        text-align: right;\n",
       "    }\n",
       "</style>\n",
       "<table border=\"1\" class=\"dataframe\">\n",
       "  <thead>\n",
       "    <tr style=\"text-align: right;\">\n",
       "      <th></th>\n",
       "      <th>order_id</th>\n",
       "      <th>order_item_id</th>\n",
       "      <th>product_id</th>\n",
       "      <th>seller_id</th>\n",
       "      <th>shipping_limit_date</th>\n",
       "      <th>price</th>\n",
       "      <th>freight_value</th>\n",
       "      <th>product_category_name</th>\n",
       "      <th>product_name_lenght</th>\n",
       "      <th>product_description_lenght</th>\n",
       "      <th>...</th>\n",
       "      <th>product_weight_g</th>\n",
       "      <th>product_length_cm</th>\n",
       "      <th>product_height_cm</th>\n",
       "      <th>product_width_cm</th>\n",
       "      <th>review_id</th>\n",
       "      <th>review_score</th>\n",
       "      <th>review_comment_title</th>\n",
       "      <th>review_comment_message</th>\n",
       "      <th>review_creation_date</th>\n",
       "      <th>review_answer_timestamp</th>\n",
       "    </tr>\n",
       "  </thead>\n",
       "  <tbody>\n",
       "    <tr>\n",
       "      <th>0</th>\n",
       "      <td>00010242fe8c5a6d1ba2dd792cb16214</td>\n",
       "      <td>1</td>\n",
       "      <td>4244733e06e7ecb4970a6e2683c13e61</td>\n",
       "      <td>48436dade18ac8b2bce089ec2a041202</td>\n",
       "      <td>2017-09-19 09:45:35</td>\n",
       "      <td>58.9</td>\n",
       "      <td>13.29</td>\n",
       "      <td>cool_stuff</td>\n",
       "      <td>58.0</td>\n",
       "      <td>598.0</td>\n",
       "      <td>...</td>\n",
       "      <td>650.0</td>\n",
       "      <td>28.0</td>\n",
       "      <td>9.0</td>\n",
       "      <td>14.0</td>\n",
       "      <td>97ca439bc427b48bc1cd7177abe71365</td>\n",
       "      <td>5</td>\n",
       "      <td>NaN</td>\n",
       "      <td>Perfeito, produto entregue antes do combinado.</td>\n",
       "      <td>2017-09-21 00:00:00</td>\n",
       "      <td>2017-09-22 10:57:03</td>\n",
       "    </tr>\n",
       "    <tr>\n",
       "      <th>1</th>\n",
       "      <td>130898c0987d1801452a8ed92a670612</td>\n",
       "      <td>1</td>\n",
       "      <td>4244733e06e7ecb4970a6e2683c13e61</td>\n",
       "      <td>48436dade18ac8b2bce089ec2a041202</td>\n",
       "      <td>2017-07-05 02:44:11</td>\n",
       "      <td>55.9</td>\n",
       "      <td>17.96</td>\n",
       "      <td>cool_stuff</td>\n",
       "      <td>58.0</td>\n",
       "      <td>598.0</td>\n",
       "      <td>...</td>\n",
       "      <td>650.0</td>\n",
       "      <td>28.0</td>\n",
       "      <td>9.0</td>\n",
       "      <td>14.0</td>\n",
       "      <td>b11cba360bbe71410c291b764753d37f</td>\n",
       "      <td>5</td>\n",
       "      <td>NaN</td>\n",
       "      <td>lannister como sempre, entregou certinho e den...</td>\n",
       "      <td>2017-07-14 00:00:00</td>\n",
       "      <td>2017-07-17 12:50:07</td>\n",
       "    </tr>\n",
       "    <tr>\n",
       "      <th>2</th>\n",
       "      <td>532ed5e14e24ae1f0d735b91524b98b9</td>\n",
       "      <td>1</td>\n",
       "      <td>4244733e06e7ecb4970a6e2683c13e61</td>\n",
       "      <td>48436dade18ac8b2bce089ec2a041202</td>\n",
       "      <td>2018-05-23 10:56:25</td>\n",
       "      <td>64.9</td>\n",
       "      <td>18.33</td>\n",
       "      <td>cool_stuff</td>\n",
       "      <td>58.0</td>\n",
       "      <td>598.0</td>\n",
       "      <td>...</td>\n",
       "      <td>650.0</td>\n",
       "      <td>28.0</td>\n",
       "      <td>9.0</td>\n",
       "      <td>14.0</td>\n",
       "      <td>af01c4017c5ab46df6cc810e069e654a</td>\n",
       "      <td>4</td>\n",
       "      <td>super recomendo</td>\n",
       "      <td>carrinho muito bonito</td>\n",
       "      <td>2018-06-05 00:00:00</td>\n",
       "      <td>2018-06-06 21:41:12</td>\n",
       "    </tr>\n",
       "  </tbody>\n",
       "</table>\n",
       "<p>3 rows × 21 columns</p>\n",
       "</div>"
      ],
      "text/plain": [
       "                           order_id  order_item_id  \\\n",
       "0  00010242fe8c5a6d1ba2dd792cb16214              1   \n",
       "1  130898c0987d1801452a8ed92a670612              1   \n",
       "2  532ed5e14e24ae1f0d735b91524b98b9              1   \n",
       "\n",
       "                         product_id                         seller_id  \\\n",
       "0  4244733e06e7ecb4970a6e2683c13e61  48436dade18ac8b2bce089ec2a041202   \n",
       "1  4244733e06e7ecb4970a6e2683c13e61  48436dade18ac8b2bce089ec2a041202   \n",
       "2  4244733e06e7ecb4970a6e2683c13e61  48436dade18ac8b2bce089ec2a041202   \n",
       "\n",
       "   shipping_limit_date  price  freight_value product_category_name  \\\n",
       "0  2017-09-19 09:45:35   58.9          13.29            cool_stuff   \n",
       "1  2017-07-05 02:44:11   55.9          17.96            cool_stuff   \n",
       "2  2018-05-23 10:56:25   64.9          18.33            cool_stuff   \n",
       "\n",
       "   product_name_lenght  product_description_lenght  ...  product_weight_g  \\\n",
       "0                 58.0                       598.0  ...             650.0   \n",
       "1                 58.0                       598.0  ...             650.0   \n",
       "2                 58.0                       598.0  ...             650.0   \n",
       "\n",
       "   product_length_cm  product_height_cm  product_width_cm  \\\n",
       "0               28.0                9.0              14.0   \n",
       "1               28.0                9.0              14.0   \n",
       "2               28.0                9.0              14.0   \n",
       "\n",
       "                          review_id review_score  review_comment_title  \\\n",
       "0  97ca439bc427b48bc1cd7177abe71365            5                   NaN   \n",
       "1  b11cba360bbe71410c291b764753d37f            5                   NaN   \n",
       "2  af01c4017c5ab46df6cc810e069e654a            4       super recomendo   \n",
       "\n",
       "                              review_comment_message review_creation_date  \\\n",
       "0     Perfeito, produto entregue antes do combinado.  2017-09-21 00:00:00   \n",
       "1  lannister como sempre, entregou certinho e den...  2017-07-14 00:00:00   \n",
       "2                              carrinho muito bonito  2018-06-05 00:00:00   \n",
       "\n",
       "  review_answer_timestamp  \n",
       "0     2017-09-22 10:57:03  \n",
       "1     2017-07-17 12:50:07  \n",
       "2     2018-06-06 21:41:12  \n",
       "\n",
       "[3 rows x 21 columns]"
      ]
     },
     "execution_count": 42,
     "metadata": {},
     "output_type": "execute_result"
    }
   ],
   "source": [
    "reviews_df.head(3)"
   ]
  },
  {
   "cell_type": "code",
   "execution_count": 43,
   "metadata": {
    "execution": {
     "iopub.execute_input": "2021-09-21T08:04:07.689253Z",
     "iopub.status.busy": "2021-09-21T08:04:07.688586Z",
     "iopub.status.idle": "2021-09-21T08:04:07.804748Z",
     "shell.execute_reply": "2021-09-21T08:04:07.804075Z",
     "shell.execute_reply.started": "2021-09-21T07:44:19.205086Z"
    },
    "papermill": {
     "duration": 0.189589,
     "end_time": "2021-09-21T08:04:07.804909",
     "exception": false,
     "start_time": "2021-09-21T08:04:07.615320",
     "status": "completed"
    },
    "tags": []
   },
   "outputs": [],
   "source": [
    "product_reviews_mean = reviews_df.groupby('product_category_name').mean()['review_score'].reset_index()"
   ]
  },
  {
   "cell_type": "code",
   "execution_count": 44,
   "metadata": {
    "execution": {
     "iopub.execute_input": "2021-09-21T08:04:07.948833Z",
     "iopub.status.busy": "2021-09-21T08:04:07.947841Z",
     "iopub.status.idle": "2021-09-21T08:04:07.951878Z",
     "shell.execute_reply": "2021-09-21T08:04:07.951392Z",
     "shell.execute_reply.started": "2021-09-21T07:44:19.323345Z"
    },
    "papermill": {
     "duration": 0.07934,
     "end_time": "2021-09-21T08:04:07.952019",
     "exception": false,
     "start_time": "2021-09-21T08:04:07.872679",
     "status": "completed"
    },
    "tags": []
   },
   "outputs": [
    {
     "data": {
      "text/html": [
       "<div>\n",
       "<style scoped>\n",
       "    .dataframe tbody tr th:only-of-type {\n",
       "        vertical-align: middle;\n",
       "    }\n",
       "\n",
       "    .dataframe tbody tr th {\n",
       "        vertical-align: top;\n",
       "    }\n",
       "\n",
       "    .dataframe thead th {\n",
       "        text-align: right;\n",
       "    }\n",
       "</style>\n",
       "<table border=\"1\" class=\"dataframe\">\n",
       "  <thead>\n",
       "    <tr style=\"text-align: right;\">\n",
       "      <th></th>\n",
       "      <th>product_category_name</th>\n",
       "      <th>review_score</th>\n",
       "    </tr>\n",
       "  </thead>\n",
       "  <tbody>\n",
       "    <tr>\n",
       "      <th>0</th>\n",
       "      <td>agro_industria_e_comercio</td>\n",
       "      <td>4.000000</td>\n",
       "    </tr>\n",
       "    <tr>\n",
       "      <th>1</th>\n",
       "      <td>alimentos</td>\n",
       "      <td>4.145098</td>\n",
       "    </tr>\n",
       "    <tr>\n",
       "      <th>2</th>\n",
       "      <td>alimentos_bebidas</td>\n",
       "      <td>4.303571</td>\n",
       "    </tr>\n",
       "  </tbody>\n",
       "</table>\n",
       "</div>"
      ],
      "text/plain": [
       "       product_category_name  review_score\n",
       "0  agro_industria_e_comercio      4.000000\n",
       "1                  alimentos      4.145098\n",
       "2          alimentos_bebidas      4.303571"
      ]
     },
     "execution_count": 44,
     "metadata": {},
     "output_type": "execute_result"
    }
   ],
   "source": [
    "product_reviews_mean.head(3)"
   ]
  },
  {
   "cell_type": "code",
   "execution_count": 45,
   "metadata": {
    "execution": {
     "iopub.execute_input": "2021-09-21T08:04:08.088696Z",
     "iopub.status.busy": "2021-09-21T08:04:08.087985Z",
     "iopub.status.idle": "2021-09-21T08:04:08.092800Z",
     "shell.execute_reply": "2021-09-21T08:04:08.093592Z",
     "shell.execute_reply.started": "2021-09-21T07:46:16.542689Z"
    },
    "papermill": {
     "duration": 0.075662,
     "end_time": "2021-09-21T08:04:08.093770",
     "exception": false,
     "start_time": "2021-09-21T08:04:08.018108",
     "status": "completed"
    },
    "tags": []
   },
   "outputs": [],
   "source": [
    "top_10_ratings = product_reviews_mean.sort_values('review_score', ascending = False).nlargest(10,'review_score')\n",
    "lowest_10_ratings = product_reviews_mean.sort_values('review_score', ascending = False).nsmallest(10,'review_score')"
   ]
  },
  {
   "cell_type": "code",
   "execution_count": 46,
   "metadata": {
    "execution": {
     "iopub.execute_input": "2021-09-21T08:04:08.229158Z",
     "iopub.status.busy": "2021-09-21T08:04:08.228526Z",
     "iopub.status.idle": "2021-09-21T08:04:08.628525Z",
     "shell.execute_reply": "2021-09-21T08:04:08.628993Z",
     "shell.execute_reply.started": "2021-09-21T07:49:31.227148Z"
    },
    "papermill": {
     "duration": 0.469202,
     "end_time": "2021-09-21T08:04:08.629164",
     "exception": false,
     "start_time": "2021-09-21T08:04:08.159962",
     "status": "completed"
    },
    "tags": []
   },
   "outputs": [
    {
     "data": {
      "text/plain": [
       "Text(0, 0.5, 'Product Category Name')"
      ]
     },
     "execution_count": 46,
     "metadata": {},
     "output_type": "execute_result"
    },
    {
     "data": {
      "image/png": "[encoded data removed]",
      "text/plain": [
       "<Figure size 432x288 with 1 Axes>"
      ]
     },
     "metadata": {
      "needs_background": "light"
     },
     "output_type": "display_data"
    }
   ],
   "source": [
    "sns.barplot(data = top_10_ratings, x = 'review_score', y = 'product_category_name')\n",
    "plt.title('Top 10 Product Ratings')\n",
    "plt.xlabel('Average Rating')\n",
    "plt.ylabel('Product Category Name')"
   ]
  },
  {
   "cell_type": "raw",
   "metadata": {
    "papermill": {
     "duration": 0.066252,
     "end_time": "2021-09-21T08:04:08.766533",
     "exception": false,
     "start_time": "2021-09-21T08:04:08.700281",
     "status": "completed"
    },
    "tags": []
   },
   "source": [
    "Music, dvd, and cds category have the highest average ratings.\n",
    "after tha infant's fashion clothes come."
   ]
  },
  {
   "cell_type": "code",
   "execution_count": 47,
   "metadata": {
    "execution": {
     "iopub.execute_input": "2021-09-21T08:04:08.950925Z",
     "iopub.status.busy": "2021-09-21T08:04:08.940420Z",
     "iopub.status.idle": "2021-09-21T08:04:09.219919Z",
     "shell.execute_reply": "2021-09-21T08:04:09.218988Z",
     "shell.execute_reply.started": "2021-09-21T07:50:18.581877Z"
    },
    "papermill": {
     "duration": 0.384022,
     "end_time": "2021-09-21T08:04:09.220071",
     "exception": false,
     "start_time": "2021-09-21T08:04:08.836049",
     "status": "completed"
    },
    "tags": []
   },
   "outputs": [
    {
     "data": {
      "text/plain": [
       "Text(0, 0.5, 'Product Category Name')"
      ]
     },
     "execution_count": 47,
     "metadata": {},
     "output_type": "execute_result"
    },
    {
     "data": {
      "image/png": "[encoded data removed]",
      "text/plain": [
       "<Figure size 432x288 with 1 Axes>"
      ]
     },
     "metadata": {
      "needs_background": "light"
     },
     "output_type": "display_data"
    }
   ],
   "source": [
    "sns.barplot(data = lowest_10_ratings, x = 'review_score', y = 'product_category_name')\n",
    "plt.title('Lowest 10 Product Ratings')\n",
    "plt.xlabel('Average Rating')\n",
    "plt.ylabel('Product Category Name')"
   ]
  },
  {
   "cell_type": "raw",
   "metadata": {
    "papermill": {
     "duration": 0.067423,
     "end_time": "2021-09-21T08:04:09.355337",
     "exception": false,
     "start_time": "2021-09-21T08:04:09.287914",
     "status": "completed"
    },
    "tags": []
   },
   "source": [
    "Insurance Services have the worst ratings, followed by fraldas higiene products"
   ]
  },
  {
   "cell_type": "code",
   "execution_count": 48,
   "metadata": {
    "execution": {
     "iopub.execute_input": "2021-09-21T08:04:09.493262Z",
     "iopub.status.busy": "2021-09-21T08:04:09.492633Z",
     "iopub.status.idle": "2021-09-21T08:04:09.497546Z",
     "shell.execute_reply": "2021-09-21T08:04:09.498119Z",
     "shell.execute_reply.started": "2021-09-21T07:58:15.465150Z"
    },
    "papermill": {
     "duration": 0.075772,
     "end_time": "2021-09-21T08:04:09.498303",
     "exception": false,
     "start_time": "2021-09-21T08:04:09.422531",
     "status": "completed"
    },
    "tags": []
   },
   "outputs": [
    {
     "data": {
      "text/plain": [
       "['customers',\n",
       " 'sellers',\n",
       " 'order_reviews',\n",
       " 'order_items',\n",
       " 'products',\n",
       " 'geolocation',\n",
       " 'product_category',\n",
       " 'orders',\n",
       " 'payments']"
      ]
     },
     "execution_count": 48,
     "metadata": {},
     "output_type": "execute_result"
    }
   ],
   "source": [
    "# list print again list of all datasets\n",
    "list_of_all_datasets"
   ]
  },
  {
   "cell_type": "code",
   "execution_count": 49,
   "metadata": {
    "execution": {
     "iopub.execute_input": "2021-09-21T08:04:09.638588Z",
     "iopub.status.busy": "2021-09-21T08:04:09.637919Z",
     "iopub.status.idle": "2021-09-21T08:04:09.650256Z",
     "shell.execute_reply": "2021-09-21T08:04:09.649611Z",
     "shell.execute_reply.started": "2021-09-21T07:58:40.957603Z"
    },
    "papermill": {
     "duration": 0.083461,
     "end_time": "2021-09-21T08:04:09.650411",
     "exception": false,
     "start_time": "2021-09-21T08:04:09.566950",
     "status": "completed"
    },
    "tags": []
   },
   "outputs": [
    {
     "data": {
      "text/html": [
       "<div>\n",
       "<style scoped>\n",
       "    .dataframe tbody tr th:only-of-type {\n",
       "        vertical-align: middle;\n",
       "    }\n",
       "\n",
       "    .dataframe tbody tr th {\n",
       "        vertical-align: top;\n",
       "    }\n",
       "\n",
       "    .dataframe thead th {\n",
       "        text-align: right;\n",
       "    }\n",
       "</style>\n",
       "<table border=\"1\" class=\"dataframe\">\n",
       "  <thead>\n",
       "    <tr style=\"text-align: right;\">\n",
       "      <th></th>\n",
       "      <th>geolocation_zip_code_prefix</th>\n",
       "      <th>geolocation_lat</th>\n",
       "      <th>geolocation_lng</th>\n",
       "      <th>geolocation_city</th>\n",
       "      <th>geolocation_state</th>\n",
       "    </tr>\n",
       "  </thead>\n",
       "  <tbody>\n",
       "    <tr>\n",
       "      <th>0</th>\n",
       "      <td>1037</td>\n",
       "      <td>-23.545621</td>\n",
       "      <td>-46.639292</td>\n",
       "      <td>sao paulo</td>\n",
       "      <td>SP</td>\n",
       "    </tr>\n",
       "    <tr>\n",
       "      <th>1</th>\n",
       "      <td>1046</td>\n",
       "      <td>-23.546081</td>\n",
       "      <td>-46.644820</td>\n",
       "      <td>sao paulo</td>\n",
       "      <td>SP</td>\n",
       "    </tr>\n",
       "    <tr>\n",
       "      <th>2</th>\n",
       "      <td>1046</td>\n",
       "      <td>-23.546129</td>\n",
       "      <td>-46.642951</td>\n",
       "      <td>sao paulo</td>\n",
       "      <td>SP</td>\n",
       "    </tr>\n",
       "    <tr>\n",
       "      <th>3</th>\n",
       "      <td>1041</td>\n",
       "      <td>-23.544392</td>\n",
       "      <td>-46.639499</td>\n",
       "      <td>sao paulo</td>\n",
       "      <td>SP</td>\n",
       "    </tr>\n",
       "    <tr>\n",
       "      <th>4</th>\n",
       "      <td>1035</td>\n",
       "      <td>-23.541578</td>\n",
       "      <td>-46.641607</td>\n",
       "      <td>sao paulo</td>\n",
       "      <td>SP</td>\n",
       "    </tr>\n",
       "  </tbody>\n",
       "</table>\n",
       "</div>"
      ],
      "text/plain": [
       "   geolocation_zip_code_prefix  geolocation_lat  geolocation_lng  \\\n",
       "0                         1037       -23.545621       -46.639292   \n",
       "1                         1046       -23.546081       -46.644820   \n",
       "2                         1046       -23.546129       -46.642951   \n",
       "3                         1041       -23.544392       -46.639499   \n",
       "4                         1035       -23.541578       -46.641607   \n",
       "\n",
       "  geolocation_city geolocation_state  \n",
       "0        sao paulo                SP  \n",
       "1        sao paulo                SP  \n",
       "2        sao paulo                SP  \n",
       "3        sao paulo                SP  \n",
       "4        sao paulo                SP  "
      ]
     },
     "execution_count": 49,
     "metadata": {},
     "output_type": "execute_result"
    }
   ],
   "source": [
    "geolocation.head()"
   ]
  },
  {
   "cell_type": "code",
   "execution_count": 50,
   "metadata": {
    "execution": {
     "iopub.execute_input": "2021-09-21T08:04:09.799949Z",
     "iopub.status.busy": "2021-09-21T08:04:09.799254Z",
     "iopub.status.idle": "2021-09-21T08:04:10.025538Z",
     "shell.execute_reply": "2021-09-21T08:04:10.025982Z",
     "shell.execute_reply.started": "2021-09-21T07:59:17.975012Z"
    },
    "papermill": {
     "duration": 0.303324,
     "end_time": "2021-09-21T08:04:10.026151",
     "exception": false,
     "start_time": "2021-09-21T08:04:09.722827",
     "status": "completed"
    },
    "tags": []
   },
   "outputs": [
    {
     "data": {
      "text/plain": [
       "geolocation_zip_code_prefix    0\n",
       "geolocation_lat                0\n",
       "geolocation_lng                0\n",
       "geolocation_city               0\n",
       "geolocation_state              0\n",
       "dtype: int64"
      ]
     },
     "execution_count": 50,
     "metadata": {},
     "output_type": "execute_result"
    }
   ],
   "source": [
    "geolocation.isnull().sum()"
   ]
  },
  {
   "cell_type": "code",
   "execution_count": 51,
   "metadata": {
    "execution": {
     "iopub.execute_input": "2021-09-21T08:04:10.233678Z",
     "iopub.status.busy": "2021-09-21T08:04:10.232942Z",
     "iopub.status.idle": "2021-09-21T08:04:10.275267Z",
     "shell.execute_reply": "2021-09-21T08:04:10.275755Z",
     "shell.execute_reply.started": "2021-09-21T08:01:29.243132Z"
    },
    "papermill": {
     "duration": 0.179748,
     "end_time": "2021-09-21T08:04:10.275917",
     "exception": false,
     "start_time": "2021-09-21T08:04:10.096169",
     "status": "completed"
    },
    "tags": []
   },
   "outputs": [
    {
     "data": {
      "text/plain": [
       "8011"
      ]
     },
     "execution_count": 51,
     "metadata": {},
     "output_type": "execute_result"
    }
   ],
   "source": [
    "len(geolocation.geolocation_city.unique())"
   ]
  },
  {
   "cell_type": "raw",
   "metadata": {
    "papermill": {
     "duration": 0.069147,
     "end_time": "2021-09-21T08:04:10.414001",
     "exception": false,
     "start_time": "2021-09-21T08:04:10.344854",
     "status": "completed"
    },
    "tags": []
   },
   "source": [
    "There are 8011 unique city from geolocation data."
   ]
  }
 ],
 "metadata": {
  "kernelspec": {
   "display_name": "Python 3",
   "language": "python",
   "name": "python3"
  },
  "language_info": {
   "codemirror_mode": {
    "name": "ipython",
    "version": 3
   },
   "file_extension": ".py",
   "mimetype": "text/x-python",
   "name": "python",
   "nbconvert_exporter": "python",
   "pygments_lexer": "ipython3",
   "version": "3.8.5"
  },
  "papermill": {
   "default_parameters": {},
   "duration": 25.81254,
   "end_time": "2021-09-21T08:04:11.709650",
   "environment_variables": {},
   "exception": null,
   "input_path": "__notebook__.ipynb",
   "output_path": "__notebook__.ipynb",
   "parameters": {},
   "start_time": "2021-09-21T08:03:45.897110",
   "version": "2.3.3"
  }
 },
 "nbformat": 4,
 "nbformat_minor": 5
}

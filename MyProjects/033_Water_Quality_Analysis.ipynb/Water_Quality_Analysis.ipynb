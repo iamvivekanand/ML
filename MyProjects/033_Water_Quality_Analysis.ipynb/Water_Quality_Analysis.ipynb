{
 "cells": [
  {
   "cell_type": "markdown",
   "id": "a7d2994a",
   "metadata": {},
   "source": [
    "### Water Quality Analysis"
   ]
  },
  {
   "cell_type": "code",
   "execution_count": 69,
   "id": "d1b5ff50",
   "metadata": {},
   "outputs": [],
   "source": [
    "import pandas as pd\n",
    "import seaborn as sns\n",
    "import matplotlib.pyplot as plt"
   ]
  },
  {
   "cell_type": "code",
   "execution_count": 70,
   "id": "7995fc98",
   "metadata": {},
   "outputs": [],
   "source": [
    "import numpy as np"
   ]
  },
  {
   "cell_type": "code",
   "execution_count": 71,
   "id": "0a61c61b",
   "metadata": {},
   "outputs": [
    {
     "data": {
      "text/html": [
       "<div>\n",
       "<style scoped>\n",
       "    .dataframe tbody tr th:only-of-type {\n",
       "        vertical-align: middle;\n",
       "    }\n",
       "\n",
       "    .dataframe tbody tr th {\n",
       "        vertical-align: top;\n",
       "    }\n",
       "\n",
       "    .dataframe thead th {\n",
       "        text-align: right;\n",
       "    }\n",
       "</style>\n",
       "<table border=\"1\" class=\"dataframe\">\n",
       "  <thead>\n",
       "    <tr style=\"text-align: right;\">\n",
       "      <th></th>\n",
       "      <th>ph</th>\n",
       "      <th>Hardness</th>\n",
       "      <th>Solids</th>\n",
       "      <th>Chloramines</th>\n",
       "      <th>Sulfate</th>\n",
       "      <th>Conductivity</th>\n",
       "      <th>Organic_carbon</th>\n",
       "      <th>Trihalomethanes</th>\n",
       "      <th>Turbidity</th>\n",
       "      <th>Potability</th>\n",
       "    </tr>\n",
       "  </thead>\n",
       "  <tbody>\n",
       "    <tr>\n",
       "      <th>0</th>\n",
       "      <td>NaN</td>\n",
       "      <td>204.890455</td>\n",
       "      <td>20791.318981</td>\n",
       "      <td>7.300212</td>\n",
       "      <td>368.516441</td>\n",
       "      <td>564.308654</td>\n",
       "      <td>10.379783</td>\n",
       "      <td>86.990970</td>\n",
       "      <td>2.963135</td>\n",
       "      <td>0</td>\n",
       "    </tr>\n",
       "    <tr>\n",
       "      <th>1</th>\n",
       "      <td>3.71608</td>\n",
       "      <td>129.422921</td>\n",
       "      <td>18630.057858</td>\n",
       "      <td>6.635246</td>\n",
       "      <td>NaN</td>\n",
       "      <td>592.885359</td>\n",
       "      <td>15.180013</td>\n",
       "      <td>56.329076</td>\n",
       "      <td>4.500656</td>\n",
       "      <td>0</td>\n",
       "    </tr>\n",
       "  </tbody>\n",
       "</table>\n",
       "</div>"
      ],
      "text/plain": [
       "        ph    Hardness        Solids  Chloramines     Sulfate  Conductivity  \\\n",
       "0      NaN  204.890455  20791.318981     7.300212  368.516441    564.308654   \n",
       "1  3.71608  129.422921  18630.057858     6.635246         NaN    592.885359   \n",
       "\n",
       "   Organic_carbon  Trihalomethanes  Turbidity  Potability  \n",
       "0       10.379783        86.990970   2.963135           0  \n",
       "1       15.180013        56.329076   4.500656           0  "
      ]
     },
     "execution_count": 71,
     "metadata": {},
     "output_type": "execute_result"
    }
   ],
   "source": [
    "df=pd.read_csv('water_potability.csv')\n",
    "df.head(2)"
   ]
  },
  {
   "cell_type": "raw",
   "id": "4d662d30",
   "metadata": {},
   "source": [
    "Measures of water hardness\n",
    "General guidelines for classification of waters are: \n",
    "0 to 60 mg/L (milligrams per liter) as calcium carbonate is classified as soft; 61 to 120 mg/L as moderately hard; 121 to 180 mg/L as hard; and more than 180 mg/L as very hard."
   ]
  },
  {
   "cell_type": "code",
   "execution_count": 72,
   "id": "54677b69",
   "metadata": {},
   "outputs": [],
   "source": [
    "data=df.copy()"
   ]
  },
  {
   "cell_type": "code",
   "execution_count": 73,
   "id": "d8c6bd5d",
   "metadata": {},
   "outputs": [
    {
     "data": {
      "text/plain": [
       "ph                 491\n",
       "Hardness             0\n",
       "Solids               0\n",
       "Chloramines          0\n",
       "Sulfate            781\n",
       "Conductivity         0\n",
       "Organic_carbon       0\n",
       "Trihalomethanes    162\n",
       "Turbidity            0\n",
       "Potability           0\n",
       "dtype: int64"
      ]
     },
     "execution_count": 73,
     "metadata": {},
     "output_type": "execute_result"
    }
   ],
   "source": [
    "data.isnull().sum()"
   ]
  },
  {
   "cell_type": "code",
   "execution_count": 74,
   "id": "8a3a1a31",
   "metadata": {},
   "outputs": [
    {
     "data": {
      "text/plain": [
       "(3276, 10)"
      ]
     },
     "execution_count": 74,
     "metadata": {},
     "output_type": "execute_result"
    }
   ],
   "source": [
    "data.shape"
   ]
  },
  {
   "cell_type": "code",
   "execution_count": 75,
   "id": "cde6adbf",
   "metadata": {},
   "outputs": [
    {
     "data": {
      "text/plain": [
       "3.747657584441094e-83"
      ]
     },
     "execution_count": 75,
     "metadata": {},
     "output_type": "execute_result"
    }
   ],
   "source": [
    "# getting percentage of missing values of ph column\n",
    "(data['ph'].isnull().sum()/len(data['ph']))**100"
   ]
  },
  {
   "cell_type": "code",
   "execution_count": 76,
   "id": "1d6a89f3",
   "metadata": {},
   "outputs": [
    {
     "data": {
      "text/plain": [
       "5.379155250972684e-63"
      ]
     },
     "execution_count": 76,
     "metadata": {},
     "output_type": "execute_result"
    }
   ],
   "source": [
    "# getting percentage of missing values of Sulphate column\n",
    "(data['Sulfate'].isnull().sum()/len(data['Sulfate']))**100"
   ]
  },
  {
   "cell_type": "code",
   "execution_count": 77,
   "id": "5a2e3939",
   "metadata": {},
   "outputs": [
    {
     "data": {
      "text/plain": [
       "2.6128359652522427e-131"
      ]
     },
     "execution_count": 77,
     "metadata": {},
     "output_type": "execute_result"
    }
   ],
   "source": [
    "# getting percentage of missing values of Trihalomethanes column\n",
    "(data['Trihalomethanes'].isnull().sum()/len(data['Trihalomethanes']))**100"
   ]
  },
  {
   "cell_type": "code",
   "execution_count": 78,
   "id": "0ca99217",
   "metadata": {},
   "outputs": [
    {
     "data": {
      "text/plain": [
       "count    2785.000000\n",
       "mean        7.080795\n",
       "std         1.594320\n",
       "min         0.000000\n",
       "25%         6.093092\n",
       "50%         7.036752\n",
       "75%         8.062066\n",
       "max        14.000000\n",
       "Name: ph, dtype: float64"
      ]
     },
     "execution_count": 78,
     "metadata": {},
     "output_type": "execute_result"
    }
   ],
   "source": [
    "# before droping them lets explore more\n",
    "data['ph'].describe(include=np.nan).T"
   ]
  },
  {
   "cell_type": "code",
   "execution_count": 79,
   "id": "7fb9b904",
   "metadata": {},
   "outputs": [
    {
     "data": {
      "text/plain": [
       "ph                 0\n",
       "Hardness           0\n",
       "Solids             0\n",
       "Chloramines        0\n",
       "Sulfate            0\n",
       "Conductivity       0\n",
       "Organic_carbon     0\n",
       "Trihalomethanes    0\n",
       "Turbidity          0\n",
       "Potability         0\n",
       "dtype: int64"
      ]
     },
     "execution_count": 79,
     "metadata": {},
     "output_type": "execute_result"
    }
   ],
   "source": [
    "data = data.dropna()\n",
    "data.isnull().sum()"
   ]
  },
  {
   "cell_type": "raw",
   "id": "72e009b4",
   "metadata": {},
   "source": [
    "whether the water is potable (1) or unfit (0) for consumption. So let’s see the distribution of 0 and 1 in the Potability column"
   ]
  },
  {
   "cell_type": "code",
   "execution_count": 80,
   "id": "1b187c13",
   "metadata": {},
   "outputs": [],
   "source": [
    "import warnings\n",
    "warnings.filterwarnings('ignore')"
   ]
  },
  {
   "cell_type": "code",
   "execution_count": 81,
   "id": "42e82f22",
   "metadata": {},
   "outputs": [
    {
     "data": {
      "image/png": "[encoded data removed]",
      "text/plain": [
       "<Figure size 432x288 with 1 Axes>"
      ]
     },
     "metadata": {
      "needs_background": "light"
     },
     "output_type": "display_data"
    }
   ],
   "source": [
    "sns.countplot(data.Potability)\n",
    "plt.title(\"Distribution of Unsafe and Safe Water\")\n",
    "plt.show()"
   ]
  },
  {
   "cell_type": "code",
   "execution_count": 82,
   "id": "5117afbb",
   "metadata": {},
   "outputs": [
    {
     "data": {
      "application/vnd.plotly.v1+json": {
       "config": {
        "plotlyServerURL": "https://plot.ly"
       },
       "data": [
        {
         "alignmentgroup": "True",
         "bingroup": "x",
         "hovertemplate": "Potability=0<br>ph=%{x}<br>count=%{y}<extra></extra>",
         "legendgroup": "0",
         "marker": {
          "color": "#636efa",
          "pattern": {
           "shape": ""
          }
         },
         "name": "0",
         "offsetgroup": "0",
         "orientation": "v",
         "showlegend": true,
         "type": "histogram",
         "x": [
          8.316765884214679,
          9.092223456290965,
          5.584086638456089,
          10.223862164528772,
          8.635848718500734,
          11.180284470721592,
          7.360640105838258,
          7.119824384264552,
          6.347271760539316,
          9.181560007151536,
          7.371050302429531,
          6.660212026118103,
          5.400301780729467,
          6.514415093251676,
          3.4450618643852127,
          7.181448580829175,
          10.43329098280438,
          7.414148196336244,
          5.115817063771218,
          3.641629777473381,
          9.267187530763549,
          5.331940479018537,
          7.145771545218821,
          9.920691058768153,
          6.953864225511059,
          10.68296642580598,
          8.757257397440991,
          7.80963189801941,
          6.652488090855707,
          9.14719705533692,
          10.560744636218196,
          8.520806572970303,
          4.999413810796919,
          3.9060783549561697,
          6.391353623832183,
          5.058108868565138,
          7.261550522070718,
          7.16046723080874,
          5.704764776213017,
          6.21727313516034,
          3.514545528745279,
          3.72250048593372,
          6.455004797496717,
          7.316804753880919,
          7.408985466924612,
          5.976769618087598,
          6.395359131671062,
          6.762832521891738,
          9.91871706385417,
          10.15544017022192,
          8.721726710620581,
          9.026787719511631,
          6.953371603389549,
          6.140877556947864,
          7.077874006530455,
          5.488314309012512,
          7.205559174588729,
          9.177869865892433,
          4.270716194733736,
          8.526169869777789,
          8.490571562027739,
          8.858401531200467,
          6.09815652147278,
          8.41997068212899,
          7.875895135481787,
          7.725332908074757,
          3.388090610523891,
          7.183825723393187,
          10.111976704648654,
          6.877456932576713,
          8.550875469289338,
          10.308477656813704,
          7.371085073209565,
          6.506487766502467,
          6.643935774662305,
          5.033773989751668,
          6.91260756198984,
          7.977635990880497,
          6.078335836509272,
          6.242414484103846,
          6.063354789891076,
          8.129585513966727,
          9.56240594378952,
          8.167792632308252,
          6.825467900630395,
          7.861177700998561,
          4.965773559644967,
          6.207432967614718,
          9.76925100608684,
          9.630665479903348,
          7.633570087677555,
          5.771199049813688,
          6.579969329401555,
          4.80115436807586,
          6.906992171811655,
          7.726134807902507,
          8.927078148301744,
          6.208015539719022,
          6.128425635295917,
          7.308048848275572,
          8.640886408909486,
          8.153210075272153,
          8.293720110388866,
          7.83097634338162,
          4.430281211546542,
          7.240739638887768,
          6.867301321799131,
          6.129637014813746,
          7.917049443177883,
          6.511618075241813,
          5.32381558430839,
          6.769572868656792,
          5.877974040440475,
          6.340027628047595,
          5.653506134793232,
          6.6260121840753055,
          7.793833572993554,
          7.362736501949787,
          9.32030544529501,
          3.719791644371925,
          9.868877880662472,
          4.126528715100222,
          5.970035656942926,
          8.369154353699956,
          7.895469245942458,
          7.947485785725746,
          10.026159156427404,
          6.48819323961521,
          5.869736755337525,
          5.304142660215901,
          7.0861684008433095,
          7.95776834399615,
          8.875642278454443,
          6.613709117641848,
          7.735705021751655,
          9.925041328429108,
          9.002583109651113,
          5.095766464935885,
          8.594677108362674,
          7.083779060507377,
          7.682872498072526,
          4.443238899143103,
          6.978664262373817,
          6.623613565745125,
          3.664710561719395,
          4.814135620889671,
          7.436782609345538,
          4.723312573250525,
          9.380658050788323,
          7.810144933196836,
          9.406325752898285,
          6.32125931522299,
          6.581878201548969,
          6.755145901551625,
          6.945224092344811,
          5.742110407437118,
          5.596627849736466,
          7.350378986684694,
          6.262798867453871,
          9.927023723224528,
          4.961352728384606,
          6.4570975247378914,
          6.53936951037342,
          6.252410004649734,
          7.967344823111111,
          7.60952119012474,
          6.887863943894864,
          9.879071257570804,
          7.638761770450097,
          6.961891686003921,
          8.060609623630814,
          7.240271791102996,
          7.486779708528253,
          8.410460642866257,
          6.143921454143699,
          6.3848240094579065,
          9.46266601699853,
          5.873157137066786,
          7.858662778844826,
          6.728004385653386,
          9.112786250314787,
          8.07980835815327,
          7.078659419377965,
          8.043889299098865,
          7.040244978430556,
          5.483974108801343,
          8.534406879569957,
          7.26659453474728,
          7.240351005742477,
          8.692115322047213,
          8.639540977998708,
          7.179864148534108,
          7.163999222574383,
          6.35311030182946,
          6.681553567542745,
          5.44532598066911,
          7.539881892843843,
          4.370476580258797,
          10.316400384553162,
          6.599593818953803,
          7.920794564373236,
          8.237142633897012,
          4.775983438506525,
          5.903465715091598,
          7.705711006313976,
          7.815121777828159,
          6.139743031734375,
          5.041405027891031,
          8.675192691679182,
          7.689358003612376,
          5.6717623259348064,
          6.624806427804383,
          6.541007699013848,
          6.340809022225877,
          5.980357226763917,
          6.427512442841498,
          6.109073311509666,
          5.842933080915621,
          5.345887146753815,
          5.386307352101625,
          9.919478425557038,
          9.418296121790158,
          7.291957039597602,
          5.608745231813571,
          5.701154644911616,
          5.412762497595831,
          5.018132384268232,
          7.025305941689352,
          5.770620969105658,
          8.437875983021623,
          5.90707826866672,
          10.252734368477768,
          8.206499937809191,
          7.286167388039818,
          8.809296431775966,
          6.641500687280974,
          6.145148360574157,
          5.906441764582054,
          5.389845930491161,
          5.006562979263787,
          6.503638200451563,
          8.742229881827978,
          8.394397411757225,
          4.301373467127349,
          8.313773604321764,
          3.41035967073924,
          7.510943342127445,
          6.978290867613598,
          7.460727220198072,
          9.049166054297842,
          9.515140615244428,
          7.494212046966072,
          6.624572527652799,
          6.032188902899926,
          6.344095425001865,
          7.459144859485703,
          6.361666802587903,
          5.7398163326022,
          8.805177745264922,
          8.003031485090926,
          6.42736514447551,
          6.124672270969831,
          8.45790103691031,
          5.772197393568782,
          7.895045662146321,
          8.57673992840484,
          5.596729817575806,
          8.145632374254966,
          6.665495068276907,
          6.499067997822331,
          9.735889387811044,
          9.268281894641785,
          6.475885398609551,
          6.297845634002767,
          5.284096687429166,
          8.269944709732332,
          8.214099764451955,
          8.719764331543185,
          6.492638846153852,
          7.814524320753557,
          9.652562935021928,
          7.386837696427604,
          5.497580321451809,
          6.268953336634952,
          4.029052709937867,
          6.412707041754053,
          5.548181849115771,
          7.4686170188765795,
          7.918150470853138,
          5.433242116512631,
          6.715719087979793,
          6.576845323081143,
          6.624943599869574,
          8.273643584335904,
          5.171434094056084,
          6.964198299767605,
          9.04258286604996,
          5.970578907790694,
          6.273805781551276,
          6.604007988638578,
          7.143941990149046,
          8.11644657034648,
          7.665187780430904,
          5.555352972792188,
          5.226941884272904,
          4.594209164354396,
          6.400256164229511,
          6.901863448736066,
          7.888843574059525,
          6.492403121956253,
          6.684699736748975,
          4.758648346768645,
          7.440825031061319,
          8.054885744073163,
          7.06183097218188,
          7.611609817181437,
          4.69143831512022,
          8.064170137236562,
          4.292966858149657,
          9.085637101693884,
          6.592442507785291,
          8.990317233704655,
          6.7391576920220535,
          6.492627157365379,
          6.753128352860487,
          8.296344055589273,
          7.918183320861496,
          8.783167623905637,
          8.159666704184943,
          7.685396843315841,
          7.76202074451675,
          7.207931097430971,
          6.98704150028991,
          4.69219656349297,
          10.695532491586295,
          6.791696906894755,
          4.489783796199172,
          8.020869102871476,
          5.0900353321672975,
          6.702496216244025,
          6.571099216507485,
          8.509220048921595,
          5.953981878134785,
          10.632909606071516,
          7.1830959315085465,
          5.923441414571481,
          7.377036503769029,
          7.833495881064739,
          4.745764371481156,
          9.055825784677507,
          5.492155982957838,
          4.487517479010939,
          7.027185659271876,
          10.200644508442188,
          7.344975869046369,
          8.285395274908012,
          5.94951876406115,
          5.296578803810236,
          10.282067974894762,
          7.01683611325458,
          6.871607245014967,
          8.238878989445276,
          5.791154373453377,
          6.153368956728868,
          7.303051906328316,
          7.592672300075482,
          4.922045466248699,
          7.6021214747799855,
          8.84628195691071,
          6.751698586301178,
          5.088213197324547,
          6.9549072165208425,
          9.519659984470318,
          4.700392723840931,
          10.386132934434618,
          5.746529194455349,
          10.811289500397242,
          8.966835972567804,
          6.848805452540466,
          8.861701556503956,
          4.252985000876296,
          6.729829903890115,
          5.924540482437398,
          6.470151959152821,
          6.930391469669391,
          7.421997644251864,
          6.204429354069558,
          9.066628053764038,
          4.713116701054447,
          10.581385987628256,
          6.138785151951198,
          5.276323544024682,
          6.776879087805668,
          7.2394159210992495,
          8.40876623110244,
          7.3669152841286385,
          7.856471100461379,
          5.158396409506499,
          4.443850856498079,
          8.247148271309296,
          4.902158988606676,
          6.86313624993993,
          6.6695323796655455,
          7.595669983691271,
          8.16307638255827,
          8.870278259927936,
          8.769676021676739,
          7.790874862321438,
          7.6512942259202,
          4.771490668948941,
          5.39205760659185,
          5.477283049476333,
          8.347949482501885,
          6.836224938677605,
          6.490037174928902,
          6.64884918609138,
          9.323583858284508,
          4.58196872788087,
          7.884841993204571,
          6.168838539281275,
          7.230845306553176,
          8.693104326309328,
          4.79746018165997,
          9.319176393077573,
          7.58168757744945,
          5.348213658597068,
          5.487876362610197,
          8.31595907145097,
          8.55107774771961,
          6.013160966461117,
          5.744067537432683,
          11.0278798626952,
          6.729580190108561,
          7.159398310953257,
          6.209697436775356,
          9.608533593881912,
          8.697122159630041,
          7.748928548486438,
          7.117917746068107,
          8.31002902004885,
          5.5242965308965095,
          10.201425755101072,
          5.3681257542274565,
          8.937802407855287,
          8.12420782636168,
          7.184973118804081,
          5.319769072934949,
          6.369111631336883,
          6.733493842280846,
          6.883015402442057,
          8.013516428610775,
          8.27205509125987,
          8.746985976471965,
          8.154840855474227,
          9.045720545334614,
          8.922409558967978,
          5.96130157218858,
          8.184410006452293,
          7.636454091471839,
          7.7753855932769635,
          7.617148870829691,
          6.664934584402665,
          8.81535795265852,
          7.765635561977197,
          8.567043820038332,
          6.994194675250799,
          3.3445885334830234,
          7.94388247715476,
          2.690831240408815,
          9.13569425989131,
          5.2140091940446665,
          5.363362645369775,
          6.582499747201653,
          6.810466516571186,
          5.574116594512444,
          8.555283422607033,
          4.483402760935388,
          9.128357757690482,
          5.271971377729756,
          6.46509352906692,
          8.24518659646861,
          6.430254785956541,
          7.48279127635069,
          5.504452320660907,
          8.522567732718088,
          5.69447554633745,
          6.934503590060883,
          6.115180039114616,
          8.575673021827997,
          7.226127199808895,
          8.326349854410445,
          5.548124946933236,
          5.3866379619568105,
          7.262534651633063,
          6.2570857911396685,
          7.025504334993,
          6.584839333204741,
          6.565633547125035,
          7.217392780568977,
          6.61977546022829,
          6.217255306949025,
          5.019984766789215,
          6.907379614971787,
          8.015780395152742,
          4.249890379403849,
          4.265269639731993,
          7.086877325565761,
          3.433874059145088,
          12.246928068519756,
          8.307462969006558,
          7.818274839301502,
          6.958534137481001,
          4.349439999351715,
          6.629985035787515,
          8.969697389596341,
          6.771050289732039,
          6.724639342026933,
          6.967270763874334,
          7.053116739303244,
          7.755154226534814,
          8.580008559294866,
          6.901710202557188,
          7.814250246965275,
          7.02129530579393,
          6.057068041253538,
          5.343075102966485,
          5.742533062882013,
          8.070477126886109,
          6.652824347726776,
          8.248703054410829,
          2.5692435620279186,
          5.664845758430077,
          8.999498939207154,
          5.588537190733878,
          6.265637343836686,
          6.922041828080885,
          8.07261240298569,
          8.82809437489545,
          8.647454007366981,
          7.475536901699288,
          11.53488049111763,
          6.453064802576986,
          7.893131972748397,
          7.9373922001148784,
          8.28112065517672,
          4.906491592988376,
          5.117913529014625,
          6.449070008905474,
          5.613562647017462,
          5.754212967735088,
          8.121253675568507,
          8.935115926023162,
          8.458814661984784,
          7.945407486586083,
          4.6955161408056245,
          6.710633528014908,
          9.502856746233924,
          4.405327146952358,
          6.968131312926198,
          5.76255224970805,
          8.397248095971374,
          7.593176933452913,
          5.149133288190244,
          7.37128987660506,
          5.202672012815987,
          9.14973392673672,
          7.615556979306126,
          7.813067624946343,
          7.721032687967833,
          9.056244707341865,
          5.848667070247964,
          8.470545998692103,
          8.170588044761532,
          6.381977105096429,
          6.989813770294979,
          10.378108203556572,
          3.5908223640059966,
          6.966835167879632,
          6.703486853784561,
          6.648793010019957,
          7.940713224453516,
          8.228563824612493,
          7.8943227825227344,
          7.042793877475889,
          8.305063984234739,
          8.26830759203937,
          6.367298530432279,
          7.098245544161473,
          7.322502050459663,
          5.198224971294214,
          6.280905112787962,
          6.823930137037019,
          6.629993518356908,
          10.301571270693753,
          6.12319393539216,
          6.848033469174725,
          5.122648454950097,
          3.434855759978651,
          8.725393412154087,
          8.174028130575552,
          8.034011916654261,
          7.893818459458376,
          8.163074030614228,
          6.867000691245711,
          6.898315040728939,
          5.329938815249272,
          6.962993545041664,
          6.84605994179889,
          6.739849727999298,
          5.495035446034119,
          7.583770299043087,
          6.394980461331702,
          5.821261629656031,
          5.5140621851991725,
          5.198067642905195,
          6.904121373223552,
          7.846057926337261,
          6.1798098000471855,
          6.755669308054412,
          7.266598792423617,
          6.980061938695879,
          5.899936566709943,
          7.260904363269189,
          5.575920648115463,
          5.4674012550751785,
          6.09001605715742,
          8.205447052623702,
          7.670505864185263,
          6.791097166019485,
          6.006769481080511,
          6.336342761889751,
          7.473235376592182,
          7.380104834625337,
          5.915944299587397,
          6.124847329190028,
          6.5854502296739055,
          6.342671183447911,
          6.6329902541703625,
          5.365192408000016,
          6.920388988495384,
          7.974248428106492,
          8.031055220266794,
          7.731315009102499,
          6.268402755741024,
          7.369911642352921,
          6.32037528471829,
          7.29008857213943,
          6.35651106246199,
          7.974065001358431,
          7.70036230513608,
          6.054607180419152,
          4.221420679849157,
          7.752176212505221,
          5.588129750721398,
          8.649868625073694,
          7.899256515294086,
          5.952267969284858,
          8.0401875566739,
          4.3132191507406965,
          8.817402774388958,
          7.476408459668984,
          7.691486298425762,
          8.92790592593881,
          5.621227320090063,
          7.566517124512967,
          6.1156375458102,
          7.595228724049122,
          7.399724707648925,
          5.34534537107888,
          7.095569331079976,
          3.92855649232336,
          5.999125177726393,
          8.89958837829117,
          7.375337619892639,
          8.97932285265221,
          8.532377473918308,
          7.213537481050567,
          8.895574457925981,
          6.582764203677888,
          6.841221063159616,
          7.146117224742147,
          7.50757529645138,
          7.997175822735124,
          5.1743459983462,
          7.811512445222393,
          7.43721665310552,
          7.95387811515525,
          8.058135996612346,
          9.497261162881252,
          7.984710742242038,
          6.261110580253398,
          6.957802749302861,
          6.732713713421406,
          4.886057056804735,
          8.518531795246274,
          6.950786515485461,
          6.023022741325022,
          9.011480407411014,
          7.946767904206179,
          8.141861116382476,
          7.703356821382107,
          9.25285650898534,
          6.152857802124513,
          7.130099196200058,
          6.792125450218405,
          8.885626344053186,
          7.183108734458526,
          6.1574431448430325,
          6.467868301691497,
          7.488133464330415,
          7.323545119666458,
          6.931470426933321,
          6.306864459373674,
          6.6096803221946265,
          6.632205878654961,
          5.716755666530133,
          7.740453870226316,
          6.513016585960504,
          7.277143966771516,
          6.6430265381410845,
          6.110545160785598,
          7.831117736766918,
          6.980727163646463,
          8.552782415873253,
          6.4493794387538665,
          7.392084037518904,
          8.360795827235105,
          7.619845076953617,
          5.404510674147487,
          7.079303517779591,
          7.161714892641493,
          6.854946858787279,
          7.30955640748172,
          9.313465892899943,
          6.187938053993094,
          7.9653373053048,
          9.26439090863462,
          7.75404435394794,
          8.176079615301635,
          7.1910248566863455,
          7.793039171409166,
          3.8788793890688,
          3.9782846273167376,
          7.480728113602178,
          4.4770917139584885,
          6.92265237065665,
          6.904536858235756,
          6.548017642485212,
          6.581082756075466,
          7.86464967253437,
          6.136907177131185,
          6.947028539657349,
          6.2033225076896565,
          8.373170925244922,
          5.921247069476017,
          8.829806178150646,
          6.83221738756748,
          4.293961234794354,
          9.678050853902558,
          8.662709501389225,
          5.897391120843136,
          6.98944217704844,
          8.297725877791718,
          3.8464539500942263,
          5.690387424364925,
          7.301563449379409,
          7.031684050645781,
          5.29419539028417,
          9.25049163907809,
          6.741245820881107,
          7.446089059117263,
          10.146290479832489,
          13.999999999999998,
          5.841118839551023,
          8.114665425854785,
          5.585116998353004,
          5.903993500851966,
          10.28412608414158,
          9.57822672035757,
          7.094830833998159,
          7.744772552356141,
          7.249257332525589,
          6.890274539026094,
          6.04738085652663,
          11.568767965914164,
          10.16483855701825,
          4.894278073597652,
          9.032563450772717,
          9.913703796778616,
          4.229224558864125,
          3.90656751428705,
          7.384048887654537,
          8.524296362923824,
          6.519847784240155,
          7.910640914062313,
          6.587464616653873,
          4.300029339574182,
          8.5759391744694,
          8.88493450304863,
          10.504760200011273,
          6.946717558359831,
          8.107091815038052,
          4.90889972426162,
          5.098967067721038,
          6.09309191422186,
          10.033933455332264,
          8.978997744647556,
          6.731278124219917,
          7.191962028701999,
          7.127711209793025,
          5.632040991917971,
          7.955026340097655,
          7.667520860166849,
          7.272362197396377,
          3.6919326929347136,
          7.692523533855144,
          8.157518082656166,
          7.187765846234752,
          8.758824521484824,
          9.969273220889765,
          5.8408115544650085,
          4.981672050401603,
          5.42331849638569,
          4.83857110672314,
          7.904053370906855,
          8.663974819761108,
          4.16111196816975,
          8.515977267378878,
          9.999807460393496,
          7.038092305552901,
          2.803563057437167,
          8.180755325786324,
          6.865125275334593,
          7.274756854860161,
          8.026773255939636,
          7.879543234364988,
          5.18941366922152,
          6.538084087098238,
          5.915806749510903,
          8.136497868762607,
          6.493764174632957,
          6.977405633483939,
          5.489248054892975,
          2.5581027992200664,
          7.312109303718794,
          8.554096969890676,
          8.02830424150094,
          8.616824426419665,
          9.467129030386197,
          6.793698634577208,
          5.050748379982704,
          6.246117565172954,
          8.142330913446468,
          6.8528990851413285,
          8.801933555312004,
          8.38376169055724,
          6.476139840300842,
          9.894562128568642,
          4.808039747375347,
          10.577930500044534,
          7.822491882508682,
          7.989376233974929,
          9.671796765490882,
          5.57475584790786,
          7.610509210594297,
          7.102446618231696,
          5.152739798697215,
          7.301463637868686,
          6.104925813644357,
          6.001382440647675,
          7.885678999417978,
          10.391942387040755,
          7.345138416508713,
          6.380717315013499,
          7.786734690190797,
          6.014539831399093,
          5.573201156513374,
          9.03650434774976,
          6.975392341170819,
          6.867521704142662,
          6.155249161058691,
          8.303263800482528,
          7.348611231182264,
          7.855906367971113,
          3.798391049424724,
          11.235425957161038,
          6.396341051039925,
          5.228506322285567,
          7.834319239941967,
          6.020653841390852,
          8.384296439201583,
          8.384623151510734,
          6.565319432045672,
          10.628820911367818,
          9.228484208847256,
          10.524601982194516,
          6.021265943377032,
          5.973951249276727,
          6.217579612346267,
          6.095511874689899,
          5.81456423425241,
          6.756659807295844,
          6.601407394510328,
          5.651933841463073,
          7.606066882417412,
          8.848103019208414,
          5.866250667826014,
          7.529929502630923,
          5.0977862263181,
          6.483994507852924,
          5.669699209078309,
          8.127710424418524,
          7.575757883896304,
          8.246369053777844,
          4.964070341569739,
          4.991396889652936,
          5.045625730051444,
          5.7753308887641,
          9.01210031314688,
          4.031610444420666,
          8.759488714536651,
          6.65364951527896,
          9.349469962360622,
          6.862936025532809,
          10.164173337271418,
          6.039823242055416,
          6.057904774112318,
          7.038347516788063,
          6.574083863949985,
          7.338107609571772,
          4.851103882370328,
          6.917920215961807,
          6.709336439351165,
          6.894050878953207,
          9.864727092099823,
          10.887304994821244,
          9.831401690527043,
          6.528479452805517,
          4.0914114501536405,
          6.175164949384786,
          8.73612638374922,
          9.152284708947713,
          6.317576553625639,
          7.191493718892235,
          7.381108533992378,
          6.172517370068869,
          9.076317993707086,
          8.854119540039433,
          6.7680600489552045,
          8.543216836760848,
          9.564853066461303,
          5.499787730339284,
          5.1959206693648685,
          7.283913577235948,
          5.872439859467661,
          5.735723554720852,
          6.158424006182359,
          7.2943644330256765,
          3.14871228517616,
          5.665266376618309,
          8.310938776156911,
          7.957113516429416,
          7.40023858050054,
          8.394509584685622,
          8.528292137777413,
          6.238053654469459,
          5.870615501212626,
          6.433726195268951,
          6.069363893970801,
          6.660461917426393,
          7.506111456769499,
          5.895145558138062,
          8.550525459441477,
          8.558663124002488,
          4.624304290590603,
          9.658661976447796,
          6.914868152466825,
          7.337924402194623,
          7.766114454212289,
          8.433974835689948,
          6.891549222025178,
          5.946160789485686,
          6.363836377773103,
          5.331799285360081,
          8.466013448224412,
          6.559627885261048,
          5.606315225526715,
          7.539337775748651,
          8.849702725492898,
          7.682762474412737,
          6.406797812679788,
          4.137044912614196,
          5.701100970110508,
          3.854617678402051,
          7.387433763492869,
          7.763415106574563,
          7.509350205118649,
          5.05727054567867,
          5.830542048973098,
          5.859690474378696,
          8.891674050856766,
          10.154219072428932,
          7.455541163214249,
          4.8118324898032325,
          9.961503136754189,
          3.2309731059187423,
          10.188432654950685,
          7.399811393921775,
          9.271668544453812,
          4.704183667003456,
          8.654792650142806,
          8.18936335603807,
          4.891960039961394,
          5.655117422470192,
          8.81147224773704,
          8.000775801322487,
          8.77504747012084,
          5.082241431687362,
          5.813546487993315,
          6.836059947015487,
          7.81965915392936,
          5.428356913745278,
          7.333003447205329,
          6.376950463991447,
          9.33823501843064,
          8.933877610085764,
          6.8388167067275365,
          5.600876517470604,
          6.1025333060713525,
          6.490922996455369,
          8.506979070074129,
          7.4132883405347805,
          7.103348375140523,
          6.153495923977116,
          2.376768075959951,
          7.51483566596394,
          4.835297728180936,
          8.376279724659616,
          7.945909068934831,
          8.727778876323073,
          6.089430846297192,
          7.172323075211824,
          4.563370643484322,
          3.6768449933847727,
          7.1175786583500535,
          7.822257362901787,
          4.334057805514532,
          8.839583902216155,
          5.290666876847178,
          7.873271692669199,
          7.171223722909929,
          6.977744099966936,
          9.87179123237563,
          4.317187353941982,
          4.227537385918204,
          4.140077138692398,
          5.349997296912594,
          7.710137890814498,
          8.330743318988178,
          6.510972334665771,
          6.9343105827538345,
          3.762097646306431,
          5.660736311071097,
          9.396148399484137,
          13.349888560662292,
          7.8179012805146595,
          1.4317815547427415,
          6.970036693982143,
          6.588007289609895,
          4.328282515586857,
          7.417823926645138,
          7.97532990104869,
          9.504157787679786,
          5.158722568170486,
          5.849778285365157,
          5.890870358820865,
          5.963479205038237,
          6.106759636289104,
          6.898932481849855,
          7.611982388879645,
          8.88697933200267,
          6.532097273862361,
          7.833980482334359,
          11.563169064627823,
          6.782868548051976,
          8.288765459923367,
          7.528980405257183,
          9.764658133573889,
          10.19166523931888,
          2.9251743203391,
          6.657793590506106,
          7.005230139691345,
          6.3927604591582,
          6.088022489133808,
          3.9613890465892574,
          4.275159672976756,
          7.301903491347546,
          10.893484732796878,
          11.496702452694173,
          5.808238633928169,
          7.783305612895872,
          6.316470521496127,
          7.057552645613959,
          4.850104171409935,
          4.5609165358431625,
          9.130828108445352,
          4.233558617035277,
          5.571019711316263,
          8.52714249773106,
          8.90373377508948,
          9.459930509926664,
          6.040281662132799,
          4.66349219217203,
          5.726336215779158,
          4.281522088672812,
          6.825647036962729,
          7.285371191083492,
          5.984941214650305,
          5.368988344377341,
          4.016590232603383,
          7.719000805137069,
          5.9837312940398855,
          8.847880710565029,
          7.561832947775752,
          3.832917408963562,
          3.730128006866974,
          5.801571267427695,
          6.6282561973074925,
          3.1020755653395566,
          4.497585145008658,
          5.584124358081074,
          10.33127327592513,
          6.931244178141836,
          5.58246981997149,
          7.992749619333389,
          9.58789502997377,
          4.633202516472866,
          6.901111019881917,
          7.79555762878438,
          6.255149748918091,
          11.496858885301972,
          9.347344621102474,
          10.337670863581334,
          5.287982807934926,
          7.617524134239115,
          7.149124567592087,
          8.651389726569342,
          5.290004370919174,
          5.369584180846635,
          8.040392261051977,
          8.550427814830229,
          7.739325711303171,
          7.104594898620113,
          8.859696040242188,
          7.397544009543939,
          5.174896031870469,
          5.47098182179818,
          4.933106138281651,
          6.260891633792807,
          7.693555234691673,
          5.622807134660068,
          6.174884306431656,
          5.039406776379789,
          9.809996386872031,
          8.862867931189149,
          7.287286375124328,
          9.065894193686976,
          9.314522391908303,
          7.985406393829891,
          10.289379606190511,
          3.98903207830178,
          4.495357678948128,
          5.620533436430034,
          10.209955798031316,
          8.558388775285017,
          8.42690635667539,
          10.227689694262509,
          10.81783107643296,
          5.093675134769971,
          5.26428380172951,
          7.971298747449369,
          8.3503510398453,
          2.1285314339651724,
          9.842056293598295,
          7.260319681766154,
          9.537878628968349,
          1.985383359263048,
          7.24899119805637,
          6.96820896010586,
          6.150553015211817,
          6.481890279167193,
          7.309596473979961,
          5.9672742278667465,
          8.631270000435086,
          9.1726245193336,
          11.449739296302305,
          6.283678794634559,
          6.971577181951132,
          4.7091867471804845,
          5.230003189525934
         ],
         "xaxis": "x",
         "yaxis": "y"
        },
        {
         "alignmentgroup": "True",
         "bingroup": "x",
         "hovertemplate": "Potability=1<br>ph=%{x}<br>count=%{y}<extra></extra>",
         "legendgroup": "1",
         "marker": {
          "color": "#EF553B",
          "pattern": {
           "shape": ""
          }
         },
         "name": "1",
         "offsetgroup": "1",
         "orientation": "v",
         "showlegend": true,
         "type": "histogram",
         "x": [
          9.445129837868656,
          9.024845037417505,
          6.800119090315878,
          7.174135162807995,
          7.657991236998258,
          8.322986672402298,
          9.80272078232571,
          6.101955230748901,
          4.997770601283687,
          4.815766790717072,
          6.548020558130832,
          6.618010905584669,
          7.788054732605206,
          5.191834327140628,
          6.869638941459091,
          9.058628424072683,
          7.29188832527326,
          7.275908773683996,
          6.512737123980129,
          7.207886781343905,
          5.324941855611651,
          7.082300649174803,
          10.761897799889317,
          6.286806948436977,
          9.79455869937693,
          8.210443565143713,
          10.356118827208377,
          7.958984291884183,
          6.552847474374976,
          7.628552723143854,
          4.790840540243071,
          7.710959938844849,
          8.291299005968142,
          9.032660579144682,
          7.129424730462989,
          8.075494507899103,
          10.04967371845643,
          5.667650646643197,
          6.795469009842269,
          10.041027974912506,
          7.296037733901175,
          5.862641232845869,
          7.29214180515922,
          7.821970940156012,
          11.301793996392291,
          9.161088612884836,
          7.798453676201213,
          5.564342490630351,
          7.88659122732868,
          9.597191856878178,
          6.9642259425787305,
          7.672909522943807,
          5.382489039471649,
          7.022952113429302,
          10.026223807942117,
          5.500186640904189,
          7.54370046605691,
          6.848331559049443,
          5.9102517293372046,
          9.567822726280443,
          4.296247023728075,
          8.52966934763357,
          8.065339036104211,
          9.158445163262003,
          8.848586282929045,
          9.495456381941786,
          8.052893916459475,
          6.425873866275697,
          7.757269665668284,
          5.117390302624234,
          7.481535362094441,
          7.063646975622253,
          6.87645104288265,
          4.812433652167467,
          4.78886106249815,
          6.505872509363588,
          5.628406919430697,
          5.966000488790355,
          6.3194315449597305,
          5.991283475366895,
          10.272444272154384,
          6.105140135043556,
          9.443358884146123,
          6.887414371129534,
          6.512900833266178,
          5.772718094851822,
          9.73956194896991,
          5.5419790193089264,
          6.448931033409073,
          8.544708661673045,
          6.664003050003359,
          8.736371210915214,
          7.146976296126542,
          5.040331692395899,
          6.259651602740059,
          5.767349596865663,
          7.0889406421502255,
          8.029181612754343,
          4.72578556493077,
          8.195765359895596,
          6.4437536684450585,
          7.039094321089831,
          7.543931304508226,
          7.3401708843321565,
          10.015189062467666,
          6.334162775563274,
          8.892998479215112,
          8.165714932759002,
          4.931958445234491,
          8.977821883109304,
          7.372611795824961,
          9.10733038346176,
          6.7046354257784735,
          3.623165848258656,
          7.966856823982582,
          8.907987117561257,
          5.898726324805972,
          9.51462662210288,
          8.842463655897197,
          7.721078493617457,
          9.0894210984221,
          1.757037115490783,
          5.085429352833509,
          9.545270521249014,
          6.246264053794833,
          8.596767212344783,
          6.436444496090232,
          7.33347772602672,
          6.144759037662152,
          5.393345914423263,
          5.624819996402396,
          5.768868031092238,
          5.251353815475827,
          7.68878591609137,
          5.8427546011896965,
          9.96124770904986,
          7.417502636689077,
          3.633162828862528,
          9.900814840038256,
          10.26843050116335,
          0.2274990502021987,
          6.0172609236891335,
          7.110845138033223,
          8.129341720237186,
          10.252816232929478,
          9.239440361060408,
          7.071314192217861,
          7.11589526567209,
          8.238996596889073,
          6.161779499462049,
          7.061845519716819,
          7.481397771916631,
          8.082148076453887,
          7.70218309918713,
          6.75076118602011,
          6.323942072569584,
          8.581428693706043,
          9.888941401311577,
          8.390500571895505,
          7.581944679656733,
          9.850054687400435,
          9.663653196397622,
          7.935607325113079,
          6.920342898512878,
          10.53809844277246,
          5.72930291193782,
          5.33568880893353,
          6.769834880813582,
          6.848329601322462,
          8.589202343654149,
          7.591346093540146,
          8.137767883092494,
          5.352565979714757,
          7.998090253941313,
          11.89807802974039,
          7.442536475327727,
          5.1408005276963324,
          9.62210598702481,
          5.361211666098464,
          6.376408434486552,
          3.94012545989782,
          6.916825973221457,
          9.146557555894002,
          10.268414718941344,
          7.368768530294821,
          9.393148441549062,
          7.296572875466082,
          8.90086469660199,
          8.107244312818498,
          7.804368873943725,
          4.666148130914806,
          10.90507641006552,
          4.739548767002988,
          9.869231934989052,
          5.827541211542772,
          0.9899122128791388,
          9.485832873402854,
          6.435722716949114,
          6.365497241052185,
          5.452214926167417,
          5.433466238973562,
          7.774468468846811,
          7.2034388489879815,
          6.150487600902442,
          6.767523658273503,
          6.744799074889901,
          7.603775446495936,
          8.546145555159878,
          5.43251208523776,
          7.71408935995488,
          7.845879929236758,
          7.15642449459831,
          4.77522195583692,
          7.741245058636744,
          4.18749081481174,
          7.808012211560277,
          5.895948983187193,
          7.269652252805362,
          7.457979826928165,
          7.746343115356286,
          8.275795629701165,
          6.879959452149452,
          6.799375518361883,
          4.736404607451753,
          6.578998162273409,
          8.775485733684196,
          6.8503020324159625,
          8.07327895224373,
          5.07827417522148,
          7.444914014951037,
          9.434005874654105,
          5.90590695420357,
          5.803496975764156,
          7.61715192193207,
          5.422445767908819,
          4.872560878371032,
          7.058182608235123,
          7.890354273534902,
          7.535700190571214,
          8.722143776841188,
          6.2843857911113785,
          9.30566048031861,
          4.923178856199699,
          6.143018479793687,
          6.616649174874958,
          7.623499920279238,
          7.860106421505122,
          5.579517092707998,
          4.303574607482778,
          6.417702476103476,
          5.036453976008759,
          10.41504401364904,
          8.41860665004133,
          7.557963629790507,
          11.24450714270002,
          5.728823779303805,
          10.486808416025616,
          5.71625135415621,
          6.770926884040844,
          6.043360083711829,
          6.320427822952782,
          8.684778671525315,
          7.961721463165571,
          5.484151253504955,
          7.186931122348115,
          9.792727768555451,
          3.637170625355805,
          7.06478908142805,
          6.632031568588184,
          5.913956687853429,
          9.484703254003293,
          8.447404488438133,
          6.859323725529028,
          6.30000176658891,
          7.31344675557596,
          6.572656388857353,
          6.002414611941971,
          5.93605710996818,
          8.016279103360878,
          8.783596632026194,
          6.911698241358011,
          5.974583248480268,
          7.828740104752374,
          6.114332051439626,
          7.139428272590956,
          6.635894308187562,
          6.280978206755163,
          5.068795502073682,
          8.151248961954652,
          7.582941676733986,
          5.344116870389696,
          7.871961402750839,
          5.3270235340963366,
          7.471026670171208,
          7.066141840325305,
          7.015332582746869,
          6.044671753329083,
          7.255798597493364,
          6.792407468552389,
          7.368165576531881,
          8.837786915479438,
          7.108140711077948,
          5.289618437232331,
          8.693149900569036,
          6.9997645107739865,
          6.89792271658945,
          9.91709205694149,
          5.609025353745414,
          7.714312671631406,
          6.351286549370794,
          7.958871446046477,
          6.000723335995511,
          6.392927840114371,
          6.977267851638903,
          6.353436843717337,
          7.330196876767331,
          6.948265449383849,
          8.24955050895133,
          6.903816977786621,
          7.605674820650833,
          7.301444654287731,
          6.788291583178551,
          6.692531669059861,
          6.028101118266446,
          6.715940563939271,
          7.490786675734917,
          6.336588682161135,
          7.381757557406792,
          7.256015038533906,
          7.0258217707497685,
          7.606880475374772,
          6.347020017898686,
          7.322828416616528,
          6.777506359435946,
          6.642755695262761,
          6.21758491448443,
          6.630122155828689,
          8.051022203026939,
          8.41608681704654,
          7.933067691513921,
          8.942045991487,
          7.033945358536714,
          6.816416925295727,
          6.460033522100627,
          6.227826794815905,
          5.632731646664602,
          6.19124144257447,
          7.701032797005616,
          5.646083311861947,
          7.896743922258235,
          6.010617576533585,
          7.986018499069503,
          7.565198073160248,
          5.736675708942604,
          5.991371081542708,
          9.723377230792792,
          7.736312841132024,
          6.71579947892659,
          8.242558635342093,
          6.539546127935385,
          7.007974587155316,
          7.740383939415849,
          5.772769697849313,
          7.571684493181063,
          8.733525329569868,
          6.917858355091138,
          8.512780908859234,
          6.539115261496296,
          8.227083130096286,
          7.274198050602535,
          7.118980168364626,
          5.941942536401314,
          7.278910903182803,
          7.44518902590451,
          6.442496436487848,
          6.919726155212071,
          6.472371049680761,
          8.251217779681046,
          6.528490775347884,
          7.4943911014551485,
          6.957433637931853,
          6.509621638211163,
          8.069297892811402,
          6.790838199257259,
          6.975209177557351,
          7.422225264350398,
          6.505065806504937,
          6.617862257193747,
          6.769769338622252,
          6.341751223983171,
          7.058866081279625,
          7.53928739507425,
          6.037428193759539,
          6.706695161498074,
          6.758851697206596,
          9.49424264803844,
          7.080193059013201,
          8.05304368223556,
          7.044375318734117,
          6.309891576180204,
          6.879404957296282,
          7.754884394437196,
          7.916669698835311,
          6.405392481776244,
          7.795957800597176,
          6.9678613966386695,
          6.6227913564466245,
          7.369988620741592,
          6.944868386836294,
          5.284810114998686,
          7.760189364703282,
          7.280560356935292,
          6.834259889880556,
          6.728975147762138,
          6.8649167394504005,
          5.808975519906834,
          8.45879698814859,
          7.288736661267014,
          7.463915951229467,
          7.05994023445362,
          7.425102223222055,
          6.742622398258796,
          7.041665417411175,
          7.185276448818911,
          6.597292363153351,
          6.908853083313673,
          6.281903929078816,
          7.036752103833548,
          7.369087138654637,
          7.70810998872957,
          6.504112779748324,
          8.185923417313038,
          7.080445821121838,
          4.704698461717015,
          7.976900873677573,
          6.967696683162022,
          6.444555170207262,
          6.277742483390635,
          9.014356734321137,
          7.781663759793227,
          7.15473588040487,
          6.748811549804483,
          8.128270069244824,
          6.335683141915911,
          5.940475876449588,
          7.61487763929876,
          6.718249444896243,
          6.8663565150600006,
          7.36667198942732,
          6.333640046326739,
          5.89241318577243,
          7.918039170296733,
          6.549124998345768,
          6.804796145017353,
          7.176170870069639,
          7.201702374896836,
          7.776044112626788,
          7.046548537016283,
          7.732880077797702,
          6.266799947990716,
          6.630251708982636,
          6.775631133267148,
          8.164992426171885,
          7.7737581374530995,
          7.295141331699135,
          7.657541728081206,
          7.664793523351656,
          7.544305635616618,
          7.74977378413344,
          7.442023084023342,
          6.559252620892982,
          7.035036795196814,
          7.880685942702883,
          7.498372459046129,
          6.538207172663557,
          5.7564756894907045,
          8.813504659624094,
          7.361599831600276,
          9.175586152587863,
          6.5108556110746,
          7.347030355621346,
          8.111953170359271,
          5.98501245091746,
          6.433722352782365,
          6.770095146347258,
          7.927969552720631,
          7.338826110612727,
          7.078361074110981,
          7.744125219434779,
          7.560392022830322,
          7.830607590568666,
          6.746934968256862,
          8.549692514107981,
          7.276863125209032,
          7.493290815928302,
          5.226895232238513,
          6.42064020641154,
          7.669012536518329,
          7.128062255250418,
          6.504876222341177,
          7.096047101005687,
          2.974429410478532,
          7.116132606475939,
          9.808258178934237,
          8.01883160724048,
          6.60364071679867,
          6.450805742930156,
          6.266378409594093,
          5.161878763351532,
          6.984405530368805,
          6.791992649110415,
          8.309227709741469,
          5.057736411358974,
          6.908272154356689,
          6.164480227353412,
          9.160997540099476,
          3.9757526579292986,
          5.685216462878775,
          6.93365391024419,
          7.464485186199689,
          6.071838864034008,
          7.136102612573539,
          6.150595718406801,
          5.508155525691396,
          4.761105184627487,
          10.490744032724807,
          6.676137319471859,
          7.973307535065096,
          7.352146037579763,
          5.468360932331922,
          2.538115773481364,
          8.423084471695775,
          7.617014108815567,
          7.617033493510344,
          5.429334842369292,
          5.49597599882932,
          5.092757238606061,
          6.2528102107865005,
          6.747415283032476,
          6.640862809077265,
          5.4985146932294855,
          5.652501287341676,
          7.8519256917911475,
          7.221689439703995,
          6.073684981465111,
          6.4079633358080486,
          7.184697762508415,
          6.174750579100353,
          9.540252240007296,
          6.888842932366855,
          8.174186267047556,
          8.756926859235552,
          4.740056688020883,
          8.764495619256667,
          7.899451562181437,
          7.402653150168774,
          5.800034176989708,
          7.08918418720376,
          4.945694700087746,
          9.77693205003625,
          5.153488640267044,
          6.884981084419804,
          7.608750191252161,
          4.901906856012032,
          5.711212506317297,
          8.655298873146698,
          8.3043346530985,
          7.717076952182754,
          7.555822759422741,
          4.881729593763433,
          4.083594880123227,
          4.865069696444607,
          9.62472688627138,
          5.188776875456335,
          5.916930488243061,
          5.729689120388078,
          5.678220967059215,
          7.753936117609168,
          9.159660476654182,
          7.496990927216014,
          7.542300167142759,
          7.159052990497457,
          5.844673795577308,
          5.258414736632194,
          7.420640789488351,
          8.189213850977879,
          8.289857906323226,
          8.025220020635544,
          8.848927372187074,
          6.438421803670398,
          8.205550719357213,
          8.310373671963342,
          7.833970823584208,
          8.142660400879283,
          5.896432475240334,
          4.310701499826136,
          7.895769121117427,
          6.862995092159006,
          6.578680569429318,
          7.423088086315854,
          9.166758132730486,
          8.468694414938106,
          6.486152659745713,
          7.79278353049359,
          6.569053876389385,
          4.921093903334441,
          6.727185265204605,
          5.757088957380868,
          5.842359064086903,
          5.654118943459351,
          6.4182030571970845,
          6.848000112594903,
          6.991685152928785,
          5.924799469006341,
          7.526680395036496,
          9.038326068974223,
          5.945988643250958,
          6.195086857984779,
          9.062822324592789,
          7.137428697435654,
          7.780868679242907,
          7.150046115062049,
          4.574124682109073,
          6.179312077651539,
          6.990452676633395,
          5.810742057236217,
          6.602539771517404,
          6.857493757803479,
          6.789820821454213,
          8.560349290980842,
          8.277058197816894,
          5.636923560026004,
          6.607503310701949,
          4.951413520154646,
          5.913132932597382,
          5.039673103915176,
          6.339142826418309,
          6.451503543212321,
          6.920448700069692,
          6.3932313449189255,
          6.100245391093,
          6.272474990901286,
          7.493843860854462,
          7.63526469216248,
          9.097617417474694,
          8.040144167343296,
          7.296908882387336,
          8.014183072060874,
          9.25289339735736,
          7.288112706816173,
          4.865444268085012,
          5.141506876714266,
          4.886379803626396,
          9.454119448104636,
          7.000523220722731,
          8.323982150124747,
          6.643158712135614,
          8.628893415492303,
          9.794717848521511,
          5.603325960876688,
          7.266781485544794,
          8.064652809050983,
          6.336456502432508,
          4.533399113632135,
          8.951652135487269,
          7.210773702067905,
          4.238282524808328,
          8.264090516352203,
          7.893312711115429,
          4.855587760461034,
          5.230453969096887,
          7.017295398626637,
          4.941972156828116,
          7.337399849697425,
          8.257596524670312,
          6.941278904431053,
          6.888547603133792,
          8.247958056143684,
          7.3560567780554384,
          9.75270322651984,
          6.910765112184391,
          8.80184604561893,
          6.283103588064353,
          6.35403811007823,
          5.928767339528974,
          7.342231249416264,
          8.594217251084952,
          8.149437297610588,
          9.271578532993324,
          7.021617480943761,
          7.83336100102891,
          6.643734375617576,
          6.761413709046804,
          7.612516822631869,
          6.080992868571669,
          6.658833571629886,
          6.427720560503044,
          5.023380783822836,
          8.163999617620284,
          5.272156458908084,
          7.46655835764527,
          7.397650662541773,
          5.53953369002387,
          7.376161138266742,
          9.318613915632229,
          6.701940911688224,
          5.5475762631029415,
          9.001822865226588,
          9.130768886836288,
          7.1252110755305536,
          8.43344310417292,
          6.847863211692964,
          7.263545070215379,
          7.77766536646659,
          6.665774201161871,
          4.959852811105887,
          6.397905013801276,
          8.1403444634267,
          6.714776879687881,
          4.33711946912069,
          8.433290823974154,
          7.274212566762742,
          6.579184951031363,
          8.651023362891474,
          8.35761299314161,
          6.658741558086449,
          6.332386866369147,
          6.730427772496591,
          8.297783199991656,
          6.259267532952487,
          8.076126298096359,
          5.7310421388707296,
          5.303764336866174,
          7.951451170491509,
          8.832142260904973,
          8.250830009047863,
          5.860574154812488,
          7.889579344955965,
          6.1859248920520455,
          9.079715109457624,
          9.221955642445518,
          9.370696575357568,
          6.02834878509831,
          5.6664461454272965,
          6.985303737450439,
          7.273368228315567,
          7.449659685994515,
          7.618119571705241,
          7.027296860302588,
          8.610963031730751,
          7.423586011645774,
          5.4566808884538265,
          9.612898964310972,
          6.641174116155328,
          8.2850715273713,
          6.985192202008131,
          5.0941643608551495,
          6.150034400886871,
          6.189699260391608,
          6.965279871760655,
          7.503085765108365,
          8.581042820709179,
          5.530055021165576,
          8.743958544661181,
          9.05238368979066,
          8.077260885586492,
          6.682097358751442,
          9.24141997355796,
          5.628313271623295,
          4.857802623979042,
          8.430471661964157,
          6.817608380056349,
          5.913755319868532,
          5.500276575154884,
          5.608623152458352,
          5.609235358941159,
          5.859822103560279,
          8.468741062907595,
          7.679595096300121,
          7.226592711428238,
          8.659113026830287,
          6.360195819161054,
          10.485603647205735,
          6.603416523303387,
          5.713322920959069,
          9.609834364508853,
          9.960689857533172,
          6.79265509816682,
          5.91053973772753,
          6.125810325429851,
          5.83610452509449,
          10.667363934157889,
          6.260111289935809,
          10.808156938842764,
          7.371914155906743,
          4.825591458154621,
          7.395450846886257,
          8.862112709633287,
          6.008973609999536,
          7.607223911235492,
          6.683367696720804,
          3.629922064880713,
          8.378108022890373,
          6.923636014423605,
          5.893103407526232,
          8.197353369384867,
          8.989900090557086,
          6.702546553103828,
          11.491010908391427,
          6.069615757057698,
          4.668101687405915
         ],
         "xaxis": "x",
         "yaxis": "y"
        }
       ],
       "layout": {
        "barmode": "relative",
        "legend": {
         "title": {
          "text": "Potability"
         },
         "tracegroupgap": 0
        },
        "template": {
         "data": {
          "bar": [
           {
            "error_x": {
             "color": "#2a3f5f"
            },
            "error_y": {
             "color": "#2a3f5f"
            },
            "marker": {
             "line": {
              "color": "#E5ECF6",
              "width": 0.5
             },
             "pattern": {
              "fillmode": "overlay",
              "size": 10,
              "solidity": 0.2
             }
            },
            "type": "bar"
           }
          ],
          "barpolar": [
           {
            "marker": {
             "line": {
              "color": "#E5ECF6",
              "width": 0.5
             },
             "pattern": {
              "fillmode": "overlay",
              "size": 10,
              "solidity": 0.2
             }
            },
            "type": "barpolar"
           }
          ],
          "carpet": [
           {
            "aaxis": {
             "endlinecolor": "#2a3f5f",
             "gridcolor": "white",
             "linecolor": "white",
             "minorgridcolor": "white",
             "startlinecolor": "#2a3f5f"
            },
            "baxis": {
             "endlinecolor": "#2a3f5f",
             "gridcolor": "white",
             "linecolor": "white",
             "minorgridcolor": "white",
             "startlinecolor": "#2a3f5f"
            },
            "type": "carpet"
           }
          ],
          "choropleth": [
           {
            "colorbar": {
             "outlinewidth": 0,
             "ticks": ""
            },
            "type": "choropleth"
           }
          ],
          "contour": [
           {
            "colorbar": {
             "outlinewidth": 0,
             "ticks": ""
            },
            "colorscale": [
             [
              0,
              "#0d0887"
             ],
             [
              0.1111111111111111,
              "#46039f"
             ],
             [
              0.2222222222222222,
              "#7201a8"
             ],
             [
              0.3333333333333333,
              "#9c179e"
             ],
             [
              0.4444444444444444,
              "#bd3786"
             ],
             [
              0.5555555555555556,
              "#d8576b"
             ],
             [
              0.6666666666666666,
              "#ed7953"
             ],
             [
              0.7777777777777778,
              "#fb9f3a"
             ],
             [
              0.8888888888888888,
              "#fdca26"
             ],
             [
              1,
              "#f0f921"
             ]
            ],
            "type": "contour"
           }
          ],
          "contourcarpet": [
           {
            "colorbar": {
             "outlinewidth": 0,
             "ticks": ""
            },
            "type": "contourcarpet"
           }
          ],
          "heatmap": [
           {
            "colorbar": {
             "outlinewidth": 0,
             "ticks": ""
            },
            "colorscale": [
             [
              0,
              "#0d0887"
             ],
             [
              0.1111111111111111,
              "#46039f"
             ],
             [
              0.2222222222222222,
              "#7201a8"
             ],
             [
              0.3333333333333333,
              "#9c179e"
             ],
             [
              0.4444444444444444,
              "#bd3786"
             ],
             [
              0.5555555555555556,
              "#d8576b"
             ],
             [
              0.6666666666666666,
              "#ed7953"
             ],
             [
              0.7777777777777778,
              "#fb9f3a"
             ],
             [
              0.8888888888888888,
              "#fdca26"
             ],
             [
              1,
              "#f0f921"
             ]
            ],
            "type": "heatmap"
           }
          ],
          "heatmapgl": [
           {
            "colorbar": {
             "outlinewidth": 0,
             "ticks": ""
            },
            "colorscale": [
             [
              0,
              "#0d0887"
             ],
             [
              0.1111111111111111,
              "#46039f"
             ],
             [
              0.2222222222222222,
              "#7201a8"
             ],
             [
              0.3333333333333333,
              "#9c179e"
             ],
             [
              0.4444444444444444,
              "#bd3786"
             ],
             [
              0.5555555555555556,
              "#d8576b"
             ],
             [
              0.6666666666666666,
              "#ed7953"
             ],
             [
              0.7777777777777778,
              "#fb9f3a"
             ],
             [
              0.8888888888888888,
              "#fdca26"
             ],
             [
              1,
              "#f0f921"
             ]
            ],
            "type": "heatmapgl"
           }
          ],
          "histogram": [
           {
            "marker": {
             "pattern": {
              "fillmode": "overlay",
              "size": 10,
              "solidity": 0.2
             }
            },
            "type": "histogram"
           }
          ],
          "histogram2d": [
           {
            "colorbar": {
             "outlinewidth": 0,
             "ticks": ""
            },
            "colorscale": [
             [
              0,
              "#0d0887"
             ],
             [
              0.1111111111111111,
              "#46039f"
             ],
             [
              0.2222222222222222,
              "#7201a8"
             ],
             [
              0.3333333333333333,
              "#9c179e"
             ],
             [
              0.4444444444444444,
              "#bd3786"
             ],
             [
              0.5555555555555556,
              "#d8576b"
             ],
             [
              0.6666666666666666,
              "#ed7953"
             ],
             [
              0.7777777777777778,
              "#fb9f3a"
             ],
             [
              0.8888888888888888,
              "#fdca26"
             ],
             [
              1,
              "#f0f921"
             ]
            ],
            "type": "histogram2d"
           }
          ],
          "histogram2dcontour": [
           {
            "colorbar": {
             "outlinewidth": 0,
             "ticks": ""
            },
            "colorscale": [
             [
              0,
              "#0d0887"
             ],
             [
              0.1111111111111111,
              "#46039f"
             ],
             [
              0.2222222222222222,
              "#7201a8"
             ],
             [
              0.3333333333333333,
              "#9c179e"
             ],
             [
              0.4444444444444444,
              "#bd3786"
             ],
             [
              0.5555555555555556,
              "#d8576b"
             ],
             [
              0.6666666666666666,
              "#ed7953"
             ],
             [
              0.7777777777777778,
              "#fb9f3a"
             ],
             [
              0.8888888888888888,
              "#fdca26"
             ],
             [
              1,
              "#f0f921"
             ]
            ],
            "type": "histogram2dcontour"
           }
          ],
          "mesh3d": [
           {
            "colorbar": {
             "outlinewidth": 0,
             "ticks": ""
            },
            "type": "mesh3d"
           }
          ],
          "parcoords": [
           {
            "line": {
             "colorbar": {
              "outlinewidth": 0,
              "ticks": ""
             }
            },
            "type": "parcoords"
           }
          ],
          "pie": [
           {
            "automargin": true,
            "type": "pie"
           }
          ],
          "scatter": [
           {
            "fillpattern": {
             "fillmode": "overlay",
             "size": 10,
             "solidity": 0.2
            },
            "type": "scatter"
           }
          ],
          "scatter3d": [
           {
            "line": {
             "colorbar": {
              "outlinewidth": 0,
              "ticks": ""
             }
            },
            "marker": {
             "colorbar": {
              "outlinewidth": 0,
              "ticks": ""
             }
            },
            "type": "scatter3d"
           }
          ],
          "scattercarpet": [
           {
            "marker": {
             "colorbar": {
              "outlinewidth": 0,
              "ticks": ""
             }
            },
            "type": "scattercarpet"
           }
          ],
          "scattergeo": [
           {
            "marker": {
             "colorbar": {
              "outlinewidth": 0,
              "ticks": ""
             }
            },
            "type": "scattergeo"
           }
          ],
          "scattergl": [
           {
            "marker": {
             "colorbar": {
              "outlinewidth": 0,
              "ticks": ""
             }
            },
            "type": "scattergl"
           }
          ],
          "scattermapbox": [
           {
            "marker": {
             "colorbar": {
              "outlinewidth": 0,
              "ticks": ""
             }
            },
            "type": "scattermapbox"
           }
          ],
          "scatterpolar": [
           {
            "marker": {
             "colorbar": {
              "outlinewidth": 0,
              "ticks": ""
             }
            },
            "type": "scatterpolar"
           }
          ],
          "scatterpolargl": [
           {
            "marker": {
             "colorbar": {
              "outlinewidth": 0,
              "ticks": ""
             }
            },
            "type": "scatterpolargl"
           }
          ],
          "scatterternary": [
           {
            "marker": {
             "colorbar": {
              "outlinewidth": 0,
              "ticks": ""
             }
            },
            "type": "scatterternary"
           }
          ],
          "surface": [
           {
            "colorbar": {
             "outlinewidth": 0,
             "ticks": ""
            },
            "colorscale": [
             [
              0,
              "#0d0887"
             ],
             [
              0.1111111111111111,
              "#46039f"
             ],
             [
              0.2222222222222222,
              "#7201a8"
             ],
             [
              0.3333333333333333,
              "#9c179e"
             ],
             [
              0.4444444444444444,
              "#bd3786"
             ],
             [
              0.5555555555555556,
              "#d8576b"
             ],
             [
              0.6666666666666666,
              "#ed7953"
             ],
             [
              0.7777777777777778,
              "#fb9f3a"
             ],
             [
              0.8888888888888888,
              "#fdca26"
             ],
             [
              1,
              "#f0f921"
             ]
            ],
            "type": "surface"
           }
          ],
          "table": [
           {
            "cells": {
             "fill": {
              "color": "#EBF0F8"
             },
             "line": {
              "color": "white"
             }
            },
            "header": {
             "fill": {
              "color": "#C8D4E3"
             },
             "line": {
              "color": "white"
             }
            },
            "type": "table"
           }
          ]
         },
         "layout": {
          "annotationdefaults": {
           "arrowcolor": "#2a3f5f",
           "arrowhead": 0,
           "arrowwidth": 1
          },
          "autotypenumbers": "strict",
          "coloraxis": {
           "colorbar": {
            "outlinewidth": 0,
            "ticks": ""
           }
          },
          "colorscale": {
           "diverging": [
            [
             0,
             "#8e0152"
            ],
            [
             0.1,
             "#c51b7d"
            ],
            [
             0.2,
             "#de77ae"
            ],
            [
             0.3,
             "#f1b6da"
            ],
            [
             0.4,
             "#fde0ef"
            ],
            [
             0.5,
             "#f7f7f7"
            ],
            [
             0.6,
             "#e6f5d0"
            ],
            [
             0.7,
             "#b8e186"
            ],
            [
             0.8,
             "#7fbc41"
            ],
            [
             0.9,
             "#4d9221"
            ],
            [
             1,
             "#276419"
            ]
           ],
           "sequential": [
            [
             0,
             "#0d0887"
            ],
            [
             0.1111111111111111,
             "#46039f"
            ],
            [
             0.2222222222222222,
             "#7201a8"
            ],
            [
             0.3333333333333333,
             "#9c179e"
            ],
            [
             0.4444444444444444,
             "#bd3786"
            ],
            [
             0.5555555555555556,
             "#d8576b"
            ],
            [
             0.6666666666666666,
             "#ed7953"
            ],
            [
             0.7777777777777778,
             "#fb9f3a"
            ],
            [
             0.8888888888888888,
             "#fdca26"
            ],
            [
             1,
             "#f0f921"
            ]
           ],
           "sequentialminus": [
            [
             0,
             "#0d0887"
            ],
            [
             0.1111111111111111,
             "#46039f"
            ],
            [
             0.2222222222222222,
             "#7201a8"
            ],
            [
             0.3333333333333333,
             "#9c179e"
            ],
            [
             0.4444444444444444,
             "#bd3786"
            ],
            [
             0.5555555555555556,
             "#d8576b"
            ],
            [
             0.6666666666666666,
             "#ed7953"
            ],
            [
             0.7777777777777778,
             "#fb9f3a"
            ],
            [
             0.8888888888888888,
             "#fdca26"
            ],
            [
             1,
             "#f0f921"
            ]
           ]
          },
          "colorway": [
           "#636efa",
           "#EF553B",
           "#00cc96",
           "#ab63fa",
           "#FFA15A",
           "#19d3f3",
           "#FF6692",
           "#B6E880",
           "#FF97FF",
           "#FECB52"
          ],
          "font": {
           "color": "#2a3f5f"
          },
          "geo": {
           "bgcolor": "white",
           "lakecolor": "white",
           "landcolor": "#E5ECF6",
           "showlakes": true,
           "showland": true,
           "subunitcolor": "white"
          },
          "hoverlabel": {
           "align": "left"
          },
          "hovermode": "closest",
          "mapbox": {
           "style": "light"
          },
          "paper_bgcolor": "white",
          "plot_bgcolor": "#E5ECF6",
          "polar": {
           "angularaxis": {
            "gridcolor": "white",
            "linecolor": "white",
            "ticks": ""
           },
           "bgcolor": "#E5ECF6",
           "radialaxis": {
            "gridcolor": "white",
            "linecolor": "white",
            "ticks": ""
           }
          },
          "scene": {
           "xaxis": {
            "backgroundcolor": "#E5ECF6",
            "gridcolor": "white",
            "gridwidth": 2,
            "linecolor": "white",
            "showbackground": true,
            "ticks": "",
            "zerolinecolor": "white"
           },
           "yaxis": {
            "backgroundcolor": "#E5ECF6",
            "gridcolor": "white",
            "gridwidth": 2,
            "linecolor": "white",
            "showbackground": true,
            "ticks": "",
            "zerolinecolor": "white"
           },
           "zaxis": {
            "backgroundcolor": "#E5ECF6",
            "gridcolor": "white",
            "gridwidth": 2,
            "linecolor": "white",
            "showbackground": true,
            "ticks": "",
            "zerolinecolor": "white"
           }
          },
          "shapedefaults": {
           "line": {
            "color": "#2a3f5f"
           }
          },
          "ternary": {
           "aaxis": {
            "gridcolor": "white",
            "linecolor": "white",
            "ticks": ""
           },
           "baxis": {
            "gridcolor": "white",
            "linecolor": "white",
            "ticks": ""
           },
           "bgcolor": "#E5ECF6",
           "caxis": {
            "gridcolor": "white",
            "linecolor": "white",
            "ticks": ""
           }
          },
          "title": {
           "x": 0.05
          },
          "xaxis": {
           "automargin": true,
           "gridcolor": "white",
           "linecolor": "white",
           "ticks": "",
           "title": {
            "standoff": 15
           },
           "zerolinecolor": "white",
           "zerolinewidth": 2
          },
          "yaxis": {
           "automargin": true,
           "gridcolor": "white",
           "linecolor": "white",
           "ticks": "",
           "title": {
            "standoff": 15
           },
           "zerolinecolor": "white",
           "zerolinewidth": 2
          }
         }
        },
        "title": {
         "text": "Factors Affecting Water Quality: PH"
        },
        "xaxis": {
         "anchor": "y",
         "domain": [
          0,
          1
         ],
         "title": {
          "text": "ph"
         }
        },
        "yaxis": {
         "anchor": "x",
         "domain": [
          0,
          1
         ],
         "title": {
          "text": "count"
         }
        }
       }
      },
      "text/html": [
       "<div>                            <div id=\"717932cf-e00f-48bb-b53c-cf2466373312\" class=\"plotly-graph-div\" style=\"height:525px; width:100%;\"></div>            <script type=\"text/javascript\">                require([\"plotly\"], function(Plotly) {                    window.PLOTLYENV=window.PLOTLYENV || {};                                    if (document.getElementById(\"717932cf-e00f-48bb-b53c-cf2466373312\")) {                    Plotly.newPlot(                        \"717932cf-e00f-48bb-b53c-cf2466373312\",                        [{\"alignmentgroup\":\"True\",\"bingroup\":\"x\",\"hovertemplate\":\"Potability=0<br>ph=%{x}<br>count=%{y}<extra></extra>\",\"legendgroup\":\"0\",\"marker\":{\"color\":\"#636efa\",\"pattern\":{\"shape\":\"\"}},\"name\":\"0\",\"offsetgroup\":\"0\",\"orientation\":\"v\",\"showlegend\":true,\"x\":[8.316765884214679,9.092223456290965,5.584086638456089,10.223862164528772,8.635848718500734,11.180284470721592,7.360640105838258,7.119824384264552,6.347271760539316,9.181560007151536,7.371050302429531,6.660212026118103,5.400301780729467,6.514415093251676,3.4450618643852127,7.181448580829175,10.43329098280438,7.414148196336244,5.115817063771218,3.641629777473381,9.267187530763549,5.331940479018537,7.145771545218821,9.920691058768153,6.953864225511059,10.68296642580598,8.757257397440991,7.80963189801941,6.652488090855707,9.14719705533692,10.560744636218196,8.520806572970303,4.999413810796919,3.9060783549561697,6.391353623832183,5.058108868565138,7.261550522070718,7.16046723080874,5.704764776213017,6.21727313516034,3.514545528745279,3.72250048593372,6.455004797496717,7.316804753880919,7.408985466924612,5.976769618087598,6.395359131671062,6.762832521891738,9.91871706385417,10.15544017022192,8.721726710620581,9.026787719511631,6.953371603389549,6.140877556947864,7.077874006530455,5.488314309012512,7.205559174588729,9.177869865892433,4.270716194733736,8.526169869777789,8.490571562027739,8.858401531200467,6.09815652147278,8.41997068212899,7.875895135481787,7.725332908074757,3.388090610523891,7.183825723393187,10.111976704648654,6.877456932576713,8.550875469289338,10.308477656813704,7.371085073209565,6.506487766502467,6.643935774662305,5.033773989751668,6.91260756198984,7.977635990880497,6.078335836509272,6.242414484103846,6.063354789891076,8.129585513966727,9.56240594378952,8.167792632308252,6.825467900630395,7.861177700998561,4.965773559644967,6.207432967614718,9.76925100608684,9.630665479903348,7.633570087677555,5.771199049813688,6.579969329401555,4.80115436807586,6.906992171811655,7.726134807902507,8.927078148301744,6.208015539719022,6.128425635295917,7.308048848275572,8.640886408909486,8.153210075272153,8.293720110388866,7.83097634338162,4.430281211546542,7.240739638887768,6.867301321799131,6.129637014813746,7.917049443177883,6.511618075241813,5.32381558430839,6.769572868656792,5.877974040440475,6.340027628047595,5.653506134793232,6.6260121840753055,7.793833572993554,7.362736501949787,9.32030544529501,3.719791644371925,9.868877880662472,4.126528715100222,5.970035656942926,8.369154353699956,7.895469245942458,7.947485785725746,10.026159156427404,6.48819323961521,5.869736755337525,5.304142660215901,7.0861684008433095,7.95776834399615,8.875642278454443,6.613709117641848,7.735705021751655,9.925041328429108,9.002583109651113,5.095766464935885,8.594677108362674,7.083779060507377,7.682872498072526,4.443238899143103,6.978664262373817,6.623613565745125,3.664710561719395,4.814135620889671,7.436782609345538,4.723312573250525,9.380658050788323,7.810144933196836,9.406325752898285,6.32125931522299,6.581878201548969,6.755145901551625,6.945224092344811,5.742110407437118,5.596627849736466,7.350378986684694,6.262798867453871,9.927023723224528,4.961352728384606,6.4570975247378914,6.53936951037342,6.252410004649734,7.967344823111111,7.60952119012474,6.887863943894864,9.879071257570804,7.638761770450097,6.961891686003921,8.060609623630814,7.240271791102996,7.486779708528253,8.410460642866257,6.143921454143699,6.3848240094579065,9.46266601699853,5.873157137066786,7.858662778844826,6.728004385653386,9.112786250314787,8.07980835815327,7.078659419377965,8.043889299098865,7.040244978430556,5.483974108801343,8.534406879569957,7.26659453474728,7.240351005742477,8.692115322047213,8.639540977998708,7.179864148534108,7.163999222574383,6.35311030182946,6.681553567542745,5.44532598066911,7.539881892843843,4.370476580258797,10.316400384553162,6.599593818953803,7.920794564373236,8.237142633897012,4.775983438506525,5.903465715091598,7.705711006313976,7.815121777828159,6.139743031734375,5.041405027891031,8.675192691679182,7.689358003612376,5.6717623259348064,6.624806427804383,6.541007699013848,6.340809022225877,5.980357226763917,6.427512442841498,6.109073311509666,5.842933080915621,5.345887146753815,5.386307352101625,9.919478425557038,9.418296121790158,7.291957039597602,5.608745231813571,5.701154644911616,5.412762497595831,5.018132384268232,7.025305941689352,5.770620969105658,8.437875983021623,5.90707826866672,10.252734368477768,8.206499937809191,7.286167388039818,8.809296431775966,6.641500687280974,6.145148360574157,5.906441764582054,5.389845930491161,5.006562979263787,6.503638200451563,8.742229881827978,8.394397411757225,4.301373467127349,8.313773604321764,3.41035967073924,7.510943342127445,6.978290867613598,7.460727220198072,9.049166054297842,9.515140615244428,7.494212046966072,6.624572527652799,6.032188902899926,6.344095425001865,7.459144859485703,6.361666802587903,5.7398163326022,8.805177745264922,8.003031485090926,6.42736514447551,6.124672270969831,8.45790103691031,5.772197393568782,7.895045662146321,8.57673992840484,5.596729817575806,8.145632374254966,6.665495068276907,6.499067997822331,9.735889387811044,9.268281894641785,6.475885398609551,6.297845634002767,5.284096687429166,8.269944709732332,8.214099764451955,8.719764331543185,6.492638846153852,7.814524320753557,9.652562935021928,7.386837696427604,5.497580321451809,6.268953336634952,4.029052709937867,6.412707041754053,5.548181849115771,7.4686170188765795,7.918150470853138,5.433242116512631,6.715719087979793,6.576845323081143,6.624943599869574,8.273643584335904,5.171434094056084,6.964198299767605,9.04258286604996,5.970578907790694,6.273805781551276,6.604007988638578,7.143941990149046,8.11644657034648,7.665187780430904,5.555352972792188,5.226941884272904,4.594209164354396,6.400256164229511,6.901863448736066,7.888843574059525,6.492403121956253,6.684699736748975,4.758648346768645,7.440825031061319,8.054885744073163,7.06183097218188,7.611609817181437,4.69143831512022,8.064170137236562,4.292966858149657,9.085637101693884,6.592442507785291,8.990317233704655,6.7391576920220535,6.492627157365379,6.753128352860487,8.296344055589273,7.918183320861496,8.783167623905637,8.159666704184943,7.685396843315841,7.76202074451675,7.207931097430971,6.98704150028991,4.69219656349297,10.695532491586295,6.791696906894755,4.489783796199172,8.020869102871476,5.0900353321672975,6.702496216244025,6.571099216507485,8.509220048921595,5.953981878134785,10.632909606071516,7.1830959315085465,5.923441414571481,7.377036503769029,7.833495881064739,4.745764371481156,9.055825784677507,5.492155982957838,4.487517479010939,7.027185659271876,10.200644508442188,7.344975869046369,8.285395274908012,5.94951876406115,5.296578803810236,10.282067974894762,7.01683611325458,6.871607245014967,8.238878989445276,5.791154373453377,6.153368956728868,7.303051906328316,7.592672300075482,4.922045466248699,7.6021214747799855,8.84628195691071,6.751698586301178,5.088213197324547,6.9549072165208425,9.519659984470318,4.700392723840931,10.386132934434618,5.746529194455349,10.811289500397242,8.966835972567804,6.848805452540466,8.861701556503956,4.252985000876296,6.729829903890115,5.924540482437398,6.470151959152821,6.930391469669391,7.421997644251864,6.204429354069558,9.066628053764038,4.713116701054447,10.581385987628256,6.138785151951198,5.276323544024682,6.776879087805668,7.2394159210992495,8.40876623110244,7.3669152841286385,7.856471100461379,5.158396409506499,4.443850856498079,8.247148271309296,4.902158988606676,6.86313624993993,6.6695323796655455,7.595669983691271,8.16307638255827,8.870278259927936,8.769676021676739,7.790874862321438,7.6512942259202,4.771490668948941,5.39205760659185,5.477283049476333,8.347949482501885,6.836224938677605,6.490037174928902,6.64884918609138,9.323583858284508,4.58196872788087,7.884841993204571,6.168838539281275,7.230845306553176,8.693104326309328,4.79746018165997,9.319176393077573,7.58168757744945,5.348213658597068,5.487876362610197,8.31595907145097,8.55107774771961,6.013160966461117,5.744067537432683,11.0278798626952,6.729580190108561,7.159398310953257,6.209697436775356,9.608533593881912,8.697122159630041,7.748928548486438,7.117917746068107,8.31002902004885,5.5242965308965095,10.201425755101072,5.3681257542274565,8.937802407855287,8.12420782636168,7.184973118804081,5.319769072934949,6.369111631336883,6.733493842280846,6.883015402442057,8.013516428610775,8.27205509125987,8.746985976471965,8.154840855474227,9.045720545334614,8.922409558967978,5.96130157218858,8.184410006452293,7.636454091471839,7.7753855932769635,7.617148870829691,6.664934584402665,8.81535795265852,7.765635561977197,8.567043820038332,6.994194675250799,3.3445885334830234,7.94388247715476,2.690831240408815,9.13569425989131,5.2140091940446665,5.363362645369775,6.582499747201653,6.810466516571186,5.574116594512444,8.555283422607033,4.483402760935388,9.128357757690482,5.271971377729756,6.46509352906692,8.24518659646861,6.430254785956541,7.48279127635069,5.504452320660907,8.522567732718088,5.69447554633745,6.934503590060883,6.115180039114616,8.575673021827997,7.226127199808895,8.326349854410445,5.548124946933236,5.3866379619568105,7.262534651633063,6.2570857911396685,7.025504334993,6.584839333204741,6.565633547125035,7.217392780568977,6.61977546022829,6.217255306949025,5.019984766789215,6.907379614971787,8.015780395152742,4.249890379403849,4.265269639731993,7.086877325565761,3.433874059145088,12.246928068519756,8.307462969006558,7.818274839301502,6.958534137481001,4.349439999351715,6.629985035787515,8.969697389596341,6.771050289732039,6.724639342026933,6.967270763874334,7.053116739303244,7.755154226534814,8.580008559294866,6.901710202557188,7.814250246965275,7.02129530579393,6.057068041253538,5.343075102966485,5.742533062882013,8.070477126886109,6.652824347726776,8.248703054410829,2.5692435620279186,5.664845758430077,8.999498939207154,5.588537190733878,6.265637343836686,6.922041828080885,8.07261240298569,8.82809437489545,8.647454007366981,7.475536901699288,11.53488049111763,6.453064802576986,7.893131972748397,7.9373922001148784,8.28112065517672,4.906491592988376,5.117913529014625,6.449070008905474,5.613562647017462,5.754212967735088,8.121253675568507,8.935115926023162,8.458814661984784,7.945407486586083,4.6955161408056245,6.710633528014908,9.502856746233924,4.405327146952358,6.968131312926198,5.76255224970805,8.397248095971374,7.593176933452913,5.149133288190244,7.37128987660506,5.202672012815987,9.14973392673672,7.615556979306126,7.813067624946343,7.721032687967833,9.056244707341865,5.848667070247964,8.470545998692103,8.170588044761532,6.381977105096429,6.989813770294979,10.378108203556572,3.5908223640059966,6.966835167879632,6.703486853784561,6.648793010019957,7.940713224453516,8.228563824612493,7.8943227825227344,7.042793877475889,8.305063984234739,8.26830759203937,6.367298530432279,7.098245544161473,7.322502050459663,5.198224971294214,6.280905112787962,6.823930137037019,6.629993518356908,10.301571270693753,6.12319393539216,6.848033469174725,5.122648454950097,3.434855759978651,8.725393412154087,8.174028130575552,8.034011916654261,7.893818459458376,8.163074030614228,6.867000691245711,6.898315040728939,5.329938815249272,6.962993545041664,6.84605994179889,6.739849727999298,5.495035446034119,7.583770299043087,6.394980461331702,5.821261629656031,5.5140621851991725,5.198067642905195,6.904121373223552,7.846057926337261,6.1798098000471855,6.755669308054412,7.266598792423617,6.980061938695879,5.899936566709943,7.260904363269189,5.575920648115463,5.4674012550751785,6.09001605715742,8.205447052623702,7.670505864185263,6.791097166019485,6.006769481080511,6.336342761889751,7.473235376592182,7.380104834625337,5.915944299587397,6.124847329190028,6.5854502296739055,6.342671183447911,6.6329902541703625,5.365192408000016,6.920388988495384,7.974248428106492,8.031055220266794,7.731315009102499,6.268402755741024,7.369911642352921,6.32037528471829,7.29008857213943,6.35651106246199,7.974065001358431,7.70036230513608,6.054607180419152,4.221420679849157,7.752176212505221,5.588129750721398,8.649868625073694,7.899256515294086,5.952267969284858,8.0401875566739,4.3132191507406965,8.817402774388958,7.476408459668984,7.691486298425762,8.92790592593881,5.621227320090063,7.566517124512967,6.1156375458102,7.595228724049122,7.399724707648925,5.34534537107888,7.095569331079976,3.92855649232336,5.999125177726393,8.89958837829117,7.375337619892639,8.97932285265221,8.532377473918308,7.213537481050567,8.895574457925981,6.582764203677888,6.841221063159616,7.146117224742147,7.50757529645138,7.997175822735124,5.1743459983462,7.811512445222393,7.43721665310552,7.95387811515525,8.058135996612346,9.497261162881252,7.984710742242038,6.261110580253398,6.957802749302861,6.732713713421406,4.886057056804735,8.518531795246274,6.950786515485461,6.023022741325022,9.011480407411014,7.946767904206179,8.141861116382476,7.703356821382107,9.25285650898534,6.152857802124513,7.130099196200058,6.792125450218405,8.885626344053186,7.183108734458526,6.1574431448430325,6.467868301691497,7.488133464330415,7.323545119666458,6.931470426933321,6.306864459373674,6.6096803221946265,6.632205878654961,5.716755666530133,7.740453870226316,6.513016585960504,7.277143966771516,6.6430265381410845,6.110545160785598,7.831117736766918,6.980727163646463,8.552782415873253,6.4493794387538665,7.392084037518904,8.360795827235105,7.619845076953617,5.404510674147487,7.079303517779591,7.161714892641493,6.854946858787279,7.30955640748172,9.313465892899943,6.187938053993094,7.9653373053048,9.26439090863462,7.75404435394794,8.176079615301635,7.1910248566863455,7.793039171409166,3.8788793890688,3.9782846273167376,7.480728113602178,4.4770917139584885,6.92265237065665,6.904536858235756,6.548017642485212,6.581082756075466,7.86464967253437,6.136907177131185,6.947028539657349,6.2033225076896565,8.373170925244922,5.921247069476017,8.829806178150646,6.83221738756748,4.293961234794354,9.678050853902558,8.662709501389225,5.897391120843136,6.98944217704844,8.297725877791718,3.8464539500942263,5.690387424364925,7.301563449379409,7.031684050645781,5.29419539028417,9.25049163907809,6.741245820881107,7.446089059117263,10.146290479832489,13.999999999999998,5.841118839551023,8.114665425854785,5.585116998353004,5.903993500851966,10.28412608414158,9.57822672035757,7.094830833998159,7.744772552356141,7.249257332525589,6.890274539026094,6.04738085652663,11.568767965914164,10.16483855701825,4.894278073597652,9.032563450772717,9.913703796778616,4.229224558864125,3.90656751428705,7.384048887654537,8.524296362923824,6.519847784240155,7.910640914062313,6.587464616653873,4.300029339574182,8.5759391744694,8.88493450304863,10.504760200011273,6.946717558359831,8.107091815038052,4.90889972426162,5.098967067721038,6.09309191422186,10.033933455332264,8.978997744647556,6.731278124219917,7.191962028701999,7.127711209793025,5.632040991917971,7.955026340097655,7.667520860166849,7.272362197396377,3.6919326929347136,7.692523533855144,8.157518082656166,7.187765846234752,8.758824521484824,9.969273220889765,5.8408115544650085,4.981672050401603,5.42331849638569,4.83857110672314,7.904053370906855,8.663974819761108,4.16111196816975,8.515977267378878,9.999807460393496,7.038092305552901,2.803563057437167,8.180755325786324,6.865125275334593,7.274756854860161,8.026773255939636,7.879543234364988,5.18941366922152,6.538084087098238,5.915806749510903,8.136497868762607,6.493764174632957,6.977405633483939,5.489248054892975,2.5581027992200664,7.312109303718794,8.554096969890676,8.02830424150094,8.616824426419665,9.467129030386197,6.793698634577208,5.050748379982704,6.246117565172954,8.142330913446468,6.8528990851413285,8.801933555312004,8.38376169055724,6.476139840300842,9.894562128568642,4.808039747375347,10.577930500044534,7.822491882508682,7.989376233974929,9.671796765490882,5.57475584790786,7.610509210594297,7.102446618231696,5.152739798697215,7.301463637868686,6.104925813644357,6.001382440647675,7.885678999417978,10.391942387040755,7.345138416508713,6.380717315013499,7.786734690190797,6.014539831399093,5.573201156513374,9.03650434774976,6.975392341170819,6.867521704142662,6.155249161058691,8.303263800482528,7.348611231182264,7.855906367971113,3.798391049424724,11.235425957161038,6.396341051039925,5.228506322285567,7.834319239941967,6.020653841390852,8.384296439201583,8.384623151510734,6.565319432045672,10.628820911367818,9.228484208847256,10.524601982194516,6.021265943377032,5.973951249276727,6.217579612346267,6.095511874689899,5.81456423425241,6.756659807295844,6.601407394510328,5.651933841463073,7.606066882417412,8.848103019208414,5.866250667826014,7.529929502630923,5.0977862263181,6.483994507852924,5.669699209078309,8.127710424418524,7.575757883896304,8.246369053777844,4.964070341569739,4.991396889652936,5.045625730051444,5.7753308887641,9.01210031314688,4.031610444420666,8.759488714536651,6.65364951527896,9.349469962360622,6.862936025532809,10.164173337271418,6.039823242055416,6.057904774112318,7.038347516788063,6.574083863949985,7.338107609571772,4.851103882370328,6.917920215961807,6.709336439351165,6.894050878953207,9.864727092099823,10.887304994821244,9.831401690527043,6.528479452805517,4.0914114501536405,6.175164949384786,8.73612638374922,9.152284708947713,6.317576553625639,7.191493718892235,7.381108533992378,6.172517370068869,9.076317993707086,8.854119540039433,6.7680600489552045,8.543216836760848,9.564853066461303,5.499787730339284,5.1959206693648685,7.283913577235948,5.872439859467661,5.735723554720852,6.158424006182359,7.2943644330256765,3.14871228517616,5.665266376618309,8.310938776156911,7.957113516429416,7.40023858050054,8.394509584685622,8.528292137777413,6.238053654469459,5.870615501212626,6.433726195268951,6.069363893970801,6.660461917426393,7.506111456769499,5.895145558138062,8.550525459441477,8.558663124002488,4.624304290590603,9.658661976447796,6.914868152466825,7.337924402194623,7.766114454212289,8.433974835689948,6.891549222025178,5.946160789485686,6.363836377773103,5.331799285360081,8.466013448224412,6.559627885261048,5.606315225526715,7.539337775748651,8.849702725492898,7.682762474412737,6.406797812679788,4.137044912614196,5.701100970110508,3.854617678402051,7.387433763492869,7.763415106574563,7.509350205118649,5.05727054567867,5.830542048973098,5.859690474378696,8.891674050856766,10.154219072428932,7.455541163214249,4.8118324898032325,9.961503136754189,3.2309731059187423,10.188432654950685,7.399811393921775,9.271668544453812,4.704183667003456,8.654792650142806,8.18936335603807,4.891960039961394,5.655117422470192,8.81147224773704,8.000775801322487,8.77504747012084,5.082241431687362,5.813546487993315,6.836059947015487,7.81965915392936,5.428356913745278,7.333003447205329,6.376950463991447,9.33823501843064,8.933877610085764,6.8388167067275365,5.600876517470604,6.1025333060713525,6.490922996455369,8.506979070074129,7.4132883405347805,7.103348375140523,6.153495923977116,2.376768075959951,7.51483566596394,4.835297728180936,8.376279724659616,7.945909068934831,8.727778876323073,6.089430846297192,7.172323075211824,4.563370643484322,3.6768449933847727,7.1175786583500535,7.822257362901787,4.334057805514532,8.839583902216155,5.290666876847178,7.873271692669199,7.171223722909929,6.977744099966936,9.87179123237563,4.317187353941982,4.227537385918204,4.140077138692398,5.349997296912594,7.710137890814498,8.330743318988178,6.510972334665771,6.9343105827538345,3.762097646306431,5.660736311071097,9.396148399484137,13.349888560662292,7.8179012805146595,1.4317815547427415,6.970036693982143,6.588007289609895,4.328282515586857,7.417823926645138,7.97532990104869,9.504157787679786,5.158722568170486,5.849778285365157,5.890870358820865,5.963479205038237,6.106759636289104,6.898932481849855,7.611982388879645,8.88697933200267,6.532097273862361,7.833980482334359,11.563169064627823,6.782868548051976,8.288765459923367,7.528980405257183,9.764658133573889,10.19166523931888,2.9251743203391,6.657793590506106,7.005230139691345,6.3927604591582,6.088022489133808,3.9613890465892574,4.275159672976756,7.301903491347546,10.893484732796878,11.496702452694173,5.808238633928169,7.783305612895872,6.316470521496127,7.057552645613959,4.850104171409935,4.5609165358431625,9.130828108445352,4.233558617035277,5.571019711316263,8.52714249773106,8.90373377508948,9.459930509926664,6.040281662132799,4.66349219217203,5.726336215779158,4.281522088672812,6.825647036962729,7.285371191083492,5.984941214650305,5.368988344377341,4.016590232603383,7.719000805137069,5.9837312940398855,8.847880710565029,7.561832947775752,3.832917408963562,3.730128006866974,5.801571267427695,6.6282561973074925,3.1020755653395566,4.497585145008658,5.584124358081074,10.33127327592513,6.931244178141836,5.58246981997149,7.992749619333389,9.58789502997377,4.633202516472866,6.901111019881917,7.79555762878438,6.255149748918091,11.496858885301972,9.347344621102474,10.337670863581334,5.287982807934926,7.617524134239115,7.149124567592087,8.651389726569342,5.290004370919174,5.369584180846635,8.040392261051977,8.550427814830229,7.739325711303171,7.104594898620113,8.859696040242188,7.397544009543939,5.174896031870469,5.47098182179818,4.933106138281651,6.260891633792807,7.693555234691673,5.622807134660068,6.174884306431656,5.039406776379789,9.809996386872031,8.862867931189149,7.287286375124328,9.065894193686976,9.314522391908303,7.985406393829891,10.289379606190511,3.98903207830178,4.495357678948128,5.620533436430034,10.209955798031316,8.558388775285017,8.42690635667539,10.227689694262509,10.81783107643296,5.093675134769971,5.26428380172951,7.971298747449369,8.3503510398453,2.1285314339651724,9.842056293598295,7.260319681766154,9.537878628968349,1.985383359263048,7.24899119805637,6.96820896010586,6.150553015211817,6.481890279167193,7.309596473979961,5.9672742278667465,8.631270000435086,9.1726245193336,11.449739296302305,6.283678794634559,6.971577181951132,4.7091867471804845,5.230003189525934],\"xaxis\":\"x\",\"yaxis\":\"y\",\"type\":\"histogram\"},{\"alignmentgroup\":\"True\",\"bingroup\":\"x\",\"hovertemplate\":\"Potability=1<br>ph=%{x}<br>count=%{y}<extra></extra>\",\"legendgroup\":\"1\",\"marker\":{\"color\":\"#EF553B\",\"pattern\":{\"shape\":\"\"}},\"name\":\"1\",\"offsetgroup\":\"1\",\"orientation\":\"v\",\"showlegend\":true,\"x\":[9.445129837868656,9.024845037417505,6.800119090315878,7.174135162807995,7.657991236998258,8.322986672402298,9.80272078232571,6.101955230748901,4.997770601283687,4.815766790717072,6.548020558130832,6.618010905584669,7.788054732605206,5.191834327140628,6.869638941459091,9.058628424072683,7.29188832527326,7.275908773683996,6.512737123980129,7.207886781343905,5.324941855611651,7.082300649174803,10.761897799889317,6.286806948436977,9.79455869937693,8.210443565143713,10.356118827208377,7.958984291884183,6.552847474374976,7.628552723143854,4.790840540243071,7.710959938844849,8.291299005968142,9.032660579144682,7.129424730462989,8.075494507899103,10.04967371845643,5.667650646643197,6.795469009842269,10.041027974912506,7.296037733901175,5.862641232845869,7.29214180515922,7.821970940156012,11.301793996392291,9.161088612884836,7.798453676201213,5.564342490630351,7.88659122732868,9.597191856878178,6.9642259425787305,7.672909522943807,5.382489039471649,7.022952113429302,10.026223807942117,5.500186640904189,7.54370046605691,6.848331559049443,5.9102517293372046,9.567822726280443,4.296247023728075,8.52966934763357,8.065339036104211,9.158445163262003,8.848586282929045,9.495456381941786,8.052893916459475,6.425873866275697,7.757269665668284,5.117390302624234,7.481535362094441,7.063646975622253,6.87645104288265,4.812433652167467,4.78886106249815,6.505872509363588,5.628406919430697,5.966000488790355,6.3194315449597305,5.991283475366895,10.272444272154384,6.105140135043556,9.443358884146123,6.887414371129534,6.512900833266178,5.772718094851822,9.73956194896991,5.5419790193089264,6.448931033409073,8.544708661673045,6.664003050003359,8.736371210915214,7.146976296126542,5.040331692395899,6.259651602740059,5.767349596865663,7.0889406421502255,8.029181612754343,4.72578556493077,8.195765359895596,6.4437536684450585,7.039094321089831,7.543931304508226,7.3401708843321565,10.015189062467666,6.334162775563274,8.892998479215112,8.165714932759002,4.931958445234491,8.977821883109304,7.372611795824961,9.10733038346176,6.7046354257784735,3.623165848258656,7.966856823982582,8.907987117561257,5.898726324805972,9.51462662210288,8.842463655897197,7.721078493617457,9.0894210984221,1.757037115490783,5.085429352833509,9.545270521249014,6.246264053794833,8.596767212344783,6.436444496090232,7.33347772602672,6.144759037662152,5.393345914423263,5.624819996402396,5.768868031092238,5.251353815475827,7.68878591609137,5.8427546011896965,9.96124770904986,7.417502636689077,3.633162828862528,9.900814840038256,10.26843050116335,0.2274990502021987,6.0172609236891335,7.110845138033223,8.129341720237186,10.252816232929478,9.239440361060408,7.071314192217861,7.11589526567209,8.238996596889073,6.161779499462049,7.061845519716819,7.481397771916631,8.082148076453887,7.70218309918713,6.75076118602011,6.323942072569584,8.581428693706043,9.888941401311577,8.390500571895505,7.581944679656733,9.850054687400435,9.663653196397622,7.935607325113079,6.920342898512878,10.53809844277246,5.72930291193782,5.33568880893353,6.769834880813582,6.848329601322462,8.589202343654149,7.591346093540146,8.137767883092494,5.352565979714757,7.998090253941313,11.89807802974039,7.442536475327727,5.1408005276963324,9.62210598702481,5.361211666098464,6.376408434486552,3.94012545989782,6.916825973221457,9.146557555894002,10.268414718941344,7.368768530294821,9.393148441549062,7.296572875466082,8.90086469660199,8.107244312818498,7.804368873943725,4.666148130914806,10.90507641006552,4.739548767002988,9.869231934989052,5.827541211542772,0.9899122128791388,9.485832873402854,6.435722716949114,6.365497241052185,5.452214926167417,5.433466238973562,7.774468468846811,7.2034388489879815,6.150487600902442,6.767523658273503,6.744799074889901,7.603775446495936,8.546145555159878,5.43251208523776,7.71408935995488,7.845879929236758,7.15642449459831,4.77522195583692,7.741245058636744,4.18749081481174,7.808012211560277,5.895948983187193,7.269652252805362,7.457979826928165,7.746343115356286,8.275795629701165,6.879959452149452,6.799375518361883,4.736404607451753,6.578998162273409,8.775485733684196,6.8503020324159625,8.07327895224373,5.07827417522148,7.444914014951037,9.434005874654105,5.90590695420357,5.803496975764156,7.61715192193207,5.422445767908819,4.872560878371032,7.058182608235123,7.890354273534902,7.535700190571214,8.722143776841188,6.2843857911113785,9.30566048031861,4.923178856199699,6.143018479793687,6.616649174874958,7.623499920279238,7.860106421505122,5.579517092707998,4.303574607482778,6.417702476103476,5.036453976008759,10.41504401364904,8.41860665004133,7.557963629790507,11.24450714270002,5.728823779303805,10.486808416025616,5.71625135415621,6.770926884040844,6.043360083711829,6.320427822952782,8.684778671525315,7.961721463165571,5.484151253504955,7.186931122348115,9.792727768555451,3.637170625355805,7.06478908142805,6.632031568588184,5.913956687853429,9.484703254003293,8.447404488438133,6.859323725529028,6.30000176658891,7.31344675557596,6.572656388857353,6.002414611941971,5.93605710996818,8.016279103360878,8.783596632026194,6.911698241358011,5.974583248480268,7.828740104752374,6.114332051439626,7.139428272590956,6.635894308187562,6.280978206755163,5.068795502073682,8.151248961954652,7.582941676733986,5.344116870389696,7.871961402750839,5.3270235340963366,7.471026670171208,7.066141840325305,7.015332582746869,6.044671753329083,7.255798597493364,6.792407468552389,7.368165576531881,8.837786915479438,7.108140711077948,5.289618437232331,8.693149900569036,6.9997645107739865,6.89792271658945,9.91709205694149,5.609025353745414,7.714312671631406,6.351286549370794,7.958871446046477,6.000723335995511,6.392927840114371,6.977267851638903,6.353436843717337,7.330196876767331,6.948265449383849,8.24955050895133,6.903816977786621,7.605674820650833,7.301444654287731,6.788291583178551,6.692531669059861,6.028101118266446,6.715940563939271,7.490786675734917,6.336588682161135,7.381757557406792,7.256015038533906,7.0258217707497685,7.606880475374772,6.347020017898686,7.322828416616528,6.777506359435946,6.642755695262761,6.21758491448443,6.630122155828689,8.051022203026939,8.41608681704654,7.933067691513921,8.942045991487,7.033945358536714,6.816416925295727,6.460033522100627,6.227826794815905,5.632731646664602,6.19124144257447,7.701032797005616,5.646083311861947,7.896743922258235,6.010617576533585,7.986018499069503,7.565198073160248,5.736675708942604,5.991371081542708,9.723377230792792,7.736312841132024,6.71579947892659,8.242558635342093,6.539546127935385,7.007974587155316,7.740383939415849,5.772769697849313,7.571684493181063,8.733525329569868,6.917858355091138,8.512780908859234,6.539115261496296,8.227083130096286,7.274198050602535,7.118980168364626,5.941942536401314,7.278910903182803,7.44518902590451,6.442496436487848,6.919726155212071,6.472371049680761,8.251217779681046,6.528490775347884,7.4943911014551485,6.957433637931853,6.509621638211163,8.069297892811402,6.790838199257259,6.975209177557351,7.422225264350398,6.505065806504937,6.617862257193747,6.769769338622252,6.341751223983171,7.058866081279625,7.53928739507425,6.037428193759539,6.706695161498074,6.758851697206596,9.49424264803844,7.080193059013201,8.05304368223556,7.044375318734117,6.309891576180204,6.879404957296282,7.754884394437196,7.916669698835311,6.405392481776244,7.795957800597176,6.9678613966386695,6.6227913564466245,7.369988620741592,6.944868386836294,5.284810114998686,7.760189364703282,7.280560356935292,6.834259889880556,6.728975147762138,6.8649167394504005,5.808975519906834,8.45879698814859,7.288736661267014,7.463915951229467,7.05994023445362,7.425102223222055,6.742622398258796,7.041665417411175,7.185276448818911,6.597292363153351,6.908853083313673,6.281903929078816,7.036752103833548,7.369087138654637,7.70810998872957,6.504112779748324,8.185923417313038,7.080445821121838,4.704698461717015,7.976900873677573,6.967696683162022,6.444555170207262,6.277742483390635,9.014356734321137,7.781663759793227,7.15473588040487,6.748811549804483,8.128270069244824,6.335683141915911,5.940475876449588,7.61487763929876,6.718249444896243,6.8663565150600006,7.36667198942732,6.333640046326739,5.89241318577243,7.918039170296733,6.549124998345768,6.804796145017353,7.176170870069639,7.201702374896836,7.776044112626788,7.046548537016283,7.732880077797702,6.266799947990716,6.630251708982636,6.775631133267148,8.164992426171885,7.7737581374530995,7.295141331699135,7.657541728081206,7.664793523351656,7.544305635616618,7.74977378413344,7.442023084023342,6.559252620892982,7.035036795196814,7.880685942702883,7.498372459046129,6.538207172663557,5.7564756894907045,8.813504659624094,7.361599831600276,9.175586152587863,6.5108556110746,7.347030355621346,8.111953170359271,5.98501245091746,6.433722352782365,6.770095146347258,7.927969552720631,7.338826110612727,7.078361074110981,7.744125219434779,7.560392022830322,7.830607590568666,6.746934968256862,8.549692514107981,7.276863125209032,7.493290815928302,5.226895232238513,6.42064020641154,7.669012536518329,7.128062255250418,6.504876222341177,7.096047101005687,2.974429410478532,7.116132606475939,9.808258178934237,8.01883160724048,6.60364071679867,6.450805742930156,6.266378409594093,5.161878763351532,6.984405530368805,6.791992649110415,8.309227709741469,5.057736411358974,6.908272154356689,6.164480227353412,9.160997540099476,3.9757526579292986,5.685216462878775,6.93365391024419,7.464485186199689,6.071838864034008,7.136102612573539,6.150595718406801,5.508155525691396,4.761105184627487,10.490744032724807,6.676137319471859,7.973307535065096,7.352146037579763,5.468360932331922,2.538115773481364,8.423084471695775,7.617014108815567,7.617033493510344,5.429334842369292,5.49597599882932,5.092757238606061,6.2528102107865005,6.747415283032476,6.640862809077265,5.4985146932294855,5.652501287341676,7.8519256917911475,7.221689439703995,6.073684981465111,6.4079633358080486,7.184697762508415,6.174750579100353,9.540252240007296,6.888842932366855,8.174186267047556,8.756926859235552,4.740056688020883,8.764495619256667,7.899451562181437,7.402653150168774,5.800034176989708,7.08918418720376,4.945694700087746,9.77693205003625,5.153488640267044,6.884981084419804,7.608750191252161,4.901906856012032,5.711212506317297,8.655298873146698,8.3043346530985,7.717076952182754,7.555822759422741,4.881729593763433,4.083594880123227,4.865069696444607,9.62472688627138,5.188776875456335,5.916930488243061,5.729689120388078,5.678220967059215,7.753936117609168,9.159660476654182,7.496990927216014,7.542300167142759,7.159052990497457,5.844673795577308,5.258414736632194,7.420640789488351,8.189213850977879,8.289857906323226,8.025220020635544,8.848927372187074,6.438421803670398,8.205550719357213,8.310373671963342,7.833970823584208,8.142660400879283,5.896432475240334,4.310701499826136,7.895769121117427,6.862995092159006,6.578680569429318,7.423088086315854,9.166758132730486,8.468694414938106,6.486152659745713,7.79278353049359,6.569053876389385,4.921093903334441,6.727185265204605,5.757088957380868,5.842359064086903,5.654118943459351,6.4182030571970845,6.848000112594903,6.991685152928785,5.924799469006341,7.526680395036496,9.038326068974223,5.945988643250958,6.195086857984779,9.062822324592789,7.137428697435654,7.780868679242907,7.150046115062049,4.574124682109073,6.179312077651539,6.990452676633395,5.810742057236217,6.602539771517404,6.857493757803479,6.789820821454213,8.560349290980842,8.277058197816894,5.636923560026004,6.607503310701949,4.951413520154646,5.913132932597382,5.039673103915176,6.339142826418309,6.451503543212321,6.920448700069692,6.3932313449189255,6.100245391093,6.272474990901286,7.493843860854462,7.63526469216248,9.097617417474694,8.040144167343296,7.296908882387336,8.014183072060874,9.25289339735736,7.288112706816173,4.865444268085012,5.141506876714266,4.886379803626396,9.454119448104636,7.000523220722731,8.323982150124747,6.643158712135614,8.628893415492303,9.794717848521511,5.603325960876688,7.266781485544794,8.064652809050983,6.336456502432508,4.533399113632135,8.951652135487269,7.210773702067905,4.238282524808328,8.264090516352203,7.893312711115429,4.855587760461034,5.230453969096887,7.017295398626637,4.941972156828116,7.337399849697425,8.257596524670312,6.941278904431053,6.888547603133792,8.247958056143684,7.3560567780554384,9.75270322651984,6.910765112184391,8.80184604561893,6.283103588064353,6.35403811007823,5.928767339528974,7.342231249416264,8.594217251084952,8.149437297610588,9.271578532993324,7.021617480943761,7.83336100102891,6.643734375617576,6.761413709046804,7.612516822631869,6.080992868571669,6.658833571629886,6.427720560503044,5.023380783822836,8.163999617620284,5.272156458908084,7.46655835764527,7.397650662541773,5.53953369002387,7.376161138266742,9.318613915632229,6.701940911688224,5.5475762631029415,9.001822865226588,9.130768886836288,7.1252110755305536,8.43344310417292,6.847863211692964,7.263545070215379,7.77766536646659,6.665774201161871,4.959852811105887,6.397905013801276,8.1403444634267,6.714776879687881,4.33711946912069,8.433290823974154,7.274212566762742,6.579184951031363,8.651023362891474,8.35761299314161,6.658741558086449,6.332386866369147,6.730427772496591,8.297783199991656,6.259267532952487,8.076126298096359,5.7310421388707296,5.303764336866174,7.951451170491509,8.832142260904973,8.250830009047863,5.860574154812488,7.889579344955965,6.1859248920520455,9.079715109457624,9.221955642445518,9.370696575357568,6.02834878509831,5.6664461454272965,6.985303737450439,7.273368228315567,7.449659685994515,7.618119571705241,7.027296860302588,8.610963031730751,7.423586011645774,5.4566808884538265,9.612898964310972,6.641174116155328,8.2850715273713,6.985192202008131,5.0941643608551495,6.150034400886871,6.189699260391608,6.965279871760655,7.503085765108365,8.581042820709179,5.530055021165576,8.743958544661181,9.05238368979066,8.077260885586492,6.682097358751442,9.24141997355796,5.628313271623295,4.857802623979042,8.430471661964157,6.817608380056349,5.913755319868532,5.500276575154884,5.608623152458352,5.609235358941159,5.859822103560279,8.468741062907595,7.679595096300121,7.226592711428238,8.659113026830287,6.360195819161054,10.485603647205735,6.603416523303387,5.713322920959069,9.609834364508853,9.960689857533172,6.79265509816682,5.91053973772753,6.125810325429851,5.83610452509449,10.667363934157889,6.260111289935809,10.808156938842764,7.371914155906743,4.825591458154621,7.395450846886257,8.862112709633287,6.008973609999536,7.607223911235492,6.683367696720804,3.629922064880713,8.378108022890373,6.923636014423605,5.893103407526232,8.197353369384867,8.989900090557086,6.702546553103828,11.491010908391427,6.069615757057698,4.668101687405915],\"xaxis\":\"x\",\"yaxis\":\"y\",\"type\":\"histogram\"}],                        {\"template\":{\"data\":{\"histogram2dcontour\":[{\"type\":\"histogram2dcontour\",\"colorbar\":{\"outlinewidth\":0,\"ticks\":\"\"},\"colorscale\":[[0.0,\"#0d0887\"],[0.1111111111111111,\"#46039f\"],[0.2222222222222222,\"#7201a8\"],[0.3333333333333333,\"#9c179e\"],[0.4444444444444444,\"#bd3786\"],[0.5555555555555556,\"#d8576b\"],[0.6666666666666666,\"#ed7953\"],[0.7777777777777778,\"#fb9f3a\"],[0.8888888888888888,\"#fdca26\"],[1.0,\"#f0f921\"]]}],\"choropleth\":[{\"type\":\"choropleth\",\"colorbar\":{\"outlinewidth\":0,\"ticks\":\"\"}}],\"histogram2d\":[{\"type\":\"histogram2d\",\"colorbar\":{\"outlinewidth\":0,\"ticks\":\"\"},\"colorscale\":[[0.0,\"#0d0887\"],[0.1111111111111111,\"#46039f\"],[0.2222222222222222,\"#7201a8\"],[0.3333333333333333,\"#9c179e\"],[0.4444444444444444,\"#bd3786\"],[0.5555555555555556,\"#d8576b\"],[0.6666666666666666,\"#ed7953\"],[0.7777777777777778,\"#fb9f3a\"],[0.8888888888888888,\"#fdca26\"],[1.0,\"#f0f921\"]]}],\"heatmap\":[{\"type\":\"heatmap\",\"colorbar\":{\"outlinewidth\":0,\"ticks\":\"\"},\"colorscale\":[[0.0,\"#0d0887\"],[0.1111111111111111,\"#46039f\"],[0.2222222222222222,\"#7201a8\"],[0.3333333333333333,\"#9c179e\"],[0.4444444444444444,\"#bd3786\"],[0.5555555555555556,\"#d8576b\"],[0.6666666666666666,\"#ed7953\"],[0.7777777777777778,\"#fb9f3a\"],[0.8888888888888888,\"#fdca26\"],[1.0,\"#f0f921\"]]}],\"heatmapgl\":[{\"type\":\"heatmapgl\",\"colorbar\":{\"outlinewidth\":0,\"ticks\":\"\"},\"colorscale\":[[0.0,\"#0d0887\"],[0.1111111111111111,\"#46039f\"],[0.2222222222222222,\"#7201a8\"],[0.3333333333333333,\"#9c179e\"],[0.4444444444444444,\"#bd3786\"],[0.5555555555555556,\"#d8576b\"],[0.6666666666666666,\"#ed7953\"],[0.7777777777777778,\"#fb9f3a\"],[0.8888888888888888,\"#fdca26\"],[1.0,\"#f0f921\"]]}],\"contourcarpet\":[{\"type\":\"contourcarpet\",\"colorbar\":{\"outlinewidth\":0,\"ticks\":\"\"}}],\"contour\":[{\"type\":\"contour\",\"colorbar\":{\"outlinewidth\":0,\"ticks\":\"\"},\"colorscale\":[[0.0,\"#0d0887\"],[0.1111111111111111,\"#46039f\"],[0.2222222222222222,\"#7201a8\"],[0.3333333333333333,\"#9c179e\"],[0.4444444444444444,\"#bd3786\"],[0.5555555555555556,\"#d8576b\"],[0.6666666666666666,\"#ed7953\"],[0.7777777777777778,\"#fb9f3a\"],[0.8888888888888888,\"#fdca26\"],[1.0,\"#f0f921\"]]}],\"surface\":[{\"type\":\"surface\",\"colorbar\":{\"outlinewidth\":0,\"ticks\":\"\"},\"colorscale\":[[0.0,\"#0d0887\"],[0.1111111111111111,\"#46039f\"],[0.2222222222222222,\"#7201a8\"],[0.3333333333333333,\"#9c179e\"],[0.4444444444444444,\"#bd3786\"],[0.5555555555555556,\"#d8576b\"],[0.6666666666666666,\"#ed7953\"],[0.7777777777777778,\"#fb9f3a\"],[0.8888888888888888,\"#fdca26\"],[1.0,\"#f0f921\"]]}],\"mesh3d\":[{\"type\":\"mesh3d\",\"colorbar\":{\"outlinewidth\":0,\"ticks\":\"\"}}],\"scatter\":[{\"fillpattern\":{\"fillmode\":\"overlay\",\"size\":10,\"solidity\":0.2},\"type\":\"scatter\"}],\"parcoords\":[{\"type\":\"parcoords\",\"line\":{\"colorbar\":{\"outlinewidth\":0,\"ticks\":\"\"}}}],\"scatterpolargl\":[{\"type\":\"scatterpolargl\",\"marker\":{\"colorbar\":{\"outlinewidth\":0,\"ticks\":\"\"}}}],\"bar\":[{\"error_x\":{\"color\":\"#2a3f5f\"},\"error_y\":{\"color\":\"#2a3f5f\"},\"marker\":{\"line\":{\"color\":\"#E5ECF6\",\"width\":0.5},\"pattern\":{\"fillmode\":\"overlay\",\"size\":10,\"solidity\":0.2}},\"type\":\"bar\"}],\"scattergeo\":[{\"type\":\"scattergeo\",\"marker\":{\"colorbar\":{\"outlinewidth\":0,\"ticks\":\"\"}}}],\"scatterpolar\":[{\"type\":\"scatterpolar\",\"marker\":{\"colorbar\":{\"outlinewidth\":0,\"ticks\":\"\"}}}],\"histogram\":[{\"marker\":{\"pattern\":{\"fillmode\":\"overlay\",\"size\":10,\"solidity\":0.2}},\"type\":\"histogram\"}],\"scattergl\":[{\"type\":\"scattergl\",\"marker\":{\"colorbar\":{\"outlinewidth\":0,\"ticks\":\"\"}}}],\"scatter3d\":[{\"type\":\"scatter3d\",\"line\":{\"colorbar\":{\"outlinewidth\":0,\"ticks\":\"\"}},\"marker\":{\"colorbar\":{\"outlinewidth\":0,\"ticks\":\"\"}}}],\"scattermapbox\":[{\"type\":\"scattermapbox\",\"marker\":{\"colorbar\":{\"outlinewidth\":0,\"ticks\":\"\"}}}],\"scatterternary\":[{\"type\":\"scatterternary\",\"marker\":{\"colorbar\":{\"outlinewidth\":0,\"ticks\":\"\"}}}],\"scattercarpet\":[{\"type\":\"scattercarpet\",\"marker\":{\"colorbar\":{\"outlinewidth\":0,\"ticks\":\"\"}}}],\"carpet\":[{\"aaxis\":{\"endlinecolor\":\"#2a3f5f\",\"gridcolor\":\"white\",\"linecolor\":\"white\",\"minorgridcolor\":\"white\",\"startlinecolor\":\"#2a3f5f\"},\"baxis\":{\"endlinecolor\":\"#2a3f5f\",\"gridcolor\":\"white\",\"linecolor\":\"white\",\"minorgridcolor\":\"white\",\"startlinecolor\":\"#2a3f5f\"},\"type\":\"carpet\"}],\"table\":[{\"cells\":{\"fill\":{\"color\":\"#EBF0F8\"},\"line\":{\"color\":\"white\"}},\"header\":{\"fill\":{\"color\":\"#C8D4E3\"},\"line\":{\"color\":\"white\"}},\"type\":\"table\"}],\"barpolar\":[{\"marker\":{\"line\":{\"color\":\"#E5ECF6\",\"width\":0.5},\"pattern\":{\"fillmode\":\"overlay\",\"size\":10,\"solidity\":0.2}},\"type\":\"barpolar\"}],\"pie\":[{\"automargin\":true,\"type\":\"pie\"}]},\"layout\":{\"autotypenumbers\":\"strict\",\"colorway\":[\"#636efa\",\"#EF553B\",\"#00cc96\",\"#ab63fa\",\"#FFA15A\",\"#19d3f3\",\"#FF6692\",\"#B6E880\",\"#FF97FF\",\"#FECB52\"],\"font\":{\"color\":\"#2a3f5f\"},\"hovermode\":\"closest\",\"hoverlabel\":{\"align\":\"left\"},\"paper_bgcolor\":\"white\",\"plot_bgcolor\":\"#E5ECF6\",\"polar\":{\"bgcolor\":\"#E5ECF6\",\"angularaxis\":{\"gridcolor\":\"white\",\"linecolor\":\"white\",\"ticks\":\"\"},\"radialaxis\":{\"gridcolor\":\"white\",\"linecolor\":\"white\",\"ticks\":\"\"}},\"ternary\":{\"bgcolor\":\"#E5ECF6\",\"aaxis\":{\"gridcolor\":\"white\",\"linecolor\":\"white\",\"ticks\":\"\"},\"baxis\":{\"gridcolor\":\"white\",\"linecolor\":\"white\",\"ticks\":\"\"},\"caxis\":{\"gridcolor\":\"white\",\"linecolor\":\"white\",\"ticks\":\"\"}},\"coloraxis\":{\"colorbar\":{\"outlinewidth\":0,\"ticks\":\"\"}},\"colorscale\":{\"sequential\":[[0.0,\"#0d0887\"],[0.1111111111111111,\"#46039f\"],[0.2222222222222222,\"#7201a8\"],[0.3333333333333333,\"#9c179e\"],[0.4444444444444444,\"#bd3786\"],[0.5555555555555556,\"#d8576b\"],[0.6666666666666666,\"#ed7953\"],[0.7777777777777778,\"#fb9f3a\"],[0.8888888888888888,\"#fdca26\"],[1.0,\"#f0f921\"]],\"sequentialminus\":[[0.0,\"#0d0887\"],[0.1111111111111111,\"#46039f\"],[0.2222222222222222,\"#7201a8\"],[0.3333333333333333,\"#9c179e\"],[0.4444444444444444,\"#bd3786\"],[0.5555555555555556,\"#d8576b\"],[0.6666666666666666,\"#ed7953\"],[0.7777777777777778,\"#fb9f3a\"],[0.8888888888888888,\"#fdca26\"],[1.0,\"#f0f921\"]],\"diverging\":[[0,\"#8e0152\"],[0.1,\"#c51b7d\"],[0.2,\"#de77ae\"],[0.3,\"#f1b6da\"],[0.4,\"#fde0ef\"],[0.5,\"#f7f7f7\"],[0.6,\"#e6f5d0\"],[0.7,\"#b8e186\"],[0.8,\"#7fbc41\"],[0.9,\"#4d9221\"],[1,\"#276419\"]]},\"xaxis\":{\"gridcolor\":\"white\",\"linecolor\":\"white\",\"ticks\":\"\",\"title\":{\"standoff\":15},\"zerolinecolor\":\"white\",\"automargin\":true,\"zerolinewidth\":2},\"yaxis\":{\"gridcolor\":\"white\",\"linecolor\":\"white\",\"ticks\":\"\",\"title\":{\"standoff\":15},\"zerolinecolor\":\"white\",\"automargin\":true,\"zerolinewidth\":2},\"scene\":{\"xaxis\":{\"backgroundcolor\":\"#E5ECF6\",\"gridcolor\":\"white\",\"linecolor\":\"white\",\"showbackground\":true,\"ticks\":\"\",\"zerolinecolor\":\"white\",\"gridwidth\":2},\"yaxis\":{\"backgroundcolor\":\"#E5ECF6\",\"gridcolor\":\"white\",\"linecolor\":\"white\",\"showbackground\":true,\"ticks\":\"\",\"zerolinecolor\":\"white\",\"gridwidth\":2},\"zaxis\":{\"backgroundcolor\":\"#E5ECF6\",\"gridcolor\":\"white\",\"linecolor\":\"white\",\"showbackground\":true,\"ticks\":\"\",\"zerolinecolor\":\"white\",\"gridwidth\":2}},\"shapedefaults\":{\"line\":{\"color\":\"#2a3f5f\"}},\"annotationdefaults\":{\"arrowcolor\":\"#2a3f5f\",\"arrowhead\":0,\"arrowwidth\":1},\"geo\":{\"bgcolor\":\"white\",\"landcolor\":\"#E5ECF6\",\"subunitcolor\":\"white\",\"showland\":true,\"showlakes\":true,\"lakecolor\":\"white\"},\"title\":{\"x\":0.05},\"mapbox\":{\"style\":\"light\"}}},\"xaxis\":{\"anchor\":\"y\",\"domain\":[0.0,1.0],\"title\":{\"text\":\"ph\"}},\"yaxis\":{\"anchor\":\"x\",\"domain\":[0.0,1.0],\"title\":{\"text\":\"count\"}},\"legend\":{\"title\":{\"text\":\"Potability\"},\"tracegroupgap\":0},\"title\":{\"text\":\"Factors Affecting Water Quality: PH\"},\"barmode\":\"relative\"},                        {\"responsive\": true}                    ).then(function(){\n",
       "                            \n",
       "var gd = document.getElementById('717932cf-e00f-48bb-b53c-cf2466373312');\n",
       "var x = new MutationObserver(function (mutations, observer) {{\n",
       "        var display = window.getComputedStyle(gd).display;\n",
       "        if (!display || display === 'none') {{\n",
       "            console.log([gd, 'removed!']);\n",
       "            Plotly.purge(gd);\n",
       "            observer.disconnect();\n",
       "        }}\n",
       "}});\n",
       "\n",
       "// Listen for the removal of the full notebook cells\n",
       "var notebookContainer = gd.closest('#notebook-container');\n",
       "if (notebookContainer) {{\n",
       "    x.observe(notebookContainer, {childList: true});\n",
       "}}\n",
       "\n",
       "// Listen for the clearing of the current output cell\n",
       "var outputEl = gd.closest('.output');\n",
       "if (outputEl) {{\n",
       "    x.observe(outputEl, {childList: true});\n",
       "}}\n",
       "\n",
       "                        })                };                });            </script>        </div>"
      ]
     },
     "metadata": {},
     "output_type": "display_data"
    }
   ],
   "source": [
    "import plotly.express as px\n",
    "data = data\n",
    "figure = px.histogram(data, x = \"ph\", \n",
    "                      color = \"Potability\", \n",
    "                      title= \"Factors Affecting Water Quality: PH\")\n",
    "figure.show()"
   ]
  },
  {
   "cell_type": "raw",
   "id": "68b62ad4",
   "metadata": {},
   "source": [
    "Checks acid-base balance of the water. The pH value of drinking water should be between 6.5 and 8.5.\n",
    "In its purest form, water has a pH of 7, which is at the exact center of the pH scale. Particles in the water can change the pH of the water, and most water for use."
   ]
  },
  {
   "cell_type": "code",
   "execution_count": 85,
   "id": "a99f02c7",
   "metadata": {},
   "outputs": [
    {
     "data": {
      "image/png": "[encoded data removed]",
      "text/plain": [
       "<Figure size 432x288 with 1 Axes>"
      ]
     },
     "metadata": {
      "needs_background": "light"
     },
     "output_type": "display_data"
    }
   ],
   "source": [
    "sns.histplot(data.Hardness)\n",
    "px.histogram(data.Hardness)\n",
    "plt.title(\"Distribution of Hardness of Water\")\n",
    "plt.show()"
   ]
  },
  {
   "cell_type": "raw",
   "id": "243ab5d2",
   "metadata": {},
   "source": [
    "Water containing less than 500 milligrams of sulfate is safe to drink"
   ]
  },
  {
   "cell_type": "raw",
   "id": "87428e70",
   "metadata": {},
   "source": [
    "0 to 60 mg/L (milligrams per liter) as calcium carbonate is classified as soft; 61 to 120 mg/L as moderately hard; 121 to 180 mg/L as hard; and more than 180 mg/L as very hard."
   ]
  },
  {
   "cell_type": "code",
   "execution_count": 86,
   "id": "e16c22c1",
   "metadata": {},
   "outputs": [
    {
     "data": {
      "text/html": [
       "<div>\n",
       "<style scoped>\n",
       "    .dataframe tbody tr th:only-of-type {\n",
       "        vertical-align: middle;\n",
       "    }\n",
       "\n",
       "    .dataframe tbody tr th {\n",
       "        vertical-align: top;\n",
       "    }\n",
       "\n",
       "    .dataframe thead th {\n",
       "        text-align: right;\n",
       "    }\n",
       "</style>\n",
       "<table border=\"1\" class=\"dataframe\">\n",
       "  <thead>\n",
       "    <tr style=\"text-align: right;\">\n",
       "      <th></th>\n",
       "      <th>ph</th>\n",
       "      <th>Hardness</th>\n",
       "      <th>Solids</th>\n",
       "      <th>Chloramines</th>\n",
       "      <th>Sulfate</th>\n",
       "      <th>Conductivity</th>\n",
       "      <th>Organic_carbon</th>\n",
       "      <th>Trihalomethanes</th>\n",
       "      <th>Turbidity</th>\n",
       "      <th>Potability</th>\n",
       "    </tr>\n",
       "  </thead>\n",
       "  <tbody>\n",
       "    <tr>\n",
       "      <th>3</th>\n",
       "      <td>8.316766</td>\n",
       "      <td>214.373394</td>\n",
       "      <td>22018.417441</td>\n",
       "      <td>8.059332</td>\n",
       "      <td>356.886136</td>\n",
       "      <td>363.266516</td>\n",
       "      <td>18.436524</td>\n",
       "      <td>100.341674</td>\n",
       "      <td>4.628771</td>\n",
       "      <td>0</td>\n",
       "    </tr>\n",
       "    <tr>\n",
       "      <th>4</th>\n",
       "      <td>9.092223</td>\n",
       "      <td>181.101509</td>\n",
       "      <td>17978.986339</td>\n",
       "      <td>6.546600</td>\n",
       "      <td>310.135738</td>\n",
       "      <td>398.410813</td>\n",
       "      <td>11.558279</td>\n",
       "      <td>31.997993</td>\n",
       "      <td>4.075075</td>\n",
       "      <td>0</td>\n",
       "    </tr>\n",
       "  </tbody>\n",
       "</table>\n",
       "</div>"
      ],
      "text/plain": [
       "         ph    Hardness        Solids  Chloramines     Sulfate  Conductivity  \\\n",
       "3  8.316766  214.373394  22018.417441     8.059332  356.886136    363.266516   \n",
       "4  9.092223  181.101509  17978.986339     6.546600  310.135738    398.410813   \n",
       "\n",
       "   Organic_carbon  Trihalomethanes  Turbidity  Potability  \n",
       "3       18.436524       100.341674   4.628771           0  \n",
       "4       11.558279        31.997993   4.075075           0  "
      ]
     },
     "execution_count": 86,
     "metadata": {},
     "output_type": "execute_result"
    }
   ],
   "source": [
    "data.head(2)"
   ]
  },
  {
   "cell_type": "code",
   "execution_count": 87,
   "id": "b80b6339",
   "metadata": {},
   "outputs": [
    {
     "data": {
      "text/plain": [
       "ph                 float64\n",
       "Hardness           float64\n",
       "Solids             float64\n",
       "Chloramines        float64\n",
       "Sulfate            float64\n",
       "Conductivity       float64\n",
       "Organic_carbon     float64\n",
       "Trihalomethanes    float64\n",
       "Turbidity          float64\n",
       "Potability           int64\n",
       "dtype: object"
      ]
     },
     "execution_count": 87,
     "metadata": {},
     "output_type": "execute_result"
    }
   ],
   "source": [
    "df.dtypes"
   ]
  },
  {
   "cell_type": "code",
   "execution_count": 25,
   "id": "c2f32ca8",
   "metadata": {},
   "outputs": [],
   "source": [
    "hardwtr=data[data['Hardness']>100]"
   ]
  },
  {
   "cell_type": "code",
   "execution_count": 32,
   "id": "9fe86278",
   "metadata": {},
   "outputs": [
    {
     "name": "stdout",
     "output_type": "stream",
     "text": [
      "Percent of hard water in sample : 4.0927762769197737e-22\n"
     ]
    }
   ],
   "source": [
    "print('Percent of hard water in sample :',((len(hardwtr)/len(df['Hardness']))**100))"
   ]
  },
  {
   "cell_type": "code",
   "execution_count": 88,
   "id": "106e8f99",
   "metadata": {},
   "outputs": [
    {
     "data": {
      "text/plain": [
       "(2011, 10)"
      ]
     },
     "execution_count": 88,
     "metadata": {},
     "output_type": "execute_result"
    }
   ],
   "source": [
    "data.shape"
   ]
  },
  {
   "cell_type": "raw",
   "id": "ead39174",
   "metadata": {},
   "source": [
    "I will be using the PyCaret library in Python. If you have never used this library before, you can easily install it on your system using the pip command:"
   ]
  },
  {
   "cell_type": "raw",
   "id": "528cb01e",
   "metadata": {},
   "source": [
    "!pip install pycaret"
   ]
  },
  {
   "cell_type": "raw",
   "id": "d7753ce0",
   "metadata": {},
   "source": [
    "Before training, let’s have a look at the correlation of all the features with respect to the Potability column in the dataset:"
   ]
  },
  {
   "cell_type": "code",
   "execution_count": 89,
   "id": "1fe61681",
   "metadata": {},
   "outputs": [
    {
     "data": {
      "text/plain": [
       "ph                 1.000000\n",
       "Hardness           0.108948\n",
       "Organic_carbon     0.028375\n",
       "Trihalomethanes    0.018278\n",
       "Potability         0.014530\n",
       "Conductivity       0.014128\n",
       "Sulfate            0.010524\n",
       "Chloramines       -0.024768\n",
       "Turbidity         -0.035849\n",
       "Solids            -0.087615\n",
       "Name: ph, dtype: float64"
      ]
     },
     "execution_count": 89,
     "metadata": {},
     "output_type": "execute_result"
    }
   ],
   "source": [
    "correlation = data.corr()\n",
    "correlation[\"ph\"].sort_values(ascending=False)"
   ]
  },
  {
   "cell_type": "code",
   "execution_count": 90,
   "id": "c74ec829",
   "metadata": {},
   "outputs": [
    {
     "data": {
      "text/plain": [
       "Hardness           1.000000\n",
       "ph                 0.108948\n",
       "Organic_carbon     0.013224\n",
       "Conductivity       0.011731\n",
       "Potability        -0.001505\n",
       "Trihalomethanes   -0.015400\n",
       "Chloramines       -0.022685\n",
       "Turbidity         -0.034831\n",
       "Solids            -0.053269\n",
       "Sulfate           -0.108521\n",
       "Name: Hardness, dtype: float64"
      ]
     },
     "execution_count": 90,
     "metadata": {},
     "output_type": "execute_result"
    }
   ],
   "source": [
    "correlation['Hardness'].sort_values(ascending=False)"
   ]
  },
  {
   "cell_type": "code",
   "execution_count": 91,
   "id": "f48a5cd4",
   "metadata": {},
   "outputs": [],
   "source": [
    "from sklearn.model_selection import train_test_split\n",
    "from sklearn.ensemble import AdaBoostClassifier"
   ]
  },
  {
   "cell_type": "code",
   "execution_count": 92,
   "id": "4254e76a",
   "metadata": {},
   "outputs": [
    {
     "data": {
      "text/html": [
       "<div>\n",
       "<style scoped>\n",
       "    .dataframe tbody tr th:only-of-type {\n",
       "        vertical-align: middle;\n",
       "    }\n",
       "\n",
       "    .dataframe tbody tr th {\n",
       "        vertical-align: top;\n",
       "    }\n",
       "\n",
       "    .dataframe thead th {\n",
       "        text-align: right;\n",
       "    }\n",
       "</style>\n",
       "<table border=\"1\" class=\"dataframe\">\n",
       "  <thead>\n",
       "    <tr style=\"text-align: right;\">\n",
       "      <th></th>\n",
       "      <th>ph</th>\n",
       "      <th>Hardness</th>\n",
       "      <th>Solids</th>\n",
       "      <th>Chloramines</th>\n",
       "      <th>Sulfate</th>\n",
       "      <th>Conductivity</th>\n",
       "      <th>Organic_carbon</th>\n",
       "      <th>Trihalomethanes</th>\n",
       "      <th>Turbidity</th>\n",
       "      <th>Potability</th>\n",
       "    </tr>\n",
       "  </thead>\n",
       "  <tbody>\n",
       "    <tr>\n",
       "      <th>3</th>\n",
       "      <td>8.316766</td>\n",
       "      <td>214.373394</td>\n",
       "      <td>22018.417441</td>\n",
       "      <td>8.059332</td>\n",
       "      <td>356.886136</td>\n",
       "      <td>363.266516</td>\n",
       "      <td>18.436524</td>\n",
       "      <td>100.341674</td>\n",
       "      <td>4.628771</td>\n",
       "      <td>0</td>\n",
       "    </tr>\n",
       "    <tr>\n",
       "      <th>4</th>\n",
       "      <td>9.092223</td>\n",
       "      <td>181.101509</td>\n",
       "      <td>17978.986339</td>\n",
       "      <td>6.546600</td>\n",
       "      <td>310.135738</td>\n",
       "      <td>398.410813</td>\n",
       "      <td>11.558279</td>\n",
       "      <td>31.997993</td>\n",
       "      <td>4.075075</td>\n",
       "      <td>0</td>\n",
       "    </tr>\n",
       "  </tbody>\n",
       "</table>\n",
       "</div>"
      ],
      "text/plain": [
       "         ph    Hardness        Solids  Chloramines     Sulfate  Conductivity  \\\n",
       "3  8.316766  214.373394  22018.417441     8.059332  356.886136    363.266516   \n",
       "4  9.092223  181.101509  17978.986339     6.546600  310.135738    398.410813   \n",
       "\n",
       "   Organic_carbon  Trihalomethanes  Turbidity  Potability  \n",
       "3       18.436524       100.341674   4.628771           0  \n",
       "4       11.558279        31.997993   4.075075           0  "
      ]
     },
     "execution_count": 92,
     "metadata": {},
     "output_type": "execute_result"
    }
   ],
   "source": [
    "data.head(2)"
   ]
  },
  {
   "cell_type": "code",
   "execution_count": 93,
   "id": "6cc46f05",
   "metadata": {},
   "outputs": [],
   "source": [
    "x=data.drop('Potability',axis=1)\n",
    "y=data.Potability"
   ]
  },
  {
   "cell_type": "code",
   "execution_count": 94,
   "id": "ec3206d1",
   "metadata": {},
   "outputs": [],
   "source": [
    "from sklearn.preprocessing import StandardScaler\n",
    "ss=StandardScaler()\n",
    "x=ss.fit_transform(x)"
   ]
  },
  {
   "cell_type": "code",
   "execution_count": 95,
   "id": "8386fa11",
   "metadata": {},
   "outputs": [
    {
     "data": {
      "text/plain": [
       "array([[ 0.7824658 ,  0.56411376,  0.01168692,  0.5838039 ,  0.57437811,\n",
       "        -0.78396246,  1.22703167,  2.11165179,  0.84476056],\n",
       "       [ 1.27546291, -0.45565257, -0.45583491, -0.37094728, -0.56048006,\n",
       "        -0.34842885, -0.84215371, -2.14039865,  0.13503344],\n",
       "       [-0.95483488, -0.23461412,  0.7906452 ,  0.25910357, -0.15891057,\n",
       "        -1.81006276, -1.79234008, -0.7144228 , -1.80736621]])"
      ]
     },
     "execution_count": 95,
     "metadata": {},
     "output_type": "execute_result"
    }
   ],
   "source": [
    "x[0:3]"
   ]
  },
  {
   "cell_type": "code",
   "execution_count": 96,
   "id": "4bbf5019",
   "metadata": {},
   "outputs": [
    {
     "data": {
      "text/plain": [
       "3    0\n",
       "4    0\n",
       "5    0\n",
       "Name: Potability, dtype: int64"
      ]
     },
     "execution_count": 96,
     "metadata": {},
     "output_type": "execute_result"
    }
   ],
   "source": [
    "y[0:3]"
   ]
  },
  {
   "cell_type": "code",
   "execution_count": 97,
   "id": "09e2b91d",
   "metadata": {},
   "outputs": [],
   "source": [
    "xtrain,xtest,ytrain,ytest=train_test_split(x,y,test_size=0.25,random_state=1)"
   ]
  },
  {
   "cell_type": "code",
   "execution_count": 117,
   "id": "310c87cd",
   "metadata": {},
   "outputs": [],
   "source": [
    "adb=AdaBoostClassifier(base_estimator=None,n_estimators=500,learning_rate=1.0,algorithm='SAMME.R',\n",
    "    random_state=None,)"
   ]
  },
  {
   "cell_type": "code",
   "execution_count": 118,
   "id": "213c6758",
   "metadata": {},
   "outputs": [
    {
     "data": {
      "text/plain": [
       "AdaBoostClassifier(n_estimators=500)"
      ]
     },
     "execution_count": 118,
     "metadata": {},
     "output_type": "execute_result"
    }
   ],
   "source": [
    "adb.fit(xtrain,ytrain)"
   ]
  },
  {
   "cell_type": "code",
   "execution_count": 119,
   "id": "62a738ee",
   "metadata": {},
   "outputs": [
    {
     "data": {
      "text/plain": [
       "0.8057029177718833"
      ]
     },
     "execution_count": 119,
     "metadata": {},
     "output_type": "execute_result"
    }
   ],
   "source": [
    "adb.score(xtrain,ytrain)"
   ]
  },
  {
   "cell_type": "code",
   "execution_count": 120,
   "id": "e5fc1e49",
   "metadata": {},
   "outputs": [
    {
     "data": {
      "text/plain": [
       "0.5666003976143141"
      ]
     },
     "execution_count": 120,
     "metadata": {},
     "output_type": "execute_result"
    }
   ],
   "source": [
    "adb.score(xtest,ytest)"
   ]
  },
  {
   "cell_type": "code",
   "execution_count": 121,
   "id": "e9e27734",
   "metadata": {},
   "outputs": [],
   "source": [
    "ypred1=adb.predict(xtest)"
   ]
  },
  {
   "cell_type": "code",
   "execution_count": 123,
   "id": "acb15c68",
   "metadata": {},
   "outputs": [
    {
     "data": {
      "text/plain": [
       "0.5666003976143141"
      ]
     },
     "execution_count": 123,
     "metadata": {},
     "output_type": "execute_result"
    }
   ],
   "source": [
    "from sklearn.metrics import accuracy_score\n",
    "accuracy_score(ytest,ypred1)"
   ]
  },
  {
   "cell_type": "code",
   "execution_count": 124,
   "id": "6e7feafb",
   "metadata": {},
   "outputs": [],
   "source": [
    "# randrom forest classifier\n",
    "from sklearn.ensemble import RandomForestClassifier\n",
    "rfc=RandomForestClassifier(    n_estimators=100,\n",
    "    criterion='gini',\n",
    "    max_depth=None,\n",
    "    min_samples_split=2,\n",
    "    min_samples_leaf=1,\n",
    "    min_weight_fraction_leaf=0.0,\n",
    "    max_features='auto')"
   ]
  },
  {
   "cell_type": "code",
   "execution_count": 125,
   "id": "fbd66943",
   "metadata": {},
   "outputs": [
    {
     "data": {
      "text/plain": [
       "RandomForestClassifier()"
      ]
     },
     "execution_count": 125,
     "metadata": {},
     "output_type": "execute_result"
    }
   ],
   "source": [
    "rfc.fit(xtrain,ytrain)"
   ]
  },
  {
   "cell_type": "code",
   "execution_count": 126,
   "id": "63cdf4a7",
   "metadata": {},
   "outputs": [
    {
     "data": {
      "text/plain": [
       "0.6759443339960238"
      ]
     },
     "execution_count": 126,
     "metadata": {},
     "output_type": "execute_result"
    }
   ],
   "source": [
    "rfc.score(xtest,ytest)"
   ]
  },
  {
   "cell_type": "code",
   "execution_count": 127,
   "id": "0d1dbb5f",
   "metadata": {},
   "outputs": [
    {
     "data": {
      "text/plain": [
       "1.0"
      ]
     },
     "execution_count": 127,
     "metadata": {},
     "output_type": "execute_result"
    }
   ],
   "source": [
    "rfc.score(xtrain,ytrain)"
   ]
  },
  {
   "cell_type": "code",
   "execution_count": 57,
   "id": "cefa24c5",
   "metadata": {},
   "outputs": [],
   "source": [
    "# Logistic regression model\n",
    "from sklearn.linear_model import LogisticRegression\n",
    "lr=LogisticRegression()"
   ]
  },
  {
   "cell_type": "code",
   "execution_count": 58,
   "id": "0e008122",
   "metadata": {},
   "outputs": [
    {
     "data": {
      "text/plain": [
       "LogisticRegression()"
      ]
     },
     "execution_count": 58,
     "metadata": {},
     "output_type": "execute_result"
    }
   ],
   "source": [
    "lr.fit(xtrain,ytrain)"
   ]
  },
  {
   "cell_type": "code",
   "execution_count": 60,
   "id": "2a7cf291",
   "metadata": {},
   "outputs": [
    {
     "data": {
      "text/plain": [
       "0.5908488063660478"
      ]
     },
     "execution_count": 60,
     "metadata": {},
     "output_type": "execute_result"
    }
   ],
   "source": [
    "lr.score(xtrain,ytrain)"
   ]
  },
  {
   "cell_type": "code",
   "execution_count": 59,
   "id": "1fb8bf3a",
   "metadata": {},
   "outputs": [
    {
     "data": {
      "text/plain": [
       "0.6083499005964215"
      ]
     },
     "execution_count": 59,
     "metadata": {},
     "output_type": "execute_result"
    }
   ],
   "source": [
    "lr.score(xtest,ytest)"
   ]
  },
  {
   "cell_type": "code",
   "execution_count": 61,
   "id": "088e9463",
   "metadata": {},
   "outputs": [],
   "source": [
    "### Decision Tree Classifier\n",
    "\n",
    "from sklearn.tree import DecisionTreeClassifier\n",
    "dtc=DecisionTreeClassifier()"
   ]
  },
  {
   "cell_type": "code",
   "execution_count": 62,
   "id": "6a655028",
   "metadata": {},
   "outputs": [
    {
     "data": {
      "text/plain": [
       "DecisionTreeClassifier()"
      ]
     },
     "execution_count": 62,
     "metadata": {},
     "output_type": "execute_result"
    }
   ],
   "source": [
    "dtc.fit(xtrain,ytrain)"
   ]
  },
  {
   "cell_type": "code",
   "execution_count": 66,
   "id": "1df0f28f",
   "metadata": {},
   "outputs": [],
   "source": [
    "ypred3=dtc.predict(xtest)"
   ]
  },
  {
   "cell_type": "code",
   "execution_count": 63,
   "id": "a7ea39a4",
   "metadata": {},
   "outputs": [
    {
     "data": {
      "text/plain": [
       "1.0"
      ]
     },
     "execution_count": 63,
     "metadata": {},
     "output_type": "execute_result"
    }
   ],
   "source": [
    "dtc.score(xtrain,ytrain)"
   ]
  },
  {
   "cell_type": "code",
   "execution_count": 64,
   "id": "bc017252",
   "metadata": {},
   "outputs": [
    {
     "data": {
      "text/plain": [
       "0.614314115308151"
      ]
     },
     "execution_count": 64,
     "metadata": {},
     "output_type": "execute_result"
    }
   ],
   "source": [
    "dtc.score(xtest,ytest)"
   ]
  },
  {
   "cell_type": "code",
   "execution_count": 65,
   "id": "e27b6648",
   "metadata": {},
   "outputs": [],
   "source": [
    "from sklearn.metrics import classification_report"
   ]
  },
  {
   "cell_type": "code",
   "execution_count": 68,
   "id": "531b1c6c",
   "metadata": {},
   "outputs": [
    {
     "name": "stdout",
     "output_type": "stream",
     "text": [
      "              precision    recall  f1-score   support\n",
      "\n",
      "           0       0.68      0.69      0.68       305\n",
      "           1       0.51      0.50      0.51       198\n",
      "\n",
      "    accuracy                           0.61       503\n",
      "   macro avg       0.59      0.59      0.59       503\n",
      "weighted avg       0.61      0.61      0.61       503\n",
      "\n"
     ]
    }
   ],
   "source": [
    "print(classification_report(ypred3,ytest))"
   ]
  },
  {
   "cell_type": "code",
   "execution_count": null,
   "id": "9b38b902",
   "metadata": {},
   "outputs": [],
   "source": []
  }
 ],
 "metadata": {
  "kernelspec": {
   "display_name": "Python 3 (ipykernel)",
   "language": "python",
   "name": "python3"
  },
  "language_info": {
   "codemirror_mode": {
    "name": "ipython",
    "version": 3
   },
   "file_extension": ".py",
   "mimetype": "text/x-python",
   "name": "python",
   "nbconvert_exporter": "python",
   "pygments_lexer": "ipython3",
   "version": "3.9.7"
  }
 },
 "nbformat": 4,
 "nbformat_minor": 5
}

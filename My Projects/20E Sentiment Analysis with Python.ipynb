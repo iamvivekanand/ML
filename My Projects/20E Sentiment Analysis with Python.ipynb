{
 "cells": [
  {
   "cell_type": "markdown",
   "id": "cce37be1",
   "metadata": {},
   "source": [
    "### Sentiment Analysis with Python"
   ]
  },
  {
   "cell_type": "raw",
   "id": "9d3341c5",
   "metadata": {},
   "source": [
    "In sentiment analysis, the main task is to identify opinion words, which is very important. Opinion words are dominant indicators of feelings, especially adjectives, adverbs, and verbs, for example: “I love this camera. It’s amazing!”"
   ]
  },
  {
   "cell_type": "raw",
   "id": "614238c6",
   "metadata": {},
   "source": [
    "Opinion words are also known as \n",
    "    polarity words, \n",
    "    sentiment words, \n",
    "    opinion lexicon, or \n",
    "    opinion words, \n",
    "which can generally be divided into two types:\n",
    "    positive words, for example, wonderful. , elegant, astonishing; and\n",
    "    negative words, eg horrible, disgusting, poor."
   ]
  },
  {
   "cell_type": "code",
   "execution_count": 1,
   "id": "d8258643",
   "metadata": {},
   "outputs": [],
   "source": [
    "# importing libraries\n",
    "import pandas as pd\n",
    "import numpy as np\n",
    "import matplotlib.pyplot as plt\n",
    "import seaborn as sns "
   ]
  },
  {
   "cell_type": "code",
   "execution_count": 2,
   "id": "af4be40a",
   "metadata": {},
   "outputs": [],
   "source": [
    "from sklearn.feature_extraction.text import CountVectorizer"
   ]
  },
  {
   "cell_type": "code",
   "execution_count": 4,
   "id": "b090d9c1",
   "metadata": {},
   "outputs": [],
   "source": [
    "cv=CountVectorizer()\n",
    "# Convert a collection of text documents to a matrix of token counts"
   ]
  },
  {
   "cell_type": "code",
   "execution_count": 6,
   "id": "bccccf19",
   "metadata": {},
   "outputs": [],
   "source": [
    "data=pd.read_csv('Train.csv')"
   ]
  },
  {
   "cell_type": "code",
   "execution_count": 8,
   "id": "588c0a32",
   "metadata": {},
   "outputs": [
    {
     "data": {
      "text/html": [
       "<div>\n",
       "<style scoped>\n",
       "    .dataframe tbody tr th:only-of-type {\n",
       "        vertical-align: middle;\n",
       "    }\n",
       "\n",
       "    .dataframe tbody tr th {\n",
       "        vertical-align: top;\n",
       "    }\n",
       "\n",
       "    .dataframe thead th {\n",
       "        text-align: right;\n",
       "    }\n",
       "</style>\n",
       "<table border=\"1\" class=\"dataframe\">\n",
       "  <thead>\n",
       "    <tr style=\"text-align: right;\">\n",
       "      <th></th>\n",
       "      <th>text</th>\n",
       "      <th>label</th>\n",
       "    </tr>\n",
       "  </thead>\n",
       "  <tbody>\n",
       "    <tr>\n",
       "      <th>0</th>\n",
       "      <td>I grew up (b. 1965) watching and loving the Th...</td>\n",
       "      <td>0</td>\n",
       "    </tr>\n",
       "    <tr>\n",
       "      <th>1</th>\n",
       "      <td>When I put this movie in my DVD player, and sa...</td>\n",
       "      <td>0</td>\n",
       "    </tr>\n",
       "    <tr>\n",
       "      <th>2</th>\n",
       "      <td>Why do people who do not know what a particula...</td>\n",
       "      <td>0</td>\n",
       "    </tr>\n",
       "    <tr>\n",
       "      <th>3</th>\n",
       "      <td>Even though I have great interest in Biblical ...</td>\n",
       "      <td>0</td>\n",
       "    </tr>\n",
       "    <tr>\n",
       "      <th>4</th>\n",
       "      <td>Im a die hard Dads Army fan and nothing will e...</td>\n",
       "      <td>1</td>\n",
       "    </tr>\n",
       "  </tbody>\n",
       "</table>\n",
       "</div>"
      ],
      "text/plain": [
       "                                                text  label\n",
       "0  I grew up (b. 1965) watching and loving the Th...      0\n",
       "1  When I put this movie in my DVD player, and sa...      0\n",
       "2  Why do people who do not know what a particula...      0\n",
       "3  Even though I have great interest in Biblical ...      0\n",
       "4  Im a die hard Dads Army fan and nothing will e...      1"
      ]
     },
     "execution_count": 8,
     "metadata": {},
     "output_type": "execute_result"
    }
   ],
   "source": [
    "data.head()"
   ]
  },
  {
   "cell_type": "raw",
   "id": "0a625c96",
   "metadata": {},
   "source": [
    "After reading the dataset which contains 40k movie reviews from IMDB, we see that there are two prominent columns. One being TEXT which contains the criticism and the other being LABEL which contains the O’s and 1’s, where 0-NEGATIVE and 1-POSITIVE."
   ]
  },
  {
   "cell_type": "code",
   "execution_count": 9,
   "id": "6e047675",
   "metadata": {},
   "outputs": [],
   "source": [
    "# Now let’s visualize the distribution of the data:"
   ]
  },
  {
   "cell_type": "code",
   "execution_count": 10,
   "id": "882d6311",
   "metadata": {},
   "outputs": [
    {
     "data": {
      "text/plain": [
       "array([0, 1], dtype=int64)"
      ]
     },
     "execution_count": 10,
     "metadata": {},
     "output_type": "execute_result"
    }
   ],
   "source": [
    "data.label.unique()"
   ]
  },
  {
   "cell_type": "code",
   "execution_count": 11,
   "id": "e9537330",
   "metadata": {},
   "outputs": [],
   "source": [
    "# making separate dataset for the label 1 an 0\n",
    "\n",
    "pos_label=data[data['label']==1]\n",
    "neg_label=data[data['label']==0]"
   ]
  },
  {
   "cell_type": "code",
   "execution_count": 12,
   "id": "f3833b9c",
   "metadata": {},
   "outputs": [],
   "source": [
    "import seaborn as sns"
   ]
  },
  {
   "cell_type": "raw",
   "id": "2d2692c0",
   "metadata": {},
   "source": [
    "plt.pie([pos_label.count(),neg_label.count()],startangle=90)"
   ]
  },
  {
   "cell_type": "code",
   "execution_count": 24,
   "id": "be2d2e84",
   "metadata": {},
   "outputs": [
    {
     "data": {
      "image/png": "[encoded data removed]",
      "text/plain": [
       "<Figure size 360x360 with 1 Axes>"
      ]
     },
     "metadata": {},
     "output_type": "display_data"
    }
   ],
   "source": [
    "plt.figure(figsize=(5,5))\n",
    "colors=['blue','green']\n",
    "pos=data[data['label']==1]\n",
    "neg=data[data['label']==0]\n",
    "ck=[pos['label'].count(),neg['label'].count()]\n",
    "plt.pie(ck,labels=['Positive','Negative'],\n",
    "                 autopct ='%1.1f%%', \n",
    "                 shadow = True,\n",
    "                 colors = colors,\n",
    "                 startangle = 45,\n",
    "                 explode=(0, 0.1))\n",
    "plt.show()"
   ]
  },
  {
   "cell_type": "code",
   "execution_count": 25,
   "id": "fd021527",
   "metadata": {},
   "outputs": [],
   "source": [
    "# preprocessing of text\n",
    "import re"
   ]
  },
  {
   "cell_type": "code",
   "execution_count": 29,
   "id": "be0c5ec9",
   "metadata": {},
   "outputs": [
    {
     "data": {
      "text/html": [
       "<div>\n",
       "<style scoped>\n",
       "    .dataframe tbody tr th:only-of-type {\n",
       "        vertical-align: middle;\n",
       "    }\n",
       "\n",
       "    .dataframe tbody tr th {\n",
       "        vertical-align: top;\n",
       "    }\n",
       "\n",
       "    .dataframe thead th {\n",
       "        text-align: right;\n",
       "    }\n",
       "</style>\n",
       "<table border=\"1\" class=\"dataframe\">\n",
       "  <thead>\n",
       "    <tr style=\"text-align: right;\">\n",
       "      <th></th>\n",
       "      <th>text</th>\n",
       "      <th>label</th>\n",
       "    </tr>\n",
       "  </thead>\n",
       "  <tbody>\n",
       "    <tr>\n",
       "      <th>38732</th>\n",
       "      <td>We tend to forget that the master/slave contex...</td>\n",
       "      <td>1</td>\n",
       "    </tr>\n",
       "    <tr>\n",
       "      <th>7024</th>\n",
       "      <td>Hardly the stuff dreams are made of is this pu...</td>\n",
       "      <td>1</td>\n",
       "    </tr>\n",
       "    <tr>\n",
       "      <th>24923</th>\n",
       "      <td>A stunning film which brought into the open so...</td>\n",
       "      <td>1</td>\n",
       "    </tr>\n",
       "    <tr>\n",
       "      <th>5313</th>\n",
       "      <td>It starts quite good, but after a while you st...</td>\n",
       "      <td>0</td>\n",
       "    </tr>\n",
       "  </tbody>\n",
       "</table>\n",
       "</div>"
      ],
      "text/plain": [
       "                                                    text  label\n",
       "38732  We tend to forget that the master/slave contex...      1\n",
       "7024   Hardly the stuff dreams are made of is this pu...      1\n",
       "24923  A stunning film which brought into the open so...      1\n",
       "5313   It starts quite good, but after a while you st...      0"
      ]
     },
     "execution_count": 29,
     "metadata": {},
     "output_type": "execute_result"
    }
   ],
   "source": [
    "data.sample(4)"
   ]
  },
  {
   "cell_type": "code",
   "execution_count": 33,
   "id": "b8de7aa7",
   "metadata": {},
   "outputs": [],
   "source": [
    "import re\n",
    "def preprocessor(text):\n",
    "             text=re.sub('<[^>]*>','',text)\n",
    "             emojis=re.findall('(?::|;|=)(?:-)?(?:\\)|\\(|D|P)',text)\n",
    "             text=re.sub('[\\W]+',' ',text.lower()) + ' '.join(emojis).replace('-','')\n",
    "             return text   \n",
    "data['text']=data['text'].apply(preprocessor)"
   ]
  },
  {
   "cell_type": "code",
   "execution_count": 34,
   "id": "98c0aec0",
   "metadata": {},
   "outputs": [],
   "source": [
    "# Now, I’ll be using nltk’s PorterStemmer to simplify the data and remove unnecessary complexities in our text data:"
   ]
  },
  {
   "cell_type": "code",
   "execution_count": 35,
   "id": "e963ed3a",
   "metadata": {},
   "outputs": [],
   "source": [
    "from nltk.stem.porter import PorterStemmer"
   ]
  },
  {
   "cell_type": "code",
   "execution_count": 36,
   "id": "10e2612c",
   "metadata": {},
   "outputs": [],
   "source": [
    "stemmer=PorterStemmer()"
   ]
  },
  {
   "cell_type": "code",
   "execution_count": 37,
   "id": "265f2986",
   "metadata": {},
   "outputs": [],
   "source": [
    "def tokenizer(text):\n",
    "    return text.split()\n",
    "def tokenizer_porter(text):\n",
    "    return [stemmer.stem(x) for x in text.split()]"
   ]
  },
  {
   "cell_type": "code",
   "execution_count": 38,
   "id": "727b91b6",
   "metadata": {},
   "outputs": [],
   "source": [
    "# Visualizing Negative and Positive Words"
   ]
  },
  {
   "cell_type": "raw",
   "id": "9af92401",
   "metadata": {},
   "source": [
    "To visualzie the negative and postive words using a wordcloud, I will first remove the stopwords:"
   ]
  },
  {
   "cell_type": "code",
   "execution_count": 41,
   "id": "5163b0ce",
   "metadata": {},
   "outputs": [],
   "source": [
    "from nltk.corpus import stopwords\n",
    "stop_words=stopwords.words('english')"
   ]
  },
  {
   "cell_type": "raw",
   "id": "79964265",
   "metadata": {},
   "source": [
    "!pip install wordcloud"
   ]
  },
  {
   "cell_type": "raw",
   "id": "3ea8f23a",
   "metadata": {},
   "source": [
    "from wordcloud import WordCloud\n",
    "positivedata = data[ data['label'] == 1]\n",
    "positivedata =positivedata['text']\n",
    "negdata = data[data['label'] == 0]\n",
    "negdata= negdata['text']\n",
    "\n",
    "def wordcloud_draw(data, color = 'white'):\n",
    "    words = ' '.join(data)\n",
    "    cleaned_word = \" \".join([word for word in words.split()\n",
    "                              if(word!='movie' and word!='film')\n",
    "                            ])\n",
    "    wordcloud = WordCloud(stopwords=stop,\n",
    "                      background_color=color,\n",
    "                      width=2500,\n",
    "                      height=2000\n",
    "                     ).generate(cleaned_word)\n",
    "    plt.figure(1,figsize=(10, 7))\n",
    "    plt.imshow(wordcloud)\n",
    "    plt.axis('off')\n",
    "    plt.show()\n",
    "    \n",
    "print(\"Positive words are as follows\")\n",
    "wordcloud_draw(positivedata,'white')\n",
    "print(\"Negative words are as follows\")\n",
    "wordcloud_draw(negdata)"
   ]
  },
  {
   "cell_type": "raw",
   "id": "68e4c09b",
   "metadata": {},
   "source": [
    "The positive words that are highlighted are love, excellent, perfect, good, beautiful, kind, excellent and The negative words that are highlighted are: horrible, wasteful, problem, stupid, horrible, bad, poor."
   ]
  },
  {
   "cell_type": "raw",
   "id": "5e784425",
   "metadata": {},
   "source": [
    "Now I will use the TF-IDF Vertorizer to convert the raw documents into feature matrix which is very important to train a Machine Learning model:"
   ]
  },
  {
   "cell_type": "code",
   "execution_count": 45,
   "id": "b04ba020",
   "metadata": {},
   "outputs": [],
   "source": [
    "from sklearn.feature_extraction.text import TfidfVectorizer"
   ]
  },
  {
   "cell_type": "code",
   "execution_count": 46,
   "id": "05d28e5f",
   "metadata": {},
   "outputs": [],
   "source": [
    "tfidf=TfidfVectorizer(strip_accents=None,lowercase=False,preprocessor=None,\n",
    "                      tokenizer=tokenizer_porter,use_idf=True,norm='l2',smooth_idf=True)"
   ]
  },
  {
   "cell_type": "code",
   "execution_count": 47,
   "id": "08df430e",
   "metadata": {},
   "outputs": [],
   "source": [
    "y=data.label.values"
   ]
  },
  {
   "cell_type": "code",
   "execution_count": 48,
   "id": "70b8d4b7",
   "metadata": {},
   "outputs": [],
   "source": [
    "x=tfidf.fit_transform(data.text)"
   ]
  },
  {
   "cell_type": "code",
   "execution_count": 49,
   "id": "d3983b54",
   "metadata": {},
   "outputs": [],
   "source": [
    "# Training Machine Learning Model for Sentiment Analysis"
   ]
  },
  {
   "cell_type": "code",
   "execution_count": 50,
   "id": "a0869a9b",
   "metadata": {},
   "outputs": [],
   "source": [
    "from sklearn.model_selection import train_test_split\n",
    "X_train,X_test,y_train,y_test=train_test_split(x,y,random_state=1,test_size=0.5,shuffle=False)"
   ]
  },
  {
   "cell_type": "raw",
   "id": "a714a070",
   "metadata": {},
   "source": [
    "Now let’s train a machine learning model for the task of sentiment analysis by using the Logistic Regression model:"
   ]
  },
  {
   "cell_type": "code",
   "execution_count": 51,
   "id": "44611dcc",
   "metadata": {},
   "outputs": [
    {
     "name": "stderr",
     "output_type": "stream",
     "text": [
      "[Parallel(n_jobs=-1)]: Using backend LokyBackend with 8 concurrent workers.\n",
      "[Parallel(n_jobs=-1)]: Done   3 out of   6 | elapsed:  1.6min remaining:  1.6min\n",
      "[Parallel(n_jobs=-1)]: Done   6 out of   6 | elapsed:  1.7min remaining:    0.0s\n",
      "[Parallel(n_jobs=-1)]: Done   6 out of   6 | elapsed:  1.7min finished\n"
     ]
    }
   ],
   "source": [
    "from sklearn.linear_model import LogisticRegressionCV\n",
    "clf=LogisticRegressionCV(cv=6,scoring='accuracy',random_state=0,n_jobs=-1,verbose=3,max_iter=500).fit(X_train,y_train)"
   ]
  },
  {
   "cell_type": "code",
   "execution_count": 52,
   "id": "60fae013",
   "metadata": {},
   "outputs": [],
   "source": [
    "y_pred = clf.predict(X_test)"
   ]
  },
  {
   "cell_type": "code",
   "execution_count": 53,
   "id": "3f81d061",
   "metadata": {},
   "outputs": [],
   "source": [
    "from sklearn import metrics"
   ]
  },
  {
   "cell_type": "code",
   "execution_count": 54,
   "id": "e109b6b2",
   "metadata": {},
   "outputs": [
    {
     "name": "stdout",
     "output_type": "stream",
     "text": [
      "Accuracy: 0.89045\n"
     ]
    }
   ],
   "source": [
    "# Model Accuracy, how often is the classifier correct?\n",
    "print(\"Accuracy:\",metrics.accuracy_score(y_test, y_pred))"
   ]
  },
  {
   "cell_type": "code",
   "execution_count": null,
   "id": "44e1009a",
   "metadata": {},
   "outputs": [],
   "source": []
  }
 ],
 "metadata": {
  "kernelspec": {
   "display_name": "Python 3 (ipykernel)",
   "language": "python",
   "name": "python3"
  },
  "language_info": {
   "codemirror_mode": {
    "name": "ipython",
    "version": 3
   },
   "file_extension": ".py",
   "mimetype": "text/x-python",
   "name": "python",
   "nbconvert_exporter": "python",
   "pygments_lexer": "ipython3",
   "version": "3.9.7"
  }
 },
 "nbformat": 4,
 "nbformat_minor": 5
}

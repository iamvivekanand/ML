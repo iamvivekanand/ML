{
 "cells": [
  {
   "cell_type": "markdown",
   "metadata": {},
   "source": [
    "### Supervised Machine Learning"
   ]
  },
  {
   "cell_type": "raw",
   "metadata": {},
   "source": [
    "-models are trained using \"labelled\" training data,\n",
    "-The labelled data means input data is already tagged with the correct output."
   ]
  },
  {
   "cell_type": "raw",
   "metadata": {},
   "source": [
    "the training data provided to the machines work as the supervisor that teaches the machines to predict the output correctly"
   ]
  },
  {
   "cell_type": "markdown",
   "metadata": {},
   "source": [
    "### Types of supervised Machine learning Algorithms"
   ]
  },
  {
   "cell_type": "raw",
   "metadata": {},
   "source": [
    "SML is divided into two types-\n",
    "1.regression\n",
    "2.classification"
   ]
  },
  {
   "cell_type": "markdown",
   "metadata": {},
   "source": [
    "#### Regression"
   ]
  },
  {
   "cell_type": "raw",
   "metadata": {},
   "source": [
    "-used for the prediction of continuous variables, such as Weather forecasting, Market Trends, etc"
   ]
  },
  {
   "cell_type": "markdown",
   "metadata": {},
   "source": [
    "#### Classification"
   ]
  },
  {
   "cell_type": "raw",
   "metadata": {},
   "source": [
    "-Classification algorithms are used when the output variable is categorical,\n",
    "- such as Yes-No, Male-Female, True-false, etc."
   ]
  },
  {
   "cell_type": "raw",
   "metadata": {},
   "source": [
    "In supervised learning we can have exact idea about the classes of objects."
   ]
  }
 ],
 "metadata": {
  "kernelspec": {
   "display_name": "Python 3 (ipykernel)",
   "language": "python",
   "name": "python3"
  },
  "language_info": {
   "codemirror_mode": {
    "name": "ipython",
    "version": 3
   },
   "file_extension": ".py",
   "mimetype": "text/x-python",
   "name": "python",
   "nbconvert_exporter": "python",
   "pygments_lexer": "ipython3",
   "version": "3.9.7"
  }
 },
 "nbformat": 4,
 "nbformat_minor": 4
}

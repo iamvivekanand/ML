{
 "cells": [
  {
   "cell_type": "raw",
   "metadata": {
    "_cell_guid": "b1076dfc-b9ad-4769-8c92-a6c4dae69d19",
    "_uuid": "8f2839f25d086af736a60e9eeb907d3b93b6e0e5",
    "execution": {
     "iopub.execute_input": "2022-10-06T18:16:28.638524Z",
     "iopub.status.busy": "2022-10-06T18:16:28.637888Z",
     "iopub.status.idle": "2022-10-06T18:16:28.648772Z",
     "shell.execute_reply": "2022-10-06T18:16:28.647875Z",
     "shell.execute_reply.started": "2022-10-06T18:16:28.638491Z"
    }
   },
   "source": [
    "import numpy as np # linear algebra\n",
    "import pandas as pd # data processing, CSV file I/O (e.g. pd.read_csv)\n",
    "\n",
    "import os\n",
    "for dirname, _, filenames in os.walk('/kaggle/input'):\n",
    "    for filename in filenames:\n",
    "        print(os.path.join(dirname, filename))"
   ]
  },
  {
   "cell_type": "code",
   "execution_count": 45,
   "metadata": {},
   "outputs": [],
   "source": [
    "# !pip install tensorflow"
   ]
  },
  {
   "cell_type": "markdown",
   "metadata": {},
   "source": [
    "### Loading the Dataset"
   ]
  },
  {
   "cell_type": "code",
   "execution_count": 4,
   "metadata": {
    "execution": {
     "iopub.execute_input": "2022-10-06T18:16:28.707384Z",
     "iopub.status.busy": "2022-10-06T18:16:28.706944Z",
     "iopub.status.idle": "2022-10-06T18:16:29.833137Z",
     "shell.execute_reply": "2022-10-06T18:16:29.832202Z",
     "shell.execute_reply.started": "2022-10-06T18:16:28.707354Z"
    }
   },
   "outputs": [],
   "source": [
    "# importing necessary library, rest we will import when required\n",
    "import numpy as np\n",
    "import pandas as pd\n",
    "import matplotlib.pyplot as plt\n",
    "import seaborn as sns\n",
    "from sklearn.linear_model import LinearRegression\n",
    "from sklearn.tree import DecisionTreeRegressor\n",
    "from sklearn.ensemble import AdaBoostRegressor,RandomForestRegressor\n",
    "from sklearn.metrics import mean_squared_error as mse, r2_score"
   ]
  },
  {
   "cell_type": "code",
   "execution_count": 5,
   "metadata": {
    "execution": {
     "iopub.execute_input": "2022-10-06T18:16:29.835444Z",
     "iopub.status.busy": "2022-10-06T18:16:29.835033Z",
     "iopub.status.idle": "2022-10-06T18:16:29.840622Z",
     "shell.execute_reply": "2022-10-06T18:16:29.839600Z",
     "shell.execute_reply.started": "2022-10-06T18:16:29.835406Z"
    }
   },
   "outputs": [],
   "source": [
    "# Avoiding warning diplay\n",
    "import warnings\n",
    "warnings.filterwarnings('ignore')"
   ]
  },
  {
   "cell_type": "code",
   "execution_count": 6,
   "metadata": {
    "execution": {
     "iopub.execute_input": "2022-10-06T18:16:29.842816Z",
     "iopub.status.busy": "2022-10-06T18:16:29.842505Z",
     "iopub.status.idle": "2022-10-06T18:16:32.729455Z",
     "shell.execute_reply": "2022-10-06T18:16:32.728574Z",
     "shell.execute_reply.started": "2022-10-06T18:16:29.842779Z"
    }
   },
   "outputs": [],
   "source": [
    "# Loading datasets \n",
    "items=pd.read_csv('items.csv')\n",
    "sample_submission=pd.read_csv('sample_submission.csv')\n",
    "item_categories=pd.read_csv('item_categories.csv')\n",
    "sales_train=pd.read_csv('sales_train.csv')\n",
    "shops=pd.read_csv('shops.csv')\n",
    "test=pd.read_csv('test.csv')"
   ]
  },
  {
   "cell_type": "code",
   "execution_count": 7,
   "metadata": {
    "execution": {
     "iopub.execute_input": "2022-10-06T18:16:32.732128Z",
     "iopub.status.busy": "2022-10-06T18:16:32.731852Z",
     "iopub.status.idle": "2022-10-06T18:16:32.737406Z",
     "shell.execute_reply": "2022-10-06T18:16:32.736548Z",
     "shell.execute_reply.started": "2022-10-06T18:16:32.732098Z"
    }
   },
   "outputs": [],
   "source": [
    "# Storing names of all dataset in a list\n",
    "listdf=[items,item_categories,shops,sales_train,test,sample_submission]"
   ]
  },
  {
   "cell_type": "code",
   "execution_count": 8,
   "metadata": {
    "execution": {
     "iopub.execute_input": "2022-10-06T18:16:32.739391Z",
     "iopub.status.busy": "2022-10-06T18:16:32.738706Z",
     "iopub.status.idle": "2022-10-06T18:16:32.761947Z",
     "shell.execute_reply": "2022-10-06T18:16:32.761145Z",
     "shell.execute_reply.started": "2022-10-06T18:16:32.739359Z"
    }
   },
   "outputs": [
    {
     "data": {
      "text/html": [
       "<div>\n",
       "<style scoped>\n",
       "    .dataframe tbody tr th:only-of-type {\n",
       "        vertical-align: middle;\n",
       "    }\n",
       "\n",
       "    .dataframe tbody tr th {\n",
       "        vertical-align: top;\n",
       "    }\n",
       "\n",
       "    .dataframe thead th {\n",
       "        text-align: right;\n",
       "    }\n",
       "</style>\n",
       "<table border=\"1\" class=\"dataframe\">\n",
       "  <thead>\n",
       "    <tr style=\"text-align: right;\">\n",
       "      <th></th>\n",
       "      <th>ID</th>\n",
       "      <th>shop_id</th>\n",
       "      <th>item_id</th>\n",
       "    </tr>\n",
       "  </thead>\n",
       "  <tbody>\n",
       "    <tr>\n",
       "      <th>0</th>\n",
       "      <td>0</td>\n",
       "      <td>5</td>\n",
       "      <td>5037</td>\n",
       "    </tr>\n",
       "    <tr>\n",
       "      <th>1</th>\n",
       "      <td>1</td>\n",
       "      <td>5</td>\n",
       "      <td>5320</td>\n",
       "    </tr>\n",
       "  </tbody>\n",
       "</table>\n",
       "</div>"
      ],
      "text/plain": [
       "   ID  shop_id  item_id\n",
       "0   0        5     5037\n",
       "1   1        5     5320"
      ]
     },
     "execution_count": 8,
     "metadata": {},
     "output_type": "execute_result"
    }
   ],
   "source": [
    "# Reading test data\n",
    "test.head(2)"
   ]
  },
  {
   "cell_type": "code",
   "execution_count": 9,
   "metadata": {
    "execution": {
     "iopub.execute_input": "2022-10-06T18:16:32.763358Z",
     "iopub.status.busy": "2022-10-06T18:16:32.762973Z",
     "iopub.status.idle": "2022-10-06T18:16:32.768697Z",
     "shell.execute_reply": "2022-10-06T18:16:32.768104Z",
     "shell.execute_reply.started": "2022-10-06T18:16:32.763329Z"
    }
   },
   "outputs": [],
   "source": [
    "ID=test['ID']"
   ]
  },
  {
   "cell_type": "code",
   "execution_count": 10,
   "metadata": {
    "execution": {
     "iopub.execute_input": "2022-10-06T18:16:32.770078Z",
     "iopub.status.busy": "2022-10-06T18:16:32.769829Z",
     "iopub.status.idle": "2022-10-06T18:16:32.781760Z",
     "shell.execute_reply": "2022-10-06T18:16:32.780706Z",
     "shell.execute_reply.started": "2022-10-06T18:16:32.770044Z"
    }
   },
   "outputs": [
    {
     "data": {
      "text/plain": [
       "(214200, 3)"
      ]
     },
     "execution_count": 10,
     "metadata": {},
     "output_type": "execute_result"
    }
   ],
   "source": [
    "test.shape"
   ]
  },
  {
   "cell_type": "markdown",
   "metadata": {},
   "source": [
    ">Test data has 214200 rows and 3 columns.\n",
    "Only shop_id and item_id columns has been taken for prediction, and will leave all other columns untouched."
   ]
  },
  {
   "cell_type": "code",
   "execution_count": 12,
   "metadata": {
    "execution": {
     "iopub.execute_input": "2022-10-06T18:16:32.784051Z",
     "iopub.status.busy": "2022-10-06T18:16:32.783666Z",
     "iopub.status.idle": "2022-10-06T18:16:32.797589Z",
     "shell.execute_reply": "2022-10-06T18:16:32.796533Z",
     "shell.execute_reply.started": "2022-10-06T18:16:32.783991Z"
    }
   },
   "outputs": [
    {
     "data": {
      "text/html": [
       "<div>\n",
       "<style scoped>\n",
       "    .dataframe tbody tr th:only-of-type {\n",
       "        vertical-align: middle;\n",
       "    }\n",
       "\n",
       "    .dataframe tbody tr th {\n",
       "        vertical-align: top;\n",
       "    }\n",
       "\n",
       "    .dataframe thead th {\n",
       "        text-align: right;\n",
       "    }\n",
       "</style>\n",
       "<table border=\"1\" class=\"dataframe\">\n",
       "  <thead>\n",
       "    <tr style=\"text-align: right;\">\n",
       "      <th></th>\n",
       "      <th>item_name</th>\n",
       "      <th>item_id</th>\n",
       "      <th>item_category_id</th>\n",
       "    </tr>\n",
       "  </thead>\n",
       "  <tbody>\n",
       "    <tr>\n",
       "      <th>0</th>\n",
       "      <td>! ВО ВЛАСТИ НАВАЖДЕНИЯ (ПЛАСТ.)         D</td>\n",
       "      <td>0</td>\n",
       "      <td>40</td>\n",
       "    </tr>\n",
       "    <tr>\n",
       "      <th>1</th>\n",
       "      <td>!ABBYY FineReader 12 Professional Edition Full...</td>\n",
       "      <td>1</td>\n",
       "      <td>76</td>\n",
       "    </tr>\n",
       "    <tr>\n",
       "      <th>2</th>\n",
       "      <td>***В ЛУЧАХ СЛАВЫ   (UNV)                    D</td>\n",
       "      <td>2</td>\n",
       "      <td>40</td>\n",
       "    </tr>\n",
       "  </tbody>\n",
       "</table>\n",
       "</div>"
      ],
      "text/plain": [
       "                                           item_name  item_id  \\\n",
       "0          ! ВО ВЛАСТИ НАВАЖДЕНИЯ (ПЛАСТ.)         D        0   \n",
       "1  !ABBYY FineReader 12 Professional Edition Full...        1   \n",
       "2      ***В ЛУЧАХ СЛАВЫ   (UNV)                    D        2   \n",
       "\n",
       "   item_category_id  \n",
       "0                40  \n",
       "1                76  \n",
       "2                40  "
      ]
     },
     "execution_count": 12,
     "metadata": {},
     "output_type": "execute_result"
    }
   ],
   "source": [
    "# Reading first 3 rows of item dataset\n",
    "items.head(3)"
   ]
  },
  {
   "cell_type": "code",
   "execution_count": 13,
   "metadata": {
    "execution": {
     "iopub.execute_input": "2022-10-06T18:16:32.800076Z",
     "iopub.status.busy": "2022-10-06T18:16:32.799659Z",
     "iopub.status.idle": "2022-10-06T18:16:32.808889Z",
     "shell.execute_reply": "2022-10-06T18:16:32.807933Z",
     "shell.execute_reply.started": "2022-10-06T18:16:32.800035Z"
    }
   },
   "outputs": [
    {
     "data": {
      "text/plain": [
       "(22170, 3)"
      ]
     },
     "execution_count": 13,
     "metadata": {},
     "output_type": "execute_result"
    }
   ],
   "source": [
    "items.shape"
   ]
  },
  {
   "cell_type": "code",
   "execution_count": 14,
   "metadata": {
    "execution": {
     "iopub.execute_input": "2022-10-06T18:16:32.813319Z",
     "iopub.status.busy": "2022-10-06T18:16:32.813091Z",
     "iopub.status.idle": "2022-10-06T18:16:32.822318Z",
     "shell.execute_reply": "2022-10-06T18:16:32.821433Z",
     "shell.execute_reply.started": "2022-10-06T18:16:32.813293Z"
    }
   },
   "outputs": [],
   "source": [
    "items.drop('item_name',axis=1,inplace=True)"
   ]
  },
  {
   "cell_type": "code",
   "execution_count": 15,
   "metadata": {
    "execution": {
     "iopub.execute_input": "2022-10-06T18:16:32.824002Z",
     "iopub.status.busy": "2022-10-06T18:16:32.823387Z",
     "iopub.status.idle": "2022-10-06T18:16:32.833492Z",
     "shell.execute_reply": "2022-10-06T18:16:32.832946Z",
     "shell.execute_reply.started": "2022-10-06T18:16:32.823972Z"
    }
   },
   "outputs": [
    {
     "data": {
      "text/html": [
       "<div>\n",
       "<style scoped>\n",
       "    .dataframe tbody tr th:only-of-type {\n",
       "        vertical-align: middle;\n",
       "    }\n",
       "\n",
       "    .dataframe tbody tr th {\n",
       "        vertical-align: top;\n",
       "    }\n",
       "\n",
       "    .dataframe thead th {\n",
       "        text-align: right;\n",
       "    }\n",
       "</style>\n",
       "<table border=\"1\" class=\"dataframe\">\n",
       "  <thead>\n",
       "    <tr style=\"text-align: right;\">\n",
       "      <th></th>\n",
       "      <th>item_category_name</th>\n",
       "      <th>item_category_id</th>\n",
       "    </tr>\n",
       "  </thead>\n",
       "  <tbody>\n",
       "    <tr>\n",
       "      <th>0</th>\n",
       "      <td>PC - Гарнитуры/Наушники</td>\n",
       "      <td>0</td>\n",
       "    </tr>\n",
       "    <tr>\n",
       "      <th>1</th>\n",
       "      <td>Аксессуары - PS2</td>\n",
       "      <td>1</td>\n",
       "    </tr>\n",
       "    <tr>\n",
       "      <th>2</th>\n",
       "      <td>Аксессуары - PS3</td>\n",
       "      <td>2</td>\n",
       "    </tr>\n",
       "  </tbody>\n",
       "</table>\n",
       "</div>"
      ],
      "text/plain": [
       "        item_category_name  item_category_id\n",
       "0  PC - Гарнитуры/Наушники                 0\n",
       "1         Аксессуары - PS2                 1\n",
       "2         Аксессуары - PS3                 2"
      ]
     },
     "execution_count": 15,
     "metadata": {},
     "output_type": "execute_result"
    }
   ],
   "source": [
    "# Reading Item Categories\n",
    "item_categories.head(3)"
   ]
  },
  {
   "cell_type": "code",
   "execution_count": 16,
   "metadata": {
    "execution": {
     "iopub.execute_input": "2022-10-06T18:16:32.835147Z",
     "iopub.status.busy": "2022-10-06T18:16:32.834334Z",
     "iopub.status.idle": "2022-10-06T18:16:32.846384Z",
     "shell.execute_reply": "2022-10-06T18:16:32.845730Z",
     "shell.execute_reply.started": "2022-10-06T18:16:32.835106Z"
    }
   },
   "outputs": [
    {
     "data": {
      "text/plain": [
       "(84, 2)"
      ]
     },
     "execution_count": 16,
     "metadata": {},
     "output_type": "execute_result"
    }
   ],
   "source": [
    "item_categories.shape"
   ]
  },
  {
   "cell_type": "code",
   "execution_count": 17,
   "metadata": {
    "execution": {
     "iopub.execute_input": "2022-10-06T18:16:32.847773Z",
     "iopub.status.busy": "2022-10-06T18:16:32.847431Z",
     "iopub.status.idle": "2022-10-06T18:16:32.857695Z",
     "shell.execute_reply": "2022-10-06T18:16:32.856910Z",
     "shell.execute_reply.started": "2022-10-06T18:16:32.847744Z"
    }
   },
   "outputs": [
    {
     "data": {
      "text/plain": [
       "item_category_name    0\n",
       "item_category_id      0\n",
       "dtype: int64"
      ]
     },
     "execution_count": 17,
     "metadata": {},
     "output_type": "execute_result"
    }
   ],
   "source": [
    "item_categories.isnull().sum()"
   ]
  },
  {
   "cell_type": "code",
   "execution_count": 18,
   "metadata": {
    "execution": {
     "iopub.execute_input": "2022-10-06T18:16:32.859281Z",
     "iopub.status.busy": "2022-10-06T18:16:32.858758Z",
     "iopub.status.idle": "2022-10-06T18:16:32.871167Z",
     "shell.execute_reply": "2022-10-06T18:16:32.870394Z",
     "shell.execute_reply.started": "2022-10-06T18:16:32.859253Z"
    }
   },
   "outputs": [
    {
     "data": {
      "text/html": [
       "<div>\n",
       "<style scoped>\n",
       "    .dataframe tbody tr th:only-of-type {\n",
       "        vertical-align: middle;\n",
       "    }\n",
       "\n",
       "    .dataframe tbody tr th {\n",
       "        vertical-align: top;\n",
       "    }\n",
       "\n",
       "    .dataframe thead th {\n",
       "        text-align: right;\n",
       "    }\n",
       "</style>\n",
       "<table border=\"1\" class=\"dataframe\">\n",
       "  <thead>\n",
       "    <tr style=\"text-align: right;\">\n",
       "      <th></th>\n",
       "      <th>shop_name</th>\n",
       "      <th>shop_id</th>\n",
       "    </tr>\n",
       "  </thead>\n",
       "  <tbody>\n",
       "    <tr>\n",
       "      <th>0</th>\n",
       "      <td>!Якутск Орджоникидзе, 56 фран</td>\n",
       "      <td>0</td>\n",
       "    </tr>\n",
       "    <tr>\n",
       "      <th>1</th>\n",
       "      <td>!Якутск ТЦ \"Центральный\" фран</td>\n",
       "      <td>1</td>\n",
       "    </tr>\n",
       "    <tr>\n",
       "      <th>2</th>\n",
       "      <td>Адыгея ТЦ \"Мега\"</td>\n",
       "      <td>2</td>\n",
       "    </tr>\n",
       "  </tbody>\n",
       "</table>\n",
       "</div>"
      ],
      "text/plain": [
       "                       shop_name  shop_id\n",
       "0  !Якутск Орджоникидзе, 56 фран        0\n",
       "1  !Якутск ТЦ \"Центральный\" фран        1\n",
       "2               Адыгея ТЦ \"Мега\"        2"
      ]
     },
     "execution_count": 18,
     "metadata": {},
     "output_type": "execute_result"
    }
   ],
   "source": [
    "shops.head(3)"
   ]
  },
  {
   "cell_type": "code",
   "execution_count": 19,
   "metadata": {
    "execution": {
     "iopub.execute_input": "2022-10-06T18:16:32.872329Z",
     "iopub.status.busy": "2022-10-06T18:16:32.872114Z",
     "iopub.status.idle": "2022-10-06T18:16:32.882137Z",
     "shell.execute_reply": "2022-10-06T18:16:32.881363Z",
     "shell.execute_reply.started": "2022-10-06T18:16:32.872305Z"
    }
   },
   "outputs": [
    {
     "data": {
      "text/plain": [
       "(60, 2)"
      ]
     },
     "execution_count": 19,
     "metadata": {},
     "output_type": "execute_result"
    }
   ],
   "source": [
    "shops.shape"
   ]
  },
  {
   "cell_type": "code",
   "execution_count": 20,
   "metadata": {
    "execution": {
     "iopub.execute_input": "2022-10-06T18:16:32.883541Z",
     "iopub.status.busy": "2022-10-06T18:16:32.883227Z",
     "iopub.status.idle": "2022-10-06T18:16:32.896540Z",
     "shell.execute_reply": "2022-10-06T18:16:32.895617Z",
     "shell.execute_reply.started": "2022-10-06T18:16:32.883504Z"
    }
   },
   "outputs": [
    {
     "data": {
      "text/plain": [
       "shop_name    0\n",
       "shop_id      0\n",
       "dtype: int64"
      ]
     },
     "execution_count": 20,
     "metadata": {},
     "output_type": "execute_result"
    }
   ],
   "source": [
    "shops.isnull().sum()"
   ]
  },
  {
   "cell_type": "code",
   "execution_count": 21,
   "metadata": {
    "execution": {
     "iopub.execute_input": "2022-10-06T18:16:32.897887Z",
     "iopub.status.busy": "2022-10-06T18:16:32.897615Z",
     "iopub.status.idle": "2022-10-06T18:16:32.916323Z",
     "shell.execute_reply": "2022-10-06T18:16:32.915684Z",
     "shell.execute_reply.started": "2022-10-06T18:16:32.897859Z"
    }
   },
   "outputs": [
    {
     "data": {
      "text/html": [
       "<div>\n",
       "<style scoped>\n",
       "    .dataframe tbody tr th:only-of-type {\n",
       "        vertical-align: middle;\n",
       "    }\n",
       "\n",
       "    .dataframe tbody tr th {\n",
       "        vertical-align: top;\n",
       "    }\n",
       "\n",
       "    .dataframe thead th {\n",
       "        text-align: right;\n",
       "    }\n",
       "</style>\n",
       "<table border=\"1\" class=\"dataframe\">\n",
       "  <thead>\n",
       "    <tr style=\"text-align: right;\">\n",
       "      <th></th>\n",
       "      <th>date</th>\n",
       "      <th>date_block_num</th>\n",
       "      <th>shop_id</th>\n",
       "      <th>item_id</th>\n",
       "      <th>item_price</th>\n",
       "      <th>item_cnt_day</th>\n",
       "    </tr>\n",
       "  </thead>\n",
       "  <tbody>\n",
       "    <tr>\n",
       "      <th>0</th>\n",
       "      <td>02.01.2013</td>\n",
       "      <td>0</td>\n",
       "      <td>59</td>\n",
       "      <td>22154</td>\n",
       "      <td>999.0</td>\n",
       "      <td>1.0</td>\n",
       "    </tr>\n",
       "    <tr>\n",
       "      <th>1</th>\n",
       "      <td>03.01.2013</td>\n",
       "      <td>0</td>\n",
       "      <td>25</td>\n",
       "      <td>2552</td>\n",
       "      <td>899.0</td>\n",
       "      <td>1.0</td>\n",
       "    </tr>\n",
       "    <tr>\n",
       "      <th>2</th>\n",
       "      <td>05.01.2013</td>\n",
       "      <td>0</td>\n",
       "      <td>25</td>\n",
       "      <td>2552</td>\n",
       "      <td>899.0</td>\n",
       "      <td>-1.0</td>\n",
       "    </tr>\n",
       "  </tbody>\n",
       "</table>\n",
       "</div>"
      ],
      "text/plain": [
       "         date  date_block_num  shop_id  item_id  item_price  item_cnt_day\n",
       "0  02.01.2013               0       59    22154       999.0           1.0\n",
       "1  03.01.2013               0       25     2552       899.0           1.0\n",
       "2  05.01.2013               0       25     2552       899.0          -1.0"
      ]
     },
     "execution_count": 21,
     "metadata": {},
     "output_type": "execute_result"
    }
   ],
   "source": [
    "sales_train.head(3)"
   ]
  },
  {
   "cell_type": "code",
   "execution_count": 22,
   "metadata": {
    "execution": {
     "iopub.execute_input": "2022-10-06T18:16:32.917736Z",
     "iopub.status.busy": "2022-10-06T18:16:32.917308Z",
     "iopub.status.idle": "2022-10-06T18:16:32.927139Z",
     "shell.execute_reply": "2022-10-06T18:16:32.926260Z",
     "shell.execute_reply.started": "2022-10-06T18:16:32.917705Z"
    }
   },
   "outputs": [
    {
     "data": {
      "text/plain": [
       "(2935849, 6)"
      ]
     },
     "execution_count": 22,
     "metadata": {},
     "output_type": "execute_result"
    }
   ],
   "source": [
    "sales_train.shape"
   ]
  },
  {
   "cell_type": "markdown",
   "metadata": {
    "execution": {
     "iopub.execute_input": "2022-10-06T14:06:55.306120Z",
     "iopub.status.busy": "2022-10-06T14:06:55.305750Z",
     "iopub.status.idle": "2022-10-06T14:06:55.313373Z",
     "shell.execute_reply": "2022-10-06T14:06:55.312458Z",
     "shell.execute_reply.started": "2022-10-06T14:06:55.306085Z"
    }
   },
   "source": [
    ">This is the main data that we will use to train the model, as all other datasets are very short, like shop dataset has only 60 rows, and item_categories has only 84 rows. these dataset are very small in comparision to sales_train dataset, which has more than 2.9  millions records. so merging these dataset is almost meaningless."
   ]
  },
  {
   "cell_type": "code",
   "execution_count": 23,
   "metadata": {
    "execution": {
     "iopub.execute_input": "2022-10-06T18:16:32.929298Z",
     "iopub.status.busy": "2022-10-06T18:16:32.928549Z",
     "iopub.status.idle": "2022-10-06T18:16:33.107841Z",
     "shell.execute_reply": "2022-10-06T18:16:33.106917Z",
     "shell.execute_reply.started": "2022-10-06T18:16:32.929259Z"
    }
   },
   "outputs": [
    {
     "data": {
      "text/plain": [
       "date              0\n",
       "date_block_num    0\n",
       "shop_id           0\n",
       "item_id           0\n",
       "item_price        0\n",
       "item_cnt_day      0\n",
       "dtype: int64"
      ]
     },
     "execution_count": 23,
     "metadata": {},
     "output_type": "execute_result"
    }
   ],
   "source": [
    "# Checking for null values\n",
    "sales_train.isnull().sum()"
   ]
  },
  {
   "cell_type": "markdown",
   "metadata": {},
   "source": [
    ">WE DON'T HAVE NULL VALUES IN sales_train dataset."
   ]
  },
  {
   "cell_type": "code",
   "execution_count": 24,
   "metadata": {
    "execution": {
     "iopub.execute_input": "2022-10-06T18:16:33.109890Z",
     "iopub.status.busy": "2022-10-06T18:16:33.109338Z",
     "iopub.status.idle": "2022-10-06T18:16:33.133950Z",
     "shell.execute_reply": "2022-10-06T18:16:33.133021Z",
     "shell.execute_reply.started": "2022-10-06T18:16:33.109849Z"
    }
   },
   "outputs": [],
   "source": [
    "# Extracting input and output values\n",
    "x=sales_train.drop(['date','date_block_num','item_price','item_cnt_day'],axis=1)\n",
    "y=sales_train.item_cnt_day"
   ]
  },
  {
   "cell_type": "code",
   "execution_count": 25,
   "metadata": {
    "execution": {
     "iopub.execute_input": "2022-10-06T18:16:33.135636Z",
     "iopub.status.busy": "2022-10-06T18:16:33.135386Z",
     "iopub.status.idle": "2022-10-06T18:16:33.144586Z",
     "shell.execute_reply": "2022-10-06T18:16:33.143842Z",
     "shell.execute_reply.started": "2022-10-06T18:16:33.135607Z"
    }
   },
   "outputs": [
    {
     "data": {
      "text/html": [
       "<div>\n",
       "<style scoped>\n",
       "    .dataframe tbody tr th:only-of-type {\n",
       "        vertical-align: middle;\n",
       "    }\n",
       "\n",
       "    .dataframe tbody tr th {\n",
       "        vertical-align: top;\n",
       "    }\n",
       "\n",
       "    .dataframe thead th {\n",
       "        text-align: right;\n",
       "    }\n",
       "</style>\n",
       "<table border=\"1\" class=\"dataframe\">\n",
       "  <thead>\n",
       "    <tr style=\"text-align: right;\">\n",
       "      <th></th>\n",
       "      <th>shop_id</th>\n",
       "      <th>item_id</th>\n",
       "    </tr>\n",
       "  </thead>\n",
       "  <tbody>\n",
       "    <tr>\n",
       "      <th>0</th>\n",
       "      <td>59</td>\n",
       "      <td>22154</td>\n",
       "    </tr>\n",
       "    <tr>\n",
       "      <th>1</th>\n",
       "      <td>25</td>\n",
       "      <td>2552</td>\n",
       "    </tr>\n",
       "    <tr>\n",
       "      <th>2</th>\n",
       "      <td>25</td>\n",
       "      <td>2552</td>\n",
       "    </tr>\n",
       "    <tr>\n",
       "      <th>3</th>\n",
       "      <td>25</td>\n",
       "      <td>2554</td>\n",
       "    </tr>\n",
       "    <tr>\n",
       "      <th>4</th>\n",
       "      <td>25</td>\n",
       "      <td>2555</td>\n",
       "    </tr>\n",
       "  </tbody>\n",
       "</table>\n",
       "</div>"
      ],
      "text/plain": [
       "   shop_id  item_id\n",
       "0       59    22154\n",
       "1       25     2552\n",
       "2       25     2552\n",
       "3       25     2554\n",
       "4       25     2555"
      ]
     },
     "execution_count": 25,
     "metadata": {},
     "output_type": "execute_result"
    }
   ],
   "source": [
    "x[0:5]"
   ]
  },
  {
   "cell_type": "code",
   "execution_count": 26,
   "metadata": {
    "execution": {
     "iopub.execute_input": "2022-10-06T18:16:33.145870Z",
     "iopub.status.busy": "2022-10-06T18:16:33.145573Z",
     "iopub.status.idle": "2022-10-06T18:16:33.155802Z",
     "shell.execute_reply": "2022-10-06T18:16:33.154990Z",
     "shell.execute_reply.started": "2022-10-06T18:16:33.145837Z"
    }
   },
   "outputs": [
    {
     "data": {
      "text/plain": [
       "0    1.0\n",
       "1    1.0\n",
       "2   -1.0\n",
       "3    1.0\n",
       "4    1.0\n",
       "Name: item_cnt_day, dtype: float64"
      ]
     },
     "execution_count": 26,
     "metadata": {},
     "output_type": "execute_result"
    }
   ],
   "source": [
    "y[0:5]"
   ]
  },
  {
   "cell_type": "markdown",
   "metadata": {},
   "source": [
    "****"
   ]
  },
  {
   "cell_type": "code",
   "execution_count": 27,
   "metadata": {
    "execution": {
     "iopub.execute_input": "2022-10-06T18:16:33.157267Z",
     "iopub.status.busy": "2022-10-06T18:16:33.157035Z",
     "iopub.status.idle": "2022-10-06T18:16:33.306822Z",
     "shell.execute_reply": "2022-10-06T18:16:33.306063Z",
     "shell.execute_reply.started": "2022-10-06T18:16:33.157241Z"
    }
   },
   "outputs": [],
   "source": [
    "from sklearn.preprocessing import StandardScaler\n",
    "ss=StandardScaler()\n",
    "x=ss.fit_transform(x)"
   ]
  },
  {
   "cell_type": "code",
   "execution_count": 28,
   "metadata": {
    "execution": {
     "iopub.execute_input": "2022-10-06T18:16:33.308406Z",
     "iopub.status.busy": "2022-10-06T18:16:33.308026Z",
     "iopub.status.idle": "2022-10-06T18:16:33.726245Z",
     "shell.execute_reply": "2022-10-06T18:16:33.725246Z",
     "shell.execute_reply.started": "2022-10-06T18:16:33.308379Z"
    }
   },
   "outputs": [],
   "source": [
    "from sklearn.model_selection import train_test_split\n",
    "xtrain,xtest,ytrain,ytest=train_test_split(x,y,test_size=0.15,random_state=0)"
   ]
  },
  {
   "cell_type": "code",
   "execution_count": 30,
   "metadata": {
    "execution": {
     "iopub.execute_input": "2022-10-06T18:16:33.727602Z",
     "iopub.status.busy": "2022-10-06T18:16:33.727353Z",
     "iopub.status.idle": "2022-10-06T18:16:33.965738Z",
     "shell.execute_reply": "2022-10-06T18:16:33.964858Z",
     "shell.execute_reply.started": "2022-10-06T18:16:33.727573Z"
    }
   },
   "outputs": [
    {
     "name": "stdout",
     "output_type": "stream",
     "text": [
      "Train Score:  0.0002907564164054133\n",
      "Test Score:  0.00041975466303478814\n",
      "Accuracy Score:  3.325\n"
     ]
    }
   ],
   "source": [
    "# Linear model\n",
    "from sklearn.linear_model import LinearRegression\n",
    "lr=LinearRegression()\n",
    "lr.fit(xtrain,ytrain)\n",
    "print('Train Score: ',lr.score(xtrain,ytrain))\n",
    "print('Test Score: ',lr.score(xtest,ytest))\n",
    "ypred=lr.predict(xtest)\n",
    "score=mse(ytest,ypred)**1/2 # Taking root of mean squared error\n",
    "print(\"Accuracy Score: \",score.round(3)) # Score is rounded upto 3 decimal places"
   ]
  },
  {
   "cell_type": "markdown",
   "metadata": {},
   "source": [
    "### Random Forest"
   ]
  },
  {
   "cell_type": "code",
   "execution_count": 31,
   "metadata": {
    "execution": {
     "iopub.execute_input": "2022-10-06T18:16:34.058871Z",
     "iopub.status.busy": "2022-10-06T18:16:34.055952Z"
    }
   },
   "outputs": [
    {
     "name": "stdout",
     "output_type": "stream",
     "text": [
      "Train Score:  0.15859428848273482\n",
      "Test Score:  0.3337789828652741\n",
      "RMSE of Random Forest:  2.216\n"
     ]
    }
   ],
   "source": [
    "from sklearn.ensemble import RandomForestRegressor\n",
    "rf=RandomForestRegressor(n_estimators=100)\n",
    "rf.fit(xtrain,ytrain)\n",
    "print('Train Score: ',rf.score(xtrain,ytrain))\n",
    "print('Test Score: ',rf.score(xtest,ytest))\n",
    "ypred=rf.predict(xtest)\n",
    "score=mse(ytest,ypred)**1/2 # Taking root of mean squared error\n",
    "print(\"RMSE of Random Forest: \",score.round(3)) \n",
    "# Score is rounded upto 3 decimal places"
   ]
  },
  {
   "cell_type": "markdown",
   "metadata": {},
   "source": [
    "### AdaBoostRegressor"
   ]
  },
  {
   "cell_type": "code",
   "execution_count": 32,
   "metadata": {},
   "outputs": [
    {
     "name": "stdout",
     "output_type": "stream",
     "text": [
      "AdaBoost Trainig Score:  -9.470082962366712\n",
      "AdaBoost Testing Score:  -11.972425169292466\n",
      "RMSE of Random Forest:  43.151\n"
     ]
    }
   ],
   "source": [
    "adb=AdaBoostRegressor()\n",
    "adb.fit(xtrain,ytrain)\n",
    "ypred=adb.predict(xtest)\n",
    "\n",
    "# Traning Score\n",
    "print('AdaBoost Trainig Score: ',adb.score(xtrain,ytrain))\n",
    "# Test Score\n",
    "print('AdaBoost Testing Score: ',adb.score(xtest,ytest))\n",
    "\n",
    "score=mse(ytest,ypred)**1/2 # Taking root of mean squared error\n",
    "print(\"RMSE of Random Forest: \",score.round(3)) \n",
    "# Score is rounded upto 3 decimal places"
   ]
  },
  {
   "cell_type": "code",
   "execution_count": 33,
   "metadata": {},
   "outputs": [
    {
     "name": "stdout",
     "output_type": "stream",
     "text": [
      "Trainig Score:  0.16155127293667015\n",
      "AdaBoost Testing Score:  0.4346116997520495\n",
      "RMSE of Random Forest:  1.881\n"
     ]
    }
   ],
   "source": [
    "dt=DecisionTreeRegressor()\n",
    "dt.fit(xtrain,ytrain)\n",
    "ypred=dt.predict(xtest)\n",
    "\n",
    "# Traning Score\n",
    "print('Trainig Score: ',dt.score(xtrain,ytrain))\n",
    "# Test Score\n",
    "print('AdaBoost Testing Score: ',dt.score(xtest,ytest))\n",
    "\n",
    "score=mse(ytest,ypred)**1/2 # Taking root of mean squared error\n",
    "print(\"RMSE of Random Forest: \",score.round(3)) \n",
    "# Score is rounded upto 3 decimal places"
   ]
  },
  {
   "cell_type": "code",
   "execution_count": 34,
   "metadata": {},
   "outputs": [
    {
     "data": {
      "text/html": [
       "<div>\n",
       "<style scoped>\n",
       "    .dataframe tbody tr th:only-of-type {\n",
       "        vertical-align: middle;\n",
       "    }\n",
       "\n",
       "    .dataframe tbody tr th {\n",
       "        vertical-align: top;\n",
       "    }\n",
       "\n",
       "    .dataframe thead th {\n",
       "        text-align: right;\n",
       "    }\n",
       "</style>\n",
       "<table border=\"1\" class=\"dataframe\">\n",
       "  <thead>\n",
       "    <tr style=\"text-align: right;\">\n",
       "      <th></th>\n",
       "      <th>ID</th>\n",
       "      <th>shop_id</th>\n",
       "      <th>item_id</th>\n",
       "    </tr>\n",
       "  </thead>\n",
       "  <tbody>\n",
       "    <tr>\n",
       "      <th>0</th>\n",
       "      <td>0</td>\n",
       "      <td>5</td>\n",
       "      <td>5037</td>\n",
       "    </tr>\n",
       "    <tr>\n",
       "      <th>1</th>\n",
       "      <td>1</td>\n",
       "      <td>5</td>\n",
       "      <td>5320</td>\n",
       "    </tr>\n",
       "  </tbody>\n",
       "</table>\n",
       "</div>"
      ],
      "text/plain": [
       "   ID  shop_id  item_id\n",
       "0   0        5     5037\n",
       "1   1        5     5320"
      ]
     },
     "execution_count": 34,
     "metadata": {},
     "output_type": "execute_result"
    }
   ],
   "source": [
    "test.head(2)"
   ]
  },
  {
   "cell_type": "code",
   "execution_count": 35,
   "metadata": {},
   "outputs": [],
   "source": [
    "testID=test['ID']"
   ]
  },
  {
   "cell_type": "code",
   "execution_count": 36,
   "metadata": {},
   "outputs": [],
   "source": [
    "testdf=test.drop('ID',axis=1)"
   ]
  },
  {
   "cell_type": "code",
   "execution_count": 37,
   "metadata": {},
   "outputs": [],
   "source": [
    "ypred=dt.predict(testdf)"
   ]
  },
  {
   "cell_type": "code",
   "execution_count": 38,
   "metadata": {},
   "outputs": [
    {
     "data": {
      "text/plain": [
       "1.0"
      ]
     },
     "execution_count": 38,
     "metadata": {},
     "output_type": "execute_result"
    }
   ],
   "source": [
    "dt.score(testdf,ypred)"
   ]
  },
  {
   "cell_type": "code",
   "execution_count": 41,
   "metadata": {},
   "outputs": [
    {
     "data": {
      "text/html": [
       "<div>\n",
       "<style scoped>\n",
       "    .dataframe tbody tr th:only-of-type {\n",
       "        vertical-align: middle;\n",
       "    }\n",
       "\n",
       "    .dataframe tbody tr th {\n",
       "        vertical-align: top;\n",
       "    }\n",
       "\n",
       "    .dataframe thead th {\n",
       "        text-align: right;\n",
       "    }\n",
       "</style>\n",
       "<table border=\"1\" class=\"dataframe\">\n",
       "  <thead>\n",
       "    <tr style=\"text-align: right;\">\n",
       "      <th></th>\n",
       "      <th>ID</th>\n",
       "      <th>item_cnt_month</th>\n",
       "    </tr>\n",
       "  </thead>\n",
       "  <tbody>\n",
       "    <tr>\n",
       "      <th>0</th>\n",
       "      <td>0</td>\n",
       "      <td>1.0</td>\n",
       "    </tr>\n",
       "    <tr>\n",
       "      <th>1</th>\n",
       "      <td>1</td>\n",
       "      <td>1.0</td>\n",
       "    </tr>\n",
       "    <tr>\n",
       "      <th>2</th>\n",
       "      <td>2</td>\n",
       "      <td>1.0</td>\n",
       "    </tr>\n",
       "    <tr>\n",
       "      <th>3</th>\n",
       "      <td>3</td>\n",
       "      <td>1.0</td>\n",
       "    </tr>\n",
       "    <tr>\n",
       "      <th>4</th>\n",
       "      <td>4</td>\n",
       "      <td>1.0</td>\n",
       "    </tr>\n",
       "    <tr>\n",
       "      <th>5</th>\n",
       "      <td>5</td>\n",
       "      <td>1.0</td>\n",
       "    </tr>\n",
       "    <tr>\n",
       "      <th>6</th>\n",
       "      <td>6</td>\n",
       "      <td>1.0</td>\n",
       "    </tr>\n",
       "    <tr>\n",
       "      <th>7</th>\n",
       "      <td>7</td>\n",
       "      <td>1.0</td>\n",
       "    </tr>\n",
       "    <tr>\n",
       "      <th>8</th>\n",
       "      <td>8</td>\n",
       "      <td>1.0</td>\n",
       "    </tr>\n",
       "    <tr>\n",
       "      <th>9</th>\n",
       "      <td>9</td>\n",
       "      <td>1.0</td>\n",
       "    </tr>\n",
       "    <tr>\n",
       "      <th>10</th>\n",
       "      <td>10</td>\n",
       "      <td>1.0</td>\n",
       "    </tr>\n",
       "    <tr>\n",
       "      <th>11</th>\n",
       "      <td>11</td>\n",
       "      <td>1.0</td>\n",
       "    </tr>\n",
       "    <tr>\n",
       "      <th>12</th>\n",
       "      <td>12</td>\n",
       "      <td>1.0</td>\n",
       "    </tr>\n",
       "    <tr>\n",
       "      <th>13</th>\n",
       "      <td>13</td>\n",
       "      <td>1.0</td>\n",
       "    </tr>\n",
       "    <tr>\n",
       "      <th>14</th>\n",
       "      <td>14</td>\n",
       "      <td>1.0</td>\n",
       "    </tr>\n",
       "    <tr>\n",
       "      <th>15</th>\n",
       "      <td>15</td>\n",
       "      <td>1.0</td>\n",
       "    </tr>\n",
       "    <tr>\n",
       "      <th>16</th>\n",
       "      <td>16</td>\n",
       "      <td>1.0</td>\n",
       "    </tr>\n",
       "    <tr>\n",
       "      <th>17</th>\n",
       "      <td>17</td>\n",
       "      <td>1.0</td>\n",
       "    </tr>\n",
       "    <tr>\n",
       "      <th>18</th>\n",
       "      <td>18</td>\n",
       "      <td>1.0</td>\n",
       "    </tr>\n",
       "    <tr>\n",
       "      <th>19</th>\n",
       "      <td>19</td>\n",
       "      <td>1.0</td>\n",
       "    </tr>\n",
       "  </tbody>\n",
       "</table>\n",
       "</div>"
      ],
      "text/plain": [
       "    ID  item_cnt_month\n",
       "0    0             1.0\n",
       "1    1             1.0\n",
       "2    2             1.0\n",
       "3    3             1.0\n",
       "4    4             1.0\n",
       "5    5             1.0\n",
       "6    6             1.0\n",
       "7    7             1.0\n",
       "8    8             1.0\n",
       "9    9             1.0\n",
       "10  10             1.0\n",
       "11  11             1.0\n",
       "12  12             1.0\n",
       "13  13             1.0\n",
       "14  14             1.0\n",
       "15  15             1.0\n",
       "16  16             1.0\n",
       "17  17             1.0\n",
       "18  18             1.0\n",
       "19  19             1.0"
      ]
     },
     "execution_count": 41,
     "metadata": {},
     "output_type": "execute_result"
    }
   ],
   "source": [
    "submission = pd.DataFrame()\n",
    "submission['ID']=ID\n",
    "submission['item_cnt_month']=ypred\n",
    "submission.head(20)"
   ]
  },
  {
   "cell_type": "code",
   "execution_count": 43,
   "metadata": {},
   "outputs": [],
   "source": [
    "submission.to_csv('submission.csv')"
   ]
  },
  {
   "cell_type": "code",
   "execution_count": null,
   "metadata": {},
   "outputs": [],
   "source": []
  }
 ],
 "metadata": {
  "kernelspec": {
   "display_name": "Python 3 (ipykernel)",
   "language": "python",
   "name": "python3"
  },
  "language_info": {
   "codemirror_mode": {
    "name": "ipython",
    "version": 3
   },
   "file_extension": ".py",
   "mimetype": "text/x-python",
   "name": "python",
   "nbconvert_exporter": "python",
   "pygments_lexer": "ipython3",
   "version": "3.9.16"
  }
 },
 "nbformat": 4,
 "nbformat_minor": 4
}

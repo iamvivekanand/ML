{
 "cells": [
  {
   "cell_type": "markdown",
   "metadata": {},
   "source": [
    "### Introduction to Machine Learning"
   ]
  },
  {
   "cell_type": "code",
   "execution_count": 5,
   "metadata": {},
   "outputs": [],
   "source": [
    "# What is machine learning"
   ]
  },
  {
   "cell_type": "markdown",
   "metadata": {},
   "source": [
    "Technology which enables computers to learn automatically from past data"
   ]
  },
  {
   "cell_type": "markdown",
   "metadata": {},
   "source": [
    "Machine Learning is said as a subset of artificial intelligence that develops algorithms which allow a computer to learn from the data and past experiences on their own."
   ]
  },
  {
   "cell_type": "code",
   "execution_count": 1,
   "metadata": {},
   "outputs": [],
   "source": [
    "# Who coined the term \"Machine Learning\""
   ]
  },
  {
   "cell_type": "markdown",
   "metadata": {},
   "source": [
    "The term machine learning was first introduced by Arthur Samuel in 1959."
   ]
  },
  {
   "cell_type": "code",
   "execution_count": null,
   "metadata": {},
   "outputs": [],
   "source": [
    "# How does Machine Learning work"
   ]
  },
  {
   "cell_type": "markdown",
   "metadata": {},
   "source": [
    "- A Machine Learning system learns from past data, builds the prediction models, and as it receives new data, predicts the output for it\n",
    "- The accuracy of predicted output depends upon the amount of data, more data will lead to more accuracy, nature of data and various data properties"
   ]
  },
  {
   "cell_type": "code",
   "execution_count": 1,
   "metadata": {},
   "outputs": [],
   "source": [
    "# Features of Machine Learning:"
   ]
  },
  {
   "cell_type": "markdown",
   "metadata": {},
   "source": [
    "- ML uses data to detect various patterns in a given dataset.\n",
    "- It can learn from past data and improve automatically.\n",
    "- It is a data-driven technology.\n",
    "- ML is much similar to data mining as it also deals with the huge amount of the data"
   ]
  },
  {
   "cell_type": "code",
   "execution_count": 2,
   "metadata": {},
   "outputs": [],
   "source": [
    "# Why there is need of machine learning?"
   ]
  },
  {
   "cell_type": "markdown",
   "metadata": {},
   "source": [
    "As a human, we have some limitations as we cannot access the huge amount of data manually,\n",
    " \n",
    "Following are some key points which show the importance of Machine Learning:\n",
    "- Rapid increment in the production of data\n",
    "- Solving complex problems, which are difficult for a human\n",
    "- Decision making in various sector including finance\n",
    "- Finding hidden patterns and extracting useful information from data."
   ]
  },
  {
   "cell_type": "code",
   "execution_count": 3,
   "metadata": {},
   "outputs": [],
   "source": [
    "# Classification of Machine Learning"
   ]
  },
  {
   "cell_type": "markdown",
   "metadata": {},
   "source": [
    "Supervised ML (target name is known already,, or it is labelled already)\n",
    "- 1.Regression (deals with prediction of continuous output)\n",
    "- 2.Classification (...categorical or discrete output)\n",
    "\n",
    "Unsupervised ML\n",
    "- 1.Clustering\n",
    "- 2.Association\n",
    "\n",
    "Semi-Supervised Ml\n",
    "\n",
    "Reinforcement Learning"
   ]
  },
  {
   "cell_type": "code",
   "execution_count": 1,
   "metadata": {},
   "outputs": [],
   "source": [
    "### Semi Supervised Learning"
   ]
  },
  {
   "cell_type": "markdown",
   "metadata": {},
   "source": [
    "- Intermediate ground between Supervised and Unsupervised learning algorithms\n",
    "- uses the combination of labeled and unlabeled datasets for training\n",
    "- it mostly consists of unlabeled data\n",
    "- Initially, similar data is clustered along with an unsupervised learning algorithm, and further, it helps to label the unlabeled data into labeled data. \n",
    "\n",
    "#### Assumptions of Semi-Supervised ML:\n",
    "- Continuity Assumption:  as per this, the objects near each other tend to share the same group or label.\n",
    "- Cluster assumptions: points in the same cluster share the output label.\n",
    "\n",
    "#### Working of Semi Supervised ML:\n",
    "- uses pseudo labeling to train the model with less labeled training data than supervised learning\n",
    "- labels from labeled training data and pseudo labels data are linked together.\n",
    "- input data in labeled training data and unlabeled training data are also linked.\n",
    "- In the end, again train the model with the new combined input as did in the first step. It will reduce errors and improve the accuracy of the model\n",
    "\n",
    "#### Real-world applications of Semi-supervised Learning:\n",
    "- Speech Analysis: labeling the audio data is the most impassable task that requires many human resources\n",
    "- Web content classification: Google also uses semi-supervised learning algorithms to rank a webpage for a given query\n",
    "- DNA sequencing\n",
    "\n",
    "#####  Difference with reinforcement learning\n",
    "- Reinforcement learning aims to maximize the rewards by their hit and trial actions, whereas in semi-supervised learning, we train the model with a less labeled dataset"
   ]
  },
  {
   "cell_type": "code",
   "execution_count": 4,
   "metadata": {},
   "outputs": [],
   "source": [
    "# Reinforcement learning"
   ]
  },
  {
   "cell_type": "markdown",
   "metadata": {},
   "source": [
    "- It is a feedback-based learning method, in which a learning agent gets a reward for each right action and gets a penalty for each wrong action. \n",
    "- The agent learns automatically with these feedbacks and improves its performance. \n",
    "- In reinforcement learning, the agent interacts with the environment and explores it. The goal of an agent is to get the most reward points, and hence, it improves its performance.\n",
    "- The robotic dog, which automatically learns the movement of his arms, is an example of Reinforcement learning."
   ]
  },
  {
   "cell_type": "markdown",
   "metadata": {},
   "source": [
    "#### Application of Machine Learning"
   ]
  },
  {
   "cell_type": "markdown",
   "metadata": {},
   "source": [
    "ML can be used in Various Sectors:\n",
    "- In medical diagnosis\n",
    "- in stock price prediction\n",
    "- in network automation\n",
    "- desease classification\n",
    "- understaning and getting insights from huge amount of data"
   ]
  },
  {
   "cell_type": "code",
   "execution_count": 6,
   "metadata": {},
   "outputs": [],
   "source": [
    "### Machine learning Life cycle"
   ]
  },
  {
   "cell_type": "markdown",
   "metadata": {},
   "source": [
    "Its a cyclic process to build an efficient ML project, main purpose is to find a solution to the problem or project.\n",
    "\n",
    "Machine learning life cycle involves seven major steps, which are given below:\n",
    "- Data collection\n",
    "- Data preparation\n",
    "- Data Wrangling\n",
    "- Analyse Data\n",
    "- Train the model\n",
    "- Test the model\n",
    "- Deployment"
   ]
  },
  {
   "cell_type": "code",
   "execution_count": 7,
   "metadata": {},
   "outputs": [],
   "source": [
    "### Artificial intelligence VS Machine learning"
   ]
  },
  {
   "cell_type": "markdown",
   "metadata": {},
   "source": [
    "AI is a bigger concept to create intelligent machines that can simulate human thinking capability and behavior, \n",
    "whereas,\n",
    "\n",
    "ML is an application or subset of AI that allows machines to learn from data without being programmed explicitly.\n",
    "Artificial intelligence is a field of computer science which makes a computer system that can mimic human intelligence.\n",
    "\n",
    "The Artificial intelligence system does not require to be pre-programmed, instead of that, they use such algorithms which can work with their own intelligence,\n",
    "It involves machine learning algorithms such as Reinforcement learning algorithm and deep learning neural networks"
   ]
  },
  {
   "cell_type": "code",
   "execution_count": 8,
   "metadata": {},
   "outputs": [],
   "source": [
    "### How AI can be classified?"
   ]
  },
  {
   "cell_type": "markdown",
   "metadata": {},
   "source": [
    "Based on capabilities, AI can be classified into three types:\n",
    "\n",
    "* Weak AI\n",
    "* General AI\n",
    "* Strong AI"
   ]
  },
  {
   "cell_type": "code",
   "execution_count": 9,
   "metadata": {},
   "outputs": [],
   "source": [
    "#### Define ML in simple words?"
   ]
  },
  {
   "cell_type": "markdown",
   "metadata": {},
   "source": [
    "ML is a subfield of AI, which enables machines to learn from past data or experiences without being explicitly programmed\n",
    "\n",
    "or u can say ML is a feild of study in which we learn how to train a machine so that it can learn from past data and experiences without being explicitly programmed."
   ]
  },
  {
   "cell_type": "code",
   "execution_count": 10,
   "metadata": {},
   "outputs": [],
   "source": [
    "### Key differences between Artificial Intelligence (AI) and Machine learning (ML):"
   ]
  },
  {
   "cell_type": "markdown",
   "metadata": {},
   "source": [
    "- AI enables a machine to simulate/mimic human behavior.\n",
    "- ML enables a machine to automatically learn from past data without programming explicitly."
   ]
  },
  {
   "cell_type": "markdown",
   "metadata": {},
   "source": [
    "- AI makes a smart computer system like humans to solve complex problems\n",
    "- ML makes a model to learn from data and to give future output"
   ]
  },
  {
   "cell_type": "markdown",
   "metadata": {},
   "source": [
    "- In AI, we make intelligent systems to perform any task like a human.\n",
    "- In ML, we teach machines with data to perform a particular task and give an accurate result."
   ]
  },
  {
   "cell_type": "markdown",
   "metadata": {},
   "source": [
    "- AI has a very wide range of scope.\n",
    "- Machine learning has a limited scope."
   ]
  },
  {
   "cell_type": "markdown",
   "metadata": {},
   "source": [
    "- AI includes learning, reasoning, and self-correction.\n",
    "- ML includes learning and self-correction when introduced with new data."
   ]
  },
  {
   "cell_type": "markdown",
   "metadata": {},
   "source": [
    "### Getting datasets for Machine Learning"
   ]
  },
  {
   "cell_type": "markdown",
   "metadata": {},
   "source": [
    "- A dataset is a collection of data in which data is arranged in some order and using some relationship\n",
    "- tabular data, contains rows and columns, in the form of a matrix\n",
    "- The word “Data” arises from the Latin word “Datum,” which means “something given.\n",
    "- There are two classes of data: Qualitative and Quantitative data, which are further classified into four types: nominal, ordinal, discrete, and Continuous.\n",
    "- According to a report, today, at least 2.5 quintillion bytes of data are produced per day."
   ]
  },
  {
   "cell_type": "code",
   "execution_count": 11,
   "metadata": {},
   "outputs": [],
   "source": [
    "### Types of Data"
   ]
  },
  {
   "cell_type": "markdown",
   "metadata": {},
   "source": [
    "- data that can’t be measured or counted in the form of numbers\n",
    "- data consists of audio, images, symbols, or text. The gender of a person, i.e., male, female, or others,"
   ]
  },
  {
   "cell_type": "code",
   "execution_count": 14,
   "metadata": {},
   "outputs": [],
   "source": [
    "# 1. Qualitative data or Categorical Data"
   ]
  },
  {
   "cell_type": "markdown",
   "metadata": {},
   "source": [
    "\n",
    "Qualitative data tells about the perception of people.\n",
    "\n",
    "The other examples of qualitative data are :\n",
    "   - What language do you speak\n",
    "   - Favourite holiday destination\n",
    "   - Opinion on something (agree, disagree, or neutral)\n",
    "   - Colours"
   ]
  },
  {
   "cell_type": "code",
   "execution_count": 16,
   "metadata": {},
   "outputs": [],
   "source": [
    "# The Qualitative data are further classified into two parts :"
   ]
  },
  {
   "cell_type": "markdown",
   "metadata": {},
   "source": [
    "1.NOMINAL-\n",
    "- Can’t be compared with another \n",
    "- doesnt have any order or quantitative value\n",
    "\n",
    "e.g.\n",
    "Colour of hair (Blonde, red, Brown, Black, etc.)\n",
    "Marital status (Single, Widowed, Married)\n",
    "Nationality (Indian, German, American)\n",
    "Gender (Male, Female, Transgender)"
   ]
  },
  {
   "cell_type": "markdown",
   "metadata": {},
   "source": [
    "Ordinal Data:\n",
    "- Can be compared with another colour.\n",
    "- have any order or quantitative value\n",
    "- The ordinal data only shows the sequences \n",
    "\n",
    "Economic Status (High, Medium, and Low)\n",
    "Education Level (Higher, Secondary, Primary)\n",
    "Letter grades in the exam (A, B, C, D, etc.)"
   ]
  },
  {
   "cell_type": "code",
   "execution_count": 17,
   "metadata": {},
   "outputs": [],
   "source": [
    "### Quantitative Data"
   ]
  },
  {
   "cell_type": "markdown",
   "metadata": {},
   "source": [
    "- can be expressed in numerical values\n",
    "- are countable\n",
    "- can be used for statistical manipulation \n",
    "- can be represented on a wide variety of graphs and charts"
   ]
  },
  {
   "cell_type": "markdown",
   "metadata": {},
   "source": [
    "Examples of Quantitative Data : \n",
    "- Height or weight of a person or object\n",
    "- Room Temperature\n",
    "- Scores and Marks (Ex: 59, 80, 60, etc.)\n",
    "- Time"
   ]
  },
  {
   "cell_type": "markdown",
   "metadata": {},
   "source": [
    "The Quantitative data are further classified into two parts :\n",
    "\n",
    "     1.Discrete \n",
    "     2.Continuous"
   ]
  },
  {
   "cell_type": "code",
   "execution_count": null,
   "metadata": {},
   "outputs": [],
   "source": [
    "# "
   ]
  }
 ],
 "metadata": {
  "kernelspec": {
   "display_name": "Python 3 (ipykernel)",
   "language": "python",
   "name": "python3"
  },
  "language_info": {
   "codemirror_mode": {
    "name": "ipython",
    "version": 3
   },
   "file_extension": ".py",
   "mimetype": "text/x-python",
   "name": "python",
   "nbconvert_exporter": "python",
   "pygments_lexer": "ipython3",
   "version": "3.9.16"
  }
 },
 "nbformat": 4,
 "nbformat_minor": 4
}

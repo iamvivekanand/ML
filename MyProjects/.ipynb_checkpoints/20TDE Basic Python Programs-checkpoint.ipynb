{
 "cells": [
  {
   "cell_type": "markdown",
   "id": "1a527db7",
   "metadata": {},
   "source": [
    "### Basic Python Programs"
   ]
  },
  {
   "cell_type": "code",
   "execution_count": null,
   "id": "b5df6bbd",
   "metadata": {},
   "outputs": [],
   "source": [
    "# Find minimum of a list"
   ]
  },
  {
   "cell_type": "code",
   "execution_count": 1,
   "id": "abfb4270",
   "metadata": {},
   "outputs": [
    {
     "data": {
      "text/plain": [
       "4"
      ]
     },
     "execution_count": 1,
     "metadata": {},
     "output_type": "execute_result"
    }
   ],
   "source": [
    "# Using min function\n",
    "list1 = [10, 20, 4, 45, 99]\n",
    "min(list1)"
   ]
  },
  {
   "cell_type": "code",
   "execution_count": 2,
   "id": "22d90b1d",
   "metadata": {},
   "outputs": [
    {
     "data": {
      "text/plain": [
       "4"
      ]
     },
     "execution_count": 2,
     "metadata": {},
     "output_type": "execute_result"
    }
   ],
   "source": [
    "list1.sort()\n",
    "list1[0]"
   ]
  },
  {
   "cell_type": "code",
   "execution_count": 3,
   "id": "23640ddd",
   "metadata": {},
   "outputs": [
    {
     "data": {
      "text/plain": [
       "4"
      ]
     },
     "execution_count": 3,
     "metadata": {},
     "output_type": "execute_result"
    }
   ],
   "source": [
    "list1.sort(reverse=True)\n",
    "list1[-1]"
   ]
  },
  {
   "cell_type": "code",
   "execution_count": 9,
   "id": "3b51c879",
   "metadata": {},
   "outputs": [
    {
     "name": "stdout",
     "output_type": "stream",
     "text": [
      "4\n"
     ]
    }
   ],
   "source": [
    "# using comparison operator\n",
    "list1 = [10, 20, 4, 45, 99]\n",
    "# assign first as minimum\n",
    "mini=list1[0]\n",
    "# \n",
    "for i in range(len(list1)):\n",
    "    if list1[i]<mini:\n",
    "        mini=list1[i]\n",
    "print(mini)"
   ]
  },
  {
   "cell_type": "code",
   "execution_count": 12,
   "id": "b4b68b5b",
   "metadata": {},
   "outputs": [
    {
     "name": "stdout",
     "output_type": "stream",
     "text": [
      "Enter an Integer: 2\n",
      "Enter an Integer: 3\n",
      "Enter an Integer: 1\n",
      "Enter an Integer: 0\n",
      "Enter an Integer: 7\n",
      "Smallest Number Entered by You is:  0\n"
     ]
    }
   ],
   "source": [
    "# find smallest number of a list created by user\n",
    "mylist=[]\n",
    "for i in range(5):\n",
    "    x=int(input('Enter an Integer: '))\n",
    "    mylist.append(x)\n",
    "print('Smallest Number Entered by You is: ', min(mylist))"
   ]
  },
  {
   "cell_type": "code",
   "execution_count": 13,
   "id": "3f4e0635",
   "metadata": {},
   "outputs": [
    {
     "name": "stdout",
     "output_type": "stream",
     "text": [
      "1\n"
     ]
    }
   ],
   "source": [
    "# Using lambda function\n",
    "mylist = [20, 10, 20, 1, 100]\n",
    "print(min(mylist, key=lambda x: int(x)) )"
   ]
  },
  {
   "cell_type": "code",
   "execution_count": 14,
   "id": "723d754b",
   "metadata": {},
   "outputs": [
    {
     "name": "stdout",
     "output_type": "stream",
     "text": [
      "1\n"
     ]
    }
   ],
   "source": [
    "# Enumerate function\n",
    "lst = [20, 10, 20, 1, 100]\n",
    "a,i = min((a,i) for (i,a) in enumerate(lst))\n",
    "print(a)"
   ]
  },
  {
   "cell_type": "code",
   "execution_count": 15,
   "id": "5f2adf81",
   "metadata": {},
   "outputs": [
    {
     "data": {
      "text/plain": [
       "<enumerate at 0x224c338d740>"
      ]
     },
     "execution_count": 15,
     "metadata": {},
     "output_type": "execute_result"
    }
   ],
   "source": [
    "enumerate(lst)"
   ]
  },
  {
   "cell_type": "code",
   "execution_count": 17,
   "id": "1cbe843d",
   "metadata": {},
   "outputs": [
    {
     "data": {
      "text/plain": [
       "99"
      ]
     },
     "execution_count": 17,
     "metadata": {},
     "output_type": "execute_result"
    }
   ],
   "source": [
    "# Find second maximum number\n",
    "list1 = [10, 20, 20, 4, 45, 45, 45, 99, 99]\n",
    "lis1=list(set(list1))\n",
    "list1.sort()\n",
    "list1[-2]"
   ]
  },
  {
   "cell_type": "code",
   "execution_count": 20,
   "id": "60c1af17",
   "metadata": {},
   "outputs": [
    {
     "data": {
      "text/plain": [
       "99"
      ]
     },
     "execution_count": 20,
     "metadata": {},
     "output_type": "execute_result"
    }
   ],
   "source": [
    "# by removing max\n",
    "list1 = [10, 20, 20, 4, 45, 45, 45, 99, 99]\n",
    "lis1=list(set(list1))\n",
    "list1.remove(max(list1))\n",
    "max(list1)"
   ]
  },
  {
   "cell_type": "code",
   "execution_count": 21,
   "id": "adab9898",
   "metadata": {},
   "outputs": [
    {
     "ename": "IndexError",
     "evalue": "pop index out of range",
     "output_type": "error",
     "traceback": [
      "\u001b[1;31m---------------------------------------------------------------------------\u001b[0m",
      "\u001b[1;31mIndexError\u001b[0m                                Traceback (most recent call last)",
      "\u001b[1;32m~\\AppData\\Local\\Temp/ipykernel_16696/3349074961.py\u001b[0m in \u001b[0;36m<module>\u001b[1;34m\u001b[0m\n\u001b[0;32m      1\u001b[0m \u001b[0mlist1\u001b[0m \u001b[1;33m=\u001b[0m \u001b[1;33m[\u001b[0m\u001b[1;36m10\u001b[0m\u001b[1;33m,\u001b[0m \u001b[1;36m20\u001b[0m\u001b[1;33m,\u001b[0m \u001b[1;36m20\u001b[0m\u001b[1;33m,\u001b[0m \u001b[1;36m4\u001b[0m\u001b[1;33m,\u001b[0m \u001b[1;36m45\u001b[0m\u001b[1;33m,\u001b[0m \u001b[1;36m45\u001b[0m\u001b[1;33m,\u001b[0m \u001b[1;36m45\u001b[0m\u001b[1;33m,\u001b[0m \u001b[1;36m99\u001b[0m\u001b[1;33m,\u001b[0m \u001b[1;36m99\u001b[0m\u001b[1;33m]\u001b[0m\u001b[1;33m\u001b[0m\u001b[1;33m\u001b[0m\u001b[0m\n\u001b[0;32m      2\u001b[0m \u001b[0mlis1\u001b[0m\u001b[1;33m=\u001b[0m\u001b[0mlist\u001b[0m\u001b[1;33m(\u001b[0m\u001b[0mset\u001b[0m\u001b[1;33m(\u001b[0m\u001b[0mlist1\u001b[0m\u001b[1;33m)\u001b[0m\u001b[1;33m)\u001b[0m\u001b[1;33m\u001b[0m\u001b[1;33m\u001b[0m\u001b[0m\n\u001b[1;32m----> 3\u001b[1;33m \u001b[0mlist1\u001b[0m\u001b[1;33m.\u001b[0m\u001b[0mpop\u001b[0m\u001b[1;33m(\u001b[0m\u001b[0mmax\u001b[0m\u001b[1;33m(\u001b[0m\u001b[0mlist1\u001b[0m\u001b[1;33m)\u001b[0m\u001b[1;33m)\u001b[0m\u001b[1;33m\u001b[0m\u001b[1;33m\u001b[0m\u001b[0m\n\u001b[0m\u001b[0;32m      4\u001b[0m \u001b[0mmax\u001b[0m\u001b[1;33m(\u001b[0m\u001b[0mlist1\u001b[0m\u001b[1;33m)\u001b[0m\u001b[1;33m\u001b[0m\u001b[1;33m\u001b[0m\u001b[0m\n",
      "\u001b[1;31mIndexError\u001b[0m: pop index out of range"
     ]
    }
   ],
   "source": [
    "list1 = [10, 20, 20, 4, 45, 45, 45, 99, 99]\n",
    "lis1=list(set(list1))\n",
    "list1.pop(max(list1))\n",
    "max(list1)"
   ]
  },
  {
   "cell_type": "code",
   "execution_count": 22,
   "id": "82728e81",
   "metadata": {},
   "outputs": [
    {
     "name": "stdout",
     "output_type": "stream",
     "text": [
      "45\n"
     ]
    }
   ],
   "source": [
    "# Using list comprehension\n",
    "\n",
    "def secondmax(arr):\n",
    "  sublist = [x for x in arr if x < max(arr)]\n",
    "  return max(sublist)\n",
    " \n",
    "if __name__ == '__main__':\n",
    "  arr = [10, 20, 4, 45, 99]\n",
    "  print(secondmax(arr))"
   ]
  },
  {
   "cell_type": "code",
   "execution_count": 23,
   "id": "09e83afe",
   "metadata": {},
   "outputs": [
    {
     "name": "stdout",
     "output_type": "stream",
     "text": [
      "45\n"
     ]
    }
   ],
   "source": [
    "# Using enumerate function \n",
    "lst = [10, 20, 4, 45, 99]\n",
    "m=max(lst)\n",
    "x=[a for i,a in enumerate(lst) if a<m]\n",
    "print(max(x))"
   ]
  },
  {
   "cell_type": "code",
   "execution_count": 24,
   "id": "0c783c95",
   "metadata": {},
   "outputs": [
    {
     "data": {
      "text/plain": [
       "[20, 45, 99]"
      ]
     },
     "execution_count": 24,
     "metadata": {},
     "output_type": "execute_result"
    }
   ],
   "source": [
    "# Find n largest number of a list\n",
    "lst = [10, 20, 4, 45, 99]\n",
    "lst.sort()\n",
    "# 3 largest\n",
    "lst[-3:]"
   ]
  },
  {
   "cell_type": "code",
   "execution_count": 25,
   "id": "14f2ab3a",
   "metadata": {},
   "outputs": [
    {
     "name": "stdout",
     "output_type": "stream",
     "text": [
      "[10, 20, 4]\n"
     ]
    }
   ],
   "source": [
    "# print even number in a list\n",
    "lst = [10, 20, 4, 45, 99]\n",
    "nlst=[]\n",
    "for i in lst:\n",
    "    if i%2==0:\n",
    "        nlst.append(i)\n",
    "print(nlst)"
   ]
  },
  {
   "cell_type": "code",
   "execution_count": 26,
   "id": "7eb5bef1",
   "metadata": {},
   "outputs": [
    {
     "name": "stdout",
     "output_type": "stream",
     "text": [
      "[45, 99]\n"
     ]
    }
   ],
   "source": [
    "# Print odd number in a list\n",
    "lst = [10, 20, 4, 45, 99]\n",
    "nlst=[]\n",
    "for i in lst:\n",
    "    if i%2 !=0:\n",
    "        nlst.append(i)\n",
    "print(nlst)"
   ]
  },
  {
   "cell_type": "code",
   "execution_count": 3,
   "id": "26487d3d",
   "metadata": {},
   "outputs": [
    {
     "name": "stdout",
     "output_type": "stream",
     "text": [
      "[0, 2, 4, 6, 8, 10, 12, 14, 16, 18, 20, 22, 24, 26, 28, 30, 32, 34, 36, 38, 40, 42, 44, 46, 48, 50, 52, 54, 56, 58, 60, 62, 64, 66, 68, 70, 72, 74, 76, 78, 80, 82, 84, 86, 88, 90, 92, 94, 96, 98]\n"
     ]
    }
   ],
   "source": [
    "# print all even number in a range\n",
    "lst=[x for x in range(100)]\n",
    "nlst=[]\n",
    "for i in lst:\n",
    "    if i%2==0:\n",
    "        nlst.append(i)\n",
    "print(nlst)"
   ]
  },
  {
   "cell_type": "code",
   "execution_count": 2,
   "id": "62551a83",
   "metadata": {},
   "outputs": [
    {
     "name": "stdout",
     "output_type": "stream",
     "text": [
      "[0, 2, 4, 6, 8, 10, 12, 14, 16, 18, 20, 22, 24, 26, 28, 30, 32, 34, 36, 38, 40, 42, 44, 46, 48, 50, 52, 54, 56, 58, 60, 62, 64, 66, 68, 70, 72, 74, 76, 78, 80, 82, 84, 86, 88, 90, 92, 94, 96, 98]\n"
     ]
    }
   ],
   "source": [
    "# Using while loop\n",
    "lst=[x for x in range(100)]\n",
    "mylist=[]\n",
    "i=0\n",
    "while i<len(lst):\n",
    "    if lst[i]%2==0:\n",
    "        mylist.append(i)\n",
    "    i+=1\n",
    "print(mylist)"
   ]
  },
  {
   "cell_type": "code",
   "execution_count": 5,
   "id": "74944a48",
   "metadata": {},
   "outputs": [
    {
     "name": "stdout",
     "output_type": "stream",
     "text": [
      "[0, 2, 4, 6, 8, 10, 12, 14, 16, 18, 20, 22, 24, 26, 28, 30, 32, 34, 36, 38, 40, 42, 44, 46, 48, 50, 52, 54, 56, 58, 60, 62, 64, 66, 68, 70, 72, 74, 76, 78, 80, 82, 84, 86, 88, 90, 92, 94, 96, 98]\n"
     ]
    }
   ],
   "source": [
    "# using list comprehension\n",
    "lst=[x for x in range(100) if x%2==0]\n",
    "print(lst)"
   ]
  },
  {
   "cell_type": "code",
   "execution_count": 6,
   "id": "f9b0c997",
   "metadata": {},
   "outputs": [
    {
     "name": "stdout",
     "output_type": "stream",
     "text": [
      "[0, 2, 4, 6, 8, 10, 12, 14, 16, 18, 20, 22, 24, 26, 28, 30, 32, 34, 36, 38, 40, 42, 44, 46, 48]"
     ]
    }
   ],
   "source": [
    "# using lambda\n",
    "lst= [x for x in range(50)]\n",
    "print(list(filter(lambda x: (x%2==0),lst)),end='')"
   ]
  },
  {
   "cell_type": "raw",
   "id": "ddf88e50",
   "metadata": {},
   "source": [
    "# Using Recursion\n",
    "def evennumbers(list, n=0):\n",
    "    #base case\n",
    "    if n==len(list):\n",
    "        exit()\n",
    "    if list[n]%2==0:\n",
    "        print(list[n], end=\" \")\n",
    "    #calling function recursively\n",
    "    evennumbers(list, n+1)\n",
    "list1 = [10, 21, 4, 45, 66, 93]\n",
    "print(\"Even numbers in the list:\", end=\" \")\n",
    "evennumbers(list1)"
   ]
  },
  {
   "cell_type": "code",
   "execution_count": 6,
   "id": "04538bfd",
   "metadata": {},
   "outputs": [
    {
     "name": "stdout",
     "output_type": "stream",
     "text": [
      "0   2   4   6   8   10   12   14   16   18   20   22   24   26   28   30   32   34   36   38   40   42   44   46   48   "
     ]
    }
   ],
   "source": [
    "# Using enumerate function \n",
    "lst= [x for x in range(50)]\n",
    "for a,i in enumerate(lst):\n",
    "    if i%2==0:\n",
    "        print(i,end='   ')"
   ]
  },
  {
   "cell_type": "code",
   "execution_count": 7,
   "id": "e06d000e",
   "metadata": {},
   "outputs": [
    {
     "name": "stdout",
     "output_type": "stream",
     "text": [
      "0 2 4 6 8 10 12 14 16 18 20 22 24 26 28 30 32 34 36 38 40 42 44 46 48 "
     ]
    }
   ],
   "source": [
    "#  Using pass \n",
    "for i in lst:\n",
    "    if i%2!=0:\n",
    "        pass\n",
    "    else:\n",
    "        print(i,end=' ')"
   ]
  },
  {
   "cell_type": "markdown",
   "id": "b72d04a6",
   "metadata": {},
   "source": [
    "### Print odd numbers"
   ]
  },
  {
   "cell_type": "code",
   "execution_count": 8,
   "id": "b06423a3",
   "metadata": {},
   "outputs": [
    {
     "name": "stdout",
     "output_type": "stream",
     "text": [
      "21 45 93 "
     ]
    }
   ],
   "source": [
    "list1 = [10, 21, 4, 45, 66, 93]\n",
    " \n",
    "for num in list1:\n",
    "    if num % 2 != 0:\n",
    "        print(num, end = \" \")"
   ]
  },
  {
   "cell_type": "code",
   "execution_count": null,
   "id": "b52c1e9c",
   "metadata": {},
   "outputs": [],
   "source": [
    "# using while loop\n",
    "i=0\n",
    "while i<len(list1):\n",
    "    if num % 2 != 0:\n",
    "        print(num, end = \" \")\n",
    "    i+=1\n",
    "    "
   ]
  },
  {
   "cell_type": "code",
   "execution_count": 9,
   "id": "3198419e",
   "metadata": {},
   "outputs": [
    {
     "name": "stdout",
     "output_type": "stream",
     "text": [
      "[21, 45, 93]\n"
     ]
    }
   ],
   "source": [
    "# Using list comprehension : \n",
    "list1 = [10, 21, 4, 45, 66, 93]\n",
    "only_odd = [num for num in list1 if num % 2 == 1]\n",
    "print(only_odd)"
   ]
  },
  {
   "cell_type": "code",
   "execution_count": 10,
   "id": "1ee85924",
   "metadata": {},
   "outputs": [
    {
     "name": "stdout",
     "output_type": "stream",
     "text": [
      "Odd numbers in the list:  [21, 45, 93, 11]\n"
     ]
    }
   ],
   "source": [
    "list1 = [10, 21, 4, 45, 66, 93, 11]\n",
    "odd_nos = list(filter(lambda x: (x % 2 != 0), list1))\n",
    "print(\"Odd numbers in the list: \", odd_nos)"
   ]
  },
  {
   "cell_type": "code",
   "execution_count": 11,
   "id": "74f5a24f",
   "metadata": {},
   "outputs": [
    {
     "name": "stdout",
     "output_type": "stream",
     "text": [
      "21 45 93 11 "
     ]
    }
   ],
   "source": [
    "# Using pass \n",
    "lst=[10,21,4,45,66,93,11]\n",
    "for i in lst:\n",
    "  if i%2==0:\n",
    "    pass\n",
    "  else:\n",
    "    print(i,end=\" \")"
   ]
  },
  {
   "cell_type": "raw",
   "id": "1ce94b18",
   "metadata": {},
   "source": [
    "def oddnumbers(list, n=0):\n",
    "    #base case\n",
    "    if n==len(list):\n",
    "        exit()\n",
    "    if list[n]%2!=0:\n",
    "        print(list[n], end=\" \")\n",
    "    #calling function recursively\n",
    "    oddnumbers(list, n+1)\n",
    "list1 = [10, 21, 4, 45, 66, 93,11]\n",
    "print(\"odd numbers in the list:\", end=\" \")\n",
    "oddnumbers(list1)\n"
   ]
  },
  {
   "cell_type": "code",
   "execution_count": 1,
   "id": "a8ba3bfd",
   "metadata": {},
   "outputs": [],
   "source": [
    "# Method: Using enumerate function "
   ]
  },
  {
   "cell_type": "markdown",
   "id": "72d1a6c5",
   "metadata": {},
   "source": [
    "### remove even numbers"
   ]
  },
  {
   "cell_type": "code",
   "execution_count": 3,
   "id": "0111afe4",
   "metadata": {},
   "outputs": [
    {
     "data": {
      "text/plain": [
       "[11, 5, 17, 23]"
      ]
     },
     "execution_count": 3,
     "metadata": {},
     "output_type": "execute_result"
    }
   ],
   "source": [
    "list1 = [11, 5, 17, 18, 23, 50]\n",
    "lst=[x for x in list1 if x%2 !=0]\n",
    "lst"
   ]
  },
  {
   "cell_type": "code",
   "execution_count": 4,
   "id": "05dee790",
   "metadata": {},
   "outputs": [
    {
     "name": "stdout",
     "output_type": "stream",
     "text": [
      "[5, 18, 50]\n"
     ]
    }
   ],
   "source": [
    "# using for loop\n",
    "mylist = [11, 5, 17, 18, 23, 50]\n",
    "for i in mylist:\n",
    "    if i%2 !=0:\n",
    "        mylist.remove(i)\n",
    "print(mylist)"
   ]
  },
  {
   "cell_type": "code",
   "execution_count": 5,
   "id": "c90b48e6",
   "metadata": {},
   "outputs": [
    {
     "data": {
      "text/plain": [
       "[5, 50]"
      ]
     },
     "execution_count": 5,
     "metadata": {},
     "output_type": "execute_result"
    }
   ],
   "source": [
    "for ele in mylist:\n",
    "    if ele % 2 == 0:\n",
    "        mylist.remove(ele)\n",
    "mylist\n",
    "# this program not working correctly"
   ]
  },
  {
   "cell_type": "code",
   "execution_count": 6,
   "id": "95415bc9",
   "metadata": {},
   "outputs": [
    {
     "data": {
      "text/plain": [
       "[11, 5, 17, 23]"
      ]
     },
     "execution_count": 6,
     "metadata": {},
     "output_type": "execute_result"
    }
   ],
   "source": [
    "# list comprehension\n",
    "list1 = [11, 5, 17, 18, 23, 50]\n",
    "list1 = [ x for x in list1 if x % 2 != 0]\n",
    "list1"
   ]
  },
  {
   "cell_type": "code",
   "execution_count": 8,
   "id": "d0c205e0",
   "metadata": {},
   "outputs": [
    {
     "data": {
      "text/plain": [
       "[17, 18, 23, 50]"
      ]
     },
     "execution_count": 8,
     "metadata": {},
     "output_type": "execute_result"
    }
   ],
   "source": [
    "list1 = [11, 5, 17, 18, 23, 50]\n",
    "# items to be removed\n",
    "unwanted = (11, 5)\n",
    "list1 = [ele for ele in list1 if ele not in unwanted]\n",
    "list1"
   ]
  },
  {
   "cell_type": "code",
   "execution_count": 9,
   "id": "0a8a877f",
   "metadata": {},
   "outputs": [
    {
     "name": "stdout",
     "output_type": "stream",
     "text": [
      "[11, 5, 17, 23]\n"
     ]
    }
   ],
   "source": [
    "# Using enumerate function\n",
    "list1 = [11, 5, 17, 18, 23, 50]\n",
    "list1 = [ x for i,x in enumerate(list1) if x % 2 != 0]\n",
    " \n",
    "print(list1)"
   ]
  },
  {
   "cell_type": "markdown",
   "id": "d0567892",
   "metadata": {},
   "source": [
    "### Remove empty List from List"
   ]
  },
  {
   "cell_type": "code",
   "execution_count": 11,
   "id": "b8d96d0a",
   "metadata": {},
   "outputs": [
    {
     "name": "stdout",
     "output_type": "stream",
     "text": [
      "Original list:  [5, 6, [], 3, [], [], 9]\n",
      "Final list : [5, 6, 3, 9]\n"
     ]
    }
   ],
   "source": [
    "# Using list comprehension\n",
    "mylst = [5, 6, [], 3, [], [], 9]\n",
    "print('Original list: ',str(mylst))\n",
    "\n",
    "res = [x for x in mylst if x != []]\n",
    "print(\"Final list : \" + str(res))"
   ]
  },
  {
   "cell_type": "code",
   "execution_count": 15,
   "id": "b0a74b2c",
   "metadata": {},
   "outputs": [
    {
     "name": "stdout",
     "output_type": "stream",
     "text": [
      "[1, 3, 6]\n"
     ]
    }
   ],
   "source": [
    "lst=[1,3,6]\n",
    "print(lst)"
   ]
  },
  {
   "cell_type": "code",
   "execution_count": 13,
   "id": "3b0692e7",
   "metadata": {},
   "outputs": [
    {
     "data": {
      "text/plain": [
       "list"
      ]
     },
     "execution_count": 13,
     "metadata": {},
     "output_type": "execute_result"
    }
   ],
   "source": [
    "# converting the list into str object, will look same when printed, but dtype changed\n",
    "print(type(str(lst)))"
   ]
  },
  {
   "cell_type": "code",
   "execution_count": 16,
   "id": "2ed3baaf",
   "metadata": {},
   "outputs": [
    {
     "name": "stdout",
     "output_type": "stream",
     "text": [
      "[5, 6, [], 3, [], [], 9]\n",
      "[5, 6, 3, 9]\n"
     ]
    }
   ],
   "source": [
    "# Using filter() method remove empty list from a list of list\n",
    "\n",
    "mylst = [5, 6, [], 3, [], [], 9]\n",
    "print(str(mylst))\n",
    "\n",
    "res = list(filter(None, mylst)) \n",
    "print(str(res))"
   ]
  },
  {
   "cell_type": "code",
   "execution_count": 18,
   "id": "3617cb40",
   "metadata": {},
   "outputs": [
    {
     "name": "stdout",
     "output_type": "stream",
     "text": [
      "The original list is : [5, 6, [], 3, [], [], 9]\n",
      "List after empty list removal : [5, 6, [], 3, [], [], 9]\n"
     ]
    }
   ],
   "source": [
    "def removelst(mylst):\n",
    "    new_list = []\n",
    "    for x in mylst:\n",
    "        if x:\n",
    "            new_list.append(x)\n",
    "    return mylst\n",
    " \n",
    "mylst = [5, 6, [], 3, [], [], 9]\n",
    "print(f\"The original list is : {mylst}\")\n",
    "print(f\"List after empty list removal : {removelst(mylst)}\")"
   ]
  },
  {
   "cell_type": "code",
   "execution_count": 19,
   "id": "0bcde21a",
   "metadata": {},
   "outputs": [
    {
     "name": "stdout",
     "output_type": "stream",
     "text": [
      "Original List:  [5, 6, [], 3, [], [], 9]\n",
      "Final List:  [5, 6, 3, 9]\n"
     ]
    }
   ],
   "source": [
    "# using remove and hile loop\n",
    "\n",
    "mylst = [5, 6, [], 3, [], [], 9]\n",
    "print('Original List: ',str(mylst))\n",
    "while [] in mylst:\n",
    "    mylst.remove([])\n",
    "print('Final List: ',mylst)"
   ]
  },
  {
   "cell_type": "code",
   "execution_count": 22,
   "id": "fd132ab2",
   "metadata": {},
   "outputs": [
    {
     "name": "stdout",
     "output_type": "stream",
     "text": [
      "Original List:  [5, 6, [], 3, [], [], 9]\n",
      "Final List:  [5, 6, 3, 9]\n"
     ]
    }
   ],
   "source": [
    "# lets remove the list without converting to str object\n",
    "\n",
    "mylst = [5, 6, [], 3, [], [], 9]\n",
    "print('Original List: ',mylst)\n",
    "while [] in mylst:\n",
    "    mylst.remove([])\n",
    "print('Final List: ',mylst)"
   ]
  },
  {
   "cell_type": "code",
   "execution_count": 20,
   "id": "8d272121",
   "metadata": {},
   "outputs": [
    {
     "data": {
      "text/plain": [
       "[5, 6, 3, 9]"
      ]
     },
     "execution_count": 20,
     "metadata": {},
     "output_type": "execute_result"
    }
   ],
   "source": [
    "# using list comprehension\n",
    "mylst = [5, 6, [], 3, [], [], 9]\n",
    "mylst=[x for x in mylst if x!=[]]\n",
    "mylst"
   ]
  },
  {
   "cell_type": "code",
   "execution_count": 23,
   "id": "db59d061",
   "metadata": {},
   "outputs": [
    {
     "data": {
      "text/plain": [
       "[5, 6, 3, 9]"
      ]
     },
     "execution_count": 23,
     "metadata": {},
     "output_type": "execute_result"
    }
   ],
   "source": [
    "# using enumerate\n",
    "mylst = [5, 6, [], 3, [], [], 9]\n",
    "mylst=[y for x,y in enumerate(mylst) if y!=[]]\n",
    "mylst"
   ]
  },
  {
   "cell_type": "code",
   "execution_count": 24,
   "id": "36ce6871",
   "metadata": {},
   "outputs": [
    {
     "name": "stdout",
     "output_type": "stream",
     "text": [
      "[5, 6, 3, 9]\n"
     ]
    }
   ],
   "source": [
    "# using append\n",
    "mylst = [5, 6, [], 3, [], [], 9]\n",
    "nlst=[]\n",
    "for x in mylst:\n",
    "    if x!=[]:\n",
    "        nlst.append(x)\n",
    "print(nlst)"
   ]
  },
  {
   "cell_type": "markdown",
   "id": "21619535",
   "metadata": {},
   "source": [
    "### Cloning or copying a list"
   ]
  },
  {
   "cell_type": "markdown",
   "id": "c66d8380",
   "metadata": {},
   "source": [
    "Various ways of copying list take different execution times, so we can compare them on the basis of time. "
   ]
  },
  {
   "cell_type": "code",
   "execution_count": null,
   "id": "d4b39ee5",
   "metadata": {},
   "outputs": [],
   "source": [
    "# Using the slicing technique"
   ]
  },
  {
   "cell_type": "raw",
   "id": "6ec55938",
   "metadata": {},
   "source": [
    "This technique takes about 0.039 seconds and is the fastest technique, it is the fastest technique"
   ]
  },
  {
   "cell_type": "code",
   "execution_count": 25,
   "id": "c6a3eee8",
   "metadata": {},
   "outputs": [
    {
     "data": {
      "text/plain": [
       "[1, 2, 3, 4]"
      ]
     },
     "execution_count": 25,
     "metadata": {},
     "output_type": "execute_result"
    }
   ],
   "source": [
    "def clonelist(x):\n",
    "    nlst=x[:]\n",
    "    return nlst\n",
    "x=[1,2,3,4]\n",
    "clonelist(x)"
   ]
  },
  {
   "cell_type": "code",
   "execution_count": 26,
   "id": "7cf8587b",
   "metadata": {},
   "outputs": [],
   "source": [
    "# Using the extend() method "
   ]
  },
  {
   "cell_type": "raw",
   "id": "62496f8a",
   "metadata": {},
   "source": [
    "takes around 0.053 seconds to complete. "
   ]
  },
  {
   "cell_type": "code",
   "execution_count": 29,
   "id": "4177e697",
   "metadata": {},
   "outputs": [
    {
     "data": {
      "text/plain": [
       "[1, 2, 3, 4]"
      ]
     },
     "execution_count": 29,
     "metadata": {},
     "output_type": "execute_result"
    }
   ],
   "source": [
    "def clonelist(x):\n",
    "    n=[]\n",
    "    nlst=n.extend(x)\n",
    "    return n\n",
    "x=[1,2,3,4]\n",
    "clonelist(x)"
   ]
  },
  {
   "cell_type": "code",
   "execution_count": 30,
   "id": "8477d16f",
   "metadata": {},
   "outputs": [],
   "source": [
    "# Using =(assignment operator)"
   ]
  },
  {
   "cell_type": "raw",
   "id": "0587a3f0",
   "metadata": {},
   "source": [
    "Note – There is an issue with this method if you modify in the new list then the old list is also modified due to the new list is referencing "
   ]
  },
  {
   "cell_type": "code",
   "execution_count": 31,
   "id": "223cbde7",
   "metadata": {},
   "outputs": [
    {
     "data": {
      "text/plain": [
       "[1, 2, 3, 4]"
      ]
     },
     "execution_count": 31,
     "metadata": {},
     "output_type": "execute_result"
    }
   ],
   "source": [
    "def copylist(x):\n",
    "    n=x\n",
    "    return n\n",
    "x=[1,2,3,4]\n",
    "copylist(x)"
   ]
  },
  {
   "cell_type": "code",
   "execution_count": 32,
   "id": "d4a78502",
   "metadata": {},
   "outputs": [
    {
     "data": {
      "text/plain": [
       "[1, 2, 3, 4]"
      ]
     },
     "execution_count": 32,
     "metadata": {},
     "output_type": "execute_result"
    }
   ],
   "source": [
    "x=[1,2,3,4]\n",
    "n=x\n",
    "n"
   ]
  },
  {
   "cell_type": "code",
   "execution_count": 33,
   "id": "dd02c9bd",
   "metadata": {},
   "outputs": [
    {
     "name": "stdout",
     "output_type": "stream",
     "text": [
      "[1, 2, 3, 5]\n",
      "[1, 2, 3, 5]\n"
     ]
    }
   ],
   "source": [
    "# modify n, x will also be modified\n",
    "n[3]=5\n",
    "print(n)\n",
    "print(x)"
   ]
  },
  {
   "cell_type": "code",
   "execution_count": 34,
   "id": "72aa6e2e",
   "metadata": {},
   "outputs": [],
   "source": [
    "# Using Shallow Copy "
   ]
  },
  {
   "cell_type": "raw",
   "id": "9f912eeb",
   "metadata": {},
   "source": [
    "Takes around 0.186 seconds to complete.\n",
    "\n",
    "The copy() returns a shallow copy of the list, and deepcopy() returns a deep copy of the list. As you can see that both have the same value but have different IDs."
   ]
  },
  {
   "cell_type": "code",
   "execution_count": 36,
   "id": "0edd5d80",
   "metadata": {},
   "outputs": [],
   "source": [
    "import copy"
   ]
  },
  {
   "cell_type": "code",
   "execution_count": 38,
   "id": "915b9e5b",
   "metadata": {},
   "outputs": [
    {
     "name": "stdout",
     "output_type": "stream",
     "text": [
      "list 2: [1, 2, [3, 5], 4]\n",
      "list 3: [1, 2, [3, 5], 4]\n"
     ]
    }
   ],
   "source": [
    "list1 = [1, 2, [3, 5], 4]\n",
    "list2 = copy.copy(list1) # Shallow Copy\n",
    "print('list 2:',list2)\n",
    "\n",
    "list3 = copy.deepcopy(list1)\n",
    "print('list 3:',list3)"
   ]
  },
  {
   "cell_type": "code",
   "execution_count": 40,
   "id": "e87b82f3",
   "metadata": {},
   "outputs": [
    {
     "name": "stdout",
     "output_type": "stream",
     "text": [
      "list3 ID:  2312335611904 \n",
      "Value:  [1, 2, [3, 5], 4]\n"
     ]
    }
   ],
   "source": [
    "print(\"list3 ID: \", id(list3), \"\\nValue: \", list3)"
   ]
  },
  {
   "cell_type": "raw",
   "id": "c9444b43",
   "metadata": {},
   "source": [
    "Shallow copy reflect the change the originalist but deep copy does not reflect any change met to the list"
   ]
  },
  {
   "cell_type": "code",
   "execution_count": 41,
   "id": "daab7ab6",
   "metadata": {},
   "outputs": [
    {
     "data": {
      "text/plain": [
       "[4, 8, 2, 10, 15, 18]"
      ]
     },
     "execution_count": 41,
     "metadata": {},
     "output_type": "execute_result"
    }
   ],
   "source": [
    "# using list  comprehension\n",
    "li1 = [4, 8, 2, 10, 15, 18]\n",
    "li_copy = [i for i in li1]\n",
    "li_copy"
   ]
  },
  {
   "cell_type": "markdown",
   "id": "0146f6fc",
   "metadata": {},
   "source": [
    "### Count Occurances"
   ]
  },
  {
   "cell_type": "code",
   "execution_count": 45,
   "id": "657e5089",
   "metadata": {},
   "outputs": [
    {
     "data": {
      "text/plain": [
       "2"
      ]
     },
     "execution_count": 45,
     "metadata": {},
     "output_type": "execute_result"
    }
   ],
   "source": [
    "# using for loop\n",
    "def countx(lst,n):\n",
    "    count=0\n",
    "    for i in lst:\n",
    "        if i==n:\n",
    "            count=count+1\n",
    "    return count\n",
    "n=10\n",
    "lst = [8, 6, 8, 10, 8, 20, 10, 8, 8]\n",
    "countx(lst,n)"
   ]
  },
  {
   "cell_type": "code",
   "execution_count": null,
   "id": "9ef10fb2",
   "metadata": {},
   "outputs": [],
   "source": [
    "# Using count() method\n",
    "\n",
    "def countx(lst):\n",
    "    count=0\n",
    "    for i in lst:\n",
    "        if i==n:\n",
    "            count=count+1\n",
    "    return count\n",
    "n=10\n",
    "lst = [8, 6, 8, 10, 8, 20, 10, 8, 8]\n",
    "countx(lst,n)"
   ]
  },
  {
   "cell_type": "code",
   "execution_count": 47,
   "id": "ece5d93d",
   "metadata": {},
   "outputs": [],
   "source": [
    "from collections import Counter"
   ]
  },
  {
   "cell_type": "code",
   "execution_count": 48,
   "id": "91186e26",
   "metadata": {},
   "outputs": [],
   "source": [
    "c = Counter('abcdeabcdabcaba')  # count elements from a string"
   ]
  },
  {
   "cell_type": "code",
   "execution_count": 49,
   "id": "d4a1b55b",
   "metadata": {},
   "outputs": [
    {
     "data": {
      "text/plain": [
       "[('a', 5), ('b', 4), ('c', 3)]"
      ]
     },
     "execution_count": 49,
     "metadata": {},
     "output_type": "execute_result"
    }
   ],
   "source": [
    "c.most_common(3)                # three most common elements"
   ]
  },
  {
   "cell_type": "code",
   "execution_count": 50,
   "id": "5fc65edf",
   "metadata": {},
   "outputs": [
    {
     "data": {
      "text/plain": [
       "['a', 'b', 'c', 'd', 'e']"
      ]
     },
     "execution_count": 50,
     "metadata": {},
     "output_type": "execute_result"
    }
   ],
   "source": [
    "sorted(c)                       # list all unique elements"
   ]
  },
  {
   "cell_type": "code",
   "execution_count": 53,
   "id": "a8fbbdbc",
   "metadata": {},
   "outputs": [
    {
     "data": {
      "text/plain": [
       "<itertools.chain at 0x21a62400a00>"
      ]
     },
     "execution_count": 53,
     "metadata": {},
     "output_type": "execute_result"
    }
   ],
   "source": [
    "c.elements()"
   ]
  },
  {
   "cell_type": "code",
   "execution_count": 51,
   "id": "63fc2d5a",
   "metadata": {},
   "outputs": [
    {
     "data": {
      "text/plain": [
       "'aaaaabbbbcccdde'"
      ]
     },
     "execution_count": 51,
     "metadata": {},
     "output_type": "execute_result"
    }
   ],
   "source": [
    "''.join(sorted(c.elements()))   # list elements with repetitions"
   ]
  },
  {
   "cell_type": "code",
   "execution_count": 54,
   "id": "7e3c38cf",
   "metadata": {},
   "outputs": [
    {
     "data": {
      "text/plain": [
       "15"
      ]
     },
     "execution_count": 54,
     "metadata": {},
     "output_type": "execute_result"
    }
   ],
   "source": [
    "sum(c.values())                 # total of all counts"
   ]
  },
  {
   "cell_type": "code",
   "execution_count": 55,
   "id": "d7b3772b",
   "metadata": {},
   "outputs": [
    {
     "data": {
      "text/plain": [
       "5"
      ]
     },
     "execution_count": 55,
     "metadata": {},
     "output_type": "execute_result"
    }
   ],
   "source": [
    "c['a']                          # count of letter 'a'"
   ]
  },
  {
   "cell_type": "code",
   "execution_count": 57,
   "id": "9ab5d043",
   "metadata": {},
   "outputs": [
    {
     "data": {
      "text/plain": [
       "9"
      ]
     },
     "execution_count": 57,
     "metadata": {},
     "output_type": "execute_result"
    }
   ],
   "source": [
    "for elem in 'shazam':           # update counts from an iterable\n",
    "    c[elem] += 1                # by adding 1 to each element's count\n",
    "c['a'] "
   ]
  },
  {
   "cell_type": "code",
   "execution_count": 58,
   "id": "11add448",
   "metadata": {},
   "outputs": [
    {
     "data": {
      "text/plain": [
       "0"
      ]
     },
     "execution_count": 58,
     "metadata": {},
     "output_type": "execute_result"
    }
   ],
   "source": [
    "del c['b']                      # remove all 'b'\n",
    "c['b']                          # now there are zero 'b'"
   ]
  },
  {
   "cell_type": "code",
   "execution_count": 59,
   "id": "941822af",
   "metadata": {},
   "outputs": [
    {
     "data": {
      "text/plain": [
       "11"
      ]
     },
     "execution_count": 59,
     "metadata": {},
     "output_type": "execute_result"
    }
   ],
   "source": [
    "d = Counter('simsalabim')       # make another counter\n",
    "c.update(d)                     # add in the second counter\n",
    "c['a']                          # now there are 11 'a'"
   ]
  },
  {
   "cell_type": "code",
   "execution_count": 60,
   "id": "98a24570",
   "metadata": {},
   "outputs": [
    {
     "data": {
      "text/plain": [
       "Counter()"
      ]
     },
     "execution_count": 60,
     "metadata": {},
     "output_type": "execute_result"
    }
   ],
   "source": [
    "c.clear()                       # empty the counter\n",
    "c\n",
    "Counter()"
   ]
  },
  {
   "cell_type": "code",
   "execution_count": null,
   "id": "4eb34fd0",
   "metadata": {},
   "outputs": [],
   "source": [
    "Note:  If a count is set to zero or reduced to zero, it will remain\n",
    "in the counter until the entry is deleted or the counter is cleared:\n",
    "\n",
    ">>> c = Counter('aaabbc')\n",
    ">>> c['b'] -= 2                     # reduce the count of 'b' by two\n",
    ">>> c.most_common()                 # 'b' is still in, but its count is zero\n",
    "[('a', 3), ('c', 1), ('b', 0)]\n",
    "Init docstring:\n",
    "Create a new, empty Counter object.  And if given, count elements\n",
    "from an input iterable.  Or, initialize the count from another mapping\n",
    "of elements to their counts.\n",
    "\n",
    ">>> c = Counter()                           # a new, empty counter\n",
    ">>> c = Counter('gallahad')                 # a new counter from an iterable\n",
    ">>> c = Counter({'a': 4, 'b': 2})           # a new counter from a mapping\n",
    ">>> c = Counter(a=4, b=2)                   # a new counter from keyword args"
   ]
  },
  {
   "cell_type": "code",
   "execution_count": 62,
   "id": "d26a95ed",
   "metadata": {},
   "outputs": [
    {
     "name": "stdout",
     "output_type": "stream",
     "text": [
      "Count of 3 is 2\n"
     ]
    }
   ],
   "source": [
    "from collections import Counter\n",
    "lst = [1, 1, 2, 2, 3, 3, 4, 4, 5, 5]\n",
    "x=Counter(lst)\n",
    "print('Count of {} is {}'.format(3,x[3]))"
   ]
  },
  {
   "cell_type": "raw",
   "id": "85079ea1",
   "metadata": {},
   "source": [
    "Operator.countOf() is used for counting the number of occurrences of b in a"
   ]
  },
  {
   "cell_type": "code",
   "execution_count": 63,
   "id": "3954ceb6",
   "metadata": {},
   "outputs": [],
   "source": [
    "import operator as op"
   ]
  },
  {
   "cell_type": "code",
   "execution_count": 66,
   "id": "0b6978cb",
   "metadata": {},
   "outputs": [
    {
     "name": "stdout",
     "output_type": "stream",
     "text": [
      "3 has occured 2 times\n"
     ]
    }
   ],
   "source": [
    "l = [1, 1, 2, 2, 2, 3, 3, 4, 4, 5, 5]\n",
    "x=3\n",
    "print(f'{x} has occured {op.countOf(l, x)} times')"
   ]
  },
  {
   "cell_type": "code",
   "execution_count": 71,
   "id": "ab4cb492",
   "metadata": {},
   "outputs": [
    {
     "name": "stdout",
     "output_type": "stream",
     "text": [
      "1\n"
     ]
    }
   ],
   "source": [
    "mylst = ['a', 'd', 'd', 'c', 'a', 'b', 'b', 'a', 'c', 'd', 'e']\n",
    "x = {i: mylst.count(i) for i in mylst}\n",
    "print(x.get('e'))"
   ]
  },
  {
   "cell_type": "code",
   "execution_count": 74,
   "id": "eff46f1f",
   "metadata": {},
   "outputs": [
    {
     "data": {
      "text/plain": [
       "2    3\n",
       "1    2\n",
       "3    2\n",
       "4    2\n",
       "5    2\n",
       "dtype: int64"
      ]
     },
     "execution_count": 74,
     "metadata": {},
     "output_type": "execute_result"
    }
   ],
   "source": [
    "# count elements of a list using pandas series, first need to convert into a series\n",
    "import pandas as pd\n",
    "l = [1, 1, 2, 2, 2, 3, 3, 4, 4, 5, 5]\n",
    "x=pd.Series(l).value_counts()\n",
    "x"
   ]
  },
  {
   "cell_type": "code",
   "execution_count": 77,
   "id": "1a497062",
   "metadata": {},
   "outputs": [
    {
     "data": {
      "text/plain": [
       "2"
      ]
     },
     "execution_count": 77,
     "metadata": {},
     "output_type": "execute_result"
    }
   ],
   "source": [
    "x.get(5)"
   ]
  },
  {
   "cell_type": "code",
   "execution_count": 78,
   "id": "631a1744",
   "metadata": {},
   "outputs": [
    {
     "data": {
      "text/plain": [
       "[3, 3]"
      ]
     },
     "execution_count": 78,
     "metadata": {},
     "output_type": "execute_result"
    }
   ],
   "source": [
    "# Using list comprehension\n",
    "l = [1, 1, 2, 2, 2, 3, 3, 4, 4, 5, 5]\n",
    "x=[i for i in l if i==3]\n",
    "x"
   ]
  },
  {
   "cell_type": "markdown",
   "id": "c8749060",
   "metadata": {},
   "source": [
    "### Remove Empty Tuples"
   ]
  },
  {
   "cell_type": "code",
   "execution_count": 80,
   "id": "b02d565d",
   "metadata": {},
   "outputs": [
    {
     "data": {
      "text/plain": [
       "[('ram', '15', '8'), ('laxman', 'sita'), ('krishna', 'akbar', '45'), ('', '')]"
      ]
     },
     "execution_count": 80,
     "metadata": {},
     "output_type": "execute_result"
    }
   ],
   "source": [
    "tuples = [(), ('ram','15','8'), (), ('laxman', 'sita'),('krishna', 'akbar', '45'), ('',''),()]\n",
    "tuples = [x for x in tuples if x!=()]\n",
    "tuples"
   ]
  },
  {
   "cell_type": "code",
   "execution_count": 81,
   "id": "521ae957",
   "metadata": {},
   "outputs": [
    {
     "data": {
      "text/plain": [
       "[('ram', '15', '8'), ('laxman', 'sita'), ('krishna', 'akbar', '45'), ('', '')]"
      ]
     },
     "execution_count": 81,
     "metadata": {},
     "output_type": "execute_result"
    }
   ],
   "source": [
    "# Or simply if x\n",
    "tuples = [(), ('ram','15','8'), (), ('laxman', 'sita'),('krishna', 'akbar', '45'), ('',''),()]\n",
    "tuples = [x for x in tuples if x]\n",
    "tuples"
   ]
  },
  {
   "cell_type": "code",
   "execution_count": 83,
   "id": "04653fc1",
   "metadata": {},
   "outputs": [
    {
     "data": {
      "text/plain": [
       "<filter at 0x21a653ae2b0>"
      ]
     },
     "execution_count": 83,
     "metadata": {},
     "output_type": "execute_result"
    }
   ],
   "source": [
    "# Using filter\n",
    "def removetup(x):\n",
    "    a=filter(None,x)\n",
    "    return a\n",
    "x=[(), ('ram','15','8'), (), ('laxman', 'sita'),('krishna', 'akbar', '45'), ('',''),()]\n",
    "removetup(x)"
   ]
  },
  {
   "cell_type": "code",
   "execution_count": 84,
   "id": "427eaa2a",
   "metadata": {},
   "outputs": [
    {
     "data": {
      "text/plain": [
       "[('ram', '15', '8'), ('laxman', 'sita'), ('krishna', 'akbar', '45'), ('', '')]"
      ]
     },
     "execution_count": 84,
     "metadata": {},
     "output_type": "execute_result"
    }
   ],
   "source": [
    "# Using len()==0\n",
    "\n",
    "def remov(tuples):\n",
    "    x=[i for i in tuples if len(i)!=0]\n",
    "    return x\n",
    "tuples=[(), ('ram','15','8'), (), ('laxman', 'sita'),('krishna', 'akbar', '45'), ('',''),()]\n",
    "remov(tuples)"
   ]
  },
  {
   "cell_type": "code",
   "execution_count": 85,
   "id": "3e681519",
   "metadata": {},
   "outputs": [
    {
     "data": {
      "text/plain": [
       "[('ram', '15', '8'), ('laxman', 'sita'), ('krishna', 'akbar', '45'), ('', '')]"
      ]
     },
     "execution_count": 85,
     "metadata": {},
     "output_type": "execute_result"
    }
   ],
   "source": [
    "# using ==\n",
    "def check(tuples):\n",
    "    for i in tuples:\n",
    "        if i==():\n",
    "            tuples.remove(i)\n",
    "    return tuples\n",
    "tuples=[(), ('ram','15','8'), (), ('laxman', 'sita'),('krishna', 'akbar', '45'), ('',''),()]\n",
    "check(tuples)"
   ]
  },
  {
   "cell_type": "code",
   "execution_count": 86,
   "id": "7bea6918",
   "metadata": {},
   "outputs": [
    {
     "name": "stdout",
     "output_type": "stream",
     "text": [
      "[('ram', '15', '8'), ('laxman', 'sita'), ('krishna', 'akbar', '45'), ('', '')]\n"
     ]
    }
   ],
   "source": [
    "tuples = [(), ('ram','15','8'), (), ('laxman', 'sita'), ('krishna', 'akbar', '45'), ('',''),()]\n",
    "x = [y for x,y in enumerate(tuples) if y]\n",
    "print(x)"
   ]
  },
  {
   "cell_type": "markdown",
   "id": "0fb461e2",
   "metadata": {},
   "source": [
    "### Print duplicates"
   ]
  },
  {
   "cell_type": "code",
   "execution_count": 112,
   "id": "abaf64c1",
   "metadata": {},
   "outputs": [
    {
     "name": "stdout",
     "output_type": "stream",
     "text": [
      "Counter({1: 4, 2: 3, 5: 2, 9: 2, 3: 1, 4: 1, 6: 1, 7: 1, 8: 1})\n",
      "Duplicates:  [1, 2, 5, 9]\n"
     ]
    }
   ],
   "source": [
    "from collections import Counter\n",
    " \n",
    "lst = [1,2,1,2,3,4,5,1,1,2,5,6,7,8,9,9]\n",
    "x = Counter(lst)\n",
    "print(x)\n",
    "nlst = list([i for i in x if x[i]>1])\n",
    "print('Duplicates: ',nlst)"
   ]
  },
  {
   "cell_type": "code",
   "execution_count": 3,
   "id": "8ac2c92f",
   "metadata": {},
   "outputs": [
    {
     "data": {
      "text/plain": [
       "[1, 2, 5, 9]"
      ]
     },
     "execution_count": 3,
     "metadata": {},
     "output_type": "execute_result"
    }
   ],
   "source": [
    "# using count\n",
    "lst = [1, 2, 1, 2, 3, 4, 5, 1, 1, 2, 5, 6, 7, 8, 9, 9]\n",
    "nlst=list(set([x for x in lst if lst.count(x)>1]))\n",
    "nlst"
   ]
  },
  {
   "cell_type": "code",
   "execution_count": 6,
   "id": "469a0cc7",
   "metadata": {},
   "outputs": [
    {
     "name": "stdout",
     "output_type": "stream",
     "text": [
      "[1, 2, 5, 9]\n"
     ]
    }
   ],
   "source": [
    "# Using in, not in operators and count() \n",
    "lst = [1, 2, 1, 2, 3, 4, 5, 1, 1, 2, 5, 6, 7, 8, 9, 9]\n",
    "x=[]\n",
    "y=[]\n",
    "for i in lst:\n",
    "    if i not in x:\n",
    "        x.append(i)\n",
    "    else:\n",
    "        y.append(i)\n",
    "print(list(set(y)))"
   ]
  },
  {
   "cell_type": "code",
   "execution_count": 7,
   "id": "58424640",
   "metadata": {},
   "outputs": [
    {
     "name": "stdout",
     "output_type": "stream",
     "text": [
      "150\n"
     ]
    }
   ],
   "source": [
    "# Cumulative sum of a list\n",
    "lst = [10, 20, 30, 40, 50]\n",
    "summ=0\n",
    "for i in range(len(lst)):\n",
    "    summ=summ+lst[i]\n",
    "print(summ)"
   ]
  },
  {
   "cell_type": "code",
   "execution_count": 15,
   "id": "01fbc1d6",
   "metadata": {},
   "outputs": [
    {
     "name": "stdout",
     "output_type": "stream",
     "text": [
      "150\n"
     ]
    }
   ],
   "source": [
    "# while loop cumsum\n",
    "lst = [10, 20, 30, 40, 50]\n",
    "summ=0\n",
    "i=0\n",
    "while i <len(lst):\n",
    "    summ=summ+lst[i]\n",
    "    i=i+1\n",
    "print(summ)"
   ]
  },
  {
   "cell_type": "code",
   "execution_count": 8,
   "id": "2a1b1fe8",
   "metadata": {},
   "outputs": [
    {
     "name": "stdout",
     "output_type": "stream",
     "text": [
      "12000000\n"
     ]
    }
   ],
   "source": [
    "# Cumulative prod of a list\n",
    "lst = [10, 20, 30, 40, 50]\n",
    "prod=1\n",
    "for i in range(len(lst)):\n",
    "    prod=prod*lst[i]\n",
    "print(prod)"
   ]
  },
  {
   "cell_type": "code",
   "execution_count": 10,
   "id": "182036ee",
   "metadata": {},
   "outputs": [],
   "source": [
    "import math\n",
    "import numpy as np"
   ]
  },
  {
   "cell_type": "code",
   "execution_count": 12,
   "id": "c27bd02e",
   "metadata": {},
   "outputs": [
    {
     "data": {
      "text/plain": [
       "array([      10,      200,     6000,   240000, 12000000], dtype=int32)"
      ]
     },
     "execution_count": 12,
     "metadata": {},
     "output_type": "execute_result"
    }
   ],
   "source": [
    "np.cumprod([lst])"
   ]
  },
  {
   "cell_type": "code",
   "execution_count": 13,
   "id": "bb38c8d6",
   "metadata": {},
   "outputs": [
    {
     "data": {
      "text/plain": [
       "array([ 10,  30,  60, 100, 150], dtype=int32)"
      ]
     },
     "execution_count": 13,
     "metadata": {},
     "output_type": "execute_result"
    }
   ],
   "source": [
    "np.cumsum([lst])"
   ]
  },
  {
   "cell_type": "code",
   "execution_count": 17,
   "id": "c3fb2848",
   "metadata": {},
   "outputs": [
    {
     "name": "stdout",
     "output_type": "stream",
     "text": [
      "The original list : [12, 67, 98, 34]\n",
      "Integer Summation : [3, 13, 17, 7]\n"
     ]
    }
   ],
   "source": [
    "# Sum of number digits in List\n",
    "test_list = [12, 67, 98, 34]\n",
    "print(\"The original list : \" + str(test_list))\n",
    "\n",
    "res = []\n",
    "for ele in test_list:\n",
    "    summ = 0\n",
    "    for digit in str(ele):\n",
    "        summ += int(digit)\n",
    "    res.append(summ)\n",
    "\n",
    "print (\"Integer Summation : \" + str(res))"
   ]
  },
  {
   "cell_type": "code",
   "execution_count": 24,
   "id": "ce30bdc7",
   "metadata": {},
   "outputs": [
    {
     "data": {
      "text/plain": [
       "[3, 13, 17, 7]"
      ]
     },
     "execution_count": 24,
     "metadata": {},
     "output_type": "execute_result"
    }
   ],
   "source": [
    "lst = [12, 67, 98, 34]\n",
    "res = list(map(lambda i: sum(int(a) for a in str(i)), lst))\n",
    "res"
   ]
  },
  {
   "cell_type": "raw",
   "id": "6952ab7e",
   "metadata": {},
   "source": [
    "reduce(function, sequence[, initial])\n",
    "Apply a function of two arguments cumulatively to the items of a sequence,\n",
    "from left to right, so as to reduce the sequence to a single value."
   ]
  },
  {
   "cell_type": "code",
   "execution_count": 25,
   "id": "7ce6f042",
   "metadata": {},
   "outputs": [
    {
     "data": {
      "text/plain": [
       "[3, 13, 17, 7]"
      ]
     },
     "execution_count": 25,
     "metadata": {},
     "output_type": "execute_result"
    }
   ],
   "source": [
    "# Using sum and reduce\n",
    "from functools import reduce\n",
    "\n",
    "lst = [12, 67, 98, 34]\n",
    "res = [reduce(lambda x, y: int(x) + int(y), list(str(i))) for i in lst]\n",
    "res"
   ]
  },
  {
   "cell_type": "markdown",
   "id": "efc03321",
   "metadata": {},
   "source": [
    "### Break a list into chunks of size N"
   ]
  },
  {
   "cell_type": "raw",
   "id": "a9e5934e",
   "metadata": {},
   "source": [
    "The yield keyword helps a function to remember its state. The yield enables a function to suspend and resume while it turns in a value at the time of the suspension of the execution."
   ]
  },
  {
   "cell_type": "code",
   "execution_count": 26,
   "id": "b1ef3bf4",
   "metadata": {},
   "outputs": [
    {
     "name": "stdout",
     "output_type": "stream",
     "text": [
      "[1, 2, 3]\n",
      "[4, 5, 6]\n",
      "[7, 8, 9]\n",
      "[]\n"
     ]
    }
   ],
   "source": [
    "my_list = [1, 2, 3, 4, 5, 6, 7, 8, 9]\n",
    "start = 0\n",
    "end = 12\n",
    "step = 3\n",
    "for i in range(start, end, step):\n",
    "    x = i\n",
    "    print(my_list[x:x+step])"
   ]
  },
  {
   "cell_type": "code",
   "execution_count": null,
   "id": "f46b0bf7",
   "metadata": {},
   "outputs": [],
   "source": []
  }
 ],
 "metadata": {
  "kernelspec": {
   "display_name": "Python 3 (ipykernel)",
   "language": "python",
   "name": "python3"
  },
  "language_info": {
   "codemirror_mode": {
    "name": "ipython",
    "version": 3
   },
   "file_extension": ".py",
   "mimetype": "text/x-python",
   "name": "python",
   "nbconvert_exporter": "python",
   "pygments_lexer": "ipython3",
   "version": "3.9.7"
  }
 },
 "nbformat": 4,
 "nbformat_minor": 5
}

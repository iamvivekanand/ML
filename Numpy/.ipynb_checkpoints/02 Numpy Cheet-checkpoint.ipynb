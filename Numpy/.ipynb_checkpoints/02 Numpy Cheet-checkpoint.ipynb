{
 "cells": [
  {
   "cell_type": "code",
   "execution_count": 1,
   "id": "a9e6f775",
   "metadata": {},
   "outputs": [],
   "source": [
    "import numpy as np\n",
    "import pandas as pd"
   ]
  },
  {
   "cell_type": "raw",
   "id": "c60fd19a",
   "metadata": {},
   "source": [
    "np.zeros((3,4))\n",
    "\n",
    "np.zeros((3,4)) #Create an array of zeros\n",
    "\n",
    "np.ones((2,3,4),dtype=np.int16) #Create an array of ones\n",
    "\n",
    "d = np.arange(10,25,5)#Create an array of evenly spaced values (step value)\n",
    "\n",
    "np.linspace(0,2,9) #Create an array of evenlyspaced values (number of samples)\n",
    "\n",
    "e = np.full((2,2),7)#Create a constant array\n",
    "\n",
    "f = np.eye(2) #Create a 2X2 identity matrix\n",
    "\n",
    "np.random.random((2,2)) #Create an array with random values\n",
    "\n",
    "np.empty((3,2)) #Create an empty array"
   ]
  },
  {
   "cell_type": "raw",
   "id": "b44269c8",
   "metadata": {},
   "source": [
    "np.zeros(shape, dtype=float, order='C', *, like=None))\n",
    "# order must be one of 'C', 'F', 'A', or 'K' (got 'H')"
   ]
  },
  {
   "cell_type": "code",
   "execution_count": 3,
   "id": "816e9300",
   "metadata": {},
   "outputs": [
    {
     "data": {
      "text/plain": [
       "array([0., 0., 0.])"
      ]
     },
     "execution_count": 3,
     "metadata": {},
     "output_type": "execute_result"
    }
   ],
   "source": [
    "np.zeros(3) "
   ]
  },
  {
   "cell_type": "code",
   "execution_count": 4,
   "id": "796f2ab7",
   "metadata": {},
   "outputs": [
    {
     "data": {
      "text/plain": [
       "3"
      ]
     },
     "execution_count": 4,
     "metadata": {},
     "output_type": "execute_result"
    }
   ],
   "source": [
    "len(np.zeros(3) )"
   ]
  },
  {
   "cell_type": "code",
   "execution_count": 5,
   "id": "bd3bc330",
   "metadata": {},
   "outputs": [
    {
     "data": {
      "text/plain": [
       "1"
      ]
     },
     "execution_count": 5,
     "metadata": {},
     "output_type": "execute_result"
    }
   ],
   "source": [
    "np.zeros(3).ndim"
   ]
  },
  {
   "cell_type": "code",
   "execution_count": 13,
   "id": "df381061",
   "metadata": {},
   "outputs": [
    {
     "data": {
      "text/plain": [
       "array([[0., 0., 0.],\n",
       "       [0., 0., 0.]])"
      ]
     },
     "execution_count": 13,
     "metadata": {},
     "output_type": "execute_result"
    }
   ],
   "source": [
    "np.zeros((2,3),order='F')"
   ]
  },
  {
   "cell_type": "code",
   "execution_count": 9,
   "id": "a3f9b393",
   "metadata": {},
   "outputs": [
    {
     "ename": "TypeError",
     "evalue": "zeros() missing required argument 'shape' (pos 1)",
     "output_type": "error",
     "traceback": [
      "\u001b[1;31m---------------------------------------------------------------------------\u001b[0m",
      "\u001b[1;31mTypeError\u001b[0m                                 Traceback (most recent call last)",
      "\u001b[1;32m~\\AppData\\Local\\Temp/ipykernel_13132/1295378491.py\u001b[0m in \u001b[0;36m<module>\u001b[1;34m\u001b[0m\n\u001b[1;32m----> 1\u001b[1;33m \u001b[0mnp\u001b[0m\u001b[1;33m.\u001b[0m\u001b[0mzeros\u001b[0m\u001b[1;33m(\u001b[0m\u001b[0msize\u001b[0m\u001b[1;33m=\u001b[0m\u001b[1;33m(\u001b[0m\u001b[1;36m2\u001b[0m\u001b[1;33m,\u001b[0m\u001b[1;36m3\u001b[0m\u001b[1;33m)\u001b[0m\u001b[1;33m)\u001b[0m\u001b[1;33m\u001b[0m\u001b[1;33m\u001b[0m\u001b[0m\n\u001b[0m",
      "\u001b[1;31mTypeError\u001b[0m: zeros() missing required argument 'shape' (pos 1)"
     ]
    }
   ],
   "source": [
    "np.zeros(size=(2,3))"
   ]
  },
  {
   "cell_type": "code",
   "execution_count": 8,
   "id": "b3952f4e",
   "metadata": {},
   "outputs": [
    {
     "data": {
      "text/plain": [
       "array([[0., 0., 0.],\n",
       "       [0., 0., 0.]])"
      ]
     },
     "execution_count": 8,
     "metadata": {},
     "output_type": "execute_result"
    }
   ],
   "source": [
    "np.zeros(shape=(2,3))"
   ]
  },
  {
   "cell_type": "code",
   "execution_count": null,
   "id": "98ef7fd9",
   "metadata": {},
   "outputs": [],
   "source": [
    "np.zeros(shape=(2,3))"
   ]
  }
 ],
 "metadata": {
  "kernelspec": {
   "display_name": "Python 3 (ipykernel)",
   "language": "python",
   "name": "python3"
  },
  "language_info": {
   "codemirror_mode": {
    "name": "ipython",
    "version": 3
   },
   "file_extension": ".py",
   "mimetype": "text/x-python",
   "name": "python",
   "nbconvert_exporter": "python",
   "pygments_lexer": "ipython3",
   "version": "3.9.7"
  }
 },
 "nbformat": 4,
 "nbformat_minor": 5
}

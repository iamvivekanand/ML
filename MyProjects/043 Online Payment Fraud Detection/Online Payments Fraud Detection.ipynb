{
 "cells": [
  {
   "cell_type": "markdown",
   "id": "b9799b1d",
   "metadata": {},
   "source": [
    "### Online Payments Fraud Detection"
   ]
  },
  {
   "cell_type": "code",
   "execution_count": null,
   "id": "8481c82b",
   "metadata": {},
   "outputs": [],
   "source": [
    "# Dataset download link https://www.kaggle.com/ealaxi/paysim1/download"
   ]
  },
  {
   "cell_type": "markdown",
   "id": "18fb76bb",
   "metadata": {},
   "source": [
    "    Dataset column descrition:\n",
    "\n",
    "    step: represents a unit of time where 1 step equals 1 hour\n",
    "    type: type of online transaction\n",
    "    amount: the amount of the transaction\n",
    "    nameOrig: customer starting the transaction\n",
    "    oldbalanceOrg: balance before the transaction\n",
    "    newbalanceOrig: balance after the transaction\n",
    "    nameDest: recipient of the transaction\n",
    "    oldbalanceDest: initial balance of recipient before the transaction\n",
    "    newbalanceDest: the new balance of recipient after the transaction\n",
    "    isFraud: fraud transaction"
   ]
  },
  {
   "cell_type": "code",
   "execution_count": 1,
   "id": "583fdb8f",
   "metadata": {},
   "outputs": [],
   "source": [
    "import pandas as pd\n",
    "import matplotlib.pyplot as plt\n",
    "import seaborn as sns"
   ]
  },
  {
   "cell_type": "code",
   "execution_count": null,
   "id": "a45702cb",
   "metadata": {},
   "outputs": [],
   "source": [
    "# df=pd.read_csv('')\n",
    "# data.head()"
   ]
  },
  {
   "cell_type": "code",
   "execution_count": null,
   "id": "0f2186fd",
   "metadata": {},
   "outputs": [],
   "source": [
    "# data.isnull().sum()"
   ]
  },
  {
   "cell_type": "code",
   "execution_count": null,
   "id": "d4f2eb52",
   "metadata": {},
   "outputs": [],
   "source": [
    "# data.type.value_counts()"
   ]
  },
  {
   "cell_type": "code",
   "execution_count": null,
   "id": "cf9162eb",
   "metadata": {},
   "outputs": [],
   "source": [
    "# type = data[\"type\"].value_counts()\n",
    "# transactions = type.index\n",
    "# quantity = type.values"
   ]
  },
  {
   "cell_type": "code",
   "execution_count": null,
   "id": "91f0394f",
   "metadata": {},
   "outputs": [],
   "source": [
    "import plotly.express as px\n",
    "figure = px.pie(data, \n",
    "             values=quantity, \n",
    "             names=transactions,hole = 0.5, \n",
    "             title=\"Distribution of Transaction Type\")\n",
    "figure.show()"
   ]
  },
  {
   "cell_type": "code",
   "execution_count": null,
   "id": "39b7889b",
   "metadata": {},
   "outputs": [],
   "source": [
    "# Now let’s have a look at the correlation between the features of the data with the isFraud column:"
   ]
  },
  {
   "cell_type": "code",
   "execution_count": null,
   "id": "aa3f9bcd",
   "metadata": {},
   "outputs": [],
   "source": [
    "# correlation = data.corr()\n",
    "# print(correlation[\"isFraud\"].sort_values(ascending=False))"
   ]
  },
  {
   "cell_type": "code",
   "execution_count": null,
   "id": "48b92db5",
   "metadata": {},
   "outputs": [],
   "source": [
    "# NOW WE WILL TRANSFORM SOME NUMERICAL FEATURES"
   ]
  },
  {
   "cell_type": "markdown",
   "id": "fed7957b",
   "metadata": {},
   "source": [
    "    data[\"type\"] = data[\"type\"].map({\"CASH_OUT\": 1, \"PAYMENT\": 2, \n",
    "                                     \"CASH_IN\": 3, \"TRANSFER\": 4,\n",
    "                                     \"DEBIT\": 5})\n",
    "    data[\"isFraud\"] = data[\"isFraud\"].map({0: \"No Fraud\", 1: \"Fraud\"})\n",
    "    print(data.head())"
   ]
  },
  {
   "cell_type": "markdown",
   "id": "2b28dbb1",
   "metadata": {},
   "source": [
    "### Online fraud detection model"
   ]
  },
  {
   "cell_type": "raw",
   "id": "4a518032",
   "metadata": {},
   "source": [
    "# splitting the data\n",
    "from sklearn.model_selection import train_test_split\n",
    "x = np.array(data[[\"type\", \"amount\", \"oldbalanceOrg\", \"newbalanceOrig\"]])\n",
    "y = np.array(data[[\"isFraud\"]])"
   ]
  },
  {
   "cell_type": "raw",
   "id": "69315b0e",
   "metadata": {},
   "source": [
    "# training a machine learning model\n",
    "from sklearn.tree import DecisionTreeClassifier\n",
    "xtrain, xtest, ytrain, ytest = train_test_split(x, y, test_size=0.10, random_state=42)\n",
    "model = DecisionTreeClassifier()\n",
    "model.fit(xtrain, ytrain)\n",
    "print(model.score(xtest, ytest))"
   ]
  },
  {
   "cell_type": "raw",
   "id": "1c01b44f",
   "metadata": {},
   "source": [
    "#features = [type, amount, oldbalanceOrg, newbalanceOrig]\n",
    "features = np.array([[4, 9000.60, 9000.60, 0.0]])\n",
    "print(model.predict(features))"
   ]
  },
  {
   "cell_type": "code",
   "execution_count": null,
   "id": "4e829a43",
   "metadata": {},
   "outputs": [],
   "source": []
  }
 ],
 "metadata": {
  "kernelspec": {
   "display_name": "Python 3 (ipykernel)",
   "language": "python",
   "name": "python3"
  },
  "language_info": {
   "codemirror_mode": {
    "name": "ipython",
    "version": 3
   },
   "file_extension": ".py",
   "mimetype": "text/x-python",
   "name": "python",
   "nbconvert_exporter": "python",
   "pygments_lexer": "ipython3",
   "version": "3.9.7"
  }
 },
 "nbformat": 4,
 "nbformat_minor": 5
}

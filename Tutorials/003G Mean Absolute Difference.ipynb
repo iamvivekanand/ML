{
 "cells": [
  {
   "cell_type": "code",
   "execution_count": 1,
   "id": "9eeca333",
   "metadata": {},
   "outputs": [],
   "source": [
    "# Mean Absolute Difference"
   ]
  },
  {
   "cell_type": "markdown",
   "id": "c94e735e",
   "metadata": {},
   "source": [
    "- computes the absolute difference from the mean value. \n",
    "- higher the MAD, higher the discriminatory power."
   ]
  },
  {
   "cell_type": "code",
   "execution_count": 2,
   "id": "b70fbb1f",
   "metadata": {},
   "outputs": [
    {
     "name": "stdout",
     "output_type": "stream",
     "text": [
      "Mean absolute error : 1.8\n"
     ]
    }
   ],
   "source": [
    "# consider a list of integers for actual\n",
    "actual = [2, 3, 5, 5, 9]\n",
    "  \n",
    "# consider a list of integers for calculated\n",
    "calculated = [3, 3, 8, 7, 6]\n",
    "\n",
    "n = 5\n",
    "sum = 0\n",
    "\n",
    "for i in range(n):\n",
    "    sum += abs(actual[i] - calculated[i])\n",
    "  \n",
    "error = sum/n\n",
    "print(\"Mean absolute error : \" + str(error))"
   ]
  },
  {
   "cell_type": "code",
   "execution_count": 3,
   "id": "94513e14",
   "metadata": {},
   "outputs": [
    {
     "name": "stdout",
     "output_type": "stream",
     "text": [
      "1.8\n"
     ]
    }
   ],
   "source": [
    "# using sklearn mean absolute difference\n",
    "\n",
    "from sklearn.metrics import mean_absolute_error as mae\n",
    "error=mae(actual, calculated)\n",
    "print(str(error))"
   ]
  },
  {
   "cell_type": "code",
   "execution_count": null,
   "id": "f738f941",
   "metadata": {},
   "outputs": [],
   "source": []
  }
 ],
 "metadata": {
  "kernelspec": {
   "display_name": "Python 3 (ipykernel)",
   "language": "python",
   "name": "python3"
  },
  "language_info": {
   "codemirror_mode": {
    "name": "ipython",
    "version": 3
   },
   "file_extension": ".py",
   "mimetype": "text/x-python",
   "name": "python",
   "nbconvert_exporter": "python",
   "pygments_lexer": "ipython3",
   "version": "3.9.16"
  }
 },
 "nbformat": 4,
 "nbformat_minor": 5
}

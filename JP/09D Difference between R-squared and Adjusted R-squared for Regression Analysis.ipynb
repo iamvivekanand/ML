{
 "cells": [
  {
   "cell_type": "markdown",
   "id": "0e3ddc37",
   "metadata": {},
   "source": [
    "### Difference between R-squared and Adjusted R-squared for Regression Analysis"
   ]
  },
  {
   "cell_type": "code",
   "execution_count": 1,
   "id": "76812c71",
   "metadata": {},
   "outputs": [],
   "source": [
    "### Residual Sum of Squares"
   ]
  },
  {
   "cell_type": "raw",
   "id": "a058d02b",
   "metadata": {},
   "source": [
    "Residual for a point in the data is the difference between the actual value and the value predicted by our linear regression model.\n",
    "\n",
    "residual= Actual Value- Predicted Value"
   ]
  },
  {
   "cell_type": "raw",
   "id": "b139bf65",
   "metadata": {},
   "source": [
    "Using the residual values, we can determine the sum of squares of the residuals also known as Residual sum of squares or RSS."
   ]
  },
  {
   "cell_type": "markdown",
   "id": "8260d177",
   "metadata": {},
   "source": [
    "<img src='rss.jpg'>"
   ]
  },
  {
   "cell_type": "raw",
   "id": "7bb505ec",
   "metadata": {},
   "source": [
    "- lower the value of RSS, the better is the model predictions.\n",
    "- based on above, a regression line can be considered to be a best fit line if it minimizes the RSS value\n",
    "- THE PROBLEM IS THAT RSS IS A SCALE VARIANT METRIC i.e. its value depends on the scale of the target variable.\n",
    "\n",
    "THIS IS WHERE R-SQUARED COMES INTO PICTURE"
   ]
  },
  {
   "cell_type": "code",
   "execution_count": 2,
   "id": "eecc8ce2",
   "metadata": {},
   "outputs": [],
   "source": [
    "# Total Sum of Squares"
   ]
  },
  {
   "cell_type": "raw",
   "id": "cad335cd",
   "metadata": {},
   "source": [
    "Total variation in target variable is the sum of squares of the difference between the actual values and their mean."
   ]
  },
  {
   "cell_type": "markdown",
   "id": "f21e6b3f",
   "metadata": {},
   "source": [
    "<img src='tss.jpg'>"
   ]
  },
  {
   "cell_type": "raw",
   "id": "8243e167",
   "metadata": {},
   "source": [
    "-RSS as a whole gives us the variation in the target variable that is not explained by our model... why???\n",
    "-R-squared = (TSS-RSS)/TSS\n",
    " \n",
    " Explained variation/ Total variation\n",
    " 1 – Unexplained variation/ Total variation"
   ]
  },
  {
   "cell_type": "raw",
   "id": "79caf025",
   "metadata": {},
   "source": [
    "So R-squared gives the degree of variability in the target variable that is explained by the model or the independent variables. If this value is 0.7, then it means that the independent variables explain 70% of the variation in the target variable.\n",
    "\n",
    "R-squared value always lies between 0 and 1. A higher R-squared value indicates a higher amount of variability being explained by our model and vice-versa."
   ]
  },
  {
   "cell_type": "code",
   "execution_count": 1,
   "id": "9aae632a",
   "metadata": {},
   "outputs": [],
   "source": [
    "# Problems with R-squared statistic"
   ]
  },
  {
   "cell_type": "raw",
   "id": "73f5d85b",
   "metadata": {},
   "source": [
    "The R-squared statistic isn’t perfect. \n",
    "\n",
    "In fact, it suffers from a major flaw. Its value never decreases no matter the number of variables we add to our regression model. \n",
    "\n",
    "That is, even if we are adding redundant variables to the data, the value of R-squared does not decrease. It either remains the same or increases with the addition of new independent variables.\n",
    "\n",
    "Because of this, because some of the independent variables might not be useful in determining the target variable. Adjusted R-squared deals with this issue."
   ]
  },
  {
   "cell_type": "code",
   "execution_count": 2,
   "id": "c53843e8",
   "metadata": {},
   "outputs": [],
   "source": [
    "# Adjusted R-squared statistic"
   ]
  },
  {
   "cell_type": "raw",
   "id": "c2818eb6",
   "metadata": {},
   "source": [
    "- it takes into account the number of independent variables used for predicting the target variable"
   ]
  },
  {
   "cell_type": "markdown",
   "id": "fbe6455a",
   "metadata": {},
   "source": [
    "<img src='adjusted-r2.jpg'>"
   ]
  },
  {
   "cell_type": "raw",
   "id": "d2cf3217",
   "metadata": {},
   "source": [
    "n represents the number of data points in our dataset\n",
    "k represents the number of independent variables, and\n",
    "R represents the R-squared values determined by the model."
   ]
  },
  {
   "cell_type": "raw",
   "id": "48c39ac0",
   "metadata": {},
   "source": [
    "So, if R-squared does not increase significantly on the addition of a new independent variable, then the value of Adjusted R-squared will actually decrease... see below\n"
   ]
  },
  {
   "cell_type": "markdown",
   "id": "d6e535bd",
   "metadata": {},
   "source": [
    "<img src='adjusted-r2a.jpg'>"
   ]
  },
  {
   "cell_type": "code",
   "execution_count": null,
   "id": "83cc9891",
   "metadata": {},
   "outputs": [],
   "source": []
  }
 ],
 "metadata": {
  "kernelspec": {
   "display_name": "Python 3 (ipykernel)",
   "language": "python",
   "name": "python3"
  },
  "language_info": {
   "codemirror_mode": {
    "name": "ipython",
    "version": 3
   },
   "file_extension": ".py",
   "mimetype": "text/x-python",
   "name": "python",
   "nbconvert_exporter": "python",
   "pygments_lexer": "ipython3",
   "version": "3.9.7"
  }
 },
 "nbformat": 4,
 "nbformat_minor": 5
}

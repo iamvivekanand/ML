{
 "cells": [
  {
   "cell_type": "markdown",
   "metadata": {},
   "source": [
    "### Introduction to Machine Learning"
   ]
  },
  {
   "cell_type": "code",
   "execution_count": 5,
   "metadata": {},
   "outputs": [],
   "source": [
    "# What is machine learning"
   ]
  },
  {
   "cell_type": "raw",
   "metadata": {},
   "source": [
    "Technology which enables computers to learn automatically from past data"
   ]
  },
  {
   "cell_type": "raw",
   "metadata": {},
   "source": [
    "Machine Learning is said as a subset of artificial intelligence that is mainly concerned with the development of algorithms which allow a computer to learn from the data and past experiences on their own."
   ]
  },
  {
   "cell_type": "code",
   "execution_count": 1,
   "metadata": {},
   "outputs": [],
   "source": [
    "# Who coined the term \"Machine Learning\""
   ]
  },
  {
   "cell_type": "raw",
   "metadata": {},
   "source": [
    "The term machine learning was first introduced by Arthur Samuel in 1959."
   ]
  },
  {
   "cell_type": "code",
   "execution_count": null,
   "metadata": {},
   "outputs": [],
   "source": [
    "# How does Machine Learning work"
   ]
  },
  {
   "cell_type": "raw",
   "metadata": {},
   "source": [
    "A Machine Learning system learns from historical data, builds the prediction models, and whenever it receives new data, predicts the output for it"
   ]
  },
  {
   "cell_type": "raw",
   "metadata": {},
   "source": [
    "The accuracy of predicted output depends upon the amount of data, more data will lead to more accuracy"
   ]
  },
  {
   "cell_type": "code",
   "execution_count": 1,
   "metadata": {},
   "outputs": [],
   "source": [
    "# Features of Machine Learning:"
   ]
  },
  {
   "cell_type": "raw",
   "metadata": {},
   "source": [
    "Machine learning uses data to detect various patterns in a given dataset.\n",
    "It can learn from past data and improve automatically.\n",
    "It is a data-driven technology.\n",
    "Machine learning is much similar to data mining as it also deals with the huge amount of the data"
   ]
  },
  {
   "cell_type": "code",
   "execution_count": 2,
   "metadata": {},
   "outputs": [],
   "source": [
    "# Why there is need of machine learning?"
   ]
  },
  {
   "cell_type": "raw",
   "metadata": {},
   "source": [
    "As a human, we have some limitations as we cannot access the huge amount of data manually,\n",
    " \n",
    "Following are some key points which show the importance of Machine Learning:\n",
    "-Rapid increment in the production of data\n",
    "-Solving complex problems, which are difficult for a human\n",
    "-Decision making in various sector including finance\n",
    "-Finding hidden patterns and extracting useful information from data."
   ]
  },
  {
   "cell_type": "code",
   "execution_count": 3,
   "metadata": {},
   "outputs": [],
   "source": [
    "# Classification of Machine Learning"
   ]
  },
  {
   "cell_type": "raw",
   "metadata": {},
   "source": [
    "Supervised ML\n",
    "    1.Regression\n",
    "    2.Classification\n",
    "Unsupervised ML\n",
    "    1.Clustering\n",
    "    2.Association\n",
    "Semi-Supervised Ml\n",
    "\n",
    "Reinforcement Learning"
   ]
  },
  {
   "cell_type": "code",
   "execution_count": 4,
   "metadata": {},
   "outputs": [],
   "source": [
    "# Reinforcement learning"
   ]
  },
  {
   "cell_type": "raw",
   "metadata": {},
   "source": [
    "It is a feedback-based learning method, in which a learning agent gets a reward for each right action and gets a penalty for each wrong action. \n",
    "\n",
    "The agent learns automatically with these feedbacks and improves its performance. \n",
    "\n",
    "In reinforcement learning, the agent interacts with the environment and explores it. The goal of an agent is to get the most reward points, and hence, it improves its performance.\n",
    "\n",
    "The robotic dog, which automatically learns the movement of his arms, is an example of Reinforcement learning."
   ]
  },
  {
   "cell_type": "markdown",
   "metadata": {},
   "source": [
    "#### Application of Machine Learning"
   ]
  },
  {
   "cell_type": "markdown",
   "metadata": {},
   "source": [
    "ML can be used in Various Sectors:\n",
    "- In medical diagnosis\n",
    "- in stock price prediction\n",
    "- in network automation\n",
    "- desease classification\n",
    "- understaning and getting insights from huge amount of data"
   ]
  },
  {
   "cell_type": "code",
   "execution_count": 6,
   "metadata": {},
   "outputs": [],
   "source": [
    "### Machine learning Life cycle"
   ]
  },
  {
   "cell_type": "markdown",
   "metadata": {},
   "source": [
    "Its a cyclic process to build an efficient ML project, main purpose is to find a solution to the problem or project.\n",
    "\n",
    "Machine learning life cycle involves seven major steps, which are given below:\n",
    "- Gathering Data\n",
    "- Data preparation\n",
    "- Data Wrangling\n",
    "- Analyse Data\n",
    "- Train the model\n",
    "- Test the model\n",
    "- Deployment"
   ]
  },
  {
   "cell_type": "code",
   "execution_count": 7,
   "metadata": {},
   "outputs": [],
   "source": [
    "### Artificial intelligence VS Machine learning"
   ]
  },
  {
   "cell_type": "markdown",
   "metadata": {},
   "source": [
    "AI is a bigger concept to create intelligent machines that can simulate human thinking capability and behavior, \n",
    "whereas,\n",
    "\n",
    "ML is an application or subset of AI that allows machines to learn from data without being programmed explicitly.\n",
    "Artificial intelligence is a field of computer science which makes a computer system that can mimic human intelligence.\n",
    "\n",
    "The Artificial intelligence system does not require to be pre-programmed, instead of that, they use such algorithms which can work with their own intelligence,\n",
    "It involves machine learning algorithms such as Reinforcement learning algorithm and deep learning neural networks"
   ]
  },
  {
   "cell_type": "code",
   "execution_count": 8,
   "metadata": {},
   "outputs": [],
   "source": [
    "### How AI can be classified?"
   ]
  },
  {
   "cell_type": "markdown",
   "metadata": {},
   "source": [
    "Based on capabilities, AI can be classified into three types:\n",
    "\n",
    "* Weak AI\n",
    "* General AI\n",
    "* Strong AI"
   ]
  },
  {
   "cell_type": "code",
   "execution_count": 9,
   "metadata": {},
   "outputs": [],
   "source": [
    "#### Define ML in simple words?"
   ]
  },
  {
   "cell_type": "markdown",
   "metadata": {},
   "source": [
    "ML is a subfield of AI, which enables machines to learn from past data or experiences without being explicitly programmed\n",
    "\n",
    "or u can say ML is a feild of study in which we learn how to train a machine so that it can learn from past data and experiences without being explicitly programmed."
   ]
  },
  {
   "cell_type": "code",
   "execution_count": 10,
   "metadata": {},
   "outputs": [],
   "source": [
    "### Key differences between Artificial Intelligence (AI) and Machine learning (ML):"
   ]
  },
  {
   "cell_type": "raw",
   "metadata": {},
   "source": [
    "AI enables a machine to simulate/mimic human behavior.\n",
    "ML enables a machine to automatically learn from past data without programming explicitly."
   ]
  },
  {
   "cell_type": "raw",
   "metadata": {},
   "source": [
    "AI makes a smart computer system like humans to solve complex problems\n",
    "ML makes a model to learn from data and to give future output"
   ]
  },
  {
   "cell_type": "raw",
   "metadata": {},
   "source": [
    "In AI, we make intelligent systems to perform any task like a human.\n",
    "In ML, we teach machines with data to perform a particular task and give an accurate result."
   ]
  },
  {
   "cell_type": "raw",
   "metadata": {},
   "source": [
    "AI has a very wide range of scope.\n",
    "Machine learning has a limited scope."
   ]
  },
  {
   "cell_type": "raw",
   "metadata": {},
   "source": [
    "AI includes learning, reasoning, and self-correction.\n",
    "ML includes learning and self-correction when introduced with new data."
   ]
  },
  {
   "cell_type": "code",
   "execution_count": null,
   "metadata": {},
   "outputs": [],
   "source": []
  }
 ],
 "metadata": {
  "kernelspec": {
   "display_name": "Python 3 (ipykernel)",
   "language": "python",
   "name": "python3"
  },
  "language_info": {
   "codemirror_mode": {
    "name": "ipython",
    "version": 3
   },
   "file_extension": ".py",
   "mimetype": "text/x-python",
   "name": "python",
   "nbconvert_exporter": "python",
   "pygments_lexer": "ipython3",
   "version": "3.9.7"
  }
 },
 "nbformat": 4,
 "nbformat_minor": 4
}

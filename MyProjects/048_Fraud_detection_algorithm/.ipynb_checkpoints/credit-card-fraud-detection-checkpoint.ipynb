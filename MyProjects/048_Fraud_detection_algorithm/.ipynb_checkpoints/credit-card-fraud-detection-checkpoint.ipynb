{
 "cells": [
  {
   "cell_type": "code",
   "execution_count": 1,
   "id": "29a65aa3",
   "metadata": {},
   "outputs": [],
   "source": [
    "import numpy as np # linear algebra\n",
    "import pandas as pd # data processing, CSV file I/O (e.g. pd.read_csv)"
   ]
  },
  {
   "cell_type": "code",
   "execution_count": 2,
   "id": "b0d0392d",
   "metadata": {
    "execution": {
     "iopub.execute_input": "2021-10-06T08:22:37.708443Z",
     "iopub.status.busy": "2021-10-06T08:22:37.707666Z",
     "iopub.status.idle": "2021-10-06T08:22:37.848062Z",
     "shell.execute_reply": "2021-10-06T08:22:37.847210Z",
     "shell.execute_reply.started": "2021-10-06T08:20:02.985900Z"
    },
    "papermill": {
     "duration": 0.160775,
     "end_time": "2021-10-06T08:22:37.848222",
     "exception": false,
     "start_time": "2021-10-06T08:22:37.687447",
     "status": "completed"
    },
    "tags": []
   },
   "outputs": [],
   "source": [
    "# loading the dataset\n",
    "df=pd.read_csv('UCI_Credit_Card.csv')"
   ]
  },
  {
   "cell_type": "code",
   "execution_count": 3,
   "id": "113d1547",
   "metadata": {
    "execution": {
     "iopub.execute_input": "2021-10-06T08:22:37.883725Z",
     "iopub.status.busy": "2021-10-06T08:22:37.883119Z",
     "iopub.status.idle": "2021-10-06T08:22:37.921725Z",
     "shell.execute_reply": "2021-10-06T08:22:37.922622Z",
     "shell.execute_reply.started": "2021-10-06T08:20:03.092136Z"
    },
    "papermill": {
     "duration": 0.058618,
     "end_time": "2021-10-06T08:22:37.922892",
     "exception": false,
     "start_time": "2021-10-06T08:22:37.864274",
     "status": "completed"
    },
    "tags": []
   },
   "outputs": [
    {
     "data": {
      "text/html": [
       "<div>\n",
       "<style scoped>\n",
       "    .dataframe tbody tr th:only-of-type {\n",
       "        vertical-align: middle;\n",
       "    }\n",
       "\n",
       "    .dataframe tbody tr th {\n",
       "        vertical-align: top;\n",
       "    }\n",
       "\n",
       "    .dataframe thead th {\n",
       "        text-align: right;\n",
       "    }\n",
       "</style>\n",
       "<table border=\"1\" class=\"dataframe\">\n",
       "  <thead>\n",
       "    <tr style=\"text-align: right;\">\n",
       "      <th></th>\n",
       "      <th>ID</th>\n",
       "      <th>LIMIT_BAL</th>\n",
       "      <th>SEX</th>\n",
       "      <th>EDUCATION</th>\n",
       "      <th>MARRIAGE</th>\n",
       "      <th>AGE</th>\n",
       "      <th>PAY_0</th>\n",
       "      <th>PAY_2</th>\n",
       "      <th>PAY_3</th>\n",
       "      <th>PAY_4</th>\n",
       "      <th>...</th>\n",
       "      <th>BILL_AMT4</th>\n",
       "      <th>BILL_AMT5</th>\n",
       "      <th>BILL_AMT6</th>\n",
       "      <th>PAY_AMT1</th>\n",
       "      <th>PAY_AMT2</th>\n",
       "      <th>PAY_AMT3</th>\n",
       "      <th>PAY_AMT4</th>\n",
       "      <th>PAY_AMT5</th>\n",
       "      <th>PAY_AMT6</th>\n",
       "      <th>default.payment.next.month</th>\n",
       "    </tr>\n",
       "  </thead>\n",
       "  <tbody>\n",
       "    <tr>\n",
       "      <th>0</th>\n",
       "      <td>1</td>\n",
       "      <td>20000.0</td>\n",
       "      <td>2</td>\n",
       "      <td>2</td>\n",
       "      <td>1</td>\n",
       "      <td>24</td>\n",
       "      <td>2</td>\n",
       "      <td>2</td>\n",
       "      <td>-1</td>\n",
       "      <td>-1</td>\n",
       "      <td>...</td>\n",
       "      <td>0.0</td>\n",
       "      <td>0.0</td>\n",
       "      <td>0.0</td>\n",
       "      <td>0.0</td>\n",
       "      <td>689.0</td>\n",
       "      <td>0.0</td>\n",
       "      <td>0.0</td>\n",
       "      <td>0.0</td>\n",
       "      <td>0.0</td>\n",
       "      <td>1</td>\n",
       "    </tr>\n",
       "    <tr>\n",
       "      <th>1</th>\n",
       "      <td>2</td>\n",
       "      <td>120000.0</td>\n",
       "      <td>2</td>\n",
       "      <td>2</td>\n",
       "      <td>2</td>\n",
       "      <td>26</td>\n",
       "      <td>-1</td>\n",
       "      <td>2</td>\n",
       "      <td>0</td>\n",
       "      <td>0</td>\n",
       "      <td>...</td>\n",
       "      <td>3272.0</td>\n",
       "      <td>3455.0</td>\n",
       "      <td>3261.0</td>\n",
       "      <td>0.0</td>\n",
       "      <td>1000.0</td>\n",
       "      <td>1000.0</td>\n",
       "      <td>1000.0</td>\n",
       "      <td>0.0</td>\n",
       "      <td>2000.0</td>\n",
       "      <td>1</td>\n",
       "    </tr>\n",
       "    <tr>\n",
       "      <th>2</th>\n",
       "      <td>3</td>\n",
       "      <td>90000.0</td>\n",
       "      <td>2</td>\n",
       "      <td>2</td>\n",
       "      <td>2</td>\n",
       "      <td>34</td>\n",
       "      <td>0</td>\n",
       "      <td>0</td>\n",
       "      <td>0</td>\n",
       "      <td>0</td>\n",
       "      <td>...</td>\n",
       "      <td>14331.0</td>\n",
       "      <td>14948.0</td>\n",
       "      <td>15549.0</td>\n",
       "      <td>1518.0</td>\n",
       "      <td>1500.0</td>\n",
       "      <td>1000.0</td>\n",
       "      <td>1000.0</td>\n",
       "      <td>1000.0</td>\n",
       "      <td>5000.0</td>\n",
       "      <td>0</td>\n",
       "    </tr>\n",
       "    <tr>\n",
       "      <th>3</th>\n",
       "      <td>4</td>\n",
       "      <td>50000.0</td>\n",
       "      <td>2</td>\n",
       "      <td>2</td>\n",
       "      <td>1</td>\n",
       "      <td>37</td>\n",
       "      <td>0</td>\n",
       "      <td>0</td>\n",
       "      <td>0</td>\n",
       "      <td>0</td>\n",
       "      <td>...</td>\n",
       "      <td>28314.0</td>\n",
       "      <td>28959.0</td>\n",
       "      <td>29547.0</td>\n",
       "      <td>2000.0</td>\n",
       "      <td>2019.0</td>\n",
       "      <td>1200.0</td>\n",
       "      <td>1100.0</td>\n",
       "      <td>1069.0</td>\n",
       "      <td>1000.0</td>\n",
       "      <td>0</td>\n",
       "    </tr>\n",
       "    <tr>\n",
       "      <th>4</th>\n",
       "      <td>5</td>\n",
       "      <td>50000.0</td>\n",
       "      <td>1</td>\n",
       "      <td>2</td>\n",
       "      <td>1</td>\n",
       "      <td>57</td>\n",
       "      <td>-1</td>\n",
       "      <td>0</td>\n",
       "      <td>-1</td>\n",
       "      <td>0</td>\n",
       "      <td>...</td>\n",
       "      <td>20940.0</td>\n",
       "      <td>19146.0</td>\n",
       "      <td>19131.0</td>\n",
       "      <td>2000.0</td>\n",
       "      <td>36681.0</td>\n",
       "      <td>10000.0</td>\n",
       "      <td>9000.0</td>\n",
       "      <td>689.0</td>\n",
       "      <td>679.0</td>\n",
       "      <td>0</td>\n",
       "    </tr>\n",
       "  </tbody>\n",
       "</table>\n",
       "<p>5 rows × 25 columns</p>\n",
       "</div>"
      ],
      "text/plain": [
       "   ID  LIMIT_BAL  SEX  EDUCATION  MARRIAGE  AGE  PAY_0  PAY_2  PAY_3  PAY_4  \\\n",
       "0   1    20000.0    2          2         1   24      2      2     -1     -1   \n",
       "1   2   120000.0    2          2         2   26     -1      2      0      0   \n",
       "2   3    90000.0    2          2         2   34      0      0      0      0   \n",
       "3   4    50000.0    2          2         1   37      0      0      0      0   \n",
       "4   5    50000.0    1          2         1   57     -1      0     -1      0   \n",
       "\n",
       "   ...  BILL_AMT4  BILL_AMT5  BILL_AMT6  PAY_AMT1  PAY_AMT2  PAY_AMT3  \\\n",
       "0  ...        0.0        0.0        0.0       0.0     689.0       0.0   \n",
       "1  ...     3272.0     3455.0     3261.0       0.0    1000.0    1000.0   \n",
       "2  ...    14331.0    14948.0    15549.0    1518.0    1500.0    1000.0   \n",
       "3  ...    28314.0    28959.0    29547.0    2000.0    2019.0    1200.0   \n",
       "4  ...    20940.0    19146.0    19131.0    2000.0   36681.0   10000.0   \n",
       "\n",
       "   PAY_AMT4  PAY_AMT5  PAY_AMT6  default.payment.next.month  \n",
       "0       0.0       0.0       0.0                           1  \n",
       "1    1000.0       0.0    2000.0                           1  \n",
       "2    1000.0    1000.0    5000.0                           0  \n",
       "3    1100.0    1069.0    1000.0                           0  \n",
       "4    9000.0     689.0     679.0                           0  \n",
       "\n",
       "[5 rows x 25 columns]"
      ]
     },
     "execution_count": 3,
     "metadata": {},
     "output_type": "execute_result"
    }
   ],
   "source": [
    "df.head()"
   ]
  },
  {
   "cell_type": "code",
   "execution_count": 4,
   "id": "a0d9e85b",
   "metadata": {
    "execution": {
     "iopub.execute_input": "2021-10-06T08:22:37.966350Z",
     "iopub.status.busy": "2021-10-06T08:22:37.965599Z",
     "iopub.status.idle": "2021-10-06T08:22:37.968585Z",
     "shell.execute_reply": "2021-10-06T08:22:37.969084Z",
     "shell.execute_reply.started": "2021-10-06T08:20:03.127902Z"
    },
    "papermill": {
     "duration": 0.026453,
     "end_time": "2021-10-06T08:22:37.969253",
     "exception": false,
     "start_time": "2021-10-06T08:22:37.942800",
     "status": "completed"
    },
    "tags": []
   },
   "outputs": [
    {
     "data": {
      "text/plain": [
       "(30000, 25)"
      ]
     },
     "execution_count": 4,
     "metadata": {},
     "output_type": "execute_result"
    }
   ],
   "source": [
    "df.shape"
   ]
  },
  {
   "cell_type": "code",
   "execution_count": 5,
   "id": "736e063d",
   "metadata": {
    "execution": {
     "iopub.execute_input": "2021-10-06T08:22:38.010165Z",
     "iopub.status.busy": "2021-10-06T08:22:38.008491Z",
     "iopub.status.idle": "2021-10-06T08:22:38.017152Z",
     "shell.execute_reply": "2021-10-06T08:22:38.017694Z",
     "shell.execute_reply.started": "2021-10-06T08:20:03.137074Z"
    },
    "papermill": {
     "duration": 0.031462,
     "end_time": "2021-10-06T08:22:38.017867",
     "exception": false,
     "start_time": "2021-10-06T08:22:37.986405",
     "status": "completed"
    },
    "tags": []
   },
   "outputs": [
    {
     "data": {
      "text/plain": [
       "ID                            0\n",
       "LIMIT_BAL                     0\n",
       "SEX                           0\n",
       "EDUCATION                     0\n",
       "MARRIAGE                      0\n",
       "AGE                           0\n",
       "PAY_0                         0\n",
       "PAY_2                         0\n",
       "PAY_3                         0\n",
       "PAY_4                         0\n",
       "PAY_5                         0\n",
       "PAY_6                         0\n",
       "BILL_AMT1                     0\n",
       "BILL_AMT2                     0\n",
       "BILL_AMT3                     0\n",
       "BILL_AMT4                     0\n",
       "BILL_AMT5                     0\n",
       "BILL_AMT6                     0\n",
       "PAY_AMT1                      0\n",
       "PAY_AMT2                      0\n",
       "PAY_AMT3                      0\n",
       "PAY_AMT4                      0\n",
       "PAY_AMT5                      0\n",
       "PAY_AMT6                      0\n",
       "default.payment.next.month    0\n",
       "dtype: int64"
      ]
     },
     "execution_count": 5,
     "metadata": {},
     "output_type": "execute_result"
    }
   ],
   "source": [
    "df.isnull().sum()"
   ]
  },
  {
   "cell_type": "code",
   "execution_count": 6,
   "id": "f3349828",
   "metadata": {
    "execution": {
     "iopub.execute_input": "2021-10-06T08:22:38.056371Z",
     "iopub.status.busy": "2021-10-06T08:22:38.055449Z",
     "iopub.status.idle": "2021-10-06T08:22:38.061959Z",
     "shell.execute_reply": "2021-10-06T08:22:38.062464Z",
     "shell.execute_reply.started": "2021-10-06T08:20:03.156615Z"
    },
    "papermill": {
     "duration": 0.026962,
     "end_time": "2021-10-06T08:22:38.062633",
     "exception": false,
     "start_time": "2021-10-06T08:22:38.035671",
     "status": "completed"
    },
    "tags": []
   },
   "outputs": [
    {
     "data": {
      "text/plain": [
       "ID                              int64\n",
       "LIMIT_BAL                     float64\n",
       "SEX                             int64\n",
       "EDUCATION                       int64\n",
       "MARRIAGE                        int64\n",
       "AGE                             int64\n",
       "PAY_0                           int64\n",
       "PAY_2                           int64\n",
       "PAY_3                           int64\n",
       "PAY_4                           int64\n",
       "PAY_5                           int64\n",
       "PAY_6                           int64\n",
       "BILL_AMT1                     float64\n",
       "BILL_AMT2                     float64\n",
       "BILL_AMT3                     float64\n",
       "BILL_AMT4                     float64\n",
       "BILL_AMT5                     float64\n",
       "BILL_AMT6                     float64\n",
       "PAY_AMT1                      float64\n",
       "PAY_AMT2                      float64\n",
       "PAY_AMT3                      float64\n",
       "PAY_AMT4                      float64\n",
       "PAY_AMT5                      float64\n",
       "PAY_AMT6                      float64\n",
       "default.payment.next.month      int64\n",
       "dtype: object"
      ]
     },
     "execution_count": 6,
     "metadata": {},
     "output_type": "execute_result"
    }
   ],
   "source": [
    "df.dtypes"
   ]
  },
  {
   "cell_type": "raw",
   "id": "fca2dce4",
   "metadata": {
    "papermill": {
     "duration": 0.017195,
     "end_time": "2021-10-06T08:22:38.097461",
     "exception": false,
     "start_time": "2021-10-06T08:22:38.080266",
     "status": "completed"
    },
    "tags": []
   },
   "source": [
    "All the columns are integers type, so we don't need to do any label encoding "
   ]
  },
  {
   "cell_type": "code",
   "execution_count": 7,
   "id": "02f0a8a6",
   "metadata": {
    "execution": {
     "iopub.execute_input": "2021-10-06T08:22:38.141577Z",
     "iopub.status.busy": "2021-10-06T08:22:38.135615Z",
     "iopub.status.idle": "2021-10-06T08:22:38.144592Z",
     "shell.execute_reply": "2021-10-06T08:22:38.145053Z",
     "shell.execute_reply.started": "2021-10-06T08:20:03.169837Z"
    },
    "papermill": {
     "duration": 0.030274,
     "end_time": "2021-10-06T08:22:38.145242",
     "exception": false,
     "start_time": "2021-10-06T08:22:38.114968",
     "status": "completed"
    },
    "tags": []
   },
   "outputs": [],
   "source": [
    "# lets rename the last column which is our target column\n",
    "df['target']= df['default.payment.next.month']"
   ]
  },
  {
   "cell_type": "code",
   "execution_count": 8,
   "id": "670d7aca",
   "metadata": {
    "execution": {
     "iopub.execute_input": "2021-10-06T08:22:38.187161Z",
     "iopub.status.busy": "2021-10-06T08:22:38.184349Z",
     "iopub.status.idle": "2021-10-06T08:22:38.194565Z",
     "shell.execute_reply": "2021-10-06T08:22:38.194065Z",
     "shell.execute_reply.started": "2021-10-06T08:20:03.181392Z"
    },
    "papermill": {
     "duration": 0.030704,
     "end_time": "2021-10-06T08:22:38.194698",
     "exception": false,
     "start_time": "2021-10-06T08:22:38.163994",
     "status": "completed"
    },
    "tags": []
   },
   "outputs": [],
   "source": [
    "# selecting dependent and independent variable\n",
    "X=df.drop(['ID','default.payment.next.month'],axis=1)\n",
    "y=df['default.payment.next.month']"
   ]
  },
  {
   "cell_type": "code",
   "execution_count": 9,
   "id": "8f4ffd5b",
   "metadata": {
    "execution": {
     "iopub.execute_input": "2021-10-06T08:22:38.252378Z",
     "iopub.status.busy": "2021-10-06T08:22:38.241919Z",
     "iopub.status.idle": "2021-10-06T08:22:38.260717Z",
     "shell.execute_reply": "2021-10-06T08:22:38.260173Z",
     "shell.execute_reply.started": "2021-10-06T08:20:03.201731Z"
    },
    "papermill": {
     "duration": 0.048458,
     "end_time": "2021-10-06T08:22:38.260865",
     "exception": false,
     "start_time": "2021-10-06T08:22:38.212407",
     "status": "completed"
    },
    "tags": []
   },
   "outputs": [
    {
     "data": {
      "text/html": [
       "<div>\n",
       "<style scoped>\n",
       "    .dataframe tbody tr th:only-of-type {\n",
       "        vertical-align: middle;\n",
       "    }\n",
       "\n",
       "    .dataframe tbody tr th {\n",
       "        vertical-align: top;\n",
       "    }\n",
       "\n",
       "    .dataframe thead th {\n",
       "        text-align: right;\n",
       "    }\n",
       "</style>\n",
       "<table border=\"1\" class=\"dataframe\">\n",
       "  <thead>\n",
       "    <tr style=\"text-align: right;\">\n",
       "      <th></th>\n",
       "      <th>LIMIT_BAL</th>\n",
       "      <th>SEX</th>\n",
       "      <th>EDUCATION</th>\n",
       "      <th>MARRIAGE</th>\n",
       "      <th>AGE</th>\n",
       "      <th>PAY_0</th>\n",
       "      <th>PAY_2</th>\n",
       "      <th>PAY_3</th>\n",
       "      <th>PAY_4</th>\n",
       "      <th>PAY_5</th>\n",
       "      <th>...</th>\n",
       "      <th>BILL_AMT4</th>\n",
       "      <th>BILL_AMT5</th>\n",
       "      <th>BILL_AMT6</th>\n",
       "      <th>PAY_AMT1</th>\n",
       "      <th>PAY_AMT2</th>\n",
       "      <th>PAY_AMT3</th>\n",
       "      <th>PAY_AMT4</th>\n",
       "      <th>PAY_AMT5</th>\n",
       "      <th>PAY_AMT6</th>\n",
       "      <th>target</th>\n",
       "    </tr>\n",
       "  </thead>\n",
       "  <tbody>\n",
       "    <tr>\n",
       "      <th>0</th>\n",
       "      <td>20000.0</td>\n",
       "      <td>2</td>\n",
       "      <td>2</td>\n",
       "      <td>1</td>\n",
       "      <td>24</td>\n",
       "      <td>2</td>\n",
       "      <td>2</td>\n",
       "      <td>-1</td>\n",
       "      <td>-1</td>\n",
       "      <td>-2</td>\n",
       "      <td>...</td>\n",
       "      <td>0.0</td>\n",
       "      <td>0.0</td>\n",
       "      <td>0.0</td>\n",
       "      <td>0.0</td>\n",
       "      <td>689.0</td>\n",
       "      <td>0.0</td>\n",
       "      <td>0.0</td>\n",
       "      <td>0.0</td>\n",
       "      <td>0.0</td>\n",
       "      <td>1</td>\n",
       "    </tr>\n",
       "    <tr>\n",
       "      <th>1</th>\n",
       "      <td>120000.0</td>\n",
       "      <td>2</td>\n",
       "      <td>2</td>\n",
       "      <td>2</td>\n",
       "      <td>26</td>\n",
       "      <td>-1</td>\n",
       "      <td>2</td>\n",
       "      <td>0</td>\n",
       "      <td>0</td>\n",
       "      <td>0</td>\n",
       "      <td>...</td>\n",
       "      <td>3272.0</td>\n",
       "      <td>3455.0</td>\n",
       "      <td>3261.0</td>\n",
       "      <td>0.0</td>\n",
       "      <td>1000.0</td>\n",
       "      <td>1000.0</td>\n",
       "      <td>1000.0</td>\n",
       "      <td>0.0</td>\n",
       "      <td>2000.0</td>\n",
       "      <td>1</td>\n",
       "    </tr>\n",
       "    <tr>\n",
       "      <th>2</th>\n",
       "      <td>90000.0</td>\n",
       "      <td>2</td>\n",
       "      <td>2</td>\n",
       "      <td>2</td>\n",
       "      <td>34</td>\n",
       "      <td>0</td>\n",
       "      <td>0</td>\n",
       "      <td>0</td>\n",
       "      <td>0</td>\n",
       "      <td>0</td>\n",
       "      <td>...</td>\n",
       "      <td>14331.0</td>\n",
       "      <td>14948.0</td>\n",
       "      <td>15549.0</td>\n",
       "      <td>1518.0</td>\n",
       "      <td>1500.0</td>\n",
       "      <td>1000.0</td>\n",
       "      <td>1000.0</td>\n",
       "      <td>1000.0</td>\n",
       "      <td>5000.0</td>\n",
       "      <td>0</td>\n",
       "    </tr>\n",
       "    <tr>\n",
       "      <th>3</th>\n",
       "      <td>50000.0</td>\n",
       "      <td>2</td>\n",
       "      <td>2</td>\n",
       "      <td>1</td>\n",
       "      <td>37</td>\n",
       "      <td>0</td>\n",
       "      <td>0</td>\n",
       "      <td>0</td>\n",
       "      <td>0</td>\n",
       "      <td>0</td>\n",
       "      <td>...</td>\n",
       "      <td>28314.0</td>\n",
       "      <td>28959.0</td>\n",
       "      <td>29547.0</td>\n",
       "      <td>2000.0</td>\n",
       "      <td>2019.0</td>\n",
       "      <td>1200.0</td>\n",
       "      <td>1100.0</td>\n",
       "      <td>1069.0</td>\n",
       "      <td>1000.0</td>\n",
       "      <td>0</td>\n",
       "    </tr>\n",
       "    <tr>\n",
       "      <th>4</th>\n",
       "      <td>50000.0</td>\n",
       "      <td>1</td>\n",
       "      <td>2</td>\n",
       "      <td>1</td>\n",
       "      <td>57</td>\n",
       "      <td>-1</td>\n",
       "      <td>0</td>\n",
       "      <td>-1</td>\n",
       "      <td>0</td>\n",
       "      <td>0</td>\n",
       "      <td>...</td>\n",
       "      <td>20940.0</td>\n",
       "      <td>19146.0</td>\n",
       "      <td>19131.0</td>\n",
       "      <td>2000.0</td>\n",
       "      <td>36681.0</td>\n",
       "      <td>10000.0</td>\n",
       "      <td>9000.0</td>\n",
       "      <td>689.0</td>\n",
       "      <td>679.0</td>\n",
       "      <td>0</td>\n",
       "    </tr>\n",
       "  </tbody>\n",
       "</table>\n",
       "<p>5 rows × 24 columns</p>\n",
       "</div>"
      ],
      "text/plain": [
       "   LIMIT_BAL  SEX  EDUCATION  MARRIAGE  AGE  PAY_0  PAY_2  PAY_3  PAY_4  \\\n",
       "0    20000.0    2          2         1   24      2      2     -1     -1   \n",
       "1   120000.0    2          2         2   26     -1      2      0      0   \n",
       "2    90000.0    2          2         2   34      0      0      0      0   \n",
       "3    50000.0    2          2         1   37      0      0      0      0   \n",
       "4    50000.0    1          2         1   57     -1      0     -1      0   \n",
       "\n",
       "   PAY_5  ...  BILL_AMT4  BILL_AMT5  BILL_AMT6  PAY_AMT1  PAY_AMT2  PAY_AMT3  \\\n",
       "0     -2  ...        0.0        0.0        0.0       0.0     689.0       0.0   \n",
       "1      0  ...     3272.0     3455.0     3261.0       0.0    1000.0    1000.0   \n",
       "2      0  ...    14331.0    14948.0    15549.0    1518.0    1500.0    1000.0   \n",
       "3      0  ...    28314.0    28959.0    29547.0    2000.0    2019.0    1200.0   \n",
       "4      0  ...    20940.0    19146.0    19131.0    2000.0   36681.0   10000.0   \n",
       "\n",
       "   PAY_AMT4  PAY_AMT5  PAY_AMT6  target  \n",
       "0       0.0       0.0       0.0       1  \n",
       "1    1000.0       0.0    2000.0       1  \n",
       "2    1000.0    1000.0    5000.0       0  \n",
       "3    1100.0    1069.0    1000.0       0  \n",
       "4    9000.0     689.0     679.0       0  \n",
       "\n",
       "[5 rows x 24 columns]"
      ]
     },
     "execution_count": 9,
     "metadata": {},
     "output_type": "execute_result"
    }
   ],
   "source": [
    "X[0:5]"
   ]
  },
  {
   "cell_type": "code",
   "execution_count": 10,
   "id": "febeed1a",
   "metadata": {
    "execution": {
     "iopub.execute_input": "2021-10-06T08:22:38.312666Z",
     "iopub.status.busy": "2021-10-06T08:22:38.311942Z",
     "iopub.status.idle": "2021-10-06T08:22:39.302789Z",
     "shell.execute_reply": "2021-10-06T08:22:39.302259Z",
     "shell.execute_reply.started": "2021-10-06T08:20:03.233142Z"
    },
    "papermill": {
     "duration": 1.018379,
     "end_time": "2021-10-06T08:22:39.302945",
     "exception": false,
     "start_time": "2021-10-06T08:22:38.284566",
     "status": "completed"
    },
    "tags": []
   },
   "outputs": [],
   "source": [
    "from sklearn.model_selection import train_test_split\n",
    "X_train,X_test,y_train,y_test=train_test_split(X,y,test_size=0.25,random_state=1)"
   ]
  },
  {
   "cell_type": "code",
   "execution_count": 11,
   "id": "9bac9e3c",
   "metadata": {
    "execution": {
     "iopub.execute_input": "2021-10-06T08:22:39.344445Z",
     "iopub.status.busy": "2021-10-06T08:22:39.343806Z",
     "iopub.status.idle": "2021-10-06T08:22:41.852307Z",
     "shell.execute_reply": "2021-10-06T08:22:41.852787Z",
     "shell.execute_reply.started": "2021-10-06T08:20:03.603776Z"
    },
    "papermill": {
     "duration": 2.53177,
     "end_time": "2021-10-06T08:22:41.852966",
     "exception": false,
     "start_time": "2021-10-06T08:22:39.321196",
     "status": "completed"
    },
    "tags": []
   },
   "outputs": [],
   "source": [
    "from sklearn.ensemble import RandomForestClassifier\n",
    "rfc_model=RandomForestClassifier()\n",
    "rfc_model.fit(X_train,y_train)\n",
    "y_pred_rfc=rfc_model.predict(X_test)"
   ]
  },
  {
   "cell_type": "code",
   "execution_count": 12,
   "id": "dfab2790",
   "metadata": {
    "execution": {
     "iopub.execute_input": "2021-10-06T08:22:41.895499Z",
     "iopub.status.busy": "2021-10-06T08:22:41.894828Z",
     "iopub.status.idle": "2021-10-06T08:22:41.898951Z",
     "shell.execute_reply": "2021-10-06T08:22:41.899403Z",
     "shell.execute_reply.started": "2021-10-06T08:20:06.110445Z"
    },
    "papermill": {
     "duration": 0.02762,
     "end_time": "2021-10-06T08:22:41.899579",
     "exception": false,
     "start_time": "2021-10-06T08:22:41.871959",
     "status": "completed"
    },
    "tags": []
   },
   "outputs": [
    {
     "data": {
      "text/plain": [
       "1.0"
      ]
     },
     "execution_count": 12,
     "metadata": {},
     "output_type": "execute_result"
    }
   ],
   "source": [
    "from sklearn.metrics import accuracy_score,confusion_matrix\n",
    "rfc_score=accuracy_score(y_test,y_pred_rfc)\n",
    "rfc_score"
   ]
  },
  {
   "cell_type": "code",
   "execution_count": 13,
   "id": "a0126eba",
   "metadata": {
    "execution": {
     "iopub.execute_input": "2021-10-06T08:22:41.941227Z",
     "iopub.status.busy": "2021-10-06T08:22:41.940578Z",
     "iopub.status.idle": "2021-10-06T08:22:41.990597Z",
     "shell.execute_reply": "2021-10-06T08:22:41.991103Z",
     "shell.execute_reply.started": "2021-10-06T08:20:06.121595Z"
    },
    "papermill": {
     "duration": 0.07207,
     "end_time": "2021-10-06T08:22:41.991274",
     "exception": false,
     "start_time": "2021-10-06T08:22:41.919204",
     "status": "completed"
    },
    "tags": []
   },
   "outputs": [
    {
     "data": {
      "text/plain": [
       "1.0"
      ]
     },
     "execution_count": 13,
     "metadata": {},
     "output_type": "execute_result"
    }
   ],
   "source": [
    "from sklearn.tree import DecisionTreeClassifier\n",
    "dt_model=DecisionTreeClassifier()\n",
    "dt_model.fit(X_train,y_train)\n",
    "y_pred_dt=dt_model.predict(X_test)\n",
    "dt_score=accuracy_score(y_test,y_pred_dt)\n",
    "dt_score"
   ]
  },
  {
   "cell_type": "code",
   "execution_count": 14,
   "id": "ce70ddbe",
   "metadata": {
    "execution": {
     "iopub.execute_input": "2021-10-06T08:22:42.032715Z",
     "iopub.status.busy": "2021-10-06T08:22:42.032117Z",
     "iopub.status.idle": "2021-10-06T08:23:11.816981Z",
     "shell.execute_reply": "2021-10-06T08:23:11.816487Z",
     "shell.execute_reply.started": "2021-10-06T08:20:06.174013Z"
    },
    "papermill": {
     "duration": 29.806837,
     "end_time": "2021-10-06T08:23:11.817140",
     "exception": false,
     "start_time": "2021-10-06T08:22:42.010303",
     "status": "completed"
    },
    "tags": []
   },
   "outputs": [
    {
     "data": {
      "text/plain": [
       "0.7776"
      ]
     },
     "execution_count": 14,
     "metadata": {},
     "output_type": "execute_result"
    }
   ],
   "source": [
    "from sklearn.svm import SVC\n",
    "svm_model=SVC()\n",
    "svm_model.fit(X_train,y_train)\n",
    "y_pred_svm=svm_model.predict(X_test)\n",
    "svm_score=accuracy_score(y_test,y_pred_svm)\n",
    "svm_score"
   ]
  },
  {
   "cell_type": "code",
   "execution_count": 15,
   "id": "d3c9867a",
   "metadata": {
    "execution": {
     "iopub.execute_input": "2021-10-06T08:23:11.859867Z",
     "iopub.status.busy": "2021-10-06T08:23:11.859241Z",
     "iopub.status.idle": "2021-10-06T08:23:11.862496Z",
     "shell.execute_reply": "2021-10-06T08:23:11.863018Z",
     "shell.execute_reply.started": "2021-10-06T08:20:35.883291Z"
    },
    "papermill": {
     "duration": 0.026687,
     "end_time": "2021-10-06T08:23:11.863190",
     "exception": false,
     "start_time": "2021-10-06T08:23:11.836503",
     "status": "completed"
    },
    "tags": []
   },
   "outputs": [],
   "source": [
    "models=['Random Forest','Decision Tree','SVM']\n",
    "scores=[rfc_score,dt_score,svm_score]"
   ]
  },
  {
   "cell_type": "code",
   "execution_count": 16,
   "id": "3d77f4aa",
   "metadata": {
    "execution": {
     "iopub.execute_input": "2021-10-06T08:23:11.905379Z",
     "iopub.status.busy": "2021-10-06T08:23:11.904723Z",
     "iopub.status.idle": "2021-10-06T08:23:11.909444Z",
     "shell.execute_reply": "2021-10-06T08:23:11.910067Z",
     "shell.execute_reply.started": "2021-10-06T08:20:35.889715Z"
    },
    "papermill": {
     "duration": 0.02769,
     "end_time": "2021-10-06T08:23:11.910247",
     "exception": false,
     "start_time": "2021-10-06T08:23:11.882557",
     "status": "completed"
    },
    "tags": []
   },
   "outputs": [
    {
     "data": {
      "text/plain": [
       "{'models': ['Random Forest', 'Decision Tree', 'SVM'],\n",
       " 'scores': [1.0, 1.0, 0.7776]}"
      ]
     },
     "execution_count": 16,
     "metadata": {},
     "output_type": "execute_result"
    }
   ],
   "source": [
    "# making a dictionary of all models and scores\n",
    "model_scores= {'models':models,'scores':scores}\n",
    "model_scores"
   ]
  },
  {
   "cell_type": "code",
   "execution_count": 17,
   "id": "6b881b47",
   "metadata": {
    "execution": {
     "iopub.execute_input": "2021-10-06T08:23:11.959621Z",
     "iopub.status.busy": "2021-10-06T08:23:11.958655Z",
     "iopub.status.idle": "2021-10-06T08:23:11.962493Z",
     "shell.execute_reply": "2021-10-06T08:23:11.962919Z",
     "shell.execute_reply.started": "2021-10-06T08:20:35.905972Z"
    },
    "papermill": {
     "duration": 0.033171,
     "end_time": "2021-10-06T08:23:11.963101",
     "exception": false,
     "start_time": "2021-10-06T08:23:11.929930",
     "status": "completed"
    },
    "tags": []
   },
   "outputs": [
    {
     "data": {
      "text/html": [
       "<div>\n",
       "<style scoped>\n",
       "    .dataframe tbody tr th:only-of-type {\n",
       "        vertical-align: middle;\n",
       "    }\n",
       "\n",
       "    .dataframe tbody tr th {\n",
       "        vertical-align: top;\n",
       "    }\n",
       "\n",
       "    .dataframe thead th {\n",
       "        text-align: right;\n",
       "    }\n",
       "</style>\n",
       "<table border=\"1\" class=\"dataframe\">\n",
       "  <thead>\n",
       "    <tr style=\"text-align: right;\">\n",
       "      <th></th>\n",
       "      <th>models</th>\n",
       "      <th>scores</th>\n",
       "    </tr>\n",
       "  </thead>\n",
       "  <tbody>\n",
       "    <tr>\n",
       "      <th>0</th>\n",
       "      <td>Random Forest</td>\n",
       "      <td>1.0000</td>\n",
       "    </tr>\n",
       "    <tr>\n",
       "      <th>1</th>\n",
       "      <td>Decision Tree</td>\n",
       "      <td>1.0000</td>\n",
       "    </tr>\n",
       "    <tr>\n",
       "      <th>2</th>\n",
       "      <td>SVM</td>\n",
       "      <td>0.7776</td>\n",
       "    </tr>\n",
       "  </tbody>\n",
       "</table>\n",
       "</div>"
      ],
      "text/plain": [
       "          models  scores\n",
       "0  Random Forest  1.0000\n",
       "1  Decision Tree  1.0000\n",
       "2            SVM  0.7776"
      ]
     },
     "execution_count": 17,
     "metadata": {},
     "output_type": "execute_result"
    }
   ],
   "source": [
    "# converting the dictionary into a dataframe\n",
    "score_df=pd.DataFrame(model_scores)\n",
    "score_df"
   ]
  },
  {
   "cell_type": "code",
   "execution_count": null,
   "id": "985e798a",
   "metadata": {
    "papermill": {
     "duration": 0.01991,
     "end_time": "2021-10-06T08:23:12.003629",
     "exception": false,
     "start_time": "2021-10-06T08:23:11.983719",
     "status": "completed"
    },
    "tags": []
   },
   "outputs": [],
   "source": []
  }
 ],
 "metadata": {
  "kernelspec": {
   "display_name": "Python 3 (ipykernel)",
   "language": "python",
   "name": "python3"
  },
  "language_info": {
   "codemirror_mode": {
    "name": "ipython",
    "version": 3
   },
   "file_extension": ".py",
   "mimetype": "text/x-python",
   "name": "python",
   "nbconvert_exporter": "python",
   "pygments_lexer": "ipython3",
   "version": "3.9.16"
  },
  "papermill": {
   "default_parameters": {},
   "duration": 43.773374,
   "end_time": "2021-10-06T08:23:13.286514",
   "environment_variables": {},
   "exception": null,
   "input_path": "__notebook__.ipynb",
   "output_path": "__notebook__.ipynb",
   "parameters": {},
   "start_time": "2021-10-06T08:22:29.513140",
   "version": "2.3.3"
  }
 },
 "nbformat": 4,
 "nbformat_minor": 5
}

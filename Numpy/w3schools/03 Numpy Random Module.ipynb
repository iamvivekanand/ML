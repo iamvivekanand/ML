{
 "cells": [
  {
   "cell_type": "raw",
   "id": "ee1118a8",
   "metadata": {},
   "source": [
    "-random doesnt mean a random number everytime, but a no that can't be predicted\n",
    "\n",
    "Computers work on programs, and programs are definitive set of instructions. So it means there must be some algorithm to generate a random number as well.\n",
    "If there is a program to generate random number it can be predicted, thus it is not truly random."
   ]
  },
  {
   "cell_type": "raw",
   "id": "325e19c9",
   "metadata": {},
   "source": [
    "Random numbers generated through a generation algorithm are called pseudo random"
   ]
  },
  {
   "cell_type": "code",
   "execution_count": 1,
   "id": "e138e6ca",
   "metadata": {},
   "outputs": [],
   "source": [
    "# Can we make truly random numbers?"
   ]
  },
  {
   "cell_type": "raw",
   "id": "71c24a9f",
   "metadata": {},
   "source": [
    "Yes. In order to generate a truly random number on our computers we need to get the random data from some outside source. This outside source is generally our keystrokes, mouse movements, data on network etc.\n",
    "\n",
    "We do not need truly random numbers, unless its related to security (e.g. encryption keys) or the basis of application is the randomness (e.g. Digital roulette wheels)"
   ]
  },
  {
   "cell_type": "code",
   "execution_count": 8,
   "id": "02957fbf",
   "metadata": {},
   "outputs": [],
   "source": [
    "from numpy import random"
   ]
  },
  {
   "cell_type": "code",
   "execution_count": 9,
   "id": "e62f0169",
   "metadata": {},
   "outputs": [],
   "source": [
    "import numpy as np"
   ]
  },
  {
   "cell_type": "code",
   "execution_count": 10,
   "id": "0fa5e9f3",
   "metadata": {},
   "outputs": [
    {
     "data": {
      "text/plain": [
       "0.1811554237313524"
      ]
     },
     "execution_count": 10,
     "metadata": {},
     "output_type": "execute_result"
    }
   ],
   "source": [
    "# return a random float betwen 0 and 1\n",
    "random.random()"
   ]
  },
  {
   "cell_type": "code",
   "execution_count": 11,
   "id": "a73637e8",
   "metadata": {},
   "outputs": [
    {
     "data": {
      "text/plain": [
       "0.07654703839621013"
      ]
     },
     "execution_count": 11,
     "metadata": {},
     "output_type": "execute_result"
    }
   ],
   "source": [
    "# or\n",
    "random.rand()"
   ]
  },
  {
   "cell_type": "code",
   "execution_count": 12,
   "id": "1319e780",
   "metadata": {},
   "outputs": [
    {
     "data": {
      "text/plain": [
       "array([[0.24705949, 0.27853174],\n",
       "       [0.04889144, 0.68110012],\n",
       "       [0.10951588, 0.77037006]])"
      ]
     },
     "execution_count": 12,
     "metadata": {},
     "output_type": "execute_result"
    }
   ],
   "source": [
    "random.rand(3,2)"
   ]
  },
  {
   "cell_type": "code",
   "execution_count": 13,
   "id": "973b7b3a",
   "metadata": {},
   "outputs": [
    {
     "data": {
      "text/plain": [
       "array([0.76216297, 0.69674853])"
      ]
     },
     "execution_count": 13,
     "metadata": {},
     "output_type": "execute_result"
    }
   ],
   "source": [
    "random.rand(2)"
   ]
  },
  {
   "cell_type": "code",
   "execution_count": 14,
   "id": "7d9392fd",
   "metadata": {},
   "outputs": [
    {
     "data": {
      "text/plain": [
       "126"
      ]
     },
     "execution_count": 14,
     "metadata": {},
     "output_type": "execute_result"
    }
   ],
   "source": [
    "# return a random integer between 100 and 150\n",
    "random.randint(100,150)"
   ]
  },
  {
   "cell_type": "code",
   "execution_count": 16,
   "id": "547a4009",
   "metadata": {},
   "outputs": [
    {
     "data": {
      "text/plain": [
       "0"
      ]
     },
     "execution_count": 16,
     "metadata": {},
     "output_type": "execute_result"
    }
   ],
   "source": [
    "random.randint(1)\n",
    "# randint(low, high=None, size=None, dtype=int), low =inclusive, high=exclusive"
   ]
  },
  {
   "cell_type": "code",
   "execution_count": 12,
   "id": "89260cfc",
   "metadata": {},
   "outputs": [
    {
     "data": {
      "text/plain": [
       "array([65, 94, 83, 72, 82])"
      ]
     },
     "execution_count": 12,
     "metadata": {},
     "output_type": "execute_result"
    }
   ],
   "source": [
    "# Generate a 1-D array containing 5 random integers from 50 to 100:\n",
    "random.randint(50,100,size=(5))"
   ]
  },
  {
   "cell_type": "code",
   "execution_count": 13,
   "id": "b4a2aed6",
   "metadata": {},
   "outputs": [
    {
     "data": {
      "text/plain": [
       "array([8, 6, 0, 4, 1])"
      ]
     },
     "execution_count": 13,
     "metadata": {},
     "output_type": "execute_result"
    }
   ],
   "source": [
    "# Generate a 1-D array containing 5 random integers from 0 to 10:\n",
    "random.randint(0,10,size=(5))"
   ]
  },
  {
   "cell_type": "code",
   "execution_count": 15,
   "id": "6fd87a86",
   "metadata": {},
   "outputs": [
    {
     "data": {
      "text/plain": [
       "array([[3, 0, 1, 2, 5],\n",
       "       [7, 4, 3, 7, 3],\n",
       "       [4, 7, 8, 6, 9]])"
      ]
     },
     "execution_count": 15,
     "metadata": {},
     "output_type": "execute_result"
    }
   ],
   "source": [
    "# Generate a 2-D array with 3 rows, each row containing 5 random integers from 0 to 10:\n",
    "\n",
    "random.randint(0,10, size=(3,5))"
   ]
  },
  {
   "cell_type": "code",
   "execution_count": 16,
   "id": "b90f1ecf",
   "metadata": {},
   "outputs": [
    {
     "data": {
      "text/plain": [
       "array([0.76802068, 0.06106306, 0.61090362, 0.58779064, 0.40912305])"
      ]
     },
     "execution_count": 16,
     "metadata": {},
     "output_type": "execute_result"
    }
   ],
   "source": [
    "# Generate a 1-D array containing 5 random floats:\n",
    "\n",
    "random.rand(5)"
   ]
  },
  {
   "cell_type": "code",
   "execution_count": 17,
   "id": "438086c3",
   "metadata": {},
   "outputs": [
    {
     "data": {
      "text/plain": [
       "array([[0.85046689, 0.7828001 , 0.08062988, 0.1047319 , 0.09915359],\n",
       "       [0.26658765, 0.95625296, 0.80341997, 0.85934329, 0.35705981],\n",
       "       [0.27020953, 0.58772232, 0.87861002, 0.0545865 , 0.54076601]])"
      ]
     },
     "execution_count": 17,
     "metadata": {},
     "output_type": "execute_result"
    }
   ],
   "source": [
    "random.rand(3,5)"
   ]
  },
  {
   "cell_type": "code",
   "execution_count": 18,
   "id": "4ed9041c",
   "metadata": {},
   "outputs": [
    {
     "data": {
      "text/plain": [
       "array([[0.97185184, 0.73412879, 0.81619496],\n",
       "       [0.79718524, 0.83847501, 0.82056147]])"
      ]
     },
     "execution_count": 18,
     "metadata": {},
     "output_type": "execute_result"
    }
   ],
   "source": [
    "random.rand(2,3)"
   ]
  },
  {
   "cell_type": "code",
   "execution_count": 19,
   "id": "0aa03f5c",
   "metadata": {},
   "outputs": [
    {
     "data": {
      "text/plain": [
       "4"
      ]
     },
     "execution_count": 19,
     "metadata": {},
     "output_type": "execute_result"
    }
   ],
   "source": [
    "# Generate Random Number From Array\n",
    "# Return one of the values in an array:\n",
    "\n",
    "random.choice((1,2,3,4,5))"
   ]
  },
  {
   "cell_type": "code",
   "execution_count": 20,
   "id": "c88b21db",
   "metadata": {},
   "outputs": [
    {
     "data": {
      "text/plain": [
       "1"
      ]
     },
     "execution_count": 20,
     "metadata": {},
     "output_type": "execute_result"
    }
   ],
   "source": [
    "random.choice([1,2,3,4,5])"
   ]
  },
  {
   "cell_type": "code",
   "execution_count": 17,
   "id": "227193fe",
   "metadata": {},
   "outputs": [
    {
     "data": {
      "text/plain": [
       "array([[9, 7, 9],\n",
       "       [1, 4, 1]])"
      ]
     },
     "execution_count": 17,
     "metadata": {},
     "output_type": "execute_result"
    }
   ],
   "source": [
    "# Generate a 2-D array that consists of the values in the array parameter (3, 5, 7, and 9):\n",
    "\n",
    "random.choice([1,4,7,9],size=(2,3))"
   ]
  },
  {
   "cell_type": "code",
   "execution_count": 22,
   "id": "02fd10a9",
   "metadata": {},
   "outputs": [],
   "source": [
    "# Random Data Distribution"
   ]
  },
  {
   "cell_type": "code",
   "execution_count": 23,
   "id": "687cc92b",
   "metadata": {},
   "outputs": [],
   "source": [
    "# what is data distribution?"
   ]
  },
  {
   "cell_type": "raw",
   "id": "3d25f4ca",
   "metadata": {},
   "source": [
    "-a list of all possible values, and how often each value occurs.\n",
    "- we can use random module for data distribution"
   ]
  },
  {
   "cell_type": "raw",
   "id": "8569bce3",
   "metadata": {},
   "source": [
    "A random distribution is a set of random numbers that follow a certain probability density function."
   ]
  },
  {
   "cell_type": "raw",
   "id": "8142a546",
   "metadata": {},
   "source": [
    "Probability Density Function: \n",
    "A function that describes a continuous probability for some set of values. i.e. probability of all values in an array.\n",
    "-using random module we can generate number based on probabilities "
   ]
  },
  {
   "cell_type": "code",
   "execution_count": 25,
   "id": "af4ce912",
   "metadata": {},
   "outputs": [
    {
     "data": {
      "text/plain": [
       "array([7, 7, 7, 7, 9, 9, 7, 9, 3, 9, 5, 3, 9, 9, 3, 3, 9, 9, 3, 3, 9, 7,\n",
       "       3, 7, 3, 5, 3, 3, 3, 7, 3, 7, 5, 9, 9, 9, 3, 7, 9, 9, 5, 3, 9, 9,\n",
       "       9, 5, 9, 3, 3, 9, 7, 9, 7, 9, 9, 3, 3, 7, 3, 7, 7, 9, 3, 9, 5, 7,\n",
       "       9, 3, 7, 9, 3, 9, 9, 7, 9, 9, 3, 3, 9, 7, 5, 9, 3, 7, 3, 7, 7, 7,\n",
       "       9, 3, 3, 9, 7, 3, 3, 9, 3, 9, 9, 3])"
      ]
     },
     "execution_count": 25,
     "metadata": {},
     "output_type": "execute_result"
    }
   ],
   "source": [
    "# Generate a 1-D array of 100 values, where each value has to be 3, 5, 7 or 9.. define probability for each of these values\n",
    "\n",
    "import numpy as np\n",
    "np.random.choice([3,5,7,9],p=[0.3,0.1,0.2,0.4],size=(100))"
   ]
  },
  {
   "cell_type": "code",
   "execution_count": 28,
   "id": "cca553b6",
   "metadata": {},
   "outputs": [
    {
     "data": {
      "text/plain": [
       "array([5, 9, 9, 3, 9, 3, 9, 9, 9, 9])"
      ]
     },
     "execution_count": 28,
     "metadata": {},
     "output_type": "execute_result"
    }
   ],
   "source": [
    "# U can better understand the rol of probabilities with some numbers\n",
    "# The sum of all probability numbers should be 1.\n",
    "\n",
    "import numpy as np\n",
    "np.random.choice([3,5,7,9],p=[0.3,0.1,0.2,0.4],size=(10))\n",
    "# again numbers created are random numbers, so assigning probabilities doesnt mean that no will be generated in fixed amount"
   ]
  },
  {
   "cell_type": "code",
   "execution_count": 29,
   "id": "171080f3",
   "metadata": {},
   "outputs": [
    {
     "name": "stdout",
     "output_type": "stream",
     "text": [
      "[[5 7 7 5 3]\n",
      " [7 5 5 5 7]\n",
      " [5 7 7 7 7]]\n"
     ]
    }
   ],
   "source": [
    "x = random.choice([3, 5, 7, 9], p=[0.1, 0.3, 0.6, 0.0], size=(3, 5))\n",
    "print(x)"
   ]
  },
  {
   "cell_type": "code",
   "execution_count": 30,
   "id": "e6c13445",
   "metadata": {},
   "outputs": [],
   "source": [
    "# Random Permutations"
   ]
  },
  {
   "cell_type": "raw",
   "id": "ea9610d5",
   "metadata": {},
   "source": [
    "A permutation refers to an arrangement of elements. e.g. [3, 2, 1] is a permutation of [1, 2, 3] and vice-versa.\n",
    "we have: shuffle() and permutation() in numpy for this"
   ]
  },
  {
   "cell_type": "code",
   "execution_count": 19,
   "id": "00a4d9c4",
   "metadata": {},
   "outputs": [
    {
     "data": {
      "text/plain": [
       "array([4, 1, 3, 5, 2])"
      ]
     },
     "execution_count": 19,
     "metadata": {},
     "output_type": "execute_result"
    }
   ],
   "source": [
    "arr=np.array([1,2,3,4,5])\n",
    "np.random.shuffle(arr)\n",
    "# random.shuffle(arr) changes original arr\n",
    "arr"
   ]
  },
  {
   "cell_type": "code",
   "execution_count": 38,
   "id": "701220bd",
   "metadata": {},
   "outputs": [
    {
     "data": {
      "text/plain": [
       "array([1, 2, 3, 4, 5])"
      ]
     },
     "execution_count": 38,
     "metadata": {},
     "output_type": "execute_result"
    }
   ],
   "source": [
    "# permutaion does not changes the original array\n",
    "arr=np.array([1,2,3,4,5])\n",
    "np.random.permutation(arr)\n",
    "arr"
   ]
  },
  {
   "cell_type": "code",
   "execution_count": 39,
   "id": "127ca8d3",
   "metadata": {},
   "outputs": [
    {
     "data": {
      "text/plain": [
       "array([2, 4, 0, 1, 3])"
      ]
     },
     "execution_count": 39,
     "metadata": {},
     "output_type": "execute_result"
    }
   ],
   "source": [
    "# passing just one number inside permutation(), display a list of integers upto that numbers\n",
    "np.random.permutation(5)"
   ]
  },
  {
   "cell_type": "code",
   "execution_count": 42,
   "id": "22747682",
   "metadata": {},
   "outputs": [
    {
     "data": {
      "text/plain": [
       "array([0, 7, 1, 6, 2, 5, 3, 4, 9, 8])"
      ]
     },
     "execution_count": 42,
     "metadata": {},
     "output_type": "execute_result"
    }
   ],
   "source": [
    "# since permutation comes from random module it will change everytime u print it\n",
    "np.random.permutation(10)"
   ]
  },
  {
   "cell_type": "code",
   "execution_count": 44,
   "id": "b607f230",
   "metadata": {},
   "outputs": [
    {
     "data": {
      "text/plain": [
       "array([3, 5, 1, 2, 4])"
      ]
     },
     "execution_count": 44,
     "metadata": {},
     "output_type": "execute_result"
    }
   ],
   "source": [
    "# Shuffle means changing arrangement of elements in-place. i.e. in the array itself.\n",
    "arr=np.array([1,2,3,4,5])\n",
    "random.shuffle(arr)\n",
    "arr"
   ]
  },
  {
   "cell_type": "code",
   "execution_count": 48,
   "id": "49df2a8b",
   "metadata": {},
   "outputs": [
    {
     "ename": "TypeError",
     "evalue": "array() takes from 1 to 2 positional arguments but 3 were given",
     "output_type": "error",
     "traceback": [
      "\u001b[1;31m---------------------------------------------------------------------------\u001b[0m",
      "\u001b[1;31mTypeError\u001b[0m                                 Traceback (most recent call last)",
      "\u001b[1;32m~\\AppData\\Local\\Temp/ipykernel_15596/1356520019.py\u001b[0m in \u001b[0;36m<module>\u001b[1;34m\u001b[0m\n\u001b[1;32m----> 1\u001b[1;33m \u001b[0marr\u001b[0m\u001b[1;33m=\u001b[0m\u001b[0mnp\u001b[0m\u001b[1;33m.\u001b[0m\u001b[0marray\u001b[0m\u001b[1;33m(\u001b[0m\u001b[1;33m[\u001b[0m\u001b[1;36m1\u001b[0m\u001b[1;33m,\u001b[0m\u001b[1;36m2\u001b[0m\u001b[1;33m]\u001b[0m\u001b[1;33m,\u001b[0m\u001b[1;33m[\u001b[0m\u001b[1;34m'baba'\u001b[0m\u001b[1;33m,\u001b[0m\u001b[1;34m'bablu'\u001b[0m\u001b[1;33m]\u001b[0m\u001b[1;33m,\u001b[0m\u001b[1;33m[\u001b[0m\u001b[1;36m3\u001b[0m\u001b[1;33m,\u001b[0m\u001b[1;36m4\u001b[0m\u001b[1;33m]\u001b[0m\u001b[1;33m)\u001b[0m\u001b[1;33m\u001b[0m\u001b[1;33m\u001b[0m\u001b[0m\n\u001b[0m\u001b[0;32m      2\u001b[0m \u001b[0mrandom\u001b[0m\u001b[1;33m.\u001b[0m\u001b[0mshuffle\u001b[0m\u001b[1;33m(\u001b[0m\u001b[0marr\u001b[0m\u001b[1;33m)\u001b[0m\u001b[1;33m\u001b[0m\u001b[1;33m\u001b[0m\u001b[0m\n\u001b[0;32m      3\u001b[0m \u001b[0marr\u001b[0m\u001b[1;33m\u001b[0m\u001b[1;33m\u001b[0m\u001b[0m\n\u001b[0;32m      4\u001b[0m \u001b[1;31m# it gave errors because, each list is separate element and can't be treated as a sequence, we need to enclose it\u001b[0m\u001b[1;33m\u001b[0m\u001b[1;33m\u001b[0m\u001b[0m\n",
      "\u001b[1;31mTypeError\u001b[0m: array() takes from 1 to 2 positional arguments but 3 were given"
     ]
    }
   ],
   "source": [
    "arr=np.array([1,2],['baba','bablu'],[3,4])\n",
    "random.shuffle(arr)\n",
    "arr\n",
    "# it gave errors because, each list is separate element and can't be treated as a sequence, we need to enclose it "
   ]
  },
  {
   "cell_type": "code",
   "execution_count": 49,
   "id": "52bd12c7",
   "metadata": {},
   "outputs": [
    {
     "data": {
      "text/plain": [
       "array([['baba', 'bablu'],\n",
       "       ['1', '2'],\n",
       "       ['3', '4']], dtype='<U11')"
      ]
     },
     "execution_count": 49,
     "metadata": {},
     "output_type": "execute_result"
    }
   ],
   "source": [
    "# here we made it multidimensional and all those list became elements of another list\n",
    "arr=np.array([[1,2],['baba','bablu'],[3,4]])\n",
    "random.shuffle(arr)\n",
    "arr"
   ]
  },
  {
   "cell_type": "code",
   "execution_count": 51,
   "id": "8277e4ea",
   "metadata": {},
   "outputs": [
    {
     "data": {
      "text/plain": [
       "array([1, 2, 3, 4, 5])"
      ]
     },
     "execution_count": 51,
     "metadata": {},
     "output_type": "execute_result"
    }
   ],
   "source": [
    "# permutation does not change the original array\n",
    "arr=np.array([1,2,3,4,5])\n",
    "np.random.permutation(arr)\n",
    "arr"
   ]
  },
  {
   "cell_type": "code",
   "execution_count": 53,
   "id": "ff950b0f",
   "metadata": {},
   "outputs": [
    {
     "data": {
      "text/plain": [
       "array([2, 5, 4, 3, 1])"
      ]
     },
     "execution_count": 53,
     "metadata": {},
     "output_type": "execute_result"
    }
   ],
   "source": [
    "# it returns a new array\n",
    "arr=np.array([1,2,3,4,5])\n",
    "np.random.permutation(arr)"
   ]
  },
  {
   "cell_type": "markdown",
   "id": "5295cd6b",
   "metadata": {},
   "source": [
    "### Normal (Gaussian) Distribution"
   ]
  },
  {
   "cell_type": "raw",
   "id": "5b18a5a3",
   "metadata": {},
   "source": [
    "- also called, normal data distribution, gaussian distributio, \n",
    "- name given after German mathematician Carl Friedrich Gauss\n",
    "- can be created using random.normal(loc,scale,size)"
   ]
  },
  {
   "cell_type": "raw",
   "id": "ad30a606",
   "metadata": {},
   "source": [
    "loc - (Mean) where the peak of the bell exists.\n",
    "scale - (Standard Deviation) how flat the graph distribution should be.\n",
    "size - The shape of the returned array."
   ]
  },
  {
   "cell_type": "code",
   "execution_count": 55,
   "id": "9cd652b9",
   "metadata": {},
   "outputs": [],
   "source": [
    "# Generate a random normal distribution of size 2x3:\n",
    "\n",
    "from numpy import random"
   ]
  },
  {
   "cell_type": "code",
   "execution_count": 58,
   "id": "ec966b9d",
   "metadata": {},
   "outputs": [
    {
     "data": {
      "text/plain": [
       "array([[ 2.03078293e+00, -1.33274289e+00,  1.73064865e-04],\n",
       "       [ 1.76970271e+00, -1.30197550e+00,  4.19118420e-01]])"
      ]
     },
     "execution_count": 58,
     "metadata": {},
     "output_type": "execute_result"
    }
   ],
   "source": [
    "random.normal(size=(2,3))\n",
    "# if we don't give then default value of mean=0 and std=1 is selected to print normal distribution"
   ]
  },
  {
   "cell_type": "code",
   "execution_count": 60,
   "id": "9fcb30f8",
   "metadata": {},
   "outputs": [
    {
     "data": {
      "text/plain": [
       "array([[3.09734467, 4.72797113, 5.35003069],\n",
       "       [1.63366511, 7.65997607, 5.46701389]])"
      ]
     },
     "execution_count": 60,
     "metadata": {},
     "output_type": "execute_result"
    }
   ],
   "source": [
    "random.normal(5,2, size=(2,3))\n",
    "# with loc(mean)=5, scale(std)=2"
   ]
  },
  {
   "cell_type": "code",
   "execution_count": 63,
   "id": "3486c9ef",
   "metadata": {},
   "outputs": [
    {
     "data": {
      "text/plain": [
       "array([[ 4.28351262, 19.58339776, 12.96401377, 11.9482789 ,  8.19477521,\n",
       "        10.19026404, 17.51852988,  7.42873703],\n",
       "       [ 4.0003328 ,  1.69953016, 17.89953473, 11.80475672, 14.7102776 ,\n",
       "         6.47985055,  2.91693467, 17.73826403],\n",
       "       [ 2.47150816, 13.33335375,  7.74008958,  9.62669573, 11.7139823 ,\n",
       "         9.27052065, 12.13057646,  6.41060149],\n",
       "       [13.49852725,  6.88910648, 13.87809986,  4.46982019,  9.84042528,\n",
       "         6.14413804, 14.88083109, 11.48298467]])"
      ]
     },
     "execution_count": 63,
     "metadata": {},
     "output_type": "execute_result"
    }
   ],
   "source": [
    "random.normal(loc=10, scale=5, size=(4,8)) # only 3 parameters are accepted loc, scale, size or mean, std and size"
   ]
  },
  {
   "cell_type": "code",
   "execution_count": 67,
   "id": "561fb967",
   "metadata": {},
   "outputs": [],
   "source": [
    "import warnings\n",
    "warnings.filterwarnings('ignore')"
   ]
  },
  {
   "cell_type": "code",
   "execution_count": 68,
   "id": "8d4e5d73",
   "metadata": {},
   "outputs": [
    {
     "data": {
      "image/png": "[encoded data removed]",
      "text/plain": [
       "<Figure size 432x288 with 1 Axes>"
      ]
     },
     "metadata": {
      "needs_background": "light"
     },
     "output_type": "display_data"
    }
   ],
   "source": [
    "# Visualization of Normal Distribution on distplot\n",
    "\n",
    "import seaborn as sns\n",
    "import matplotlib.pyplot as plt\n",
    "sns.distplot(random.normal(size=(100)), hist=False)\n",
    "plt.show()"
   ]
  },
  {
   "cell_type": "code",
   "execution_count": 70,
   "id": "e83285d6",
   "metadata": {},
   "outputs": [
    {
     "data": {
      "image/png": "[encoded data removed]",
      "text/plain": [
       "<Figure size 432x288 with 1 Axes>"
      ]
     },
     "metadata": {
      "needs_background": "light"
     },
     "output_type": "display_data"
    }
   ],
   "source": [
    "# with hist=True\n",
    "\n",
    "import seaborn as sns\n",
    "import matplotlib.pyplot as plt\n",
    "sns.distplot(random.normal(size=(100)), hist=True)\n",
    "plt.show()"
   ]
  },
  {
   "cell_type": "markdown",
   "id": "34d74f66",
   "metadata": {},
   "source": [
    "### Binomial Distribution"
   ]
  },
  {
   "cell_type": "raw",
   "id": "44a6b997",
   "metadata": {},
   "source": [
    "- its a discrete distribution\n",
    "- defined for binary outcomes\n",
    "- takes 3 parameters n,p and size=()\n",
    "Where n=no of trials,\n",
    "      p= probabilties for each trials\n",
    "      \n",
    "Hieght of peoples is a continuours distribution, But because it come to be seen as discrete but it can take any value..\n",
    "But a binary trail can't take continuous values, it is fixed"
   ]
  },
  {
   "cell_type": "code",
   "execution_count": 71,
   "id": "1dc3378c",
   "metadata": {},
   "outputs": [
    {
     "data": {
      "text/plain": [
       "array([1, 2, 0, 1, 2, 1, 0, 0, 2, 2, 1, 0, 1, 0, 1, 2, 2, 1, 0, 1])"
      ]
     },
     "execution_count": 71,
     "metadata": {},
     "output_type": "execute_result"
    }
   ],
   "source": [
    "random.binomial(2,0.5,size=(20))"
   ]
  },
  {
   "cell_type": "code",
   "execution_count": 75,
   "id": "85381a25",
   "metadata": {},
   "outputs": [],
   "source": [
    "# we cant store this distribution in a variable\n",
    "y=random.binomial(2,0.5,size=(20))"
   ]
  },
  {
   "cell_type": "code",
   "execution_count": 74,
   "id": "7f770f24",
   "metadata": {},
   "outputs": [
    {
     "data": {
      "text/plain": [
       "array([1, 1, 1, 2, 1, 0, 0, 2, 1, 1, 1, 2, 1, 1, 0, 0, 2, 1, 0, 0])"
      ]
     },
     "execution_count": 74,
     "metadata": {},
     "output_type": "execute_result"
    }
   ],
   "source": [
    "y"
   ]
  },
  {
   "cell_type": "code",
   "execution_count": 77,
   "id": "2dc0ed70",
   "metadata": {},
   "outputs": [
    {
     "data": {
      "text/plain": [
       "array([5, 3, 3, 3, 3, 1, 3, 3, 5, 2])"
      ]
     },
     "execution_count": 77,
     "metadata": {},
     "output_type": "execute_result"
    }
   ],
   "source": [
    "# Given 10 trials for coin toss generate 10 data points:\n",
    "\n",
    "random.binomial(n=10,p=0.3,size=(10))"
   ]
  },
  {
   "cell_type": "code",
   "execution_count": 78,
   "id": "23f9ba7f",
   "metadata": {},
   "outputs": [
    {
     "data": {
      "image/png": "[encoded data removed]",
      "text/plain": [
       "<Figure size 432x288 with 1 Axes>"
      ]
     },
     "metadata": {
      "needs_background": "light"
     },
     "output_type": "display_data"
    }
   ],
   "source": [
    "sns.distplot(random.binomial(n=10, p=0.5, size=1000), hist=True, kde=False)\n",
    "plt.show()"
   ]
  },
  {
   "cell_type": "code",
   "execution_count": 79,
   "id": "591375ed",
   "metadata": {},
   "outputs": [
    {
     "data": {
      "image/png": "[encoded data removed]",
      "text/plain": [
       "<Figure size 432x288 with 1 Axes>"
      ]
     },
     "metadata": {
      "needs_background": "light"
     },
     "output_type": "display_data"
    }
   ],
   "source": [
    "sns.distplot(random.binomial(n=10, p=0.5, size=1000), hist=)\n",
    "plt.show()"
   ]
  },
  {
   "cell_type": "raw",
   "id": "8f71ffba",
   "metadata": {},
   "source": [
    "The main difference is that normal distribution is continous whereas binomial is discrete, but if there are enough data points it will be quite similar to normal distribution with certain loc and scale"
   ]
  },
  {
   "cell_type": "code",
   "execution_count": 80,
   "id": "744dcd03",
   "metadata": {},
   "outputs": [
    {
     "data": {
      "image/png": "[encoded data removed]",
      "text/plain": [
       "<Figure size 432x288 with 1 Axes>"
      ]
     },
     "metadata": {
      "needs_background": "light"
     },
     "output_type": "display_data"
    }
   ],
   "source": [
    "sns.distplot(random.normal(loc=50, scale=5, size=1000), hist=False, label='normal')\n",
    "sns.distplot(random.binomial(n=100, p=0.5, size=1000), hist=False, label='binomial')\n",
    "\n",
    "plt.show()"
   ]
  },
  {
   "cell_type": "code",
   "execution_count": 81,
   "id": "75a6fb25",
   "metadata": {},
   "outputs": [],
   "source": [
    "# Poisson Distribution"
   ]
  },
  {
   "cell_type": "raw",
   "id": "8849cf49",
   "metadata": {},
   "source": [
    "It estimates how many times an event can happen in a specified time. e.g. If someone eats twice a day what is probability he will eat thrice?\n",
    "\n",
    "It has two parameters:\n",
    "lam - rate or known number of occurences e.g. 2 for above problem.\n",
    "size - The shape of the returned array."
   ]
  },
  {
   "cell_type": "code",
   "execution_count": 82,
   "id": "e31aad35",
   "metadata": {},
   "outputs": [
    {
     "data": {
      "text/plain": [
       "array([1, 2, 2, 3, 5, 2, 1, 0, 3, 2])"
      ]
     },
     "execution_count": 82,
     "metadata": {},
     "output_type": "execute_result"
    }
   ],
   "source": [
    "# Generate a random 1x10 distribution for occurence 2:\n",
    "\n",
    "np.random.poisson(lam=2,size=(10))"
   ]
  },
  {
   "cell_type": "code",
   "execution_count": 83,
   "id": "51af7737",
   "metadata": {},
   "outputs": [
    {
     "data": {
      "text/plain": [
       "array([5, 3, 4, 4, 4, 0, 1, 2, 1, 3])"
      ]
     },
     "execution_count": 83,
     "metadata": {},
     "output_type": "execute_result"
    }
   ],
   "source": [
    "# 3 occuraces, size 10 or 1x10\n",
    "random.poisson(3,(10))"
   ]
  },
  {
   "cell_type": "code",
   "execution_count": 84,
   "id": "203fc517",
   "metadata": {},
   "outputs": [],
   "source": [
    "# Visualization of Poisson Distribution"
   ]
  },
  {
   "cell_type": "code",
   "execution_count": 87,
   "id": "da145533",
   "metadata": {},
   "outputs": [
    {
     "data": {
      "image/png": "[encoded data removed]",
      "text/plain": [
       "<Figure size 360x360 with 1 Axes>"
      ]
     },
     "metadata": {
      "needs_background": "light"
     },
     "output_type": "display_data"
    }
   ],
   "source": [
    "sns.displot(np.random.poisson(lam=2,size=(10)),kde=True)\n",
    "plt.show()"
   ]
  },
  {
   "cell_type": "code",
   "execution_count": 89,
   "id": "93b2e433",
   "metadata": {},
   "outputs": [
    {
     "data": {
      "image/png": "[encoded data removed]",
      "text/plain": [
       "<Figure size 360x360 with 1 Axes>"
      ]
     },
     "metadata": {
      "needs_background": "light"
     },
     "output_type": "display_data"
    }
   ],
   "source": [
    "sns.displot(np.random.poisson(lam=10,size=(100)))\n",
    "plt.show() \n",
    "# by default a distribution plot will be like a histogram"
   ]
  },
  {
   "cell_type": "code",
   "execution_count": 90,
   "id": "5fdf32e4",
   "metadata": {},
   "outputs": [],
   "source": [
    "# Difference Between Normal and Poisson Distribution"
   ]
  },
  {
   "cell_type": "raw",
   "id": "510cba59",
   "metadata": {},
   "source": [
    "Normal distribution is continous whereas poisson is discrete like Binomial Distribution.\n",
    "\n",
    "But we can see that similar to binomial for a large enough poisson distribution it will become similar to normal distribution with certain std dev and mean."
   ]
  },
  {
   "cell_type": "code",
   "execution_count": 99,
   "id": "6d5d7331",
   "metadata": {},
   "outputs": [
    {
     "data": {
      "image/png": "[encoded data removed]",
      "text/plain": [
       "<Figure size 432x288 with 1 Axes>"
      ]
     },
     "metadata": {
      "needs_background": "light"
     },
     "output_type": "display_data"
    }
   ],
   "source": [
    "sns.distplot(random.normal(loc=50, scale=8, size=1000), hist=False, label='normal')\n",
    "sns.distplot(random.poisson(lam=50, size=1000), hist=False, label='poisson')\n",
    "\n",
    "plt.show()"
   ]
  },
  {
   "cell_type": "raw",
   "id": "83808d21",
   "metadata": {},
   "source": [
    "The difference is very subtle it is that, binomial distribution is for discrete trials, whereas poisson distribution is for continuous trials.\n",
    "\n",
    "But for very large n and near-zero p binomial distribution is near identical to poisson distribution such that n * p is nearly equal to lam."
   ]
  },
  {
   "cell_type": "code",
   "execution_count": 100,
   "id": "188fc46e",
   "metadata": {},
   "outputs": [
    {
     "data": {
      "image/png": "[encoded data removed]",
      "text/plain": [
       "<Figure size 432x288 with 1 Axes>"
      ]
     },
     "metadata": {
      "needs_background": "light"
     },
     "output_type": "display_data"
    }
   ],
   "source": [
    "sns.distplot(random.binomial(n=1000, p=0.01, size=1000), hist=False, label='binomial')\n",
    "sns.distplot(random.poisson(lam=10, size=1000), hist=False, label='poisson')\n",
    "\n",
    "plt.show()"
   ]
  },
  {
   "cell_type": "markdown",
   "id": "a83f359e",
   "metadata": {},
   "source": [
    "### Uniform Distribution"
   ]
  },
  {
   "cell_type": "raw",
   "id": "886fdab3",
   "metadata": {},
   "source": [
    "It has three parameters:\n",
    "\n",
    "a - lower bound - default 0 .0\n",
    "b - upper bound - default 1.0\n",
    "\n",
    "size - The shape of the returned array. "
   ]
  },
  {
   "cell_type": "code",
   "execution_count": 101,
   "id": "6d9b0e71",
   "metadata": {},
   "outputs": [
    {
     "data": {
      "text/plain": [
       "array([4.26187064, 2.7138502 , 3.06650904, 4.8830897 , 4.99141348,\n",
       "       6.90981512, 2.02516609, 3.70695906, 1.28820748, 1.43646948])"
      ]
     },
     "execution_count": 101,
     "metadata": {},
     "output_type": "execute_result"
    }
   ],
   "source": [
    "np.random.uniform(1,10,size=(10))"
   ]
  },
  {
   "cell_type": "code",
   "execution_count": 105,
   "id": "611f6b82",
   "metadata": {},
   "outputs": [
    {
     "data": {
      "image/png": "[encoded data removed]",
      "text/plain": [
       "<Figure size 432x288 with 1 Axes>"
      ]
     },
     "metadata": {
      "needs_background": "light"
     },
     "output_type": "display_data"
    }
   ],
   "source": [
    "sns.distplot(np.random.uniform(1,10,size=(10)),hist=True)\n",
    "plt.show()"
   ]
  },
  {
   "cell_type": "code",
   "execution_count": 107,
   "id": "5fce2e11",
   "metadata": {},
   "outputs": [
    {
     "data": {
      "text/plain": [
       "array([[0.60099952, 0.69162683, 0.17859246],\n",
       "       [0.54548886, 0.44188673, 0.28996854]])"
      ]
     },
     "execution_count": 107,
     "metadata": {},
     "output_type": "execute_result"
    }
   ],
   "source": [
    "random.uniform(size=(2, 3))   # it takes 0 as start point and 1 as end point by default"
   ]
  },
  {
   "cell_type": "raw",
   "id": "ecea4df4",
   "metadata": {},
   "source": [
    "Logistic Distribution is used to describe growth.\n",
    "Used extensively in machine learning in logistic regression, neural networks etc.\n",
    "\n",
    "It has three parameters:\n",
    "\n",
    "loc - mean, where the peak is. Default 0.\n",
    "scale - standard deviation, the flatness of distribution. Default 1.\n",
    "size - The shape of the returned array."
   ]
  },
  {
   "cell_type": "code",
   "execution_count": 109,
   "id": "31f11721",
   "metadata": {},
   "outputs": [
    {
     "data": {
      "text/plain": [
       "array([[-1.10406121, -2.79723927,  0.23852817],\n",
       "       [-7.89728946, -2.32157774,  3.57524767]])"
      ]
     },
     "execution_count": 109,
     "metadata": {},
     "output_type": "execute_result"
    }
   ],
   "source": [
    "# Draw 2x3 samples from a logistic distribution with mean at 1 and stddev 2.0:\n",
    "\n",
    "np.random.logistic(1,2,size=(2,3)) # or random.logistic(loc=1, scale=2, size=(2, 3))"
   ]
  },
  {
   "cell_type": "code",
   "execution_count": 113,
   "id": "7c524efd",
   "metadata": {},
   "outputs": [
    {
     "data": {
      "text/plain": [
       "<seaborn.axisgrid.FacetGrid at 0x16be870a250>"
      ]
     },
     "execution_count": 113,
     "metadata": {},
     "output_type": "execute_result"
    },
    {
     "data": {
      "image/png": "[encoded data removed]",
      "text/plain": [
       "<Figure size 360x360 with 1 Axes>"
      ]
     },
     "metadata": {
      "needs_background": "light"
     },
     "output_type": "display_data"
    }
   ],
   "source": [
    "# Visualization of Logistic Distribution\n",
    "\n",
    "sns.displot(np.random.logistic(loc=1,scale=2.0, size=(1000)), kde=True)"
   ]
  },
  {
   "cell_type": "code",
   "execution_count": 114,
   "id": "bbedd508",
   "metadata": {},
   "outputs": [],
   "source": [
    "# Difference Between Logistic and Normal Distribution"
   ]
  },
  {
   "cell_type": "raw",
   "id": "d6ff82da",
   "metadata": {},
   "source": [
    "Near identical, but logistic distribution has more area under the tails. ie. It representage more possibility of occurence of an events further away from mean.\n",
    "\n",
    "For higher value of scale (standard deviation) the normal and logistic distributions are near identical apart from the peak."
   ]
  },
  {
   "cell_type": "code",
   "execution_count": 115,
   "id": "69fd256b",
   "metadata": {},
   "outputs": [
    {
     "data": {
      "image/png": "[encoded data removed]",
      "text/plain": [
       "<Figure size 432x288 with 1 Axes>"
      ]
     },
     "metadata": {
      "needs_background": "light"
     },
     "output_type": "display_data"
    }
   ],
   "source": [
    "sns.distplot(random.normal(loc=1, scale=2, size=1000), hist=False, label='normal')\n",
    "sns.distplot(random.logistic(size=1000), hist=False, label='logistic')\n",
    "\n",
    "plt.show()"
   ]
  },
  {
   "cell_type": "markdown",
   "id": "0a480f0e",
   "metadata": {},
   "source": [
    "## Multinomial Duration"
   ]
  },
  {
   "cell_type": "raw",
   "id": "ee54b19a",
   "metadata": {},
   "source": [
    "- a generalization of binomial distribution.\n",
    "- It describes outcomes of multi-nomial scenarios unlike binomial where scenarios must be only one of two. e.g. Blood type of a population, dice roll outcome."
   ]
  },
  {
   "cell_type": "raw",
   "id": "62da39b2",
   "metadata": {},
   "source": [
    "It has three parameters:\n",
    "\n",
    "n - number of possible outcomes (e.g. 6 for dice roll).\n",
    "pvals - list of probabilties of outcomes (e.g. [1/6, 1/6, 1/6, 1/6, 1/6, 1/6] for dice roll).\n",
    "size - The shape of the returned array."
   ]
  },
  {
   "cell_type": "code",
   "execution_count": 117,
   "id": "9426895d",
   "metadata": {},
   "outputs": [
    {
     "data": {
      "text/plain": [
       "array([1, 1, 0, 1, 1, 2])"
      ]
     },
     "execution_count": 117,
     "metadata": {},
     "output_type": "execute_result"
    }
   ],
   "source": [
    "# Draw out a sample for dice roll:\n",
    "\n",
    "random.multinomial(n=6,pvals=[1/6,1/6,1/6,1/6,1/6,1/6])\n",
    "# Note: Multinomial samples will NOT produce a single value! They will produce one value for each pval."
   ]
  },
  {
   "cell_type": "raw",
   "id": "85d34dbb",
   "metadata": {},
   "source": []
  },
  {
   "cell_type": "raw",
   "id": "4172df90",
   "metadata": {},
   "source": [
    "- used for describing time till next event e.g. failure/success etc.\n",
    "It has two parameters:\n",
    "\n",
    "scale - inverse of rate ( see lam in poisson distribution ) defaults to 1.0.\n",
    "size - The shape of the returned array."
   ]
  },
  {
   "cell_type": "code",
   "execution_count": 118,
   "id": "1c0637f5",
   "metadata": {},
   "outputs": [
    {
     "data": {
      "text/plain": [
       "array([[0.78028069, 4.4525637 , 5.39417862],\n",
       "       [0.83870095, 2.69979658, 0.49435277]])"
      ]
     },
     "execution_count": 118,
     "metadata": {},
     "output_type": "execute_result"
    }
   ],
   "source": [
    "# exponential distribution with 2.0 scale with 2x3 size:\n",
    "random.exponential(scale=2, size=(2, 3))"
   ]
  },
  {
   "cell_type": "raw",
   "id": "aeab1349",
   "metadata": {},
   "source": [
    "Poisson distribution deals with number of occurences of an event in a time period whereas exponential distribution deals with the time between these events."
   ]
  },
  {
   "cell_type": "markdown",
   "id": "abf4547c",
   "metadata": {},
   "source": [
    "### Chi Square Distribution"
   ]
  },
  {
   "cell_type": "raw",
   "id": "a27b6b0d",
   "metadata": {},
   "source": [
    "Chi Square distribution is used as a basis to verify the hypothesis.\n",
    "\n",
    "It has two parameters:\n",
    "\n",
    "df - (degree of freedom).\n",
    "size - The shape of the returned array."
   ]
  },
  {
   "cell_type": "code",
   "execution_count": 120,
   "id": "844380dc",
   "metadata": {},
   "outputs": [
    {
     "data": {
      "text/plain": [
       "array([[0.53524597, 1.23703736, 0.26982147],\n",
       "       [0.46849123, 0.03071223, 1.99723341]])"
      ]
     },
     "execution_count": 120,
     "metadata": {},
     "output_type": "execute_result"
    }
   ],
   "source": [
    "random.chisquare(df=2, size=(2, 3))"
   ]
  },
  {
   "cell_type": "code",
   "execution_count": 121,
   "id": "2d39b068",
   "metadata": {},
   "outputs": [
    {
     "data": {
      "text/plain": [
       "<AxesSubplot:ylabel='Density'>"
      ]
     },
     "execution_count": 121,
     "metadata": {},
     "output_type": "execute_result"
    },
    {
     "data": {
      "image/png": "[encoded data removed]",
      "text/plain": [
       "<Figure size 432x288 with 1 Axes>"
      ]
     },
     "metadata": {
      "needs_background": "light"
     },
     "output_type": "display_data"
    }
   ],
   "source": [
    "sns.distplot(random.chisquare(df=1, size=1000), hist=False)"
   ]
  },
  {
   "cell_type": "markdown",
   "id": "ee5ed345",
   "metadata": {},
   "source": [
    "### Rayleigh Distribution"
   ]
  },
  {
   "cell_type": "code",
   "execution_count": null,
   "id": "7bf872ac",
   "metadata": {},
   "outputs": [],
   "source": []
  }
 ],
 "metadata": {
  "kernelspec": {
   "display_name": "Python 3 (ipykernel)",
   "language": "python",
   "name": "python3"
  },
  "language_info": {
   "codemirror_mode": {
    "name": "ipython",
    "version": 3
   },
   "file_extension": ".py",
   "mimetype": "text/x-python",
   "name": "python",
   "nbconvert_exporter": "python",
   "pygments_lexer": "ipython3",
   "version": "3.9.7"
  }
 },
 "nbformat": 4,
 "nbformat_minor": 5
}

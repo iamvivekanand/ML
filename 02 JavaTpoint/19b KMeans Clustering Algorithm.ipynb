{
 "cells": [
  {
   "cell_type": "markdown",
   "id": "846b8be5",
   "metadata": {},
   "source": [
    "### KMeans Clustering Algorithm - AnalyticsVidhya"
   ]
  },
  {
   "cell_type": "raw",
   "id": "e2c96e5e",
   "metadata": {},
   "source": [
    "- Supervised ml technique/algorithm\n",
    "- Used to form clusters based on centroid, centroid based algorithm\n",
    "- predefined no clusters are formed using the algorithm"
   ]
  },
  {
   "cell_type": "code",
   "execution_count": 1,
   "id": "298f52c8",
   "metadata": {},
   "outputs": [],
   "source": [
    "# Steps Involved in Kmeans Algorithm"
   ]
  },
  {
   "cell_type": "raw",
   "id": "00f3e0b4",
   "metadata": {},
   "source": [
    "1. select k no of clusters to be formed\n",
    "2. select k no of random centroid \n",
    "3. Assign each data point, based on their distance from the randomly selected points (Centroid), to the nearest/closest centroid which will form the predefined clusters.\n",
    "4. relocate the centroid, reassign data point based on closet distance\n",
    "5. repeat above steps untill every data point is assgined to some centroid with minimum distance, if no assignment occurs then model if ready, finished"
   ]
  },
  {
   "cell_type": "code",
   "execution_count": 2,
   "id": "54cbf054",
   "metadata": {},
   "outputs": [],
   "source": [
    "# how to choose the right Number Of Clusters"
   ]
  },
  {
   "cell_type": "raw",
   "id": "0013dac3",
   "metadata": {},
   "source": [
    "Each and Every cluster is formed by calculating and comparing the mean distances of each data points within a cluster from its centroid.\n",
    "\n",
    "We Can Choose the right number of clusters with the help of the Within-Cluster-Sum-of-Squares (WCSS) method.\n",
    "\n",
    "WCSS Stands for the sum of the squares of distances of the data points in each and every cluster from its centroid.\n",
    "\n",
    "The main idea is to minimize the distance between the data points and the centroid of the clusters. The process is iterated until we reach a minimum value for the sum of distances."
   ]
  },
  {
   "cell_type": "code",
   "execution_count": 3,
   "id": "5604b493",
   "metadata": {},
   "outputs": [],
   "source": [
    "# Steps to find best value of clusters"
   ]
  },
  {
   "cell_type": "raw",
   "id": "918f8a82",
   "metadata": {},
   "source": [
    "1 Execute the K-means clustering on a given dataset for different K values (ranging from 1-10).\n",
    "\n",
    "2 For each value of K, calculates the WCSS value.\n",
    "\n",
    "3 Plots a graph/curve between WCSS values and the respective number of clusters K.\n",
    "\n",
    "4 The sharp point of bend or a point( looking like an elbow joint ) of the plot like an arm, will be considered as the best/optimal value of K"
   ]
  },
  {
   "cell_type": "code",
   "execution_count": 1,
   "id": "4aba9e54",
   "metadata": {},
   "outputs": [],
   "source": [
    "import numpy as np\n",
    "import pandas as pd\n",
    "import statsmodels.api as statsapi\n",
    "import matplotlib.pyplot as plt\n",
    "import seaborn as sns\n",
    "sns.set()\n",
    "from sklearn.cluster import KMeans"
   ]
  },
  {
   "cell_type": "raw",
   "id": "675accfc",
   "metadata": {},
   "source": [
    "data = pd.read_csv('Countryclusters.csv')\n",
    "data"
   ]
  },
  {
   "cell_type": "raw",
   "id": "17b42200",
   "metadata": {},
   "source": []
  }
 ],
 "metadata": {
  "kernelspec": {
   "display_name": "Python 3 (ipykernel)",
   "language": "python",
   "name": "python3"
  },
  "language_info": {
   "codemirror_mode": {
    "name": "ipython",
    "version": 3
   },
   "file_extension": ".py",
   "mimetype": "text/x-python",
   "name": "python",
   "nbconvert_exporter": "python",
   "pygments_lexer": "ipython3",
   "version": "3.9.7"
  }
 },
 "nbformat": 4,
 "nbformat_minor": 5
}

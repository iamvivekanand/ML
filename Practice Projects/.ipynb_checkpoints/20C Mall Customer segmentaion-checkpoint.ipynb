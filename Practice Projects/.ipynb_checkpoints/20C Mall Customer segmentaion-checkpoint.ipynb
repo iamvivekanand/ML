{
 "cells": [
  {
   "cell_type": "code",
   "execution_count": 1,
   "id": "753252ff",
   "metadata": {},
   "outputs": [],
   "source": [
    "import pandas as pd\n",
    "import seaborn as sns\n",
    "import matplotlib.pyplot as plt\n",
    "import numpy as np"
   ]
  },
  {
   "cell_type": "code",
   "execution_count": 2,
   "id": "621de8c8",
   "metadata": {},
   "outputs": [],
   "source": [
    "from scipy import stats"
   ]
  },
  {
   "cell_type": "code",
   "execution_count": 3,
   "id": "77ea2e0e",
   "metadata": {},
   "outputs": [
    {
     "name": "stdout",
     "output_type": "stream",
     "text": [
      "Pandas version: 1.3.4\n",
      "Numpy version: 1.20.3\n",
      "Seaborn version: 0.11.2\n"
     ]
    }
   ],
   "source": [
    "print('Pandas version: {}'.format(pd.__version__))\n",
    "print('Numpy version: {}'.format(np.__version__))\n",
    "print('Seaborn version: {}'.format(sns.__version__))"
   ]
  },
  {
   "cell_type": "code",
   "execution_count": 4,
   "id": "407c720e",
   "metadata": {},
   "outputs": [
    {
     "data": {
      "text/html": [
       "<div>\n",
       "<style scoped>\n",
       "    .dataframe tbody tr th:only-of-type {\n",
       "        vertical-align: middle;\n",
       "    }\n",
       "\n",
       "    .dataframe tbody tr th {\n",
       "        vertical-align: top;\n",
       "    }\n",
       "\n",
       "    .dataframe thead th {\n",
       "        text-align: right;\n",
       "    }\n",
       "</style>\n",
       "<table border=\"1\" class=\"dataframe\">\n",
       "  <thead>\n",
       "    <tr style=\"text-align: right;\">\n",
       "      <th></th>\n",
       "      <th>CustomerID</th>\n",
       "      <th>Gender</th>\n",
       "      <th>Age</th>\n",
       "      <th>Annual Income (k$)</th>\n",
       "      <th>Spending Score (1-100)</th>\n",
       "    </tr>\n",
       "  </thead>\n",
       "  <tbody>\n",
       "    <tr>\n",
       "      <th>0</th>\n",
       "      <td>1</td>\n",
       "      <td>Male</td>\n",
       "      <td>19</td>\n",
       "      <td>15</td>\n",
       "      <td>39</td>\n",
       "    </tr>\n",
       "    <tr>\n",
       "      <th>1</th>\n",
       "      <td>2</td>\n",
       "      <td>Male</td>\n",
       "      <td>21</td>\n",
       "      <td>15</td>\n",
       "      <td>81</td>\n",
       "    </tr>\n",
       "    <tr>\n",
       "      <th>2</th>\n",
       "      <td>3</td>\n",
       "      <td>Female</td>\n",
       "      <td>20</td>\n",
       "      <td>16</td>\n",
       "      <td>6</td>\n",
       "    </tr>\n",
       "    <tr>\n",
       "      <th>3</th>\n",
       "      <td>4</td>\n",
       "      <td>Female</td>\n",
       "      <td>23</td>\n",
       "      <td>16</td>\n",
       "      <td>77</td>\n",
       "    </tr>\n",
       "    <tr>\n",
       "      <th>4</th>\n",
       "      <td>5</td>\n",
       "      <td>Female</td>\n",
       "      <td>31</td>\n",
       "      <td>17</td>\n",
       "      <td>40</td>\n",
       "    </tr>\n",
       "  </tbody>\n",
       "</table>\n",
       "</div>"
      ],
      "text/plain": [
       "   CustomerID  Gender  Age  Annual Income (k$)  Spending Score (1-100)\n",
       "0           1    Male   19                  15                      39\n",
       "1           2    Male   21                  15                      81\n",
       "2           3  Female   20                  16                       6\n",
       "3           4  Female   23                  16                      77\n",
       "4           5  Female   31                  17                      40"
      ]
     },
     "execution_count": 4,
     "metadata": {},
     "output_type": "execute_result"
    }
   ],
   "source": [
    "# loading the dataset\n",
    "mall_dataset=pd.read_csv('Mall_Customers.csv')\n",
    "mall_dataset.head()"
   ]
  },
  {
   "cell_type": "code",
   "execution_count": 5,
   "id": "1695899a",
   "metadata": {},
   "outputs": [
    {
     "data": {
      "text/plain": [
       "(200, 5)"
      ]
     },
     "execution_count": 5,
     "metadata": {},
     "output_type": "execute_result"
    }
   ],
   "source": [
    "mall_dataset.shape"
   ]
  },
  {
   "cell_type": "markdown",
   "id": "7b4450fc",
   "metadata": {},
   "source": [
    "#### There are 200 Rows and 5 Feature Columns in our dataset"
   ]
  },
  {
   "cell_type": "code",
   "execution_count": 6,
   "id": "d4906744",
   "metadata": {},
   "outputs": [
    {
     "data": {
      "text/plain": [
       "CustomerID                0\n",
       "Gender                    0\n",
       "Age                       0\n",
       "Annual Income (k$)        0\n",
       "Spending Score (1-100)    0\n",
       "dtype: int64"
      ]
     },
     "execution_count": 6,
     "metadata": {},
     "output_type": "execute_result"
    }
   ],
   "source": [
    "mall_dataset.isnull().sum()"
   ]
  },
  {
   "cell_type": "markdown",
   "id": "1e11ddf5",
   "metadata": {},
   "source": [
    "#### There is no null value in our dataset"
   ]
  },
  {
   "cell_type": "code",
   "execution_count": 7,
   "id": "24a584c6",
   "metadata": {},
   "outputs": [
    {
     "name": "stdout",
     "output_type": "stream",
     "text": [
      "<class 'pandas.core.frame.DataFrame'>\n",
      "RangeIndex: 200 entries, 0 to 199\n",
      "Data columns (total 5 columns):\n",
      " #   Column                  Non-Null Count  Dtype \n",
      "---  ------                  --------------  ----- \n",
      " 0   CustomerID              200 non-null    int64 \n",
      " 1   Gender                  200 non-null    object\n",
      " 2   Age                     200 non-null    int64 \n",
      " 3   Annual Income (k$)      200 non-null    int64 \n",
      " 4   Spending Score (1-100)  200 non-null    int64 \n",
      "dtypes: int64(4), object(1)\n",
      "memory usage: 7.9+ KB\n"
     ]
    }
   ],
   "source": [
    "mall_dataset.info()"
   ]
  },
  {
   "cell_type": "code",
   "execution_count": 8,
   "id": "bbf0b351",
   "metadata": {},
   "outputs": [
    {
     "data": {
      "text/html": [
       "<div>\n",
       "<style scoped>\n",
       "    .dataframe tbody tr th:only-of-type {\n",
       "        vertical-align: middle;\n",
       "    }\n",
       "\n",
       "    .dataframe tbody tr th {\n",
       "        vertical-align: top;\n",
       "    }\n",
       "\n",
       "    .dataframe thead th {\n",
       "        text-align: right;\n",
       "    }\n",
       "</style>\n",
       "<table border=\"1\" class=\"dataframe\">\n",
       "  <thead>\n",
       "    <tr style=\"text-align: right;\">\n",
       "      <th></th>\n",
       "      <th>count</th>\n",
       "      <th>mean</th>\n",
       "      <th>std</th>\n",
       "      <th>min</th>\n",
       "      <th>25%</th>\n",
       "      <th>50%</th>\n",
       "      <th>75%</th>\n",
       "      <th>max</th>\n",
       "    </tr>\n",
       "  </thead>\n",
       "  <tbody>\n",
       "    <tr>\n",
       "      <th>CustomerID</th>\n",
       "      <td>200.0</td>\n",
       "      <td>100.50</td>\n",
       "      <td>57.879185</td>\n",
       "      <td>1.0</td>\n",
       "      <td>50.75</td>\n",
       "      <td>100.5</td>\n",
       "      <td>150.25</td>\n",
       "      <td>200.0</td>\n",
       "    </tr>\n",
       "    <tr>\n",
       "      <th>Age</th>\n",
       "      <td>200.0</td>\n",
       "      <td>38.85</td>\n",
       "      <td>13.969007</td>\n",
       "      <td>18.0</td>\n",
       "      <td>28.75</td>\n",
       "      <td>36.0</td>\n",
       "      <td>49.00</td>\n",
       "      <td>70.0</td>\n",
       "    </tr>\n",
       "    <tr>\n",
       "      <th>Annual Income (k$)</th>\n",
       "      <td>200.0</td>\n",
       "      <td>60.56</td>\n",
       "      <td>26.264721</td>\n",
       "      <td>15.0</td>\n",
       "      <td>41.50</td>\n",
       "      <td>61.5</td>\n",
       "      <td>78.00</td>\n",
       "      <td>137.0</td>\n",
       "    </tr>\n",
       "    <tr>\n",
       "      <th>Spending Score (1-100)</th>\n",
       "      <td>200.0</td>\n",
       "      <td>50.20</td>\n",
       "      <td>25.823522</td>\n",
       "      <td>1.0</td>\n",
       "      <td>34.75</td>\n",
       "      <td>50.0</td>\n",
       "      <td>73.00</td>\n",
       "      <td>99.0</td>\n",
       "    </tr>\n",
       "  </tbody>\n",
       "</table>\n",
       "</div>"
      ],
      "text/plain": [
       "                        count    mean        std   min    25%    50%     75%  \\\n",
       "CustomerID              200.0  100.50  57.879185   1.0  50.75  100.5  150.25   \n",
       "Age                     200.0   38.85  13.969007  18.0  28.75   36.0   49.00   \n",
       "Annual Income (k$)      200.0   60.56  26.264721  15.0  41.50   61.5   78.00   \n",
       "Spending Score (1-100)  200.0   50.20  25.823522   1.0  34.75   50.0   73.00   \n",
       "\n",
       "                          max  \n",
       "CustomerID              200.0  \n",
       "Age                      70.0  \n",
       "Annual Income (k$)      137.0  \n",
       "Spending Score (1-100)   99.0  "
      ]
     },
     "execution_count": 8,
     "metadata": {},
     "output_type": "execute_result"
    }
   ],
   "source": [
    "mall_dataset.describe().T"
   ]
  },
  {
   "cell_type": "markdown",
   "id": "6a08e558",
   "metadata": {},
   "source": [
    "df.skew() function return unbiased skew over requested axis Normalized by N-1. \n",
    "Skewness is a measure of the asymmetry of the probability distribution of a real-valued random variable about its mean."
   ]
  },
  {
   "cell_type": "code",
   "execution_count": 9,
   "id": "000b26f3",
   "metadata": {
    "scrolled": false
   },
   "outputs": [
    {
     "name": "stderr",
     "output_type": "stream",
     "text": [
      "C:\\Users\\iamvi\\AppData\\Local\\Temp/ipykernel_628/1881915019.py:1: FutureWarning: Dropping of nuisance columns in DataFrame reductions (with 'numeric_only=None') is deprecated; in a future version this will raise TypeError.  Select only valid columns before calling the reduction.\n",
      "  mall_dataset.skew()\n"
     ]
    },
    {
     "data": {
      "text/plain": [
       "CustomerID                0.000000\n",
       "Age                       0.485569\n",
       "Annual Income (k$)        0.321843\n",
       "Spending Score (1-100)   -0.047220\n",
       "dtype: float64"
      ]
     },
     "execution_count": 9,
     "metadata": {},
     "output_type": "execute_result"
    }
   ],
   "source": [
    "mall_dataset.skew()"
   ]
  },
  {
   "cell_type": "markdown",
   "id": "e721376b",
   "metadata": {},
   "source": [
    "#### Below we will try to see  samples of Spending Score (1-100) column, remember that the first column is index and next column is values"
   ]
  },
  {
   "cell_type": "code",
   "execution_count": 10,
   "id": "ccae41d5",
   "metadata": {
    "scrolled": true
   },
   "outputs": [
    {
     "data": {
      "text/plain": [
       "69     47\n",
       "95     52\n",
       "159    73\n",
       "160    35\n",
       "174    13\n",
       "Name: Spending Score (1-100), dtype: int64"
      ]
     },
     "execution_count": 10,
     "metadata": {},
     "output_type": "execute_result"
    }
   ],
   "source": [
    "mall_dataset['Spending Score (1-100)'].sample(5).sort_index()"
   ]
  },
  {
   "cell_type": "code",
   "execution_count": 11,
   "id": "6f03fd66",
   "metadata": {},
   "outputs": [
    {
     "data": {
      "text/plain": [
       "74     47\n",
       "62     52\n",
       "52     54\n",
       "86     58\n",
       "143    87\n",
       "Name: Spending Score (1-100), dtype: int64"
      ]
     },
     "execution_count": 11,
     "metadata": {},
     "output_type": "execute_result"
    }
   ],
   "source": [
    "mall_dataset['Spending Score (1-100)'].sample(5).sort_values()"
   ]
  },
  {
   "cell_type": "markdown",
   "id": "d778e80b",
   "metadata": {},
   "source": [
    "### Data analysis"
   ]
  },
  {
   "cell_type": "code",
   "execution_count": 12,
   "id": "1927abaa",
   "metadata": {},
   "outputs": [],
   "source": [
    "# Age analysis"
   ]
  },
  {
   "cell_type": "code",
   "execution_count": 13,
   "id": "13ff74ac",
   "metadata": {},
   "outputs": [
    {
     "data": {
      "text/plain": [
       "array(['Male', 'Female'], dtype=object)"
      ]
     },
     "execution_count": 13,
     "metadata": {},
     "output_type": "execute_result"
    }
   ],
   "source": [
    "mall_dataset['Gender'].unique()"
   ]
  },
  {
   "cell_type": "markdown",
   "id": "6acc97d6",
   "metadata": {},
   "source": [
    "#### There are only two Gender categories male and female. We will try to see their resepctive counts"
   ]
  },
  {
   "cell_type": "code",
   "execution_count": 14,
   "id": "0ce77cc3",
   "metadata": {},
   "outputs": [
    {
     "data": {
      "text/plain": [
       "Female    112\n",
       "Male       88\n",
       "Name: Gender, dtype: int64"
      ]
     },
     "execution_count": 14,
     "metadata": {},
     "output_type": "execute_result"
    }
   ],
   "source": [
    "mall_dataset['Gender'].value_counts()"
   ]
  },
  {
   "cell_type": "markdown",
   "id": "332e8bc8",
   "metadata": {},
   "source": [
    "#### There are 112 male and 88 famales Customers in our dataset "
   ]
  },
  {
   "cell_type": "code",
   "execution_count": 15,
   "id": "e766b27e",
   "metadata": {},
   "outputs": [],
   "source": [
    "gender_counts=mall_dataset['Gender'].value_counts()"
   ]
  },
  {
   "cell_type": "code",
   "execution_count": 16,
   "id": "7d7ec3f4",
   "metadata": {},
   "outputs": [
    {
     "data": {
      "text/plain": [
       "<AxesSubplot:>"
      ]
     },
     "execution_count": 16,
     "metadata": {},
     "output_type": "execute_result"
    },
    {
     "data": {
      "image/png": "[encoded data removed]",
      "text/plain": [
       "<Figure size 432x288 with 1 Axes>"
      ]
     },
     "metadata": {
      "needs_background": "light"
     },
     "output_type": "display_data"
    }
   ],
   "source": [
    "sns.barplot(x=gender_counts.index,y=gender_counts.values)"
   ]
  },
  {
   "cell_type": "code",
   "execution_count": 17,
   "id": "ea100062",
   "metadata": {},
   "outputs": [],
   "source": [
    "# separating males and females age\n",
    "male_ages=mall_dataset[mall_dataset['Gender']=='Male']['Age']"
   ]
  },
  {
   "cell_type": "code",
   "execution_count": 18,
   "id": "6e34f691",
   "metadata": {},
   "outputs": [
    {
     "data": {
      "text/plain": [
       "0      19\n",
       "1      21\n",
       "8      64\n",
       "10     67\n",
       "14     37\n",
       "       ..\n",
       "187    28\n",
       "192    33\n",
       "197    32\n",
       "198    32\n",
       "199    30\n",
       "Name: Age, Length: 88, dtype: int64"
      ]
     },
     "execution_count": 18,
     "metadata": {},
     "output_type": "execute_result"
    }
   ],
   "source": [
    "male_ages"
   ]
  },
  {
   "cell_type": "code",
   "execution_count": 19,
   "id": "fd1d5ef7",
   "metadata": {},
   "outputs": [],
   "source": [
    "female_ages=mall_dataset[mall_dataset['Gender']=='Female']['Age']"
   ]
  },
  {
   "cell_type": "code",
   "execution_count": 20,
   "id": "f7ad5ff4",
   "metadata": {},
   "outputs": [
    {
     "data": {
      "text/plain": [
       "2      20\n",
       "3      23\n",
       "4      31\n",
       "5      22\n",
       "6      35\n",
       "       ..\n",
       "191    32\n",
       "193    38\n",
       "194    47\n",
       "195    35\n",
       "196    45\n",
       "Name: Age, Length: 112, dtype: int64"
      ]
     },
     "execution_count": 20,
     "metadata": {},
     "output_type": "execute_result"
    }
   ],
   "source": [
    "female_ages"
   ]
  },
  {
   "cell_type": "code",
   "execution_count": 21,
   "id": "cf987ef3",
   "metadata": {},
   "outputs": [],
   "source": [
    "age_bins=range(15,17,5)"
   ]
  },
  {
   "cell_type": "code",
   "execution_count": 29,
   "id": "0726ca60",
   "metadata": {},
   "outputs": [
    {
     "data": {
      "image/png": "[encoded data removed]",
      "text/plain": [
       "<Figure size 576x360 with 1 Axes>"
      ]
     },
     "metadata": {
      "needs_background": "light"
     },
     "output_type": "display_data"
    }
   ],
   "source": [
    "# representaion of distritbution of male ages\n",
    "plt.figure(figsize=(8,5))\n",
    "sns.histplot(x=male_ages.values,color='green',kde=True)\n",
    "plt.xlabel('Male Ages')\n",
    "plt.ylabel('Count')\n",
    "plt.title('Distribution of Ages of Males')\n",
    "plt.show()"
   ]
  },
  {
   "cell_type": "code",
   "execution_count": 32,
   "id": "d04b4e0a",
   "metadata": {},
   "outputs": [
    {
     "data": {
      "text/plain": [
       "Text(0, 0.5, 'Count')"
      ]
     },
     "execution_count": 32,
     "metadata": {},
     "output_type": "execute_result"
    },
    {
     "data": {
      "image/png": "[encoded data removed]",
      "text/plain": [
       "<Figure size 576x360 with 1 Axes>"
      ]
     },
     "metadata": {
      "needs_background": "light"
     },
     "output_type": "display_data"
    }
   ],
   "source": [
    "# representaion of distritbution of female ages\n",
    "plt.figure(figsize=(8,5))\n",
    "sns.histplot(x=female_ages.values,color='blue',kde=True)\n",
    "plt.title('Distribution of Ages of Females')\n",
    "plt.xlabel('Female Ages')\n",
    "plt.ylabel('Count')"
   ]
  },
  {
   "cell_type": "code",
   "execution_count": null,
   "id": "c2927054",
   "metadata": {},
   "outputs": [],
   "source": []
  }
 ],
 "metadata": {
  "kernelspec": {
   "display_name": "Python 3 (ipykernel)",
   "language": "python",
   "name": "python3"
  },
  "language_info": {
   "codemirror_mode": {
    "name": "ipython",
    "version": 3
   },
   "file_extension": ".py",
   "mimetype": "text/x-python",
   "name": "python",
   "nbconvert_exporter": "python",
   "pygments_lexer": "ipython3",
   "version": "3.9.7"
  }
 },
 "nbformat": 4,
 "nbformat_minor": 5
}

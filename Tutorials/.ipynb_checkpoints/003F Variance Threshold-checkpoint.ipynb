{
 "cells": [
  {
   "cell_type": "code",
   "execution_count": 1,
   "id": "d0fbc93c",
   "metadata": {},
   "outputs": [],
   "source": [
    "# Variamce Threshold"
   ]
  },
  {
   "cell_type": "markdown",
   "id": "4449010b",
   "metadata": {},
   "source": [
    "The variance of a feature is simply the average of the squared differences between each value in the feature and the mean of the feature:\n",
    " \n",
    "    variance = sum((x - mean)**2) / (n - 1)\n",
    "\n",
    "Where:\n",
    "\n",
    "         x = value of a sample in the feature, \n",
    "         mean: mean of the feature, \n",
    "         n : number of samples in the feature. \n",
    "         \n",
    "         The denominator n-1 is used instead of n to correct for bias.\n",
    "\n",
    "\n",
    "The Variance Threshold method is a feature selection technique that removes low-variance features from a dataset. The idea behind this method is that features with very low variance are likely to contain little information and are therefore less useful for machine learning models.\n",
    "\n",
    "\n",
    "To apply the Variance Threshold method, we first compute the variance of each feature in the dataset. We then select a threshold value for the variance, below which features are considered to have low variance. Features with a variance below the threshold are then removed from the dataset."
   ]
  },
  {
   "cell_type": "code",
   "execution_count": 2,
   "id": "7f3e631f",
   "metadata": {},
   "outputs": [],
   "source": [
    "from sklearn.feature_selection import VarianceThreshold\n",
    "import numpy as np"
   ]
  },
  {
   "cell_type": "code",
   "execution_count": 3,
   "id": "f1cb4342",
   "metadata": {},
   "outputs": [],
   "source": [
    "# Create a dataset with three features and five samples\n",
    "X = np.array([[0, 1, 0],\n",
    "              [0, 1, 1],\n",
    "              [0, 1, 0],\n",
    "              [0, 1, 1],\n",
    "              [1, 0, 0]])"
   ]
  },
  {
   "cell_type": "code",
   "execution_count": 4,
   "id": "2dc8c64c",
   "metadata": {},
   "outputs": [
    {
     "name": "stdout",
     "output_type": "stream",
     "text": [
      "Variances: [0.16 0.16 0.24]\n"
     ]
    }
   ],
   "source": [
    "# Compute the variance of each feature\n",
    "variances = np.var(X, axis=0)\n",
    "\n",
    "# Print the variances of each feature\n",
    "print(f\"Variances: {variances}\")"
   ]
  },
  {
   "cell_type": "code",
   "execution_count": 5,
   "id": "a6c8654b",
   "metadata": {},
   "outputs": [
    {
     "name": "stdout",
     "output_type": "stream",
     "text": [
      "Selected features: [ True  True  True]\n",
      "New dataset: [[0 1 0]\n",
      " [0 1 1]\n",
      " [0 1 0]\n",
      " [0 1 1]\n",
      " [1 0 0]]\n"
     ]
    }
   ],
   "source": [
    "# Apply the Variance Threshold method with a threshold of 0.1\n",
    "selector = VarianceThreshold(threshold=0.1)\n",
    "X_new = selector.fit_transform(X)\n",
    "\n",
    "# Print the remaining features after applying the threshold\n",
    "print(f\"Selected features: {selector.get_support()}\")\n",
    "# The get_support method returns a boolean mask that indicates which features were selected.\n",
    "print(f\"New dataset: {X_new}\")"
   ]
  },
  {
   "cell_type": "code",
   "execution_count": null,
   "id": "123d75b1",
   "metadata": {},
   "outputs": [],
   "source": []
  }
 ],
 "metadata": {
  "kernelspec": {
   "display_name": "Python 3 (ipykernel)",
   "language": "python",
   "name": "python3"
  },
  "language_info": {
   "codemirror_mode": {
    "name": "ipython",
    "version": 3
   },
   "file_extension": ".py",
   "mimetype": "text/x-python",
   "name": "python",
   "nbconvert_exporter": "python",
   "pygments_lexer": "ipython3",
   "version": "3.9.16"
  }
 },
 "nbformat": 4,
 "nbformat_minor": 5
}

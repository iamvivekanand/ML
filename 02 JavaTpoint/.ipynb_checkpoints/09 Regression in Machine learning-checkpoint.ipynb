{
 "cells": [
  {
   "cell_type": "markdown",
   "metadata": {},
   "source": [
    "### Regression in Machine learning"
   ]
  },
  {
   "cell_type": "markdown",
   "metadata": {},
   "source": [
    "### What is a Regression"
   ]
  },
  {
   "cell_type": "raw",
   "metadata": {},
   "source": [
    "A technique of SML which helps in finding the correlation between variables and enables us to predict the continuous output variable based on the one or more input variables."
   ]
  },
  {
   "cell_type": "raw",
   "metadata": {},
   "source": [
    "e.g.\n",
    "-Prediction of rain using temperature and other factors\n",
    "-Determining Market trends\n",
    "-Prediction of road accidents due to rash driving."
   ]
  },
  {
   "cell_type": "markdown",
   "metadata": {},
   "source": [
    "### Terminologies Related to the Regression Analysis:"
   ]
  },
  {
   "cell_type": "raw",
   "metadata": {},
   "source": [
    "Dependent Variable-output variable, target variable,"
   ]
  },
  {
   "cell_type": "raw",
   "metadata": {},
   "source": [
    "Independent Variable:input variable or predictor"
   ]
  },
  {
   "cell_type": "raw",
   "metadata": {},
   "source": [
    "Outliers:\n",
    "an observation which contains either very low value or very high value in comparison to other observed values. An outlier may hamper the result, so it should be avoided."
   ]
  },
  {
   "cell_type": "raw",
   "metadata": {},
   "source": [
    "Multicollinearity:\n",
    "when the iput variables are highly correlated with each other than other variables, thne such condition is called Multicollinearity. \n",
    "It should not be present in the dataset, because it creates problem while ranking the most affecting variable."
   ]
  },
  {
   "cell_type": "raw",
   "metadata": {},
   "source": [
    "Overfitting-\n",
    "If the algorithm works well with the training dataset but not well with test dataset.\n",
    "\n",
    "Underfitting-\n",
    "if our algorithm does not perform well even with training dataset, then such problem is called underfitting."
   ]
  },
  {
   "cell_type": "markdown",
   "metadata": {},
   "source": [
    "### Types of Regression:"
   ]
  },
  {
   "cell_type": "raw",
   "metadata": {},
   "source": [
    "Some important types of regression which are given below:\n",
    "-Linear Regression\n",
    "-Logistic Regression\n",
    "-Polynomial Regression\n",
    "-Support Vector Regression\n",
    "-Decision Tree Regression\n",
    "-Random Forest Regression\n",
    "-Ridge Regression\n",
    "-Lasso Regression:"
   ]
  },
  {
   "cell_type": "markdown",
   "metadata": {},
   "source": [
    "#### Linear Regression"
   ]
  },
  {
   "cell_type": "raw",
   "metadata": {},
   "source": [
    "Used for prediction of continuous output\n",
    "Shows the linear relationship between the independent variable (X-axis) and the dependent variable (Y-axis),\n",
    "\n",
    "Y= aX+b  this is the mathematical equation for linear regression..\n",
    "a,b are coefficients/weights"
   ]
  },
  {
   "cell_type": "raw",
   "metadata": {},
   "source": [
    "Simple Linear Regression:\n",
    "\n",
    "If there is only one input variable (x)\n",
    "e.g. salary of an employee on the basis of the year of experience."
   ]
  },
  {
   "cell_type": "raw",
   "metadata": {},
   "source": [
    "Multiple linear regression:\n",
    "And if there are more than one input variable, then such linear regression is called.."
   ]
  },
  {
   "cell_type": "markdown",
   "metadata": {},
   "source": [
    "#### Logistic Regression: "
   ]
  },
  {
   "cell_type": "raw",
   "metadata": {},
   "source": [
    "A supervised ML algorithm which is used for classification problems\n",
    "it uses sigmoid function or logistic function which is a complex cost function to model the data"
   ]
  },
  {
   "cell_type": "raw",
   "metadata": {},
   "source": [
    "Mathematically sigmoid function can be represented as below...\n",
    "here the data is first modeled using simple regression equation Y=mx+C, then this y is fed to the sigmoid funciton, and sigmoid function just changes it within the range of 0 and 1. "
   ]
  },
  {
   "cell_type": "markdown",
   "metadata": {},
   "source": [
    "<img src='sigmoid-function.jpg'>"
   ]
  },
  {
   "cell_type": "raw",
   "metadata": {},
   "source": [
    "where\n",
    "f(x)= Output between the 0 and 1\n",
    "x= input to the function\n",
    "e= base of natural logarithm.\n",
    "\n",
    "When we provide the input values (data) to the function, it gives the S-curve as follows:"
   ]
  },
  {
   "cell_type": "markdown",
   "metadata": {},
   "source": [
    "<img src='sigmoid-graph.jpg'>"
   ]
  },
  {
   "cell_type": "raw",
   "metadata": {},
   "source": [
    "It uses the concept of threshold levels, value above the threshold level is rounded to 1, and values below the threshold level is rounded to 0."
   ]
  },
  {
   "cell_type": "raw",
   "metadata": {},
   "source": [
    "There are three types of logistic regression:\n",
    "\n",
    "    Binary(0/1, pass/fail)\n",
    "    Multi(cats, dogs, lions)\n",
    "    Ordinal(low, medium, high)"
   ]
  },
  {
   "cell_type": "markdown",
   "metadata": {},
   "source": [
    "### Polynomial Regression:"
   ]
  },
  {
   "cell_type": "raw",
   "metadata": {},
   "source": [
    "-it models the non-linear dataset using a linear model\n",
    "-it fits a non-linear curve between the value of x and corresponding values of y.\n",
    "-In a dataset, if datapoints are present in a non-linear fashion, so for such case we need Polynomial regression instead of linear regression"
   ]
  },
  {
   "cell_type": "raw",
   "metadata": {},
   "source": [
    "Step 1-\n",
    "the original features are transformed into polynomial features of given degree \n",
    "Step 2-\n",
    "then modeled using a linear model."
   ]
  },
  {
   "cell_type": "raw",
   "metadata": {},
   "source": [
    "Linear regression equation is like \n",
    "Y= b0+ b1x,\n",
    "Polynomial regression equation has degrees greater than 2\n",
    "Y= b0+b1x+ b2x2+ b3x3+.....+ bnxn.\n",
    "\n",
    "b0, b1,... bn are the regression coefficients."
   ]
  },
  {
   "cell_type": "markdown",
   "metadata": {},
   "source": [
    "### Support Vector Regression:"
   ]
  },
  {
   "cell_type": "raw",
   "metadata": {},
   "source": [
    "-a SML algorithm, used for prediction of continuous output\n",
    "Consider the below graph for SVR"
   ]
  },
  {
   "cell_type": "markdown",
   "metadata": {},
   "source": [
    "<img src='svr.jpg'>"
   ]
  },
  {
   "cell_type": "raw",
   "metadata": {},
   "source": [
    "Below are some keywords which are used in Support Vector Regression:\n",
    "\n",
    "Kernel: \n",
    "a function used to map a lower-dimensional data into higher dimensional data.\n",
    "Hyperplane: \n",
    "simply a separation line between two classes, but in SVR, its a line which helps to predict the continuous variables and cover most of the datapoints.\n",
    "\n",
    "Boundary line: \n",
    "the two lines apart from hyperplane, which creates a margin for datapoints.\n",
    "\n",
    "Support vectors: \n",
    "are the datapoints which are nearest to the hyperplane and opposite class."
   ]
  },
  {
   "cell_type": "raw",
   "metadata": {},
   "source": [
    "In SVR, we always try to determine a hyperplane with a maximum margin, so that maximum number of datapoints are covered in that margin."
   ]
  }
 ],
 "metadata": {
  "kernelspec": {
   "display_name": "Python 3 (ipykernel)",
   "language": "python",
   "name": "python3"
  },
  "language_info": {
   "codemirror_mode": {
    "name": "ipython",
    "version": 3
   },
   "file_extension": ".py",
   "mimetype": "text/x-python",
   "name": "python",
   "nbconvert_exporter": "python",
   "pygments_lexer": "ipython3",
   "version": "3.9.7"
  }
 },
 "nbformat": 4,
 "nbformat_minor": 4
}

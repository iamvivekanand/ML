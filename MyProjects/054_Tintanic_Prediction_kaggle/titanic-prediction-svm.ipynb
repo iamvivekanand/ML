{
 "cells": [
  {
   "cell_type": "markdown",
   "id": "b0ee4dc2",
   "metadata": {
    "papermill": {
     "duration": 0.050335,
     "end_time": "2022-10-03T19:13:27.151270",
     "exception": false,
     "start_time": "2022-10-03T19:13:27.100935",
     "status": "completed"
    },
    "tags": []
   },
   "source": [
    "### Titanic Prediction"
   ]
  },
  {
   "cell_type": "code",
   "execution_count": 1,
   "id": "aca561e4",
   "metadata": {
    "execution": {
     "iopub.execute_input": "2022-10-03T19:13:27.263061Z",
     "iopub.status.busy": "2022-10-03T19:13:27.262237Z",
     "iopub.status.idle": "2022-10-03T19:13:28.750292Z",
     "shell.execute_reply": "2022-10-03T19:13:28.749394Z",
     "shell.execute_reply.started": "2022-10-03T19:12:49.078089Z"
    },
    "papermill": {
     "duration": 1.551704,
     "end_time": "2022-10-03T19:13:28.750505",
     "exception": false,
     "start_time": "2022-10-03T19:13:27.198801",
     "status": "completed"
    },
    "tags": []
   },
   "outputs": [],
   "source": [
    "# Importing basic library\n",
    "import pandas as pd \n",
    "import numpy as np\n",
    "import matplotlib.pyplot as plt\n",
    "import seaborn as sns\n",
    "%matplotlib inline\n",
    "\n",
    "# Model Building\n",
    "from sklearn.linear_model import LogisticRegression\n",
    "from sklearn.tree import DecisionTreeClassifier, ExtraTreeClassifier\n",
    "from sklearn.svm import SVC, LinearSVC\n",
    "from sklearn.ensemble import AdaBoostClassifier,RandomForestClassifier,VotingClassifier\n",
    "\n",
    "# Metrics to evaluate the model\n",
    "from sklearn.metrics import accuracy_score"
   ]
  },
  {
   "cell_type": "code",
   "execution_count": 2,
   "id": "49dd2e26",
   "metadata": {
    "execution": {
     "iopub.execute_input": "2022-10-03T19:13:28.849604Z",
     "iopub.status.busy": "2022-10-03T19:13:28.848694Z",
     "iopub.status.idle": "2022-10-03T19:13:28.853343Z",
     "shell.execute_reply": "2022-10-03T19:13:28.852776Z",
     "shell.execute_reply.started": "2022-10-03T19:12:49.433233Z"
    },
    "papermill": {
     "duration": 0.054572,
     "end_time": "2022-10-03T19:13:28.853524",
     "exception": false,
     "start_time": "2022-10-03T19:13:28.798952",
     "status": "completed"
    },
    "tags": []
   },
   "outputs": [],
   "source": [
    "# disallowing unnecessary warnings\n",
    "import warnings\n",
    "warnings.filterwarnings('ignore')"
   ]
  },
  {
   "cell_type": "code",
   "execution_count": 3,
   "id": "47f52cf8",
   "metadata": {
    "execution": {
     "iopub.execute_input": "2022-10-03T19:13:28.953090Z",
     "iopub.status.busy": "2022-10-03T19:13:28.951955Z",
     "iopub.status.idle": "2022-10-03T19:13:28.954281Z",
     "shell.execute_reply": "2022-10-03T19:13:28.954800Z",
     "shell.execute_reply.started": "2022-10-03T19:12:49.439551Z"
    },
    "papermill": {
     "duration": 0.053824,
     "end_time": "2022-10-03T19:13:28.954998",
     "exception": false,
     "start_time": "2022-10-03T19:13:28.901174",
     "status": "completed"
    },
    "tags": []
   },
   "outputs": [],
   "source": [
    "# Setting pandas to display all rows\n",
    "pd.set_option('display.max_rows',None)"
   ]
  },
  {
   "cell_type": "code",
   "execution_count": 4,
   "id": "df593876",
   "metadata": {
    "execution": {
     "iopub.execute_input": "2022-10-03T19:13:29.052222Z",
     "iopub.status.busy": "2022-10-03T19:13:29.051505Z",
     "iopub.status.idle": "2022-10-03T19:13:29.089176Z",
     "shell.execute_reply": "2022-10-03T19:13:29.088448Z",
     "shell.execute_reply.started": "2022-10-03T19:12:49.452706Z"
    },
    "papermill": {
     "duration": 0.087372,
     "end_time": "2022-10-03T19:13:29.089333",
     "exception": false,
     "start_time": "2022-10-03T19:13:29.001961",
     "status": "completed"
    },
    "tags": []
   },
   "outputs": [],
   "source": [
    "# Loading dataset\n",
    "train=pd.read_csv('train.csv')\n",
    "test=pd.read_csv('test.csv')\n",
    "submit=pd.read_csv('gender_submission.csv')"
   ]
  },
  {
   "cell_type": "code",
   "execution_count": 5,
   "id": "6ceb651b",
   "metadata": {
    "execution": {
     "iopub.execute_input": "2022-10-03T19:13:29.189191Z",
     "iopub.status.busy": "2022-10-03T19:13:29.188411Z",
     "iopub.status.idle": "2022-10-03T19:13:29.194991Z",
     "shell.execute_reply": "2022-10-03T19:13:29.194228Z",
     "shell.execute_reply.started": "2022-10-03T19:12:49.474471Z"
    },
    "papermill": {
     "duration": 0.058107,
     "end_time": "2022-10-03T19:13:29.195158",
     "exception": false,
     "start_time": "2022-10-03T19:13:29.137051",
     "status": "completed"
    },
    "tags": []
   },
   "outputs": [
    {
     "name": "stdout",
     "output_type": "stream",
     "text": [
      "Train shape:  (891, 12)\n",
      "Test shape:  (418, 11)\n",
      "Submission shape:  (418, 2)\n"
     ]
    }
   ],
   "source": [
    "print('Train shape: ',train.shape)\n",
    "print('Test shape: ',test.shape)\n",
    "print('Submission shape: ',submit.shape)"
   ]
  },
  {
   "cell_type": "code",
   "execution_count": 6,
   "id": "4567bc21",
   "metadata": {
    "execution": {
     "iopub.execute_input": "2022-10-03T19:13:29.301534Z",
     "iopub.status.busy": "2022-10-03T19:13:29.300780Z",
     "iopub.status.idle": "2022-10-03T19:13:29.319994Z",
     "shell.execute_reply": "2022-10-03T19:13:29.320535Z",
     "shell.execute_reply.started": "2022-10-03T19:12:49.481685Z"
    },
    "papermill": {
     "duration": 0.07579,
     "end_time": "2022-10-03T19:13:29.320726",
     "exception": false,
     "start_time": "2022-10-03T19:13:29.244936",
     "status": "completed"
    },
    "tags": []
   },
   "outputs": [
    {
     "data": {
      "text/html": [
       "<div>\n",
       "<style scoped>\n",
       "    .dataframe tbody tr th:only-of-type {\n",
       "        vertical-align: middle;\n",
       "    }\n",
       "\n",
       "    .dataframe tbody tr th {\n",
       "        vertical-align: top;\n",
       "    }\n",
       "\n",
       "    .dataframe thead th {\n",
       "        text-align: right;\n",
       "    }\n",
       "</style>\n",
       "<table border=\"1\" class=\"dataframe\">\n",
       "  <thead>\n",
       "    <tr style=\"text-align: right;\">\n",
       "      <th></th>\n",
       "      <th>PassengerId</th>\n",
       "      <th>Survived</th>\n",
       "      <th>Pclass</th>\n",
       "      <th>Name</th>\n",
       "      <th>Sex</th>\n",
       "      <th>Age</th>\n",
       "      <th>SibSp</th>\n",
       "      <th>Parch</th>\n",
       "      <th>Ticket</th>\n",
       "      <th>Fare</th>\n",
       "      <th>Cabin</th>\n",
       "      <th>Embarked</th>\n",
       "    </tr>\n",
       "  </thead>\n",
       "  <tbody>\n",
       "    <tr>\n",
       "      <th>0</th>\n",
       "      <td>1</td>\n",
       "      <td>0</td>\n",
       "      <td>3</td>\n",
       "      <td>Braund, Mr. Owen Harris</td>\n",
       "      <td>male</td>\n",
       "      <td>22.0</td>\n",
       "      <td>1</td>\n",
       "      <td>0</td>\n",
       "      <td>A/5 21171</td>\n",
       "      <td>7.2500</td>\n",
       "      <td>NaN</td>\n",
       "      <td>S</td>\n",
       "    </tr>\n",
       "    <tr>\n",
       "      <th>1</th>\n",
       "      <td>2</td>\n",
       "      <td>1</td>\n",
       "      <td>1</td>\n",
       "      <td>Cumings, Mrs. John Bradley (Florence Briggs Th...</td>\n",
       "      <td>female</td>\n",
       "      <td>38.0</td>\n",
       "      <td>1</td>\n",
       "      <td>0</td>\n",
       "      <td>PC 17599</td>\n",
       "      <td>71.2833</td>\n",
       "      <td>C85</td>\n",
       "      <td>C</td>\n",
       "    </tr>\n",
       "    <tr>\n",
       "      <th>2</th>\n",
       "      <td>3</td>\n",
       "      <td>1</td>\n",
       "      <td>3</td>\n",
       "      <td>Heikkinen, Miss. Laina</td>\n",
       "      <td>female</td>\n",
       "      <td>26.0</td>\n",
       "      <td>0</td>\n",
       "      <td>0</td>\n",
       "      <td>STON/O2. 3101282</td>\n",
       "      <td>7.9250</td>\n",
       "      <td>NaN</td>\n",
       "      <td>S</td>\n",
       "    </tr>\n",
       "    <tr>\n",
       "      <th>3</th>\n",
       "      <td>4</td>\n",
       "      <td>1</td>\n",
       "      <td>1</td>\n",
       "      <td>Futrelle, Mrs. Jacques Heath (Lily May Peel)</td>\n",
       "      <td>female</td>\n",
       "      <td>35.0</td>\n",
       "      <td>1</td>\n",
       "      <td>0</td>\n",
       "      <td>113803</td>\n",
       "      <td>53.1000</td>\n",
       "      <td>C123</td>\n",
       "      <td>S</td>\n",
       "    </tr>\n",
       "    <tr>\n",
       "      <th>4</th>\n",
       "      <td>5</td>\n",
       "      <td>0</td>\n",
       "      <td>3</td>\n",
       "      <td>Allen, Mr. William Henry</td>\n",
       "      <td>male</td>\n",
       "      <td>35.0</td>\n",
       "      <td>0</td>\n",
       "      <td>0</td>\n",
       "      <td>373450</td>\n",
       "      <td>8.0500</td>\n",
       "      <td>NaN</td>\n",
       "      <td>S</td>\n",
       "    </tr>\n",
       "  </tbody>\n",
       "</table>\n",
       "</div>"
      ],
      "text/plain": [
       "   PassengerId  Survived  Pclass  \\\n",
       "0            1         0       3   \n",
       "1            2         1       1   \n",
       "2            3         1       3   \n",
       "3            4         1       1   \n",
       "4            5         0       3   \n",
       "\n",
       "                                                Name     Sex   Age  SibSp  \\\n",
       "0                            Braund, Mr. Owen Harris    male  22.0      1   \n",
       "1  Cumings, Mrs. John Bradley (Florence Briggs Th...  female  38.0      1   \n",
       "2                             Heikkinen, Miss. Laina  female  26.0      0   \n",
       "3       Futrelle, Mrs. Jacques Heath (Lily May Peel)  female  35.0      1   \n",
       "4                           Allen, Mr. William Henry    male  35.0      0   \n",
       "\n",
       "   Parch            Ticket     Fare Cabin Embarked  \n",
       "0      0         A/5 21171   7.2500   NaN        S  \n",
       "1      0          PC 17599  71.2833   C85        C  \n",
       "2      0  STON/O2. 3101282   7.9250   NaN        S  \n",
       "3      0            113803  53.1000  C123        S  \n",
       "4      0            373450   8.0500   NaN        S  "
      ]
     },
     "execution_count": 6,
     "metadata": {},
     "output_type": "execute_result"
    }
   ],
   "source": [
    "# printing top 5 rows of all dataset we loaded\n",
    "train.head()"
   ]
  },
  {
   "cell_type": "code",
   "execution_count": 7,
   "id": "907ae96b",
   "metadata": {
    "execution": {
     "iopub.execute_input": "2022-10-03T19:13:29.436053Z",
     "iopub.status.busy": "2022-10-03T19:13:29.435155Z",
     "iopub.status.idle": "2022-10-03T19:13:29.439337Z",
     "shell.execute_reply": "2022-10-03T19:13:29.438697Z",
     "shell.execute_reply.started": "2022-10-03T19:12:49.505439Z"
    },
    "papermill": {
     "duration": 0.069429,
     "end_time": "2022-10-03T19:13:29.439514",
     "exception": false,
     "start_time": "2022-10-03T19:13:29.370085",
     "status": "completed"
    },
    "tags": []
   },
   "outputs": [
    {
     "data": {
      "text/html": [
       "<div>\n",
       "<style scoped>\n",
       "    .dataframe tbody tr th:only-of-type {\n",
       "        vertical-align: middle;\n",
       "    }\n",
       "\n",
       "    .dataframe tbody tr th {\n",
       "        vertical-align: top;\n",
       "    }\n",
       "\n",
       "    .dataframe thead th {\n",
       "        text-align: right;\n",
       "    }\n",
       "</style>\n",
       "<table border=\"1\" class=\"dataframe\">\n",
       "  <thead>\n",
       "    <tr style=\"text-align: right;\">\n",
       "      <th></th>\n",
       "      <th>PassengerId</th>\n",
       "      <th>Pclass</th>\n",
       "      <th>Name</th>\n",
       "      <th>Sex</th>\n",
       "      <th>Age</th>\n",
       "      <th>SibSp</th>\n",
       "      <th>Parch</th>\n",
       "      <th>Ticket</th>\n",
       "      <th>Fare</th>\n",
       "      <th>Cabin</th>\n",
       "      <th>Embarked</th>\n",
       "    </tr>\n",
       "  </thead>\n",
       "  <tbody>\n",
       "    <tr>\n",
       "      <th>0</th>\n",
       "      <td>892</td>\n",
       "      <td>3</td>\n",
       "      <td>Kelly, Mr. James</td>\n",
       "      <td>male</td>\n",
       "      <td>34.5</td>\n",
       "      <td>0</td>\n",
       "      <td>0</td>\n",
       "      <td>330911</td>\n",
       "      <td>7.8292</td>\n",
       "      <td>NaN</td>\n",
       "      <td>Q</td>\n",
       "    </tr>\n",
       "    <tr>\n",
       "      <th>1</th>\n",
       "      <td>893</td>\n",
       "      <td>3</td>\n",
       "      <td>Wilkes, Mrs. James (Ellen Needs)</td>\n",
       "      <td>female</td>\n",
       "      <td>47.0</td>\n",
       "      <td>1</td>\n",
       "      <td>0</td>\n",
       "      <td>363272</td>\n",
       "      <td>7.0000</td>\n",
       "      <td>NaN</td>\n",
       "      <td>S</td>\n",
       "    </tr>\n",
       "    <tr>\n",
       "      <th>2</th>\n",
       "      <td>894</td>\n",
       "      <td>2</td>\n",
       "      <td>Myles, Mr. Thomas Francis</td>\n",
       "      <td>male</td>\n",
       "      <td>62.0</td>\n",
       "      <td>0</td>\n",
       "      <td>0</td>\n",
       "      <td>240276</td>\n",
       "      <td>9.6875</td>\n",
       "      <td>NaN</td>\n",
       "      <td>Q</td>\n",
       "    </tr>\n",
       "    <tr>\n",
       "      <th>3</th>\n",
       "      <td>895</td>\n",
       "      <td>3</td>\n",
       "      <td>Wirz, Mr. Albert</td>\n",
       "      <td>male</td>\n",
       "      <td>27.0</td>\n",
       "      <td>0</td>\n",
       "      <td>0</td>\n",
       "      <td>315154</td>\n",
       "      <td>8.6625</td>\n",
       "      <td>NaN</td>\n",
       "      <td>S</td>\n",
       "    </tr>\n",
       "    <tr>\n",
       "      <th>4</th>\n",
       "      <td>896</td>\n",
       "      <td>3</td>\n",
       "      <td>Hirvonen, Mrs. Alexander (Helga E Lindqvist)</td>\n",
       "      <td>female</td>\n",
       "      <td>22.0</td>\n",
       "      <td>1</td>\n",
       "      <td>1</td>\n",
       "      <td>3101298</td>\n",
       "      <td>12.2875</td>\n",
       "      <td>NaN</td>\n",
       "      <td>S</td>\n",
       "    </tr>\n",
       "  </tbody>\n",
       "</table>\n",
       "</div>"
      ],
      "text/plain": [
       "   PassengerId  Pclass                                          Name     Sex  \\\n",
       "0          892       3                              Kelly, Mr. James    male   \n",
       "1          893       3              Wilkes, Mrs. James (Ellen Needs)  female   \n",
       "2          894       2                     Myles, Mr. Thomas Francis    male   \n",
       "3          895       3                              Wirz, Mr. Albert    male   \n",
       "4          896       3  Hirvonen, Mrs. Alexander (Helga E Lindqvist)  female   \n",
       "\n",
       "    Age  SibSp  Parch   Ticket     Fare Cabin Embarked  \n",
       "0  34.5      0      0   330911   7.8292   NaN        Q  \n",
       "1  47.0      1      0   363272   7.0000   NaN        S  \n",
       "2  62.0      0      0   240276   9.6875   NaN        Q  \n",
       "3  27.0      0      0   315154   8.6625   NaN        S  \n",
       "4  22.0      1      1  3101298  12.2875   NaN        S  "
      ]
     },
     "execution_count": 7,
     "metadata": {},
     "output_type": "execute_result"
    }
   ],
   "source": [
    "test.head()"
   ]
  },
  {
   "cell_type": "code",
   "execution_count": 8,
   "id": "eb080147",
   "metadata": {
    "execution": {
     "iopub.execute_input": "2022-10-03T19:13:29.547052Z",
     "iopub.status.busy": "2022-10-03T19:13:29.546289Z",
     "iopub.status.idle": "2022-10-03T19:13:29.549428Z",
     "shell.execute_reply": "2022-10-03T19:13:29.549932Z",
     "shell.execute_reply.started": "2022-10-03T19:12:49.523529Z"
    },
    "papermill": {
     "duration": 0.061596,
     "end_time": "2022-10-03T19:13:29.550126",
     "exception": false,
     "start_time": "2022-10-03T19:13:29.488530",
     "status": "completed"
    },
    "tags": []
   },
   "outputs": [
    {
     "data": {
      "text/html": [
       "<div>\n",
       "<style scoped>\n",
       "    .dataframe tbody tr th:only-of-type {\n",
       "        vertical-align: middle;\n",
       "    }\n",
       "\n",
       "    .dataframe tbody tr th {\n",
       "        vertical-align: top;\n",
       "    }\n",
       "\n",
       "    .dataframe thead th {\n",
       "        text-align: right;\n",
       "    }\n",
       "</style>\n",
       "<table border=\"1\" class=\"dataframe\">\n",
       "  <thead>\n",
       "    <tr style=\"text-align: right;\">\n",
       "      <th></th>\n",
       "      <th>PassengerId</th>\n",
       "      <th>Survived</th>\n",
       "    </tr>\n",
       "  </thead>\n",
       "  <tbody>\n",
       "    <tr>\n",
       "      <th>0</th>\n",
       "      <td>892</td>\n",
       "      <td>0</td>\n",
       "    </tr>\n",
       "    <tr>\n",
       "      <th>1</th>\n",
       "      <td>893</td>\n",
       "      <td>1</td>\n",
       "    </tr>\n",
       "    <tr>\n",
       "      <th>2</th>\n",
       "      <td>894</td>\n",
       "      <td>0</td>\n",
       "    </tr>\n",
       "    <tr>\n",
       "      <th>3</th>\n",
       "      <td>895</td>\n",
       "      <td>0</td>\n",
       "    </tr>\n",
       "    <tr>\n",
       "      <th>4</th>\n",
       "      <td>896</td>\n",
       "      <td>1</td>\n",
       "    </tr>\n",
       "  </tbody>\n",
       "</table>\n",
       "</div>"
      ],
      "text/plain": [
       "   PassengerId  Survived\n",
       "0          892         0\n",
       "1          893         1\n",
       "2          894         0\n",
       "3          895         0\n",
       "4          896         1"
      ]
     },
     "execution_count": 8,
     "metadata": {},
     "output_type": "execute_result"
    }
   ],
   "source": [
    "submit.head()"
   ]
  },
  {
   "cell_type": "code",
   "execution_count": 9,
   "id": "bbd2adc0",
   "metadata": {
    "execution": {
     "iopub.execute_input": "2022-10-03T19:13:29.651837Z",
     "iopub.status.busy": "2022-10-03T19:13:29.651110Z",
     "iopub.status.idle": "2022-10-03T19:13:29.659974Z",
     "shell.execute_reply": "2022-10-03T19:13:29.659244Z",
     "shell.execute_reply.started": "2022-10-03T19:12:49.533708Z"
    },
    "papermill": {
     "duration": 0.061752,
     "end_time": "2022-10-03T19:13:29.660146",
     "exception": false,
     "start_time": "2022-10-03T19:13:29.598394",
     "status": "completed"
    },
    "tags": []
   },
   "outputs": [
    {
     "data": {
      "text/plain": [
       "Age         177\n",
       "Cabin       687\n",
       "Embarked      2\n",
       "dtype: int64"
      ]
     },
     "execution_count": 9,
     "metadata": {},
     "output_type": "execute_result"
    }
   ],
   "source": [
    "# Getting null values in train\n",
    "train_null=train.isnull().sum()\n",
    "train_null[train_null>0]"
   ]
  },
  {
   "cell_type": "code",
   "execution_count": 10,
   "id": "ea7d526e",
   "metadata": {
    "execution": {
     "iopub.execute_input": "2022-10-03T19:13:29.764901Z",
     "iopub.status.busy": "2022-10-03T19:13:29.764189Z",
     "iopub.status.idle": "2022-10-03T19:13:29.774253Z",
     "shell.execute_reply": "2022-10-03T19:13:29.773420Z",
     "shell.execute_reply.started": "2022-10-03T19:12:49.549482Z"
    },
    "papermill": {
     "duration": 0.064647,
     "end_time": "2022-10-03T19:13:29.774426",
     "exception": false,
     "start_time": "2022-10-03T19:13:29.709779",
     "status": "completed"
    },
    "tags": []
   },
   "outputs": [
    {
     "data": {
      "text/plain": [
       "Age       86\n",
       "Fare       1\n",
       "Cabin    327\n",
       "dtype: int64"
      ]
     },
     "execution_count": 10,
     "metadata": {},
     "output_type": "execute_result"
    }
   ],
   "source": [
    "# Getting null values in test\n",
    "test_null=test.isnull().sum()\n",
    "test_null[test_null>0]"
   ]
  },
  {
   "cell_type": "code",
   "execution_count": 11,
   "id": "1c0a5f41",
   "metadata": {
    "execution": {
     "iopub.execute_input": "2022-10-03T19:13:29.895830Z",
     "iopub.status.busy": "2022-10-03T19:13:29.894730Z",
     "iopub.status.idle": "2022-10-03T19:13:29.901047Z",
     "shell.execute_reply": "2022-10-03T19:13:29.901546Z",
     "shell.execute_reply.started": "2022-10-03T19:12:49.561621Z"
    },
    "papermill": {
     "duration": 0.074921,
     "end_time": "2022-10-03T19:13:29.901748",
     "exception": false,
     "start_time": "2022-10-03T19:13:29.826827",
     "status": "completed"
    },
    "tags": []
   },
   "outputs": [
    {
     "data": {
      "text/html": [
       "<div>\n",
       "<style scoped>\n",
       "    .dataframe tbody tr th:only-of-type {\n",
       "        vertical-align: middle;\n",
       "    }\n",
       "\n",
       "    .dataframe tbody tr th {\n",
       "        vertical-align: top;\n",
       "    }\n",
       "\n",
       "    .dataframe thead th {\n",
       "        text-align: right;\n",
       "    }\n",
       "</style>\n",
       "<table border=\"1\" class=\"dataframe\">\n",
       "  <thead>\n",
       "    <tr style=\"text-align: right;\">\n",
       "      <th></th>\n",
       "      <th>missing</th>\n",
       "      <th>missing%</th>\n",
       "    </tr>\n",
       "  </thead>\n",
       "  <tbody>\n",
       "    <tr>\n",
       "      <th>Age</th>\n",
       "      <td>177</td>\n",
       "      <td>19.87</td>\n",
       "    </tr>\n",
       "    <tr>\n",
       "      <th>Cabin</th>\n",
       "      <td>687</td>\n",
       "      <td>77.10</td>\n",
       "    </tr>\n",
       "    <tr>\n",
       "      <th>Embarked</th>\n",
       "      <td>2</td>\n",
       "      <td>0.22</td>\n",
       "    </tr>\n",
       "  </tbody>\n",
       "</table>\n",
       "</div>"
      ],
      "text/plain": [
       "          missing  missing%\n",
       "Age           177     19.87\n",
       "Cabin         687     77.10\n",
       "Embarked        2      0.22"
      ]
     },
     "execution_count": 11,
     "metadata": {},
     "output_type": "execute_result"
    }
   ],
   "source": [
    "# Percentage of missing values in train\n",
    "null=pd.DataFrame(train_null[train_null>0])\n",
    "null.columns=['missing']\n",
    "null['missing%']=((null['missing']/train.shape[0])*100).round(2)\n",
    "null"
   ]
  },
  {
   "cell_type": "code",
   "execution_count": 12,
   "id": "afe1a49b",
   "metadata": {
    "execution": {
     "iopub.execute_input": "2022-10-03T19:13:30.016773Z",
     "iopub.status.busy": "2022-10-03T19:13:30.015736Z",
     "iopub.status.idle": "2022-10-03T19:13:30.020201Z",
     "shell.execute_reply": "2022-10-03T19:13:30.019625Z",
     "shell.execute_reply.started": "2022-10-03T19:12:49.576684Z"
    },
    "papermill": {
     "duration": 0.067541,
     "end_time": "2022-10-03T19:13:30.020355",
     "exception": false,
     "start_time": "2022-10-03T19:13:29.952814",
     "status": "completed"
    },
    "tags": []
   },
   "outputs": [
    {
     "data": {
      "text/html": [
       "<div>\n",
       "<style scoped>\n",
       "    .dataframe tbody tr th:only-of-type {\n",
       "        vertical-align: middle;\n",
       "    }\n",
       "\n",
       "    .dataframe tbody tr th {\n",
       "        vertical-align: top;\n",
       "    }\n",
       "\n",
       "    .dataframe thead th {\n",
       "        text-align: right;\n",
       "    }\n",
       "</style>\n",
       "<table border=\"1\" class=\"dataframe\">\n",
       "  <thead>\n",
       "    <tr style=\"text-align: right;\">\n",
       "      <th></th>\n",
       "      <th>missing</th>\n",
       "      <th>missing%</th>\n",
       "    </tr>\n",
       "  </thead>\n",
       "  <tbody>\n",
       "    <tr>\n",
       "      <th>Age</th>\n",
       "      <td>86</td>\n",
       "      <td>20.57</td>\n",
       "    </tr>\n",
       "    <tr>\n",
       "      <th>Fare</th>\n",
       "      <td>1</td>\n",
       "      <td>0.24</td>\n",
       "    </tr>\n",
       "    <tr>\n",
       "      <th>Cabin</th>\n",
       "      <td>327</td>\n",
       "      <td>78.23</td>\n",
       "    </tr>\n",
       "  </tbody>\n",
       "</table>\n",
       "</div>"
      ],
      "text/plain": [
       "       missing  missing%\n",
       "Age         86     20.57\n",
       "Fare         1      0.24\n",
       "Cabin      327     78.23"
      ]
     },
     "execution_count": 12,
     "metadata": {},
     "output_type": "execute_result"
    }
   ],
   "source": [
    "# Percentage of missing values in test\n",
    "null=pd.DataFrame(test_null[test_null>0])\n",
    "null.columns=['missing']\n",
    "null['missing%']=((null['missing']/test.shape[0])*100).round(2)\n",
    "null"
   ]
  },
  {
   "cell_type": "markdown",
   "id": "a3612b32",
   "metadata": {
    "papermill": {
     "duration": 0.050532,
     "end_time": "2022-10-03T19:13:30.121361",
     "exception": false,
     "start_time": "2022-10-03T19:13:30.070829",
     "status": "completed"
    },
    "tags": []
   },
   "source": [
    "> Cabin Column has more than 75 percent missing values in both train and test data, it is better to drop it."
   ]
  },
  {
   "cell_type": "code",
   "execution_count": 13,
   "id": "a601cade",
   "metadata": {
    "execution": {
     "iopub.execute_input": "2022-10-03T19:13:30.233184Z",
     "iopub.status.busy": "2022-10-03T19:13:30.232197Z",
     "iopub.status.idle": "2022-10-03T19:13:30.234951Z",
     "shell.execute_reply": "2022-10-03T19:13:30.235598Z",
     "shell.execute_reply.started": "2022-10-03T19:12:49.595535Z"
    },
    "papermill": {
     "duration": 0.064302,
     "end_time": "2022-10-03T19:13:30.235790",
     "exception": false,
     "start_time": "2022-10-03T19:13:30.171488",
     "status": "completed"
    },
    "tags": []
   },
   "outputs": [],
   "source": [
    "train.drop('Cabin',axis='columns',inplace=True)\n",
    "test.drop('Cabin',axis='columns',inplace=True)"
   ]
  },
  {
   "cell_type": "code",
   "execution_count": 14,
   "id": "45f45296",
   "metadata": {
    "execution": {
     "iopub.execute_input": "2022-10-03T19:13:30.343514Z",
     "iopub.status.busy": "2022-10-03T19:13:30.342392Z",
     "iopub.status.idle": "2022-10-03T19:13:30.344998Z",
     "shell.execute_reply": "2022-10-03T19:13:30.345523Z",
     "shell.execute_reply.started": "2022-10-03T19:12:49.604944Z"
    },
    "papermill": {
     "duration": 0.058643,
     "end_time": "2022-10-03T19:13:30.345710",
     "exception": false,
     "start_time": "2022-10-03T19:13:30.287067",
     "status": "completed"
    },
    "tags": []
   },
   "outputs": [],
   "source": [
    "# lets deal with age column"
   ]
  },
  {
   "cell_type": "code",
   "execution_count": 16,
   "id": "517333cf",
   "metadata": {
    "execution": {
     "iopub.execute_input": "2022-10-03T19:13:30.450004Z",
     "iopub.status.busy": "2022-10-03T19:13:30.448986Z",
     "iopub.status.idle": "2022-10-03T19:13:30.883805Z",
     "shell.execute_reply": "2022-10-03T19:13:30.883164Z",
     "shell.execute_reply.started": "2022-10-03T19:12:49.614530Z"
    },
    "papermill": {
     "duration": 0.488019,
     "end_time": "2022-10-03T19:13:30.883965",
     "exception": false,
     "start_time": "2022-10-03T19:13:30.395946",
     "status": "completed"
    },
    "tags": []
   },
   "outputs": [
    {
     "data": {
      "image/png": "[encoded data removed]",
      "text/plain": [
       "<Figure size 500x500 with 1 Axes>"
      ]
     },
     "metadata": {},
     "output_type": "display_data"
    }
   ],
   "source": [
    "# plt.figure(figsize=(3,2))\n",
    "sns.displot(train['Age'])\n",
    "plt.title('Train Distribution')\n",
    "plt.ylabel('Count')\n",
    "plt.show()"
   ]
  },
  {
   "cell_type": "code",
   "execution_count": 20,
   "id": "d4270684",
   "metadata": {
    "execution": {
     "iopub.execute_input": "2022-10-03T19:13:31.149035Z",
     "iopub.status.busy": "2022-10-03T19:13:31.135098Z",
     "iopub.status.idle": "2022-10-03T19:13:31.490830Z",
     "shell.execute_reply": "2022-10-03T19:13:31.489890Z",
     "shell.execute_reply.started": "2022-10-03T19:12:49.876293Z"
    },
    "papermill": {
     "duration": 0.556372,
     "end_time": "2022-10-03T19:13:31.491009",
     "exception": false,
     "start_time": "2022-10-03T19:13:30.934637",
     "status": "completed"
    },
    "scrolled": true,
    "tags": []
   },
   "outputs": [
    {
     "data": {
      "image/png": "[encoded data removed]",
      "text/plain": [
       "<Figure size 500x500 with 1 Axes>"
      ]
     },
     "metadata": {},
     "output_type": "display_data"
    }
   ],
   "source": [
    "sns.displot(test['Age'])\n",
    "plt.title('Test Distribution')\n",
    "plt.ylabel('Count')\n",
    "plt.show()"
   ]
  },
  {
   "cell_type": "code",
   "execution_count": 21,
   "id": "5bfc513f",
   "metadata": {
    "execution": {
     "iopub.execute_input": "2022-10-03T19:13:31.602690Z",
     "iopub.status.busy": "2022-10-03T19:13:31.601974Z",
     "iopub.status.idle": "2022-10-03T19:13:31.608054Z",
     "shell.execute_reply": "2022-10-03T19:13:31.608607Z",
     "shell.execute_reply.started": "2022-10-03T19:12:50.128804Z"
    },
    "papermill": {
     "duration": 0.065495,
     "end_time": "2022-10-03T19:13:31.608819",
     "exception": false,
     "start_time": "2022-10-03T19:13:31.543324",
     "status": "completed"
    },
    "tags": []
   },
   "outputs": [
    {
     "data": {
      "text/plain": [
       "count    714.000000\n",
       "mean      29.699118\n",
       "std       14.526497\n",
       "min        0.420000\n",
       "25%       20.125000\n",
       "50%       28.000000\n",
       "75%       38.000000\n",
       "max       80.000000\n",
       "Name: Age, dtype: float64"
      ]
     },
     "execution_count": 21,
     "metadata": {},
     "output_type": "execute_result"
    }
   ],
   "source": [
    "train['Age'].describe()\n",
    "# print(train['Age'].value_counts())"
   ]
  },
  {
   "cell_type": "markdown",
   "id": "2b9da787",
   "metadata": {
    "papermill": {
     "duration": 0.052847,
     "end_time": "2022-10-03T19:13:31.713732",
     "exception": false,
     "start_time": "2022-10-03T19:13:31.660885",
     "status": "completed"
    },
    "tags": []
   },
   "source": [
    "> Distribution of age is similar to normal distribution, although not like a perfect normal distribution.\n",
    "Mean value is 29, 25% peoples are of age 20 or less, this means 75% peoples are older than 20 years, mean is a good option to fill Null values"
   ]
  },
  {
   "cell_type": "code",
   "execution_count": 22,
   "id": "aad83379",
   "metadata": {
    "execution": {
     "iopub.execute_input": "2022-10-03T19:13:31.828258Z",
     "iopub.status.busy": "2022-10-03T19:13:31.827281Z",
     "iopub.status.idle": "2022-10-03T19:13:31.830381Z",
     "shell.execute_reply": "2022-10-03T19:13:31.830972Z",
     "shell.execute_reply.started": "2022-10-03T19:12:50.139189Z"
    },
    "papermill": {
     "duration": 0.063753,
     "end_time": "2022-10-03T19:13:31.831157",
     "exception": false,
     "start_time": "2022-10-03T19:13:31.767404",
     "status": "completed"
    },
    "tags": []
   },
   "outputs": [],
   "source": [
    "# Filling missing ages of train dataset\n",
    "mean=train['Age'].mean()\n",
    "train['Age'].fillna(mean,inplace=True)"
   ]
  },
  {
   "cell_type": "code",
   "execution_count": 23,
   "id": "71e1a7d7",
   "metadata": {
    "execution": {
     "iopub.execute_input": "2022-10-03T19:13:31.942158Z",
     "iopub.status.busy": "2022-10-03T19:13:31.940446Z",
     "iopub.status.idle": "2022-10-03T19:13:31.945885Z",
     "shell.execute_reply": "2022-10-03T19:13:31.946428Z",
     "shell.execute_reply.started": "2022-10-03T19:12:50.149245Z"
    },
    "papermill": {
     "duration": 0.064185,
     "end_time": "2022-10-03T19:13:31.946640",
     "exception": false,
     "start_time": "2022-10-03T19:13:31.882455",
     "status": "completed"
    },
    "tags": []
   },
   "outputs": [],
   "source": [
    "# Filling missing ages of test dataset\n",
    "mean=test['Age'].mean()\n",
    "test['Age'].fillna(mean,inplace=True)"
   ]
  },
  {
   "cell_type": "code",
   "execution_count": 24,
   "id": "1e60092f",
   "metadata": {
    "execution": {
     "iopub.execute_input": "2022-10-03T19:13:32.055337Z",
     "iopub.status.busy": "2022-10-03T19:13:32.054251Z",
     "iopub.status.idle": "2022-10-03T19:13:32.062688Z",
     "shell.execute_reply": "2022-10-03T19:13:32.061978Z",
     "shell.execute_reply.started": "2022-10-03T19:12:50.159717Z"
    },
    "papermill": {
     "duration": 0.064741,
     "end_time": "2022-10-03T19:13:32.062851",
     "exception": false,
     "start_time": "2022-10-03T19:13:31.998110",
     "status": "completed"
    },
    "tags": []
   },
   "outputs": [
    {
     "data": {
      "text/plain": [
       "S    644\n",
       "C    168\n",
       "Q     77\n",
       "Name: Embarked, dtype: int64"
      ]
     },
     "execution_count": 24,
     "metadata": {},
     "output_type": "execute_result"
    }
   ],
   "source": [
    "# Train['Embarked'] has 2 missing value lets do it  \n",
    "train['Embarked'].value_counts(ascending=False)"
   ]
  },
  {
   "cell_type": "code",
   "execution_count": 25,
   "id": "9845bdb7",
   "metadata": {
    "execution": {
     "iopub.execute_input": "2022-10-03T19:13:32.177091Z",
     "iopub.status.busy": "2022-10-03T19:13:32.176339Z",
     "iopub.status.idle": "2022-10-03T19:13:32.180936Z",
     "shell.execute_reply": "2022-10-03T19:13:32.179929Z",
     "shell.execute_reply.started": "2022-10-03T19:12:50.171093Z"
    },
    "papermill": {
     "duration": 0.066392,
     "end_time": "2022-10-03T19:13:32.181101",
     "exception": false,
     "start_time": "2022-10-03T19:13:32.114709",
     "status": "completed"
    },
    "tags": []
   },
   "outputs": [
    {
     "data": {
      "text/plain": [
       "array(['S', 'C', 'Q', nan], dtype=object)"
      ]
     },
     "execution_count": 25,
     "metadata": {},
     "output_type": "execute_result"
    }
   ],
   "source": [
    "train['Embarked'].unique()"
   ]
  },
  {
   "cell_type": "code",
   "execution_count": 26,
   "id": "ac67a81b",
   "metadata": {
    "execution": {
     "iopub.execute_input": "2022-10-03T19:13:32.293699Z",
     "iopub.status.busy": "2022-10-03T19:13:32.292962Z",
     "iopub.status.idle": "2022-10-03T19:13:32.295892Z",
     "shell.execute_reply": "2022-10-03T19:13:32.295353Z",
     "shell.execute_reply.started": "2022-10-03T19:12:50.181543Z"
    },
    "papermill": {
     "duration": 0.06078,
     "end_time": "2022-10-03T19:13:32.296047",
     "exception": false,
     "start_time": "2022-10-03T19:13:32.235267",
     "status": "completed"
    },
    "tags": []
   },
   "outputs": [],
   "source": [
    "import numpy as np"
   ]
  },
  {
   "cell_type": "code",
   "execution_count": 27,
   "id": "22a117de",
   "metadata": {
    "execution": {
     "iopub.execute_input": "2022-10-03T19:13:32.419984Z",
     "iopub.status.busy": "2022-10-03T19:13:32.418709Z",
     "iopub.status.idle": "2022-10-03T19:13:32.424167Z",
     "shell.execute_reply": "2022-10-03T19:13:32.423596Z",
     "shell.execute_reply.started": "2022-10-03T19:12:50.189160Z"
    },
    "papermill": {
     "duration": 0.073857,
     "end_time": "2022-10-03T19:13:32.424320",
     "exception": false,
     "start_time": "2022-10-03T19:13:32.350463",
     "status": "completed"
    },
    "tags": []
   },
   "outputs": [
    {
     "data": {
      "text/html": [
       "<div>\n",
       "<style scoped>\n",
       "    .dataframe tbody tr th:only-of-type {\n",
       "        vertical-align: middle;\n",
       "    }\n",
       "\n",
       "    .dataframe tbody tr th {\n",
       "        vertical-align: top;\n",
       "    }\n",
       "\n",
       "    .dataframe thead th {\n",
       "        text-align: right;\n",
       "    }\n",
       "</style>\n",
       "<table border=\"1\" class=\"dataframe\">\n",
       "  <thead>\n",
       "    <tr style=\"text-align: right;\">\n",
       "      <th></th>\n",
       "      <th>Name</th>\n",
       "      <th>Sex</th>\n",
       "      <th>Ticket</th>\n",
       "      <th>Embarked</th>\n",
       "    </tr>\n",
       "  </thead>\n",
       "  <tbody>\n",
       "    <tr>\n",
       "      <th>61</th>\n",
       "      <td>Icard, Miss. Amelie</td>\n",
       "      <td>female</td>\n",
       "      <td>113572</td>\n",
       "      <td>NaN</td>\n",
       "    </tr>\n",
       "    <tr>\n",
       "      <th>829</th>\n",
       "      <td>Stone, Mrs. George Nelson (Martha Evelyn)</td>\n",
       "      <td>female</td>\n",
       "      <td>113572</td>\n",
       "      <td>NaN</td>\n",
       "    </tr>\n",
       "  </tbody>\n",
       "</table>\n",
       "</div>"
      ],
      "text/plain": [
       "                                          Name     Sex  Ticket Embarked\n",
       "61                         Icard, Miss. Amelie  female  113572      NaN\n",
       "829  Stone, Mrs. George Nelson (Martha Evelyn)  female  113572      NaN"
      ]
     },
     "execution_count": 27,
     "metadata": {},
     "output_type": "execute_result"
    }
   ],
   "source": [
    "cat_train=train.select_dtypes(include='object')\n",
    "cat_train[cat_train['Embarked'].isna()]"
   ]
  },
  {
   "cell_type": "code",
   "execution_count": 28,
   "id": "ffa8ddb0",
   "metadata": {
    "execution": {
     "iopub.execute_input": "2022-10-03T19:13:32.538072Z",
     "iopub.status.busy": "2022-10-03T19:13:32.537017Z",
     "iopub.status.idle": "2022-10-03T19:13:32.540543Z",
     "shell.execute_reply": "2022-10-03T19:13:32.539843Z",
     "shell.execute_reply.started": "2022-10-03T19:12:50.207426Z"
    },
    "papermill": {
     "duration": 0.062732,
     "end_time": "2022-10-03T19:13:32.540701",
     "exception": false,
     "start_time": "2022-10-03T19:13:32.477969",
     "status": "completed"
    },
    "tags": []
   },
   "outputs": [],
   "source": [
    "# filling with the most frequent value\n",
    "train['Embarked'].fillna('S',inplace=True)"
   ]
  },
  {
   "cell_type": "code",
   "execution_count": 29,
   "id": "05ab0ece",
   "metadata": {
    "execution": {
     "iopub.execute_input": "2022-10-03T19:13:32.656248Z",
     "iopub.status.busy": "2022-10-03T19:13:32.655302Z",
     "iopub.status.idle": "2022-10-03T19:13:32.659451Z",
     "shell.execute_reply": "2022-10-03T19:13:32.658899Z",
     "shell.execute_reply.started": "2022-10-03T19:12:50.317615Z"
    },
    "papermill": {
     "duration": 0.065053,
     "end_time": "2022-10-03T19:13:32.659619",
     "exception": false,
     "start_time": "2022-10-03T19:13:32.594566",
     "status": "completed"
    },
    "tags": []
   },
   "outputs": [
    {
     "data": {
      "text/plain": [
       "0"
      ]
     },
     "execution_count": 29,
     "metadata": {},
     "output_type": "execute_result"
    }
   ],
   "source": [
    "train.isnull().sum().sum()"
   ]
  },
  {
   "cell_type": "markdown",
   "id": "c291c362",
   "metadata": {
    "papermill": {
     "duration": 0.053113,
     "end_time": "2022-10-03T19:13:32.767189",
     "exception": false,
     "start_time": "2022-10-03T19:13:32.714076",
     "status": "completed"
    },
    "tags": []
   },
   "source": [
    "> Train data has no missing value."
   ]
  },
  {
   "cell_type": "code",
   "execution_count": 31,
   "id": "5666546d",
   "metadata": {
    "execution": {
     "iopub.execute_input": "2022-10-03T19:13:32.886733Z",
     "iopub.status.busy": "2022-10-03T19:13:32.885665Z",
     "iopub.status.idle": "2022-10-03T19:13:32.890096Z",
     "shell.execute_reply": "2022-10-03T19:13:32.889531Z",
     "shell.execute_reply.started": "2022-10-03T19:12:50.331851Z"
    },
    "papermill": {
     "duration": 0.068749,
     "end_time": "2022-10-03T19:13:32.890250",
     "exception": false,
     "start_time": "2022-10-03T19:13:32.821501",
     "status": "completed"
    },
    "tags": []
   },
   "outputs": [
    {
     "data": {
      "text/plain": [
       "Fare    1\n",
       "dtype: int64"
      ]
     },
     "execution_count": 31,
     "metadata": {},
     "output_type": "execute_result"
    }
   ],
   "source": [
    "test.isnull().sum()[test.isnull().sum()>0]"
   ]
  },
  {
   "cell_type": "markdown",
   "id": "254609d4",
   "metadata": {
    "papermill": {
     "duration": 0.053683,
     "end_time": "2022-10-03T19:13:32.999329",
     "exception": false,
     "start_time": "2022-10-03T19:13:32.945646",
     "status": "completed"
    },
    "tags": []
   },
   "source": [
    "> Test data has just one missing value in fare column"
   ]
  },
  {
   "cell_type": "code",
   "execution_count": 32,
   "id": "c126e28f",
   "metadata": {
    "execution": {
     "iopub.execute_input": "2022-10-03T19:13:33.116175Z",
     "iopub.status.busy": "2022-10-03T19:13:33.115201Z",
     "iopub.status.idle": "2022-10-03T19:13:33.118613Z",
     "shell.execute_reply": "2022-10-03T19:13:33.117878Z",
     "shell.execute_reply.started": "2022-10-03T19:12:50.348210Z"
    },
    "papermill": {
     "duration": 0.062875,
     "end_time": "2022-10-03T19:13:33.118775",
     "exception": false,
     "start_time": "2022-10-03T19:13:33.055900",
     "status": "completed"
    },
    "tags": []
   },
   "outputs": [],
   "source": [
    "test.Fare.fillna(test.Fare.mean(),inplace=True)"
   ]
  },
  {
   "cell_type": "code",
   "execution_count": 33,
   "id": "e9cf9e52",
   "metadata": {
    "execution": {
     "iopub.execute_input": "2022-10-03T19:13:33.234311Z",
     "iopub.status.busy": "2022-10-03T19:13:33.233397Z",
     "iopub.status.idle": "2022-10-03T19:13:33.236668Z",
     "shell.execute_reply": "2022-10-03T19:13:33.237259Z",
     "shell.execute_reply.started": "2022-10-03T19:12:50.360092Z"
    },
    "papermill": {
     "duration": 0.064705,
     "end_time": "2022-10-03T19:13:33.237437",
     "exception": false,
     "start_time": "2022-10-03T19:13:33.172732",
     "status": "completed"
    },
    "tags": []
   },
   "outputs": [
    {
     "data": {
      "text/plain": [
       "0"
      ]
     },
     "execution_count": 33,
     "metadata": {},
     "output_type": "execute_result"
    }
   ],
   "source": [
    "test.isnull().sum().sum()"
   ]
  },
  {
   "cell_type": "markdown",
   "id": "839f0c4e",
   "metadata": {
    "papermill": {
     "duration": 0.054818,
     "end_time": "2022-10-03T19:13:33.345753",
     "exception": false,
     "start_time": "2022-10-03T19:13:33.290935",
     "status": "completed"
    },
    "tags": []
   },
   "source": [
    "#### Now we have imputed all missing values, now we will perform data preprocessing"
   ]
  },
  {
   "cell_type": "code",
   "execution_count": 34,
   "id": "bf020b2a",
   "metadata": {
    "execution": {
     "iopub.execute_input": "2022-10-03T19:13:33.470220Z",
     "iopub.status.busy": "2022-10-03T19:13:33.469123Z",
     "iopub.status.idle": "2022-10-03T19:13:33.473829Z",
     "shell.execute_reply": "2022-10-03T19:13:33.473192Z",
     "shell.execute_reply.started": "2022-10-03T19:12:50.371855Z"
    },
    "papermill": {
     "duration": 0.073866,
     "end_time": "2022-10-03T19:13:33.473987",
     "exception": false,
     "start_time": "2022-10-03T19:13:33.400121",
     "status": "completed"
    },
    "tags": []
   },
   "outputs": [
    {
     "data": {
      "text/html": [
       "<div>\n",
       "<style scoped>\n",
       "    .dataframe tbody tr th:only-of-type {\n",
       "        vertical-align: middle;\n",
       "    }\n",
       "\n",
       "    .dataframe tbody tr th {\n",
       "        vertical-align: top;\n",
       "    }\n",
       "\n",
       "    .dataframe thead th {\n",
       "        text-align: right;\n",
       "    }\n",
       "</style>\n",
       "<table border=\"1\" class=\"dataframe\">\n",
       "  <thead>\n",
       "    <tr style=\"text-align: right;\">\n",
       "      <th></th>\n",
       "      <th>PassengerId</th>\n",
       "      <th>Survived</th>\n",
       "      <th>Pclass</th>\n",
       "      <th>Name</th>\n",
       "      <th>Sex</th>\n",
       "      <th>Age</th>\n",
       "      <th>SibSp</th>\n",
       "      <th>Parch</th>\n",
       "      <th>Ticket</th>\n",
       "      <th>Fare</th>\n",
       "      <th>Embarked</th>\n",
       "    </tr>\n",
       "  </thead>\n",
       "  <tbody>\n",
       "    <tr>\n",
       "      <th>0</th>\n",
       "      <td>1</td>\n",
       "      <td>0</td>\n",
       "      <td>3</td>\n",
       "      <td>Braund, Mr. Owen Harris</td>\n",
       "      <td>male</td>\n",
       "      <td>22.0</td>\n",
       "      <td>1</td>\n",
       "      <td>0</td>\n",
       "      <td>A/5 21171</td>\n",
       "      <td>7.2500</td>\n",
       "      <td>S</td>\n",
       "    </tr>\n",
       "    <tr>\n",
       "      <th>1</th>\n",
       "      <td>2</td>\n",
       "      <td>1</td>\n",
       "      <td>1</td>\n",
       "      <td>Cumings, Mrs. John Bradley (Florence Briggs Th...</td>\n",
       "      <td>female</td>\n",
       "      <td>38.0</td>\n",
       "      <td>1</td>\n",
       "      <td>0</td>\n",
       "      <td>PC 17599</td>\n",
       "      <td>71.2833</td>\n",
       "      <td>C</td>\n",
       "    </tr>\n",
       "  </tbody>\n",
       "</table>\n",
       "</div>"
      ],
      "text/plain": [
       "   PassengerId  Survived  Pclass  \\\n",
       "0            1         0       3   \n",
       "1            2         1       1   \n",
       "\n",
       "                                                Name     Sex   Age  SibSp  \\\n",
       "0                            Braund, Mr. Owen Harris    male  22.0      1   \n",
       "1  Cumings, Mrs. John Bradley (Florence Briggs Th...  female  38.0      1   \n",
       "\n",
       "   Parch     Ticket     Fare Embarked  \n",
       "0      0  A/5 21171   7.2500        S  \n",
       "1      0   PC 17599  71.2833        C  "
      ]
     },
     "execution_count": 34,
     "metadata": {},
     "output_type": "execute_result"
    }
   ],
   "source": [
    "train.head(2)"
   ]
  },
  {
   "cell_type": "code",
   "execution_count": 35,
   "id": "99cf328e",
   "metadata": {
    "execution": {
     "iopub.execute_input": "2022-10-03T19:13:33.591193Z",
     "iopub.status.busy": "2022-10-03T19:13:33.590224Z",
     "iopub.status.idle": "2022-10-03T19:13:33.593667Z",
     "shell.execute_reply": "2022-10-03T19:13:33.593012Z",
     "shell.execute_reply.started": "2022-10-03T19:12:50.389090Z"
    },
    "papermill": {
     "duration": 0.064797,
     "end_time": "2022-10-03T19:13:33.593823",
     "exception": false,
     "start_time": "2022-10-03T19:13:33.529026",
     "status": "completed"
    },
    "tags": []
   },
   "outputs": [],
   "source": [
    "x=train.drop(['PassengerId','Survived','Name','Ticket'],axis=1)\n",
    "y=train['Survived']"
   ]
  },
  {
   "cell_type": "code",
   "execution_count": 36,
   "id": "40e54e83",
   "metadata": {
    "execution": {
     "iopub.execute_input": "2022-10-03T19:13:33.708553Z",
     "iopub.status.busy": "2022-10-03T19:13:33.707452Z",
     "iopub.status.idle": "2022-10-03T19:13:33.709891Z",
     "shell.execute_reply": "2022-10-03T19:13:33.710548Z",
     "shell.execute_reply.started": "2022-10-03T19:12:50.398241Z"
    },
    "papermill": {
     "duration": 0.063083,
     "end_time": "2022-10-03T19:13:33.710732",
     "exception": false,
     "start_time": "2022-10-03T19:13:33.647649",
     "status": "completed"
    },
    "tags": []
   },
   "outputs": [],
   "source": [
    "ID=test['PassengerId']"
   ]
  },
  {
   "cell_type": "code",
   "execution_count": 37,
   "id": "0609150e",
   "metadata": {
    "execution": {
     "iopub.execute_input": "2022-10-03T19:13:33.828365Z",
     "iopub.status.busy": "2022-10-03T19:13:33.827620Z",
     "iopub.status.idle": "2022-10-03T19:13:33.830954Z",
     "shell.execute_reply": "2022-10-03T19:13:33.830354Z",
     "shell.execute_reply.started": "2022-10-03T19:12:50.408716Z"
    },
    "papermill": {
     "duration": 0.066604,
     "end_time": "2022-10-03T19:13:33.831118",
     "exception": false,
     "start_time": "2022-10-03T19:13:33.764514",
     "status": "completed"
    },
    "tags": []
   },
   "outputs": [],
   "source": [
    "test=test.drop(['PassengerId','Name','Ticket'],axis=1)"
   ]
  },
  {
   "cell_type": "code",
   "execution_count": 38,
   "id": "64d4067e",
   "metadata": {
    "execution": {
     "iopub.execute_input": "2022-10-03T19:13:33.944638Z",
     "iopub.status.busy": "2022-10-03T19:13:33.943920Z",
     "iopub.status.idle": "2022-10-03T19:13:33.957656Z",
     "shell.execute_reply": "2022-10-03T19:13:33.956898Z",
     "shell.execute_reply.started": "2022-10-03T19:12:50.420203Z"
    },
    "papermill": {
     "duration": 0.071528,
     "end_time": "2022-10-03T19:13:33.957840",
     "exception": false,
     "start_time": "2022-10-03T19:13:33.886312",
     "status": "completed"
    },
    "tags": []
   },
   "outputs": [
    {
     "data": {
      "text/html": [
       "<div>\n",
       "<style scoped>\n",
       "    .dataframe tbody tr th:only-of-type {\n",
       "        vertical-align: middle;\n",
       "    }\n",
       "\n",
       "    .dataframe tbody tr th {\n",
       "        vertical-align: top;\n",
       "    }\n",
       "\n",
       "    .dataframe thead th {\n",
       "        text-align: right;\n",
       "    }\n",
       "</style>\n",
       "<table border=\"1\" class=\"dataframe\">\n",
       "  <thead>\n",
       "    <tr style=\"text-align: right;\">\n",
       "      <th></th>\n",
       "      <th>Pclass</th>\n",
       "      <th>Sex</th>\n",
       "      <th>Age</th>\n",
       "      <th>SibSp</th>\n",
       "      <th>Parch</th>\n",
       "      <th>Fare</th>\n",
       "      <th>Embarked</th>\n",
       "    </tr>\n",
       "  </thead>\n",
       "  <tbody>\n",
       "    <tr>\n",
       "      <th>0</th>\n",
       "      <td>3</td>\n",
       "      <td>male</td>\n",
       "      <td>22.0</td>\n",
       "      <td>1</td>\n",
       "      <td>0</td>\n",
       "      <td>7.2500</td>\n",
       "      <td>S</td>\n",
       "    </tr>\n",
       "    <tr>\n",
       "      <th>1</th>\n",
       "      <td>1</td>\n",
       "      <td>female</td>\n",
       "      <td>38.0</td>\n",
       "      <td>1</td>\n",
       "      <td>0</td>\n",
       "      <td>71.2833</td>\n",
       "      <td>C</td>\n",
       "    </tr>\n",
       "  </tbody>\n",
       "</table>\n",
       "</div>"
      ],
      "text/plain": [
       "   Pclass     Sex   Age  SibSp  Parch     Fare Embarked\n",
       "0       3    male  22.0      1      0   7.2500        S\n",
       "1       1  female  38.0      1      0  71.2833        C"
      ]
     },
     "execution_count": 38,
     "metadata": {},
     "output_type": "execute_result"
    }
   ],
   "source": [
    "x.head(2)"
   ]
  },
  {
   "cell_type": "code",
   "execution_count": 39,
   "id": "d427ad2e",
   "metadata": {
    "execution": {
     "iopub.execute_input": "2022-10-03T19:13:34.075844Z",
     "iopub.status.busy": "2022-10-03T19:13:34.075068Z",
     "iopub.status.idle": "2022-10-03T19:13:34.077709Z",
     "shell.execute_reply": "2022-10-03T19:13:34.078305Z",
     "shell.execute_reply.started": "2022-10-03T19:12:50.435033Z"
    },
    "papermill": {
     "duration": 0.065529,
     "end_time": "2022-10-03T19:13:34.078522",
     "exception": false,
     "start_time": "2022-10-03T19:13:34.012993",
     "status": "completed"
    },
    "tags": []
   },
   "outputs": [
    {
     "data": {
      "text/plain": [
       "0    0\n",
       "1    1\n",
       "2    1\n",
       "Name: Survived, dtype: int64"
      ]
     },
     "execution_count": 39,
     "metadata": {},
     "output_type": "execute_result"
    }
   ],
   "source": [
    "y[0:3]"
   ]
  },
  {
   "cell_type": "code",
   "execution_count": 40,
   "id": "028bd0dd",
   "metadata": {
    "execution": {
     "iopub.execute_input": "2022-10-03T19:13:34.201868Z",
     "iopub.status.busy": "2022-10-03T19:13:34.195333Z",
     "iopub.status.idle": "2022-10-03T19:13:34.207984Z",
     "shell.execute_reply": "2022-10-03T19:13:34.208606Z",
     "shell.execute_reply.started": "2022-10-03T19:12:50.445777Z"
    },
    "papermill": {
     "duration": 0.073624,
     "end_time": "2022-10-03T19:13:34.208807",
     "exception": false,
     "start_time": "2022-10-03T19:13:34.135183",
     "status": "completed"
    },
    "tags": []
   },
   "outputs": [],
   "source": [
    "x=pd.get_dummies(x,drop_first=True)"
   ]
  },
  {
   "cell_type": "code",
   "execution_count": 41,
   "id": "15a95601",
   "metadata": {
    "execution": {
     "iopub.execute_input": "2022-10-03T19:13:34.325727Z",
     "iopub.status.busy": "2022-10-03T19:13:34.324667Z",
     "iopub.status.idle": "2022-10-03T19:13:34.334890Z",
     "shell.execute_reply": "2022-10-03T19:13:34.335372Z",
     "shell.execute_reply.started": "2022-10-03T19:12:50.461545Z"
    },
    "papermill": {
     "duration": 0.07175,
     "end_time": "2022-10-03T19:13:34.335597",
     "exception": false,
     "start_time": "2022-10-03T19:13:34.263847",
     "status": "completed"
    },
    "tags": []
   },
   "outputs": [],
   "source": [
    "test=pd.get_dummies(test,drop_first=True)"
   ]
  },
  {
   "cell_type": "code",
   "execution_count": 42,
   "id": "2d111fbf",
   "metadata": {
    "execution": {
     "iopub.execute_input": "2022-10-03T19:13:34.459616Z",
     "iopub.status.busy": "2022-10-03T19:13:34.458541Z",
     "iopub.status.idle": "2022-10-03T19:13:34.472441Z",
     "shell.execute_reply": "2022-10-03T19:13:34.471846Z",
     "shell.execute_reply.started": "2022-10-03T19:12:50.475087Z"
    },
    "papermill": {
     "duration": 0.072797,
     "end_time": "2022-10-03T19:13:34.472615",
     "exception": false,
     "start_time": "2022-10-03T19:13:34.399818",
     "status": "completed"
    },
    "tags": []
   },
   "outputs": [
    {
     "data": {
      "text/html": [
       "<div>\n",
       "<style scoped>\n",
       "    .dataframe tbody tr th:only-of-type {\n",
       "        vertical-align: middle;\n",
       "    }\n",
       "\n",
       "    .dataframe tbody tr th {\n",
       "        vertical-align: top;\n",
       "    }\n",
       "\n",
       "    .dataframe thead th {\n",
       "        text-align: right;\n",
       "    }\n",
       "</style>\n",
       "<table border=\"1\" class=\"dataframe\">\n",
       "  <thead>\n",
       "    <tr style=\"text-align: right;\">\n",
       "      <th></th>\n",
       "      <th>Pclass</th>\n",
       "      <th>Age</th>\n",
       "      <th>SibSp</th>\n",
       "      <th>Parch</th>\n",
       "      <th>Fare</th>\n",
       "      <th>Sex_male</th>\n",
       "      <th>Embarked_Q</th>\n",
       "      <th>Embarked_S</th>\n",
       "    </tr>\n",
       "  </thead>\n",
       "  <tbody>\n",
       "    <tr>\n",
       "      <th>0</th>\n",
       "      <td>3</td>\n",
       "      <td>22.0</td>\n",
       "      <td>1</td>\n",
       "      <td>0</td>\n",
       "      <td>7.2500</td>\n",
       "      <td>1</td>\n",
       "      <td>0</td>\n",
       "      <td>1</td>\n",
       "    </tr>\n",
       "    <tr>\n",
       "      <th>1</th>\n",
       "      <td>1</td>\n",
       "      <td>38.0</td>\n",
       "      <td>1</td>\n",
       "      <td>0</td>\n",
       "      <td>71.2833</td>\n",
       "      <td>0</td>\n",
       "      <td>0</td>\n",
       "      <td>0</td>\n",
       "    </tr>\n",
       "  </tbody>\n",
       "</table>\n",
       "</div>"
      ],
      "text/plain": [
       "   Pclass   Age  SibSp  Parch     Fare  Sex_male  Embarked_Q  Embarked_S\n",
       "0       3  22.0      1      0   7.2500         1           0           1\n",
       "1       1  38.0      1      0  71.2833         0           0           0"
      ]
     },
     "execution_count": 42,
     "metadata": {},
     "output_type": "execute_result"
    }
   ],
   "source": [
    "x.head(2)"
   ]
  },
  {
   "cell_type": "code",
   "execution_count": 43,
   "id": "4b01f568",
   "metadata": {
    "execution": {
     "iopub.execute_input": "2022-10-03T19:13:34.593222Z",
     "iopub.status.busy": "2022-10-03T19:13:34.592165Z",
     "iopub.status.idle": "2022-10-03T19:13:34.600050Z",
     "shell.execute_reply": "2022-10-03T19:13:34.600522Z",
     "shell.execute_reply.started": "2022-10-03T19:12:50.485937Z"
    },
    "papermill": {
     "duration": 0.072672,
     "end_time": "2022-10-03T19:13:34.600711",
     "exception": false,
     "start_time": "2022-10-03T19:13:34.528039",
     "status": "completed"
    },
    "tags": []
   },
   "outputs": [
    {
     "data": {
      "text/html": [
       "<div>\n",
       "<style scoped>\n",
       "    .dataframe tbody tr th:only-of-type {\n",
       "        vertical-align: middle;\n",
       "    }\n",
       "\n",
       "    .dataframe tbody tr th {\n",
       "        vertical-align: top;\n",
       "    }\n",
       "\n",
       "    .dataframe thead th {\n",
       "        text-align: right;\n",
       "    }\n",
       "</style>\n",
       "<table border=\"1\" class=\"dataframe\">\n",
       "  <thead>\n",
       "    <tr style=\"text-align: right;\">\n",
       "      <th></th>\n",
       "      <th>Pclass</th>\n",
       "      <th>Age</th>\n",
       "      <th>SibSp</th>\n",
       "      <th>Parch</th>\n",
       "      <th>Fare</th>\n",
       "      <th>Sex_male</th>\n",
       "      <th>Embarked_Q</th>\n",
       "      <th>Embarked_S</th>\n",
       "    </tr>\n",
       "  </thead>\n",
       "  <tbody>\n",
       "    <tr>\n",
       "      <th>0</th>\n",
       "      <td>3</td>\n",
       "      <td>34.5</td>\n",
       "      <td>0</td>\n",
       "      <td>0</td>\n",
       "      <td>7.8292</td>\n",
       "      <td>1</td>\n",
       "      <td>1</td>\n",
       "      <td>0</td>\n",
       "    </tr>\n",
       "    <tr>\n",
       "      <th>1</th>\n",
       "      <td>3</td>\n",
       "      <td>47.0</td>\n",
       "      <td>1</td>\n",
       "      <td>0</td>\n",
       "      <td>7.0000</td>\n",
       "      <td>0</td>\n",
       "      <td>0</td>\n",
       "      <td>1</td>\n",
       "    </tr>\n",
       "  </tbody>\n",
       "</table>\n",
       "</div>"
      ],
      "text/plain": [
       "   Pclass   Age  SibSp  Parch    Fare  Sex_male  Embarked_Q  Embarked_S\n",
       "0       3  34.5      0      0  7.8292         1           1           0\n",
       "1       3  47.0      1      0  7.0000         0           0           1"
      ]
     },
     "execution_count": 43,
     "metadata": {},
     "output_type": "execute_result"
    }
   ],
   "source": [
    "test.head(2)"
   ]
  },
  {
   "cell_type": "code",
   "execution_count": 44,
   "id": "1cb36327",
   "metadata": {
    "execution": {
     "iopub.execute_input": "2022-10-03T19:13:34.717525Z",
     "iopub.status.busy": "2022-10-03T19:13:34.715513Z",
     "iopub.status.idle": "2022-10-03T19:13:34.720061Z",
     "shell.execute_reply": "2022-10-03T19:13:34.720571Z",
     "shell.execute_reply.started": "2022-10-03T19:12:50.499746Z"
    },
    "papermill": {
     "duration": 0.064448,
     "end_time": "2022-10-03T19:13:34.720768",
     "exception": false,
     "start_time": "2022-10-03T19:13:34.656320",
     "status": "completed"
    },
    "tags": []
   },
   "outputs": [],
   "source": [
    "# Scaling train and test data\n",
    "from sklearn.preprocessing import StandardScaler\n",
    "ss=StandardScaler()"
   ]
  },
  {
   "cell_type": "code",
   "execution_count": 45,
   "id": "804fb32a",
   "metadata": {
    "execution": {
     "iopub.execute_input": "2022-10-03T19:13:34.841184Z",
     "iopub.status.busy": "2022-10-03T19:13:34.840038Z",
     "iopub.status.idle": "2022-10-03T19:13:34.847231Z",
     "shell.execute_reply": "2022-10-03T19:13:34.846447Z",
     "shell.execute_reply.started": "2022-10-03T19:12:50.506596Z"
    },
    "papermill": {
     "duration": 0.070715,
     "end_time": "2022-10-03T19:13:34.847389",
     "exception": false,
     "start_time": "2022-10-03T19:13:34.776674",
     "status": "completed"
    },
    "tags": []
   },
   "outputs": [],
   "source": [
    "x=ss.fit_transform(x)"
   ]
  },
  {
   "cell_type": "code",
   "execution_count": 46,
   "id": "0470c681",
   "metadata": {
    "execution": {
     "iopub.execute_input": "2022-10-03T19:13:34.972389Z",
     "iopub.status.busy": "2022-10-03T19:13:34.971692Z",
     "iopub.status.idle": "2022-10-03T19:13:34.976553Z",
     "shell.execute_reply": "2022-10-03T19:13:34.977189Z",
     "shell.execute_reply.started": "2022-10-03T19:12:50.520057Z"
    },
    "papermill": {
     "duration": 0.072607,
     "end_time": "2022-10-03T19:13:34.977437",
     "exception": false,
     "start_time": "2022-10-03T19:13:34.904830",
     "status": "completed"
    },
    "tags": []
   },
   "outputs": [],
   "source": [
    "test=ss.fit_transform(test)"
   ]
  },
  {
   "cell_type": "markdown",
   "id": "d4f54153",
   "metadata": {
    "papermill": {
     "duration": 0.055648,
     "end_time": "2022-10-03T19:13:35.089327",
     "exception": false,
     "start_time": "2022-10-03T19:13:35.033679",
     "status": "completed"
    },
    "tags": []
   },
   "source": [
    "### Model Development"
   ]
  },
  {
   "cell_type": "markdown",
   "id": "48531428",
   "metadata": {
    "papermill": {
     "duration": 0.055614,
     "end_time": "2022-10-03T19:13:35.203288",
     "exception": false,
     "start_time": "2022-10-03T19:13:35.147674",
     "status": "completed"
    },
    "tags": []
   },
   "source": [
    "#### Logistic regression"
   ]
  },
  {
   "cell_type": "code",
   "execution_count": 103,
   "id": "cfe11ff0",
   "metadata": {
    "execution": {
     "iopub.execute_input": "2022-10-03T19:13:35.320889Z",
     "iopub.status.busy": "2022-10-03T19:13:35.319848Z",
     "iopub.status.idle": "2022-10-03T19:13:35.323180Z",
     "shell.execute_reply": "2022-10-03T19:13:35.322359Z",
     "shell.execute_reply.started": "2022-10-03T19:12:50.532303Z"
    },
    "papermill": {
     "duration": 0.064155,
     "end_time": "2022-10-03T19:13:35.323343",
     "exception": false,
     "start_time": "2022-10-03T19:13:35.259188",
     "status": "completed"
    },
    "tags": []
   },
   "outputs": [],
   "source": [
    "lr=LogisticRegression(C=1,penalty='l2')"
   ]
  },
  {
   "cell_type": "code",
   "execution_count": 104,
   "id": "45be8e16",
   "metadata": {
    "execution": {
     "iopub.execute_input": "2022-10-03T19:13:35.444290Z",
     "iopub.status.busy": "2022-10-03T19:13:35.443178Z",
     "iopub.status.idle": "2022-10-03T19:13:35.464735Z",
     "shell.execute_reply": "2022-10-03T19:13:35.464143Z",
     "shell.execute_reply.started": "2022-10-03T19:12:50.541013Z"
    },
    "papermill": {
     "duration": 0.083939,
     "end_time": "2022-10-03T19:13:35.464906",
     "exception": false,
     "start_time": "2022-10-03T19:13:35.380967",
     "status": "completed"
    },
    "tags": []
   },
   "outputs": [
    {
     "data": {
      "text/html": [
       "<style>#sk-container-id-9 {color: black;background-color: white;}#sk-container-id-9 pre{padding: 0;}#sk-container-id-9 div.sk-toggleable {background-color: white;}#sk-container-id-9 label.sk-toggleable__label {cursor: pointer;display: block;width: 100%;margin-bottom: 0;padding: 0.3em;box-sizing: border-box;text-align: center;}#sk-container-id-9 label.sk-toggleable__label-arrow:before {content: \"▸\";float: left;margin-right: 0.25em;color: #696969;}#sk-container-id-9 label.sk-toggleable__label-arrow:hover:before {color: black;}#sk-container-id-9 div.sk-estimator:hover label.sk-toggleable__label-arrow:before {color: black;}#sk-container-id-9 div.sk-toggleable__content {max-height: 0;max-width: 0;overflow: hidden;text-align: left;background-color: #f0f8ff;}#sk-container-id-9 div.sk-toggleable__content pre {margin: 0.2em;color: black;border-radius: 0.25em;background-color: #f0f8ff;}#sk-container-id-9 input.sk-toggleable__control:checked~div.sk-toggleable__content {max-height: 200px;max-width: 100%;overflow: auto;}#sk-container-id-9 input.sk-toggleable__control:checked~label.sk-toggleable__label-arrow:before {content: \"▾\";}#sk-container-id-9 div.sk-estimator input.sk-toggleable__control:checked~label.sk-toggleable__label {background-color: #d4ebff;}#sk-container-id-9 div.sk-label input.sk-toggleable__control:checked~label.sk-toggleable__label {background-color: #d4ebff;}#sk-container-id-9 input.sk-hidden--visually {border: 0;clip: rect(1px 1px 1px 1px);clip: rect(1px, 1px, 1px, 1px);height: 1px;margin: -1px;overflow: hidden;padding: 0;position: absolute;width: 1px;}#sk-container-id-9 div.sk-estimator {font-family: monospace;background-color: #f0f8ff;border: 1px dotted black;border-radius: 0.25em;box-sizing: border-box;margin-bottom: 0.5em;}#sk-container-id-9 div.sk-estimator:hover {background-color: #d4ebff;}#sk-container-id-9 div.sk-parallel-item::after {content: \"\";width: 100%;border-bottom: 1px solid gray;flex-grow: 1;}#sk-container-id-9 div.sk-label:hover label.sk-toggleable__label {background-color: #d4ebff;}#sk-container-id-9 div.sk-serial::before {content: \"\";position: absolute;border-left: 1px solid gray;box-sizing: border-box;top: 0;bottom: 0;left: 50%;z-index: 0;}#sk-container-id-9 div.sk-serial {display: flex;flex-direction: column;align-items: center;background-color: white;padding-right: 0.2em;padding-left: 0.2em;position: relative;}#sk-container-id-9 div.sk-item {position: relative;z-index: 1;}#sk-container-id-9 div.sk-parallel {display: flex;align-items: stretch;justify-content: center;background-color: white;position: relative;}#sk-container-id-9 div.sk-item::before, #sk-container-id-9 div.sk-parallel-item::before {content: \"\";position: absolute;border-left: 1px solid gray;box-sizing: border-box;top: 0;bottom: 0;left: 50%;z-index: -1;}#sk-container-id-9 div.sk-parallel-item {display: flex;flex-direction: column;z-index: 1;position: relative;background-color: white;}#sk-container-id-9 div.sk-parallel-item:first-child::after {align-self: flex-end;width: 50%;}#sk-container-id-9 div.sk-parallel-item:last-child::after {align-self: flex-start;width: 50%;}#sk-container-id-9 div.sk-parallel-item:only-child::after {width: 0;}#sk-container-id-9 div.sk-dashed-wrapped {border: 1px dashed gray;margin: 0 0.4em 0.5em 0.4em;box-sizing: border-box;padding-bottom: 0.4em;background-color: white;}#sk-container-id-9 div.sk-label label {font-family: monospace;font-weight: bold;display: inline-block;line-height: 1.2em;}#sk-container-id-9 div.sk-label-container {text-align: center;}#sk-container-id-9 div.sk-container {/* jupyter's `normalize.less` sets `[hidden] { display: none; }` but bootstrap.min.css set `[hidden] { display: none !important; }` so we also need the `!important` here to be able to override the default hidden behavior on the sphinx rendered scikit-learn.org. See: https://github.com/scikit-learn/scikit-learn/issues/21755 */display: inline-block !important;position: relative;}#sk-container-id-9 div.sk-text-repr-fallback {display: none;}</style><div id=\"sk-container-id-9\" class=\"sk-top-container\"><div class=\"sk-text-repr-fallback\"><pre>LogisticRegression(C=1)</pre><b>In a Jupyter environment, please rerun this cell to show the HTML representation or trust the notebook. <br />On GitHub, the HTML representation is unable to render, please try loading this page with nbviewer.org.</b></div><div class=\"sk-container\" hidden><div class=\"sk-item\"><div class=\"sk-estimator sk-toggleable\"><input class=\"sk-toggleable__control sk-hidden--visually\" id=\"sk-estimator-id-9\" type=\"checkbox\" checked><label for=\"sk-estimator-id-9\" class=\"sk-toggleable__label sk-toggleable__label-arrow\">LogisticRegression</label><div class=\"sk-toggleable__content\"><pre>LogisticRegression(C=1)</pre></div></div></div></div></div>"
      ],
      "text/plain": [
       "LogisticRegression(C=1)"
      ]
     },
     "execution_count": 104,
     "metadata": {},
     "output_type": "execute_result"
    }
   ],
   "source": [
    "lr.fit(x,y)"
   ]
  },
  {
   "cell_type": "code",
   "execution_count": 105,
   "id": "af428eeb",
   "metadata": {
    "execution": {
     "iopub.execute_input": "2022-10-03T19:13:35.583255Z",
     "iopub.status.busy": "2022-10-03T19:13:35.582164Z",
     "iopub.status.idle": "2022-10-03T19:13:35.586861Z",
     "shell.execute_reply": "2022-10-03T19:13:35.587452Z",
     "shell.execute_reply.started": "2022-10-03T19:12:50.555292Z"
    },
    "papermill": {
     "duration": 0.065434,
     "end_time": "2022-10-03T19:13:35.587666",
     "exception": false,
     "start_time": "2022-10-03T19:13:35.522232",
     "status": "completed"
    },
    "tags": []
   },
   "outputs": [],
   "source": [
    "ypred_lr=lr.predict(test)"
   ]
  },
  {
   "cell_type": "code",
   "execution_count": 106,
   "id": "5c29cf76",
   "metadata": {
    "execution": {
     "iopub.execute_input": "2022-10-03T19:13:35.707951Z",
     "iopub.status.busy": "2022-10-03T19:13:35.705282Z",
     "iopub.status.idle": "2022-10-03T19:13:35.710809Z",
     "shell.execute_reply": "2022-10-03T19:13:35.710202Z",
     "shell.execute_reply.started": "2022-10-03T19:12:50.559761Z"
    },
    "papermill": {
     "duration": 0.067086,
     "end_time": "2022-10-03T19:13:35.710973",
     "exception": false,
     "start_time": "2022-10-03T19:13:35.643887",
     "status": "completed"
    },
    "tags": []
   },
   "outputs": [],
   "source": [
    "ytrue=submit['Survived']"
   ]
  },
  {
   "cell_type": "code",
   "execution_count": 107,
   "id": "d722c7b4",
   "metadata": {
    "execution": {
     "iopub.execute_input": "2022-10-03T19:13:35.832649Z",
     "iopub.status.busy": "2022-10-03T19:13:35.831819Z",
     "iopub.status.idle": "2022-10-03T19:13:35.835045Z",
     "shell.execute_reply": "2022-10-03T19:13:35.835571Z",
     "shell.execute_reply.started": "2022-10-03T19:12:50.569352Z"
    },
    "papermill": {
     "duration": 0.068571,
     "end_time": "2022-10-03T19:13:35.835758",
     "exception": false,
     "start_time": "2022-10-03T19:13:35.767187",
     "status": "completed"
    },
    "tags": []
   },
   "outputs": [
    {
     "data": {
      "text/plain": [
       "0.937799043062201"
      ]
     },
     "execution_count": 107,
     "metadata": {},
     "output_type": "execute_result"
    }
   ],
   "source": [
    "accuracy_score(ytrue,ypred_lr)"
   ]
  },
  {
   "cell_type": "markdown",
   "id": "68dce080",
   "metadata": {
    "papermill": {
     "duration": 0.055794,
     "end_time": "2022-10-03T19:13:35.948844",
     "exception": false,
     "start_time": "2022-10-03T19:13:35.893050",
     "status": "completed"
    },
    "tags": []
   },
   "source": [
    "#### SVM"
   ]
  },
  {
   "cell_type": "code",
   "execution_count": 92,
   "id": "822c259f",
   "metadata": {
    "execution": {
     "iopub.execute_input": "2022-10-03T19:13:36.067948Z",
     "iopub.status.busy": "2022-10-03T19:13:36.066966Z",
     "iopub.status.idle": "2022-10-03T19:13:36.069737Z",
     "shell.execute_reply": "2022-10-03T19:13:36.070273Z",
     "shell.execute_reply.started": "2022-10-03T19:12:50.580467Z"
    },
    "papermill": {
     "duration": 0.06565,
     "end_time": "2022-10-03T19:13:36.070498",
     "exception": false,
     "start_time": "2022-10-03T19:13:36.004848",
     "status": "completed"
    },
    "tags": []
   },
   "outputs": [],
   "source": [
    "svm=SVC( C=1.0,kernel='poly',degree=2)"
   ]
  },
  {
   "cell_type": "code",
   "execution_count": 93,
   "id": "94418e0d",
   "metadata": {
    "execution": {
     "iopub.execute_input": "2022-10-03T19:13:36.193948Z",
     "iopub.status.busy": "2022-10-03T19:13:36.191619Z",
     "iopub.status.idle": "2022-10-03T19:13:36.211297Z",
     "shell.execute_reply": "2022-10-03T19:13:36.211796Z",
     "shell.execute_reply.started": "2022-10-03T19:12:50.586653Z"
    },
    "papermill": {
     "duration": 0.083343,
     "end_time": "2022-10-03T19:13:36.211990",
     "exception": false,
     "start_time": "2022-10-03T19:13:36.128647",
     "status": "completed"
    },
    "tags": []
   },
   "outputs": [
    {
     "data": {
      "text/html": [
       "<style>#sk-container-id-8 {color: black;background-color: white;}#sk-container-id-8 pre{padding: 0;}#sk-container-id-8 div.sk-toggleable {background-color: white;}#sk-container-id-8 label.sk-toggleable__label {cursor: pointer;display: block;width: 100%;margin-bottom: 0;padding: 0.3em;box-sizing: border-box;text-align: center;}#sk-container-id-8 label.sk-toggleable__label-arrow:before {content: \"▸\";float: left;margin-right: 0.25em;color: #696969;}#sk-container-id-8 label.sk-toggleable__label-arrow:hover:before {color: black;}#sk-container-id-8 div.sk-estimator:hover label.sk-toggleable__label-arrow:before {color: black;}#sk-container-id-8 div.sk-toggleable__content {max-height: 0;max-width: 0;overflow: hidden;text-align: left;background-color: #f0f8ff;}#sk-container-id-8 div.sk-toggleable__content pre {margin: 0.2em;color: black;border-radius: 0.25em;background-color: #f0f8ff;}#sk-container-id-8 input.sk-toggleable__control:checked~div.sk-toggleable__content {max-height: 200px;max-width: 100%;overflow: auto;}#sk-container-id-8 input.sk-toggleable__control:checked~label.sk-toggleable__label-arrow:before {content: \"▾\";}#sk-container-id-8 div.sk-estimator input.sk-toggleable__control:checked~label.sk-toggleable__label {background-color: #d4ebff;}#sk-container-id-8 div.sk-label input.sk-toggleable__control:checked~label.sk-toggleable__label {background-color: #d4ebff;}#sk-container-id-8 input.sk-hidden--visually {border: 0;clip: rect(1px 1px 1px 1px);clip: rect(1px, 1px, 1px, 1px);height: 1px;margin: -1px;overflow: hidden;padding: 0;position: absolute;width: 1px;}#sk-container-id-8 div.sk-estimator {font-family: monospace;background-color: #f0f8ff;border: 1px dotted black;border-radius: 0.25em;box-sizing: border-box;margin-bottom: 0.5em;}#sk-container-id-8 div.sk-estimator:hover {background-color: #d4ebff;}#sk-container-id-8 div.sk-parallel-item::after {content: \"\";width: 100%;border-bottom: 1px solid gray;flex-grow: 1;}#sk-container-id-8 div.sk-label:hover label.sk-toggleable__label {background-color: #d4ebff;}#sk-container-id-8 div.sk-serial::before {content: \"\";position: absolute;border-left: 1px solid gray;box-sizing: border-box;top: 0;bottom: 0;left: 50%;z-index: 0;}#sk-container-id-8 div.sk-serial {display: flex;flex-direction: column;align-items: center;background-color: white;padding-right: 0.2em;padding-left: 0.2em;position: relative;}#sk-container-id-8 div.sk-item {position: relative;z-index: 1;}#sk-container-id-8 div.sk-parallel {display: flex;align-items: stretch;justify-content: center;background-color: white;position: relative;}#sk-container-id-8 div.sk-item::before, #sk-container-id-8 div.sk-parallel-item::before {content: \"\";position: absolute;border-left: 1px solid gray;box-sizing: border-box;top: 0;bottom: 0;left: 50%;z-index: -1;}#sk-container-id-8 div.sk-parallel-item {display: flex;flex-direction: column;z-index: 1;position: relative;background-color: white;}#sk-container-id-8 div.sk-parallel-item:first-child::after {align-self: flex-end;width: 50%;}#sk-container-id-8 div.sk-parallel-item:last-child::after {align-self: flex-start;width: 50%;}#sk-container-id-8 div.sk-parallel-item:only-child::after {width: 0;}#sk-container-id-8 div.sk-dashed-wrapped {border: 1px dashed gray;margin: 0 0.4em 0.5em 0.4em;box-sizing: border-box;padding-bottom: 0.4em;background-color: white;}#sk-container-id-8 div.sk-label label {font-family: monospace;font-weight: bold;display: inline-block;line-height: 1.2em;}#sk-container-id-8 div.sk-label-container {text-align: center;}#sk-container-id-8 div.sk-container {/* jupyter's `normalize.less` sets `[hidden] { display: none; }` but bootstrap.min.css set `[hidden] { display: none !important; }` so we also need the `!important` here to be able to override the default hidden behavior on the sphinx rendered scikit-learn.org. See: https://github.com/scikit-learn/scikit-learn/issues/21755 */display: inline-block !important;position: relative;}#sk-container-id-8 div.sk-text-repr-fallback {display: none;}</style><div id=\"sk-container-id-8\" class=\"sk-top-container\"><div class=\"sk-text-repr-fallback\"><pre>SVC(degree=2, kernel=&#x27;poly&#x27;)</pre><b>In a Jupyter environment, please rerun this cell to show the HTML representation or trust the notebook. <br />On GitHub, the HTML representation is unable to render, please try loading this page with nbviewer.org.</b></div><div class=\"sk-container\" hidden><div class=\"sk-item\"><div class=\"sk-estimator sk-toggleable\"><input class=\"sk-toggleable__control sk-hidden--visually\" id=\"sk-estimator-id-8\" type=\"checkbox\" checked><label for=\"sk-estimator-id-8\" class=\"sk-toggleable__label sk-toggleable__label-arrow\">SVC</label><div class=\"sk-toggleable__content\"><pre>SVC(degree=2, kernel=&#x27;poly&#x27;)</pre></div></div></div></div></div>"
      ],
      "text/plain": [
       "SVC(degree=2, kernel='poly')"
      ]
     },
     "execution_count": 93,
     "metadata": {},
     "output_type": "execute_result"
    }
   ],
   "source": [
    "svm.fit(x,y)"
   ]
  },
  {
   "cell_type": "code",
   "execution_count": 94,
   "id": "6d582154",
   "metadata": {
    "execution": {
     "iopub.execute_input": "2022-10-03T19:13:36.333789Z",
     "iopub.status.busy": "2022-10-03T19:13:36.333006Z",
     "iopub.status.idle": "2022-10-03T19:13:36.339729Z",
     "shell.execute_reply": "2022-10-03T19:13:36.340202Z",
     "shell.execute_reply.started": "2022-10-03T19:12:50.603610Z"
    },
    "papermill": {
     "duration": 0.069562,
     "end_time": "2022-10-03T19:13:36.340425",
     "exception": false,
     "start_time": "2022-10-03T19:13:36.270863",
     "status": "completed"
    },
    "tags": []
   },
   "outputs": [
    {
     "data": {
      "text/plain": [
       "0.9234449760765551"
      ]
     },
     "execution_count": 94,
     "metadata": {},
     "output_type": "execute_result"
    }
   ],
   "source": [
    "ypred_svm=svm.predict(test)\n",
    "accuracy_score(ytrue,ypred_svm)"
   ]
  },
  {
   "cell_type": "markdown",
   "id": "5a531071",
   "metadata": {
    "papermill": {
     "duration": 0.056212,
     "end_time": "2022-10-03T19:13:36.458290",
     "exception": false,
     "start_time": "2022-10-03T19:13:36.402078",
     "status": "completed"
    },
    "tags": []
   },
   "source": [
    "#### Decision Tree"
   ]
  },
  {
   "cell_type": "code",
   "execution_count": 74,
   "id": "d533e0de",
   "metadata": {
    "execution": {
     "iopub.execute_input": "2022-10-03T19:13:36.582892Z",
     "iopub.status.busy": "2022-10-03T19:13:36.582126Z",
     "iopub.status.idle": "2022-10-03T19:13:36.584863Z",
     "shell.execute_reply": "2022-10-03T19:13:36.585325Z",
     "shell.execute_reply.started": "2022-10-03T19:12:50.611741Z"
    },
    "papermill": {
     "duration": 0.06832,
     "end_time": "2022-10-03T19:13:36.585572",
     "exception": false,
     "start_time": "2022-10-03T19:13:36.517252",
     "status": "completed"
    },
    "tags": []
   },
   "outputs": [],
   "source": [
    "dt=DecisionTreeClassifier(criterion='entropy',ccp_alpha=0.0)"
   ]
  },
  {
   "cell_type": "code",
   "execution_count": 75,
   "id": "a926eb08",
   "metadata": {
    "execution": {
     "iopub.execute_input": "2022-10-03T19:13:36.707080Z",
     "iopub.status.busy": "2022-10-03T19:13:36.706116Z",
     "iopub.status.idle": "2022-10-03T19:13:36.715914Z",
     "shell.execute_reply": "2022-10-03T19:13:36.716507Z",
     "shell.execute_reply.started": "2022-10-03T19:12:50.618024Z"
    },
    "papermill": {
     "duration": 0.072713,
     "end_time": "2022-10-03T19:13:36.716696",
     "exception": false,
     "start_time": "2022-10-03T19:13:36.643983",
     "status": "completed"
    },
    "tags": []
   },
   "outputs": [
    {
     "data": {
      "text/plain": [
       "0.7559808612440191"
      ]
     },
     "execution_count": 75,
     "metadata": {},
     "output_type": "execute_result"
    }
   ],
   "source": [
    "dt.fit(x,y)\n",
    "ypred_dt=dt.predict(test)\n",
    "accuracy_score(ytrue,ypred_dt)"
   ]
  },
  {
   "cell_type": "markdown",
   "id": "0180d889",
   "metadata": {
    "papermill": {
     "duration": 0.057252,
     "end_time": "2022-10-03T19:13:36.830606",
     "exception": false,
     "start_time": "2022-10-03T19:13:36.773354",
     "status": "completed"
    },
    "tags": []
   },
   "source": [
    "#### Random Forest"
   ]
  },
  {
   "cell_type": "code",
   "execution_count": 76,
   "id": "31d28244",
   "metadata": {
    "execution": {
     "iopub.execute_input": "2022-10-03T19:13:36.951661Z",
     "iopub.status.busy": "2022-10-03T19:13:36.950705Z",
     "iopub.status.idle": "2022-10-03T19:13:36.953411Z",
     "shell.execute_reply": "2022-10-03T19:13:36.952892Z",
     "shell.execute_reply.started": "2022-10-03T19:12:50.631989Z"
    },
    "papermill": {
     "duration": 0.065723,
     "end_time": "2022-10-03T19:13:36.953582",
     "exception": false,
     "start_time": "2022-10-03T19:13:36.887859",
     "status": "completed"
    },
    "tags": []
   },
   "outputs": [],
   "source": [
    "rf=RandomForestClassifier(n_estimators=400,criterion='gini',max_depth=None)"
   ]
  },
  {
   "cell_type": "code",
   "execution_count": 77,
   "id": "a01b14c6",
   "metadata": {
    "execution": {
     "iopub.execute_input": "2022-10-03T19:13:37.072012Z",
     "iopub.status.busy": "2022-10-03T19:13:37.071214Z",
     "iopub.status.idle": "2022-10-03T19:13:37.957436Z",
     "shell.execute_reply": "2022-10-03T19:13:37.956733Z",
     "shell.execute_reply.started": "2022-10-03T19:12:50.637041Z"
    },
    "papermill": {
     "duration": 0.946645,
     "end_time": "2022-10-03T19:13:37.957627",
     "exception": false,
     "start_time": "2022-10-03T19:13:37.010982",
     "status": "completed"
    },
    "tags": []
   },
   "outputs": [
    {
     "data": {
      "text/plain": [
       "0.7559808612440191"
      ]
     },
     "execution_count": 77,
     "metadata": {},
     "output_type": "execute_result"
    }
   ],
   "source": [
    "rf.fit(x,y)\n",
    "ypred_rf=dt.predict(test)\n",
    "accuracy_score(ytrue,ypred_rf)"
   ]
  },
  {
   "cell_type": "markdown",
   "id": "fc7f2c0f",
   "metadata": {
    "papermill": {
     "duration": 0.058247,
     "end_time": "2022-10-03T19:13:38.074674",
     "exception": false,
     "start_time": "2022-10-03T19:13:38.016427",
     "status": "completed"
    },
    "tags": []
   },
   "source": [
    "#### AdaBoostClassifier"
   ]
  },
  {
   "cell_type": "code",
   "execution_count": 98,
   "id": "408a48c3",
   "metadata": {
    "execution": {
     "iopub.execute_input": "2022-10-03T19:13:38.195918Z",
     "iopub.status.busy": "2022-10-03T19:13:38.195106Z",
     "iopub.status.idle": "2022-10-03T19:13:38.198553Z",
     "shell.execute_reply": "2022-10-03T19:13:38.198019Z",
     "shell.execute_reply.started": "2022-10-03T19:12:51.295019Z"
    },
    "papermill": {
     "duration": 0.06677,
     "end_time": "2022-10-03T19:13:38.198708",
     "exception": false,
     "start_time": "2022-10-03T19:13:38.131938",
     "status": "completed"
    },
    "tags": []
   },
   "outputs": [],
   "source": [
    "adb=AdaBoostClassifier()"
   ]
  },
  {
   "cell_type": "code",
   "execution_count": 99,
   "id": "bc89f1f4",
   "metadata": {
    "execution": {
     "iopub.execute_input": "2022-10-03T19:13:38.324729Z",
     "iopub.status.busy": "2022-10-03T19:13:38.320294Z",
     "iopub.status.idle": "2022-10-03T19:13:38.918748Z",
     "shell.execute_reply": "2022-10-03T19:13:38.919786Z",
     "shell.execute_reply.started": "2022-10-03T19:12:51.300177Z"
    },
    "papermill": {
     "duration": 0.662407,
     "end_time": "2022-10-03T19:13:38.919985",
     "exception": false,
     "start_time": "2022-10-03T19:13:38.257578",
     "status": "completed"
    },
    "tags": []
   },
   "outputs": [
    {
     "data": {
      "text/plain": [
       "0.7559808612440191"
      ]
     },
     "execution_count": 99,
     "metadata": {},
     "output_type": "execute_result"
    }
   ],
   "source": [
    "adb.fit(x,y)\n",
    "ypred_adb=dt.predict(test)\n",
    "accuracy_score(ytrue,ypred_adb)"
   ]
  },
  {
   "cell_type": "markdown",
   "id": "76f6a43c",
   "metadata": {
    "papermill": {
     "duration": 0.057456,
     "end_time": "2022-10-03T19:13:39.034684",
     "exception": false,
     "start_time": "2022-10-03T19:13:38.977228",
     "status": "completed"
    },
    "tags": []
   },
   "source": [
    "> From above 4 models, SVM has produced the maximum accuracy."
   ]
  },
  {
   "cell_type": "code",
   "execution_count": 100,
   "id": "63d572bb",
   "metadata": {
    "execution": {
     "iopub.execute_input": "2022-10-03T19:13:39.157839Z",
     "iopub.status.busy": "2022-10-03T19:13:39.156766Z",
     "iopub.status.idle": "2022-10-03T19:13:39.161029Z",
     "shell.execute_reply": "2022-10-03T19:13:39.161651Z",
     "shell.execute_reply.started": "2022-10-03T19:12:51.773745Z"
    },
    "papermill": {
     "duration": 0.069134,
     "end_time": "2022-10-03T19:13:39.161846",
     "exception": false,
     "start_time": "2022-10-03T19:13:39.092712",
     "status": "completed"
    },
    "tags": []
   },
   "outputs": [],
   "source": [
    "mysub=pd.DataFrame()\n",
    "mysub['PassengerID']=ID\n",
    "mysub['Survived']=ypred_lr"
   ]
  },
  {
   "cell_type": "code",
   "execution_count": 101,
   "id": "74a0d53c",
   "metadata": {
    "execution": {
     "iopub.execute_input": "2022-10-03T19:13:39.282786Z",
     "iopub.status.busy": "2022-10-03T19:13:39.281667Z",
     "iopub.status.idle": "2022-10-03T19:13:39.291100Z",
     "shell.execute_reply": "2022-10-03T19:13:39.291685Z",
     "shell.execute_reply.started": "2022-10-03T19:12:51.782031Z"
    },
    "papermill": {
     "duration": 0.071856,
     "end_time": "2022-10-03T19:13:39.291874",
     "exception": false,
     "start_time": "2022-10-03T19:13:39.220018",
     "status": "completed"
    },
    "tags": []
   },
   "outputs": [
    {
     "data": {
      "text/html": [
       "<div>\n",
       "<style scoped>\n",
       "    .dataframe tbody tr th:only-of-type {\n",
       "        vertical-align: middle;\n",
       "    }\n",
       "\n",
       "    .dataframe tbody tr th {\n",
       "        vertical-align: top;\n",
       "    }\n",
       "\n",
       "    .dataframe thead th {\n",
       "        text-align: right;\n",
       "    }\n",
       "</style>\n",
       "<table border=\"1\" class=\"dataframe\">\n",
       "  <thead>\n",
       "    <tr style=\"text-align: right;\">\n",
       "      <th></th>\n",
       "      <th>PassengerID</th>\n",
       "      <th>Survived</th>\n",
       "    </tr>\n",
       "  </thead>\n",
       "  <tbody>\n",
       "    <tr>\n",
       "      <th>0</th>\n",
       "      <td>892</td>\n",
       "      <td>0</td>\n",
       "    </tr>\n",
       "    <tr>\n",
       "      <th>1</th>\n",
       "      <td>893</td>\n",
       "      <td>0</td>\n",
       "    </tr>\n",
       "    <tr>\n",
       "      <th>2</th>\n",
       "      <td>894</td>\n",
       "      <td>0</td>\n",
       "    </tr>\n",
       "    <tr>\n",
       "      <th>3</th>\n",
       "      <td>895</td>\n",
       "      <td>0</td>\n",
       "    </tr>\n",
       "    <tr>\n",
       "      <th>4</th>\n",
       "      <td>896</td>\n",
       "      <td>1</td>\n",
       "    </tr>\n",
       "  </tbody>\n",
       "</table>\n",
       "</div>"
      ],
      "text/plain": [
       "   PassengerID  Survived\n",
       "0          892         0\n",
       "1          893         0\n",
       "2          894         0\n",
       "3          895         0\n",
       "4          896         1"
      ]
     },
     "execution_count": 101,
     "metadata": {},
     "output_type": "execute_result"
    }
   ],
   "source": [
    "mysub.head()"
   ]
  },
  {
   "cell_type": "code",
   "execution_count": 102,
   "id": "8014ce2f",
   "metadata": {
    "execution": {
     "iopub.execute_input": "2022-10-03T19:13:39.416230Z",
     "iopub.status.busy": "2022-10-03T19:13:39.415179Z",
     "iopub.status.idle": "2022-10-03T19:13:39.421443Z",
     "shell.execute_reply": "2022-10-03T19:13:39.422085Z",
     "shell.execute_reply.started": "2022-10-03T19:12:51.794158Z"
    },
    "papermill": {
     "duration": 0.071003,
     "end_time": "2022-10-03T19:13:39.422283",
     "exception": false,
     "start_time": "2022-10-03T19:13:39.351280",
     "status": "completed"
    },
    "tags": []
   },
   "outputs": [],
   "source": [
    "mysub.to_csv('submission03.csv',index=False)"
   ]
  },
  {
   "cell_type": "code",
   "execution_count": null,
   "id": "13aadf08",
   "metadata": {},
   "outputs": [],
   "source": []
  }
 ],
 "metadata": {
  "kernelspec": {
   "display_name": "Python 3 (ipykernel)",
   "language": "python",
   "name": "python3"
  },
  "language_info": {
   "codemirror_mode": {
    "name": "ipython",
    "version": 3
   },
   "file_extension": ".py",
   "mimetype": "text/x-python",
   "name": "python",
   "nbconvert_exporter": "python",
   "pygments_lexer": "ipython3",
   "version": "3.9.16"
  },
  "papermill": {
   "default_parameters": {},
   "duration": 22.99525,
   "end_time": "2022-10-03T19:13:40.832531",
   "environment_variables": {},
   "exception": null,
   "input_path": "__notebook__.ipynb",
   "output_path": "__notebook__.ipynb",
   "parameters": {},
   "start_time": "2022-10-03T19:13:17.837281",
   "version": "2.3.3"
  }
 },
 "nbformat": 4,
 "nbformat_minor": 5
}

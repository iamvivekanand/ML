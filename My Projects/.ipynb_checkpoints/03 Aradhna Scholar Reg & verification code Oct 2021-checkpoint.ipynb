{
 "cells": [
  {
   "cell_type": "markdown",
   "metadata": {},
   "source": [
    "### Aradhna Scholar Reg & verification code Oct 2021"
   ]
  },
  {
   "cell_type": "raw",
   "metadata": {},
   "source": [
    "470882202000070\n",
    "f3HPa8\n",
    "for Class 12th"
   ]
  }
 ],
 "metadata": {
  "kernelspec": {
   "display_name": "Python 3",
   "language": "python",
   "name": "python3"
  },
  "language_info": {
   "codemirror_mode": {
    "name": "ipython",
    "version": 3
   },
   "file_extension": ".py",
   "mimetype": "text/x-python",
   "name": "python",
   "nbconvert_exporter": "python",
   "pygments_lexer": "ipython3",
   "version": "3.8.5"
  }
 },
 "nbformat": 4,
 "nbformat_minor": 4
}

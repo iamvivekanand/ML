{
 "cells": [
  {
   "cell_type": "markdown",
   "id": "158bace7",
   "metadata": {},
   "source": [
    "### Interactive Language Translator"
   ]
  },
  {
   "cell_type": "raw",
   "id": "aae193bc",
   "metadata": {},
   "source": [
    "Google Translator API helps us to create our translator using Python. In this article, I will walk you through how to create an interactive language translator using Python."
   ]
  },
  {
   "cell_type": "raw",
   "id": "9323a3fb",
   "metadata": {},
   "source": [
    "The googletrans API created by Google developers was used earlier to translate any text using Python. But now the new API from the Google developers known as google_trans_new is used for the same task."
   ]
  },
  {
   "cell_type": "raw",
   "id": "987d7cf8",
   "metadata": {},
   "source": [
    "first u need to install the library as below\n",
    "\n",
    "!pip install google_trans_new"
   ]
  },
  {
   "cell_type": "raw",
   "id": "57da88d9",
   "metadata": {},
   "source": [
    "from google_trans_new import google_translator\n",
    "import streamlit as st\n",
    "translator = google_translator()\n",
    "st.title(\"Language Translator\")\n",
    "text = st.text_input(\"Enter a text\")\n",
    "translate = translator.translate(text, lang_tgt='fr')\n",
    "st.write(translate)"
   ]
  },
  {
   "cell_type": "raw",
   "id": "e1f9ef65",
   "metadata": {},
   "source": [
    "we need to run this code using the streamlit run file name.py command in your terminal. After running the file a link will open in your default browser with an interactive user interface. In the text field, you can enter any text in any language, once you hit enter it will translate it to French as I have mentioned ‘fr’ as our target language in the above code."
   ]
  },
  {
   "cell_type": "code",
   "execution_count": null,
   "id": "ed07ea61",
   "metadata": {},
   "outputs": [],
   "source": []
  }
 ],
 "metadata": {
  "kernelspec": {
   "display_name": "Python 3 (ipykernel)",
   "language": "python",
   "name": "python3"
  },
  "language_info": {
   "codemirror_mode": {
    "name": "ipython",
    "version": 3
   },
   "file_extension": ".py",
   "mimetype": "text/x-python",
   "name": "python",
   "nbconvert_exporter": "python",
   "pygments_lexer": "ipython3",
   "version": "3.9.7"
  }
 },
 "nbformat": 4,
 "nbformat_minor": 5
}
